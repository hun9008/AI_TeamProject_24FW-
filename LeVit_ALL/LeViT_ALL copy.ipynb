{
 "cells": [
  {
   "cell_type": "code",
   "execution_count": 1,
   "metadata": {
    "colab": {
     "base_uri": "https://localhost:8080/"
    },
    "id": "gOt_dilyzGPf",
    "outputId": "4ac2f53f-5039-44e0-ce65-166719f3e257"
   },
   "outputs": [
    {
     "name": "stdout",
     "output_type": "stream",
     "text": [
      "Requirement already satisfied: torchinfo in /Users/jeong-yonghun/.pyenv/versions/3.10.0/lib/python3.10/site-packages (1.8.0)\n"
     ]
    }
   ],
   "source": [
    "!pip install torchinfo"
   ]
  },
  {
   "cell_type": "code",
   "execution_count": 27,
   "metadata": {},
   "outputs": [
    {
     "name": "stdout",
     "output_type": "stream",
     "text": [
      "\u001b[34m==>\u001b[0m \u001b[1mAuto-updating Homebrew...\u001b[0m\n",
      "Adjust how often this is run with HOMEBREW_AUTO_UPDATE_SECS or disable with\n",
      "HOMEBREW_NO_AUTO_UPDATE. Hide these hints with HOMEBREW_NO_ENV_HINTS (see `man brew`).\n",
      "\u001b[34m==>\u001b[0m \u001b[1mAuto-updated Homebrew!\u001b[0m\n",
      "Updated 3 taps (homebrew/services, homebrew/core and homebrew/cask).\n",
      "\u001b[34m==>\u001b[0m \u001b[1mNew Formulae\u001b[0m\n",
      "cargo-run-bin       harlequin           pie                 sesh\n",
      "draft               ipatool             regal               topiary\n",
      "glibc@2.17          kraftkit            scooter\n",
      "\u001b[34m==>\u001b[0m \u001b[1mNew Casks\u001b[0m\n",
      "font-cica-without-emoji                  tabtab\n",
      "\n",
      "You have \u001b[1m56\u001b[0m outdated formulae and \u001b[1m2\u001b[0m outdated casks installed.\n",
      "\u001b[32m==>\u001b[0m \u001b[1mMigrating cask \u001b[32mgit-credential-manager-core\u001b[39m to \u001b[32mgit-credential-\u001b[0m\n",
      "\u001b[31mError:\u001b[0m inreplace failed\n",
      "/opt/homebrew/Caskroom/git-credential-manager/.metadata/2.0.931/20230326070741.149/Casks/git-credential-manager.rb:\n",
      "  expected replacement of /\\A\\s*cask\\s+\"git\\-credential\\-manager\\-core\"/ with \"cask \\\"git-credential-manager\\\"\"\n",
      "\u001b[34m==>\u001b[0m \u001b[1mDownloading https://ghcr.io/v2/homebrew/core/graphviz/manifests/12.2.0\u001b[0m\n",
      "######################################################################### 100.0%\n",
      "\u001b[32m==>\u001b[0m \u001b[1mFetching dependencies for graphviz: \u001b[32mlibavif\u001b[39m, \u001b[32mgd\u001b[39m, \u001b[32mnetpbm\u001b[39m, \u001b[32mgts\u001b[39m, \u001b[32mgdk-pixbuf\u001b[39m, \u001b[32micu4c@76\u001b[39m, \u001b[32mlibrsvg\u001b[39m and \u001b[32mlibtool\u001b[39m\u001b[0m\n",
      "\u001b[34m==>\u001b[0m \u001b[1mDownloading https://ghcr.io/v2/homebrew/core/libavif/manifests/1.1.1\u001b[0m\n",
      "######################################################################### 100.0%\n",
      "\u001b[32m==>\u001b[0m \u001b[1mFetching \u001b[32mlibavif\u001b[39m\u001b[0m\n",
      "\u001b[34m==>\u001b[0m \u001b[1mDownloading https://ghcr.io/v2/homebrew/core/libavif/blobs/sha256:d933afea7d\u001b[0m\n",
      "######################################################################### 100.0%\n",
      "\u001b[34m==>\u001b[0m \u001b[1mDownloading https://ghcr.io/v2/homebrew/core/gd/manifests/2.3.3_6\u001b[0m\n",
      "######################################################################### 100.0%\n",
      "\u001b[32m==>\u001b[0m \u001b[1mFetching \u001b[32mgd\u001b[39m\u001b[0m\n",
      "\u001b[34m==>\u001b[0m \u001b[1mDownloading https://ghcr.io/v2/homebrew/core/gd/blobs/sha256:e278f6f79e6ac00\u001b[0m\n",
      "######################################################################### 100.0%\n",
      "\u001b[34m==>\u001b[0m \u001b[1mDownloading https://ghcr.io/v2/homebrew/core/netpbm/manifests/11.02.11\u001b[0m\n",
      "######################################################################### 100.0%\n",
      "\u001b[32m==>\u001b[0m \u001b[1mFetching \u001b[32mnetpbm\u001b[39m\u001b[0m\n",
      "\u001b[34m==>\u001b[0m \u001b[1mDownloading https://ghcr.io/v2/homebrew/core/netpbm/blobs/sha256:c1a49e6ff03\u001b[0m\n",
      "######################################################################### 100.0%\n",
      "\u001b[34m==>\u001b[0m \u001b[1mDownloading https://ghcr.io/v2/homebrew/core/gts/manifests/0.7.6_3\u001b[0m\n",
      "######################################################################### 100.0%\n",
      "\u001b[32m==>\u001b[0m \u001b[1mFetching dependencies for gts: \u001b[32mpython-packaging\u001b[39m, \u001b[32mca-certificates\u001b[39m and \u001b[32msqlite\u001b[39m\u001b[0m\n",
      "\u001b[34m==>\u001b[0m \u001b[1mDownloading https://ghcr.io/v2/homebrew/core/python-packaging/manifests/24.2\u001b[0m\n",
      "######################################################################### 100.0%\n",
      "\u001b[32m==>\u001b[0m \u001b[1mFetching \u001b[32mpython-packaging\u001b[39m\u001b[0m\n",
      "\u001b[34m==>\u001b[0m \u001b[1mDownloading https://ghcr.io/v2/homebrew/core/python-packaging/blobs/sha256:8\u001b[0m\n",
      "######################################################################### 100.0%\n",
      "\u001b[34m==>\u001b[0m \u001b[1mDownloading https://ghcr.io/v2/homebrew/core/ca-certificates/manifests/2024-\u001b[0m\n",
      "######################################################################### 100.0%\n",
      "\u001b[32m==>\u001b[0m \u001b[1mFetching \u001b[32mca-certificates\u001b[39m\u001b[0m\n",
      "\u001b[34m==>\u001b[0m \u001b[1mDownloading https://ghcr.io/v2/homebrew/core/ca-certificates/blobs/sha256:7a\u001b[0m\n",
      "######################################################################### 100.0%\n",
      "\u001b[34m==>\u001b[0m \u001b[1mDownloading https://ghcr.io/v2/homebrew/core/sqlite/manifests/3.47.1\u001b[0m\n",
      "######################################################################### 100.0%\n",
      "\u001b[32m==>\u001b[0m \u001b[1mFetching \u001b[32msqlite\u001b[39m\u001b[0m\n",
      "\u001b[34m==>\u001b[0m \u001b[1mDownloading https://ghcr.io/v2/homebrew/core/sqlite/blobs/sha256:0a8421e2daf\u001b[0m\n",
      "######################################################################### 100.0%\n",
      "\u001b[32m==>\u001b[0m \u001b[1mFetching \u001b[32mgts\u001b[39m\u001b[0m\n",
      "\u001b[34m==>\u001b[0m \u001b[1mDownloading https://ghcr.io/v2/homebrew/core/gts/blobs/sha256:45ce1fc7fc4da5\u001b[0m\n",
      "######################################################################### 100.0%\n",
      "\u001b[34m==>\u001b[0m \u001b[1mDownloading https://ghcr.io/v2/homebrew/core/gdk-pixbuf/manifests/2.42.12\u001b[0m\n",
      "######################################################################### 100.0%\n",
      "\u001b[32m==>\u001b[0m \u001b[1mFetching \u001b[32mgdk-pixbuf\u001b[39m\u001b[0m\n",
      "\u001b[34m==>\u001b[0m \u001b[1mDownloading https://ghcr.io/v2/homebrew/core/gdk-pixbuf/blobs/sha256:25939bb\u001b[0m\n",
      "######################################################################### 100.0%\n",
      "\u001b[34m==>\u001b[0m \u001b[1mDownloading https://ghcr.io/v2/homebrew/core/icu4c/76/manifests/76.1_1\u001b[0m\n",
      "######################################################################### 100.0%\n",
      "\u001b[32m==>\u001b[0m \u001b[1mFetching \u001b[32micu4c@76\u001b[39m\u001b[0m\n",
      "\u001b[34m==>\u001b[0m \u001b[1mDownloading https://ghcr.io/v2/homebrew/core/icu4c/76/blobs/sha256:38c00ad78\u001b[0m\n",
      "######################################################################### 100.0%\n",
      "\u001b[34m==>\u001b[0m \u001b[1mDownloading https://ghcr.io/v2/homebrew/core/librsvg/manifests/2.58.4\u001b[0m\n",
      "######################################################################### 100.0%\n",
      "\u001b[32m==>\u001b[0m \u001b[1mFetching \u001b[32mlibrsvg\u001b[39m\u001b[0m\n",
      "\u001b[34m==>\u001b[0m \u001b[1mDownloading https://ghcr.io/v2/homebrew/core/librsvg/blobs/sha256:12c692788a\u001b[0m\n",
      "######################################################################### 100.0%\n",
      "\u001b[34m==>\u001b[0m \u001b[1mDownloading https://ghcr.io/v2/homebrew/core/libtool/manifests/2.5.4\u001b[0m\n",
      "######################################################################### 100.0%\n",
      "\u001b[32m==>\u001b[0m \u001b[1mFetching \u001b[32mlibtool\u001b[39m\u001b[0m\n",
      "\u001b[34m==>\u001b[0m \u001b[1mDownloading https://ghcr.io/v2/homebrew/core/libtool/blobs/sha256:b78cea0747\u001b[0m\n",
      "######################################################################### 100.0%\n",
      "\u001b[32m==>\u001b[0m \u001b[1mFetching \u001b[32mgraphviz\u001b[39m\u001b[0m\n",
      "\u001b[34m==>\u001b[0m \u001b[1mDownloading https://ghcr.io/v2/homebrew/core/graphviz/blobs/sha256:239f9100b\u001b[0m\n",
      "######################################################################### 100.0%\n",
      "\u001b[32m==>\u001b[0m \u001b[1mInstalling dependencies for graphviz: \u001b[32mlibavif\u001b[39m, \u001b[32mgd\u001b[39m, \u001b[32mnetpbm\u001b[39m, \u001b[32mgts\u001b[39m, \u001b[32mgdk-pixbuf\u001b[39m, \u001b[32micu4c@76\u001b[39m, \u001b[32mlibrsvg\u001b[39m and \u001b[32mlibtool\u001b[39m\u001b[0m\n",
      "\u001b[32m==>\u001b[0m \u001b[1mInstalling graphviz dependency: \u001b[32mlibavif\u001b[39m\u001b[0m\n",
      "\u001b[34m==>\u001b[0m \u001b[1mDownloading https://ghcr.io/v2/homebrew/core/libavif/manifests/1.1.1\u001b[0m\n",
      "Already downloaded: /Users/jeong-yonghun/Library/Caches/Homebrew/downloads/07c52a13253ecd881a20e0ae6254c1be40d1c3f284a155863350f1187c0d8640--libavif-1.1.1.bottle_manifest.json\n",
      "\u001b[34m==>\u001b[0m \u001b[1mPouring libavif--1.1.1.arm64_sonoma.bottle.tar.gz\u001b[0m\n",
      "🍺  /opt/homebrew/Cellar/libavif/1.1.1: 21 files, 642.6KB\n",
      "\u001b[32m==>\u001b[0m \u001b[1mInstalling graphviz dependency: \u001b[32mgd\u001b[39m\u001b[0m\n",
      "\u001b[34m==>\u001b[0m \u001b[1mDownloading https://ghcr.io/v2/homebrew/core/gd/manifests/2.3.3_6\u001b[0m\n",
      "Already downloaded: /Users/jeong-yonghun/Library/Caches/Homebrew/downloads/1f63d9efd8c74faa4477bd8b8a3970abd38e51230ed052918bb6f3715aab8b61--gd-2.3.3_6.bottle_manifest.json\n",
      "\u001b[34m==>\u001b[0m \u001b[1mPouring gd--2.3.3_6.arm64_sonoma.bottle.tar.gz\u001b[0m\n",
      "🍺  /opt/homebrew/Cellar/gd/2.3.3_6: 34 files, 1.5MB\n",
      "\u001b[32m==>\u001b[0m \u001b[1mInstalling graphviz dependency: \u001b[32mnetpbm\u001b[39m\u001b[0m\n",
      "\u001b[34m==>\u001b[0m \u001b[1mDownloading https://ghcr.io/v2/homebrew/core/netpbm/manifests/11.02.11\u001b[0m\n",
      "Already downloaded: /Users/jeong-yonghun/Library/Caches/Homebrew/downloads/caaa785b55b94243ca8a3dab38c350527248a4488f474ee5b3026325fb4eae7d--netpbm-11.02.11.bottle_manifest.json\n",
      "\u001b[34m==>\u001b[0m \u001b[1mPouring netpbm--11.02.11.arm64_sonoma.bottle.tar.gz\u001b[0m\n",
      "🍺  /opt/homebrew/Cellar/netpbm/11.02.11: 417 files, 18.7MB\n",
      "\u001b[32m==>\u001b[0m \u001b[1mInstalling graphviz dependency: \u001b[32mgts\u001b[39m\u001b[0m\n",
      "\u001b[34m==>\u001b[0m \u001b[1mDownloading https://ghcr.io/v2/homebrew/core/gts/manifests/0.7.6_3\u001b[0m\n",
      "Already downloaded: /Users/jeong-yonghun/Library/Caches/Homebrew/downloads/0cb7519523b42ff855917c33218c1ef771e3060080fea895de59eb848c833cd1--gts-0.7.6_3.bottle_manifest.json\n",
      "\u001b[32m==>\u001b[0m \u001b[1mInstalling dependencies for gts: \u001b[32mpython-packaging\u001b[39m, \u001b[32mca-certificates\u001b[39m and \u001b[32msqlite\u001b[39m\u001b[0m\n",
      "\u001b[32m==>\u001b[0m \u001b[1mInstalling gts dependency: \u001b[32mpython-packaging\u001b[39m\u001b[0m\n",
      "\u001b[34m==>\u001b[0m \u001b[1mDownloading https://ghcr.io/v2/homebrew/core/python-packaging/manifests/24.2\u001b[0m\n",
      "Already downloaded: /Users/jeong-yonghun/Library/Caches/Homebrew/downloads/a654ed84d67e434e714ac548959721dfcfc2297e1cb87be9237baee7632a2b76--python-packaging-24.2.bottle_manifest.json\n",
      "\u001b[34m==>\u001b[0m \u001b[1mPouring python-packaging--24.2.all.bottle.tar.gz\u001b[0m\n",
      "🍺  /opt/homebrew/Cellar/python-packaging/24.2: 56 files, 491.3KB\n",
      "\u001b[32m==>\u001b[0m \u001b[1mInstalling gts dependency: \u001b[32mca-certificates\u001b[39m\u001b[0m\n",
      "\u001b[34m==>\u001b[0m \u001b[1mDownloading https://ghcr.io/v2/homebrew/core/ca-certificates/manifests/2024-\u001b[0m\n",
      "Already downloaded: /Users/jeong-yonghun/Library/Caches/Homebrew/downloads/e16b55434e8bc1472ffb41e1a71c1b853417578c631fa1b69e8730f8cafca76c--ca-certificates-2024-11-26.bottle_manifest.json\n",
      "\u001b[34m==>\u001b[0m \u001b[1mPouring ca-certificates--2024-11-26.all.bottle.tar.gz\u001b[0m\n",
      "\u001b[34m==>\u001b[0m \u001b[1mRegenerating CA certificate bundle from keychain, this may take a while...\u001b[0m\n",
      "🍺  /opt/homebrew/Cellar/ca-certificates/2024-11-26: 4 files, 239.4KB\n",
      "\u001b[32m==>\u001b[0m \u001b[1mInstalling gts dependency: \u001b[32msqlite\u001b[39m\u001b[0m\n",
      "\u001b[34m==>\u001b[0m \u001b[1mDownloading https://ghcr.io/v2/homebrew/core/sqlite/manifests/3.47.1\u001b[0m\n",
      "Already downloaded: /Users/jeong-yonghun/Library/Caches/Homebrew/downloads/80056eb80c4e40ece338a9418f0e34bf7af301f5bcd6714ebd9e3f603ef415ad--sqlite-3.47.1.bottle_manifest.json\n",
      "\u001b[34m==>\u001b[0m \u001b[1mPouring sqlite--3.47.1.arm64_sonoma.bottle.tar.gz\u001b[0m\n",
      "🍺  /opt/homebrew/Cellar/sqlite/3.47.1: 12 files, 4.9MB\n",
      "\u001b[32m==>\u001b[0m \u001b[1mInstalling \u001b[32mgts\u001b[39m\u001b[0m\n",
      "\u001b[34m==>\u001b[0m \u001b[1mPouring gts--0.7.6_3.arm64_sonoma.bottle.tar.gz\u001b[0m\n",
      "🍺  /opt/homebrew/Cellar/gts/0.7.6_3: 27 files, 1.6MB\n",
      "\u001b[32m==>\u001b[0m \u001b[1mInstalling graphviz dependency: \u001b[32mgdk-pixbuf\u001b[39m\u001b[0m\n",
      "\u001b[34m==>\u001b[0m \u001b[1mDownloading https://ghcr.io/v2/homebrew/core/gdk-pixbuf/manifests/2.42.12\u001b[0m\n",
      "Already downloaded: /Users/jeong-yonghun/Library/Caches/Homebrew/downloads/51502ca3ad1b3a076e2aec3be882089fbd1c2257b822a0d3c155e23e68a7e70e--gdk-pixbuf-2.42.12.bottle_manifest.json\n",
      "\u001b[34m==>\u001b[0m \u001b[1mPouring gdk-pixbuf--2.42.12.arm64_sonoma.bottle.tar.gz\u001b[0m\n",
      "\u001b[34m==>\u001b[0m \u001b[1m/opt/homebrew/Cellar/gdk-pixbuf/2.42.12/bin/gdk-pixbuf-query-loaders --updat\u001b[0m\n",
      "🍺  /opt/homebrew/Cellar/gdk-pixbuf/2.42.12: 152 files, 4.0MB\n",
      "\u001b[32m==>\u001b[0m \u001b[1mInstalling graphviz dependency: \u001b[32micu4c@76\u001b[39m\u001b[0m\n",
      "\u001b[34m==>\u001b[0m \u001b[1mDownloading https://ghcr.io/v2/homebrew/core/icu4c/76/manifests/76.1_1\u001b[0m\n",
      "Already downloaded: /Users/jeong-yonghun/Library/Caches/Homebrew/downloads/c105f8980d3a6b0ff0253b47492e886520580406ee75fa52509cf5b251b4d633--icu4c@76-76.1_1.bottle_manifest.json\n",
      "\u001b[34m==>\u001b[0m \u001b[1mPouring icu4c@76--76.1_1.arm64_sonoma.bottle.tar.gz\u001b[0m\n",
      "🍺  /opt/homebrew/Cellar/icu4c@76/76.1_1: 277 files, 81MB\n",
      "\u001b[32m==>\u001b[0m \u001b[1mInstalling graphviz dependency: \u001b[32mlibrsvg\u001b[39m\u001b[0m\n",
      "\u001b[34m==>\u001b[0m \u001b[1mDownloading https://ghcr.io/v2/homebrew/core/librsvg/manifests/2.58.4\u001b[0m\n",
      "Already downloaded: /Users/jeong-yonghun/Library/Caches/Homebrew/downloads/fdbe581df9e7e873ce9eeda554b2ae1dd9cb1d549e69f4b8fdea85605eeb6f95--librsvg-2.58.4.bottle_manifest.json\n",
      "\u001b[34m==>\u001b[0m \u001b[1mPouring librsvg--2.58.4.arm64_sonoma.bottle.tar.gz\u001b[0m\n",
      "\u001b[34m==>\u001b[0m \u001b[1m/opt/homebrew/opt/gdk-pixbuf/bin/gdk-pixbuf-query-loaders --update-cache\u001b[0m\n",
      "🍺  /opt/homebrew/Cellar/librsvg/2.58.4: 23 files, 45.2MB\n",
      "\u001b[32m==>\u001b[0m \u001b[1mInstalling graphviz dependency: \u001b[32mlibtool\u001b[39m\u001b[0m\n",
      "\u001b[34m==>\u001b[0m \u001b[1mDownloading https://ghcr.io/v2/homebrew/core/libtool/manifests/2.5.4\u001b[0m\n",
      "Already downloaded: /Users/jeong-yonghun/Library/Caches/Homebrew/downloads/caf68ff95c648186998b530b6be93ecb50b17ff8e55d0531c81a5b9456cf2887--libtool-2.5.4.bottle_manifest.json\n",
      "\u001b[34m==>\u001b[0m \u001b[1mPouring libtool--2.5.4.arm64_sonoma.bottle.tar.gz\u001b[0m\n",
      "🍺  /opt/homebrew/Cellar/libtool/2.5.4: 76 files, 4.0MB\n",
      "\u001b[32m==>\u001b[0m \u001b[1mInstalling \u001b[32mgraphviz\u001b[39m\u001b[0m\n",
      "\u001b[34m==>\u001b[0m \u001b[1mPouring graphviz--12.2.0.arm64_sonoma.bottle.tar.gz\u001b[0m\n",
      "🍺  /opt/homebrew/Cellar/graphviz/12.2.0: 281 files, 7.8MB\n",
      "\u001b[34m==>\u001b[0m \u001b[1mRunning `brew cleanup graphviz`...\u001b[0m\n",
      "Disable this behaviour by setting HOMEBREW_NO_INSTALL_CLEANUP.\n",
      "Hide these hints with HOMEBREW_NO_ENV_HINTS (see `man brew`).\n",
      "\u001b[33mWarning:\u001b[0m The following dependents of upgraded formulae are outdated but will not\n",
      "be upgraded because they are not bottled:\n",
      "  mongodb-community\n",
      "\u001b[34m==>\u001b[0m \u001b[1mUpgrading 30 dependents of upgraded formulae:\u001b[0m\n",
      "Disable this behaviour by setting HOMEBREW_NO_INSTALLED_DEPENDENTS_CHECK.\n",
      "Hide these hints with HOMEBREW_NO_ENV_HINTS (see `man brew`).\n",
      "azure-cli 2.64.0 -> 2.67.0, ffmpeg 7.1_2 -> 7.1_3, ffmpeg@6 6.1.2_5 -> 6.1.2_6, folly 2024.08.26.00 -> 2024.11.18.00, fbthrift 2024.08.26.00 -> 2024.11.18.00, fizz 2024.08.26.00 -> 2024.11.18.00, edencommon 2024.08.26.00 -> 2024.11.18.00, fb303 2024.08.26.00 -> 2024.11.18.00, gnupg 2.4.5_1 -> 2.4.6, gpgme 1.23.2_2 -> 1.24.0_1, harfbuzz 10.0.1_2 -> 10.1.0, libfido2 1.14.0_1 -> 1.15.0, librist 0.2.10_1 -> 0.2.11, mvfst 2024.08.26.00 -> 2024.11.18.00, mysql 9.0.1_1 -> 9.0.1_6, node 23.1.0_1 -> 23.3.0, openssl@1.1 1.1.1u -> 1.1.1w, poppler 24.04.0_1 -> 24.11.0, pyenv 2.3.21 -> 2.4.19, python@3.11 3.11.9_1 -> 3.11.10, python@3.9 3.9.19_1 -> 3.9.20, qt 6.7.2_2 -> 6.7.3, qt@5 5.15.13 -> 5.15.16, ruby 3.3.0 -> 3.3.6, ruby-build 20240709.1 -> 20241105, srt 1.5.3 -> 1.5.4, tesseract 5.4.1_2 -> 5.5.0, wangle 2024.08.26.00 -> 2024.11.18.00, watchman 2024.08.26.00 -> 2024.11.18.00, wget 1.24.5 -> 1.25.0\n",
      "\u001b[34m==>\u001b[0m \u001b[1mDownloading https://ghcr.io/v2/homebrew/core/qt/5/manifests/5.15.16\u001b[0m\n",
      "######################################################################### 100.0%\n",
      "\u001b[34m==>\u001b[0m \u001b[1mDownloading https://ghcr.io/v2/homebrew/core/ruby/manifests/3.3.6\u001b[0m\n",
      "######################################################################### 100.0%\n",
      "\u001b[31mError:\u001b[0m openssl@1.1 has been disabled because it is not supported upstream! It was disabled on 2024-10-24.\n",
      "\u001b[34m==>\u001b[0m \u001b[1mDownloading https://ghcr.io/v2/homebrew/core/harfbuzz/manifests/10.1.0\u001b[0m\n",
      "######################################################################### 100.0%\n",
      "\u001b[34m==>\u001b[0m \u001b[1mDownloading https://ghcr.io/v2/homebrew/core/librist/manifests/0.2.11\u001b[0m\n",
      "######################################################################### 100.0%\n",
      "\u001b[34m==>\u001b[0m \u001b[1mDownloading https://ghcr.io/v2/homebrew/core/srt/manifests/1.5.4\u001b[0m\n",
      "######################################################################### 100.0%\n",
      "\u001b[34m==>\u001b[0m \u001b[1mDownloading https://ghcr.io/v2/homebrew/core/tesseract/manifests/5.5.0\u001b[0m\n",
      "######################################################################### 100.0%\n",
      "\u001b[32m==>\u001b[0m \u001b[1mFetching dependencies for tesseract: \u001b[32mpixman\u001b[39m and \u001b[32mharfbuzz\u001b[39m\u001b[0m\n",
      "\u001b[34m==>\u001b[0m \u001b[1mDownloading https://ghcr.io/v2/homebrew/core/pixman/manifests/0.44.0\u001b[0m\n",
      "######################################################################### 100.0%\n",
      "\u001b[32m==>\u001b[0m \u001b[1mFetching \u001b[32mpixman\u001b[39m\u001b[0m\n",
      "\u001b[34m==>\u001b[0m \u001b[1mDownloading https://ghcr.io/v2/homebrew/core/pixman/blobs/sha256:3c7d27ea7cc\u001b[0m\n",
      "######################################################################### 100.0%\n",
      "\u001b[34m==>\u001b[0m \u001b[1mDownloading https://ghcr.io/v2/homebrew/core/harfbuzz/manifests/10.1.0\u001b[0m\n",
      "Already downloaded: /Users/jeong-yonghun/Library/Caches/Homebrew/downloads/7942a4b7c93b609fd780ade60fd720c899f44e3a2859d9327732371179192224--harfbuzz-10.1.0.bottle_manifest.json\n",
      "\u001b[32m==>\u001b[0m \u001b[1mFetching \u001b[32mharfbuzz\u001b[39m\u001b[0m\n",
      "\u001b[34m==>\u001b[0m \u001b[1mDownloading https://ghcr.io/v2/homebrew/core/harfbuzz/blobs/sha256:e9f6cd76f\u001b[0m\n",
      "######################################################################### 100.0%\n",
      "\u001b[32m==>\u001b[0m \u001b[1mFetching \u001b[32mtesseract\u001b[39m\u001b[0m\n",
      "\u001b[34m==>\u001b[0m \u001b[1mDownloading https://ghcr.io/v2/homebrew/core/tesseract/blobs/sha256:5bb5c51c\u001b[0m\n",
      "######################################################################### 100.0%\n",
      "\u001b[34m==>\u001b[0m \u001b[1mDownloading https://ghcr.io/v2/homebrew/core/ffmpeg/6/manifests/6.1.2_6\u001b[0m\n",
      "######################################################################### 100.0%\n",
      "\u001b[32m==>\u001b[0m \u001b[1mFetching dependencies for ffmpeg@6: \u001b[32mlibvpx\u001b[39m and \u001b[32mmpg123\u001b[39m\u001b[0m\n",
      "\u001b[34m==>\u001b[0m \u001b[1mDownloading https://ghcr.io/v2/homebrew/core/libvpx/manifests/1.15.0\u001b[0m\n",
      "######################################################################### 100.0%\n",
      "\u001b[32m==>\u001b[0m \u001b[1mFetching \u001b[32mlibvpx\u001b[39m\u001b[0m\n",
      "\u001b[34m==>\u001b[0m \u001b[1mDownloading https://ghcr.io/v2/homebrew/core/libvpx/blobs/sha256:1a57c51283a\u001b[0m\n",
      "######################################################################### 100.0%\n",
      "\u001b[34m==>\u001b[0m \u001b[1mDownloading https://ghcr.io/v2/homebrew/core/mpg123/manifests/1.32.9\u001b[0m\n",
      "######################################################################### 100.0%\n",
      "\u001b[32m==>\u001b[0m \u001b[1mFetching \u001b[32mmpg123\u001b[39m\u001b[0m\n",
      "\u001b[34m==>\u001b[0m \u001b[1mDownloading https://ghcr.io/v2/homebrew/core/mpg123/blobs/sha256:22762dc6152\u001b[0m\n",
      "######################################################################### 100.0%\n",
      "\u001b[32m==>\u001b[0m \u001b[1mFetching \u001b[32mffmpeg@6\u001b[39m\u001b[0m\n",
      "\u001b[34m==>\u001b[0m \u001b[1mDownloading https://ghcr.io/v2/homebrew/core/ffmpeg/6/blobs/sha256:dd44e763a\u001b[0m\n",
      "######################################################################### 100.0%\n",
      "\u001b[34m==>\u001b[0m \u001b[1mDownloading https://ghcr.io/v2/homebrew/core/folly/manifests/2024.11.18.00\u001b[0m\n",
      "######################################################################### 100.0%\n",
      "\u001b[34m==>\u001b[0m \u001b[1mDownloading https://ghcr.io/v2/homebrew/core/fizz/manifests/2024.11.18.00\u001b[0m\n",
      "######################################################################### 100.0%\n",
      "\u001b[32m==>\u001b[0m \u001b[1mFetching dependencies for fizz: \u001b[32mfolly\u001b[39m\u001b[0m\n",
      "\u001b[34m==>\u001b[0m \u001b[1mDownloading https://ghcr.io/v2/homebrew/core/folly/manifests/2024.11.18.00\u001b[0m\n",
      "Already downloaded: /Users/jeong-yonghun/Library/Caches/Homebrew/downloads/3f45db2ba48f6e5176317e69254ff7a9154727d6577e1839c8f45975191f1c43--folly-2024.11.18.00.bottle_manifest.json\n",
      "\u001b[32m==>\u001b[0m \u001b[1mFetching \u001b[32mfolly\u001b[39m\u001b[0m\n",
      "\u001b[34m==>\u001b[0m \u001b[1mDownloading https://ghcr.io/v2/homebrew/core/folly/blobs/sha256:5787796e167f\u001b[0m\n",
      "######################################################################### 100.0%\n",
      "\u001b[32m==>\u001b[0m \u001b[1mFetching \u001b[32mfizz\u001b[39m\u001b[0m\n",
      "\u001b[34m==>\u001b[0m \u001b[1mDownloading https://ghcr.io/v2/homebrew/core/fizz/blobs/sha256:b73880776118b\u001b[0m\n",
      "######################################################################### 100.0%\n",
      "\u001b[34m==>\u001b[0m \u001b[1mDownloading https://ghcr.io/v2/homebrew/core/wangle/manifests/2024.11.18.00\u001b[0m\n",
      "######################################################################### 100.0%\n",
      "\u001b[32m==>\u001b[0m \u001b[1mFetching \u001b[32mwangle\u001b[39m\u001b[0m\n",
      "\u001b[34m==>\u001b[0m \u001b[1mDownloading https://ghcr.io/v2/homebrew/core/wangle/blobs/sha256:fb058c0ddee\u001b[0m\n",
      "######################################################################### 100.0%\n",
      "\u001b[34m==>\u001b[0m \u001b[1mDownloading https://ghcr.io/v2/homebrew/core/fbthrift/manifests/2024.11.18.0\u001b[0m\n",
      "######################################################################### 100.0%\n",
      "\u001b[32m==>\u001b[0m \u001b[1mFetching dependencies for fbthrift: \u001b[32mxxhash\u001b[39m\u001b[0m\n",
      "\u001b[34m==>\u001b[0m \u001b[1mDownloading https://ghcr.io/v2/homebrew/core/xxhash/manifests/0.8.2-2\u001b[0m\n",
      "######################################################################### 100.0%\n",
      "\u001b[32m==>\u001b[0m \u001b[1mFetching \u001b[32mxxhash\u001b[39m\u001b[0m\n",
      "\u001b[34m==>\u001b[0m \u001b[1mDownloading https://ghcr.io/v2/homebrew/core/xxhash/blobs/sha256:ae0ac26ed33\u001b[0m\n",
      "######################################################################### 100.0%\n",
      "\u001b[32m==>\u001b[0m \u001b[1mFetching \u001b[32mfbthrift\u001b[39m\u001b[0m\n",
      "\u001b[34m==>\u001b[0m \u001b[1mDownloading https://ghcr.io/v2/homebrew/core/fbthrift/blobs/sha256:bfedb7d02\u001b[0m\n",
      "######################################################################### 100.0%\n",
      "\u001b[34m==>\u001b[0m \u001b[1mDownloading https://ghcr.io/v2/homebrew/core/fb303/manifests/2024.11.18.00\u001b[0m\n",
      "######################################################################### 100.0%\n",
      "\u001b[32m==>\u001b[0m \u001b[1mFetching \u001b[32mfb303\u001b[39m\u001b[0m\n",
      "\u001b[34m==>\u001b[0m \u001b[1mDownloading https://ghcr.io/v2/homebrew/core/fb303/blobs/sha256:d04de0b8578e\u001b[0m\n",
      "######################################################################### 100.0%\n",
      "\u001b[34m==>\u001b[0m \u001b[1mDownloading https://ghcr.io/v2/homebrew/core/edencommon/manifests/2024.11.18\u001b[0m\n",
      "######################################################################### 100.0%\n",
      "\u001b[32m==>\u001b[0m \u001b[1mFetching \u001b[32medencommon\u001b[39m\u001b[0m\n",
      "\u001b[34m==>\u001b[0m \u001b[1mDownloading https://ghcr.io/v2/homebrew/core/edencommon/blobs/sha256:d64a0ca\u001b[0m\n",
      "######################################################################### 100.0%\n",
      "\u001b[34m==>\u001b[0m \u001b[1mDownloading https://ghcr.io/v2/homebrew/core/gnupg/manifests/2.4.6\u001b[0m\n",
      "######################################################################### 100.0%\n",
      "\u001b[34m==>\u001b[0m \u001b[1mDownloading https://ghcr.io/v2/homebrew/core/gpgme/manifests/1.24.0_1\u001b[0m\n",
      "######################################################################### 100.0%\n",
      "\u001b[32m==>\u001b[0m \u001b[1mFetching dependencies for gpgme: \u001b[32mgnupg\u001b[39m\u001b[0m\n",
      "\u001b[34m==>\u001b[0m \u001b[1mDownloading https://ghcr.io/v2/homebrew/core/gnupg/manifests/2.4.6\u001b[0m\n",
      "Already downloaded: /Users/jeong-yonghun/Library/Caches/Homebrew/downloads/9b91c10124c4d5a658939a971d514926c07874c97916e326a7017fe439df9c23--gnupg-2.4.6.bottle_manifest.json\n",
      "\u001b[32m==>\u001b[0m \u001b[1mFetching \u001b[32mgnupg\u001b[39m\u001b[0m\n",
      "\u001b[34m==>\u001b[0m \u001b[1mDownloading https://ghcr.io/v2/homebrew/core/gnupg/blobs/sha256:5a23f8f2c150\u001b[0m\n",
      "######################################################################### 100.0%\n",
      "\u001b[32m==>\u001b[0m \u001b[1mFetching \u001b[32mgpgme\u001b[39m\u001b[0m\n",
      "\u001b[34m==>\u001b[0m \u001b[1mDownloading https://ghcr.io/v2/homebrew/core/gpgme/blobs/sha256:126aa60956ea\u001b[0m\n",
      "######################################################################### 100.0%\n",
      "\u001b[34m==>\u001b[0m \u001b[1mDownloading https://ghcr.io/v2/homebrew/core/libfido2/manifests/1.15.0\u001b[0m\n",
      "######################################################################### 100.0%\n",
      "\u001b[34m==>\u001b[0m \u001b[1mDownloading https://ghcr.io/v2/homebrew/core/mvfst/manifests/2024.11.18.00\u001b[0m\n",
      "######################################################################### 100.0%\n",
      "\u001b[32m==>\u001b[0m \u001b[1mFetching \u001b[32mmvfst\u001b[39m\u001b[0m\n",
      "\u001b[34m==>\u001b[0m \u001b[1mDownloading https://ghcr.io/v2/homebrew/core/mvfst/blobs/sha256:38ebe320cc6a\u001b[0m\n",
      "######################################################################### 100.0%\n",
      "\u001b[34m==>\u001b[0m \u001b[1mDownloading https://ghcr.io/v2/homebrew/core/mysql/manifests/9.0.1_6\u001b[0m\n",
      "######################################################################### 100.0%\n",
      "\u001b[34m==>\u001b[0m \u001b[1mDownloading https://ghcr.io/v2/homebrew/core/node/manifests/23.3.0\u001b[0m\n",
      "######################################################################### 100.0%\n",
      "\u001b[32m==>\u001b[0m \u001b[1mFetching dependencies for node: \u001b[32mc-ares\u001b[39m\u001b[0m\n",
      "\u001b[34m==>\u001b[0m \u001b[1mDownloading https://ghcr.io/v2/homebrew/core/c-ares/manifests/1.34.3\u001b[0m\n",
      "######################################################################### 100.0%\n",
      "\u001b[32m==>\u001b[0m \u001b[1mFetching \u001b[32mc-ares\u001b[39m\u001b[0m\n",
      "\u001b[34m==>\u001b[0m \u001b[1mDownloading https://ghcr.io/v2/homebrew/core/c-ares/blobs/sha256:5433ae54213\u001b[0m\n",
      "######################################################################### 100.0%\n",
      "\u001b[32m==>\u001b[0m \u001b[1mFetching \u001b[32mnode\u001b[39m\u001b[0m\n",
      "\u001b[34m==>\u001b[0m \u001b[1mDownloading https://ghcr.io/v2/homebrew/core/node/blobs/sha256:e39b20ca30f2d\u001b[0m\n",
      "######################################################################### 100.0%\n",
      "\u001b[34m==>\u001b[0m \u001b[1mDownloading https://ghcr.io/v2/homebrew/core/poppler/manifests/24.11.0\u001b[0m\n",
      "######################################################################### 100.0%\n",
      "\u001b[32m==>\u001b[0m \u001b[1mFetching dependencies for poppler: \u001b[32mnspr\u001b[39m and \u001b[32mnss\u001b[39m\u001b[0m\n",
      "\u001b[34m==>\u001b[0m \u001b[1mDownloading https://ghcr.io/v2/homebrew/core/nspr/manifests/4.36\u001b[0m\n",
      "######################################################################### 100.0%\n",
      "\u001b[32m==>\u001b[0m \u001b[1mFetching \u001b[32mnspr\u001b[39m\u001b[0m\n",
      "\u001b[34m==>\u001b[0m \u001b[1mDownloading https://ghcr.io/v2/homebrew/core/nspr/blobs/sha256:7fd364727614f\u001b[0m\n",
      "######################################################################### 100.0%\n",
      "\u001b[34m==>\u001b[0m \u001b[1mDownloading https://ghcr.io/v2/homebrew/core/nss/manifests/3.107\u001b[0m\n",
      "######################################################################### 100.0%\n",
      "\u001b[32m==>\u001b[0m \u001b[1mFetching \u001b[32mnss\u001b[39m\u001b[0m\n",
      "\u001b[34m==>\u001b[0m \u001b[1mDownloading https://ghcr.io/v2/homebrew/core/nss/blobs/sha256:361a5bf4877f3c\u001b[0m\n",
      "######################################################################### 100.0%\n",
      "\u001b[32m==>\u001b[0m \u001b[1mFetching \u001b[32mpoppler\u001b[39m\u001b[0m\n",
      "\u001b[34m==>\u001b[0m \u001b[1mDownloading https://ghcr.io/v2/homebrew/core/poppler/blobs/sha256:ba6c8cc131\u001b[0m\n",
      "######################################################################### 100.0%\n",
      "\u001b[34m==>\u001b[0m \u001b[1mDownloading https://ghcr.io/v2/homebrew/core/pyenv/manifests/2.4.19\u001b[0m\n",
      "######################################################################### 100.0%\n",
      "\u001b[32m==>\u001b[0m \u001b[1mFetching dependencies for pyenv: \u001b[32mpkgconf\u001b[39m\u001b[0m\n",
      "\u001b[34m==>\u001b[0m \u001b[1mDownloading https://ghcr.io/v2/homebrew/core/pkgconf/manifests/2.3.0_1\u001b[0m\n",
      "######################################################################### 100.0%\n",
      "\u001b[32m==>\u001b[0m \u001b[1mFetching \u001b[32mpkgconf\u001b[39m\u001b[0m\n",
      "\u001b[34m==>\u001b[0m \u001b[1mDownloading https://ghcr.io/v2/homebrew/core/pkgconf/blobs/sha256:5f83615f29\u001b[0m\n",
      "######################################################################### 100.0%\n",
      "\u001b[32m==>\u001b[0m \u001b[1mFetching \u001b[32mpyenv\u001b[39m\u001b[0m\n",
      "\u001b[34m==>\u001b[0m \u001b[1mDownloading https://ghcr.io/v2/homebrew/core/pyenv/blobs/sha256:6209babdbb1b\u001b[0m\n",
      "######################################################################### 100.0%\n",
      "\u001b[34m==>\u001b[0m \u001b[1mDownloading https://ghcr.io/v2/homebrew/core/python/3.11/manifests/3.11.10\u001b[0m\n",
      "######################################################################### 100.0%\n",
      "\u001b[34m==>\u001b[0m \u001b[1mDownloading https://ghcr.io/v2/homebrew/core/python/3.9/manifests/3.9.20\u001b[0m\n",
      "######################################################################### 100.0%\n",
      "\u001b[34m==>\u001b[0m \u001b[1mDownloading https://ghcr.io/v2/homebrew/core/qt/manifests/6.7.3\u001b[0m\n",
      "######################################################################### 100.0%\n",
      "\u001b[32m==>\u001b[0m \u001b[1mFetching \u001b[32mqt\u001b[39m\u001b[0m\n",
      "\u001b[34m==>\u001b[0m \u001b[1mDownloading https://ghcr.io/v2/homebrew/core/qt/blobs/sha256:736b15e97ce0136\u001b[0m\n",
      "######################################################################### 100.0%\n",
      "\u001b[34m==>\u001b[0m \u001b[1mDownloading https://ghcr.io/v2/homebrew/core/ruby-build/manifests/20241105\u001b[0m\n",
      "######################################################################### 100.0%\n",
      "\u001b[32m==>\u001b[0m \u001b[1mFetching \u001b[32mruby-build\u001b[39m\u001b[0m\n",
      "\u001b[34m==>\u001b[0m \u001b[1mDownloading https://ghcr.io/v2/homebrew/core/ruby-build/blobs/sha256:417b5c6\u001b[0m\n",
      "######################################################################### 100.0%\n",
      "\u001b[34m==>\u001b[0m \u001b[1mDownloading https://ghcr.io/v2/homebrew/core/watchman/manifests/2024.11.18.0\u001b[0m\n",
      "######################################################################### 100.0%\n",
      "\u001b[32m==>\u001b[0m \u001b[1mFetching \u001b[32mwatchman\u001b[39m\u001b[0m\n",
      "\u001b[34m==>\u001b[0m \u001b[1mDownloading https://ghcr.io/v2/homebrew/core/watchman/blobs/sha256:55f403193\u001b[0m\n",
      "######################################################################### 100.0%\n",
      "\u001b[34m==>\u001b[0m \u001b[1mDownloading https://ghcr.io/v2/homebrew/core/azure-cli/manifests/2.67.0\u001b[0m\n",
      "######################################################################### 100.0%\n",
      "\u001b[34m==>\u001b[0m \u001b[1mDownloading https://ghcr.io/v2/homebrew/core/wget/manifests/1.25.0\u001b[0m\n",
      "######################################################################### 100.0%\n",
      "\u001b[34m==>\u001b[0m \u001b[1mDownloading https://ghcr.io/v2/homebrew/core/ffmpeg/manifests/7.1_3\u001b[0m\n",
      "######################################################################### 100.0%\n",
      "\u001b[32m==>\u001b[0m \u001b[1mFetching \u001b[32mffmpeg\u001b[39m\u001b[0m\n",
      "\u001b[34m==>\u001b[0m \u001b[1mDownloading https://ghcr.io/v2/homebrew/core/ffmpeg/blobs/sha256:83c29276528\u001b[0m\n",
      "######################################################################### 100.0%\n",
      "\u001b[32m==>\u001b[0m \u001b[1mUpgrading \u001b[32mtesseract\u001b[39m\u001b[0m\n",
      "  5.4.1_2 -> 5.5.0 \n",
      "\u001b[32m==>\u001b[0m \u001b[1mInstalling dependencies for tesseract: \u001b[32mpixman\u001b[39m and \u001b[32mharfbuzz\u001b[39m\u001b[0m\n",
      "\u001b[32m==>\u001b[0m \u001b[1mInstalling tesseract dependency: \u001b[32mpixman\u001b[39m\u001b[0m\n",
      "\u001b[34m==>\u001b[0m \u001b[1mDownloading https://ghcr.io/v2/homebrew/core/pixman/manifests/0.44.0\u001b[0m\n",
      "Already downloaded: /Users/jeong-yonghun/Library/Caches/Homebrew/downloads/060a54087ee936cc6a8eb65f3d02636a1267766eb856050a519aa50994733e47--pixman-0.44.0.bottle_manifest.json\n",
      "\u001b[34m==>\u001b[0m \u001b[1mPouring pixman--0.44.0.arm64_sonoma.bottle.tar.gz\u001b[0m\n",
      "🍺  /opt/homebrew/Cellar/pixman/0.44.0: 10 files, 655.6KB\n",
      "\u001b[32m==>\u001b[0m \u001b[1mInstalling tesseract dependency: \u001b[32mharfbuzz\u001b[39m\u001b[0m\n",
      "\u001b[34m==>\u001b[0m \u001b[1mDownloading https://ghcr.io/v2/homebrew/core/harfbuzz/manifests/10.1.0\u001b[0m\n",
      "Already downloaded: /Users/jeong-yonghun/Library/Caches/Homebrew/downloads/7942a4b7c93b609fd780ade60fd720c899f44e3a2859d9327732371179192224--harfbuzz-10.1.0.bottle_manifest.json\n",
      "\u001b[34m==>\u001b[0m \u001b[1mPouring harfbuzz--10.1.0.arm64_sonoma.bottle.tar.gz\u001b[0m\n",
      "🍺  /opt/homebrew/Cellar/harfbuzz/10.1.0: 77 files, 9.5MB\n",
      "\u001b[32m==>\u001b[0m \u001b[1mInstalling \u001b[32mtesseract\u001b[39m\u001b[0m\n",
      "\u001b[34m==>\u001b[0m \u001b[1mPouring tesseract--5.5.0.arm64_sonoma.bottle.tar.gz\u001b[0m\n",
      "🍺  /opt/homebrew/Cellar/tesseract/5.5.0: 75 files, 33MB\n",
      "\u001b[34m==>\u001b[0m \u001b[1mRunning `brew cleanup tesseract`...\u001b[0m\n",
      "Removing: /opt/homebrew/Cellar/tesseract/5.4.1... (75 files, 33MB)\n",
      "Removing: /opt/homebrew/Cellar/tesseract/5.4.1_2... (75 files, 33.0MB)\n",
      "Removing: /Users/jeong-yonghun/Library/Caches/Homebrew/tesseract_bottle_manifest--5.4.1_2... (39.5KB)\n",
      "Removing: /Users/jeong-yonghun/Library/Caches/Homebrew/tesseract--5.4.1_2... (12.6MB)\n",
      "\u001b[32m==>\u001b[0m \u001b[1mUpgrading \u001b[32mffmpeg@6\u001b[39m\u001b[0m\n",
      "  6.1.2_5 -> 6.1.2_6 \n",
      "\u001b[32m==>\u001b[0m \u001b[1mInstalling dependencies for ffmpeg@6: \u001b[32mlibvpx\u001b[39m and \u001b[32mmpg123\u001b[39m\u001b[0m\n",
      "\u001b[32m==>\u001b[0m \u001b[1mInstalling ffmpeg@6 dependency: \u001b[32mlibvpx\u001b[39m\u001b[0m\n",
      "\u001b[34m==>\u001b[0m \u001b[1mDownloading https://ghcr.io/v2/homebrew/core/libvpx/manifests/1.15.0\u001b[0m\n",
      "Already downloaded: /Users/jeong-yonghun/Library/Caches/Homebrew/downloads/97cd4856884c469eac583d12d18b6ce708a4569925959312b89e10e67554811b--libvpx-1.15.0.bottle_manifest.json\n",
      "\u001b[34m==>\u001b[0m \u001b[1mPouring libvpx--1.15.0.arm64_sonoma.bottle.tar.gz\u001b[0m\n",
      "🍺  /opt/homebrew/Cellar/libvpx/1.15.0: 22 files, 4.1MB\n",
      "\u001b[32m==>\u001b[0m \u001b[1mInstalling ffmpeg@6 dependency: \u001b[32mmpg123\u001b[39m\u001b[0m\n",
      "\u001b[34m==>\u001b[0m \u001b[1mDownloading https://ghcr.io/v2/homebrew/core/mpg123/manifests/1.32.9\u001b[0m\n",
      "Already downloaded: /Users/jeong-yonghun/Library/Caches/Homebrew/downloads/59b77254090a3fc85ea07c90445fd0ef850efa8bff2bdde32817d369b65ed4ec--mpg123-1.32.9.bottle_manifest.json\n",
      "\u001b[34m==>\u001b[0m \u001b[1mPouring mpg123--1.32.9.arm64_sonoma.bottle.tar.gz\u001b[0m\n",
      "🍺  /opt/homebrew/Cellar/mpg123/1.32.9: 34 files, 2.0MB\n",
      "\u001b[32m==>\u001b[0m \u001b[1mInstalling \u001b[32mffmpeg@6\u001b[39m\u001b[0m\n",
      "\u001b[34m==>\u001b[0m \u001b[1mPouring ffmpeg@6--6.1.2_6.arm64_sonoma.bottle.tar.gz\u001b[0m\n",
      "🍺  /opt/homebrew/Cellar/ffmpeg@6/6.1.2_6: 285 files, 50.0MB\n",
      "\u001b[34m==>\u001b[0m \u001b[1mRunning `brew cleanup ffmpeg@6`...\u001b[0m\n",
      "Removing: /opt/homebrew/Cellar/ffmpeg@6/6.1.2_5... (285 files, 50.0MB)\n",
      "Removing: /Users/jeong-yonghun/Library/Caches/Homebrew/ffmpeg@6_bottle_manifest--6.1.2_5... (84.5KB)\n",
      "Removing: /Users/jeong-yonghun/Library/Caches/Homebrew/ffmpeg@6--6.1.2_5... (19.3MB)\n",
      "\u001b[32m==>\u001b[0m \u001b[1mUpgrading \u001b[32mfizz\u001b[39m\u001b[0m\n",
      "  2024.08.26.00 -> 2024.11.18.00 \n",
      "\u001b[32m==>\u001b[0m \u001b[1mInstalling dependencies for fizz: \u001b[32mfolly\u001b[39m\u001b[0m\n",
      "\u001b[32m==>\u001b[0m \u001b[1mInstalling fizz dependency: \u001b[32mfolly\u001b[39m\u001b[0m\n",
      "\u001b[34m==>\u001b[0m \u001b[1mDownloading https://ghcr.io/v2/homebrew/core/folly/manifests/2024.11.18.00\u001b[0m\n",
      "Already downloaded: /Users/jeong-yonghun/Library/Caches/Homebrew/downloads/3f45db2ba48f6e5176317e69254ff7a9154727d6577e1839c8f45975191f1c43--folly-2024.11.18.00.bottle_manifest.json\n",
      "\u001b[34m==>\u001b[0m \u001b[1mPouring folly--2024.11.18.00.arm64_sonoma.bottle.tar.gz\u001b[0m\n",
      "🍺  /opt/homebrew/Cellar/folly/2024.11.18.00: 1,078 files, 28.1MB\n",
      "\u001b[32m==>\u001b[0m \u001b[1mInstalling \u001b[32mfizz\u001b[39m\u001b[0m\n",
      "\u001b[34m==>\u001b[0m \u001b[1mPouring fizz--2024.11.18.00.arm64_sonoma.bottle.tar.gz\u001b[0m\n",
      "🍺  /opt/homebrew/Cellar/fizz/2024.11.18.00: 210 files, 3.8MB\n",
      "\u001b[34m==>\u001b[0m \u001b[1mRunning `brew cleanup fizz`...\u001b[0m\n",
      "Removing: /opt/homebrew/Cellar/fizz/2024.08.26.00... (213 files, 3.9MB)\n",
      "Removing: /Users/jeong-yonghun/Library/Caches/Homebrew/fizz_bottle_manifest--2024.08.26.00-1... (21KB)\n",
      "\u001b[32m==>\u001b[0m \u001b[1mUpgrading \u001b[32mwangle\u001b[39m\u001b[0m\n",
      "  2024.08.26.00 -> 2024.11.18.00 \n",
      "\u001b[34m==>\u001b[0m \u001b[1mPouring wangle--2024.11.18.00.arm64_sonoma.bottle.tar.gz\u001b[0m\n",
      "🍺  /opt/homebrew/Cellar/wangle/2024.11.18.00: 119 files, 3.4MB\n",
      "\u001b[34m==>\u001b[0m \u001b[1mRunning `brew cleanup wangle`...\u001b[0m\n",
      "Removing: /opt/homebrew/Cellar/wangle/2024.08.26.00... (119 files, 3.4MB)\n",
      "Removing: /Users/jeong-yonghun/Library/Caches/Homebrew/wangle_bottle_manifest--2024.08.26.00... (21.5KB)\n",
      "\u001b[32m==>\u001b[0m \u001b[1mUpgrading \u001b[32mfbthrift\u001b[39m\u001b[0m\n",
      "  2024.08.26.00 -> 2024.11.18.00 \n",
      "\u001b[32m==>\u001b[0m \u001b[1mInstalling dependencies for fbthrift: \u001b[32mxxhash\u001b[39m\u001b[0m\n",
      "\u001b[32m==>\u001b[0m \u001b[1mInstalling fbthrift dependency: \u001b[32mxxhash\u001b[39m\u001b[0m\n",
      "\u001b[34m==>\u001b[0m \u001b[1mDownloading https://ghcr.io/v2/homebrew/core/xxhash/manifests/0.8.2-2\u001b[0m\n",
      "Already downloaded: /Users/jeong-yonghun/Library/Caches/Homebrew/downloads/6b89122233f2f03a33aa7d38c08d6614fc941a8704ccf9f689aaf8659d7cf1f8--xxhash-0.8.2-2.bottle_manifest.json\n",
      "\u001b[34m==>\u001b[0m \u001b[1mPouring xxhash--0.8.2.arm64_sonoma.bottle.2.tar.gz\u001b[0m\n",
      "🍺  /opt/homebrew/Cellar/xxhash/0.8.2: 26 files, 527.4KB\n",
      "\u001b[32m==>\u001b[0m \u001b[1mInstalling \u001b[32mfbthrift\u001b[39m\u001b[0m\n",
      "\u001b[34m==>\u001b[0m \u001b[1mPouring fbthrift--2024.11.18.00.arm64_sonoma.bottle.tar.gz\u001b[0m\n",
      "🍺  /opt/homebrew/Cellar/fbthrift/2024.11.18.00: 887 files, 27.7MB\n",
      "\u001b[34m==>\u001b[0m \u001b[1mRunning `brew cleanup fbthrift`...\u001b[0m\n",
      "Removing: /opt/homebrew/Cellar/fbthrift/2024.08.26.00... (841 files, 26.7MB)\n",
      "Removing: /Users/jeong-yonghun/Library/Caches/Homebrew/fbthrift_bottle_manifest--2024.08.26.00-1... (23.7KB)\n",
      "\u001b[32m==>\u001b[0m \u001b[1mUpgrading \u001b[32mfb303\u001b[39m\u001b[0m\n",
      "  2024.08.26.00 -> 2024.11.18.00 \n",
      "\u001b[34m==>\u001b[0m \u001b[1mPouring fb303--2024.11.18.00.arm64_sonoma.bottle.tar.gz\u001b[0m\n",
      "🍺  /opt/homebrew/Cellar/fb303/2024.11.18.00: 58 files, 3.6MB\n",
      "\u001b[34m==>\u001b[0m \u001b[1mRunning `brew cleanup fb303`...\u001b[0m\n",
      "Removing: /opt/homebrew/Cellar/fb303/2024.08.26.00... (58 files, 4MB)\n",
      "Removing: /Users/jeong-yonghun/Library/Caches/Homebrew/fb303_bottle_manifest--2024.08.26.00... (24.2KB)\n",
      "\u001b[32m==>\u001b[0m \u001b[1mUpgrading \u001b[32medencommon\u001b[39m\u001b[0m\n",
      "  2024.08.26.00 -> 2024.11.18.00 \n",
      "\u001b[34m==>\u001b[0m \u001b[1mPouring edencommon--2024.11.18.00.arm64_sonoma.bottle.tar.gz\u001b[0m\n",
      "🍺  /opt/homebrew/Cellar/edencommon/2024.11.18.00: 80 files, 1.7MB\n",
      "\u001b[34m==>\u001b[0m \u001b[1mRunning `brew cleanup edencommon`...\u001b[0m\n",
      "Removing: /opt/homebrew/Cellar/edencommon/2024.08.26.00... (78 files, 1.8MB)\n",
      "Removing: /Users/jeong-yonghun/Library/Caches/Homebrew/edencommon_bottle_manifest--2024.08.26.00... (25.2KB)\n",
      "\u001b[32m==>\u001b[0m \u001b[1mUpgrading \u001b[32mgpgme\u001b[39m\u001b[0m\n",
      "  1.23.2_2 -> 1.24.0_1 \n",
      "\u001b[32m==>\u001b[0m \u001b[1mInstalling dependencies for gpgme: \u001b[32mgnupg\u001b[39m\u001b[0m\n",
      "\u001b[32m==>\u001b[0m \u001b[1mInstalling gpgme dependency: \u001b[32mgnupg\u001b[39m\u001b[0m\n",
      "\u001b[34m==>\u001b[0m \u001b[1mDownloading https://ghcr.io/v2/homebrew/core/gnupg/manifests/2.4.6\u001b[0m\n",
      "Already downloaded: /Users/jeong-yonghun/Library/Caches/Homebrew/downloads/9b91c10124c4d5a658939a971d514926c07874c97916e326a7017fe439df9c23--gnupg-2.4.6.bottle_manifest.json\n",
      "\u001b[34m==>\u001b[0m \u001b[1mPouring gnupg--2.4.6.arm64_sonoma.bottle.tar.gz\u001b[0m\n",
      "🍺  /opt/homebrew/Cellar/gnupg/2.4.6: 145 files, 14.8MB\n",
      "\u001b[32m==>\u001b[0m \u001b[1mInstalling \u001b[32mgpgme\u001b[39m\u001b[0m\n",
      "\u001b[34m==>\u001b[0m \u001b[1mPouring gpgme--1.24.0_1.arm64_sonoma.bottle.tar.gz\u001b[0m\n",
      "🍺  /opt/homebrew/Cellar/gpgme/1.24.0_1: 110 files, 4.8MB\n",
      "\u001b[34m==>\u001b[0m \u001b[1mRunning `brew cleanup gpgme`...\u001b[0m\n",
      "Removing: /opt/homebrew/Cellar/gpgme/1.23.2_2... (108 files, 4.7MB)\n",
      "Removing: /Users/jeong-yonghun/Library/Caches/Homebrew/gpgme_bottle_manifest--1.23.2_2... (29.8KB)\n",
      "Removing: /Users/jeong-yonghun/Library/Caches/Homebrew/gpgme--1.23.2_2... (1.2MB)\n",
      "\u001b[32m==>\u001b[0m \u001b[1mUpgrading \u001b[32mmvfst\u001b[39m\u001b[0m\n",
      "  2024.08.26.00 -> 2024.11.18.00 \n",
      "\u001b[34m==>\u001b[0m \u001b[1mPouring mvfst--2024.11.18.00.arm64_sonoma.bottle.tar.gz\u001b[0m\n",
      "🍺  /opt/homebrew/Cellar/mvfst/2024.11.18.00: 286 files, 8.1MB\n",
      "\u001b[34m==>\u001b[0m \u001b[1mRunning `brew cleanup mvfst`...\u001b[0m\n",
      "Removing: /opt/homebrew/Cellar/mvfst/2024.08.26.00... (282 files, 8MB)\n",
      "Removing: /Users/jeong-yonghun/Library/Caches/Homebrew/mvfst_bottle_manifest--2024.08.26.00... (21.2KB)\n",
      "\u001b[32m==>\u001b[0m \u001b[1mUpgrading \u001b[32mnode\u001b[39m\u001b[0m\n",
      "  23.1.0_1 -> 23.3.0 \n",
      "\u001b[32m==>\u001b[0m \u001b[1mInstalling dependencies for node: \u001b[32mc-ares\u001b[39m\u001b[0m\n",
      "\u001b[32m==>\u001b[0m \u001b[1mInstalling node dependency: \u001b[32mc-ares\u001b[39m\u001b[0m\n",
      "\u001b[34m==>\u001b[0m \u001b[1mDownloading https://ghcr.io/v2/homebrew/core/c-ares/manifests/1.34.3\u001b[0m\n",
      "Already downloaded: /Users/jeong-yonghun/Library/Caches/Homebrew/downloads/a7247aee29b6c331ce6ec6227ce4c11ab5aa34f2073cbcaa5977bdafe8c996b4--c-ares-1.34.3.bottle_manifest.json\n",
      "\u001b[34m==>\u001b[0m \u001b[1mPouring c-ares--1.34.3.arm64_sonoma.bottle.tar.gz\u001b[0m\n",
      "🍺  /opt/homebrew/Cellar/c-ares/1.34.3: 176 files, 1MB\n",
      "\u001b[32m==>\u001b[0m \u001b[1mInstalling \u001b[32mnode\u001b[39m\u001b[0m\n",
      "\u001b[34m==>\u001b[0m \u001b[1mPouring node--23.3.0.arm64_sonoma.bottle.tar.gz\u001b[0m\n",
      "🍺  /opt/homebrew/Cellar/node/23.3.0: 2,676 files, 87.6MB\n",
      "\u001b[34m==>\u001b[0m \u001b[1mRunning `brew cleanup node`...\u001b[0m\n",
      "Removing: /opt/homebrew/Cellar/node/23.1.0_1... (2,676 files, 87.5MB)\n",
      "Removing: /Users/jeong-yonghun/Library/Caches/Homebrew/node_bottle_manifest--23.1.0_1... (16.2KB)\n",
      "Removing: /Users/jeong-yonghun/Library/Caches/Homebrew/node--23.1.0_1... (20.8MB)\n",
      "\u001b[32m==>\u001b[0m \u001b[1mUpgrading \u001b[32mpoppler\u001b[39m\u001b[0m\n",
      "  24.04.0_1 -> 24.11.0 \n",
      "\u001b[32m==>\u001b[0m \u001b[1mInstalling dependencies for poppler: \u001b[32mnspr\u001b[39m and \u001b[32mnss\u001b[39m\u001b[0m\n",
      "\u001b[32m==>\u001b[0m \u001b[1mInstalling poppler dependency: \u001b[32mnspr\u001b[39m\u001b[0m\n",
      "\u001b[34m==>\u001b[0m \u001b[1mDownloading https://ghcr.io/v2/homebrew/core/nspr/manifests/4.36\u001b[0m\n",
      "Already downloaded: /Users/jeong-yonghun/Library/Caches/Homebrew/downloads/2dc0119ad361ddee3aa46221becf78cfc2c1e4fd9d1cd3ac8d6481f4dbaed304--nspr-4.36.bottle_manifest.json\n",
      "\u001b[34m==>\u001b[0m \u001b[1mPouring nspr--4.36.arm64_sonoma.bottle.tar.gz\u001b[0m\n",
      "🍺  /opt/homebrew/Cellar/nspr/4.36: 82 files, 1.2MB\n",
      "\u001b[32m==>\u001b[0m \u001b[1mInstalling poppler dependency: \u001b[32mnss\u001b[39m\u001b[0m\n",
      "\u001b[34m==>\u001b[0m \u001b[1mDownloading https://ghcr.io/v2/homebrew/core/nss/manifests/3.107\u001b[0m\n",
      "Already downloaded: /Users/jeong-yonghun/Library/Caches/Homebrew/downloads/0bacaa3cbb4cf4f5fac3c136ba6c76fe4cc42df1cdb542d1618939adc6eb8757--nss-3.107.bottle_manifest.json\n",
      "\u001b[34m==>\u001b[0m \u001b[1mPouring nss--3.107.arm64_sonoma.bottle.tar.gz\u001b[0m\n",
      "🍺  /opt/homebrew/Cellar/nss/3.107: 215 files, 19.5MB\n",
      "\u001b[32m==>\u001b[0m \u001b[1mInstalling \u001b[32mpoppler\u001b[39m\u001b[0m\n",
      "\u001b[34m==>\u001b[0m \u001b[1mPouring poppler--24.11.0.arm64_sonoma.bottle.tar.gz\u001b[0m\n",
      "🍺  /opt/homebrew/Cellar/poppler/24.11.0: 439 files, 29.5MB\n",
      "\u001b[34m==>\u001b[0m \u001b[1mRunning `brew cleanup poppler`...\u001b[0m\n",
      "Removing: /opt/homebrew/Cellar/poppler/24.04.0_1... (466 files, 29.4MB)\n",
      "Removing: /Users/jeong-yonghun/Library/Caches/Homebrew/poppler_bottle_manifest--24.04.0_1... (53.5KB)\n",
      "Removing: /Users/jeong-yonghun/Library/Caches/Homebrew/poppler--24.04.0_1... (8.9MB)\n",
      "\u001b[32m==>\u001b[0m \u001b[1mUpgrading \u001b[32mpyenv\u001b[39m\u001b[0m\n",
      "  2.3.21 -> 2.4.19 \n",
      "\u001b[32m==>\u001b[0m \u001b[1mInstalling dependencies for pyenv: \u001b[32mpkgconf\u001b[39m\u001b[0m\n",
      "\u001b[32m==>\u001b[0m \u001b[1mInstalling pyenv dependency: \u001b[32mpkgconf\u001b[39m\u001b[0m\n",
      "\u001b[34m==>\u001b[0m \u001b[1mDownloading https://ghcr.io/v2/homebrew/core/pkgconf/manifests/2.3.0_1\u001b[0m\n",
      "Already downloaded: /Users/jeong-yonghun/Library/Caches/Homebrew/downloads/2d395f41484daa2c37c818f7abd9d0fc8dd82ff2892c542d9eb136b442ebae19--pkgconf-2.3.0_1.bottle_manifest.json\n",
      "\u001b[34m==>\u001b[0m \u001b[1mPouring pkgconf--2.3.0_1.arm64_sonoma.bottle.tar.gz\u001b[0m\n",
      "🍺  /opt/homebrew/Cellar/pkgconf/2.3.0_1: 27 files, 474KB\n",
      "\u001b[32m==>\u001b[0m \u001b[1mInstalling \u001b[32mpyenv\u001b[39m\u001b[0m\n",
      "\u001b[34m==>\u001b[0m \u001b[1mPouring pyenv--2.4.19.arm64_sonoma.bottle.tar.gz\u001b[0m\n",
      "🍺  /opt/homebrew/Cellar/pyenv/2.4.19: 1,244 files, 4MB\n",
      "\u001b[34m==>\u001b[0m \u001b[1mRunning `brew cleanup pyenv`...\u001b[0m\n",
      "Removing: /opt/homebrew/Cellar/pyenv/2.3.21... (1,083 files, 3.3MB)\n",
      "\u001b[32m==>\u001b[0m \u001b[1mUpgrading \u001b[32mqt\u001b[39m\u001b[0m\n",
      "  6.7.2_2 -> 6.7.3 \n",
      "\u001b[34m==>\u001b[0m \u001b[1mPouring qt--6.7.3.arm64_sonoma.bottle.tar.gz\u001b[0m\n",
      "🍺  /opt/homebrew/Cellar/qt/6.7.3: 15,224 files, 666.6MB\n",
      "\u001b[34m==>\u001b[0m \u001b[1mRunning `brew cleanup qt`...\u001b[0m\n",
      "Removing: /opt/homebrew/Cellar/qt/6.7.0_2... (15,191 files, 678.7MB)\n",
      "Removing: /opt/homebrew/Cellar/qt/6.7.2_2... (15,223 files, 666.3MB)\n",
      "Removing: /Users/jeong-yonghun/Library/Caches/Homebrew/qt_bottle_manifest--6.7.0_2... (116.8KB)\n",
      "Removing: /Users/jeong-yonghun/Library/Caches/Homebrew/qt_bottle_manifest--6.7.2_2... (91.8KB)\n",
      "Removing: /Users/jeong-yonghun/Library/Caches/Homebrew/qt--6.7.2_2... (186.2MB)\n",
      "\u001b[32m==>\u001b[0m \u001b[1mUpgrading \u001b[32mruby-build\u001b[39m\u001b[0m\n",
      "  20240709.1 -> 20241105 \n",
      "\u001b[34m==>\u001b[0m \u001b[1mPouring ruby-build--20241105.all.bottle.tar.gz\u001b[0m\n",
      "🍺  /opt/homebrew/Cellar/ruby-build/20241105: 631 files, 348.0KB\n",
      "\u001b[34m==>\u001b[0m \u001b[1mRunning `brew cleanup ruby-build`...\u001b[0m\n",
      "Removing: /opt/homebrew/Cellar/ruby-build/20240709.1... (619 files, 336.2KB)\n",
      "\u001b[32m==>\u001b[0m \u001b[1mUpgrading \u001b[32mwatchman\u001b[39m\u001b[0m\n",
      "  2024.08.26.00 -> 2024.11.18.00 \n",
      "\u001b[34m==>\u001b[0m \u001b[1mPouring watchman--2024.11.18.00.arm64_sonoma.bottle.tar.gz\u001b[0m\n",
      "🍺  /opt/homebrew/Cellar/watchman/2024.11.18.00: 26 files, 13.4MB\n",
      "\u001b[34m==>\u001b[0m \u001b[1mRunning `brew cleanup watchman`...\u001b[0m\n",
      "Removing: /opt/homebrew/Cellar/watchman/2024.08.26.00... (26 files, 17.6MB)\n",
      "Removing: /Users/jeong-yonghun/Library/Caches/Homebrew/watchman_bottle_manifest--2024.08.26.00... (33KB)\n",
      "\u001b[32m==>\u001b[0m \u001b[1mUpgrading \u001b[32mffmpeg\u001b[39m\u001b[0m\n",
      "  7.1_2 -> 7.1_3 \n",
      "\u001b[34m==>\u001b[0m \u001b[1mPouring ffmpeg--7.1_3.arm64_sonoma.bottle.tar.gz\u001b[0m\n",
      "🍺  /opt/homebrew/Cellar/ffmpeg/7.1_3: 287 files, 52.1MB\n",
      "\u001b[34m==>\u001b[0m \u001b[1mRunning `brew cleanup ffmpeg`...\u001b[0m\n",
      "Removing: /opt/homebrew/Cellar/ffmpeg/7.1_2... (287 files, 52.1MB)\n",
      "Removing: /Users/jeong-yonghun/Library/Caches/Homebrew/ffmpeg_bottle_manifest--7.1_2... (84.6KB)\n",
      "Removing: /Users/jeong-yonghun/Library/Caches/Homebrew/ffmpeg--7.1_2... (20.2MB)\n",
      "\u001b[32m==>\u001b[0m \u001b[1mChecking for dependents of upgraded formulae...\u001b[0m\n",
      "\u001b[34m==>\u001b[0m \u001b[1mNo broken dependents to reinstall!\u001b[0m\n",
      "\u001b[32m==>\u001b[0m \u001b[1m`brew cleanup` has not been run in the last 30 days, running now...\u001b[0m\n",
      "Disable this behaviour by setting HOMEBREW_NO_INSTALL_CLEANUP.\n",
      "Hide these hints with HOMEBREW_NO_ENV_HINTS (see `man brew`).\n",
      "Removing: /Users/jeong-yonghun/Library/Caches/Homebrew/aom--3.10.0... (3.9MB)\n",
      "Removing: /opt/homebrew/Cellar/boost/1.86.0... (16,215 files, 518.0MB)\n",
      "Removing: /opt/homebrew/Cellar/c-ares/1.32.1... (169 files, 905.3KB)\n",
      "Removing: /opt/homebrew/Cellar/c-ares/1.34.2... (176 files, 1MB)\n",
      "Removing: /Users/jeong-yonghun/Library/Caches/Homebrew/c-ares_bottle_manifest--1.34.2... (7.3KB)\n",
      "Removing: /Users/jeong-yonghun/Library/Caches/Homebrew/c-ares--1.34.2... (295.2KB)\n",
      "Removing: /opt/homebrew/Cellar/ca-certificates/2024-07-02... (4 files, 231.3KB)\n",
      "Removing: /opt/homebrew/Cellar/ca-certificates/2024-09-24... (4 files, 237.4KB)\n",
      "Removing: /Users/jeong-yonghun/Library/Caches/Homebrew/ca-certificates_bottle_manifest--2024-09-24... (1.9KB)\n",
      "Removing: /Users/jeong-yonghun/Library/Caches/Homebrew/ca-certificates--2024-09-24... (132.6KB)\n",
      "Removing: /opt/homebrew/Cellar/dav1d/1.4.3... (16 files, 944.8KB)\n",
      "Removing: /opt/homebrew/Cellar/folly/2024.08.26.00... (1,091 files, 27.6MB)\n",
      "Removing: /Users/jeong-yonghun/Library/Caches/Homebrew/folly_bottle_manifest--2024.08.26.00... (19.9KB)\n",
      "Removing: /opt/homebrew/Cellar/fribidi/1.0.15... (68 files, 740KB)\n",
      "Removing: /opt/homebrew/Cellar/gcc/14.2.0... (1,913 files, 473.4MB)\n",
      "Removing: /Users/jeong-yonghun/Library/Caches/Homebrew/gcc_bottle_manifest--14.2.0... (18.2KB)\n",
      "Removing: /opt/homebrew/Cellar/glib/2.80.4... (526 files, 36.2MB)\n",
      "Removing: /opt/homebrew/Cellar/gnupg/2.4.5_1... (141 files, 14.4MB)\n",
      "Removing: /Users/jeong-yonghun/Library/Caches/Homebrew/gnupg_bottle_manifest--2.4.5_1... (30.3KB)\n",
      "Removing: /Users/jeong-yonghun/Library/Caches/Homebrew/gnupg--2.4.5_1... (5MB)\n",
      "Removing: /opt/homebrew/Cellar/harfbuzz/10.0.1_2... (77 files, 9.5MB)\n",
      "Removing: /opt/homebrew/Cellar/harfbuzz/9.0.0... (77 files, 9.7MB)\n",
      "Removing: /Users/jeong-yonghun/Library/Caches/Homebrew/harfbuzz_bottle_manifest--10.0.1_2... (29KB)\n",
      "Removing: /Users/jeong-yonghun/Library/Caches/Homebrew/harfbuzz--10.0.1_2... (2.4MB)\n",
      "Removing: /Users/jeong-yonghun/Library/Caches/Homebrew/hdf5--1.14.4.3... (8.5MB)\n",
      "Removing: /opt/homebrew/Cellar/hwloc/2.11.1... (972 files, 10.6MB)\n",
      "Removing: /opt/homebrew/Cellar/icu4c/74.2... (270 files, 77.9MB)\n",
      "Removing: /opt/homebrew/Cellar/icu4c@76/76.1... (277 files, 81MB)\n",
      "Removing: /Users/jeong-yonghun/Library/Caches/Homebrew/icu4c@76_bottle_manifest--76.1... (9.4KB)\n",
      "Removing: /Users/jeong-yonghun/Library/Caches/Homebrew/icu4c@76--76.1... (29.6MB)\n",
      "Removing: /opt/homebrew/Cellar/imath/3.1.11... (49 files, 940.5KB)\n",
      "Removing: /opt/homebrew/Cellar/jpeg-turbo/3.0.3... (45 files, 3.4MB)\n",
      "Removing: /Users/jeong-yonghun/Library/Caches/Homebrew/jpeg-turbo_bottle_manifest--3.0.4... (8KB)\n",
      "Removing: /Users/jeong-yonghun/Library/Caches/Homebrew/jpeg-turbo--3.0.4... (1.1MB)\n",
      "Removing: /opt/homebrew/Cellar/jpeg-xl/0.10.3... (63 files, 28.3MB)\n",
      "Removing: /Users/jeong-yonghun/Library/Caches/Homebrew/jpeg-xl_bottle_manifest--0.11.0_1... (20.8KB)\n",
      "Removing: /Users/jeong-yonghun/Library/Caches/Homebrew/jpeg-xl--0.11.0_1... (13.4MB)\n",
      "Removing: /opt/homebrew/Cellar/jsoncpp/1.9.5... (18 files, 324.1KB)\n",
      "Removing: /opt/homebrew/Cellar/leptonica/1.84.1... (56 files, 7.0MB)\n",
      "Removing: /opt/homebrew/Cellar/libarchive/3.7.4... (64 files, 3.8MB)\n",
      "Removing: /Users/jeong-yonghun/Library/Caches/Homebrew/libgpg-error--1.50... (519.8KB)\n",
      "Removing: /opt/homebrew/Cellar/libnghttp2/1.63.0... (14 files, 805.2KB)\n",
      "Removing: /Users/jeong-yonghun/Library/Caches/Homebrew/libnghttp2_bottle_manifest--1.63.0... (7.8KB)\n",
      "Removing: /Users/jeong-yonghun/Library/Caches/Homebrew/libomp--19.1.3... (572.9KB)\n",
      "Removing: /opt/homebrew/Cellar/libpng/1.6.43... (27 files, 1.3MB)\n",
      "Removing: /opt/homebrew/Cellar/libtiff/4.6.0... (414 files, 6.7MB)\n",
      "Removing: /Users/jeong-yonghun/Library/Caches/Homebrew/libtiff_bottle_manifest--4.7.0... (11.6KB)\n",
      "Removing: /Users/jeong-yonghun/Library/Caches/Homebrew/libtiff--4.7.0... (1.8MB)\n",
      "Removing: /opt/homebrew/Cellar/libunistring/1.2... (59 files, 5MB)\n",
      "Removing: /opt/homebrew/Cellar/libuv/1.48.0... (19 files, 1.1MB)\n",
      "Removing: /opt/homebrew/Cellar/libvpx/1.13.1... (20 files, 3.7MB)\n",
      "Removing: /Users/jeong-yonghun/Library/Caches/Homebrew/luajit--2.1.1727870382... (876.5KB)\n",
      "Removing: /opt/homebrew/Cellar/mbedtls/3.6.1... (200 files, 13.2MB)\n",
      "Removing: /Users/jeong-yonghun/Library/Caches/Homebrew/mbedtls_bottle_manifest--3.6.1... (15KB)\n",
      "Removing: /opt/homebrew/Cellar/mpg123/1.32.7... (34 files, 2.0MB)\n",
      "Removing: /opt/homebrew/Cellar/mpg123/1.32.8... (34 files, 2.0MB)\n",
      "Removing: /Users/jeong-yonghun/Library/Caches/Homebrew/mpg123_bottle_manifest--1.32.7... (8.5KB)\n",
      "Removing: /Users/jeong-yonghun/Library/Caches/Homebrew/mpg123_bottle_manifest--1.32.8... (8KB)\n",
      "Removing: /Users/jeong-yonghun/Library/Caches/Homebrew/mpg123--1.32.8... (633KB)\n",
      "Removing: /opt/homebrew/Cellar/netcdf/4.9.2_1... (31 files, 3.7MB)\n",
      "Removing: /Users/jeong-yonghun/Library/Caches/Homebrew/npth--1.7... (36.6KB)\n",
      "Removing: /opt/homebrew/Cellar/nspr/4.35... (87 files, 1.2MB)\n",
      "Removing: /Users/jeong-yonghun/Library/Caches/Homebrew/nspr_bottle_manifest--4.35... (10KB)\n",
      "Removing: /opt/homebrew/Cellar/nss/3.104... (215 files, 19.4MB)\n",
      "Removing: /Users/jeong-yonghun/Library/Caches/Homebrew/nss_bottle_manifest--3.104... (15.1KB)\n",
      "Removing: /Users/jeong-yonghun/Library/Caches/Homebrew/numpy--2.1.2_1... (13.3MB)\n",
      "Removing: /Users/jeong-yonghun/Library/Caches/Homebrew/openexr--3.3.1... (1.4MB)\n",
      "Removing: /opt/homebrew/Cellar/openssl@3/3.3.2... (6,984 files, 32.5MB)\n",
      "Removing: /Users/jeong-yonghun/Library/Caches/Homebrew/openssl@3_bottle_manifest--3.3.2... (10.3KB)\n",
      "Removing: /opt/homebrew/Cellar/openvino/2024.3.0... (705 files, 107.2MB)\n",
      "Removing: /Users/jeong-yonghun/Library/Caches/Homebrew/openvino_bottle_manifest--2024.3.0... (21.3KB)\n",
      "Removing: /opt/homebrew/Cellar/pixman/0.42.2... (11 files, 1.3MB)\n",
      "Removing: /opt/homebrew/Cellar/pkg-config/0.29.2_3... (11 files, 676.2KB)\n",
      "Removing: /opt/homebrew/Cellar/protobuf/28.0... (434 files, 15.0MB)\n",
      "Removing: /Users/jeong-yonghun/Library/Caches/Homebrew/protobuf_bottle_manifest--28.0... (11.1KB)\n",
      "Removing: /opt/homebrew/Cellar/pyqt/6.7.1... (1,227 files, 35.6MB)\n",
      "Removing: /Users/jeong-yonghun/Library/Caches/Homebrew/pyqt_bottle_manifest--6.7.1... (65.4KB)\n",
      "Removing: /opt/homebrew/Cellar/python-packaging/24.1_1... (74 files, 545.5KB)\n",
      "Removing: /Users/jeong-yonghun/Library/Caches/Homebrew/python-packaging_bottle_manifest--24.1_1... (1.9KB)\n",
      "Removing: /Users/jeong-yonghun/Library/Caches/Homebrew/python-packaging--24.1_1... (145.5KB)\n",
      "Removing: /opt/homebrew/Cellar/python@3.12/3.12.5... (3,382 files, 67.7MB)\n",
      "Removing: /Users/jeong-yonghun/Library/Caches/Homebrew/python@3.12_bottle_manifest--3.12.5... (24.4KB)\n",
      "Removing: /Users/jeong-yonghun/Library/Caches/Homebrew/python@3.13_bottle_manifest--3.13.0_1... (20.3KB)\n",
      "Removing: /Users/jeong-yonghun/Library/Caches/Homebrew/python@3.13--3.13.0_1... (15.4MB)\n",
      "Removing: /opt/homebrew/Cellar/rubberband/3.3.0... (13 files, 1.7MB)\n",
      "Removing: /Users/jeong-yonghun/Library/Caches/Homebrew/sdl2--2.30.8... (1.8MB)\n",
      "Removing: /opt/homebrew/Cellar/sqlite/3.46.1... (12 files, 4.8MB)\n",
      "Removing: /opt/homebrew/Cellar/sqlite/3.47.0... (12 files, 4.9MB)\n",
      "Removing: /Users/jeong-yonghun/Library/Caches/Homebrew/sqlite_bottle_manifest--3.46.1... (8.8KB)\n",
      "Removing: /Users/jeong-yonghun/Library/Caches/Homebrew/sqlite_bottle_manifest--3.47.0... (9.4KB)\n",
      "Removing: /Users/jeong-yonghun/Library/Caches/Homebrew/sqlite--3.47.0... (2.3MB)\n",
      "Removing: /opt/homebrew/Cellar/suite-sparse/7.8.2... (217 files, 114.9MB)\n",
      "Removing: /Users/jeong-yonghun/Library/Caches/Homebrew/suite-sparse_bottle_manifest--7.8.2... (21.0KB)\n",
      "Removing: /Users/jeong-yonghun/Library/Caches/Homebrew/tree--2.1.3... (60.7KB)\n",
      "Removing: /Users/jeong-yonghun/Library/Caches/Homebrew/tree-sitter--0.24.3... (5.4MB)\n",
      "Removing: /opt/homebrew/Cellar/unbound/1.21.0... (59 files, 6.0MB)\n",
      "Removing: /Users/jeong-yonghun/Library/Caches/Homebrew/unbound_bottle_manifest--1.21.0... (14.5KB)\n",
      "Removing: /opt/homebrew/Cellar/vtk/9.3.1_1... (4,130 files, 217.1MB)\n",
      "Removing: /Users/jeong-yonghun/Library/Caches/Homebrew/vtk_bottle_manifest--9.3.1_1... (82.2KB)\n",
      "Removing: /opt/homebrew/Cellar/x265/3.6... (11 files, 12MB)\n",
      "Removing: /opt/homebrew/Cellar/xz/5.6.2... (96 files, 1.9MB)\n",
      "Removing: /Users/jeong-yonghun/Library/Caches/Homebrew/xz_bottle_manifest--5.6.2... (9.4KB)\n",
      "Removing: /Users/jeong-yonghun/Library/Logs/Homebrew/mongodb-database-tools... (131B)\n",
      "Removing: /opt/homebrew/lib/python3.11/site-packages/__pycache__/jsonpointer.cpython-311.pyc... (14.9KB)\n",
      "Removing: /opt/homebrew/lib/python3.11/site-packages/__pycache__/rfc3339_validator.cpython-311.pyc... (1.6KB)\n",
      "Removing: /opt/homebrew/lib/python3.11/site-packages/__pycache__/rfc3986_validator.cpython-311.pyc... (4.2KB)\n",
      "Removing: /opt/homebrew/lib/python3.11/site-packages/__pycache__/six.cpython-311.pyc... (45.3KB)\n",
      "Removing: /opt/homebrew/lib/python3.11/site-packages/__pycache__/socks.cpython-311.pyc... (37.5KB)\n",
      "Removing: /opt/homebrew/lib/python3.11/site-packages/__pycache__/typing_extensions.cpython-311.pyc... (126.9KB)\n",
      "Pruned 0 symbolic links and 202 directories from /opt/homebrew\n"
     ]
    }
   ],
   "source": [
    "!brew install graphviz"
   ]
  },
  {
   "cell_type": "code",
   "execution_count": 4,
   "metadata": {
    "id": "tZSEFQzWzBPy"
   },
   "outputs": [],
   "source": [
    "import timm\n",
    "import torch\n",
    "import torch.nn as nn\n",
    "import torch.optim as optim\n",
    "from torchvision import datasets, transforms\n",
    "from torch.utils.data import DataLoader, random_split, ConcatDataset\n",
    "import numpy as np\n",
    "from tqdm import tqdm\n",
    "\n",
    "import itertools\n",
    "from torchinfo import summary"
   ]
  },
  {
   "cell_type": "code",
   "execution_count": 5,
   "metadata": {
    "id": "5N0s6e-mzBPz"
   },
   "outputs": [],
   "source": [
    "class ConvNorm(nn.Module):\n",
    "    def __init__(self, in_channels, out_channels, kernel_size=3, stride=2, padding=1):\n",
    "        super(ConvNorm, self).__init__()\n",
    "        self.linear = nn.Conv2d(\n",
    "            in_channels, out_channels, kernel_size=kernel_size,\n",
    "            stride=stride, padding=padding, bias=False\n",
    "        )\n",
    "        self.bn = nn.BatchNorm2d(out_channels)\n",
    "\n",
    "    def forward(self, x):\n",
    "        x = self.linear(x)\n",
    "        x = self.bn(x)\n",
    "        return x"
   ]
  },
  {
   "cell_type": "code",
   "execution_count": 6,
   "metadata": {
    "id": "fX0CnXd9zBP0"
   },
   "outputs": [],
   "source": [
    "class Stem16(nn.Module):\n",
    "    def __init__(self):\n",
    "        super(Stem16, self).__init__()\n",
    "        self.conv1 = ConvNorm(3, 32)\n",
    "        self.act1 = nn.Hardswish()\n",
    "        self.conv2 = ConvNorm(32, 64)\n",
    "        self.act2 = nn.Hardswish()\n",
    "        self.conv3 = ConvNorm(64, 128)\n",
    "        self.act3 = nn.Hardswish()\n",
    "        self.conv4 = ConvNorm(128, 256)\n",
    "\n",
    "    def forward(self, x):\n",
    "        x = self.act1(self.conv1(x))\n",
    "        x = self.act2(self.conv2(x))\n",
    "        x = self.act3(self.conv3(x))\n",
    "        x = self.conv4(x)\n",
    "        return x"
   ]
  },
  {
   "cell_type": "code",
   "execution_count": 7,
   "metadata": {
    "id": "7tw3fRfnzBP0"
   },
   "outputs": [],
   "source": [
    "class LinearNorm(nn.Module):\n",
    "    def __init__(self, in_features, out_features):\n",
    "        super(LinearNorm, self).__init__()\n",
    "        self.linear = nn.Linear(in_features, out_features, bias=False)\n",
    "        self.bn = nn.BatchNorm1d(out_features)\n",
    "\n",
    "    def forward(self, x):\n",
    "\n",
    "        if x.dim() == 3:\n",
    "            B, N, C = x.shape\n",
    "            x = x.reshape(B * N, C)\n",
    "            x = self.bn(self.linear(x))\n",
    "            x = x.reshape(B, N, -1)\n",
    "        else:\n",
    "            x = self.bn(self.linear(x))\n",
    "        return x"
   ]
  },
  {
   "cell_type": "code",
   "execution_count": 8,
   "metadata": {
    "id": "rW7vhH2YzBP1"
   },
   "outputs": [],
   "source": [
    "class Attention(nn.Module):\n",
    "    def __init__(self, dim, num_heads, attn_ratio=2):\n",
    "        super(Attention, self).__init__()\n",
    "        self.num_heads = num_heads\n",
    "        head_dim = dim // num_heads\n",
    "        self.scale = head_dim ** -0.5\n",
    "        inner_dim = head_dim * num_heads * 3\n",
    "        self.qkv = LinearNorm(dim, inner_dim)\n",
    "\n",
    "        self.proj = nn.Sequential(\n",
    "            nn.Hardswish(),\n",
    "            LinearNorm(dim, dim)\n",
    "        )\n",
    "\n",
    "    def forward(self, x):\n",
    "        B, N, C = x.shape\n",
    "        qkv = self.qkv(x)\n",
    "        qkv = qkv.view(B, N, 3, self.num_heads, C // self.num_heads).permute(2, 0, 3, 1, 4)\n",
    "        q, k, v = qkv[0], qkv[1], qkv[2]\n",
    "        attn = (q @ k.transpose(-2, -1)) * self.scale\n",
    "        attn = attn.softmax(dim=-1)\n",
    "        x = (attn @ v).transpose(1, 2).reshape(B, N, C)\n",
    "        return self.proj(x)"
   ]
  },
  {
   "cell_type": "code",
   "execution_count": 9,
   "metadata": {
    "id": "ewOcRA2dzBP1"
   },
   "outputs": [],
   "source": [
    "class LevitMlp(nn.Module):\n",
    "    def __init__(self, in_features, hidden_features, out_features):\n",
    "        super(LevitMlp, self).__init__()\n",
    "        self.ln1 = LinearNorm(in_features, hidden_features)\n",
    "        self.act = nn.Hardswish()\n",
    "        self.drop = nn.Dropout(p=0.5, inplace=False)#dropout 적용\n",
    "        self.ln2 = LinearNorm(hidden_features, out_features)\n",
    "\n",
    "    def forward(self, x):\n",
    "        x = self.ln1(x)\n",
    "        x = self.act(x)\n",
    "        x = self.drop(x)\n",
    "        x = self.ln2(x)\n",
    "        return x"
   ]
  },
  {
   "cell_type": "code",
   "execution_count": 10,
   "metadata": {
    "id": "1m-F4YvfzBP2"
   },
   "outputs": [],
   "source": [
    "class LevitBlock(nn.Module):\n",
    "    def __init__(self, dim, num_heads, mlp_ratio=2):\n",
    "        super(LevitBlock, self).__init__()\n",
    "        self.attn = Attention(dim, num_heads)\n",
    "        self.drop_path1 = nn.Identity()\n",
    "        self.mlp = LevitMlp(dim, dim * mlp_ratio, dim)\n",
    "        self.drop_path2 = nn.Identity()\n",
    "\n",
    "    def forward(self, x):\n",
    "        x = x + self.drop_path1(self.attn(x))\n",
    "        x = x + self.drop_path2(self.mlp(x))\n",
    "        return x"
   ]
  },
  {
   "cell_type": "code",
   "execution_count": 11,
   "metadata": {
    "id": "pDfX1xE1zBP2"
   },
   "outputs": [],
   "source": [
    "# class AttentionDownsample(nn.Module):\n",
    "#     def __init__(self, dim, out_dim, num_heads, attn_ratio=2):\n",
    "#         super(AttentionDownsample, self).__init__()\n",
    "#         self.num_heads = num_heads\n",
    "#         self.scale = (dim // num_heads) ** -0.5\n",
    "#         inner_dim = dim * attn_ratio * num_heads\n",
    "#         self.kv = LinearNorm(dim, inner_dim)\n",
    "\n",
    "#         self.q = nn.Sequential(\n",
    "#             nn.Conv2d(dim, dim, kernel_size=2, stride=2),\n",
    "#             nn.Flatten(start_dim=1)\n",
    "#         )\n",
    "\n",
    "#         self.proj = nn.Sequential(\n",
    "#             nn.Hardswish(),\n",
    "#             LinearNorm(dim, out_dim)\n",
    "#         )\n",
    "\n",
    "#     def forward(self, x):\n",
    "#         B, N, C = x.shape\n",
    "#         H = W = int(N ** 0.5)\n",
    "#         x = x.reshape(B, C, H, W)\n",
    "\n",
    "#         kv = self.kv(x.flatten(2).transpose(1, 2))\n",
    "#         q = self.q(x)\n",
    "\n",
    "#         q = q.reshape(B, -1, C)\n",
    "#         x = self.proj(q)\n",
    "#         return x"
   ]
  },
  {
   "cell_type": "code",
   "execution_count": 12,
   "metadata": {
    "id": "Z26uegOwzBP2"
   },
   "outputs": [],
   "source": [
    "# class LevitDownsample(nn.Module):\n",
    "#     def __init__(self, dim, out_dim, num_heads, attn_ratio=2):\n",
    "#         super(LevitDownsample, self).__init__()\n",
    "#         self.attn_downsample = AttentionDownsample(dim, out_dim, num_heads, attn_ratio)\n",
    "#         self.mlp = LevitMlp(out_dim, out_dim * attn_ratio, out_dim)\n",
    "#         self.drop_path = nn.Identity()\n",
    "\n",
    "#     def forward(self, x):\n",
    "#         x = self.attn_downsample(x)\n",
    "#         x = self.drop_path(self.mlp(x))\n",
    "#         return x"
   ]
  },
  {
   "cell_type": "code",
   "execution_count": 13,
   "metadata": {
    "id": "p2DJrMeyJ2RO"
   },
   "outputs": [],
   "source": [
    "#CNNDownSample 적용\n",
    "class CNNDownsample(nn.Module):\n",
    "    def __init__(self, in_channels, out_channels):\n",
    "        super(CNNDownsample, self).__init__()\n",
    "        self.out_channels = out_channels\n",
    "        self.conv = nn.Conv2d(in_channels, out_channels, kernel_size=3, stride=2, padding=1)\n",
    "        self.act = nn.Hardswish()\n",
    "\n",
    "    def forward(self, x):\n",
    "        # print(x.shape)\n",
    "        B, N, C = x.shape # (B, N, C)  N=H*W (16 * 16 = 196)\n",
    "        H = int(np.sqrt(N))\n",
    "        x = x.view(B, H, H, C).permute(0, 3, 1, 2)\n",
    "        x = self.conv(x)\n",
    "        x = self.act(x)\n",
    "        x = x.permute(0, 2, 3, 1).view(B, -1, self.out_channels)\n",
    "        return x"
   ]
  },
  {
   "cell_type": "code",
   "execution_count": 14,
   "metadata": {
    "id": "oGsAuLPfzBP3"
   },
   "outputs": [],
   "source": [
    "class LevitStage(nn.Module):\n",
    "    def __init__(self, dim, out_dim, num_heads, num_blocks, downsample=True):\n",
    "        super(LevitStage, self).__init__()\n",
    "        self.downsample = CNNDownsample(dim, out_dim) if downsample else nn.Identity()\n",
    "        self.blocks = nn.Sequential(*[LevitBlock(out_dim, num_heads) for _ in range(num_blocks)])\n",
    "\n",
    "    def forward(self, x):\n",
    "        x = self.downsample(x)\n",
    "        x = self.blocks(x)\n",
    "        return x"
   ]
  },
  {
   "cell_type": "code",
   "execution_count": 15,
   "metadata": {
    "id": "2PBkdZUuhsDI"
   },
   "outputs": [],
   "source": [
    "class ConvLevitStage(nn.Module):\n",
    "    def __init__(self, in_channels, out_channels, num_blocks, kernel_size, stride, padding):\n",
    "        super(ConvLevitStage, self).__init__()\n",
    "        self.layers = nn.Sequential(\n",
    "            *[nn.Conv2d(in_channels if i == 0 else out_channels, out_channels, kernel_size, stride, padding)\n",
    "              for i in range(num_blocks)],\n",
    "            nn.BatchNorm2d(out_channels),\n",
    "            nn.ReLU(inplace=True)\n",
    "        )\n",
    "\n",
    "    def forward(self, x):\n",
    "        return self.layers(x)"
   ]
  },
  {
   "cell_type": "code",
   "execution_count": 16,
   "metadata": {
    "id": "bBPec4pbzBP3"
   },
   "outputs": [],
   "source": [
    "class NormLinear(nn.Module):\n",
    "    def __init__(self, in_features, out_features, dropout_prob=0.5):#drop_out_0.5 적용\n",
    "        super(NormLinear, self).__init__()\n",
    "        self.bn = nn.BatchNorm1d(in_features)\n",
    "        self.drop = nn.Dropout(p=dropout_prob, inplace=False)\n",
    "        self.linear = nn.Linear(in_features, out_features, bias=True)\n",
    "\n",
    "    def forward(self, x):\n",
    "        x = self.bn(x)\n",
    "        x = self.drop(x)\n",
    "        x = self.linear(x)\n",
    "        return x\n"
   ]
  },
  {
   "cell_type": "code",
   "execution_count": 17,
   "metadata": {
    "id": "mt5kkekezBP3"
   },
   "outputs": [],
   "source": [
    "class LevitDistilled(nn.Module):\n",
    "    def __init__(self, num_classes=37):\n",
    "        super(LevitDistilled, self).__init__()\n",
    "\n",
    "        self.stem = Stem16()\n",
    "\n",
    "        self.stage1 = LevitStage(dim=256, out_dim=256, num_heads=4, num_blocks=2, downsample=False) # block 수 적용\n",
    "        self.stage2 = LevitStage(dim=256, out_dim=384, num_heads=6, num_blocks=2, downsample=True)\n",
    "\n",
    "        self.conv1x1 = nn.Sequential(\n",
    "            nn.Conv2d(384, 512, kernel_size=1, stride=1, padding=0),\n",
    "            nn.BatchNorm2d(512),\n",
    "            nn.ReLU(inplace=True)\n",
    "        )\n",
    "\n",
    "        self.head = NormLinear(in_features=512, out_features=num_classes, dropout_prob=0.0)\n",
    "        self.head_dist = NormLinear(in_features=512, out_features=num_classes, dropout_prob=0.0)\n",
    "\n",
    "    def forward(self, x):\n",
    "        x = self.stem(x)\n",
    "\n",
    "        B, C, H, W = x.shape\n",
    "        x = x.view(B, C, -1).transpose(1, 2)\n",
    "        x = self.stage1(x)\n",
    "        x = self.stage2(x)\n",
    "\n",
    "        H = W = int(x.shape[1]**0.5)\n",
    "        x = x.transpose(1, 2).view(B, 384, H, W)\n",
    "\n",
    "        x = self.conv1x1(x)\n",
    "\n",
    "        x = torch.mean(x, dim=(2, 3))\n",
    "        out = self.head(x)\n",
    "        out_dist = self.head_dist(x)\n",
    "        return out"
   ]
  },
  {
   "cell_type": "code",
   "execution_count": 18,
   "metadata": {
    "colab": {
     "base_uri": "https://localhost:8080/"
    },
    "id": "kz4Um3NmzBP3",
    "outputId": "6dcb4967-531d-42a9-b15f-f43671293027"
   },
   "outputs": [
    {
     "name": "stdout",
     "output_type": "stream",
     "text": [
      "LevitDistilled(\n",
      "  (stem): Stem16(\n",
      "    (conv1): ConvNorm(\n",
      "      (linear): Conv2d(3, 32, kernel_size=(3, 3), stride=(2, 2), padding=(1, 1), bias=False)\n",
      "      (bn): BatchNorm2d(32, eps=1e-05, momentum=0.1, affine=True, track_running_stats=True)\n",
      "    )\n",
      "    (act1): Hardswish()\n",
      "    (conv2): ConvNorm(\n",
      "      (linear): Conv2d(32, 64, kernel_size=(3, 3), stride=(2, 2), padding=(1, 1), bias=False)\n",
      "      (bn): BatchNorm2d(64, eps=1e-05, momentum=0.1, affine=True, track_running_stats=True)\n",
      "    )\n",
      "    (act2): Hardswish()\n",
      "    (conv3): ConvNorm(\n",
      "      (linear): Conv2d(64, 128, kernel_size=(3, 3), stride=(2, 2), padding=(1, 1), bias=False)\n",
      "      (bn): BatchNorm2d(128, eps=1e-05, momentum=0.1, affine=True, track_running_stats=True)\n",
      "    )\n",
      "    (act3): Hardswish()\n",
      "    (conv4): ConvNorm(\n",
      "      (linear): Conv2d(128, 256, kernel_size=(3, 3), stride=(2, 2), padding=(1, 1), bias=False)\n",
      "      (bn): BatchNorm2d(256, eps=1e-05, momentum=0.1, affine=True, track_running_stats=True)\n",
      "    )\n",
      "  )\n",
      "  (stage1): LevitStage(\n",
      "    (downsample): Identity()\n",
      "    (blocks): Sequential(\n",
      "      (0): LevitBlock(\n",
      "        (attn): Attention(\n",
      "          (qkv): LinearNorm(\n",
      "            (linear): Linear(in_features=256, out_features=768, bias=False)\n",
      "            (bn): BatchNorm1d(768, eps=1e-05, momentum=0.1, affine=True, track_running_stats=True)\n",
      "          )\n",
      "          (proj): Sequential(\n",
      "            (0): Hardswish()\n",
      "            (1): LinearNorm(\n",
      "              (linear): Linear(in_features=256, out_features=256, bias=False)\n",
      "              (bn): BatchNorm1d(256, eps=1e-05, momentum=0.1, affine=True, track_running_stats=True)\n",
      "            )\n",
      "          )\n",
      "        )\n",
      "        (drop_path1): Identity()\n",
      "        (mlp): LevitMlp(\n",
      "          (ln1): LinearNorm(\n",
      "            (linear): Linear(in_features=256, out_features=512, bias=False)\n",
      "            (bn): BatchNorm1d(512, eps=1e-05, momentum=0.1, affine=True, track_running_stats=True)\n",
      "          )\n",
      "          (act): Hardswish()\n",
      "          (drop): Dropout(p=0.5, inplace=False)\n",
      "          (ln2): LinearNorm(\n",
      "            (linear): Linear(in_features=512, out_features=256, bias=False)\n",
      "            (bn): BatchNorm1d(256, eps=1e-05, momentum=0.1, affine=True, track_running_stats=True)\n",
      "          )\n",
      "        )\n",
      "        (drop_path2): Identity()\n",
      "      )\n",
      "      (1): LevitBlock(\n",
      "        (attn): Attention(\n",
      "          (qkv): LinearNorm(\n",
      "            (linear): Linear(in_features=256, out_features=768, bias=False)\n",
      "            (bn): BatchNorm1d(768, eps=1e-05, momentum=0.1, affine=True, track_running_stats=True)\n",
      "          )\n",
      "          (proj): Sequential(\n",
      "            (0): Hardswish()\n",
      "            (1): LinearNorm(\n",
      "              (linear): Linear(in_features=256, out_features=256, bias=False)\n",
      "              (bn): BatchNorm1d(256, eps=1e-05, momentum=0.1, affine=True, track_running_stats=True)\n",
      "            )\n",
      "          )\n",
      "        )\n",
      "        (drop_path1): Identity()\n",
      "        (mlp): LevitMlp(\n",
      "          (ln1): LinearNorm(\n",
      "            (linear): Linear(in_features=256, out_features=512, bias=False)\n",
      "            (bn): BatchNorm1d(512, eps=1e-05, momentum=0.1, affine=True, track_running_stats=True)\n",
      "          )\n",
      "          (act): Hardswish()\n",
      "          (drop): Dropout(p=0.5, inplace=False)\n",
      "          (ln2): LinearNorm(\n",
      "            (linear): Linear(in_features=512, out_features=256, bias=False)\n",
      "            (bn): BatchNorm1d(256, eps=1e-05, momentum=0.1, affine=True, track_running_stats=True)\n",
      "          )\n",
      "        )\n",
      "        (drop_path2): Identity()\n",
      "      )\n",
      "    )\n",
      "  )\n",
      "  (stage2): LevitStage(\n",
      "    (downsample): CNNDownsample(\n",
      "      (conv): Conv2d(256, 384, kernel_size=(3, 3), stride=(2, 2), padding=(1, 1))\n",
      "      (act): Hardswish()\n",
      "    )\n",
      "    (blocks): Sequential(\n",
      "      (0): LevitBlock(\n",
      "        (attn): Attention(\n",
      "          (qkv): LinearNorm(\n",
      "            (linear): Linear(in_features=384, out_features=1152, bias=False)\n",
      "            (bn): BatchNorm1d(1152, eps=1e-05, momentum=0.1, affine=True, track_running_stats=True)\n",
      "          )\n",
      "          (proj): Sequential(\n",
      "            (0): Hardswish()\n",
      "            (1): LinearNorm(\n",
      "              (linear): Linear(in_features=384, out_features=384, bias=False)\n",
      "              (bn): BatchNorm1d(384, eps=1e-05, momentum=0.1, affine=True, track_running_stats=True)\n",
      "            )\n",
      "          )\n",
      "        )\n",
      "        (drop_path1): Identity()\n",
      "        (mlp): LevitMlp(\n",
      "          (ln1): LinearNorm(\n",
      "            (linear): Linear(in_features=384, out_features=768, bias=False)\n",
      "            (bn): BatchNorm1d(768, eps=1e-05, momentum=0.1, affine=True, track_running_stats=True)\n",
      "          )\n",
      "          (act): Hardswish()\n",
      "          (drop): Dropout(p=0.5, inplace=False)\n",
      "          (ln2): LinearNorm(\n",
      "            (linear): Linear(in_features=768, out_features=384, bias=False)\n",
      "            (bn): BatchNorm1d(384, eps=1e-05, momentum=0.1, affine=True, track_running_stats=True)\n",
      "          )\n",
      "        )\n",
      "        (drop_path2): Identity()\n",
      "      )\n",
      "      (1): LevitBlock(\n",
      "        (attn): Attention(\n",
      "          (qkv): LinearNorm(\n",
      "            (linear): Linear(in_features=384, out_features=1152, bias=False)\n",
      "            (bn): BatchNorm1d(1152, eps=1e-05, momentum=0.1, affine=True, track_running_stats=True)\n",
      "          )\n",
      "          (proj): Sequential(\n",
      "            (0): Hardswish()\n",
      "            (1): LinearNorm(\n",
      "              (linear): Linear(in_features=384, out_features=384, bias=False)\n",
      "              (bn): BatchNorm1d(384, eps=1e-05, momentum=0.1, affine=True, track_running_stats=True)\n",
      "            )\n",
      "          )\n",
      "        )\n",
      "        (drop_path1): Identity()\n",
      "        (mlp): LevitMlp(\n",
      "          (ln1): LinearNorm(\n",
      "            (linear): Linear(in_features=384, out_features=768, bias=False)\n",
      "            (bn): BatchNorm1d(768, eps=1e-05, momentum=0.1, affine=True, track_running_stats=True)\n",
      "          )\n",
      "          (act): Hardswish()\n",
      "          (drop): Dropout(p=0.5, inplace=False)\n",
      "          (ln2): LinearNorm(\n",
      "            (linear): Linear(in_features=768, out_features=384, bias=False)\n",
      "            (bn): BatchNorm1d(384, eps=1e-05, momentum=0.1, affine=True, track_running_stats=True)\n",
      "          )\n",
      "        )\n",
      "        (drop_path2): Identity()\n",
      "      )\n",
      "    )\n",
      "  )\n",
      "  (conv1x1): Sequential(\n",
      "    (0): Conv2d(384, 512, kernel_size=(1, 1), stride=(1, 1))\n",
      "    (1): BatchNorm2d(512, eps=1e-05, momentum=0.1, affine=True, track_running_stats=True)\n",
      "    (2): ReLU(inplace=True)\n",
      "  )\n",
      "  (head): NormLinear(\n",
      "    (bn): BatchNorm1d(512, eps=1e-05, momentum=0.1, affine=True, track_running_stats=True)\n",
      "    (drop): Dropout(p=0.0, inplace=False)\n",
      "    (linear): Linear(in_features=512, out_features=37, bias=True)\n",
      "  )\n",
      "  (head_dist): NormLinear(\n",
      "    (bn): BatchNorm1d(512, eps=1e-05, momentum=0.1, affine=True, track_running_stats=True)\n",
      "    (drop): Dropout(p=0.0, inplace=False)\n",
      "    (linear): Linear(in_features=512, out_features=37, bias=True)\n",
      "  )\n",
      ")\n"
     ]
    }
   ],
   "source": [
    "model = LevitDistilled()\n",
    "# model = LauncherModel()\n",
    "print(model)\n",
    "\n",
    "device = torch.device(\"cuda\" if torch.cuda.is_available() else \"cpu\")\n",
    "model = model.to(device)\n",
    "\n",
    "batch_size = 32\n",
    "learning_rate = 0.001\n",
    "num_epochs = 50"
   ]
  },
  {
   "cell_type": "code",
   "execution_count": 19,
   "metadata": {
    "colab": {
     "base_uri": "https://localhost:8080/"
    },
    "id": "bmb6Hs2cO5_F",
    "outputId": "488b75fe-7e0a-44ad-b7f4-ce6e1c0ab662"
   },
   "outputs": [
    {
     "name": "stdout",
     "output_type": "stream",
     "text": [
      "=========================================================================================================\n",
      "Layer (type:depth-idx)                                  Output Shape              Param #\n",
      "=========================================================================================================\n",
      "LevitDistilled                                          [32, 37]                  --\n",
      "├─Stem16: 1-1                                           [32, 256, 14, 14]         --\n",
      "│    └─ConvNorm: 2-1                                    [32, 32, 112, 112]        --\n",
      "│    │    └─Conv2d: 3-1                                 [32, 32, 112, 112]        864\n",
      "│    │    └─BatchNorm2d: 3-2                            [32, 32, 112, 112]        64\n",
      "│    └─Hardswish: 2-2                                   [32, 32, 112, 112]        --\n",
      "│    └─ConvNorm: 2-3                                    [32, 64, 56, 56]          --\n",
      "│    │    └─Conv2d: 3-3                                 [32, 64, 56, 56]          18,432\n",
      "│    │    └─BatchNorm2d: 3-4                            [32, 64, 56, 56]          128\n",
      "│    └─Hardswish: 2-4                                   [32, 64, 56, 56]          --\n",
      "│    └─ConvNorm: 2-5                                    [32, 128, 28, 28]         --\n",
      "│    │    └─Conv2d: 3-5                                 [32, 128, 28, 28]         73,728\n",
      "│    │    └─BatchNorm2d: 3-6                            [32, 128, 28, 28]         256\n",
      "│    └─Hardswish: 2-6                                   [32, 128, 28, 28]         --\n",
      "│    └─ConvNorm: 2-7                                    [32, 256, 14, 14]         --\n",
      "│    │    └─Conv2d: 3-7                                 [32, 256, 14, 14]         294,912\n",
      "│    │    └─BatchNorm2d: 3-8                            [32, 256, 14, 14]         512\n",
      "├─LevitStage: 1-2                                       [32, 196, 256]            --\n",
      "│    └─Identity: 2-8                                    [32, 196, 256]            --\n",
      "│    └─Sequential: 2-9                                  [32, 196, 256]            --\n",
      "│    │    └─LevitBlock: 3-9                             [32, 196, 256]            527,872\n",
      "│    │    └─LevitBlock: 3-10                            [32, 196, 256]            527,872\n",
      "├─LevitStage: 1-3                                       [32, 49, 384]             --\n",
      "│    └─CNNDownsample: 2-10                              [32, 49, 384]             --\n",
      "│    │    └─Conv2d: 3-11                                [32, 384, 7, 7]           885,120\n",
      "│    │    └─Hardswish: 3-12                             [32, 384, 7, 7]           --\n",
      "│    └─Sequential: 2-11                                 [32, 49, 384]             --\n",
      "│    │    └─LevitBlock: 3-13                            [32, 49, 384]             1,185,024\n",
      "│    │    └─LevitBlock: 3-14                            [32, 49, 384]             1,185,024\n",
      "├─Sequential: 1-4                                       [32, 512, 7, 7]           --\n",
      "│    └─Conv2d: 2-12                                     [32, 512, 7, 7]           197,120\n",
      "│    └─BatchNorm2d: 2-13                                [32, 512, 7, 7]           1,024\n",
      "│    └─ReLU: 2-14                                       [32, 512, 7, 7]           --\n",
      "├─NormLinear: 1-5                                       [32, 37]                  --\n",
      "│    └─BatchNorm1d: 2-15                                [32, 512]                 1,024\n",
      "│    └─Dropout: 2-16                                    [32, 512]                 --\n",
      "│    └─Linear: 2-17                                     [32, 37]                  18,981\n",
      "├─NormLinear: 1-6                                       [32, 37]                  --\n",
      "│    └─BatchNorm1d: 2-18                                [32, 512]                 1,024\n",
      "│    └─Dropout: 2-19                                    [32, 512]                 --\n",
      "│    └─Linear: 2-20                                     [32, 37]                  18,981\n",
      "=========================================================================================================\n",
      "Total params: 4,937,962\n",
      "Trainable params: 4,937,962\n",
      "Non-trainable params: 0\n",
      "Total mult-adds (G): 17.93\n",
      "=========================================================================================================\n",
      "Input size (MB): 19.27\n",
      "Forward/backward pass size (MB): 897.83\n",
      "Params size (MB): 19.75\n",
      "Estimated Total Size (MB): 936.85\n",
      "=========================================================================================================\n"
     ]
    }
   ],
   "source": [
    "print(summary(model, input_size=(32, 3, 224, 224)))"
   ]
  },
  {
   "cell_type": "code",
   "execution_count": 20,
   "metadata": {
    "colab": {
     "base_uri": "https://localhost:8080/"
    },
    "id": "M7rBknzRzBP3",
    "outputId": "13f79afe-fbcd-4146-b9f9-558d0ff13ab4"
   },
   "outputs": [
    {
     "name": "stdout",
     "output_type": "stream",
     "text": [
      "=========================================================================================================\n",
      "Layer (type:depth-idx)                                  Output Shape              Param #\n",
      "=========================================================================================================\n",
      "LevitDistilled                                          [32, 37]                  --\n",
      "├─Stem16: 1-1                                           [32, 256, 14, 14]         --\n",
      "│    └─conv1.linear.weight                                                        ├─864\n",
      "│    └─conv1.bn.weight                                                            ├─32\n",
      "│    └─conv1.bn.bias                                                              ├─32\n",
      "│    └─conv2.linear.weight                                                        ├─18,432\n",
      "│    └─conv2.bn.weight                                                            ├─64\n",
      "│    └─conv2.bn.bias                                                              ├─64\n",
      "│    └─conv3.linear.weight                                                        ├─73,728\n",
      "│    └─conv3.bn.weight                                                            ├─128\n",
      "│    └─conv3.bn.bias                                                              ├─128\n",
      "│    └─conv4.linear.weight                                                        ├─294,912\n",
      "│    └─conv4.bn.weight                                                            ├─256\n",
      "│    └─conv4.bn.bias                                                              └─256\n",
      "│    └─ConvNorm: 2-1                                    [32, 32, 112, 112]        --\n",
      "│    │    └─linear.weight                                                         ├─864\n",
      "│    │    └─bn.weight                                                             ├─32\n",
      "│    │    └─bn.bias                                                               └─32\n",
      "│    │    └─Conv2d: 3-1                                 [32, 32, 112, 112]        864\n",
      "│    │    │    └─weight                                                           └─864\n",
      "│    │    └─BatchNorm2d: 3-2                            [32, 32, 112, 112]        64\n",
      "│    │    │    └─weight                                                           ├─32\n",
      "│    │    │    └─bias                                                             └─32\n",
      "│    └─Hardswish: 2-2                                   [32, 32, 112, 112]        --\n",
      "│    └─ConvNorm: 2-3                                    [32, 64, 56, 56]          --\n",
      "│    │    └─linear.weight                                                         ├─18,432\n",
      "│    │    └─bn.weight                                                             ├─64\n",
      "│    │    └─bn.bias                                                               └─64\n",
      "│    │    └─Conv2d: 3-3                                 [32, 64, 56, 56]          18,432\n",
      "│    │    │    └─weight                                                           └─18,432\n",
      "│    │    └─BatchNorm2d: 3-4                            [32, 64, 56, 56]          128\n",
      "│    │    │    └─weight                                                           ├─64\n",
      "│    │    │    └─bias                                                             └─64\n",
      "│    └─Hardswish: 2-4                                   [32, 64, 56, 56]          --\n",
      "│    └─ConvNorm: 2-5                                    [32, 128, 28, 28]         --\n",
      "│    │    └─linear.weight                                                         ├─73,728\n",
      "│    │    └─bn.weight                                                             ├─128\n",
      "│    │    └─bn.bias                                                               └─128\n",
      "│    │    └─Conv2d: 3-5                                 [32, 128, 28, 28]         73,728\n",
      "│    │    │    └─weight                                                           └─73,728\n",
      "│    │    └─BatchNorm2d: 3-6                            [32, 128, 28, 28]         256\n",
      "│    │    │    └─weight                                                           ├─128\n",
      "│    │    │    └─bias                                                             └─128\n",
      "│    └─Hardswish: 2-6                                   [32, 128, 28, 28]         --\n",
      "│    └─ConvNorm: 2-7                                    [32, 256, 14, 14]         --\n",
      "│    │    └─linear.weight                                                         ├─294,912\n",
      "│    │    └─bn.weight                                                             ├─256\n",
      "│    │    └─bn.bias                                                               └─256\n",
      "│    │    └─Conv2d: 3-7                                 [32, 256, 14, 14]         294,912\n",
      "│    │    │    └─weight                                                           └─294,912\n",
      "│    │    └─BatchNorm2d: 3-8                            [32, 256, 14, 14]         512\n",
      "│    │    │    └─weight                                                           ├─256\n",
      "│    │    │    └─bias                                                             └─256\n",
      "├─LevitStage: 1-2                                       [32, 196, 256]            --\n",
      "│    └─blocks.0.attn.qkv.linear.weight                                            ├─196,608\n",
      "│    └─blocks.0.attn.qkv.bn.weight                                                ├─768\n",
      "│    └─blocks.0.attn.qkv.bn.bias                                                  ├─768\n",
      "│    └─blocks.0.attn.proj.1.linear.weight                                         ├─65,536\n",
      "│    └─blocks.0.attn.proj.1.bn.weight                                             ├─256\n",
      "│    └─blocks.0.attn.proj.1.bn.bias                                               ├─256\n",
      "│    └─blocks.0.mlp.ln1.linear.weight                                             ├─131,072\n",
      "│    └─blocks.0.mlp.ln1.bn.weight                                                 ├─512\n",
      "│    └─blocks.0.mlp.ln1.bn.bias                                                   ├─512\n",
      "│    └─blocks.0.mlp.ln2.linear.weight                                             ├─131,072\n",
      "│    └─blocks.0.mlp.ln2.bn.weight                                                 ├─256\n",
      "│    └─blocks.0.mlp.ln2.bn.bias                                                   ├─256\n",
      "│    └─blocks.1.attn.qkv.linear.weight                                            ├─196,608\n",
      "│    └─blocks.1.attn.qkv.bn.weight                                                ├─768\n",
      "│    └─blocks.1.attn.qkv.bn.bias                                                  ├─768\n",
      "│    └─blocks.1.attn.proj.1.linear.weight                                         ├─65,536\n",
      "│    └─blocks.1.attn.proj.1.bn.weight                                             ├─256\n",
      "│    └─blocks.1.attn.proj.1.bn.bias                                               ├─256\n",
      "│    └─blocks.1.mlp.ln1.linear.weight                                             ├─131,072\n",
      "│    └─blocks.1.mlp.ln1.bn.weight                                                 ├─512\n",
      "│    └─blocks.1.mlp.ln1.bn.bias                                                   ├─512\n",
      "│    └─blocks.1.mlp.ln2.linear.weight                                             ├─131,072\n",
      "│    └─blocks.1.mlp.ln2.bn.weight                                                 ├─256\n",
      "│    └─blocks.1.mlp.ln2.bn.bias                                                   └─256\n",
      "│    └─Identity: 2-8                                    [32, 196, 256]            --\n",
      "│    └─Sequential: 2-9                                  [32, 196, 256]            --\n",
      "│    │    └─0.attn.qkv.linear.weight                                              ├─196,608\n",
      "│    │    └─0.attn.qkv.bn.weight                                                  ├─768\n",
      "│    │    └─0.attn.qkv.bn.bias                                                    ├─768\n",
      "│    │    └─0.attn.proj.1.linear.weight                                           ├─65,536\n",
      "│    │    └─0.attn.proj.1.bn.weight                                               ├─256\n",
      "│    │    └─0.attn.proj.1.bn.bias                                                 ├─256\n",
      "│    │    └─0.mlp.ln1.linear.weight                                               ├─131,072\n",
      "│    │    └─0.mlp.ln1.bn.weight                                                   ├─512\n",
      "│    │    └─0.mlp.ln1.bn.bias                                                     ├─512\n",
      "│    │    └─0.mlp.ln2.linear.weight                                               ├─131,072\n",
      "│    │    └─0.mlp.ln2.bn.weight                                                   ├─256\n",
      "│    │    └─0.mlp.ln2.bn.bias                                                     ├─256\n",
      "│    │    └─1.attn.qkv.linear.weight                                              ├─196,608\n",
      "│    │    └─1.attn.qkv.bn.weight                                                  ├─768\n",
      "│    │    └─1.attn.qkv.bn.bias                                                    ├─768\n",
      "│    │    └─1.attn.proj.1.linear.weight                                           ├─65,536\n",
      "│    │    └─1.attn.proj.1.bn.weight                                               ├─256\n",
      "│    │    └─1.attn.proj.1.bn.bias                                                 ├─256\n",
      "│    │    └─1.mlp.ln1.linear.weight                                               ├─131,072\n",
      "│    │    └─1.mlp.ln1.bn.weight                                                   ├─512\n",
      "│    │    └─1.mlp.ln1.bn.bias                                                     ├─512\n",
      "│    │    └─1.mlp.ln2.linear.weight                                               ├─131,072\n",
      "│    │    └─1.mlp.ln2.bn.weight                                                   ├─256\n",
      "│    │    └─1.mlp.ln2.bn.bias                                                     └─256\n",
      "│    │    └─LevitBlock: 3-9                             [32, 196, 256]            527,872\n",
      "│    │    │    └─attn.qkv.linear.weight                                           ├─196,608\n",
      "│    │    │    └─attn.qkv.bn.weight                                               ├─768\n",
      "│    │    │    └─attn.qkv.bn.bias                                                 ├─768\n",
      "│    │    │    └─attn.proj.1.linear.weight                                        ├─65,536\n",
      "│    │    │    └─attn.proj.1.bn.weight                                            ├─256\n",
      "│    │    │    └─attn.proj.1.bn.bias                                              ├─256\n",
      "│    │    │    └─mlp.ln1.linear.weight                                            ├─131,072\n",
      "│    │    │    └─mlp.ln1.bn.weight                                                ├─512\n",
      "│    │    │    └─mlp.ln1.bn.bias                                                  ├─512\n",
      "│    │    │    └─mlp.ln2.linear.weight                                            ├─131,072\n",
      "│    │    │    └─mlp.ln2.bn.weight                                                ├─256\n",
      "│    │    │    └─mlp.ln2.bn.bias                                                  └─256\n",
      "│    │    └─LevitBlock: 3-10                            [32, 196, 256]            527,872\n",
      "│    │    │    └─attn.qkv.linear.weight                                           ├─196,608\n",
      "│    │    │    └─attn.qkv.bn.weight                                               ├─768\n",
      "│    │    │    └─attn.qkv.bn.bias                                                 ├─768\n",
      "│    │    │    └─attn.proj.1.linear.weight                                        ├─65,536\n",
      "│    │    │    └─attn.proj.1.bn.weight                                            ├─256\n",
      "│    │    │    └─attn.proj.1.bn.bias                                              ├─256\n",
      "│    │    │    └─mlp.ln1.linear.weight                                            ├─131,072\n",
      "│    │    │    └─mlp.ln1.bn.weight                                                ├─512\n",
      "│    │    │    └─mlp.ln1.bn.bias                                                  ├─512\n",
      "│    │    │    └─mlp.ln2.linear.weight                                            ├─131,072\n",
      "│    │    │    └─mlp.ln2.bn.weight                                                ├─256\n",
      "│    │    │    └─mlp.ln2.bn.bias                                                  └─256\n",
      "├─LevitStage: 1-3                                       [32, 49, 384]             --\n",
      "│    └─downsample.conv.weight                                                     ├─884,736\n",
      "│    └─downsample.conv.bias                                                       ├─384\n",
      "│    └─blocks.0.attn.qkv.linear.weight                                            ├─442,368\n",
      "│    └─blocks.0.attn.qkv.bn.weight                                                ├─1,152\n",
      "│    └─blocks.0.attn.qkv.bn.bias                                                  ├─1,152\n",
      "│    └─blocks.0.attn.proj.1.linear.weight                                         ├─147,456\n",
      "│    └─blocks.0.attn.proj.1.bn.weight                                             ├─384\n",
      "│    └─blocks.0.attn.proj.1.bn.bias                                               ├─384\n",
      "│    └─blocks.0.mlp.ln1.linear.weight                                             ├─294,912\n",
      "│    └─blocks.0.mlp.ln1.bn.weight                                                 ├─768\n",
      "│    └─blocks.0.mlp.ln1.bn.bias                                                   ├─768\n",
      "│    └─blocks.0.mlp.ln2.linear.weight                                             ├─294,912\n",
      "│    └─blocks.0.mlp.ln2.bn.weight                                                 ├─384\n",
      "│    └─blocks.0.mlp.ln2.bn.bias                                                   ├─384\n",
      "│    └─blocks.1.attn.qkv.linear.weight                                            ├─442,368\n",
      "│    └─blocks.1.attn.qkv.bn.weight                                                ├─1,152\n",
      "│    └─blocks.1.attn.qkv.bn.bias                                                  ├─1,152\n",
      "│    └─blocks.1.attn.proj.1.linear.weight                                         ├─147,456\n",
      "│    └─blocks.1.attn.proj.1.bn.weight                                             ├─384\n",
      "│    └─blocks.1.attn.proj.1.bn.bias                                               ├─384\n",
      "│    └─blocks.1.mlp.ln1.linear.weight                                             ├─294,912\n",
      "│    └─blocks.1.mlp.ln1.bn.weight                                                 ├─768\n",
      "│    └─blocks.1.mlp.ln1.bn.bias                                                   ├─768\n",
      "│    └─blocks.1.mlp.ln2.linear.weight                                             ├─294,912\n",
      "│    └─blocks.1.mlp.ln2.bn.weight                                                 ├─384\n",
      "│    └─blocks.1.mlp.ln2.bn.bias                                                   └─384\n",
      "│    └─CNNDownsample: 2-10                              [32, 49, 384]             --\n",
      "│    │    └─conv.weight                                                           ├─884,736\n",
      "│    │    └─conv.bias                                                             └─384\n",
      "│    │    └─Conv2d: 3-11                                [32, 384, 7, 7]           885,120\n",
      "│    │    │    └─weight                                                           ├─884,736\n",
      "│    │    │    └─bias                                                             └─384\n",
      "│    │    └─Hardswish: 3-12                             [32, 384, 7, 7]           --\n",
      "│    └─Sequential: 2-11                                 [32, 49, 384]             --\n",
      "│    │    └─0.attn.qkv.linear.weight                                              ├─442,368\n",
      "│    │    └─0.attn.qkv.bn.weight                                                  ├─1,152\n",
      "│    │    └─0.attn.qkv.bn.bias                                                    ├─1,152\n",
      "│    │    └─0.attn.proj.1.linear.weight                                           ├─147,456\n",
      "│    │    └─0.attn.proj.1.bn.weight                                               ├─384\n",
      "│    │    └─0.attn.proj.1.bn.bias                                                 ├─384\n",
      "│    │    └─0.mlp.ln1.linear.weight                                               ├─294,912\n",
      "│    │    └─0.mlp.ln1.bn.weight                                                   ├─768\n",
      "│    │    └─0.mlp.ln1.bn.bias                                                     ├─768\n",
      "│    │    └─0.mlp.ln2.linear.weight                                               ├─294,912\n",
      "│    │    └─0.mlp.ln2.bn.weight                                                   ├─384\n",
      "│    │    └─0.mlp.ln2.bn.bias                                                     ├─384\n",
      "│    │    └─1.attn.qkv.linear.weight                                              ├─442,368\n",
      "│    │    └─1.attn.qkv.bn.weight                                                  ├─1,152\n",
      "│    │    └─1.attn.qkv.bn.bias                                                    ├─1,152\n",
      "│    │    └─1.attn.proj.1.linear.weight                                           ├─147,456\n",
      "│    │    └─1.attn.proj.1.bn.weight                                               ├─384\n",
      "│    │    └─1.attn.proj.1.bn.bias                                                 ├─384\n",
      "│    │    └─1.mlp.ln1.linear.weight                                               ├─294,912\n",
      "│    │    └─1.mlp.ln1.bn.weight                                                   ├─768\n",
      "│    │    └─1.mlp.ln1.bn.bias                                                     ├─768\n",
      "│    │    └─1.mlp.ln2.linear.weight                                               ├─294,912\n",
      "│    │    └─1.mlp.ln2.bn.weight                                                   ├─384\n",
      "│    │    └─1.mlp.ln2.bn.bias                                                     └─384\n",
      "│    │    └─LevitBlock: 3-13                            [32, 49, 384]             1,185,024\n",
      "│    │    │    └─attn.qkv.linear.weight                                           ├─442,368\n",
      "│    │    │    └─attn.qkv.bn.weight                                               ├─1,152\n",
      "│    │    │    └─attn.qkv.bn.bias                                                 ├─1,152\n",
      "│    │    │    └─attn.proj.1.linear.weight                                        ├─147,456\n",
      "│    │    │    └─attn.proj.1.bn.weight                                            ├─384\n",
      "│    │    │    └─attn.proj.1.bn.bias                                              ├─384\n",
      "│    │    │    └─mlp.ln1.linear.weight                                            ├─294,912\n",
      "│    │    │    └─mlp.ln1.bn.weight                                                ├─768\n",
      "│    │    │    └─mlp.ln1.bn.bias                                                  ├─768\n",
      "│    │    │    └─mlp.ln2.linear.weight                                            ├─294,912\n",
      "│    │    │    └─mlp.ln2.bn.weight                                                ├─384\n",
      "│    │    │    └─mlp.ln2.bn.bias                                                  └─384\n",
      "│    │    └─LevitBlock: 3-14                            [32, 49, 384]             1,185,024\n",
      "│    │    │    └─attn.qkv.linear.weight                                           ├─442,368\n",
      "│    │    │    └─attn.qkv.bn.weight                                               ├─1,152\n",
      "│    │    │    └─attn.qkv.bn.bias                                                 ├─1,152\n",
      "│    │    │    └─attn.proj.1.linear.weight                                        ├─147,456\n",
      "│    │    │    └─attn.proj.1.bn.weight                                            ├─384\n",
      "│    │    │    └─attn.proj.1.bn.bias                                              ├─384\n",
      "│    │    │    └─mlp.ln1.linear.weight                                            ├─294,912\n",
      "│    │    │    └─mlp.ln1.bn.weight                                                ├─768\n",
      "│    │    │    └─mlp.ln1.bn.bias                                                  ├─768\n",
      "│    │    │    └─mlp.ln2.linear.weight                                            ├─294,912\n",
      "│    │    │    └─mlp.ln2.bn.weight                                                ├─384\n",
      "│    │    │    └─mlp.ln2.bn.bias                                                  └─384\n",
      "├─Sequential: 1-4                                       [32, 512, 7, 7]           --\n",
      "│    └─0.weight                                                                   ├─196,608\n",
      "│    └─0.bias                                                                     ├─512\n",
      "│    └─1.weight                                                                   ├─512\n",
      "│    └─1.bias                                                                     └─512\n",
      "│    └─Conv2d: 2-12                                     [32, 512, 7, 7]           197,120\n",
      "│    │    └─weight                                                                ├─196,608\n",
      "│    │    └─bias                                                                  └─512\n",
      "│    └─BatchNorm2d: 2-13                                [32, 512, 7, 7]           1,024\n",
      "│    │    └─weight                                                                ├─512\n",
      "│    │    └─bias                                                                  └─512\n",
      "│    └─ReLU: 2-14                                       [32, 512, 7, 7]           --\n",
      "├─NormLinear: 1-5                                       [32, 37]                  --\n",
      "│    └─bn.weight                                                                  ├─512\n",
      "│    └─bn.bias                                                                    ├─512\n",
      "│    └─linear.weight                                                              ├─18,944\n",
      "│    └─linear.bias                                                                └─37\n",
      "│    └─BatchNorm1d: 2-15                                [32, 512]                 1,024\n",
      "│    │    └─weight                                                                ├─512\n",
      "│    │    └─bias                                                                  └─512\n",
      "│    └─Dropout: 2-16                                    [32, 512]                 --\n",
      "│    └─Linear: 2-17                                     [32, 37]                  18,981\n",
      "│    │    └─weight                                                                ├─18,944\n",
      "│    │    └─bias                                                                  └─37\n",
      "├─NormLinear: 1-6                                       [32, 37]                  --\n",
      "│    └─bn.weight                                                                  ├─512\n",
      "│    └─bn.bias                                                                    ├─512\n",
      "│    └─linear.weight                                                              ├─18,944\n",
      "│    └─linear.bias                                                                └─37\n",
      "│    └─BatchNorm1d: 2-18                                [32, 512]                 1,024\n",
      "│    │    └─weight                                                                ├─512\n",
      "│    │    └─bias                                                                  └─512\n",
      "│    └─Dropout: 2-19                                    [32, 512]                 --\n",
      "│    └─Linear: 2-20                                     [32, 37]                  18,981\n",
      "│    │    └─weight                                                                ├─18,944\n",
      "│    │    └─bias                                                                  └─37\n",
      "=========================================================================================================\n",
      "Total params: 4,937,962\n",
      "Trainable params: 4,937,962\n",
      "Non-trainable params: 0\n",
      "Total mult-adds (G): 17.93\n",
      "=========================================================================================================\n",
      "Input size (MB): 19.27\n",
      "Forward/backward pass size (MB): 897.83\n",
      "Params size (MB): 19.75\n",
      "Estimated Total Size (MB): 936.85\n",
      "=========================================================================================================\n",
      "=========================================================================================================\n",
      "Layer (type:depth-idx)                                  Output Shape              Param #\n",
      "=========================================================================================================\n",
      "LevitDistilled                                          [32, 37]                  --\n",
      "├─Stem16: 1-1                                           [32, 256, 14, 14]         --\n",
      "│    └─conv1.linear.weight                                                        ├─864\n",
      "│    └─conv1.bn.weight                                                            ├─32\n",
      "│    └─conv1.bn.bias                                                              ├─32\n",
      "│    └─conv2.linear.weight                                                        ├─18,432\n",
      "│    └─conv2.bn.weight                                                            ├─64\n",
      "│    └─conv2.bn.bias                                                              ├─64\n",
      "│    └─conv3.linear.weight                                                        ├─73,728\n",
      "│    └─conv3.bn.weight                                                            ├─128\n",
      "│    └─conv3.bn.bias                                                              ├─128\n",
      "│    └─conv4.linear.weight                                                        ├─294,912\n",
      "│    └─conv4.bn.weight                                                            ├─256\n",
      "│    └─conv4.bn.bias                                                              └─256\n",
      "│    └─ConvNorm: 2-1                                    [32, 32, 112, 112]        --\n",
      "│    │    └─linear.weight                                                         ├─864\n",
      "│    │    └─bn.weight                                                             ├─32\n",
      "│    │    └─bn.bias                                                               └─32\n",
      "│    │    └─Conv2d: 3-1                                 [32, 32, 112, 112]        864\n",
      "│    │    │    └─weight                                                           └─864\n",
      "│    │    └─BatchNorm2d: 3-2                            [32, 32, 112, 112]        64\n",
      "│    │    │    └─weight                                                           ├─32\n",
      "│    │    │    └─bias                                                             └─32\n",
      "│    └─Hardswish: 2-2                                   [32, 32, 112, 112]        --\n",
      "│    └─ConvNorm: 2-3                                    [32, 64, 56, 56]          --\n",
      "│    │    └─linear.weight                                                         ├─18,432\n",
      "│    │    └─bn.weight                                                             ├─64\n",
      "│    │    └─bn.bias                                                               └─64\n",
      "│    │    └─Conv2d: 3-3                                 [32, 64, 56, 56]          18,432\n",
      "│    │    │    └─weight                                                           └─18,432\n",
      "│    │    └─BatchNorm2d: 3-4                            [32, 64, 56, 56]          128\n",
      "│    │    │    └─weight                                                           ├─64\n",
      "│    │    │    └─bias                                                             └─64\n",
      "│    └─Hardswish: 2-4                                   [32, 64, 56, 56]          --\n",
      "│    └─ConvNorm: 2-5                                    [32, 128, 28, 28]         --\n",
      "│    │    └─linear.weight                                                         ├─73,728\n",
      "│    │    └─bn.weight                                                             ├─128\n",
      "│    │    └─bn.bias                                                               └─128\n",
      "│    │    └─Conv2d: 3-5                                 [32, 128, 28, 28]         73,728\n",
      "│    │    │    └─weight                                                           └─73,728\n",
      "│    │    └─BatchNorm2d: 3-6                            [32, 128, 28, 28]         256\n",
      "│    │    │    └─weight                                                           ├─128\n",
      "│    │    │    └─bias                                                             └─128\n",
      "│    └─Hardswish: 2-6                                   [32, 128, 28, 28]         --\n",
      "│    └─ConvNorm: 2-7                                    [32, 256, 14, 14]         --\n",
      "│    │    └─linear.weight                                                         ├─294,912\n",
      "│    │    └─bn.weight                                                             ├─256\n",
      "│    │    └─bn.bias                                                               └─256\n",
      "│    │    └─Conv2d: 3-7                                 [32, 256, 14, 14]         294,912\n",
      "│    │    │    └─weight                                                           └─294,912\n",
      "│    │    └─BatchNorm2d: 3-8                            [32, 256, 14, 14]         512\n",
      "│    │    │    └─weight                                                           ├─256\n",
      "│    │    │    └─bias                                                             └─256\n",
      "├─LevitStage: 1-2                                       [32, 196, 256]            --\n",
      "│    └─blocks.0.attn.qkv.linear.weight                                            ├─196,608\n",
      "│    └─blocks.0.attn.qkv.bn.weight                                                ├─768\n",
      "│    └─blocks.0.attn.qkv.bn.bias                                                  ├─768\n",
      "│    └─blocks.0.attn.proj.1.linear.weight                                         ├─65,536\n",
      "│    └─blocks.0.attn.proj.1.bn.weight                                             ├─256\n",
      "│    └─blocks.0.attn.proj.1.bn.bias                                               ├─256\n",
      "│    └─blocks.0.mlp.ln1.linear.weight                                             ├─131,072\n",
      "│    └─blocks.0.mlp.ln1.bn.weight                                                 ├─512\n",
      "│    └─blocks.0.mlp.ln1.bn.bias                                                   ├─512\n",
      "│    └─blocks.0.mlp.ln2.linear.weight                                             ├─131,072\n",
      "│    └─blocks.0.mlp.ln2.bn.weight                                                 ├─256\n",
      "│    └─blocks.0.mlp.ln2.bn.bias                                                   ├─256\n",
      "│    └─blocks.1.attn.qkv.linear.weight                                            ├─196,608\n",
      "│    └─blocks.1.attn.qkv.bn.weight                                                ├─768\n",
      "│    └─blocks.1.attn.qkv.bn.bias                                                  ├─768\n",
      "│    └─blocks.1.attn.proj.1.linear.weight                                         ├─65,536\n",
      "│    └─blocks.1.attn.proj.1.bn.weight                                             ├─256\n",
      "│    └─blocks.1.attn.proj.1.bn.bias                                               ├─256\n",
      "│    └─blocks.1.mlp.ln1.linear.weight                                             ├─131,072\n",
      "│    └─blocks.1.mlp.ln1.bn.weight                                                 ├─512\n",
      "│    └─blocks.1.mlp.ln1.bn.bias                                                   ├─512\n",
      "│    └─blocks.1.mlp.ln2.linear.weight                                             ├─131,072\n",
      "│    └─blocks.1.mlp.ln2.bn.weight                                                 ├─256\n",
      "│    └─blocks.1.mlp.ln2.bn.bias                                                   └─256\n",
      "│    └─Identity: 2-8                                    [32, 196, 256]            --\n",
      "│    └─Sequential: 2-9                                  [32, 196, 256]            --\n",
      "│    │    └─0.attn.qkv.linear.weight                                              ├─196,608\n",
      "│    │    └─0.attn.qkv.bn.weight                                                  ├─768\n",
      "│    │    └─0.attn.qkv.bn.bias                                                    ├─768\n",
      "│    │    └─0.attn.proj.1.linear.weight                                           ├─65,536\n",
      "│    │    └─0.attn.proj.1.bn.weight                                               ├─256\n",
      "│    │    └─0.attn.proj.1.bn.bias                                                 ├─256\n",
      "│    │    └─0.mlp.ln1.linear.weight                                               ├─131,072\n",
      "│    │    └─0.mlp.ln1.bn.weight                                                   ├─512\n",
      "│    │    └─0.mlp.ln1.bn.bias                                                     ├─512\n",
      "│    │    └─0.mlp.ln2.linear.weight                                               ├─131,072\n",
      "│    │    └─0.mlp.ln2.bn.weight                                                   ├─256\n",
      "│    │    └─0.mlp.ln2.bn.bias                                                     ├─256\n",
      "│    │    └─1.attn.qkv.linear.weight                                              ├─196,608\n",
      "│    │    └─1.attn.qkv.bn.weight                                                  ├─768\n",
      "│    │    └─1.attn.qkv.bn.bias                                                    ├─768\n",
      "│    │    └─1.attn.proj.1.linear.weight                                           ├─65,536\n",
      "│    │    └─1.attn.proj.1.bn.weight                                               ├─256\n",
      "│    │    └─1.attn.proj.1.bn.bias                                                 ├─256\n",
      "│    │    └─1.mlp.ln1.linear.weight                                               ├─131,072\n",
      "│    │    └─1.mlp.ln1.bn.weight                                                   ├─512\n",
      "│    │    └─1.mlp.ln1.bn.bias                                                     ├─512\n",
      "│    │    └─1.mlp.ln2.linear.weight                                               ├─131,072\n",
      "│    │    └─1.mlp.ln2.bn.weight                                                   ├─256\n",
      "│    │    └─1.mlp.ln2.bn.bias                                                     └─256\n",
      "│    │    └─LevitBlock: 3-9                             [32, 196, 256]            527,872\n",
      "│    │    │    └─attn.qkv.linear.weight                                           ├─196,608\n",
      "│    │    │    └─attn.qkv.bn.weight                                               ├─768\n",
      "│    │    │    └─attn.qkv.bn.bias                                                 ├─768\n",
      "│    │    │    └─attn.proj.1.linear.weight                                        ├─65,536\n",
      "│    │    │    └─attn.proj.1.bn.weight                                            ├─256\n",
      "│    │    │    └─attn.proj.1.bn.bias                                              ├─256\n",
      "│    │    │    └─mlp.ln1.linear.weight                                            ├─131,072\n",
      "│    │    │    └─mlp.ln1.bn.weight                                                ├─512\n",
      "│    │    │    └─mlp.ln1.bn.bias                                                  ├─512\n",
      "│    │    │    └─mlp.ln2.linear.weight                                            ├─131,072\n",
      "│    │    │    └─mlp.ln2.bn.weight                                                ├─256\n",
      "│    │    │    └─mlp.ln2.bn.bias                                                  └─256\n",
      "│    │    └─LevitBlock: 3-10                            [32, 196, 256]            527,872\n",
      "│    │    │    └─attn.qkv.linear.weight                                           ├─196,608\n",
      "│    │    │    └─attn.qkv.bn.weight                                               ├─768\n",
      "│    │    │    └─attn.qkv.bn.bias                                                 ├─768\n",
      "│    │    │    └─attn.proj.1.linear.weight                                        ├─65,536\n",
      "│    │    │    └─attn.proj.1.bn.weight                                            ├─256\n",
      "│    │    │    └─attn.proj.1.bn.bias                                              ├─256\n",
      "│    │    │    └─mlp.ln1.linear.weight                                            ├─131,072\n",
      "│    │    │    └─mlp.ln1.bn.weight                                                ├─512\n",
      "│    │    │    └─mlp.ln1.bn.bias                                                  ├─512\n",
      "│    │    │    └─mlp.ln2.linear.weight                                            ├─131,072\n",
      "│    │    │    └─mlp.ln2.bn.weight                                                ├─256\n",
      "│    │    │    └─mlp.ln2.bn.bias                                                  └─256\n",
      "├─LevitStage: 1-3                                       [32, 49, 384]             --\n",
      "│    └─downsample.conv.weight                                                     ├─884,736\n",
      "│    └─downsample.conv.bias                                                       ├─384\n",
      "│    └─blocks.0.attn.qkv.linear.weight                                            ├─442,368\n",
      "│    └─blocks.0.attn.qkv.bn.weight                                                ├─1,152\n",
      "│    └─blocks.0.attn.qkv.bn.bias                                                  ├─1,152\n",
      "│    └─blocks.0.attn.proj.1.linear.weight                                         ├─147,456\n",
      "│    └─blocks.0.attn.proj.1.bn.weight                                             ├─384\n",
      "│    └─blocks.0.attn.proj.1.bn.bias                                               ├─384\n",
      "│    └─blocks.0.mlp.ln1.linear.weight                                             ├─294,912\n",
      "│    └─blocks.0.mlp.ln1.bn.weight                                                 ├─768\n",
      "│    └─blocks.0.mlp.ln1.bn.bias                                                   ├─768\n",
      "│    └─blocks.0.mlp.ln2.linear.weight                                             ├─294,912\n",
      "│    └─blocks.0.mlp.ln2.bn.weight                                                 ├─384\n",
      "│    └─blocks.0.mlp.ln2.bn.bias                                                   ├─384\n",
      "│    └─blocks.1.attn.qkv.linear.weight                                            ├─442,368\n",
      "│    └─blocks.1.attn.qkv.bn.weight                                                ├─1,152\n",
      "│    └─blocks.1.attn.qkv.bn.bias                                                  ├─1,152\n",
      "│    └─blocks.1.attn.proj.1.linear.weight                                         ├─147,456\n",
      "│    └─blocks.1.attn.proj.1.bn.weight                                             ├─384\n",
      "│    └─blocks.1.attn.proj.1.bn.bias                                               ├─384\n",
      "│    └─blocks.1.mlp.ln1.linear.weight                                             ├─294,912\n",
      "│    └─blocks.1.mlp.ln1.bn.weight                                                 ├─768\n",
      "│    └─blocks.1.mlp.ln1.bn.bias                                                   ├─768\n",
      "│    └─blocks.1.mlp.ln2.linear.weight                                             ├─294,912\n",
      "│    └─blocks.1.mlp.ln2.bn.weight                                                 ├─384\n",
      "│    └─blocks.1.mlp.ln2.bn.bias                                                   └─384\n",
      "│    └─CNNDownsample: 2-10                              [32, 49, 384]             --\n",
      "│    │    └─conv.weight                                                           ├─884,736\n",
      "│    │    └─conv.bias                                                             └─384\n",
      "│    │    └─Conv2d: 3-11                                [32, 384, 7, 7]           885,120\n",
      "│    │    │    └─weight                                                           ├─884,736\n",
      "│    │    │    └─bias                                                             └─384\n",
      "│    │    └─Hardswish: 3-12                             [32, 384, 7, 7]           --\n",
      "│    └─Sequential: 2-11                                 [32, 49, 384]             --\n",
      "│    │    └─0.attn.qkv.linear.weight                                              ├─442,368\n",
      "│    │    └─0.attn.qkv.bn.weight                                                  ├─1,152\n",
      "│    │    └─0.attn.qkv.bn.bias                                                    ├─1,152\n",
      "│    │    └─0.attn.proj.1.linear.weight                                           ├─147,456\n",
      "│    │    └─0.attn.proj.1.bn.weight                                               ├─384\n",
      "│    │    └─0.attn.proj.1.bn.bias                                                 ├─384\n",
      "│    │    └─0.mlp.ln1.linear.weight                                               ├─294,912\n",
      "│    │    └─0.mlp.ln1.bn.weight                                                   ├─768\n",
      "│    │    └─0.mlp.ln1.bn.bias                                                     ├─768\n",
      "│    │    └─0.mlp.ln2.linear.weight                                               ├─294,912\n",
      "│    │    └─0.mlp.ln2.bn.weight                                                   ├─384\n",
      "│    │    └─0.mlp.ln2.bn.bias                                                     ├─384\n",
      "│    │    └─1.attn.qkv.linear.weight                                              ├─442,368\n",
      "│    │    └─1.attn.qkv.bn.weight                                                  ├─1,152\n",
      "│    │    └─1.attn.qkv.bn.bias                                                    ├─1,152\n",
      "│    │    └─1.attn.proj.1.linear.weight                                           ├─147,456\n",
      "│    │    └─1.attn.proj.1.bn.weight                                               ├─384\n",
      "│    │    └─1.attn.proj.1.bn.bias                                                 ├─384\n",
      "│    │    └─1.mlp.ln1.linear.weight                                               ├─294,912\n",
      "│    │    └─1.mlp.ln1.bn.weight                                                   ├─768\n",
      "│    │    └─1.mlp.ln1.bn.bias                                                     ├─768\n",
      "│    │    └─1.mlp.ln2.linear.weight                                               ├─294,912\n",
      "│    │    └─1.mlp.ln2.bn.weight                                                   ├─384\n",
      "│    │    └─1.mlp.ln2.bn.bias                                                     └─384\n",
      "│    │    └─LevitBlock: 3-13                            [32, 49, 384]             1,185,024\n",
      "│    │    │    └─attn.qkv.linear.weight                                           ├─442,368\n",
      "│    │    │    └─attn.qkv.bn.weight                                               ├─1,152\n",
      "│    │    │    └─attn.qkv.bn.bias                                                 ├─1,152\n",
      "│    │    │    └─attn.proj.1.linear.weight                                        ├─147,456\n",
      "│    │    │    └─attn.proj.1.bn.weight                                            ├─384\n",
      "│    │    │    └─attn.proj.1.bn.bias                                              ├─384\n",
      "│    │    │    └─mlp.ln1.linear.weight                                            ├─294,912\n",
      "│    │    │    └─mlp.ln1.bn.weight                                                ├─768\n",
      "│    │    │    └─mlp.ln1.bn.bias                                                  ├─768\n",
      "│    │    │    └─mlp.ln2.linear.weight                                            ├─294,912\n",
      "│    │    │    └─mlp.ln2.bn.weight                                                ├─384\n",
      "│    │    │    └─mlp.ln2.bn.bias                                                  └─384\n",
      "│    │    └─LevitBlock: 3-14                            [32, 49, 384]             1,185,024\n",
      "│    │    │    └─attn.qkv.linear.weight                                           ├─442,368\n",
      "│    │    │    └─attn.qkv.bn.weight                                               ├─1,152\n",
      "│    │    │    └─attn.qkv.bn.bias                                                 ├─1,152\n",
      "│    │    │    └─attn.proj.1.linear.weight                                        ├─147,456\n",
      "│    │    │    └─attn.proj.1.bn.weight                                            ├─384\n",
      "│    │    │    └─attn.proj.1.bn.bias                                              ├─384\n",
      "│    │    │    └─mlp.ln1.linear.weight                                            ├─294,912\n",
      "│    │    │    └─mlp.ln1.bn.weight                                                ├─768\n",
      "│    │    │    └─mlp.ln1.bn.bias                                                  ├─768\n",
      "│    │    │    └─mlp.ln2.linear.weight                                            ├─294,912\n",
      "│    │    │    └─mlp.ln2.bn.weight                                                ├─384\n",
      "│    │    │    └─mlp.ln2.bn.bias                                                  └─384\n",
      "├─Sequential: 1-4                                       [32, 512, 7, 7]           --\n",
      "│    └─0.weight                                                                   ├─196,608\n",
      "│    └─0.bias                                                                     ├─512\n",
      "│    └─1.weight                                                                   ├─512\n",
      "│    └─1.bias                                                                     └─512\n",
      "│    └─Conv2d: 2-12                                     [32, 512, 7, 7]           197,120\n",
      "│    │    └─weight                                                                ├─196,608\n",
      "│    │    └─bias                                                                  └─512\n",
      "│    └─BatchNorm2d: 2-13                                [32, 512, 7, 7]           1,024\n",
      "│    │    └─weight                                                                ├─512\n",
      "│    │    └─bias                                                                  └─512\n",
      "│    └─ReLU: 2-14                                       [32, 512, 7, 7]           --\n",
      "├─NormLinear: 1-5                                       [32, 37]                  --\n",
      "│    └─bn.weight                                                                  ├─512\n",
      "│    └─bn.bias                                                                    ├─512\n",
      "│    └─linear.weight                                                              ├─18,944\n",
      "│    └─linear.bias                                                                └─37\n",
      "│    └─BatchNorm1d: 2-15                                [32, 512]                 1,024\n",
      "│    │    └─weight                                                                ├─512\n",
      "│    │    └─bias                                                                  └─512\n",
      "│    └─Dropout: 2-16                                    [32, 512]                 --\n",
      "│    └─Linear: 2-17                                     [32, 37]                  18,981\n",
      "│    │    └─weight                                                                ├─18,944\n",
      "│    │    └─bias                                                                  └─37\n",
      "├─NormLinear: 1-6                                       [32, 37]                  --\n",
      "│    └─bn.weight                                                                  ├─512\n",
      "│    └─bn.bias                                                                    ├─512\n",
      "│    └─linear.weight                                                              ├─18,944\n",
      "│    └─linear.bias                                                                └─37\n",
      "│    └─BatchNorm1d: 2-18                                [32, 512]                 1,024\n",
      "│    │    └─weight                                                                ├─512\n",
      "│    │    └─bias                                                                  └─512\n",
      "│    └─Dropout: 2-19                                    [32, 512]                 --\n",
      "│    └─Linear: 2-20                                     [32, 37]                  18,981\n",
      "│    │    └─weight                                                                ├─18,944\n",
      "│    │    └─bias                                                                  └─37\n",
      "=========================================================================================================\n",
      "Total params: 4,937,962\n",
      "Trainable params: 4,937,962\n",
      "Non-trainable params: 0\n",
      "Total mult-adds (G): 17.93\n",
      "=========================================================================================================\n",
      "Input size (MB): 19.27\n",
      "Forward/backward pass size (MB): 897.83\n",
      "Params size (MB): 19.75\n",
      "Estimated Total Size (MB): 936.85\n",
      "=========================================================================================================\n"
     ]
    }
   ],
   "source": [
    "print(summary(model, input_size=(32, 3, 224, 224), verbose=2))"
   ]
  },
  {
   "cell_type": "code",
   "execution_count": 26,
   "metadata": {},
   "outputs": [
    {
     "ename": "ExecutableNotFound",
     "evalue": "failed to execute PosixPath('dot'), make sure the Graphviz executables are on your systems' PATH",
     "output_type": "error",
     "traceback": [
      "\u001b[0;31m---------------------------------------------------------------------------\u001b[0m",
      "\u001b[0;31mFileNotFoundError\u001b[0m                         Traceback (most recent call last)",
      "File \u001b[0;32m~/.pyenv/versions/3.10.0/lib/python3.10/site-packages/graphviz/backend/execute.py:76\u001b[0m, in \u001b[0;36mrun_check\u001b[0;34m(cmd, input_lines, encoding, quiet, **kwargs)\u001b[0m\n\u001b[1;32m     75\u001b[0m         kwargs[\u001b[38;5;124m'\u001b[39m\u001b[38;5;124mstdout\u001b[39m\u001b[38;5;124m'\u001b[39m] \u001b[38;5;241m=\u001b[39m kwargs[\u001b[38;5;124m'\u001b[39m\u001b[38;5;124mstderr\u001b[39m\u001b[38;5;124m'\u001b[39m] \u001b[38;5;241m=\u001b[39m subprocess\u001b[38;5;241m.\u001b[39mPIPE\n\u001b[0;32m---> 76\u001b[0m     proc \u001b[38;5;241m=\u001b[39m \u001b[43m_run_input_lines\u001b[49m\u001b[43m(\u001b[49m\u001b[43mcmd\u001b[49m\u001b[43m,\u001b[49m\u001b[43m \u001b[49m\u001b[43minput_lines\u001b[49m\u001b[43m,\u001b[49m\u001b[43m \u001b[49m\u001b[43mkwargs\u001b[49m\u001b[38;5;241;43m=\u001b[39;49m\u001b[43mkwargs\u001b[49m\u001b[43m)\u001b[49m\n\u001b[1;32m     77\u001b[0m \u001b[38;5;28;01melse\u001b[39;00m:\n",
      "File \u001b[0;32m~/.pyenv/versions/3.10.0/lib/python3.10/site-packages/graphviz/backend/execute.py:96\u001b[0m, in \u001b[0;36m_run_input_lines\u001b[0;34m(cmd, input_lines, kwargs)\u001b[0m\n\u001b[1;32m     95\u001b[0m \u001b[38;5;28;01mdef\u001b[39;00m \u001b[38;5;21m_run_input_lines\u001b[39m(cmd, input_lines, \u001b[38;5;241m*\u001b[39m, kwargs):\n\u001b[0;32m---> 96\u001b[0m     popen \u001b[38;5;241m=\u001b[39m \u001b[43msubprocess\u001b[49m\u001b[38;5;241;43m.\u001b[39;49m\u001b[43mPopen\u001b[49m\u001b[43m(\u001b[49m\u001b[43mcmd\u001b[49m\u001b[43m,\u001b[49m\u001b[43m \u001b[49m\u001b[43mstdin\u001b[49m\u001b[38;5;241;43m=\u001b[39;49m\u001b[43msubprocess\u001b[49m\u001b[38;5;241;43m.\u001b[39;49m\u001b[43mPIPE\u001b[49m\u001b[43m,\u001b[49m\u001b[43m \u001b[49m\u001b[38;5;241;43m*\u001b[39;49m\u001b[38;5;241;43m*\u001b[39;49m\u001b[43mkwargs\u001b[49m\u001b[43m)\u001b[49m\n\u001b[1;32m     98\u001b[0m     stdin_write \u001b[38;5;241m=\u001b[39m popen\u001b[38;5;241m.\u001b[39mstdin\u001b[38;5;241m.\u001b[39mwrite\n",
      "File \u001b[0;32m~/.pyenv/versions/3.10.0/lib/python3.10/subprocess.py:966\u001b[0m, in \u001b[0;36mPopen.__init__\u001b[0;34m(self, args, bufsize, executable, stdin, stdout, stderr, preexec_fn, close_fds, shell, cwd, env, universal_newlines, startupinfo, creationflags, restore_signals, start_new_session, pass_fds, user, group, extra_groups, encoding, errors, text, umask, pipesize)\u001b[0m\n\u001b[1;32m    963\u001b[0m             \u001b[38;5;28mself\u001b[39m\u001b[38;5;241m.\u001b[39mstderr \u001b[38;5;241m=\u001b[39m io\u001b[38;5;241m.\u001b[39mTextIOWrapper(\u001b[38;5;28mself\u001b[39m\u001b[38;5;241m.\u001b[39mstderr,\n\u001b[1;32m    964\u001b[0m                     encoding\u001b[38;5;241m=\u001b[39mencoding, errors\u001b[38;5;241m=\u001b[39merrors)\n\u001b[0;32m--> 966\u001b[0m     \u001b[38;5;28;43mself\u001b[39;49m\u001b[38;5;241;43m.\u001b[39;49m\u001b[43m_execute_child\u001b[49m\u001b[43m(\u001b[49m\u001b[43margs\u001b[49m\u001b[43m,\u001b[49m\u001b[43m \u001b[49m\u001b[43mexecutable\u001b[49m\u001b[43m,\u001b[49m\u001b[43m \u001b[49m\u001b[43mpreexec_fn\u001b[49m\u001b[43m,\u001b[49m\u001b[43m \u001b[49m\u001b[43mclose_fds\u001b[49m\u001b[43m,\u001b[49m\n\u001b[1;32m    967\u001b[0m \u001b[43m                        \u001b[49m\u001b[43mpass_fds\u001b[49m\u001b[43m,\u001b[49m\u001b[43m \u001b[49m\u001b[43mcwd\u001b[49m\u001b[43m,\u001b[49m\u001b[43m \u001b[49m\u001b[43menv\u001b[49m\u001b[43m,\u001b[49m\n\u001b[1;32m    968\u001b[0m \u001b[43m                        \u001b[49m\u001b[43mstartupinfo\u001b[49m\u001b[43m,\u001b[49m\u001b[43m \u001b[49m\u001b[43mcreationflags\u001b[49m\u001b[43m,\u001b[49m\u001b[43m \u001b[49m\u001b[43mshell\u001b[49m\u001b[43m,\u001b[49m\n\u001b[1;32m    969\u001b[0m \u001b[43m                        \u001b[49m\u001b[43mp2cread\u001b[49m\u001b[43m,\u001b[49m\u001b[43m \u001b[49m\u001b[43mp2cwrite\u001b[49m\u001b[43m,\u001b[49m\n\u001b[1;32m    970\u001b[0m \u001b[43m                        \u001b[49m\u001b[43mc2pread\u001b[49m\u001b[43m,\u001b[49m\u001b[43m \u001b[49m\u001b[43mc2pwrite\u001b[49m\u001b[43m,\u001b[49m\n\u001b[1;32m    971\u001b[0m \u001b[43m                        \u001b[49m\u001b[43merrread\u001b[49m\u001b[43m,\u001b[49m\u001b[43m \u001b[49m\u001b[43merrwrite\u001b[49m\u001b[43m,\u001b[49m\n\u001b[1;32m    972\u001b[0m \u001b[43m                        \u001b[49m\u001b[43mrestore_signals\u001b[49m\u001b[43m,\u001b[49m\n\u001b[1;32m    973\u001b[0m \u001b[43m                        \u001b[49m\u001b[43mgid\u001b[49m\u001b[43m,\u001b[49m\u001b[43m \u001b[49m\u001b[43mgids\u001b[49m\u001b[43m,\u001b[49m\u001b[43m \u001b[49m\u001b[43muid\u001b[49m\u001b[43m,\u001b[49m\u001b[43m \u001b[49m\u001b[43mumask\u001b[49m\u001b[43m,\u001b[49m\n\u001b[1;32m    974\u001b[0m \u001b[43m                        \u001b[49m\u001b[43mstart_new_session\u001b[49m\u001b[43m)\u001b[49m\n\u001b[1;32m    975\u001b[0m \u001b[38;5;28;01mexcept\u001b[39;00m:\n\u001b[1;32m    976\u001b[0m     \u001b[38;5;66;03m# Cleanup if the child failed starting.\u001b[39;00m\n",
      "File \u001b[0;32m~/.pyenv/versions/3.10.0/lib/python3.10/subprocess.py:1842\u001b[0m, in \u001b[0;36mPopen._execute_child\u001b[0;34m(self, args, executable, preexec_fn, close_fds, pass_fds, cwd, env, startupinfo, creationflags, shell, p2cread, p2cwrite, c2pread, c2pwrite, errread, errwrite, restore_signals, gid, gids, uid, umask, start_new_session)\u001b[0m\n\u001b[1;32m   1841\u001b[0m         err_msg \u001b[38;5;241m=\u001b[39m os\u001b[38;5;241m.\u001b[39mstrerror(errno_num)\n\u001b[0;32m-> 1842\u001b[0m     \u001b[38;5;28;01mraise\u001b[39;00m child_exception_type(errno_num, err_msg, err_filename)\n\u001b[1;32m   1843\u001b[0m \u001b[38;5;28;01mraise\u001b[39;00m child_exception_type(err_msg)\n",
      "\u001b[0;31mFileNotFoundError\u001b[0m: [Errno 2] No such file or directory: PosixPath('dot')",
      "\nThe above exception was the direct cause of the following exception:\n",
      "\u001b[0;31mExecutableNotFound\u001b[0m                        Traceback (most recent call last)",
      "File \u001b[0;32m~/.pyenv/versions/3.10.0/lib/python3.10/site-packages/IPython/core/formatters.py:977\u001b[0m, in \u001b[0;36mMimeBundleFormatter.__call__\u001b[0;34m(self, obj, include, exclude)\u001b[0m\n\u001b[1;32m    974\u001b[0m     method \u001b[38;5;241m=\u001b[39m get_real_method(obj, \u001b[38;5;28mself\u001b[39m\u001b[38;5;241m.\u001b[39mprint_method)\n\u001b[1;32m    976\u001b[0m     \u001b[38;5;28;01mif\u001b[39;00m method \u001b[38;5;129;01mis\u001b[39;00m \u001b[38;5;129;01mnot\u001b[39;00m \u001b[38;5;28;01mNone\u001b[39;00m:\n\u001b[0;32m--> 977\u001b[0m         \u001b[38;5;28;01mreturn\u001b[39;00m \u001b[43mmethod\u001b[49m\u001b[43m(\u001b[49m\u001b[43minclude\u001b[49m\u001b[38;5;241;43m=\u001b[39;49m\u001b[43minclude\u001b[49m\u001b[43m,\u001b[49m\u001b[43m \u001b[49m\u001b[43mexclude\u001b[49m\u001b[38;5;241;43m=\u001b[39;49m\u001b[43mexclude\u001b[49m\u001b[43m)\u001b[49m\n\u001b[1;32m    978\u001b[0m     \u001b[38;5;28;01mreturn\u001b[39;00m \u001b[38;5;28;01mNone\u001b[39;00m\n\u001b[1;32m    979\u001b[0m \u001b[38;5;28;01melse\u001b[39;00m:\n",
      "File \u001b[0;32m~/.pyenv/versions/3.10.0/lib/python3.10/site-packages/graphviz/jupyter_integration.py:98\u001b[0m, in \u001b[0;36mJupyterIntegration._repr_mimebundle_\u001b[0;34m(self, include, exclude, **_)\u001b[0m\n\u001b[1;32m     96\u001b[0m include \u001b[38;5;241m=\u001b[39m \u001b[38;5;28mset\u001b[39m(include) \u001b[38;5;28;01mif\u001b[39;00m include \u001b[38;5;129;01mis\u001b[39;00m \u001b[38;5;129;01mnot\u001b[39;00m \u001b[38;5;28;01mNone\u001b[39;00m \u001b[38;5;28;01melse\u001b[39;00m {\u001b[38;5;28mself\u001b[39m\u001b[38;5;241m.\u001b[39m_jupyter_mimetype}\n\u001b[1;32m     97\u001b[0m include \u001b[38;5;241m-\u001b[39m\u001b[38;5;241m=\u001b[39m \u001b[38;5;28mset\u001b[39m(exclude \u001b[38;5;129;01mor\u001b[39;00m [])\n\u001b[0;32m---> 98\u001b[0m \u001b[38;5;28;01mreturn\u001b[39;00m {mimetype: \u001b[38;5;28mgetattr\u001b[39m(\u001b[38;5;28mself\u001b[39m, method_name)()\n\u001b[1;32m     99\u001b[0m         \u001b[38;5;28;01mfor\u001b[39;00m mimetype, method_name \u001b[38;5;129;01min\u001b[39;00m MIME_TYPES\u001b[38;5;241m.\u001b[39mitems()\n\u001b[1;32m    100\u001b[0m         \u001b[38;5;28;01mif\u001b[39;00m mimetype \u001b[38;5;129;01min\u001b[39;00m include}\n",
      "File \u001b[0;32m~/.pyenv/versions/3.10.0/lib/python3.10/site-packages/graphviz/jupyter_integration.py:98\u001b[0m, in \u001b[0;36m<dictcomp>\u001b[0;34m(.0)\u001b[0m\n\u001b[1;32m     96\u001b[0m include \u001b[38;5;241m=\u001b[39m \u001b[38;5;28mset\u001b[39m(include) \u001b[38;5;28;01mif\u001b[39;00m include \u001b[38;5;129;01mis\u001b[39;00m \u001b[38;5;129;01mnot\u001b[39;00m \u001b[38;5;28;01mNone\u001b[39;00m \u001b[38;5;28;01melse\u001b[39;00m {\u001b[38;5;28mself\u001b[39m\u001b[38;5;241m.\u001b[39m_jupyter_mimetype}\n\u001b[1;32m     97\u001b[0m include \u001b[38;5;241m-\u001b[39m\u001b[38;5;241m=\u001b[39m \u001b[38;5;28mset\u001b[39m(exclude \u001b[38;5;129;01mor\u001b[39;00m [])\n\u001b[0;32m---> 98\u001b[0m \u001b[38;5;28;01mreturn\u001b[39;00m {mimetype: \u001b[38;5;28;43mgetattr\u001b[39;49m\u001b[43m(\u001b[49m\u001b[38;5;28;43mself\u001b[39;49m\u001b[43m,\u001b[49m\u001b[43m \u001b[49m\u001b[43mmethod_name\u001b[49m\u001b[43m)\u001b[49m\u001b[43m(\u001b[49m\u001b[43m)\u001b[49m\n\u001b[1;32m     99\u001b[0m         \u001b[38;5;28;01mfor\u001b[39;00m mimetype, method_name \u001b[38;5;129;01min\u001b[39;00m MIME_TYPES\u001b[38;5;241m.\u001b[39mitems()\n\u001b[1;32m    100\u001b[0m         \u001b[38;5;28;01mif\u001b[39;00m mimetype \u001b[38;5;129;01min\u001b[39;00m include}\n",
      "File \u001b[0;32m~/.pyenv/versions/3.10.0/lib/python3.10/site-packages/graphviz/jupyter_integration.py:112\u001b[0m, in \u001b[0;36mJupyterIntegration._repr_image_svg_xml\u001b[0;34m(self)\u001b[0m\n\u001b[1;32m    110\u001b[0m \u001b[38;5;28;01mdef\u001b[39;00m \u001b[38;5;21m_repr_image_svg_xml\u001b[39m(\u001b[38;5;28mself\u001b[39m) \u001b[38;5;241m-\u001b[39m\u001b[38;5;241m>\u001b[39m \u001b[38;5;28mstr\u001b[39m:\n\u001b[1;32m    111\u001b[0m \u001b[38;5;250m    \u001b[39m\u001b[38;5;124;03m\"\"\"Return the rendered graph as SVG string.\"\"\"\u001b[39;00m\n\u001b[0;32m--> 112\u001b[0m     \u001b[38;5;28;01mreturn\u001b[39;00m \u001b[38;5;28;43mself\u001b[39;49m\u001b[38;5;241;43m.\u001b[39;49m\u001b[43mpipe\u001b[49m\u001b[43m(\u001b[49m\u001b[38;5;28;43mformat\u001b[39;49m\u001b[38;5;241;43m=\u001b[39;49m\u001b[38;5;124;43m'\u001b[39;49m\u001b[38;5;124;43msvg\u001b[39;49m\u001b[38;5;124;43m'\u001b[39;49m\u001b[43m,\u001b[49m\u001b[43m \u001b[49m\u001b[43mencoding\u001b[49m\u001b[38;5;241;43m=\u001b[39;49m\u001b[43mSVG_ENCODING\u001b[49m\u001b[43m)\u001b[49m\n",
      "File \u001b[0;32m~/.pyenv/versions/3.10.0/lib/python3.10/site-packages/graphviz/piping.py:104\u001b[0m, in \u001b[0;36mPipe.pipe\u001b[0;34m(self, format, renderer, formatter, neato_no_op, quiet, engine, encoding)\u001b[0m\n\u001b[1;32m     55\u001b[0m \u001b[38;5;28;01mdef\u001b[39;00m \u001b[38;5;21mpipe\u001b[39m(\u001b[38;5;28mself\u001b[39m,\n\u001b[1;32m     56\u001b[0m          \u001b[38;5;28mformat\u001b[39m: typing\u001b[38;5;241m.\u001b[39mOptional[\u001b[38;5;28mstr\u001b[39m] \u001b[38;5;241m=\u001b[39m \u001b[38;5;28;01mNone\u001b[39;00m,\n\u001b[1;32m     57\u001b[0m          renderer: typing\u001b[38;5;241m.\u001b[39mOptional[\u001b[38;5;28mstr\u001b[39m] \u001b[38;5;241m=\u001b[39m \u001b[38;5;28;01mNone\u001b[39;00m,\n\u001b[0;32m   (...)\u001b[0m\n\u001b[1;32m     61\u001b[0m          engine: typing\u001b[38;5;241m.\u001b[39mOptional[\u001b[38;5;28mstr\u001b[39m] \u001b[38;5;241m=\u001b[39m \u001b[38;5;28;01mNone\u001b[39;00m,\n\u001b[1;32m     62\u001b[0m          encoding: typing\u001b[38;5;241m.\u001b[39mOptional[\u001b[38;5;28mstr\u001b[39m] \u001b[38;5;241m=\u001b[39m \u001b[38;5;28;01mNone\u001b[39;00m) \u001b[38;5;241m-\u001b[39m\u001b[38;5;241m>\u001b[39m typing\u001b[38;5;241m.\u001b[39mUnion[\u001b[38;5;28mbytes\u001b[39m, \u001b[38;5;28mstr\u001b[39m]:\n\u001b[1;32m     63\u001b[0m \u001b[38;5;250m    \u001b[39m\u001b[38;5;124;03m\"\"\"Return the source piped through the Graphviz layout command.\u001b[39;00m\n\u001b[1;32m     64\u001b[0m \n\u001b[1;32m     65\u001b[0m \u001b[38;5;124;03m    Args:\u001b[39;00m\n\u001b[0;32m   (...)\u001b[0m\n\u001b[1;32m    102\u001b[0m \u001b[38;5;124;03m        '<?xml version='\u001b[39;00m\n\u001b[1;32m    103\u001b[0m \u001b[38;5;124;03m    \"\"\"\u001b[39;00m\n\u001b[0;32m--> 104\u001b[0m     \u001b[38;5;28;01mreturn\u001b[39;00m \u001b[38;5;28;43mself\u001b[39;49m\u001b[38;5;241;43m.\u001b[39;49m\u001b[43m_pipe_legacy\u001b[49m\u001b[43m(\u001b[49m\u001b[38;5;28;43mformat\u001b[39;49m\u001b[43m,\u001b[49m\n\u001b[1;32m    105\u001b[0m \u001b[43m                             \u001b[49m\u001b[43mrenderer\u001b[49m\u001b[38;5;241;43m=\u001b[39;49m\u001b[43mrenderer\u001b[49m\u001b[43m,\u001b[49m\n\u001b[1;32m    106\u001b[0m \u001b[43m                             \u001b[49m\u001b[43mformatter\u001b[49m\u001b[38;5;241;43m=\u001b[39;49m\u001b[43mformatter\u001b[49m\u001b[43m,\u001b[49m\n\u001b[1;32m    107\u001b[0m \u001b[43m                             \u001b[49m\u001b[43mneato_no_op\u001b[49m\u001b[38;5;241;43m=\u001b[39;49m\u001b[43mneato_no_op\u001b[49m\u001b[43m,\u001b[49m\n\u001b[1;32m    108\u001b[0m \u001b[43m                             \u001b[49m\u001b[43mquiet\u001b[49m\u001b[38;5;241;43m=\u001b[39;49m\u001b[43mquiet\u001b[49m\u001b[43m,\u001b[49m\n\u001b[1;32m    109\u001b[0m \u001b[43m                             \u001b[49m\u001b[43mengine\u001b[49m\u001b[38;5;241;43m=\u001b[39;49m\u001b[43mengine\u001b[49m\u001b[43m,\u001b[49m\n\u001b[1;32m    110\u001b[0m \u001b[43m                             \u001b[49m\u001b[43mencoding\u001b[49m\u001b[38;5;241;43m=\u001b[39;49m\u001b[43mencoding\u001b[49m\u001b[43m)\u001b[49m\n",
      "File \u001b[0;32m~/.pyenv/versions/3.10.0/lib/python3.10/site-packages/graphviz/_tools.py:171\u001b[0m, in \u001b[0;36mdeprecate_positional_args.<locals>.decorator.<locals>.wrapper\u001b[0;34m(*args, **kwargs)\u001b[0m\n\u001b[1;32m    162\u001b[0m     wanted \u001b[38;5;241m=\u001b[39m \u001b[38;5;124m'\u001b[39m\u001b[38;5;124m, \u001b[39m\u001b[38;5;124m'\u001b[39m\u001b[38;5;241m.\u001b[39mjoin(\u001b[38;5;124mf\u001b[39m\u001b[38;5;124m'\u001b[39m\u001b[38;5;132;01m{\u001b[39;00mname\u001b[38;5;132;01m}\u001b[39;00m\u001b[38;5;124m=\u001b[39m\u001b[38;5;132;01m{\u001b[39;00mvalue\u001b[38;5;132;01m!r}\u001b[39;00m\u001b[38;5;124m'\u001b[39m\n\u001b[1;32m    163\u001b[0m                        \u001b[38;5;28;01mfor\u001b[39;00m name, value \u001b[38;5;129;01min\u001b[39;00m deprecated\u001b[38;5;241m.\u001b[39mitems())\n\u001b[1;32m    164\u001b[0m     warnings\u001b[38;5;241m.\u001b[39mwarn(\u001b[38;5;124mf\u001b[39m\u001b[38;5;124m'\u001b[39m\u001b[38;5;124mThe signature of \u001b[39m\u001b[38;5;132;01m{\u001b[39;00mfunc\u001b[38;5;241m.\u001b[39m\u001b[38;5;18m__name__\u001b[39m\u001b[38;5;132;01m}\u001b[39;00m\u001b[38;5;124m will be reduced\u001b[39m\u001b[38;5;124m'\u001b[39m\n\u001b[1;32m    165\u001b[0m                   \u001b[38;5;124mf\u001b[39m\u001b[38;5;124m'\u001b[39m\u001b[38;5;124m to \u001b[39m\u001b[38;5;132;01m{\u001b[39;00msupported_number\u001b[38;5;132;01m}\u001b[39;00m\u001b[38;5;124m positional args\u001b[39m\u001b[38;5;124m'\u001b[39m\n\u001b[1;32m    166\u001b[0m                   \u001b[38;5;124mf\u001b[39m\u001b[38;5;124m'\u001b[39m\u001b[38;5;124m \u001b[39m\u001b[38;5;132;01m{\u001b[39;00m\u001b[38;5;28mlist\u001b[39m(supported)\u001b[38;5;132;01m}\u001b[39;00m\u001b[38;5;124m: pass \u001b[39m\u001b[38;5;132;01m{\u001b[39;00mwanted\u001b[38;5;132;01m}\u001b[39;00m\u001b[38;5;124m'\u001b[39m\n\u001b[1;32m    167\u001b[0m                   \u001b[38;5;124m'\u001b[39m\u001b[38;5;124m as keyword arg(s)\u001b[39m\u001b[38;5;124m'\u001b[39m,\n\u001b[1;32m    168\u001b[0m                   stacklevel\u001b[38;5;241m=\u001b[39mstacklevel,\n\u001b[1;32m    169\u001b[0m                   category\u001b[38;5;241m=\u001b[39mcategory)\n\u001b[0;32m--> 171\u001b[0m \u001b[38;5;28;01mreturn\u001b[39;00m \u001b[43mfunc\u001b[49m\u001b[43m(\u001b[49m\u001b[38;5;241;43m*\u001b[39;49m\u001b[43margs\u001b[49m\u001b[43m,\u001b[49m\u001b[43m \u001b[49m\u001b[38;5;241;43m*\u001b[39;49m\u001b[38;5;241;43m*\u001b[39;49m\u001b[43mkwargs\u001b[49m\u001b[43m)\u001b[49m\n",
      "File \u001b[0;32m~/.pyenv/versions/3.10.0/lib/python3.10/site-packages/graphviz/piping.py:121\u001b[0m, in \u001b[0;36mPipe._pipe_legacy\u001b[0;34m(self, format, renderer, formatter, neato_no_op, quiet, engine, encoding)\u001b[0m\n\u001b[1;32m    112\u001b[0m \u001b[38;5;129m@_tools\u001b[39m\u001b[38;5;241m.\u001b[39mdeprecate_positional_args(supported_number\u001b[38;5;241m=\u001b[39m\u001b[38;5;241m2\u001b[39m)\n\u001b[1;32m    113\u001b[0m \u001b[38;5;28;01mdef\u001b[39;00m \u001b[38;5;21m_pipe_legacy\u001b[39m(\u001b[38;5;28mself\u001b[39m,\n\u001b[1;32m    114\u001b[0m                  \u001b[38;5;28mformat\u001b[39m: typing\u001b[38;5;241m.\u001b[39mOptional[\u001b[38;5;28mstr\u001b[39m] \u001b[38;5;241m=\u001b[39m \u001b[38;5;28;01mNone\u001b[39;00m,\n\u001b[0;32m   (...)\u001b[0m\n\u001b[1;32m    119\u001b[0m                  engine: typing\u001b[38;5;241m.\u001b[39mOptional[\u001b[38;5;28mstr\u001b[39m] \u001b[38;5;241m=\u001b[39m \u001b[38;5;28;01mNone\u001b[39;00m,\n\u001b[1;32m    120\u001b[0m                  encoding: typing\u001b[38;5;241m.\u001b[39mOptional[\u001b[38;5;28mstr\u001b[39m] \u001b[38;5;241m=\u001b[39m \u001b[38;5;28;01mNone\u001b[39;00m) \u001b[38;5;241m-\u001b[39m\u001b[38;5;241m>\u001b[39m typing\u001b[38;5;241m.\u001b[39mUnion[\u001b[38;5;28mbytes\u001b[39m, \u001b[38;5;28mstr\u001b[39m]:\n\u001b[0;32m--> 121\u001b[0m     \u001b[38;5;28;01mreturn\u001b[39;00m \u001b[38;5;28;43mself\u001b[39;49m\u001b[38;5;241;43m.\u001b[39;49m\u001b[43m_pipe_future\u001b[49m\u001b[43m(\u001b[49m\u001b[38;5;28;43mformat\u001b[39;49m\u001b[43m,\u001b[49m\n\u001b[1;32m    122\u001b[0m \u001b[43m                             \u001b[49m\u001b[43mrenderer\u001b[49m\u001b[38;5;241;43m=\u001b[39;49m\u001b[43mrenderer\u001b[49m\u001b[43m,\u001b[49m\n\u001b[1;32m    123\u001b[0m \u001b[43m                             \u001b[49m\u001b[43mformatter\u001b[49m\u001b[38;5;241;43m=\u001b[39;49m\u001b[43mformatter\u001b[49m\u001b[43m,\u001b[49m\n\u001b[1;32m    124\u001b[0m \u001b[43m                             \u001b[49m\u001b[43mneato_no_op\u001b[49m\u001b[38;5;241;43m=\u001b[39;49m\u001b[43mneato_no_op\u001b[49m\u001b[43m,\u001b[49m\n\u001b[1;32m    125\u001b[0m \u001b[43m                             \u001b[49m\u001b[43mquiet\u001b[49m\u001b[38;5;241;43m=\u001b[39;49m\u001b[43mquiet\u001b[49m\u001b[43m,\u001b[49m\n\u001b[1;32m    126\u001b[0m \u001b[43m                             \u001b[49m\u001b[43mengine\u001b[49m\u001b[38;5;241;43m=\u001b[39;49m\u001b[43mengine\u001b[49m\u001b[43m,\u001b[49m\n\u001b[1;32m    127\u001b[0m \u001b[43m                             \u001b[49m\u001b[43mencoding\u001b[49m\u001b[38;5;241;43m=\u001b[39;49m\u001b[43mencoding\u001b[49m\u001b[43m)\u001b[49m\n",
      "File \u001b[0;32m~/.pyenv/versions/3.10.0/lib/python3.10/site-packages/graphviz/piping.py:149\u001b[0m, in \u001b[0;36mPipe._pipe_future\u001b[0;34m(self, format, renderer, formatter, neato_no_op, quiet, engine, encoding)\u001b[0m\n\u001b[1;32m    146\u001b[0m \u001b[38;5;28;01mif\u001b[39;00m encoding \u001b[38;5;129;01mis\u001b[39;00m \u001b[38;5;129;01mnot\u001b[39;00m \u001b[38;5;28;01mNone\u001b[39;00m:\n\u001b[1;32m    147\u001b[0m     \u001b[38;5;28;01mif\u001b[39;00m codecs\u001b[38;5;241m.\u001b[39mlookup(encoding) \u001b[38;5;129;01mis\u001b[39;00m codecs\u001b[38;5;241m.\u001b[39mlookup(\u001b[38;5;28mself\u001b[39m\u001b[38;5;241m.\u001b[39mencoding):\n\u001b[1;32m    148\u001b[0m         \u001b[38;5;66;03m# common case: both stdin and stdout need the same encoding\u001b[39;00m\n\u001b[0;32m--> 149\u001b[0m         \u001b[38;5;28;01mreturn\u001b[39;00m \u001b[38;5;28;43mself\u001b[39;49m\u001b[38;5;241;43m.\u001b[39;49m\u001b[43m_pipe_lines_string\u001b[49m\u001b[43m(\u001b[49m\u001b[38;5;241;43m*\u001b[39;49m\u001b[43margs\u001b[49m\u001b[43m,\u001b[49m\u001b[43m \u001b[49m\u001b[43mencoding\u001b[49m\u001b[38;5;241;43m=\u001b[39;49m\u001b[43mencoding\u001b[49m\u001b[43m,\u001b[49m\u001b[43m \u001b[49m\u001b[38;5;241;43m*\u001b[39;49m\u001b[38;5;241;43m*\u001b[39;49m\u001b[43mkwargs\u001b[49m\u001b[43m)\u001b[49m\n\u001b[1;32m    150\u001b[0m     \u001b[38;5;28;01mtry\u001b[39;00m:\n\u001b[1;32m    151\u001b[0m         raw \u001b[38;5;241m=\u001b[39m \u001b[38;5;28mself\u001b[39m\u001b[38;5;241m.\u001b[39m_pipe_lines(\u001b[38;5;241m*\u001b[39margs, input_encoding\u001b[38;5;241m=\u001b[39m\u001b[38;5;28mself\u001b[39m\u001b[38;5;241m.\u001b[39mencoding, \u001b[38;5;241m*\u001b[39m\u001b[38;5;241m*\u001b[39mkwargs)\n",
      "File \u001b[0;32m~/.pyenv/versions/3.10.0/lib/python3.10/site-packages/graphviz/backend/piping.py:212\u001b[0m, in \u001b[0;36mpipe_lines_string\u001b[0;34m(engine, format, input_lines, encoding, renderer, formatter, neato_no_op, quiet)\u001b[0m\n\u001b[1;32m    206\u001b[0m cmd \u001b[38;5;241m=\u001b[39m dot_command\u001b[38;5;241m.\u001b[39mcommand(engine, \u001b[38;5;28mformat\u001b[39m,\n\u001b[1;32m    207\u001b[0m                           renderer\u001b[38;5;241m=\u001b[39mrenderer,\n\u001b[1;32m    208\u001b[0m                           formatter\u001b[38;5;241m=\u001b[39mformatter,\n\u001b[1;32m    209\u001b[0m                           neato_no_op\u001b[38;5;241m=\u001b[39mneato_no_op)\n\u001b[1;32m    210\u001b[0m kwargs \u001b[38;5;241m=\u001b[39m {\u001b[38;5;124m'\u001b[39m\u001b[38;5;124minput_lines\u001b[39m\u001b[38;5;124m'\u001b[39m: input_lines, \u001b[38;5;124m'\u001b[39m\u001b[38;5;124mencoding\u001b[39m\u001b[38;5;124m'\u001b[39m: encoding}\n\u001b[0;32m--> 212\u001b[0m proc \u001b[38;5;241m=\u001b[39m \u001b[43mexecute\u001b[49m\u001b[38;5;241;43m.\u001b[39;49m\u001b[43mrun_check\u001b[49m\u001b[43m(\u001b[49m\u001b[43mcmd\u001b[49m\u001b[43m,\u001b[49m\u001b[43m \u001b[49m\u001b[43mcapture_output\u001b[49m\u001b[38;5;241;43m=\u001b[39;49m\u001b[38;5;28;43;01mTrue\u001b[39;49;00m\u001b[43m,\u001b[49m\u001b[43m \u001b[49m\u001b[43mquiet\u001b[49m\u001b[38;5;241;43m=\u001b[39;49m\u001b[43mquiet\u001b[49m\u001b[43m,\u001b[49m\u001b[43m \u001b[49m\u001b[38;5;241;43m*\u001b[39;49m\u001b[38;5;241;43m*\u001b[39;49m\u001b[43mkwargs\u001b[49m\u001b[43m)\u001b[49m\n\u001b[1;32m    213\u001b[0m \u001b[38;5;28;01mreturn\u001b[39;00m proc\u001b[38;5;241m.\u001b[39mstdout\n",
      "File \u001b[0;32m~/.pyenv/versions/3.10.0/lib/python3.10/site-packages/graphviz/backend/execute.py:81\u001b[0m, in \u001b[0;36mrun_check\u001b[0;34m(cmd, input_lines, encoding, quiet, **kwargs)\u001b[0m\n\u001b[1;32m     79\u001b[0m \u001b[38;5;28;01mexcept\u001b[39;00m \u001b[38;5;167;01mOSError\u001b[39;00m \u001b[38;5;28;01mas\u001b[39;00m e:\n\u001b[1;32m     80\u001b[0m     \u001b[38;5;28;01mif\u001b[39;00m e\u001b[38;5;241m.\u001b[39merrno \u001b[38;5;241m==\u001b[39m errno\u001b[38;5;241m.\u001b[39mENOENT:\n\u001b[0;32m---> 81\u001b[0m         \u001b[38;5;28;01mraise\u001b[39;00m ExecutableNotFound(cmd) \u001b[38;5;28;01mfrom\u001b[39;00m \u001b[38;5;21;01me\u001b[39;00m\n\u001b[1;32m     82\u001b[0m     \u001b[38;5;28;01mraise\u001b[39;00m\n\u001b[1;32m     84\u001b[0m \u001b[38;5;28;01mif\u001b[39;00m \u001b[38;5;129;01mnot\u001b[39;00m quiet \u001b[38;5;129;01mand\u001b[39;00m proc\u001b[38;5;241m.\u001b[39mstderr:\n",
      "\u001b[0;31mExecutableNotFound\u001b[0m: failed to execute PosixPath('dot'), make sure the Graphviz executables are on your systems' PATH"
     ]
    },
    {
     "data": {
      "text/plain": [
       "<graphviz.graphs.Digraph at 0x341d07580>"
      ]
     },
     "execution_count": 26,
     "metadata": {},
     "output_type": "execute_result"
    }
   ],
   "source": [
    "from torchviz import make_dot\n",
    "\n",
    "y_pred = model(torch.randn(32, 3, 224, 224))\n",
    "\n",
    "make_dot(y_pred, params=dict(model.named_parameters()))"
   ]
  },
  {
   "cell_type": "code",
   "execution_count": 19,
   "metadata": {
    "id": "TOaIwHDSzBP3"
   },
   "outputs": [],
   "source": [
    "transform = transforms.Compose([\n",
    "    transforms.Resize((224, 224)),\n",
    "    transforms.ToTensor(),\n",
    "    transforms.Normalize(mean=[0.485, 0.456, 0.406], std=[0.229, 0.224, 0.225]),\n",
    "])"
   ]
  },
  {
   "cell_type": "code",
   "execution_count": 20,
   "metadata": {
    "colab": {
     "base_uri": "https://localhost:8080/"
    },
    "id": "N0Ww6weVzBP4",
    "outputId": "2ce1c4f3-cd26-4b6f-dd62-c9444a4cffd9"
   },
   "outputs": [
    {
     "name": "stdout",
     "output_type": "stream",
     "text": [
      "Downloading https://thor.robots.ox.ac.uk/pets/images.tar.gz to data/oxford-iiit-pet/images.tar.gz\n"
     ]
    },
    {
     "name": "stderr",
     "output_type": "stream",
     "text": [
      "100%|██████████| 792M/792M [00:21<00:00, 36.1MB/s]\n"
     ]
    },
    {
     "name": "stdout",
     "output_type": "stream",
     "text": [
      "Extracting data/oxford-iiit-pet/images.tar.gz to data/oxford-iiit-pet\n",
      "Downloading https://thor.robots.ox.ac.uk/pets/annotations.tar.gz to data/oxford-iiit-pet/annotations.tar.gz\n"
     ]
    },
    {
     "name": "stderr",
     "output_type": "stream",
     "text": [
      "100%|██████████| 19.2M/19.2M [00:01<00:00, 16.1MB/s]\n"
     ]
    },
    {
     "name": "stdout",
     "output_type": "stream",
     "text": [
      "Extracting data/oxford-iiit-pet/annotations.tar.gz to data/oxford-iiit-pet\n"
     ]
    }
   ],
   "source": [
    "trainval_data = datasets.OxfordIIITPet(root=\"data\", split=\"trainval\", target_types=\"category\", download=True, transform=transform)\n",
    "test_data = datasets.OxfordIIITPet(root=\"data\", split=\"test\", target_types=\"category\", download=True, transform=transform)\n",
    "combined_data = ConcatDataset([trainval_data, test_data])\n",
    "\n",
    "train_size = int(0.7 * len(combined_data))\n",
    "val_size = int(0.15 * len(combined_data))\n",
    "test_size = len(combined_data) - train_size - val_size\n",
    "train_data, val_data, test_data = random_split(combined_data, [train_size, val_size, test_size])"
   ]
  },
  {
   "cell_type": "code",
   "execution_count": 21,
   "metadata": {
    "colab": {
     "base_uri": "https://localhost:8080/"
    },
    "id": "S4sK4r0FzBP4",
    "outputId": "9cd976d3-0dd7-4566-a1a1-72369b008cf9"
   },
   "outputs": [
    {
     "name": "stdout",
     "output_type": "stream",
     "text": [
      "Train set size: 5144\n",
      "Validation set size: 1102\n",
      "Test set size: 1103\n"
     ]
    }
   ],
   "source": [
    "train_loader = DataLoader(train_data, batch_size=batch_size, shuffle=True)\n",
    "val_loader = DataLoader(val_data, batch_size=batch_size, shuffle=False)\n",
    "test_loader = DataLoader(test_data, batch_size=batch_size, shuffle=False)\n",
    "\n",
    "print(f\"Train set size: {len(train_data)}\")\n",
    "print(f\"Validation set size: {len(val_data)}\")\n",
    "print(f\"Test set size: {len(test_data)}\")"
   ]
  },
  {
   "cell_type": "code",
   "execution_count": 22,
   "metadata": {
    "id": "HCIgSLtBzBP4"
   },
   "outputs": [],
   "source": [
    "criterion = nn.CrossEntropyLoss()\n",
    "optimizer = optim.Adam(model.parameters(), lr=learning_rate)"
   ]
  },
  {
   "cell_type": "code",
   "execution_count": 23,
   "metadata": {
    "id": "qCcVDgIPzBP4"
   },
   "outputs": [],
   "source": [
    "def train(model, train_loader, criterion, optimizer, device):\n",
    "    model.train()\n",
    "    running_loss = 0.0\n",
    "    correct = 0\n",
    "    total = 0\n",
    "    for inputs, labels in tqdm(train_loader, desc=\"Training\"):\n",
    "        inputs, labels = inputs.to(device), labels.to(device)\n",
    "\n",
    "        optimizer.zero_grad()\n",
    "        outputs = model(inputs)\n",
    "        loss = criterion(outputs, labels)\n",
    "        loss.backward()\n",
    "        optimizer.step()\n",
    "\n",
    "        running_loss += loss.item()\n",
    "        _, predicted = torch.max(outputs, 1)\n",
    "        total += labels.size(0)\n",
    "        correct += (predicted == labels).sum().item()\n",
    "\n",
    "    epoch_loss = running_loss / len(train_loader)\n",
    "    accuracy = 100 * correct / total\n",
    "    print(f\"Train Loss: {epoch_loss:.4f}, Train Accuracy: {accuracy:.2f}%\")"
   ]
  },
  {
   "cell_type": "code",
   "execution_count": 24,
   "metadata": {
    "id": "pzZwWmVFzBP5"
   },
   "outputs": [],
   "source": [
    "def evaluate(model, data_loader, criterion, device, phase=\"Validation\"):\n",
    "    model.eval()\n",
    "    running_loss = 0.0\n",
    "    correct = 0\n",
    "    total = 0\n",
    "    with torch.no_grad():\n",
    "        for inputs, labels in tqdm(data_loader, desc=f\"{phase}\"):\n",
    "            inputs, labels = inputs.to(device), labels.to(device)\n",
    "            outputs = model(inputs)\n",
    "            loss = criterion(outputs, labels)\n",
    "\n",
    "            running_loss += loss.item()\n",
    "            _, predicted = torch.max(outputs, 1)\n",
    "            total += labels.size(0)\n",
    "            correct += (predicted == labels).sum().item()\n",
    "\n",
    "    epoch_loss = running_loss / len(data_loader)\n",
    "    accuracy = 100 * correct / total\n",
    "    print(f\"{phase} Loss: {epoch_loss:.4f}, {phase} Accuracy: {accuracy:.2f}%\")"
   ]
  },
  {
   "cell_type": "code",
   "execution_count": 25,
   "metadata": {
    "id": "ATaK9u_JDWLD"
   },
   "outputs": [],
   "source": [
    "def measure_inference_time(model, data_loader, device):\n",
    "    model.eval()\n",
    "    times = []\n",
    "\n",
    "    with torch.no_grad():\n",
    "        for inputs, _ in data_loader:\n",
    "            inputs = inputs.to(device)\n",
    "            start_time = torch.cuda.Event(enable_timing=True)\n",
    "            end_time = torch.cuda.Event(enable_timing=True)\n",
    "\n",
    "            start_time.record()\n",
    "            _ = model(inputs)  # inference 수행\n",
    "            end_time.record()\n",
    "\n",
    "            # 시간 측정\n",
    "            torch.cuda.synchronize()  # CUDA에서 모든 커널이 완료될 때까지 대기\n",
    "            elapsed_time = start_time.elapsed_time(end_time)  # 밀리초 단위로 반환\n",
    "            times.append(elapsed_time)\n",
    "\n",
    "    # 통계량 계산\n",
    "    times_np = np.array(times)\n",
    "    total_inferences = len(times_np)\n",
    "    avg_time = np.mean(times_np)\n",
    "    std_dev = np.std(times_np)\n",
    "    max_time = np.max(times_np)\n",
    "    min_time = np.min(times_np)\n",
    "\n",
    "    # 결과 출력\n",
    "    print(f\"Inference Time Measurement Results:\")\n",
    "    print(f\"Total Inferences: {total_inferences}\")\n",
    "    print(f\"Average Time: {avg_time:.2f} ms\")\n",
    "    print(f\"Standard Deviation: {std_dev:.2f} ms\")\n",
    "    print(f\"Maximum Time: {max_time:.2f} ms\")\n",
    "    print(f\"Minimum Time: {min_time:.2f} ms\")\n",
    "\n",
    "    return times"
   ]
  },
  {
   "cell_type": "code",
   "execution_count": 26,
   "metadata": {
    "colab": {
     "base_uri": "https://localhost:8080/"
    },
    "id": "YdGy_hjpzBP5",
    "outputId": "df80b5c0-8ccb-4271-e313-eee074aaeba1"
   },
   "outputs": [
    {
     "name": "stdout",
     "output_type": "stream",
     "text": [
      "\n",
      "Epoch 1/50\n"
     ]
    },
    {
     "name": "stderr",
     "output_type": "stream",
     "text": [
      "Training: 100%|██████████| 161/161 [00:29<00:00,  5.54it/s]\n"
     ]
    },
    {
     "name": "stdout",
     "output_type": "stream",
     "text": [
      "Train Loss: 3.6949, Train Accuracy: 4.51%\n"
     ]
    },
    {
     "name": "stderr",
     "output_type": "stream",
     "text": [
      "Validation: 100%|██████████| 35/35 [00:05<00:00,  6.39it/s]\n"
     ]
    },
    {
     "name": "stdout",
     "output_type": "stream",
     "text": [
      "Validation Loss: 3.6506, Validation Accuracy: 5.72%\n",
      "\n",
      "Epoch 2/50\n"
     ]
    },
    {
     "name": "stderr",
     "output_type": "stream",
     "text": [
      "Training: 100%|██████████| 161/161 [00:28<00:00,  5.73it/s]\n"
     ]
    },
    {
     "name": "stdout",
     "output_type": "stream",
     "text": [
      "Train Loss: 3.5731, Train Accuracy: 6.73%\n"
     ]
    },
    {
     "name": "stderr",
     "output_type": "stream",
     "text": [
      "Validation: 100%|██████████| 35/35 [00:05<00:00,  6.31it/s]\n"
     ]
    },
    {
     "name": "stdout",
     "output_type": "stream",
     "text": [
      "Validation Loss: 3.5958, Validation Accuracy: 6.90%\n",
      "\n",
      "Epoch 3/50\n"
     ]
    },
    {
     "name": "stderr",
     "output_type": "stream",
     "text": [
      "Training: 100%|██████████| 161/161 [00:27<00:00,  5.76it/s]\n"
     ]
    },
    {
     "name": "stdout",
     "output_type": "stream",
     "text": [
      "Train Loss: 3.4960, Train Accuracy: 7.68%\n"
     ]
    },
    {
     "name": "stderr",
     "output_type": "stream",
     "text": [
      "Validation: 100%|██████████| 35/35 [00:05<00:00,  6.31it/s]\n"
     ]
    },
    {
     "name": "stdout",
     "output_type": "stream",
     "text": [
      "Validation Loss: 3.4630, Validation Accuracy: 8.17%\n",
      "\n",
      "Epoch 4/50\n"
     ]
    },
    {
     "name": "stderr",
     "output_type": "stream",
     "text": [
      "Training: 100%|██████████| 161/161 [00:28<00:00,  5.75it/s]\n"
     ]
    },
    {
     "name": "stdout",
     "output_type": "stream",
     "text": [
      "Train Loss: 3.3534, Train Accuracy: 9.53%\n"
     ]
    },
    {
     "name": "stderr",
     "output_type": "stream",
     "text": [
      "Validation: 100%|██████████| 35/35 [00:05<00:00,  6.38it/s]\n"
     ]
    },
    {
     "name": "stdout",
     "output_type": "stream",
     "text": [
      "Validation Loss: 3.4254, Validation Accuracy: 8.89%\n",
      "\n",
      "Epoch 5/50\n"
     ]
    },
    {
     "name": "stderr",
     "output_type": "stream",
     "text": [
      "Training: 100%|██████████| 161/161 [00:27<00:00,  5.75it/s]\n"
     ]
    },
    {
     "name": "stdout",
     "output_type": "stream",
     "text": [
      "Train Loss: 3.2227, Train Accuracy: 13.51%\n"
     ]
    },
    {
     "name": "stderr",
     "output_type": "stream",
     "text": [
      "Validation: 100%|██████████| 35/35 [00:05<00:00,  6.37it/s]\n"
     ]
    },
    {
     "name": "stdout",
     "output_type": "stream",
     "text": [
      "Validation Loss: 3.2899, Validation Accuracy: 10.44%\n",
      "\n",
      "Epoch 6/50\n"
     ]
    },
    {
     "name": "stderr",
     "output_type": "stream",
     "text": [
      "Training: 100%|██████████| 161/161 [00:27<00:00,  5.77it/s]\n"
     ]
    },
    {
     "name": "stdout",
     "output_type": "stream",
     "text": [
      "Train Loss: 3.0703, Train Accuracy: 15.84%\n"
     ]
    },
    {
     "name": "stderr",
     "output_type": "stream",
     "text": [
      "Validation: 100%|██████████| 35/35 [00:05<00:00,  6.38it/s]\n"
     ]
    },
    {
     "name": "stdout",
     "output_type": "stream",
     "text": [
      "Validation Loss: 3.2278, Validation Accuracy: 13.52%\n",
      "\n",
      "Epoch 7/50\n"
     ]
    },
    {
     "name": "stderr",
     "output_type": "stream",
     "text": [
      "Training: 100%|██████████| 161/161 [00:28<00:00,  5.73it/s]\n"
     ]
    },
    {
     "name": "stdout",
     "output_type": "stream",
     "text": [
      "Train Loss: 2.9355, Train Accuracy: 18.47%\n"
     ]
    },
    {
     "name": "stderr",
     "output_type": "stream",
     "text": [
      "Validation: 100%|██████████| 35/35 [00:05<00:00,  6.38it/s]\n"
     ]
    },
    {
     "name": "stdout",
     "output_type": "stream",
     "text": [
      "Validation Loss: 3.0461, Validation Accuracy: 17.06%\n",
      "\n",
      "Epoch 8/50\n"
     ]
    },
    {
     "name": "stderr",
     "output_type": "stream",
     "text": [
      "Training: 100%|██████████| 161/161 [00:28<00:00,  5.70it/s]\n"
     ]
    },
    {
     "name": "stdout",
     "output_type": "stream",
     "text": [
      "Train Loss: 2.7959, Train Accuracy: 20.90%\n"
     ]
    },
    {
     "name": "stderr",
     "output_type": "stream",
     "text": [
      "Validation: 100%|██████████| 35/35 [00:05<00:00,  6.36it/s]\n"
     ]
    },
    {
     "name": "stdout",
     "output_type": "stream",
     "text": [
      "Validation Loss: 2.9250, Validation Accuracy: 19.42%\n",
      "\n",
      "Epoch 9/50\n"
     ]
    },
    {
     "name": "stderr",
     "output_type": "stream",
     "text": [
      "Training: 100%|██████████| 161/161 [00:28<00:00,  5.72it/s]\n"
     ]
    },
    {
     "name": "stdout",
     "output_type": "stream",
     "text": [
      "Train Loss: 2.6083, Train Accuracy: 25.58%\n"
     ]
    },
    {
     "name": "stderr",
     "output_type": "stream",
     "text": [
      "Validation: 100%|██████████| 35/35 [00:05<00:00,  6.43it/s]\n"
     ]
    },
    {
     "name": "stdout",
     "output_type": "stream",
     "text": [
      "Validation Loss: 3.1655, Validation Accuracy: 15.70%\n",
      "\n",
      "Epoch 10/50\n"
     ]
    },
    {
     "name": "stderr",
     "output_type": "stream",
     "text": [
      "Training: 100%|██████████| 161/161 [00:28<00:00,  5.71it/s]\n"
     ]
    },
    {
     "name": "stdout",
     "output_type": "stream",
     "text": [
      "Train Loss: 2.4832, Train Accuracy: 28.15%\n"
     ]
    },
    {
     "name": "stderr",
     "output_type": "stream",
     "text": [
      "Validation: 100%|██████████| 35/35 [00:05<00:00,  6.40it/s]\n"
     ]
    },
    {
     "name": "stdout",
     "output_type": "stream",
     "text": [
      "Validation Loss: 3.3911, Validation Accuracy: 16.24%\n",
      "\n",
      "Epoch 11/50\n"
     ]
    },
    {
     "name": "stderr",
     "output_type": "stream",
     "text": [
      "Training: 100%|██████████| 161/161 [00:27<00:00,  5.78it/s]\n"
     ]
    },
    {
     "name": "stdout",
     "output_type": "stream",
     "text": [
      "Train Loss: 2.3463, Train Accuracy: 30.81%\n"
     ]
    },
    {
     "name": "stderr",
     "output_type": "stream",
     "text": [
      "Validation: 100%|██████████| 35/35 [00:05<00:00,  6.43it/s]\n"
     ]
    },
    {
     "name": "stdout",
     "output_type": "stream",
     "text": [
      "Validation Loss: 2.9342, Validation Accuracy: 20.96%\n",
      "\n",
      "Epoch 12/50\n"
     ]
    },
    {
     "name": "stderr",
     "output_type": "stream",
     "text": [
      "Training: 100%|██████████| 161/161 [00:28<00:00,  5.73it/s]\n"
     ]
    },
    {
     "name": "stdout",
     "output_type": "stream",
     "text": [
      "Train Loss: 2.1912, Train Accuracy: 36.08%\n"
     ]
    },
    {
     "name": "stderr",
     "output_type": "stream",
     "text": [
      "Validation: 100%|██████████| 35/35 [00:05<00:00,  6.44it/s]\n"
     ]
    },
    {
     "name": "stdout",
     "output_type": "stream",
     "text": [
      "Validation Loss: 2.7879, Validation Accuracy: 27.40%\n",
      "\n",
      "Epoch 13/50\n"
     ]
    },
    {
     "name": "stderr",
     "output_type": "stream",
     "text": [
      "Training: 100%|██████████| 161/161 [00:27<00:00,  5.75it/s]\n"
     ]
    },
    {
     "name": "stdout",
     "output_type": "stream",
     "text": [
      "Train Loss: 2.0195, Train Accuracy: 40.40%\n"
     ]
    },
    {
     "name": "stderr",
     "output_type": "stream",
     "text": [
      "Validation: 100%|██████████| 35/35 [00:05<00:00,  6.28it/s]\n"
     ]
    },
    {
     "name": "stdout",
     "output_type": "stream",
     "text": [
      "Validation Loss: 2.7555, Validation Accuracy: 26.86%\n",
      "\n",
      "Epoch 14/50\n"
     ]
    },
    {
     "name": "stderr",
     "output_type": "stream",
     "text": [
      "Training: 100%|██████████| 161/161 [00:27<00:00,  5.78it/s]\n"
     ]
    },
    {
     "name": "stdout",
     "output_type": "stream",
     "text": [
      "Train Loss: 1.8377, Train Accuracy: 44.13%\n"
     ]
    },
    {
     "name": "stderr",
     "output_type": "stream",
     "text": [
      "Validation: 100%|██████████| 35/35 [00:05<00:00,  6.25it/s]\n"
     ]
    },
    {
     "name": "stdout",
     "output_type": "stream",
     "text": [
      "Validation Loss: 3.0034, Validation Accuracy: 22.96%\n",
      "\n",
      "Epoch 15/50\n"
     ]
    },
    {
     "name": "stderr",
     "output_type": "stream",
     "text": [
      "Training: 100%|██████████| 161/161 [00:27<00:00,  5.78it/s]\n"
     ]
    },
    {
     "name": "stdout",
     "output_type": "stream",
     "text": [
      "Train Loss: 1.6958, Train Accuracy: 48.04%\n"
     ]
    },
    {
     "name": "stderr",
     "output_type": "stream",
     "text": [
      "Validation: 100%|██████████| 35/35 [00:05<00:00,  6.36it/s]\n"
     ]
    },
    {
     "name": "stdout",
     "output_type": "stream",
     "text": [
      "Validation Loss: 2.7457, Validation Accuracy: 26.86%\n",
      "\n",
      "Epoch 16/50\n"
     ]
    },
    {
     "name": "stderr",
     "output_type": "stream",
     "text": [
      "Training: 100%|██████████| 161/161 [00:28<00:00,  5.72it/s]\n"
     ]
    },
    {
     "name": "stdout",
     "output_type": "stream",
     "text": [
      "Train Loss: 1.4632, Train Accuracy: 54.94%\n"
     ]
    },
    {
     "name": "stderr",
     "output_type": "stream",
     "text": [
      "Validation: 100%|██████████| 35/35 [00:05<00:00,  6.26it/s]\n"
     ]
    },
    {
     "name": "stdout",
     "output_type": "stream",
     "text": [
      "Validation Loss: 2.6573, Validation Accuracy: 32.49%\n",
      "\n",
      "Epoch 17/50\n"
     ]
    },
    {
     "name": "stderr",
     "output_type": "stream",
     "text": [
      "Training: 100%|██████████| 161/161 [00:27<00:00,  5.77it/s]\n"
     ]
    },
    {
     "name": "stdout",
     "output_type": "stream",
     "text": [
      "Train Loss: 1.2755, Train Accuracy: 60.23%\n"
     ]
    },
    {
     "name": "stderr",
     "output_type": "stream",
     "text": [
      "Validation: 100%|██████████| 35/35 [00:05<00:00,  6.44it/s]\n"
     ]
    },
    {
     "name": "stdout",
     "output_type": "stream",
     "text": [
      "Validation Loss: 2.8321, Validation Accuracy: 29.04%\n",
      "\n",
      "Epoch 18/50\n"
     ]
    },
    {
     "name": "stderr",
     "output_type": "stream",
     "text": [
      "Training: 100%|██████████| 161/161 [00:28<00:00,  5.74it/s]\n"
     ]
    },
    {
     "name": "stdout",
     "output_type": "stream",
     "text": [
      "Train Loss: 1.0842, Train Accuracy: 66.29%\n"
     ]
    },
    {
     "name": "stderr",
     "output_type": "stream",
     "text": [
      "Validation: 100%|██████████| 35/35 [00:05<00:00,  6.36it/s]\n"
     ]
    },
    {
     "name": "stdout",
     "output_type": "stream",
     "text": [
      "Validation Loss: 2.9802, Validation Accuracy: 28.58%\n",
      "\n",
      "Epoch 19/50\n"
     ]
    },
    {
     "name": "stderr",
     "output_type": "stream",
     "text": [
      "Training: 100%|██████████| 161/161 [00:28<00:00,  5.72it/s]\n"
     ]
    },
    {
     "name": "stdout",
     "output_type": "stream",
     "text": [
      "Train Loss: 0.9214, Train Accuracy: 70.20%\n"
     ]
    },
    {
     "name": "stderr",
     "output_type": "stream",
     "text": [
      "Validation: 100%|██████████| 35/35 [00:05<00:00,  6.36it/s]\n"
     ]
    },
    {
     "name": "stdout",
     "output_type": "stream",
     "text": [
      "Validation Loss: 3.1490, Validation Accuracy: 31.03%\n",
      "\n",
      "Epoch 20/50\n"
     ]
    },
    {
     "name": "stderr",
     "output_type": "stream",
     "text": [
      "Training: 100%|██████████| 161/161 [00:28<00:00,  5.74it/s]\n"
     ]
    },
    {
     "name": "stdout",
     "output_type": "stream",
     "text": [
      "Train Loss: 0.7079, Train Accuracy: 77.82%\n"
     ]
    },
    {
     "name": "stderr",
     "output_type": "stream",
     "text": [
      "Validation: 100%|██████████| 35/35 [00:05<00:00,  6.39it/s]\n"
     ]
    },
    {
     "name": "stdout",
     "output_type": "stream",
     "text": [
      "Validation Loss: 3.1170, Validation Accuracy: 31.49%\n",
      "\n",
      "Epoch 21/50\n"
     ]
    },
    {
     "name": "stderr",
     "output_type": "stream",
     "text": [
      "Training: 100%|██████████| 161/161 [00:28<00:00,  5.73it/s]\n"
     ]
    },
    {
     "name": "stdout",
     "output_type": "stream",
     "text": [
      "Train Loss: 0.5401, Train Accuracy: 82.62%\n"
     ]
    },
    {
     "name": "stderr",
     "output_type": "stream",
     "text": [
      "Validation: 100%|██████████| 35/35 [00:05<00:00,  6.40it/s]\n"
     ]
    },
    {
     "name": "stdout",
     "output_type": "stream",
     "text": [
      "Validation Loss: 3.4488, Validation Accuracy: 29.95%\n",
      "\n",
      "Epoch 22/50\n"
     ]
    },
    {
     "name": "stderr",
     "output_type": "stream",
     "text": [
      "Training: 100%|██████████| 161/161 [00:28<00:00,  5.70it/s]\n"
     ]
    },
    {
     "name": "stdout",
     "output_type": "stream",
     "text": [
      "Train Loss: 0.3839, Train Accuracy: 87.73%\n"
     ]
    },
    {
     "name": "stderr",
     "output_type": "stream",
     "text": [
      "Validation: 100%|██████████| 35/35 [00:05<00:00,  6.40it/s]\n"
     ]
    },
    {
     "name": "stdout",
     "output_type": "stream",
     "text": [
      "Validation Loss: 3.8819, Validation Accuracy: 29.13%\n",
      "\n",
      "Epoch 23/50\n"
     ]
    },
    {
     "name": "stderr",
     "output_type": "stream",
     "text": [
      "Training: 100%|██████████| 161/161 [00:27<00:00,  5.77it/s]\n"
     ]
    },
    {
     "name": "stdout",
     "output_type": "stream",
     "text": [
      "Train Loss: 0.3353, Train Accuracy: 89.81%\n"
     ]
    },
    {
     "name": "stderr",
     "output_type": "stream",
     "text": [
      "Validation: 100%|██████████| 35/35 [00:05<00:00,  6.26it/s]\n"
     ]
    },
    {
     "name": "stdout",
     "output_type": "stream",
     "text": [
      "Validation Loss: 3.5798, Validation Accuracy: 31.22%\n",
      "\n",
      "Epoch 24/50\n"
     ]
    },
    {
     "name": "stderr",
     "output_type": "stream",
     "text": [
      "Training: 100%|██████████| 161/161 [00:27<00:00,  5.76it/s]\n"
     ]
    },
    {
     "name": "stdout",
     "output_type": "stream",
     "text": [
      "Train Loss: 0.2664, Train Accuracy: 91.62%\n"
     ]
    },
    {
     "name": "stderr",
     "output_type": "stream",
     "text": [
      "Validation: 100%|██████████| 35/35 [00:05<00:00,  6.16it/s]\n"
     ]
    },
    {
     "name": "stdout",
     "output_type": "stream",
     "text": [
      "Validation Loss: 4.0058, Validation Accuracy: 29.58%\n",
      "\n",
      "Epoch 25/50\n"
     ]
    },
    {
     "name": "stderr",
     "output_type": "stream",
     "text": [
      "Training: 100%|██████████| 161/161 [00:27<00:00,  5.75it/s]\n"
     ]
    },
    {
     "name": "stdout",
     "output_type": "stream",
     "text": [
      "Train Loss: 0.2344, Train Accuracy: 93.22%\n"
     ]
    },
    {
     "name": "stderr",
     "output_type": "stream",
     "text": [
      "Validation: 100%|██████████| 35/35 [00:05<00:00,  6.21it/s]\n"
     ]
    },
    {
     "name": "stdout",
     "output_type": "stream",
     "text": [
      "Validation Loss: 3.9837, Validation Accuracy: 30.31%\n",
      "\n",
      "Epoch 26/50\n"
     ]
    },
    {
     "name": "stderr",
     "output_type": "stream",
     "text": [
      "Training: 100%|██████████| 161/161 [00:28<00:00,  5.74it/s]\n"
     ]
    },
    {
     "name": "stdout",
     "output_type": "stream",
     "text": [
      "Train Loss: 0.1728, Train Accuracy: 94.83%\n"
     ]
    },
    {
     "name": "stderr",
     "output_type": "stream",
     "text": [
      "Validation: 100%|██████████| 35/35 [00:05<00:00,  6.44it/s]\n"
     ]
    },
    {
     "name": "stdout",
     "output_type": "stream",
     "text": [
      "Validation Loss: 4.0132, Validation Accuracy: 30.94%\n",
      "\n",
      "Epoch 27/50\n"
     ]
    },
    {
     "name": "stderr",
     "output_type": "stream",
     "text": [
      "Training: 100%|██████████| 161/161 [00:28<00:00,  5.71it/s]\n"
     ]
    },
    {
     "name": "stdout",
     "output_type": "stream",
     "text": [
      "Train Loss: 0.1913, Train Accuracy: 93.82%\n"
     ]
    },
    {
     "name": "stderr",
     "output_type": "stream",
     "text": [
      "Validation: 100%|██████████| 35/35 [00:05<00:00,  6.25it/s]\n"
     ]
    },
    {
     "name": "stdout",
     "output_type": "stream",
     "text": [
      "Validation Loss: 4.0547, Validation Accuracy: 31.22%\n",
      "\n",
      "Epoch 28/50\n"
     ]
    },
    {
     "name": "stderr",
     "output_type": "stream",
     "text": [
      "Training: 100%|██████████| 161/161 [00:27<00:00,  5.77it/s]\n"
     ]
    },
    {
     "name": "stdout",
     "output_type": "stream",
     "text": [
      "Train Loss: 0.2033, Train Accuracy: 93.72%\n"
     ]
    },
    {
     "name": "stderr",
     "output_type": "stream",
     "text": [
      "Validation: 100%|██████████| 35/35 [00:05<00:00,  6.38it/s]\n"
     ]
    },
    {
     "name": "stdout",
     "output_type": "stream",
     "text": [
      "Validation Loss: 4.2757, Validation Accuracy: 29.95%\n",
      "\n",
      "Epoch 29/50\n"
     ]
    },
    {
     "name": "stderr",
     "output_type": "stream",
     "text": [
      "Training: 100%|██████████| 161/161 [00:28<00:00,  5.71it/s]\n"
     ]
    },
    {
     "name": "stdout",
     "output_type": "stream",
     "text": [
      "Train Loss: 0.2057, Train Accuracy: 93.80%\n"
     ]
    },
    {
     "name": "stderr",
     "output_type": "stream",
     "text": [
      "Validation: 100%|██████████| 35/35 [00:05<00:00,  6.35it/s]\n"
     ]
    },
    {
     "name": "stdout",
     "output_type": "stream",
     "text": [
      "Validation Loss: 4.5159, Validation Accuracy: 27.77%\n",
      "\n",
      "Epoch 30/50\n"
     ]
    },
    {
     "name": "stderr",
     "output_type": "stream",
     "text": [
      "Training: 100%|██████████| 161/161 [00:28<00:00,  5.69it/s]\n"
     ]
    },
    {
     "name": "stdout",
     "output_type": "stream",
     "text": [
      "Train Loss: 0.2128, Train Accuracy: 93.23%\n"
     ]
    },
    {
     "name": "stderr",
     "output_type": "stream",
     "text": [
      "Validation: 100%|██████████| 35/35 [00:05<00:00,  6.41it/s]\n"
     ]
    },
    {
     "name": "stdout",
     "output_type": "stream",
     "text": [
      "Validation Loss: 4.0742, Validation Accuracy: 32.12%\n",
      "\n",
      "Epoch 31/50\n"
     ]
    },
    {
     "name": "stderr",
     "output_type": "stream",
     "text": [
      "Training: 100%|██████████| 161/161 [00:27<00:00,  5.76it/s]\n"
     ]
    },
    {
     "name": "stdout",
     "output_type": "stream",
     "text": [
      "Train Loss: 0.1123, Train Accuracy: 96.58%\n"
     ]
    },
    {
     "name": "stderr",
     "output_type": "stream",
     "text": [
      "Validation: 100%|██████████| 35/35 [00:05<00:00,  6.42it/s]\n"
     ]
    },
    {
     "name": "stdout",
     "output_type": "stream",
     "text": [
      "Validation Loss: 4.0801, Validation Accuracy: 31.49%\n",
      "\n",
      "Epoch 32/50\n"
     ]
    },
    {
     "name": "stderr",
     "output_type": "stream",
     "text": [
      "Training: 100%|██████████| 161/161 [00:27<00:00,  5.77it/s]\n"
     ]
    },
    {
     "name": "stdout",
     "output_type": "stream",
     "text": [
      "Train Loss: 0.1027, Train Accuracy: 96.66%\n"
     ]
    },
    {
     "name": "stderr",
     "output_type": "stream",
     "text": [
      "Validation: 100%|██████████| 35/35 [00:05<00:00,  6.44it/s]\n"
     ]
    },
    {
     "name": "stdout",
     "output_type": "stream",
     "text": [
      "Validation Loss: 4.1778, Validation Accuracy: 32.30%\n",
      "\n",
      "Epoch 33/50\n"
     ]
    },
    {
     "name": "stderr",
     "output_type": "stream",
     "text": [
      "Training: 100%|██████████| 161/161 [00:27<00:00,  5.77it/s]\n"
     ]
    },
    {
     "name": "stdout",
     "output_type": "stream",
     "text": [
      "Train Loss: 0.1014, Train Accuracy: 96.83%\n"
     ]
    },
    {
     "name": "stderr",
     "output_type": "stream",
     "text": [
      "Validation: 100%|██████████| 35/35 [00:05<00:00,  6.43it/s]\n"
     ]
    },
    {
     "name": "stdout",
     "output_type": "stream",
     "text": [
      "Validation Loss: 4.3021, Validation Accuracy: 30.76%\n",
      "\n",
      "Epoch 34/50\n"
     ]
    },
    {
     "name": "stderr",
     "output_type": "stream",
     "text": [
      "Training: 100%|██████████| 161/161 [00:27<00:00,  5.77it/s]\n"
     ]
    },
    {
     "name": "stdout",
     "output_type": "stream",
     "text": [
      "Train Loss: 0.1015, Train Accuracy: 96.95%\n"
     ]
    },
    {
     "name": "stderr",
     "output_type": "stream",
     "text": [
      "Validation: 100%|██████████| 35/35 [00:05<00:00,  6.42it/s]\n"
     ]
    },
    {
     "name": "stdout",
     "output_type": "stream",
     "text": [
      "Validation Loss: 4.3734, Validation Accuracy: 32.30%\n",
      "\n",
      "Epoch 35/50\n"
     ]
    },
    {
     "name": "stderr",
     "output_type": "stream",
     "text": [
      "Training: 100%|██████████| 161/161 [00:27<00:00,  5.76it/s]\n"
     ]
    },
    {
     "name": "stdout",
     "output_type": "stream",
     "text": [
      "Train Loss: 0.1656, Train Accuracy: 94.56%\n"
     ]
    },
    {
     "name": "stderr",
     "output_type": "stream",
     "text": [
      "Validation: 100%|██████████| 35/35 [00:05<00:00,  6.36it/s]\n"
     ]
    },
    {
     "name": "stdout",
     "output_type": "stream",
     "text": [
      "Validation Loss: 4.7159, Validation Accuracy: 29.58%\n",
      "\n",
      "Epoch 36/50\n"
     ]
    },
    {
     "name": "stderr",
     "output_type": "stream",
     "text": [
      "Training: 100%|██████████| 161/161 [00:27<00:00,  5.75it/s]\n"
     ]
    },
    {
     "name": "stdout",
     "output_type": "stream",
     "text": [
      "Train Loss: 0.2405, Train Accuracy: 91.97%\n"
     ]
    },
    {
     "name": "stderr",
     "output_type": "stream",
     "text": [
      "Validation: 100%|██████████| 35/35 [00:05<00:00,  6.39it/s]\n"
     ]
    },
    {
     "name": "stdout",
     "output_type": "stream",
     "text": [
      "Validation Loss: 4.7906, Validation Accuracy: 29.58%\n",
      "\n",
      "Epoch 37/50\n"
     ]
    },
    {
     "name": "stderr",
     "output_type": "stream",
     "text": [
      "Training: 100%|██████████| 161/161 [00:27<00:00,  5.78it/s]\n"
     ]
    },
    {
     "name": "stdout",
     "output_type": "stream",
     "text": [
      "Train Loss: 0.1768, Train Accuracy: 94.58%\n"
     ]
    },
    {
     "name": "stderr",
     "output_type": "stream",
     "text": [
      "Validation: 100%|██████████| 35/35 [00:05<00:00,  6.38it/s]\n"
     ]
    },
    {
     "name": "stdout",
     "output_type": "stream",
     "text": [
      "Validation Loss: 4.6332, Validation Accuracy: 31.13%\n",
      "\n",
      "Epoch 38/50\n"
     ]
    },
    {
     "name": "stderr",
     "output_type": "stream",
     "text": [
      "Training: 100%|██████████| 161/161 [00:27<00:00,  5.76it/s]\n"
     ]
    },
    {
     "name": "stdout",
     "output_type": "stream",
     "text": [
      "Train Loss: 0.1057, Train Accuracy: 96.71%\n"
     ]
    },
    {
     "name": "stderr",
     "output_type": "stream",
     "text": [
      "Validation: 100%|██████████| 35/35 [00:05<00:00,  6.43it/s]\n"
     ]
    },
    {
     "name": "stdout",
     "output_type": "stream",
     "text": [
      "Validation Loss: 4.4773, Validation Accuracy: 30.76%\n",
      "\n",
      "Epoch 39/50\n"
     ]
    },
    {
     "name": "stderr",
     "output_type": "stream",
     "text": [
      "Training: 100%|██████████| 161/161 [00:28<00:00,  5.75it/s]\n"
     ]
    },
    {
     "name": "stdout",
     "output_type": "stream",
     "text": [
      "Train Loss: 0.0940, Train Accuracy: 97.05%\n"
     ]
    },
    {
     "name": "stderr",
     "output_type": "stream",
     "text": [
      "Validation: 100%|██████████| 35/35 [00:05<00:00,  6.48it/s]\n"
     ]
    },
    {
     "name": "stdout",
     "output_type": "stream",
     "text": [
      "Validation Loss: 4.6609, Validation Accuracy: 33.03%\n",
      "\n",
      "Epoch 40/50\n"
     ]
    },
    {
     "name": "stderr",
     "output_type": "stream",
     "text": [
      "Training: 100%|██████████| 161/161 [00:28<00:00,  5.74it/s]\n"
     ]
    },
    {
     "name": "stdout",
     "output_type": "stream",
     "text": [
      "Train Loss: 0.0748, Train Accuracy: 97.61%\n"
     ]
    },
    {
     "name": "stderr",
     "output_type": "stream",
     "text": [
      "Validation: 100%|██████████| 35/35 [00:05<00:00,  6.52it/s]\n"
     ]
    },
    {
     "name": "stdout",
     "output_type": "stream",
     "text": [
      "Validation Loss: 4.5267, Validation Accuracy: 33.21%\n",
      "\n",
      "Epoch 41/50\n"
     ]
    },
    {
     "name": "stderr",
     "output_type": "stream",
     "text": [
      "Training: 100%|██████████| 161/161 [00:27<00:00,  5.77it/s]\n"
     ]
    },
    {
     "name": "stdout",
     "output_type": "stream",
     "text": [
      "Train Loss: 0.0793, Train Accuracy: 97.41%\n"
     ]
    },
    {
     "name": "stderr",
     "output_type": "stream",
     "text": [
      "Validation: 100%|██████████| 35/35 [00:05<00:00,  6.28it/s]\n"
     ]
    },
    {
     "name": "stdout",
     "output_type": "stream",
     "text": [
      "Validation Loss: 5.0347, Validation Accuracy: 29.67%\n",
      "\n",
      "Epoch 42/50\n"
     ]
    },
    {
     "name": "stderr",
     "output_type": "stream",
     "text": [
      "Training: 100%|██████████| 161/161 [00:28<00:00,  5.75it/s]\n"
     ]
    },
    {
     "name": "stdout",
     "output_type": "stream",
     "text": [
      "Train Loss: 0.1516, Train Accuracy: 94.69%\n"
     ]
    },
    {
     "name": "stderr",
     "output_type": "stream",
     "text": [
      "Validation: 100%|██████████| 35/35 [00:05<00:00,  6.41it/s]\n"
     ]
    },
    {
     "name": "stdout",
     "output_type": "stream",
     "text": [
      "Validation Loss: 5.1381, Validation Accuracy: 29.13%\n",
      "\n",
      "Epoch 43/50\n"
     ]
    },
    {
     "name": "stderr",
     "output_type": "stream",
     "text": [
      "Training: 100%|██████████| 161/161 [00:27<00:00,  5.76it/s]\n"
     ]
    },
    {
     "name": "stdout",
     "output_type": "stream",
     "text": [
      "Train Loss: 0.1614, Train Accuracy: 94.89%\n"
     ]
    },
    {
     "name": "stderr",
     "output_type": "stream",
     "text": [
      "Validation: 100%|██████████| 35/35 [00:05<00:00,  6.48it/s]\n"
     ]
    },
    {
     "name": "stdout",
     "output_type": "stream",
     "text": [
      "Validation Loss: 5.1239, Validation Accuracy: 30.13%\n",
      "\n",
      "Epoch 44/50\n"
     ]
    },
    {
     "name": "stderr",
     "output_type": "stream",
     "text": [
      "Training: 100%|██████████| 161/161 [00:28<00:00,  5.74it/s]\n"
     ]
    },
    {
     "name": "stdout",
     "output_type": "stream",
     "text": [
      "Train Loss: 0.1398, Train Accuracy: 95.14%\n"
     ]
    },
    {
     "name": "stderr",
     "output_type": "stream",
     "text": [
      "Validation: 100%|██████████| 35/35 [00:05<00:00,  6.41it/s]\n"
     ]
    },
    {
     "name": "stdout",
     "output_type": "stream",
     "text": [
      "Validation Loss: 4.6763, Validation Accuracy: 30.22%\n",
      "\n",
      "Epoch 45/50\n"
     ]
    },
    {
     "name": "stderr",
     "output_type": "stream",
     "text": [
      "Training: 100%|██████████| 161/161 [00:27<00:00,  5.76it/s]\n"
     ]
    },
    {
     "name": "stdout",
     "output_type": "stream",
     "text": [
      "Train Loss: 0.0685, Train Accuracy: 97.88%\n"
     ]
    },
    {
     "name": "stderr",
     "output_type": "stream",
     "text": [
      "Validation: 100%|██████████| 35/35 [00:05<00:00,  6.31it/s]\n"
     ]
    },
    {
     "name": "stdout",
     "output_type": "stream",
     "text": [
      "Validation Loss: 4.7800, Validation Accuracy: 31.31%\n",
      "\n",
      "Epoch 46/50\n"
     ]
    },
    {
     "name": "stderr",
     "output_type": "stream",
     "text": [
      "Training: 100%|██████████| 161/161 [00:27<00:00,  5.76it/s]\n"
     ]
    },
    {
     "name": "stdout",
     "output_type": "stream",
     "text": [
      "Train Loss: 0.0406, Train Accuracy: 98.64%\n"
     ]
    },
    {
     "name": "stderr",
     "output_type": "stream",
     "text": [
      "Validation: 100%|██████████| 35/35 [00:05<00:00,  6.29it/s]\n"
     ]
    },
    {
     "name": "stdout",
     "output_type": "stream",
     "text": [
      "Validation Loss: 4.6275, Validation Accuracy: 33.94%\n",
      "\n",
      "Epoch 47/50\n"
     ]
    },
    {
     "name": "stderr",
     "output_type": "stream",
     "text": [
      "Training: 100%|██████████| 161/161 [00:27<00:00,  5.78it/s]\n"
     ]
    },
    {
     "name": "stdout",
     "output_type": "stream",
     "text": [
      "Train Loss: 0.0397, Train Accuracy: 98.74%\n"
     ]
    },
    {
     "name": "stderr",
     "output_type": "stream",
     "text": [
      "Validation: 100%|██████████| 35/35 [00:05<00:00,  6.34it/s]\n"
     ]
    },
    {
     "name": "stdout",
     "output_type": "stream",
     "text": [
      "Validation Loss: 4.8685, Validation Accuracy: 31.40%\n",
      "\n",
      "Epoch 48/50\n"
     ]
    },
    {
     "name": "stderr",
     "output_type": "stream",
     "text": [
      "Training: 100%|██████████| 161/161 [00:27<00:00,  5.77it/s]\n"
     ]
    },
    {
     "name": "stdout",
     "output_type": "stream",
     "text": [
      "Train Loss: 0.0695, Train Accuracy: 97.71%\n"
     ]
    },
    {
     "name": "stderr",
     "output_type": "stream",
     "text": [
      "Validation: 100%|██████████| 35/35 [00:05<00:00,  6.44it/s]\n"
     ]
    },
    {
     "name": "stdout",
     "output_type": "stream",
     "text": [
      "Validation Loss: 5.4158, Validation Accuracy: 27.95%\n",
      "\n",
      "Epoch 49/50\n"
     ]
    },
    {
     "name": "stderr",
     "output_type": "stream",
     "text": [
      "Training: 100%|██████████| 161/161 [00:27<00:00,  5.77it/s]\n"
     ]
    },
    {
     "name": "stdout",
     "output_type": "stream",
     "text": [
      "Train Loss: 0.0734, Train Accuracy: 97.82%\n"
     ]
    },
    {
     "name": "stderr",
     "output_type": "stream",
     "text": [
      "Validation: 100%|██████████| 35/35 [00:05<00:00,  6.40it/s]\n"
     ]
    },
    {
     "name": "stdout",
     "output_type": "stream",
     "text": [
      "Validation Loss: 5.0509, Validation Accuracy: 32.12%\n",
      "\n",
      "Epoch 50/50\n"
     ]
    },
    {
     "name": "stderr",
     "output_type": "stream",
     "text": [
      "Training: 100%|██████████| 161/161 [00:28<00:00,  5.72it/s]\n"
     ]
    },
    {
     "name": "stdout",
     "output_type": "stream",
     "text": [
      "Train Loss: 0.1112, Train Accuracy: 96.42%\n"
     ]
    },
    {
     "name": "stderr",
     "output_type": "stream",
     "text": [
      "Validation: 100%|██████████| 35/35 [00:05<00:00,  6.34it/s]"
     ]
    },
    {
     "name": "stdout",
     "output_type": "stream",
     "text": [
      "Validation Loss: 5.5827, Validation Accuracy: 27.95%\n"
     ]
    },
    {
     "name": "stderr",
     "output_type": "stream",
     "text": [
      "\n"
     ]
    }
   ],
   "source": [
    "for epoch in range(num_epochs):\n",
    "    print(f\"\\nEpoch {epoch+1}/{num_epochs}\")\n",
    "    train(model, train_loader, criterion, optimizer, device)\n",
    "    evaluate(model, val_loader, criterion, device, phase=\"Validation\")"
   ]
  },
  {
   "cell_type": "code",
   "execution_count": 27,
   "metadata": {
    "colab": {
     "base_uri": "https://localhost:8080/"
    },
    "id": "tAiyDwO0zMk1",
    "outputId": "0ae6ff9e-6571-46ea-e3c4-e900282c3715"
   },
   "outputs": [
    {
     "name": "stdout",
     "output_type": "stream",
     "text": [
      "\n",
      "Final Test Evaluation\n"
     ]
    },
    {
     "name": "stderr",
     "output_type": "stream",
     "text": [
      "Test: 100%|██████████| 35/35 [00:05<00:00,  6.26it/s]"
     ]
    },
    {
     "name": "stdout",
     "output_type": "stream",
     "text": [
      "Test Loss: 5.5899, Test Accuracy: 27.47%\n"
     ]
    },
    {
     "name": "stderr",
     "output_type": "stream",
     "text": [
      "\n"
     ]
    }
   ],
   "source": [
    "print(\"\\nFinal Test Evaluation\")\n",
    "evaluate(model, test_loader, criterion, device, phase=\"Test\")"
   ]
  },
  {
   "cell_type": "code",
   "execution_count": 28,
   "metadata": {
    "colab": {
     "base_uri": "https://localhost:8080/"
    },
    "id": "HCv209A51QEb",
    "outputId": "8f66e16f-b8af-4894-fc48-f2b4bde9ad1d"
   },
   "outputs": [
    {
     "name": "stdout",
     "output_type": "stream",
     "text": [
      "Inference Time Measurement Results:\n",
      "Total Inferences: 35\n",
      "Average Time: 5.82 ms\n",
      "Standard Deviation: 0.18 ms\n",
      "Maximum Time: 6.77 ms\n",
      "Minimum Time: 5.61 ms\n"
     ]
    }
   ],
   "source": [
    "times = measure_inference_time(model, test_loader, device)"
   ]
  },
  {
   "cell_type": "code",
   "execution_count": 28,
   "metadata": {
    "id": "m_kVgdJKDZqe"
   },
   "outputs": [],
   "source": []
  }
 ],
 "metadata": {
  "accelerator": "GPU",
  "colab": {
   "gpuType": "A100",
   "machine_shape": "hm",
   "provenance": []
  },
  "kernelspec": {
   "display_name": "3.10.0",
   "language": "python",
   "name": "python3"
  },
  "language_info": {
   "codemirror_mode": {
    "name": "ipython",
    "version": 3
   },
   "file_extension": ".py",
   "mimetype": "text/x-python",
   "name": "python",
   "nbconvert_exporter": "python",
   "pygments_lexer": "ipython3",
   "version": "3.10.0"
  }
 },
 "nbformat": 4,
 "nbformat_minor": 4
}
