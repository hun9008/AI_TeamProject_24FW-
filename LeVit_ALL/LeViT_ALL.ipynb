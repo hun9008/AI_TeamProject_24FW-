{
 "cells": [
  {
   "cell_type": "code",
   "execution_count": 1,
   "metadata": {
    "colab": {
     "base_uri": "https://localhost:8080/"
    },
    "id": "gOt_dilyzGPf",
    "outputId": "4ac2f53f-5039-44e0-ce65-166719f3e257"
   },
   "outputs": [
    {
     "name": "stdout",
     "output_type": "stream",
     "text": [
      "Collecting torchinfo\n",
      "  Downloading torchinfo-1.8.0-py3-none-any.whl.metadata (21 kB)\n",
      "Downloading torchinfo-1.8.0-py3-none-any.whl (23 kB)\n",
      "Installing collected packages: torchinfo\n",
      "Successfully installed torchinfo-1.8.0\n"
     ]
    }
   ],
   "source": [
    "!pip install torchinfo"
   ]
  },
  {
   "cell_type": "code",
   "execution_count": 2,
   "metadata": {
    "id": "tZSEFQzWzBPy"
   },
   "outputs": [],
   "source": [
    "import timm\n",
    "import torch\n",
    "import torch.nn as nn\n",
    "import torch.optim as optim\n",
    "from torchvision import datasets, transforms\n",
    "from torch.utils.data import DataLoader, random_split, ConcatDataset\n",
    "import numpy as np\n",
    "from tqdm import tqdm\n",
    "\n",
    "import itertools\n",
    "from torchinfo import summary"
   ]
  },
  {
   "cell_type": "code",
   "execution_count": 3,
   "metadata": {
    "id": "5N0s6e-mzBPz"
   },
   "outputs": [],
   "source": [
    "class ConvNorm(nn.Module):\n",
    "    def __init__(self, in_channels, out_channels, kernel_size=3, stride=2, padding=1):\n",
    "        super(ConvNorm, self).__init__()\n",
    "        self.linear = nn.Conv2d(\n",
    "            in_channels, out_channels, kernel_size=kernel_size,\n",
    "            stride=stride, padding=padding, bias=False\n",
    "        )\n",
    "        self.bn = nn.BatchNorm2d(out_channels)\n",
    "\n",
    "    def forward(self, x):\n",
    "        x = self.linear(x)\n",
    "        x = self.bn(x)\n",
    "        return x"
   ]
  },
  {
   "cell_type": "code",
   "execution_count": 4,
   "metadata": {
    "id": "fX0CnXd9zBP0"
   },
   "outputs": [],
   "source": [
    "class Stem16(nn.Module):\n",
    "    def __init__(self):\n",
    "        super(Stem16, self).__init__()\n",
    "        self.conv1 = ConvNorm(3, 32)\n",
    "        self.act1 = nn.Hardswish()\n",
    "        self.conv2 = ConvNorm(32, 64)\n",
    "        self.act2 = nn.Hardswish()\n",
    "        self.conv3 = ConvNorm(64, 128)\n",
    "        self.act3 = nn.Hardswish()\n",
    "        self.conv4 = ConvNorm(128, 256)\n",
    "\n",
    "    def forward(self, x):\n",
    "        x = self.act1(self.conv1(x))\n",
    "        x = self.act2(self.conv2(x))\n",
    "        x = self.act3(self.conv3(x))\n",
    "        x = self.conv4(x)\n",
    "        return x"
   ]
  },
  {
   "cell_type": "code",
   "execution_count": 5,
   "metadata": {
    "id": "7tw3fRfnzBP0"
   },
   "outputs": [],
   "source": [
    "class LinearNorm(nn.Module):\n",
    "    def __init__(self, in_features, out_features):\n",
    "        super(LinearNorm, self).__init__()\n",
    "        self.linear = nn.Linear(in_features, out_features, bias=False)\n",
    "        self.bn = nn.BatchNorm1d(out_features)\n",
    "\n",
    "    def forward(self, x):\n",
    "\n",
    "        if x.dim() == 3:\n",
    "            B, N, C = x.shape\n",
    "            x = x.reshape(B * N, C)\n",
    "            x = self.bn(self.linear(x))\n",
    "            x = x.reshape(B, N, -1)\n",
    "        else:\n",
    "            x = self.bn(self.linear(x))\n",
    "        return x"
   ]
  },
  {
   "cell_type": "code",
   "execution_count": 6,
   "metadata": {
    "id": "rW7vhH2YzBP1"
   },
   "outputs": [],
   "source": [
    "class Attention(nn.Module):\n",
    "    def __init__(self, dim, num_heads, attn_ratio=2):\n",
    "        super(Attention, self).__init__()\n",
    "        self.num_heads = num_heads\n",
    "        head_dim = dim // num_heads\n",
    "        self.scale = head_dim ** -0.5\n",
    "        inner_dim = head_dim * num_heads * 3\n",
    "        self.qkv = LinearNorm(dim, inner_dim)\n",
    "\n",
    "        self.proj = nn.Sequential(\n",
    "            nn.Hardswish(),\n",
    "            LinearNorm(dim, dim)\n",
    "        )\n",
    "\n",
    "    def forward(self, x):\n",
    "        B, N, C = x.shape\n",
    "        qkv = self.qkv(x)\n",
    "        qkv = qkv.view(B, N, 3, self.num_heads, C // self.num_heads).permute(2, 0, 3, 1, 4)\n",
    "        q, k, v = qkv[0], qkv[1], qkv[2]\n",
    "        attn = (q @ k.transpose(-2, -1)) * self.scale\n",
    "        attn = attn.softmax(dim=-1)\n",
    "        x = (attn @ v).transpose(1, 2).reshape(B, N, C)\n",
    "        return self.proj(x)"
   ]
  },
  {
   "cell_type": "code",
   "execution_count": 7,
   "metadata": {
    "id": "ewOcRA2dzBP1"
   },
   "outputs": [],
   "source": [
    "class LevitMlp(nn.Module):\n",
    "    def __init__(self, in_features, hidden_features, out_features):\n",
    "        super(LevitMlp, self).__init__()\n",
    "        self.ln1 = LinearNorm(in_features, hidden_features)\n",
    "        self.act = nn.Hardswish()\n",
    "        self.drop = nn.Dropout(p=0.5, inplace=False)#dropout 적용\n",
    "        self.ln2 = LinearNorm(hidden_features, out_features)\n",
    "\n",
    "    def forward(self, x):\n",
    "        x = self.ln1(x)\n",
    "        x = self.act(x)\n",
    "        x = self.drop(x)\n",
    "        x = self.ln2(x)\n",
    "        return x"
   ]
  },
  {
   "cell_type": "code",
   "execution_count": 8,
   "metadata": {
    "id": "1m-F4YvfzBP2"
   },
   "outputs": [],
   "source": [
    "class LevitBlock(nn.Module):\n",
    "    def __init__(self, dim, num_heads, mlp_ratio=2):\n",
    "        super(LevitBlock, self).__init__()\n",
    "        self.attn = Attention(dim, num_heads)\n",
    "        self.drop_path1 = nn.Identity()\n",
    "        self.mlp = LevitMlp(dim, dim * mlp_ratio, dim)\n",
    "        self.drop_path2 = nn.Identity()\n",
    "\n",
    "    def forward(self, x):\n",
    "        x = x + self.drop_path1(self.attn(x))\n",
    "        x = x + self.drop_path2(self.mlp(x))\n",
    "        return x"
   ]
  },
  {
   "cell_type": "code",
   "execution_count": 9,
   "metadata": {
    "id": "pDfX1xE1zBP2"
   },
   "outputs": [],
   "source": [
    "# class AttentionDownsample(nn.Module):\n",
    "#     def __init__(self, dim, out_dim, num_heads, attn_ratio=2):\n",
    "#         super(AttentionDownsample, self).__init__()\n",
    "#         self.num_heads = num_heads\n",
    "#         self.scale = (dim // num_heads) ** -0.5\n",
    "#         inner_dim = dim * attn_ratio * num_heads\n",
    "#         self.kv = LinearNorm(dim, inner_dim)\n",
    "\n",
    "#         self.q = nn.Sequential(\n",
    "#             nn.Conv2d(dim, dim, kernel_size=2, stride=2),\n",
    "#             nn.Flatten(start_dim=1)\n",
    "#         )\n",
    "\n",
    "#         self.proj = nn.Sequential(\n",
    "#             nn.Hardswish(),\n",
    "#             LinearNorm(dim, out_dim)\n",
    "#         )\n",
    "\n",
    "#     def forward(self, x):\n",
    "#         B, N, C = x.shape\n",
    "#         H = W = int(N ** 0.5)\n",
    "#         x = x.reshape(B, C, H, W)\n",
    "\n",
    "#         kv = self.kv(x.flatten(2).transpose(1, 2))\n",
    "#         q = self.q(x)\n",
    "\n",
    "#         q = q.reshape(B, -1, C)\n",
    "#         x = self.proj(q)\n",
    "#         return x"
   ]
  },
  {
   "cell_type": "code",
   "execution_count": 10,
   "metadata": {
    "id": "Z26uegOwzBP2"
   },
   "outputs": [],
   "source": [
    "# class LevitDownsample(nn.Module):\n",
    "#     def __init__(self, dim, out_dim, num_heads, attn_ratio=2):\n",
    "#         super(LevitDownsample, self).__init__()\n",
    "#         self.attn_downsample = AttentionDownsample(dim, out_dim, num_heads, attn_ratio)\n",
    "#         self.mlp = LevitMlp(out_dim, out_dim * attn_ratio, out_dim)\n",
    "#         self.drop_path = nn.Identity()\n",
    "\n",
    "#     def forward(self, x):\n",
    "#         x = self.attn_downsample(x)\n",
    "#         x = self.drop_path(self.mlp(x))\n",
    "#         return x"
   ]
  },
  {
   "cell_type": "code",
   "execution_count": 11,
   "metadata": {
    "id": "p2DJrMeyJ2RO"
   },
   "outputs": [],
   "source": [
    "#CNNDownSample 적용\n",
    "class CNNDownsample(nn.Module):\n",
    "    def __init__(self, in_channels, out_channels):\n",
    "        super(CNNDownsample, self).__init__()\n",
    "        self.out_channels = out_channels\n",
    "        self.conv = nn.Conv2d(in_channels, out_channels, kernel_size=3, stride=2, padding=1)\n",
    "        self.act = nn.Hardswish()\n",
    "\n",
    "    def forward(self, x):\n",
    "        # print(x.shape)\n",
    "        B, N, C = x.shape # (B, N, C)  N=H*W (16 * 16 = 196)\n",
    "        H = int(np.sqrt(N))\n",
    "        x = x.view(B, H, H, C).permute(0, 3, 1, 2)\n",
    "        x = self.conv(x)\n",
    "        x = self.act(x)\n",
    "        x = x.permute(0, 2, 3, 1).view(B, -1, self.out_channels)\n",
    "        return x"
   ]
  },
  {
   "cell_type": "code",
   "execution_count": 12,
   "metadata": {
    "id": "oGsAuLPfzBP3"
   },
   "outputs": [],
   "source": [
    "class LevitStage(nn.Module):\n",
    "    def __init__(self, dim, out_dim, num_heads, num_blocks, downsample=True):\n",
    "        super(LevitStage, self).__init__()\n",
    "        self.downsample = CNNDownsample(dim, out_dim) if downsample else nn.Identity()\n",
    "        self.blocks = nn.Sequential(*[LevitBlock(out_dim, num_heads) for _ in range(num_blocks)])\n",
    "\n",
    "    def forward(self, x):\n",
    "        x = self.downsample(x)\n",
    "        x = self.blocks(x)\n",
    "        return x"
   ]
  },
  {
   "cell_type": "code",
   "execution_count": 13,
   "metadata": {
    "id": "2PBkdZUuhsDI"
   },
   "outputs": [],
   "source": [
    "class ConvLevitStage(nn.Module):\n",
    "    def __init__(self, in_channels, out_channels, num_blocks, kernel_size, stride, padding):\n",
    "        super(ConvLevitStage, self).__init__()\n",
    "        self.layers = nn.Sequential(\n",
    "            *[nn.Conv2d(in_channels if i == 0 else out_channels, out_channels, kernel_size, stride, padding)\n",
    "              for i in range(num_blocks)],\n",
    "            nn.BatchNorm2d(out_channels),\n",
    "            nn.ReLU(inplace=True)\n",
    "        )\n",
    "\n",
    "    def forward(self, x):\n",
    "        return self.layers(x)"
   ]
  },
  {
   "cell_type": "code",
   "execution_count": 14,
   "metadata": {
    "id": "bBPec4pbzBP3"
   },
   "outputs": [],
   "source": [
    "class NormLinear(nn.Module):\n",
    "    def __init__(self, in_features, out_features, dropout_prob=0.5):#drop_out_0.5 적용\n",
    "        super(NormLinear, self).__init__()\n",
    "        self.bn = nn.BatchNorm1d(in_features)\n",
    "        self.drop = nn.Dropout(p=dropout_prob, inplace=False)\n",
    "        self.linear = nn.Linear(in_features, out_features, bias=True)\n",
    "\n",
    "    def forward(self, x):\n",
    "        x = self.bn(x)\n",
    "        x = self.drop(x)\n",
    "        x = self.linear(x)\n",
    "        return x\n"
   ]
  },
  {
   "cell_type": "code",
   "execution_count": 15,
   "metadata": {
    "id": "mt5kkekezBP3"
   },
   "outputs": [],
   "source": [
    "class LevitDistilled(nn.Module):\n",
    "    def __init__(self, num_classes=37):\n",
    "        super(LevitDistilled, self).__init__()\n",
    "\n",
    "        self.stem = Stem16()\n",
    "\n",
    "        self.stage1 = LevitStage(dim=256, out_dim=256, num_heads=4, num_blocks=2, downsample=False) # block 수 적용\n",
    "        self.stage2 = LevitStage(dim=256, out_dim=384, num_heads=6, num_blocks=2, downsample=True)\n",
    "\n",
    "        self.conv1x1 = nn.Sequential(\n",
    "            nn.Conv2d(384, 512, kernel_size=1, stride=1, padding=0),\n",
    "            nn.BatchNorm2d(512),\n",
    "            nn.ReLU(inplace=True)\n",
    "        )\n",
    "\n",
    "        self.head = NormLinear(in_features=512, out_features=num_classes, dropout_prob=0.0)\n",
    "        self.head_dist = NormLinear(in_features=512, out_features=num_classes, dropout_prob=0.0)\n",
    "\n",
    "    def forward(self, x):\n",
    "        x = self.stem(x)\n",
    "\n",
    "        B, C, H, W = x.shape\n",
    "        x = x.view(B, C, -1).transpose(1, 2)\n",
    "        x = self.stage1(x)\n",
    "        x = self.stage2(x)\n",
    "\n",
    "        H = W = int(x.shape[1]**0.5)\n",
    "        x = x.transpose(1, 2).view(B, 384, H, W)\n",
    "\n",
    "        x = self.conv1x1(x)\n",
    "\n",
    "        x = torch.mean(x, dim=(2, 3))\n",
    "        out = self.head(x)\n",
    "        out_dist = self.head_dist(x)\n",
    "        return out"
   ]
  },
  {
   "cell_type": "code",
   "execution_count": 16,
   "metadata": {
    "colab": {
     "base_uri": "https://localhost:8080/"
    },
    "id": "kz4Um3NmzBP3",
    "outputId": "6dcb4967-531d-42a9-b15f-f43671293027"
   },
   "outputs": [
    {
     "name": "stdout",
     "output_type": "stream",
     "text": [
      "LevitDistilled(\n",
      "  (stem): Stem16(\n",
      "    (conv1): ConvNorm(\n",
      "      (linear): Conv2d(3, 32, kernel_size=(3, 3), stride=(2, 2), padding=(1, 1), bias=False)\n",
      "      (bn): BatchNorm2d(32, eps=1e-05, momentum=0.1, affine=True, track_running_stats=True)\n",
      "    )\n",
      "    (act1): Hardswish()\n",
      "    (conv2): ConvNorm(\n",
      "      (linear): Conv2d(32, 64, kernel_size=(3, 3), stride=(2, 2), padding=(1, 1), bias=False)\n",
      "      (bn): BatchNorm2d(64, eps=1e-05, momentum=0.1, affine=True, track_running_stats=True)\n",
      "    )\n",
      "    (act2): Hardswish()\n",
      "    (conv3): ConvNorm(\n",
      "      (linear): Conv2d(64, 128, kernel_size=(3, 3), stride=(2, 2), padding=(1, 1), bias=False)\n",
      "      (bn): BatchNorm2d(128, eps=1e-05, momentum=0.1, affine=True, track_running_stats=True)\n",
      "    )\n",
      "    (act3): Hardswish()\n",
      "    (conv4): ConvNorm(\n",
      "      (linear): Conv2d(128, 256, kernel_size=(3, 3), stride=(2, 2), padding=(1, 1), bias=False)\n",
      "      (bn): BatchNorm2d(256, eps=1e-05, momentum=0.1, affine=True, track_running_stats=True)\n",
      "    )\n",
      "  )\n",
      "  (stage1): LevitStage(\n",
      "    (downsample): Identity()\n",
      "    (blocks): Sequential(\n",
      "      (0): LevitBlock(\n",
      "        (attn): Attention(\n",
      "          (qkv): LinearNorm(\n",
      "            (linear): Linear(in_features=256, out_features=768, bias=False)\n",
      "            (bn): BatchNorm1d(768, eps=1e-05, momentum=0.1, affine=True, track_running_stats=True)\n",
      "          )\n",
      "          (proj): Sequential(\n",
      "            (0): Hardswish()\n",
      "            (1): LinearNorm(\n",
      "              (linear): Linear(in_features=256, out_features=256, bias=False)\n",
      "              (bn): BatchNorm1d(256, eps=1e-05, momentum=0.1, affine=True, track_running_stats=True)\n",
      "            )\n",
      "          )\n",
      "        )\n",
      "        (drop_path1): Identity()\n",
      "        (mlp): LevitMlp(\n",
      "          (ln1): LinearNorm(\n",
      "            (linear): Linear(in_features=256, out_features=512, bias=False)\n",
      "            (bn): BatchNorm1d(512, eps=1e-05, momentum=0.1, affine=True, track_running_stats=True)\n",
      "          )\n",
      "          (act): Hardswish()\n",
      "          (drop): Dropout(p=0.5, inplace=False)\n",
      "          (ln2): LinearNorm(\n",
      "            (linear): Linear(in_features=512, out_features=256, bias=False)\n",
      "            (bn): BatchNorm1d(256, eps=1e-05, momentum=0.1, affine=True, track_running_stats=True)\n",
      "          )\n",
      "        )\n",
      "        (drop_path2): Identity()\n",
      "      )\n",
      "      (1): LevitBlock(\n",
      "        (attn): Attention(\n",
      "          (qkv): LinearNorm(\n",
      "            (linear): Linear(in_features=256, out_features=768, bias=False)\n",
      "            (bn): BatchNorm1d(768, eps=1e-05, momentum=0.1, affine=True, track_running_stats=True)\n",
      "          )\n",
      "          (proj): Sequential(\n",
      "            (0): Hardswish()\n",
      "            (1): LinearNorm(\n",
      "              (linear): Linear(in_features=256, out_features=256, bias=False)\n",
      "              (bn): BatchNorm1d(256, eps=1e-05, momentum=0.1, affine=True, track_running_stats=True)\n",
      "            )\n",
      "          )\n",
      "        )\n",
      "        (drop_path1): Identity()\n",
      "        (mlp): LevitMlp(\n",
      "          (ln1): LinearNorm(\n",
      "            (linear): Linear(in_features=256, out_features=512, bias=False)\n",
      "            (bn): BatchNorm1d(512, eps=1e-05, momentum=0.1, affine=True, track_running_stats=True)\n",
      "          )\n",
      "          (act): Hardswish()\n",
      "          (drop): Dropout(p=0.5, inplace=False)\n",
      "          (ln2): LinearNorm(\n",
      "            (linear): Linear(in_features=512, out_features=256, bias=False)\n",
      "            (bn): BatchNorm1d(256, eps=1e-05, momentum=0.1, affine=True, track_running_stats=True)\n",
      "          )\n",
      "        )\n",
      "        (drop_path2): Identity()\n",
      "      )\n",
      "    )\n",
      "  )\n",
      "  (stage2): LevitStage(\n",
      "    (downsample): CNNDownsample(\n",
      "      (conv): Conv2d(256, 384, kernel_size=(3, 3), stride=(2, 2), padding=(1, 1))\n",
      "      (act): Hardswish()\n",
      "    )\n",
      "    (blocks): Sequential(\n",
      "      (0): LevitBlock(\n",
      "        (attn): Attention(\n",
      "          (qkv): LinearNorm(\n",
      "            (linear): Linear(in_features=384, out_features=1152, bias=False)\n",
      "            (bn): BatchNorm1d(1152, eps=1e-05, momentum=0.1, affine=True, track_running_stats=True)\n",
      "          )\n",
      "          (proj): Sequential(\n",
      "            (0): Hardswish()\n",
      "            (1): LinearNorm(\n",
      "              (linear): Linear(in_features=384, out_features=384, bias=False)\n",
      "              (bn): BatchNorm1d(384, eps=1e-05, momentum=0.1, affine=True, track_running_stats=True)\n",
      "            )\n",
      "          )\n",
      "        )\n",
      "        (drop_path1): Identity()\n",
      "        (mlp): LevitMlp(\n",
      "          (ln1): LinearNorm(\n",
      "            (linear): Linear(in_features=384, out_features=768, bias=False)\n",
      "            (bn): BatchNorm1d(768, eps=1e-05, momentum=0.1, affine=True, track_running_stats=True)\n",
      "          )\n",
      "          (act): Hardswish()\n",
      "          (drop): Dropout(p=0.5, inplace=False)\n",
      "          (ln2): LinearNorm(\n",
      "            (linear): Linear(in_features=768, out_features=384, bias=False)\n",
      "            (bn): BatchNorm1d(384, eps=1e-05, momentum=0.1, affine=True, track_running_stats=True)\n",
      "          )\n",
      "        )\n",
      "        (drop_path2): Identity()\n",
      "      )\n",
      "      (1): LevitBlock(\n",
      "        (attn): Attention(\n",
      "          (qkv): LinearNorm(\n",
      "            (linear): Linear(in_features=384, out_features=1152, bias=False)\n",
      "            (bn): BatchNorm1d(1152, eps=1e-05, momentum=0.1, affine=True, track_running_stats=True)\n",
      "          )\n",
      "          (proj): Sequential(\n",
      "            (0): Hardswish()\n",
      "            (1): LinearNorm(\n",
      "              (linear): Linear(in_features=384, out_features=384, bias=False)\n",
      "              (bn): BatchNorm1d(384, eps=1e-05, momentum=0.1, affine=True, track_running_stats=True)\n",
      "            )\n",
      "          )\n",
      "        )\n",
      "        (drop_path1): Identity()\n",
      "        (mlp): LevitMlp(\n",
      "          (ln1): LinearNorm(\n",
      "            (linear): Linear(in_features=384, out_features=768, bias=False)\n",
      "            (bn): BatchNorm1d(768, eps=1e-05, momentum=0.1, affine=True, track_running_stats=True)\n",
      "          )\n",
      "          (act): Hardswish()\n",
      "          (drop): Dropout(p=0.5, inplace=False)\n",
      "          (ln2): LinearNorm(\n",
      "            (linear): Linear(in_features=768, out_features=384, bias=False)\n",
      "            (bn): BatchNorm1d(384, eps=1e-05, momentum=0.1, affine=True, track_running_stats=True)\n",
      "          )\n",
      "        )\n",
      "        (drop_path2): Identity()\n",
      "      )\n",
      "    )\n",
      "  )\n",
      "  (conv1x1): Sequential(\n",
      "    (0): Conv2d(384, 512, kernel_size=(1, 1), stride=(1, 1))\n",
      "    (1): BatchNorm2d(512, eps=1e-05, momentum=0.1, affine=True, track_running_stats=True)\n",
      "    (2): ReLU(inplace=True)\n",
      "  )\n",
      "  (head): NormLinear(\n",
      "    (bn): BatchNorm1d(512, eps=1e-05, momentum=0.1, affine=True, track_running_stats=True)\n",
      "    (drop): Dropout(p=0.0, inplace=False)\n",
      "    (linear): Linear(in_features=512, out_features=37, bias=True)\n",
      "  )\n",
      "  (head_dist): NormLinear(\n",
      "    (bn): BatchNorm1d(512, eps=1e-05, momentum=0.1, affine=True, track_running_stats=True)\n",
      "    (drop): Dropout(p=0.0, inplace=False)\n",
      "    (linear): Linear(in_features=512, out_features=37, bias=True)\n",
      "  )\n",
      ")\n"
     ]
    }
   ],
   "source": [
    "model = LevitDistilled()\n",
    "# model = LauncherModel()\n",
    "print(model)\n",
    "\n",
    "device = torch.device(\"cuda\" if torch.cuda.is_available() else \"cpu\")\n",
    "model = model.to(device)\n",
    "\n",
    "batch_size = 32\n",
    "learning_rate = 0.001\n",
    "num_epochs = 50"
   ]
  },
  {
   "cell_type": "code",
   "execution_count": 17,
   "metadata": {
    "colab": {
     "base_uri": "https://localhost:8080/"
    },
    "id": "bmb6Hs2cO5_F",
    "outputId": "488b75fe-7e0a-44ad-b7f4-ce6e1c0ab662"
   },
   "outputs": [
    {
     "name": "stdout",
     "output_type": "stream",
     "text": [
      "=========================================================================================================\n",
      "Layer (type:depth-idx)                                  Output Shape              Param #\n",
      "=========================================================================================================\n",
      "LevitDistilled                                          [32, 37]                  --\n",
      "├─Stem16: 1-1                                           [32, 256, 14, 14]         --\n",
      "│    └─ConvNorm: 2-1                                    [32, 32, 112, 112]        --\n",
      "│    │    └─Conv2d: 3-1                                 [32, 32, 112, 112]        864\n",
      "│    │    └─BatchNorm2d: 3-2                            [32, 32, 112, 112]        64\n",
      "│    └─Hardswish: 2-2                                   [32, 32, 112, 112]        --\n",
      "│    └─ConvNorm: 2-3                                    [32, 64, 56, 56]          --\n",
      "│    │    └─Conv2d: 3-3                                 [32, 64, 56, 56]          18,432\n",
      "│    │    └─BatchNorm2d: 3-4                            [32, 64, 56, 56]          128\n",
      "│    └─Hardswish: 2-4                                   [32, 64, 56, 56]          --\n",
      "│    └─ConvNorm: 2-5                                    [32, 128, 28, 28]         --\n",
      "│    │    └─Conv2d: 3-5                                 [32, 128, 28, 28]         73,728\n",
      "│    │    └─BatchNorm2d: 3-6                            [32, 128, 28, 28]         256\n",
      "│    └─Hardswish: 2-6                                   [32, 128, 28, 28]         --\n",
      "│    └─ConvNorm: 2-7                                    [32, 256, 14, 14]         --\n",
      "│    │    └─Conv2d: 3-7                                 [32, 256, 14, 14]         294,912\n",
      "│    │    └─BatchNorm2d: 3-8                            [32, 256, 14, 14]         512\n",
      "├─LevitStage: 1-2                                       [32, 196, 256]            --\n",
      "│    └─Identity: 2-8                                    [32, 196, 256]            --\n",
      "│    └─Sequential: 2-9                                  [32, 196, 256]            --\n",
      "│    │    └─LevitBlock: 3-9                             [32, 196, 256]            527,872\n",
      "│    │    └─LevitBlock: 3-10                            [32, 196, 256]            527,872\n",
      "├─LevitStage: 1-3                                       [32, 49, 384]             --\n",
      "│    └─CNNDownsample: 2-10                              [32, 49, 384]             --\n",
      "│    │    └─Conv2d: 3-11                                [32, 384, 7, 7]           885,120\n",
      "│    │    └─Hardswish: 3-12                             [32, 384, 7, 7]           --\n",
      "│    └─Sequential: 2-11                                 [32, 49, 384]             --\n",
      "│    │    └─LevitBlock: 3-13                            [32, 49, 384]             1,185,024\n",
      "│    │    └─LevitBlock: 3-14                            [32, 49, 384]             1,185,024\n",
      "├─Sequential: 1-4                                       [32, 512, 7, 7]           --\n",
      "│    └─Conv2d: 2-12                                     [32, 512, 7, 7]           197,120\n",
      "│    └─BatchNorm2d: 2-13                                [32, 512, 7, 7]           1,024\n",
      "│    └─ReLU: 2-14                                       [32, 512, 7, 7]           --\n",
      "├─NormLinear: 1-5                                       [32, 37]                  --\n",
      "│    └─BatchNorm1d: 2-15                                [32, 512]                 1,024\n",
      "│    └─Dropout: 2-16                                    [32, 512]                 --\n",
      "│    └─Linear: 2-17                                     [32, 37]                  18,981\n",
      "├─NormLinear: 1-6                                       [32, 37]                  --\n",
      "│    └─BatchNorm1d: 2-18                                [32, 512]                 1,024\n",
      "│    └─Dropout: 2-19                                    [32, 512]                 --\n",
      "│    └─Linear: 2-20                                     [32, 37]                  18,981\n",
      "=========================================================================================================\n",
      "Total params: 4,937,962\n",
      "Trainable params: 4,937,962\n",
      "Non-trainable params: 0\n",
      "Total mult-adds (G): 17.93\n",
      "=========================================================================================================\n",
      "Input size (MB): 19.27\n",
      "Forward/backward pass size (MB): 897.83\n",
      "Params size (MB): 19.75\n",
      "Estimated Total Size (MB): 936.85\n",
      "=========================================================================================================\n"
     ]
    }
   ],
   "source": [
    "print(summary(model, input_size=(32, 3, 224, 224)))"
   ]
  },
  {
   "cell_type": "code",
   "execution_count": 18,
   "metadata": {
    "colab": {
     "base_uri": "https://localhost:8080/"
    },
    "id": "M7rBknzRzBP3",
    "outputId": "13f79afe-fbcd-4146-b9f9-558d0ff13ab4"
   },
   "outputs": [
    {
     "name": "stdout",
     "output_type": "stream",
     "text": [
      "=========================================================================================================\n",
      "Layer (type:depth-idx)                                  Output Shape              Param #\n",
      "=========================================================================================================\n",
      "LevitDistilled                                          [32, 37]                  --\n",
      "├─Stem16: 1-1                                           [32, 256, 14, 14]         --\n",
      "│    └─conv1.linear.weight                                                        ├─864\n",
      "│    └─conv1.bn.weight                                                            ├─32\n",
      "│    └─conv1.bn.bias                                                              ├─32\n",
      "│    └─conv2.linear.weight                                                        ├─18,432\n",
      "│    └─conv2.bn.weight                                                            ├─64\n",
      "│    └─conv2.bn.bias                                                              ├─64\n",
      "│    └─conv3.linear.weight                                                        ├─73,728\n",
      "│    └─conv3.bn.weight                                                            ├─128\n",
      "│    └─conv3.bn.bias                                                              ├─128\n",
      "│    └─conv4.linear.weight                                                        ├─294,912\n",
      "│    └─conv4.bn.weight                                                            ├─256\n",
      "│    └─conv4.bn.bias                                                              └─256\n",
      "│    └─ConvNorm: 2-1                                    [32, 32, 112, 112]        --\n",
      "│    │    └─linear.weight                                                         ├─864\n",
      "│    │    └─bn.weight                                                             ├─32\n",
      "│    │    └─bn.bias                                                               └─32\n",
      "│    │    └─Conv2d: 3-1                                 [32, 32, 112, 112]        864\n",
      "│    │    │    └─weight                                                           └─864\n",
      "│    │    └─BatchNorm2d: 3-2                            [32, 32, 112, 112]        64\n",
      "│    │    │    └─weight                                                           ├─32\n",
      "│    │    │    └─bias                                                             └─32\n",
      "│    └─Hardswish: 2-2                                   [32, 32, 112, 112]        --\n",
      "│    └─ConvNorm: 2-3                                    [32, 64, 56, 56]          --\n",
      "│    │    └─linear.weight                                                         ├─18,432\n",
      "│    │    └─bn.weight                                                             ├─64\n",
      "│    │    └─bn.bias                                                               └─64\n",
      "│    │    └─Conv2d: 3-3                                 [32, 64, 56, 56]          18,432\n",
      "│    │    │    └─weight                                                           └─18,432\n",
      "│    │    └─BatchNorm2d: 3-4                            [32, 64, 56, 56]          128\n",
      "│    │    │    └─weight                                                           ├─64\n",
      "│    │    │    └─bias                                                             └─64\n",
      "│    └─Hardswish: 2-4                                   [32, 64, 56, 56]          --\n",
      "│    └─ConvNorm: 2-5                                    [32, 128, 28, 28]         --\n",
      "│    │    └─linear.weight                                                         ├─73,728\n",
      "│    │    └─bn.weight                                                             ├─128\n",
      "│    │    └─bn.bias                                                               └─128\n",
      "│    │    └─Conv2d: 3-5                                 [32, 128, 28, 28]         73,728\n",
      "│    │    │    └─weight                                                           └─73,728\n",
      "│    │    └─BatchNorm2d: 3-6                            [32, 128, 28, 28]         256\n",
      "│    │    │    └─weight                                                           ├─128\n",
      "│    │    │    └─bias                                                             └─128\n",
      "│    └─Hardswish: 2-6                                   [32, 128, 28, 28]         --\n",
      "│    └─ConvNorm: 2-7                                    [32, 256, 14, 14]         --\n",
      "│    │    └─linear.weight                                                         ├─294,912\n",
      "│    │    └─bn.weight                                                             ├─256\n",
      "│    │    └─bn.bias                                                               └─256\n",
      "│    │    └─Conv2d: 3-7                                 [32, 256, 14, 14]         294,912\n",
      "│    │    │    └─weight                                                           └─294,912\n",
      "│    │    └─BatchNorm2d: 3-8                            [32, 256, 14, 14]         512\n",
      "│    │    │    └─weight                                                           ├─256\n",
      "│    │    │    └─bias                                                             └─256\n",
      "├─LevitStage: 1-2                                       [32, 196, 256]            --\n",
      "│    └─blocks.0.attn.qkv.linear.weight                                            ├─196,608\n",
      "│    └─blocks.0.attn.qkv.bn.weight                                                ├─768\n",
      "│    └─blocks.0.attn.qkv.bn.bias                                                  ├─768\n",
      "│    └─blocks.0.attn.proj.1.linear.weight                                         ├─65,536\n",
      "│    └─blocks.0.attn.proj.1.bn.weight                                             ├─256\n",
      "│    └─blocks.0.attn.proj.1.bn.bias                                               ├─256\n",
      "│    └─blocks.0.mlp.ln1.linear.weight                                             ├─131,072\n",
      "│    └─blocks.0.mlp.ln1.bn.weight                                                 ├─512\n",
      "│    └─blocks.0.mlp.ln1.bn.bias                                                   ├─512\n",
      "│    └─blocks.0.mlp.ln2.linear.weight                                             ├─131,072\n",
      "│    └─blocks.0.mlp.ln2.bn.weight                                                 ├─256\n",
      "│    └─blocks.0.mlp.ln2.bn.bias                                                   ├─256\n",
      "│    └─blocks.1.attn.qkv.linear.weight                                            ├─196,608\n",
      "│    └─blocks.1.attn.qkv.bn.weight                                                ├─768\n",
      "│    └─blocks.1.attn.qkv.bn.bias                                                  ├─768\n",
      "│    └─blocks.1.attn.proj.1.linear.weight                                         ├─65,536\n",
      "│    └─blocks.1.attn.proj.1.bn.weight                                             ├─256\n",
      "│    └─blocks.1.attn.proj.1.bn.bias                                               ├─256\n",
      "│    └─blocks.1.mlp.ln1.linear.weight                                             ├─131,072\n",
      "│    └─blocks.1.mlp.ln1.bn.weight                                                 ├─512\n",
      "│    └─blocks.1.mlp.ln1.bn.bias                                                   ├─512\n",
      "│    └─blocks.1.mlp.ln2.linear.weight                                             ├─131,072\n",
      "│    └─blocks.1.mlp.ln2.bn.weight                                                 ├─256\n",
      "│    └─blocks.1.mlp.ln2.bn.bias                                                   └─256\n",
      "│    └─Identity: 2-8                                    [32, 196, 256]            --\n",
      "│    └─Sequential: 2-9                                  [32, 196, 256]            --\n",
      "│    │    └─0.attn.qkv.linear.weight                                              ├─196,608\n",
      "│    │    └─0.attn.qkv.bn.weight                                                  ├─768\n",
      "│    │    └─0.attn.qkv.bn.bias                                                    ├─768\n",
      "│    │    └─0.attn.proj.1.linear.weight                                           ├─65,536\n",
      "│    │    └─0.attn.proj.1.bn.weight                                               ├─256\n",
      "│    │    └─0.attn.proj.1.bn.bias                                                 ├─256\n",
      "│    │    └─0.mlp.ln1.linear.weight                                               ├─131,072\n",
      "│    │    └─0.mlp.ln1.bn.weight                                                   ├─512\n",
      "│    │    └─0.mlp.ln1.bn.bias                                                     ├─512\n",
      "│    │    └─0.mlp.ln2.linear.weight                                               ├─131,072\n",
      "│    │    └─0.mlp.ln2.bn.weight                                                   ├─256\n",
      "│    │    └─0.mlp.ln2.bn.bias                                                     ├─256\n",
      "│    │    └─1.attn.qkv.linear.weight                                              ├─196,608\n",
      "│    │    └─1.attn.qkv.bn.weight                                                  ├─768\n",
      "│    │    └─1.attn.qkv.bn.bias                                                    ├─768\n",
      "│    │    └─1.attn.proj.1.linear.weight                                           ├─65,536\n",
      "│    │    └─1.attn.proj.1.bn.weight                                               ├─256\n",
      "│    │    └─1.attn.proj.1.bn.bias                                                 ├─256\n",
      "│    │    └─1.mlp.ln1.linear.weight                                               ├─131,072\n",
      "│    │    └─1.mlp.ln1.bn.weight                                                   ├─512\n",
      "│    │    └─1.mlp.ln1.bn.bias                                                     ├─512\n",
      "│    │    └─1.mlp.ln2.linear.weight                                               ├─131,072\n",
      "│    │    └─1.mlp.ln2.bn.weight                                                   ├─256\n",
      "│    │    └─1.mlp.ln2.bn.bias                                                     └─256\n",
      "│    │    └─LevitBlock: 3-9                             [32, 196, 256]            527,872\n",
      "│    │    │    └─attn.qkv.linear.weight                                           ├─196,608\n",
      "│    │    │    └─attn.qkv.bn.weight                                               ├─768\n",
      "│    │    │    └─attn.qkv.bn.bias                                                 ├─768\n",
      "│    │    │    └─attn.proj.1.linear.weight                                        ├─65,536\n",
      "│    │    │    └─attn.proj.1.bn.weight                                            ├─256\n",
      "│    │    │    └─attn.proj.1.bn.bias                                              ├─256\n",
      "│    │    │    └─mlp.ln1.linear.weight                                            ├─131,072\n",
      "│    │    │    └─mlp.ln1.bn.weight                                                ├─512\n",
      "│    │    │    └─mlp.ln1.bn.bias                                                  ├─512\n",
      "│    │    │    └─mlp.ln2.linear.weight                                            ├─131,072\n",
      "│    │    │    └─mlp.ln2.bn.weight                                                ├─256\n",
      "│    │    │    └─mlp.ln2.bn.bias                                                  └─256\n",
      "│    │    └─LevitBlock: 3-10                            [32, 196, 256]            527,872\n",
      "│    │    │    └─attn.qkv.linear.weight                                           ├─196,608\n",
      "│    │    │    └─attn.qkv.bn.weight                                               ├─768\n",
      "│    │    │    └─attn.qkv.bn.bias                                                 ├─768\n",
      "│    │    │    └─attn.proj.1.linear.weight                                        ├─65,536\n",
      "│    │    │    └─attn.proj.1.bn.weight                                            ├─256\n",
      "│    │    │    └─attn.proj.1.bn.bias                                              ├─256\n",
      "│    │    │    └─mlp.ln1.linear.weight                                            ├─131,072\n",
      "│    │    │    └─mlp.ln1.bn.weight                                                ├─512\n",
      "│    │    │    └─mlp.ln1.bn.bias                                                  ├─512\n",
      "│    │    │    └─mlp.ln2.linear.weight                                            ├─131,072\n",
      "│    │    │    └─mlp.ln2.bn.weight                                                ├─256\n",
      "│    │    │    └─mlp.ln2.bn.bias                                                  └─256\n",
      "├─LevitStage: 1-3                                       [32, 49, 384]             --\n",
      "│    └─downsample.conv.weight                                                     ├─884,736\n",
      "│    └─downsample.conv.bias                                                       ├─384\n",
      "│    └─blocks.0.attn.qkv.linear.weight                                            ├─442,368\n",
      "│    └─blocks.0.attn.qkv.bn.weight                                                ├─1,152\n",
      "│    └─blocks.0.attn.qkv.bn.bias                                                  ├─1,152\n",
      "│    └─blocks.0.attn.proj.1.linear.weight                                         ├─147,456\n",
      "│    └─blocks.0.attn.proj.1.bn.weight                                             ├─384\n",
      "│    └─blocks.0.attn.proj.1.bn.bias                                               ├─384\n",
      "│    └─blocks.0.mlp.ln1.linear.weight                                             ├─294,912\n",
      "│    └─blocks.0.mlp.ln1.bn.weight                                                 ├─768\n",
      "│    └─blocks.0.mlp.ln1.bn.bias                                                   ├─768\n",
      "│    └─blocks.0.mlp.ln2.linear.weight                                             ├─294,912\n",
      "│    └─blocks.0.mlp.ln2.bn.weight                                                 ├─384\n",
      "│    └─blocks.0.mlp.ln2.bn.bias                                                   ├─384\n",
      "│    └─blocks.1.attn.qkv.linear.weight                                            ├─442,368\n",
      "│    └─blocks.1.attn.qkv.bn.weight                                                ├─1,152\n",
      "│    └─blocks.1.attn.qkv.bn.bias                                                  ├─1,152\n",
      "│    └─blocks.1.attn.proj.1.linear.weight                                         ├─147,456\n",
      "│    └─blocks.1.attn.proj.1.bn.weight                                             ├─384\n",
      "│    └─blocks.1.attn.proj.1.bn.bias                                               ├─384\n",
      "│    └─blocks.1.mlp.ln1.linear.weight                                             ├─294,912\n",
      "│    └─blocks.1.mlp.ln1.bn.weight                                                 ├─768\n",
      "│    └─blocks.1.mlp.ln1.bn.bias                                                   ├─768\n",
      "│    └─blocks.1.mlp.ln2.linear.weight                                             ├─294,912\n",
      "│    └─blocks.1.mlp.ln2.bn.weight                                                 ├─384\n",
      "│    └─blocks.1.mlp.ln2.bn.bias                                                   └─384\n",
      "│    └─CNNDownsample: 2-10                              [32, 49, 384]             --\n",
      "│    │    └─conv.weight                                                           ├─884,736\n",
      "│    │    └─conv.bias                                                             └─384\n",
      "│    │    └─Conv2d: 3-11                                [32, 384, 7, 7]           885,120\n",
      "│    │    │    └─weight                                                           ├─884,736\n",
      "│    │    │    └─bias                                                             └─384\n",
      "│    │    └─Hardswish: 3-12                             [32, 384, 7, 7]           --\n",
      "│    └─Sequential: 2-11                                 [32, 49, 384]             --\n",
      "│    │    └─0.attn.qkv.linear.weight                                              ├─442,368\n",
      "│    │    └─0.attn.qkv.bn.weight                                                  ├─1,152\n",
      "│    │    └─0.attn.qkv.bn.bias                                                    ├─1,152\n",
      "│    │    └─0.attn.proj.1.linear.weight                                           ├─147,456\n",
      "│    │    └─0.attn.proj.1.bn.weight                                               ├─384\n",
      "│    │    └─0.attn.proj.1.bn.bias                                                 ├─384\n",
      "│    │    └─0.mlp.ln1.linear.weight                                               ├─294,912\n",
      "│    │    └─0.mlp.ln1.bn.weight                                                   ├─768\n",
      "│    │    └─0.mlp.ln1.bn.bias                                                     ├─768\n",
      "│    │    └─0.mlp.ln2.linear.weight                                               ├─294,912\n",
      "│    │    └─0.mlp.ln2.bn.weight                                                   ├─384\n",
      "│    │    └─0.mlp.ln2.bn.bias                                                     ├─384\n",
      "│    │    └─1.attn.qkv.linear.weight                                              ├─442,368\n",
      "│    │    └─1.attn.qkv.bn.weight                                                  ├─1,152\n",
      "│    │    └─1.attn.qkv.bn.bias                                                    ├─1,152\n",
      "│    │    └─1.attn.proj.1.linear.weight                                           ├─147,456\n",
      "│    │    └─1.attn.proj.1.bn.weight                                               ├─384\n",
      "│    │    └─1.attn.proj.1.bn.bias                                                 ├─384\n",
      "│    │    └─1.mlp.ln1.linear.weight                                               ├─294,912\n",
      "│    │    └─1.mlp.ln1.bn.weight                                                   ├─768\n",
      "│    │    └─1.mlp.ln1.bn.bias                                                     ├─768\n",
      "│    │    └─1.mlp.ln2.linear.weight                                               ├─294,912\n",
      "│    │    └─1.mlp.ln2.bn.weight                                                   ├─384\n",
      "│    │    └─1.mlp.ln2.bn.bias                                                     └─384\n",
      "│    │    └─LevitBlock: 3-13                            [32, 49, 384]             1,185,024\n",
      "│    │    │    └─attn.qkv.linear.weight                                           ├─442,368\n",
      "│    │    │    └─attn.qkv.bn.weight                                               ├─1,152\n",
      "│    │    │    └─attn.qkv.bn.bias                                                 ├─1,152\n",
      "│    │    │    └─attn.proj.1.linear.weight                                        ├─147,456\n",
      "│    │    │    └─attn.proj.1.bn.weight                                            ├─384\n",
      "│    │    │    └─attn.proj.1.bn.bias                                              ├─384\n",
      "│    │    │    └─mlp.ln1.linear.weight                                            ├─294,912\n",
      "│    │    │    └─mlp.ln1.bn.weight                                                ├─768\n",
      "│    │    │    └─mlp.ln1.bn.bias                                                  ├─768\n",
      "│    │    │    └─mlp.ln2.linear.weight                                            ├─294,912\n",
      "│    │    │    └─mlp.ln2.bn.weight                                                ├─384\n",
      "│    │    │    └─mlp.ln2.bn.bias                                                  └─384\n",
      "│    │    └─LevitBlock: 3-14                            [32, 49, 384]             1,185,024\n",
      "│    │    │    └─attn.qkv.linear.weight                                           ├─442,368\n",
      "│    │    │    └─attn.qkv.bn.weight                                               ├─1,152\n",
      "│    │    │    └─attn.qkv.bn.bias                                                 ├─1,152\n",
      "│    │    │    └─attn.proj.1.linear.weight                                        ├─147,456\n",
      "│    │    │    └─attn.proj.1.bn.weight                                            ├─384\n",
      "│    │    │    └─attn.proj.1.bn.bias                                              ├─384\n",
      "│    │    │    └─mlp.ln1.linear.weight                                            ├─294,912\n",
      "│    │    │    └─mlp.ln1.bn.weight                                                ├─768\n",
      "│    │    │    └─mlp.ln1.bn.bias                                                  ├─768\n",
      "│    │    │    └─mlp.ln2.linear.weight                                            ├─294,912\n",
      "│    │    │    └─mlp.ln2.bn.weight                                                ├─384\n",
      "│    │    │    └─mlp.ln2.bn.bias                                                  └─384\n",
      "├─Sequential: 1-4                                       [32, 512, 7, 7]           --\n",
      "│    └─0.weight                                                                   ├─196,608\n",
      "│    └─0.bias                                                                     ├─512\n",
      "│    └─1.weight                                                                   ├─512\n",
      "│    └─1.bias                                                                     └─512\n",
      "│    └─Conv2d: 2-12                                     [32, 512, 7, 7]           197,120\n",
      "│    │    └─weight                                                                ├─196,608\n",
      "│    │    └─bias                                                                  └─512\n",
      "│    └─BatchNorm2d: 2-13                                [32, 512, 7, 7]           1,024\n",
      "│    │    └─weight                                                                ├─512\n",
      "│    │    └─bias                                                                  └─512\n",
      "│    └─ReLU: 2-14                                       [32, 512, 7, 7]           --\n",
      "├─NormLinear: 1-5                                       [32, 37]                  --\n",
      "│    └─bn.weight                                                                  ├─512\n",
      "│    └─bn.bias                                                                    ├─512\n",
      "│    └─linear.weight                                                              ├─18,944\n",
      "│    └─linear.bias                                                                └─37\n",
      "│    └─BatchNorm1d: 2-15                                [32, 512]                 1,024\n",
      "│    │    └─weight                                                                ├─512\n",
      "│    │    └─bias                                                                  └─512\n",
      "│    └─Dropout: 2-16                                    [32, 512]                 --\n",
      "│    └─Linear: 2-17                                     [32, 37]                  18,981\n",
      "│    │    └─weight                                                                ├─18,944\n",
      "│    │    └─bias                                                                  └─37\n",
      "├─NormLinear: 1-6                                       [32, 37]                  --\n",
      "│    └─bn.weight                                                                  ├─512\n",
      "│    └─bn.bias                                                                    ├─512\n",
      "│    └─linear.weight                                                              ├─18,944\n",
      "│    └─linear.bias                                                                └─37\n",
      "│    └─BatchNorm1d: 2-18                                [32, 512]                 1,024\n",
      "│    │    └─weight                                                                ├─512\n",
      "│    │    └─bias                                                                  └─512\n",
      "│    └─Dropout: 2-19                                    [32, 512]                 --\n",
      "│    └─Linear: 2-20                                     [32, 37]                  18,981\n",
      "│    │    └─weight                                                                ├─18,944\n",
      "│    │    └─bias                                                                  └─37\n",
      "=========================================================================================================\n",
      "Total params: 4,937,962\n",
      "Trainable params: 4,937,962\n",
      "Non-trainable params: 0\n",
      "Total mult-adds (G): 17.93\n",
      "=========================================================================================================\n",
      "Input size (MB): 19.27\n",
      "Forward/backward pass size (MB): 897.83\n",
      "Params size (MB): 19.75\n",
      "Estimated Total Size (MB): 936.85\n",
      "=========================================================================================================\n",
      "=========================================================================================================\n",
      "Layer (type:depth-idx)                                  Output Shape              Param #\n",
      "=========================================================================================================\n",
      "LevitDistilled                                          [32, 37]                  --\n",
      "├─Stem16: 1-1                                           [32, 256, 14, 14]         --\n",
      "│    └─conv1.linear.weight                                                        ├─864\n",
      "│    └─conv1.bn.weight                                                            ├─32\n",
      "│    └─conv1.bn.bias                                                              ├─32\n",
      "│    └─conv2.linear.weight                                                        ├─18,432\n",
      "│    └─conv2.bn.weight                                                            ├─64\n",
      "│    └─conv2.bn.bias                                                              ├─64\n",
      "│    └─conv3.linear.weight                                                        ├─73,728\n",
      "│    └─conv3.bn.weight                                                            ├─128\n",
      "│    └─conv3.bn.bias                                                              ├─128\n",
      "│    └─conv4.linear.weight                                                        ├─294,912\n",
      "│    └─conv4.bn.weight                                                            ├─256\n",
      "│    └─conv4.bn.bias                                                              └─256\n",
      "│    └─ConvNorm: 2-1                                    [32, 32, 112, 112]        --\n",
      "│    │    └─linear.weight                                                         ├─864\n",
      "│    │    └─bn.weight                                                             ├─32\n",
      "│    │    └─bn.bias                                                               └─32\n",
      "│    │    └─Conv2d: 3-1                                 [32, 32, 112, 112]        864\n",
      "│    │    │    └─weight                                                           └─864\n",
      "│    │    └─BatchNorm2d: 3-2                            [32, 32, 112, 112]        64\n",
      "│    │    │    └─weight                                                           ├─32\n",
      "│    │    │    └─bias                                                             └─32\n",
      "│    └─Hardswish: 2-2                                   [32, 32, 112, 112]        --\n",
      "│    └─ConvNorm: 2-3                                    [32, 64, 56, 56]          --\n",
      "│    │    └─linear.weight                                                         ├─18,432\n",
      "│    │    └─bn.weight                                                             ├─64\n",
      "│    │    └─bn.bias                                                               └─64\n",
      "│    │    └─Conv2d: 3-3                                 [32, 64, 56, 56]          18,432\n",
      "│    │    │    └─weight                                                           └─18,432\n",
      "│    │    └─BatchNorm2d: 3-4                            [32, 64, 56, 56]          128\n",
      "│    │    │    └─weight                                                           ├─64\n",
      "│    │    │    └─bias                                                             └─64\n",
      "│    └─Hardswish: 2-4                                   [32, 64, 56, 56]          --\n",
      "│    └─ConvNorm: 2-5                                    [32, 128, 28, 28]         --\n",
      "│    │    └─linear.weight                                                         ├─73,728\n",
      "│    │    └─bn.weight                                                             ├─128\n",
      "│    │    └─bn.bias                                                               └─128\n",
      "│    │    └─Conv2d: 3-5                                 [32, 128, 28, 28]         73,728\n",
      "│    │    │    └─weight                                                           └─73,728\n",
      "│    │    └─BatchNorm2d: 3-6                            [32, 128, 28, 28]         256\n",
      "│    │    │    └─weight                                                           ├─128\n",
      "│    │    │    └─bias                                                             └─128\n",
      "│    └─Hardswish: 2-6                                   [32, 128, 28, 28]         --\n",
      "│    └─ConvNorm: 2-7                                    [32, 256, 14, 14]         --\n",
      "│    │    └─linear.weight                                                         ├─294,912\n",
      "│    │    └─bn.weight                                                             ├─256\n",
      "│    │    └─bn.bias                                                               └─256\n",
      "│    │    └─Conv2d: 3-7                                 [32, 256, 14, 14]         294,912\n",
      "│    │    │    └─weight                                                           └─294,912\n",
      "│    │    └─BatchNorm2d: 3-8                            [32, 256, 14, 14]         512\n",
      "│    │    │    └─weight                                                           ├─256\n",
      "│    │    │    └─bias                                                             └─256\n",
      "├─LevitStage: 1-2                                       [32, 196, 256]            --\n",
      "│    └─blocks.0.attn.qkv.linear.weight                                            ├─196,608\n",
      "│    └─blocks.0.attn.qkv.bn.weight                                                ├─768\n",
      "│    └─blocks.0.attn.qkv.bn.bias                                                  ├─768\n",
      "│    └─blocks.0.attn.proj.1.linear.weight                                         ├─65,536\n",
      "│    └─blocks.0.attn.proj.1.bn.weight                                             ├─256\n",
      "│    └─blocks.0.attn.proj.1.bn.bias                                               ├─256\n",
      "│    └─blocks.0.mlp.ln1.linear.weight                                             ├─131,072\n",
      "│    └─blocks.0.mlp.ln1.bn.weight                                                 ├─512\n",
      "│    └─blocks.0.mlp.ln1.bn.bias                                                   ├─512\n",
      "│    └─blocks.0.mlp.ln2.linear.weight                                             ├─131,072\n",
      "│    └─blocks.0.mlp.ln2.bn.weight                                                 ├─256\n",
      "│    └─blocks.0.mlp.ln2.bn.bias                                                   ├─256\n",
      "│    └─blocks.1.attn.qkv.linear.weight                                            ├─196,608\n",
      "│    └─blocks.1.attn.qkv.bn.weight                                                ├─768\n",
      "│    └─blocks.1.attn.qkv.bn.bias                                                  ├─768\n",
      "│    └─blocks.1.attn.proj.1.linear.weight                                         ├─65,536\n",
      "│    └─blocks.1.attn.proj.1.bn.weight                                             ├─256\n",
      "│    └─blocks.1.attn.proj.1.bn.bias                                               ├─256\n",
      "│    └─blocks.1.mlp.ln1.linear.weight                                             ├─131,072\n",
      "│    └─blocks.1.mlp.ln1.bn.weight                                                 ├─512\n",
      "│    └─blocks.1.mlp.ln1.bn.bias                                                   ├─512\n",
      "│    └─blocks.1.mlp.ln2.linear.weight                                             ├─131,072\n",
      "│    └─blocks.1.mlp.ln2.bn.weight                                                 ├─256\n",
      "│    └─blocks.1.mlp.ln2.bn.bias                                                   └─256\n",
      "│    └─Identity: 2-8                                    [32, 196, 256]            --\n",
      "│    └─Sequential: 2-9                                  [32, 196, 256]            --\n",
      "│    │    └─0.attn.qkv.linear.weight                                              ├─196,608\n",
      "│    │    └─0.attn.qkv.bn.weight                                                  ├─768\n",
      "│    │    └─0.attn.qkv.bn.bias                                                    ├─768\n",
      "│    │    └─0.attn.proj.1.linear.weight                                           ├─65,536\n",
      "│    │    └─0.attn.proj.1.bn.weight                                               ├─256\n",
      "│    │    └─0.attn.proj.1.bn.bias                                                 ├─256\n",
      "│    │    └─0.mlp.ln1.linear.weight                                               ├─131,072\n",
      "│    │    └─0.mlp.ln1.bn.weight                                                   ├─512\n",
      "│    │    └─0.mlp.ln1.bn.bias                                                     ├─512\n",
      "│    │    └─0.mlp.ln2.linear.weight                                               ├─131,072\n",
      "│    │    └─0.mlp.ln2.bn.weight                                                   ├─256\n",
      "│    │    └─0.mlp.ln2.bn.bias                                                     ├─256\n",
      "│    │    └─1.attn.qkv.linear.weight                                              ├─196,608\n",
      "│    │    └─1.attn.qkv.bn.weight                                                  ├─768\n",
      "│    │    └─1.attn.qkv.bn.bias                                                    ├─768\n",
      "│    │    └─1.attn.proj.1.linear.weight                                           ├─65,536\n",
      "│    │    └─1.attn.proj.1.bn.weight                                               ├─256\n",
      "│    │    └─1.attn.proj.1.bn.bias                                                 ├─256\n",
      "│    │    └─1.mlp.ln1.linear.weight                                               ├─131,072\n",
      "│    │    └─1.mlp.ln1.bn.weight                                                   ├─512\n",
      "│    │    └─1.mlp.ln1.bn.bias                                                     ├─512\n",
      "│    │    └─1.mlp.ln2.linear.weight                                               ├─131,072\n",
      "│    │    └─1.mlp.ln2.bn.weight                                                   ├─256\n",
      "│    │    └─1.mlp.ln2.bn.bias                                                     └─256\n",
      "│    │    └─LevitBlock: 3-9                             [32, 196, 256]            527,872\n",
      "│    │    │    └─attn.qkv.linear.weight                                           ├─196,608\n",
      "│    │    │    └─attn.qkv.bn.weight                                               ├─768\n",
      "│    │    │    └─attn.qkv.bn.bias                                                 ├─768\n",
      "│    │    │    └─attn.proj.1.linear.weight                                        ├─65,536\n",
      "│    │    │    └─attn.proj.1.bn.weight                                            ├─256\n",
      "│    │    │    └─attn.proj.1.bn.bias                                              ├─256\n",
      "│    │    │    └─mlp.ln1.linear.weight                                            ├─131,072\n",
      "│    │    │    └─mlp.ln1.bn.weight                                                ├─512\n",
      "│    │    │    └─mlp.ln1.bn.bias                                                  ├─512\n",
      "│    │    │    └─mlp.ln2.linear.weight                                            ├─131,072\n",
      "│    │    │    └─mlp.ln2.bn.weight                                                ├─256\n",
      "│    │    │    └─mlp.ln2.bn.bias                                                  └─256\n",
      "│    │    └─LevitBlock: 3-10                            [32, 196, 256]            527,872\n",
      "│    │    │    └─attn.qkv.linear.weight                                           ├─196,608\n",
      "│    │    │    └─attn.qkv.bn.weight                                               ├─768\n",
      "│    │    │    └─attn.qkv.bn.bias                                                 ├─768\n",
      "│    │    │    └─attn.proj.1.linear.weight                                        ├─65,536\n",
      "│    │    │    └─attn.proj.1.bn.weight                                            ├─256\n",
      "│    │    │    └─attn.proj.1.bn.bias                                              ├─256\n",
      "│    │    │    └─mlp.ln1.linear.weight                                            ├─131,072\n",
      "│    │    │    └─mlp.ln1.bn.weight                                                ├─512\n",
      "│    │    │    └─mlp.ln1.bn.bias                                                  ├─512\n",
      "│    │    │    └─mlp.ln2.linear.weight                                            ├─131,072\n",
      "│    │    │    └─mlp.ln2.bn.weight                                                ├─256\n",
      "│    │    │    └─mlp.ln2.bn.bias                                                  └─256\n",
      "├─LevitStage: 1-3                                       [32, 49, 384]             --\n",
      "│    └─downsample.conv.weight                                                     ├─884,736\n",
      "│    └─downsample.conv.bias                                                       ├─384\n",
      "│    └─blocks.0.attn.qkv.linear.weight                                            ├─442,368\n",
      "│    └─blocks.0.attn.qkv.bn.weight                                                ├─1,152\n",
      "│    └─blocks.0.attn.qkv.bn.bias                                                  ├─1,152\n",
      "│    └─blocks.0.attn.proj.1.linear.weight                                         ├─147,456\n",
      "│    └─blocks.0.attn.proj.1.bn.weight                                             ├─384\n",
      "│    └─blocks.0.attn.proj.1.bn.bias                                               ├─384\n",
      "│    └─blocks.0.mlp.ln1.linear.weight                                             ├─294,912\n",
      "│    └─blocks.0.mlp.ln1.bn.weight                                                 ├─768\n",
      "│    └─blocks.0.mlp.ln1.bn.bias                                                   ├─768\n",
      "│    └─blocks.0.mlp.ln2.linear.weight                                             ├─294,912\n",
      "│    └─blocks.0.mlp.ln2.bn.weight                                                 ├─384\n",
      "│    └─blocks.0.mlp.ln2.bn.bias                                                   ├─384\n",
      "│    └─blocks.1.attn.qkv.linear.weight                                            ├─442,368\n",
      "│    └─blocks.1.attn.qkv.bn.weight                                                ├─1,152\n",
      "│    └─blocks.1.attn.qkv.bn.bias                                                  ├─1,152\n",
      "│    └─blocks.1.attn.proj.1.linear.weight                                         ├─147,456\n",
      "│    └─blocks.1.attn.proj.1.bn.weight                                             ├─384\n",
      "│    └─blocks.1.attn.proj.1.bn.bias                                               ├─384\n",
      "│    └─blocks.1.mlp.ln1.linear.weight                                             ├─294,912\n",
      "│    └─blocks.1.mlp.ln1.bn.weight                                                 ├─768\n",
      "│    └─blocks.1.mlp.ln1.bn.bias                                                   ├─768\n",
      "│    └─blocks.1.mlp.ln2.linear.weight                                             ├─294,912\n",
      "│    └─blocks.1.mlp.ln2.bn.weight                                                 ├─384\n",
      "│    └─blocks.1.mlp.ln2.bn.bias                                                   └─384\n",
      "│    └─CNNDownsample: 2-10                              [32, 49, 384]             --\n",
      "│    │    └─conv.weight                                                           ├─884,736\n",
      "│    │    └─conv.bias                                                             └─384\n",
      "│    │    └─Conv2d: 3-11                                [32, 384, 7, 7]           885,120\n",
      "│    │    │    └─weight                                                           ├─884,736\n",
      "│    │    │    └─bias                                                             └─384\n",
      "│    │    └─Hardswish: 3-12                             [32, 384, 7, 7]           --\n",
      "│    └─Sequential: 2-11                                 [32, 49, 384]             --\n",
      "│    │    └─0.attn.qkv.linear.weight                                              ├─442,368\n",
      "│    │    └─0.attn.qkv.bn.weight                                                  ├─1,152\n",
      "│    │    └─0.attn.qkv.bn.bias                                                    ├─1,152\n",
      "│    │    └─0.attn.proj.1.linear.weight                                           ├─147,456\n",
      "│    │    └─0.attn.proj.1.bn.weight                                               ├─384\n",
      "│    │    └─0.attn.proj.1.bn.bias                                                 ├─384\n",
      "│    │    └─0.mlp.ln1.linear.weight                                               ├─294,912\n",
      "│    │    └─0.mlp.ln1.bn.weight                                                   ├─768\n",
      "│    │    └─0.mlp.ln1.bn.bias                                                     ├─768\n",
      "│    │    └─0.mlp.ln2.linear.weight                                               ├─294,912\n",
      "│    │    └─0.mlp.ln2.bn.weight                                                   ├─384\n",
      "│    │    └─0.mlp.ln2.bn.bias                                                     ├─384\n",
      "│    │    └─1.attn.qkv.linear.weight                                              ├─442,368\n",
      "│    │    └─1.attn.qkv.bn.weight                                                  ├─1,152\n",
      "│    │    └─1.attn.qkv.bn.bias                                                    ├─1,152\n",
      "│    │    └─1.attn.proj.1.linear.weight                                           ├─147,456\n",
      "│    │    └─1.attn.proj.1.bn.weight                                               ├─384\n",
      "│    │    └─1.attn.proj.1.bn.bias                                                 ├─384\n",
      "│    │    └─1.mlp.ln1.linear.weight                                               ├─294,912\n",
      "│    │    └─1.mlp.ln1.bn.weight                                                   ├─768\n",
      "│    │    └─1.mlp.ln1.bn.bias                                                     ├─768\n",
      "│    │    └─1.mlp.ln2.linear.weight                                               ├─294,912\n",
      "│    │    └─1.mlp.ln2.bn.weight                                                   ├─384\n",
      "│    │    └─1.mlp.ln2.bn.bias                                                     └─384\n",
      "│    │    └─LevitBlock: 3-13                            [32, 49, 384]             1,185,024\n",
      "│    │    │    └─attn.qkv.linear.weight                                           ├─442,368\n",
      "│    │    │    └─attn.qkv.bn.weight                                               ├─1,152\n",
      "│    │    │    └─attn.qkv.bn.bias                                                 ├─1,152\n",
      "│    │    │    └─attn.proj.1.linear.weight                                        ├─147,456\n",
      "│    │    │    └─attn.proj.1.bn.weight                                            ├─384\n",
      "│    │    │    └─attn.proj.1.bn.bias                                              ├─384\n",
      "│    │    │    └─mlp.ln1.linear.weight                                            ├─294,912\n",
      "│    │    │    └─mlp.ln1.bn.weight                                                ├─768\n",
      "│    │    │    └─mlp.ln1.bn.bias                                                  ├─768\n",
      "│    │    │    └─mlp.ln2.linear.weight                                            ├─294,912\n",
      "│    │    │    └─mlp.ln2.bn.weight                                                ├─384\n",
      "│    │    │    └─mlp.ln2.bn.bias                                                  └─384\n",
      "│    │    └─LevitBlock: 3-14                            [32, 49, 384]             1,185,024\n",
      "│    │    │    └─attn.qkv.linear.weight                                           ├─442,368\n",
      "│    │    │    └─attn.qkv.bn.weight                                               ├─1,152\n",
      "│    │    │    └─attn.qkv.bn.bias                                                 ├─1,152\n",
      "│    │    │    └─attn.proj.1.linear.weight                                        ├─147,456\n",
      "│    │    │    └─attn.proj.1.bn.weight                                            ├─384\n",
      "│    │    │    └─attn.proj.1.bn.bias                                              ├─384\n",
      "│    │    │    └─mlp.ln1.linear.weight                                            ├─294,912\n",
      "│    │    │    └─mlp.ln1.bn.weight                                                ├─768\n",
      "│    │    │    └─mlp.ln1.bn.bias                                                  ├─768\n",
      "│    │    │    └─mlp.ln2.linear.weight                                            ├─294,912\n",
      "│    │    │    └─mlp.ln2.bn.weight                                                ├─384\n",
      "│    │    │    └─mlp.ln2.bn.bias                                                  └─384\n",
      "├─Sequential: 1-4                                       [32, 512, 7, 7]           --\n",
      "│    └─0.weight                                                                   ├─196,608\n",
      "│    └─0.bias                                                                     ├─512\n",
      "│    └─1.weight                                                                   ├─512\n",
      "│    └─1.bias                                                                     └─512\n",
      "│    └─Conv2d: 2-12                                     [32, 512, 7, 7]           197,120\n",
      "│    │    └─weight                                                                ├─196,608\n",
      "│    │    └─bias                                                                  └─512\n",
      "│    └─BatchNorm2d: 2-13                                [32, 512, 7, 7]           1,024\n",
      "│    │    └─weight                                                                ├─512\n",
      "│    │    └─bias                                                                  └─512\n",
      "│    └─ReLU: 2-14                                       [32, 512, 7, 7]           --\n",
      "├─NormLinear: 1-5                                       [32, 37]                  --\n",
      "│    └─bn.weight                                                                  ├─512\n",
      "│    └─bn.bias                                                                    ├─512\n",
      "│    └─linear.weight                                                              ├─18,944\n",
      "│    └─linear.bias                                                                └─37\n",
      "│    └─BatchNorm1d: 2-15                                [32, 512]                 1,024\n",
      "│    │    └─weight                                                                ├─512\n",
      "│    │    └─bias                                                                  └─512\n",
      "│    └─Dropout: 2-16                                    [32, 512]                 --\n",
      "│    └─Linear: 2-17                                     [32, 37]                  18,981\n",
      "│    │    └─weight                                                                ├─18,944\n",
      "│    │    └─bias                                                                  └─37\n",
      "├─NormLinear: 1-6                                       [32, 37]                  --\n",
      "│    └─bn.weight                                                                  ├─512\n",
      "│    └─bn.bias                                                                    ├─512\n",
      "│    └─linear.weight                                                              ├─18,944\n",
      "│    └─linear.bias                                                                └─37\n",
      "│    └─BatchNorm1d: 2-18                                [32, 512]                 1,024\n",
      "│    │    └─weight                                                                ├─512\n",
      "│    │    └─bias                                                                  └─512\n",
      "│    └─Dropout: 2-19                                    [32, 512]                 --\n",
      "│    └─Linear: 2-20                                     [32, 37]                  18,981\n",
      "│    │    └─weight                                                                ├─18,944\n",
      "│    │    └─bias                                                                  └─37\n",
      "=========================================================================================================\n",
      "Total params: 4,937,962\n",
      "Trainable params: 4,937,962\n",
      "Non-trainable params: 0\n",
      "Total mult-adds (G): 17.93\n",
      "=========================================================================================================\n",
      "Input size (MB): 19.27\n",
      "Forward/backward pass size (MB): 897.83\n",
      "Params size (MB): 19.75\n",
      "Estimated Total Size (MB): 936.85\n",
      "=========================================================================================================\n"
     ]
    }
   ],
   "source": [
    "print(summary(model, input_size=(32, 3, 224, 224), verbose=2))"
   ]
  },
  {
   "cell_type": "code",
   "execution_count": 19,
   "metadata": {
    "id": "TOaIwHDSzBP3"
   },
   "outputs": [],
   "source": [
    "transform = transforms.Compose([\n",
    "    transforms.Resize((224, 224)),\n",
    "    transforms.ToTensor(),\n",
    "    transforms.Normalize(mean=[0.485, 0.456, 0.406], std=[0.229, 0.224, 0.225]),\n",
    "])"
   ]
  },
  {
   "cell_type": "code",
   "execution_count": 20,
   "metadata": {
    "colab": {
     "base_uri": "https://localhost:8080/"
    },
    "id": "N0Ww6weVzBP4",
    "outputId": "2ce1c4f3-cd26-4b6f-dd62-c9444a4cffd9"
   },
   "outputs": [
    {
     "name": "stdout",
     "output_type": "stream",
     "text": [
      "Downloading https://thor.robots.ox.ac.uk/pets/images.tar.gz to data/oxford-iiit-pet/images.tar.gz\n"
     ]
    },
    {
     "name": "stderr",
     "output_type": "stream",
     "text": [
      "100%|██████████| 792M/792M [00:21<00:00, 36.1MB/s]\n"
     ]
    },
    {
     "name": "stdout",
     "output_type": "stream",
     "text": [
      "Extracting data/oxford-iiit-pet/images.tar.gz to data/oxford-iiit-pet\n",
      "Downloading https://thor.robots.ox.ac.uk/pets/annotations.tar.gz to data/oxford-iiit-pet/annotations.tar.gz\n"
     ]
    },
    {
     "name": "stderr",
     "output_type": "stream",
     "text": [
      "100%|██████████| 19.2M/19.2M [00:01<00:00, 16.1MB/s]\n"
     ]
    },
    {
     "name": "stdout",
     "output_type": "stream",
     "text": [
      "Extracting data/oxford-iiit-pet/annotations.tar.gz to data/oxford-iiit-pet\n"
     ]
    }
   ],
   "source": [
    "trainval_data = datasets.OxfordIIITPet(root=\"data\", split=\"trainval\", target_types=\"category\", download=True, transform=transform)\n",
    "test_data = datasets.OxfordIIITPet(root=\"data\", split=\"test\", target_types=\"category\", download=True, transform=transform)\n",
    "combined_data = ConcatDataset([trainval_data, test_data])\n",
    "\n",
    "train_size = int(0.7 * len(combined_data))\n",
    "val_size = int(0.15 * len(combined_data))\n",
    "test_size = len(combined_data) - train_size - val_size\n",
    "train_data, val_data, test_data = random_split(combined_data, [train_size, val_size, test_size])"
   ]
  },
  {
   "cell_type": "code",
   "execution_count": 21,
   "metadata": {
    "colab": {
     "base_uri": "https://localhost:8080/"
    },
    "id": "S4sK4r0FzBP4",
    "outputId": "9cd976d3-0dd7-4566-a1a1-72369b008cf9"
   },
   "outputs": [
    {
     "name": "stdout",
     "output_type": "stream",
     "text": [
      "Train set size: 5144\n",
      "Validation set size: 1102\n",
      "Test set size: 1103\n"
     ]
    }
   ],
   "source": [
    "train_loader = DataLoader(train_data, batch_size=batch_size, shuffle=True)\n",
    "val_loader = DataLoader(val_data, batch_size=batch_size, shuffle=False)\n",
    "test_loader = DataLoader(test_data, batch_size=batch_size, shuffle=False)\n",
    "\n",
    "print(f\"Train set size: {len(train_data)}\")\n",
    "print(f\"Validation set size: {len(val_data)}\")\n",
    "print(f\"Test set size: {len(test_data)}\")"
   ]
  },
  {
   "cell_type": "code",
   "execution_count": 22,
   "metadata": {
    "id": "HCIgSLtBzBP4"
   },
   "outputs": [],
   "source": [
    "criterion = nn.CrossEntropyLoss()\n",
    "optimizer = optim.Adam(model.parameters(), lr=learning_rate)"
   ]
  },
  {
   "cell_type": "code",
   "execution_count": 23,
   "metadata": {
    "id": "qCcVDgIPzBP4"
   },
   "outputs": [],
   "source": [
    "def train(model, train_loader, criterion, optimizer, device):\n",
    "    model.train()\n",
    "    running_loss = 0.0\n",
    "    correct = 0\n",
    "    total = 0\n",
    "    for inputs, labels in tqdm(train_loader, desc=\"Training\"):\n",
    "        inputs, labels = inputs.to(device), labels.to(device)\n",
    "\n",
    "        optimizer.zero_grad()\n",
    "        outputs = model(inputs)\n",
    "        loss = criterion(outputs, labels)\n",
    "        loss.backward()\n",
    "        optimizer.step()\n",
    "\n",
    "        running_loss += loss.item()\n",
    "        _, predicted = torch.max(outputs, 1)\n",
    "        total += labels.size(0)\n",
    "        correct += (predicted == labels).sum().item()\n",
    "\n",
    "    epoch_loss = running_loss / len(train_loader)\n",
    "    accuracy = 100 * correct / total\n",
    "    print(f\"Train Loss: {epoch_loss:.4f}, Train Accuracy: {accuracy:.2f}%\")"
   ]
  },
  {
   "cell_type": "code",
   "execution_count": 24,
   "metadata": {
    "id": "pzZwWmVFzBP5"
   },
   "outputs": [],
   "source": [
    "def evaluate(model, data_loader, criterion, device, phase=\"Validation\"):\n",
    "    model.eval()\n",
    "    running_loss = 0.0\n",
    "    correct = 0\n",
    "    total = 0\n",
    "    with torch.no_grad():\n",
    "        for inputs, labels in tqdm(data_loader, desc=f\"{phase}\"):\n",
    "            inputs, labels = inputs.to(device), labels.to(device)\n",
    "            outputs = model(inputs)\n",
    "            loss = criterion(outputs, labels)\n",
    "\n",
    "            running_loss += loss.item()\n",
    "            _, predicted = torch.max(outputs, 1)\n",
    "            total += labels.size(0)\n",
    "            correct += (predicted == labels).sum().item()\n",
    "\n",
    "    epoch_loss = running_loss / len(data_loader)\n",
    "    accuracy = 100 * correct / total\n",
    "    print(f\"{phase} Loss: {epoch_loss:.4f}, {phase} Accuracy: {accuracy:.2f}%\")"
   ]
  },
  {
   "cell_type": "code",
   "execution_count": 25,
   "metadata": {
    "id": "ATaK9u_JDWLD"
   },
   "outputs": [],
   "source": [
    "def measure_inference_time(model, data_loader, device):\n",
    "    model.eval()\n",
    "    times = []\n",
    "\n",
    "    with torch.no_grad():\n",
    "        for inputs, _ in data_loader:\n",
    "            inputs = inputs.to(device)\n",
    "            start_time = torch.cuda.Event(enable_timing=True)\n",
    "            end_time = torch.cuda.Event(enable_timing=True)\n",
    "\n",
    "            start_time.record()\n",
    "            _ = model(inputs)  # inference 수행\n",
    "            end_time.record()\n",
    "\n",
    "            # 시간 측정\n",
    "            torch.cuda.synchronize()  # CUDA에서 모든 커널이 완료될 때까지 대기\n",
    "            elapsed_time = start_time.elapsed_time(end_time)  # 밀리초 단위로 반환\n",
    "            times.append(elapsed_time)\n",
    "\n",
    "    # 통계량 계산\n",
    "    times_np = np.array(times)\n",
    "    total_inferences = len(times_np)\n",
    "    avg_time = np.mean(times_np)\n",
    "    std_dev = np.std(times_np)\n",
    "    max_time = np.max(times_np)\n",
    "    min_time = np.min(times_np)\n",
    "\n",
    "    # 결과 출력\n",
    "    print(f\"Inference Time Measurement Results:\")\n",
    "    print(f\"Total Inferences: {total_inferences}\")\n",
    "    print(f\"Average Time: {avg_time:.2f} ms\")\n",
    "    print(f\"Standard Deviation: {std_dev:.2f} ms\")\n",
    "    print(f\"Maximum Time: {max_time:.2f} ms\")\n",
    "    print(f\"Minimum Time: {min_time:.2f} ms\")\n",
    "\n",
    "    return times"
   ]
  },
  {
   "cell_type": "code",
   "execution_count": 26,
   "metadata": {
    "colab": {
     "base_uri": "https://localhost:8080/"
    },
    "id": "YdGy_hjpzBP5",
    "outputId": "df80b5c0-8ccb-4271-e313-eee074aaeba1"
   },
   "outputs": [
    {
     "name": "stdout",
     "output_type": "stream",
     "text": [
      "\n",
      "Epoch 1/50\n"
     ]
    },
    {
     "name": "stderr",
     "output_type": "stream",
     "text": [
      "Training: 100%|██████████| 161/161 [00:29<00:00,  5.54it/s]\n"
     ]
    },
    {
     "name": "stdout",
     "output_type": "stream",
     "text": [
      "Train Loss: 3.6949, Train Accuracy: 4.51%\n"
     ]
    },
    {
     "name": "stderr",
     "output_type": "stream",
     "text": [
      "Validation: 100%|██████████| 35/35 [00:05<00:00,  6.39it/s]\n"
     ]
    },
    {
     "name": "stdout",
     "output_type": "stream",
     "text": [
      "Validation Loss: 3.6506, Validation Accuracy: 5.72%\n",
      "\n",
      "Epoch 2/50\n"
     ]
    },
    {
     "name": "stderr",
     "output_type": "stream",
     "text": [
      "Training: 100%|██████████| 161/161 [00:28<00:00,  5.73it/s]\n"
     ]
    },
    {
     "name": "stdout",
     "output_type": "stream",
     "text": [
      "Train Loss: 3.5731, Train Accuracy: 6.73%\n"
     ]
    },
    {
     "name": "stderr",
     "output_type": "stream",
     "text": [
      "Validation: 100%|██████████| 35/35 [00:05<00:00,  6.31it/s]\n"
     ]
    },
    {
     "name": "stdout",
     "output_type": "stream",
     "text": [
      "Validation Loss: 3.5958, Validation Accuracy: 6.90%\n",
      "\n",
      "Epoch 3/50\n"
     ]
    },
    {
     "name": "stderr",
     "output_type": "stream",
     "text": [
      "Training: 100%|██████████| 161/161 [00:27<00:00,  5.76it/s]\n"
     ]
    },
    {
     "name": "stdout",
     "output_type": "stream",
     "text": [
      "Train Loss: 3.4960, Train Accuracy: 7.68%\n"
     ]
    },
    {
     "name": "stderr",
     "output_type": "stream",
     "text": [
      "Validation: 100%|██████████| 35/35 [00:05<00:00,  6.31it/s]\n"
     ]
    },
    {
     "name": "stdout",
     "output_type": "stream",
     "text": [
      "Validation Loss: 3.4630, Validation Accuracy: 8.17%\n",
      "\n",
      "Epoch 4/50\n"
     ]
    },
    {
     "name": "stderr",
     "output_type": "stream",
     "text": [
      "Training: 100%|██████████| 161/161 [00:28<00:00,  5.75it/s]\n"
     ]
    },
    {
     "name": "stdout",
     "output_type": "stream",
     "text": [
      "Train Loss: 3.3534, Train Accuracy: 9.53%\n"
     ]
    },
    {
     "name": "stderr",
     "output_type": "stream",
     "text": [
      "Validation: 100%|██████████| 35/35 [00:05<00:00,  6.38it/s]\n"
     ]
    },
    {
     "name": "stdout",
     "output_type": "stream",
     "text": [
      "Validation Loss: 3.4254, Validation Accuracy: 8.89%\n",
      "\n",
      "Epoch 5/50\n"
     ]
    },
    {
     "name": "stderr",
     "output_type": "stream",
     "text": [
      "Training: 100%|██████████| 161/161 [00:27<00:00,  5.75it/s]\n"
     ]
    },
    {
     "name": "stdout",
     "output_type": "stream",
     "text": [
      "Train Loss: 3.2227, Train Accuracy: 13.51%\n"
     ]
    },
    {
     "name": "stderr",
     "output_type": "stream",
     "text": [
      "Validation: 100%|██████████| 35/35 [00:05<00:00,  6.37it/s]\n"
     ]
    },
    {
     "name": "stdout",
     "output_type": "stream",
     "text": [
      "Validation Loss: 3.2899, Validation Accuracy: 10.44%\n",
      "\n",
      "Epoch 6/50\n"
     ]
    },
    {
     "name": "stderr",
     "output_type": "stream",
     "text": [
      "Training: 100%|██████████| 161/161 [00:27<00:00,  5.77it/s]\n"
     ]
    },
    {
     "name": "stdout",
     "output_type": "stream",
     "text": [
      "Train Loss: 3.0703, Train Accuracy: 15.84%\n"
     ]
    },
    {
     "name": "stderr",
     "output_type": "stream",
     "text": [
      "Validation: 100%|██████████| 35/35 [00:05<00:00,  6.38it/s]\n"
     ]
    },
    {
     "name": "stdout",
     "output_type": "stream",
     "text": [
      "Validation Loss: 3.2278, Validation Accuracy: 13.52%\n",
      "\n",
      "Epoch 7/50\n"
     ]
    },
    {
     "name": "stderr",
     "output_type": "stream",
     "text": [
      "Training: 100%|██████████| 161/161 [00:28<00:00,  5.73it/s]\n"
     ]
    },
    {
     "name": "stdout",
     "output_type": "stream",
     "text": [
      "Train Loss: 2.9355, Train Accuracy: 18.47%\n"
     ]
    },
    {
     "name": "stderr",
     "output_type": "stream",
     "text": [
      "Validation: 100%|██████████| 35/35 [00:05<00:00,  6.38it/s]\n"
     ]
    },
    {
     "name": "stdout",
     "output_type": "stream",
     "text": [
      "Validation Loss: 3.0461, Validation Accuracy: 17.06%\n",
      "\n",
      "Epoch 8/50\n"
     ]
    },
    {
     "name": "stderr",
     "output_type": "stream",
     "text": [
      "Training: 100%|██████████| 161/161 [00:28<00:00,  5.70it/s]\n"
     ]
    },
    {
     "name": "stdout",
     "output_type": "stream",
     "text": [
      "Train Loss: 2.7959, Train Accuracy: 20.90%\n"
     ]
    },
    {
     "name": "stderr",
     "output_type": "stream",
     "text": [
      "Validation: 100%|██████████| 35/35 [00:05<00:00,  6.36it/s]\n"
     ]
    },
    {
     "name": "stdout",
     "output_type": "stream",
     "text": [
      "Validation Loss: 2.9250, Validation Accuracy: 19.42%\n",
      "\n",
      "Epoch 9/50\n"
     ]
    },
    {
     "name": "stderr",
     "output_type": "stream",
     "text": [
      "Training: 100%|██████████| 161/161 [00:28<00:00,  5.72it/s]\n"
     ]
    },
    {
     "name": "stdout",
     "output_type": "stream",
     "text": [
      "Train Loss: 2.6083, Train Accuracy: 25.58%\n"
     ]
    },
    {
     "name": "stderr",
     "output_type": "stream",
     "text": [
      "Validation: 100%|██████████| 35/35 [00:05<00:00,  6.43it/s]\n"
     ]
    },
    {
     "name": "stdout",
     "output_type": "stream",
     "text": [
      "Validation Loss: 3.1655, Validation Accuracy: 15.70%\n",
      "\n",
      "Epoch 10/50\n"
     ]
    },
    {
     "name": "stderr",
     "output_type": "stream",
     "text": [
      "Training: 100%|██████████| 161/161 [00:28<00:00,  5.71it/s]\n"
     ]
    },
    {
     "name": "stdout",
     "output_type": "stream",
     "text": [
      "Train Loss: 2.4832, Train Accuracy: 28.15%\n"
     ]
    },
    {
     "name": "stderr",
     "output_type": "stream",
     "text": [
      "Validation: 100%|██████████| 35/35 [00:05<00:00,  6.40it/s]\n"
     ]
    },
    {
     "name": "stdout",
     "output_type": "stream",
     "text": [
      "Validation Loss: 3.3911, Validation Accuracy: 16.24%\n",
      "\n",
      "Epoch 11/50\n"
     ]
    },
    {
     "name": "stderr",
     "output_type": "stream",
     "text": [
      "Training: 100%|██████████| 161/161 [00:27<00:00,  5.78it/s]\n"
     ]
    },
    {
     "name": "stdout",
     "output_type": "stream",
     "text": [
      "Train Loss: 2.3463, Train Accuracy: 30.81%\n"
     ]
    },
    {
     "name": "stderr",
     "output_type": "stream",
     "text": [
      "Validation: 100%|██████████| 35/35 [00:05<00:00,  6.43it/s]\n"
     ]
    },
    {
     "name": "stdout",
     "output_type": "stream",
     "text": [
      "Validation Loss: 2.9342, Validation Accuracy: 20.96%\n",
      "\n",
      "Epoch 12/50\n"
     ]
    },
    {
     "name": "stderr",
     "output_type": "stream",
     "text": [
      "Training: 100%|██████████| 161/161 [00:28<00:00,  5.73it/s]\n"
     ]
    },
    {
     "name": "stdout",
     "output_type": "stream",
     "text": [
      "Train Loss: 2.1912, Train Accuracy: 36.08%\n"
     ]
    },
    {
     "name": "stderr",
     "output_type": "stream",
     "text": [
      "Validation: 100%|██████████| 35/35 [00:05<00:00,  6.44it/s]\n"
     ]
    },
    {
     "name": "stdout",
     "output_type": "stream",
     "text": [
      "Validation Loss: 2.7879, Validation Accuracy: 27.40%\n",
      "\n",
      "Epoch 13/50\n"
     ]
    },
    {
     "name": "stderr",
     "output_type": "stream",
     "text": [
      "Training: 100%|██████████| 161/161 [00:27<00:00,  5.75it/s]\n"
     ]
    },
    {
     "name": "stdout",
     "output_type": "stream",
     "text": [
      "Train Loss: 2.0195, Train Accuracy: 40.40%\n"
     ]
    },
    {
     "name": "stderr",
     "output_type": "stream",
     "text": [
      "Validation: 100%|██████████| 35/35 [00:05<00:00,  6.28it/s]\n"
     ]
    },
    {
     "name": "stdout",
     "output_type": "stream",
     "text": [
      "Validation Loss: 2.7555, Validation Accuracy: 26.86%\n",
      "\n",
      "Epoch 14/50\n"
     ]
    },
    {
     "name": "stderr",
     "output_type": "stream",
     "text": [
      "Training: 100%|██████████| 161/161 [00:27<00:00,  5.78it/s]\n"
     ]
    },
    {
     "name": "stdout",
     "output_type": "stream",
     "text": [
      "Train Loss: 1.8377, Train Accuracy: 44.13%\n"
     ]
    },
    {
     "name": "stderr",
     "output_type": "stream",
     "text": [
      "Validation: 100%|██████████| 35/35 [00:05<00:00,  6.25it/s]\n"
     ]
    },
    {
     "name": "stdout",
     "output_type": "stream",
     "text": [
      "Validation Loss: 3.0034, Validation Accuracy: 22.96%\n",
      "\n",
      "Epoch 15/50\n"
     ]
    },
    {
     "name": "stderr",
     "output_type": "stream",
     "text": [
      "Training: 100%|██████████| 161/161 [00:27<00:00,  5.78it/s]\n"
     ]
    },
    {
     "name": "stdout",
     "output_type": "stream",
     "text": [
      "Train Loss: 1.6958, Train Accuracy: 48.04%\n"
     ]
    },
    {
     "name": "stderr",
     "output_type": "stream",
     "text": [
      "Validation: 100%|██████████| 35/35 [00:05<00:00,  6.36it/s]\n"
     ]
    },
    {
     "name": "stdout",
     "output_type": "stream",
     "text": [
      "Validation Loss: 2.7457, Validation Accuracy: 26.86%\n",
      "\n",
      "Epoch 16/50\n"
     ]
    },
    {
     "name": "stderr",
     "output_type": "stream",
     "text": [
      "Training: 100%|██████████| 161/161 [00:28<00:00,  5.72it/s]\n"
     ]
    },
    {
     "name": "stdout",
     "output_type": "stream",
     "text": [
      "Train Loss: 1.4632, Train Accuracy: 54.94%\n"
     ]
    },
    {
     "name": "stderr",
     "output_type": "stream",
     "text": [
      "Validation: 100%|██████████| 35/35 [00:05<00:00,  6.26it/s]\n"
     ]
    },
    {
     "name": "stdout",
     "output_type": "stream",
     "text": [
      "Validation Loss: 2.6573, Validation Accuracy: 32.49%\n",
      "\n",
      "Epoch 17/50\n"
     ]
    },
    {
     "name": "stderr",
     "output_type": "stream",
     "text": [
      "Training: 100%|██████████| 161/161 [00:27<00:00,  5.77it/s]\n"
     ]
    },
    {
     "name": "stdout",
     "output_type": "stream",
     "text": [
      "Train Loss: 1.2755, Train Accuracy: 60.23%\n"
     ]
    },
    {
     "name": "stderr",
     "output_type": "stream",
     "text": [
      "Validation: 100%|██████████| 35/35 [00:05<00:00,  6.44it/s]\n"
     ]
    },
    {
     "name": "stdout",
     "output_type": "stream",
     "text": [
      "Validation Loss: 2.8321, Validation Accuracy: 29.04%\n",
      "\n",
      "Epoch 18/50\n"
     ]
    },
    {
     "name": "stderr",
     "output_type": "stream",
     "text": [
      "Training: 100%|██████████| 161/161 [00:28<00:00,  5.74it/s]\n"
     ]
    },
    {
     "name": "stdout",
     "output_type": "stream",
     "text": [
      "Train Loss: 1.0842, Train Accuracy: 66.29%\n"
     ]
    },
    {
     "name": "stderr",
     "output_type": "stream",
     "text": [
      "Validation: 100%|██████████| 35/35 [00:05<00:00,  6.36it/s]\n"
     ]
    },
    {
     "name": "stdout",
     "output_type": "stream",
     "text": [
      "Validation Loss: 2.9802, Validation Accuracy: 28.58%\n",
      "\n",
      "Epoch 19/50\n"
     ]
    },
    {
     "name": "stderr",
     "output_type": "stream",
     "text": [
      "Training: 100%|██████████| 161/161 [00:28<00:00,  5.72it/s]\n"
     ]
    },
    {
     "name": "stdout",
     "output_type": "stream",
     "text": [
      "Train Loss: 0.9214, Train Accuracy: 70.20%\n"
     ]
    },
    {
     "name": "stderr",
     "output_type": "stream",
     "text": [
      "Validation: 100%|██████████| 35/35 [00:05<00:00,  6.36it/s]\n"
     ]
    },
    {
     "name": "stdout",
     "output_type": "stream",
     "text": [
      "Validation Loss: 3.1490, Validation Accuracy: 31.03%\n",
      "\n",
      "Epoch 20/50\n"
     ]
    },
    {
     "name": "stderr",
     "output_type": "stream",
     "text": [
      "Training: 100%|██████████| 161/161 [00:28<00:00,  5.74it/s]\n"
     ]
    },
    {
     "name": "stdout",
     "output_type": "stream",
     "text": [
      "Train Loss: 0.7079, Train Accuracy: 77.82%\n"
     ]
    },
    {
     "name": "stderr",
     "output_type": "stream",
     "text": [
      "Validation: 100%|██████████| 35/35 [00:05<00:00,  6.39it/s]\n"
     ]
    },
    {
     "name": "stdout",
     "output_type": "stream",
     "text": [
      "Validation Loss: 3.1170, Validation Accuracy: 31.49%\n",
      "\n",
      "Epoch 21/50\n"
     ]
    },
    {
     "name": "stderr",
     "output_type": "stream",
     "text": [
      "Training: 100%|██████████| 161/161 [00:28<00:00,  5.73it/s]\n"
     ]
    },
    {
     "name": "stdout",
     "output_type": "stream",
     "text": [
      "Train Loss: 0.5401, Train Accuracy: 82.62%\n"
     ]
    },
    {
     "name": "stderr",
     "output_type": "stream",
     "text": [
      "Validation: 100%|██████████| 35/35 [00:05<00:00,  6.40it/s]\n"
     ]
    },
    {
     "name": "stdout",
     "output_type": "stream",
     "text": [
      "Validation Loss: 3.4488, Validation Accuracy: 29.95%\n",
      "\n",
      "Epoch 22/50\n"
     ]
    },
    {
     "name": "stderr",
     "output_type": "stream",
     "text": [
      "Training: 100%|██████████| 161/161 [00:28<00:00,  5.70it/s]\n"
     ]
    },
    {
     "name": "stdout",
     "output_type": "stream",
     "text": [
      "Train Loss: 0.3839, Train Accuracy: 87.73%\n"
     ]
    },
    {
     "name": "stderr",
     "output_type": "stream",
     "text": [
      "Validation: 100%|██████████| 35/35 [00:05<00:00,  6.40it/s]\n"
     ]
    },
    {
     "name": "stdout",
     "output_type": "stream",
     "text": [
      "Validation Loss: 3.8819, Validation Accuracy: 29.13%\n",
      "\n",
      "Epoch 23/50\n"
     ]
    },
    {
     "name": "stderr",
     "output_type": "stream",
     "text": [
      "Training: 100%|██████████| 161/161 [00:27<00:00,  5.77it/s]\n"
     ]
    },
    {
     "name": "stdout",
     "output_type": "stream",
     "text": [
      "Train Loss: 0.3353, Train Accuracy: 89.81%\n"
     ]
    },
    {
     "name": "stderr",
     "output_type": "stream",
     "text": [
      "Validation: 100%|██████████| 35/35 [00:05<00:00,  6.26it/s]\n"
     ]
    },
    {
     "name": "stdout",
     "output_type": "stream",
     "text": [
      "Validation Loss: 3.5798, Validation Accuracy: 31.22%\n",
      "\n",
      "Epoch 24/50\n"
     ]
    },
    {
     "name": "stderr",
     "output_type": "stream",
     "text": [
      "Training: 100%|██████████| 161/161 [00:27<00:00,  5.76it/s]\n"
     ]
    },
    {
     "name": "stdout",
     "output_type": "stream",
     "text": [
      "Train Loss: 0.2664, Train Accuracy: 91.62%\n"
     ]
    },
    {
     "name": "stderr",
     "output_type": "stream",
     "text": [
      "Validation: 100%|██████████| 35/35 [00:05<00:00,  6.16it/s]\n"
     ]
    },
    {
     "name": "stdout",
     "output_type": "stream",
     "text": [
      "Validation Loss: 4.0058, Validation Accuracy: 29.58%\n",
      "\n",
      "Epoch 25/50\n"
     ]
    },
    {
     "name": "stderr",
     "output_type": "stream",
     "text": [
      "Training: 100%|██████████| 161/161 [00:27<00:00,  5.75it/s]\n"
     ]
    },
    {
     "name": "stdout",
     "output_type": "stream",
     "text": [
      "Train Loss: 0.2344, Train Accuracy: 93.22%\n"
     ]
    },
    {
     "name": "stderr",
     "output_type": "stream",
     "text": [
      "Validation: 100%|██████████| 35/35 [00:05<00:00,  6.21it/s]\n"
     ]
    },
    {
     "name": "stdout",
     "output_type": "stream",
     "text": [
      "Validation Loss: 3.9837, Validation Accuracy: 30.31%\n",
      "\n",
      "Epoch 26/50\n"
     ]
    },
    {
     "name": "stderr",
     "output_type": "stream",
     "text": [
      "Training: 100%|██████████| 161/161 [00:28<00:00,  5.74it/s]\n"
     ]
    },
    {
     "name": "stdout",
     "output_type": "stream",
     "text": [
      "Train Loss: 0.1728, Train Accuracy: 94.83%\n"
     ]
    },
    {
     "name": "stderr",
     "output_type": "stream",
     "text": [
      "Validation: 100%|██████████| 35/35 [00:05<00:00,  6.44it/s]\n"
     ]
    },
    {
     "name": "stdout",
     "output_type": "stream",
     "text": [
      "Validation Loss: 4.0132, Validation Accuracy: 30.94%\n",
      "\n",
      "Epoch 27/50\n"
     ]
    },
    {
     "name": "stderr",
     "output_type": "stream",
     "text": [
      "Training: 100%|██████████| 161/161 [00:28<00:00,  5.71it/s]\n"
     ]
    },
    {
     "name": "stdout",
     "output_type": "stream",
     "text": [
      "Train Loss: 0.1913, Train Accuracy: 93.82%\n"
     ]
    },
    {
     "name": "stderr",
     "output_type": "stream",
     "text": [
      "Validation: 100%|██████████| 35/35 [00:05<00:00,  6.25it/s]\n"
     ]
    },
    {
     "name": "stdout",
     "output_type": "stream",
     "text": [
      "Validation Loss: 4.0547, Validation Accuracy: 31.22%\n",
      "\n",
      "Epoch 28/50\n"
     ]
    },
    {
     "name": "stderr",
     "output_type": "stream",
     "text": [
      "Training: 100%|██████████| 161/161 [00:27<00:00,  5.77it/s]\n"
     ]
    },
    {
     "name": "stdout",
     "output_type": "stream",
     "text": [
      "Train Loss: 0.2033, Train Accuracy: 93.72%\n"
     ]
    },
    {
     "name": "stderr",
     "output_type": "stream",
     "text": [
      "Validation: 100%|██████████| 35/35 [00:05<00:00,  6.38it/s]\n"
     ]
    },
    {
     "name": "stdout",
     "output_type": "stream",
     "text": [
      "Validation Loss: 4.2757, Validation Accuracy: 29.95%\n",
      "\n",
      "Epoch 29/50\n"
     ]
    },
    {
     "name": "stderr",
     "output_type": "stream",
     "text": [
      "Training: 100%|██████████| 161/161 [00:28<00:00,  5.71it/s]\n"
     ]
    },
    {
     "name": "stdout",
     "output_type": "stream",
     "text": [
      "Train Loss: 0.2057, Train Accuracy: 93.80%\n"
     ]
    },
    {
     "name": "stderr",
     "output_type": "stream",
     "text": [
      "Validation: 100%|██████████| 35/35 [00:05<00:00,  6.35it/s]\n"
     ]
    },
    {
     "name": "stdout",
     "output_type": "stream",
     "text": [
      "Validation Loss: 4.5159, Validation Accuracy: 27.77%\n",
      "\n",
      "Epoch 30/50\n"
     ]
    },
    {
     "name": "stderr",
     "output_type": "stream",
     "text": [
      "Training: 100%|██████████| 161/161 [00:28<00:00,  5.69it/s]\n"
     ]
    },
    {
     "name": "stdout",
     "output_type": "stream",
     "text": [
      "Train Loss: 0.2128, Train Accuracy: 93.23%\n"
     ]
    },
    {
     "name": "stderr",
     "output_type": "stream",
     "text": [
      "Validation: 100%|██████████| 35/35 [00:05<00:00,  6.41it/s]\n"
     ]
    },
    {
     "name": "stdout",
     "output_type": "stream",
     "text": [
      "Validation Loss: 4.0742, Validation Accuracy: 32.12%\n",
      "\n",
      "Epoch 31/50\n"
     ]
    },
    {
     "name": "stderr",
     "output_type": "stream",
     "text": [
      "Training: 100%|██████████| 161/161 [00:27<00:00,  5.76it/s]\n"
     ]
    },
    {
     "name": "stdout",
     "output_type": "stream",
     "text": [
      "Train Loss: 0.1123, Train Accuracy: 96.58%\n"
     ]
    },
    {
     "name": "stderr",
     "output_type": "stream",
     "text": [
      "Validation: 100%|██████████| 35/35 [00:05<00:00,  6.42it/s]\n"
     ]
    },
    {
     "name": "stdout",
     "output_type": "stream",
     "text": [
      "Validation Loss: 4.0801, Validation Accuracy: 31.49%\n",
      "\n",
      "Epoch 32/50\n"
     ]
    },
    {
     "name": "stderr",
     "output_type": "stream",
     "text": [
      "Training: 100%|██████████| 161/161 [00:27<00:00,  5.77it/s]\n"
     ]
    },
    {
     "name": "stdout",
     "output_type": "stream",
     "text": [
      "Train Loss: 0.1027, Train Accuracy: 96.66%\n"
     ]
    },
    {
     "name": "stderr",
     "output_type": "stream",
     "text": [
      "Validation: 100%|██████████| 35/35 [00:05<00:00,  6.44it/s]\n"
     ]
    },
    {
     "name": "stdout",
     "output_type": "stream",
     "text": [
      "Validation Loss: 4.1778, Validation Accuracy: 32.30%\n",
      "\n",
      "Epoch 33/50\n"
     ]
    },
    {
     "name": "stderr",
     "output_type": "stream",
     "text": [
      "Training: 100%|██████████| 161/161 [00:27<00:00,  5.77it/s]\n"
     ]
    },
    {
     "name": "stdout",
     "output_type": "stream",
     "text": [
      "Train Loss: 0.1014, Train Accuracy: 96.83%\n"
     ]
    },
    {
     "name": "stderr",
     "output_type": "stream",
     "text": [
      "Validation: 100%|██████████| 35/35 [00:05<00:00,  6.43it/s]\n"
     ]
    },
    {
     "name": "stdout",
     "output_type": "stream",
     "text": [
      "Validation Loss: 4.3021, Validation Accuracy: 30.76%\n",
      "\n",
      "Epoch 34/50\n"
     ]
    },
    {
     "name": "stderr",
     "output_type": "stream",
     "text": [
      "Training: 100%|██████████| 161/161 [00:27<00:00,  5.77it/s]\n"
     ]
    },
    {
     "name": "stdout",
     "output_type": "stream",
     "text": [
      "Train Loss: 0.1015, Train Accuracy: 96.95%\n"
     ]
    },
    {
     "name": "stderr",
     "output_type": "stream",
     "text": [
      "Validation: 100%|██████████| 35/35 [00:05<00:00,  6.42it/s]\n"
     ]
    },
    {
     "name": "stdout",
     "output_type": "stream",
     "text": [
      "Validation Loss: 4.3734, Validation Accuracy: 32.30%\n",
      "\n",
      "Epoch 35/50\n"
     ]
    },
    {
     "name": "stderr",
     "output_type": "stream",
     "text": [
      "Training: 100%|██████████| 161/161 [00:27<00:00,  5.76it/s]\n"
     ]
    },
    {
     "name": "stdout",
     "output_type": "stream",
     "text": [
      "Train Loss: 0.1656, Train Accuracy: 94.56%\n"
     ]
    },
    {
     "name": "stderr",
     "output_type": "stream",
     "text": [
      "Validation: 100%|██████████| 35/35 [00:05<00:00,  6.36it/s]\n"
     ]
    },
    {
     "name": "stdout",
     "output_type": "stream",
     "text": [
      "Validation Loss: 4.7159, Validation Accuracy: 29.58%\n",
      "\n",
      "Epoch 36/50\n"
     ]
    },
    {
     "name": "stderr",
     "output_type": "stream",
     "text": [
      "Training: 100%|██████████| 161/161 [00:27<00:00,  5.75it/s]\n"
     ]
    },
    {
     "name": "stdout",
     "output_type": "stream",
     "text": [
      "Train Loss: 0.2405, Train Accuracy: 91.97%\n"
     ]
    },
    {
     "name": "stderr",
     "output_type": "stream",
     "text": [
      "Validation: 100%|██████████| 35/35 [00:05<00:00,  6.39it/s]\n"
     ]
    },
    {
     "name": "stdout",
     "output_type": "stream",
     "text": [
      "Validation Loss: 4.7906, Validation Accuracy: 29.58%\n",
      "\n",
      "Epoch 37/50\n"
     ]
    },
    {
     "name": "stderr",
     "output_type": "stream",
     "text": [
      "Training: 100%|██████████| 161/161 [00:27<00:00,  5.78it/s]\n"
     ]
    },
    {
     "name": "stdout",
     "output_type": "stream",
     "text": [
      "Train Loss: 0.1768, Train Accuracy: 94.58%\n"
     ]
    },
    {
     "name": "stderr",
     "output_type": "stream",
     "text": [
      "Validation: 100%|██████████| 35/35 [00:05<00:00,  6.38it/s]\n"
     ]
    },
    {
     "name": "stdout",
     "output_type": "stream",
     "text": [
      "Validation Loss: 4.6332, Validation Accuracy: 31.13%\n",
      "\n",
      "Epoch 38/50\n"
     ]
    },
    {
     "name": "stderr",
     "output_type": "stream",
     "text": [
      "Training: 100%|██████████| 161/161 [00:27<00:00,  5.76it/s]\n"
     ]
    },
    {
     "name": "stdout",
     "output_type": "stream",
     "text": [
      "Train Loss: 0.1057, Train Accuracy: 96.71%\n"
     ]
    },
    {
     "name": "stderr",
     "output_type": "stream",
     "text": [
      "Validation: 100%|██████████| 35/35 [00:05<00:00,  6.43it/s]\n"
     ]
    },
    {
     "name": "stdout",
     "output_type": "stream",
     "text": [
      "Validation Loss: 4.4773, Validation Accuracy: 30.76%\n",
      "\n",
      "Epoch 39/50\n"
     ]
    },
    {
     "name": "stderr",
     "output_type": "stream",
     "text": [
      "Training: 100%|██████████| 161/161 [00:28<00:00,  5.75it/s]\n"
     ]
    },
    {
     "name": "stdout",
     "output_type": "stream",
     "text": [
      "Train Loss: 0.0940, Train Accuracy: 97.05%\n"
     ]
    },
    {
     "name": "stderr",
     "output_type": "stream",
     "text": [
      "Validation: 100%|██████████| 35/35 [00:05<00:00,  6.48it/s]\n"
     ]
    },
    {
     "name": "stdout",
     "output_type": "stream",
     "text": [
      "Validation Loss: 4.6609, Validation Accuracy: 33.03%\n",
      "\n",
      "Epoch 40/50\n"
     ]
    },
    {
     "name": "stderr",
     "output_type": "stream",
     "text": [
      "Training: 100%|██████████| 161/161 [00:28<00:00,  5.74it/s]\n"
     ]
    },
    {
     "name": "stdout",
     "output_type": "stream",
     "text": [
      "Train Loss: 0.0748, Train Accuracy: 97.61%\n"
     ]
    },
    {
     "name": "stderr",
     "output_type": "stream",
     "text": [
      "Validation: 100%|██████████| 35/35 [00:05<00:00,  6.52it/s]\n"
     ]
    },
    {
     "name": "stdout",
     "output_type": "stream",
     "text": [
      "Validation Loss: 4.5267, Validation Accuracy: 33.21%\n",
      "\n",
      "Epoch 41/50\n"
     ]
    },
    {
     "name": "stderr",
     "output_type": "stream",
     "text": [
      "Training: 100%|██████████| 161/161 [00:27<00:00,  5.77it/s]\n"
     ]
    },
    {
     "name": "stdout",
     "output_type": "stream",
     "text": [
      "Train Loss: 0.0793, Train Accuracy: 97.41%\n"
     ]
    },
    {
     "name": "stderr",
     "output_type": "stream",
     "text": [
      "Validation: 100%|██████████| 35/35 [00:05<00:00,  6.28it/s]\n"
     ]
    },
    {
     "name": "stdout",
     "output_type": "stream",
     "text": [
      "Validation Loss: 5.0347, Validation Accuracy: 29.67%\n",
      "\n",
      "Epoch 42/50\n"
     ]
    },
    {
     "name": "stderr",
     "output_type": "stream",
     "text": [
      "Training: 100%|██████████| 161/161 [00:28<00:00,  5.75it/s]\n"
     ]
    },
    {
     "name": "stdout",
     "output_type": "stream",
     "text": [
      "Train Loss: 0.1516, Train Accuracy: 94.69%\n"
     ]
    },
    {
     "name": "stderr",
     "output_type": "stream",
     "text": [
      "Validation: 100%|██████████| 35/35 [00:05<00:00,  6.41it/s]\n"
     ]
    },
    {
     "name": "stdout",
     "output_type": "stream",
     "text": [
      "Validation Loss: 5.1381, Validation Accuracy: 29.13%\n",
      "\n",
      "Epoch 43/50\n"
     ]
    },
    {
     "name": "stderr",
     "output_type": "stream",
     "text": [
      "Training: 100%|██████████| 161/161 [00:27<00:00,  5.76it/s]\n"
     ]
    },
    {
     "name": "stdout",
     "output_type": "stream",
     "text": [
      "Train Loss: 0.1614, Train Accuracy: 94.89%\n"
     ]
    },
    {
     "name": "stderr",
     "output_type": "stream",
     "text": [
      "Validation: 100%|██████████| 35/35 [00:05<00:00,  6.48it/s]\n"
     ]
    },
    {
     "name": "stdout",
     "output_type": "stream",
     "text": [
      "Validation Loss: 5.1239, Validation Accuracy: 30.13%\n",
      "\n",
      "Epoch 44/50\n"
     ]
    },
    {
     "name": "stderr",
     "output_type": "stream",
     "text": [
      "Training: 100%|██████████| 161/161 [00:28<00:00,  5.74it/s]\n"
     ]
    },
    {
     "name": "stdout",
     "output_type": "stream",
     "text": [
      "Train Loss: 0.1398, Train Accuracy: 95.14%\n"
     ]
    },
    {
     "name": "stderr",
     "output_type": "stream",
     "text": [
      "Validation: 100%|██████████| 35/35 [00:05<00:00,  6.41it/s]\n"
     ]
    },
    {
     "name": "stdout",
     "output_type": "stream",
     "text": [
      "Validation Loss: 4.6763, Validation Accuracy: 30.22%\n",
      "\n",
      "Epoch 45/50\n"
     ]
    },
    {
     "name": "stderr",
     "output_type": "stream",
     "text": [
      "Training: 100%|██████████| 161/161 [00:27<00:00,  5.76it/s]\n"
     ]
    },
    {
     "name": "stdout",
     "output_type": "stream",
     "text": [
      "Train Loss: 0.0685, Train Accuracy: 97.88%\n"
     ]
    },
    {
     "name": "stderr",
     "output_type": "stream",
     "text": [
      "Validation: 100%|██████████| 35/35 [00:05<00:00,  6.31it/s]\n"
     ]
    },
    {
     "name": "stdout",
     "output_type": "stream",
     "text": [
      "Validation Loss: 4.7800, Validation Accuracy: 31.31%\n",
      "\n",
      "Epoch 46/50\n"
     ]
    },
    {
     "name": "stderr",
     "output_type": "stream",
     "text": [
      "Training: 100%|██████████| 161/161 [00:27<00:00,  5.76it/s]\n"
     ]
    },
    {
     "name": "stdout",
     "output_type": "stream",
     "text": [
      "Train Loss: 0.0406, Train Accuracy: 98.64%\n"
     ]
    },
    {
     "name": "stderr",
     "output_type": "stream",
     "text": [
      "Validation: 100%|██████████| 35/35 [00:05<00:00,  6.29it/s]\n"
     ]
    },
    {
     "name": "stdout",
     "output_type": "stream",
     "text": [
      "Validation Loss: 4.6275, Validation Accuracy: 33.94%\n",
      "\n",
      "Epoch 47/50\n"
     ]
    },
    {
     "name": "stderr",
     "output_type": "stream",
     "text": [
      "Training: 100%|██████████| 161/161 [00:27<00:00,  5.78it/s]\n"
     ]
    },
    {
     "name": "stdout",
     "output_type": "stream",
     "text": [
      "Train Loss: 0.0397, Train Accuracy: 98.74%\n"
     ]
    },
    {
     "name": "stderr",
     "output_type": "stream",
     "text": [
      "Validation: 100%|██████████| 35/35 [00:05<00:00,  6.34it/s]\n"
     ]
    },
    {
     "name": "stdout",
     "output_type": "stream",
     "text": [
      "Validation Loss: 4.8685, Validation Accuracy: 31.40%\n",
      "\n",
      "Epoch 48/50\n"
     ]
    },
    {
     "name": "stderr",
     "output_type": "stream",
     "text": [
      "Training: 100%|██████████| 161/161 [00:27<00:00,  5.77it/s]\n"
     ]
    },
    {
     "name": "stdout",
     "output_type": "stream",
     "text": [
      "Train Loss: 0.0695, Train Accuracy: 97.71%\n"
     ]
    },
    {
     "name": "stderr",
     "output_type": "stream",
     "text": [
      "Validation: 100%|██████████| 35/35 [00:05<00:00,  6.44it/s]\n"
     ]
    },
    {
     "name": "stdout",
     "output_type": "stream",
     "text": [
      "Validation Loss: 5.4158, Validation Accuracy: 27.95%\n",
      "\n",
      "Epoch 49/50\n"
     ]
    },
    {
     "name": "stderr",
     "output_type": "stream",
     "text": [
      "Training: 100%|██████████| 161/161 [00:27<00:00,  5.77it/s]\n"
     ]
    },
    {
     "name": "stdout",
     "output_type": "stream",
     "text": [
      "Train Loss: 0.0734, Train Accuracy: 97.82%\n"
     ]
    },
    {
     "name": "stderr",
     "output_type": "stream",
     "text": [
      "Validation: 100%|██████████| 35/35 [00:05<00:00,  6.40it/s]\n"
     ]
    },
    {
     "name": "stdout",
     "output_type": "stream",
     "text": [
      "Validation Loss: 5.0509, Validation Accuracy: 32.12%\n",
      "\n",
      "Epoch 50/50\n"
     ]
    },
    {
     "name": "stderr",
     "output_type": "stream",
     "text": [
      "Training: 100%|██████████| 161/161 [00:28<00:00,  5.72it/s]\n"
     ]
    },
    {
     "name": "stdout",
     "output_type": "stream",
     "text": [
      "Train Loss: 0.1112, Train Accuracy: 96.42%\n"
     ]
    },
    {
     "name": "stderr",
     "output_type": "stream",
     "text": [
      "Validation: 100%|██████████| 35/35 [00:05<00:00,  6.34it/s]"
     ]
    },
    {
     "name": "stdout",
     "output_type": "stream",
     "text": [
      "Validation Loss: 5.5827, Validation Accuracy: 27.95%\n"
     ]
    },
    {
     "name": "stderr",
     "output_type": "stream",
     "text": [
      "\n"
     ]
    }
   ],
   "source": [
    "for epoch in range(num_epochs):\n",
    "    print(f\"\\nEpoch {epoch+1}/{num_epochs}\")\n",
    "    train(model, train_loader, criterion, optimizer, device)\n",
    "    evaluate(model, val_loader, criterion, device, phase=\"Validation\")"
   ]
  },
  {
   "cell_type": "code",
   "execution_count": 27,
   "metadata": {
    "colab": {
     "base_uri": "https://localhost:8080/"
    },
    "id": "tAiyDwO0zMk1",
    "outputId": "0ae6ff9e-6571-46ea-e3c4-e900282c3715"
   },
   "outputs": [
    {
     "name": "stdout",
     "output_type": "stream",
     "text": [
      "\n",
      "Final Test Evaluation\n"
     ]
    },
    {
     "name": "stderr",
     "output_type": "stream",
     "text": [
      "Test: 100%|██████████| 35/35 [00:05<00:00,  6.26it/s]"
     ]
    },
    {
     "name": "stdout",
     "output_type": "stream",
     "text": [
      "Test Loss: 5.5899, Test Accuracy: 27.47%\n"
     ]
    },
    {
     "name": "stderr",
     "output_type": "stream",
     "text": [
      "\n"
     ]
    }
   ],
   "source": [
    "print(\"\\nFinal Test Evaluation\")\n",
    "evaluate(model, test_loader, criterion, device, phase=\"Test\")"
   ]
  },
  {
   "cell_type": "code",
   "execution_count": 28,
   "metadata": {
    "colab": {
     "base_uri": "https://localhost:8080/"
    },
    "id": "HCv209A51QEb",
    "outputId": "8f66e16f-b8af-4894-fc48-f2b4bde9ad1d"
   },
   "outputs": [
    {
     "name": "stdout",
     "output_type": "stream",
     "text": [
      "Inference Time Measurement Results:\n",
      "Total Inferences: 35\n",
      "Average Time: 5.82 ms\n",
      "Standard Deviation: 0.18 ms\n",
      "Maximum Time: 6.77 ms\n",
      "Minimum Time: 5.61 ms\n"
     ]
    }
   ],
   "source": [
    "times = measure_inference_time(model, test_loader, device)"
   ]
  },
  {
   "cell_type": "code",
   "execution_count": 28,
   "metadata": {
    "id": "m_kVgdJKDZqe"
   },
   "outputs": [],
   "source": []
  }
 ],
 "metadata": {
  "accelerator": "GPU",
  "colab": {
   "gpuType": "A100",
   "machine_shape": "hm",
   "provenance": []
  },
  "kernelspec": {
   "display_name": "Python 3 (ipykernel)",
   "language": "python",
   "name": "python3"
  },
  "language_info": {
   "codemirror_mode": {
    "name": "ipython",
    "version": 3
   },
   "file_extension": ".py",
   "mimetype": "text/x-python",
   "name": "python",
   "nbconvert_exporter": "python",
   "pygments_lexer": "ipython3",
   "version": "3.12.6"
  }
 },
 "nbformat": 4,
 "nbformat_minor": 4
}
