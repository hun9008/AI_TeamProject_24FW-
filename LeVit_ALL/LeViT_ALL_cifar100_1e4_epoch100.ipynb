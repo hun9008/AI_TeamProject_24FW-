{
 "cells": [
  {
   "cell_type": "code",
   "execution_count": 1,
   "metadata": {
    "colab": {
     "base_uri": "https://localhost:8080/"
    },
    "id": "gOt_dilyzGPf",
    "outputId": "312ce30e-e742-405b-d034-ec8f5baadfe0"
   },
   "outputs": [
    {
     "name": "stdout",
     "output_type": "stream",
     "text": [
      "Collecting torchinfo\n",
      "  Downloading torchinfo-1.8.0-py3-none-any.whl.metadata (21 kB)\n",
      "Downloading torchinfo-1.8.0-py3-none-any.whl (23 kB)\n",
      "Installing collected packages: torchinfo\n",
      "Successfully installed torchinfo-1.8.0\n"
     ]
    }
   ],
   "source": [
    "!pip install torchinfo"
   ]
  },
  {
   "cell_type": "code",
   "execution_count": 2,
   "metadata": {
    "colab": {
     "base_uri": "https://localhost:8080/"
    },
    "id": "gdqbv9JYes6c",
    "outputId": "1ae8b088-51db-4d69-ea03-a29a715b0b80"
   },
   "outputs": [
    {
     "name": "stdout",
     "output_type": "stream",
     "text": [
      "Requirement already satisfied: gdown in /usr/local/lib/python3.10/dist-packages (5.2.0)\n",
      "Requirement already satisfied: beautifulsoup4 in /usr/local/lib/python3.10/dist-packages (from gdown) (4.12.3)\n",
      "Requirement already satisfied: filelock in /usr/local/lib/python3.10/dist-packages (from gdown) (3.16.1)\n",
      "Requirement already satisfied: requests[socks] in /usr/local/lib/python3.10/dist-packages (from gdown) (2.32.3)\n",
      "Requirement already satisfied: tqdm in /usr/local/lib/python3.10/dist-packages (from gdown) (4.66.6)\n",
      "Requirement already satisfied: soupsieve>1.2 in /usr/local/lib/python3.10/dist-packages (from beautifulsoup4->gdown) (2.6)\n",
      "Requirement already satisfied: charset-normalizer<4,>=2 in /usr/local/lib/python3.10/dist-packages (from requests[socks]->gdown) (3.4.0)\n",
      "Requirement already satisfied: idna<4,>=2.5 in /usr/local/lib/python3.10/dist-packages (from requests[socks]->gdown) (3.10)\n",
      "Requirement already satisfied: urllib3<3,>=1.21.1 in /usr/local/lib/python3.10/dist-packages (from requests[socks]->gdown) (2.2.3)\n",
      "Requirement already satisfied: certifi>=2017.4.17 in /usr/local/lib/python3.10/dist-packages (from requests[socks]->gdown) (2024.8.30)\n",
      "Requirement already satisfied: PySocks!=1.5.7,>=1.5.6 in /usr/local/lib/python3.10/dist-packages (from requests[socks]->gdown) (1.7.1)\n"
     ]
    }
   ],
   "source": [
    "!pip install gdown"
   ]
  },
  {
   "cell_type": "code",
   "execution_count": 3,
   "metadata": {
    "id": "tZSEFQzWzBPy"
   },
   "outputs": [],
   "source": [
    "import timm\n",
    "import torch\n",
    "import torch.nn as nn\n",
    "import torch.optim as optim\n",
    "from torchvision import datasets, transforms\n",
    "from torch.utils.data import DataLoader, random_split, ConcatDataset\n",
    "import numpy as np\n",
    "from tqdm import tqdm\n",
    "\n",
    "import itertools\n",
    "from torchinfo import summary\n",
    "import matplotlib.pyplot as plt\n",
    "\n",
    "import os"
   ]
  },
  {
   "cell_type": "code",
   "execution_count": 4,
   "metadata": {
    "id": "IZWk8uzOPTzN"
   },
   "outputs": [],
   "source": [
    "train_losses = []\n",
    "train_accuracies = []\n",
    "val_losses = []\n",
    "val_accuracies = []\n",
    "\n",
    "# 모델 가중치 저장 경로 설정\n",
    "model_weight_path = \"./model_weights.pth\""
   ]
  },
  {
   "cell_type": "code",
   "execution_count": 5,
   "metadata": {
    "id": "5N0s6e-mzBPz"
   },
   "outputs": [],
   "source": [
    "class ConvNorm(nn.Module):\n",
    "    def __init__(self, in_channels, out_channels, kernel_size=3, stride=2, padding=1):\n",
    "        super(ConvNorm, self).__init__()\n",
    "        self.linear = nn.Conv2d(\n",
    "            in_channels, out_channels, kernel_size=kernel_size,\n",
    "            stride=stride, padding=padding, bias=False\n",
    "        )\n",
    "        self.bn = nn.BatchNorm2d(out_channels)\n",
    "\n",
    "    def forward(self, x):\n",
    "        x = self.linear(x)\n",
    "        x = self.bn(x)\n",
    "        return x"
   ]
  },
  {
   "cell_type": "code",
   "execution_count": 6,
   "metadata": {
    "id": "fX0CnXd9zBP0"
   },
   "outputs": [],
   "source": [
    "class Stem16(nn.Module):\n",
    "    def __init__(self):\n",
    "        super(Stem16, self).__init__()\n",
    "        self.conv1 = ConvNorm(3, 32)\n",
    "        self.act1 = nn.Hardswish()\n",
    "        self.conv2 = ConvNorm(32, 64)\n",
    "        self.act2 = nn.Hardswish()\n",
    "        self.conv3 = ConvNorm(64, 128)\n",
    "        self.act3 = nn.Hardswish()\n",
    "        self.conv4 = ConvNorm(128, 256)\n",
    "\n",
    "    def forward(self, x):\n",
    "        x = self.act1(self.conv1(x))\n",
    "        x = self.act2(self.conv2(x))\n",
    "        x = self.act3(self.conv3(x))\n",
    "        x = self.conv4(x)\n",
    "        return x"
   ]
  },
  {
   "cell_type": "code",
   "execution_count": 7,
   "metadata": {
    "id": "7tw3fRfnzBP0"
   },
   "outputs": [],
   "source": [
    "class LinearNorm(nn.Module):\n",
    "    def __init__(self, in_features, out_features):\n",
    "        super(LinearNorm, self).__init__()\n",
    "        self.linear = nn.Linear(in_features, out_features, bias=False)\n",
    "        self.bn = nn.BatchNorm1d(out_features)\n",
    "\n",
    "    def forward(self, x):\n",
    "\n",
    "        if x.dim() == 3:\n",
    "            B, N, C = x.shape\n",
    "            x = x.reshape(B * N, C)\n",
    "            x = self.bn(self.linear(x))\n",
    "            x = x.reshape(B, N, -1)\n",
    "        else:\n",
    "            x = self.bn(self.linear(x))\n",
    "        return x"
   ]
  },
  {
   "cell_type": "code",
   "execution_count": 8,
   "metadata": {
    "id": "rW7vhH2YzBP1"
   },
   "outputs": [],
   "source": [
    "class Attention(nn.Module):\n",
    "    def __init__(self, dim, num_heads, attn_ratio=2):\n",
    "        super(Attention, self).__init__()\n",
    "        self.num_heads = num_heads\n",
    "        head_dim = dim // num_heads\n",
    "        self.scale = head_dim ** -0.5\n",
    "        inner_dim = head_dim * num_heads * 3\n",
    "        self.qkv = LinearNorm(dim, inner_dim)\n",
    "\n",
    "        self.proj = nn.Sequential(\n",
    "            nn.Hardswish(),\n",
    "            LinearNorm(dim, dim)\n",
    "        )\n",
    "\n",
    "    def forward(self, x):\n",
    "        B, N, C = x.shape\n",
    "        qkv = self.qkv(x)\n",
    "        qkv = qkv.view(B, N, 3, self.num_heads, C // self.num_heads).permute(2, 0, 3, 1, 4)\n",
    "        q, k, v = qkv[0], qkv[1], qkv[2]\n",
    "        attn = (q @ k.transpose(-2, -1)) * self.scale\n",
    "        attn = attn.softmax(dim=-1)\n",
    "        x = (attn @ v).transpose(1, 2).reshape(B, N, C)\n",
    "        return self.proj(x)"
   ]
  },
  {
   "cell_type": "code",
   "execution_count": 9,
   "metadata": {
    "id": "ewOcRA2dzBP1"
   },
   "outputs": [],
   "source": [
    "class LevitMlp(nn.Module):\n",
    "    def __init__(self, in_features, hidden_features, out_features):\n",
    "        super(LevitMlp, self).__init__()\n",
    "        self.ln1 = LinearNorm(in_features, hidden_features)\n",
    "        self.act = nn.Hardswish()\n",
    "        self.drop = nn.Dropout(p=0.5, inplace=False)#dropout 적용\n",
    "        self.ln2 = LinearNorm(hidden_features, out_features)\n",
    "\n",
    "    def forward(self, x):\n",
    "        x = self.ln1(x)\n",
    "        x = self.act(x)\n",
    "        x = self.drop(x)\n",
    "        x = self.ln2(x)\n",
    "        return x"
   ]
  },
  {
   "cell_type": "code",
   "execution_count": 10,
   "metadata": {
    "id": "1m-F4YvfzBP2"
   },
   "outputs": [],
   "source": [
    "class LevitBlock(nn.Module):\n",
    "    def __init__(self, dim, num_heads, mlp_ratio=2):\n",
    "        super(LevitBlock, self).__init__()\n",
    "        self.attn = Attention(dim, num_heads)\n",
    "        self.drop_path1 = nn.Identity()\n",
    "        self.mlp = LevitMlp(dim, dim * mlp_ratio, dim)\n",
    "        self.drop_path2 = nn.Identity()\n",
    "\n",
    "    def forward(self, x):\n",
    "        x = x + self.drop_path1(self.attn(x))\n",
    "        x = x + self.drop_path2(self.mlp(x))\n",
    "        return x"
   ]
  },
  {
   "cell_type": "code",
   "execution_count": 11,
   "metadata": {
    "id": "pDfX1xE1zBP2"
   },
   "outputs": [],
   "source": [
    "# class AttentionDownsample(nn.Module):\n",
    "#     def __init__(self, dim, out_dim, num_heads, attn_ratio=2):\n",
    "#         super(AttentionDownsample, self).__init__()\n",
    "#         self.num_heads = num_heads\n",
    "#         self.scale = (dim // num_heads) ** -0.5\n",
    "#         inner_dim = dim * attn_ratio * num_heads\n",
    "#         self.kv = LinearNorm(dim, inner_dim)\n",
    "\n",
    "#         self.q = nn.Sequential(\n",
    "#             nn.Conv2d(dim, dim, kernel_size=2, stride=2),\n",
    "#             nn.Flatten(start_dim=1)\n",
    "#         )\n",
    "\n",
    "#         self.proj = nn.Sequential(\n",
    "#             nn.Hardswish(),\n",
    "#             LinearNorm(dim, out_dim)\n",
    "#         )\n",
    "\n",
    "#     def forward(self, x):\n",
    "#         B, N, C = x.shape\n",
    "#         H = W = int(N ** 0.5)\n",
    "#         x = x.reshape(B, C, H, W)\n",
    "\n",
    "#         kv = self.kv(x.flatten(2).transpose(1, 2))\n",
    "#         q = self.q(x)\n",
    "\n",
    "#         q = q.reshape(B, -1, C)\n",
    "#         x = self.proj(q)\n",
    "#         return x"
   ]
  },
  {
   "cell_type": "code",
   "execution_count": 12,
   "metadata": {
    "id": "Z26uegOwzBP2"
   },
   "outputs": [],
   "source": [
    "# class LevitDownsample(nn.Module):\n",
    "#     def __init__(self, dim, out_dim, num_heads, attn_ratio=2):\n",
    "#         super(LevitDownsample, self).__init__()\n",
    "#         self.attn_downsample = AttentionDownsample(dim, out_dim, num_heads, attn_ratio)\n",
    "#         self.mlp = LevitMlp(out_dim, out_dim * attn_ratio, out_dim)\n",
    "#         self.drop_path = nn.Identity()\n",
    "\n",
    "#     def forward(self, x):\n",
    "#         x = self.attn_downsample(x)\n",
    "#         x = self.drop_path(self.mlp(x))\n",
    "#         return x"
   ]
  },
  {
   "cell_type": "code",
   "execution_count": 13,
   "metadata": {
    "id": "p2DJrMeyJ2RO"
   },
   "outputs": [],
   "source": [
    "#CNNDownSample 적용\n",
    "class CNNDownsample(nn.Module):\n",
    "    def __init__(self, in_channels, out_channels):\n",
    "        super(CNNDownsample, self).__init__()\n",
    "        self.out_channels = out_channels\n",
    "        self.conv = nn.Conv2d(in_channels, out_channels, kernel_size=3, stride=2, padding=1)\n",
    "        self.act = nn.Hardswish()\n",
    "\n",
    "    def forward(self, x):\n",
    "        # print(x.shape)\n",
    "        B, N, C = x.shape # (B, N, C)  N=H*W (16 * 16 = 196)\n",
    "        H = int(np.sqrt(N))\n",
    "        x = x.view(B, H, H, C).permute(0, 3, 1, 2)\n",
    "        x = self.conv(x)\n",
    "        x = self.act(x)\n",
    "        x = x.permute(0, 2, 3, 1).view(B, -1, self.out_channels)\n",
    "        return x"
   ]
  },
  {
   "cell_type": "code",
   "execution_count": 14,
   "metadata": {
    "id": "oGsAuLPfzBP3"
   },
   "outputs": [],
   "source": [
    "class LevitStage(nn.Module):\n",
    "    def __init__(self, dim, out_dim, num_heads, num_blocks, downsample=True):\n",
    "        super(LevitStage, self).__init__()\n",
    "        self.downsample = CNNDownsample(dim, out_dim) if downsample else nn.Identity()\n",
    "        self.blocks = nn.Sequential(*[LevitBlock(out_dim, num_heads) for _ in range(num_blocks)])\n",
    "\n",
    "    def forward(self, x):\n",
    "        x = self.downsample(x)\n",
    "        x = self.blocks(x)\n",
    "        return x"
   ]
  },
  {
   "cell_type": "code",
   "execution_count": 15,
   "metadata": {
    "id": "2PBkdZUuhsDI"
   },
   "outputs": [],
   "source": [
    "class ConvLevitStage(nn.Module):\n",
    "    def __init__(self, in_channels, out_channels, num_blocks, kernel_size, stride, padding):\n",
    "        super(ConvLevitStage, self).__init__()\n",
    "        self.layers = nn.Sequential(\n",
    "            *[nn.Conv2d(in_channels if i == 0 else out_channels, out_channels, kernel_size, stride, padding)\n",
    "              for i in range(num_blocks)],\n",
    "            nn.BatchNorm2d(out_channels),\n",
    "            nn.ReLU(inplace=True)\n",
    "        )\n",
    "\n",
    "    def forward(self, x):\n",
    "        return self.layers(x)"
   ]
  },
  {
   "cell_type": "code",
   "execution_count": 16,
   "metadata": {
    "id": "bBPec4pbzBP3"
   },
   "outputs": [],
   "source": [
    "class NormLinear(nn.Module):\n",
    "    def __init__(self, in_features, out_features, dropout_prob=0.5):#drop_out_0.5 적용\n",
    "        super(NormLinear, self).__init__()\n",
    "        self.bn = nn.BatchNorm1d(in_features)\n",
    "        self.drop = nn.Dropout(p=dropout_prob, inplace=False)\n",
    "        self.linear = nn.Linear(in_features, out_features, bias=True)\n",
    "\n",
    "    def forward(self, x):\n",
    "        x = self.bn(x)\n",
    "        x = self.drop(x)\n",
    "        x = self.linear(x)\n",
    "        return x\n"
   ]
  },
  {
   "cell_type": "code",
   "execution_count": 17,
   "metadata": {
    "id": "mt5kkekezBP3"
   },
   "outputs": [],
   "source": [
    "class LevitDistilled(nn.Module):\n",
    "    def __init__(self, num_classes=100):\n",
    "        super(LevitDistilled, self).__init__()\n",
    "\n",
    "        self.stem = Stem16()\n",
    "\n",
    "        self.stage1 = LevitStage(dim=256, out_dim=256, num_heads=4, num_blocks=2, downsample=False) # block 수 적용\n",
    "        self.stage2 = LevitStage(dim=256, out_dim=384, num_heads=6, num_blocks=2, downsample=True)\n",
    "\n",
    "        self.conv1x1 = nn.Sequential(\n",
    "            nn.Conv2d(384, 512, kernel_size=1, stride=1, padding=0),\n",
    "            nn.BatchNorm2d(512),\n",
    "            nn.ReLU(inplace=True)\n",
    "        )\n",
    "\n",
    "        self.head = NormLinear(in_features=512, out_features=num_classes, dropout_prob=0.0)\n",
    "        self.head_dist = NormLinear(in_features=512, out_features=num_classes, dropout_prob=0.0)\n",
    "\n",
    "    def forward(self, x):\n",
    "        x = self.stem(x)\n",
    "\n",
    "        B, C, H, W = x.shape\n",
    "        x = x.view(B, C, -1).transpose(1, 2)\n",
    "        x = self.stage1(x)\n",
    "        x = self.stage2(x)\n",
    "\n",
    "        H = W = int(x.shape[1]**0.5)\n",
    "        x = x.transpose(1, 2).view(B, 384, H, W)\n",
    "\n",
    "        x = self.conv1x1(x)\n",
    "\n",
    "        x = torch.mean(x, dim=(2, 3))\n",
    "        out = self.head(x)\n",
    "        out_dist = self.head_dist(x)\n",
    "        return out"
   ]
  },
  {
   "cell_type": "code",
   "execution_count": 18,
   "metadata": {
    "colab": {
     "base_uri": "https://localhost:8080/"
    },
    "id": "kz4Um3NmzBP3",
    "outputId": "014c7e14-c948-483f-8efe-0e629ee97132"
   },
   "outputs": [
    {
     "name": "stdout",
     "output_type": "stream",
     "text": [
      "LevitDistilled(\n",
      "  (stem): Stem16(\n",
      "    (conv1): ConvNorm(\n",
      "      (linear): Conv2d(3, 32, kernel_size=(3, 3), stride=(2, 2), padding=(1, 1), bias=False)\n",
      "      (bn): BatchNorm2d(32, eps=1e-05, momentum=0.1, affine=True, track_running_stats=True)\n",
      "    )\n",
      "    (act1): Hardswish()\n",
      "    (conv2): ConvNorm(\n",
      "      (linear): Conv2d(32, 64, kernel_size=(3, 3), stride=(2, 2), padding=(1, 1), bias=False)\n",
      "      (bn): BatchNorm2d(64, eps=1e-05, momentum=0.1, affine=True, track_running_stats=True)\n",
      "    )\n",
      "    (act2): Hardswish()\n",
      "    (conv3): ConvNorm(\n",
      "      (linear): Conv2d(64, 128, kernel_size=(3, 3), stride=(2, 2), padding=(1, 1), bias=False)\n",
      "      (bn): BatchNorm2d(128, eps=1e-05, momentum=0.1, affine=True, track_running_stats=True)\n",
      "    )\n",
      "    (act3): Hardswish()\n",
      "    (conv4): ConvNorm(\n",
      "      (linear): Conv2d(128, 256, kernel_size=(3, 3), stride=(2, 2), padding=(1, 1), bias=False)\n",
      "      (bn): BatchNorm2d(256, eps=1e-05, momentum=0.1, affine=True, track_running_stats=True)\n",
      "    )\n",
      "  )\n",
      "  (stage1): LevitStage(\n",
      "    (downsample): Identity()\n",
      "    (blocks): Sequential(\n",
      "      (0): LevitBlock(\n",
      "        (attn): Attention(\n",
      "          (qkv): LinearNorm(\n",
      "            (linear): Linear(in_features=256, out_features=768, bias=False)\n",
      "            (bn): BatchNorm1d(768, eps=1e-05, momentum=0.1, affine=True, track_running_stats=True)\n",
      "          )\n",
      "          (proj): Sequential(\n",
      "            (0): Hardswish()\n",
      "            (1): LinearNorm(\n",
      "              (linear): Linear(in_features=256, out_features=256, bias=False)\n",
      "              (bn): BatchNorm1d(256, eps=1e-05, momentum=0.1, affine=True, track_running_stats=True)\n",
      "            )\n",
      "          )\n",
      "        )\n",
      "        (drop_path1): Identity()\n",
      "        (mlp): LevitMlp(\n",
      "          (ln1): LinearNorm(\n",
      "            (linear): Linear(in_features=256, out_features=512, bias=False)\n",
      "            (bn): BatchNorm1d(512, eps=1e-05, momentum=0.1, affine=True, track_running_stats=True)\n",
      "          )\n",
      "          (act): Hardswish()\n",
      "          (drop): Dropout(p=0.5, inplace=False)\n",
      "          (ln2): LinearNorm(\n",
      "            (linear): Linear(in_features=512, out_features=256, bias=False)\n",
      "            (bn): BatchNorm1d(256, eps=1e-05, momentum=0.1, affine=True, track_running_stats=True)\n",
      "          )\n",
      "        )\n",
      "        (drop_path2): Identity()\n",
      "      )\n",
      "      (1): LevitBlock(\n",
      "        (attn): Attention(\n",
      "          (qkv): LinearNorm(\n",
      "            (linear): Linear(in_features=256, out_features=768, bias=False)\n",
      "            (bn): BatchNorm1d(768, eps=1e-05, momentum=0.1, affine=True, track_running_stats=True)\n",
      "          )\n",
      "          (proj): Sequential(\n",
      "            (0): Hardswish()\n",
      "            (1): LinearNorm(\n",
      "              (linear): Linear(in_features=256, out_features=256, bias=False)\n",
      "              (bn): BatchNorm1d(256, eps=1e-05, momentum=0.1, affine=True, track_running_stats=True)\n",
      "            )\n",
      "          )\n",
      "        )\n",
      "        (drop_path1): Identity()\n",
      "        (mlp): LevitMlp(\n",
      "          (ln1): LinearNorm(\n",
      "            (linear): Linear(in_features=256, out_features=512, bias=False)\n",
      "            (bn): BatchNorm1d(512, eps=1e-05, momentum=0.1, affine=True, track_running_stats=True)\n",
      "          )\n",
      "          (act): Hardswish()\n",
      "          (drop): Dropout(p=0.5, inplace=False)\n",
      "          (ln2): LinearNorm(\n",
      "            (linear): Linear(in_features=512, out_features=256, bias=False)\n",
      "            (bn): BatchNorm1d(256, eps=1e-05, momentum=0.1, affine=True, track_running_stats=True)\n",
      "          )\n",
      "        )\n",
      "        (drop_path2): Identity()\n",
      "      )\n",
      "    )\n",
      "  )\n",
      "  (stage2): LevitStage(\n",
      "    (downsample): CNNDownsample(\n",
      "      (conv): Conv2d(256, 384, kernel_size=(3, 3), stride=(2, 2), padding=(1, 1))\n",
      "      (act): Hardswish()\n",
      "    )\n",
      "    (blocks): Sequential(\n",
      "      (0): LevitBlock(\n",
      "        (attn): Attention(\n",
      "          (qkv): LinearNorm(\n",
      "            (linear): Linear(in_features=384, out_features=1152, bias=False)\n",
      "            (bn): BatchNorm1d(1152, eps=1e-05, momentum=0.1, affine=True, track_running_stats=True)\n",
      "          )\n",
      "          (proj): Sequential(\n",
      "            (0): Hardswish()\n",
      "            (1): LinearNorm(\n",
      "              (linear): Linear(in_features=384, out_features=384, bias=False)\n",
      "              (bn): BatchNorm1d(384, eps=1e-05, momentum=0.1, affine=True, track_running_stats=True)\n",
      "            )\n",
      "          )\n",
      "        )\n",
      "        (drop_path1): Identity()\n",
      "        (mlp): LevitMlp(\n",
      "          (ln1): LinearNorm(\n",
      "            (linear): Linear(in_features=384, out_features=768, bias=False)\n",
      "            (bn): BatchNorm1d(768, eps=1e-05, momentum=0.1, affine=True, track_running_stats=True)\n",
      "          )\n",
      "          (act): Hardswish()\n",
      "          (drop): Dropout(p=0.5, inplace=False)\n",
      "          (ln2): LinearNorm(\n",
      "            (linear): Linear(in_features=768, out_features=384, bias=False)\n",
      "            (bn): BatchNorm1d(384, eps=1e-05, momentum=0.1, affine=True, track_running_stats=True)\n",
      "          )\n",
      "        )\n",
      "        (drop_path2): Identity()\n",
      "      )\n",
      "      (1): LevitBlock(\n",
      "        (attn): Attention(\n",
      "          (qkv): LinearNorm(\n",
      "            (linear): Linear(in_features=384, out_features=1152, bias=False)\n",
      "            (bn): BatchNorm1d(1152, eps=1e-05, momentum=0.1, affine=True, track_running_stats=True)\n",
      "          )\n",
      "          (proj): Sequential(\n",
      "            (0): Hardswish()\n",
      "            (1): LinearNorm(\n",
      "              (linear): Linear(in_features=384, out_features=384, bias=False)\n",
      "              (bn): BatchNorm1d(384, eps=1e-05, momentum=0.1, affine=True, track_running_stats=True)\n",
      "            )\n",
      "          )\n",
      "        )\n",
      "        (drop_path1): Identity()\n",
      "        (mlp): LevitMlp(\n",
      "          (ln1): LinearNorm(\n",
      "            (linear): Linear(in_features=384, out_features=768, bias=False)\n",
      "            (bn): BatchNorm1d(768, eps=1e-05, momentum=0.1, affine=True, track_running_stats=True)\n",
      "          )\n",
      "          (act): Hardswish()\n",
      "          (drop): Dropout(p=0.5, inplace=False)\n",
      "          (ln2): LinearNorm(\n",
      "            (linear): Linear(in_features=768, out_features=384, bias=False)\n",
      "            (bn): BatchNorm1d(384, eps=1e-05, momentum=0.1, affine=True, track_running_stats=True)\n",
      "          )\n",
      "        )\n",
      "        (drop_path2): Identity()\n",
      "      )\n",
      "    )\n",
      "  )\n",
      "  (conv1x1): Sequential(\n",
      "    (0): Conv2d(384, 512, kernel_size=(1, 1), stride=(1, 1))\n",
      "    (1): BatchNorm2d(512, eps=1e-05, momentum=0.1, affine=True, track_running_stats=True)\n",
      "    (2): ReLU(inplace=True)\n",
      "  )\n",
      "  (head): NormLinear(\n",
      "    (bn): BatchNorm1d(512, eps=1e-05, momentum=0.1, affine=True, track_running_stats=True)\n",
      "    (drop): Dropout(p=0.0, inplace=False)\n",
      "    (linear): Linear(in_features=512, out_features=100, bias=True)\n",
      "  )\n",
      "  (head_dist): NormLinear(\n",
      "    (bn): BatchNorm1d(512, eps=1e-05, momentum=0.1, affine=True, track_running_stats=True)\n",
      "    (drop): Dropout(p=0.0, inplace=False)\n",
      "    (linear): Linear(in_features=512, out_features=100, bias=True)\n",
      "  )\n",
      ")\n"
     ]
    }
   ],
   "source": [
    "model = LevitDistilled()\n",
    "# model = LauncherModel()\n",
    "print(model)\n",
    "\n",
    "device = torch.device(\"cuda\" if torch.cuda.is_available() else \"cpu\")\n",
    "model = model.to(device)\n",
    "\n",
    "batch_size = 32\n",
    "learning_rate = 1e-4\n",
    "num_epochs = 100"
   ]
  },
  {
   "cell_type": "code",
   "execution_count": 19,
   "metadata": {
    "colab": {
     "base_uri": "https://localhost:8080/"
    },
    "id": "bmb6Hs2cO5_F",
    "outputId": "f2fe8439-43b5-4db4-b14e-e66e706daa0e"
   },
   "outputs": [
    {
     "name": "stdout",
     "output_type": "stream",
     "text": [
      "=========================================================================================================\n",
      "Layer (type:depth-idx)                                  Output Shape              Param #\n",
      "=========================================================================================================\n",
      "LevitDistilled                                          [32, 100]                 --\n",
      "├─Stem16: 1-1                                           [32, 256, 14, 14]         --\n",
      "│    └─ConvNorm: 2-1                                    [32, 32, 112, 112]        --\n",
      "│    │    └─Conv2d: 3-1                                 [32, 32, 112, 112]        864\n",
      "│    │    └─BatchNorm2d: 3-2                            [32, 32, 112, 112]        64\n",
      "│    └─Hardswish: 2-2                                   [32, 32, 112, 112]        --\n",
      "│    └─ConvNorm: 2-3                                    [32, 64, 56, 56]          --\n",
      "│    │    └─Conv2d: 3-3                                 [32, 64, 56, 56]          18,432\n",
      "│    │    └─BatchNorm2d: 3-4                            [32, 64, 56, 56]          128\n",
      "│    └─Hardswish: 2-4                                   [32, 64, 56, 56]          --\n",
      "│    └─ConvNorm: 2-5                                    [32, 128, 28, 28]         --\n",
      "│    │    └─Conv2d: 3-5                                 [32, 128, 28, 28]         73,728\n",
      "│    │    └─BatchNorm2d: 3-6                            [32, 128, 28, 28]         256\n",
      "│    └─Hardswish: 2-6                                   [32, 128, 28, 28]         --\n",
      "│    └─ConvNorm: 2-7                                    [32, 256, 14, 14]         --\n",
      "│    │    └─Conv2d: 3-7                                 [32, 256, 14, 14]         294,912\n",
      "│    │    └─BatchNorm2d: 3-8                            [32, 256, 14, 14]         512\n",
      "├─LevitStage: 1-2                                       [32, 196, 256]            --\n",
      "│    └─Identity: 2-8                                    [32, 196, 256]            --\n",
      "│    └─Sequential: 2-9                                  [32, 196, 256]            --\n",
      "│    │    └─LevitBlock: 3-9                             [32, 196, 256]            527,872\n",
      "│    │    └─LevitBlock: 3-10                            [32, 196, 256]            527,872\n",
      "├─LevitStage: 1-3                                       [32, 49, 384]             --\n",
      "│    └─CNNDownsample: 2-10                              [32, 49, 384]             --\n",
      "│    │    └─Conv2d: 3-11                                [32, 384, 7, 7]           885,120\n",
      "│    │    └─Hardswish: 3-12                             [32, 384, 7, 7]           --\n",
      "│    └─Sequential: 2-11                                 [32, 49, 384]             --\n",
      "│    │    └─LevitBlock: 3-13                            [32, 49, 384]             1,185,024\n",
      "│    │    └─LevitBlock: 3-14                            [32, 49, 384]             1,185,024\n",
      "├─Sequential: 1-4                                       [32, 512, 7, 7]           --\n",
      "│    └─Conv2d: 2-12                                     [32, 512, 7, 7]           197,120\n",
      "│    └─BatchNorm2d: 2-13                                [32, 512, 7, 7]           1,024\n",
      "│    └─ReLU: 2-14                                       [32, 512, 7, 7]           --\n",
      "├─NormLinear: 1-5                                       [32, 100]                 --\n",
      "│    └─BatchNorm1d: 2-15                                [32, 512]                 1,024\n",
      "│    └─Dropout: 2-16                                    [32, 512]                 --\n",
      "│    └─Linear: 2-17                                     [32, 100]                 51,300\n",
      "├─NormLinear: 1-6                                       [32, 100]                 --\n",
      "│    └─BatchNorm1d: 2-18                                [32, 512]                 1,024\n",
      "│    └─Dropout: 2-19                                    [32, 512]                 --\n",
      "│    └─Linear: 2-20                                     [32, 100]                 51,300\n",
      "=========================================================================================================\n",
      "Total params: 5,002,600\n",
      "Trainable params: 5,002,600\n",
      "Non-trainable params: 0\n",
      "Total mult-adds (G): 17.93\n",
      "=========================================================================================================\n",
      "Input size (MB): 19.27\n",
      "Forward/backward pass size (MB): 897.86\n",
      "Params size (MB): 20.01\n",
      "Estimated Total Size (MB): 937.14\n",
      "=========================================================================================================\n"
     ]
    }
   ],
   "source": [
    "print(summary(model, input_size=(32, 3, 224, 224)))"
   ]
  },
  {
   "cell_type": "code",
   "execution_count": 20,
   "metadata": {
    "colab": {
     "base_uri": "https://localhost:8080/"
    },
    "id": "M7rBknzRzBP3",
    "outputId": "77c8caa9-12a9-4faf-ca8c-966c92e6e71a"
   },
   "outputs": [
    {
     "name": "stdout",
     "output_type": "stream",
     "text": [
      "=========================================================================================================\n",
      "Layer (type:depth-idx)                                  Output Shape              Param #\n",
      "=========================================================================================================\n",
      "LevitDistilled                                          [32, 100]                 --\n",
      "├─Stem16: 1-1                                           [32, 256, 14, 14]         --\n",
      "│    └─conv1.linear.weight                                                        ├─864\n",
      "│    └─conv1.bn.weight                                                            ├─32\n",
      "│    └─conv1.bn.bias                                                              ├─32\n",
      "│    └─conv2.linear.weight                                                        ├─18,432\n",
      "│    └─conv2.bn.weight                                                            ├─64\n",
      "│    └─conv2.bn.bias                                                              ├─64\n",
      "│    └─conv3.linear.weight                                                        ├─73,728\n",
      "│    └─conv3.bn.weight                                                            ├─128\n",
      "│    └─conv3.bn.bias                                                              ├─128\n",
      "│    └─conv4.linear.weight                                                        ├─294,912\n",
      "│    └─conv4.bn.weight                                                            ├─256\n",
      "│    └─conv4.bn.bias                                                              └─256\n",
      "│    └─ConvNorm: 2-1                                    [32, 32, 112, 112]        --\n",
      "│    │    └─linear.weight                                                         ├─864\n",
      "│    │    └─bn.weight                                                             ├─32\n",
      "│    │    └─bn.bias                                                               └─32\n",
      "│    │    └─Conv2d: 3-1                                 [32, 32, 112, 112]        864\n",
      "│    │    │    └─weight                                                           └─864\n",
      "│    │    └─BatchNorm2d: 3-2                            [32, 32, 112, 112]        64\n",
      "│    │    │    └─weight                                                           ├─32\n",
      "│    │    │    └─bias                                                             └─32\n",
      "│    └─Hardswish: 2-2                                   [32, 32, 112, 112]        --\n",
      "│    └─ConvNorm: 2-3                                    [32, 64, 56, 56]          --\n",
      "│    │    └─linear.weight                                                         ├─18,432\n",
      "│    │    └─bn.weight                                                             ├─64\n",
      "│    │    └─bn.bias                                                               └─64\n",
      "│    │    └─Conv2d: 3-3                                 [32, 64, 56, 56]          18,432\n",
      "│    │    │    └─weight                                                           └─18,432\n",
      "│    │    └─BatchNorm2d: 3-4                            [32, 64, 56, 56]          128\n",
      "│    │    │    └─weight                                                           ├─64\n",
      "│    │    │    └─bias                                                             └─64\n",
      "│    └─Hardswish: 2-4                                   [32, 64, 56, 56]          --\n",
      "│    └─ConvNorm: 2-5                                    [32, 128, 28, 28]         --\n",
      "│    │    └─linear.weight                                                         ├─73,728\n",
      "│    │    └─bn.weight                                                             ├─128\n",
      "│    │    └─bn.bias                                                               └─128\n",
      "│    │    └─Conv2d: 3-5                                 [32, 128, 28, 28]         73,728\n",
      "│    │    │    └─weight                                                           └─73,728\n",
      "│    │    └─BatchNorm2d: 3-6                            [32, 128, 28, 28]         256\n",
      "│    │    │    └─weight                                                           ├─128\n",
      "│    │    │    └─bias                                                             └─128\n",
      "│    └─Hardswish: 2-6                                   [32, 128, 28, 28]         --\n",
      "│    └─ConvNorm: 2-7                                    [32, 256, 14, 14]         --\n",
      "│    │    └─linear.weight                                                         ├─294,912\n",
      "│    │    └─bn.weight                                                             ├─256\n",
      "│    │    └─bn.bias                                                               └─256\n",
      "│    │    └─Conv2d: 3-7                                 [32, 256, 14, 14]         294,912\n",
      "│    │    │    └─weight                                                           └─294,912\n",
      "│    │    └─BatchNorm2d: 3-8                            [32, 256, 14, 14]         512\n",
      "│    │    │    └─weight                                                           ├─256\n",
      "│    │    │    └─bias                                                             └─256\n",
      "├─LevitStage: 1-2                                       [32, 196, 256]            --\n",
      "│    └─blocks.0.attn.qkv.linear.weight                                            ├─196,608\n",
      "│    └─blocks.0.attn.qkv.bn.weight                                                ├─768\n",
      "│    └─blocks.0.attn.qkv.bn.bias                                                  ├─768\n",
      "│    └─blocks.0.attn.proj.1.linear.weight                                         ├─65,536\n",
      "│    └─blocks.0.attn.proj.1.bn.weight                                             ├─256\n",
      "│    └─blocks.0.attn.proj.1.bn.bias                                               ├─256\n",
      "│    └─blocks.0.mlp.ln1.linear.weight                                             ├─131,072\n",
      "│    └─blocks.0.mlp.ln1.bn.weight                                                 ├─512\n",
      "│    └─blocks.0.mlp.ln1.bn.bias                                                   ├─512\n",
      "│    └─blocks.0.mlp.ln2.linear.weight                                             ├─131,072\n",
      "│    └─blocks.0.mlp.ln2.bn.weight                                                 ├─256\n",
      "│    └─blocks.0.mlp.ln2.bn.bias                                                   ├─256\n",
      "│    └─blocks.1.attn.qkv.linear.weight                                            ├─196,608\n",
      "│    └─blocks.1.attn.qkv.bn.weight                                                ├─768\n",
      "│    └─blocks.1.attn.qkv.bn.bias                                                  ├─768\n",
      "│    └─blocks.1.attn.proj.1.linear.weight                                         ├─65,536\n",
      "│    └─blocks.1.attn.proj.1.bn.weight                                             ├─256\n",
      "│    └─blocks.1.attn.proj.1.bn.bias                                               ├─256\n",
      "│    └─blocks.1.mlp.ln1.linear.weight                                             ├─131,072\n",
      "│    └─blocks.1.mlp.ln1.bn.weight                                                 ├─512\n",
      "│    └─blocks.1.mlp.ln1.bn.bias                                                   ├─512\n",
      "│    └─blocks.1.mlp.ln2.linear.weight                                             ├─131,072\n",
      "│    └─blocks.1.mlp.ln2.bn.weight                                                 ├─256\n",
      "│    └─blocks.1.mlp.ln2.bn.bias                                                   └─256\n",
      "│    └─Identity: 2-8                                    [32, 196, 256]            --\n",
      "│    └─Sequential: 2-9                                  [32, 196, 256]            --\n",
      "│    │    └─0.attn.qkv.linear.weight                                              ├─196,608\n",
      "│    │    └─0.attn.qkv.bn.weight                                                  ├─768\n",
      "│    │    └─0.attn.qkv.bn.bias                                                    ├─768\n",
      "│    │    └─0.attn.proj.1.linear.weight                                           ├─65,536\n",
      "│    │    └─0.attn.proj.1.bn.weight                                               ├─256\n",
      "│    │    └─0.attn.proj.1.bn.bias                                                 ├─256\n",
      "│    │    └─0.mlp.ln1.linear.weight                                               ├─131,072\n",
      "│    │    └─0.mlp.ln1.bn.weight                                                   ├─512\n",
      "│    │    └─0.mlp.ln1.bn.bias                                                     ├─512\n",
      "│    │    └─0.mlp.ln2.linear.weight                                               ├─131,072\n",
      "│    │    └─0.mlp.ln2.bn.weight                                                   ├─256\n",
      "│    │    └─0.mlp.ln2.bn.bias                                                     ├─256\n",
      "│    │    └─1.attn.qkv.linear.weight                                              ├─196,608\n",
      "│    │    └─1.attn.qkv.bn.weight                                                  ├─768\n",
      "│    │    └─1.attn.qkv.bn.bias                                                    ├─768\n",
      "│    │    └─1.attn.proj.1.linear.weight                                           ├─65,536\n",
      "│    │    └─1.attn.proj.1.bn.weight                                               ├─256\n",
      "│    │    └─1.attn.proj.1.bn.bias                                                 ├─256\n",
      "│    │    └─1.mlp.ln1.linear.weight                                               ├─131,072\n",
      "│    │    └─1.mlp.ln1.bn.weight                                                   ├─512\n",
      "│    │    └─1.mlp.ln1.bn.bias                                                     ├─512\n",
      "│    │    └─1.mlp.ln2.linear.weight                                               ├─131,072\n",
      "│    │    └─1.mlp.ln2.bn.weight                                                   ├─256\n",
      "│    │    └─1.mlp.ln2.bn.bias                                                     └─256\n",
      "│    │    └─LevitBlock: 3-9                             [32, 196, 256]            527,872\n",
      "│    │    │    └─attn.qkv.linear.weight                                           ├─196,608\n",
      "│    │    │    └─attn.qkv.bn.weight                                               ├─768\n",
      "│    │    │    └─attn.qkv.bn.bias                                                 ├─768\n",
      "│    │    │    └─attn.proj.1.linear.weight                                        ├─65,536\n",
      "│    │    │    └─attn.proj.1.bn.weight                                            ├─256\n",
      "│    │    │    └─attn.proj.1.bn.bias                                              ├─256\n",
      "│    │    │    └─mlp.ln1.linear.weight                                            ├─131,072\n",
      "│    │    │    └─mlp.ln1.bn.weight                                                ├─512\n",
      "│    │    │    └─mlp.ln1.bn.bias                                                  ├─512\n",
      "│    │    │    └─mlp.ln2.linear.weight                                            ├─131,072\n",
      "│    │    │    └─mlp.ln2.bn.weight                                                ├─256\n",
      "│    │    │    └─mlp.ln2.bn.bias                                                  └─256\n",
      "│    │    └─LevitBlock: 3-10                            [32, 196, 256]            527,872\n",
      "│    │    │    └─attn.qkv.linear.weight                                           ├─196,608\n",
      "│    │    │    └─attn.qkv.bn.weight                                               ├─768\n",
      "│    │    │    └─attn.qkv.bn.bias                                                 ├─768\n",
      "│    │    │    └─attn.proj.1.linear.weight                                        ├─65,536\n",
      "│    │    │    └─attn.proj.1.bn.weight                                            ├─256\n",
      "│    │    │    └─attn.proj.1.bn.bias                                              ├─256\n",
      "│    │    │    └─mlp.ln1.linear.weight                                            ├─131,072\n",
      "│    │    │    └─mlp.ln1.bn.weight                                                ├─512\n",
      "│    │    │    └─mlp.ln1.bn.bias                                                  ├─512\n",
      "│    │    │    └─mlp.ln2.linear.weight                                            ├─131,072\n",
      "│    │    │    └─mlp.ln2.bn.weight                                                ├─256\n",
      "│    │    │    └─mlp.ln2.bn.bias                                                  └─256\n",
      "├─LevitStage: 1-3                                       [32, 49, 384]             --\n",
      "│    └─downsample.conv.weight                                                     ├─884,736\n",
      "│    └─downsample.conv.bias                                                       ├─384\n",
      "│    └─blocks.0.attn.qkv.linear.weight                                            ├─442,368\n",
      "│    └─blocks.0.attn.qkv.bn.weight                                                ├─1,152\n",
      "│    └─blocks.0.attn.qkv.bn.bias                                                  ├─1,152\n",
      "│    └─blocks.0.attn.proj.1.linear.weight                                         ├─147,456\n",
      "│    └─blocks.0.attn.proj.1.bn.weight                                             ├─384\n",
      "│    └─blocks.0.attn.proj.1.bn.bias                                               ├─384\n",
      "│    └─blocks.0.mlp.ln1.linear.weight                                             ├─294,912\n",
      "│    └─blocks.0.mlp.ln1.bn.weight                                                 ├─768\n",
      "│    └─blocks.0.mlp.ln1.bn.bias                                                   ├─768\n",
      "│    └─blocks.0.mlp.ln2.linear.weight                                             ├─294,912\n",
      "│    └─blocks.0.mlp.ln2.bn.weight                                                 ├─384\n",
      "│    └─blocks.0.mlp.ln2.bn.bias                                                   ├─384\n",
      "│    └─blocks.1.attn.qkv.linear.weight                                            ├─442,368\n",
      "│    └─blocks.1.attn.qkv.bn.weight                                                ├─1,152\n",
      "│    └─blocks.1.attn.qkv.bn.bias                                                  ├─1,152\n",
      "│    └─blocks.1.attn.proj.1.linear.weight                                         ├─147,456\n",
      "│    └─blocks.1.attn.proj.1.bn.weight                                             ├─384\n",
      "│    └─blocks.1.attn.proj.1.bn.bias                                               ├─384\n",
      "│    └─blocks.1.mlp.ln1.linear.weight                                             ├─294,912\n",
      "│    └─blocks.1.mlp.ln1.bn.weight                                                 ├─768\n",
      "│    └─blocks.1.mlp.ln1.bn.bias                                                   ├─768\n",
      "│    └─blocks.1.mlp.ln2.linear.weight                                             ├─294,912\n",
      "│    └─blocks.1.mlp.ln2.bn.weight                                                 ├─384\n",
      "│    └─blocks.1.mlp.ln2.bn.bias                                                   └─384\n",
      "│    └─CNNDownsample: 2-10                              [32, 49, 384]             --\n",
      "│    │    └─conv.weight                                                           ├─884,736\n",
      "│    │    └─conv.bias                                                             └─384\n",
      "│    │    └─Conv2d: 3-11                                [32, 384, 7, 7]           885,120\n",
      "│    │    │    └─weight                                                           ├─884,736\n",
      "│    │    │    └─bias                                                             └─384\n",
      "│    │    └─Hardswish: 3-12                             [32, 384, 7, 7]           --\n",
      "│    └─Sequential: 2-11                                 [32, 49, 384]             --\n",
      "│    │    └─0.attn.qkv.linear.weight                                              ├─442,368\n",
      "│    │    └─0.attn.qkv.bn.weight                                                  ├─1,152\n",
      "│    │    └─0.attn.qkv.bn.bias                                                    ├─1,152\n",
      "│    │    └─0.attn.proj.1.linear.weight                                           ├─147,456\n",
      "│    │    └─0.attn.proj.1.bn.weight                                               ├─384\n",
      "│    │    └─0.attn.proj.1.bn.bias                                                 ├─384\n",
      "│    │    └─0.mlp.ln1.linear.weight                                               ├─294,912\n",
      "│    │    └─0.mlp.ln1.bn.weight                                                   ├─768\n",
      "│    │    └─0.mlp.ln1.bn.bias                                                     ├─768\n",
      "│    │    └─0.mlp.ln2.linear.weight                                               ├─294,912\n",
      "│    │    └─0.mlp.ln2.bn.weight                                                   ├─384\n",
      "│    │    └─0.mlp.ln2.bn.bias                                                     ├─384\n",
      "│    │    └─1.attn.qkv.linear.weight                                              ├─442,368\n",
      "│    │    └─1.attn.qkv.bn.weight                                                  ├─1,152\n",
      "│    │    └─1.attn.qkv.bn.bias                                                    ├─1,152\n",
      "│    │    └─1.attn.proj.1.linear.weight                                           ├─147,456\n",
      "│    │    └─1.attn.proj.1.bn.weight                                               ├─384\n",
      "│    │    └─1.attn.proj.1.bn.bias                                                 ├─384\n",
      "│    │    └─1.mlp.ln1.linear.weight                                               ├─294,912\n",
      "│    │    └─1.mlp.ln1.bn.weight                                                   ├─768\n",
      "│    │    └─1.mlp.ln1.bn.bias                                                     ├─768\n",
      "│    │    └─1.mlp.ln2.linear.weight                                               ├─294,912\n",
      "│    │    └─1.mlp.ln2.bn.weight                                                   ├─384\n",
      "│    │    └─1.mlp.ln2.bn.bias                                                     └─384\n",
      "│    │    └─LevitBlock: 3-13                            [32, 49, 384]             1,185,024\n",
      "│    │    │    └─attn.qkv.linear.weight                                           ├─442,368\n",
      "│    │    │    └─attn.qkv.bn.weight                                               ├─1,152\n",
      "│    │    │    └─attn.qkv.bn.bias                                                 ├─1,152\n",
      "│    │    │    └─attn.proj.1.linear.weight                                        ├─147,456\n",
      "│    │    │    └─attn.proj.1.bn.weight                                            ├─384\n",
      "│    │    │    └─attn.proj.1.bn.bias                                              ├─384\n",
      "│    │    │    └─mlp.ln1.linear.weight                                            ├─294,912\n",
      "│    │    │    └─mlp.ln1.bn.weight                                                ├─768\n",
      "│    │    │    └─mlp.ln1.bn.bias                                                  ├─768\n",
      "│    │    │    └─mlp.ln2.linear.weight                                            ├─294,912\n",
      "│    │    │    └─mlp.ln2.bn.weight                                                ├─384\n",
      "│    │    │    └─mlp.ln2.bn.bias                                                  └─384\n",
      "│    │    └─LevitBlock: 3-14                            [32, 49, 384]             1,185,024\n",
      "│    │    │    └─attn.qkv.linear.weight                                           ├─442,368\n",
      "│    │    │    └─attn.qkv.bn.weight                                               ├─1,152\n",
      "│    │    │    └─attn.qkv.bn.bias                                                 ├─1,152\n",
      "│    │    │    └─attn.proj.1.linear.weight                                        ├─147,456\n",
      "│    │    │    └─attn.proj.1.bn.weight                                            ├─384\n",
      "│    │    │    └─attn.proj.1.bn.bias                                              ├─384\n",
      "│    │    │    └─mlp.ln1.linear.weight                                            ├─294,912\n",
      "│    │    │    └─mlp.ln1.bn.weight                                                ├─768\n",
      "│    │    │    └─mlp.ln1.bn.bias                                                  ├─768\n",
      "│    │    │    └─mlp.ln2.linear.weight                                            ├─294,912\n",
      "│    │    │    └─mlp.ln2.bn.weight                                                ├─384\n",
      "│    │    │    └─mlp.ln2.bn.bias                                                  └─384\n",
      "├─Sequential: 1-4                                       [32, 512, 7, 7]           --\n",
      "│    └─0.weight                                                                   ├─196,608\n",
      "│    └─0.bias                                                                     ├─512\n",
      "│    └─1.weight                                                                   ├─512\n",
      "│    └─1.bias                                                                     └─512\n",
      "│    └─Conv2d: 2-12                                     [32, 512, 7, 7]           197,120\n",
      "│    │    └─weight                                                                ├─196,608\n",
      "│    │    └─bias                                                                  └─512\n",
      "│    └─BatchNorm2d: 2-13                                [32, 512, 7, 7]           1,024\n",
      "│    │    └─weight                                                                ├─512\n",
      "│    │    └─bias                                                                  └─512\n",
      "│    └─ReLU: 2-14                                       [32, 512, 7, 7]           --\n",
      "├─NormLinear: 1-5                                       [32, 100]                 --\n",
      "│    └─bn.weight                                                                  ├─512\n",
      "│    └─bn.bias                                                                    ├─512\n",
      "│    └─linear.weight                                                              ├─51,200\n",
      "│    └─linear.bias                                                                └─100\n",
      "│    └─BatchNorm1d: 2-15                                [32, 512]                 1,024\n",
      "│    │    └─weight                                                                ├─512\n",
      "│    │    └─bias                                                                  └─512\n",
      "│    └─Dropout: 2-16                                    [32, 512]                 --\n",
      "│    └─Linear: 2-17                                     [32, 100]                 51,300\n",
      "│    │    └─weight                                                                ├─51,200\n",
      "│    │    └─bias                                                                  └─100\n",
      "├─NormLinear: 1-6                                       [32, 100]                 --\n",
      "│    └─bn.weight                                                                  ├─512\n",
      "│    └─bn.bias                                                                    ├─512\n",
      "│    └─linear.weight                                                              ├─51,200\n",
      "│    └─linear.bias                                                                └─100\n",
      "│    └─BatchNorm1d: 2-18                                [32, 512]                 1,024\n",
      "│    │    └─weight                                                                ├─512\n",
      "│    │    └─bias                                                                  └─512\n",
      "│    └─Dropout: 2-19                                    [32, 512]                 --\n",
      "│    └─Linear: 2-20                                     [32, 100]                 51,300\n",
      "│    │    └─weight                                                                ├─51,200\n",
      "│    │    └─bias                                                                  └─100\n",
      "=========================================================================================================\n",
      "Total params: 5,002,600\n",
      "Trainable params: 5,002,600\n",
      "Non-trainable params: 0\n",
      "Total mult-adds (G): 17.93\n",
      "=========================================================================================================\n",
      "Input size (MB): 19.27\n",
      "Forward/backward pass size (MB): 897.86\n",
      "Params size (MB): 20.01\n",
      "Estimated Total Size (MB): 937.14\n",
      "=========================================================================================================\n",
      "=========================================================================================================\n",
      "Layer (type:depth-idx)                                  Output Shape              Param #\n",
      "=========================================================================================================\n",
      "LevitDistilled                                          [32, 100]                 --\n",
      "├─Stem16: 1-1                                           [32, 256, 14, 14]         --\n",
      "│    └─conv1.linear.weight                                                        ├─864\n",
      "│    └─conv1.bn.weight                                                            ├─32\n",
      "│    └─conv1.bn.bias                                                              ├─32\n",
      "│    └─conv2.linear.weight                                                        ├─18,432\n",
      "│    └─conv2.bn.weight                                                            ├─64\n",
      "│    └─conv2.bn.bias                                                              ├─64\n",
      "│    └─conv3.linear.weight                                                        ├─73,728\n",
      "│    └─conv3.bn.weight                                                            ├─128\n",
      "│    └─conv3.bn.bias                                                              ├─128\n",
      "│    └─conv4.linear.weight                                                        ├─294,912\n",
      "│    └─conv4.bn.weight                                                            ├─256\n",
      "│    └─conv4.bn.bias                                                              └─256\n",
      "│    └─ConvNorm: 2-1                                    [32, 32, 112, 112]        --\n",
      "│    │    └─linear.weight                                                         ├─864\n",
      "│    │    └─bn.weight                                                             ├─32\n",
      "│    │    └─bn.bias                                                               └─32\n",
      "│    │    └─Conv2d: 3-1                                 [32, 32, 112, 112]        864\n",
      "│    │    │    └─weight                                                           └─864\n",
      "│    │    └─BatchNorm2d: 3-2                            [32, 32, 112, 112]        64\n",
      "│    │    │    └─weight                                                           ├─32\n",
      "│    │    │    └─bias                                                             └─32\n",
      "│    └─Hardswish: 2-2                                   [32, 32, 112, 112]        --\n",
      "│    └─ConvNorm: 2-3                                    [32, 64, 56, 56]          --\n",
      "│    │    └─linear.weight                                                         ├─18,432\n",
      "│    │    └─bn.weight                                                             ├─64\n",
      "│    │    └─bn.bias                                                               └─64\n",
      "│    │    └─Conv2d: 3-3                                 [32, 64, 56, 56]          18,432\n",
      "│    │    │    └─weight                                                           └─18,432\n",
      "│    │    └─BatchNorm2d: 3-4                            [32, 64, 56, 56]          128\n",
      "│    │    │    └─weight                                                           ├─64\n",
      "│    │    │    └─bias                                                             └─64\n",
      "│    └─Hardswish: 2-4                                   [32, 64, 56, 56]          --\n",
      "│    └─ConvNorm: 2-5                                    [32, 128, 28, 28]         --\n",
      "│    │    └─linear.weight                                                         ├─73,728\n",
      "│    │    └─bn.weight                                                             ├─128\n",
      "│    │    └─bn.bias                                                               └─128\n",
      "│    │    └─Conv2d: 3-5                                 [32, 128, 28, 28]         73,728\n",
      "│    │    │    └─weight                                                           └─73,728\n",
      "│    │    └─BatchNorm2d: 3-6                            [32, 128, 28, 28]         256\n",
      "│    │    │    └─weight                                                           ├─128\n",
      "│    │    │    └─bias                                                             └─128\n",
      "│    └─Hardswish: 2-6                                   [32, 128, 28, 28]         --\n",
      "│    └─ConvNorm: 2-7                                    [32, 256, 14, 14]         --\n",
      "│    │    └─linear.weight                                                         ├─294,912\n",
      "│    │    └─bn.weight                                                             ├─256\n",
      "│    │    └─bn.bias                                                               └─256\n",
      "│    │    └─Conv2d: 3-7                                 [32, 256, 14, 14]         294,912\n",
      "│    │    │    └─weight                                                           └─294,912\n",
      "│    │    └─BatchNorm2d: 3-8                            [32, 256, 14, 14]         512\n",
      "│    │    │    └─weight                                                           ├─256\n",
      "│    │    │    └─bias                                                             └─256\n",
      "├─LevitStage: 1-2                                       [32, 196, 256]            --\n",
      "│    └─blocks.0.attn.qkv.linear.weight                                            ├─196,608\n",
      "│    └─blocks.0.attn.qkv.bn.weight                                                ├─768\n",
      "│    └─blocks.0.attn.qkv.bn.bias                                                  ├─768\n",
      "│    └─blocks.0.attn.proj.1.linear.weight                                         ├─65,536\n",
      "│    └─blocks.0.attn.proj.1.bn.weight                                             ├─256\n",
      "│    └─blocks.0.attn.proj.1.bn.bias                                               ├─256\n",
      "│    └─blocks.0.mlp.ln1.linear.weight                                             ├─131,072\n",
      "│    └─blocks.0.mlp.ln1.bn.weight                                                 ├─512\n",
      "│    └─blocks.0.mlp.ln1.bn.bias                                                   ├─512\n",
      "│    └─blocks.0.mlp.ln2.linear.weight                                             ├─131,072\n",
      "│    └─blocks.0.mlp.ln2.bn.weight                                                 ├─256\n",
      "│    └─blocks.0.mlp.ln2.bn.bias                                                   ├─256\n",
      "│    └─blocks.1.attn.qkv.linear.weight                                            ├─196,608\n",
      "│    └─blocks.1.attn.qkv.bn.weight                                                ├─768\n",
      "│    └─blocks.1.attn.qkv.bn.bias                                                  ├─768\n",
      "│    └─blocks.1.attn.proj.1.linear.weight                                         ├─65,536\n",
      "│    └─blocks.1.attn.proj.1.bn.weight                                             ├─256\n",
      "│    └─blocks.1.attn.proj.1.bn.bias                                               ├─256\n",
      "│    └─blocks.1.mlp.ln1.linear.weight                                             ├─131,072\n",
      "│    └─blocks.1.mlp.ln1.bn.weight                                                 ├─512\n",
      "│    └─blocks.1.mlp.ln1.bn.bias                                                   ├─512\n",
      "│    └─blocks.1.mlp.ln2.linear.weight                                             ├─131,072\n",
      "│    └─blocks.1.mlp.ln2.bn.weight                                                 ├─256\n",
      "│    └─blocks.1.mlp.ln2.bn.bias                                                   └─256\n",
      "│    └─Identity: 2-8                                    [32, 196, 256]            --\n",
      "│    └─Sequential: 2-9                                  [32, 196, 256]            --\n",
      "│    │    └─0.attn.qkv.linear.weight                                              ├─196,608\n",
      "│    │    └─0.attn.qkv.bn.weight                                                  ├─768\n",
      "│    │    └─0.attn.qkv.bn.bias                                                    ├─768\n",
      "│    │    └─0.attn.proj.1.linear.weight                                           ├─65,536\n",
      "│    │    └─0.attn.proj.1.bn.weight                                               ├─256\n",
      "│    │    └─0.attn.proj.1.bn.bias                                                 ├─256\n",
      "│    │    └─0.mlp.ln1.linear.weight                                               ├─131,072\n",
      "│    │    └─0.mlp.ln1.bn.weight                                                   ├─512\n",
      "│    │    └─0.mlp.ln1.bn.bias                                                     ├─512\n",
      "│    │    └─0.mlp.ln2.linear.weight                                               ├─131,072\n",
      "│    │    └─0.mlp.ln2.bn.weight                                                   ├─256\n",
      "│    │    └─0.mlp.ln2.bn.bias                                                     ├─256\n",
      "│    │    └─1.attn.qkv.linear.weight                                              ├─196,608\n",
      "│    │    └─1.attn.qkv.bn.weight                                                  ├─768\n",
      "│    │    └─1.attn.qkv.bn.bias                                                    ├─768\n",
      "│    │    └─1.attn.proj.1.linear.weight                                           ├─65,536\n",
      "│    │    └─1.attn.proj.1.bn.weight                                               ├─256\n",
      "│    │    └─1.attn.proj.1.bn.bias                                                 ├─256\n",
      "│    │    └─1.mlp.ln1.linear.weight                                               ├─131,072\n",
      "│    │    └─1.mlp.ln1.bn.weight                                                   ├─512\n",
      "│    │    └─1.mlp.ln1.bn.bias                                                     ├─512\n",
      "│    │    └─1.mlp.ln2.linear.weight                                               ├─131,072\n",
      "│    │    └─1.mlp.ln2.bn.weight                                                   ├─256\n",
      "│    │    └─1.mlp.ln2.bn.bias                                                     └─256\n",
      "│    │    └─LevitBlock: 3-9                             [32, 196, 256]            527,872\n",
      "│    │    │    └─attn.qkv.linear.weight                                           ├─196,608\n",
      "│    │    │    └─attn.qkv.bn.weight                                               ├─768\n",
      "│    │    │    └─attn.qkv.bn.bias                                                 ├─768\n",
      "│    │    │    └─attn.proj.1.linear.weight                                        ├─65,536\n",
      "│    │    │    └─attn.proj.1.bn.weight                                            ├─256\n",
      "│    │    │    └─attn.proj.1.bn.bias                                              ├─256\n",
      "│    │    │    └─mlp.ln1.linear.weight                                            ├─131,072\n",
      "│    │    │    └─mlp.ln1.bn.weight                                                ├─512\n",
      "│    │    │    └─mlp.ln1.bn.bias                                                  ├─512\n",
      "│    │    │    └─mlp.ln2.linear.weight                                            ├─131,072\n",
      "│    │    │    └─mlp.ln2.bn.weight                                                ├─256\n",
      "│    │    │    └─mlp.ln2.bn.bias                                                  └─256\n",
      "│    │    └─LevitBlock: 3-10                            [32, 196, 256]            527,872\n",
      "│    │    │    └─attn.qkv.linear.weight                                           ├─196,608\n",
      "│    │    │    └─attn.qkv.bn.weight                                               ├─768\n",
      "│    │    │    └─attn.qkv.bn.bias                                                 ├─768\n",
      "│    │    │    └─attn.proj.1.linear.weight                                        ├─65,536\n",
      "│    │    │    └─attn.proj.1.bn.weight                                            ├─256\n",
      "│    │    │    └─attn.proj.1.bn.bias                                              ├─256\n",
      "│    │    │    └─mlp.ln1.linear.weight                                            ├─131,072\n",
      "│    │    │    └─mlp.ln1.bn.weight                                                ├─512\n",
      "│    │    │    └─mlp.ln1.bn.bias                                                  ├─512\n",
      "│    │    │    └─mlp.ln2.linear.weight                                            ├─131,072\n",
      "│    │    │    └─mlp.ln2.bn.weight                                                ├─256\n",
      "│    │    │    └─mlp.ln2.bn.bias                                                  └─256\n",
      "├─LevitStage: 1-3                                       [32, 49, 384]             --\n",
      "│    └─downsample.conv.weight                                                     ├─884,736\n",
      "│    └─downsample.conv.bias                                                       ├─384\n",
      "│    └─blocks.0.attn.qkv.linear.weight                                            ├─442,368\n",
      "│    └─blocks.0.attn.qkv.bn.weight                                                ├─1,152\n",
      "│    └─blocks.0.attn.qkv.bn.bias                                                  ├─1,152\n",
      "│    └─blocks.0.attn.proj.1.linear.weight                                         ├─147,456\n",
      "│    └─blocks.0.attn.proj.1.bn.weight                                             ├─384\n",
      "│    └─blocks.0.attn.proj.1.bn.bias                                               ├─384\n",
      "│    └─blocks.0.mlp.ln1.linear.weight                                             ├─294,912\n",
      "│    └─blocks.0.mlp.ln1.bn.weight                                                 ├─768\n",
      "│    └─blocks.0.mlp.ln1.bn.bias                                                   ├─768\n",
      "│    └─blocks.0.mlp.ln2.linear.weight                                             ├─294,912\n",
      "│    └─blocks.0.mlp.ln2.bn.weight                                                 ├─384\n",
      "│    └─blocks.0.mlp.ln2.bn.bias                                                   ├─384\n",
      "│    └─blocks.1.attn.qkv.linear.weight                                            ├─442,368\n",
      "│    └─blocks.1.attn.qkv.bn.weight                                                ├─1,152\n",
      "│    └─blocks.1.attn.qkv.bn.bias                                                  ├─1,152\n",
      "│    └─blocks.1.attn.proj.1.linear.weight                                         ├─147,456\n",
      "│    └─blocks.1.attn.proj.1.bn.weight                                             ├─384\n",
      "│    └─blocks.1.attn.proj.1.bn.bias                                               ├─384\n",
      "│    └─blocks.1.mlp.ln1.linear.weight                                             ├─294,912\n",
      "│    └─blocks.1.mlp.ln1.bn.weight                                                 ├─768\n",
      "│    └─blocks.1.mlp.ln1.bn.bias                                                   ├─768\n",
      "│    └─blocks.1.mlp.ln2.linear.weight                                             ├─294,912\n",
      "│    └─blocks.1.mlp.ln2.bn.weight                                                 ├─384\n",
      "│    └─blocks.1.mlp.ln2.bn.bias                                                   └─384\n",
      "│    └─CNNDownsample: 2-10                              [32, 49, 384]             --\n",
      "│    │    └─conv.weight                                                           ├─884,736\n",
      "│    │    └─conv.bias                                                             └─384\n",
      "│    │    └─Conv2d: 3-11                                [32, 384, 7, 7]           885,120\n",
      "│    │    │    └─weight                                                           ├─884,736\n",
      "│    │    │    └─bias                                                             └─384\n",
      "│    │    └─Hardswish: 3-12                             [32, 384, 7, 7]           --\n",
      "│    └─Sequential: 2-11                                 [32, 49, 384]             --\n",
      "│    │    └─0.attn.qkv.linear.weight                                              ├─442,368\n",
      "│    │    └─0.attn.qkv.bn.weight                                                  ├─1,152\n",
      "│    │    └─0.attn.qkv.bn.bias                                                    ├─1,152\n",
      "│    │    └─0.attn.proj.1.linear.weight                                           ├─147,456\n",
      "│    │    └─0.attn.proj.1.bn.weight                                               ├─384\n",
      "│    │    └─0.attn.proj.1.bn.bias                                                 ├─384\n",
      "│    │    └─0.mlp.ln1.linear.weight                                               ├─294,912\n",
      "│    │    └─0.mlp.ln1.bn.weight                                                   ├─768\n",
      "│    │    └─0.mlp.ln1.bn.bias                                                     ├─768\n",
      "│    │    └─0.mlp.ln2.linear.weight                                               ├─294,912\n",
      "│    │    └─0.mlp.ln2.bn.weight                                                   ├─384\n",
      "│    │    └─0.mlp.ln2.bn.bias                                                     ├─384\n",
      "│    │    └─1.attn.qkv.linear.weight                                              ├─442,368\n",
      "│    │    └─1.attn.qkv.bn.weight                                                  ├─1,152\n",
      "│    │    └─1.attn.qkv.bn.bias                                                    ├─1,152\n",
      "│    │    └─1.attn.proj.1.linear.weight                                           ├─147,456\n",
      "│    │    └─1.attn.proj.1.bn.weight                                               ├─384\n",
      "│    │    └─1.attn.proj.1.bn.bias                                                 ├─384\n",
      "│    │    └─1.mlp.ln1.linear.weight                                               ├─294,912\n",
      "│    │    └─1.mlp.ln1.bn.weight                                                   ├─768\n",
      "│    │    └─1.mlp.ln1.bn.bias                                                     ├─768\n",
      "│    │    └─1.mlp.ln2.linear.weight                                               ├─294,912\n",
      "│    │    └─1.mlp.ln2.bn.weight                                                   ├─384\n",
      "│    │    └─1.mlp.ln2.bn.bias                                                     └─384\n",
      "│    │    └─LevitBlock: 3-13                            [32, 49, 384]             1,185,024\n",
      "│    │    │    └─attn.qkv.linear.weight                                           ├─442,368\n",
      "│    │    │    └─attn.qkv.bn.weight                                               ├─1,152\n",
      "│    │    │    └─attn.qkv.bn.bias                                                 ├─1,152\n",
      "│    │    │    └─attn.proj.1.linear.weight                                        ├─147,456\n",
      "│    │    │    └─attn.proj.1.bn.weight                                            ├─384\n",
      "│    │    │    └─attn.proj.1.bn.bias                                              ├─384\n",
      "│    │    │    └─mlp.ln1.linear.weight                                            ├─294,912\n",
      "│    │    │    └─mlp.ln1.bn.weight                                                ├─768\n",
      "│    │    │    └─mlp.ln1.bn.bias                                                  ├─768\n",
      "│    │    │    └─mlp.ln2.linear.weight                                            ├─294,912\n",
      "│    │    │    └─mlp.ln2.bn.weight                                                ├─384\n",
      "│    │    │    └─mlp.ln2.bn.bias                                                  └─384\n",
      "│    │    └─LevitBlock: 3-14                            [32, 49, 384]             1,185,024\n",
      "│    │    │    └─attn.qkv.linear.weight                                           ├─442,368\n",
      "│    │    │    └─attn.qkv.bn.weight                                               ├─1,152\n",
      "│    │    │    └─attn.qkv.bn.bias                                                 ├─1,152\n",
      "│    │    │    └─attn.proj.1.linear.weight                                        ├─147,456\n",
      "│    │    │    └─attn.proj.1.bn.weight                                            ├─384\n",
      "│    │    │    └─attn.proj.1.bn.bias                                              ├─384\n",
      "│    │    │    └─mlp.ln1.linear.weight                                            ├─294,912\n",
      "│    │    │    └─mlp.ln1.bn.weight                                                ├─768\n",
      "│    │    │    └─mlp.ln1.bn.bias                                                  ├─768\n",
      "│    │    │    └─mlp.ln2.linear.weight                                            ├─294,912\n",
      "│    │    │    └─mlp.ln2.bn.weight                                                ├─384\n",
      "│    │    │    └─mlp.ln2.bn.bias                                                  └─384\n",
      "├─Sequential: 1-4                                       [32, 512, 7, 7]           --\n",
      "│    └─0.weight                                                                   ├─196,608\n",
      "│    └─0.bias                                                                     ├─512\n",
      "│    └─1.weight                                                                   ├─512\n",
      "│    └─1.bias                                                                     └─512\n",
      "│    └─Conv2d: 2-12                                     [32, 512, 7, 7]           197,120\n",
      "│    │    └─weight                                                                ├─196,608\n",
      "│    │    └─bias                                                                  └─512\n",
      "│    └─BatchNorm2d: 2-13                                [32, 512, 7, 7]           1,024\n",
      "│    │    └─weight                                                                ├─512\n",
      "│    │    └─bias                                                                  └─512\n",
      "│    └─ReLU: 2-14                                       [32, 512, 7, 7]           --\n",
      "├─NormLinear: 1-5                                       [32, 100]                 --\n",
      "│    └─bn.weight                                                                  ├─512\n",
      "│    └─bn.bias                                                                    ├─512\n",
      "│    └─linear.weight                                                              ├─51,200\n",
      "│    └─linear.bias                                                                └─100\n",
      "│    └─BatchNorm1d: 2-15                                [32, 512]                 1,024\n",
      "│    │    └─weight                                                                ├─512\n",
      "│    │    └─bias                                                                  └─512\n",
      "│    └─Dropout: 2-16                                    [32, 512]                 --\n",
      "│    └─Linear: 2-17                                     [32, 100]                 51,300\n",
      "│    │    └─weight                                                                ├─51,200\n",
      "│    │    └─bias                                                                  └─100\n",
      "├─NormLinear: 1-6                                       [32, 100]                 --\n",
      "│    └─bn.weight                                                                  ├─512\n",
      "│    └─bn.bias                                                                    ├─512\n",
      "│    └─linear.weight                                                              ├─51,200\n",
      "│    └─linear.bias                                                                └─100\n",
      "│    └─BatchNorm1d: 2-18                                [32, 512]                 1,024\n",
      "│    │    └─weight                                                                ├─512\n",
      "│    │    └─bias                                                                  └─512\n",
      "│    └─Dropout: 2-19                                    [32, 512]                 --\n",
      "│    └─Linear: 2-20                                     [32, 100]                 51,300\n",
      "│    │    └─weight                                                                ├─51,200\n",
      "│    │    └─bias                                                                  └─100\n",
      "=========================================================================================================\n",
      "Total params: 5,002,600\n",
      "Trainable params: 5,002,600\n",
      "Non-trainable params: 0\n",
      "Total mult-adds (G): 17.93\n",
      "=========================================================================================================\n",
      "Input size (MB): 19.27\n",
      "Forward/backward pass size (MB): 897.86\n",
      "Params size (MB): 20.01\n",
      "Estimated Total Size (MB): 937.14\n",
      "=========================================================================================================\n"
     ]
    }
   ],
   "source": [
    "print(summary(model, input_size=(32, 3, 224, 224), verbose=2))"
   ]
  },
  {
   "cell_type": "code",
   "execution_count": 21,
   "metadata": {
    "id": "TOaIwHDSzBP3"
   },
   "outputs": [],
   "source": [
    "transform = transforms.Compose([\n",
    "    transforms.Resize((224, 224)),\n",
    "    transforms.RandomHorizontalFlip(p=0.5),\n",
    "    transforms.RandomRotation(15),\n",
    "    transforms.ToTensor(),\n",
    "    transforms.Normalize(mean=[0.485, 0.456, 0.406], std=[0.229, 0.224, 0.225])\n",
    "])"
   ]
  },
  {
   "cell_type": "code",
   "execution_count": 22,
   "metadata": {
    "colab": {
     "base_uri": "https://localhost:8080/"
    },
    "id": "N0Ww6weVzBP4",
    "outputId": "df165e51-2c36-4f74-f6f4-023eab3c3670"
   },
   "outputs": [
    {
     "name": "stdout",
     "output_type": "stream",
     "text": [
      "Downloading https://www.cs.toronto.edu/~kriz/cifar-100-python.tar.gz to data/cifar-100-python.tar.gz\n"
     ]
    },
    {
     "name": "stderr",
     "output_type": "stream",
     "text": [
      "100%|██████████| 169M/169M [00:12<00:00, 13.2MB/s]\n"
     ]
    },
    {
     "name": "stdout",
     "output_type": "stream",
     "text": [
      "Extracting data/cifar-100-python.tar.gz to data\n",
      "Files already downloaded and verified\n"
     ]
    }
   ],
   "source": [
    "train_data = datasets.CIFAR100(root=\"data\", train=True, transform=transform, download=True)\n",
    "test_data = datasets.CIFAR100(root=\"data\", train=False, transform=transform, download=True)\n",
    "combined_data = ConcatDataset([train_data, test_data])\n",
    "\n",
    "train_size = int(0.7 * len(combined_data))\n",
    "val_size = int(0.15 * len(combined_data))\n",
    "test_size = len(combined_data) - train_size - val_size\n",
    "train_data, val_data, test_data = random_split(combined_data, [train_size, val_size, test_size])"
   ]
  },
  {
   "cell_type": "code",
   "execution_count": 23,
   "metadata": {
    "colab": {
     "base_uri": "https://localhost:8080/"
    },
    "id": "S4sK4r0FzBP4",
    "outputId": "af2c924c-379b-46d7-c993-89038c7be974"
   },
   "outputs": [
    {
     "name": "stdout",
     "output_type": "stream",
     "text": [
      "Train size: 42000\n",
      "Validation size: 9000\n",
      "Test size: 9000\n"
     ]
    }
   ],
   "source": [
    "train_loader = DataLoader(train_data, batch_size=batch_size, shuffle=True)\n",
    "val_loader = DataLoader(val_data, batch_size=batch_size, shuffle=False)\n",
    "test_loader = DataLoader(test_data, batch_size=batch_size, shuffle=False)\n",
    "\n",
    "print(f\"Train size: {len(train_data)}\")\n",
    "print(f\"Validation size: {len(val_data)}\")\n",
    "print(f\"Test size: {len(test_data)}\")"
   ]
  },
  {
   "cell_type": "code",
   "execution_count": 24,
   "metadata": {
    "id": "HCIgSLtBzBP4"
   },
   "outputs": [],
   "source": [
    "criterion = nn.CrossEntropyLoss()\n",
    "optimizer = optim.Adam(model.parameters(), lr=learning_rate)"
   ]
  },
  {
   "cell_type": "code",
   "execution_count": 25,
   "metadata": {
    "id": "qCcVDgIPzBP4"
   },
   "outputs": [],
   "source": [
    "def train(model, train_loader, criterion, optimizer, device):\n",
    "    model.train()\n",
    "    running_loss = 0.0\n",
    "    correct = 0\n",
    "    total = 0\n",
    "    for inputs, labels in tqdm(train_loader, desc=\"Training\"):\n",
    "        inputs, labels = inputs.to(device), labels.to(device)\n",
    "\n",
    "        optimizer.zero_grad()\n",
    "        outputs = model(inputs)\n",
    "        loss = criterion(outputs, labels)\n",
    "        loss.backward()\n",
    "        optimizer.step()\n",
    "\n",
    "        running_loss += loss.item()\n",
    "        _, predicted = torch.max(outputs, 1)\n",
    "        total += labels.size(0)\n",
    "        correct += (predicted == labels).sum().item()\n",
    "\n",
    "    epoch_loss = running_loss / len(train_loader)\n",
    "    accuracy = 100 * correct / total\n",
    "    train_losses.append(epoch_loss)\n",
    "    train_accuracies.append(accuracy)\n",
    "    print(f\"Train Loss: {epoch_loss:.4f}, Train Accuracy: {accuracy:.2f}%\")"
   ]
  },
  {
   "cell_type": "code",
   "execution_count": 26,
   "metadata": {
    "id": "pzZwWmVFzBP5"
   },
   "outputs": [],
   "source": [
    "def evaluate(model, data_loader, criterion, device, phase=\"Validation\"):\n",
    "    model.eval()\n",
    "    running_loss = 0.0\n",
    "    correct = 0\n",
    "    total = 0\n",
    "    with torch.no_grad():\n",
    "        for inputs, labels in tqdm(data_loader, desc=f\"{phase}\"):\n",
    "            inputs, labels = inputs.to(device), labels.to(device)\n",
    "            outputs = model(inputs)\n",
    "            loss = criterion(outputs, labels)\n",
    "\n",
    "            running_loss += loss.item()\n",
    "            _, predicted = torch.max(outputs, 1)\n",
    "            total += labels.size(0)\n",
    "            correct += (predicted == labels).sum().item()\n",
    "\n",
    "    epoch_loss = running_loss / len(data_loader)\n",
    "    accuracy = 100 * correct / total\n",
    "    if phase == \"Validation\":\n",
    "        val_losses.append(epoch_loss)\n",
    "        val_accuracies.append(accuracy)\n",
    "    print(f\"{phase} Loss: {epoch_loss:.4f}, {phase} Accuracy: {accuracy:.2f}%\")"
   ]
  },
  {
   "cell_type": "code",
   "execution_count": 27,
   "metadata": {
    "id": "ATaK9u_JDWLD"
   },
   "outputs": [],
   "source": [
    "def measure_inference_time(model, data_loader, device):\n",
    "    model.eval()\n",
    "    times = []\n",
    "\n",
    "    with torch.no_grad():\n",
    "        for inputs, _ in data_loader:\n",
    "            inputs = inputs.to(device)\n",
    "            start_time = torch.cuda.Event(enable_timing=True)\n",
    "            end_time = torch.cuda.Event(enable_timing=True)\n",
    "\n",
    "            start_time.record()\n",
    "            _ = model(inputs)  # inference 수행\n",
    "            end_time.record()\n",
    "\n",
    "            # 시간 측정\n",
    "            torch.cuda.synchronize()  # CUDA에서 모든 커널이 완료될 때까지 대기\n",
    "            elapsed_time = start_time.elapsed_time(end_time)  # 밀리초 단위로 반환\n",
    "            times.append(elapsed_time)\n",
    "\n",
    "    # 통계량 계산\n",
    "    times_np = np.array(times)\n",
    "    total_inferences = len(times_np)\n",
    "    avg_time = np.mean(times_np)\n",
    "    std_dev = np.std(times_np)\n",
    "    max_time = np.max(times_np)\n",
    "    min_time = np.min(times_np)\n",
    "\n",
    "    # 결과 출력\n",
    "    print(f\"Inference Time Measurement Results:\")\n",
    "    print(f\"Total Inferences: {total_inferences}\")\n",
    "    print(f\"Average Time: {avg_time:.2f} ms\")\n",
    "    print(f\"Standard Deviation: {std_dev:.2f} ms\")\n",
    "    print(f\"Maximum Time: {max_time:.2f} ms\")\n",
    "    print(f\"Minimum Time: {min_time:.2f} ms\")\n",
    "\n",
    "    return times"
   ]
  },
  {
   "cell_type": "code",
   "execution_count": 28,
   "metadata": {
    "colab": {
     "base_uri": "https://localhost:8080/"
    },
    "id": "YdGy_hjpzBP5",
    "outputId": "c8fe7f80-1ed2-4ac3-8a22-8628fdc52764"
   },
   "outputs": [
    {
     "name": "stdout",
     "output_type": "stream",
     "text": [
      "\n",
      "Epoch 1/100\n"
     ]
    },
    {
     "name": "stderr",
     "output_type": "stream",
     "text": [
      "Training: 100%|██████████| 1313/1313 [01:35<00:00, 13.81it/s]\n"
     ]
    },
    {
     "name": "stdout",
     "output_type": "stream",
     "text": [
      "Train Loss: 3.9386, Train Accuracy: 9.61%\n"
     ]
    },
    {
     "name": "stderr",
     "output_type": "stream",
     "text": [
      "Validation: 100%|██████████| 282/282 [00:15<00:00, 17.73it/s]\n"
     ]
    },
    {
     "name": "stdout",
     "output_type": "stream",
     "text": [
      "Validation Loss: 3.5986, Validation Accuracy: 14.22%\n",
      "\n",
      "Epoch 2/100\n"
     ]
    },
    {
     "name": "stderr",
     "output_type": "stream",
     "text": [
      "Training: 100%|██████████| 1313/1313 [01:32<00:00, 14.23it/s]\n"
     ]
    },
    {
     "name": "stdout",
     "output_type": "stream",
     "text": [
      "Train Loss: 3.4903, Train Accuracy: 16.68%\n"
     ]
    },
    {
     "name": "stderr",
     "output_type": "stream",
     "text": [
      "Validation: 100%|██████████| 282/282 [00:15<00:00, 17.72it/s]\n"
     ]
    },
    {
     "name": "stdout",
     "output_type": "stream",
     "text": [
      "Validation Loss: 3.2810, Validation Accuracy: 20.53%\n",
      "\n",
      "Epoch 3/100\n"
     ]
    },
    {
     "name": "stderr",
     "output_type": "stream",
     "text": [
      "Training: 100%|██████████| 1313/1313 [01:33<00:00, 14.10it/s]\n"
     ]
    },
    {
     "name": "stdout",
     "output_type": "stream",
     "text": [
      "Train Loss: 3.1303, Train Accuracy: 23.17%\n"
     ]
    },
    {
     "name": "stderr",
     "output_type": "stream",
     "text": [
      "Validation: 100%|██████████| 282/282 [00:15<00:00, 17.66it/s]\n"
     ]
    },
    {
     "name": "stdout",
     "output_type": "stream",
     "text": [
      "Validation Loss: 2.9642, Validation Accuracy: 26.12%\n",
      "\n",
      "Epoch 4/100\n"
     ]
    },
    {
     "name": "stderr",
     "output_type": "stream",
     "text": [
      "Training: 100%|██████████| 1313/1313 [01:33<00:00, 14.12it/s]\n"
     ]
    },
    {
     "name": "stdout",
     "output_type": "stream",
     "text": [
      "Train Loss: 2.8818, Train Accuracy: 28.07%\n"
     ]
    },
    {
     "name": "stderr",
     "output_type": "stream",
     "text": [
      "Validation: 100%|██████████| 282/282 [00:15<00:00, 17.66it/s]\n"
     ]
    },
    {
     "name": "stdout",
     "output_type": "stream",
     "text": [
      "Validation Loss: 2.8085, Validation Accuracy: 29.70%\n",
      "\n",
      "Epoch 5/100\n"
     ]
    },
    {
     "name": "stderr",
     "output_type": "stream",
     "text": [
      "Training: 100%|██████████| 1313/1313 [01:32<00:00, 14.18it/s]\n"
     ]
    },
    {
     "name": "stdout",
     "output_type": "stream",
     "text": [
      "Train Loss: 2.6836, Train Accuracy: 32.04%\n"
     ]
    },
    {
     "name": "stderr",
     "output_type": "stream",
     "text": [
      "Validation: 100%|██████████| 282/282 [00:16<00:00, 17.54it/s]\n"
     ]
    },
    {
     "name": "stdout",
     "output_type": "stream",
     "text": [
      "Validation Loss: 2.6475, Validation Accuracy: 33.20%\n",
      "\n",
      "Epoch 6/100\n"
     ]
    },
    {
     "name": "stderr",
     "output_type": "stream",
     "text": [
      "Training: 100%|██████████| 1313/1313 [01:32<00:00, 14.15it/s]\n"
     ]
    },
    {
     "name": "stdout",
     "output_type": "stream",
     "text": [
      "Train Loss: 2.5134, Train Accuracy: 35.64%\n"
     ]
    },
    {
     "name": "stderr",
     "output_type": "stream",
     "text": [
      "Validation: 100%|██████████| 282/282 [00:15<00:00, 17.77it/s]\n"
     ]
    },
    {
     "name": "stdout",
     "output_type": "stream",
     "text": [
      "Validation Loss: 2.5528, Validation Accuracy: 35.17%\n",
      "\n",
      "Epoch 7/100\n"
     ]
    },
    {
     "name": "stderr",
     "output_type": "stream",
     "text": [
      "Training: 100%|██████████| 1313/1313 [01:33<00:00, 14.10it/s]\n"
     ]
    },
    {
     "name": "stdout",
     "output_type": "stream",
     "text": [
      "Train Loss: 2.3605, Train Accuracy: 38.88%\n"
     ]
    },
    {
     "name": "stderr",
     "output_type": "stream",
     "text": [
      "Validation: 100%|██████████| 282/282 [00:16<00:00, 17.41it/s]\n"
     ]
    },
    {
     "name": "stdout",
     "output_type": "stream",
     "text": [
      "Validation Loss: 2.4323, Validation Accuracy: 37.43%\n",
      "\n",
      "Epoch 8/100\n"
     ]
    },
    {
     "name": "stderr",
     "output_type": "stream",
     "text": [
      "Training: 100%|██████████| 1313/1313 [01:32<00:00, 14.20it/s]\n"
     ]
    },
    {
     "name": "stdout",
     "output_type": "stream",
     "text": [
      "Train Loss: 2.2247, Train Accuracy: 41.88%\n"
     ]
    },
    {
     "name": "stderr",
     "output_type": "stream",
     "text": [
      "Validation: 100%|██████████| 282/282 [00:15<00:00, 17.68it/s]\n"
     ]
    },
    {
     "name": "stdout",
     "output_type": "stream",
     "text": [
      "Validation Loss: 2.3462, Validation Accuracy: 39.14%\n",
      "\n",
      "Epoch 9/100\n"
     ]
    },
    {
     "name": "stderr",
     "output_type": "stream",
     "text": [
      "Training: 100%|██████████| 1313/1313 [01:33<00:00, 14.11it/s]\n"
     ]
    },
    {
     "name": "stdout",
     "output_type": "stream",
     "text": [
      "Train Loss: 2.0990, Train Accuracy: 44.37%\n"
     ]
    },
    {
     "name": "stderr",
     "output_type": "stream",
     "text": [
      "Validation: 100%|██████████| 282/282 [00:15<00:00, 17.83it/s]\n"
     ]
    },
    {
     "name": "stdout",
     "output_type": "stream",
     "text": [
      "Validation Loss: 2.2378, Validation Accuracy: 42.13%\n",
      "\n",
      "Epoch 10/100\n"
     ]
    },
    {
     "name": "stderr",
     "output_type": "stream",
     "text": [
      "Training: 100%|██████████| 1313/1313 [01:32<00:00, 14.14it/s]\n"
     ]
    },
    {
     "name": "stdout",
     "output_type": "stream",
     "text": [
      "Train Loss: 1.9840, Train Accuracy: 47.03%\n"
     ]
    },
    {
     "name": "stderr",
     "output_type": "stream",
     "text": [
      "Validation: 100%|██████████| 282/282 [00:16<00:00, 17.55it/s]\n"
     ]
    },
    {
     "name": "stdout",
     "output_type": "stream",
     "text": [
      "Validation Loss: 2.1526, Validation Accuracy: 43.49%\n",
      "\n",
      "Epoch 11/100\n"
     ]
    },
    {
     "name": "stderr",
     "output_type": "stream",
     "text": [
      "Training: 100%|██████████| 1313/1313 [01:32<00:00, 14.18it/s]\n"
     ]
    },
    {
     "name": "stdout",
     "output_type": "stream",
     "text": [
      "Train Loss: 1.8742, Train Accuracy: 49.54%\n"
     ]
    },
    {
     "name": "stderr",
     "output_type": "stream",
     "text": [
      "Validation: 100%|██████████| 282/282 [00:15<00:00, 17.84it/s]\n"
     ]
    },
    {
     "name": "stdout",
     "output_type": "stream",
     "text": [
      "Validation Loss: 2.1177, Validation Accuracy: 44.78%\n",
      "\n",
      "Epoch 12/100\n"
     ]
    },
    {
     "name": "stderr",
     "output_type": "stream",
     "text": [
      "Training: 100%|██████████| 1313/1313 [01:32<00:00, 14.17it/s]\n"
     ]
    },
    {
     "name": "stdout",
     "output_type": "stream",
     "text": [
      "Train Loss: 1.7782, Train Accuracy: 51.95%\n"
     ]
    },
    {
     "name": "stderr",
     "output_type": "stream",
     "text": [
      "Validation: 100%|██████████| 282/282 [00:15<00:00, 17.70it/s]\n"
     ]
    },
    {
     "name": "stdout",
     "output_type": "stream",
     "text": [
      "Validation Loss: 2.0688, Validation Accuracy: 46.31%\n",
      "\n",
      "Epoch 13/100\n"
     ]
    },
    {
     "name": "stderr",
     "output_type": "stream",
     "text": [
      "Training: 100%|██████████| 1313/1313 [01:32<00:00, 14.15it/s]\n"
     ]
    },
    {
     "name": "stdout",
     "output_type": "stream",
     "text": [
      "Train Loss: 1.6834, Train Accuracy: 54.19%\n"
     ]
    },
    {
     "name": "stderr",
     "output_type": "stream",
     "text": [
      "Validation: 100%|██████████| 282/282 [00:15<00:00, 17.88it/s]\n"
     ]
    },
    {
     "name": "stdout",
     "output_type": "stream",
     "text": [
      "Validation Loss: 2.0476, Validation Accuracy: 46.41%\n",
      "\n",
      "Epoch 14/100\n"
     ]
    },
    {
     "name": "stderr",
     "output_type": "stream",
     "text": [
      "Training: 100%|██████████| 1313/1313 [01:33<00:00, 14.10it/s]\n"
     ]
    },
    {
     "name": "stdout",
     "output_type": "stream",
     "text": [
      "Train Loss: 1.6045, Train Accuracy: 56.01%\n"
     ]
    },
    {
     "name": "stderr",
     "output_type": "stream",
     "text": [
      "Validation: 100%|██████████| 282/282 [00:16<00:00, 17.37it/s]\n"
     ]
    },
    {
     "name": "stdout",
     "output_type": "stream",
     "text": [
      "Validation Loss: 1.9975, Validation Accuracy: 48.18%\n",
      "\n",
      "Epoch 15/100\n"
     ]
    },
    {
     "name": "stderr",
     "output_type": "stream",
     "text": [
      "Training: 100%|██████████| 1313/1313 [01:33<00:00, 14.10it/s]\n"
     ]
    },
    {
     "name": "stdout",
     "output_type": "stream",
     "text": [
      "Train Loss: 1.5239, Train Accuracy: 57.87%\n"
     ]
    },
    {
     "name": "stderr",
     "output_type": "stream",
     "text": [
      "Validation: 100%|██████████| 282/282 [00:15<00:00, 17.81it/s]\n"
     ]
    },
    {
     "name": "stdout",
     "output_type": "stream",
     "text": [
      "Validation Loss: 1.9489, Validation Accuracy: 49.78%\n",
      "\n",
      "Epoch 16/100\n"
     ]
    },
    {
     "name": "stderr",
     "output_type": "stream",
     "text": [
      "Training: 100%|██████████| 1313/1313 [01:32<00:00, 14.18it/s]\n"
     ]
    },
    {
     "name": "stdout",
     "output_type": "stream",
     "text": [
      "Train Loss: 1.4499, Train Accuracy: 59.67%\n"
     ]
    },
    {
     "name": "stderr",
     "output_type": "stream",
     "text": [
      "Validation: 100%|██████████| 282/282 [00:15<00:00, 17.80it/s]\n"
     ]
    },
    {
     "name": "stdout",
     "output_type": "stream",
     "text": [
      "Validation Loss: 1.9491, Validation Accuracy: 48.86%\n",
      "\n",
      "Epoch 17/100\n"
     ]
    },
    {
     "name": "stderr",
     "output_type": "stream",
     "text": [
      "Training: 100%|██████████| 1313/1313 [01:32<00:00, 14.12it/s]\n"
     ]
    },
    {
     "name": "stdout",
     "output_type": "stream",
     "text": [
      "Train Loss: 1.3753, Train Accuracy: 61.65%\n"
     ]
    },
    {
     "name": "stderr",
     "output_type": "stream",
     "text": [
      "Validation: 100%|██████████| 282/282 [00:16<00:00, 17.56it/s]\n"
     ]
    },
    {
     "name": "stdout",
     "output_type": "stream",
     "text": [
      "Validation Loss: 1.9431, Validation Accuracy: 49.12%\n",
      "\n",
      "Epoch 18/100\n"
     ]
    },
    {
     "name": "stderr",
     "output_type": "stream",
     "text": [
      "Training: 100%|██████████| 1313/1313 [01:33<00:00, 14.07it/s]\n"
     ]
    },
    {
     "name": "stdout",
     "output_type": "stream",
     "text": [
      "Train Loss: 1.3072, Train Accuracy: 63.18%\n"
     ]
    },
    {
     "name": "stderr",
     "output_type": "stream",
     "text": [
      "Validation: 100%|██████████| 282/282 [00:15<00:00, 17.66it/s]\n"
     ]
    },
    {
     "name": "stdout",
     "output_type": "stream",
     "text": [
      "Validation Loss: 1.9482, Validation Accuracy: 49.58%\n",
      "\n",
      "Epoch 19/100\n"
     ]
    },
    {
     "name": "stderr",
     "output_type": "stream",
     "text": [
      "Training: 100%|██████████| 1313/1313 [01:33<00:00, 14.11it/s]\n"
     ]
    },
    {
     "name": "stdout",
     "output_type": "stream",
     "text": [
      "Train Loss: 1.2478, Train Accuracy: 64.60%\n"
     ]
    },
    {
     "name": "stderr",
     "output_type": "stream",
     "text": [
      "Validation: 100%|██████████| 282/282 [00:15<00:00, 17.68it/s]\n"
     ]
    },
    {
     "name": "stdout",
     "output_type": "stream",
     "text": [
      "Validation Loss: 1.9035, Validation Accuracy: 51.78%\n",
      "\n",
      "Epoch 20/100\n"
     ]
    },
    {
     "name": "stderr",
     "output_type": "stream",
     "text": [
      "Training: 100%|██████████| 1313/1313 [01:33<00:00, 14.10it/s]\n"
     ]
    },
    {
     "name": "stdout",
     "output_type": "stream",
     "text": [
      "Train Loss: 1.1831, Train Accuracy: 66.16%\n"
     ]
    },
    {
     "name": "stderr",
     "output_type": "stream",
     "text": [
      "Validation: 100%|██████████| 282/282 [00:15<00:00, 17.67it/s]\n"
     ]
    },
    {
     "name": "stdout",
     "output_type": "stream",
     "text": [
      "Validation Loss: 1.9376, Validation Accuracy: 50.80%\n",
      "\n",
      "Epoch 21/100\n"
     ]
    },
    {
     "name": "stderr",
     "output_type": "stream",
     "text": [
      "Training: 100%|██████████| 1313/1313 [01:33<00:00, 14.10it/s]\n"
     ]
    },
    {
     "name": "stdout",
     "output_type": "stream",
     "text": [
      "Train Loss: 1.1264, Train Accuracy: 67.73%\n"
     ]
    },
    {
     "name": "stderr",
     "output_type": "stream",
     "text": [
      "Validation: 100%|██████████| 282/282 [00:15<00:00, 17.64it/s]\n"
     ]
    },
    {
     "name": "stdout",
     "output_type": "stream",
     "text": [
      "Validation Loss: 1.9051, Validation Accuracy: 51.71%\n",
      "\n",
      "Epoch 22/100\n"
     ]
    },
    {
     "name": "stderr",
     "output_type": "stream",
     "text": [
      "Training: 100%|██████████| 1313/1313 [01:32<00:00, 14.12it/s]\n"
     ]
    },
    {
     "name": "stdout",
     "output_type": "stream",
     "text": [
      "Train Loss: 1.0694, Train Accuracy: 69.16%\n"
     ]
    },
    {
     "name": "stderr",
     "output_type": "stream",
     "text": [
      "Validation: 100%|██████████| 282/282 [00:15<00:00, 17.87it/s]\n"
     ]
    },
    {
     "name": "stdout",
     "output_type": "stream",
     "text": [
      "Validation Loss: 1.9328, Validation Accuracy: 51.91%\n",
      "\n",
      "Epoch 23/100\n"
     ]
    },
    {
     "name": "stderr",
     "output_type": "stream",
     "text": [
      "Training: 100%|██████████| 1313/1313 [01:33<00:00, 14.11it/s]\n"
     ]
    },
    {
     "name": "stdout",
     "output_type": "stream",
     "text": [
      "Train Loss: 1.0139, Train Accuracy: 70.64%\n"
     ]
    },
    {
     "name": "stderr",
     "output_type": "stream",
     "text": [
      "Validation: 100%|██████████| 282/282 [00:16<00:00, 17.57it/s]\n"
     ]
    },
    {
     "name": "stdout",
     "output_type": "stream",
     "text": [
      "Validation Loss: 1.9415, Validation Accuracy: 51.42%\n",
      "\n",
      "Epoch 24/100\n"
     ]
    },
    {
     "name": "stderr",
     "output_type": "stream",
     "text": [
      "Training: 100%|██████████| 1313/1313 [01:33<00:00, 14.09it/s]\n"
     ]
    },
    {
     "name": "stdout",
     "output_type": "stream",
     "text": [
      "Train Loss: 0.9563, Train Accuracy: 71.91%\n"
     ]
    },
    {
     "name": "stderr",
     "output_type": "stream",
     "text": [
      "Validation: 100%|██████████| 282/282 [00:15<00:00, 17.95it/s]\n"
     ]
    },
    {
     "name": "stdout",
     "output_type": "stream",
     "text": [
      "Validation Loss: 1.9074, Validation Accuracy: 52.06%\n",
      "\n",
      "Epoch 25/100\n"
     ]
    },
    {
     "name": "stderr",
     "output_type": "stream",
     "text": [
      "Training: 100%|██████████| 1313/1313 [01:32<00:00, 14.14it/s]\n"
     ]
    },
    {
     "name": "stdout",
     "output_type": "stream",
     "text": [
      "Train Loss: 0.9117, Train Accuracy: 73.10%\n"
     ]
    },
    {
     "name": "stderr",
     "output_type": "stream",
     "text": [
      "Validation: 100%|██████████| 282/282 [00:15<00:00, 17.75it/s]\n"
     ]
    },
    {
     "name": "stdout",
     "output_type": "stream",
     "text": [
      "Validation Loss: 1.9553, Validation Accuracy: 52.30%\n",
      "\n",
      "Epoch 26/100\n"
     ]
    },
    {
     "name": "stderr",
     "output_type": "stream",
     "text": [
      "Training: 100%|██████████| 1313/1313 [01:32<00:00, 14.14it/s]\n"
     ]
    },
    {
     "name": "stdout",
     "output_type": "stream",
     "text": [
      "Train Loss: 0.8628, Train Accuracy: 74.65%\n"
     ]
    },
    {
     "name": "stderr",
     "output_type": "stream",
     "text": [
      "Validation: 100%|██████████| 282/282 [00:15<00:00, 17.65it/s]\n"
     ]
    },
    {
     "name": "stdout",
     "output_type": "stream",
     "text": [
      "Validation Loss: 1.9777, Validation Accuracy: 52.07%\n",
      "\n",
      "Epoch 27/100\n"
     ]
    },
    {
     "name": "stderr",
     "output_type": "stream",
     "text": [
      "Training: 100%|██████████| 1313/1313 [01:33<00:00, 14.10it/s]\n"
     ]
    },
    {
     "name": "stdout",
     "output_type": "stream",
     "text": [
      "Train Loss: 0.8187, Train Accuracy: 75.86%\n"
     ]
    },
    {
     "name": "stderr",
     "output_type": "stream",
     "text": [
      "Validation: 100%|██████████| 282/282 [00:15<00:00, 17.84it/s]\n"
     ]
    },
    {
     "name": "stdout",
     "output_type": "stream",
     "text": [
      "Validation Loss: 1.9743, Validation Accuracy: 52.59%\n",
      "\n",
      "Epoch 28/100\n"
     ]
    },
    {
     "name": "stderr",
     "output_type": "stream",
     "text": [
      "Training: 100%|██████████| 1313/1313 [01:32<00:00, 14.13it/s]\n"
     ]
    },
    {
     "name": "stdout",
     "output_type": "stream",
     "text": [
      "Train Loss: 0.7715, Train Accuracy: 77.10%\n"
     ]
    },
    {
     "name": "stderr",
     "output_type": "stream",
     "text": [
      "Validation: 100%|██████████| 282/282 [00:15<00:00, 17.69it/s]\n"
     ]
    },
    {
     "name": "stdout",
     "output_type": "stream",
     "text": [
      "Validation Loss: 1.9989, Validation Accuracy: 52.41%\n",
      "\n",
      "Epoch 29/100\n"
     ]
    },
    {
     "name": "stderr",
     "output_type": "stream",
     "text": [
      "Training: 100%|██████████| 1313/1313 [01:32<00:00, 14.13it/s]\n"
     ]
    },
    {
     "name": "stdout",
     "output_type": "stream",
     "text": [
      "Train Loss: 0.7252, Train Accuracy: 78.41%\n"
     ]
    },
    {
     "name": "stderr",
     "output_type": "stream",
     "text": [
      "Validation: 100%|██████████| 282/282 [00:16<00:00, 17.57it/s]\n"
     ]
    },
    {
     "name": "stdout",
     "output_type": "stream",
     "text": [
      "Validation Loss: 1.9872, Validation Accuracy: 52.80%\n",
      "\n",
      "Epoch 30/100\n"
     ]
    },
    {
     "name": "stderr",
     "output_type": "stream",
     "text": [
      "Training: 100%|██████████| 1313/1313 [01:33<00:00, 14.10it/s]\n"
     ]
    },
    {
     "name": "stdout",
     "output_type": "stream",
     "text": [
      "Train Loss: 0.6918, Train Accuracy: 79.15%\n"
     ]
    },
    {
     "name": "stderr",
     "output_type": "stream",
     "text": [
      "Validation: 100%|██████████| 282/282 [00:15<00:00, 17.77it/s]\n"
     ]
    },
    {
     "name": "stdout",
     "output_type": "stream",
     "text": [
      "Validation Loss: 2.0282, Validation Accuracy: 52.96%\n",
      "\n",
      "Epoch 31/100\n"
     ]
    },
    {
     "name": "stderr",
     "output_type": "stream",
     "text": [
      "Training: 100%|██████████| 1313/1313 [01:33<00:00, 14.09it/s]\n"
     ]
    },
    {
     "name": "stdout",
     "output_type": "stream",
     "text": [
      "Train Loss: 0.6591, Train Accuracy: 80.15%\n"
     ]
    },
    {
     "name": "stderr",
     "output_type": "stream",
     "text": [
      "Validation: 100%|██████████| 282/282 [00:16<00:00, 17.56it/s]\n"
     ]
    },
    {
     "name": "stdout",
     "output_type": "stream",
     "text": [
      "Validation Loss: 2.0187, Validation Accuracy: 52.61%\n",
      "\n",
      "Epoch 32/100\n"
     ]
    },
    {
     "name": "stderr",
     "output_type": "stream",
     "text": [
      "Training: 100%|██████████| 1313/1313 [01:33<00:00, 14.10it/s]\n"
     ]
    },
    {
     "name": "stdout",
     "output_type": "stream",
     "text": [
      "Train Loss: 0.6264, Train Accuracy: 81.01%\n"
     ]
    },
    {
     "name": "stderr",
     "output_type": "stream",
     "text": [
      "Validation: 100%|██████████| 282/282 [00:15<00:00, 17.67it/s]\n"
     ]
    },
    {
     "name": "stdout",
     "output_type": "stream",
     "text": [
      "Validation Loss: 2.0661, Validation Accuracy: 53.08%\n",
      "\n",
      "Epoch 33/100\n"
     ]
    },
    {
     "name": "stderr",
     "output_type": "stream",
     "text": [
      "Training: 100%|██████████| 1313/1313 [01:33<00:00, 14.03it/s]\n"
     ]
    },
    {
     "name": "stdout",
     "output_type": "stream",
     "text": [
      "Train Loss: 0.5816, Train Accuracy: 82.32%\n"
     ]
    },
    {
     "name": "stderr",
     "output_type": "stream",
     "text": [
      "Validation: 100%|██████████| 282/282 [00:16<00:00, 17.58it/s]\n"
     ]
    },
    {
     "name": "stdout",
     "output_type": "stream",
     "text": [
      "Validation Loss: 2.1001, Validation Accuracy: 52.22%\n",
      "\n",
      "Epoch 34/100\n"
     ]
    },
    {
     "name": "stderr",
     "output_type": "stream",
     "text": [
      "Training: 100%|██████████| 1313/1313 [01:33<00:00, 14.08it/s]\n"
     ]
    },
    {
     "name": "stdout",
     "output_type": "stream",
     "text": [
      "Train Loss: 0.5523, Train Accuracy: 82.82%\n"
     ]
    },
    {
     "name": "stderr",
     "output_type": "stream",
     "text": [
      "Validation: 100%|██████████| 282/282 [00:15<00:00, 17.68it/s]\n"
     ]
    },
    {
     "name": "stdout",
     "output_type": "stream",
     "text": [
      "Validation Loss: 2.1373, Validation Accuracy: 52.84%\n",
      "\n",
      "Epoch 35/100\n"
     ]
    },
    {
     "name": "stderr",
     "output_type": "stream",
     "text": [
      "Training: 100%|██████████| 1313/1313 [01:33<00:00, 14.05it/s]\n"
     ]
    },
    {
     "name": "stdout",
     "output_type": "stream",
     "text": [
      "Train Loss: 0.5312, Train Accuracy: 83.77%\n"
     ]
    },
    {
     "name": "stderr",
     "output_type": "stream",
     "text": [
      "Validation: 100%|██████████| 282/282 [00:16<00:00, 17.62it/s]\n"
     ]
    },
    {
     "name": "stdout",
     "output_type": "stream",
     "text": [
      "Validation Loss: 2.1605, Validation Accuracy: 52.21%\n",
      "\n",
      "Epoch 36/100\n"
     ]
    },
    {
     "name": "stderr",
     "output_type": "stream",
     "text": [
      "Training: 100%|██████████| 1313/1313 [01:33<00:00, 14.01it/s]\n"
     ]
    },
    {
     "name": "stdout",
     "output_type": "stream",
     "text": [
      "Train Loss: 0.4983, Train Accuracy: 84.51%\n"
     ]
    },
    {
     "name": "stderr",
     "output_type": "stream",
     "text": [
      "Validation: 100%|██████████| 282/282 [00:15<00:00, 17.66it/s]\n"
     ]
    },
    {
     "name": "stdout",
     "output_type": "stream",
     "text": [
      "Validation Loss: 2.1629, Validation Accuracy: 52.27%\n",
      "\n",
      "Epoch 37/100\n"
     ]
    },
    {
     "name": "stderr",
     "output_type": "stream",
     "text": [
      "Training: 100%|██████████| 1313/1313 [01:33<00:00, 14.08it/s]\n"
     ]
    },
    {
     "name": "stdout",
     "output_type": "stream",
     "text": [
      "Train Loss: 0.4705, Train Accuracy: 85.65%\n"
     ]
    },
    {
     "name": "stderr",
     "output_type": "stream",
     "text": [
      "Validation: 100%|██████████| 282/282 [00:15<00:00, 17.64it/s]\n"
     ]
    },
    {
     "name": "stdout",
     "output_type": "stream",
     "text": [
      "Validation Loss: 2.1817, Validation Accuracy: 52.38%\n",
      "\n",
      "Epoch 38/100\n"
     ]
    },
    {
     "name": "stderr",
     "output_type": "stream",
     "text": [
      "Training: 100%|██████████| 1313/1313 [01:33<00:00, 14.05it/s]\n"
     ]
    },
    {
     "name": "stdout",
     "output_type": "stream",
     "text": [
      "Train Loss: 0.4515, Train Accuracy: 86.18%\n"
     ]
    },
    {
     "name": "stderr",
     "output_type": "stream",
     "text": [
      "Validation: 100%|██████████| 282/282 [00:15<00:00, 17.65it/s]\n"
     ]
    },
    {
     "name": "stdout",
     "output_type": "stream",
     "text": [
      "Validation Loss: 2.2259, Validation Accuracy: 52.22%\n",
      "\n",
      "Epoch 39/100\n"
     ]
    },
    {
     "name": "stderr",
     "output_type": "stream",
     "text": [
      "Training: 100%|██████████| 1313/1313 [01:33<00:00, 14.09it/s]\n"
     ]
    },
    {
     "name": "stdout",
     "output_type": "stream",
     "text": [
      "Train Loss: 0.4280, Train Accuracy: 86.74%\n"
     ]
    },
    {
     "name": "stderr",
     "output_type": "stream",
     "text": [
      "Validation: 100%|██████████| 282/282 [00:16<00:00, 17.58it/s]\n"
     ]
    },
    {
     "name": "stdout",
     "output_type": "stream",
     "text": [
      "Validation Loss: 2.2441, Validation Accuracy: 53.03%\n",
      "\n",
      "Epoch 40/100\n"
     ]
    },
    {
     "name": "stderr",
     "output_type": "stream",
     "text": [
      "Training: 100%|██████████| 1313/1313 [01:33<00:00, 14.06it/s]\n"
     ]
    },
    {
     "name": "stdout",
     "output_type": "stream",
     "text": [
      "Train Loss: 0.4117, Train Accuracy: 87.30%\n"
     ]
    },
    {
     "name": "stderr",
     "output_type": "stream",
     "text": [
      "Validation: 100%|██████████| 282/282 [00:15<00:00, 17.67it/s]\n"
     ]
    },
    {
     "name": "stdout",
     "output_type": "stream",
     "text": [
      "Validation Loss: 2.2786, Validation Accuracy: 52.44%\n",
      "\n",
      "Epoch 41/100\n"
     ]
    },
    {
     "name": "stderr",
     "output_type": "stream",
     "text": [
      "Training: 100%|██████████| 1313/1313 [01:33<00:00, 14.03it/s]\n"
     ]
    },
    {
     "name": "stdout",
     "output_type": "stream",
     "text": [
      "Train Loss: 0.3856, Train Accuracy: 87.90%\n"
     ]
    },
    {
     "name": "stderr",
     "output_type": "stream",
     "text": [
      "Validation: 100%|██████████| 282/282 [00:16<00:00, 17.61it/s]\n"
     ]
    },
    {
     "name": "stdout",
     "output_type": "stream",
     "text": [
      "Validation Loss: 2.2592, Validation Accuracy: 53.11%\n",
      "\n",
      "Epoch 42/100\n"
     ]
    },
    {
     "name": "stderr",
     "output_type": "stream",
     "text": [
      "Training: 100%|██████████| 1313/1313 [01:33<00:00, 14.03it/s]\n"
     ]
    },
    {
     "name": "stdout",
     "output_type": "stream",
     "text": [
      "Train Loss: 0.3744, Train Accuracy: 88.32%\n"
     ]
    },
    {
     "name": "stderr",
     "output_type": "stream",
     "text": [
      "Validation: 100%|██████████| 282/282 [00:15<00:00, 17.94it/s]\n"
     ]
    },
    {
     "name": "stdout",
     "output_type": "stream",
     "text": [
      "Validation Loss: 2.3285, Validation Accuracy: 51.92%\n",
      "\n",
      "Epoch 43/100\n"
     ]
    },
    {
     "name": "stderr",
     "output_type": "stream",
     "text": [
      "Training: 100%|██████████| 1313/1313 [01:33<00:00, 14.10it/s]\n"
     ]
    },
    {
     "name": "stdout",
     "output_type": "stream",
     "text": [
      "Train Loss: 0.3499, Train Accuracy: 89.20%\n"
     ]
    },
    {
     "name": "stderr",
     "output_type": "stream",
     "text": [
      "Validation: 100%|██████████| 282/282 [00:16<00:00, 17.54it/s]\n"
     ]
    },
    {
     "name": "stdout",
     "output_type": "stream",
     "text": [
      "Validation Loss: 2.2976, Validation Accuracy: 53.19%\n",
      "\n",
      "Epoch 44/100\n"
     ]
    },
    {
     "name": "stderr",
     "output_type": "stream",
     "text": [
      "Training: 100%|██████████| 1313/1313 [01:33<00:00, 14.07it/s]\n"
     ]
    },
    {
     "name": "stdout",
     "output_type": "stream",
     "text": [
      "Train Loss: 0.3356, Train Accuracy: 89.49%\n"
     ]
    },
    {
     "name": "stderr",
     "output_type": "stream",
     "text": [
      "Validation: 100%|██████████| 282/282 [00:15<00:00, 17.76it/s]\n"
     ]
    },
    {
     "name": "stdout",
     "output_type": "stream",
     "text": [
      "Validation Loss: 2.3349, Validation Accuracy: 53.14%\n",
      "\n",
      "Epoch 45/100\n"
     ]
    },
    {
     "name": "stderr",
     "output_type": "stream",
     "text": [
      "Training: 100%|██████████| 1313/1313 [01:33<00:00, 14.09it/s]\n"
     ]
    },
    {
     "name": "stdout",
     "output_type": "stream",
     "text": [
      "Train Loss: 0.3241, Train Accuracy: 89.84%\n"
     ]
    },
    {
     "name": "stderr",
     "output_type": "stream",
     "text": [
      "Validation: 100%|██████████| 282/282 [00:15<00:00, 17.63it/s]\n"
     ]
    },
    {
     "name": "stdout",
     "output_type": "stream",
     "text": [
      "Validation Loss: 2.3713, Validation Accuracy: 52.04%\n",
      "\n",
      "Epoch 46/100\n"
     ]
    },
    {
     "name": "stderr",
     "output_type": "stream",
     "text": [
      "Training: 100%|██████████| 1313/1313 [01:33<00:00, 14.04it/s]\n"
     ]
    },
    {
     "name": "stdout",
     "output_type": "stream",
     "text": [
      "Train Loss: 0.3093, Train Accuracy: 90.29%\n"
     ]
    },
    {
     "name": "stderr",
     "output_type": "stream",
     "text": [
      "Validation: 100%|██████████| 282/282 [00:15<00:00, 17.82it/s]\n"
     ]
    },
    {
     "name": "stdout",
     "output_type": "stream",
     "text": [
      "Validation Loss: 2.3467, Validation Accuracy: 53.30%\n",
      "\n",
      "Epoch 47/100\n"
     ]
    },
    {
     "name": "stderr",
     "output_type": "stream",
     "text": [
      "Training: 100%|██████████| 1313/1313 [01:33<00:00, 14.10it/s]\n"
     ]
    },
    {
     "name": "stdout",
     "output_type": "stream",
     "text": [
      "Train Loss: 0.2961, Train Accuracy: 90.64%\n"
     ]
    },
    {
     "name": "stderr",
     "output_type": "stream",
     "text": [
      "Validation: 100%|██████████| 282/282 [00:15<00:00, 17.68it/s]\n"
     ]
    },
    {
     "name": "stdout",
     "output_type": "stream",
     "text": [
      "Validation Loss: 2.3961, Validation Accuracy: 53.09%\n",
      "\n",
      "Epoch 48/100\n"
     ]
    },
    {
     "name": "stderr",
     "output_type": "stream",
     "text": [
      "Training: 100%|██████████| 1313/1313 [01:33<00:00, 14.04it/s]\n"
     ]
    },
    {
     "name": "stdout",
     "output_type": "stream",
     "text": [
      "Train Loss: 0.2822, Train Accuracy: 91.08%\n"
     ]
    },
    {
     "name": "stderr",
     "output_type": "stream",
     "text": [
      "Validation: 100%|██████████| 282/282 [00:15<00:00, 17.74it/s]\n"
     ]
    },
    {
     "name": "stdout",
     "output_type": "stream",
     "text": [
      "Validation Loss: 2.4082, Validation Accuracy: 53.04%\n",
      "\n",
      "Epoch 49/100\n"
     ]
    },
    {
     "name": "stderr",
     "output_type": "stream",
     "text": [
      "Training: 100%|██████████| 1313/1313 [01:33<00:00, 14.05it/s]\n"
     ]
    },
    {
     "name": "stdout",
     "output_type": "stream",
     "text": [
      "Train Loss: 0.2777, Train Accuracy: 91.19%\n"
     ]
    },
    {
     "name": "stderr",
     "output_type": "stream",
     "text": [
      "Validation: 100%|██████████| 282/282 [00:16<00:00, 17.49it/s]\n"
     ]
    },
    {
     "name": "stdout",
     "output_type": "stream",
     "text": [
      "Validation Loss: 2.4052, Validation Accuracy: 53.58%\n",
      "\n",
      "Epoch 50/100\n"
     ]
    },
    {
     "name": "stderr",
     "output_type": "stream",
     "text": [
      "Training: 100%|██████████| 1313/1313 [01:33<00:00, 14.10it/s]\n"
     ]
    },
    {
     "name": "stdout",
     "output_type": "stream",
     "text": [
      "Train Loss: 0.2688, Train Accuracy: 91.60%\n"
     ]
    },
    {
     "name": "stderr",
     "output_type": "stream",
     "text": [
      "Validation: 100%|██████████| 282/282 [00:15<00:00, 17.79it/s]\n"
     ]
    },
    {
     "name": "stdout",
     "output_type": "stream",
     "text": [
      "Validation Loss: 2.4250, Validation Accuracy: 53.66%\n",
      "\n",
      "Epoch 51/100\n"
     ]
    },
    {
     "name": "stderr",
     "output_type": "stream",
     "text": [
      "Training: 100%|██████████| 1313/1313 [01:33<00:00, 14.09it/s]\n"
     ]
    },
    {
     "name": "stdout",
     "output_type": "stream",
     "text": [
      "Train Loss: 0.2624, Train Accuracy: 91.67%\n"
     ]
    },
    {
     "name": "stderr",
     "output_type": "stream",
     "text": [
      "Validation: 100%|██████████| 282/282 [00:15<00:00, 17.74it/s]\n"
     ]
    },
    {
     "name": "stdout",
     "output_type": "stream",
     "text": [
      "Validation Loss: 2.5076, Validation Accuracy: 53.00%\n",
      "\n",
      "Epoch 52/100\n"
     ]
    },
    {
     "name": "stderr",
     "output_type": "stream",
     "text": [
      "Training: 100%|██████████| 1313/1313 [01:33<00:00, 14.03it/s]\n"
     ]
    },
    {
     "name": "stdout",
     "output_type": "stream",
     "text": [
      "Train Loss: 0.2523, Train Accuracy: 92.08%\n"
     ]
    },
    {
     "name": "stderr",
     "output_type": "stream",
     "text": [
      "Validation: 100%|██████████| 282/282 [00:15<00:00, 17.63it/s]\n"
     ]
    },
    {
     "name": "stdout",
     "output_type": "stream",
     "text": [
      "Validation Loss: 2.4872, Validation Accuracy: 52.68%\n",
      "\n",
      "Epoch 53/100\n"
     ]
    },
    {
     "name": "stderr",
     "output_type": "stream",
     "text": [
      "Training: 100%|██████████| 1313/1313 [01:33<00:00, 14.10it/s]\n"
     ]
    },
    {
     "name": "stdout",
     "output_type": "stream",
     "text": [
      "Train Loss: 0.2307, Train Accuracy: 92.67%\n"
     ]
    },
    {
     "name": "stderr",
     "output_type": "stream",
     "text": [
      "Validation: 100%|██████████| 282/282 [00:15<00:00, 17.73it/s]\n"
     ]
    },
    {
     "name": "stdout",
     "output_type": "stream",
     "text": [
      "Validation Loss: 2.5330, Validation Accuracy: 52.87%\n",
      "\n",
      "Epoch 54/100\n"
     ]
    },
    {
     "name": "stderr",
     "output_type": "stream",
     "text": [
      "Training: 100%|██████████| 1313/1313 [01:33<00:00, 14.02it/s]\n"
     ]
    },
    {
     "name": "stdout",
     "output_type": "stream",
     "text": [
      "Train Loss: 0.2347, Train Accuracy: 92.63%\n"
     ]
    },
    {
     "name": "stderr",
     "output_type": "stream",
     "text": [
      "Validation: 100%|██████████| 282/282 [00:16<00:00, 17.58it/s]\n"
     ]
    },
    {
     "name": "stdout",
     "output_type": "stream",
     "text": [
      "Validation Loss: 2.5225, Validation Accuracy: 52.94%\n",
      "\n",
      "Epoch 55/100\n"
     ]
    },
    {
     "name": "stderr",
     "output_type": "stream",
     "text": [
      "Training: 100%|██████████| 1313/1313 [01:33<00:00, 14.02it/s]\n"
     ]
    },
    {
     "name": "stdout",
     "output_type": "stream",
     "text": [
      "Train Loss: 0.2296, Train Accuracy: 92.74%\n"
     ]
    },
    {
     "name": "stderr",
     "output_type": "stream",
     "text": [
      "Validation: 100%|██████████| 282/282 [00:16<00:00, 17.61it/s]\n"
     ]
    },
    {
     "name": "stdout",
     "output_type": "stream",
     "text": [
      "Validation Loss: 2.5277, Validation Accuracy: 53.34%\n",
      "\n",
      "Epoch 56/100\n"
     ]
    },
    {
     "name": "stderr",
     "output_type": "stream",
     "text": [
      "Training: 100%|██████████| 1313/1313 [01:33<00:00, 14.05it/s]\n"
     ]
    },
    {
     "name": "stdout",
     "output_type": "stream",
     "text": [
      "Train Loss: 0.2182, Train Accuracy: 92.88%\n"
     ]
    },
    {
     "name": "stderr",
     "output_type": "stream",
     "text": [
      "Validation: 100%|██████████| 282/282 [00:16<00:00, 17.43it/s]\n"
     ]
    },
    {
     "name": "stdout",
     "output_type": "stream",
     "text": [
      "Validation Loss: 2.5098, Validation Accuracy: 53.72%\n",
      "\n",
      "Epoch 57/100\n"
     ]
    },
    {
     "name": "stderr",
     "output_type": "stream",
     "text": [
      "Training: 100%|██████████| 1313/1313 [01:33<00:00, 14.02it/s]\n"
     ]
    },
    {
     "name": "stdout",
     "output_type": "stream",
     "text": [
      "Train Loss: 0.2062, Train Accuracy: 93.62%\n"
     ]
    },
    {
     "name": "stderr",
     "output_type": "stream",
     "text": [
      "Validation: 100%|██████████| 282/282 [00:15<00:00, 17.75it/s]\n"
     ]
    },
    {
     "name": "stdout",
     "output_type": "stream",
     "text": [
      "Validation Loss: 2.5298, Validation Accuracy: 53.41%\n",
      "\n",
      "Epoch 58/100\n"
     ]
    },
    {
     "name": "stderr",
     "output_type": "stream",
     "text": [
      "Training: 100%|██████████| 1313/1313 [01:33<00:00, 14.10it/s]\n"
     ]
    },
    {
     "name": "stdout",
     "output_type": "stream",
     "text": [
      "Train Loss: 0.2039, Train Accuracy: 93.46%\n"
     ]
    },
    {
     "name": "stderr",
     "output_type": "stream",
     "text": [
      "Validation: 100%|██████████| 282/282 [00:16<00:00, 17.57it/s]\n"
     ]
    },
    {
     "name": "stdout",
     "output_type": "stream",
     "text": [
      "Validation Loss: 2.5680, Validation Accuracy: 53.31%\n",
      "\n",
      "Epoch 59/100\n"
     ]
    },
    {
     "name": "stderr",
     "output_type": "stream",
     "text": [
      "Training: 100%|██████████| 1313/1313 [01:33<00:00, 14.02it/s]\n"
     ]
    },
    {
     "name": "stdout",
     "output_type": "stream",
     "text": [
      "Train Loss: 0.2013, Train Accuracy: 93.68%\n"
     ]
    },
    {
     "name": "stderr",
     "output_type": "stream",
     "text": [
      "Validation: 100%|██████████| 282/282 [00:15<00:00, 17.82it/s]\n"
     ]
    },
    {
     "name": "stdout",
     "output_type": "stream",
     "text": [
      "Validation Loss: 2.5585, Validation Accuracy: 52.88%\n",
      "\n",
      "Epoch 60/100\n"
     ]
    },
    {
     "name": "stderr",
     "output_type": "stream",
     "text": [
      "Training: 100%|██████████| 1313/1313 [01:33<00:00, 14.09it/s]\n"
     ]
    },
    {
     "name": "stdout",
     "output_type": "stream",
     "text": [
      "Train Loss: 0.1942, Train Accuracy: 93.88%\n"
     ]
    },
    {
     "name": "stderr",
     "output_type": "stream",
     "text": [
      "Validation: 100%|██████████| 282/282 [00:16<00:00, 17.58it/s]\n"
     ]
    },
    {
     "name": "stdout",
     "output_type": "stream",
     "text": [
      "Validation Loss: 2.5866, Validation Accuracy: 53.13%\n",
      "\n",
      "Epoch 61/100\n"
     ]
    },
    {
     "name": "stderr",
     "output_type": "stream",
     "text": [
      "Training: 100%|██████████| 1313/1313 [01:33<00:00, 14.09it/s]\n"
     ]
    },
    {
     "name": "stdout",
     "output_type": "stream",
     "text": [
      "Train Loss: 0.1873, Train Accuracy: 94.08%\n"
     ]
    },
    {
     "name": "stderr",
     "output_type": "stream",
     "text": [
      "Validation: 100%|██████████| 282/282 [00:16<00:00, 17.59it/s]\n"
     ]
    },
    {
     "name": "stdout",
     "output_type": "stream",
     "text": [
      "Validation Loss: 2.6103, Validation Accuracy: 53.40%\n",
      "\n",
      "Epoch 62/100\n"
     ]
    },
    {
     "name": "stderr",
     "output_type": "stream",
     "text": [
      "Training: 100%|██████████| 1313/1313 [01:33<00:00, 14.06it/s]\n"
     ]
    },
    {
     "name": "stdout",
     "output_type": "stream",
     "text": [
      "Train Loss: 0.1841, Train Accuracy: 94.11%\n"
     ]
    },
    {
     "name": "stderr",
     "output_type": "stream",
     "text": [
      "Validation: 100%|██████████| 282/282 [00:16<00:00, 17.57it/s]\n"
     ]
    },
    {
     "name": "stdout",
     "output_type": "stream",
     "text": [
      "Validation Loss: 2.6531, Validation Accuracy: 52.84%\n",
      "\n",
      "Epoch 63/100\n"
     ]
    },
    {
     "name": "stderr",
     "output_type": "stream",
     "text": [
      "Training: 100%|██████████| 1313/1313 [01:33<00:00, 14.12it/s]\n"
     ]
    },
    {
     "name": "stdout",
     "output_type": "stream",
     "text": [
      "Train Loss: 0.1746, Train Accuracy: 94.55%\n"
     ]
    },
    {
     "name": "stderr",
     "output_type": "stream",
     "text": [
      "Validation: 100%|██████████| 282/282 [00:15<00:00, 17.72it/s]\n"
     ]
    },
    {
     "name": "stdout",
     "output_type": "stream",
     "text": [
      "Validation Loss: 2.6587, Validation Accuracy: 53.56%\n",
      "\n",
      "Epoch 64/100\n"
     ]
    },
    {
     "name": "stderr",
     "output_type": "stream",
     "text": [
      "Training: 100%|██████████| 1313/1313 [01:33<00:00, 14.06it/s]\n"
     ]
    },
    {
     "name": "stdout",
     "output_type": "stream",
     "text": [
      "Train Loss: 0.1727, Train Accuracy: 94.57%\n"
     ]
    },
    {
     "name": "stderr",
     "output_type": "stream",
     "text": [
      "Validation: 100%|██████████| 282/282 [00:16<00:00, 17.60it/s]\n"
     ]
    },
    {
     "name": "stdout",
     "output_type": "stream",
     "text": [
      "Validation Loss: 2.6203, Validation Accuracy: 53.79%\n",
      "\n",
      "Epoch 65/100\n"
     ]
    },
    {
     "name": "stderr",
     "output_type": "stream",
     "text": [
      "Training: 100%|██████████| 1313/1313 [01:33<00:00, 14.07it/s]\n"
     ]
    },
    {
     "name": "stdout",
     "output_type": "stream",
     "text": [
      "Train Loss: 0.1719, Train Accuracy: 94.52%\n"
     ]
    },
    {
     "name": "stderr",
     "output_type": "stream",
     "text": [
      "Validation: 100%|██████████| 282/282 [00:15<00:00, 17.65it/s]\n"
     ]
    },
    {
     "name": "stdout",
     "output_type": "stream",
     "text": [
      "Validation Loss: 2.6282, Validation Accuracy: 53.32%\n",
      "\n",
      "Epoch 66/100\n"
     ]
    },
    {
     "name": "stderr",
     "output_type": "stream",
     "text": [
      "Training: 100%|██████████| 1313/1313 [01:33<00:00, 14.09it/s]\n"
     ]
    },
    {
     "name": "stdout",
     "output_type": "stream",
     "text": [
      "Train Loss: 0.1667, Train Accuracy: 94.65%\n"
     ]
    },
    {
     "name": "stderr",
     "output_type": "stream",
     "text": [
      "Validation: 100%|██████████| 282/282 [00:15<00:00, 17.89it/s]\n"
     ]
    },
    {
     "name": "stdout",
     "output_type": "stream",
     "text": [
      "Validation Loss: 2.6740, Validation Accuracy: 53.29%\n",
      "\n",
      "Epoch 67/100\n"
     ]
    },
    {
     "name": "stderr",
     "output_type": "stream",
     "text": [
      "Training: 100%|██████████| 1313/1313 [01:33<00:00, 14.06it/s]\n"
     ]
    },
    {
     "name": "stdout",
     "output_type": "stream",
     "text": [
      "Train Loss: 0.1602, Train Accuracy: 94.83%\n"
     ]
    },
    {
     "name": "stderr",
     "output_type": "stream",
     "text": [
      "Validation: 100%|██████████| 282/282 [00:16<00:00, 17.56it/s]\n"
     ]
    },
    {
     "name": "stdout",
     "output_type": "stream",
     "text": [
      "Validation Loss: 2.6954, Validation Accuracy: 53.03%\n",
      "\n",
      "Epoch 68/100\n"
     ]
    },
    {
     "name": "stderr",
     "output_type": "stream",
     "text": [
      "Training: 100%|██████████| 1313/1313 [01:33<00:00, 14.04it/s]\n"
     ]
    },
    {
     "name": "stdout",
     "output_type": "stream",
     "text": [
      "Train Loss: 0.1658, Train Accuracy: 94.68%\n"
     ]
    },
    {
     "name": "stderr",
     "output_type": "stream",
     "text": [
      "Validation: 100%|██████████| 282/282 [00:15<00:00, 17.83it/s]\n"
     ]
    },
    {
     "name": "stdout",
     "output_type": "stream",
     "text": [
      "Validation Loss: 2.7494, Validation Accuracy: 53.02%\n",
      "\n",
      "Epoch 69/100\n"
     ]
    },
    {
     "name": "stderr",
     "output_type": "stream",
     "text": [
      "Training: 100%|██████████| 1313/1313 [01:32<00:00, 14.15it/s]\n"
     ]
    },
    {
     "name": "stdout",
     "output_type": "stream",
     "text": [
      "Train Loss: 0.1540, Train Accuracy: 95.07%\n"
     ]
    },
    {
     "name": "stderr",
     "output_type": "stream",
     "text": [
      "Validation: 100%|██████████| 282/282 [00:16<00:00, 17.54it/s]\n"
     ]
    },
    {
     "name": "stdout",
     "output_type": "stream",
     "text": [
      "Validation Loss: 2.7069, Validation Accuracy: 53.16%\n",
      "\n",
      "Epoch 70/100\n"
     ]
    },
    {
     "name": "stderr",
     "output_type": "stream",
     "text": [
      "Training: 100%|██████████| 1313/1313 [01:32<00:00, 14.13it/s]\n"
     ]
    },
    {
     "name": "stdout",
     "output_type": "stream",
     "text": [
      "Train Loss: 0.1494, Train Accuracy: 95.24%\n"
     ]
    },
    {
     "name": "stderr",
     "output_type": "stream",
     "text": [
      "Validation: 100%|██████████| 282/282 [00:15<00:00, 17.75it/s]\n"
     ]
    },
    {
     "name": "stdout",
     "output_type": "stream",
     "text": [
      "Validation Loss: 2.7332, Validation Accuracy: 53.09%\n",
      "\n",
      "Epoch 71/100\n"
     ]
    },
    {
     "name": "stderr",
     "output_type": "stream",
     "text": [
      "Training: 100%|██████████| 1313/1313 [01:32<00:00, 14.18it/s]\n"
     ]
    },
    {
     "name": "stdout",
     "output_type": "stream",
     "text": [
      "Train Loss: 0.1489, Train Accuracy: 95.27%\n"
     ]
    },
    {
     "name": "stderr",
     "output_type": "stream",
     "text": [
      "Validation: 100%|██████████| 282/282 [00:16<00:00, 17.62it/s]\n"
     ]
    },
    {
     "name": "stdout",
     "output_type": "stream",
     "text": [
      "Validation Loss: 2.7065, Validation Accuracy: 54.23%\n",
      "\n",
      "Epoch 72/100\n"
     ]
    },
    {
     "name": "stderr",
     "output_type": "stream",
     "text": [
      "Training: 100%|██████████| 1313/1313 [01:33<00:00, 14.10it/s]\n"
     ]
    },
    {
     "name": "stdout",
     "output_type": "stream",
     "text": [
      "Train Loss: 0.1529, Train Accuracy: 95.25%\n"
     ]
    },
    {
     "name": "stderr",
     "output_type": "stream",
     "text": [
      "Validation: 100%|██████████| 282/282 [00:15<00:00, 17.82it/s]\n"
     ]
    },
    {
     "name": "stdout",
     "output_type": "stream",
     "text": [
      "Validation Loss: 2.7377, Validation Accuracy: 53.27%\n",
      "\n",
      "Epoch 73/100\n"
     ]
    },
    {
     "name": "stderr",
     "output_type": "stream",
     "text": [
      "Training: 100%|██████████| 1313/1313 [01:33<00:00, 14.05it/s]\n"
     ]
    },
    {
     "name": "stdout",
     "output_type": "stream",
     "text": [
      "Train Loss: 0.1414, Train Accuracy: 95.51%\n"
     ]
    },
    {
     "name": "stderr",
     "output_type": "stream",
     "text": [
      "Validation: 100%|██████████| 282/282 [00:15<00:00, 17.73it/s]\n"
     ]
    },
    {
     "name": "stdout",
     "output_type": "stream",
     "text": [
      "Validation Loss: 2.7551, Validation Accuracy: 53.44%\n",
      "\n",
      "Epoch 74/100\n"
     ]
    },
    {
     "name": "stderr",
     "output_type": "stream",
     "text": [
      "Training: 100%|██████████| 1313/1313 [01:32<00:00, 14.12it/s]\n"
     ]
    },
    {
     "name": "stdout",
     "output_type": "stream",
     "text": [
      "Train Loss: 0.1375, Train Accuracy: 95.67%\n"
     ]
    },
    {
     "name": "stderr",
     "output_type": "stream",
     "text": [
      "Validation: 100%|██████████| 282/282 [00:15<00:00, 17.71it/s]\n"
     ]
    },
    {
     "name": "stdout",
     "output_type": "stream",
     "text": [
      "Validation Loss: 2.8133, Validation Accuracy: 52.89%\n",
      "\n",
      "Epoch 75/100\n"
     ]
    },
    {
     "name": "stderr",
     "output_type": "stream",
     "text": [
      "Training: 100%|██████████| 1313/1313 [01:32<00:00, 14.13it/s]\n"
     ]
    },
    {
     "name": "stdout",
     "output_type": "stream",
     "text": [
      "Train Loss: 0.1348, Train Accuracy: 95.63%\n"
     ]
    },
    {
     "name": "stderr",
     "output_type": "stream",
     "text": [
      "Validation: 100%|██████████| 282/282 [00:15<00:00, 17.77it/s]\n"
     ]
    },
    {
     "name": "stdout",
     "output_type": "stream",
     "text": [
      "Validation Loss: 2.7792, Validation Accuracy: 53.80%\n",
      "\n",
      "Epoch 76/100\n"
     ]
    },
    {
     "name": "stderr",
     "output_type": "stream",
     "text": [
      "Training: 100%|██████████| 1313/1313 [01:33<00:00, 14.09it/s]\n"
     ]
    },
    {
     "name": "stdout",
     "output_type": "stream",
     "text": [
      "Train Loss: 0.1393, Train Accuracy: 95.52%\n"
     ]
    },
    {
     "name": "stderr",
     "output_type": "stream",
     "text": [
      "Validation: 100%|██████████| 282/282 [00:16<00:00, 17.54it/s]\n"
     ]
    },
    {
     "name": "stdout",
     "output_type": "stream",
     "text": [
      "Validation Loss: 2.7545, Validation Accuracy: 53.90%\n",
      "\n",
      "Epoch 77/100\n"
     ]
    },
    {
     "name": "stderr",
     "output_type": "stream",
     "text": [
      "Training: 100%|██████████| 1313/1313 [01:33<00:00, 14.09it/s]\n"
     ]
    },
    {
     "name": "stdout",
     "output_type": "stream",
     "text": [
      "Train Loss: 0.1240, Train Accuracy: 96.12%\n"
     ]
    },
    {
     "name": "stderr",
     "output_type": "stream",
     "text": [
      "Validation: 100%|██████████| 282/282 [00:15<00:00, 17.75it/s]\n"
     ]
    },
    {
     "name": "stdout",
     "output_type": "stream",
     "text": [
      "Validation Loss: 2.7684, Validation Accuracy: 53.50%\n",
      "\n",
      "Epoch 78/100\n"
     ]
    },
    {
     "name": "stderr",
     "output_type": "stream",
     "text": [
      "Training: 100%|██████████| 1313/1313 [01:33<00:00, 14.11it/s]\n"
     ]
    },
    {
     "name": "stdout",
     "output_type": "stream",
     "text": [
      "Train Loss: 0.1346, Train Accuracy: 95.68%\n"
     ]
    },
    {
     "name": "stderr",
     "output_type": "stream",
     "text": [
      "Validation: 100%|██████████| 282/282 [00:16<00:00, 17.58it/s]\n"
     ]
    },
    {
     "name": "stdout",
     "output_type": "stream",
     "text": [
      "Validation Loss: 2.8023, Validation Accuracy: 53.30%\n",
      "\n",
      "Epoch 79/100\n"
     ]
    },
    {
     "name": "stderr",
     "output_type": "stream",
     "text": [
      "Training: 100%|██████████| 1313/1313 [01:33<00:00, 14.09it/s]\n"
     ]
    },
    {
     "name": "stdout",
     "output_type": "stream",
     "text": [
      "Train Loss: 0.1235, Train Accuracy: 96.11%\n"
     ]
    },
    {
     "name": "stderr",
     "output_type": "stream",
     "text": [
      "Validation: 100%|██████████| 282/282 [00:15<00:00, 17.64it/s]\n"
     ]
    },
    {
     "name": "stdout",
     "output_type": "stream",
     "text": [
      "Validation Loss: 2.8315, Validation Accuracy: 53.56%\n",
      "\n",
      "Epoch 80/100\n"
     ]
    },
    {
     "name": "stderr",
     "output_type": "stream",
     "text": [
      "Training: 100%|██████████| 1313/1313 [01:33<00:00, 14.10it/s]\n"
     ]
    },
    {
     "name": "stdout",
     "output_type": "stream",
     "text": [
      "Train Loss: 0.1282, Train Accuracy: 95.90%\n"
     ]
    },
    {
     "name": "stderr",
     "output_type": "stream",
     "text": [
      "Validation: 100%|██████████| 282/282 [00:16<00:00, 17.54it/s]\n"
     ]
    },
    {
     "name": "stdout",
     "output_type": "stream",
     "text": [
      "Validation Loss: 2.7047, Validation Accuracy: 54.51%\n",
      "\n",
      "Epoch 81/100\n"
     ]
    },
    {
     "name": "stderr",
     "output_type": "stream",
     "text": [
      "Training: 100%|██████████| 1313/1313 [01:33<00:00, 14.11it/s]\n"
     ]
    },
    {
     "name": "stdout",
     "output_type": "stream",
     "text": [
      "Train Loss: 0.1255, Train Accuracy: 95.94%\n"
     ]
    },
    {
     "name": "stderr",
     "output_type": "stream",
     "text": [
      "Validation: 100%|██████████| 282/282 [00:16<00:00, 17.47it/s]\n"
     ]
    },
    {
     "name": "stdout",
     "output_type": "stream",
     "text": [
      "Validation Loss: 2.8678, Validation Accuracy: 53.58%\n",
      "\n",
      "Epoch 82/100\n"
     ]
    },
    {
     "name": "stderr",
     "output_type": "stream",
     "text": [
      "Training: 100%|██████████| 1313/1313 [01:33<00:00, 14.01it/s]\n"
     ]
    },
    {
     "name": "stdout",
     "output_type": "stream",
     "text": [
      "Train Loss: 0.1148, Train Accuracy: 96.31%\n"
     ]
    },
    {
     "name": "stderr",
     "output_type": "stream",
     "text": [
      "Validation: 100%|██████████| 282/282 [00:16<00:00, 17.50it/s]\n"
     ]
    },
    {
     "name": "stdout",
     "output_type": "stream",
     "text": [
      "Validation Loss: 2.8356, Validation Accuracy: 53.30%\n",
      "\n",
      "Epoch 83/100\n"
     ]
    },
    {
     "name": "stderr",
     "output_type": "stream",
     "text": [
      "Training: 100%|██████████| 1313/1313 [01:34<00:00, 13.84it/s]\n"
     ]
    },
    {
     "name": "stdout",
     "output_type": "stream",
     "text": [
      "Train Loss: 0.1218, Train Accuracy: 96.01%\n"
     ]
    },
    {
     "name": "stderr",
     "output_type": "stream",
     "text": [
      "Validation: 100%|██████████| 282/282 [00:16<00:00, 17.61it/s]\n"
     ]
    },
    {
     "name": "stdout",
     "output_type": "stream",
     "text": [
      "Validation Loss: 2.7523, Validation Accuracy: 53.96%\n",
      "\n",
      "Epoch 84/100\n"
     ]
    },
    {
     "name": "stderr",
     "output_type": "stream",
     "text": [
      "Training: 100%|██████████| 1313/1313 [01:33<00:00, 14.01it/s]\n"
     ]
    },
    {
     "name": "stdout",
     "output_type": "stream",
     "text": [
      "Train Loss: 0.1181, Train Accuracy: 96.36%\n"
     ]
    },
    {
     "name": "stderr",
     "output_type": "stream",
     "text": [
      "Validation: 100%|██████████| 282/282 [00:16<00:00, 17.44it/s]\n"
     ]
    },
    {
     "name": "stdout",
     "output_type": "stream",
     "text": [
      "Validation Loss: 2.8327, Validation Accuracy: 53.69%\n",
      "\n",
      "Epoch 85/100\n"
     ]
    },
    {
     "name": "stderr",
     "output_type": "stream",
     "text": [
      "Training: 100%|██████████| 1313/1313 [01:34<00:00, 13.94it/s]\n"
     ]
    },
    {
     "name": "stdout",
     "output_type": "stream",
     "text": [
      "Train Loss: 0.1175, Train Accuracy: 96.20%\n"
     ]
    },
    {
     "name": "stderr",
     "output_type": "stream",
     "text": [
      "Validation: 100%|██████████| 282/282 [00:16<00:00, 17.49it/s]\n"
     ]
    },
    {
     "name": "stdout",
     "output_type": "stream",
     "text": [
      "Validation Loss: 2.8595, Validation Accuracy: 53.83%\n",
      "\n",
      "Epoch 86/100\n"
     ]
    },
    {
     "name": "stderr",
     "output_type": "stream",
     "text": [
      "Training: 100%|██████████| 1313/1313 [01:34<00:00, 13.97it/s]\n"
     ]
    },
    {
     "name": "stdout",
     "output_type": "stream",
     "text": [
      "Train Loss: 0.1138, Train Accuracy: 96.34%\n"
     ]
    },
    {
     "name": "stderr",
     "output_type": "stream",
     "text": [
      "Validation: 100%|██████████| 282/282 [00:15<00:00, 17.82it/s]\n"
     ]
    },
    {
     "name": "stdout",
     "output_type": "stream",
     "text": [
      "Validation Loss: 2.8924, Validation Accuracy: 53.61%\n",
      "\n",
      "Epoch 87/100\n"
     ]
    },
    {
     "name": "stderr",
     "output_type": "stream",
     "text": [
      "Training: 100%|██████████| 1313/1313 [01:33<00:00, 14.07it/s]\n"
     ]
    },
    {
     "name": "stdout",
     "output_type": "stream",
     "text": [
      "Train Loss: 0.1176, Train Accuracy: 96.32%\n"
     ]
    },
    {
     "name": "stderr",
     "output_type": "stream",
     "text": [
      "Validation: 100%|██████████| 282/282 [00:15<00:00, 17.86it/s]\n"
     ]
    },
    {
     "name": "stdout",
     "output_type": "stream",
     "text": [
      "Validation Loss: 2.8739, Validation Accuracy: 53.38%\n",
      "\n",
      "Epoch 88/100\n"
     ]
    },
    {
     "name": "stderr",
     "output_type": "stream",
     "text": [
      "Training: 100%|██████████| 1313/1313 [01:33<00:00, 14.08it/s]\n"
     ]
    },
    {
     "name": "stdout",
     "output_type": "stream",
     "text": [
      "Train Loss: 0.1072, Train Accuracy: 96.58%\n"
     ]
    },
    {
     "name": "stderr",
     "output_type": "stream",
     "text": [
      "Validation: 100%|██████████| 282/282 [00:16<00:00, 17.41it/s]\n"
     ]
    },
    {
     "name": "stdout",
     "output_type": "stream",
     "text": [
      "Validation Loss: 2.8918, Validation Accuracy: 53.57%\n",
      "\n",
      "Epoch 89/100\n"
     ]
    },
    {
     "name": "stderr",
     "output_type": "stream",
     "text": [
      "Training: 100%|██████████| 1313/1313 [01:33<00:00, 14.06it/s]\n"
     ]
    },
    {
     "name": "stdout",
     "output_type": "stream",
     "text": [
      "Train Loss: 0.1065, Train Accuracy: 96.61%\n"
     ]
    },
    {
     "name": "stderr",
     "output_type": "stream",
     "text": [
      "Validation: 100%|██████████| 282/282 [00:15<00:00, 17.88it/s]\n"
     ]
    },
    {
     "name": "stdout",
     "output_type": "stream",
     "text": [
      "Validation Loss: 2.8690, Validation Accuracy: 53.91%\n",
      "\n",
      "Epoch 90/100\n"
     ]
    },
    {
     "name": "stderr",
     "output_type": "stream",
     "text": [
      "Training: 100%|██████████| 1313/1313 [01:33<00:00, 14.07it/s]\n"
     ]
    },
    {
     "name": "stdout",
     "output_type": "stream",
     "text": [
      "Train Loss: 0.1089, Train Accuracy: 96.47%\n"
     ]
    },
    {
     "name": "stderr",
     "output_type": "stream",
     "text": [
      "Validation: 100%|██████████| 282/282 [00:15<00:00, 17.91it/s]\n"
     ]
    },
    {
     "name": "stdout",
     "output_type": "stream",
     "text": [
      "Validation Loss: 2.8556, Validation Accuracy: 53.78%\n",
      "\n",
      "Epoch 91/100\n"
     ]
    },
    {
     "name": "stderr",
     "output_type": "stream",
     "text": [
      "Training: 100%|██████████| 1313/1313 [01:33<00:00, 14.09it/s]\n"
     ]
    },
    {
     "name": "stdout",
     "output_type": "stream",
     "text": [
      "Train Loss: 0.1040, Train Accuracy: 96.70%\n"
     ]
    },
    {
     "name": "stderr",
     "output_type": "stream",
     "text": [
      "Validation: 100%|██████████| 282/282 [00:16<00:00, 17.50it/s]\n"
     ]
    },
    {
     "name": "stdout",
     "output_type": "stream",
     "text": [
      "Validation Loss: 2.8967, Validation Accuracy: 53.41%\n",
      "\n",
      "Epoch 92/100\n"
     ]
    },
    {
     "name": "stderr",
     "output_type": "stream",
     "text": [
      "Training: 100%|██████████| 1313/1313 [01:33<00:00, 14.04it/s]\n"
     ]
    },
    {
     "name": "stdout",
     "output_type": "stream",
     "text": [
      "Train Loss: 0.1006, Train Accuracy: 96.85%\n"
     ]
    },
    {
     "name": "stderr",
     "output_type": "stream",
     "text": [
      "Validation: 100%|██████████| 282/282 [00:15<00:00, 17.68it/s]\n"
     ]
    },
    {
     "name": "stdout",
     "output_type": "stream",
     "text": [
      "Validation Loss: 2.8871, Validation Accuracy: 54.02%\n",
      "\n",
      "Epoch 93/100\n"
     ]
    },
    {
     "name": "stderr",
     "output_type": "stream",
     "text": [
      "Training: 100%|██████████| 1313/1313 [01:33<00:00, 14.08it/s]\n"
     ]
    },
    {
     "name": "stdout",
     "output_type": "stream",
     "text": [
      "Train Loss: 0.1022, Train Accuracy: 96.66%\n"
     ]
    },
    {
     "name": "stderr",
     "output_type": "stream",
     "text": [
      "Validation: 100%|██████████| 282/282 [00:15<00:00, 17.74it/s]\n"
     ]
    },
    {
     "name": "stdout",
     "output_type": "stream",
     "text": [
      "Validation Loss: 2.8647, Validation Accuracy: 54.07%\n",
      "\n",
      "Epoch 94/100\n"
     ]
    },
    {
     "name": "stderr",
     "output_type": "stream",
     "text": [
      "Training: 100%|██████████| 1313/1313 [01:32<00:00, 14.13it/s]\n"
     ]
    },
    {
     "name": "stdout",
     "output_type": "stream",
     "text": [
      "Train Loss: 0.0999, Train Accuracy: 96.80%\n"
     ]
    },
    {
     "name": "stderr",
     "output_type": "stream",
     "text": [
      "Validation: 100%|██████████| 282/282 [00:15<00:00, 17.71it/s]\n"
     ]
    },
    {
     "name": "stdout",
     "output_type": "stream",
     "text": [
      "Validation Loss: 2.8577, Validation Accuracy: 53.93%\n",
      "\n",
      "Epoch 95/100\n"
     ]
    },
    {
     "name": "stderr",
     "output_type": "stream",
     "text": [
      "Training: 100%|██████████| 1313/1313 [01:33<00:00, 14.10it/s]\n"
     ]
    },
    {
     "name": "stdout",
     "output_type": "stream",
     "text": [
      "Train Loss: 0.0976, Train Accuracy: 96.87%\n"
     ]
    },
    {
     "name": "stderr",
     "output_type": "stream",
     "text": [
      "Validation: 100%|██████████| 282/282 [00:15<00:00, 17.71it/s]\n"
     ]
    },
    {
     "name": "stdout",
     "output_type": "stream",
     "text": [
      "Validation Loss: 2.8644, Validation Accuracy: 53.83%\n",
      "\n",
      "Epoch 96/100\n"
     ]
    },
    {
     "name": "stderr",
     "output_type": "stream",
     "text": [
      "Training: 100%|██████████| 1313/1313 [01:32<00:00, 14.13it/s]\n"
     ]
    },
    {
     "name": "stdout",
     "output_type": "stream",
     "text": [
      "Train Loss: 0.0977, Train Accuracy: 96.94%\n"
     ]
    },
    {
     "name": "stderr",
     "output_type": "stream",
     "text": [
      "Validation: 100%|██████████| 282/282 [00:15<00:00, 17.70it/s]\n"
     ]
    },
    {
     "name": "stdout",
     "output_type": "stream",
     "text": [
      "Validation Loss: 2.8957, Validation Accuracy: 54.52%\n",
      "\n",
      "Epoch 97/100\n"
     ]
    },
    {
     "name": "stderr",
     "output_type": "stream",
     "text": [
      "Training: 100%|██████████| 1313/1313 [01:33<00:00, 14.11it/s]\n"
     ]
    },
    {
     "name": "stdout",
     "output_type": "stream",
     "text": [
      "Train Loss: 0.0971, Train Accuracy: 96.97%\n"
     ]
    },
    {
     "name": "stderr",
     "output_type": "stream",
     "text": [
      "Validation: 100%|██████████| 282/282 [00:15<00:00, 17.78it/s]\n"
     ]
    },
    {
     "name": "stdout",
     "output_type": "stream",
     "text": [
      "Validation Loss: 2.8599, Validation Accuracy: 54.93%\n",
      "\n",
      "Epoch 98/100\n"
     ]
    },
    {
     "name": "stderr",
     "output_type": "stream",
     "text": [
      "Training: 100%|██████████| 1313/1313 [01:33<00:00, 14.10it/s]\n"
     ]
    },
    {
     "name": "stdout",
     "output_type": "stream",
     "text": [
      "Train Loss: 0.0941, Train Accuracy: 96.99%\n"
     ]
    },
    {
     "name": "stderr",
     "output_type": "stream",
     "text": [
      "Validation: 100%|██████████| 282/282 [00:15<00:00, 17.70it/s]\n"
     ]
    },
    {
     "name": "stdout",
     "output_type": "stream",
     "text": [
      "Validation Loss: 2.8878, Validation Accuracy: 55.08%\n",
      "\n",
      "Epoch 99/100\n"
     ]
    },
    {
     "name": "stderr",
     "output_type": "stream",
     "text": [
      "Training: 100%|██████████| 1313/1313 [01:33<00:00, 14.03it/s]\n"
     ]
    },
    {
     "name": "stdout",
     "output_type": "stream",
     "text": [
      "Train Loss: 0.0930, Train Accuracy: 97.09%\n"
     ]
    },
    {
     "name": "stderr",
     "output_type": "stream",
     "text": [
      "Validation: 100%|██████████| 282/282 [00:15<00:00, 17.84it/s]\n"
     ]
    },
    {
     "name": "stdout",
     "output_type": "stream",
     "text": [
      "Validation Loss: 2.9246, Validation Accuracy: 53.91%\n",
      "\n",
      "Epoch 100/100\n"
     ]
    },
    {
     "name": "stderr",
     "output_type": "stream",
     "text": [
      "Training: 100%|██████████| 1313/1313 [01:33<00:00, 14.10it/s]\n"
     ]
    },
    {
     "name": "stdout",
     "output_type": "stream",
     "text": [
      "Train Loss: 0.0946, Train Accuracy: 96.95%\n"
     ]
    },
    {
     "name": "stderr",
     "output_type": "stream",
     "text": [
      "Validation: 100%|██████████| 282/282 [00:15<00:00, 17.77it/s]"
     ]
    },
    {
     "name": "stdout",
     "output_type": "stream",
     "text": [
      "Validation Loss: 2.9175, Validation Accuracy: 54.02%\n"
     ]
    },
    {
     "name": "stderr",
     "output_type": "stream",
     "text": [
      "\n"
     ]
    }
   ],
   "source": [
    "for epoch in range(num_epochs):\n",
    "    print(f\"\\nEpoch {epoch+1}/{num_epochs}\")\n",
    "    train(model, train_loader, criterion, optimizer, device)\n",
    "    evaluate(model, val_loader, criterion, device, phase=\"Validation\")"
   ]
  },
  {
   "cell_type": "code",
   "execution_count": 29,
   "metadata": {
    "colab": {
     "base_uri": "https://localhost:8080/"
    },
    "id": "tAiyDwO0zMk1",
    "outputId": "54af4ff8-bdfa-459b-80ef-70a6de02e013"
   },
   "outputs": [
    {
     "name": "stdout",
     "output_type": "stream",
     "text": [
      "\n",
      "Final Test Evaluation\n"
     ]
    },
    {
     "name": "stderr",
     "output_type": "stream",
     "text": [
      "Test: 100%|██████████| 282/282 [00:15<00:00, 17.84it/s]"
     ]
    },
    {
     "name": "stdout",
     "output_type": "stream",
     "text": [
      "Test Loss: 2.8202, Test Accuracy: 54.52%\n"
     ]
    },
    {
     "name": "stderr",
     "output_type": "stream",
     "text": [
      "\n"
     ]
    }
   ],
   "source": [
    "print(\"\\nFinal Test Evaluation\")\n",
    "evaluate(model, test_loader, criterion, device, phase=\"Test\")"
   ]
  },
  {
   "cell_type": "code",
   "execution_count": 30,
   "metadata": {
    "colab": {
     "base_uri": "https://localhost:8080/"
    },
    "id": "eA9wq1M-PTzR",
    "outputId": "74ae3663-87d9-423f-9fcd-7c776aa96fd1"
   },
   "outputs": [
    {
     "name": "stdout",
     "output_type": "stream",
     "text": [
      "Model weights saved to ./model_weights.pth\n"
     ]
    }
   ],
   "source": [
    "import torch\n",
    "torch.save(model.state_dict(), model_weight_path)\n",
    "print(f\"Model weights saved to {model_weight_path}\")"
   ]
  },
  {
   "cell_type": "code",
   "execution_count": 31,
   "metadata": {
    "colab": {
     "base_uri": "https://localhost:8080/"
    },
    "id": "HCv209A51QEb",
    "outputId": "2dd54ba8-8d21-4a97-826f-b9aa30bee3a1"
   },
   "outputs": [
    {
     "name": "stdout",
     "output_type": "stream",
     "text": [
      "Inference Time Measurement Results:\n",
      "Total Inferences: 282\n",
      "Average Time: 5.74 ms\n",
      "Standard Deviation: 0.31 ms\n",
      "Maximum Time: 8.26 ms\n",
      "Minimum Time: 5.34 ms\n"
     ]
    }
   ],
   "source": [
    "times = measure_inference_time(model, test_loader, device)"
   ]
  },
  {
   "cell_type": "code",
   "execution_count": 32,
   "metadata": {
    "colab": {
     "base_uri": "https://localhost:8080/"
    },
    "id": "m_kVgdJKDZqe",
    "outputId": "5ed406fd-6ef3-4d4e-db2f-87619b8a2040"
   },
   "outputs": [
    {
     "name": "stdout",
     "output_type": "stream",
     "text": [
      "-------------------------------------------------------  ------------  ------------  ------------  ------------  ------------  ------------  ------------  ------------  ------------  ------------  \n",
      "                                                   Name    Self CPU %      Self CPU   CPU total %     CPU total  CPU time avg     Self CUDA   Self CUDA %    CUDA total  CUDA time avg    # of Calls  \n",
      "-------------------------------------------------------  ------------  ------------  ------------  ------------  ------------  ------------  ------------  ------------  ------------  ------------  \n",
      "                                           aten::matmul         1.53%     321.209us        38.49%       8.086ms     336.925us       0.000us         0.00%       2.534ms     105.576us            24  \n",
      "                                           aten::linear         0.39%      80.922us        34.76%       7.303ms     405.710us       0.000us         0.00%       1.829ms     101.598us            18  \n",
      "                                               aten::mm         2.75%     576.851us        32.55%       6.839ms     427.460us       1.804ms        40.89%       1.804ms     112.730us            16  \n",
      "                                 ampere_sgemm_32x128_tn         0.00%       0.000us         0.00%       0.000us       0.000us     677.826us        15.37%     677.826us     169.457us             4  \n",
      "                                           aten::conv2d         0.72%     151.286us        21.72%       4.563ms     760.445us       0.000us         0.00%     614.208us     102.368us             6  \n",
      "                                      aten::convolution         0.25%      52.737us        21.00%       4.411ms     735.231us       0.000us         0.00%     614.208us     102.368us             6  \n",
      "                                     aten::_convolution         9.24%       1.942ms        20.75%       4.359ms     726.442us       0.000us         0.00%     614.208us     102.368us             6  \n",
      "                                aten::cudnn_convolution        10.03%       2.107ms        11.23%       2.360ms     393.412us     599.168us        13.58%     599.168us      99.861us             6  \n",
      "                                              aten::bmm         1.13%     237.246us         1.44%     302.581us      37.823us     568.034us        12.88%     568.034us      71.004us             8  \n",
      "                                       aten::batch_norm         0.62%     129.501us        28.45%       5.977ms     259.861us       0.000us         0.00%     545.857us      23.733us            23  \n",
      "-------------------------------------------------------  ------------  ------------  ------------  ------------  ------------  ------------  ------------  ------------  ------------  ------------  \n",
      "Self CPU time total: 21.010ms\n",
      "Self CUDA time total: 4.411ms\n",
      "\n"
     ]
    }
   ],
   "source": [
    "from torch import profiler\n",
    "\n",
    "dummy_input = torch.randn(32, 3, 224, 224).cuda()\n",
    "\n",
    "# Profiling inference\n",
    "with profiler.profile(\n",
    "    activities=[\n",
    "       profiler.ProfilerActivity.CPU,\n",
    "        profiler.ProfilerActivity.CUDA,  # Include if using GPU\n",
    "    ],\n",
    "    on_trace_ready=profiler.tensorboard_trace_handler(\"./logs\"),  # Optional logging\n",
    "    record_shapes=True,\n",
    "    with_stack=True\n",
    ") as prof:\n",
    "    with torch.no_grad():\n",
    "        model(dummy_input)\n",
    "\n",
    "\n",
    "# Print results\n",
    "print(prof.key_averages().table(sort_by=\"cuda_time_total\" if torch.cuda.is_available() else \"cpu_time_total\", row_limit=10))"
   ]
  },
  {
   "cell_type": "code",
   "execution_count": 34,
   "metadata": {
    "colab": {
     "base_uri": "https://localhost:8080/",
     "height": 603
    },
    "id": "8ImWAMaZPTzS",
    "outputId": "8fcf12aa-c63e-43de-ad64-70acb093afc8"
   },
   "outputs": [
    {
     "data": {
      "text/plain": [
       "<matplotlib.legend.Legend at 0x7b8470263d60>"
      ]
     },
     "execution_count": 34,
     "metadata": {},
     "output_type": "execute_result"
    },
    {
     "data": {
      "image/png": "[encoded data removed]",
      "text/plain": [
       "<Figure size 1200x600 with 2 Axes>"
      ]
     },
     "metadata": {},
     "output_type": "display_data"
    }
   ],
   "source": [
    "plt.figure(figsize=(12, 6))\n",
    "\n",
    "plt.subplot(1, 2, 1)\n",
    "plt.plot(range(1, num_epochs + 1), train_losses, label='Train Loss')\n",
    "plt.plot(range(1, num_epochs + 1), val_losses, label='Validation Loss')\n",
    "plt.xlabel('Epochs')\n",
    "plt.ylabel('Loss')\n",
    "plt.title('Loss Over Epochs')\n",
    "plt.legend()\n",
    "\n",
    "plt.subplot(1, 2, 2)\n",
    "plt.plot(range(1, num_epochs + 1), train_accuracies, label='Train Accuracy')\n",
    "plt.plot(range(1, num_epochs + 1), val_accuracies, label='Validation Accuracy')\n",
    "plt.xlabel('Epochs')\n",
    "plt.ylabel('Accuracy (%)')\n",
    "plt.title('Accuracy Over Epochs')\n",
    "plt.legend()"
   ]
  },
  {
   "cell_type": "code",
   "execution_count": null,
   "metadata": {
    "id": "Ay2C3vg5CxC8"
   },
   "outputs": [],
   "source": []
  },
  {
   "cell_type": "code",
   "execution_count": null,
   "metadata": {
    "id": "Gj8vgJHgC1q6"
   },
   "outputs": [],
   "source": []
  },
  {
   "cell_type": "code",
   "execution_count": null,
   "metadata": {
    "id": "ONX4PbOUC66t"
   },
   "outputs": [],
   "source": []
  }
 ],
 "metadata": {
  "accelerator": "GPU",
  "colab": {
   "gpuType": "A100",
   "machine_shape": "hm",
   "provenance": []
  },
  "kernelspec": {
   "display_name": "Python 3 (ipykernel)",
   "language": "python",
   "name": "python3"
  },
  "language_info": {
   "codemirror_mode": {
    "name": "ipython",
    "version": 3
   },
   "file_extension": ".py",
   "mimetype": "text/x-python",
   "name": "python",
   "nbconvert_exporter": "python",
   "pygments_lexer": "ipython3",
   "version": "3.12.3"
  }
 },
 "nbformat": 4,
 "nbformat_minor": 4
}
