{
  "cells": [
    {
      "cell_type": "code",
      "source": [
        "!pip install torchinfo"
      ],
      "metadata": {
        "colab": {
          "base_uri": "https://localhost:8080/"
        },
        "id": "g8r6CXnJZvFp",
        "outputId": "832103d6-5a63-465d-fabb-3d0badd96bdf"
      },
      "execution_count": 2,
      "outputs": [
        {
          "output_type": "stream",
          "name": "stdout",
          "text": [
            "Collecting torchinfo\n",
            "  Downloading torchinfo-1.8.0-py3-none-any.whl.metadata (21 kB)\n",
            "Downloading torchinfo-1.8.0-py3-none-any.whl (23 kB)\n",
            "Installing collected packages: torchinfo\n",
            "Successfully installed torchinfo-1.8.0\n"
          ]
        }
      ]
    },
    {
      "cell_type": "code",
      "source": [
        "from google.colab import drive\n",
        "drive.mount('/content/drive')"
      ],
      "metadata": {
        "colab": {
          "base_uri": "https://localhost:8080/"
        },
        "id": "nZpc9L0dZy2p",
        "outputId": "e1fc494a-a72c-4bf1-c957-52a424eae5da"
      },
      "execution_count": 3,
      "outputs": [
        {
          "output_type": "stream",
          "name": "stdout",
          "text": [
            "Mounted at /content/drive\n"
          ]
        }
      ]
    },
    {
      "cell_type": "code",
      "execution_count": 4,
      "metadata": {
        "id": "Wa8mdzSwvzMe"
      },
      "outputs": [],
      "source": [
        "import timm\n",
        "import torch\n",
        "import torch.nn as nn\n",
        "import torch.optim as optim\n",
        "from torchvision import datasets, transforms\n",
        "from torch.utils.data import DataLoader, ConcatDataset\n",
        "import numpy as np\n",
        "from tqdm import tqdm\n",
        "\n",
        "import os\n",
        "import pandas as pd\n",
        "from torch.utils.data import Dataset, DataLoader, Subset\n",
        "from PIL import Image\n",
        "\n",
        "import itertools\n",
        "from torchinfo import summary"
      ]
    },
    {
      "cell_type": "code",
      "execution_count": 5,
      "metadata": {
        "id": "4FLtpbS_Vrd7"
      },
      "outputs": [],
      "source": [
        "class ConvNorm(nn.Module):\n",
        "    def __init__(self, in_channels, out_channels, kernel_size=3, stride=2, padding=1):\n",
        "        super(ConvNorm, self).__init__()\n",
        "        self.linear = nn.Conv2d(\n",
        "            in_channels, out_channels, kernel_size=kernel_size,\n",
        "            stride=stride, padding=padding, bias=False\n",
        "        )\n",
        "        self.bn = nn.BatchNorm2d(out_channels)\n",
        "\n",
        "    def forward(self, x):\n",
        "        x = self.linear(x)\n",
        "        x = self.bn(x)\n",
        "        return x"
      ]
    },
    {
      "cell_type": "code",
      "execution_count": 6,
      "metadata": {
        "id": "zhaJu1oZyp0D"
      },
      "outputs": [],
      "source": [
        "class Stem16(nn.Module):\n",
        "    def __init__(self):\n",
        "        super(Stem16, self).__init__()\n",
        "        self.conv1 = ConvNorm(3, 32)\n",
        "        self.act1 = nn.Hardswish()\n",
        "        self.conv2 = ConvNorm(32, 64)\n",
        "        self.act2 = nn.Hardswish()\n",
        "        self.conv3 = ConvNorm(64, 128)\n",
        "        self.act3 = nn.Hardswish()\n",
        "        self.conv4 = ConvNorm(128, 256)\n",
        "\n",
        "    def forward(self, x):\n",
        "        x = self.act1(self.conv1(x))\n",
        "        x = self.act2(self.conv2(x))\n",
        "        x = self.act3(self.conv3(x))\n",
        "        x = self.conv4(x)\n",
        "        return x"
      ]
    },
    {
      "cell_type": "code",
      "execution_count": 7,
      "metadata": {
        "id": "W1Xh6-wOyskM"
      },
      "outputs": [],
      "source": [
        "\n",
        "class LinearNorm(nn.Module):\n",
        "    def __init__(self, in_features, out_features):\n",
        "        super(LinearNorm, self).__init__()\n",
        "        self.linear = nn.Linear(in_features, out_features, bias=False)\n",
        "        self.bn = nn.BatchNorm1d(out_features)\n",
        "\n",
        "    def forward(self, x):\n",
        "\n",
        "        if x.dim() == 3:\n",
        "            B, N, C = x.shape\n",
        "            x = x.reshape(B * N, C)\n",
        "            x = self.bn(self.linear(x))\n",
        "            x = x.reshape(B, N, -1)\n",
        "        else:\n",
        "            x = self.bn(self.linear(x))\n",
        "        return x"
      ]
    },
    {
      "cell_type": "code",
      "execution_count": 8,
      "metadata": {
        "id": "wHeuFDCPyuLf"
      },
      "outputs": [],
      "source": [
        "class Attention(nn.Module):\n",
        "    def __init__(self, dim, num_heads, attn_ratio=2):\n",
        "        super(Attention, self).__init__()\n",
        "        self.num_heads = num_heads\n",
        "        head_dim = dim // num_heads\n",
        "        self.scale = head_dim ** -0.5\n",
        "        inner_dim = head_dim * num_heads * 3\n",
        "        self.qkv = LinearNorm(dim, inner_dim)\n",
        "\n",
        "        self.proj = nn.Sequential(\n",
        "            nn.Hardswish(),\n",
        "            LinearNorm(dim, dim)\n",
        "        )\n",
        "\n",
        "    def forward(self, x):\n",
        "        B, N, C = x.shape\n",
        "        qkv = self.qkv(x)\n",
        "        qkv = qkv.view(B, N, 3, self.num_heads, C // self.num_heads).permute(2, 0, 3, 1, 4)\n",
        "        q, k, v = qkv[0], qkv[1], qkv[2]\n",
        "        attn = (q @ k.transpose(-2, -1)) * self.scale\n",
        "        attn = attn.softmax(dim=-1)\n",
        "        x = (attn @ v).transpose(1, 2).reshape(B, N, C)\n",
        "        return self.proj(x)"
      ]
    },
    {
      "cell_type": "code",
      "execution_count": 9,
      "metadata": {
        "id": "xvyY-FeUywyR"
      },
      "outputs": [],
      "source": [
        "class LevitMlp(nn.Module):\n",
        "    def __init__(self, in_features, hidden_features, out_features):\n",
        "        super(LevitMlp, self).__init__()\n",
        "        self.ln1 = LinearNorm(in_features, hidden_features)\n",
        "        self.act = nn.Hardswish()\n",
        "        self.drop = nn.Dropout(p=0.5, inplace=False)#dropout 적용\n",
        "        self.ln2 = LinearNorm(hidden_features, out_features)\n",
        "\n",
        "    def forward(self, x):\n",
        "        x = self.ln1(x)\n",
        "        x = self.act(x)\n",
        "        x = self.drop(x)\n",
        "        x = self.ln2(x)\n",
        "        return x"
      ]
    },
    {
      "cell_type": "code",
      "execution_count": 10,
      "metadata": {
        "id": "Ubl233osyyHQ"
      },
      "outputs": [],
      "source": [
        "class LevitBlock(nn.Module):\n",
        "    def __init__(self, dim, num_heads, mlp_ratio=2):\n",
        "        super(LevitBlock, self).__init__()\n",
        "        self.attn = Attention(dim, num_heads)\n",
        "        self.drop_path1 = nn.Identity()\n",
        "        self.mlp = LevitMlp(dim, dim * mlp_ratio, dim)\n",
        "        self.drop_path2 = nn.Identity()\n",
        "\n",
        "    def forward(self, x):\n",
        "        x = x + self.drop_path1(self.attn(x))\n",
        "        x = x + self.drop_path2(self.mlp(x))\n",
        "        return x"
      ]
    },
    {
      "cell_type": "code",
      "execution_count": 11,
      "metadata": {
        "id": "cjBHkWJYyzfc"
      },
      "outputs": [],
      "source": [
        "class CNNDownsample(nn.Module):\n",
        "    def __init__(self, in_channels, out_channels):\n",
        "        super(CNNDownsample, self).__init__()\n",
        "        self.out_channels = out_channels\n",
        "        self.conv = nn.Conv2d(in_channels, out_channels, kernel_size=3, stride=2, padding=1)\n",
        "        self.act = nn.Hardswish()\n",
        "\n",
        "    def forward(self, x):\n",
        "        # print(x.shape)\n",
        "        B, N, C = x.shape # (B, N, C)  N=H*W (16 * 16 = 196)\n",
        "        H = int(np.sqrt(N))\n",
        "        x = x.view(B, H, H, C).permute(0, 3, 1, 2)\n",
        "        x = self.conv(x)\n",
        "        x = self.act(x)\n",
        "        x = x.permute(0, 2, 3, 1).view(B, -1, self.out_channels)\n",
        "        return x"
      ]
    },
    {
      "cell_type": "code",
      "execution_count": 12,
      "metadata": {
        "id": "jNpOjwVVy1Im"
      },
      "outputs": [],
      "source": [
        "class LevitStage(nn.Module):\n",
        "    def __init__(self, dim, out_dim, num_heads, num_blocks, downsample=True):\n",
        "        super(LevitStage, self).__init__()\n",
        "        self.downsample = CNNDownsample(dim, out_dim) if downsample else nn.Identity()\n",
        "        self.blocks = nn.Sequential(*[LevitBlock(out_dim, num_heads) for _ in range(num_blocks)])\n",
        "\n",
        "    def forward(self, x):\n",
        "        x = self.downsample(x)\n",
        "        x = self.blocks(x)\n",
        "        return x"
      ]
    },
    {
      "cell_type": "code",
      "execution_count": 13,
      "metadata": {
        "id": "FyFtflRsy2QE"
      },
      "outputs": [],
      "source": [
        "class ConvLevitStage(nn.Module):\n",
        "    def __init__(self, in_channels, out_channels, num_blocks, kernel_size, stride, padding):\n",
        "        super(ConvLevitStage, self).__init__()\n",
        "        self.layers = nn.Sequential(\n",
        "            *[nn.Conv2d(in_channels if i == 0 else out_channels, out_channels, kernel_size, stride, padding)\n",
        "              for i in range(num_blocks)],\n",
        "            nn.BatchNorm2d(out_channels),\n",
        "            nn.ReLU(inplace=True)\n",
        "        )\n",
        "\n",
        "    def forward(self, x):\n",
        "        return self.layers(x)"
      ]
    },
    {
      "cell_type": "code",
      "execution_count": 14,
      "metadata": {
        "id": "yKzCWv-Ny3j9"
      },
      "outputs": [],
      "source": [
        "class NormLinear(nn.Module):\n",
        "    def __init__(self, in_features, out_features, dropout_prob=0.5):#drop_out_0.5 적용\n",
        "        super(NormLinear, self).__init__()\n",
        "        self.bn = nn.BatchNorm1d(in_features)\n",
        "        self.drop = nn.Dropout(p=dropout_prob, inplace=False)\n",
        "        self.linear = nn.Linear(in_features, out_features, bias=True)\n",
        "\n",
        "    def forward(self, x):\n",
        "        x = self.bn(x)\n",
        "        x = self.drop(x)\n",
        "        x = self.linear(x)\n",
        "        return x"
      ]
    },
    {
      "cell_type": "code",
      "execution_count": 15,
      "metadata": {
        "id": "xG1A6osfy5M-"
      },
      "outputs": [],
      "source": [
        "class LevitDistilled(nn.Module):\n",
        "    def __init__(self, num_classes=37):\n",
        "        super(LevitDistilled, self).__init__()\n",
        "\n",
        "        self.stem = Stem16()\n",
        "\n",
        "        self.stage1 = LevitStage(dim=256, out_dim=256, num_heads=4, num_blocks=2, downsample=False) # block 수 적용\n",
        "        self.stage2 = LevitStage(dim=256, out_dim=384, num_heads=6, num_blocks=2, downsample=True)\n",
        "\n",
        "        self.conv1x1 = nn.Sequential(\n",
        "            nn.Conv2d(384, 512, kernel_size=1, stride=1, padding=0),\n",
        "            nn.BatchNorm2d(512),\n",
        "            nn.ReLU(inplace=True)\n",
        "        )\n",
        "\n",
        "        self.head = NormLinear(in_features=512, out_features=num_classes, dropout_prob=0.0)\n",
        "        self.head_dist = NormLinear(in_features=512, out_features=num_classes, dropout_prob=0.0)\n",
        "\n",
        "    def forward(self, x):\n",
        "        x = self.stem(x)\n",
        "\n",
        "        B, C, H, W = x.shape\n",
        "        x = x.view(B, C, -1).transpose(1, 2)\n",
        "        x = self.stage1(x)\n",
        "        x = self.stage2(x)\n",
        "\n",
        "        H = W = int(x.shape[1]**0.5)\n",
        "        x = x.transpose(1, 2).view(B, 384, H, W)\n",
        "\n",
        "        x = self.conv1x1(x)\n",
        "\n",
        "        x = torch.mean(x, dim=(2, 3))\n",
        "        out = self.head(x)\n",
        "        out_dist = self.head_dist(x)\n",
        "        return out"
      ]
    },
    {
      "cell_type": "code",
      "execution_count": 16,
      "metadata": {
        "colab": {
          "base_uri": "https://localhost:8080/",
          "height": 176,
          "referenced_widgets": [
            "64f41879589d42c0847726d28dcc1d6a",
            "2dda75c815df491184e0beed0498a68a",
            "c317c4fb031048289d8ad6e8dc1c22e8",
            "14a39e1fa2e441bf936186d10c473986",
            "93ddc2014e314d9c97d83a3e15c3401b",
            "4beb8252155c46c9ab989acd36ff26d4",
            "3cee25d9f1724ddfad437fbe5d3c8bdc",
            "b31a1eb7235942b6a428bf791ce5dc55",
            "7d6ad2c48f25408591c0aa6ecd88e8c8",
            "7c178d3c689b498f91c55703a5b075f0",
            "420d7b12768b414d92db0320ec01a63f"
          ]
        },
        "id": "zJIKOP-1ZpJ3",
        "outputId": "aeeaf737-6f58-4a75-cc12-2ff9b18fc6b8"
      },
      "outputs": [
        {
          "output_type": "stream",
          "name": "stderr",
          "text": [
            "/usr/local/lib/python3.10/dist-packages/huggingface_hub/utils/_auth.py:94: UserWarning: \n",
            "The secret `HF_TOKEN` does not exist in your Colab secrets.\n",
            "To authenticate with the Hugging Face Hub, create a token in your settings tab (https://huggingface.co/settings/tokens), set it as secret in your Google Colab and restart your session.\n",
            "You will be able to reuse this secret in all of your notebooks.\n",
            "Please note that authentication is recommended but still optional to access public models or datasets.\n",
            "  warnings.warn(\n"
          ]
        },
        {
          "output_type": "display_data",
          "data": {
            "text/plain": [
              "model.safetensors:   0%|          | 0.00/102M [00:00<?, ?B/s]"
            ],
            "application/vnd.jupyter.widget-view+json": {
              "version_major": 2,
              "version_minor": 0,
              "model_id": "64f41879589d42c0847726d28dcc1d6a"
            }
          },
          "metadata": {}
        }
      ],
      "source": [
        "ResNet50 = timm.create_model('resnet50', pretrained=True)"
      ]
    },
    {
      "cell_type": "code",
      "execution_count": 17,
      "metadata": {
        "colab": {
          "base_uri": "https://localhost:8080/"
        },
        "id": "0EPzY5BEZpJ3",
        "outputId": "7497b371-a8ff-46e6-a447-495f1248031d"
      },
      "outputs": [
        {
          "output_type": "stream",
          "name": "stdout",
          "text": [
            "==========================================================================================\n",
            "Layer (type:depth-idx)                   Output Shape              Param #\n",
            "==========================================================================================\n",
            "ResNet                                   [32, 1000]                --\n",
            "├─Conv2d: 1-1                            [32, 64, 112, 112]        9,408\n",
            "├─BatchNorm2d: 1-2                       [32, 64, 112, 112]        128\n",
            "├─ReLU: 1-3                              [32, 64, 112, 112]        --\n",
            "├─MaxPool2d: 1-4                         [32, 64, 56, 56]          --\n",
            "├─Sequential: 1-5                        [32, 256, 56, 56]         --\n",
            "│    └─Bottleneck: 2-1                   [32, 256, 56, 56]         --\n",
            "│    │    └─Conv2d: 3-1                  [32, 64, 56, 56]          4,096\n",
            "│    │    └─BatchNorm2d: 3-2             [32, 64, 56, 56]          128\n",
            "│    │    └─ReLU: 3-3                    [32, 64, 56, 56]          --\n",
            "│    │    └─Conv2d: 3-4                  [32, 64, 56, 56]          36,864\n",
            "│    │    └─BatchNorm2d: 3-5             [32, 64, 56, 56]          128\n",
            "│    │    └─Identity: 3-6                [32, 64, 56, 56]          --\n",
            "│    │    └─ReLU: 3-7                    [32, 64, 56, 56]          --\n",
            "│    │    └─Identity: 3-8                [32, 64, 56, 56]          --\n",
            "│    │    └─Conv2d: 3-9                  [32, 256, 56, 56]         16,384\n",
            "│    │    └─BatchNorm2d: 3-10            [32, 256, 56, 56]         512\n",
            "│    │    └─Sequential: 3-11             [32, 256, 56, 56]         16,896\n",
            "│    │    └─ReLU: 3-12                   [32, 256, 56, 56]         --\n",
            "│    └─Bottleneck: 2-2                   [32, 256, 56, 56]         --\n",
            "│    │    └─Conv2d: 3-13                 [32, 64, 56, 56]          16,384\n",
            "│    │    └─BatchNorm2d: 3-14            [32, 64, 56, 56]          128\n",
            "│    │    └─ReLU: 3-15                   [32, 64, 56, 56]          --\n",
            "│    │    └─Conv2d: 3-16                 [32, 64, 56, 56]          36,864\n",
            "│    │    └─BatchNorm2d: 3-17            [32, 64, 56, 56]          128\n",
            "│    │    └─Identity: 3-18               [32, 64, 56, 56]          --\n",
            "│    │    └─ReLU: 3-19                   [32, 64, 56, 56]          --\n",
            "│    │    └─Identity: 3-20               [32, 64, 56, 56]          --\n",
            "│    │    └─Conv2d: 3-21                 [32, 256, 56, 56]         16,384\n",
            "│    │    └─BatchNorm2d: 3-22            [32, 256, 56, 56]         512\n",
            "│    │    └─ReLU: 3-23                   [32, 256, 56, 56]         --\n",
            "│    └─Bottleneck: 2-3                   [32, 256, 56, 56]         --\n",
            "│    │    └─Conv2d: 3-24                 [32, 64, 56, 56]          16,384\n",
            "│    │    └─BatchNorm2d: 3-25            [32, 64, 56, 56]          128\n",
            "│    │    └─ReLU: 3-26                   [32, 64, 56, 56]          --\n",
            "│    │    └─Conv2d: 3-27                 [32, 64, 56, 56]          36,864\n",
            "│    │    └─BatchNorm2d: 3-28            [32, 64, 56, 56]          128\n",
            "│    │    └─Identity: 3-29               [32, 64, 56, 56]          --\n",
            "│    │    └─ReLU: 3-30                   [32, 64, 56, 56]          --\n",
            "│    │    └─Identity: 3-31               [32, 64, 56, 56]          --\n",
            "│    │    └─Conv2d: 3-32                 [32, 256, 56, 56]         16,384\n",
            "│    │    └─BatchNorm2d: 3-33            [32, 256, 56, 56]         512\n",
            "│    │    └─ReLU: 3-34                   [32, 256, 56, 56]         --\n",
            "├─Sequential: 1-6                        [32, 512, 28, 28]         --\n",
            "│    └─Bottleneck: 2-4                   [32, 512, 28, 28]         --\n",
            "│    │    └─Conv2d: 3-35                 [32, 128, 56, 56]         32,768\n",
            "│    │    └─BatchNorm2d: 3-36            [32, 128, 56, 56]         256\n",
            "│    │    └─ReLU: 3-37                   [32, 128, 56, 56]         --\n",
            "│    │    └─Conv2d: 3-38                 [32, 128, 28, 28]         147,456\n",
            "│    │    └─BatchNorm2d: 3-39            [32, 128, 28, 28]         256\n",
            "│    │    └─Identity: 3-40               [32, 128, 28, 28]         --\n",
            "│    │    └─ReLU: 3-41                   [32, 128, 28, 28]         --\n",
            "│    │    └─Identity: 3-42               [32, 128, 28, 28]         --\n",
            "│    │    └─Conv2d: 3-43                 [32, 512, 28, 28]         65,536\n",
            "│    │    └─BatchNorm2d: 3-44            [32, 512, 28, 28]         1,024\n",
            "│    │    └─Sequential: 3-45             [32, 512, 28, 28]         132,096\n",
            "│    │    └─ReLU: 3-46                   [32, 512, 28, 28]         --\n",
            "│    └─Bottleneck: 2-5                   [32, 512, 28, 28]         --\n",
            "│    │    └─Conv2d: 3-47                 [32, 128, 28, 28]         65,536\n",
            "│    │    └─BatchNorm2d: 3-48            [32, 128, 28, 28]         256\n",
            "│    │    └─ReLU: 3-49                   [32, 128, 28, 28]         --\n",
            "│    │    └─Conv2d: 3-50                 [32, 128, 28, 28]         147,456\n",
            "│    │    └─BatchNorm2d: 3-51            [32, 128, 28, 28]         256\n",
            "│    │    └─Identity: 3-52               [32, 128, 28, 28]         --\n",
            "│    │    └─ReLU: 3-53                   [32, 128, 28, 28]         --\n",
            "│    │    └─Identity: 3-54               [32, 128, 28, 28]         --\n",
            "│    │    └─Conv2d: 3-55                 [32, 512, 28, 28]         65,536\n",
            "│    │    └─BatchNorm2d: 3-56            [32, 512, 28, 28]         1,024\n",
            "│    │    └─ReLU: 3-57                   [32, 512, 28, 28]         --\n",
            "│    └─Bottleneck: 2-6                   [32, 512, 28, 28]         --\n",
            "│    │    └─Conv2d: 3-58                 [32, 128, 28, 28]         65,536\n",
            "│    │    └─BatchNorm2d: 3-59            [32, 128, 28, 28]         256\n",
            "│    │    └─ReLU: 3-60                   [32, 128, 28, 28]         --\n",
            "│    │    └─Conv2d: 3-61                 [32, 128, 28, 28]         147,456\n",
            "│    │    └─BatchNorm2d: 3-62            [32, 128, 28, 28]         256\n",
            "│    │    └─Identity: 3-63               [32, 128, 28, 28]         --\n",
            "│    │    └─ReLU: 3-64                   [32, 128, 28, 28]         --\n",
            "│    │    └─Identity: 3-65               [32, 128, 28, 28]         --\n",
            "│    │    └─Conv2d: 3-66                 [32, 512, 28, 28]         65,536\n",
            "│    │    └─BatchNorm2d: 3-67            [32, 512, 28, 28]         1,024\n",
            "│    │    └─ReLU: 3-68                   [32, 512, 28, 28]         --\n",
            "│    └─Bottleneck: 2-7                   [32, 512, 28, 28]         --\n",
            "│    │    └─Conv2d: 3-69                 [32, 128, 28, 28]         65,536\n",
            "│    │    └─BatchNorm2d: 3-70            [32, 128, 28, 28]         256\n",
            "│    │    └─ReLU: 3-71                   [32, 128, 28, 28]         --\n",
            "│    │    └─Conv2d: 3-72                 [32, 128, 28, 28]         147,456\n",
            "│    │    └─BatchNorm2d: 3-73            [32, 128, 28, 28]         256\n",
            "│    │    └─Identity: 3-74               [32, 128, 28, 28]         --\n",
            "│    │    └─ReLU: 3-75                   [32, 128, 28, 28]         --\n",
            "│    │    └─Identity: 3-76               [32, 128, 28, 28]         --\n",
            "│    │    └─Conv2d: 3-77                 [32, 512, 28, 28]         65,536\n",
            "│    │    └─BatchNorm2d: 3-78            [32, 512, 28, 28]         1,024\n",
            "│    │    └─ReLU: 3-79                   [32, 512, 28, 28]         --\n",
            "├─Sequential: 1-7                        [32, 1024, 14, 14]        --\n",
            "│    └─Bottleneck: 2-8                   [32, 1024, 14, 14]        --\n",
            "│    │    └─Conv2d: 3-80                 [32, 256, 28, 28]         131,072\n",
            "│    │    └─BatchNorm2d: 3-81            [32, 256, 28, 28]         512\n",
            "│    │    └─ReLU: 3-82                   [32, 256, 28, 28]         --\n",
            "│    │    └─Conv2d: 3-83                 [32, 256, 14, 14]         589,824\n",
            "│    │    └─BatchNorm2d: 3-84            [32, 256, 14, 14]         512\n",
            "│    │    └─Identity: 3-85               [32, 256, 14, 14]         --\n",
            "│    │    └─ReLU: 3-86                   [32, 256, 14, 14]         --\n",
            "│    │    └─Identity: 3-87               [32, 256, 14, 14]         --\n",
            "│    │    └─Conv2d: 3-88                 [32, 1024, 14, 14]        262,144\n",
            "│    │    └─BatchNorm2d: 3-89            [32, 1024, 14, 14]        2,048\n",
            "│    │    └─Sequential: 3-90             [32, 1024, 14, 14]        526,336\n",
            "│    │    └─ReLU: 3-91                   [32, 1024, 14, 14]        --\n",
            "│    └─Bottleneck: 2-9                   [32, 1024, 14, 14]        --\n",
            "│    │    └─Conv2d: 3-92                 [32, 256, 14, 14]         262,144\n",
            "│    │    └─BatchNorm2d: 3-93            [32, 256, 14, 14]         512\n",
            "│    │    └─ReLU: 3-94                   [32, 256, 14, 14]         --\n",
            "│    │    └─Conv2d: 3-95                 [32, 256, 14, 14]         589,824\n",
            "│    │    └─BatchNorm2d: 3-96            [32, 256, 14, 14]         512\n",
            "│    │    └─Identity: 3-97               [32, 256, 14, 14]         --\n",
            "│    │    └─ReLU: 3-98                   [32, 256, 14, 14]         --\n",
            "│    │    └─Identity: 3-99               [32, 256, 14, 14]         --\n",
            "│    │    └─Conv2d: 3-100                [32, 1024, 14, 14]        262,144\n",
            "│    │    └─BatchNorm2d: 3-101           [32, 1024, 14, 14]        2,048\n",
            "│    │    └─ReLU: 3-102                  [32, 1024, 14, 14]        --\n",
            "│    └─Bottleneck: 2-10                  [32, 1024, 14, 14]        --\n",
            "│    │    └─Conv2d: 3-103                [32, 256, 14, 14]         262,144\n",
            "│    │    └─BatchNorm2d: 3-104           [32, 256, 14, 14]         512\n",
            "│    │    └─ReLU: 3-105                  [32, 256, 14, 14]         --\n",
            "│    │    └─Conv2d: 3-106                [32, 256, 14, 14]         589,824\n",
            "│    │    └─BatchNorm2d: 3-107           [32, 256, 14, 14]         512\n",
            "│    │    └─Identity: 3-108              [32, 256, 14, 14]         --\n",
            "│    │    └─ReLU: 3-109                  [32, 256, 14, 14]         --\n",
            "│    │    └─Identity: 3-110              [32, 256, 14, 14]         --\n",
            "│    │    └─Conv2d: 3-111                [32, 1024, 14, 14]        262,144\n",
            "│    │    └─BatchNorm2d: 3-112           [32, 1024, 14, 14]        2,048\n",
            "│    │    └─ReLU: 3-113                  [32, 1024, 14, 14]        --\n",
            "│    └─Bottleneck: 2-11                  [32, 1024, 14, 14]        --\n",
            "│    │    └─Conv2d: 3-114                [32, 256, 14, 14]         262,144\n",
            "│    │    └─BatchNorm2d: 3-115           [32, 256, 14, 14]         512\n",
            "│    │    └─ReLU: 3-116                  [32, 256, 14, 14]         --\n",
            "│    │    └─Conv2d: 3-117                [32, 256, 14, 14]         589,824\n",
            "│    │    └─BatchNorm2d: 3-118           [32, 256, 14, 14]         512\n",
            "│    │    └─Identity: 3-119              [32, 256, 14, 14]         --\n",
            "│    │    └─ReLU: 3-120                  [32, 256, 14, 14]         --\n",
            "│    │    └─Identity: 3-121              [32, 256, 14, 14]         --\n",
            "│    │    └─Conv2d: 3-122                [32, 1024, 14, 14]        262,144\n",
            "│    │    └─BatchNorm2d: 3-123           [32, 1024, 14, 14]        2,048\n",
            "│    │    └─ReLU: 3-124                  [32, 1024, 14, 14]        --\n",
            "│    └─Bottleneck: 2-12                  [32, 1024, 14, 14]        --\n",
            "│    │    └─Conv2d: 3-125                [32, 256, 14, 14]         262,144\n",
            "│    │    └─BatchNorm2d: 3-126           [32, 256, 14, 14]         512\n",
            "│    │    └─ReLU: 3-127                  [32, 256, 14, 14]         --\n",
            "│    │    └─Conv2d: 3-128                [32, 256, 14, 14]         589,824\n",
            "│    │    └─BatchNorm2d: 3-129           [32, 256, 14, 14]         512\n",
            "│    │    └─Identity: 3-130              [32, 256, 14, 14]         --\n",
            "│    │    └─ReLU: 3-131                  [32, 256, 14, 14]         --\n",
            "│    │    └─Identity: 3-132              [32, 256, 14, 14]         --\n",
            "│    │    └─Conv2d: 3-133                [32, 1024, 14, 14]        262,144\n",
            "│    │    └─BatchNorm2d: 3-134           [32, 1024, 14, 14]        2,048\n",
            "│    │    └─ReLU: 3-135                  [32, 1024, 14, 14]        --\n",
            "│    └─Bottleneck: 2-13                  [32, 1024, 14, 14]        --\n",
            "│    │    └─Conv2d: 3-136                [32, 256, 14, 14]         262,144\n",
            "│    │    └─BatchNorm2d: 3-137           [32, 256, 14, 14]         512\n",
            "│    │    └─ReLU: 3-138                  [32, 256, 14, 14]         --\n",
            "│    │    └─Conv2d: 3-139                [32, 256, 14, 14]         589,824\n",
            "│    │    └─BatchNorm2d: 3-140           [32, 256, 14, 14]         512\n",
            "│    │    └─Identity: 3-141              [32, 256, 14, 14]         --\n",
            "│    │    └─ReLU: 3-142                  [32, 256, 14, 14]         --\n",
            "│    │    └─Identity: 3-143              [32, 256, 14, 14]         --\n",
            "│    │    └─Conv2d: 3-144                [32, 1024, 14, 14]        262,144\n",
            "│    │    └─BatchNorm2d: 3-145           [32, 1024, 14, 14]        2,048\n",
            "│    │    └─ReLU: 3-146                  [32, 1024, 14, 14]        --\n",
            "├─Sequential: 1-8                        [32, 2048, 7, 7]          --\n",
            "│    └─Bottleneck: 2-14                  [32, 2048, 7, 7]          --\n",
            "│    │    └─Conv2d: 3-147                [32, 512, 14, 14]         524,288\n",
            "│    │    └─BatchNorm2d: 3-148           [32, 512, 14, 14]         1,024\n",
            "│    │    └─ReLU: 3-149                  [32, 512, 14, 14]         --\n",
            "│    │    └─Conv2d: 3-150                [32, 512, 7, 7]           2,359,296\n",
            "│    │    └─BatchNorm2d: 3-151           [32, 512, 7, 7]           1,024\n",
            "│    │    └─Identity: 3-152              [32, 512, 7, 7]           --\n",
            "│    │    └─ReLU: 3-153                  [32, 512, 7, 7]           --\n",
            "│    │    └─Identity: 3-154              [32, 512, 7, 7]           --\n",
            "│    │    └─Conv2d: 3-155                [32, 2048, 7, 7]          1,048,576\n",
            "│    │    └─BatchNorm2d: 3-156           [32, 2048, 7, 7]          4,096\n",
            "│    │    └─Sequential: 3-157            [32, 2048, 7, 7]          2,101,248\n",
            "│    │    └─ReLU: 3-158                  [32, 2048, 7, 7]          --\n",
            "│    └─Bottleneck: 2-15                  [32, 2048, 7, 7]          --\n",
            "│    │    └─Conv2d: 3-159                [32, 512, 7, 7]           1,048,576\n",
            "│    │    └─BatchNorm2d: 3-160           [32, 512, 7, 7]           1,024\n",
            "│    │    └─ReLU: 3-161                  [32, 512, 7, 7]           --\n",
            "│    │    └─Conv2d: 3-162                [32, 512, 7, 7]           2,359,296\n",
            "│    │    └─BatchNorm2d: 3-163           [32, 512, 7, 7]           1,024\n",
            "│    │    └─Identity: 3-164              [32, 512, 7, 7]           --\n",
            "│    │    └─ReLU: 3-165                  [32, 512, 7, 7]           --\n",
            "│    │    └─Identity: 3-166              [32, 512, 7, 7]           --\n",
            "│    │    └─Conv2d: 3-167                [32, 2048, 7, 7]          1,048,576\n",
            "│    │    └─BatchNorm2d: 3-168           [32, 2048, 7, 7]          4,096\n",
            "│    │    └─ReLU: 3-169                  [32, 2048, 7, 7]          --\n",
            "│    └─Bottleneck: 2-16                  [32, 2048, 7, 7]          --\n",
            "│    │    └─Conv2d: 3-170                [32, 512, 7, 7]           1,048,576\n",
            "│    │    └─BatchNorm2d: 3-171           [32, 512, 7, 7]           1,024\n",
            "│    │    └─ReLU: 3-172                  [32, 512, 7, 7]           --\n",
            "│    │    └─Conv2d: 3-173                [32, 512, 7, 7]           2,359,296\n",
            "│    │    └─BatchNorm2d: 3-174           [32, 512, 7, 7]           1,024\n",
            "│    │    └─Identity: 3-175              [32, 512, 7, 7]           --\n",
            "│    │    └─ReLU: 3-176                  [32, 512, 7, 7]           --\n",
            "│    │    └─Identity: 3-177              [32, 512, 7, 7]           --\n",
            "│    │    └─Conv2d: 3-178                [32, 2048, 7, 7]          1,048,576\n",
            "│    │    └─BatchNorm2d: 3-179           [32, 2048, 7, 7]          4,096\n",
            "│    │    └─ReLU: 3-180                  [32, 2048, 7, 7]          --\n",
            "├─SelectAdaptivePool2d: 1-9              [32, 2048]                --\n",
            "│    └─AdaptiveAvgPool2d: 2-17           [32, 2048, 1, 1]          --\n",
            "│    └─Flatten: 2-18                     [32, 2048]                --\n",
            "├─Linear: 1-10                           [32, 1000]                2,049,000\n",
            "==========================================================================================\n",
            "Total params: 25,557,032\n",
            "Trainable params: 25,557,032\n",
            "Non-trainable params: 0\n",
            "Total mult-adds (G): 130.86\n",
            "==========================================================================================\n",
            "Input size (MB): 19.27\n",
            "Forward/backward pass size (MB): 5690.62\n",
            "Params size (MB): 102.23\n",
            "Estimated Total Size (MB): 5812.11\n",
            "==========================================================================================\n"
          ]
        }
      ],
      "source": [
        "print(summary(ResNet50, input_size=(32, 3, 224, 224)))"
      ]
    },
    {
      "cell_type": "code",
      "execution_count": 18,
      "metadata": {
        "id": "3UWFZmNGZpJ4"
      },
      "outputs": [],
      "source": [
        "for param in ResNet50.parameters():\n",
        "    param.requires_grad = False\n",
        "\n",
        "ResNet50.fc = nn.Identity()"
      ]
    },
    {
      "cell_type": "code",
      "execution_count": 19,
      "metadata": {
        "id": "Yb94SFrVZpJ4"
      },
      "outputs": [],
      "source": [
        "class LauncherModel(nn.Module):\n",
        "    def __init__(self):\n",
        "        super().__init__()\n",
        "        self.resnet = ResNet50\n",
        "        # self.fc = nn.Linear(2048, 3 * 56 * 56)\n",
        "\n",
        "        # self.upsample = nn.ConvTranspose2d(3, 3, kernel_size=4, stride=4, padding=0)\n",
        "\n",
        "        self.upsample1 = nn.ConvTranspose2d(32, 16, kernel_size=4, stride=2, padding=1)\n",
        "        self.upsample2 = nn.ConvTranspose2d(16, 8, kernel_size=4, stride=2, padding=1)\n",
        "        self.upsample3 = nn.ConvTranspose2d(8, 3, kernel_size=4, stride=4, padding=0)\n",
        "\n",
        "        self.levit = LevitDistilled()\n",
        "\n",
        "    def forward(self, x):\n",
        "        x = self.resnet(x)  # (32, 2048)\n",
        "        # x = self.fc(x)  # (32, 9408)\n",
        "        # x = x.view(x.size(0), 3, 56, 56)  # (32, 3, 56, 56)\n",
        "        x = x.view(x.size(0), 32, 8, 8)\n",
        "        x = self.upsample1(x)\n",
        "        x = self.upsample2(x)\n",
        "        x = self.upsample3(x)\n",
        "        # x = self.upsample(x)  # (32, 3, 224, 224)\n",
        "        x = self.levit(x)\n",
        "        return x"
      ]
    },
    {
      "cell_type": "code",
      "execution_count": 20,
      "metadata": {
        "colab": {
          "base_uri": "https://localhost:8080/"
        },
        "collapsed": true,
        "id": "lbCq25bWzJSQ",
        "outputId": "a13651cb-492a-4b8e-be18-ae9b541d32a4"
      },
      "outputs": [
        {
          "output_type": "stream",
          "name": "stdout",
          "text": [
            "LauncherModel(\n",
            "  (resnet): ResNet(\n",
            "    (conv1): Conv2d(3, 64, kernel_size=(7, 7), stride=(2, 2), padding=(3, 3), bias=False)\n",
            "    (bn1): BatchNorm2d(64, eps=1e-05, momentum=0.1, affine=True, track_running_stats=True)\n",
            "    (act1): ReLU(inplace=True)\n",
            "    (maxpool): MaxPool2d(kernel_size=3, stride=2, padding=1, dilation=1, ceil_mode=False)\n",
            "    (layer1): Sequential(\n",
            "      (0): Bottleneck(\n",
            "        (conv1): Conv2d(64, 64, kernel_size=(1, 1), stride=(1, 1), bias=False)\n",
            "        (bn1): BatchNorm2d(64, eps=1e-05, momentum=0.1, affine=True, track_running_stats=True)\n",
            "        (act1): ReLU(inplace=True)\n",
            "        (conv2): Conv2d(64, 64, kernel_size=(3, 3), stride=(1, 1), padding=(1, 1), bias=False)\n",
            "        (bn2): BatchNorm2d(64, eps=1e-05, momentum=0.1, affine=True, track_running_stats=True)\n",
            "        (drop_block): Identity()\n",
            "        (act2): ReLU(inplace=True)\n",
            "        (aa): Identity()\n",
            "        (conv3): Conv2d(64, 256, kernel_size=(1, 1), stride=(1, 1), bias=False)\n",
            "        (bn3): BatchNorm2d(256, eps=1e-05, momentum=0.1, affine=True, track_running_stats=True)\n",
            "        (act3): ReLU(inplace=True)\n",
            "        (downsample): Sequential(\n",
            "          (0): Conv2d(64, 256, kernel_size=(1, 1), stride=(1, 1), bias=False)\n",
            "          (1): BatchNorm2d(256, eps=1e-05, momentum=0.1, affine=True, track_running_stats=True)\n",
            "        )\n",
            "      )\n",
            "      (1): Bottleneck(\n",
            "        (conv1): Conv2d(256, 64, kernel_size=(1, 1), stride=(1, 1), bias=False)\n",
            "        (bn1): BatchNorm2d(64, eps=1e-05, momentum=0.1, affine=True, track_running_stats=True)\n",
            "        (act1): ReLU(inplace=True)\n",
            "        (conv2): Conv2d(64, 64, kernel_size=(3, 3), stride=(1, 1), padding=(1, 1), bias=False)\n",
            "        (bn2): BatchNorm2d(64, eps=1e-05, momentum=0.1, affine=True, track_running_stats=True)\n",
            "        (drop_block): Identity()\n",
            "        (act2): ReLU(inplace=True)\n",
            "        (aa): Identity()\n",
            "        (conv3): Conv2d(64, 256, kernel_size=(1, 1), stride=(1, 1), bias=False)\n",
            "        (bn3): BatchNorm2d(256, eps=1e-05, momentum=0.1, affine=True, track_running_stats=True)\n",
            "        (act3): ReLU(inplace=True)\n",
            "      )\n",
            "      (2): Bottleneck(\n",
            "        (conv1): Conv2d(256, 64, kernel_size=(1, 1), stride=(1, 1), bias=False)\n",
            "        (bn1): BatchNorm2d(64, eps=1e-05, momentum=0.1, affine=True, track_running_stats=True)\n",
            "        (act1): ReLU(inplace=True)\n",
            "        (conv2): Conv2d(64, 64, kernel_size=(3, 3), stride=(1, 1), padding=(1, 1), bias=False)\n",
            "        (bn2): BatchNorm2d(64, eps=1e-05, momentum=0.1, affine=True, track_running_stats=True)\n",
            "        (drop_block): Identity()\n",
            "        (act2): ReLU(inplace=True)\n",
            "        (aa): Identity()\n",
            "        (conv3): Conv2d(64, 256, kernel_size=(1, 1), stride=(1, 1), bias=False)\n",
            "        (bn3): BatchNorm2d(256, eps=1e-05, momentum=0.1, affine=True, track_running_stats=True)\n",
            "        (act3): ReLU(inplace=True)\n",
            "      )\n",
            "    )\n",
            "    (layer2): Sequential(\n",
            "      (0): Bottleneck(\n",
            "        (conv1): Conv2d(256, 128, kernel_size=(1, 1), stride=(1, 1), bias=False)\n",
            "        (bn1): BatchNorm2d(128, eps=1e-05, momentum=0.1, affine=True, track_running_stats=True)\n",
            "        (act1): ReLU(inplace=True)\n",
            "        (conv2): Conv2d(128, 128, kernel_size=(3, 3), stride=(2, 2), padding=(1, 1), bias=False)\n",
            "        (bn2): BatchNorm2d(128, eps=1e-05, momentum=0.1, affine=True, track_running_stats=True)\n",
            "        (drop_block): Identity()\n",
            "        (act2): ReLU(inplace=True)\n",
            "        (aa): Identity()\n",
            "        (conv3): Conv2d(128, 512, kernel_size=(1, 1), stride=(1, 1), bias=False)\n",
            "        (bn3): BatchNorm2d(512, eps=1e-05, momentum=0.1, affine=True, track_running_stats=True)\n",
            "        (act3): ReLU(inplace=True)\n",
            "        (downsample): Sequential(\n",
            "          (0): Conv2d(256, 512, kernel_size=(1, 1), stride=(2, 2), bias=False)\n",
            "          (1): BatchNorm2d(512, eps=1e-05, momentum=0.1, affine=True, track_running_stats=True)\n",
            "        )\n",
            "      )\n",
            "      (1): Bottleneck(\n",
            "        (conv1): Conv2d(512, 128, kernel_size=(1, 1), stride=(1, 1), bias=False)\n",
            "        (bn1): BatchNorm2d(128, eps=1e-05, momentum=0.1, affine=True, track_running_stats=True)\n",
            "        (act1): ReLU(inplace=True)\n",
            "        (conv2): Conv2d(128, 128, kernel_size=(3, 3), stride=(1, 1), padding=(1, 1), bias=False)\n",
            "        (bn2): BatchNorm2d(128, eps=1e-05, momentum=0.1, affine=True, track_running_stats=True)\n",
            "        (drop_block): Identity()\n",
            "        (act2): ReLU(inplace=True)\n",
            "        (aa): Identity()\n",
            "        (conv3): Conv2d(128, 512, kernel_size=(1, 1), stride=(1, 1), bias=False)\n",
            "        (bn3): BatchNorm2d(512, eps=1e-05, momentum=0.1, affine=True, track_running_stats=True)\n",
            "        (act3): ReLU(inplace=True)\n",
            "      )\n",
            "      (2): Bottleneck(\n",
            "        (conv1): Conv2d(512, 128, kernel_size=(1, 1), stride=(1, 1), bias=False)\n",
            "        (bn1): BatchNorm2d(128, eps=1e-05, momentum=0.1, affine=True, track_running_stats=True)\n",
            "        (act1): ReLU(inplace=True)\n",
            "        (conv2): Conv2d(128, 128, kernel_size=(3, 3), stride=(1, 1), padding=(1, 1), bias=False)\n",
            "        (bn2): BatchNorm2d(128, eps=1e-05, momentum=0.1, affine=True, track_running_stats=True)\n",
            "        (drop_block): Identity()\n",
            "        (act2): ReLU(inplace=True)\n",
            "        (aa): Identity()\n",
            "        (conv3): Conv2d(128, 512, kernel_size=(1, 1), stride=(1, 1), bias=False)\n",
            "        (bn3): BatchNorm2d(512, eps=1e-05, momentum=0.1, affine=True, track_running_stats=True)\n",
            "        (act3): ReLU(inplace=True)\n",
            "      )\n",
            "      (3): Bottleneck(\n",
            "        (conv1): Conv2d(512, 128, kernel_size=(1, 1), stride=(1, 1), bias=False)\n",
            "        (bn1): BatchNorm2d(128, eps=1e-05, momentum=0.1, affine=True, track_running_stats=True)\n",
            "        (act1): ReLU(inplace=True)\n",
            "        (conv2): Conv2d(128, 128, kernel_size=(3, 3), stride=(1, 1), padding=(1, 1), bias=False)\n",
            "        (bn2): BatchNorm2d(128, eps=1e-05, momentum=0.1, affine=True, track_running_stats=True)\n",
            "        (drop_block): Identity()\n",
            "        (act2): ReLU(inplace=True)\n",
            "        (aa): Identity()\n",
            "        (conv3): Conv2d(128, 512, kernel_size=(1, 1), stride=(1, 1), bias=False)\n",
            "        (bn3): BatchNorm2d(512, eps=1e-05, momentum=0.1, affine=True, track_running_stats=True)\n",
            "        (act3): ReLU(inplace=True)\n",
            "      )\n",
            "    )\n",
            "    (layer3): Sequential(\n",
            "      (0): Bottleneck(\n",
            "        (conv1): Conv2d(512, 256, kernel_size=(1, 1), stride=(1, 1), bias=False)\n",
            "        (bn1): BatchNorm2d(256, eps=1e-05, momentum=0.1, affine=True, track_running_stats=True)\n",
            "        (act1): ReLU(inplace=True)\n",
            "        (conv2): Conv2d(256, 256, kernel_size=(3, 3), stride=(2, 2), padding=(1, 1), bias=False)\n",
            "        (bn2): BatchNorm2d(256, eps=1e-05, momentum=0.1, affine=True, track_running_stats=True)\n",
            "        (drop_block): Identity()\n",
            "        (act2): ReLU(inplace=True)\n",
            "        (aa): Identity()\n",
            "        (conv3): Conv2d(256, 1024, kernel_size=(1, 1), stride=(1, 1), bias=False)\n",
            "        (bn3): BatchNorm2d(1024, eps=1e-05, momentum=0.1, affine=True, track_running_stats=True)\n",
            "        (act3): ReLU(inplace=True)\n",
            "        (downsample): Sequential(\n",
            "          (0): Conv2d(512, 1024, kernel_size=(1, 1), stride=(2, 2), bias=False)\n",
            "          (1): BatchNorm2d(1024, eps=1e-05, momentum=0.1, affine=True, track_running_stats=True)\n",
            "        )\n",
            "      )\n",
            "      (1): Bottleneck(\n",
            "        (conv1): Conv2d(1024, 256, kernel_size=(1, 1), stride=(1, 1), bias=False)\n",
            "        (bn1): BatchNorm2d(256, eps=1e-05, momentum=0.1, affine=True, track_running_stats=True)\n",
            "        (act1): ReLU(inplace=True)\n",
            "        (conv2): Conv2d(256, 256, kernel_size=(3, 3), stride=(1, 1), padding=(1, 1), bias=False)\n",
            "        (bn2): BatchNorm2d(256, eps=1e-05, momentum=0.1, affine=True, track_running_stats=True)\n",
            "        (drop_block): Identity()\n",
            "        (act2): ReLU(inplace=True)\n",
            "        (aa): Identity()\n",
            "        (conv3): Conv2d(256, 1024, kernel_size=(1, 1), stride=(1, 1), bias=False)\n",
            "        (bn3): BatchNorm2d(1024, eps=1e-05, momentum=0.1, affine=True, track_running_stats=True)\n",
            "        (act3): ReLU(inplace=True)\n",
            "      )\n",
            "      (2): Bottleneck(\n",
            "        (conv1): Conv2d(1024, 256, kernel_size=(1, 1), stride=(1, 1), bias=False)\n",
            "        (bn1): BatchNorm2d(256, eps=1e-05, momentum=0.1, affine=True, track_running_stats=True)\n",
            "        (act1): ReLU(inplace=True)\n",
            "        (conv2): Conv2d(256, 256, kernel_size=(3, 3), stride=(1, 1), padding=(1, 1), bias=False)\n",
            "        (bn2): BatchNorm2d(256, eps=1e-05, momentum=0.1, affine=True, track_running_stats=True)\n",
            "        (drop_block): Identity()\n",
            "        (act2): ReLU(inplace=True)\n",
            "        (aa): Identity()\n",
            "        (conv3): Conv2d(256, 1024, kernel_size=(1, 1), stride=(1, 1), bias=False)\n",
            "        (bn3): BatchNorm2d(1024, eps=1e-05, momentum=0.1, affine=True, track_running_stats=True)\n",
            "        (act3): ReLU(inplace=True)\n",
            "      )\n",
            "      (3): Bottleneck(\n",
            "        (conv1): Conv2d(1024, 256, kernel_size=(1, 1), stride=(1, 1), bias=False)\n",
            "        (bn1): BatchNorm2d(256, eps=1e-05, momentum=0.1, affine=True, track_running_stats=True)\n",
            "        (act1): ReLU(inplace=True)\n",
            "        (conv2): Conv2d(256, 256, kernel_size=(3, 3), stride=(1, 1), padding=(1, 1), bias=False)\n",
            "        (bn2): BatchNorm2d(256, eps=1e-05, momentum=0.1, affine=True, track_running_stats=True)\n",
            "        (drop_block): Identity()\n",
            "        (act2): ReLU(inplace=True)\n",
            "        (aa): Identity()\n",
            "        (conv3): Conv2d(256, 1024, kernel_size=(1, 1), stride=(1, 1), bias=False)\n",
            "        (bn3): BatchNorm2d(1024, eps=1e-05, momentum=0.1, affine=True, track_running_stats=True)\n",
            "        (act3): ReLU(inplace=True)\n",
            "      )\n",
            "      (4): Bottleneck(\n",
            "        (conv1): Conv2d(1024, 256, kernel_size=(1, 1), stride=(1, 1), bias=False)\n",
            "        (bn1): BatchNorm2d(256, eps=1e-05, momentum=0.1, affine=True, track_running_stats=True)\n",
            "        (act1): ReLU(inplace=True)\n",
            "        (conv2): Conv2d(256, 256, kernel_size=(3, 3), stride=(1, 1), padding=(1, 1), bias=False)\n",
            "        (bn2): BatchNorm2d(256, eps=1e-05, momentum=0.1, affine=True, track_running_stats=True)\n",
            "        (drop_block): Identity()\n",
            "        (act2): ReLU(inplace=True)\n",
            "        (aa): Identity()\n",
            "        (conv3): Conv2d(256, 1024, kernel_size=(1, 1), stride=(1, 1), bias=False)\n",
            "        (bn3): BatchNorm2d(1024, eps=1e-05, momentum=0.1, affine=True, track_running_stats=True)\n",
            "        (act3): ReLU(inplace=True)\n",
            "      )\n",
            "      (5): Bottleneck(\n",
            "        (conv1): Conv2d(1024, 256, kernel_size=(1, 1), stride=(1, 1), bias=False)\n",
            "        (bn1): BatchNorm2d(256, eps=1e-05, momentum=0.1, affine=True, track_running_stats=True)\n",
            "        (act1): ReLU(inplace=True)\n",
            "        (conv2): Conv2d(256, 256, kernel_size=(3, 3), stride=(1, 1), padding=(1, 1), bias=False)\n",
            "        (bn2): BatchNorm2d(256, eps=1e-05, momentum=0.1, affine=True, track_running_stats=True)\n",
            "        (drop_block): Identity()\n",
            "        (act2): ReLU(inplace=True)\n",
            "        (aa): Identity()\n",
            "        (conv3): Conv2d(256, 1024, kernel_size=(1, 1), stride=(1, 1), bias=False)\n",
            "        (bn3): BatchNorm2d(1024, eps=1e-05, momentum=0.1, affine=True, track_running_stats=True)\n",
            "        (act3): ReLU(inplace=True)\n",
            "      )\n",
            "    )\n",
            "    (layer4): Sequential(\n",
            "      (0): Bottleneck(\n",
            "        (conv1): Conv2d(1024, 512, kernel_size=(1, 1), stride=(1, 1), bias=False)\n",
            "        (bn1): BatchNorm2d(512, eps=1e-05, momentum=0.1, affine=True, track_running_stats=True)\n",
            "        (act1): ReLU(inplace=True)\n",
            "        (conv2): Conv2d(512, 512, kernel_size=(3, 3), stride=(2, 2), padding=(1, 1), bias=False)\n",
            "        (bn2): BatchNorm2d(512, eps=1e-05, momentum=0.1, affine=True, track_running_stats=True)\n",
            "        (drop_block): Identity()\n",
            "        (act2): ReLU(inplace=True)\n",
            "        (aa): Identity()\n",
            "        (conv3): Conv2d(512, 2048, kernel_size=(1, 1), stride=(1, 1), bias=False)\n",
            "        (bn3): BatchNorm2d(2048, eps=1e-05, momentum=0.1, affine=True, track_running_stats=True)\n",
            "        (act3): ReLU(inplace=True)\n",
            "        (downsample): Sequential(\n",
            "          (0): Conv2d(1024, 2048, kernel_size=(1, 1), stride=(2, 2), bias=False)\n",
            "          (1): BatchNorm2d(2048, eps=1e-05, momentum=0.1, affine=True, track_running_stats=True)\n",
            "        )\n",
            "      )\n",
            "      (1): Bottleneck(\n",
            "        (conv1): Conv2d(2048, 512, kernel_size=(1, 1), stride=(1, 1), bias=False)\n",
            "        (bn1): BatchNorm2d(512, eps=1e-05, momentum=0.1, affine=True, track_running_stats=True)\n",
            "        (act1): ReLU(inplace=True)\n",
            "        (conv2): Conv2d(512, 512, kernel_size=(3, 3), stride=(1, 1), padding=(1, 1), bias=False)\n",
            "        (bn2): BatchNorm2d(512, eps=1e-05, momentum=0.1, affine=True, track_running_stats=True)\n",
            "        (drop_block): Identity()\n",
            "        (act2): ReLU(inplace=True)\n",
            "        (aa): Identity()\n",
            "        (conv3): Conv2d(512, 2048, kernel_size=(1, 1), stride=(1, 1), bias=False)\n",
            "        (bn3): BatchNorm2d(2048, eps=1e-05, momentum=0.1, affine=True, track_running_stats=True)\n",
            "        (act3): ReLU(inplace=True)\n",
            "      )\n",
            "      (2): Bottleneck(\n",
            "        (conv1): Conv2d(2048, 512, kernel_size=(1, 1), stride=(1, 1), bias=False)\n",
            "        (bn1): BatchNorm2d(512, eps=1e-05, momentum=0.1, affine=True, track_running_stats=True)\n",
            "        (act1): ReLU(inplace=True)\n",
            "        (conv2): Conv2d(512, 512, kernel_size=(3, 3), stride=(1, 1), padding=(1, 1), bias=False)\n",
            "        (bn2): BatchNorm2d(512, eps=1e-05, momentum=0.1, affine=True, track_running_stats=True)\n",
            "        (drop_block): Identity()\n",
            "        (act2): ReLU(inplace=True)\n",
            "        (aa): Identity()\n",
            "        (conv3): Conv2d(512, 2048, kernel_size=(1, 1), stride=(1, 1), bias=False)\n",
            "        (bn3): BatchNorm2d(2048, eps=1e-05, momentum=0.1, affine=True, track_running_stats=True)\n",
            "        (act3): ReLU(inplace=True)\n",
            "      )\n",
            "    )\n",
            "    (global_pool): SelectAdaptivePool2d(pool_type=avg, flatten=Flatten(start_dim=1, end_dim=-1))\n",
            "    (fc): Identity()\n",
            "  )\n",
            "  (upsample1): ConvTranspose2d(32, 16, kernel_size=(4, 4), stride=(2, 2), padding=(1, 1))\n",
            "  (upsample2): ConvTranspose2d(16, 8, kernel_size=(4, 4), stride=(2, 2), padding=(1, 1))\n",
            "  (upsample3): ConvTranspose2d(8, 3, kernel_size=(4, 4), stride=(4, 4))\n",
            "  (levit): LevitDistilled(\n",
            "    (stem): Stem16(\n",
            "      (conv1): ConvNorm(\n",
            "        (linear): Conv2d(3, 32, kernel_size=(3, 3), stride=(2, 2), padding=(1, 1), bias=False)\n",
            "        (bn): BatchNorm2d(32, eps=1e-05, momentum=0.1, affine=True, track_running_stats=True)\n",
            "      )\n",
            "      (act1): Hardswish()\n",
            "      (conv2): ConvNorm(\n",
            "        (linear): Conv2d(32, 64, kernel_size=(3, 3), stride=(2, 2), padding=(1, 1), bias=False)\n",
            "        (bn): BatchNorm2d(64, eps=1e-05, momentum=0.1, affine=True, track_running_stats=True)\n",
            "      )\n",
            "      (act2): Hardswish()\n",
            "      (conv3): ConvNorm(\n",
            "        (linear): Conv2d(64, 128, kernel_size=(3, 3), stride=(2, 2), padding=(1, 1), bias=False)\n",
            "        (bn): BatchNorm2d(128, eps=1e-05, momentum=0.1, affine=True, track_running_stats=True)\n",
            "      )\n",
            "      (act3): Hardswish()\n",
            "      (conv4): ConvNorm(\n",
            "        (linear): Conv2d(128, 256, kernel_size=(3, 3), stride=(2, 2), padding=(1, 1), bias=False)\n",
            "        (bn): BatchNorm2d(256, eps=1e-05, momentum=0.1, affine=True, track_running_stats=True)\n",
            "      )\n",
            "    )\n",
            "    (stage1): LevitStage(\n",
            "      (downsample): Identity()\n",
            "      (blocks): Sequential(\n",
            "        (0): LevitBlock(\n",
            "          (attn): Attention(\n",
            "            (qkv): LinearNorm(\n",
            "              (linear): Linear(in_features=256, out_features=768, bias=False)\n",
            "              (bn): BatchNorm1d(768, eps=1e-05, momentum=0.1, affine=True, track_running_stats=True)\n",
            "            )\n",
            "            (proj): Sequential(\n",
            "              (0): Hardswish()\n",
            "              (1): LinearNorm(\n",
            "                (linear): Linear(in_features=256, out_features=256, bias=False)\n",
            "                (bn): BatchNorm1d(256, eps=1e-05, momentum=0.1, affine=True, track_running_stats=True)\n",
            "              )\n",
            "            )\n",
            "          )\n",
            "          (drop_path1): Identity()\n",
            "          (mlp): LevitMlp(\n",
            "            (ln1): LinearNorm(\n",
            "              (linear): Linear(in_features=256, out_features=512, bias=False)\n",
            "              (bn): BatchNorm1d(512, eps=1e-05, momentum=0.1, affine=True, track_running_stats=True)\n",
            "            )\n",
            "            (act): Hardswish()\n",
            "            (drop): Dropout(p=0.5, inplace=False)\n",
            "            (ln2): LinearNorm(\n",
            "              (linear): Linear(in_features=512, out_features=256, bias=False)\n",
            "              (bn): BatchNorm1d(256, eps=1e-05, momentum=0.1, affine=True, track_running_stats=True)\n",
            "            )\n",
            "          )\n",
            "          (drop_path2): Identity()\n",
            "        )\n",
            "        (1): LevitBlock(\n",
            "          (attn): Attention(\n",
            "            (qkv): LinearNorm(\n",
            "              (linear): Linear(in_features=256, out_features=768, bias=False)\n",
            "              (bn): BatchNorm1d(768, eps=1e-05, momentum=0.1, affine=True, track_running_stats=True)\n",
            "            )\n",
            "            (proj): Sequential(\n",
            "              (0): Hardswish()\n",
            "              (1): LinearNorm(\n",
            "                (linear): Linear(in_features=256, out_features=256, bias=False)\n",
            "                (bn): BatchNorm1d(256, eps=1e-05, momentum=0.1, affine=True, track_running_stats=True)\n",
            "              )\n",
            "            )\n",
            "          )\n",
            "          (drop_path1): Identity()\n",
            "          (mlp): LevitMlp(\n",
            "            (ln1): LinearNorm(\n",
            "              (linear): Linear(in_features=256, out_features=512, bias=False)\n",
            "              (bn): BatchNorm1d(512, eps=1e-05, momentum=0.1, affine=True, track_running_stats=True)\n",
            "            )\n",
            "            (act): Hardswish()\n",
            "            (drop): Dropout(p=0.5, inplace=False)\n",
            "            (ln2): LinearNorm(\n",
            "              (linear): Linear(in_features=512, out_features=256, bias=False)\n",
            "              (bn): BatchNorm1d(256, eps=1e-05, momentum=0.1, affine=True, track_running_stats=True)\n",
            "            )\n",
            "          )\n",
            "          (drop_path2): Identity()\n",
            "        )\n",
            "      )\n",
            "    )\n",
            "    (stage2): LevitStage(\n",
            "      (downsample): CNNDownsample(\n",
            "        (conv): Conv2d(256, 384, kernel_size=(3, 3), stride=(2, 2), padding=(1, 1))\n",
            "        (act): Hardswish()\n",
            "      )\n",
            "      (blocks): Sequential(\n",
            "        (0): LevitBlock(\n",
            "          (attn): Attention(\n",
            "            (qkv): LinearNorm(\n",
            "              (linear): Linear(in_features=384, out_features=1152, bias=False)\n",
            "              (bn): BatchNorm1d(1152, eps=1e-05, momentum=0.1, affine=True, track_running_stats=True)\n",
            "            )\n",
            "            (proj): Sequential(\n",
            "              (0): Hardswish()\n",
            "              (1): LinearNorm(\n",
            "                (linear): Linear(in_features=384, out_features=384, bias=False)\n",
            "                (bn): BatchNorm1d(384, eps=1e-05, momentum=0.1, affine=True, track_running_stats=True)\n",
            "              )\n",
            "            )\n",
            "          )\n",
            "          (drop_path1): Identity()\n",
            "          (mlp): LevitMlp(\n",
            "            (ln1): LinearNorm(\n",
            "              (linear): Linear(in_features=384, out_features=768, bias=False)\n",
            "              (bn): BatchNorm1d(768, eps=1e-05, momentum=0.1, affine=True, track_running_stats=True)\n",
            "            )\n",
            "            (act): Hardswish()\n",
            "            (drop): Dropout(p=0.5, inplace=False)\n",
            "            (ln2): LinearNorm(\n",
            "              (linear): Linear(in_features=768, out_features=384, bias=False)\n",
            "              (bn): BatchNorm1d(384, eps=1e-05, momentum=0.1, affine=True, track_running_stats=True)\n",
            "            )\n",
            "          )\n",
            "          (drop_path2): Identity()\n",
            "        )\n",
            "        (1): LevitBlock(\n",
            "          (attn): Attention(\n",
            "            (qkv): LinearNorm(\n",
            "              (linear): Linear(in_features=384, out_features=1152, bias=False)\n",
            "              (bn): BatchNorm1d(1152, eps=1e-05, momentum=0.1, affine=True, track_running_stats=True)\n",
            "            )\n",
            "            (proj): Sequential(\n",
            "              (0): Hardswish()\n",
            "              (1): LinearNorm(\n",
            "                (linear): Linear(in_features=384, out_features=384, bias=False)\n",
            "                (bn): BatchNorm1d(384, eps=1e-05, momentum=0.1, affine=True, track_running_stats=True)\n",
            "              )\n",
            "            )\n",
            "          )\n",
            "          (drop_path1): Identity()\n",
            "          (mlp): LevitMlp(\n",
            "            (ln1): LinearNorm(\n",
            "              (linear): Linear(in_features=384, out_features=768, bias=False)\n",
            "              (bn): BatchNorm1d(768, eps=1e-05, momentum=0.1, affine=True, track_running_stats=True)\n",
            "            )\n",
            "            (act): Hardswish()\n",
            "            (drop): Dropout(p=0.5, inplace=False)\n",
            "            (ln2): LinearNorm(\n",
            "              (linear): Linear(in_features=768, out_features=384, bias=False)\n",
            "              (bn): BatchNorm1d(384, eps=1e-05, momentum=0.1, affine=True, track_running_stats=True)\n",
            "            )\n",
            "          )\n",
            "          (drop_path2): Identity()\n",
            "        )\n",
            "      )\n",
            "    )\n",
            "    (conv1x1): Sequential(\n",
            "      (0): Conv2d(384, 512, kernel_size=(1, 1), stride=(1, 1))\n",
            "      (1): BatchNorm2d(512, eps=1e-05, momentum=0.1, affine=True, track_running_stats=True)\n",
            "      (2): ReLU(inplace=True)\n",
            "    )\n",
            "    (head): NormLinear(\n",
            "      (bn): BatchNorm1d(512, eps=1e-05, momentum=0.1, affine=True, track_running_stats=True)\n",
            "      (drop): Dropout(p=0.0, inplace=False)\n",
            "      (linear): Linear(in_features=512, out_features=37, bias=True)\n",
            "    )\n",
            "    (head_dist): NormLinear(\n",
            "      (bn): BatchNorm1d(512, eps=1e-05, momentum=0.1, affine=True, track_running_stats=True)\n",
            "      (drop): Dropout(p=0.0, inplace=False)\n",
            "      (linear): Linear(in_features=512, out_features=37, bias=True)\n",
            "    )\n",
            "  )\n",
            ")\n"
          ]
        }
      ],
      "source": [
        "model = LauncherModel()\n",
        "print(model)\n",
        "\n",
        "device = torch.device(\"cuda\" if torch.cuda.is_available() else \"cpu\")\n",
        "model = model.to(device)\n",
        "\n",
        "batch_size = 32\n",
        "learning_rate = 0.001\n",
        "num_epochs = 50"
      ]
    },
    {
      "cell_type": "code",
      "execution_count": 21,
      "metadata": {
        "colab": {
          "base_uri": "https://localhost:8080/"
        },
        "collapsed": true,
        "id": "gNpMsNYAzLDF",
        "outputId": "919200dd-0aee-4928-cfc2-44111ce4f4ec"
      },
      "outputs": [
        {
          "output_type": "stream",
          "name": "stdout",
          "text": [
            "==============================================================================================================\n",
            "Layer (type:depth-idx)                                       Output Shape              Param #\n",
            "==============================================================================================================\n",
            "LauncherModel                                                [32, 37]                  --\n",
            "├─ResNet: 1-1                                                [32, 2048]                --\n",
            "│    └─Conv2d: 2-1                                           [32, 64, 112, 112]        (9,408)\n",
            "│    └─BatchNorm2d: 2-2                                      [32, 64, 112, 112]        (128)\n",
            "│    └─ReLU: 2-3                                             [32, 64, 112, 112]        --\n",
            "│    └─MaxPool2d: 2-4                                        [32, 64, 56, 56]          --\n",
            "│    └─Sequential: 2-5                                       [32, 256, 56, 56]         --\n",
            "│    │    └─Bottleneck: 3-1                                  [32, 256, 56, 56]         (75,008)\n",
            "│    │    └─Bottleneck: 3-2                                  [32, 256, 56, 56]         (70,400)\n",
            "│    │    └─Bottleneck: 3-3                                  [32, 256, 56, 56]         (70,400)\n",
            "│    └─Sequential: 2-6                                       [32, 512, 28, 28]         --\n",
            "│    │    └─Bottleneck: 3-4                                  [32, 512, 28, 28]         (379,392)\n",
            "│    │    └─Bottleneck: 3-5                                  [32, 512, 28, 28]         (280,064)\n",
            "│    │    └─Bottleneck: 3-6                                  [32, 512, 28, 28]         (280,064)\n",
            "│    │    └─Bottleneck: 3-7                                  [32, 512, 28, 28]         (280,064)\n",
            "│    └─Sequential: 2-7                                       [32, 1024, 14, 14]        --\n",
            "│    │    └─Bottleneck: 3-8                                  [32, 1024, 14, 14]        (1,512,448)\n",
            "│    │    └─Bottleneck: 3-9                                  [32, 1024, 14, 14]        (1,117,184)\n",
            "│    │    └─Bottleneck: 3-10                                 [32, 1024, 14, 14]        (1,117,184)\n",
            "│    │    └─Bottleneck: 3-11                                 [32, 1024, 14, 14]        (1,117,184)\n",
            "│    │    └─Bottleneck: 3-12                                 [32, 1024, 14, 14]        (1,117,184)\n",
            "│    │    └─Bottleneck: 3-13                                 [32, 1024, 14, 14]        (1,117,184)\n",
            "│    └─Sequential: 2-8                                       [32, 2048, 7, 7]          --\n",
            "│    │    └─Bottleneck: 3-14                                 [32, 2048, 7, 7]          (6,039,552)\n",
            "│    │    └─Bottleneck: 3-15                                 [32, 2048, 7, 7]          (4,462,592)\n",
            "│    │    └─Bottleneck: 3-16                                 [32, 2048, 7, 7]          (4,462,592)\n",
            "│    └─SelectAdaptivePool2d: 2-9                             [32, 2048]                --\n",
            "│    │    └─AdaptiveAvgPool2d: 3-17                          [32, 2048, 1, 1]          --\n",
            "│    │    └─Flatten: 3-18                                    [32, 2048]                --\n",
            "│    └─Identity: 2-10                                        [32, 2048]                --\n",
            "├─ConvTranspose2d: 1-2                                       [32, 16, 16, 16]          8,208\n",
            "├─ConvTranspose2d: 1-3                                       [32, 8, 32, 32]           2,056\n",
            "├─ConvTranspose2d: 1-4                                       [32, 3, 128, 128]         387\n",
            "├─LevitDistilled: 1-5                                        [32, 37]                  --\n",
            "│    └─Stem16: 2-11                                          [32, 256, 8, 8]           --\n",
            "│    │    └─ConvNorm: 3-19                                   [32, 32, 64, 64]          928\n",
            "│    │    └─Hardswish: 3-20                                  [32, 32, 64, 64]          --\n",
            "│    │    └─ConvNorm: 3-21                                   [32, 64, 32, 32]          18,560\n",
            "│    │    └─Hardswish: 3-22                                  [32, 64, 32, 32]          --\n",
            "│    │    └─ConvNorm: 3-23                                   [32, 128, 16, 16]         73,984\n",
            "│    │    └─Hardswish: 3-24                                  [32, 128, 16, 16]         --\n",
            "│    │    └─ConvNorm: 3-25                                   [32, 256, 8, 8]           295,424\n",
            "│    └─LevitStage: 2-12                                      [32, 64, 256]             --\n",
            "│    │    └─Identity: 3-26                                   [32, 64, 256]             --\n",
            "│    │    └─Sequential: 3-27                                 [32, 64, 256]             1,055,744\n",
            "│    └─LevitStage: 2-13                                      [32, 16, 384]             --\n",
            "│    │    └─CNNDownsample: 3-28                              [32, 16, 384]             885,120\n",
            "│    │    └─Sequential: 3-29                                 [32, 16, 384]             2,370,048\n",
            "│    └─Sequential: 2-14                                      [32, 512, 4, 4]           --\n",
            "│    │    └─Conv2d: 3-30                                     [32, 512, 4, 4]           197,120\n",
            "│    │    └─BatchNorm2d: 3-31                                [32, 512, 4, 4]           1,024\n",
            "│    │    └─ReLU: 3-32                                       [32, 512, 4, 4]           --\n",
            "│    └─NormLinear: 2-15                                      [32, 37]                  --\n",
            "│    │    └─BatchNorm1d: 3-33                                [32, 512]                 1,024\n",
            "│    │    └─Dropout: 3-34                                    [32, 512]                 --\n",
            "│    │    └─Linear: 3-35                                     [32, 37]                  18,981\n",
            "│    └─NormLinear: 2-16                                      [32, 37]                  --\n",
            "│    │    └─BatchNorm1d: 3-36                                [32, 512]                 1,024\n",
            "│    │    └─Dropout: 3-37                                    [32, 512]                 --\n",
            "│    │    └─Linear: 3-38                                     [32, 37]                  18,981\n",
            "==============================================================================================================\n",
            "Total params: 28,456,645\n",
            "Trainable params: 4,948,613\n",
            "Non-trainable params: 23,508,032\n",
            "Total mult-adds (G): 136.98\n",
            "==============================================================================================================\n",
            "Input size (MB): 19.27\n",
            "Forward/backward pass size (MB): 5999.45\n",
            "Params size (MB): 113.83\n",
            "Estimated Total Size (MB): 6132.54\n",
            "==============================================================================================================\n"
          ]
        }
      ],
      "source": [
        "print(summary(model, input_size=(32, 3, 224, 224)))"
      ]
    },
    {
      "cell_type": "code",
      "execution_count": 22,
      "metadata": {
        "colab": {
          "base_uri": "https://localhost:8080/"
        },
        "collapsed": true,
        "id": "qDELjYy2zP90",
        "outputId": "91be45a4-eccc-4849-a77d-34b0734d3926"
      },
      "outputs": [
        {
          "output_type": "stream",
          "name": "stdout",
          "text": [
            "==============================================================================================================\n",
            "Layer (type:depth-idx)                                       Output Shape              Param #\n",
            "==============================================================================================================\n",
            "LauncherModel                                                [32, 37]                  --\n",
            "├─ResNet: 1-1                                                [32, 2048]                --\n",
            "│    └─conv1.weight                                                                    ├─9,408\n",
            "│    └─bn1.weight                                                                      ├─64\n",
            "│    └─bn1.bias                                                                        ├─64\n",
            "│    └─layer1.0.conv1.weight                                                           ├─4,096\n",
            "│    └─layer1.0.bn1.weight                                                             ├─64\n",
            "│    └─layer1.0.bn1.bias                                                               ├─64\n",
            "│    └─layer1.0.conv2.weight                                                           ├─36,864\n",
            "│    └─layer1.0.bn2.weight                                                             ├─64\n",
            "│    └─layer1.0.bn2.bias                                                               ├─64\n",
            "│    └─layer1.0.conv3.weight                                                           ├─16,384\n",
            "│    └─layer1.0.bn3.weight                                                             ├─256\n",
            "│    └─layer1.0.bn3.bias                                                               ├─256\n",
            "│    └─layer1.0.downsample.0.weight                                                    ├─16,384\n",
            "│    └─layer1.0.downsample.1.weight                                                    ├─256\n",
            "│    └─layer1.0.downsample.1.bias                                                      ├─256\n",
            "│    └─layer1.1.conv1.weight                                                           ├─16,384\n",
            "│    └─layer1.1.bn1.weight                                                             ├─64\n",
            "│    └─layer1.1.bn1.bias                                                               ├─64\n",
            "│    └─layer1.1.conv2.weight                                                           ├─36,864\n",
            "│    └─layer1.1.bn2.weight                                                             ├─64\n",
            "│    └─layer1.1.bn2.bias                                                               ├─64\n",
            "│    └─layer1.1.conv3.weight                                                           ├─16,384\n",
            "│    └─layer1.1.bn3.weight                                                             ├─256\n",
            "│    └─layer1.1.bn3.bias                                                               ├─256\n",
            "│    └─layer1.2.conv1.weight                                                           ├─16,384\n",
            "│    └─layer1.2.bn1.weight                                                             ├─64\n",
            "│    └─layer1.2.bn1.bias                                                               ├─64\n",
            "│    └─layer1.2.conv2.weight                                                           ├─36,864\n",
            "│    └─layer1.2.bn2.weight                                                             ├─64\n",
            "│    └─layer1.2.bn2.bias                                                               ├─64\n",
            "│    └─layer1.2.conv3.weight                                                           ├─16,384\n",
            "│    └─layer1.2.bn3.weight                                                             ├─256\n",
            "│    └─layer1.2.bn3.bias                                                               ├─256\n",
            "│    └─layer2.0.conv1.weight                                                           ├─32,768\n",
            "│    └─layer2.0.bn1.weight                                                             ├─128\n",
            "│    └─layer2.0.bn1.bias                                                               ├─128\n",
            "│    └─layer2.0.conv2.weight                                                           ├─147,456\n",
            "│    └─layer2.0.bn2.weight                                                             ├─128\n",
            "│    └─layer2.0.bn2.bias                                                               ├─128\n",
            "│    └─layer2.0.conv3.weight                                                           ├─65,536\n",
            "│    └─layer2.0.bn3.weight                                                             ├─512\n",
            "│    └─layer2.0.bn3.bias                                                               ├─512\n",
            "│    └─layer2.0.downsample.0.weight                                                    ├─131,072\n",
            "│    └─layer2.0.downsample.1.weight                                                    ├─512\n",
            "│    └─layer2.0.downsample.1.bias                                                      ├─512\n",
            "│    └─layer2.1.conv1.weight                                                           ├─65,536\n",
            "│    └─layer2.1.bn1.weight                                                             ├─128\n",
            "│    └─layer2.1.bn1.bias                                                               ├─128\n",
            "│    └─layer2.1.conv2.weight                                                           ├─147,456\n",
            "│    └─layer2.1.bn2.weight                                                             ├─128\n",
            "│    └─layer2.1.bn2.bias                                                               ├─128\n",
            "│    └─layer2.1.conv3.weight                                                           ├─65,536\n",
            "│    └─layer2.1.bn3.weight                                                             ├─512\n",
            "│    └─layer2.1.bn3.bias                                                               ├─512\n",
            "│    └─layer2.2.conv1.weight                                                           ├─65,536\n",
            "│    └─layer2.2.bn1.weight                                                             ├─128\n",
            "│    └─layer2.2.bn1.bias                                                               ├─128\n",
            "│    └─layer2.2.conv2.weight                                                           ├─147,456\n",
            "│    └─layer2.2.bn2.weight                                                             ├─128\n",
            "│    └─layer2.2.bn2.bias                                                               ├─128\n",
            "│    └─layer2.2.conv3.weight                                                           ├─65,536\n",
            "│    └─layer2.2.bn3.weight                                                             ├─512\n",
            "│    └─layer2.2.bn3.bias                                                               ├─512\n",
            "│    └─layer2.3.conv1.weight                                                           ├─65,536\n",
            "│    └─layer2.3.bn1.weight                                                             ├─128\n",
            "│    └─layer2.3.bn1.bias                                                               ├─128\n",
            "│    └─layer2.3.conv2.weight                                                           ├─147,456\n",
            "│    └─layer2.3.bn2.weight                                                             ├─128\n",
            "│    └─layer2.3.bn2.bias                                                               ├─128\n",
            "│    └─layer2.3.conv3.weight                                                           ├─65,536\n",
            "│    └─layer2.3.bn3.weight                                                             ├─512\n",
            "│    └─layer2.3.bn3.bias                                                               ├─512\n",
            "│    └─layer3.0.conv1.weight                                                           ├─131,072\n",
            "│    └─layer3.0.bn1.weight                                                             ├─256\n",
            "│    └─layer3.0.bn1.bias                                                               ├─256\n",
            "│    └─layer3.0.conv2.weight                                                           ├─589,824\n",
            "│    └─layer3.0.bn2.weight                                                             ├─256\n",
            "│    └─layer3.0.bn2.bias                                                               ├─256\n",
            "│    └─layer3.0.conv3.weight                                                           ├─262,144\n",
            "│    └─layer3.0.bn3.weight                                                             ├─1,024\n",
            "│    └─layer3.0.bn3.bias                                                               ├─1,024\n",
            "│    └─layer3.0.downsample.0.weight                                                    ├─524,288\n",
            "│    └─layer3.0.downsample.1.weight                                                    ├─1,024\n",
            "│    └─layer3.0.downsample.1.bias                                                      ├─1,024\n",
            "│    └─layer3.1.conv1.weight                                                           ├─262,144\n",
            "│    └─layer3.1.bn1.weight                                                             ├─256\n",
            "│    └─layer3.1.bn1.bias                                                               ├─256\n",
            "│    └─layer3.1.conv2.weight                                                           ├─589,824\n",
            "│    └─layer3.1.bn2.weight                                                             ├─256\n",
            "│    └─layer3.1.bn2.bias                                                               ├─256\n",
            "│    └─layer3.1.conv3.weight                                                           ├─262,144\n",
            "│    └─layer3.1.bn3.weight                                                             ├─1,024\n",
            "│    └─layer3.1.bn3.bias                                                               ├─1,024\n",
            "│    └─layer3.2.conv1.weight                                                           ├─262,144\n",
            "│    └─layer3.2.bn1.weight                                                             ├─256\n",
            "│    └─layer3.2.bn1.bias                                                               ├─256\n",
            "│    └─layer3.2.conv2.weight                                                           ├─589,824\n",
            "│    └─layer3.2.bn2.weight                                                             ├─256\n",
            "│    └─layer3.2.bn2.bias                                                               ├─256\n",
            "│    └─layer3.2.conv3.weight                                                           ├─262,144\n",
            "│    └─layer3.2.bn3.weight                                                             ├─1,024\n",
            "│    └─layer3.2.bn3.bias                                                               ├─1,024\n",
            "│    └─layer3.3.conv1.weight                                                           ├─262,144\n",
            "│    └─layer3.3.bn1.weight                                                             ├─256\n",
            "│    └─layer3.3.bn1.bias                                                               ├─256\n",
            "│    └─layer3.3.conv2.weight                                                           ├─589,824\n",
            "│    └─layer3.3.bn2.weight                                                             ├─256\n",
            "│    └─layer3.3.bn2.bias                                                               ├─256\n",
            "│    └─layer3.3.conv3.weight                                                           ├─262,144\n",
            "│    └─layer3.3.bn3.weight                                                             ├─1,024\n",
            "│    └─layer3.3.bn3.bias                                                               ├─1,024\n",
            "│    └─layer3.4.conv1.weight                                                           ├─262,144\n",
            "│    └─layer3.4.bn1.weight                                                             ├─256\n",
            "│    └─layer3.4.bn1.bias                                                               ├─256\n",
            "│    └─layer3.4.conv2.weight                                                           ├─589,824\n",
            "│    └─layer3.4.bn2.weight                                                             ├─256\n",
            "│    └─layer3.4.bn2.bias                                                               ├─256\n",
            "│    └─layer3.4.conv3.weight                                                           ├─262,144\n",
            "│    └─layer3.4.bn3.weight                                                             ├─1,024\n",
            "│    └─layer3.4.bn3.bias                                                               ├─1,024\n",
            "│    └─layer3.5.conv1.weight                                                           ├─262,144\n",
            "│    └─layer3.5.bn1.weight                                                             ├─256\n",
            "│    └─layer3.5.bn1.bias                                                               ├─256\n",
            "│    └─layer3.5.conv2.weight                                                           ├─589,824\n",
            "│    └─layer3.5.bn2.weight                                                             ├─256\n",
            "│    └─layer3.5.bn2.bias                                                               ├─256\n",
            "│    └─layer3.5.conv3.weight                                                           ├─262,144\n",
            "│    └─layer3.5.bn3.weight                                                             ├─1,024\n",
            "│    └─layer3.5.bn3.bias                                                               ├─1,024\n",
            "│    └─layer4.0.conv1.weight                                                           ├─524,288\n",
            "│    └─layer4.0.bn1.weight                                                             ├─512\n",
            "│    └─layer4.0.bn1.bias                                                               ├─512\n",
            "│    └─layer4.0.conv2.weight                                                           ├─2,359,296\n",
            "│    └─layer4.0.bn2.weight                                                             ├─512\n",
            "│    └─layer4.0.bn2.bias                                                               ├─512\n",
            "│    └─layer4.0.conv3.weight                                                           ├─1,048,576\n",
            "│    └─layer4.0.bn3.weight                                                             ├─2,048\n",
            "│    └─layer4.0.bn3.bias                                                               ├─2,048\n",
            "│    └─layer4.0.downsample.0.weight                                                    ├─2,097,152\n",
            "│    └─layer4.0.downsample.1.weight                                                    ├─2,048\n",
            "│    └─layer4.0.downsample.1.bias                                                      ├─2,048\n",
            "│    └─layer4.1.conv1.weight                                                           ├─1,048,576\n",
            "│    └─layer4.1.bn1.weight                                                             ├─512\n",
            "│    └─layer4.1.bn1.bias                                                               ├─512\n",
            "│    └─layer4.1.conv2.weight                                                           ├─2,359,296\n",
            "│    └─layer4.1.bn2.weight                                                             ├─512\n",
            "│    └─layer4.1.bn2.bias                                                               ├─512\n",
            "│    └─layer4.1.conv3.weight                                                           ├─1,048,576\n",
            "│    └─layer4.1.bn3.weight                                                             ├─2,048\n",
            "│    └─layer4.1.bn3.bias                                                               ├─2,048\n",
            "│    └─layer4.2.conv1.weight                                                           ├─1,048,576\n",
            "│    └─layer4.2.bn1.weight                                                             ├─512\n",
            "│    └─layer4.2.bn1.bias                                                               ├─512\n",
            "│    └─layer4.2.conv2.weight                                                           ├─2,359,296\n",
            "│    └─layer4.2.bn2.weight                                                             ├─512\n",
            "│    └─layer4.2.bn2.bias                                                               ├─512\n",
            "│    └─layer4.2.conv3.weight                                                           ├─1,048,576\n",
            "│    └─layer4.2.bn3.weight                                                             ├─2,048\n",
            "│    └─layer4.2.bn3.bias                                                               └─2,048\n",
            "│    └─Conv2d: 2-1                                           [32, 64, 112, 112]        (9,408)\n",
            "│    │    └─weight                                                                     └─9,408\n",
            "│    └─BatchNorm2d: 2-2                                      [32, 64, 112, 112]        (128)\n",
            "│    │    └─weight                                                                     ├─64\n",
            "│    │    └─bias                                                                       └─64\n",
            "│    └─ReLU: 2-3                                             [32, 64, 112, 112]        --\n",
            "│    └─MaxPool2d: 2-4                                        [32, 64, 56, 56]          --\n",
            "│    └─Sequential: 2-5                                       [32, 256, 56, 56]         --\n",
            "│    │    └─0.conv1.weight                                                             ├─4,096\n",
            "│    │    └─0.bn1.weight                                                               ├─64\n",
            "│    │    └─0.bn1.bias                                                                 ├─64\n",
            "│    │    └─0.conv2.weight                                                             ├─36,864\n",
            "│    │    └─0.bn2.weight                                                               ├─64\n",
            "│    │    └─0.bn2.bias                                                                 ├─64\n",
            "│    │    └─0.conv3.weight                                                             ├─16,384\n",
            "│    │    └─0.bn3.weight                                                               ├─256\n",
            "│    │    └─0.bn3.bias                                                                 ├─256\n",
            "│    │    └─0.downsample.0.weight                                                      ├─16,384\n",
            "│    │    └─0.downsample.1.weight                                                      ├─256\n",
            "│    │    └─0.downsample.1.bias                                                        ├─256\n",
            "│    │    └─1.conv1.weight                                                             ├─16,384\n",
            "│    │    └─1.bn1.weight                                                               ├─64\n",
            "│    │    └─1.bn1.bias                                                                 ├─64\n",
            "│    │    └─1.conv2.weight                                                             ├─36,864\n",
            "│    │    └─1.bn2.weight                                                               ├─64\n",
            "│    │    └─1.bn2.bias                                                                 ├─64\n",
            "│    │    └─1.conv3.weight                                                             ├─16,384\n",
            "│    │    └─1.bn3.weight                                                               ├─256\n",
            "│    │    └─1.bn3.bias                                                                 ├─256\n",
            "│    │    └─2.conv1.weight                                                             ├─16,384\n",
            "│    │    └─2.bn1.weight                                                               ├─64\n",
            "│    │    └─2.bn1.bias                                                                 ├─64\n",
            "│    │    └─2.conv2.weight                                                             ├─36,864\n",
            "│    │    └─2.bn2.weight                                                               ├─64\n",
            "│    │    └─2.bn2.bias                                                                 ├─64\n",
            "│    │    └─2.conv3.weight                                                             ├─16,384\n",
            "│    │    └─2.bn3.weight                                                               ├─256\n",
            "│    │    └─2.bn3.bias                                                                 └─256\n",
            "│    │    └─Bottleneck: 3-1                                  [32, 256, 56, 56]         (75,008)\n",
            "│    │    │    └─conv1.weight                                                          ├─4,096\n",
            "│    │    │    └─bn1.weight                                                            ├─64\n",
            "│    │    │    └─bn1.bias                                                              ├─64\n",
            "│    │    │    └─conv2.weight                                                          ├─36,864\n",
            "│    │    │    └─bn2.weight                                                            ├─64\n",
            "│    │    │    └─bn2.bias                                                              ├─64\n",
            "│    │    │    └─conv3.weight                                                          ├─16,384\n",
            "│    │    │    └─bn3.weight                                                            ├─256\n",
            "│    │    │    └─bn3.bias                                                              ├─256\n",
            "│    │    │    └─downsample.0.weight                                                   ├─16,384\n",
            "│    │    │    └─downsample.1.weight                                                   ├─256\n",
            "│    │    │    └─downsample.1.bias                                                     └─256\n",
            "│    │    └─Bottleneck: 3-2                                  [32, 256, 56, 56]         (70,400)\n",
            "│    │    │    └─conv1.weight                                                          ├─16,384\n",
            "│    │    │    └─bn1.weight                                                            ├─64\n",
            "│    │    │    └─bn1.bias                                                              ├─64\n",
            "│    │    │    └─conv2.weight                                                          ├─36,864\n",
            "│    │    │    └─bn2.weight                                                            ├─64\n",
            "│    │    │    └─bn2.bias                                                              ├─64\n",
            "│    │    │    └─conv3.weight                                                          ├─16,384\n",
            "│    │    │    └─bn3.weight                                                            ├─256\n",
            "│    │    │    └─bn3.bias                                                              └─256\n",
            "│    │    └─Bottleneck: 3-3                                  [32, 256, 56, 56]         (70,400)\n",
            "│    │    │    └─conv1.weight                                                          ├─16,384\n",
            "│    │    │    └─bn1.weight                                                            ├─64\n",
            "│    │    │    └─bn1.bias                                                              ├─64\n",
            "│    │    │    └─conv2.weight                                                          ├─36,864\n",
            "│    │    │    └─bn2.weight                                                            ├─64\n",
            "│    │    │    └─bn2.bias                                                              ├─64\n",
            "│    │    │    └─conv3.weight                                                          ├─16,384\n",
            "│    │    │    └─bn3.weight                                                            ├─256\n",
            "│    │    │    └─bn3.bias                                                              └─256\n",
            "│    └─Sequential: 2-6                                       [32, 512, 28, 28]         --\n",
            "│    │    └─0.conv1.weight                                                             ├─32,768\n",
            "│    │    └─0.bn1.weight                                                               ├─128\n",
            "│    │    └─0.bn1.bias                                                                 ├─128\n",
            "│    │    └─0.conv2.weight                                                             ├─147,456\n",
            "│    │    └─0.bn2.weight                                                               ├─128\n",
            "│    │    └─0.bn2.bias                                                                 ├─128\n",
            "│    │    └─0.conv3.weight                                                             ├─65,536\n",
            "│    │    └─0.bn3.weight                                                               ├─512\n",
            "│    │    └─0.bn3.bias                                                                 ├─512\n",
            "│    │    └─0.downsample.0.weight                                                      ├─131,072\n",
            "│    │    └─0.downsample.1.weight                                                      ├─512\n",
            "│    │    └─0.downsample.1.bias                                                        ├─512\n",
            "│    │    └─1.conv1.weight                                                             ├─65,536\n",
            "│    │    └─1.bn1.weight                                                               ├─128\n",
            "│    │    └─1.bn1.bias                                                                 ├─128\n",
            "│    │    └─1.conv2.weight                                                             ├─147,456\n",
            "│    │    └─1.bn2.weight                                                               ├─128\n",
            "│    │    └─1.bn2.bias                                                                 ├─128\n",
            "│    │    └─1.conv3.weight                                                             ├─65,536\n",
            "│    │    └─1.bn3.weight                                                               ├─512\n",
            "│    │    └─1.bn3.bias                                                                 ├─512\n",
            "│    │    └─2.conv1.weight                                                             ├─65,536\n",
            "│    │    └─2.bn1.weight                                                               ├─128\n",
            "│    │    └─2.bn1.bias                                                                 ├─128\n",
            "│    │    └─2.conv2.weight                                                             ├─147,456\n",
            "│    │    └─2.bn2.weight                                                               ├─128\n",
            "│    │    └─2.bn2.bias                                                                 ├─128\n",
            "│    │    └─2.conv3.weight                                                             ├─65,536\n",
            "│    │    └─2.bn3.weight                                                               ├─512\n",
            "│    │    └─2.bn3.bias                                                                 ├─512\n",
            "│    │    └─3.conv1.weight                                                             ├─65,536\n",
            "│    │    └─3.bn1.weight                                                               ├─128\n",
            "│    │    └─3.bn1.bias                                                                 ├─128\n",
            "│    │    └─3.conv2.weight                                                             ├─147,456\n",
            "│    │    └─3.bn2.weight                                                               ├─128\n",
            "│    │    └─3.bn2.bias                                                                 ├─128\n",
            "│    │    └─3.conv3.weight                                                             ├─65,536\n",
            "│    │    └─3.bn3.weight                                                               ├─512\n",
            "│    │    └─3.bn3.bias                                                                 └─512\n",
            "│    │    └─Bottleneck: 3-4                                  [32, 512, 28, 28]         (379,392)\n",
            "│    │    │    └─conv1.weight                                                          ├─32,768\n",
            "│    │    │    └─bn1.weight                                                            ├─128\n",
            "│    │    │    └─bn1.bias                                                              ├─128\n",
            "│    │    │    └─conv2.weight                                                          ├─147,456\n",
            "│    │    │    └─bn2.weight                                                            ├─128\n",
            "│    │    │    └─bn2.bias                                                              ├─128\n",
            "│    │    │    └─conv3.weight                                                          ├─65,536\n",
            "│    │    │    └─bn3.weight                                                            ├─512\n",
            "│    │    │    └─bn3.bias                                                              ├─512\n",
            "│    │    │    └─downsample.0.weight                                                   ├─131,072\n",
            "│    │    │    └─downsample.1.weight                                                   ├─512\n",
            "│    │    │    └─downsample.1.bias                                                     └─512\n",
            "│    │    └─Bottleneck: 3-5                                  [32, 512, 28, 28]         (280,064)\n",
            "│    │    │    └─conv1.weight                                                          ├─65,536\n",
            "│    │    │    └─bn1.weight                                                            ├─128\n",
            "│    │    │    └─bn1.bias                                                              ├─128\n",
            "│    │    │    └─conv2.weight                                                          ├─147,456\n",
            "│    │    │    └─bn2.weight                                                            ├─128\n",
            "│    │    │    └─bn2.bias                                                              ├─128\n",
            "│    │    │    └─conv3.weight                                                          ├─65,536\n",
            "│    │    │    └─bn3.weight                                                            ├─512\n",
            "│    │    │    └─bn3.bias                                                              └─512\n",
            "│    │    └─Bottleneck: 3-6                                  [32, 512, 28, 28]         (280,064)\n",
            "│    │    │    └─conv1.weight                                                          ├─65,536\n",
            "│    │    │    └─bn1.weight                                                            ├─128\n",
            "│    │    │    └─bn1.bias                                                              ├─128\n",
            "│    │    │    └─conv2.weight                                                          ├─147,456\n",
            "│    │    │    └─bn2.weight                                                            ├─128\n",
            "│    │    │    └─bn2.bias                                                              ├─128\n",
            "│    │    │    └─conv3.weight                                                          ├─65,536\n",
            "│    │    │    └─bn3.weight                                                            ├─512\n",
            "│    │    │    └─bn3.bias                                                              └─512\n",
            "│    │    └─Bottleneck: 3-7                                  [32, 512, 28, 28]         (280,064)\n",
            "│    │    │    └─conv1.weight                                                          ├─65,536\n",
            "│    │    │    └─bn1.weight                                                            ├─128\n",
            "│    │    │    └─bn1.bias                                                              ├─128\n",
            "│    │    │    └─conv2.weight                                                          ├─147,456\n",
            "│    │    │    └─bn2.weight                                                            ├─128\n",
            "│    │    │    └─bn2.bias                                                              ├─128\n",
            "│    │    │    └─conv3.weight                                                          ├─65,536\n",
            "│    │    │    └─bn3.weight                                                            ├─512\n",
            "│    │    │    └─bn3.bias                                                              └─512\n",
            "│    └─Sequential: 2-7                                       [32, 1024, 14, 14]        --\n",
            "│    │    └─0.conv1.weight                                                             ├─131,072\n",
            "│    │    └─0.bn1.weight                                                               ├─256\n",
            "│    │    └─0.bn1.bias                                                                 ├─256\n",
            "│    │    └─0.conv2.weight                                                             ├─589,824\n",
            "│    │    └─0.bn2.weight                                                               ├─256\n",
            "│    │    └─0.bn2.bias                                                                 ├─256\n",
            "│    │    └─0.conv3.weight                                                             ├─262,144\n",
            "│    │    └─0.bn3.weight                                                               ├─1,024\n",
            "│    │    └─0.bn3.bias                                                                 ├─1,024\n",
            "│    │    └─0.downsample.0.weight                                                      ├─524,288\n",
            "│    │    └─0.downsample.1.weight                                                      ├─1,024\n",
            "│    │    └─0.downsample.1.bias                                                        ├─1,024\n",
            "│    │    └─1.conv1.weight                                                             ├─262,144\n",
            "│    │    └─1.bn1.weight                                                               ├─256\n",
            "│    │    └─1.bn1.bias                                                                 ├─256\n",
            "│    │    └─1.conv2.weight                                                             ├─589,824\n",
            "│    │    └─1.bn2.weight                                                               ├─256\n",
            "│    │    └─1.bn2.bias                                                                 ├─256\n",
            "│    │    └─1.conv3.weight                                                             ├─262,144\n",
            "│    │    └─1.bn3.weight                                                               ├─1,024\n",
            "│    │    └─1.bn3.bias                                                                 ├─1,024\n",
            "│    │    └─2.conv1.weight                                                             ├─262,144\n",
            "│    │    └─2.bn1.weight                                                               ├─256\n",
            "│    │    └─2.bn1.bias                                                                 ├─256\n",
            "│    │    └─2.conv2.weight                                                             ├─589,824\n",
            "│    │    └─2.bn2.weight                                                               ├─256\n",
            "│    │    └─2.bn2.bias                                                                 ├─256\n",
            "│    │    └─2.conv3.weight                                                             ├─262,144\n",
            "│    │    └─2.bn3.weight                                                               ├─1,024\n",
            "│    │    └─2.bn3.bias                                                                 ├─1,024\n",
            "│    │    └─3.conv1.weight                                                             ├─262,144\n",
            "│    │    └─3.bn1.weight                                                               ├─256\n",
            "│    │    └─3.bn1.bias                                                                 ├─256\n",
            "│    │    └─3.conv2.weight                                                             ├─589,824\n",
            "│    │    └─3.bn2.weight                                                               ├─256\n",
            "│    │    └─3.bn2.bias                                                                 ├─256\n",
            "│    │    └─3.conv3.weight                                                             ├─262,144\n",
            "│    │    └─3.bn3.weight                                                               ├─1,024\n",
            "│    │    └─3.bn3.bias                                                                 ├─1,024\n",
            "│    │    └─4.conv1.weight                                                             ├─262,144\n",
            "│    │    └─4.bn1.weight                                                               ├─256\n",
            "│    │    └─4.bn1.bias                                                                 ├─256\n",
            "│    │    └─4.conv2.weight                                                             ├─589,824\n",
            "│    │    └─4.bn2.weight                                                               ├─256\n",
            "│    │    └─4.bn2.bias                                                                 ├─256\n",
            "│    │    └─4.conv3.weight                                                             ├─262,144\n",
            "│    │    └─4.bn3.weight                                                               ├─1,024\n",
            "│    │    └─4.bn3.bias                                                                 ├─1,024\n",
            "│    │    └─5.conv1.weight                                                             ├─262,144\n",
            "│    │    └─5.bn1.weight                                                               ├─256\n",
            "│    │    └─5.bn1.bias                                                                 ├─256\n",
            "│    │    └─5.conv2.weight                                                             ├─589,824\n",
            "│    │    └─5.bn2.weight                                                               ├─256\n",
            "│    │    └─5.bn2.bias                                                                 ├─256\n",
            "│    │    └─5.conv3.weight                                                             ├─262,144\n",
            "│    │    └─5.bn3.weight                                                               ├─1,024\n",
            "│    │    └─5.bn3.bias                                                                 └─1,024\n",
            "│    │    └─Bottleneck: 3-8                                  [32, 1024, 14, 14]        (1,512,448)\n",
            "│    │    │    └─conv1.weight                                                          ├─131,072\n",
            "│    │    │    └─bn1.weight                                                            ├─256\n",
            "│    │    │    └─bn1.bias                                                              ├─256\n",
            "│    │    │    └─conv2.weight                                                          ├─589,824\n",
            "│    │    │    └─bn2.weight                                                            ├─256\n",
            "│    │    │    └─bn2.bias                                                              ├─256\n",
            "│    │    │    └─conv3.weight                                                          ├─262,144\n",
            "│    │    │    └─bn3.weight                                                            ├─1,024\n",
            "│    │    │    └─bn3.bias                                                              ├─1,024\n",
            "│    │    │    └─downsample.0.weight                                                   ├─524,288\n",
            "│    │    │    └─downsample.1.weight                                                   ├─1,024\n",
            "│    │    │    └─downsample.1.bias                                                     └─1,024\n",
            "│    │    └─Bottleneck: 3-9                                  [32, 1024, 14, 14]        (1,117,184)\n",
            "│    │    │    └─conv1.weight                                                          ├─262,144\n",
            "│    │    │    └─bn1.weight                                                            ├─256\n",
            "│    │    │    └─bn1.bias                                                              ├─256\n",
            "│    │    │    └─conv2.weight                                                          ├─589,824\n",
            "│    │    │    └─bn2.weight                                                            ├─256\n",
            "│    │    │    └─bn2.bias                                                              ├─256\n",
            "│    │    │    └─conv3.weight                                                          ├─262,144\n",
            "│    │    │    └─bn3.weight                                                            ├─1,024\n",
            "│    │    │    └─bn3.bias                                                              └─1,024\n",
            "│    │    └─Bottleneck: 3-10                                 [32, 1024, 14, 14]        (1,117,184)\n",
            "│    │    │    └─conv1.weight                                                          ├─262,144\n",
            "│    │    │    └─bn1.weight                                                            ├─256\n",
            "│    │    │    └─bn1.bias                                                              ├─256\n",
            "│    │    │    └─conv2.weight                                                          ├─589,824\n",
            "│    │    │    └─bn2.weight                                                            ├─256\n",
            "│    │    │    └─bn2.bias                                                              ├─256\n",
            "│    │    │    └─conv3.weight                                                          ├─262,144\n",
            "│    │    │    └─bn3.weight                                                            ├─1,024\n",
            "│    │    │    └─bn3.bias                                                              └─1,024\n",
            "│    │    └─Bottleneck: 3-11                                 [32, 1024, 14, 14]        (1,117,184)\n",
            "│    │    │    └─conv1.weight                                                          ├─262,144\n",
            "│    │    │    └─bn1.weight                                                            ├─256\n",
            "│    │    │    └─bn1.bias                                                              ├─256\n",
            "│    │    │    └─conv2.weight                                                          ├─589,824\n",
            "│    │    │    └─bn2.weight                                                            ├─256\n",
            "│    │    │    └─bn2.bias                                                              ├─256\n",
            "│    │    │    └─conv3.weight                                                          ├─262,144\n",
            "│    │    │    └─bn3.weight                                                            ├─1,024\n",
            "│    │    │    └─bn3.bias                                                              └─1,024\n",
            "│    │    └─Bottleneck: 3-12                                 [32, 1024, 14, 14]        (1,117,184)\n",
            "│    │    │    └─conv1.weight                                                          ├─262,144\n",
            "│    │    │    └─bn1.weight                                                            ├─256\n",
            "│    │    │    └─bn1.bias                                                              ├─256\n",
            "│    │    │    └─conv2.weight                                                          ├─589,824\n",
            "│    │    │    └─bn2.weight                                                            ├─256\n",
            "│    │    │    └─bn2.bias                                                              ├─256\n",
            "│    │    │    └─conv3.weight                                                          ├─262,144\n",
            "│    │    │    └─bn3.weight                                                            ├─1,024\n",
            "│    │    │    └─bn3.bias                                                              └─1,024\n",
            "│    │    └─Bottleneck: 3-13                                 [32, 1024, 14, 14]        (1,117,184)\n",
            "│    │    │    └─conv1.weight                                                          ├─262,144\n",
            "│    │    │    └─bn1.weight                                                            ├─256\n",
            "│    │    │    └─bn1.bias                                                              ├─256\n",
            "│    │    │    └─conv2.weight                                                          ├─589,824\n",
            "│    │    │    └─bn2.weight                                                            ├─256\n",
            "│    │    │    └─bn2.bias                                                              ├─256\n",
            "│    │    │    └─conv3.weight                                                          ├─262,144\n",
            "│    │    │    └─bn3.weight                                                            ├─1,024\n",
            "│    │    │    └─bn3.bias                                                              └─1,024\n",
            "│    └─Sequential: 2-8                                       [32, 2048, 7, 7]          --\n",
            "│    │    └─0.conv1.weight                                                             ├─524,288\n",
            "│    │    └─0.bn1.weight                                                               ├─512\n",
            "│    │    └─0.bn1.bias                                                                 ├─512\n",
            "│    │    └─0.conv2.weight                                                             ├─2,359,296\n",
            "│    │    └─0.bn2.weight                                                               ├─512\n",
            "│    │    └─0.bn2.bias                                                                 ├─512\n",
            "│    │    └─0.conv3.weight                                                             ├─1,048,576\n",
            "│    │    └─0.bn3.weight                                                               ├─2,048\n",
            "│    │    └─0.bn3.bias                                                                 ├─2,048\n",
            "│    │    └─0.downsample.0.weight                                                      ├─2,097,152\n",
            "│    │    └─0.downsample.1.weight                                                      ├─2,048\n",
            "│    │    └─0.downsample.1.bias                                                        ├─2,048\n",
            "│    │    └─1.conv1.weight                                                             ├─1,048,576\n",
            "│    │    └─1.bn1.weight                                                               ├─512\n",
            "│    │    └─1.bn1.bias                                                                 ├─512\n",
            "│    │    └─1.conv2.weight                                                             ├─2,359,296\n",
            "│    │    └─1.bn2.weight                                                               ├─512\n",
            "│    │    └─1.bn2.bias                                                                 ├─512\n",
            "│    │    └─1.conv3.weight                                                             ├─1,048,576\n",
            "│    │    └─1.bn3.weight                                                               ├─2,048\n",
            "│    │    └─1.bn3.bias                                                                 ├─2,048\n",
            "│    │    └─2.conv1.weight                                                             ├─1,048,576\n",
            "│    │    └─2.bn1.weight                                                               ├─512\n",
            "│    │    └─2.bn1.bias                                                                 ├─512\n",
            "│    │    └─2.conv2.weight                                                             ├─2,359,296\n",
            "│    │    └─2.bn2.weight                                                               ├─512\n",
            "│    │    └─2.bn2.bias                                                                 ├─512\n",
            "│    │    └─2.conv3.weight                                                             ├─1,048,576\n",
            "│    │    └─2.bn3.weight                                                               ├─2,048\n",
            "│    │    └─2.bn3.bias                                                                 └─2,048\n",
            "│    │    └─Bottleneck: 3-14                                 [32, 2048, 7, 7]          (6,039,552)\n",
            "│    │    │    └─conv1.weight                                                          ├─524,288\n",
            "│    │    │    └─bn1.weight                                                            ├─512\n",
            "│    │    │    └─bn1.bias                                                              ├─512\n",
            "│    │    │    └─conv2.weight                                                          ├─2,359,296\n",
            "│    │    │    └─bn2.weight                                                            ├─512\n",
            "│    │    │    └─bn2.bias                                                              ├─512\n",
            "│    │    │    └─conv3.weight                                                          ├─1,048,576\n",
            "│    │    │    └─bn3.weight                                                            ├─2,048\n",
            "│    │    │    └─bn3.bias                                                              ├─2,048\n",
            "│    │    │    └─downsample.0.weight                                                   ├─2,097,152\n",
            "│    │    │    └─downsample.1.weight                                                   ├─2,048\n",
            "│    │    │    └─downsample.1.bias                                                     └─2,048\n",
            "│    │    └─Bottleneck: 3-15                                 [32, 2048, 7, 7]          (4,462,592)\n",
            "│    │    │    └─conv1.weight                                                          ├─1,048,576\n",
            "│    │    │    └─bn1.weight                                                            ├─512\n",
            "│    │    │    └─bn1.bias                                                              ├─512\n",
            "│    │    │    └─conv2.weight                                                          ├─2,359,296\n",
            "│    │    │    └─bn2.weight                                                            ├─512\n",
            "│    │    │    └─bn2.bias                                                              ├─512\n",
            "│    │    │    └─conv3.weight                                                          ├─1,048,576\n",
            "│    │    │    └─bn3.weight                                                            ├─2,048\n",
            "│    │    │    └─bn3.bias                                                              └─2,048\n",
            "│    │    └─Bottleneck: 3-16                                 [32, 2048, 7, 7]          (4,462,592)\n",
            "│    │    │    └─conv1.weight                                                          ├─1,048,576\n",
            "│    │    │    └─bn1.weight                                                            ├─512\n",
            "│    │    │    └─bn1.bias                                                              ├─512\n",
            "│    │    │    └─conv2.weight                                                          ├─2,359,296\n",
            "│    │    │    └─bn2.weight                                                            ├─512\n",
            "│    │    │    └─bn2.bias                                                              ├─512\n",
            "│    │    │    └─conv3.weight                                                          ├─1,048,576\n",
            "│    │    │    └─bn3.weight                                                            ├─2,048\n",
            "│    │    │    └─bn3.bias                                                              └─2,048\n",
            "│    └─SelectAdaptivePool2d: 2-9                             [32, 2048]                --\n",
            "│    │    └─AdaptiveAvgPool2d: 3-17                          [32, 2048, 1, 1]          --\n",
            "│    │    └─Flatten: 3-18                                    [32, 2048]                --\n",
            "│    └─Identity: 2-10                                        [32, 2048]                --\n",
            "├─ConvTranspose2d: 1-2                                       [32, 16, 16, 16]          8,208\n",
            "│    └─weight                                                                          ├─8,192\n",
            "│    └─bias                                                                            └─16\n",
            "├─ConvTranspose2d: 1-3                                       [32, 8, 32, 32]           2,056\n",
            "│    └─weight                                                                          ├─2,048\n",
            "│    └─bias                                                                            └─8\n",
            "├─ConvTranspose2d: 1-4                                       [32, 3, 128, 128]         387\n",
            "│    └─weight                                                                          ├─384\n",
            "│    └─bias                                                                            └─3\n",
            "├─LevitDistilled: 1-5                                        [32, 37]                  --\n",
            "│    └─stem.conv1.linear.weight                                                        ├─864\n",
            "│    └─stem.conv1.bn.weight                                                            ├─32\n",
            "│    └─stem.conv1.bn.bias                                                              ├─32\n",
            "│    └─stem.conv2.linear.weight                                                        ├─18,432\n",
            "│    └─stem.conv2.bn.weight                                                            ├─64\n",
            "│    └─stem.conv2.bn.bias                                                              ├─64\n",
            "│    └─stem.conv3.linear.weight                                                        ├─73,728\n",
            "│    └─stem.conv3.bn.weight                                                            ├─128\n",
            "│    └─stem.conv3.bn.bias                                                              ├─128\n",
            "│    └─stem.conv4.linear.weight                                                        ├─294,912\n",
            "│    └─stem.conv4.bn.weight                                                            ├─256\n",
            "│    └─stem.conv4.bn.bias                                                              ├─256\n",
            "│    └─stage1.blocks.0.attn.qkv.linear.weight                                          ├─196,608\n",
            "│    └─stage1.blocks.0.attn.qkv.bn.weight                                              ├─768\n",
            "│    └─stage1.blocks.0.attn.qkv.bn.bias                                                ├─768\n",
            "│    └─stage1.blocks.0.attn.proj.1.linear.weight                                       ├─65,536\n",
            "│    └─stage1.blocks.0.attn.proj.1.bn.weight                                           ├─256\n",
            "│    └─stage1.blocks.0.attn.proj.1.bn.bias                                             ├─256\n",
            "│    └─stage1.blocks.0.mlp.ln1.linear.weight                                           ├─131,072\n",
            "│    └─stage1.blocks.0.mlp.ln1.bn.weight                                               ├─512\n",
            "│    └─stage1.blocks.0.mlp.ln1.bn.bias                                                 ├─512\n",
            "│    └─stage1.blocks.0.mlp.ln2.linear.weight                                           ├─131,072\n",
            "│    └─stage1.blocks.0.mlp.ln2.bn.weight                                               ├─256\n",
            "│    └─stage1.blocks.0.mlp.ln2.bn.bias                                                 ├─256\n",
            "│    └─stage1.blocks.1.attn.qkv.linear.weight                                          ├─196,608\n",
            "│    └─stage1.blocks.1.attn.qkv.bn.weight                                              ├─768\n",
            "│    └─stage1.blocks.1.attn.qkv.bn.bias                                                ├─768\n",
            "│    └─stage1.blocks.1.attn.proj.1.linear.weight                                       ├─65,536\n",
            "│    └─stage1.blocks.1.attn.proj.1.bn.weight                                           ├─256\n",
            "│    └─stage1.blocks.1.attn.proj.1.bn.bias                                             ├─256\n",
            "│    └─stage1.blocks.1.mlp.ln1.linear.weight                                           ├─131,072\n",
            "│    └─stage1.blocks.1.mlp.ln1.bn.weight                                               ├─512\n",
            "│    └─stage1.blocks.1.mlp.ln1.bn.bias                                                 ├─512\n",
            "│    └─stage1.blocks.1.mlp.ln2.linear.weight                                           ├─131,072\n",
            "│    └─stage1.blocks.1.mlp.ln2.bn.weight                                               ├─256\n",
            "│    └─stage1.blocks.1.mlp.ln2.bn.bias                                                 ├─256\n",
            "│    └─stage2.downsample.conv.weight                                                   ├─884,736\n",
            "│    └─stage2.downsample.conv.bias                                                     ├─384\n",
            "│    └─stage2.blocks.0.attn.qkv.linear.weight                                          ├─442,368\n",
            "│    └─stage2.blocks.0.attn.qkv.bn.weight                                              ├─1,152\n",
            "│    └─stage2.blocks.0.attn.qkv.bn.bias                                                ├─1,152\n",
            "│    └─stage2.blocks.0.attn.proj.1.linear.weight                                       ├─147,456\n",
            "│    └─stage2.blocks.0.attn.proj.1.bn.weight                                           ├─384\n",
            "│    └─stage2.blocks.0.attn.proj.1.bn.bias                                             ├─384\n",
            "│    └─stage2.blocks.0.mlp.ln1.linear.weight                                           ├─294,912\n",
            "│    └─stage2.blocks.0.mlp.ln1.bn.weight                                               ├─768\n",
            "│    └─stage2.blocks.0.mlp.ln1.bn.bias                                                 ├─768\n",
            "│    └─stage2.blocks.0.mlp.ln2.linear.weight                                           ├─294,912\n",
            "│    └─stage2.blocks.0.mlp.ln2.bn.weight                                               ├─384\n",
            "│    └─stage2.blocks.0.mlp.ln2.bn.bias                                                 ├─384\n",
            "│    └─stage2.blocks.1.attn.qkv.linear.weight                                          ├─442,368\n",
            "│    └─stage2.blocks.1.attn.qkv.bn.weight                                              ├─1,152\n",
            "│    └─stage2.blocks.1.attn.qkv.bn.bias                                                ├─1,152\n",
            "│    └─stage2.blocks.1.attn.proj.1.linear.weight                                       ├─147,456\n",
            "│    └─stage2.blocks.1.attn.proj.1.bn.weight                                           ├─384\n",
            "│    └─stage2.blocks.1.attn.proj.1.bn.bias                                             ├─384\n",
            "│    └─stage2.blocks.1.mlp.ln1.linear.weight                                           ├─294,912\n",
            "│    └─stage2.blocks.1.mlp.ln1.bn.weight                                               ├─768\n",
            "│    └─stage2.blocks.1.mlp.ln1.bn.bias                                                 ├─768\n",
            "│    └─stage2.blocks.1.mlp.ln2.linear.weight                                           ├─294,912\n",
            "│    └─stage2.blocks.1.mlp.ln2.bn.weight                                               ├─384\n",
            "│    └─stage2.blocks.1.mlp.ln2.bn.bias                                                 ├─384\n",
            "│    └─conv1x1.0.weight                                                                ├─196,608\n",
            "│    └─conv1x1.0.bias                                                                  ├─512\n",
            "│    └─conv1x1.1.weight                                                                ├─512\n",
            "│    └─conv1x1.1.bias                                                                  ├─512\n",
            "│    └─head.bn.weight                                                                  ├─512\n",
            "│    └─head.bn.bias                                                                    ├─512\n",
            "│    └─head.linear.weight                                                              ├─18,944\n",
            "│    └─head.linear.bias                                                                ├─37\n",
            "│    └─head_dist.bn.weight                                                             ├─512\n",
            "│    └─head_dist.bn.bias                                                               ├─512\n",
            "│    └─head_dist.linear.weight                                                         ├─18,944\n",
            "│    └─head_dist.linear.bias                                                           └─37\n",
            "│    └─Stem16: 2-11                                          [32, 256, 8, 8]           --\n",
            "│    │    └─conv1.linear.weight                                                        ├─864\n",
            "│    │    └─conv1.bn.weight                                                            ├─32\n",
            "│    │    └─conv1.bn.bias                                                              ├─32\n",
            "│    │    └─conv2.linear.weight                                                        ├─18,432\n",
            "│    │    └─conv2.bn.weight                                                            ├─64\n",
            "│    │    └─conv2.bn.bias                                                              ├─64\n",
            "│    │    └─conv3.linear.weight                                                        ├─73,728\n",
            "│    │    └─conv3.bn.weight                                                            ├─128\n",
            "│    │    └─conv3.bn.bias                                                              ├─128\n",
            "│    │    └─conv4.linear.weight                                                        ├─294,912\n",
            "│    │    └─conv4.bn.weight                                                            ├─256\n",
            "│    │    └─conv4.bn.bias                                                              └─256\n",
            "│    │    └─ConvNorm: 3-19                                   [32, 32, 64, 64]          928\n",
            "│    │    │    └─linear.weight                                                         ├─864\n",
            "│    │    │    └─bn.weight                                                             ├─32\n",
            "│    │    │    └─bn.bias                                                               └─32\n",
            "│    │    └─Hardswish: 3-20                                  [32, 32, 64, 64]          --\n",
            "│    │    └─ConvNorm: 3-21                                   [32, 64, 32, 32]          18,560\n",
            "│    │    │    └─linear.weight                                                         ├─18,432\n",
            "│    │    │    └─bn.weight                                                             ├─64\n",
            "│    │    │    └─bn.bias                                                               └─64\n",
            "│    │    └─Hardswish: 3-22                                  [32, 64, 32, 32]          --\n",
            "│    │    └─ConvNorm: 3-23                                   [32, 128, 16, 16]         73,984\n",
            "│    │    │    └─linear.weight                                                         ├─73,728\n",
            "│    │    │    └─bn.weight                                                             ├─128\n",
            "│    │    │    └─bn.bias                                                               └─128\n",
            "│    │    └─Hardswish: 3-24                                  [32, 128, 16, 16]         --\n",
            "│    │    └─ConvNorm: 3-25                                   [32, 256, 8, 8]           295,424\n",
            "│    │    │    └─linear.weight                                                         ├─294,912\n",
            "│    │    │    └─bn.weight                                                             ├─256\n",
            "│    │    │    └─bn.bias                                                               └─256\n",
            "│    └─LevitStage: 2-12                                      [32, 64, 256]             --\n",
            "│    │    └─blocks.0.attn.qkv.linear.weight                                            ├─196,608\n",
            "│    │    └─blocks.0.attn.qkv.bn.weight                                                ├─768\n",
            "│    │    └─blocks.0.attn.qkv.bn.bias                                                  ├─768\n",
            "│    │    └─blocks.0.attn.proj.1.linear.weight                                         ├─65,536\n",
            "│    │    └─blocks.0.attn.proj.1.bn.weight                                             ├─256\n",
            "│    │    └─blocks.0.attn.proj.1.bn.bias                                               ├─256\n",
            "│    │    └─blocks.0.mlp.ln1.linear.weight                                             ├─131,072\n",
            "│    │    └─blocks.0.mlp.ln1.bn.weight                                                 ├─512\n",
            "│    │    └─blocks.0.mlp.ln1.bn.bias                                                   ├─512\n",
            "│    │    └─blocks.0.mlp.ln2.linear.weight                                             ├─131,072\n",
            "│    │    └─blocks.0.mlp.ln2.bn.weight                                                 ├─256\n",
            "│    │    └─blocks.0.mlp.ln2.bn.bias                                                   ├─256\n",
            "│    │    └─blocks.1.attn.qkv.linear.weight                                            ├─196,608\n",
            "│    │    └─blocks.1.attn.qkv.bn.weight                                                ├─768\n",
            "│    │    └─blocks.1.attn.qkv.bn.bias                                                  ├─768\n",
            "│    │    └─blocks.1.attn.proj.1.linear.weight                                         ├─65,536\n",
            "│    │    └─blocks.1.attn.proj.1.bn.weight                                             ├─256\n",
            "│    │    └─blocks.1.attn.proj.1.bn.bias                                               ├─256\n",
            "│    │    └─blocks.1.mlp.ln1.linear.weight                                             ├─131,072\n",
            "│    │    └─blocks.1.mlp.ln1.bn.weight                                                 ├─512\n",
            "│    │    └─blocks.1.mlp.ln1.bn.bias                                                   ├─512\n",
            "│    │    └─blocks.1.mlp.ln2.linear.weight                                             ├─131,072\n",
            "│    │    └─blocks.1.mlp.ln2.bn.weight                                                 ├─256\n",
            "│    │    └─blocks.1.mlp.ln2.bn.bias                                                   └─256\n",
            "│    │    └─Identity: 3-26                                   [32, 64, 256]             --\n",
            "│    │    └─Sequential: 3-27                                 [32, 64, 256]             1,055,744\n",
            "│    │    │    └─0.attn.qkv.linear.weight                                              ├─196,608\n",
            "│    │    │    └─0.attn.qkv.bn.weight                                                  ├─768\n",
            "│    │    │    └─0.attn.qkv.bn.bias                                                    ├─768\n",
            "│    │    │    └─0.attn.proj.1.linear.weight                                           ├─65,536\n",
            "│    │    │    └─0.attn.proj.1.bn.weight                                               ├─256\n",
            "│    │    │    └─0.attn.proj.1.bn.bias                                                 ├─256\n",
            "│    │    │    └─0.mlp.ln1.linear.weight                                               ├─131,072\n",
            "│    │    │    └─0.mlp.ln1.bn.weight                                                   ├─512\n",
            "│    │    │    └─0.mlp.ln1.bn.bias                                                     ├─512\n",
            "│    │    │    └─0.mlp.ln2.linear.weight                                               ├─131,072\n",
            "│    │    │    └─0.mlp.ln2.bn.weight                                                   ├─256\n",
            "│    │    │    └─0.mlp.ln2.bn.bias                                                     ├─256\n",
            "│    │    │    └─1.attn.qkv.linear.weight                                              ├─196,608\n",
            "│    │    │    └─1.attn.qkv.bn.weight                                                  ├─768\n",
            "│    │    │    └─1.attn.qkv.bn.bias                                                    ├─768\n",
            "│    │    │    └─1.attn.proj.1.linear.weight                                           ├─65,536\n",
            "│    │    │    └─1.attn.proj.1.bn.weight                                               ├─256\n",
            "│    │    │    └─1.attn.proj.1.bn.bias                                                 ├─256\n",
            "│    │    │    └─1.mlp.ln1.linear.weight                                               ├─131,072\n",
            "│    │    │    └─1.mlp.ln1.bn.weight                                                   ├─512\n",
            "│    │    │    └─1.mlp.ln1.bn.bias                                                     ├─512\n",
            "│    │    │    └─1.mlp.ln2.linear.weight                                               ├─131,072\n",
            "│    │    │    └─1.mlp.ln2.bn.weight                                                   ├─256\n",
            "│    │    │    └─1.mlp.ln2.bn.bias                                                     └─256\n",
            "│    └─LevitStage: 2-13                                      [32, 16, 384]             --\n",
            "│    │    └─downsample.conv.weight                                                     ├─884,736\n",
            "│    │    └─downsample.conv.bias                                                       ├─384\n",
            "│    │    └─blocks.0.attn.qkv.linear.weight                                            ├─442,368\n",
            "│    │    └─blocks.0.attn.qkv.bn.weight                                                ├─1,152\n",
            "│    │    └─blocks.0.attn.qkv.bn.bias                                                  ├─1,152\n",
            "│    │    └─blocks.0.attn.proj.1.linear.weight                                         ├─147,456\n",
            "│    │    └─blocks.0.attn.proj.1.bn.weight                                             ├─384\n",
            "│    │    └─blocks.0.attn.proj.1.bn.bias                                               ├─384\n",
            "│    │    └─blocks.0.mlp.ln1.linear.weight                                             ├─294,912\n",
            "│    │    └─blocks.0.mlp.ln1.bn.weight                                                 ├─768\n",
            "│    │    └─blocks.0.mlp.ln1.bn.bias                                                   ├─768\n",
            "│    │    └─blocks.0.mlp.ln2.linear.weight                                             ├─294,912\n",
            "│    │    └─blocks.0.mlp.ln2.bn.weight                                                 ├─384\n",
            "│    │    └─blocks.0.mlp.ln2.bn.bias                                                   ├─384\n",
            "│    │    └─blocks.1.attn.qkv.linear.weight                                            ├─442,368\n",
            "│    │    └─blocks.1.attn.qkv.bn.weight                                                ├─1,152\n",
            "│    │    └─blocks.1.attn.qkv.bn.bias                                                  ├─1,152\n",
            "│    │    └─blocks.1.attn.proj.1.linear.weight                                         ├─147,456\n",
            "│    │    └─blocks.1.attn.proj.1.bn.weight                                             ├─384\n",
            "│    │    └─blocks.1.attn.proj.1.bn.bias                                               ├─384\n",
            "│    │    └─blocks.1.mlp.ln1.linear.weight                                             ├─294,912\n",
            "│    │    └─blocks.1.mlp.ln1.bn.weight                                                 ├─768\n",
            "│    │    └─blocks.1.mlp.ln1.bn.bias                                                   ├─768\n",
            "│    │    └─blocks.1.mlp.ln2.linear.weight                                             ├─294,912\n",
            "│    │    └─blocks.1.mlp.ln2.bn.weight                                                 ├─384\n",
            "│    │    └─blocks.1.mlp.ln2.bn.bias                                                   └─384\n",
            "│    │    └─CNNDownsample: 3-28                              [32, 16, 384]             885,120\n",
            "│    │    │    └─conv.weight                                                           ├─884,736\n",
            "│    │    │    └─conv.bias                                                             └─384\n",
            "│    │    └─Sequential: 3-29                                 [32, 16, 384]             2,370,048\n",
            "│    │    │    └─0.attn.qkv.linear.weight                                              ├─442,368\n",
            "│    │    │    └─0.attn.qkv.bn.weight                                                  ├─1,152\n",
            "│    │    │    └─0.attn.qkv.bn.bias                                                    ├─1,152\n",
            "│    │    │    └─0.attn.proj.1.linear.weight                                           ├─147,456\n",
            "│    │    │    └─0.attn.proj.1.bn.weight                                               ├─384\n",
            "│    │    │    └─0.attn.proj.1.bn.bias                                                 ├─384\n",
            "│    │    │    └─0.mlp.ln1.linear.weight                                               ├─294,912\n",
            "│    │    │    └─0.mlp.ln1.bn.weight                                                   ├─768\n",
            "│    │    │    └─0.mlp.ln1.bn.bias                                                     ├─768\n",
            "│    │    │    └─0.mlp.ln2.linear.weight                                               ├─294,912\n",
            "│    │    │    └─0.mlp.ln2.bn.weight                                                   ├─384\n",
            "│    │    │    └─0.mlp.ln2.bn.bias                                                     ├─384\n",
            "│    │    │    └─1.attn.qkv.linear.weight                                              ├─442,368\n",
            "│    │    │    └─1.attn.qkv.bn.weight                                                  ├─1,152\n",
            "│    │    │    └─1.attn.qkv.bn.bias                                                    ├─1,152\n",
            "│    │    │    └─1.attn.proj.1.linear.weight                                           ├─147,456\n",
            "│    │    │    └─1.attn.proj.1.bn.weight                                               ├─384\n",
            "│    │    │    └─1.attn.proj.1.bn.bias                                                 ├─384\n",
            "│    │    │    └─1.mlp.ln1.linear.weight                                               ├─294,912\n",
            "│    │    │    └─1.mlp.ln1.bn.weight                                                   ├─768\n",
            "│    │    │    └─1.mlp.ln1.bn.bias                                                     ├─768\n",
            "│    │    │    └─1.mlp.ln2.linear.weight                                               ├─294,912\n",
            "│    │    │    └─1.mlp.ln2.bn.weight                                                   ├─384\n",
            "│    │    │    └─1.mlp.ln2.bn.bias                                                     └─384\n",
            "│    └─Sequential: 2-14                                      [32, 512, 4, 4]           --\n",
            "│    │    └─0.weight                                                                   ├─196,608\n",
            "│    │    └─0.bias                                                                     ├─512\n",
            "│    │    └─1.weight                                                                   ├─512\n",
            "│    │    └─1.bias                                                                     └─512\n",
            "│    │    └─Conv2d: 3-30                                     [32, 512, 4, 4]           197,120\n",
            "│    │    │    └─weight                                                                ├─196,608\n",
            "│    │    │    └─bias                                                                  └─512\n",
            "│    │    └─BatchNorm2d: 3-31                                [32, 512, 4, 4]           1,024\n",
            "│    │    │    └─weight                                                                ├─512\n",
            "│    │    │    └─bias                                                                  └─512\n",
            "│    │    └─ReLU: 3-32                                       [32, 512, 4, 4]           --\n",
            "│    └─NormLinear: 2-15                                      [32, 37]                  --\n",
            "│    │    └─bn.weight                                                                  ├─512\n",
            "│    │    └─bn.bias                                                                    ├─512\n",
            "│    │    └─linear.weight                                                              ├─18,944\n",
            "│    │    └─linear.bias                                                                └─37\n",
            "│    │    └─BatchNorm1d: 3-33                                [32, 512]                 1,024\n",
            "│    │    │    └─weight                                                                ├─512\n",
            "│    │    │    └─bias                                                                  └─512\n",
            "│    │    └─Dropout: 3-34                                    [32, 512]                 --\n",
            "│    │    └─Linear: 3-35                                     [32, 37]                  18,981\n",
            "│    │    │    └─weight                                                                ├─18,944\n",
            "│    │    │    └─bias                                                                  └─37\n",
            "│    └─NormLinear: 2-16                                      [32, 37]                  --\n",
            "│    │    └─bn.weight                                                                  ├─512\n",
            "│    │    └─bn.bias                                                                    ├─512\n",
            "│    │    └─linear.weight                                                              ├─18,944\n",
            "│    │    └─linear.bias                                                                └─37\n",
            "│    │    └─BatchNorm1d: 3-36                                [32, 512]                 1,024\n",
            "│    │    │    └─weight                                                                ├─512\n",
            "│    │    │    └─bias                                                                  └─512\n",
            "│    │    └─Dropout: 3-37                                    [32, 512]                 --\n",
            "│    │    └─Linear: 3-38                                     [32, 37]                  18,981\n",
            "│    │    │    └─weight                                                                ├─18,944\n",
            "│    │    │    └─bias                                                                  └─37\n",
            "==============================================================================================================\n",
            "Total params: 28,456,645\n",
            "Trainable params: 4,948,613\n",
            "Non-trainable params: 23,508,032\n",
            "Total mult-adds (G): 136.98\n",
            "==============================================================================================================\n",
            "Input size (MB): 19.27\n",
            "Forward/backward pass size (MB): 5999.45\n",
            "Params size (MB): 113.83\n",
            "Estimated Total Size (MB): 6132.54\n",
            "==============================================================================================================\n",
            "==============================================================================================================\n",
            "Layer (type:depth-idx)                                       Output Shape              Param #\n",
            "==============================================================================================================\n",
            "LauncherModel                                                [32, 37]                  --\n",
            "├─ResNet: 1-1                                                [32, 2048]                --\n",
            "│    └─conv1.weight                                                                    ├─9,408\n",
            "│    └─bn1.weight                                                                      ├─64\n",
            "│    └─bn1.bias                                                                        ├─64\n",
            "│    └─layer1.0.conv1.weight                                                           ├─4,096\n",
            "│    └─layer1.0.bn1.weight                                                             ├─64\n",
            "│    └─layer1.0.bn1.bias                                                               ├─64\n",
            "│    └─layer1.0.conv2.weight                                                           ├─36,864\n",
            "│    └─layer1.0.bn2.weight                                                             ├─64\n",
            "│    └─layer1.0.bn2.bias                                                               ├─64\n",
            "│    └─layer1.0.conv3.weight                                                           ├─16,384\n",
            "│    └─layer1.0.bn3.weight                                                             ├─256\n",
            "│    └─layer1.0.bn3.bias                                                               ├─256\n",
            "│    └─layer1.0.downsample.0.weight                                                    ├─16,384\n",
            "│    └─layer1.0.downsample.1.weight                                                    ├─256\n",
            "│    └─layer1.0.downsample.1.bias                                                      ├─256\n",
            "│    └─layer1.1.conv1.weight                                                           ├─16,384\n",
            "│    └─layer1.1.bn1.weight                                                             ├─64\n",
            "│    └─layer1.1.bn1.bias                                                               ├─64\n",
            "│    └─layer1.1.conv2.weight                                                           ├─36,864\n",
            "│    └─layer1.1.bn2.weight                                                             ├─64\n",
            "│    └─layer1.1.bn2.bias                                                               ├─64\n",
            "│    └─layer1.1.conv3.weight                                                           ├─16,384\n",
            "│    └─layer1.1.bn3.weight                                                             ├─256\n",
            "│    └─layer1.1.bn3.bias                                                               ├─256\n",
            "│    └─layer1.2.conv1.weight                                                           ├─16,384\n",
            "│    └─layer1.2.bn1.weight                                                             ├─64\n",
            "│    └─layer1.2.bn1.bias                                                               ├─64\n",
            "│    └─layer1.2.conv2.weight                                                           ├─36,864\n",
            "│    └─layer1.2.bn2.weight                                                             ├─64\n",
            "│    └─layer1.2.bn2.bias                                                               ├─64\n",
            "│    └─layer1.2.conv3.weight                                                           ├─16,384\n",
            "│    └─layer1.2.bn3.weight                                                             ├─256\n",
            "│    └─layer1.2.bn3.bias                                                               ├─256\n",
            "│    └─layer2.0.conv1.weight                                                           ├─32,768\n",
            "│    └─layer2.0.bn1.weight                                                             ├─128\n",
            "│    └─layer2.0.bn1.bias                                                               ├─128\n",
            "│    └─layer2.0.conv2.weight                                                           ├─147,456\n",
            "│    └─layer2.0.bn2.weight                                                             ├─128\n",
            "│    └─layer2.0.bn2.bias                                                               ├─128\n",
            "│    └─layer2.0.conv3.weight                                                           ├─65,536\n",
            "│    └─layer2.0.bn3.weight                                                             ├─512\n",
            "│    └─layer2.0.bn3.bias                                                               ├─512\n",
            "│    └─layer2.0.downsample.0.weight                                                    ├─131,072\n",
            "│    └─layer2.0.downsample.1.weight                                                    ├─512\n",
            "│    └─layer2.0.downsample.1.bias                                                      ├─512\n",
            "│    └─layer2.1.conv1.weight                                                           ├─65,536\n",
            "│    └─layer2.1.bn1.weight                                                             ├─128\n",
            "│    └─layer2.1.bn1.bias                                                               ├─128\n",
            "│    └─layer2.1.conv2.weight                                                           ├─147,456\n",
            "│    └─layer2.1.bn2.weight                                                             ├─128\n",
            "│    └─layer2.1.bn2.bias                                                               ├─128\n",
            "│    └─layer2.1.conv3.weight                                                           ├─65,536\n",
            "│    └─layer2.1.bn3.weight                                                             ├─512\n",
            "│    └─layer2.1.bn3.bias                                                               ├─512\n",
            "│    └─layer2.2.conv1.weight                                                           ├─65,536\n",
            "│    └─layer2.2.bn1.weight                                                             ├─128\n",
            "│    └─layer2.2.bn1.bias                                                               ├─128\n",
            "│    └─layer2.2.conv2.weight                                                           ├─147,456\n",
            "│    └─layer2.2.bn2.weight                                                             ├─128\n",
            "│    └─layer2.2.bn2.bias                                                               ├─128\n",
            "│    └─layer2.2.conv3.weight                                                           ├─65,536\n",
            "│    └─layer2.2.bn3.weight                                                             ├─512\n",
            "│    └─layer2.2.bn3.bias                                                               ├─512\n",
            "│    └─layer2.3.conv1.weight                                                           ├─65,536\n",
            "│    └─layer2.3.bn1.weight                                                             ├─128\n",
            "│    └─layer2.3.bn1.bias                                                               ├─128\n",
            "│    └─layer2.3.conv2.weight                                                           ├─147,456\n",
            "│    └─layer2.3.bn2.weight                                                             ├─128\n",
            "│    └─layer2.3.bn2.bias                                                               ├─128\n",
            "│    └─layer2.3.conv3.weight                                                           ├─65,536\n",
            "│    └─layer2.3.bn3.weight                                                             ├─512\n",
            "│    └─layer2.3.bn3.bias                                                               ├─512\n",
            "│    └─layer3.0.conv1.weight                                                           ├─131,072\n",
            "│    └─layer3.0.bn1.weight                                                             ├─256\n",
            "│    └─layer3.0.bn1.bias                                                               ├─256\n",
            "│    └─layer3.0.conv2.weight                                                           ├─589,824\n",
            "│    └─layer3.0.bn2.weight                                                             ├─256\n",
            "│    └─layer3.0.bn2.bias                                                               ├─256\n",
            "│    └─layer3.0.conv3.weight                                                           ├─262,144\n",
            "│    └─layer3.0.bn3.weight                                                             ├─1,024\n",
            "│    └─layer3.0.bn3.bias                                                               ├─1,024\n",
            "│    └─layer3.0.downsample.0.weight                                                    ├─524,288\n",
            "│    └─layer3.0.downsample.1.weight                                                    ├─1,024\n",
            "│    └─layer3.0.downsample.1.bias                                                      ├─1,024\n",
            "│    └─layer3.1.conv1.weight                                                           ├─262,144\n",
            "│    └─layer3.1.bn1.weight                                                             ├─256\n",
            "│    └─layer3.1.bn1.bias                                                               ├─256\n",
            "│    └─layer3.1.conv2.weight                                                           ├─589,824\n",
            "│    └─layer3.1.bn2.weight                                                             ├─256\n",
            "│    └─layer3.1.bn2.bias                                                               ├─256\n",
            "│    └─layer3.1.conv3.weight                                                           ├─262,144\n",
            "│    └─layer3.1.bn3.weight                                                             ├─1,024\n",
            "│    └─layer3.1.bn3.bias                                                               ├─1,024\n",
            "│    └─layer3.2.conv1.weight                                                           ├─262,144\n",
            "│    └─layer3.2.bn1.weight                                                             ├─256\n",
            "│    └─layer3.2.bn1.bias                                                               ├─256\n",
            "│    └─layer3.2.conv2.weight                                                           ├─589,824\n",
            "│    └─layer3.2.bn2.weight                                                             ├─256\n",
            "│    └─layer3.2.bn2.bias                                                               ├─256\n",
            "│    └─layer3.2.conv3.weight                                                           ├─262,144\n",
            "│    └─layer3.2.bn3.weight                                                             ├─1,024\n",
            "│    └─layer3.2.bn3.bias                                                               ├─1,024\n",
            "│    └─layer3.3.conv1.weight                                                           ├─262,144\n",
            "│    └─layer3.3.bn1.weight                                                             ├─256\n",
            "│    └─layer3.3.bn1.bias                                                               ├─256\n",
            "│    └─layer3.3.conv2.weight                                                           ├─589,824\n",
            "│    └─layer3.3.bn2.weight                                                             ├─256\n",
            "│    └─layer3.3.bn2.bias                                                               ├─256\n",
            "│    └─layer3.3.conv3.weight                                                           ├─262,144\n",
            "│    └─layer3.3.bn3.weight                                                             ├─1,024\n",
            "│    └─layer3.3.bn3.bias                                                               ├─1,024\n",
            "│    └─layer3.4.conv1.weight                                                           ├─262,144\n",
            "│    └─layer3.4.bn1.weight                                                             ├─256\n",
            "│    └─layer3.4.bn1.bias                                                               ├─256\n",
            "│    └─layer3.4.conv2.weight                                                           ├─589,824\n",
            "│    └─layer3.4.bn2.weight                                                             ├─256\n",
            "│    └─layer3.4.bn2.bias                                                               ├─256\n",
            "│    └─layer3.4.conv3.weight                                                           ├─262,144\n",
            "│    └─layer3.4.bn3.weight                                                             ├─1,024\n",
            "│    └─layer3.4.bn3.bias                                                               ├─1,024\n",
            "│    └─layer3.5.conv1.weight                                                           ├─262,144\n",
            "│    └─layer3.5.bn1.weight                                                             ├─256\n",
            "│    └─layer3.5.bn1.bias                                                               ├─256\n",
            "│    └─layer3.5.conv2.weight                                                           ├─589,824\n",
            "│    └─layer3.5.bn2.weight                                                             ├─256\n",
            "│    └─layer3.5.bn2.bias                                                               ├─256\n",
            "│    └─layer3.5.conv3.weight                                                           ├─262,144\n",
            "│    └─layer3.5.bn3.weight                                                             ├─1,024\n",
            "│    └─layer3.5.bn3.bias                                                               ├─1,024\n",
            "│    └─layer4.0.conv1.weight                                                           ├─524,288\n",
            "│    └─layer4.0.bn1.weight                                                             ├─512\n",
            "│    └─layer4.0.bn1.bias                                                               ├─512\n",
            "│    └─layer4.0.conv2.weight                                                           ├─2,359,296\n",
            "│    └─layer4.0.bn2.weight                                                             ├─512\n",
            "│    └─layer4.0.bn2.bias                                                               ├─512\n",
            "│    └─layer4.0.conv3.weight                                                           ├─1,048,576\n",
            "│    └─layer4.0.bn3.weight                                                             ├─2,048\n",
            "│    └─layer4.0.bn3.bias                                                               ├─2,048\n",
            "│    └─layer4.0.downsample.0.weight                                                    ├─2,097,152\n",
            "│    └─layer4.0.downsample.1.weight                                                    ├─2,048\n",
            "│    └─layer4.0.downsample.1.bias                                                      ├─2,048\n",
            "│    └─layer4.1.conv1.weight                                                           ├─1,048,576\n",
            "│    └─layer4.1.bn1.weight                                                             ├─512\n",
            "│    └─layer4.1.bn1.bias                                                               ├─512\n",
            "│    └─layer4.1.conv2.weight                                                           ├─2,359,296\n",
            "│    └─layer4.1.bn2.weight                                                             ├─512\n",
            "│    └─layer4.1.bn2.bias                                                               ├─512\n",
            "│    └─layer4.1.conv3.weight                                                           ├─1,048,576\n",
            "│    └─layer4.1.bn3.weight                                                             ├─2,048\n",
            "│    └─layer4.1.bn3.bias                                                               ├─2,048\n",
            "│    └─layer4.2.conv1.weight                                                           ├─1,048,576\n",
            "│    └─layer4.2.bn1.weight                                                             ├─512\n",
            "│    └─layer4.2.bn1.bias                                                               ├─512\n",
            "│    └─layer4.2.conv2.weight                                                           ├─2,359,296\n",
            "│    └─layer4.2.bn2.weight                                                             ├─512\n",
            "│    └─layer4.2.bn2.bias                                                               ├─512\n",
            "│    └─layer4.2.conv3.weight                                                           ├─1,048,576\n",
            "│    └─layer4.2.bn3.weight                                                             ├─2,048\n",
            "│    └─layer4.2.bn3.bias                                                               └─2,048\n",
            "│    └─Conv2d: 2-1                                           [32, 64, 112, 112]        (9,408)\n",
            "│    │    └─weight                                                                     └─9,408\n",
            "│    └─BatchNorm2d: 2-2                                      [32, 64, 112, 112]        (128)\n",
            "│    │    └─weight                                                                     ├─64\n",
            "│    │    └─bias                                                                       └─64\n",
            "│    └─ReLU: 2-3                                             [32, 64, 112, 112]        --\n",
            "│    └─MaxPool2d: 2-4                                        [32, 64, 56, 56]          --\n",
            "│    └─Sequential: 2-5                                       [32, 256, 56, 56]         --\n",
            "│    │    └─0.conv1.weight                                                             ├─4,096\n",
            "│    │    └─0.bn1.weight                                                               ├─64\n",
            "│    │    └─0.bn1.bias                                                                 ├─64\n",
            "│    │    └─0.conv2.weight                                                             ├─36,864\n",
            "│    │    └─0.bn2.weight                                                               ├─64\n",
            "│    │    └─0.bn2.bias                                                                 ├─64\n",
            "│    │    └─0.conv3.weight                                                             ├─16,384\n",
            "│    │    └─0.bn3.weight                                                               ├─256\n",
            "│    │    └─0.bn3.bias                                                                 ├─256\n",
            "│    │    └─0.downsample.0.weight                                                      ├─16,384\n",
            "│    │    └─0.downsample.1.weight                                                      ├─256\n",
            "│    │    └─0.downsample.1.bias                                                        ├─256\n",
            "│    │    └─1.conv1.weight                                                             ├─16,384\n",
            "│    │    └─1.bn1.weight                                                               ├─64\n",
            "│    │    └─1.bn1.bias                                                                 ├─64\n",
            "│    │    └─1.conv2.weight                                                             ├─36,864\n",
            "│    │    └─1.bn2.weight                                                               ├─64\n",
            "│    │    └─1.bn2.bias                                                                 ├─64\n",
            "│    │    └─1.conv3.weight                                                             ├─16,384\n",
            "│    │    └─1.bn3.weight                                                               ├─256\n",
            "│    │    └─1.bn3.bias                                                                 ├─256\n",
            "│    │    └─2.conv1.weight                                                             ├─16,384\n",
            "│    │    └─2.bn1.weight                                                               ├─64\n",
            "│    │    └─2.bn1.bias                                                                 ├─64\n",
            "│    │    └─2.conv2.weight                                                             ├─36,864\n",
            "│    │    └─2.bn2.weight                                                               ├─64\n",
            "│    │    └─2.bn2.bias                                                                 ├─64\n",
            "│    │    └─2.conv3.weight                                                             ├─16,384\n",
            "│    │    └─2.bn3.weight                                                               ├─256\n",
            "│    │    └─2.bn3.bias                                                                 └─256\n",
            "│    │    └─Bottleneck: 3-1                                  [32, 256, 56, 56]         (75,008)\n",
            "│    │    │    └─conv1.weight                                                          ├─4,096\n",
            "│    │    │    └─bn1.weight                                                            ├─64\n",
            "│    │    │    └─bn1.bias                                                              ├─64\n",
            "│    │    │    └─conv2.weight                                                          ├─36,864\n",
            "│    │    │    └─bn2.weight                                                            ├─64\n",
            "│    │    │    └─bn2.bias                                                              ├─64\n",
            "│    │    │    └─conv3.weight                                                          ├─16,384\n",
            "│    │    │    └─bn3.weight                                                            ├─256\n",
            "│    │    │    └─bn3.bias                                                              ├─256\n",
            "│    │    │    └─downsample.0.weight                                                   ├─16,384\n",
            "│    │    │    └─downsample.1.weight                                                   ├─256\n",
            "│    │    │    └─downsample.1.bias                                                     └─256\n",
            "│    │    └─Bottleneck: 3-2                                  [32, 256, 56, 56]         (70,400)\n",
            "│    │    │    └─conv1.weight                                                          ├─16,384\n",
            "│    │    │    └─bn1.weight                                                            ├─64\n",
            "│    │    │    └─bn1.bias                                                              ├─64\n",
            "│    │    │    └─conv2.weight                                                          ├─36,864\n",
            "│    │    │    └─bn2.weight                                                            ├─64\n",
            "│    │    │    └─bn2.bias                                                              ├─64\n",
            "│    │    │    └─conv3.weight                                                          ├─16,384\n",
            "│    │    │    └─bn3.weight                                                            ├─256\n",
            "│    │    │    └─bn3.bias                                                              └─256\n",
            "│    │    └─Bottleneck: 3-3                                  [32, 256, 56, 56]         (70,400)\n",
            "│    │    │    └─conv1.weight                                                          ├─16,384\n",
            "│    │    │    └─bn1.weight                                                            ├─64\n",
            "│    │    │    └─bn1.bias                                                              ├─64\n",
            "│    │    │    └─conv2.weight                                                          ├─36,864\n",
            "│    │    │    └─bn2.weight                                                            ├─64\n",
            "│    │    │    └─bn2.bias                                                              ├─64\n",
            "│    │    │    └─conv3.weight                                                          ├─16,384\n",
            "│    │    │    └─bn3.weight                                                            ├─256\n",
            "│    │    │    └─bn3.bias                                                              └─256\n",
            "│    └─Sequential: 2-6                                       [32, 512, 28, 28]         --\n",
            "│    │    └─0.conv1.weight                                                             ├─32,768\n",
            "│    │    └─0.bn1.weight                                                               ├─128\n",
            "│    │    └─0.bn1.bias                                                                 ├─128\n",
            "│    │    └─0.conv2.weight                                                             ├─147,456\n",
            "│    │    └─0.bn2.weight                                                               ├─128\n",
            "│    │    └─0.bn2.bias                                                                 ├─128\n",
            "│    │    └─0.conv3.weight                                                             ├─65,536\n",
            "│    │    └─0.bn3.weight                                                               ├─512\n",
            "│    │    └─0.bn3.bias                                                                 ├─512\n",
            "│    │    └─0.downsample.0.weight                                                      ├─131,072\n",
            "│    │    └─0.downsample.1.weight                                                      ├─512\n",
            "│    │    └─0.downsample.1.bias                                                        ├─512\n",
            "│    │    └─1.conv1.weight                                                             ├─65,536\n",
            "│    │    └─1.bn1.weight                                                               ├─128\n",
            "│    │    └─1.bn1.bias                                                                 ├─128\n",
            "│    │    └─1.conv2.weight                                                             ├─147,456\n",
            "│    │    └─1.bn2.weight                                                               ├─128\n",
            "│    │    └─1.bn2.bias                                                                 ├─128\n",
            "│    │    └─1.conv3.weight                                                             ├─65,536\n",
            "│    │    └─1.bn3.weight                                                               ├─512\n",
            "│    │    └─1.bn3.bias                                                                 ├─512\n",
            "│    │    └─2.conv1.weight                                                             ├─65,536\n",
            "│    │    └─2.bn1.weight                                                               ├─128\n",
            "│    │    └─2.bn1.bias                                                                 ├─128\n",
            "│    │    └─2.conv2.weight                                                             ├─147,456\n",
            "│    │    └─2.bn2.weight                                                               ├─128\n",
            "│    │    └─2.bn2.bias                                                                 ├─128\n",
            "│    │    └─2.conv3.weight                                                             ├─65,536\n",
            "│    │    └─2.bn3.weight                                                               ├─512\n",
            "│    │    └─2.bn3.bias                                                                 ├─512\n",
            "│    │    └─3.conv1.weight                                                             ├─65,536\n",
            "│    │    └─3.bn1.weight                                                               ├─128\n",
            "│    │    └─3.bn1.bias                                                                 ├─128\n",
            "│    │    └─3.conv2.weight                                                             ├─147,456\n",
            "│    │    └─3.bn2.weight                                                               ├─128\n",
            "│    │    └─3.bn2.bias                                                                 ├─128\n",
            "│    │    └─3.conv3.weight                                                             ├─65,536\n",
            "│    │    └─3.bn3.weight                                                               ├─512\n",
            "│    │    └─3.bn3.bias                                                                 └─512\n",
            "│    │    └─Bottleneck: 3-4                                  [32, 512, 28, 28]         (379,392)\n",
            "│    │    │    └─conv1.weight                                                          ├─32,768\n",
            "│    │    │    └─bn1.weight                                                            ├─128\n",
            "│    │    │    └─bn1.bias                                                              ├─128\n",
            "│    │    │    └─conv2.weight                                                          ├─147,456\n",
            "│    │    │    └─bn2.weight                                                            ├─128\n",
            "│    │    │    └─bn2.bias                                                              ├─128\n",
            "│    │    │    └─conv3.weight                                                          ├─65,536\n",
            "│    │    │    └─bn3.weight                                                            ├─512\n",
            "│    │    │    └─bn3.bias                                                              ├─512\n",
            "│    │    │    └─downsample.0.weight                                                   ├─131,072\n",
            "│    │    │    └─downsample.1.weight                                                   ├─512\n",
            "│    │    │    └─downsample.1.bias                                                     └─512\n",
            "│    │    └─Bottleneck: 3-5                                  [32, 512, 28, 28]         (280,064)\n",
            "│    │    │    └─conv1.weight                                                          ├─65,536\n",
            "│    │    │    └─bn1.weight                                                            ├─128\n",
            "│    │    │    └─bn1.bias                                                              ├─128\n",
            "│    │    │    └─conv2.weight                                                          ├─147,456\n",
            "│    │    │    └─bn2.weight                                                            ├─128\n",
            "│    │    │    └─bn2.bias                                                              ├─128\n",
            "│    │    │    └─conv3.weight                                                          ├─65,536\n",
            "│    │    │    └─bn3.weight                                                            ├─512\n",
            "│    │    │    └─bn3.bias                                                              └─512\n",
            "│    │    └─Bottleneck: 3-6                                  [32, 512, 28, 28]         (280,064)\n",
            "│    │    │    └─conv1.weight                                                          ├─65,536\n",
            "│    │    │    └─bn1.weight                                                            ├─128\n",
            "│    │    │    └─bn1.bias                                                              ├─128\n",
            "│    │    │    └─conv2.weight                                                          ├─147,456\n",
            "│    │    │    └─bn2.weight                                                            ├─128\n",
            "│    │    │    └─bn2.bias                                                              ├─128\n",
            "│    │    │    └─conv3.weight                                                          ├─65,536\n",
            "│    │    │    └─bn3.weight                                                            ├─512\n",
            "│    │    │    └─bn3.bias                                                              └─512\n",
            "│    │    └─Bottleneck: 3-7                                  [32, 512, 28, 28]         (280,064)\n",
            "│    │    │    └─conv1.weight                                                          ├─65,536\n",
            "│    │    │    └─bn1.weight                                                            ├─128\n",
            "│    │    │    └─bn1.bias                                                              ├─128\n",
            "│    │    │    └─conv2.weight                                                          ├─147,456\n",
            "│    │    │    └─bn2.weight                                                            ├─128\n",
            "│    │    │    └─bn2.bias                                                              ├─128\n",
            "│    │    │    └─conv3.weight                                                          ├─65,536\n",
            "│    │    │    └─bn3.weight                                                            ├─512\n",
            "│    │    │    └─bn3.bias                                                              └─512\n",
            "│    └─Sequential: 2-7                                       [32, 1024, 14, 14]        --\n",
            "│    │    └─0.conv1.weight                                                             ├─131,072\n",
            "│    │    └─0.bn1.weight                                                               ├─256\n",
            "│    │    └─0.bn1.bias                                                                 ├─256\n",
            "│    │    └─0.conv2.weight                                                             ├─589,824\n",
            "│    │    └─0.bn2.weight                                                               ├─256\n",
            "│    │    └─0.bn2.bias                                                                 ├─256\n",
            "│    │    └─0.conv3.weight                                                             ├─262,144\n",
            "│    │    └─0.bn3.weight                                                               ├─1,024\n",
            "│    │    └─0.bn3.bias                                                                 ├─1,024\n",
            "│    │    └─0.downsample.0.weight                                                      ├─524,288\n",
            "│    │    └─0.downsample.1.weight                                                      ├─1,024\n",
            "│    │    └─0.downsample.1.bias                                                        ├─1,024\n",
            "│    │    └─1.conv1.weight                                                             ├─262,144\n",
            "│    │    └─1.bn1.weight                                                               ├─256\n",
            "│    │    └─1.bn1.bias                                                                 ├─256\n",
            "│    │    └─1.conv2.weight                                                             ├─589,824\n",
            "│    │    └─1.bn2.weight                                                               ├─256\n",
            "│    │    └─1.bn2.bias                                                                 ├─256\n",
            "│    │    └─1.conv3.weight                                                             ├─262,144\n",
            "│    │    └─1.bn3.weight                                                               ├─1,024\n",
            "│    │    └─1.bn3.bias                                                                 ├─1,024\n",
            "│    │    └─2.conv1.weight                                                             ├─262,144\n",
            "│    │    └─2.bn1.weight                                                               ├─256\n",
            "│    │    └─2.bn1.bias                                                                 ├─256\n",
            "│    │    └─2.conv2.weight                                                             ├─589,824\n",
            "│    │    └─2.bn2.weight                                                               ├─256\n",
            "│    │    └─2.bn2.bias                                                                 ├─256\n",
            "│    │    └─2.conv3.weight                                                             ├─262,144\n",
            "│    │    └─2.bn3.weight                                                               ├─1,024\n",
            "│    │    └─2.bn3.bias                                                                 ├─1,024\n",
            "│    │    └─3.conv1.weight                                                             ├─262,144\n",
            "│    │    └─3.bn1.weight                                                               ├─256\n",
            "│    │    └─3.bn1.bias                                                                 ├─256\n",
            "│    │    └─3.conv2.weight                                                             ├─589,824\n",
            "│    │    └─3.bn2.weight                                                               ├─256\n",
            "│    │    └─3.bn2.bias                                                                 ├─256\n",
            "│    │    └─3.conv3.weight                                                             ├─262,144\n",
            "│    │    └─3.bn3.weight                                                               ├─1,024\n",
            "│    │    └─3.bn3.bias                                                                 ├─1,024\n",
            "│    │    └─4.conv1.weight                                                             ├─262,144\n",
            "│    │    └─4.bn1.weight                                                               ├─256\n",
            "│    │    └─4.bn1.bias                                                                 ├─256\n",
            "│    │    └─4.conv2.weight                                                             ├─589,824\n",
            "│    │    └─4.bn2.weight                                                               ├─256\n",
            "│    │    └─4.bn2.bias                                                                 ├─256\n",
            "│    │    └─4.conv3.weight                                                             ├─262,144\n",
            "│    │    └─4.bn3.weight                                                               ├─1,024\n",
            "│    │    └─4.bn3.bias                                                                 ├─1,024\n",
            "│    │    └─5.conv1.weight                                                             ├─262,144\n",
            "│    │    └─5.bn1.weight                                                               ├─256\n",
            "│    │    └─5.bn1.bias                                                                 ├─256\n",
            "│    │    └─5.conv2.weight                                                             ├─589,824\n",
            "│    │    └─5.bn2.weight                                                               ├─256\n",
            "│    │    └─5.bn2.bias                                                                 ├─256\n",
            "│    │    └─5.conv3.weight                                                             ├─262,144\n",
            "│    │    └─5.bn3.weight                                                               ├─1,024\n",
            "│    │    └─5.bn3.bias                                                                 └─1,024\n",
            "│    │    └─Bottleneck: 3-8                                  [32, 1024, 14, 14]        (1,512,448)\n",
            "│    │    │    └─conv1.weight                                                          ├─131,072\n",
            "│    │    │    └─bn1.weight                                                            ├─256\n",
            "│    │    │    └─bn1.bias                                                              ├─256\n",
            "│    │    │    └─conv2.weight                                                          ├─589,824\n",
            "│    │    │    └─bn2.weight                                                            ├─256\n",
            "│    │    │    └─bn2.bias                                                              ├─256\n",
            "│    │    │    └─conv3.weight                                                          ├─262,144\n",
            "│    │    │    └─bn3.weight                                                            ├─1,024\n",
            "│    │    │    └─bn3.bias                                                              ├─1,024\n",
            "│    │    │    └─downsample.0.weight                                                   ├─524,288\n",
            "│    │    │    └─downsample.1.weight                                                   ├─1,024\n",
            "│    │    │    └─downsample.1.bias                                                     └─1,024\n",
            "│    │    └─Bottleneck: 3-9                                  [32, 1024, 14, 14]        (1,117,184)\n",
            "│    │    │    └─conv1.weight                                                          ├─262,144\n",
            "│    │    │    └─bn1.weight                                                            ├─256\n",
            "│    │    │    └─bn1.bias                                                              ├─256\n",
            "│    │    │    └─conv2.weight                                                          ├─589,824\n",
            "│    │    │    └─bn2.weight                                                            ├─256\n",
            "│    │    │    └─bn2.bias                                                              ├─256\n",
            "│    │    │    └─conv3.weight                                                          ├─262,144\n",
            "│    │    │    └─bn3.weight                                                            ├─1,024\n",
            "│    │    │    └─bn3.bias                                                              └─1,024\n",
            "│    │    └─Bottleneck: 3-10                                 [32, 1024, 14, 14]        (1,117,184)\n",
            "│    │    │    └─conv1.weight                                                          ├─262,144\n",
            "│    │    │    └─bn1.weight                                                            ├─256\n",
            "│    │    │    └─bn1.bias                                                              ├─256\n",
            "│    │    │    └─conv2.weight                                                          ├─589,824\n",
            "│    │    │    └─bn2.weight                                                            ├─256\n",
            "│    │    │    └─bn2.bias                                                              ├─256\n",
            "│    │    │    └─conv3.weight                                                          ├─262,144\n",
            "│    │    │    └─bn3.weight                                                            ├─1,024\n",
            "│    │    │    └─bn3.bias                                                              └─1,024\n",
            "│    │    └─Bottleneck: 3-11                                 [32, 1024, 14, 14]        (1,117,184)\n",
            "│    │    │    └─conv1.weight                                                          ├─262,144\n",
            "│    │    │    └─bn1.weight                                                            ├─256\n",
            "│    │    │    └─bn1.bias                                                              ├─256\n",
            "│    │    │    └─conv2.weight                                                          ├─589,824\n",
            "│    │    │    └─bn2.weight                                                            ├─256\n",
            "│    │    │    └─bn2.bias                                                              ├─256\n",
            "│    │    │    └─conv3.weight                                                          ├─262,144\n",
            "│    │    │    └─bn3.weight                                                            ├─1,024\n",
            "│    │    │    └─bn3.bias                                                              └─1,024\n",
            "│    │    └─Bottleneck: 3-12                                 [32, 1024, 14, 14]        (1,117,184)\n",
            "│    │    │    └─conv1.weight                                                          ├─262,144\n",
            "│    │    │    └─bn1.weight                                                            ├─256\n",
            "│    │    │    └─bn1.bias                                                              ├─256\n",
            "│    │    │    └─conv2.weight                                                          ├─589,824\n",
            "│    │    │    └─bn2.weight                                                            ├─256\n",
            "│    │    │    └─bn2.bias                                                              ├─256\n",
            "│    │    │    └─conv3.weight                                                          ├─262,144\n",
            "│    │    │    └─bn3.weight                                                            ├─1,024\n",
            "│    │    │    └─bn3.bias                                                              └─1,024\n",
            "│    │    └─Bottleneck: 3-13                                 [32, 1024, 14, 14]        (1,117,184)\n",
            "│    │    │    └─conv1.weight                                                          ├─262,144\n",
            "│    │    │    └─bn1.weight                                                            ├─256\n",
            "│    │    │    └─bn1.bias                                                              ├─256\n",
            "│    │    │    └─conv2.weight                                                          ├─589,824\n",
            "│    │    │    └─bn2.weight                                                            ├─256\n",
            "│    │    │    └─bn2.bias                                                              ├─256\n",
            "│    │    │    └─conv3.weight                                                          ├─262,144\n",
            "│    │    │    └─bn3.weight                                                            ├─1,024\n",
            "│    │    │    └─bn3.bias                                                              └─1,024\n",
            "│    └─Sequential: 2-8                                       [32, 2048, 7, 7]          --\n",
            "│    │    └─0.conv1.weight                                                             ├─524,288\n",
            "│    │    └─0.bn1.weight                                                               ├─512\n",
            "│    │    └─0.bn1.bias                                                                 ├─512\n",
            "│    │    └─0.conv2.weight                                                             ├─2,359,296\n",
            "│    │    └─0.bn2.weight                                                               ├─512\n",
            "│    │    └─0.bn2.bias                                                                 ├─512\n",
            "│    │    └─0.conv3.weight                                                             ├─1,048,576\n",
            "│    │    └─0.bn3.weight                                                               ├─2,048\n",
            "│    │    └─0.bn3.bias                                                                 ├─2,048\n",
            "│    │    └─0.downsample.0.weight                                                      ├─2,097,152\n",
            "│    │    └─0.downsample.1.weight                                                      ├─2,048\n",
            "│    │    └─0.downsample.1.bias                                                        ├─2,048\n",
            "│    │    └─1.conv1.weight                                                             ├─1,048,576\n",
            "│    │    └─1.bn1.weight                                                               ├─512\n",
            "│    │    └─1.bn1.bias                                                                 ├─512\n",
            "│    │    └─1.conv2.weight                                                             ├─2,359,296\n",
            "│    │    └─1.bn2.weight                                                               ├─512\n",
            "│    │    └─1.bn2.bias                                                                 ├─512\n",
            "│    │    └─1.conv3.weight                                                             ├─1,048,576\n",
            "│    │    └─1.bn3.weight                                                               ├─2,048\n",
            "│    │    └─1.bn3.bias                                                                 ├─2,048\n",
            "│    │    └─2.conv1.weight                                                             ├─1,048,576\n",
            "│    │    └─2.bn1.weight                                                               ├─512\n",
            "│    │    └─2.bn1.bias                                                                 ├─512\n",
            "│    │    └─2.conv2.weight                                                             ├─2,359,296\n",
            "│    │    └─2.bn2.weight                                                               ├─512\n",
            "│    │    └─2.bn2.bias                                                                 ├─512\n",
            "│    │    └─2.conv3.weight                                                             ├─1,048,576\n",
            "│    │    └─2.bn3.weight                                                               ├─2,048\n",
            "│    │    └─2.bn3.bias                                                                 └─2,048\n",
            "│    │    └─Bottleneck: 3-14                                 [32, 2048, 7, 7]          (6,039,552)\n",
            "│    │    │    └─conv1.weight                                                          ├─524,288\n",
            "│    │    │    └─bn1.weight                                                            ├─512\n",
            "│    │    │    └─bn1.bias                                                              ├─512\n",
            "│    │    │    └─conv2.weight                                                          ├─2,359,296\n",
            "│    │    │    └─bn2.weight                                                            ├─512\n",
            "│    │    │    └─bn2.bias                                                              ├─512\n",
            "│    │    │    └─conv3.weight                                                          ├─1,048,576\n",
            "│    │    │    └─bn3.weight                                                            ├─2,048\n",
            "│    │    │    └─bn3.bias                                                              ├─2,048\n",
            "│    │    │    └─downsample.0.weight                                                   ├─2,097,152\n",
            "│    │    │    └─downsample.1.weight                                                   ├─2,048\n",
            "│    │    │    └─downsample.1.bias                                                     └─2,048\n",
            "│    │    └─Bottleneck: 3-15                                 [32, 2048, 7, 7]          (4,462,592)\n",
            "│    │    │    └─conv1.weight                                                          ├─1,048,576\n",
            "│    │    │    └─bn1.weight                                                            ├─512\n",
            "│    │    │    └─bn1.bias                                                              ├─512\n",
            "│    │    │    └─conv2.weight                                                          ├─2,359,296\n",
            "│    │    │    └─bn2.weight                                                            ├─512\n",
            "│    │    │    └─bn2.bias                                                              ├─512\n",
            "│    │    │    └─conv3.weight                                                          ├─1,048,576\n",
            "│    │    │    └─bn3.weight                                                            ├─2,048\n",
            "│    │    │    └─bn3.bias                                                              └─2,048\n",
            "│    │    └─Bottleneck: 3-16                                 [32, 2048, 7, 7]          (4,462,592)\n",
            "│    │    │    └─conv1.weight                                                          ├─1,048,576\n",
            "│    │    │    └─bn1.weight                                                            ├─512\n",
            "│    │    │    └─bn1.bias                                                              ├─512\n",
            "│    │    │    └─conv2.weight                                                          ├─2,359,296\n",
            "│    │    │    └─bn2.weight                                                            ├─512\n",
            "│    │    │    └─bn2.bias                                                              ├─512\n",
            "│    │    │    └─conv3.weight                                                          ├─1,048,576\n",
            "│    │    │    └─bn3.weight                                                            ├─2,048\n",
            "│    │    │    └─bn3.bias                                                              └─2,048\n",
            "│    └─SelectAdaptivePool2d: 2-9                             [32, 2048]                --\n",
            "│    │    └─AdaptiveAvgPool2d: 3-17                          [32, 2048, 1, 1]          --\n",
            "│    │    └─Flatten: 3-18                                    [32, 2048]                --\n",
            "│    └─Identity: 2-10                                        [32, 2048]                --\n",
            "├─ConvTranspose2d: 1-2                                       [32, 16, 16, 16]          8,208\n",
            "│    └─weight                                                                          ├─8,192\n",
            "│    └─bias                                                                            └─16\n",
            "├─ConvTranspose2d: 1-3                                       [32, 8, 32, 32]           2,056\n",
            "│    └─weight                                                                          ├─2,048\n",
            "│    └─bias                                                                            └─8\n",
            "├─ConvTranspose2d: 1-4                                       [32, 3, 128, 128]         387\n",
            "│    └─weight                                                                          ├─384\n",
            "│    └─bias                                                                            └─3\n",
            "├─LevitDistilled: 1-5                                        [32, 37]                  --\n",
            "│    └─stem.conv1.linear.weight                                                        ├─864\n",
            "│    └─stem.conv1.bn.weight                                                            ├─32\n",
            "│    └─stem.conv1.bn.bias                                                              ├─32\n",
            "│    └─stem.conv2.linear.weight                                                        ├─18,432\n",
            "│    └─stem.conv2.bn.weight                                                            ├─64\n",
            "│    └─stem.conv2.bn.bias                                                              ├─64\n",
            "│    └─stem.conv3.linear.weight                                                        ├─73,728\n",
            "│    └─stem.conv3.bn.weight                                                            ├─128\n",
            "│    └─stem.conv3.bn.bias                                                              ├─128\n",
            "│    └─stem.conv4.linear.weight                                                        ├─294,912\n",
            "│    └─stem.conv4.bn.weight                                                            ├─256\n",
            "│    └─stem.conv4.bn.bias                                                              ├─256\n",
            "│    └─stage1.blocks.0.attn.qkv.linear.weight                                          ├─196,608\n",
            "│    └─stage1.blocks.0.attn.qkv.bn.weight                                              ├─768\n",
            "│    └─stage1.blocks.0.attn.qkv.bn.bias                                                ├─768\n",
            "│    └─stage1.blocks.0.attn.proj.1.linear.weight                                       ├─65,536\n",
            "│    └─stage1.blocks.0.attn.proj.1.bn.weight                                           ├─256\n",
            "│    └─stage1.blocks.0.attn.proj.1.bn.bias                                             ├─256\n",
            "│    └─stage1.blocks.0.mlp.ln1.linear.weight                                           ├─131,072\n",
            "│    └─stage1.blocks.0.mlp.ln1.bn.weight                                               ├─512\n",
            "│    └─stage1.blocks.0.mlp.ln1.bn.bias                                                 ├─512\n",
            "│    └─stage1.blocks.0.mlp.ln2.linear.weight                                           ├─131,072\n",
            "│    └─stage1.blocks.0.mlp.ln2.bn.weight                                               ├─256\n",
            "│    └─stage1.blocks.0.mlp.ln2.bn.bias                                                 ├─256\n",
            "│    └─stage1.blocks.1.attn.qkv.linear.weight                                          ├─196,608\n",
            "│    └─stage1.blocks.1.attn.qkv.bn.weight                                              ├─768\n",
            "│    └─stage1.blocks.1.attn.qkv.bn.bias                                                ├─768\n",
            "│    └─stage1.blocks.1.attn.proj.1.linear.weight                                       ├─65,536\n",
            "│    └─stage1.blocks.1.attn.proj.1.bn.weight                                           ├─256\n",
            "│    └─stage1.blocks.1.attn.proj.1.bn.bias                                             ├─256\n",
            "│    └─stage1.blocks.1.mlp.ln1.linear.weight                                           ├─131,072\n",
            "│    └─stage1.blocks.1.mlp.ln1.bn.weight                                               ├─512\n",
            "│    └─stage1.blocks.1.mlp.ln1.bn.bias                                                 ├─512\n",
            "│    └─stage1.blocks.1.mlp.ln2.linear.weight                                           ├─131,072\n",
            "│    └─stage1.blocks.1.mlp.ln2.bn.weight                                               ├─256\n",
            "│    └─stage1.blocks.1.mlp.ln2.bn.bias                                                 ├─256\n",
            "│    └─stage2.downsample.conv.weight                                                   ├─884,736\n",
            "│    └─stage2.downsample.conv.bias                                                     ├─384\n",
            "│    └─stage2.blocks.0.attn.qkv.linear.weight                                          ├─442,368\n",
            "│    └─stage2.blocks.0.attn.qkv.bn.weight                                              ├─1,152\n",
            "│    └─stage2.blocks.0.attn.qkv.bn.bias                                                ├─1,152\n",
            "│    └─stage2.blocks.0.attn.proj.1.linear.weight                                       ├─147,456\n",
            "│    └─stage2.blocks.0.attn.proj.1.bn.weight                                           ├─384\n",
            "│    └─stage2.blocks.0.attn.proj.1.bn.bias                                             ├─384\n",
            "│    └─stage2.blocks.0.mlp.ln1.linear.weight                                           ├─294,912\n",
            "│    └─stage2.blocks.0.mlp.ln1.bn.weight                                               ├─768\n",
            "│    └─stage2.blocks.0.mlp.ln1.bn.bias                                                 ├─768\n",
            "│    └─stage2.blocks.0.mlp.ln2.linear.weight                                           ├─294,912\n",
            "│    └─stage2.blocks.0.mlp.ln2.bn.weight                                               ├─384\n",
            "│    └─stage2.blocks.0.mlp.ln2.bn.bias                                                 ├─384\n",
            "│    └─stage2.blocks.1.attn.qkv.linear.weight                                          ├─442,368\n",
            "│    └─stage2.blocks.1.attn.qkv.bn.weight                                              ├─1,152\n",
            "│    └─stage2.blocks.1.attn.qkv.bn.bias                                                ├─1,152\n",
            "│    └─stage2.blocks.1.attn.proj.1.linear.weight                                       ├─147,456\n",
            "│    └─stage2.blocks.1.attn.proj.1.bn.weight                                           ├─384\n",
            "│    └─stage2.blocks.1.attn.proj.1.bn.bias                                             ├─384\n",
            "│    └─stage2.blocks.1.mlp.ln1.linear.weight                                           ├─294,912\n",
            "│    └─stage2.blocks.1.mlp.ln1.bn.weight                                               ├─768\n",
            "│    └─stage2.blocks.1.mlp.ln1.bn.bias                                                 ├─768\n",
            "│    └─stage2.blocks.1.mlp.ln2.linear.weight                                           ├─294,912\n",
            "│    └─stage2.blocks.1.mlp.ln2.bn.weight                                               ├─384\n",
            "│    └─stage2.blocks.1.mlp.ln2.bn.bias                                                 ├─384\n",
            "│    └─conv1x1.0.weight                                                                ├─196,608\n",
            "│    └─conv1x1.0.bias                                                                  ├─512\n",
            "│    └─conv1x1.1.weight                                                                ├─512\n",
            "│    └─conv1x1.1.bias                                                                  ├─512\n",
            "│    └─head.bn.weight                                                                  ├─512\n",
            "│    └─head.bn.bias                                                                    ├─512\n",
            "│    └─head.linear.weight                                                              ├─18,944\n",
            "│    └─head.linear.bias                                                                ├─37\n",
            "│    └─head_dist.bn.weight                                                             ├─512\n",
            "│    └─head_dist.bn.bias                                                               ├─512\n",
            "│    └─head_dist.linear.weight                                                         ├─18,944\n",
            "│    └─head_dist.linear.bias                                                           └─37\n",
            "│    └─Stem16: 2-11                                          [32, 256, 8, 8]           --\n",
            "│    │    └─conv1.linear.weight                                                        ├─864\n",
            "│    │    └─conv1.bn.weight                                                            ├─32\n",
            "│    │    └─conv1.bn.bias                                                              ├─32\n",
            "│    │    └─conv2.linear.weight                                                        ├─18,432\n",
            "│    │    └─conv2.bn.weight                                                            ├─64\n",
            "│    │    └─conv2.bn.bias                                                              ├─64\n",
            "│    │    └─conv3.linear.weight                                                        ├─73,728\n",
            "│    │    └─conv3.bn.weight                                                            ├─128\n",
            "│    │    └─conv3.bn.bias                                                              ├─128\n",
            "│    │    └─conv4.linear.weight                                                        ├─294,912\n",
            "│    │    └─conv4.bn.weight                                                            ├─256\n",
            "│    │    └─conv4.bn.bias                                                              └─256\n",
            "│    │    └─ConvNorm: 3-19                                   [32, 32, 64, 64]          928\n",
            "│    │    │    └─linear.weight                                                         ├─864\n",
            "│    │    │    └─bn.weight                                                             ├─32\n",
            "│    │    │    └─bn.bias                                                               └─32\n",
            "│    │    └─Hardswish: 3-20                                  [32, 32, 64, 64]          --\n",
            "│    │    └─ConvNorm: 3-21                                   [32, 64, 32, 32]          18,560\n",
            "│    │    │    └─linear.weight                                                         ├─18,432\n",
            "│    │    │    └─bn.weight                                                             ├─64\n",
            "│    │    │    └─bn.bias                                                               └─64\n",
            "│    │    └─Hardswish: 3-22                                  [32, 64, 32, 32]          --\n",
            "│    │    └─ConvNorm: 3-23                                   [32, 128, 16, 16]         73,984\n",
            "│    │    │    └─linear.weight                                                         ├─73,728\n",
            "│    │    │    └─bn.weight                                                             ├─128\n",
            "│    │    │    └─bn.bias                                                               └─128\n",
            "│    │    └─Hardswish: 3-24                                  [32, 128, 16, 16]         --\n",
            "│    │    └─ConvNorm: 3-25                                   [32, 256, 8, 8]           295,424\n",
            "│    │    │    └─linear.weight                                                         ├─294,912\n",
            "│    │    │    └─bn.weight                                                             ├─256\n",
            "│    │    │    └─bn.bias                                                               └─256\n",
            "│    └─LevitStage: 2-12                                      [32, 64, 256]             --\n",
            "│    │    └─blocks.0.attn.qkv.linear.weight                                            ├─196,608\n",
            "│    │    └─blocks.0.attn.qkv.bn.weight                                                ├─768\n",
            "│    │    └─blocks.0.attn.qkv.bn.bias                                                  ├─768\n",
            "│    │    └─blocks.0.attn.proj.1.linear.weight                                         ├─65,536\n",
            "│    │    └─blocks.0.attn.proj.1.bn.weight                                             ├─256\n",
            "│    │    └─blocks.0.attn.proj.1.bn.bias                                               ├─256\n",
            "│    │    └─blocks.0.mlp.ln1.linear.weight                                             ├─131,072\n",
            "│    │    └─blocks.0.mlp.ln1.bn.weight                                                 ├─512\n",
            "│    │    └─blocks.0.mlp.ln1.bn.bias                                                   ├─512\n",
            "│    │    └─blocks.0.mlp.ln2.linear.weight                                             ├─131,072\n",
            "│    │    └─blocks.0.mlp.ln2.bn.weight                                                 ├─256\n",
            "│    │    └─blocks.0.mlp.ln2.bn.bias                                                   ├─256\n",
            "│    │    └─blocks.1.attn.qkv.linear.weight                                            ├─196,608\n",
            "│    │    └─blocks.1.attn.qkv.bn.weight                                                ├─768\n",
            "│    │    └─blocks.1.attn.qkv.bn.bias                                                  ├─768\n",
            "│    │    └─blocks.1.attn.proj.1.linear.weight                                         ├─65,536\n",
            "│    │    └─blocks.1.attn.proj.1.bn.weight                                             ├─256\n",
            "│    │    └─blocks.1.attn.proj.1.bn.bias                                               ├─256\n",
            "│    │    └─blocks.1.mlp.ln1.linear.weight                                             ├─131,072\n",
            "│    │    └─blocks.1.mlp.ln1.bn.weight                                                 ├─512\n",
            "│    │    └─blocks.1.mlp.ln1.bn.bias                                                   ├─512\n",
            "│    │    └─blocks.1.mlp.ln2.linear.weight                                             ├─131,072\n",
            "│    │    └─blocks.1.mlp.ln2.bn.weight                                                 ├─256\n",
            "│    │    └─blocks.1.mlp.ln2.bn.bias                                                   └─256\n",
            "│    │    └─Identity: 3-26                                   [32, 64, 256]             --\n",
            "│    │    └─Sequential: 3-27                                 [32, 64, 256]             1,055,744\n",
            "│    │    │    └─0.attn.qkv.linear.weight                                              ├─196,608\n",
            "│    │    │    └─0.attn.qkv.bn.weight                                                  ├─768\n",
            "│    │    │    └─0.attn.qkv.bn.bias                                                    ├─768\n",
            "│    │    │    └─0.attn.proj.1.linear.weight                                           ├─65,536\n",
            "│    │    │    └─0.attn.proj.1.bn.weight                                               ├─256\n",
            "│    │    │    └─0.attn.proj.1.bn.bias                                                 ├─256\n",
            "│    │    │    └─0.mlp.ln1.linear.weight                                               ├─131,072\n",
            "│    │    │    └─0.mlp.ln1.bn.weight                                                   ├─512\n",
            "│    │    │    └─0.mlp.ln1.bn.bias                                                     ├─512\n",
            "│    │    │    └─0.mlp.ln2.linear.weight                                               ├─131,072\n",
            "│    │    │    └─0.mlp.ln2.bn.weight                                                   ├─256\n",
            "│    │    │    └─0.mlp.ln2.bn.bias                                                     ├─256\n",
            "│    │    │    └─1.attn.qkv.linear.weight                                              ├─196,608\n",
            "│    │    │    └─1.attn.qkv.bn.weight                                                  ├─768\n",
            "│    │    │    └─1.attn.qkv.bn.bias                                                    ├─768\n",
            "│    │    │    └─1.attn.proj.1.linear.weight                                           ├─65,536\n",
            "│    │    │    └─1.attn.proj.1.bn.weight                                               ├─256\n",
            "│    │    │    └─1.attn.proj.1.bn.bias                                                 ├─256\n",
            "│    │    │    └─1.mlp.ln1.linear.weight                                               ├─131,072\n",
            "│    │    │    └─1.mlp.ln1.bn.weight                                                   ├─512\n",
            "│    │    │    └─1.mlp.ln1.bn.bias                                                     ├─512\n",
            "│    │    │    └─1.mlp.ln2.linear.weight                                               ├─131,072\n",
            "│    │    │    └─1.mlp.ln2.bn.weight                                                   ├─256\n",
            "│    │    │    └─1.mlp.ln2.bn.bias                                                     └─256\n",
            "│    └─LevitStage: 2-13                                      [32, 16, 384]             --\n",
            "│    │    └─downsample.conv.weight                                                     ├─884,736\n",
            "│    │    └─downsample.conv.bias                                                       ├─384\n",
            "│    │    └─blocks.0.attn.qkv.linear.weight                                            ├─442,368\n",
            "│    │    └─blocks.0.attn.qkv.bn.weight                                                ├─1,152\n",
            "│    │    └─blocks.0.attn.qkv.bn.bias                                                  ├─1,152\n",
            "│    │    └─blocks.0.attn.proj.1.linear.weight                                         ├─147,456\n",
            "│    │    └─blocks.0.attn.proj.1.bn.weight                                             ├─384\n",
            "│    │    └─blocks.0.attn.proj.1.bn.bias                                               ├─384\n",
            "│    │    └─blocks.0.mlp.ln1.linear.weight                                             ├─294,912\n",
            "│    │    └─blocks.0.mlp.ln1.bn.weight                                                 ├─768\n",
            "│    │    └─blocks.0.mlp.ln1.bn.bias                                                   ├─768\n",
            "│    │    └─blocks.0.mlp.ln2.linear.weight                                             ├─294,912\n",
            "│    │    └─blocks.0.mlp.ln2.bn.weight                                                 ├─384\n",
            "│    │    └─blocks.0.mlp.ln2.bn.bias                                                   ├─384\n",
            "│    │    └─blocks.1.attn.qkv.linear.weight                                            ├─442,368\n",
            "│    │    └─blocks.1.attn.qkv.bn.weight                                                ├─1,152\n",
            "│    │    └─blocks.1.attn.qkv.bn.bias                                                  ├─1,152\n",
            "│    │    └─blocks.1.attn.proj.1.linear.weight                                         ├─147,456\n",
            "│    │    └─blocks.1.attn.proj.1.bn.weight                                             ├─384\n",
            "│    │    └─blocks.1.attn.proj.1.bn.bias                                               ├─384\n",
            "│    │    └─blocks.1.mlp.ln1.linear.weight                                             ├─294,912\n",
            "│    │    └─blocks.1.mlp.ln1.bn.weight                                                 ├─768\n",
            "│    │    └─blocks.1.mlp.ln1.bn.bias                                                   ├─768\n",
            "│    │    └─blocks.1.mlp.ln2.linear.weight                                             ├─294,912\n",
            "│    │    └─blocks.1.mlp.ln2.bn.weight                                                 ├─384\n",
            "│    │    └─blocks.1.mlp.ln2.bn.bias                                                   └─384\n",
            "│    │    └─CNNDownsample: 3-28                              [32, 16, 384]             885,120\n",
            "│    │    │    └─conv.weight                                                           ├─884,736\n",
            "│    │    │    └─conv.bias                                                             └─384\n",
            "│    │    └─Sequential: 3-29                                 [32, 16, 384]             2,370,048\n",
            "│    │    │    └─0.attn.qkv.linear.weight                                              ├─442,368\n",
            "│    │    │    └─0.attn.qkv.bn.weight                                                  ├─1,152\n",
            "│    │    │    └─0.attn.qkv.bn.bias                                                    ├─1,152\n",
            "│    │    │    └─0.attn.proj.1.linear.weight                                           ├─147,456\n",
            "│    │    │    └─0.attn.proj.1.bn.weight                                               ├─384\n",
            "│    │    │    └─0.attn.proj.1.bn.bias                                                 ├─384\n",
            "│    │    │    └─0.mlp.ln1.linear.weight                                               ├─294,912\n",
            "│    │    │    └─0.mlp.ln1.bn.weight                                                   ├─768\n",
            "│    │    │    └─0.mlp.ln1.bn.bias                                                     ├─768\n",
            "│    │    │    └─0.mlp.ln2.linear.weight                                               ├─294,912\n",
            "│    │    │    └─0.mlp.ln2.bn.weight                                                   ├─384\n",
            "│    │    │    └─0.mlp.ln2.bn.bias                                                     ├─384\n",
            "│    │    │    └─1.attn.qkv.linear.weight                                              ├─442,368\n",
            "│    │    │    └─1.attn.qkv.bn.weight                                                  ├─1,152\n",
            "│    │    │    └─1.attn.qkv.bn.bias                                                    ├─1,152\n",
            "│    │    │    └─1.attn.proj.1.linear.weight                                           ├─147,456\n",
            "│    │    │    └─1.attn.proj.1.bn.weight                                               ├─384\n",
            "│    │    │    └─1.attn.proj.1.bn.bias                                                 ├─384\n",
            "│    │    │    └─1.mlp.ln1.linear.weight                                               ├─294,912\n",
            "│    │    │    └─1.mlp.ln1.bn.weight                                                   ├─768\n",
            "│    │    │    └─1.mlp.ln1.bn.bias                                                     ├─768\n",
            "│    │    │    └─1.mlp.ln2.linear.weight                                               ├─294,912\n",
            "│    │    │    └─1.mlp.ln2.bn.weight                                                   ├─384\n",
            "│    │    │    └─1.mlp.ln2.bn.bias                                                     └─384\n",
            "│    └─Sequential: 2-14                                      [32, 512, 4, 4]           --\n",
            "│    │    └─0.weight                                                                   ├─196,608\n",
            "│    │    └─0.bias                                                                     ├─512\n",
            "│    │    └─1.weight                                                                   ├─512\n",
            "│    │    └─1.bias                                                                     └─512\n",
            "│    │    └─Conv2d: 3-30                                     [32, 512, 4, 4]           197,120\n",
            "│    │    │    └─weight                                                                ├─196,608\n",
            "│    │    │    └─bias                                                                  └─512\n",
            "│    │    └─BatchNorm2d: 3-31                                [32, 512, 4, 4]           1,024\n",
            "│    │    │    └─weight                                                                ├─512\n",
            "│    │    │    └─bias                                                                  └─512\n",
            "│    │    └─ReLU: 3-32                                       [32, 512, 4, 4]           --\n",
            "│    └─NormLinear: 2-15                                      [32, 37]                  --\n",
            "│    │    └─bn.weight                                                                  ├─512\n",
            "│    │    └─bn.bias                                                                    ├─512\n",
            "│    │    └─linear.weight                                                              ├─18,944\n",
            "│    │    └─linear.bias                                                                └─37\n",
            "│    │    └─BatchNorm1d: 3-33                                [32, 512]                 1,024\n",
            "│    │    │    └─weight                                                                ├─512\n",
            "│    │    │    └─bias                                                                  └─512\n",
            "│    │    └─Dropout: 3-34                                    [32, 512]                 --\n",
            "│    │    └─Linear: 3-35                                     [32, 37]                  18,981\n",
            "│    │    │    └─weight                                                                ├─18,944\n",
            "│    │    │    └─bias                                                                  └─37\n",
            "│    └─NormLinear: 2-16                                      [32, 37]                  --\n",
            "│    │    └─bn.weight                                                                  ├─512\n",
            "│    │    └─bn.bias                                                                    ├─512\n",
            "│    │    └─linear.weight                                                              ├─18,944\n",
            "│    │    └─linear.bias                                                                └─37\n",
            "│    │    └─BatchNorm1d: 3-36                                [32, 512]                 1,024\n",
            "│    │    │    └─weight                                                                ├─512\n",
            "│    │    │    └─bias                                                                  └─512\n",
            "│    │    └─Dropout: 3-37                                    [32, 512]                 --\n",
            "│    │    └─Linear: 3-38                                     [32, 37]                  18,981\n",
            "│    │    │    └─weight                                                                ├─18,944\n",
            "│    │    │    └─bias                                                                  └─37\n",
            "==============================================================================================================\n",
            "Total params: 28,456,645\n",
            "Trainable params: 4,948,613\n",
            "Non-trainable params: 23,508,032\n",
            "Total mult-adds (G): 136.98\n",
            "==============================================================================================================\n",
            "Input size (MB): 19.27\n",
            "Forward/backward pass size (MB): 5999.45\n",
            "Params size (MB): 113.83\n",
            "Estimated Total Size (MB): 6132.54\n",
            "==============================================================================================================\n"
          ]
        }
      ],
      "source": [
        "print(summary(model, input_size=(32, 3, 224, 224), verbose=2))"
      ]
    },
    {
      "cell_type": "code",
      "execution_count": 23,
      "metadata": {
        "id": "B6tgYurjZpJ4"
      },
      "outputs": [],
      "source": [
        "class ISICDataset(Dataset):\n",
        "    def __init__(self, img_dir, csv_file, transform=None):\n",
        "        self.img_dir = img_dir\n",
        "        self.annotations = pd.read_csv(csv_file)\n",
        "        self.transform = transform\n",
        "\n",
        "        # 이미지 파일이 실제로 존재하는지 확인\n",
        "        self.annotations.iloc[:, 0] = self.annotations.iloc[:, 0].apply(lambda x: x if x.endswith('.jpg') else x + '.jpg')\n",
        "        self.valid_annotations = self.annotations[self.annotations.iloc[:, 0].apply(\n",
        "            lambda img_name: os.path.isfile(os.path.join(self.img_dir, img_name))\n",
        "        )]\n",
        "\n",
        "        if len(self.annotations) != len(self.valid_annotations):\n",
        "            print(f\"Warning: {len(self.annotations) - len(self.valid_annotations)} entries were removed due to missing images.\")\n",
        "\n",
        "        print(f\"Dataset loaded: {len(self.valid_annotations)} valid samples found.\")\n",
        "\n",
        "    def __len__(self):\n",
        "        return len(self.valid_annotations)\n",
        "\n",
        "    def __getitem__(self, idx):\n",
        "        img_name = os.path.join(self.img_dir, self.valid_annotations.iloc[idx, 0])\n",
        "        image = Image.open(img_name).convert(\"RGB\")\n",
        "        label = self.valid_annotations.iloc[idx, 1]\n",
        "\n",
        "        if self.transform:\n",
        "            image = self.transform(image)\n",
        "\n",
        "        # 라벨을 torch.LongTensor로 변환\n",
        "        label = torch.tensor(label, dtype=torch.long)\n",
        "\n",
        "        return image, label"
      ]
    },
    {
      "cell_type": "code",
      "execution_count": 24,
      "metadata": {
        "id": "vaAScD-CzTxr"
      },
      "outputs": [],
      "source": [
        "transform = transforms.Compose([\n",
        "    transforms.Resize((224, 224)),\n",
        "    transforms.ToTensor(),\n",
        "    transforms.Normalize(mean=[0.485, 0.456, 0.406], std=[0.229, 0.224, 0.225]),\n",
        "])\n",
        "\n",
        "data_dir = './drive/MyDrive/data/ISIC_2018'\n",
        "train_img_dir = os.path.join(data_dir, 'ISIC2018_Task3_Training_Input')\n",
        "train_csv = os.path.join(data_dir, 'ISIC2018_Task3_Training_GroundTruth/ISIC2018_Task3_Training_GroundTruth.csv')\n",
        "\n",
        "val_img_dir = os.path.join(data_dir, 'ISIC2018_Task3_Validation_Input')\n",
        "val_csv = os.path.join(data_dir, 'ISIC2018_Task3_Validation_GroundTruth/ISIC2018_Task3_Validation_GroundTruth.csv')\n",
        "\n",
        "test_img_dir = os.path.join(data_dir, 'ISIC2018_Task3_Test_Input')\n",
        "test_csv = os.path.join(data_dir, 'ISIC2018_Task3_Test_GroundTruth/ISIC2018_Task3_Test_GroundTruth.csv')"
      ]
    },
    {
      "cell_type": "code",
      "execution_count": 25,
      "metadata": {
        "id": "7EsGFX_vat2X",
        "colab": {
          "base_uri": "https://localhost:8080/"
        },
        "outputId": "811ca2e8-0e9e-469c-d371-6dc6f9218af0"
      },
      "outputs": [
        {
          "output_type": "stream",
          "name": "stdout",
          "text": [
            "Dataset loaded: 10015 valid samples found.\n",
            "Dataset loaded: 193 valid samples found.\n",
            "Dataset loaded: 1512 valid samples found.\n"
          ]
        }
      ],
      "source": [
        "train_dataset = ISICDataset(img_dir=train_img_dir, csv_file=train_csv, transform=transform)\n",
        "val_dataset = ISICDataset(img_dir=val_img_dir, csv_file=val_csv, transform=transform)\n",
        "test_dataset = ISICDataset(img_dir=test_img_dir, csv_file=test_csv, transform=transform)"
      ]
    },
    {
      "cell_type": "code",
      "execution_count": 26,
      "metadata": {
        "colab": {
          "base_uri": "https://localhost:8080/"
        },
        "id": "8inM-bBnztEN",
        "outputId": "0982e9df-6f11-42d4-9f49-5d6afb1f5ecd"
      },
      "outputs": [
        {
          "output_type": "stream",
          "name": "stdout",
          "text": [
            "Train set size: 10015\n",
            "Validation set size: 193\n",
            "Test set size: 1512\n"
          ]
        }
      ],
      "source": [
        "batch_size = 32\n",
        "train_loader = DataLoader(train_dataset, batch_size=batch_size, shuffle=True)\n",
        "val_loader = DataLoader(val_dataset, batch_size=batch_size, shuffle=False)\n",
        "test_loader = DataLoader(test_dataset, batch_size=batch_size, shuffle=False)\n",
        "\n",
        "print(f\"Train set size: {len(train_dataset)}\")\n",
        "print(f\"Validation set size: {len(val_dataset)}\")\n",
        "print(f\"Test set size: {len(test_dataset)}\")"
      ]
    },
    {
      "cell_type": "code",
      "execution_count": 27,
      "metadata": {
        "id": "6a-XyqaXzurh"
      },
      "outputs": [],
      "source": [
        "criterion = nn.CrossEntropyLoss()\n",
        "optimizer = optim.Adam(model.parameters(), lr=learning_rate)"
      ]
    },
    {
      "cell_type": "code",
      "execution_count": 28,
      "metadata": {
        "id": "Yf0ZPGLtz_gB"
      },
      "outputs": [],
      "source": [
        "def train(model, train_loader, criterion, optimizer, device):\n",
        "    model.train()\n",
        "    running_loss = 0.0\n",
        "    correct = 0\n",
        "    total = 0\n",
        "    for inputs, labels in tqdm(train_loader, desc=\"Training\"):\n",
        "        inputs, labels = inputs.to(device), labels.to(device)\n",
        "\n",
        "        optimizer.zero_grad()\n",
        "        outputs = model(inputs)\n",
        "        loss = criterion(outputs, labels)\n",
        "        loss.backward()\n",
        "        optimizer.step()\n",
        "\n",
        "        running_loss += loss.item()\n",
        "        _, predicted = torch.max(outputs, 1)\n",
        "        total += labels.size(0)\n",
        "        correct += (predicted == labels).sum().item()\n",
        "\n",
        "    epoch_loss = running_loss / len(train_loader)\n",
        "    accuracy = 100 * correct / total\n",
        "    print(f\"Train Loss: {epoch_loss:.4f}, Train Accuracy: {accuracy:.2f}%\")"
      ]
    },
    {
      "cell_type": "code",
      "execution_count": 29,
      "metadata": {
        "id": "rbdjXJ520Btp"
      },
      "outputs": [],
      "source": [
        "def evaluate(model, data_loader, criterion, device, phase=\"Validation\"):\n",
        "    model.eval()\n",
        "    running_loss = 0.0\n",
        "    correct = 0\n",
        "    total = 0\n",
        "    with torch.no_grad():\n",
        "        for inputs, labels in tqdm(data_loader, desc=f\"{phase}\"):\n",
        "            inputs, labels = inputs.to(device), labels.to(device)\n",
        "            outputs = model(inputs)\n",
        "            loss = criterion(outputs, labels)\n",
        "\n",
        "            running_loss += loss.item()\n",
        "            _, predicted = torch.max(outputs, 1)\n",
        "            total += labels.size(0)\n",
        "            correct += (predicted == labels).sum().item()\n",
        "\n",
        "    epoch_loss = running_loss / len(data_loader)\n",
        "    accuracy = 100 * correct / total\n",
        "    print(f\"{phase} Loss: {epoch_loss:.4f}, {phase} Accuracy: {accuracy:.2f}%\")"
      ]
    },
    {
      "cell_type": "code",
      "execution_count": 30,
      "metadata": {
        "id": "GfBjePI-0DkY"
      },
      "outputs": [],
      "source": [
        "def measure_inference_time(model, data_loader, device):\n",
        "    model.eval()\n",
        "    times = []\n",
        "\n",
        "    with torch.no_grad():\n",
        "        for inputs, _ in data_loader:\n",
        "            inputs = inputs.to(device)\n",
        "            start_time = torch.cuda.Event(enable_timing=True)\n",
        "            end_time = torch.cuda.Event(enable_timing=True)\n",
        "\n",
        "            start_time.record()\n",
        "            _ = model(inputs)  # inference 수행\n",
        "            end_time.record()\n",
        "\n",
        "            # 시간 측정\n",
        "            torch.cuda.synchronize()  # CUDA에서 모든 커널이 완료될 때까지 대기\n",
        "            elapsed_time = start_time.elapsed_time(end_time)  # 밀리초 단위로 반환\n",
        "            times.append(elapsed_time)\n",
        "\n",
        "    # 통계량 계산\n",
        "    times_np = np.array(times)\n",
        "    total_inferences = len(times_np)\n",
        "    avg_time = np.mean(times_np)\n",
        "    std_dev = np.std(times_np)\n",
        "    max_time = np.max(times_np)\n",
        "    min_time = np.min(times_np)\n",
        "\n",
        "    # 결과 출력\n",
        "    print(f\"Inference Time Measurement Results:\")\n",
        "    print(f\"Total Inferences: {total_inferences}\")\n",
        "    print(f\"Average Time: {avg_time:.2f} ms\")\n",
        "    print(f\"Standard Deviation: {std_dev:.2f} ms\")\n",
        "    print(f\"Maximum Time: {max_time:.2f} ms\")\n",
        "    print(f\"Minimum Time: {min_time:.2f} ms\")\n",
        "\n",
        "    return times"
      ]
    },
    {
      "cell_type": "code",
      "execution_count": 31,
      "metadata": {
        "colab": {
          "base_uri": "https://localhost:8080/"
        },
        "id": "VXsiOTOO0GGK",
        "outputId": "c8b40ffd-a3e3-4504-b42c-8d46751bfeb5"
      },
      "outputs": [
        {
          "output_type": "stream",
          "name": "stdout",
          "text": [
            "\n",
            "Epoch 1/50\n"
          ]
        },
        {
          "output_type": "stream",
          "name": "stderr",
          "text": [
            "Training: 100%|██████████| 313/313 [1:04:07<00:00, 12.29s/it]\n"
          ]
        },
        {
          "output_type": "stream",
          "name": "stdout",
          "text": [
            "Train Loss: 1.0918, Train Accuracy: 84.71%\n"
          ]
        },
        {
          "output_type": "stream",
          "name": "stderr",
          "text": [
            "Validation: 100%|██████████| 7/7 [01:22<00:00, 11.71s/it]\n"
          ]
        },
        {
          "output_type": "stream",
          "name": "stdout",
          "text": [
            "Validation Loss: 0.3306, Validation Accuracy: 89.12%\n",
            "\n",
            "Epoch 2/50\n"
          ]
        },
        {
          "output_type": "stream",
          "name": "stderr",
          "text": [
            "Training: 100%|██████████| 313/313 [02:02<00:00,  2.56it/s]\n"
          ]
        },
        {
          "output_type": "stream",
          "name": "stdout",
          "text": [
            "Train Loss: 0.3342, Train Accuracy: 88.37%\n"
          ]
        },
        {
          "output_type": "stream",
          "name": "stderr",
          "text": [
            "Validation: 100%|██████████| 7/7 [00:02<00:00,  3.08it/s]\n"
          ]
        },
        {
          "output_type": "stream",
          "name": "stdout",
          "text": [
            "Validation Loss: 0.2630, Validation Accuracy: 89.12%\n",
            "\n",
            "Epoch 3/50\n"
          ]
        },
        {
          "output_type": "stream",
          "name": "stderr",
          "text": [
            "Training: 100%|██████████| 313/313 [02:02<00:00,  2.55it/s]\n"
          ]
        },
        {
          "output_type": "stream",
          "name": "stdout",
          "text": [
            "Train Loss: 0.3088, Train Accuracy: 88.61%\n"
          ]
        },
        {
          "output_type": "stream",
          "name": "stderr",
          "text": [
            "Validation: 100%|██████████| 7/7 [00:02<00:00,  3.11it/s]\n"
          ]
        },
        {
          "output_type": "stream",
          "name": "stdout",
          "text": [
            "Validation Loss: 0.2836, Validation Accuracy: 89.12%\n",
            "\n",
            "Epoch 4/50\n"
          ]
        },
        {
          "output_type": "stream",
          "name": "stderr",
          "text": [
            "Training: 100%|██████████| 313/313 [02:02<00:00,  2.55it/s]\n"
          ]
        },
        {
          "output_type": "stream",
          "name": "stdout",
          "text": [
            "Train Loss: 0.2962, Train Accuracy: 88.68%\n"
          ]
        },
        {
          "output_type": "stream",
          "name": "stderr",
          "text": [
            "Validation: 100%|██████████| 7/7 [00:02<00:00,  3.10it/s]\n"
          ]
        },
        {
          "output_type": "stream",
          "name": "stdout",
          "text": [
            "Validation Loss: 0.2543, Validation Accuracy: 88.08%\n",
            "\n",
            "Epoch 5/50\n"
          ]
        },
        {
          "output_type": "stream",
          "name": "stderr",
          "text": [
            "Training: 100%|██████████| 313/313 [02:02<00:00,  2.55it/s]\n"
          ]
        },
        {
          "output_type": "stream",
          "name": "stdout",
          "text": [
            "Train Loss: 0.2923, Train Accuracy: 88.89%\n"
          ]
        },
        {
          "output_type": "stream",
          "name": "stderr",
          "text": [
            "Validation: 100%|██████████| 7/7 [00:02<00:00,  3.03it/s]\n"
          ]
        },
        {
          "output_type": "stream",
          "name": "stdout",
          "text": [
            "Validation Loss: 0.2583, Validation Accuracy: 87.05%\n",
            "\n",
            "Epoch 6/50\n"
          ]
        },
        {
          "output_type": "stream",
          "name": "stderr",
          "text": [
            "Training: 100%|██████████| 313/313 [02:03<00:00,  2.53it/s]\n"
          ]
        },
        {
          "output_type": "stream",
          "name": "stdout",
          "text": [
            "Train Loss: 0.2856, Train Accuracy: 88.89%\n"
          ]
        },
        {
          "output_type": "stream",
          "name": "stderr",
          "text": [
            "Validation: 100%|██████████| 7/7 [00:02<00:00,  3.05it/s]\n"
          ]
        },
        {
          "output_type": "stream",
          "name": "stdout",
          "text": [
            "Validation Loss: 0.2707, Validation Accuracy: 89.12%\n",
            "\n",
            "Epoch 7/50\n"
          ]
        },
        {
          "output_type": "stream",
          "name": "stderr",
          "text": [
            "Training: 100%|██████████| 313/313 [02:05<00:00,  2.50it/s]\n"
          ]
        },
        {
          "output_type": "stream",
          "name": "stdout",
          "text": [
            "Train Loss: 0.2817, Train Accuracy: 88.93%\n"
          ]
        },
        {
          "output_type": "stream",
          "name": "stderr",
          "text": [
            "Validation: 100%|██████████| 7/7 [00:02<00:00,  3.02it/s]\n"
          ]
        },
        {
          "output_type": "stream",
          "name": "stdout",
          "text": [
            "Validation Loss: 0.2307, Validation Accuracy: 88.08%\n",
            "\n",
            "Epoch 8/50\n"
          ]
        },
        {
          "output_type": "stream",
          "name": "stderr",
          "text": [
            "Training: 100%|██████████| 313/313 [02:04<00:00,  2.52it/s]\n"
          ]
        },
        {
          "output_type": "stream",
          "name": "stdout",
          "text": [
            "Train Loss: 0.2780, Train Accuracy: 89.18%\n"
          ]
        },
        {
          "output_type": "stream",
          "name": "stderr",
          "text": [
            "Validation: 100%|██████████| 7/7 [00:02<00:00,  2.98it/s]\n"
          ]
        },
        {
          "output_type": "stream",
          "name": "stdout",
          "text": [
            "Validation Loss: 0.2653, Validation Accuracy: 88.08%\n",
            "\n",
            "Epoch 9/50\n"
          ]
        },
        {
          "output_type": "stream",
          "name": "stderr",
          "text": [
            "Training: 100%|██████████| 313/313 [02:03<00:00,  2.52it/s]\n"
          ]
        },
        {
          "output_type": "stream",
          "name": "stdout",
          "text": [
            "Train Loss: 0.2780, Train Accuracy: 88.86%\n"
          ]
        },
        {
          "output_type": "stream",
          "name": "stderr",
          "text": [
            "Validation: 100%|██████████| 7/7 [00:02<00:00,  3.06it/s]\n"
          ]
        },
        {
          "output_type": "stream",
          "name": "stdout",
          "text": [
            "Validation Loss: 0.2630, Validation Accuracy: 88.60%\n",
            "\n",
            "Epoch 10/50\n"
          ]
        },
        {
          "output_type": "stream",
          "name": "stderr",
          "text": [
            "Training: 100%|██████████| 313/313 [02:03<00:00,  2.53it/s]\n"
          ]
        },
        {
          "output_type": "stream",
          "name": "stdout",
          "text": [
            "Train Loss: 0.2772, Train Accuracy: 89.30%\n"
          ]
        },
        {
          "output_type": "stream",
          "name": "stderr",
          "text": [
            "Validation: 100%|██████████| 7/7 [00:02<00:00,  2.84it/s]\n"
          ]
        },
        {
          "output_type": "stream",
          "name": "stdout",
          "text": [
            "Validation Loss: 0.2531, Validation Accuracy: 89.12%\n",
            "\n",
            "Epoch 11/50\n"
          ]
        },
        {
          "output_type": "stream",
          "name": "stderr",
          "text": [
            "Training: 100%|██████████| 313/313 [02:04<00:00,  2.52it/s]\n"
          ]
        },
        {
          "output_type": "stream",
          "name": "stdout",
          "text": [
            "Train Loss: 0.2733, Train Accuracy: 89.05%\n"
          ]
        },
        {
          "output_type": "stream",
          "name": "stderr",
          "text": [
            "Validation: 100%|██████████| 7/7 [00:02<00:00,  3.02it/s]\n"
          ]
        },
        {
          "output_type": "stream",
          "name": "stdout",
          "text": [
            "Validation Loss: 0.2526, Validation Accuracy: 89.64%\n",
            "\n",
            "Epoch 12/50\n"
          ]
        },
        {
          "output_type": "stream",
          "name": "stderr",
          "text": [
            "Training: 100%|██████████| 313/313 [02:03<00:00,  2.53it/s]\n"
          ]
        },
        {
          "output_type": "stream",
          "name": "stdout",
          "text": [
            "Train Loss: 0.2717, Train Accuracy: 89.19%\n"
          ]
        },
        {
          "output_type": "stream",
          "name": "stderr",
          "text": [
            "Validation: 100%|██████████| 7/7 [00:02<00:00,  3.03it/s]\n"
          ]
        },
        {
          "output_type": "stream",
          "name": "stdout",
          "text": [
            "Validation Loss: 0.2407, Validation Accuracy: 88.08%\n",
            "\n",
            "Epoch 13/50\n"
          ]
        },
        {
          "output_type": "stream",
          "name": "stderr",
          "text": [
            "Training: 100%|██████████| 313/313 [02:03<00:00,  2.54it/s]\n"
          ]
        },
        {
          "output_type": "stream",
          "name": "stdout",
          "text": [
            "Train Loss: 0.2708, Train Accuracy: 89.13%\n"
          ]
        },
        {
          "output_type": "stream",
          "name": "stderr",
          "text": [
            "Validation: 100%|██████████| 7/7 [00:02<00:00,  3.02it/s]\n"
          ]
        },
        {
          "output_type": "stream",
          "name": "stdout",
          "text": [
            "Validation Loss: 0.2504, Validation Accuracy: 90.67%\n",
            "\n",
            "Epoch 14/50\n"
          ]
        },
        {
          "output_type": "stream",
          "name": "stderr",
          "text": [
            "Training: 100%|██████████| 313/313 [02:03<00:00,  2.54it/s]\n"
          ]
        },
        {
          "output_type": "stream",
          "name": "stdout",
          "text": [
            "Train Loss: 0.2607, Train Accuracy: 89.51%\n"
          ]
        },
        {
          "output_type": "stream",
          "name": "stderr",
          "text": [
            "Validation: 100%|██████████| 7/7 [00:02<00:00,  3.12it/s]\n"
          ]
        },
        {
          "output_type": "stream",
          "name": "stdout",
          "text": [
            "Validation Loss: 0.4356, Validation Accuracy: 86.53%\n",
            "\n",
            "Epoch 15/50\n"
          ]
        },
        {
          "output_type": "stream",
          "name": "stderr",
          "text": [
            "Training: 100%|██████████| 313/313 [02:03<00:00,  2.53it/s]\n"
          ]
        },
        {
          "output_type": "stream",
          "name": "stdout",
          "text": [
            "Train Loss: 0.2624, Train Accuracy: 89.55%\n"
          ]
        },
        {
          "output_type": "stream",
          "name": "stderr",
          "text": [
            "Validation: 100%|██████████| 7/7 [00:02<00:00,  3.10it/s]\n"
          ]
        },
        {
          "output_type": "stream",
          "name": "stdout",
          "text": [
            "Validation Loss: 0.2411, Validation Accuracy: 89.64%\n",
            "\n",
            "Epoch 16/50\n"
          ]
        },
        {
          "output_type": "stream",
          "name": "stderr",
          "text": [
            "Training: 100%|██████████| 313/313 [02:03<00:00,  2.54it/s]\n"
          ]
        },
        {
          "output_type": "stream",
          "name": "stdout",
          "text": [
            "Train Loss: 0.2650, Train Accuracy: 89.38%\n"
          ]
        },
        {
          "output_type": "stream",
          "name": "stderr",
          "text": [
            "Validation: 100%|██████████| 7/7 [00:02<00:00,  3.05it/s]\n"
          ]
        },
        {
          "output_type": "stream",
          "name": "stdout",
          "text": [
            "Validation Loss: 0.2309, Validation Accuracy: 90.16%\n",
            "\n",
            "Epoch 17/50\n"
          ]
        },
        {
          "output_type": "stream",
          "name": "stderr",
          "text": [
            "Training: 100%|██████████| 313/313 [02:02<00:00,  2.55it/s]\n"
          ]
        },
        {
          "output_type": "stream",
          "name": "stdout",
          "text": [
            "Train Loss: 0.2685, Train Accuracy: 89.34%\n"
          ]
        },
        {
          "output_type": "stream",
          "name": "stderr",
          "text": [
            "Validation: 100%|██████████| 7/7 [00:02<00:00,  2.96it/s]\n"
          ]
        },
        {
          "output_type": "stream",
          "name": "stdout",
          "text": [
            "Validation Loss: 0.2689, Validation Accuracy: 89.12%\n",
            "\n",
            "Epoch 18/50\n"
          ]
        },
        {
          "output_type": "stream",
          "name": "stderr",
          "text": [
            "Training: 100%|██████████| 313/313 [02:02<00:00,  2.56it/s]\n"
          ]
        },
        {
          "output_type": "stream",
          "name": "stdout",
          "text": [
            "Train Loss: 0.2646, Train Accuracy: 89.65%\n"
          ]
        },
        {
          "output_type": "stream",
          "name": "stderr",
          "text": [
            "Validation: 100%|██████████| 7/7 [00:02<00:00,  3.01it/s]\n"
          ]
        },
        {
          "output_type": "stream",
          "name": "stdout",
          "text": [
            "Validation Loss: 0.2208, Validation Accuracy: 90.16%\n",
            "\n",
            "Epoch 19/50\n"
          ]
        },
        {
          "output_type": "stream",
          "name": "stderr",
          "text": [
            "Training: 100%|██████████| 313/313 [02:02<00:00,  2.56it/s]\n"
          ]
        },
        {
          "output_type": "stream",
          "name": "stdout",
          "text": [
            "Train Loss: 0.2590, Train Accuracy: 89.48%\n"
          ]
        },
        {
          "output_type": "stream",
          "name": "stderr",
          "text": [
            "Validation: 100%|██████████| 7/7 [00:02<00:00,  3.05it/s]\n"
          ]
        },
        {
          "output_type": "stream",
          "name": "stdout",
          "text": [
            "Validation Loss: 0.2122, Validation Accuracy: 90.16%\n",
            "\n",
            "Epoch 20/50\n"
          ]
        },
        {
          "output_type": "stream",
          "name": "stderr",
          "text": [
            "Training: 100%|██████████| 313/313 [02:01<00:00,  2.57it/s]\n"
          ]
        },
        {
          "output_type": "stream",
          "name": "stdout",
          "text": [
            "Train Loss: 0.2530, Train Accuracy: 89.48%\n"
          ]
        },
        {
          "output_type": "stream",
          "name": "stderr",
          "text": [
            "Validation: 100%|██████████| 7/7 [00:02<00:00,  3.08it/s]\n"
          ]
        },
        {
          "output_type": "stream",
          "name": "stdout",
          "text": [
            "Validation Loss: 0.2531, Validation Accuracy: 89.64%\n",
            "\n",
            "Epoch 21/50\n"
          ]
        },
        {
          "output_type": "stream",
          "name": "stderr",
          "text": [
            "Training: 100%|██████████| 313/313 [02:02<00:00,  2.56it/s]\n"
          ]
        },
        {
          "output_type": "stream",
          "name": "stdout",
          "text": [
            "Train Loss: 0.2518, Train Accuracy: 89.79%\n"
          ]
        },
        {
          "output_type": "stream",
          "name": "stderr",
          "text": [
            "Validation: 100%|██████████| 7/7 [00:02<00:00,  3.11it/s]\n"
          ]
        },
        {
          "output_type": "stream",
          "name": "stdout",
          "text": [
            "Validation Loss: 0.2923, Validation Accuracy: 90.16%\n",
            "\n",
            "Epoch 22/50\n"
          ]
        },
        {
          "output_type": "stream",
          "name": "stderr",
          "text": [
            "Training: 100%|██████████| 313/313 [02:02<00:00,  2.56it/s]\n"
          ]
        },
        {
          "output_type": "stream",
          "name": "stdout",
          "text": [
            "Train Loss: 0.2546, Train Accuracy: 89.59%\n"
          ]
        },
        {
          "output_type": "stream",
          "name": "stderr",
          "text": [
            "Validation: 100%|██████████| 7/7 [00:02<00:00,  3.10it/s]\n"
          ]
        },
        {
          "output_type": "stream",
          "name": "stdout",
          "text": [
            "Validation Loss: 0.2408, Validation Accuracy: 90.67%\n",
            "\n",
            "Epoch 23/50\n"
          ]
        },
        {
          "output_type": "stream",
          "name": "stderr",
          "text": [
            "Training: 100%|██████████| 313/313 [02:02<00:00,  2.56it/s]\n"
          ]
        },
        {
          "output_type": "stream",
          "name": "stdout",
          "text": [
            "Train Loss: 0.2488, Train Accuracy: 89.72%\n"
          ]
        },
        {
          "output_type": "stream",
          "name": "stderr",
          "text": [
            "Validation: 100%|██████████| 7/7 [00:02<00:00,  2.97it/s]\n"
          ]
        },
        {
          "output_type": "stream",
          "name": "stdout",
          "text": [
            "Validation Loss: 0.2333, Validation Accuracy: 90.67%\n",
            "\n",
            "Epoch 24/50\n"
          ]
        },
        {
          "output_type": "stream",
          "name": "stderr",
          "text": [
            "Training: 100%|██████████| 313/313 [02:03<00:00,  2.54it/s]\n"
          ]
        },
        {
          "output_type": "stream",
          "name": "stdout",
          "text": [
            "Train Loss: 0.2644, Train Accuracy: 89.52%\n"
          ]
        },
        {
          "output_type": "stream",
          "name": "stderr",
          "text": [
            "Validation: 100%|██████████| 7/7 [00:02<00:00,  3.08it/s]\n"
          ]
        },
        {
          "output_type": "stream",
          "name": "stdout",
          "text": [
            "Validation Loss: 0.3574, Validation Accuracy: 88.60%\n",
            "\n",
            "Epoch 25/50\n"
          ]
        },
        {
          "output_type": "stream",
          "name": "stderr",
          "text": [
            "Training: 100%|██████████| 313/313 [02:02<00:00,  2.55it/s]\n"
          ]
        },
        {
          "output_type": "stream",
          "name": "stdout",
          "text": [
            "Train Loss: 0.2520, Train Accuracy: 89.85%\n"
          ]
        },
        {
          "output_type": "stream",
          "name": "stderr",
          "text": [
            "Validation: 100%|██████████| 7/7 [00:02<00:00,  3.09it/s]\n"
          ]
        },
        {
          "output_type": "stream",
          "name": "stdout",
          "text": [
            "Validation Loss: 0.1936, Validation Accuracy: 90.16%\n",
            "\n",
            "Epoch 26/50\n"
          ]
        },
        {
          "output_type": "stream",
          "name": "stderr",
          "text": [
            "Training: 100%|██████████| 313/313 [02:03<00:00,  2.54it/s]\n"
          ]
        },
        {
          "output_type": "stream",
          "name": "stdout",
          "text": [
            "Train Loss: 0.2446, Train Accuracy: 89.81%\n"
          ]
        },
        {
          "output_type": "stream",
          "name": "stderr",
          "text": [
            "Validation: 100%|██████████| 7/7 [00:02<00:00,  3.01it/s]\n"
          ]
        },
        {
          "output_type": "stream",
          "name": "stdout",
          "text": [
            "Validation Loss: 0.2083, Validation Accuracy: 90.16%\n",
            "\n",
            "Epoch 27/50\n"
          ]
        },
        {
          "output_type": "stream",
          "name": "stderr",
          "text": [
            "Training: 100%|██████████| 313/313 [02:06<00:00,  2.48it/s]\n"
          ]
        },
        {
          "output_type": "stream",
          "name": "stdout",
          "text": [
            "Train Loss: 0.2436, Train Accuracy: 89.90%\n"
          ]
        },
        {
          "output_type": "stream",
          "name": "stderr",
          "text": [
            "Validation: 100%|██████████| 7/7 [00:02<00:00,  2.97it/s]\n"
          ]
        },
        {
          "output_type": "stream",
          "name": "stdout",
          "text": [
            "Validation Loss: 0.2392, Validation Accuracy: 91.19%\n",
            "\n",
            "Epoch 28/50\n"
          ]
        },
        {
          "output_type": "stream",
          "name": "stderr",
          "text": [
            "Training: 100%|██████████| 313/313 [02:06<00:00,  2.47it/s]\n"
          ]
        },
        {
          "output_type": "stream",
          "name": "stdout",
          "text": [
            "Train Loss: 0.2364, Train Accuracy: 90.17%\n"
          ]
        },
        {
          "output_type": "stream",
          "name": "stderr",
          "text": [
            "Validation: 100%|██████████| 7/7 [00:02<00:00,  3.01it/s]\n"
          ]
        },
        {
          "output_type": "stream",
          "name": "stdout",
          "text": [
            "Validation Loss: 0.2330, Validation Accuracy: 90.16%\n",
            "\n",
            "Epoch 29/50\n"
          ]
        },
        {
          "output_type": "stream",
          "name": "stderr",
          "text": [
            "Training: 100%|██████████| 313/313 [02:06<00:00,  2.48it/s]\n"
          ]
        },
        {
          "output_type": "stream",
          "name": "stdout",
          "text": [
            "Train Loss: 0.2382, Train Accuracy: 90.22%\n"
          ]
        },
        {
          "output_type": "stream",
          "name": "stderr",
          "text": [
            "Validation: 100%|██████████| 7/7 [00:02<00:00,  2.93it/s]\n"
          ]
        },
        {
          "output_type": "stream",
          "name": "stdout",
          "text": [
            "Validation Loss: 0.1911, Validation Accuracy: 91.19%\n",
            "\n",
            "Epoch 30/50\n"
          ]
        },
        {
          "output_type": "stream",
          "name": "stderr",
          "text": [
            "Training: 100%|██████████| 313/313 [02:06<00:00,  2.48it/s]\n"
          ]
        },
        {
          "output_type": "stream",
          "name": "stdout",
          "text": [
            "Train Loss: 0.2338, Train Accuracy: 90.48%\n"
          ]
        },
        {
          "output_type": "stream",
          "name": "stderr",
          "text": [
            "Validation: 100%|██████████| 7/7 [00:02<00:00,  2.84it/s]\n"
          ]
        },
        {
          "output_type": "stream",
          "name": "stdout",
          "text": [
            "Validation Loss: 0.3077, Validation Accuracy: 91.71%\n",
            "\n",
            "Epoch 31/50\n"
          ]
        },
        {
          "output_type": "stream",
          "name": "stderr",
          "text": [
            "Training: 100%|██████████| 313/313 [02:06<00:00,  2.47it/s]\n"
          ]
        },
        {
          "output_type": "stream",
          "name": "stdout",
          "text": [
            "Train Loss: 0.2321, Train Accuracy: 90.48%\n"
          ]
        },
        {
          "output_type": "stream",
          "name": "stderr",
          "text": [
            "Validation: 100%|██████████| 7/7 [00:02<00:00,  2.96it/s]\n"
          ]
        },
        {
          "output_type": "stream",
          "name": "stdout",
          "text": [
            "Validation Loss: 0.1990, Validation Accuracy: 92.75%\n",
            "\n",
            "Epoch 32/50\n"
          ]
        },
        {
          "output_type": "stream",
          "name": "stderr",
          "text": [
            "Training: 100%|██████████| 313/313 [02:06<00:00,  2.48it/s]\n"
          ]
        },
        {
          "output_type": "stream",
          "name": "stdout",
          "text": [
            "Train Loss: 0.2552, Train Accuracy: 89.51%\n"
          ]
        },
        {
          "output_type": "stream",
          "name": "stderr",
          "text": [
            "Validation: 100%|██████████| 7/7 [00:02<00:00,  2.99it/s]\n"
          ]
        },
        {
          "output_type": "stream",
          "name": "stdout",
          "text": [
            "Validation Loss: 0.2152, Validation Accuracy: 92.23%\n",
            "\n",
            "Epoch 33/50\n"
          ]
        },
        {
          "output_type": "stream",
          "name": "stderr",
          "text": [
            "Training: 100%|██████████| 313/313 [02:05<00:00,  2.50it/s]\n"
          ]
        },
        {
          "output_type": "stream",
          "name": "stdout",
          "text": [
            "Train Loss: 0.2410, Train Accuracy: 90.13%\n"
          ]
        },
        {
          "output_type": "stream",
          "name": "stderr",
          "text": [
            "Validation: 100%|██████████| 7/7 [00:02<00:00,  3.05it/s]\n"
          ]
        },
        {
          "output_type": "stream",
          "name": "stdout",
          "text": [
            "Validation Loss: 0.2033, Validation Accuracy: 91.71%\n",
            "\n",
            "Epoch 34/50\n"
          ]
        },
        {
          "output_type": "stream",
          "name": "stderr",
          "text": [
            "Training: 100%|██████████| 313/313 [02:04<00:00,  2.51it/s]\n"
          ]
        },
        {
          "output_type": "stream",
          "name": "stdout",
          "text": [
            "Train Loss: 0.2354, Train Accuracy: 90.35%\n"
          ]
        },
        {
          "output_type": "stream",
          "name": "stderr",
          "text": [
            "Validation: 100%|██████████| 7/7 [00:02<00:00,  2.95it/s]\n"
          ]
        },
        {
          "output_type": "stream",
          "name": "stdout",
          "text": [
            "Validation Loss: 0.2005, Validation Accuracy: 91.71%\n",
            "\n",
            "Epoch 35/50\n"
          ]
        },
        {
          "output_type": "stream",
          "name": "stderr",
          "text": [
            "Training: 100%|██████████| 313/313 [02:04<00:00,  2.51it/s]\n"
          ]
        },
        {
          "output_type": "stream",
          "name": "stdout",
          "text": [
            "Train Loss: 0.2271, Train Accuracy: 90.89%\n"
          ]
        },
        {
          "output_type": "stream",
          "name": "stderr",
          "text": [
            "Validation: 100%|██████████| 7/7 [00:02<00:00,  2.97it/s]\n"
          ]
        },
        {
          "output_type": "stream",
          "name": "stdout",
          "text": [
            "Validation Loss: 0.2051, Validation Accuracy: 91.19%\n",
            "\n",
            "Epoch 36/50\n"
          ]
        },
        {
          "output_type": "stream",
          "name": "stderr",
          "text": [
            "Training: 100%|██████████| 313/313 [02:04<00:00,  2.51it/s]\n"
          ]
        },
        {
          "output_type": "stream",
          "name": "stdout",
          "text": [
            "Train Loss: 0.2236, Train Accuracy: 90.80%\n"
          ]
        },
        {
          "output_type": "stream",
          "name": "stderr",
          "text": [
            "Validation: 100%|██████████| 7/7 [00:02<00:00,  2.99it/s]\n"
          ]
        },
        {
          "output_type": "stream",
          "name": "stdout",
          "text": [
            "Validation Loss: 0.2040, Validation Accuracy: 92.75%\n",
            "\n",
            "Epoch 37/50\n"
          ]
        },
        {
          "output_type": "stream",
          "name": "stderr",
          "text": [
            "Training: 100%|██████████| 313/313 [02:04<00:00,  2.51it/s]\n"
          ]
        },
        {
          "output_type": "stream",
          "name": "stdout",
          "text": [
            "Train Loss: 0.2208, Train Accuracy: 90.90%\n"
          ]
        },
        {
          "output_type": "stream",
          "name": "stderr",
          "text": [
            "Validation: 100%|██████████| 7/7 [00:02<00:00,  3.07it/s]\n"
          ]
        },
        {
          "output_type": "stream",
          "name": "stdout",
          "text": [
            "Validation Loss: 0.1932, Validation Accuracy: 90.67%\n",
            "\n",
            "Epoch 38/50\n"
          ]
        },
        {
          "output_type": "stream",
          "name": "stderr",
          "text": [
            "Training: 100%|██████████| 313/313 [02:04<00:00,  2.51it/s]\n"
          ]
        },
        {
          "output_type": "stream",
          "name": "stdout",
          "text": [
            "Train Loss: 0.2211, Train Accuracy: 90.91%\n"
          ]
        },
        {
          "output_type": "stream",
          "name": "stderr",
          "text": [
            "Validation: 100%|██████████| 7/7 [00:02<00:00,  3.02it/s]\n"
          ]
        },
        {
          "output_type": "stream",
          "name": "stdout",
          "text": [
            "Validation Loss: 0.2162, Validation Accuracy: 90.67%\n",
            "\n",
            "Epoch 39/50\n"
          ]
        },
        {
          "output_type": "stream",
          "name": "stderr",
          "text": [
            "Training: 100%|██████████| 313/313 [02:04<00:00,  2.51it/s]\n"
          ]
        },
        {
          "output_type": "stream",
          "name": "stdout",
          "text": [
            "Train Loss: 0.2145, Train Accuracy: 90.97%\n"
          ]
        },
        {
          "output_type": "stream",
          "name": "stderr",
          "text": [
            "Validation: 100%|██████████| 7/7 [00:02<00:00,  3.04it/s]\n"
          ]
        },
        {
          "output_type": "stream",
          "name": "stdout",
          "text": [
            "Validation Loss: 0.2495, Validation Accuracy: 92.75%\n",
            "\n",
            "Epoch 40/50\n"
          ]
        },
        {
          "output_type": "stream",
          "name": "stderr",
          "text": [
            "Training: 100%|██████████| 313/313 [02:04<00:00,  2.52it/s]\n"
          ]
        },
        {
          "output_type": "stream",
          "name": "stdout",
          "text": [
            "Train Loss: 0.2190, Train Accuracy: 90.92%\n"
          ]
        },
        {
          "output_type": "stream",
          "name": "stderr",
          "text": [
            "Validation: 100%|██████████| 7/7 [00:02<00:00,  2.97it/s]\n"
          ]
        },
        {
          "output_type": "stream",
          "name": "stdout",
          "text": [
            "Validation Loss: 0.2608, Validation Accuracy: 90.67%\n",
            "\n",
            "Epoch 41/50\n"
          ]
        },
        {
          "output_type": "stream",
          "name": "stderr",
          "text": [
            "Training: 100%|██████████| 313/313 [02:03<00:00,  2.52it/s]\n"
          ]
        },
        {
          "output_type": "stream",
          "name": "stdout",
          "text": [
            "Train Loss: 0.2120, Train Accuracy: 91.19%\n"
          ]
        },
        {
          "output_type": "stream",
          "name": "stderr",
          "text": [
            "Validation: 100%|██████████| 7/7 [00:02<00:00,  2.94it/s]\n"
          ]
        },
        {
          "output_type": "stream",
          "name": "stdout",
          "text": [
            "Validation Loss: 0.2278, Validation Accuracy: 91.19%\n",
            "\n",
            "Epoch 42/50\n"
          ]
        },
        {
          "output_type": "stream",
          "name": "stderr",
          "text": [
            "Training: 100%|██████████| 313/313 [02:04<00:00,  2.51it/s]\n"
          ]
        },
        {
          "output_type": "stream",
          "name": "stdout",
          "text": [
            "Train Loss: 0.2138, Train Accuracy: 91.19%\n"
          ]
        },
        {
          "output_type": "stream",
          "name": "stderr",
          "text": [
            "Validation: 100%|██████████| 7/7 [00:02<00:00,  3.03it/s]\n"
          ]
        },
        {
          "output_type": "stream",
          "name": "stdout",
          "text": [
            "Validation Loss: 0.2180, Validation Accuracy: 92.23%\n",
            "\n",
            "Epoch 43/50\n"
          ]
        },
        {
          "output_type": "stream",
          "name": "stderr",
          "text": [
            "Training: 100%|██████████| 313/313 [02:05<00:00,  2.50it/s]\n"
          ]
        },
        {
          "output_type": "stream",
          "name": "stdout",
          "text": [
            "Train Loss: 0.2145, Train Accuracy: 91.19%\n"
          ]
        },
        {
          "output_type": "stream",
          "name": "stderr",
          "text": [
            "Validation: 100%|██████████| 7/7 [00:02<00:00,  3.04it/s]\n"
          ]
        },
        {
          "output_type": "stream",
          "name": "stdout",
          "text": [
            "Validation Loss: 0.2403, Validation Accuracy: 90.16%\n",
            "\n",
            "Epoch 44/50\n"
          ]
        },
        {
          "output_type": "stream",
          "name": "stderr",
          "text": [
            "Training: 100%|██████████| 313/313 [02:05<00:00,  2.49it/s]\n"
          ]
        },
        {
          "output_type": "stream",
          "name": "stdout",
          "text": [
            "Train Loss: 0.2134, Train Accuracy: 91.14%\n"
          ]
        },
        {
          "output_type": "stream",
          "name": "stderr",
          "text": [
            "Validation: 100%|██████████| 7/7 [00:02<00:00,  2.95it/s]\n"
          ]
        },
        {
          "output_type": "stream",
          "name": "stdout",
          "text": [
            "Validation Loss: 0.2102, Validation Accuracy: 90.67%\n",
            "\n",
            "Epoch 45/50\n"
          ]
        },
        {
          "output_type": "stream",
          "name": "stderr",
          "text": [
            "Training: 100%|██████████| 313/313 [02:04<00:00,  2.51it/s]\n"
          ]
        },
        {
          "output_type": "stream",
          "name": "stdout",
          "text": [
            "Train Loss: 0.2135, Train Accuracy: 91.35%\n"
          ]
        },
        {
          "output_type": "stream",
          "name": "stderr",
          "text": [
            "Validation: 100%|██████████| 7/7 [00:02<00:00,  3.03it/s]\n"
          ]
        },
        {
          "output_type": "stream",
          "name": "stdout",
          "text": [
            "Validation Loss: 0.3514, Validation Accuracy: 90.67%\n",
            "\n",
            "Epoch 46/50\n"
          ]
        },
        {
          "output_type": "stream",
          "name": "stderr",
          "text": [
            "Training: 100%|██████████| 313/313 [02:05<00:00,  2.49it/s]\n"
          ]
        },
        {
          "output_type": "stream",
          "name": "stdout",
          "text": [
            "Train Loss: 0.2131, Train Accuracy: 91.13%\n"
          ]
        },
        {
          "output_type": "stream",
          "name": "stderr",
          "text": [
            "Validation: 100%|██████████| 7/7 [00:02<00:00,  2.55it/s]\n"
          ]
        },
        {
          "output_type": "stream",
          "name": "stdout",
          "text": [
            "Validation Loss: 0.1960, Validation Accuracy: 90.67%\n",
            "\n",
            "Epoch 47/50\n"
          ]
        },
        {
          "output_type": "stream",
          "name": "stderr",
          "text": [
            "Training: 100%|██████████| 313/313 [02:07<00:00,  2.46it/s]\n"
          ]
        },
        {
          "output_type": "stream",
          "name": "stdout",
          "text": [
            "Train Loss: 0.2079, Train Accuracy: 91.44%\n"
          ]
        },
        {
          "output_type": "stream",
          "name": "stderr",
          "text": [
            "Validation: 100%|██████████| 7/7 [00:02<00:00,  3.03it/s]\n"
          ]
        },
        {
          "output_type": "stream",
          "name": "stdout",
          "text": [
            "Validation Loss: 0.1989, Validation Accuracy: 91.71%\n",
            "\n",
            "Epoch 48/50\n"
          ]
        },
        {
          "output_type": "stream",
          "name": "stderr",
          "text": [
            "Training: 100%|██████████| 313/313 [02:04<00:00,  2.51it/s]\n"
          ]
        },
        {
          "output_type": "stream",
          "name": "stdout",
          "text": [
            "Train Loss: 0.2051, Train Accuracy: 91.43%\n"
          ]
        },
        {
          "output_type": "stream",
          "name": "stderr",
          "text": [
            "Validation: 100%|██████████| 7/7 [00:02<00:00,  3.03it/s]\n"
          ]
        },
        {
          "output_type": "stream",
          "name": "stdout",
          "text": [
            "Validation Loss: 0.1949, Validation Accuracy: 91.19%\n",
            "\n",
            "Epoch 49/50\n"
          ]
        },
        {
          "output_type": "stream",
          "name": "stderr",
          "text": [
            "Training: 100%|██████████| 313/313 [02:05<00:00,  2.50it/s]\n"
          ]
        },
        {
          "output_type": "stream",
          "name": "stdout",
          "text": [
            "Train Loss: 0.2037, Train Accuracy: 91.38%\n"
          ]
        },
        {
          "output_type": "stream",
          "name": "stderr",
          "text": [
            "Validation: 100%|██████████| 7/7 [00:02<00:00,  3.00it/s]\n"
          ]
        },
        {
          "output_type": "stream",
          "name": "stdout",
          "text": [
            "Validation Loss: 0.2252, Validation Accuracy: 88.60%\n",
            "\n",
            "Epoch 50/50\n"
          ]
        },
        {
          "output_type": "stream",
          "name": "stderr",
          "text": [
            "Training: 100%|██████████| 313/313 [02:08<00:00,  2.44it/s]\n"
          ]
        },
        {
          "output_type": "stream",
          "name": "stdout",
          "text": [
            "Train Loss: 0.2056, Train Accuracy: 91.68%\n"
          ]
        },
        {
          "output_type": "stream",
          "name": "stderr",
          "text": [
            "Validation: 100%|██████████| 7/7 [00:02<00:00,  2.89it/s]"
          ]
        },
        {
          "output_type": "stream",
          "name": "stdout",
          "text": [
            "Validation Loss: 0.2112, Validation Accuracy: 92.75%\n"
          ]
        },
        {
          "output_type": "stream",
          "name": "stderr",
          "text": [
            "\n"
          ]
        }
      ],
      "source": [
        "for epoch in range(num_epochs):\n",
        "    print(f\"\\nEpoch {epoch+1}/{num_epochs}\")\n",
        "    train(model, train_loader, criterion, optimizer, device)\n",
        "    evaluate(model, val_loader, criterion, device, phase=\"Validation\")"
      ]
    },
    {
      "cell_type": "code",
      "execution_count": 32,
      "metadata": {
        "colab": {
          "base_uri": "https://localhost:8080/"
        },
        "id": "Ptqvb6aM0Pzb",
        "outputId": "a206a681-d2e0-48d6-feb8-af696d1101ee"
      },
      "outputs": [
        {
          "output_type": "stream",
          "name": "stdout",
          "text": [
            "\n",
            "Final Test Evaluation\n"
          ]
        },
        {
          "output_type": "stream",
          "name": "stderr",
          "text": [
            "Test: 100%|██████████| 48/48 [10:22<00:00, 12.98s/it]"
          ]
        },
        {
          "output_type": "stream",
          "name": "stdout",
          "text": [
            "Test Loss: 0.3144, Test Accuracy: 88.10%\n"
          ]
        },
        {
          "output_type": "stream",
          "name": "stderr",
          "text": [
            "\n"
          ]
        }
      ],
      "source": [
        "print(\"\\nFinal Test Evaluation\")\n",
        "evaluate(model, test_loader, criterion, device, phase=\"Test\")"
      ]
    },
    {
      "cell_type": "code",
      "execution_count": 33,
      "metadata": {
        "colab": {
          "base_uri": "https://localhost:8080/"
        },
        "id": "dlazeL-a0WTt",
        "outputId": "97ce3a3f-28da-4b25-f376-5a95e0f99807"
      },
      "outputs": [
        {
          "output_type": "stream",
          "name": "stdout",
          "text": [
            "Inference Time Measurement Results:\n",
            "Total Inferences: 48\n",
            "Average Time: 15.53 ms\n",
            "Standard Deviation: 0.29 ms\n",
            "Maximum Time: 16.50 ms\n",
            "Minimum Time: 13.75 ms\n"
          ]
        }
      ],
      "source": [
        "times = measure_inference_time(model, test_loader, device)"
      ]
    },
    {
      "cell_type": "code",
      "execution_count": 34,
      "metadata": {
        "colab": {
          "base_uri": "https://localhost:8080/"
        },
        "id": "c77rmtOz0XuA",
        "outputId": "3b214df5-69be-40d9-b5df-b17cc02c6ac5"
      },
      "outputs": [
        {
          "output_type": "stream",
          "name": "stdout",
          "text": [
            "-------------------------------------------------------  ------------  ------------  ------------  ------------  ------------  ------------  ------------  ------------  ------------  ------------  \n",
            "                                                   Name    Self CPU %      Self CPU   CPU total %     CPU total  CPU time avg     Self CUDA   Self CUDA %    CUDA total  CUDA time avg    # of Calls  \n",
            "-------------------------------------------------------  ------------  ------------  ------------  ------------  ------------  ------------  ------------  ------------  ------------  ------------  \n",
            "                                      aten::convolution         1.45%     412.439us        39.39%      11.226ms     181.063us       0.000us         0.00%       7.230ms     116.613us            62  \n",
            "                                     aten::_convolution        10.02%       2.857ms        37.94%      10.813ms     174.410us       0.000us         0.00%       7.230ms     116.613us            62  \n",
            "                                           aten::conv2d         1.23%     350.193us        39.52%      11.263ms     190.903us       0.000us         0.00%       7.083ms     120.056us            59  \n",
            "                                aten::cudnn_convolution        18.61%       5.303ms        26.85%       7.653ms     129.708us       7.073ms        46.97%       7.073ms     119.885us            59  \n",
            "                                       aten::batch_norm         1.03%     292.370us        36.77%      10.481ms     137.913us       0.000us         0.00%       3.187ms      41.932us            76  \n",
            "                           aten::_batch_norm_impl_index         1.89%     539.077us        35.75%      10.189ms     134.066us       0.000us         0.00%       3.187ms      41.932us            76  \n",
            "                                 aten::cudnn_batch_norm        18.39%       5.242ms        27.71%       7.899ms     136.188us       2.950ms        19.59%       2.950ms      50.856us            58  \n",
            "void cudnn::bn_fw_inf_1C11_kernel_NCHW<float, float,...         0.00%       0.000us         0.00%       0.000us       0.000us       2.950ms        19.59%       2.950ms      50.856us            58  \n",
            "void cutlass::Kernel<cutlass_80_tensorop_s1688gemm_2...         0.00%       0.000us         0.00%       0.000us       0.000us       2.124ms        14.10%       2.124ms      92.330us            23  \n",
            "void cudnn::engines_precompiled::nchwToNhwcKernel<fl...         0.00%       0.000us         0.00%       0.000us       0.000us       1.671ms        11.10%       1.671ms      28.809us            58  \n",
            "-------------------------------------------------------  ------------  ------------  ------------  ------------  ------------  ------------  ------------  ------------  ------------  ------------  \n",
            "Self CPU time total: 28.502ms\n",
            "Self CUDA time total: 15.058ms\n",
            "\n"
          ]
        }
      ],
      "source": [
        "from torch import profiler\n",
        "\n",
        "dummy_input = torch.randn(32, 3, 224, 224).cuda()\n",
        "\n",
        "# Profiling inference\n",
        "with profiler.profile(\n",
        "    activities=[\n",
        "       profiler.ProfilerActivity.CPU,\n",
        "        profiler.ProfilerActivity.CUDA,  # Include if using GPU\n",
        "    ],\n",
        "    on_trace_ready=profiler.tensorboard_trace_handler(\"./logs\"),  # Optional logging\n",
        "    record_shapes=True,\n",
        "    with_stack=True\n",
        ") as prof:\n",
        "    with torch.no_grad():\n",
        "        model(dummy_input)\n",
        "\n",
        "\n",
        "# Print results\n",
        "print(prof.key_averages().table(sort_by=\"cuda_time_total\" if torch.cuda.is_available() else \"cpu_time_total\", row_limit=10))"
      ]
    },
    {
      "cell_type": "code",
      "execution_count": 35,
      "metadata": {
        "colab": {
          "base_uri": "https://localhost:8080/"
        },
        "id": "YiQQmg-d0aG7",
        "outputId": "3e21d463-db11-48e0-e845-d494aa13565d"
      },
      "outputs": [
        {
          "output_type": "stream",
          "name": "stdout",
          "text": [
            "Model weights saved to L_HoViT_ISIC_2018.pth\n"
          ]
        }
      ],
      "source": [
        "save_path = \"L_HoViT_ISIC_2018.pth\"\n",
        "torch.save(model.state_dict(), save_path)\n",
        "print(f\"Model weights saved to {save_path}\")"
      ]
    },
    {
      "cell_type": "code",
      "execution_count": null,
      "metadata": {
        "id": "jXvKsupvZYjZ"
      },
      "outputs": [],
      "source": []
    }
  ],
  "metadata": {
    "accelerator": "GPU",
    "colab": {
      "gpuType": "A100",
      "machine_shape": "hm",
      "provenance": []
    },
    "kernelspec": {
      "display_name": "3.10.0",
      "language": "python",
      "name": "python3"
    },
    "language_info": {
      "codemirror_mode": {
        "name": "ipython",
        "version": 3
      },
      "file_extension": ".py",
      "mimetype": "text/x-python",
      "name": "python",
      "nbconvert_exporter": "python",
      "pygments_lexer": "ipython3",
      "version": "3.10.0"
    },
    "widgets": {
      "application/vnd.jupyter.widget-state+json": {
        "64f41879589d42c0847726d28dcc1d6a": {
          "model_module": "@jupyter-widgets/controls",
          "model_name": "HBoxModel",
          "model_module_version": "1.5.0",
          "state": {
            "_dom_classes": [],
            "_model_module": "@jupyter-widgets/controls",
            "_model_module_version": "1.5.0",
            "_model_name": "HBoxModel",
            "_view_count": null,
            "_view_module": "@jupyter-widgets/controls",
            "_view_module_version": "1.5.0",
            "_view_name": "HBoxView",
            "box_style": "",
            "children": [
              "IPY_MODEL_2dda75c815df491184e0beed0498a68a",
              "IPY_MODEL_c317c4fb031048289d8ad6e8dc1c22e8",
              "IPY_MODEL_14a39e1fa2e441bf936186d10c473986"
            ],
            "layout": "IPY_MODEL_93ddc2014e314d9c97d83a3e15c3401b"
          }
        },
        "2dda75c815df491184e0beed0498a68a": {
          "model_module": "@jupyter-widgets/controls",
          "model_name": "HTMLModel",
          "model_module_version": "1.5.0",
          "state": {
            "_dom_classes": [],
            "_model_module": "@jupyter-widgets/controls",
            "_model_module_version": "1.5.0",
            "_model_name": "HTMLModel",
            "_view_count": null,
            "_view_module": "@jupyter-widgets/controls",
            "_view_module_version": "1.5.0",
            "_view_name": "HTMLView",
            "description": "",
            "description_tooltip": null,
            "layout": "IPY_MODEL_4beb8252155c46c9ab989acd36ff26d4",
            "placeholder": "​",
            "style": "IPY_MODEL_3cee25d9f1724ddfad437fbe5d3c8bdc",
            "value": "model.safetensors: 100%"
          }
        },
        "c317c4fb031048289d8ad6e8dc1c22e8": {
          "model_module": "@jupyter-widgets/controls",
          "model_name": "FloatProgressModel",
          "model_module_version": "1.5.0",
          "state": {
            "_dom_classes": [],
            "_model_module": "@jupyter-widgets/controls",
            "_model_module_version": "1.5.0",
            "_model_name": "FloatProgressModel",
            "_view_count": null,
            "_view_module": "@jupyter-widgets/controls",
            "_view_module_version": "1.5.0",
            "_view_name": "ProgressView",
            "bar_style": "success",
            "description": "",
            "description_tooltip": null,
            "layout": "IPY_MODEL_b31a1eb7235942b6a428bf791ce5dc55",
            "max": 102469840,
            "min": 0,
            "orientation": "horizontal",
            "style": "IPY_MODEL_7d6ad2c48f25408591c0aa6ecd88e8c8",
            "value": 102469840
          }
        },
        "14a39e1fa2e441bf936186d10c473986": {
          "model_module": "@jupyter-widgets/controls",
          "model_name": "HTMLModel",
          "model_module_version": "1.5.0",
          "state": {
            "_dom_classes": [],
            "_model_module": "@jupyter-widgets/controls",
            "_model_module_version": "1.5.0",
            "_model_name": "HTMLModel",
            "_view_count": null,
            "_view_module": "@jupyter-widgets/controls",
            "_view_module_version": "1.5.0",
            "_view_name": "HTMLView",
            "description": "",
            "description_tooltip": null,
            "layout": "IPY_MODEL_7c178d3c689b498f91c55703a5b075f0",
            "placeholder": "​",
            "style": "IPY_MODEL_420d7b12768b414d92db0320ec01a63f",
            "value": " 102M/102M [00:01&lt;00:00, 119MB/s]"
          }
        },
        "93ddc2014e314d9c97d83a3e15c3401b": {
          "model_module": "@jupyter-widgets/base",
          "model_name": "LayoutModel",
          "model_module_version": "1.2.0",
          "state": {
            "_model_module": "@jupyter-widgets/base",
            "_model_module_version": "1.2.0",
            "_model_name": "LayoutModel",
            "_view_count": null,
            "_view_module": "@jupyter-widgets/base",
            "_view_module_version": "1.2.0",
            "_view_name": "LayoutView",
            "align_content": null,
            "align_items": null,
            "align_self": null,
            "border": null,
            "bottom": null,
            "display": null,
            "flex": null,
            "flex_flow": null,
            "grid_area": null,
            "grid_auto_columns": null,
            "grid_auto_flow": null,
            "grid_auto_rows": null,
            "grid_column": null,
            "grid_gap": null,
            "grid_row": null,
            "grid_template_areas": null,
            "grid_template_columns": null,
            "grid_template_rows": null,
            "height": null,
            "justify_content": null,
            "justify_items": null,
            "left": null,
            "margin": null,
            "max_height": null,
            "max_width": null,
            "min_height": null,
            "min_width": null,
            "object_fit": null,
            "object_position": null,
            "order": null,
            "overflow": null,
            "overflow_x": null,
            "overflow_y": null,
            "padding": null,
            "right": null,
            "top": null,
            "visibility": null,
            "width": null
          }
        },
        "4beb8252155c46c9ab989acd36ff26d4": {
          "model_module": "@jupyter-widgets/base",
          "model_name": "LayoutModel",
          "model_module_version": "1.2.0",
          "state": {
            "_model_module": "@jupyter-widgets/base",
            "_model_module_version": "1.2.0",
            "_model_name": "LayoutModel",
            "_view_count": null,
            "_view_module": "@jupyter-widgets/base",
            "_view_module_version": "1.2.0",
            "_view_name": "LayoutView",
            "align_content": null,
            "align_items": null,
            "align_self": null,
            "border": null,
            "bottom": null,
            "display": null,
            "flex": null,
            "flex_flow": null,
            "grid_area": null,
            "grid_auto_columns": null,
            "grid_auto_flow": null,
            "grid_auto_rows": null,
            "grid_column": null,
            "grid_gap": null,
            "grid_row": null,
            "grid_template_areas": null,
            "grid_template_columns": null,
            "grid_template_rows": null,
            "height": null,
            "justify_content": null,
            "justify_items": null,
            "left": null,
            "margin": null,
            "max_height": null,
            "max_width": null,
            "min_height": null,
            "min_width": null,
            "object_fit": null,
            "object_position": null,
            "order": null,
            "overflow": null,
            "overflow_x": null,
            "overflow_y": null,
            "padding": null,
            "right": null,
            "top": null,
            "visibility": null,
            "width": null
          }
        },
        "3cee25d9f1724ddfad437fbe5d3c8bdc": {
          "model_module": "@jupyter-widgets/controls",
          "model_name": "DescriptionStyleModel",
          "model_module_version": "1.5.0",
          "state": {
            "_model_module": "@jupyter-widgets/controls",
            "_model_module_version": "1.5.0",
            "_model_name": "DescriptionStyleModel",
            "_view_count": null,
            "_view_module": "@jupyter-widgets/base",
            "_view_module_version": "1.2.0",
            "_view_name": "StyleView",
            "description_width": ""
          }
        },
        "b31a1eb7235942b6a428bf791ce5dc55": {
          "model_module": "@jupyter-widgets/base",
          "model_name": "LayoutModel",
          "model_module_version": "1.2.0",
          "state": {
            "_model_module": "@jupyter-widgets/base",
            "_model_module_version": "1.2.0",
            "_model_name": "LayoutModel",
            "_view_count": null,
            "_view_module": "@jupyter-widgets/base",
            "_view_module_version": "1.2.0",
            "_view_name": "LayoutView",
            "align_content": null,
            "align_items": null,
            "align_self": null,
            "border": null,
            "bottom": null,
            "display": null,
            "flex": null,
            "flex_flow": null,
            "grid_area": null,
            "grid_auto_columns": null,
            "grid_auto_flow": null,
            "grid_auto_rows": null,
            "grid_column": null,
            "grid_gap": null,
            "grid_row": null,
            "grid_template_areas": null,
            "grid_template_columns": null,
            "grid_template_rows": null,
            "height": null,
            "justify_content": null,
            "justify_items": null,
            "left": null,
            "margin": null,
            "max_height": null,
            "max_width": null,
            "min_height": null,
            "min_width": null,
            "object_fit": null,
            "object_position": null,
            "order": null,
            "overflow": null,
            "overflow_x": null,
            "overflow_y": null,
            "padding": null,
            "right": null,
            "top": null,
            "visibility": null,
            "width": null
          }
        },
        "7d6ad2c48f25408591c0aa6ecd88e8c8": {
          "model_module": "@jupyter-widgets/controls",
          "model_name": "ProgressStyleModel",
          "model_module_version": "1.5.0",
          "state": {
            "_model_module": "@jupyter-widgets/controls",
            "_model_module_version": "1.5.0",
            "_model_name": "ProgressStyleModel",
            "_view_count": null,
            "_view_module": "@jupyter-widgets/base",
            "_view_module_version": "1.2.0",
            "_view_name": "StyleView",
            "bar_color": null,
            "description_width": ""
          }
        },
        "7c178d3c689b498f91c55703a5b075f0": {
          "model_module": "@jupyter-widgets/base",
          "model_name": "LayoutModel",
          "model_module_version": "1.2.0",
          "state": {
            "_model_module": "@jupyter-widgets/base",
            "_model_module_version": "1.2.0",
            "_model_name": "LayoutModel",
            "_view_count": null,
            "_view_module": "@jupyter-widgets/base",
            "_view_module_version": "1.2.0",
            "_view_name": "LayoutView",
            "align_content": null,
            "align_items": null,
            "align_self": null,
            "border": null,
            "bottom": null,
            "display": null,
            "flex": null,
            "flex_flow": null,
            "grid_area": null,
            "grid_auto_columns": null,
            "grid_auto_flow": null,
            "grid_auto_rows": null,
            "grid_column": null,
            "grid_gap": null,
            "grid_row": null,
            "grid_template_areas": null,
            "grid_template_columns": null,
            "grid_template_rows": null,
            "height": null,
            "justify_content": null,
            "justify_items": null,
            "left": null,
            "margin": null,
            "max_height": null,
            "max_width": null,
            "min_height": null,
            "min_width": null,
            "object_fit": null,
            "object_position": null,
            "order": null,
            "overflow": null,
            "overflow_x": null,
            "overflow_y": null,
            "padding": null,
            "right": null,
            "top": null,
            "visibility": null,
            "width": null
          }
        },
        "420d7b12768b414d92db0320ec01a63f": {
          "model_module": "@jupyter-widgets/controls",
          "model_name": "DescriptionStyleModel",
          "model_module_version": "1.5.0",
          "state": {
            "_model_module": "@jupyter-widgets/controls",
            "_model_module_version": "1.5.0",
            "_model_name": "DescriptionStyleModel",
            "_view_count": null,
            "_view_module": "@jupyter-widgets/base",
            "_view_module_version": "1.2.0",
            "_view_name": "StyleView",
            "description_width": ""
          }
        }
      }
    }
  },
  "nbformat": 4,
  "nbformat_minor": 0
}