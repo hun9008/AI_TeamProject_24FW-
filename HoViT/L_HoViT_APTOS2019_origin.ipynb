{
  "nbformat": 4,
  "nbformat_minor": 0,
  "metadata": {
    "colab": {
      "provenance": [],
      "machine_shape": "hm",
      "gpuType": "A100"
    },
    "kernelspec": {
      "name": "python3",
      "display_name": "Python 3"
    },
    "language_info": {
      "name": "python"
    },
    "accelerator": "GPU",
    "widgets": {
      "application/vnd.jupyter.widget-state+json": {
        "20202227a3234cf4a0a2bed17d4f4b03": {
          "model_module": "@jupyter-widgets/controls",
          "model_name": "HBoxModel",
          "model_module_version": "1.5.0",
          "state": {
            "_dom_classes": [],
            "_model_module": "@jupyter-widgets/controls",
            "_model_module_version": "1.5.0",
            "_model_name": "HBoxModel",
            "_view_count": null,
            "_view_module": "@jupyter-widgets/controls",
            "_view_module_version": "1.5.0",
            "_view_name": "HBoxView",
            "box_style": "",
            "children": [
              "IPY_MODEL_582210d7f4f146efabfc123f5ec60cf7",
              "IPY_MODEL_33bf242e881049aa9211197a45fc5169",
              "IPY_MODEL_9b8fd9bdbca04aa5a7df6979cb45e606"
            ],
            "layout": "IPY_MODEL_36af581bdac74850b1e64eec2d748f23"
          }
        },
        "582210d7f4f146efabfc123f5ec60cf7": {
          "model_module": "@jupyter-widgets/controls",
          "model_name": "HTMLModel",
          "model_module_version": "1.5.0",
          "state": {
            "_dom_classes": [],
            "_model_module": "@jupyter-widgets/controls",
            "_model_module_version": "1.5.0",
            "_model_name": "HTMLModel",
            "_view_count": null,
            "_view_module": "@jupyter-widgets/controls",
            "_view_module_version": "1.5.0",
            "_view_name": "HTMLView",
            "description": "",
            "description_tooltip": null,
            "layout": "IPY_MODEL_bb09500200744a34af95a5235b4f5e2a",
            "placeholder": "​",
            "style": "IPY_MODEL_dbd2e51794ba4c1db740fdf1e1bbee49",
            "value": "model.safetensors: 100%"
          }
        },
        "33bf242e881049aa9211197a45fc5169": {
          "model_module": "@jupyter-widgets/controls",
          "model_name": "FloatProgressModel",
          "model_module_version": "1.5.0",
          "state": {
            "_dom_classes": [],
            "_model_module": "@jupyter-widgets/controls",
            "_model_module_version": "1.5.0",
            "_model_name": "FloatProgressModel",
            "_view_count": null,
            "_view_module": "@jupyter-widgets/controls",
            "_view_module_version": "1.5.0",
            "_view_name": "ProgressView",
            "bar_style": "success",
            "description": "",
            "description_tooltip": null,
            "layout": "IPY_MODEL_83e092a8d8ca4b8180a9fee28341c343",
            "max": 102469840,
            "min": 0,
            "orientation": "horizontal",
            "style": "IPY_MODEL_5cd37528fb9b4c7dbb28de59ab3b449d",
            "value": 102469840
          }
        },
        "9b8fd9bdbca04aa5a7df6979cb45e606": {
          "model_module": "@jupyter-widgets/controls",
          "model_name": "HTMLModel",
          "model_module_version": "1.5.0",
          "state": {
            "_dom_classes": [],
            "_model_module": "@jupyter-widgets/controls",
            "_model_module_version": "1.5.0",
            "_model_name": "HTMLModel",
            "_view_count": null,
            "_view_module": "@jupyter-widgets/controls",
            "_view_module_version": "1.5.0",
            "_view_name": "HTMLView",
            "description": "",
            "description_tooltip": null,
            "layout": "IPY_MODEL_dfa6cfc029c94e6ba3aed3a536263b63",
            "placeholder": "​",
            "style": "IPY_MODEL_f6fac20e684c4e9eaa66ea672391214e",
            "value": " 102M/102M [00:00&lt;00:00, 162MB/s]"
          }
        },
        "36af581bdac74850b1e64eec2d748f23": {
          "model_module": "@jupyter-widgets/base",
          "model_name": "LayoutModel",
          "model_module_version": "1.2.0",
          "state": {
            "_model_module": "@jupyter-widgets/base",
            "_model_module_version": "1.2.0",
            "_model_name": "LayoutModel",
            "_view_count": null,
            "_view_module": "@jupyter-widgets/base",
            "_view_module_version": "1.2.0",
            "_view_name": "LayoutView",
            "align_content": null,
            "align_items": null,
            "align_self": null,
            "border": null,
            "bottom": null,
            "display": null,
            "flex": null,
            "flex_flow": null,
            "grid_area": null,
            "grid_auto_columns": null,
            "grid_auto_flow": null,
            "grid_auto_rows": null,
            "grid_column": null,
            "grid_gap": null,
            "grid_row": null,
            "grid_template_areas": null,
            "grid_template_columns": null,
            "grid_template_rows": null,
            "height": null,
            "justify_content": null,
            "justify_items": null,
            "left": null,
            "margin": null,
            "max_height": null,
            "max_width": null,
            "min_height": null,
            "min_width": null,
            "object_fit": null,
            "object_position": null,
            "order": null,
            "overflow": null,
            "overflow_x": null,
            "overflow_y": null,
            "padding": null,
            "right": null,
            "top": null,
            "visibility": null,
            "width": null
          }
        },
        "bb09500200744a34af95a5235b4f5e2a": {
          "model_module": "@jupyter-widgets/base",
          "model_name": "LayoutModel",
          "model_module_version": "1.2.0",
          "state": {
            "_model_module": "@jupyter-widgets/base",
            "_model_module_version": "1.2.0",
            "_model_name": "LayoutModel",
            "_view_count": null,
            "_view_module": "@jupyter-widgets/base",
            "_view_module_version": "1.2.0",
            "_view_name": "LayoutView",
            "align_content": null,
            "align_items": null,
            "align_self": null,
            "border": null,
            "bottom": null,
            "display": null,
            "flex": null,
            "flex_flow": null,
            "grid_area": null,
            "grid_auto_columns": null,
            "grid_auto_flow": null,
            "grid_auto_rows": null,
            "grid_column": null,
            "grid_gap": null,
            "grid_row": null,
            "grid_template_areas": null,
            "grid_template_columns": null,
            "grid_template_rows": null,
            "height": null,
            "justify_content": null,
            "justify_items": null,
            "left": null,
            "margin": null,
            "max_height": null,
            "max_width": null,
            "min_height": null,
            "min_width": null,
            "object_fit": null,
            "object_position": null,
            "order": null,
            "overflow": null,
            "overflow_x": null,
            "overflow_y": null,
            "padding": null,
            "right": null,
            "top": null,
            "visibility": null,
            "width": null
          }
        },
        "dbd2e51794ba4c1db740fdf1e1bbee49": {
          "model_module": "@jupyter-widgets/controls",
          "model_name": "DescriptionStyleModel",
          "model_module_version": "1.5.0",
          "state": {
            "_model_module": "@jupyter-widgets/controls",
            "_model_module_version": "1.5.0",
            "_model_name": "DescriptionStyleModel",
            "_view_count": null,
            "_view_module": "@jupyter-widgets/base",
            "_view_module_version": "1.2.0",
            "_view_name": "StyleView",
            "description_width": ""
          }
        },
        "83e092a8d8ca4b8180a9fee28341c343": {
          "model_module": "@jupyter-widgets/base",
          "model_name": "LayoutModel",
          "model_module_version": "1.2.0",
          "state": {
            "_model_module": "@jupyter-widgets/base",
            "_model_module_version": "1.2.0",
            "_model_name": "LayoutModel",
            "_view_count": null,
            "_view_module": "@jupyter-widgets/base",
            "_view_module_version": "1.2.0",
            "_view_name": "LayoutView",
            "align_content": null,
            "align_items": null,
            "align_self": null,
            "border": null,
            "bottom": null,
            "display": null,
            "flex": null,
            "flex_flow": null,
            "grid_area": null,
            "grid_auto_columns": null,
            "grid_auto_flow": null,
            "grid_auto_rows": null,
            "grid_column": null,
            "grid_gap": null,
            "grid_row": null,
            "grid_template_areas": null,
            "grid_template_columns": null,
            "grid_template_rows": null,
            "height": null,
            "justify_content": null,
            "justify_items": null,
            "left": null,
            "margin": null,
            "max_height": null,
            "max_width": null,
            "min_height": null,
            "min_width": null,
            "object_fit": null,
            "object_position": null,
            "order": null,
            "overflow": null,
            "overflow_x": null,
            "overflow_y": null,
            "padding": null,
            "right": null,
            "top": null,
            "visibility": null,
            "width": null
          }
        },
        "5cd37528fb9b4c7dbb28de59ab3b449d": {
          "model_module": "@jupyter-widgets/controls",
          "model_name": "ProgressStyleModel",
          "model_module_version": "1.5.0",
          "state": {
            "_model_module": "@jupyter-widgets/controls",
            "_model_module_version": "1.5.0",
            "_model_name": "ProgressStyleModel",
            "_view_count": null,
            "_view_module": "@jupyter-widgets/base",
            "_view_module_version": "1.2.0",
            "_view_name": "StyleView",
            "bar_color": null,
            "description_width": ""
          }
        },
        "dfa6cfc029c94e6ba3aed3a536263b63": {
          "model_module": "@jupyter-widgets/base",
          "model_name": "LayoutModel",
          "model_module_version": "1.2.0",
          "state": {
            "_model_module": "@jupyter-widgets/base",
            "_model_module_version": "1.2.0",
            "_model_name": "LayoutModel",
            "_view_count": null,
            "_view_module": "@jupyter-widgets/base",
            "_view_module_version": "1.2.0",
            "_view_name": "LayoutView",
            "align_content": null,
            "align_items": null,
            "align_self": null,
            "border": null,
            "bottom": null,
            "display": null,
            "flex": null,
            "flex_flow": null,
            "grid_area": null,
            "grid_auto_columns": null,
            "grid_auto_flow": null,
            "grid_auto_rows": null,
            "grid_column": null,
            "grid_gap": null,
            "grid_row": null,
            "grid_template_areas": null,
            "grid_template_columns": null,
            "grid_template_rows": null,
            "height": null,
            "justify_content": null,
            "justify_items": null,
            "left": null,
            "margin": null,
            "max_height": null,
            "max_width": null,
            "min_height": null,
            "min_width": null,
            "object_fit": null,
            "object_position": null,
            "order": null,
            "overflow": null,
            "overflow_x": null,
            "overflow_y": null,
            "padding": null,
            "right": null,
            "top": null,
            "visibility": null,
            "width": null
          }
        },
        "f6fac20e684c4e9eaa66ea672391214e": {
          "model_module": "@jupyter-widgets/controls",
          "model_name": "DescriptionStyleModel",
          "model_module_version": "1.5.0",
          "state": {
            "_model_module": "@jupyter-widgets/controls",
            "_model_module_version": "1.5.0",
            "_model_name": "DescriptionStyleModel",
            "_view_count": null,
            "_view_module": "@jupyter-widgets/base",
            "_view_module_version": "1.2.0",
            "_view_name": "StyleView",
            "description_width": ""
          }
        }
      }
    }
  },
  "cells": [
    {
      "cell_type": "code",
      "execution_count": 1,
      "metadata": {
        "colab": {
          "base_uri": "https://localhost:8080/",
          "height": 130
        },
        "id": "UtOuegHboJgf",
        "outputId": "1f4ca6ea-5334-427c-9355-ae501bd778cf"
      },
      "outputs": [
        {
          "output_type": "display_data",
          "data": {
            "text/plain": [
              "<IPython.core.display.HTML object>"
            ],
            "text/html": [
              "\n",
              "     <input type=\"file\" id=\"files-0ea5b9d5-97b6-42b4-be4f-2717f9984005\" name=\"files[]\" multiple disabled\n",
              "        style=\"border:none\" />\n",
              "     <output id=\"result-0ea5b9d5-97b6-42b4-be4f-2717f9984005\">\n",
              "      Upload widget is only available when the cell has been executed in the\n",
              "      current browser session. Please rerun this cell to enable.\n",
              "      </output>\n",
              "      <script>// Copyright 2017 Google LLC\n",
              "//\n",
              "// Licensed under the Apache License, Version 2.0 (the \"License\");\n",
              "// you may not use this file except in compliance with the License.\n",
              "// You may obtain a copy of the License at\n",
              "//\n",
              "//      http://www.apache.org/licenses/LICENSE-2.0\n",
              "//\n",
              "// Unless required by applicable law or agreed to in writing, software\n",
              "// distributed under the License is distributed on an \"AS IS\" BASIS,\n",
              "// WITHOUT WARRANTIES OR CONDITIONS OF ANY KIND, either express or implied.\n",
              "// See the License for the specific language governing permissions and\n",
              "// limitations under the License.\n",
              "\n",
              "/**\n",
              " * @fileoverview Helpers for google.colab Python module.\n",
              " */\n",
              "(function(scope) {\n",
              "function span(text, styleAttributes = {}) {\n",
              "  const element = document.createElement('span');\n",
              "  element.textContent = text;\n",
              "  for (const key of Object.keys(styleAttributes)) {\n",
              "    element.style[key] = styleAttributes[key];\n",
              "  }\n",
              "  return element;\n",
              "}\n",
              "\n",
              "// Max number of bytes which will be uploaded at a time.\n",
              "const MAX_PAYLOAD_SIZE = 100 * 1024;\n",
              "\n",
              "function _uploadFiles(inputId, outputId) {\n",
              "  const steps = uploadFilesStep(inputId, outputId);\n",
              "  const outputElement = document.getElementById(outputId);\n",
              "  // Cache steps on the outputElement to make it available for the next call\n",
              "  // to uploadFilesContinue from Python.\n",
              "  outputElement.steps = steps;\n",
              "\n",
              "  return _uploadFilesContinue(outputId);\n",
              "}\n",
              "\n",
              "// This is roughly an async generator (not supported in the browser yet),\n",
              "// where there are multiple asynchronous steps and the Python side is going\n",
              "// to poll for completion of each step.\n",
              "// This uses a Promise to block the python side on completion of each step,\n",
              "// then passes the result of the previous step as the input to the next step.\n",
              "function _uploadFilesContinue(outputId) {\n",
              "  const outputElement = document.getElementById(outputId);\n",
              "  const steps = outputElement.steps;\n",
              "\n",
              "  const next = steps.next(outputElement.lastPromiseValue);\n",
              "  return Promise.resolve(next.value.promise).then((value) => {\n",
              "    // Cache the last promise value to make it available to the next\n",
              "    // step of the generator.\n",
              "    outputElement.lastPromiseValue = value;\n",
              "    return next.value.response;\n",
              "  });\n",
              "}\n",
              "\n",
              "/**\n",
              " * Generator function which is called between each async step of the upload\n",
              " * process.\n",
              " * @param {string} inputId Element ID of the input file picker element.\n",
              " * @param {string} outputId Element ID of the output display.\n",
              " * @return {!Iterable<!Object>} Iterable of next steps.\n",
              " */\n",
              "function* uploadFilesStep(inputId, outputId) {\n",
              "  const inputElement = document.getElementById(inputId);\n",
              "  inputElement.disabled = false;\n",
              "\n",
              "  const outputElement = document.getElementById(outputId);\n",
              "  outputElement.innerHTML = '';\n",
              "\n",
              "  const pickedPromise = new Promise((resolve) => {\n",
              "    inputElement.addEventListener('change', (e) => {\n",
              "      resolve(e.target.files);\n",
              "    });\n",
              "  });\n",
              "\n",
              "  const cancel = document.createElement('button');\n",
              "  inputElement.parentElement.appendChild(cancel);\n",
              "  cancel.textContent = 'Cancel upload';\n",
              "  const cancelPromise = new Promise((resolve) => {\n",
              "    cancel.onclick = () => {\n",
              "      resolve(null);\n",
              "    };\n",
              "  });\n",
              "\n",
              "  // Wait for the user to pick the files.\n",
              "  const files = yield {\n",
              "    promise: Promise.race([pickedPromise, cancelPromise]),\n",
              "    response: {\n",
              "      action: 'starting',\n",
              "    }\n",
              "  };\n",
              "\n",
              "  cancel.remove();\n",
              "\n",
              "  // Disable the input element since further picks are not allowed.\n",
              "  inputElement.disabled = true;\n",
              "\n",
              "  if (!files) {\n",
              "    return {\n",
              "      response: {\n",
              "        action: 'complete',\n",
              "      }\n",
              "    };\n",
              "  }\n",
              "\n",
              "  for (const file of files) {\n",
              "    const li = document.createElement('li');\n",
              "    li.append(span(file.name, {fontWeight: 'bold'}));\n",
              "    li.append(span(\n",
              "        `(${file.type || 'n/a'}) - ${file.size} bytes, ` +\n",
              "        `last modified: ${\n",
              "            file.lastModifiedDate ? file.lastModifiedDate.toLocaleDateString() :\n",
              "                                    'n/a'} - `));\n",
              "    const percent = span('0% done');\n",
              "    li.appendChild(percent);\n",
              "\n",
              "    outputElement.appendChild(li);\n",
              "\n",
              "    const fileDataPromise = new Promise((resolve) => {\n",
              "      const reader = new FileReader();\n",
              "      reader.onload = (e) => {\n",
              "        resolve(e.target.result);\n",
              "      };\n",
              "      reader.readAsArrayBuffer(file);\n",
              "    });\n",
              "    // Wait for the data to be ready.\n",
              "    let fileData = yield {\n",
              "      promise: fileDataPromise,\n",
              "      response: {\n",
              "        action: 'continue',\n",
              "      }\n",
              "    };\n",
              "\n",
              "    // Use a chunked sending to avoid message size limits. See b/62115660.\n",
              "    let position = 0;\n",
              "    do {\n",
              "      const length = Math.min(fileData.byteLength - position, MAX_PAYLOAD_SIZE);\n",
              "      const chunk = new Uint8Array(fileData, position, length);\n",
              "      position += length;\n",
              "\n",
              "      const base64 = btoa(String.fromCharCode.apply(null, chunk));\n",
              "      yield {\n",
              "        response: {\n",
              "          action: 'append',\n",
              "          file: file.name,\n",
              "          data: base64,\n",
              "        },\n",
              "      };\n",
              "\n",
              "      let percentDone = fileData.byteLength === 0 ?\n",
              "          100 :\n",
              "          Math.round((position / fileData.byteLength) * 100);\n",
              "      percent.textContent = `${percentDone}% done`;\n",
              "\n",
              "    } while (position < fileData.byteLength);\n",
              "  }\n",
              "\n",
              "  // All done.\n",
              "  yield {\n",
              "    response: {\n",
              "      action: 'complete',\n",
              "    }\n",
              "  };\n",
              "}\n",
              "\n",
              "scope.google = scope.google || {};\n",
              "scope.google.colab = scope.google.colab || {};\n",
              "scope.google.colab._files = {\n",
              "  _uploadFiles,\n",
              "  _uploadFilesContinue,\n",
              "};\n",
              "})(self);\n",
              "</script> "
            ]
          },
          "metadata": {}
        },
        {
          "output_type": "stream",
          "name": "stdout",
          "text": [
            "Saving kaggle.json to kaggle.json\n",
            "Downloading aptos2019-blindness-detection.zip to ./data\n",
            "100% 9.50G/9.51G [01:05<00:00, 133MB/s]\n",
            "100% 9.51G/9.51G [01:05<00:00, 156MB/s]\n"
          ]
        }
      ],
      "source": [
        "from IPython import get_ipython\n",
        "from IPython.display import display\n",
        "\n",
        "import os\n",
        "import pandas as pd\n",
        "from sklearn.model_selection import train_test_split\n",
        "from sklearn.utils import resample\n",
        "from torch.utils.data import Dataset\n",
        "from google.colab import files\n",
        "\n",
        "from PIL import Image\n",
        "\n",
        "\n",
        "files.upload()\n",
        "\n",
        "# Kaggle 데이터 다운로드\n",
        "!mkdir -p ~/.kaggle\n",
        "!cp kaggle.json ~/.kaggle/\n",
        "!chmod 600 ~/.kaggle/kaggle.json\n",
        "\n",
        "# 다운로드 및 압축 해제\n",
        "!kaggle competitions download -c aptos2019-blindness-detection -p ./data\n",
        "!unzip -qo ./data/aptos2019-blindness-detection.zip -d ./data/aptos2019"
      ]
    },
    {
      "cell_type": "code",
      "source": [
        "class APTOSDataset(Dataset):\n",
        "        def __init__(self, dataframe, img_dir, transform=None):\n",
        "            self.dataframe = dataframe\n",
        "            self.img_dir = img_dir\n",
        "            self.transform = transform\n",
        "\n",
        "        def __len__(self):\n",
        "            return len(self.dataframe)\n",
        "\n",
        "        def __getitem__(self, idx):\n",
        "            row = self.dataframe.iloc[idx]\n",
        "            img_path = os.path.join(self.img_dir, row['id_code'] + '.png')\n",
        "            label = int(row['diagnosis'])\n",
        "            if not os.path.exists(img_path):\n",
        "              raise FileNotFoundError(f\"이미지 파일이 존재하지 않습니다: {img_path}\")\n",
        "            image = Image.open(img_path).convert(\"RGB\")\n",
        "            if self.transform:\n",
        "                image = self.transform(image)\n",
        "            return image, label"
      ],
      "metadata": {
        "id": "SEbtya2OUVMd"
      },
      "execution_count": 2,
      "outputs": []
    },
    {
      "cell_type": "code",
      "source": [
        "def load_and_preprocess_data(data_path):\n",
        "    train_csv = os.path.join(data_path, \"train.csv\")\n",
        "    train_images_dir = os.path.join(data_path, \"train_images\")\n",
        "\n",
        "    if not os.path.exists(train_csv):\n",
        "        raise FileNotFoundError(f\"The file {train_csv} does not exist. Please ensure the dataset was downloaded and extracted correctly.\")\n",
        "    # 데이터 로드\n",
        "    df = pd.read_csv(train_csv)\n",
        "    df['diagnosis'] = df['diagnosis'].astype(str)  # 레이블을 문자열로 변환\n",
        "\n",
        "    train_df, temp_df = train_test_split(df, test_size=0.3, stratify=df['diagnosis'], random_state=42)\n",
        "    val_df, test_df = train_test_split(temp_df, test_size=0.5, stratify=temp_df['diagnosis'], random_state=42)\n",
        "\n",
        "    return train_df, val_df, test_df, train_images_dir\n",
        "\n",
        "data_path = \"./data/aptos2019\"\n",
        "train_df, val_df, test_df, train_images_dir = load_and_preprocess_data(data_path)"
      ],
      "metadata": {
        "id": "zbrIvLTYUW2_"
      },
      "execution_count": 3,
      "outputs": []
    },
    {
      "cell_type": "code",
      "source": [
        "!pip install torchinfo\n",
        "import timm\n",
        "import torch\n",
        "import torch.nn as nn\n",
        "import torch.optim as optim\n",
        "from torchvision import datasets, transforms\n",
        "from torch.utils.data import DataLoader, random_split, ConcatDataset\n",
        "import numpy as np\n",
        "from tqdm import tqdm\n",
        "\n",
        "import itertools\n",
        "from torchinfo import summary"
      ],
      "metadata": {
        "id": "Wa8mdzSwvzMe",
        "colab": {
          "base_uri": "https://localhost:8080/"
        },
        "outputId": "3562f91f-4756-42eb-fdfa-dbdaeb65ccc1"
      },
      "execution_count": 4,
      "outputs": [
        {
          "output_type": "stream",
          "name": "stdout",
          "text": [
            "Collecting torchinfo\n",
            "  Downloading torchinfo-1.8.0-py3-none-any.whl.metadata (21 kB)\n",
            "Downloading torchinfo-1.8.0-py3-none-any.whl (23 kB)\n",
            "Installing collected packages: torchinfo\n",
            "Successfully installed torchinfo-1.8.0\n"
          ]
        }
      ]
    },
    {
      "cell_type": "code",
      "source": [
        "class ConvNorm(nn.Module):\n",
        "    def __init__(self, in_channels, out_channels, kernel_size=3, stride=2, padding=1):\n",
        "        super(ConvNorm, self).__init__()\n",
        "        self.linear = nn.Conv2d(\n",
        "            in_channels, out_channels, kernel_size=kernel_size,\n",
        "            stride=stride, padding=padding, bias=False\n",
        "        )\n",
        "        self.bn = nn.BatchNorm2d(out_channels)\n",
        "\n",
        "    def forward(self, x):\n",
        "        x = self.linear(x)\n",
        "        x = self.bn(x)\n",
        "        return x"
      ],
      "metadata": {
        "id": "-8T0SMvJVuvM"
      },
      "execution_count": 5,
      "outputs": []
    },
    {
      "cell_type": "code",
      "source": [
        "class Stem16(nn.Module):\n",
        "    def __init__(self):\n",
        "        super(Stem16, self).__init__()\n",
        "        self.conv1 = ConvNorm(3, 32)\n",
        "        self.act1 = nn.Hardswish()\n",
        "        self.conv2 = ConvNorm(32, 64)\n",
        "        self.act2 = nn.Hardswish()\n",
        "        self.conv3 = ConvNorm(64, 128)\n",
        "        self.act3 = nn.Hardswish()\n",
        "        self.conv4 = ConvNorm(128, 256)\n",
        "\n",
        "    def forward(self, x):\n",
        "        x = self.act1(self.conv1(x))\n",
        "        x = self.act2(self.conv2(x))\n",
        "        x = self.act3(self.conv3(x))\n",
        "        x = self.conv4(x)\n",
        "        return x"
      ],
      "metadata": {
        "id": "zhaJu1oZyp0D"
      },
      "execution_count": 6,
      "outputs": []
    },
    {
      "cell_type": "code",
      "source": [
        "class LinearNorm(nn.Module):\n",
        "    def __init__(self, in_features, out_features):\n",
        "        super(LinearNorm, self).__init__()\n",
        "        self.linear = nn.Linear(in_features, out_features, bias=False)\n",
        "        self.bn = nn.BatchNorm1d(out_features)\n",
        "\n",
        "    def forward(self, x):\n",
        "\n",
        "        if x.dim() == 3:\n",
        "            B, N, C = x.shape\n",
        "            x = x.reshape(B * N, C)\n",
        "            x = self.bn(self.linear(x))\n",
        "            x = x.reshape(B, N, -1)\n",
        "        else:\n",
        "            x = self.bn(self.linear(x))\n",
        "        return x"
      ],
      "metadata": {
        "id": "W1Xh6-wOyskM"
      },
      "execution_count": 7,
      "outputs": []
    },
    {
      "cell_type": "code",
      "source": [
        "class Attention(nn.Module):\n",
        "    def __init__(self, dim, num_heads, attn_ratio=2):\n",
        "        super(Attention, self).__init__()\n",
        "        self.num_heads = num_heads\n",
        "        head_dim = dim // num_heads\n",
        "        self.scale = head_dim ** -0.5\n",
        "        inner_dim = head_dim * num_heads * 3\n",
        "        self.qkv = LinearNorm(dim, inner_dim)\n",
        "\n",
        "        self.proj = nn.Sequential(\n",
        "            nn.Hardswish(),\n",
        "            LinearNorm(dim, dim)\n",
        "        )\n",
        "\n",
        "    def forward(self, x):\n",
        "        B, N, C = x.shape\n",
        "        qkv = self.qkv(x)\n",
        "        qkv = qkv.view(B, N, 3, self.num_heads, C // self.num_heads).permute(2, 0, 3, 1, 4)\n",
        "        q, k, v = qkv[0], qkv[1], qkv[2]\n",
        "        attn = (q @ k.transpose(-2, -1)) * self.scale\n",
        "        attn = attn.softmax(dim=-1)\n",
        "        x = (attn @ v).transpose(1, 2).reshape(B, N, C)\n",
        "        return self.proj(x)"
      ],
      "metadata": {
        "id": "wHeuFDCPyuLf"
      },
      "execution_count": 8,
      "outputs": []
    },
    {
      "cell_type": "code",
      "source": [
        "class LevitMlp(nn.Module):\n",
        "    def __init__(self, in_features, hidden_features, out_features):\n",
        "        super(LevitMlp, self).__init__()\n",
        "        self.ln1 = LinearNorm(in_features, hidden_features)\n",
        "        self.act = nn.Hardswish()\n",
        "        self.drop = nn.Dropout(p=0.5, inplace=False)#dropout 적용\n",
        "        self.ln2 = LinearNorm(hidden_features, out_features)\n",
        "\n",
        "    def forward(self, x):\n",
        "        x = self.ln1(x)\n",
        "        x = self.act(x)\n",
        "        x = self.drop(x)\n",
        "        x = self.ln2(x)\n",
        "        return x"
      ],
      "metadata": {
        "id": "xvyY-FeUywyR"
      },
      "execution_count": 9,
      "outputs": []
    },
    {
      "cell_type": "code",
      "source": [
        "class LevitBlock(nn.Module):\n",
        "    def __init__(self, dim, num_heads, mlp_ratio=2):\n",
        "        super(LevitBlock, self).__init__()\n",
        "        self.attn = Attention(dim, num_heads)\n",
        "        self.drop_path1 = nn.Identity()\n",
        "        self.mlp = LevitMlp(dim, dim * mlp_ratio, dim)\n",
        "        self.drop_path2 = nn.Identity()\n",
        "\n",
        "    def forward(self, x):\n",
        "        x = x + self.drop_path1(self.attn(x))\n",
        "        x = x + self.drop_path2(self.mlp(x))\n",
        "        return x"
      ],
      "metadata": {
        "id": "Ubl233osyyHQ"
      },
      "execution_count": 10,
      "outputs": []
    },
    {
      "cell_type": "code",
      "source": [
        "class CNNDownsample(nn.Module):\n",
        "    def __init__(self, in_channels, out_channels):\n",
        "        super(CNNDownsample, self).__init__()\n",
        "        self.out_channels = out_channels\n",
        "        self.conv = nn.Conv2d(in_channels, out_channels, kernel_size=3, stride=2, padding=1)\n",
        "        self.act = nn.Hardswish()\n",
        "\n",
        "    def forward(self, x):\n",
        "        # print(x.shape)\n",
        "        B, N, C = x.shape # (B, N, C)  N=H*W (16 * 16 = 196)\n",
        "        H = int(np.sqrt(N))\n",
        "        x = x.view(B, H, H, C).permute(0, 3, 1, 2)\n",
        "        x = self.conv(x)\n",
        "        x = self.act(x)\n",
        "        x = x.permute(0, 2, 3, 1).view(B, -1, self.out_channels)\n",
        "        return x"
      ],
      "metadata": {
        "id": "cjBHkWJYyzfc"
      },
      "execution_count": 11,
      "outputs": []
    },
    {
      "cell_type": "code",
      "source": [
        "class LevitStage(nn.Module):\n",
        "    def __init__(self, dim, out_dim, num_heads, num_blocks, downsample=True):\n",
        "        super(LevitStage, self).__init__()\n",
        "        self.downsample = CNNDownsample(dim, out_dim) if downsample else nn.Identity()\n",
        "        self.blocks = nn.Sequential(*[LevitBlock(out_dim, num_heads) for _ in range(num_blocks)])\n",
        "\n",
        "    def forward(self, x):\n",
        "        x = self.downsample(x)\n",
        "        x = self.blocks(x)\n",
        "        return x"
      ],
      "metadata": {
        "id": "jNpOjwVVy1Im"
      },
      "execution_count": 12,
      "outputs": []
    },
    {
      "cell_type": "code",
      "source": [
        "class ConvLevitStage(nn.Module):\n",
        "    def __init__(self, in_channels, out_channels, num_blocks, kernel_size, stride, padding):\n",
        "        super(ConvLevitStage, self).__init__()\n",
        "        self.layers = nn.Sequential(\n",
        "            *[nn.Conv2d(in_channels if i == 0 else out_channels, out_channels, kernel_size, stride, padding)\n",
        "              for i in range(num_blocks)],\n",
        "            nn.BatchNorm2d(out_channels),\n",
        "            nn.ReLU(inplace=True)\n",
        "        )\n",
        "\n",
        "    def forward(self, x):\n",
        "        return self.layers(x)"
      ],
      "metadata": {
        "id": "FyFtflRsy2QE"
      },
      "execution_count": 13,
      "outputs": []
    },
    {
      "cell_type": "code",
      "source": [
        "class NormLinear(nn.Module):\n",
        "    def __init__(self, in_features, out_features, dropout_prob=0.5):#drop_out_0.5 적용\n",
        "        super(NormLinear, self).__init__()\n",
        "        self.bn = nn.BatchNorm1d(in_features)\n",
        "        self.drop = nn.Dropout(p=dropout_prob, inplace=False)\n",
        "        self.linear = nn.Linear(in_features, out_features, bias=True)\n",
        "\n",
        "    def forward(self, x):\n",
        "        x = self.bn(x)\n",
        "        x = self.drop(x)\n",
        "        x = self.linear(x)\n",
        "        return x"
      ],
      "metadata": {
        "id": "yKzCWv-Ny3j9"
      },
      "execution_count": 14,
      "outputs": []
    },
    {
      "cell_type": "code",
      "source": [
        "class LevitDistilled(nn.Module):\n",
        "    def __init__(self, num_classes=5):\n",
        "        super(LevitDistilled, self).__init__()\n",
        "\n",
        "        self.stem = Stem16()\n",
        "\n",
        "        self.stage1 = LevitStage(dim=256, out_dim=256, num_heads=4, num_blocks=2, downsample=False) # block 수 적용\n",
        "        self.stage2 = LevitStage(dim=256, out_dim=384, num_heads=6, num_blocks=2, downsample=True)\n",
        "\n",
        "        self.conv1x1 = nn.Sequential(\n",
        "            nn.Conv2d(384, 512, kernel_size=1, stride=1, padding=0),\n",
        "            nn.BatchNorm2d(512),\n",
        "            nn.ReLU(inplace=True)\n",
        "        )\n",
        "\n",
        "        self.head = NormLinear(in_features=512, out_features=num_classes, dropout_prob=0.0)\n",
        "        self.head_dist = NormLinear(in_features=512, out_features=num_classes, dropout_prob=0.0)\n",
        "\n",
        "    def forward(self, x):\n",
        "        x = self.stem(x)\n",
        "\n",
        "        B, C, H, W = x.shape\n",
        "        x = x.view(B, C, -1).transpose(1, 2)\n",
        "        x = self.stage1(x)\n",
        "        x = self.stage2(x)\n",
        "\n",
        "        H = W = int(x.shape[1]**0.5)\n",
        "        x = x.transpose(1, 2).view(B, 384, H, W)\n",
        "\n",
        "        x = self.conv1x1(x)\n",
        "\n",
        "        x = torch.mean(x, dim=(2, 3))\n",
        "        out = self.head(x)\n",
        "        out_dist = self.head_dist(x)\n",
        "        return out"
      ],
      "metadata": {
        "id": "xG1A6osfy5M-"
      },
      "execution_count": 15,
      "outputs": []
    },
    {
      "cell_type": "code",
      "source": [
        "ResNet50 = timm.create_model('resnet50', pretrained=True)"
      ],
      "metadata": {
        "id": "V3sUszIBy6hv",
        "colab": {
          "base_uri": "https://localhost:8080/",
          "height": 160,
          "referenced_widgets": [
            "20202227a3234cf4a0a2bed17d4f4b03",
            "582210d7f4f146efabfc123f5ec60cf7",
            "33bf242e881049aa9211197a45fc5169",
            "9b8fd9bdbca04aa5a7df6979cb45e606",
            "36af581bdac74850b1e64eec2d748f23",
            "bb09500200744a34af95a5235b4f5e2a",
            "dbd2e51794ba4c1db740fdf1e1bbee49",
            "83e092a8d8ca4b8180a9fee28341c343",
            "5cd37528fb9b4c7dbb28de59ab3b449d",
            "dfa6cfc029c94e6ba3aed3a536263b63",
            "f6fac20e684c4e9eaa66ea672391214e"
          ]
        },
        "outputId": "24690ce7-ee8b-4e5e-e9c1-98189a7e7cac"
      },
      "execution_count": 16,
      "outputs": [
        {
          "output_type": "stream",
          "name": "stderr",
          "text": [
            "/usr/local/lib/python3.11/dist-packages/huggingface_hub/utils/_auth.py:94: UserWarning: \n",
            "The secret `HF_TOKEN` does not exist in your Colab secrets.\n",
            "To authenticate with the Hugging Face Hub, create a token in your settings tab (https://huggingface.co/settings/tokens), set it as secret in your Google Colab and restart your session.\n",
            "You will be able to reuse this secret in all of your notebooks.\n",
            "Please note that authentication is recommended but still optional to access public models or datasets.\n",
            "  warnings.warn(\n"
          ]
        },
        {
          "output_type": "display_data",
          "data": {
            "text/plain": [
              "model.safetensors:   0%|          | 0.00/102M [00:00<?, ?B/s]"
            ],
            "application/vnd.jupyter.widget-view+json": {
              "version_major": 2,
              "version_minor": 0,
              "model_id": "20202227a3234cf4a0a2bed17d4f4b03"
            }
          },
          "metadata": {}
        }
      ]
    },
    {
      "cell_type": "code",
      "source": [
        "for param in ResNet50.parameters():\n",
        "    param.requires_grad = False\n",
        "\n",
        "ResNet50.fc = nn.Identity()"
      ],
      "metadata": {
        "id": "5ILKEqzQy9m0"
      },
      "execution_count": 17,
      "outputs": []
    },
    {
      "cell_type": "code",
      "source": [
        "class LauncherModel(nn.Module):\n",
        "    def __init__(self):\n",
        "        super().__init__()\n",
        "        self.resnet = ResNet50\n",
        "        self.upsample1 = nn.ConvTranspose2d(32, 16, kernel_size=4, stride=2, padding=1)\n",
        "        self.upsample2 = nn.ConvTranspose2d(16, 8, kernel_size=4, stride=2, padding=1)\n",
        "        self.upsample3 = nn.ConvTranspose2d(8, 3, kernel_size=4, stride=4, padding=0)\n",
        "\n",
        "        self.levit = LevitDistilled()\n",
        "\n",
        "    def forward(self, x):\n",
        "        x = self.resnet(x)  # (32, 2048)\n",
        "        x = x.view(x.size(0), 32, 8, 8)\n",
        "        x = self.upsample1(x)\n",
        "        x = self.upsample2(x)\n",
        "        x = self.upsample3(x)\n",
        "        x = self.levit(x)\n",
        "        return x"
      ],
      "metadata": {
        "id": "ZM86FIl5zDsl"
      },
      "execution_count": 18,
      "outputs": []
    },
    {
      "cell_type": "code",
      "source": [
        "model = LauncherModel()\n",
        "print(model)\n",
        "\n",
        "device = torch.device(\"cuda\" if torch.cuda.is_available() else \"cpu\")\n",
        "model = model.to(device)\n",
        "\n",
        "batch_size = 32\n",
        "learning_rate = 0.001\n",
        "num_epochs = 50"
      ],
      "metadata": {
        "colab": {
          "base_uri": "https://localhost:8080/"
        },
        "collapsed": true,
        "id": "lbCq25bWzJSQ",
        "outputId": "90e9cf03-55b3-4ec2-f6c7-3df17fae61ee"
      },
      "execution_count": 19,
      "outputs": [
        {
          "output_type": "stream",
          "name": "stdout",
          "text": [
            "LauncherModel(\n",
            "  (resnet): ResNet(\n",
            "    (conv1): Conv2d(3, 64, kernel_size=(7, 7), stride=(2, 2), padding=(3, 3), bias=False)\n",
            "    (bn1): BatchNorm2d(64, eps=1e-05, momentum=0.1, affine=True, track_running_stats=True)\n",
            "    (act1): ReLU(inplace=True)\n",
            "    (maxpool): MaxPool2d(kernel_size=3, stride=2, padding=1, dilation=1, ceil_mode=False)\n",
            "    (layer1): Sequential(\n",
            "      (0): Bottleneck(\n",
            "        (conv1): Conv2d(64, 64, kernel_size=(1, 1), stride=(1, 1), bias=False)\n",
            "        (bn1): BatchNorm2d(64, eps=1e-05, momentum=0.1, affine=True, track_running_stats=True)\n",
            "        (act1): ReLU(inplace=True)\n",
            "        (conv2): Conv2d(64, 64, kernel_size=(3, 3), stride=(1, 1), padding=(1, 1), bias=False)\n",
            "        (bn2): BatchNorm2d(64, eps=1e-05, momentum=0.1, affine=True, track_running_stats=True)\n",
            "        (drop_block): Identity()\n",
            "        (act2): ReLU(inplace=True)\n",
            "        (aa): Identity()\n",
            "        (conv3): Conv2d(64, 256, kernel_size=(1, 1), stride=(1, 1), bias=False)\n",
            "        (bn3): BatchNorm2d(256, eps=1e-05, momentum=0.1, affine=True, track_running_stats=True)\n",
            "        (act3): ReLU(inplace=True)\n",
            "        (downsample): Sequential(\n",
            "          (0): Conv2d(64, 256, kernel_size=(1, 1), stride=(1, 1), bias=False)\n",
            "          (1): BatchNorm2d(256, eps=1e-05, momentum=0.1, affine=True, track_running_stats=True)\n",
            "        )\n",
            "      )\n",
            "      (1): Bottleneck(\n",
            "        (conv1): Conv2d(256, 64, kernel_size=(1, 1), stride=(1, 1), bias=False)\n",
            "        (bn1): BatchNorm2d(64, eps=1e-05, momentum=0.1, affine=True, track_running_stats=True)\n",
            "        (act1): ReLU(inplace=True)\n",
            "        (conv2): Conv2d(64, 64, kernel_size=(3, 3), stride=(1, 1), padding=(1, 1), bias=False)\n",
            "        (bn2): BatchNorm2d(64, eps=1e-05, momentum=0.1, affine=True, track_running_stats=True)\n",
            "        (drop_block): Identity()\n",
            "        (act2): ReLU(inplace=True)\n",
            "        (aa): Identity()\n",
            "        (conv3): Conv2d(64, 256, kernel_size=(1, 1), stride=(1, 1), bias=False)\n",
            "        (bn3): BatchNorm2d(256, eps=1e-05, momentum=0.1, affine=True, track_running_stats=True)\n",
            "        (act3): ReLU(inplace=True)\n",
            "      )\n",
            "      (2): Bottleneck(\n",
            "        (conv1): Conv2d(256, 64, kernel_size=(1, 1), stride=(1, 1), bias=False)\n",
            "        (bn1): BatchNorm2d(64, eps=1e-05, momentum=0.1, affine=True, track_running_stats=True)\n",
            "        (act1): ReLU(inplace=True)\n",
            "        (conv2): Conv2d(64, 64, kernel_size=(3, 3), stride=(1, 1), padding=(1, 1), bias=False)\n",
            "        (bn2): BatchNorm2d(64, eps=1e-05, momentum=0.1, affine=True, track_running_stats=True)\n",
            "        (drop_block): Identity()\n",
            "        (act2): ReLU(inplace=True)\n",
            "        (aa): Identity()\n",
            "        (conv3): Conv2d(64, 256, kernel_size=(1, 1), stride=(1, 1), bias=False)\n",
            "        (bn3): BatchNorm2d(256, eps=1e-05, momentum=0.1, affine=True, track_running_stats=True)\n",
            "        (act3): ReLU(inplace=True)\n",
            "      )\n",
            "    )\n",
            "    (layer2): Sequential(\n",
            "      (0): Bottleneck(\n",
            "        (conv1): Conv2d(256, 128, kernel_size=(1, 1), stride=(1, 1), bias=False)\n",
            "        (bn1): BatchNorm2d(128, eps=1e-05, momentum=0.1, affine=True, track_running_stats=True)\n",
            "        (act1): ReLU(inplace=True)\n",
            "        (conv2): Conv2d(128, 128, kernel_size=(3, 3), stride=(2, 2), padding=(1, 1), bias=False)\n",
            "        (bn2): BatchNorm2d(128, eps=1e-05, momentum=0.1, affine=True, track_running_stats=True)\n",
            "        (drop_block): Identity()\n",
            "        (act2): ReLU(inplace=True)\n",
            "        (aa): Identity()\n",
            "        (conv3): Conv2d(128, 512, kernel_size=(1, 1), stride=(1, 1), bias=False)\n",
            "        (bn3): BatchNorm2d(512, eps=1e-05, momentum=0.1, affine=True, track_running_stats=True)\n",
            "        (act3): ReLU(inplace=True)\n",
            "        (downsample): Sequential(\n",
            "          (0): Conv2d(256, 512, kernel_size=(1, 1), stride=(2, 2), bias=False)\n",
            "          (1): BatchNorm2d(512, eps=1e-05, momentum=0.1, affine=True, track_running_stats=True)\n",
            "        )\n",
            "      )\n",
            "      (1): Bottleneck(\n",
            "        (conv1): Conv2d(512, 128, kernel_size=(1, 1), stride=(1, 1), bias=False)\n",
            "        (bn1): BatchNorm2d(128, eps=1e-05, momentum=0.1, affine=True, track_running_stats=True)\n",
            "        (act1): ReLU(inplace=True)\n",
            "        (conv2): Conv2d(128, 128, kernel_size=(3, 3), stride=(1, 1), padding=(1, 1), bias=False)\n",
            "        (bn2): BatchNorm2d(128, eps=1e-05, momentum=0.1, affine=True, track_running_stats=True)\n",
            "        (drop_block): Identity()\n",
            "        (act2): ReLU(inplace=True)\n",
            "        (aa): Identity()\n",
            "        (conv3): Conv2d(128, 512, kernel_size=(1, 1), stride=(1, 1), bias=False)\n",
            "        (bn3): BatchNorm2d(512, eps=1e-05, momentum=0.1, affine=True, track_running_stats=True)\n",
            "        (act3): ReLU(inplace=True)\n",
            "      )\n",
            "      (2): Bottleneck(\n",
            "        (conv1): Conv2d(512, 128, kernel_size=(1, 1), stride=(1, 1), bias=False)\n",
            "        (bn1): BatchNorm2d(128, eps=1e-05, momentum=0.1, affine=True, track_running_stats=True)\n",
            "        (act1): ReLU(inplace=True)\n",
            "        (conv2): Conv2d(128, 128, kernel_size=(3, 3), stride=(1, 1), padding=(1, 1), bias=False)\n",
            "        (bn2): BatchNorm2d(128, eps=1e-05, momentum=0.1, affine=True, track_running_stats=True)\n",
            "        (drop_block): Identity()\n",
            "        (act2): ReLU(inplace=True)\n",
            "        (aa): Identity()\n",
            "        (conv3): Conv2d(128, 512, kernel_size=(1, 1), stride=(1, 1), bias=False)\n",
            "        (bn3): BatchNorm2d(512, eps=1e-05, momentum=0.1, affine=True, track_running_stats=True)\n",
            "        (act3): ReLU(inplace=True)\n",
            "      )\n",
            "      (3): Bottleneck(\n",
            "        (conv1): Conv2d(512, 128, kernel_size=(1, 1), stride=(1, 1), bias=False)\n",
            "        (bn1): BatchNorm2d(128, eps=1e-05, momentum=0.1, affine=True, track_running_stats=True)\n",
            "        (act1): ReLU(inplace=True)\n",
            "        (conv2): Conv2d(128, 128, kernel_size=(3, 3), stride=(1, 1), padding=(1, 1), bias=False)\n",
            "        (bn2): BatchNorm2d(128, eps=1e-05, momentum=0.1, affine=True, track_running_stats=True)\n",
            "        (drop_block): Identity()\n",
            "        (act2): ReLU(inplace=True)\n",
            "        (aa): Identity()\n",
            "        (conv3): Conv2d(128, 512, kernel_size=(1, 1), stride=(1, 1), bias=False)\n",
            "        (bn3): BatchNorm2d(512, eps=1e-05, momentum=0.1, affine=True, track_running_stats=True)\n",
            "        (act3): ReLU(inplace=True)\n",
            "      )\n",
            "    )\n",
            "    (layer3): Sequential(\n",
            "      (0): Bottleneck(\n",
            "        (conv1): Conv2d(512, 256, kernel_size=(1, 1), stride=(1, 1), bias=False)\n",
            "        (bn1): BatchNorm2d(256, eps=1e-05, momentum=0.1, affine=True, track_running_stats=True)\n",
            "        (act1): ReLU(inplace=True)\n",
            "        (conv2): Conv2d(256, 256, kernel_size=(3, 3), stride=(2, 2), padding=(1, 1), bias=False)\n",
            "        (bn2): BatchNorm2d(256, eps=1e-05, momentum=0.1, affine=True, track_running_stats=True)\n",
            "        (drop_block): Identity()\n",
            "        (act2): ReLU(inplace=True)\n",
            "        (aa): Identity()\n",
            "        (conv3): Conv2d(256, 1024, kernel_size=(1, 1), stride=(1, 1), bias=False)\n",
            "        (bn3): BatchNorm2d(1024, eps=1e-05, momentum=0.1, affine=True, track_running_stats=True)\n",
            "        (act3): ReLU(inplace=True)\n",
            "        (downsample): Sequential(\n",
            "          (0): Conv2d(512, 1024, kernel_size=(1, 1), stride=(2, 2), bias=False)\n",
            "          (1): BatchNorm2d(1024, eps=1e-05, momentum=0.1, affine=True, track_running_stats=True)\n",
            "        )\n",
            "      )\n",
            "      (1): Bottleneck(\n",
            "        (conv1): Conv2d(1024, 256, kernel_size=(1, 1), stride=(1, 1), bias=False)\n",
            "        (bn1): BatchNorm2d(256, eps=1e-05, momentum=0.1, affine=True, track_running_stats=True)\n",
            "        (act1): ReLU(inplace=True)\n",
            "        (conv2): Conv2d(256, 256, kernel_size=(3, 3), stride=(1, 1), padding=(1, 1), bias=False)\n",
            "        (bn2): BatchNorm2d(256, eps=1e-05, momentum=0.1, affine=True, track_running_stats=True)\n",
            "        (drop_block): Identity()\n",
            "        (act2): ReLU(inplace=True)\n",
            "        (aa): Identity()\n",
            "        (conv3): Conv2d(256, 1024, kernel_size=(1, 1), stride=(1, 1), bias=False)\n",
            "        (bn3): BatchNorm2d(1024, eps=1e-05, momentum=0.1, affine=True, track_running_stats=True)\n",
            "        (act3): ReLU(inplace=True)\n",
            "      )\n",
            "      (2): Bottleneck(\n",
            "        (conv1): Conv2d(1024, 256, kernel_size=(1, 1), stride=(1, 1), bias=False)\n",
            "        (bn1): BatchNorm2d(256, eps=1e-05, momentum=0.1, affine=True, track_running_stats=True)\n",
            "        (act1): ReLU(inplace=True)\n",
            "        (conv2): Conv2d(256, 256, kernel_size=(3, 3), stride=(1, 1), padding=(1, 1), bias=False)\n",
            "        (bn2): BatchNorm2d(256, eps=1e-05, momentum=0.1, affine=True, track_running_stats=True)\n",
            "        (drop_block): Identity()\n",
            "        (act2): ReLU(inplace=True)\n",
            "        (aa): Identity()\n",
            "        (conv3): Conv2d(256, 1024, kernel_size=(1, 1), stride=(1, 1), bias=False)\n",
            "        (bn3): BatchNorm2d(1024, eps=1e-05, momentum=0.1, affine=True, track_running_stats=True)\n",
            "        (act3): ReLU(inplace=True)\n",
            "      )\n",
            "      (3): Bottleneck(\n",
            "        (conv1): Conv2d(1024, 256, kernel_size=(1, 1), stride=(1, 1), bias=False)\n",
            "        (bn1): BatchNorm2d(256, eps=1e-05, momentum=0.1, affine=True, track_running_stats=True)\n",
            "        (act1): ReLU(inplace=True)\n",
            "        (conv2): Conv2d(256, 256, kernel_size=(3, 3), stride=(1, 1), padding=(1, 1), bias=False)\n",
            "        (bn2): BatchNorm2d(256, eps=1e-05, momentum=0.1, affine=True, track_running_stats=True)\n",
            "        (drop_block): Identity()\n",
            "        (act2): ReLU(inplace=True)\n",
            "        (aa): Identity()\n",
            "        (conv3): Conv2d(256, 1024, kernel_size=(1, 1), stride=(1, 1), bias=False)\n",
            "        (bn3): BatchNorm2d(1024, eps=1e-05, momentum=0.1, affine=True, track_running_stats=True)\n",
            "        (act3): ReLU(inplace=True)\n",
            "      )\n",
            "      (4): Bottleneck(\n",
            "        (conv1): Conv2d(1024, 256, kernel_size=(1, 1), stride=(1, 1), bias=False)\n",
            "        (bn1): BatchNorm2d(256, eps=1e-05, momentum=0.1, affine=True, track_running_stats=True)\n",
            "        (act1): ReLU(inplace=True)\n",
            "        (conv2): Conv2d(256, 256, kernel_size=(3, 3), stride=(1, 1), padding=(1, 1), bias=False)\n",
            "        (bn2): BatchNorm2d(256, eps=1e-05, momentum=0.1, affine=True, track_running_stats=True)\n",
            "        (drop_block): Identity()\n",
            "        (act2): ReLU(inplace=True)\n",
            "        (aa): Identity()\n",
            "        (conv3): Conv2d(256, 1024, kernel_size=(1, 1), stride=(1, 1), bias=False)\n",
            "        (bn3): BatchNorm2d(1024, eps=1e-05, momentum=0.1, affine=True, track_running_stats=True)\n",
            "        (act3): ReLU(inplace=True)\n",
            "      )\n",
            "      (5): Bottleneck(\n",
            "        (conv1): Conv2d(1024, 256, kernel_size=(1, 1), stride=(1, 1), bias=False)\n",
            "        (bn1): BatchNorm2d(256, eps=1e-05, momentum=0.1, affine=True, track_running_stats=True)\n",
            "        (act1): ReLU(inplace=True)\n",
            "        (conv2): Conv2d(256, 256, kernel_size=(3, 3), stride=(1, 1), padding=(1, 1), bias=False)\n",
            "        (bn2): BatchNorm2d(256, eps=1e-05, momentum=0.1, affine=True, track_running_stats=True)\n",
            "        (drop_block): Identity()\n",
            "        (act2): ReLU(inplace=True)\n",
            "        (aa): Identity()\n",
            "        (conv3): Conv2d(256, 1024, kernel_size=(1, 1), stride=(1, 1), bias=False)\n",
            "        (bn3): BatchNorm2d(1024, eps=1e-05, momentum=0.1, affine=True, track_running_stats=True)\n",
            "        (act3): ReLU(inplace=True)\n",
            "      )\n",
            "    )\n",
            "    (layer4): Sequential(\n",
            "      (0): Bottleneck(\n",
            "        (conv1): Conv2d(1024, 512, kernel_size=(1, 1), stride=(1, 1), bias=False)\n",
            "        (bn1): BatchNorm2d(512, eps=1e-05, momentum=0.1, affine=True, track_running_stats=True)\n",
            "        (act1): ReLU(inplace=True)\n",
            "        (conv2): Conv2d(512, 512, kernel_size=(3, 3), stride=(2, 2), padding=(1, 1), bias=False)\n",
            "        (bn2): BatchNorm2d(512, eps=1e-05, momentum=0.1, affine=True, track_running_stats=True)\n",
            "        (drop_block): Identity()\n",
            "        (act2): ReLU(inplace=True)\n",
            "        (aa): Identity()\n",
            "        (conv3): Conv2d(512, 2048, kernel_size=(1, 1), stride=(1, 1), bias=False)\n",
            "        (bn3): BatchNorm2d(2048, eps=1e-05, momentum=0.1, affine=True, track_running_stats=True)\n",
            "        (act3): ReLU(inplace=True)\n",
            "        (downsample): Sequential(\n",
            "          (0): Conv2d(1024, 2048, kernel_size=(1, 1), stride=(2, 2), bias=False)\n",
            "          (1): BatchNorm2d(2048, eps=1e-05, momentum=0.1, affine=True, track_running_stats=True)\n",
            "        )\n",
            "      )\n",
            "      (1): Bottleneck(\n",
            "        (conv1): Conv2d(2048, 512, kernel_size=(1, 1), stride=(1, 1), bias=False)\n",
            "        (bn1): BatchNorm2d(512, eps=1e-05, momentum=0.1, affine=True, track_running_stats=True)\n",
            "        (act1): ReLU(inplace=True)\n",
            "        (conv2): Conv2d(512, 512, kernel_size=(3, 3), stride=(1, 1), padding=(1, 1), bias=False)\n",
            "        (bn2): BatchNorm2d(512, eps=1e-05, momentum=0.1, affine=True, track_running_stats=True)\n",
            "        (drop_block): Identity()\n",
            "        (act2): ReLU(inplace=True)\n",
            "        (aa): Identity()\n",
            "        (conv3): Conv2d(512, 2048, kernel_size=(1, 1), stride=(1, 1), bias=False)\n",
            "        (bn3): BatchNorm2d(2048, eps=1e-05, momentum=0.1, affine=True, track_running_stats=True)\n",
            "        (act3): ReLU(inplace=True)\n",
            "      )\n",
            "      (2): Bottleneck(\n",
            "        (conv1): Conv2d(2048, 512, kernel_size=(1, 1), stride=(1, 1), bias=False)\n",
            "        (bn1): BatchNorm2d(512, eps=1e-05, momentum=0.1, affine=True, track_running_stats=True)\n",
            "        (act1): ReLU(inplace=True)\n",
            "        (conv2): Conv2d(512, 512, kernel_size=(3, 3), stride=(1, 1), padding=(1, 1), bias=False)\n",
            "        (bn2): BatchNorm2d(512, eps=1e-05, momentum=0.1, affine=True, track_running_stats=True)\n",
            "        (drop_block): Identity()\n",
            "        (act2): ReLU(inplace=True)\n",
            "        (aa): Identity()\n",
            "        (conv3): Conv2d(512, 2048, kernel_size=(1, 1), stride=(1, 1), bias=False)\n",
            "        (bn3): BatchNorm2d(2048, eps=1e-05, momentum=0.1, affine=True, track_running_stats=True)\n",
            "        (act3): ReLU(inplace=True)\n",
            "      )\n",
            "    )\n",
            "    (global_pool): SelectAdaptivePool2d(pool_type=avg, flatten=Flatten(start_dim=1, end_dim=-1))\n",
            "    (fc): Identity()\n",
            "  )\n",
            "  (upsample1): ConvTranspose2d(32, 16, kernel_size=(4, 4), stride=(2, 2), padding=(1, 1))\n",
            "  (upsample2): ConvTranspose2d(16, 8, kernel_size=(4, 4), stride=(2, 2), padding=(1, 1))\n",
            "  (upsample3): ConvTranspose2d(8, 3, kernel_size=(4, 4), stride=(4, 4))\n",
            "  (levit): LevitDistilled(\n",
            "    (stem): Stem16(\n",
            "      (conv1): ConvNorm(\n",
            "        (linear): Conv2d(3, 32, kernel_size=(3, 3), stride=(2, 2), padding=(1, 1), bias=False)\n",
            "        (bn): BatchNorm2d(32, eps=1e-05, momentum=0.1, affine=True, track_running_stats=True)\n",
            "      )\n",
            "      (act1): Hardswish()\n",
            "      (conv2): ConvNorm(\n",
            "        (linear): Conv2d(32, 64, kernel_size=(3, 3), stride=(2, 2), padding=(1, 1), bias=False)\n",
            "        (bn): BatchNorm2d(64, eps=1e-05, momentum=0.1, affine=True, track_running_stats=True)\n",
            "      )\n",
            "      (act2): Hardswish()\n",
            "      (conv3): ConvNorm(\n",
            "        (linear): Conv2d(64, 128, kernel_size=(3, 3), stride=(2, 2), padding=(1, 1), bias=False)\n",
            "        (bn): BatchNorm2d(128, eps=1e-05, momentum=0.1, affine=True, track_running_stats=True)\n",
            "      )\n",
            "      (act3): Hardswish()\n",
            "      (conv4): ConvNorm(\n",
            "        (linear): Conv2d(128, 256, kernel_size=(3, 3), stride=(2, 2), padding=(1, 1), bias=False)\n",
            "        (bn): BatchNorm2d(256, eps=1e-05, momentum=0.1, affine=True, track_running_stats=True)\n",
            "      )\n",
            "    )\n",
            "    (stage1): LevitStage(\n",
            "      (downsample): Identity()\n",
            "      (blocks): Sequential(\n",
            "        (0): LevitBlock(\n",
            "          (attn): Attention(\n",
            "            (qkv): LinearNorm(\n",
            "              (linear): Linear(in_features=256, out_features=768, bias=False)\n",
            "              (bn): BatchNorm1d(768, eps=1e-05, momentum=0.1, affine=True, track_running_stats=True)\n",
            "            )\n",
            "            (proj): Sequential(\n",
            "              (0): Hardswish()\n",
            "              (1): LinearNorm(\n",
            "                (linear): Linear(in_features=256, out_features=256, bias=False)\n",
            "                (bn): BatchNorm1d(256, eps=1e-05, momentum=0.1, affine=True, track_running_stats=True)\n",
            "              )\n",
            "            )\n",
            "          )\n",
            "          (drop_path1): Identity()\n",
            "          (mlp): LevitMlp(\n",
            "            (ln1): LinearNorm(\n",
            "              (linear): Linear(in_features=256, out_features=512, bias=False)\n",
            "              (bn): BatchNorm1d(512, eps=1e-05, momentum=0.1, affine=True, track_running_stats=True)\n",
            "            )\n",
            "            (act): Hardswish()\n",
            "            (drop): Dropout(p=0.5, inplace=False)\n",
            "            (ln2): LinearNorm(\n",
            "              (linear): Linear(in_features=512, out_features=256, bias=False)\n",
            "              (bn): BatchNorm1d(256, eps=1e-05, momentum=0.1, affine=True, track_running_stats=True)\n",
            "            )\n",
            "          )\n",
            "          (drop_path2): Identity()\n",
            "        )\n",
            "        (1): LevitBlock(\n",
            "          (attn): Attention(\n",
            "            (qkv): LinearNorm(\n",
            "              (linear): Linear(in_features=256, out_features=768, bias=False)\n",
            "              (bn): BatchNorm1d(768, eps=1e-05, momentum=0.1, affine=True, track_running_stats=True)\n",
            "            )\n",
            "            (proj): Sequential(\n",
            "              (0): Hardswish()\n",
            "              (1): LinearNorm(\n",
            "                (linear): Linear(in_features=256, out_features=256, bias=False)\n",
            "                (bn): BatchNorm1d(256, eps=1e-05, momentum=0.1, affine=True, track_running_stats=True)\n",
            "              )\n",
            "            )\n",
            "          )\n",
            "          (drop_path1): Identity()\n",
            "          (mlp): LevitMlp(\n",
            "            (ln1): LinearNorm(\n",
            "              (linear): Linear(in_features=256, out_features=512, bias=False)\n",
            "              (bn): BatchNorm1d(512, eps=1e-05, momentum=0.1, affine=True, track_running_stats=True)\n",
            "            )\n",
            "            (act): Hardswish()\n",
            "            (drop): Dropout(p=0.5, inplace=False)\n",
            "            (ln2): LinearNorm(\n",
            "              (linear): Linear(in_features=512, out_features=256, bias=False)\n",
            "              (bn): BatchNorm1d(256, eps=1e-05, momentum=0.1, affine=True, track_running_stats=True)\n",
            "            )\n",
            "          )\n",
            "          (drop_path2): Identity()\n",
            "        )\n",
            "      )\n",
            "    )\n",
            "    (stage2): LevitStage(\n",
            "      (downsample): CNNDownsample(\n",
            "        (conv): Conv2d(256, 384, kernel_size=(3, 3), stride=(2, 2), padding=(1, 1))\n",
            "        (act): Hardswish()\n",
            "      )\n",
            "      (blocks): Sequential(\n",
            "        (0): LevitBlock(\n",
            "          (attn): Attention(\n",
            "            (qkv): LinearNorm(\n",
            "              (linear): Linear(in_features=384, out_features=1152, bias=False)\n",
            "              (bn): BatchNorm1d(1152, eps=1e-05, momentum=0.1, affine=True, track_running_stats=True)\n",
            "            )\n",
            "            (proj): Sequential(\n",
            "              (0): Hardswish()\n",
            "              (1): LinearNorm(\n",
            "                (linear): Linear(in_features=384, out_features=384, bias=False)\n",
            "                (bn): BatchNorm1d(384, eps=1e-05, momentum=0.1, affine=True, track_running_stats=True)\n",
            "              )\n",
            "            )\n",
            "          )\n",
            "          (drop_path1): Identity()\n",
            "          (mlp): LevitMlp(\n",
            "            (ln1): LinearNorm(\n",
            "              (linear): Linear(in_features=384, out_features=768, bias=False)\n",
            "              (bn): BatchNorm1d(768, eps=1e-05, momentum=0.1, affine=True, track_running_stats=True)\n",
            "            )\n",
            "            (act): Hardswish()\n",
            "            (drop): Dropout(p=0.5, inplace=False)\n",
            "            (ln2): LinearNorm(\n",
            "              (linear): Linear(in_features=768, out_features=384, bias=False)\n",
            "              (bn): BatchNorm1d(384, eps=1e-05, momentum=0.1, affine=True, track_running_stats=True)\n",
            "            )\n",
            "          )\n",
            "          (drop_path2): Identity()\n",
            "        )\n",
            "        (1): LevitBlock(\n",
            "          (attn): Attention(\n",
            "            (qkv): LinearNorm(\n",
            "              (linear): Linear(in_features=384, out_features=1152, bias=False)\n",
            "              (bn): BatchNorm1d(1152, eps=1e-05, momentum=0.1, affine=True, track_running_stats=True)\n",
            "            )\n",
            "            (proj): Sequential(\n",
            "              (0): Hardswish()\n",
            "              (1): LinearNorm(\n",
            "                (linear): Linear(in_features=384, out_features=384, bias=False)\n",
            "                (bn): BatchNorm1d(384, eps=1e-05, momentum=0.1, affine=True, track_running_stats=True)\n",
            "              )\n",
            "            )\n",
            "          )\n",
            "          (drop_path1): Identity()\n",
            "          (mlp): LevitMlp(\n",
            "            (ln1): LinearNorm(\n",
            "              (linear): Linear(in_features=384, out_features=768, bias=False)\n",
            "              (bn): BatchNorm1d(768, eps=1e-05, momentum=0.1, affine=True, track_running_stats=True)\n",
            "            )\n",
            "            (act): Hardswish()\n",
            "            (drop): Dropout(p=0.5, inplace=False)\n",
            "            (ln2): LinearNorm(\n",
            "              (linear): Linear(in_features=768, out_features=384, bias=False)\n",
            "              (bn): BatchNorm1d(384, eps=1e-05, momentum=0.1, affine=True, track_running_stats=True)\n",
            "            )\n",
            "          )\n",
            "          (drop_path2): Identity()\n",
            "        )\n",
            "      )\n",
            "    )\n",
            "    (conv1x1): Sequential(\n",
            "      (0): Conv2d(384, 512, kernel_size=(1, 1), stride=(1, 1))\n",
            "      (1): BatchNorm2d(512, eps=1e-05, momentum=0.1, affine=True, track_running_stats=True)\n",
            "      (2): ReLU(inplace=True)\n",
            "    )\n",
            "    (head): NormLinear(\n",
            "      (bn): BatchNorm1d(512, eps=1e-05, momentum=0.1, affine=True, track_running_stats=True)\n",
            "      (drop): Dropout(p=0.0, inplace=False)\n",
            "      (linear): Linear(in_features=512, out_features=5, bias=True)\n",
            "    )\n",
            "    (head_dist): NormLinear(\n",
            "      (bn): BatchNorm1d(512, eps=1e-05, momentum=0.1, affine=True, track_running_stats=True)\n",
            "      (drop): Dropout(p=0.0, inplace=False)\n",
            "      (linear): Linear(in_features=512, out_features=5, bias=True)\n",
            "    )\n",
            "  )\n",
            ")\n"
          ]
        }
      ]
    },
    {
      "cell_type": "code",
      "source": [
        "print(summary(model, input_size=(32, 3, 224, 224)))"
      ],
      "metadata": {
        "colab": {
          "base_uri": "https://localhost:8080/"
        },
        "id": "gNpMsNYAzLDF",
        "outputId": "c1ed9658-049f-45ad-c579-a0b26b3e2f49"
      },
      "execution_count": 20,
      "outputs": [
        {
          "output_type": "stream",
          "name": "stdout",
          "text": [
            "==============================================================================================================\n",
            "Layer (type:depth-idx)                                       Output Shape              Param #\n",
            "==============================================================================================================\n",
            "LauncherModel                                                [32, 5]                   --\n",
            "├─ResNet: 1-1                                                [32, 2048]                --\n",
            "│    └─Conv2d: 2-1                                           [32, 64, 112, 112]        (9,408)\n",
            "│    └─BatchNorm2d: 2-2                                      [32, 64, 112, 112]        (128)\n",
            "│    └─ReLU: 2-3                                             [32, 64, 112, 112]        --\n",
            "│    └─MaxPool2d: 2-4                                        [32, 64, 56, 56]          --\n",
            "│    └─Sequential: 2-5                                       [32, 256, 56, 56]         --\n",
            "│    │    └─Bottleneck: 3-1                                  [32, 256, 56, 56]         (75,008)\n",
            "│    │    └─Bottleneck: 3-2                                  [32, 256, 56, 56]         (70,400)\n",
            "│    │    └─Bottleneck: 3-3                                  [32, 256, 56, 56]         (70,400)\n",
            "│    └─Sequential: 2-6                                       [32, 512, 28, 28]         --\n",
            "│    │    └─Bottleneck: 3-4                                  [32, 512, 28, 28]         (379,392)\n",
            "│    │    └─Bottleneck: 3-5                                  [32, 512, 28, 28]         (280,064)\n",
            "│    │    └─Bottleneck: 3-6                                  [32, 512, 28, 28]         (280,064)\n",
            "│    │    └─Bottleneck: 3-7                                  [32, 512, 28, 28]         (280,064)\n",
            "│    └─Sequential: 2-7                                       [32, 1024, 14, 14]        --\n",
            "│    │    └─Bottleneck: 3-8                                  [32, 1024, 14, 14]        (1,512,448)\n",
            "│    │    └─Bottleneck: 3-9                                  [32, 1024, 14, 14]        (1,117,184)\n",
            "│    │    └─Bottleneck: 3-10                                 [32, 1024, 14, 14]        (1,117,184)\n",
            "│    │    └─Bottleneck: 3-11                                 [32, 1024, 14, 14]        (1,117,184)\n",
            "│    │    └─Bottleneck: 3-12                                 [32, 1024, 14, 14]        (1,117,184)\n",
            "│    │    └─Bottleneck: 3-13                                 [32, 1024, 14, 14]        (1,117,184)\n",
            "│    └─Sequential: 2-8                                       [32, 2048, 7, 7]          --\n",
            "│    │    └─Bottleneck: 3-14                                 [32, 2048, 7, 7]          (6,039,552)\n",
            "│    │    └─Bottleneck: 3-15                                 [32, 2048, 7, 7]          (4,462,592)\n",
            "│    │    └─Bottleneck: 3-16                                 [32, 2048, 7, 7]          (4,462,592)\n",
            "│    └─SelectAdaptivePool2d: 2-9                             [32, 2048]                --\n",
            "│    │    └─AdaptiveAvgPool2d: 3-17                          [32, 2048, 1, 1]          --\n",
            "│    │    └─Flatten: 3-18                                    [32, 2048]                --\n",
            "│    └─Identity: 2-10                                        [32, 2048]                --\n",
            "├─ConvTranspose2d: 1-2                                       [32, 16, 16, 16]          8,208\n",
            "├─ConvTranspose2d: 1-3                                       [32, 8, 32, 32]           2,056\n",
            "├─ConvTranspose2d: 1-4                                       [32, 3, 128, 128]         387\n",
            "├─LevitDistilled: 1-5                                        [32, 5]                   --\n",
            "│    └─Stem16: 2-11                                          [32, 256, 8, 8]           --\n",
            "│    │    └─ConvNorm: 3-19                                   [32, 32, 64, 64]          928\n",
            "│    │    └─Hardswish: 3-20                                  [32, 32, 64, 64]          --\n",
            "│    │    └─ConvNorm: 3-21                                   [32, 64, 32, 32]          18,560\n",
            "│    │    └─Hardswish: 3-22                                  [32, 64, 32, 32]          --\n",
            "│    │    └─ConvNorm: 3-23                                   [32, 128, 16, 16]         73,984\n",
            "│    │    └─Hardswish: 3-24                                  [32, 128, 16, 16]         --\n",
            "│    │    └─ConvNorm: 3-25                                   [32, 256, 8, 8]           295,424\n",
            "│    └─LevitStage: 2-12                                      [32, 64, 256]             --\n",
            "│    │    └─Identity: 3-26                                   [32, 64, 256]             --\n",
            "│    │    └─Sequential: 3-27                                 [32, 64, 256]             1,055,744\n",
            "│    └─LevitStage: 2-13                                      [32, 16, 384]             --\n",
            "│    │    └─CNNDownsample: 3-28                              [32, 16, 384]             885,120\n",
            "│    │    └─Sequential: 3-29                                 [32, 16, 384]             2,370,048\n",
            "│    └─Sequential: 2-14                                      [32, 512, 4, 4]           --\n",
            "│    │    └─Conv2d: 3-30                                     [32, 512, 4, 4]           197,120\n",
            "│    │    └─BatchNorm2d: 3-31                                [32, 512, 4, 4]           1,024\n",
            "│    │    └─ReLU: 3-32                                       [32, 512, 4, 4]           --\n",
            "│    └─NormLinear: 2-15                                      [32, 5]                   --\n",
            "│    │    └─BatchNorm1d: 3-33                                [32, 512]                 1,024\n",
            "│    │    └─Dropout: 3-34                                    [32, 512]                 --\n",
            "│    │    └─Linear: 3-35                                     [32, 5]                   2,565\n",
            "│    └─NormLinear: 2-16                                      [32, 5]                   --\n",
            "│    │    └─BatchNorm1d: 3-36                                [32, 512]                 1,024\n",
            "│    │    └─Dropout: 3-37                                    [32, 512]                 --\n",
            "│    │    └─Linear: 3-38                                     [32, 5]                   2,565\n",
            "==============================================================================================================\n",
            "Total params: 28,423,813\n",
            "Trainable params: 4,915,781\n",
            "Non-trainable params: 23,508,032\n",
            "Total mult-adds (Units.GIGABYTES): 136.98\n",
            "==============================================================================================================\n",
            "Input size (MB): 19.27\n",
            "Forward/backward pass size (MB): 5999.43\n",
            "Params size (MB): 113.70\n",
            "Estimated Total Size (MB): 6132.39\n",
            "==============================================================================================================\n"
          ]
        }
      ]
    },
    {
      "cell_type": "code",
      "source": [
        "print(summary(model, input_size=(32, 3, 224, 224), verbose=2))"
      ],
      "metadata": {
        "colab": {
          "base_uri": "https://localhost:8080/"
        },
        "collapsed": true,
        "id": "qDELjYy2zP90",
        "outputId": "93c73cea-1e7b-492f-b245-e6e74cb18d34"
      },
      "execution_count": 21,
      "outputs": [
        {
          "output_type": "stream",
          "name": "stdout",
          "text": [
            "==============================================================================================================\n",
            "Layer (type:depth-idx)                                       Output Shape              Param #\n",
            "==============================================================================================================\n",
            "LauncherModel                                                [32, 5]                   --\n",
            "├─ResNet: 1-1                                                [32, 2048]                --\n",
            "│    └─conv1.weight                                                                    ├─9,408\n",
            "│    └─bn1.weight                                                                      ├─64\n",
            "│    └─bn1.bias                                                                        ├─64\n",
            "│    └─layer1.0.conv1.weight                                                           ├─4,096\n",
            "│    └─layer1.0.bn1.weight                                                             ├─64\n",
            "│    └─layer1.0.bn1.bias                                                               ├─64\n",
            "│    └─layer1.0.conv2.weight                                                           ├─36,864\n",
            "│    └─layer1.0.bn2.weight                                                             ├─64\n",
            "│    └─layer1.0.bn2.bias                                                               ├─64\n",
            "│    └─layer1.0.conv3.weight                                                           ├─16,384\n",
            "│    └─layer1.0.bn3.weight                                                             ├─256\n",
            "│    └─layer1.0.bn3.bias                                                               ├─256\n",
            "│    └─layer1.0.downsample.0.weight                                                    ├─16,384\n",
            "│    └─layer1.0.downsample.1.weight                                                    ├─256\n",
            "│    └─layer1.0.downsample.1.bias                                                      ├─256\n",
            "│    └─layer1.1.conv1.weight                                                           ├─16,384\n",
            "│    └─layer1.1.bn1.weight                                                             ├─64\n",
            "│    └─layer1.1.bn1.bias                                                               ├─64\n",
            "│    └─layer1.1.conv2.weight                                                           ├─36,864\n",
            "│    └─layer1.1.bn2.weight                                                             ├─64\n",
            "│    └─layer1.1.bn2.bias                                                               ├─64\n",
            "│    └─layer1.1.conv3.weight                                                           ├─16,384\n",
            "│    └─layer1.1.bn3.weight                                                             ├─256\n",
            "│    └─layer1.1.bn3.bias                                                               ├─256\n",
            "│    └─layer1.2.conv1.weight                                                           ├─16,384\n",
            "│    └─layer1.2.bn1.weight                                                             ├─64\n",
            "│    └─layer1.2.bn1.bias                                                               ├─64\n",
            "│    └─layer1.2.conv2.weight                                                           ├─36,864\n",
            "│    └─layer1.2.bn2.weight                                                             ├─64\n",
            "│    └─layer1.2.bn2.bias                                                               ├─64\n",
            "│    └─layer1.2.conv3.weight                                                           ├─16,384\n",
            "│    └─layer1.2.bn3.weight                                                             ├─256\n",
            "│    └─layer1.2.bn3.bias                                                               ├─256\n",
            "│    └─layer2.0.conv1.weight                                                           ├─32,768\n",
            "│    └─layer2.0.bn1.weight                                                             ├─128\n",
            "│    └─layer2.0.bn1.bias                                                               ├─128\n",
            "│    └─layer2.0.conv2.weight                                                           ├─147,456\n",
            "│    └─layer2.0.bn2.weight                                                             ├─128\n",
            "│    └─layer2.0.bn2.bias                                                               ├─128\n",
            "│    └─layer2.0.conv3.weight                                                           ├─65,536\n",
            "│    └─layer2.0.bn3.weight                                                             ├─512\n",
            "│    └─layer2.0.bn3.bias                                                               ├─512\n",
            "│    └─layer2.0.downsample.0.weight                                                    ├─131,072\n",
            "│    └─layer2.0.downsample.1.weight                                                    ├─512\n",
            "│    └─layer2.0.downsample.1.bias                                                      ├─512\n",
            "│    └─layer2.1.conv1.weight                                                           ├─65,536\n",
            "│    └─layer2.1.bn1.weight                                                             ├─128\n",
            "│    └─layer2.1.bn1.bias                                                               ├─128\n",
            "│    └─layer2.1.conv2.weight                                                           ├─147,456\n",
            "│    └─layer2.1.bn2.weight                                                             ├─128\n",
            "│    └─layer2.1.bn2.bias                                                               ├─128\n",
            "│    └─layer2.1.conv3.weight                                                           ├─65,536\n",
            "│    └─layer2.1.bn3.weight                                                             ├─512\n",
            "│    └─layer2.1.bn3.bias                                                               ├─512\n",
            "│    └─layer2.2.conv1.weight                                                           ├─65,536\n",
            "│    └─layer2.2.bn1.weight                                                             ├─128\n",
            "│    └─layer2.2.bn1.bias                                                               ├─128\n",
            "│    └─layer2.2.conv2.weight                                                           ├─147,456\n",
            "│    └─layer2.2.bn2.weight                                                             ├─128\n",
            "│    └─layer2.2.bn2.bias                                                               ├─128\n",
            "│    └─layer2.2.conv3.weight                                                           ├─65,536\n",
            "│    └─layer2.2.bn3.weight                                                             ├─512\n",
            "│    └─layer2.2.bn3.bias                                                               ├─512\n",
            "│    └─layer2.3.conv1.weight                                                           ├─65,536\n",
            "│    └─layer2.3.bn1.weight                                                             ├─128\n",
            "│    └─layer2.3.bn1.bias                                                               ├─128\n",
            "│    └─layer2.3.conv2.weight                                                           ├─147,456\n",
            "│    └─layer2.3.bn2.weight                                                             ├─128\n",
            "│    └─layer2.3.bn2.bias                                                               ├─128\n",
            "│    └─layer2.3.conv3.weight                                                           ├─65,536\n",
            "│    └─layer2.3.bn3.weight                                                             ├─512\n",
            "│    └─layer2.3.bn3.bias                                                               ├─512\n",
            "│    └─layer3.0.conv1.weight                                                           ├─131,072\n",
            "│    └─layer3.0.bn1.weight                                                             ├─256\n",
            "│    └─layer3.0.bn1.bias                                                               ├─256\n",
            "│    └─layer3.0.conv2.weight                                                           ├─589,824\n",
            "│    └─layer3.0.bn2.weight                                                             ├─256\n",
            "│    └─layer3.0.bn2.bias                                                               ├─256\n",
            "│    └─layer3.0.conv3.weight                                                           ├─262,144\n",
            "│    └─layer3.0.bn3.weight                                                             ├─1,024\n",
            "│    └─layer3.0.bn3.bias                                                               ├─1,024\n",
            "│    └─layer3.0.downsample.0.weight                                                    ├─524,288\n",
            "│    └─layer3.0.downsample.1.weight                                                    ├─1,024\n",
            "│    └─layer3.0.downsample.1.bias                                                      ├─1,024\n",
            "│    └─layer3.1.conv1.weight                                                           ├─262,144\n",
            "│    └─layer3.1.bn1.weight                                                             ├─256\n",
            "│    └─layer3.1.bn1.bias                                                               ├─256\n",
            "│    └─layer3.1.conv2.weight                                                           ├─589,824\n",
            "│    └─layer3.1.bn2.weight                                                             ├─256\n",
            "│    └─layer3.1.bn2.bias                                                               ├─256\n",
            "│    └─layer3.1.conv3.weight                                                           ├─262,144\n",
            "│    └─layer3.1.bn3.weight                                                             ├─1,024\n",
            "│    └─layer3.1.bn3.bias                                                               ├─1,024\n",
            "│    └─layer3.2.conv1.weight                                                           ├─262,144\n",
            "│    └─layer3.2.bn1.weight                                                             ├─256\n",
            "│    └─layer3.2.bn1.bias                                                               ├─256\n",
            "│    └─layer3.2.conv2.weight                                                           ├─589,824\n",
            "│    └─layer3.2.bn2.weight                                                             ├─256\n",
            "│    └─layer3.2.bn2.bias                                                               ├─256\n",
            "│    └─layer3.2.conv3.weight                                                           ├─262,144\n",
            "│    └─layer3.2.bn3.weight                                                             ├─1,024\n",
            "│    └─layer3.2.bn3.bias                                                               ├─1,024\n",
            "│    └─layer3.3.conv1.weight                                                           ├─262,144\n",
            "│    └─layer3.3.bn1.weight                                                             ├─256\n",
            "│    └─layer3.3.bn1.bias                                                               ├─256\n",
            "│    └─layer3.3.conv2.weight                                                           ├─589,824\n",
            "│    └─layer3.3.bn2.weight                                                             ├─256\n",
            "│    └─layer3.3.bn2.bias                                                               ├─256\n",
            "│    └─layer3.3.conv3.weight                                                           ├─262,144\n",
            "│    └─layer3.3.bn3.weight                                                             ├─1,024\n",
            "│    └─layer3.3.bn3.bias                                                               ├─1,024\n",
            "│    └─layer3.4.conv1.weight                                                           ├─262,144\n",
            "│    └─layer3.4.bn1.weight                                                             ├─256\n",
            "│    └─layer3.4.bn1.bias                                                               ├─256\n",
            "│    └─layer3.4.conv2.weight                                                           ├─589,824\n",
            "│    └─layer3.4.bn2.weight                                                             ├─256\n",
            "│    └─layer3.4.bn2.bias                                                               ├─256\n",
            "│    └─layer3.4.conv3.weight                                                           ├─262,144\n",
            "│    └─layer3.4.bn3.weight                                                             ├─1,024\n",
            "│    └─layer3.4.bn3.bias                                                               ├─1,024\n",
            "│    └─layer3.5.conv1.weight                                                           ├─262,144\n",
            "│    └─layer3.5.bn1.weight                                                             ├─256\n",
            "│    └─layer3.5.bn1.bias                                                               ├─256\n",
            "│    └─layer3.5.conv2.weight                                                           ├─589,824\n",
            "│    └─layer3.5.bn2.weight                                                             ├─256\n",
            "│    └─layer3.5.bn2.bias                                                               ├─256\n",
            "│    └─layer3.5.conv3.weight                                                           ├─262,144\n",
            "│    └─layer3.5.bn3.weight                                                             ├─1,024\n",
            "│    └─layer3.5.bn3.bias                                                               ├─1,024\n",
            "│    └─layer4.0.conv1.weight                                                           ├─524,288\n",
            "│    └─layer4.0.bn1.weight                                                             ├─512\n",
            "│    └─layer4.0.bn1.bias                                                               ├─512\n",
            "│    └─layer4.0.conv2.weight                                                           ├─2,359,296\n",
            "│    └─layer4.0.bn2.weight                                                             ├─512\n",
            "│    └─layer4.0.bn2.bias                                                               ├─512\n",
            "│    └─layer4.0.conv3.weight                                                           ├─1,048,576\n",
            "│    └─layer4.0.bn3.weight                                                             ├─2,048\n",
            "│    └─layer4.0.bn3.bias                                                               ├─2,048\n",
            "│    └─layer4.0.downsample.0.weight                                                    ├─2,097,152\n",
            "│    └─layer4.0.downsample.1.weight                                                    ├─2,048\n",
            "│    └─layer4.0.downsample.1.bias                                                      ├─2,048\n",
            "│    └─layer4.1.conv1.weight                                                           ├─1,048,576\n",
            "│    └─layer4.1.bn1.weight                                                             ├─512\n",
            "│    └─layer4.1.bn1.bias                                                               ├─512\n",
            "│    └─layer4.1.conv2.weight                                                           ├─2,359,296\n",
            "│    └─layer4.1.bn2.weight                                                             ├─512\n",
            "│    └─layer4.1.bn2.bias                                                               ├─512\n",
            "│    └─layer4.1.conv3.weight                                                           ├─1,048,576\n",
            "│    └─layer4.1.bn3.weight                                                             ├─2,048\n",
            "│    └─layer4.1.bn3.bias                                                               ├─2,048\n",
            "│    └─layer4.2.conv1.weight                                                           ├─1,048,576\n",
            "│    └─layer4.2.bn1.weight                                                             ├─512\n",
            "│    └─layer4.2.bn1.bias                                                               ├─512\n",
            "│    └─layer4.2.conv2.weight                                                           ├─2,359,296\n",
            "│    └─layer4.2.bn2.weight                                                             ├─512\n",
            "│    └─layer4.2.bn2.bias                                                               ├─512\n",
            "│    └─layer4.2.conv3.weight                                                           ├─1,048,576\n",
            "│    └─layer4.2.bn3.weight                                                             ├─2,048\n",
            "│    └─layer4.2.bn3.bias                                                               └─2,048\n",
            "│    └─Conv2d: 2-1                                           [32, 64, 112, 112]        (9,408)\n",
            "│    │    └─weight                                                                     └─9,408\n",
            "│    └─BatchNorm2d: 2-2                                      [32, 64, 112, 112]        (128)\n",
            "│    │    └─weight                                                                     ├─64\n",
            "│    │    └─bias                                                                       └─64\n",
            "│    └─ReLU: 2-3                                             [32, 64, 112, 112]        --\n",
            "│    └─MaxPool2d: 2-4                                        [32, 64, 56, 56]          --\n",
            "│    └─Sequential: 2-5                                       [32, 256, 56, 56]         --\n",
            "│    │    └─0.conv1.weight                                                             ├─4,096\n",
            "│    │    └─0.bn1.weight                                                               ├─64\n",
            "│    │    └─0.bn1.bias                                                                 ├─64\n",
            "│    │    └─0.conv2.weight                                                             ├─36,864\n",
            "│    │    └─0.bn2.weight                                                               ├─64\n",
            "│    │    └─0.bn2.bias                                                                 ├─64\n",
            "│    │    └─0.conv3.weight                                                             ├─16,384\n",
            "│    │    └─0.bn3.weight                                                               ├─256\n",
            "│    │    └─0.bn3.bias                                                                 ├─256\n",
            "│    │    └─0.downsample.0.weight                                                      ├─16,384\n",
            "│    │    └─0.downsample.1.weight                                                      ├─256\n",
            "│    │    └─0.downsample.1.bias                                                        ├─256\n",
            "│    │    └─1.conv1.weight                                                             ├─16,384\n",
            "│    │    └─1.bn1.weight                                                               ├─64\n",
            "│    │    └─1.bn1.bias                                                                 ├─64\n",
            "│    │    └─1.conv2.weight                                                             ├─36,864\n",
            "│    │    └─1.bn2.weight                                                               ├─64\n",
            "│    │    └─1.bn2.bias                                                                 ├─64\n",
            "│    │    └─1.conv3.weight                                                             ├─16,384\n",
            "│    │    └─1.bn3.weight                                                               ├─256\n",
            "│    │    └─1.bn3.bias                                                                 ├─256\n",
            "│    │    └─2.conv1.weight                                                             ├─16,384\n",
            "│    │    └─2.bn1.weight                                                               ├─64\n",
            "│    │    └─2.bn1.bias                                                                 ├─64\n",
            "│    │    └─2.conv2.weight                                                             ├─36,864\n",
            "│    │    └─2.bn2.weight                                                               ├─64\n",
            "│    │    └─2.bn2.bias                                                                 ├─64\n",
            "│    │    └─2.conv3.weight                                                             ├─16,384\n",
            "│    │    └─2.bn3.weight                                                               ├─256\n",
            "│    │    └─2.bn3.bias                                                                 └─256\n",
            "│    │    └─Bottleneck: 3-1                                  [32, 256, 56, 56]         (75,008)\n",
            "│    │    │    └─conv1.weight                                                          ├─4,096\n",
            "│    │    │    └─bn1.weight                                                            ├─64\n",
            "│    │    │    └─bn1.bias                                                              ├─64\n",
            "│    │    │    └─conv2.weight                                                          ├─36,864\n",
            "│    │    │    └─bn2.weight                                                            ├─64\n",
            "│    │    │    └─bn2.bias                                                              ├─64\n",
            "│    │    │    └─conv3.weight                                                          ├─16,384\n",
            "│    │    │    └─bn3.weight                                                            ├─256\n",
            "│    │    │    └─bn3.bias                                                              ├─256\n",
            "│    │    │    └─downsample.0.weight                                                   ├─16,384\n",
            "│    │    │    └─downsample.1.weight                                                   ├─256\n",
            "│    │    │    └─downsample.1.bias                                                     └─256\n",
            "│    │    └─Bottleneck: 3-2                                  [32, 256, 56, 56]         (70,400)\n",
            "│    │    │    └─conv1.weight                                                          ├─16,384\n",
            "│    │    │    └─bn1.weight                                                            ├─64\n",
            "│    │    │    └─bn1.bias                                                              ├─64\n",
            "│    │    │    └─conv2.weight                                                          ├─36,864\n",
            "│    │    │    └─bn2.weight                                                            ├─64\n",
            "│    │    │    └─bn2.bias                                                              ├─64\n",
            "│    │    │    └─conv3.weight                                                          ├─16,384\n",
            "│    │    │    └─bn3.weight                                                            ├─256\n",
            "│    │    │    └─bn3.bias                                                              └─256\n",
            "│    │    └─Bottleneck: 3-3                                  [32, 256, 56, 56]         (70,400)\n",
            "│    │    │    └─conv1.weight                                                          ├─16,384\n",
            "│    │    │    └─bn1.weight                                                            ├─64\n",
            "│    │    │    └─bn1.bias                                                              ├─64\n",
            "│    │    │    └─conv2.weight                                                          ├─36,864\n",
            "│    │    │    └─bn2.weight                                                            ├─64\n",
            "│    │    │    └─bn2.bias                                                              ├─64\n",
            "│    │    │    └─conv3.weight                                                          ├─16,384\n",
            "│    │    │    └─bn3.weight                                                            ├─256\n",
            "│    │    │    └─bn3.bias                                                              └─256\n",
            "│    └─Sequential: 2-6                                       [32, 512, 28, 28]         --\n",
            "│    │    └─0.conv1.weight                                                             ├─32,768\n",
            "│    │    └─0.bn1.weight                                                               ├─128\n",
            "│    │    └─0.bn1.bias                                                                 ├─128\n",
            "│    │    └─0.conv2.weight                                                             ├─147,456\n",
            "│    │    └─0.bn2.weight                                                               ├─128\n",
            "│    │    └─0.bn2.bias                                                                 ├─128\n",
            "│    │    └─0.conv3.weight                                                             ├─65,536\n",
            "│    │    └─0.bn3.weight                                                               ├─512\n",
            "│    │    └─0.bn3.bias                                                                 ├─512\n",
            "│    │    └─0.downsample.0.weight                                                      ├─131,072\n",
            "│    │    └─0.downsample.1.weight                                                      ├─512\n",
            "│    │    └─0.downsample.1.bias                                                        ├─512\n",
            "│    │    └─1.conv1.weight                                                             ├─65,536\n",
            "│    │    └─1.bn1.weight                                                               ├─128\n",
            "│    │    └─1.bn1.bias                                                                 ├─128\n",
            "│    │    └─1.conv2.weight                                                             ├─147,456\n",
            "│    │    └─1.bn2.weight                                                               ├─128\n",
            "│    │    └─1.bn2.bias                                                                 ├─128\n",
            "│    │    └─1.conv3.weight                                                             ├─65,536\n",
            "│    │    └─1.bn3.weight                                                               ├─512\n",
            "│    │    └─1.bn3.bias                                                                 ├─512\n",
            "│    │    └─2.conv1.weight                                                             ├─65,536\n",
            "│    │    └─2.bn1.weight                                                               ├─128\n",
            "│    │    └─2.bn1.bias                                                                 ├─128\n",
            "│    │    └─2.conv2.weight                                                             ├─147,456\n",
            "│    │    └─2.bn2.weight                                                               ├─128\n",
            "│    │    └─2.bn2.bias                                                                 ├─128\n",
            "│    │    └─2.conv3.weight                                                             ├─65,536\n",
            "│    │    └─2.bn3.weight                                                               ├─512\n",
            "│    │    └─2.bn3.bias                                                                 ├─512\n",
            "│    │    └─3.conv1.weight                                                             ├─65,536\n",
            "│    │    └─3.bn1.weight                                                               ├─128\n",
            "│    │    └─3.bn1.bias                                                                 ├─128\n",
            "│    │    └─3.conv2.weight                                                             ├─147,456\n",
            "│    │    └─3.bn2.weight                                                               ├─128\n",
            "│    │    └─3.bn2.bias                                                                 ├─128\n",
            "│    │    └─3.conv3.weight                                                             ├─65,536\n",
            "│    │    └─3.bn3.weight                                                               ├─512\n",
            "│    │    └─3.bn3.bias                                                                 └─512\n",
            "│    │    └─Bottleneck: 3-4                                  [32, 512, 28, 28]         (379,392)\n",
            "│    │    │    └─conv1.weight                                                          ├─32,768\n",
            "│    │    │    └─bn1.weight                                                            ├─128\n",
            "│    │    │    └─bn1.bias                                                              ├─128\n",
            "│    │    │    └─conv2.weight                                                          ├─147,456\n",
            "│    │    │    └─bn2.weight                                                            ├─128\n",
            "│    │    │    └─bn2.bias                                                              ├─128\n",
            "│    │    │    └─conv3.weight                                                          ├─65,536\n",
            "│    │    │    └─bn3.weight                                                            ├─512\n",
            "│    │    │    └─bn3.bias                                                              ├─512\n",
            "│    │    │    └─downsample.0.weight                                                   ├─131,072\n",
            "│    │    │    └─downsample.1.weight                                                   ├─512\n",
            "│    │    │    └─downsample.1.bias                                                     └─512\n",
            "│    │    └─Bottleneck: 3-5                                  [32, 512, 28, 28]         (280,064)\n",
            "│    │    │    └─conv1.weight                                                          ├─65,536\n",
            "│    │    │    └─bn1.weight                                                            ├─128\n",
            "│    │    │    └─bn1.bias                                                              ├─128\n",
            "│    │    │    └─conv2.weight                                                          ├─147,456\n",
            "│    │    │    └─bn2.weight                                                            ├─128\n",
            "│    │    │    └─bn2.bias                                                              ├─128\n",
            "│    │    │    └─conv3.weight                                                          ├─65,536\n",
            "│    │    │    └─bn3.weight                                                            ├─512\n",
            "│    │    │    └─bn3.bias                                                              └─512\n",
            "│    │    └─Bottleneck: 3-6                                  [32, 512, 28, 28]         (280,064)\n",
            "│    │    │    └─conv1.weight                                                          ├─65,536\n",
            "│    │    │    └─bn1.weight                                                            ├─128\n",
            "│    │    │    └─bn1.bias                                                              ├─128\n",
            "│    │    │    └─conv2.weight                                                          ├─147,456\n",
            "│    │    │    └─bn2.weight                                                            ├─128\n",
            "│    │    │    └─bn2.bias                                                              ├─128\n",
            "│    │    │    └─conv3.weight                                                          ├─65,536\n",
            "│    │    │    └─bn3.weight                                                            ├─512\n",
            "│    │    │    └─bn3.bias                                                              └─512\n",
            "│    │    └─Bottleneck: 3-7                                  [32, 512, 28, 28]         (280,064)\n",
            "│    │    │    └─conv1.weight                                                          ├─65,536\n",
            "│    │    │    └─bn1.weight                                                            ├─128\n",
            "│    │    │    └─bn1.bias                                                              ├─128\n",
            "│    │    │    └─conv2.weight                                                          ├─147,456\n",
            "│    │    │    └─bn2.weight                                                            ├─128\n",
            "│    │    │    └─bn2.bias                                                              ├─128\n",
            "│    │    │    └─conv3.weight                                                          ├─65,536\n",
            "│    │    │    └─bn3.weight                                                            ├─512\n",
            "│    │    │    └─bn3.bias                                                              └─512\n",
            "│    └─Sequential: 2-7                                       [32, 1024, 14, 14]        --\n",
            "│    │    └─0.conv1.weight                                                             ├─131,072\n",
            "│    │    └─0.bn1.weight                                                               ├─256\n",
            "│    │    └─0.bn1.bias                                                                 ├─256\n",
            "│    │    └─0.conv2.weight                                                             ├─589,824\n",
            "│    │    └─0.bn2.weight                                                               ├─256\n",
            "│    │    └─0.bn2.bias                                                                 ├─256\n",
            "│    │    └─0.conv3.weight                                                             ├─262,144\n",
            "│    │    └─0.bn3.weight                                                               ├─1,024\n",
            "│    │    └─0.bn3.bias                                                                 ├─1,024\n",
            "│    │    └─0.downsample.0.weight                                                      ├─524,288\n",
            "│    │    └─0.downsample.1.weight                                                      ├─1,024\n",
            "│    │    └─0.downsample.1.bias                                                        ├─1,024\n",
            "│    │    └─1.conv1.weight                                                             ├─262,144\n",
            "│    │    └─1.bn1.weight                                                               ├─256\n",
            "│    │    └─1.bn1.bias                                                                 ├─256\n",
            "│    │    └─1.conv2.weight                                                             ├─589,824\n",
            "│    │    └─1.bn2.weight                                                               ├─256\n",
            "│    │    └─1.bn2.bias                                                                 ├─256\n",
            "│    │    └─1.conv3.weight                                                             ├─262,144\n",
            "│    │    └─1.bn3.weight                                                               ├─1,024\n",
            "│    │    └─1.bn3.bias                                                                 ├─1,024\n",
            "│    │    └─2.conv1.weight                                                             ├─262,144\n",
            "│    │    └─2.bn1.weight                                                               ├─256\n",
            "│    │    └─2.bn1.bias                                                                 ├─256\n",
            "│    │    └─2.conv2.weight                                                             ├─589,824\n",
            "│    │    └─2.bn2.weight                                                               ├─256\n",
            "│    │    └─2.bn2.bias                                                                 ├─256\n",
            "│    │    └─2.conv3.weight                                                             ├─262,144\n",
            "│    │    └─2.bn3.weight                                                               ├─1,024\n",
            "│    │    └─2.bn3.bias                                                                 ├─1,024\n",
            "│    │    └─3.conv1.weight                                                             ├─262,144\n",
            "│    │    └─3.bn1.weight                                                               ├─256\n",
            "│    │    └─3.bn1.bias                                                                 ├─256\n",
            "│    │    └─3.conv2.weight                                                             ├─589,824\n",
            "│    │    └─3.bn2.weight                                                               ├─256\n",
            "│    │    └─3.bn2.bias                                                                 ├─256\n",
            "│    │    └─3.conv3.weight                                                             ├─262,144\n",
            "│    │    └─3.bn3.weight                                                               ├─1,024\n",
            "│    │    └─3.bn3.bias                                                                 ├─1,024\n",
            "│    │    └─4.conv1.weight                                                             ├─262,144\n",
            "│    │    └─4.bn1.weight                                                               ├─256\n",
            "│    │    └─4.bn1.bias                                                                 ├─256\n",
            "│    │    └─4.conv2.weight                                                             ├─589,824\n",
            "│    │    └─4.bn2.weight                                                               ├─256\n",
            "│    │    └─4.bn2.bias                                                                 ├─256\n",
            "│    │    └─4.conv3.weight                                                             ├─262,144\n",
            "│    │    └─4.bn3.weight                                                               ├─1,024\n",
            "│    │    └─4.bn3.bias                                                                 ├─1,024\n",
            "│    │    └─5.conv1.weight                                                             ├─262,144\n",
            "│    │    └─5.bn1.weight                                                               ├─256\n",
            "│    │    └─5.bn1.bias                                                                 ├─256\n",
            "│    │    └─5.conv2.weight                                                             ├─589,824\n",
            "│    │    └─5.bn2.weight                                                               ├─256\n",
            "│    │    └─5.bn2.bias                                                                 ├─256\n",
            "│    │    └─5.conv3.weight                                                             ├─262,144\n",
            "│    │    └─5.bn3.weight                                                               ├─1,024\n",
            "│    │    └─5.bn3.bias                                                                 └─1,024\n",
            "│    │    └─Bottleneck: 3-8                                  [32, 1024, 14, 14]        (1,512,448)\n",
            "│    │    │    └─conv1.weight                                                          ├─131,072\n",
            "│    │    │    └─bn1.weight                                                            ├─256\n",
            "│    │    │    └─bn1.bias                                                              ├─256\n",
            "│    │    │    └─conv2.weight                                                          ├─589,824\n",
            "│    │    │    └─bn2.weight                                                            ├─256\n",
            "│    │    │    └─bn2.bias                                                              ├─256\n",
            "│    │    │    └─conv3.weight                                                          ├─262,144\n",
            "│    │    │    └─bn3.weight                                                            ├─1,024\n",
            "│    │    │    └─bn3.bias                                                              ├─1,024\n",
            "│    │    │    └─downsample.0.weight                                                   ├─524,288\n",
            "│    │    │    └─downsample.1.weight                                                   ├─1,024\n",
            "│    │    │    └─downsample.1.bias                                                     └─1,024\n",
            "│    │    └─Bottleneck: 3-9                                  [32, 1024, 14, 14]        (1,117,184)\n",
            "│    │    │    └─conv1.weight                                                          ├─262,144\n",
            "│    │    │    └─bn1.weight                                                            ├─256\n",
            "│    │    │    └─bn1.bias                                                              ├─256\n",
            "│    │    │    └─conv2.weight                                                          ├─589,824\n",
            "│    │    │    └─bn2.weight                                                            ├─256\n",
            "│    │    │    └─bn2.bias                                                              ├─256\n",
            "│    │    │    └─conv3.weight                                                          ├─262,144\n",
            "│    │    │    └─bn3.weight                                                            ├─1,024\n",
            "│    │    │    └─bn3.bias                                                              └─1,024\n",
            "│    │    └─Bottleneck: 3-10                                 [32, 1024, 14, 14]        (1,117,184)\n",
            "│    │    │    └─conv1.weight                                                          ├─262,144\n",
            "│    │    │    └─bn1.weight                                                            ├─256\n",
            "│    │    │    └─bn1.bias                                                              ├─256\n",
            "│    │    │    └─conv2.weight                                                          ├─589,824\n",
            "│    │    │    └─bn2.weight                                                            ├─256\n",
            "│    │    │    └─bn2.bias                                                              ├─256\n",
            "│    │    │    └─conv3.weight                                                          ├─262,144\n",
            "│    │    │    └─bn3.weight                                                            ├─1,024\n",
            "│    │    │    └─bn3.bias                                                              └─1,024\n",
            "│    │    └─Bottleneck: 3-11                                 [32, 1024, 14, 14]        (1,117,184)\n",
            "│    │    │    └─conv1.weight                                                          ├─262,144\n",
            "│    │    │    └─bn1.weight                                                            ├─256\n",
            "│    │    │    └─bn1.bias                                                              ├─256\n",
            "│    │    │    └─conv2.weight                                                          ├─589,824\n",
            "│    │    │    └─bn2.weight                                                            ├─256\n",
            "│    │    │    └─bn2.bias                                                              ├─256\n",
            "│    │    │    └─conv3.weight                                                          ├─262,144\n",
            "│    │    │    └─bn3.weight                                                            ├─1,024\n",
            "│    │    │    └─bn3.bias                                                              └─1,024\n",
            "│    │    └─Bottleneck: 3-12                                 [32, 1024, 14, 14]        (1,117,184)\n",
            "│    │    │    └─conv1.weight                                                          ├─262,144\n",
            "│    │    │    └─bn1.weight                                                            ├─256\n",
            "│    │    │    └─bn1.bias                                                              ├─256\n",
            "│    │    │    └─conv2.weight                                                          ├─589,824\n",
            "│    │    │    └─bn2.weight                                                            ├─256\n",
            "│    │    │    └─bn2.bias                                                              ├─256\n",
            "│    │    │    └─conv3.weight                                                          ├─262,144\n",
            "│    │    │    └─bn3.weight                                                            ├─1,024\n",
            "│    │    │    └─bn3.bias                                                              └─1,024\n",
            "│    │    └─Bottleneck: 3-13                                 [32, 1024, 14, 14]        (1,117,184)\n",
            "│    │    │    └─conv1.weight                                                          ├─262,144\n",
            "│    │    │    └─bn1.weight                                                            ├─256\n",
            "│    │    │    └─bn1.bias                                                              ├─256\n",
            "│    │    │    └─conv2.weight                                                          ├─589,824\n",
            "│    │    │    └─bn2.weight                                                            ├─256\n",
            "│    │    │    └─bn2.bias                                                              ├─256\n",
            "│    │    │    └─conv3.weight                                                          ├─262,144\n",
            "│    │    │    └─bn3.weight                                                            ├─1,024\n",
            "│    │    │    └─bn3.bias                                                              └─1,024\n",
            "│    └─Sequential: 2-8                                       [32, 2048, 7, 7]          --\n",
            "│    │    └─0.conv1.weight                                                             ├─524,288\n",
            "│    │    └─0.bn1.weight                                                               ├─512\n",
            "│    │    └─0.bn1.bias                                                                 ├─512\n",
            "│    │    └─0.conv2.weight                                                             ├─2,359,296\n",
            "│    │    └─0.bn2.weight                                                               ├─512\n",
            "│    │    └─0.bn2.bias                                                                 ├─512\n",
            "│    │    └─0.conv3.weight                                                             ├─1,048,576\n",
            "│    │    └─0.bn3.weight                                                               ├─2,048\n",
            "│    │    └─0.bn3.bias                                                                 ├─2,048\n",
            "│    │    └─0.downsample.0.weight                                                      ├─2,097,152\n",
            "│    │    └─0.downsample.1.weight                                                      ├─2,048\n",
            "│    │    └─0.downsample.1.bias                                                        ├─2,048\n",
            "│    │    └─1.conv1.weight                                                             ├─1,048,576\n",
            "│    │    └─1.bn1.weight                                                               ├─512\n",
            "│    │    └─1.bn1.bias                                                                 ├─512\n",
            "│    │    └─1.conv2.weight                                                             ├─2,359,296\n",
            "│    │    └─1.bn2.weight                                                               ├─512\n",
            "│    │    └─1.bn2.bias                                                                 ├─512\n",
            "│    │    └─1.conv3.weight                                                             ├─1,048,576\n",
            "│    │    └─1.bn3.weight                                                               ├─2,048\n",
            "│    │    └─1.bn3.bias                                                                 ├─2,048\n",
            "│    │    └─2.conv1.weight                                                             ├─1,048,576\n",
            "│    │    └─2.bn1.weight                                                               ├─512\n",
            "│    │    └─2.bn1.bias                                                                 ├─512\n",
            "│    │    └─2.conv2.weight                                                             ├─2,359,296\n",
            "│    │    └─2.bn2.weight                                                               ├─512\n",
            "│    │    └─2.bn2.bias                                                                 ├─512\n",
            "│    │    └─2.conv3.weight                                                             ├─1,048,576\n",
            "│    │    └─2.bn3.weight                                                               ├─2,048\n",
            "│    │    └─2.bn3.bias                                                                 └─2,048\n",
            "│    │    └─Bottleneck: 3-14                                 [32, 2048, 7, 7]          (6,039,552)\n",
            "│    │    │    └─conv1.weight                                                          ├─524,288\n",
            "│    │    │    └─bn1.weight                                                            ├─512\n",
            "│    │    │    └─bn1.bias                                                              ├─512\n",
            "│    │    │    └─conv2.weight                                                          ├─2,359,296\n",
            "│    │    │    └─bn2.weight                                                            ├─512\n",
            "│    │    │    └─bn2.bias                                                              ├─512\n",
            "│    │    │    └─conv3.weight                                                          ├─1,048,576\n",
            "│    │    │    └─bn3.weight                                                            ├─2,048\n",
            "│    │    │    └─bn3.bias                                                              ├─2,048\n",
            "│    │    │    └─downsample.0.weight                                                   ├─2,097,152\n",
            "│    │    │    └─downsample.1.weight                                                   ├─2,048\n",
            "│    │    │    └─downsample.1.bias                                                     └─2,048\n",
            "│    │    └─Bottleneck: 3-15                                 [32, 2048, 7, 7]          (4,462,592)\n",
            "│    │    │    └─conv1.weight                                                          ├─1,048,576\n",
            "│    │    │    └─bn1.weight                                                            ├─512\n",
            "│    │    │    └─bn1.bias                                                              ├─512\n",
            "│    │    │    └─conv2.weight                                                          ├─2,359,296\n",
            "│    │    │    └─bn2.weight                                                            ├─512\n",
            "│    │    │    └─bn2.bias                                                              ├─512\n",
            "│    │    │    └─conv3.weight                                                          ├─1,048,576\n",
            "│    │    │    └─bn3.weight                                                            ├─2,048\n",
            "│    │    │    └─bn3.bias                                                              └─2,048\n",
            "│    │    └─Bottleneck: 3-16                                 [32, 2048, 7, 7]          (4,462,592)\n",
            "│    │    │    └─conv1.weight                                                          ├─1,048,576\n",
            "│    │    │    └─bn1.weight                                                            ├─512\n",
            "│    │    │    └─bn1.bias                                                              ├─512\n",
            "│    │    │    └─conv2.weight                                                          ├─2,359,296\n",
            "│    │    │    └─bn2.weight                                                            ├─512\n",
            "│    │    │    └─bn2.bias                                                              ├─512\n",
            "│    │    │    └─conv3.weight                                                          ├─1,048,576\n",
            "│    │    │    └─bn3.weight                                                            ├─2,048\n",
            "│    │    │    └─bn3.bias                                                              └─2,048\n",
            "│    └─SelectAdaptivePool2d: 2-9                             [32, 2048]                --\n",
            "│    │    └─AdaptiveAvgPool2d: 3-17                          [32, 2048, 1, 1]          --\n",
            "│    │    └─Flatten: 3-18                                    [32, 2048]                --\n",
            "│    └─Identity: 2-10                                        [32, 2048]                --\n",
            "├─ConvTranspose2d: 1-2                                       [32, 16, 16, 16]          8,208\n",
            "│    └─weight                                                                          ├─8,192\n",
            "│    └─bias                                                                            └─16\n",
            "├─ConvTranspose2d: 1-3                                       [32, 8, 32, 32]           2,056\n",
            "│    └─weight                                                                          ├─2,048\n",
            "│    └─bias                                                                            └─8\n",
            "├─ConvTranspose2d: 1-4                                       [32, 3, 128, 128]         387\n",
            "│    └─weight                                                                          ├─384\n",
            "│    └─bias                                                                            └─3\n",
            "├─LevitDistilled: 1-5                                        [32, 5]                   --\n",
            "│    └─stem.conv1.linear.weight                                                        ├─864\n",
            "│    └─stem.conv1.bn.weight                                                            ├─32\n",
            "│    └─stem.conv1.bn.bias                                                              ├─32\n",
            "│    └─stem.conv2.linear.weight                                                        ├─18,432\n",
            "│    └─stem.conv2.bn.weight                                                            ├─64\n",
            "│    └─stem.conv2.bn.bias                                                              ├─64\n",
            "│    └─stem.conv3.linear.weight                                                        ├─73,728\n",
            "│    └─stem.conv3.bn.weight                                                            ├─128\n",
            "│    └─stem.conv3.bn.bias                                                              ├─128\n",
            "│    └─stem.conv4.linear.weight                                                        ├─294,912\n",
            "│    └─stem.conv4.bn.weight                                                            ├─256\n",
            "│    └─stem.conv4.bn.bias                                                              ├─256\n",
            "│    └─stage1.blocks.0.attn.qkv.linear.weight                                          ├─196,608\n",
            "│    └─stage1.blocks.0.attn.qkv.bn.weight                                              ├─768\n",
            "│    └─stage1.blocks.0.attn.qkv.bn.bias                                                ├─768\n",
            "│    └─stage1.blocks.0.attn.proj.1.linear.weight                                       ├─65,536\n",
            "│    └─stage1.blocks.0.attn.proj.1.bn.weight                                           ├─256\n",
            "│    └─stage1.blocks.0.attn.proj.1.bn.bias                                             ├─256\n",
            "│    └─stage1.blocks.0.mlp.ln1.linear.weight                                           ├─131,072\n",
            "│    └─stage1.blocks.0.mlp.ln1.bn.weight                                               ├─512\n",
            "│    └─stage1.blocks.0.mlp.ln1.bn.bias                                                 ├─512\n",
            "│    └─stage1.blocks.0.mlp.ln2.linear.weight                                           ├─131,072\n",
            "│    └─stage1.blocks.0.mlp.ln2.bn.weight                                               ├─256\n",
            "│    └─stage1.blocks.0.mlp.ln2.bn.bias                                                 ├─256\n",
            "│    └─stage1.blocks.1.attn.qkv.linear.weight                                          ├─196,608\n",
            "│    └─stage1.blocks.1.attn.qkv.bn.weight                                              ├─768\n",
            "│    └─stage1.blocks.1.attn.qkv.bn.bias                                                ├─768\n",
            "│    └─stage1.blocks.1.attn.proj.1.linear.weight                                       ├─65,536\n",
            "│    └─stage1.blocks.1.attn.proj.1.bn.weight                                           ├─256\n",
            "│    └─stage1.blocks.1.attn.proj.1.bn.bias                                             ├─256\n",
            "│    └─stage1.blocks.1.mlp.ln1.linear.weight                                           ├─131,072\n",
            "│    └─stage1.blocks.1.mlp.ln1.bn.weight                                               ├─512\n",
            "│    └─stage1.blocks.1.mlp.ln1.bn.bias                                                 ├─512\n",
            "│    └─stage1.blocks.1.mlp.ln2.linear.weight                                           ├─131,072\n",
            "│    └─stage1.blocks.1.mlp.ln2.bn.weight                                               ├─256\n",
            "│    └─stage1.blocks.1.mlp.ln2.bn.bias                                                 ├─256\n",
            "│    └─stage2.downsample.conv.weight                                                   ├─884,736\n",
            "│    └─stage2.downsample.conv.bias                                                     ├─384\n",
            "│    └─stage2.blocks.0.attn.qkv.linear.weight                                          ├─442,368\n",
            "│    └─stage2.blocks.0.attn.qkv.bn.weight                                              ├─1,152\n",
            "│    └─stage2.blocks.0.attn.qkv.bn.bias                                                ├─1,152\n",
            "│    └─stage2.blocks.0.attn.proj.1.linear.weight                                       ├─147,456\n",
            "│    └─stage2.blocks.0.attn.proj.1.bn.weight                                           ├─384\n",
            "│    └─stage2.blocks.0.attn.proj.1.bn.bias                                             ├─384\n",
            "│    └─stage2.blocks.0.mlp.ln1.linear.weight                                           ├─294,912\n",
            "│    └─stage2.blocks.0.mlp.ln1.bn.weight                                               ├─768\n",
            "│    └─stage2.blocks.0.mlp.ln1.bn.bias                                                 ├─768\n",
            "│    └─stage2.blocks.0.mlp.ln2.linear.weight                                           ├─294,912\n",
            "│    └─stage2.blocks.0.mlp.ln2.bn.weight                                               ├─384\n",
            "│    └─stage2.blocks.0.mlp.ln2.bn.bias                                                 ├─384\n",
            "│    └─stage2.blocks.1.attn.qkv.linear.weight                                          ├─442,368\n",
            "│    └─stage2.blocks.1.attn.qkv.bn.weight                                              ├─1,152\n",
            "│    └─stage2.blocks.1.attn.qkv.bn.bias                                                ├─1,152\n",
            "│    └─stage2.blocks.1.attn.proj.1.linear.weight                                       ├─147,456\n",
            "│    └─stage2.blocks.1.attn.proj.1.bn.weight                                           ├─384\n",
            "│    └─stage2.blocks.1.attn.proj.1.bn.bias                                             ├─384\n",
            "│    └─stage2.blocks.1.mlp.ln1.linear.weight                                           ├─294,912\n",
            "│    └─stage2.blocks.1.mlp.ln1.bn.weight                                               ├─768\n",
            "│    └─stage2.blocks.1.mlp.ln1.bn.bias                                                 ├─768\n",
            "│    └─stage2.blocks.1.mlp.ln2.linear.weight                                           ├─294,912\n",
            "│    └─stage2.blocks.1.mlp.ln2.bn.weight                                               ├─384\n",
            "│    └─stage2.blocks.1.mlp.ln2.bn.bias                                                 ├─384\n",
            "│    └─conv1x1.0.weight                                                                ├─196,608\n",
            "│    └─conv1x1.0.bias                                                                  ├─512\n",
            "│    └─conv1x1.1.weight                                                                ├─512\n",
            "│    └─conv1x1.1.bias                                                                  ├─512\n",
            "│    └─head.bn.weight                                                                  ├─512\n",
            "│    └─head.bn.bias                                                                    ├─512\n",
            "│    └─head.linear.weight                                                              ├─2,560\n",
            "│    └─head.linear.bias                                                                ├─5\n",
            "│    └─head_dist.bn.weight                                                             ├─512\n",
            "│    └─head_dist.bn.bias                                                               ├─512\n",
            "│    └─head_dist.linear.weight                                                         ├─2,560\n",
            "│    └─head_dist.linear.bias                                                           └─5\n",
            "│    └─Stem16: 2-11                                          [32, 256, 8, 8]           --\n",
            "│    │    └─conv1.linear.weight                                                        ├─864\n",
            "│    │    └─conv1.bn.weight                                                            ├─32\n",
            "│    │    └─conv1.bn.bias                                                              ├─32\n",
            "│    │    └─conv2.linear.weight                                                        ├─18,432\n",
            "│    │    └─conv2.bn.weight                                                            ├─64\n",
            "│    │    └─conv2.bn.bias                                                              ├─64\n",
            "│    │    └─conv3.linear.weight                                                        ├─73,728\n",
            "│    │    └─conv3.bn.weight                                                            ├─128\n",
            "│    │    └─conv3.bn.bias                                                              ├─128\n",
            "│    │    └─conv4.linear.weight                                                        ├─294,912\n",
            "│    │    └─conv4.bn.weight                                                            ├─256\n",
            "│    │    └─conv4.bn.bias                                                              └─256\n",
            "│    │    └─ConvNorm: 3-19                                   [32, 32, 64, 64]          928\n",
            "│    │    │    └─linear.weight                                                         ├─864\n",
            "│    │    │    └─bn.weight                                                             ├─32\n",
            "│    │    │    └─bn.bias                                                               └─32\n",
            "│    │    └─Hardswish: 3-20                                  [32, 32, 64, 64]          --\n",
            "│    │    └─ConvNorm: 3-21                                   [32, 64, 32, 32]          18,560\n",
            "│    │    │    └─linear.weight                                                         ├─18,432\n",
            "│    │    │    └─bn.weight                                                             ├─64\n",
            "│    │    │    └─bn.bias                                                               └─64\n",
            "│    │    └─Hardswish: 3-22                                  [32, 64, 32, 32]          --\n",
            "│    │    └─ConvNorm: 3-23                                   [32, 128, 16, 16]         73,984\n",
            "│    │    │    └─linear.weight                                                         ├─73,728\n",
            "│    │    │    └─bn.weight                                                             ├─128\n",
            "│    │    │    └─bn.bias                                                               └─128\n",
            "│    │    └─Hardswish: 3-24                                  [32, 128, 16, 16]         --\n",
            "│    │    └─ConvNorm: 3-25                                   [32, 256, 8, 8]           295,424\n",
            "│    │    │    └─linear.weight                                                         ├─294,912\n",
            "│    │    │    └─bn.weight                                                             ├─256\n",
            "│    │    │    └─bn.bias                                                               └─256\n",
            "│    └─LevitStage: 2-12                                      [32, 64, 256]             --\n",
            "│    │    └─blocks.0.attn.qkv.linear.weight                                            ├─196,608\n",
            "│    │    └─blocks.0.attn.qkv.bn.weight                                                ├─768\n",
            "│    │    └─blocks.0.attn.qkv.bn.bias                                                  ├─768\n",
            "│    │    └─blocks.0.attn.proj.1.linear.weight                                         ├─65,536\n",
            "│    │    └─blocks.0.attn.proj.1.bn.weight                                             ├─256\n",
            "│    │    └─blocks.0.attn.proj.1.bn.bias                                               ├─256\n",
            "│    │    └─blocks.0.mlp.ln1.linear.weight                                             ├─131,072\n",
            "│    │    └─blocks.0.mlp.ln1.bn.weight                                                 ├─512\n",
            "│    │    └─blocks.0.mlp.ln1.bn.bias                                                   ├─512\n",
            "│    │    └─blocks.0.mlp.ln2.linear.weight                                             ├─131,072\n",
            "│    │    └─blocks.0.mlp.ln2.bn.weight                                                 ├─256\n",
            "│    │    └─blocks.0.mlp.ln2.bn.bias                                                   ├─256\n",
            "│    │    └─blocks.1.attn.qkv.linear.weight                                            ├─196,608\n",
            "│    │    └─blocks.1.attn.qkv.bn.weight                                                ├─768\n",
            "│    │    └─blocks.1.attn.qkv.bn.bias                                                  ├─768\n",
            "│    │    └─blocks.1.attn.proj.1.linear.weight                                         ├─65,536\n",
            "│    │    └─blocks.1.attn.proj.1.bn.weight                                             ├─256\n",
            "│    │    └─blocks.1.attn.proj.1.bn.bias                                               ├─256\n",
            "│    │    └─blocks.1.mlp.ln1.linear.weight                                             ├─131,072\n",
            "│    │    └─blocks.1.mlp.ln1.bn.weight                                                 ├─512\n",
            "│    │    └─blocks.1.mlp.ln1.bn.bias                                                   ├─512\n",
            "│    │    └─blocks.1.mlp.ln2.linear.weight                                             ├─131,072\n",
            "│    │    └─blocks.1.mlp.ln2.bn.weight                                                 ├─256\n",
            "│    │    └─blocks.1.mlp.ln2.bn.bias                                                   └─256\n",
            "│    │    └─Identity: 3-26                                   [32, 64, 256]             --\n",
            "│    │    └─Sequential: 3-27                                 [32, 64, 256]             1,055,744\n",
            "│    │    │    └─0.attn.qkv.linear.weight                                              ├─196,608\n",
            "│    │    │    └─0.attn.qkv.bn.weight                                                  ├─768\n",
            "│    │    │    └─0.attn.qkv.bn.bias                                                    ├─768\n",
            "│    │    │    └─0.attn.proj.1.linear.weight                                           ├─65,536\n",
            "│    │    │    └─0.attn.proj.1.bn.weight                                               ├─256\n",
            "│    │    │    └─0.attn.proj.1.bn.bias                                                 ├─256\n",
            "│    │    │    └─0.mlp.ln1.linear.weight                                               ├─131,072\n",
            "│    │    │    └─0.mlp.ln1.bn.weight                                                   ├─512\n",
            "│    │    │    └─0.mlp.ln1.bn.bias                                                     ├─512\n",
            "│    │    │    └─0.mlp.ln2.linear.weight                                               ├─131,072\n",
            "│    │    │    └─0.mlp.ln2.bn.weight                                                   ├─256\n",
            "│    │    │    └─0.mlp.ln2.bn.bias                                                     ├─256\n",
            "│    │    │    └─1.attn.qkv.linear.weight                                              ├─196,608\n",
            "│    │    │    └─1.attn.qkv.bn.weight                                                  ├─768\n",
            "│    │    │    └─1.attn.qkv.bn.bias                                                    ├─768\n",
            "│    │    │    └─1.attn.proj.1.linear.weight                                           ├─65,536\n",
            "│    │    │    └─1.attn.proj.1.bn.weight                                               ├─256\n",
            "│    │    │    └─1.attn.proj.1.bn.bias                                                 ├─256\n",
            "│    │    │    └─1.mlp.ln1.linear.weight                                               ├─131,072\n",
            "│    │    │    └─1.mlp.ln1.bn.weight                                                   ├─512\n",
            "│    │    │    └─1.mlp.ln1.bn.bias                                                     ├─512\n",
            "│    │    │    └─1.mlp.ln2.linear.weight                                               ├─131,072\n",
            "│    │    │    └─1.mlp.ln2.bn.weight                                                   ├─256\n",
            "│    │    │    └─1.mlp.ln2.bn.bias                                                     └─256\n",
            "│    └─LevitStage: 2-13                                      [32, 16, 384]             --\n",
            "│    │    └─downsample.conv.weight                                                     ├─884,736\n",
            "│    │    └─downsample.conv.bias                                                       ├─384\n",
            "│    │    └─blocks.0.attn.qkv.linear.weight                                            ├─442,368\n",
            "│    │    └─blocks.0.attn.qkv.bn.weight                                                ├─1,152\n",
            "│    │    └─blocks.0.attn.qkv.bn.bias                                                  ├─1,152\n",
            "│    │    └─blocks.0.attn.proj.1.linear.weight                                         ├─147,456\n",
            "│    │    └─blocks.0.attn.proj.1.bn.weight                                             ├─384\n",
            "│    │    └─blocks.0.attn.proj.1.bn.bias                                               ├─384\n",
            "│    │    └─blocks.0.mlp.ln1.linear.weight                                             ├─294,912\n",
            "│    │    └─blocks.0.mlp.ln1.bn.weight                                                 ├─768\n",
            "│    │    └─blocks.0.mlp.ln1.bn.bias                                                   ├─768\n",
            "│    │    └─blocks.0.mlp.ln2.linear.weight                                             ├─294,912\n",
            "│    │    └─blocks.0.mlp.ln2.bn.weight                                                 ├─384\n",
            "│    │    └─blocks.0.mlp.ln2.bn.bias                                                   ├─384\n",
            "│    │    └─blocks.1.attn.qkv.linear.weight                                            ├─442,368\n",
            "│    │    └─blocks.1.attn.qkv.bn.weight                                                ├─1,152\n",
            "│    │    └─blocks.1.attn.qkv.bn.bias                                                  ├─1,152\n",
            "│    │    └─blocks.1.attn.proj.1.linear.weight                                         ├─147,456\n",
            "│    │    └─blocks.1.attn.proj.1.bn.weight                                             ├─384\n",
            "│    │    └─blocks.1.attn.proj.1.bn.bias                                               ├─384\n",
            "│    │    └─blocks.1.mlp.ln1.linear.weight                                             ├─294,912\n",
            "│    │    └─blocks.1.mlp.ln1.bn.weight                                                 ├─768\n",
            "│    │    └─blocks.1.mlp.ln1.bn.bias                                                   ├─768\n",
            "│    │    └─blocks.1.mlp.ln2.linear.weight                                             ├─294,912\n",
            "│    │    └─blocks.1.mlp.ln2.bn.weight                                                 ├─384\n",
            "│    │    └─blocks.1.mlp.ln2.bn.bias                                                   └─384\n",
            "│    │    └─CNNDownsample: 3-28                              [32, 16, 384]             885,120\n",
            "│    │    │    └─conv.weight                                                           ├─884,736\n",
            "│    │    │    └─conv.bias                                                             └─384\n",
            "│    │    └─Sequential: 3-29                                 [32, 16, 384]             2,370,048\n",
            "│    │    │    └─0.attn.qkv.linear.weight                                              ├─442,368\n",
            "│    │    │    └─0.attn.qkv.bn.weight                                                  ├─1,152\n",
            "│    │    │    └─0.attn.qkv.bn.bias                                                    ├─1,152\n",
            "│    │    │    └─0.attn.proj.1.linear.weight                                           ├─147,456\n",
            "│    │    │    └─0.attn.proj.1.bn.weight                                               ├─384\n",
            "│    │    │    └─0.attn.proj.1.bn.bias                                                 ├─384\n",
            "│    │    │    └─0.mlp.ln1.linear.weight                                               ├─294,912\n",
            "│    │    │    └─0.mlp.ln1.bn.weight                                                   ├─768\n",
            "│    │    │    └─0.mlp.ln1.bn.bias                                                     ├─768\n",
            "│    │    │    └─0.mlp.ln2.linear.weight                                               ├─294,912\n",
            "│    │    │    └─0.mlp.ln2.bn.weight                                                   ├─384\n",
            "│    │    │    └─0.mlp.ln2.bn.bias                                                     ├─384\n",
            "│    │    │    └─1.attn.qkv.linear.weight                                              ├─442,368\n",
            "│    │    │    └─1.attn.qkv.bn.weight                                                  ├─1,152\n",
            "│    │    │    └─1.attn.qkv.bn.bias                                                    ├─1,152\n",
            "│    │    │    └─1.attn.proj.1.linear.weight                                           ├─147,456\n",
            "│    │    │    └─1.attn.proj.1.bn.weight                                               ├─384\n",
            "│    │    │    └─1.attn.proj.1.bn.bias                                                 ├─384\n",
            "│    │    │    └─1.mlp.ln1.linear.weight                                               ├─294,912\n",
            "│    │    │    └─1.mlp.ln1.bn.weight                                                   ├─768\n",
            "│    │    │    └─1.mlp.ln1.bn.bias                                                     ├─768\n",
            "│    │    │    └─1.mlp.ln2.linear.weight                                               ├─294,912\n",
            "│    │    │    └─1.mlp.ln2.bn.weight                                                   ├─384\n",
            "│    │    │    └─1.mlp.ln2.bn.bias                                                     └─384\n",
            "│    └─Sequential: 2-14                                      [32, 512, 4, 4]           --\n",
            "│    │    └─0.weight                                                                   ├─196,608\n",
            "│    │    └─0.bias                                                                     ├─512\n",
            "│    │    └─1.weight                                                                   ├─512\n",
            "│    │    └─1.bias                                                                     └─512\n",
            "│    │    └─Conv2d: 3-30                                     [32, 512, 4, 4]           197,120\n",
            "│    │    │    └─weight                                                                ├─196,608\n",
            "│    │    │    └─bias                                                                  └─512\n",
            "│    │    └─BatchNorm2d: 3-31                                [32, 512, 4, 4]           1,024\n",
            "│    │    │    └─weight                                                                ├─512\n",
            "│    │    │    └─bias                                                                  └─512\n",
            "│    │    └─ReLU: 3-32                                       [32, 512, 4, 4]           --\n",
            "│    └─NormLinear: 2-15                                      [32, 5]                   --\n",
            "│    │    └─bn.weight                                                                  ├─512\n",
            "│    │    └─bn.bias                                                                    ├─512\n",
            "│    │    └─linear.weight                                                              ├─2,560\n",
            "│    │    └─linear.bias                                                                └─5\n",
            "│    │    └─BatchNorm1d: 3-33                                [32, 512]                 1,024\n",
            "│    │    │    └─weight                                                                ├─512\n",
            "│    │    │    └─bias                                                                  └─512\n",
            "│    │    └─Dropout: 3-34                                    [32, 512]                 --\n",
            "│    │    └─Linear: 3-35                                     [32, 5]                   2,565\n",
            "│    │    │    └─weight                                                                ├─2,560\n",
            "│    │    │    └─bias                                                                  └─5\n",
            "│    └─NormLinear: 2-16                                      [32, 5]                   --\n",
            "│    │    └─bn.weight                                                                  ├─512\n",
            "│    │    └─bn.bias                                                                    ├─512\n",
            "│    │    └─linear.weight                                                              ├─2,560\n",
            "│    │    └─linear.bias                                                                └─5\n",
            "│    │    └─BatchNorm1d: 3-36                                [32, 512]                 1,024\n",
            "│    │    │    └─weight                                                                ├─512\n",
            "│    │    │    └─bias                                                                  └─512\n",
            "│    │    └─Dropout: 3-37                                    [32, 512]                 --\n",
            "│    │    └─Linear: 3-38                                     [32, 5]                   2,565\n",
            "│    │    │    └─weight                                                                ├─2,560\n",
            "│    │    │    └─bias                                                                  └─5\n",
            "==============================================================================================================\n",
            "Total params: 28,423,813\n",
            "Trainable params: 4,915,781\n",
            "Non-trainable params: 23,508,032\n",
            "Total mult-adds (Units.GIGABYTES): 136.98\n",
            "==============================================================================================================\n",
            "Input size (MB): 19.27\n",
            "Forward/backward pass size (MB): 5999.43\n",
            "Params size (MB): 113.70\n",
            "Estimated Total Size (MB): 6132.39\n",
            "==============================================================================================================\n",
            "==============================================================================================================\n",
            "Layer (type:depth-idx)                                       Output Shape              Param #\n",
            "==============================================================================================================\n",
            "LauncherModel                                                [32, 5]                   --\n",
            "├─ResNet: 1-1                                                [32, 2048]                --\n",
            "│    └─conv1.weight                                                                    ├─9,408\n",
            "│    └─bn1.weight                                                                      ├─64\n",
            "│    └─bn1.bias                                                                        ├─64\n",
            "│    └─layer1.0.conv1.weight                                                           ├─4,096\n",
            "│    └─layer1.0.bn1.weight                                                             ├─64\n",
            "│    └─layer1.0.bn1.bias                                                               ├─64\n",
            "│    └─layer1.0.conv2.weight                                                           ├─36,864\n",
            "│    └─layer1.0.bn2.weight                                                             ├─64\n",
            "│    └─layer1.0.bn2.bias                                                               ├─64\n",
            "│    └─layer1.0.conv3.weight                                                           ├─16,384\n",
            "│    └─layer1.0.bn3.weight                                                             ├─256\n",
            "│    └─layer1.0.bn3.bias                                                               ├─256\n",
            "│    └─layer1.0.downsample.0.weight                                                    ├─16,384\n",
            "│    └─layer1.0.downsample.1.weight                                                    ├─256\n",
            "│    └─layer1.0.downsample.1.bias                                                      ├─256\n",
            "│    └─layer1.1.conv1.weight                                                           ├─16,384\n",
            "│    └─layer1.1.bn1.weight                                                             ├─64\n",
            "│    └─layer1.1.bn1.bias                                                               ├─64\n",
            "│    └─layer1.1.conv2.weight                                                           ├─36,864\n",
            "│    └─layer1.1.bn2.weight                                                             ├─64\n",
            "│    └─layer1.1.bn2.bias                                                               ├─64\n",
            "│    └─layer1.1.conv3.weight                                                           ├─16,384\n",
            "│    └─layer1.1.bn3.weight                                                             ├─256\n",
            "│    └─layer1.1.bn3.bias                                                               ├─256\n",
            "│    └─layer1.2.conv1.weight                                                           ├─16,384\n",
            "│    └─layer1.2.bn1.weight                                                             ├─64\n",
            "│    └─layer1.2.bn1.bias                                                               ├─64\n",
            "│    └─layer1.2.conv2.weight                                                           ├─36,864\n",
            "│    └─layer1.2.bn2.weight                                                             ├─64\n",
            "│    └─layer1.2.bn2.bias                                                               ├─64\n",
            "│    └─layer1.2.conv3.weight                                                           ├─16,384\n",
            "│    └─layer1.2.bn3.weight                                                             ├─256\n",
            "│    └─layer1.2.bn3.bias                                                               ├─256\n",
            "│    └─layer2.0.conv1.weight                                                           ├─32,768\n",
            "│    └─layer2.0.bn1.weight                                                             ├─128\n",
            "│    └─layer2.0.bn1.bias                                                               ├─128\n",
            "│    └─layer2.0.conv2.weight                                                           ├─147,456\n",
            "│    └─layer2.0.bn2.weight                                                             ├─128\n",
            "│    └─layer2.0.bn2.bias                                                               ├─128\n",
            "│    └─layer2.0.conv3.weight                                                           ├─65,536\n",
            "│    └─layer2.0.bn3.weight                                                             ├─512\n",
            "│    └─layer2.0.bn3.bias                                                               ├─512\n",
            "│    └─layer2.0.downsample.0.weight                                                    ├─131,072\n",
            "│    └─layer2.0.downsample.1.weight                                                    ├─512\n",
            "│    └─layer2.0.downsample.1.bias                                                      ├─512\n",
            "│    └─layer2.1.conv1.weight                                                           ├─65,536\n",
            "│    └─layer2.1.bn1.weight                                                             ├─128\n",
            "│    └─layer2.1.bn1.bias                                                               ├─128\n",
            "│    └─layer2.1.conv2.weight                                                           ├─147,456\n",
            "│    └─layer2.1.bn2.weight                                                             ├─128\n",
            "│    └─layer2.1.bn2.bias                                                               ├─128\n",
            "│    └─layer2.1.conv3.weight                                                           ├─65,536\n",
            "│    └─layer2.1.bn3.weight                                                             ├─512\n",
            "│    └─layer2.1.bn3.bias                                                               ├─512\n",
            "│    └─layer2.2.conv1.weight                                                           ├─65,536\n",
            "│    └─layer2.2.bn1.weight                                                             ├─128\n",
            "│    └─layer2.2.bn1.bias                                                               ├─128\n",
            "│    └─layer2.2.conv2.weight                                                           ├─147,456\n",
            "│    └─layer2.2.bn2.weight                                                             ├─128\n",
            "│    └─layer2.2.bn2.bias                                                               ├─128\n",
            "│    └─layer2.2.conv3.weight                                                           ├─65,536\n",
            "│    └─layer2.2.bn3.weight                                                             ├─512\n",
            "│    └─layer2.2.bn3.bias                                                               ├─512\n",
            "│    └─layer2.3.conv1.weight                                                           ├─65,536\n",
            "│    └─layer2.3.bn1.weight                                                             ├─128\n",
            "│    └─layer2.3.bn1.bias                                                               ├─128\n",
            "│    └─layer2.3.conv2.weight                                                           ├─147,456\n",
            "│    └─layer2.3.bn2.weight                                                             ├─128\n",
            "│    └─layer2.3.bn2.bias                                                               ├─128\n",
            "│    └─layer2.3.conv3.weight                                                           ├─65,536\n",
            "│    └─layer2.3.bn3.weight                                                             ├─512\n",
            "│    └─layer2.3.bn3.bias                                                               ├─512\n",
            "│    └─layer3.0.conv1.weight                                                           ├─131,072\n",
            "│    └─layer3.0.bn1.weight                                                             ├─256\n",
            "│    └─layer3.0.bn1.bias                                                               ├─256\n",
            "│    └─layer3.0.conv2.weight                                                           ├─589,824\n",
            "│    └─layer3.0.bn2.weight                                                             ├─256\n",
            "│    └─layer3.0.bn2.bias                                                               ├─256\n",
            "│    └─layer3.0.conv3.weight                                                           ├─262,144\n",
            "│    └─layer3.0.bn3.weight                                                             ├─1,024\n",
            "│    └─layer3.0.bn3.bias                                                               ├─1,024\n",
            "│    └─layer3.0.downsample.0.weight                                                    ├─524,288\n",
            "│    └─layer3.0.downsample.1.weight                                                    ├─1,024\n",
            "│    └─layer3.0.downsample.1.bias                                                      ├─1,024\n",
            "│    └─layer3.1.conv1.weight                                                           ├─262,144\n",
            "│    └─layer3.1.bn1.weight                                                             ├─256\n",
            "│    └─layer3.1.bn1.bias                                                               ├─256\n",
            "│    └─layer3.1.conv2.weight                                                           ├─589,824\n",
            "│    └─layer3.1.bn2.weight                                                             ├─256\n",
            "│    └─layer3.1.bn2.bias                                                               ├─256\n",
            "│    └─layer3.1.conv3.weight                                                           ├─262,144\n",
            "│    └─layer3.1.bn3.weight                                                             ├─1,024\n",
            "│    └─layer3.1.bn3.bias                                                               ├─1,024\n",
            "│    └─layer3.2.conv1.weight                                                           ├─262,144\n",
            "│    └─layer3.2.bn1.weight                                                             ├─256\n",
            "│    └─layer3.2.bn1.bias                                                               ├─256\n",
            "│    └─layer3.2.conv2.weight                                                           ├─589,824\n",
            "│    └─layer3.2.bn2.weight                                                             ├─256\n",
            "│    └─layer3.2.bn2.bias                                                               ├─256\n",
            "│    └─layer3.2.conv3.weight                                                           ├─262,144\n",
            "│    └─layer3.2.bn3.weight                                                             ├─1,024\n",
            "│    └─layer3.2.bn3.bias                                                               ├─1,024\n",
            "│    └─layer3.3.conv1.weight                                                           ├─262,144\n",
            "│    └─layer3.3.bn1.weight                                                             ├─256\n",
            "│    └─layer3.3.bn1.bias                                                               ├─256\n",
            "│    └─layer3.3.conv2.weight                                                           ├─589,824\n",
            "│    └─layer3.3.bn2.weight                                                             ├─256\n",
            "│    └─layer3.3.bn2.bias                                                               ├─256\n",
            "│    └─layer3.3.conv3.weight                                                           ├─262,144\n",
            "│    └─layer3.3.bn3.weight                                                             ├─1,024\n",
            "│    └─layer3.3.bn3.bias                                                               ├─1,024\n",
            "│    └─layer3.4.conv1.weight                                                           ├─262,144\n",
            "│    └─layer3.4.bn1.weight                                                             ├─256\n",
            "│    └─layer3.4.bn1.bias                                                               ├─256\n",
            "│    └─layer3.4.conv2.weight                                                           ├─589,824\n",
            "│    └─layer3.4.bn2.weight                                                             ├─256\n",
            "│    └─layer3.4.bn2.bias                                                               ├─256\n",
            "│    └─layer3.4.conv3.weight                                                           ├─262,144\n",
            "│    └─layer3.4.bn3.weight                                                             ├─1,024\n",
            "│    └─layer3.4.bn3.bias                                                               ├─1,024\n",
            "│    └─layer3.5.conv1.weight                                                           ├─262,144\n",
            "│    └─layer3.5.bn1.weight                                                             ├─256\n",
            "│    └─layer3.5.bn1.bias                                                               ├─256\n",
            "│    └─layer3.5.conv2.weight                                                           ├─589,824\n",
            "│    └─layer3.5.bn2.weight                                                             ├─256\n",
            "│    └─layer3.5.bn2.bias                                                               ├─256\n",
            "│    └─layer3.5.conv3.weight                                                           ├─262,144\n",
            "│    └─layer3.5.bn3.weight                                                             ├─1,024\n",
            "│    └─layer3.5.bn3.bias                                                               ├─1,024\n",
            "│    └─layer4.0.conv1.weight                                                           ├─524,288\n",
            "│    └─layer4.0.bn1.weight                                                             ├─512\n",
            "│    └─layer4.0.bn1.bias                                                               ├─512\n",
            "│    └─layer4.0.conv2.weight                                                           ├─2,359,296\n",
            "│    └─layer4.0.bn2.weight                                                             ├─512\n",
            "│    └─layer4.0.bn2.bias                                                               ├─512\n",
            "│    └─layer4.0.conv3.weight                                                           ├─1,048,576\n",
            "│    └─layer4.0.bn3.weight                                                             ├─2,048\n",
            "│    └─layer4.0.bn3.bias                                                               ├─2,048\n",
            "│    └─layer4.0.downsample.0.weight                                                    ├─2,097,152\n",
            "│    └─layer4.0.downsample.1.weight                                                    ├─2,048\n",
            "│    └─layer4.0.downsample.1.bias                                                      ├─2,048\n",
            "│    └─layer4.1.conv1.weight                                                           ├─1,048,576\n",
            "│    └─layer4.1.bn1.weight                                                             ├─512\n",
            "│    └─layer4.1.bn1.bias                                                               ├─512\n",
            "│    └─layer4.1.conv2.weight                                                           ├─2,359,296\n",
            "│    └─layer4.1.bn2.weight                                                             ├─512\n",
            "│    └─layer4.1.bn2.bias                                                               ├─512\n",
            "│    └─layer4.1.conv3.weight                                                           ├─1,048,576\n",
            "│    └─layer4.1.bn3.weight                                                             ├─2,048\n",
            "│    └─layer4.1.bn3.bias                                                               ├─2,048\n",
            "│    └─layer4.2.conv1.weight                                                           ├─1,048,576\n",
            "│    └─layer4.2.bn1.weight                                                             ├─512\n",
            "│    └─layer4.2.bn1.bias                                                               ├─512\n",
            "│    └─layer4.2.conv2.weight                                                           ├─2,359,296\n",
            "│    └─layer4.2.bn2.weight                                                             ├─512\n",
            "│    └─layer4.2.bn2.bias                                                               ├─512\n",
            "│    └─layer4.2.conv3.weight                                                           ├─1,048,576\n",
            "│    └─layer4.2.bn3.weight                                                             ├─2,048\n",
            "│    └─layer4.2.bn3.bias                                                               └─2,048\n",
            "│    └─Conv2d: 2-1                                           [32, 64, 112, 112]        (9,408)\n",
            "│    │    └─weight                                                                     └─9,408\n",
            "│    └─BatchNorm2d: 2-2                                      [32, 64, 112, 112]        (128)\n",
            "│    │    └─weight                                                                     ├─64\n",
            "│    │    └─bias                                                                       └─64\n",
            "│    └─ReLU: 2-3                                             [32, 64, 112, 112]        --\n",
            "│    └─MaxPool2d: 2-4                                        [32, 64, 56, 56]          --\n",
            "│    └─Sequential: 2-5                                       [32, 256, 56, 56]         --\n",
            "│    │    └─0.conv1.weight                                                             ├─4,096\n",
            "│    │    └─0.bn1.weight                                                               ├─64\n",
            "│    │    └─0.bn1.bias                                                                 ├─64\n",
            "│    │    └─0.conv2.weight                                                             ├─36,864\n",
            "│    │    └─0.bn2.weight                                                               ├─64\n",
            "│    │    └─0.bn2.bias                                                                 ├─64\n",
            "│    │    └─0.conv3.weight                                                             ├─16,384\n",
            "│    │    └─0.bn3.weight                                                               ├─256\n",
            "│    │    └─0.bn3.bias                                                                 ├─256\n",
            "│    │    └─0.downsample.0.weight                                                      ├─16,384\n",
            "│    │    └─0.downsample.1.weight                                                      ├─256\n",
            "│    │    └─0.downsample.1.bias                                                        ├─256\n",
            "│    │    └─1.conv1.weight                                                             ├─16,384\n",
            "│    │    └─1.bn1.weight                                                               ├─64\n",
            "│    │    └─1.bn1.bias                                                                 ├─64\n",
            "│    │    └─1.conv2.weight                                                             ├─36,864\n",
            "│    │    └─1.bn2.weight                                                               ├─64\n",
            "│    │    └─1.bn2.bias                                                                 ├─64\n",
            "│    │    └─1.conv3.weight                                                             ├─16,384\n",
            "│    │    └─1.bn3.weight                                                               ├─256\n",
            "│    │    └─1.bn3.bias                                                                 ├─256\n",
            "│    │    └─2.conv1.weight                                                             ├─16,384\n",
            "│    │    └─2.bn1.weight                                                               ├─64\n",
            "│    │    └─2.bn1.bias                                                                 ├─64\n",
            "│    │    └─2.conv2.weight                                                             ├─36,864\n",
            "│    │    └─2.bn2.weight                                                               ├─64\n",
            "│    │    └─2.bn2.bias                                                                 ├─64\n",
            "│    │    └─2.conv3.weight                                                             ├─16,384\n",
            "│    │    └─2.bn3.weight                                                               ├─256\n",
            "│    │    └─2.bn3.bias                                                                 └─256\n",
            "│    │    └─Bottleneck: 3-1                                  [32, 256, 56, 56]         (75,008)\n",
            "│    │    │    └─conv1.weight                                                          ├─4,096\n",
            "│    │    │    └─bn1.weight                                                            ├─64\n",
            "│    │    │    └─bn1.bias                                                              ├─64\n",
            "│    │    │    └─conv2.weight                                                          ├─36,864\n",
            "│    │    │    └─bn2.weight                                                            ├─64\n",
            "│    │    │    └─bn2.bias                                                              ├─64\n",
            "│    │    │    └─conv3.weight                                                          ├─16,384\n",
            "│    │    │    └─bn3.weight                                                            ├─256\n",
            "│    │    │    └─bn3.bias                                                              ├─256\n",
            "│    │    │    └─downsample.0.weight                                                   ├─16,384\n",
            "│    │    │    └─downsample.1.weight                                                   ├─256\n",
            "│    │    │    └─downsample.1.bias                                                     └─256\n",
            "│    │    └─Bottleneck: 3-2                                  [32, 256, 56, 56]         (70,400)\n",
            "│    │    │    └─conv1.weight                                                          ├─16,384\n",
            "│    │    │    └─bn1.weight                                                            ├─64\n",
            "│    │    │    └─bn1.bias                                                              ├─64\n",
            "│    │    │    └─conv2.weight                                                          ├─36,864\n",
            "│    │    │    └─bn2.weight                                                            ├─64\n",
            "│    │    │    └─bn2.bias                                                              ├─64\n",
            "│    │    │    └─conv3.weight                                                          ├─16,384\n",
            "│    │    │    └─bn3.weight                                                            ├─256\n",
            "│    │    │    └─bn3.bias                                                              └─256\n",
            "│    │    └─Bottleneck: 3-3                                  [32, 256, 56, 56]         (70,400)\n",
            "│    │    │    └─conv1.weight                                                          ├─16,384\n",
            "│    │    │    └─bn1.weight                                                            ├─64\n",
            "│    │    │    └─bn1.bias                                                              ├─64\n",
            "│    │    │    └─conv2.weight                                                          ├─36,864\n",
            "│    │    │    └─bn2.weight                                                            ├─64\n",
            "│    │    │    └─bn2.bias                                                              ├─64\n",
            "│    │    │    └─conv3.weight                                                          ├─16,384\n",
            "│    │    │    └─bn3.weight                                                            ├─256\n",
            "│    │    │    └─bn3.bias                                                              └─256\n",
            "│    └─Sequential: 2-6                                       [32, 512, 28, 28]         --\n",
            "│    │    └─0.conv1.weight                                                             ├─32,768\n",
            "│    │    └─0.bn1.weight                                                               ├─128\n",
            "│    │    └─0.bn1.bias                                                                 ├─128\n",
            "│    │    └─0.conv2.weight                                                             ├─147,456\n",
            "│    │    └─0.bn2.weight                                                               ├─128\n",
            "│    │    └─0.bn2.bias                                                                 ├─128\n",
            "│    │    └─0.conv3.weight                                                             ├─65,536\n",
            "│    │    └─0.bn3.weight                                                               ├─512\n",
            "│    │    └─0.bn3.bias                                                                 ├─512\n",
            "│    │    └─0.downsample.0.weight                                                      ├─131,072\n",
            "│    │    └─0.downsample.1.weight                                                      ├─512\n",
            "│    │    └─0.downsample.1.bias                                                        ├─512\n",
            "│    │    └─1.conv1.weight                                                             ├─65,536\n",
            "│    │    └─1.bn1.weight                                                               ├─128\n",
            "│    │    └─1.bn1.bias                                                                 ├─128\n",
            "│    │    └─1.conv2.weight                                                             ├─147,456\n",
            "│    │    └─1.bn2.weight                                                               ├─128\n",
            "│    │    └─1.bn2.bias                                                                 ├─128\n",
            "│    │    └─1.conv3.weight                                                             ├─65,536\n",
            "│    │    └─1.bn3.weight                                                               ├─512\n",
            "│    │    └─1.bn3.bias                                                                 ├─512\n",
            "│    │    └─2.conv1.weight                                                             ├─65,536\n",
            "│    │    └─2.bn1.weight                                                               ├─128\n",
            "│    │    └─2.bn1.bias                                                                 ├─128\n",
            "│    │    └─2.conv2.weight                                                             ├─147,456\n",
            "│    │    └─2.bn2.weight                                                               ├─128\n",
            "│    │    └─2.bn2.bias                                                                 ├─128\n",
            "│    │    └─2.conv3.weight                                                             ├─65,536\n",
            "│    │    └─2.bn3.weight                                                               ├─512\n",
            "│    │    └─2.bn3.bias                                                                 ├─512\n",
            "│    │    └─3.conv1.weight                                                             ├─65,536\n",
            "│    │    └─3.bn1.weight                                                               ├─128\n",
            "│    │    └─3.bn1.bias                                                                 ├─128\n",
            "│    │    └─3.conv2.weight                                                             ├─147,456\n",
            "│    │    └─3.bn2.weight                                                               ├─128\n",
            "│    │    └─3.bn2.bias                                                                 ├─128\n",
            "│    │    └─3.conv3.weight                                                             ├─65,536\n",
            "│    │    └─3.bn3.weight                                                               ├─512\n",
            "│    │    └─3.bn3.bias                                                                 └─512\n",
            "│    │    └─Bottleneck: 3-4                                  [32, 512, 28, 28]         (379,392)\n",
            "│    │    │    └─conv1.weight                                                          ├─32,768\n",
            "│    │    │    └─bn1.weight                                                            ├─128\n",
            "│    │    │    └─bn1.bias                                                              ├─128\n",
            "│    │    │    └─conv2.weight                                                          ├─147,456\n",
            "│    │    │    └─bn2.weight                                                            ├─128\n",
            "│    │    │    └─bn2.bias                                                              ├─128\n",
            "│    │    │    └─conv3.weight                                                          ├─65,536\n",
            "│    │    │    └─bn3.weight                                                            ├─512\n",
            "│    │    │    └─bn3.bias                                                              ├─512\n",
            "│    │    │    └─downsample.0.weight                                                   ├─131,072\n",
            "│    │    │    └─downsample.1.weight                                                   ├─512\n",
            "│    │    │    └─downsample.1.bias                                                     └─512\n",
            "│    │    └─Bottleneck: 3-5                                  [32, 512, 28, 28]         (280,064)\n",
            "│    │    │    └─conv1.weight                                                          ├─65,536\n",
            "│    │    │    └─bn1.weight                                                            ├─128\n",
            "│    │    │    └─bn1.bias                                                              ├─128\n",
            "│    │    │    └─conv2.weight                                                          ├─147,456\n",
            "│    │    │    └─bn2.weight                                                            ├─128\n",
            "│    │    │    └─bn2.bias                                                              ├─128\n",
            "│    │    │    └─conv3.weight                                                          ├─65,536\n",
            "│    │    │    └─bn3.weight                                                            ├─512\n",
            "│    │    │    └─bn3.bias                                                              └─512\n",
            "│    │    └─Bottleneck: 3-6                                  [32, 512, 28, 28]         (280,064)\n",
            "│    │    │    └─conv1.weight                                                          ├─65,536\n",
            "│    │    │    └─bn1.weight                                                            ├─128\n",
            "│    │    │    └─bn1.bias                                                              ├─128\n",
            "│    │    │    └─conv2.weight                                                          ├─147,456\n",
            "│    │    │    └─bn2.weight                                                            ├─128\n",
            "│    │    │    └─bn2.bias                                                              ├─128\n",
            "│    │    │    └─conv3.weight                                                          ├─65,536\n",
            "│    │    │    └─bn3.weight                                                            ├─512\n",
            "│    │    │    └─bn3.bias                                                              └─512\n",
            "│    │    └─Bottleneck: 3-7                                  [32, 512, 28, 28]         (280,064)\n",
            "│    │    │    └─conv1.weight                                                          ├─65,536\n",
            "│    │    │    └─bn1.weight                                                            ├─128\n",
            "│    │    │    └─bn1.bias                                                              ├─128\n",
            "│    │    │    └─conv2.weight                                                          ├─147,456\n",
            "│    │    │    └─bn2.weight                                                            ├─128\n",
            "│    │    │    └─bn2.bias                                                              ├─128\n",
            "│    │    │    └─conv3.weight                                                          ├─65,536\n",
            "│    │    │    └─bn3.weight                                                            ├─512\n",
            "│    │    │    └─bn3.bias                                                              └─512\n",
            "│    └─Sequential: 2-7                                       [32, 1024, 14, 14]        --\n",
            "│    │    └─0.conv1.weight                                                             ├─131,072\n",
            "│    │    └─0.bn1.weight                                                               ├─256\n",
            "│    │    └─0.bn1.bias                                                                 ├─256\n",
            "│    │    └─0.conv2.weight                                                             ├─589,824\n",
            "│    │    └─0.bn2.weight                                                               ├─256\n",
            "│    │    └─0.bn2.bias                                                                 ├─256\n",
            "│    │    └─0.conv3.weight                                                             ├─262,144\n",
            "│    │    └─0.bn3.weight                                                               ├─1,024\n",
            "│    │    └─0.bn3.bias                                                                 ├─1,024\n",
            "│    │    └─0.downsample.0.weight                                                      ├─524,288\n",
            "│    │    └─0.downsample.1.weight                                                      ├─1,024\n",
            "│    │    └─0.downsample.1.bias                                                        ├─1,024\n",
            "│    │    └─1.conv1.weight                                                             ├─262,144\n",
            "│    │    └─1.bn1.weight                                                               ├─256\n",
            "│    │    └─1.bn1.bias                                                                 ├─256\n",
            "│    │    └─1.conv2.weight                                                             ├─589,824\n",
            "│    │    └─1.bn2.weight                                                               ├─256\n",
            "│    │    └─1.bn2.bias                                                                 ├─256\n",
            "│    │    └─1.conv3.weight                                                             ├─262,144\n",
            "│    │    └─1.bn3.weight                                                               ├─1,024\n",
            "│    │    └─1.bn3.bias                                                                 ├─1,024\n",
            "│    │    └─2.conv1.weight                                                             ├─262,144\n",
            "│    │    └─2.bn1.weight                                                               ├─256\n",
            "│    │    └─2.bn1.bias                                                                 ├─256\n",
            "│    │    └─2.conv2.weight                                                             ├─589,824\n",
            "│    │    └─2.bn2.weight                                                               ├─256\n",
            "│    │    └─2.bn2.bias                                                                 ├─256\n",
            "│    │    └─2.conv3.weight                                                             ├─262,144\n",
            "│    │    └─2.bn3.weight                                                               ├─1,024\n",
            "│    │    └─2.bn3.bias                                                                 ├─1,024\n",
            "│    │    └─3.conv1.weight                                                             ├─262,144\n",
            "│    │    └─3.bn1.weight                                                               ├─256\n",
            "│    │    └─3.bn1.bias                                                                 ├─256\n",
            "│    │    └─3.conv2.weight                                                             ├─589,824\n",
            "│    │    └─3.bn2.weight                                                               ├─256\n",
            "│    │    └─3.bn2.bias                                                                 ├─256\n",
            "│    │    └─3.conv3.weight                                                             ├─262,144\n",
            "│    │    └─3.bn3.weight                                                               ├─1,024\n",
            "│    │    └─3.bn3.bias                                                                 ├─1,024\n",
            "│    │    └─4.conv1.weight                                                             ├─262,144\n",
            "│    │    └─4.bn1.weight                                                               ├─256\n",
            "│    │    └─4.bn1.bias                                                                 ├─256\n",
            "│    │    └─4.conv2.weight                                                             ├─589,824\n",
            "│    │    └─4.bn2.weight                                                               ├─256\n",
            "│    │    └─4.bn2.bias                                                                 ├─256\n",
            "│    │    └─4.conv3.weight                                                             ├─262,144\n",
            "│    │    └─4.bn3.weight                                                               ├─1,024\n",
            "│    │    └─4.bn3.bias                                                                 ├─1,024\n",
            "│    │    └─5.conv1.weight                                                             ├─262,144\n",
            "│    │    └─5.bn1.weight                                                               ├─256\n",
            "│    │    └─5.bn1.bias                                                                 ├─256\n",
            "│    │    └─5.conv2.weight                                                             ├─589,824\n",
            "│    │    └─5.bn2.weight                                                               ├─256\n",
            "│    │    └─5.bn2.bias                                                                 ├─256\n",
            "│    │    └─5.conv3.weight                                                             ├─262,144\n",
            "│    │    └─5.bn3.weight                                                               ├─1,024\n",
            "│    │    └─5.bn3.bias                                                                 └─1,024\n",
            "│    │    └─Bottleneck: 3-8                                  [32, 1024, 14, 14]        (1,512,448)\n",
            "│    │    │    └─conv1.weight                                                          ├─131,072\n",
            "│    │    │    └─bn1.weight                                                            ├─256\n",
            "│    │    │    └─bn1.bias                                                              ├─256\n",
            "│    │    │    └─conv2.weight                                                          ├─589,824\n",
            "│    │    │    └─bn2.weight                                                            ├─256\n",
            "│    │    │    └─bn2.bias                                                              ├─256\n",
            "│    │    │    └─conv3.weight                                                          ├─262,144\n",
            "│    │    │    └─bn3.weight                                                            ├─1,024\n",
            "│    │    │    └─bn3.bias                                                              ├─1,024\n",
            "│    │    │    └─downsample.0.weight                                                   ├─524,288\n",
            "│    │    │    └─downsample.1.weight                                                   ├─1,024\n",
            "│    │    │    └─downsample.1.bias                                                     └─1,024\n",
            "│    │    └─Bottleneck: 3-9                                  [32, 1024, 14, 14]        (1,117,184)\n",
            "│    │    │    └─conv1.weight                                                          ├─262,144\n",
            "│    │    │    └─bn1.weight                                                            ├─256\n",
            "│    │    │    └─bn1.bias                                                              ├─256\n",
            "│    │    │    └─conv2.weight                                                          ├─589,824\n",
            "│    │    │    └─bn2.weight                                                            ├─256\n",
            "│    │    │    └─bn2.bias                                                              ├─256\n",
            "│    │    │    └─conv3.weight                                                          ├─262,144\n",
            "│    │    │    └─bn3.weight                                                            ├─1,024\n",
            "│    │    │    └─bn3.bias                                                              └─1,024\n",
            "│    │    └─Bottleneck: 3-10                                 [32, 1024, 14, 14]        (1,117,184)\n",
            "│    │    │    └─conv1.weight                                                          ├─262,144\n",
            "│    │    │    └─bn1.weight                                                            ├─256\n",
            "│    │    │    └─bn1.bias                                                              ├─256\n",
            "│    │    │    └─conv2.weight                                                          ├─589,824\n",
            "│    │    │    └─bn2.weight                                                            ├─256\n",
            "│    │    │    └─bn2.bias                                                              ├─256\n",
            "│    │    │    └─conv3.weight                                                          ├─262,144\n",
            "│    │    │    └─bn3.weight                                                            ├─1,024\n",
            "│    │    │    └─bn3.bias                                                              └─1,024\n",
            "│    │    └─Bottleneck: 3-11                                 [32, 1024, 14, 14]        (1,117,184)\n",
            "│    │    │    └─conv1.weight                                                          ├─262,144\n",
            "│    │    │    └─bn1.weight                                                            ├─256\n",
            "│    │    │    └─bn1.bias                                                              ├─256\n",
            "│    │    │    └─conv2.weight                                                          ├─589,824\n",
            "│    │    │    └─bn2.weight                                                            ├─256\n",
            "│    │    │    └─bn2.bias                                                              ├─256\n",
            "│    │    │    └─conv3.weight                                                          ├─262,144\n",
            "│    │    │    └─bn3.weight                                                            ├─1,024\n",
            "│    │    │    └─bn3.bias                                                              └─1,024\n",
            "│    │    └─Bottleneck: 3-12                                 [32, 1024, 14, 14]        (1,117,184)\n",
            "│    │    │    └─conv1.weight                                                          ├─262,144\n",
            "│    │    │    └─bn1.weight                                                            ├─256\n",
            "│    │    │    └─bn1.bias                                                              ├─256\n",
            "│    │    │    └─conv2.weight                                                          ├─589,824\n",
            "│    │    │    └─bn2.weight                                                            ├─256\n",
            "│    │    │    └─bn2.bias                                                              ├─256\n",
            "│    │    │    └─conv3.weight                                                          ├─262,144\n",
            "│    │    │    └─bn3.weight                                                            ├─1,024\n",
            "│    │    │    └─bn3.bias                                                              └─1,024\n",
            "│    │    └─Bottleneck: 3-13                                 [32, 1024, 14, 14]        (1,117,184)\n",
            "│    │    │    └─conv1.weight                                                          ├─262,144\n",
            "│    │    │    └─bn1.weight                                                            ├─256\n",
            "│    │    │    └─bn1.bias                                                              ├─256\n",
            "│    │    │    └─conv2.weight                                                          ├─589,824\n",
            "│    │    │    └─bn2.weight                                                            ├─256\n",
            "│    │    │    └─bn2.bias                                                              ├─256\n",
            "│    │    │    └─conv3.weight                                                          ├─262,144\n",
            "│    │    │    └─bn3.weight                                                            ├─1,024\n",
            "│    │    │    └─bn3.bias                                                              └─1,024\n",
            "│    └─Sequential: 2-8                                       [32, 2048, 7, 7]          --\n",
            "│    │    └─0.conv1.weight                                                             ├─524,288\n",
            "│    │    └─0.bn1.weight                                                               ├─512\n",
            "│    │    └─0.bn1.bias                                                                 ├─512\n",
            "│    │    └─0.conv2.weight                                                             ├─2,359,296\n",
            "│    │    └─0.bn2.weight                                                               ├─512\n",
            "│    │    └─0.bn2.bias                                                                 ├─512\n",
            "│    │    └─0.conv3.weight                                                             ├─1,048,576\n",
            "│    │    └─0.bn3.weight                                                               ├─2,048\n",
            "│    │    └─0.bn3.bias                                                                 ├─2,048\n",
            "│    │    └─0.downsample.0.weight                                                      ├─2,097,152\n",
            "│    │    └─0.downsample.1.weight                                                      ├─2,048\n",
            "│    │    └─0.downsample.1.bias                                                        ├─2,048\n",
            "│    │    └─1.conv1.weight                                                             ├─1,048,576\n",
            "│    │    └─1.bn1.weight                                                               ├─512\n",
            "│    │    └─1.bn1.bias                                                                 ├─512\n",
            "│    │    └─1.conv2.weight                                                             ├─2,359,296\n",
            "│    │    └─1.bn2.weight                                                               ├─512\n",
            "│    │    └─1.bn2.bias                                                                 ├─512\n",
            "│    │    └─1.conv3.weight                                                             ├─1,048,576\n",
            "│    │    └─1.bn3.weight                                                               ├─2,048\n",
            "│    │    └─1.bn3.bias                                                                 ├─2,048\n",
            "│    │    └─2.conv1.weight                                                             ├─1,048,576\n",
            "│    │    └─2.bn1.weight                                                               ├─512\n",
            "│    │    └─2.bn1.bias                                                                 ├─512\n",
            "│    │    └─2.conv2.weight                                                             ├─2,359,296\n",
            "│    │    └─2.bn2.weight                                                               ├─512\n",
            "│    │    └─2.bn2.bias                                                                 ├─512\n",
            "│    │    └─2.conv3.weight                                                             ├─1,048,576\n",
            "│    │    └─2.bn3.weight                                                               ├─2,048\n",
            "│    │    └─2.bn3.bias                                                                 └─2,048\n",
            "│    │    └─Bottleneck: 3-14                                 [32, 2048, 7, 7]          (6,039,552)\n",
            "│    │    │    └─conv1.weight                                                          ├─524,288\n",
            "│    │    │    └─bn1.weight                                                            ├─512\n",
            "│    │    │    └─bn1.bias                                                              ├─512\n",
            "│    │    │    └─conv2.weight                                                          ├─2,359,296\n",
            "│    │    │    └─bn2.weight                                                            ├─512\n",
            "│    │    │    └─bn2.bias                                                              ├─512\n",
            "│    │    │    └─conv3.weight                                                          ├─1,048,576\n",
            "│    │    │    └─bn3.weight                                                            ├─2,048\n",
            "│    │    │    └─bn3.bias                                                              ├─2,048\n",
            "│    │    │    └─downsample.0.weight                                                   ├─2,097,152\n",
            "│    │    │    └─downsample.1.weight                                                   ├─2,048\n",
            "│    │    │    └─downsample.1.bias                                                     └─2,048\n",
            "│    │    └─Bottleneck: 3-15                                 [32, 2048, 7, 7]          (4,462,592)\n",
            "│    │    │    └─conv1.weight                                                          ├─1,048,576\n",
            "│    │    │    └─bn1.weight                                                            ├─512\n",
            "│    │    │    └─bn1.bias                                                              ├─512\n",
            "│    │    │    └─conv2.weight                                                          ├─2,359,296\n",
            "│    │    │    └─bn2.weight                                                            ├─512\n",
            "│    │    │    └─bn2.bias                                                              ├─512\n",
            "│    │    │    └─conv3.weight                                                          ├─1,048,576\n",
            "│    │    │    └─bn3.weight                                                            ├─2,048\n",
            "│    │    │    └─bn3.bias                                                              └─2,048\n",
            "│    │    └─Bottleneck: 3-16                                 [32, 2048, 7, 7]          (4,462,592)\n",
            "│    │    │    └─conv1.weight                                                          ├─1,048,576\n",
            "│    │    │    └─bn1.weight                                                            ├─512\n",
            "│    │    │    └─bn1.bias                                                              ├─512\n",
            "│    │    │    └─conv2.weight                                                          ├─2,359,296\n",
            "│    │    │    └─bn2.weight                                                            ├─512\n",
            "│    │    │    └─bn2.bias                                                              ├─512\n",
            "│    │    │    └─conv3.weight                                                          ├─1,048,576\n",
            "│    │    │    └─bn3.weight                                                            ├─2,048\n",
            "│    │    │    └─bn3.bias                                                              └─2,048\n",
            "│    └─SelectAdaptivePool2d: 2-9                             [32, 2048]                --\n",
            "│    │    └─AdaptiveAvgPool2d: 3-17                          [32, 2048, 1, 1]          --\n",
            "│    │    └─Flatten: 3-18                                    [32, 2048]                --\n",
            "│    └─Identity: 2-10                                        [32, 2048]                --\n",
            "├─ConvTranspose2d: 1-2                                       [32, 16, 16, 16]          8,208\n",
            "│    └─weight                                                                          ├─8,192\n",
            "│    └─bias                                                                            └─16\n",
            "├─ConvTranspose2d: 1-3                                       [32, 8, 32, 32]           2,056\n",
            "│    └─weight                                                                          ├─2,048\n",
            "│    └─bias                                                                            └─8\n",
            "├─ConvTranspose2d: 1-4                                       [32, 3, 128, 128]         387\n",
            "│    └─weight                                                                          ├─384\n",
            "│    └─bias                                                                            └─3\n",
            "├─LevitDistilled: 1-5                                        [32, 5]                   --\n",
            "│    └─stem.conv1.linear.weight                                                        ├─864\n",
            "│    └─stem.conv1.bn.weight                                                            ├─32\n",
            "│    └─stem.conv1.bn.bias                                                              ├─32\n",
            "│    └─stem.conv2.linear.weight                                                        ├─18,432\n",
            "│    └─stem.conv2.bn.weight                                                            ├─64\n",
            "│    └─stem.conv2.bn.bias                                                              ├─64\n",
            "│    └─stem.conv3.linear.weight                                                        ├─73,728\n",
            "│    └─stem.conv3.bn.weight                                                            ├─128\n",
            "│    └─stem.conv3.bn.bias                                                              ├─128\n",
            "│    └─stem.conv4.linear.weight                                                        ├─294,912\n",
            "│    └─stem.conv4.bn.weight                                                            ├─256\n",
            "│    └─stem.conv4.bn.bias                                                              ├─256\n",
            "│    └─stage1.blocks.0.attn.qkv.linear.weight                                          ├─196,608\n",
            "│    └─stage1.blocks.0.attn.qkv.bn.weight                                              ├─768\n",
            "│    └─stage1.blocks.0.attn.qkv.bn.bias                                                ├─768\n",
            "│    └─stage1.blocks.0.attn.proj.1.linear.weight                                       ├─65,536\n",
            "│    └─stage1.blocks.0.attn.proj.1.bn.weight                                           ├─256\n",
            "│    └─stage1.blocks.0.attn.proj.1.bn.bias                                             ├─256\n",
            "│    └─stage1.blocks.0.mlp.ln1.linear.weight                                           ├─131,072\n",
            "│    └─stage1.blocks.0.mlp.ln1.bn.weight                                               ├─512\n",
            "│    └─stage1.blocks.0.mlp.ln1.bn.bias                                                 ├─512\n",
            "│    └─stage1.blocks.0.mlp.ln2.linear.weight                                           ├─131,072\n",
            "│    └─stage1.blocks.0.mlp.ln2.bn.weight                                               ├─256\n",
            "│    └─stage1.blocks.0.mlp.ln2.bn.bias                                                 ├─256\n",
            "│    └─stage1.blocks.1.attn.qkv.linear.weight                                          ├─196,608\n",
            "│    └─stage1.blocks.1.attn.qkv.bn.weight                                              ├─768\n",
            "│    └─stage1.blocks.1.attn.qkv.bn.bias                                                ├─768\n",
            "│    └─stage1.blocks.1.attn.proj.1.linear.weight                                       ├─65,536\n",
            "│    └─stage1.blocks.1.attn.proj.1.bn.weight                                           ├─256\n",
            "│    └─stage1.blocks.1.attn.proj.1.bn.bias                                             ├─256\n",
            "│    └─stage1.blocks.1.mlp.ln1.linear.weight                                           ├─131,072\n",
            "│    └─stage1.blocks.1.mlp.ln1.bn.weight                                               ├─512\n",
            "│    └─stage1.blocks.1.mlp.ln1.bn.bias                                                 ├─512\n",
            "│    └─stage1.blocks.1.mlp.ln2.linear.weight                                           ├─131,072\n",
            "│    └─stage1.blocks.1.mlp.ln2.bn.weight                                               ├─256\n",
            "│    └─stage1.blocks.1.mlp.ln2.bn.bias                                                 ├─256\n",
            "│    └─stage2.downsample.conv.weight                                                   ├─884,736\n",
            "│    └─stage2.downsample.conv.bias                                                     ├─384\n",
            "│    └─stage2.blocks.0.attn.qkv.linear.weight                                          ├─442,368\n",
            "│    └─stage2.blocks.0.attn.qkv.bn.weight                                              ├─1,152\n",
            "│    └─stage2.blocks.0.attn.qkv.bn.bias                                                ├─1,152\n",
            "│    └─stage2.blocks.0.attn.proj.1.linear.weight                                       ├─147,456\n",
            "│    └─stage2.blocks.0.attn.proj.1.bn.weight                                           ├─384\n",
            "│    └─stage2.blocks.0.attn.proj.1.bn.bias                                             ├─384\n",
            "│    └─stage2.blocks.0.mlp.ln1.linear.weight                                           ├─294,912\n",
            "│    └─stage2.blocks.0.mlp.ln1.bn.weight                                               ├─768\n",
            "│    └─stage2.blocks.0.mlp.ln1.bn.bias                                                 ├─768\n",
            "│    └─stage2.blocks.0.mlp.ln2.linear.weight                                           ├─294,912\n",
            "│    └─stage2.blocks.0.mlp.ln2.bn.weight                                               ├─384\n",
            "│    └─stage2.blocks.0.mlp.ln2.bn.bias                                                 ├─384\n",
            "│    └─stage2.blocks.1.attn.qkv.linear.weight                                          ├─442,368\n",
            "│    └─stage2.blocks.1.attn.qkv.bn.weight                                              ├─1,152\n",
            "│    └─stage2.blocks.1.attn.qkv.bn.bias                                                ├─1,152\n",
            "│    └─stage2.blocks.1.attn.proj.1.linear.weight                                       ├─147,456\n",
            "│    └─stage2.blocks.1.attn.proj.1.bn.weight                                           ├─384\n",
            "│    └─stage2.blocks.1.attn.proj.1.bn.bias                                             ├─384\n",
            "│    └─stage2.blocks.1.mlp.ln1.linear.weight                                           ├─294,912\n",
            "│    └─stage2.blocks.1.mlp.ln1.bn.weight                                               ├─768\n",
            "│    └─stage2.blocks.1.mlp.ln1.bn.bias                                                 ├─768\n",
            "│    └─stage2.blocks.1.mlp.ln2.linear.weight                                           ├─294,912\n",
            "│    └─stage2.blocks.1.mlp.ln2.bn.weight                                               ├─384\n",
            "│    └─stage2.blocks.1.mlp.ln2.bn.bias                                                 ├─384\n",
            "│    └─conv1x1.0.weight                                                                ├─196,608\n",
            "│    └─conv1x1.0.bias                                                                  ├─512\n",
            "│    └─conv1x1.1.weight                                                                ├─512\n",
            "│    └─conv1x1.1.bias                                                                  ├─512\n",
            "│    └─head.bn.weight                                                                  ├─512\n",
            "│    └─head.bn.bias                                                                    ├─512\n",
            "│    └─head.linear.weight                                                              ├─2,560\n",
            "│    └─head.linear.bias                                                                ├─5\n",
            "│    └─head_dist.bn.weight                                                             ├─512\n",
            "│    └─head_dist.bn.bias                                                               ├─512\n",
            "│    └─head_dist.linear.weight                                                         ├─2,560\n",
            "│    └─head_dist.linear.bias                                                           └─5\n",
            "│    └─Stem16: 2-11                                          [32, 256, 8, 8]           --\n",
            "│    │    └─conv1.linear.weight                                                        ├─864\n",
            "│    │    └─conv1.bn.weight                                                            ├─32\n",
            "│    │    └─conv1.bn.bias                                                              ├─32\n",
            "│    │    └─conv2.linear.weight                                                        ├─18,432\n",
            "│    │    └─conv2.bn.weight                                                            ├─64\n",
            "│    │    └─conv2.bn.bias                                                              ├─64\n",
            "│    │    └─conv3.linear.weight                                                        ├─73,728\n",
            "│    │    └─conv3.bn.weight                                                            ├─128\n",
            "│    │    └─conv3.bn.bias                                                              ├─128\n",
            "│    │    └─conv4.linear.weight                                                        ├─294,912\n",
            "│    │    └─conv4.bn.weight                                                            ├─256\n",
            "│    │    └─conv4.bn.bias                                                              └─256\n",
            "│    │    └─ConvNorm: 3-19                                   [32, 32, 64, 64]          928\n",
            "│    │    │    └─linear.weight                                                         ├─864\n",
            "│    │    │    └─bn.weight                                                             ├─32\n",
            "│    │    │    └─bn.bias                                                               └─32\n",
            "│    │    └─Hardswish: 3-20                                  [32, 32, 64, 64]          --\n",
            "│    │    └─ConvNorm: 3-21                                   [32, 64, 32, 32]          18,560\n",
            "│    │    │    └─linear.weight                                                         ├─18,432\n",
            "│    │    │    └─bn.weight                                                             ├─64\n",
            "│    │    │    └─bn.bias                                                               └─64\n",
            "│    │    └─Hardswish: 3-22                                  [32, 64, 32, 32]          --\n",
            "│    │    └─ConvNorm: 3-23                                   [32, 128, 16, 16]         73,984\n",
            "│    │    │    └─linear.weight                                                         ├─73,728\n",
            "│    │    │    └─bn.weight                                                             ├─128\n",
            "│    │    │    └─bn.bias                                                               └─128\n",
            "│    │    └─Hardswish: 3-24                                  [32, 128, 16, 16]         --\n",
            "│    │    └─ConvNorm: 3-25                                   [32, 256, 8, 8]           295,424\n",
            "│    │    │    └─linear.weight                                                         ├─294,912\n",
            "│    │    │    └─bn.weight                                                             ├─256\n",
            "│    │    │    └─bn.bias                                                               └─256\n",
            "│    └─LevitStage: 2-12                                      [32, 64, 256]             --\n",
            "│    │    └─blocks.0.attn.qkv.linear.weight                                            ├─196,608\n",
            "│    │    └─blocks.0.attn.qkv.bn.weight                                                ├─768\n",
            "│    │    └─blocks.0.attn.qkv.bn.bias                                                  ├─768\n",
            "│    │    └─blocks.0.attn.proj.1.linear.weight                                         ├─65,536\n",
            "│    │    └─blocks.0.attn.proj.1.bn.weight                                             ├─256\n",
            "│    │    └─blocks.0.attn.proj.1.bn.bias                                               ├─256\n",
            "│    │    └─blocks.0.mlp.ln1.linear.weight                                             ├─131,072\n",
            "│    │    └─blocks.0.mlp.ln1.bn.weight                                                 ├─512\n",
            "│    │    └─blocks.0.mlp.ln1.bn.bias                                                   ├─512\n",
            "│    │    └─blocks.0.mlp.ln2.linear.weight                                             ├─131,072\n",
            "│    │    └─blocks.0.mlp.ln2.bn.weight                                                 ├─256\n",
            "│    │    └─blocks.0.mlp.ln2.bn.bias                                                   ├─256\n",
            "│    │    └─blocks.1.attn.qkv.linear.weight                                            ├─196,608\n",
            "│    │    └─blocks.1.attn.qkv.bn.weight                                                ├─768\n",
            "│    │    └─blocks.1.attn.qkv.bn.bias                                                  ├─768\n",
            "│    │    └─blocks.1.attn.proj.1.linear.weight                                         ├─65,536\n",
            "│    │    └─blocks.1.attn.proj.1.bn.weight                                             ├─256\n",
            "│    │    └─blocks.1.attn.proj.1.bn.bias                                               ├─256\n",
            "│    │    └─blocks.1.mlp.ln1.linear.weight                                             ├─131,072\n",
            "│    │    └─blocks.1.mlp.ln1.bn.weight                                                 ├─512\n",
            "│    │    └─blocks.1.mlp.ln1.bn.bias                                                   ├─512\n",
            "│    │    └─blocks.1.mlp.ln2.linear.weight                                             ├─131,072\n",
            "│    │    └─blocks.1.mlp.ln2.bn.weight                                                 ├─256\n",
            "│    │    └─blocks.1.mlp.ln2.bn.bias                                                   └─256\n",
            "│    │    └─Identity: 3-26                                   [32, 64, 256]             --\n",
            "│    │    └─Sequential: 3-27                                 [32, 64, 256]             1,055,744\n",
            "│    │    │    └─0.attn.qkv.linear.weight                                              ├─196,608\n",
            "│    │    │    └─0.attn.qkv.bn.weight                                                  ├─768\n",
            "│    │    │    └─0.attn.qkv.bn.bias                                                    ├─768\n",
            "│    │    │    └─0.attn.proj.1.linear.weight                                           ├─65,536\n",
            "│    │    │    └─0.attn.proj.1.bn.weight                                               ├─256\n",
            "│    │    │    └─0.attn.proj.1.bn.bias                                                 ├─256\n",
            "│    │    │    └─0.mlp.ln1.linear.weight                                               ├─131,072\n",
            "│    │    │    └─0.mlp.ln1.bn.weight                                                   ├─512\n",
            "│    │    │    └─0.mlp.ln1.bn.bias                                                     ├─512\n",
            "│    │    │    └─0.mlp.ln2.linear.weight                                               ├─131,072\n",
            "│    │    │    └─0.mlp.ln2.bn.weight                                                   ├─256\n",
            "│    │    │    └─0.mlp.ln2.bn.bias                                                     ├─256\n",
            "│    │    │    └─1.attn.qkv.linear.weight                                              ├─196,608\n",
            "│    │    │    └─1.attn.qkv.bn.weight                                                  ├─768\n",
            "│    │    │    └─1.attn.qkv.bn.bias                                                    ├─768\n",
            "│    │    │    └─1.attn.proj.1.linear.weight                                           ├─65,536\n",
            "│    │    │    └─1.attn.proj.1.bn.weight                                               ├─256\n",
            "│    │    │    └─1.attn.proj.1.bn.bias                                                 ├─256\n",
            "│    │    │    └─1.mlp.ln1.linear.weight                                               ├─131,072\n",
            "│    │    │    └─1.mlp.ln1.bn.weight                                                   ├─512\n",
            "│    │    │    └─1.mlp.ln1.bn.bias                                                     ├─512\n",
            "│    │    │    └─1.mlp.ln2.linear.weight                                               ├─131,072\n",
            "│    │    │    └─1.mlp.ln2.bn.weight                                                   ├─256\n",
            "│    │    │    └─1.mlp.ln2.bn.bias                                                     └─256\n",
            "│    └─LevitStage: 2-13                                      [32, 16, 384]             --\n",
            "│    │    └─downsample.conv.weight                                                     ├─884,736\n",
            "│    │    └─downsample.conv.bias                                                       ├─384\n",
            "│    │    └─blocks.0.attn.qkv.linear.weight                                            ├─442,368\n",
            "│    │    └─blocks.0.attn.qkv.bn.weight                                                ├─1,152\n",
            "│    │    └─blocks.0.attn.qkv.bn.bias                                                  ├─1,152\n",
            "│    │    └─blocks.0.attn.proj.1.linear.weight                                         ├─147,456\n",
            "│    │    └─blocks.0.attn.proj.1.bn.weight                                             ├─384\n",
            "│    │    └─blocks.0.attn.proj.1.bn.bias                                               ├─384\n",
            "│    │    └─blocks.0.mlp.ln1.linear.weight                                             ├─294,912\n",
            "│    │    └─blocks.0.mlp.ln1.bn.weight                                                 ├─768\n",
            "│    │    └─blocks.0.mlp.ln1.bn.bias                                                   ├─768\n",
            "│    │    └─blocks.0.mlp.ln2.linear.weight                                             ├─294,912\n",
            "│    │    └─blocks.0.mlp.ln2.bn.weight                                                 ├─384\n",
            "│    │    └─blocks.0.mlp.ln2.bn.bias                                                   ├─384\n",
            "│    │    └─blocks.1.attn.qkv.linear.weight                                            ├─442,368\n",
            "│    │    └─blocks.1.attn.qkv.bn.weight                                                ├─1,152\n",
            "│    │    └─blocks.1.attn.qkv.bn.bias                                                  ├─1,152\n",
            "│    │    └─blocks.1.attn.proj.1.linear.weight                                         ├─147,456\n",
            "│    │    └─blocks.1.attn.proj.1.bn.weight                                             ├─384\n",
            "│    │    └─blocks.1.attn.proj.1.bn.bias                                               ├─384\n",
            "│    │    └─blocks.1.mlp.ln1.linear.weight                                             ├─294,912\n",
            "│    │    └─blocks.1.mlp.ln1.bn.weight                                                 ├─768\n",
            "│    │    └─blocks.1.mlp.ln1.bn.bias                                                   ├─768\n",
            "│    │    └─blocks.1.mlp.ln2.linear.weight                                             ├─294,912\n",
            "│    │    └─blocks.1.mlp.ln2.bn.weight                                                 ├─384\n",
            "│    │    └─blocks.1.mlp.ln2.bn.bias                                                   └─384\n",
            "│    │    └─CNNDownsample: 3-28                              [32, 16, 384]             885,120\n",
            "│    │    │    └─conv.weight                                                           ├─884,736\n",
            "│    │    │    └─conv.bias                                                             └─384\n",
            "│    │    └─Sequential: 3-29                                 [32, 16, 384]             2,370,048\n",
            "│    │    │    └─0.attn.qkv.linear.weight                                              ├─442,368\n",
            "│    │    │    └─0.attn.qkv.bn.weight                                                  ├─1,152\n",
            "│    │    │    └─0.attn.qkv.bn.bias                                                    ├─1,152\n",
            "│    │    │    └─0.attn.proj.1.linear.weight                                           ├─147,456\n",
            "│    │    │    └─0.attn.proj.1.bn.weight                                               ├─384\n",
            "│    │    │    └─0.attn.proj.1.bn.bias                                                 ├─384\n",
            "│    │    │    └─0.mlp.ln1.linear.weight                                               ├─294,912\n",
            "│    │    │    └─0.mlp.ln1.bn.weight                                                   ├─768\n",
            "│    │    │    └─0.mlp.ln1.bn.bias                                                     ├─768\n",
            "│    │    │    └─0.mlp.ln2.linear.weight                                               ├─294,912\n",
            "│    │    │    └─0.mlp.ln2.bn.weight                                                   ├─384\n",
            "│    │    │    └─0.mlp.ln2.bn.bias                                                     ├─384\n",
            "│    │    │    └─1.attn.qkv.linear.weight                                              ├─442,368\n",
            "│    │    │    └─1.attn.qkv.bn.weight                                                  ├─1,152\n",
            "│    │    │    └─1.attn.qkv.bn.bias                                                    ├─1,152\n",
            "│    │    │    └─1.attn.proj.1.linear.weight                                           ├─147,456\n",
            "│    │    │    └─1.attn.proj.1.bn.weight                                               ├─384\n",
            "│    │    │    └─1.attn.proj.1.bn.bias                                                 ├─384\n",
            "│    │    │    └─1.mlp.ln1.linear.weight                                               ├─294,912\n",
            "│    │    │    └─1.mlp.ln1.bn.weight                                                   ├─768\n",
            "│    │    │    └─1.mlp.ln1.bn.bias                                                     ├─768\n",
            "│    │    │    └─1.mlp.ln2.linear.weight                                               ├─294,912\n",
            "│    │    │    └─1.mlp.ln2.bn.weight                                                   ├─384\n",
            "│    │    │    └─1.mlp.ln2.bn.bias                                                     └─384\n",
            "│    └─Sequential: 2-14                                      [32, 512, 4, 4]           --\n",
            "│    │    └─0.weight                                                                   ├─196,608\n",
            "│    │    └─0.bias                                                                     ├─512\n",
            "│    │    └─1.weight                                                                   ├─512\n",
            "│    │    └─1.bias                                                                     └─512\n",
            "│    │    └─Conv2d: 3-30                                     [32, 512, 4, 4]           197,120\n",
            "│    │    │    └─weight                                                                ├─196,608\n",
            "│    │    │    └─bias                                                                  └─512\n",
            "│    │    └─BatchNorm2d: 3-31                                [32, 512, 4, 4]           1,024\n",
            "│    │    │    └─weight                                                                ├─512\n",
            "│    │    │    └─bias                                                                  └─512\n",
            "│    │    └─ReLU: 3-32                                       [32, 512, 4, 4]           --\n",
            "│    └─NormLinear: 2-15                                      [32, 5]                   --\n",
            "│    │    └─bn.weight                                                                  ├─512\n",
            "│    │    └─bn.bias                                                                    ├─512\n",
            "│    │    └─linear.weight                                                              ├─2,560\n",
            "│    │    └─linear.bias                                                                └─5\n",
            "│    │    └─BatchNorm1d: 3-33                                [32, 512]                 1,024\n",
            "│    │    │    └─weight                                                                ├─512\n",
            "│    │    │    └─bias                                                                  └─512\n",
            "│    │    └─Dropout: 3-34                                    [32, 512]                 --\n",
            "│    │    └─Linear: 3-35                                     [32, 5]                   2,565\n",
            "│    │    │    └─weight                                                                ├─2,560\n",
            "│    │    │    └─bias                                                                  └─5\n",
            "│    └─NormLinear: 2-16                                      [32, 5]                   --\n",
            "│    │    └─bn.weight                                                                  ├─512\n",
            "│    │    └─bn.bias                                                                    ├─512\n",
            "│    │    └─linear.weight                                                              ├─2,560\n",
            "│    │    └─linear.bias                                                                └─5\n",
            "│    │    └─BatchNorm1d: 3-36                                [32, 512]                 1,024\n",
            "│    │    │    └─weight                                                                ├─512\n",
            "│    │    │    └─bias                                                                  └─512\n",
            "│    │    └─Dropout: 3-37                                    [32, 512]                 --\n",
            "│    │    └─Linear: 3-38                                     [32, 5]                   2,565\n",
            "│    │    │    └─weight                                                                ├─2,560\n",
            "│    │    │    └─bias                                                                  └─5\n",
            "==============================================================================================================\n",
            "Total params: 28,423,813\n",
            "Trainable params: 4,915,781\n",
            "Non-trainable params: 23,508,032\n",
            "Total mult-adds (Units.GIGABYTES): 136.98\n",
            "==============================================================================================================\n",
            "Input size (MB): 19.27\n",
            "Forward/backward pass size (MB): 5999.43\n",
            "Params size (MB): 113.70\n",
            "Estimated Total Size (MB): 6132.39\n",
            "==============================================================================================================\n"
          ]
        }
      ]
    },
    {
      "cell_type": "code",
      "source": [
        "data_dir = \"./data/aptos2019\"\n",
        "train_csv = os.path.join(data_dir, \"train.csv\")\n",
        "df = pd.read_csv(train_csv)\n",
        "\n",
        "#클래스 균형 맞추기\n",
        "# def balance_classes(df):\n",
        "#     max_count = df['diagnosis'].value_counts().max()\n",
        "#     balanced_df = pd.DataFrame()\n",
        "#     for class_label, group in df.groupby('diagnosis'):\n",
        "#         balanced_group = resample(group, replace=True, n_samples=max_count, random_state=42)\n",
        "#         balanced_df = pd.concat([balanced_df, balanced_group])\n",
        "#     return balanced_df\n",
        "\n",
        "# balanced_df = balance_classes(df)\n",
        "\n",
        "\n",
        "def split_dataset(df, train_ratio=0.7, val_ratio=0.15, test_ratio=0.15):\n",
        "\n",
        "    train_df, temp_df = train_test_split(\n",
        "        df,\n",
        "        test_size=(1 - train_ratio),\n",
        "        stratify=df['diagnosis'],\n",
        "        random_state=42\n",
        "    )\n",
        "    val_df, test_df = train_test_split(\n",
        "        temp_df,\n",
        "        test_size=(test_ratio / (val_ratio + test_ratio)),\n",
        "        stratify=temp_df['diagnosis'],\n",
        "        random_state=42\n",
        "    )\n",
        "    return train_df, val_df, test_df\n",
        "\n",
        "train_df, val_df, test_df = split_dataset(df)\n",
        "\n",
        "# 분할된 데이터 저장\n",
        "train_df.to_csv(os.path.join(data_dir, \"train_balanced.csv\"), index=False)\n",
        "val_df.to_csv(os.path.join(data_dir, \"val_balanced.csv\"), index=False)\n",
        "test_df.to_csv(os.path.join(data_dir, \"test_balanced.csv\"), index=False)\n",
        "\n",
        "# 클래스별 분포 출력\n",
        "print(\"Balanced Train 세트 클래스 분포:\")\n",
        "print(train_df['diagnosis'].value_counts().sort_index())\n",
        "\n",
        "print(\"\\nBalanced Validation 세트 클래스 분포:\")\n",
        "print(val_df['diagnosis'].value_counts().sort_index())\n",
        "\n",
        "print(\"\\nBalanced Test 세트 클래스 분포:\")\n",
        "print(test_df['diagnosis'].value_counts().sort_index())"
      ],
      "metadata": {
        "colab": {
          "base_uri": "https://localhost:8080/"
        },
        "id": "H2SAVdYbUghi",
        "outputId": "babbb8a8-42fc-411b-a7c2-c76ee83f1b34"
      },
      "execution_count": 22,
      "outputs": [
        {
          "output_type": "stream",
          "name": "stdout",
          "text": [
            "Balanced Train 세트 클래스 분포:\n",
            "diagnosis\n",
            "0    1263\n",
            "1     259\n",
            "2     699\n",
            "3     135\n",
            "4     207\n",
            "Name: count, dtype: int64\n",
            "\n",
            "Balanced Validation 세트 클래스 분포:\n",
            "diagnosis\n",
            "0    271\n",
            "1     55\n",
            "2    150\n",
            "3     29\n",
            "4     44\n",
            "Name: count, dtype: int64\n",
            "\n",
            "Balanced Test 세트 클래스 분포:\n",
            "diagnosis\n",
            "0    271\n",
            "1     56\n",
            "2    150\n",
            "3     29\n",
            "4     44\n",
            "Name: count, dtype: int64\n"
          ]
        }
      ]
    },
    {
      "cell_type": "code",
      "source": [
        "transform = transforms.Compose([\n",
        "    transforms.Resize((224, 224)),\n",
        "    transforms.ToTensor(),\n",
        "    transforms.Normalize(mean=[0.485, 0.456, 0.406], std=[0.229, 0.224, 0.225]),\n",
        "])"
      ],
      "metadata": {
        "id": "vaAScD-CzTxr"
      },
      "execution_count": 23,
      "outputs": []
    },
    {
      "cell_type": "code",
      "source": [
        "train_dataset = APTOSDataset(train_df, train_images_dir, transform=transform)\n",
        "val_dataset = APTOSDataset(val_df, train_images_dir, transform=transform)\n",
        "test_dataset = APTOSDataset(test_df, train_images_dir, transform=transform)"
      ],
      "metadata": {
        "id": "5rStaLoOLtrg"
      },
      "execution_count": 24,
      "outputs": []
    },
    {
      "cell_type": "code",
      "source": [
        "train_loader = DataLoader(train_dataset, batch_size=32, shuffle=True, num_workers=4)\n",
        "val_loader = DataLoader(val_dataset, batch_size=32, shuffle=False, num_workers=4)\n",
        "test_loader = DataLoader(test_dataset, batch_size=32, shuffle=False, num_workers=4)\n",
        "\n",
        "print(f\"Train set size: {len(train_dataset)}\")\n",
        "print(f\"Validation set size: {len(val_dataset)}\")\n",
        "print(f\"Test set size: {len(test_dataset)}\")"
      ],
      "metadata": {
        "colab": {
          "base_uri": "https://localhost:8080/"
        },
        "id": "8inM-bBnztEN",
        "outputId": "5eb09c4f-b737-4151-9274-83feb763ae7a"
      },
      "execution_count": 25,
      "outputs": [
        {
          "output_type": "stream",
          "name": "stdout",
          "text": [
            "Train set size: 2563\n",
            "Validation set size: 549\n",
            "Test set size: 550\n"
          ]
        }
      ]
    },
    {
      "cell_type": "code",
      "source": [
        "def show_images(dataset, num_images=5):\n",
        "    import matplotlib.pyplot as plt\n",
        "\n",
        "    fig, axes = plt.subplots(1, num_images, figsize=(15, 5))\n",
        "    for i in range(num_images):\n",
        "        image, label = dataset[i]\n",
        "        image = image.permute(1, 2, 0).numpy()\n",
        "        axes[i].imshow(image)\n",
        "        axes[i].set_title(f\"Label: {label}\")\n",
        "        axes[i].axis(\"off\")\n",
        "    plt.show()"
      ],
      "metadata": {
        "id": "f-pQYXLQOEBC"
      },
      "execution_count": 26,
      "outputs": []
    },
    {
      "cell_type": "code",
      "source": [
        "show_images(train_dataset, num_images=5)"
      ],
      "metadata": {
        "colab": {
          "base_uri": "https://localhost:8080/",
          "height": 351
        },
        "id": "eImjGeBXUxCg",
        "outputId": "eb390c3a-5a74-472c-a0ad-3b86ac06a38d"
      },
      "execution_count": 27,
      "outputs": [
        {
          "output_type": "stream",
          "name": "stderr",
          "text": [
            "WARNING:matplotlib.image:Clipping input data to the valid range for imshow with RGB data ([0..1] for floats or [0..255] for integers). Got range [-1.9637812..2.2317834].\n",
            "WARNING:matplotlib.image:Clipping input data to the valid range for imshow with RGB data ([0..1] for floats or [0..255] for integers). Got range [-2.117904..2.3410363].\n",
            "WARNING:matplotlib.image:Clipping input data to the valid range for imshow with RGB data ([0..1] for floats or [0..255] for integers). Got range [-2.0494049..1.8892884].\n",
            "WARNING:matplotlib.image:Clipping input data to the valid range for imshow with RGB data ([0..1] for floats or [0..255] for integers). Got range [-2.0494049..2.622571].\n",
            "WARNING:matplotlib.image:Clipping input data to the valid range for imshow with RGB data ([0..1] for floats or [0..255] for integers). Got range [-2.1007793..2.2489083].\n"
          ]
        },
        {
          "output_type": "display_data",
          "data": {
            "text/plain": [
              "<Figure size 1500x500 with 5 Axes>"
            ],
            "image/png": "[encoded data removed]"
          },
          "metadata": {}
        }
      ]
    },
    {
      "cell_type": "code",
      "source": [
        "criterion = nn.CrossEntropyLoss()\n",
        "optimizer = optim.Adam(model.parameters(), lr=learning_rate)"
      ],
      "metadata": {
        "id": "6a-XyqaXzurh"
      },
      "execution_count": 28,
      "outputs": []
    },
    {
      "cell_type": "code",
      "source": [
        "train_loss = []\n",
        "val_loss = []\n",
        "train_acc = []\n",
        "val_acc = []"
      ],
      "metadata": {
        "id": "pqG2HBmVeamd"
      },
      "execution_count": 29,
      "outputs": []
    },
    {
      "cell_type": "code",
      "source": [
        "def train(model, train_loader, criterion, optimizer, device):\n",
        "    model.train()\n",
        "    running_loss = 0.0\n",
        "    correct = 0\n",
        "    total = 0\n",
        "    for inputs, labels in tqdm(train_loader, desc=\"Training\"):\n",
        "        inputs, labels = inputs.to(device), labels.to(device)\n",
        "\n",
        "        optimizer.zero_grad()\n",
        "        outputs = model(inputs)\n",
        "        loss = criterion(outputs, labels)\n",
        "        loss.backward()\n",
        "        optimizer.step()\n",
        "\n",
        "        running_loss += loss.item()\n",
        "        _, predicted = torch.max(outputs, 1)\n",
        "        total += labels.size(0)\n",
        "        correct += (predicted == labels).sum().item()\n",
        "\n",
        "    epoch_loss = running_loss / len(train_loader)\n",
        "    accuracy = 100 * correct / total\n",
        "    train_loss.append(epoch_loss)\n",
        "    train_acc.append(accuracy)\n",
        "    print(f\"Train Loss: {epoch_loss:.4f}, Train Accuracy: {accuracy:.2f}%\")"
      ],
      "metadata": {
        "id": "Yf0ZPGLtz_gB"
      },
      "execution_count": 30,
      "outputs": []
    },
    {
      "cell_type": "code",
      "source": [
        "def evaluate(model, data_loader, criterion, device, phase=\"Validation\"):\n",
        "    model.eval()\n",
        "    running_loss = 0.0\n",
        "    correct = 0\n",
        "    total = 0\n",
        "    with torch.no_grad():\n",
        "        for inputs, labels in tqdm(data_loader, desc=f\"{phase}\"):\n",
        "            inputs, labels = inputs.to(device), labels.to(device)\n",
        "            outputs = model(inputs)\n",
        "            loss = criterion(outputs, labels)\n",
        "\n",
        "            running_loss += loss.item()\n",
        "            _, predicted = torch.max(outputs, 1)\n",
        "            total += labels.size(0)\n",
        "            correct += (predicted == labels).sum().item()\n",
        "\n",
        "    epoch_loss = running_loss / len(data_loader)\n",
        "    accuracy = 100 * correct / total\n",
        "    if phase == \"Validation\":\n",
        "        val_loss.append(epoch_loss)\n",
        "        val_acc.append(accuracy)\n",
        "    print(f\"{phase} Loss: {epoch_loss:.4f}, {phase} Accuracy: {accuracy:.2f}%\")"
      ],
      "metadata": {
        "id": "rbdjXJ520Btp"
      },
      "execution_count": 31,
      "outputs": []
    },
    {
      "cell_type": "code",
      "source": [
        "def measure_inference_time(model, data_loader, device):\n",
        "    model.eval()\n",
        "    times = []\n",
        "\n",
        "    with torch.no_grad():\n",
        "        for inputs, _ in data_loader:\n",
        "            inputs = inputs.to(device)\n",
        "            start_time = torch.cuda.Event(enable_timing=True)\n",
        "            end_time = torch.cuda.Event(enable_timing=True)\n",
        "\n",
        "            start_time.record()\n",
        "            _ = model(inputs)  # inference 수행\n",
        "            end_time.record()\n",
        "\n",
        "            # 시간 측정\n",
        "            torch.cuda.synchronize()  # CUDA에서 모든 커널이 완료될 때까지 대기\n",
        "            elapsed_time = start_time.elapsed_time(end_time)  # 밀리초 단위로 반환\n",
        "            times.append(elapsed_time)\n",
        "\n",
        "    # 통계량 계산\n",
        "    times_np = np.array(times)\n",
        "    total_inferences = len(times_np)\n",
        "    avg_time = np.mean(times_np)\n",
        "    std_dev = np.std(times_np)\n",
        "    max_time = np.max(times_np)\n",
        "    min_time = np.min(times_np)\n",
        "\n",
        "    # 결과 출력\n",
        "    print(f\"Inference Time Measurement Results:\")\n",
        "    print(f\"Total Inferences: {total_inferences}\")\n",
        "    print(f\"Average Time: {avg_time:.2f} ms\")\n",
        "    print(f\"Standard Deviation: {std_dev:.2f} ms\")\n",
        "    print(f\"Maximum Time: {max_time:.2f} ms\")\n",
        "    print(f\"Minimum Time: {min_time:.2f} ms\")\n",
        "\n",
        "    return times"
      ],
      "metadata": {
        "id": "GfBjePI-0DkY"
      },
      "execution_count": 32,
      "outputs": []
    },
    {
      "cell_type": "code",
      "source": [
        "for epoch in range(num_epochs):\n",
        "    print(f\"\\nEpoch {epoch+1}/{num_epochs}\")\n",
        "    train(model, train_loader, criterion, optimizer, device)\n",
        "    evaluate(model, val_loader, criterion, device, phase=\"Validation\")"
      ],
      "metadata": {
        "colab": {
          "base_uri": "https://localhost:8080/"
        },
        "id": "VXsiOTOO0GGK",
        "outputId": "1495098d-2d35-4f41-f87f-305c2892b23f"
      },
      "execution_count": 33,
      "outputs": [
        {
          "output_type": "stream",
          "name": "stdout",
          "text": [
            "\n",
            "Epoch 1/50\n"
          ]
        },
        {
          "output_type": "stream",
          "name": "stderr",
          "text": [
            "Training: 100%|██████████| 81/81 [01:23<00:00,  1.03s/it]\n"
          ]
        },
        {
          "output_type": "stream",
          "name": "stdout",
          "text": [
            "Train Loss: 1.2619, Train Accuracy: 54.74%\n"
          ]
        },
        {
          "output_type": "stream",
          "name": "stderr",
          "text": [
            "Validation: 100%|██████████| 18/18 [00:19<00:00,  1.07s/it]\n"
          ]
        },
        {
          "output_type": "stream",
          "name": "stdout",
          "text": [
            "Validation Loss: 4.3592, Validation Accuracy: 27.50%\n",
            "\n",
            "Epoch 2/50\n"
          ]
        },
        {
          "output_type": "stream",
          "name": "stderr",
          "text": [
            "Training: 100%|██████████| 81/81 [01:22<00:00,  1.02s/it]\n"
          ]
        },
        {
          "output_type": "stream",
          "name": "stdout",
          "text": [
            "Train Loss: 0.9315, Train Accuracy: 67.26%\n"
          ]
        },
        {
          "output_type": "stream",
          "name": "stderr",
          "text": [
            "Validation: 100%|██████████| 18/18 [00:19<00:00,  1.09s/it]\n"
          ]
        },
        {
          "output_type": "stream",
          "name": "stdout",
          "text": [
            "Validation Loss: 0.8767, Validation Accuracy: 69.95%\n",
            "\n",
            "Epoch 3/50\n"
          ]
        },
        {
          "output_type": "stream",
          "name": "stderr",
          "text": [
            "Training: 100%|██████████| 81/81 [01:22<00:00,  1.02s/it]\n"
          ]
        },
        {
          "output_type": "stream",
          "name": "stdout",
          "text": [
            "Train Loss: 0.9171, Train Accuracy: 68.16%\n"
          ]
        },
        {
          "output_type": "stream",
          "name": "stderr",
          "text": [
            "Validation: 100%|██████████| 18/18 [00:19<00:00,  1.09s/it]\n"
          ]
        },
        {
          "output_type": "stream",
          "name": "stdout",
          "text": [
            "Validation Loss: 0.8720, Validation Accuracy: 69.58%\n",
            "\n",
            "Epoch 4/50\n"
          ]
        },
        {
          "output_type": "stream",
          "name": "stderr",
          "text": [
            "Training: 100%|██████████| 81/81 [01:22<00:00,  1.02s/it]\n"
          ]
        },
        {
          "output_type": "stream",
          "name": "stdout",
          "text": [
            "Train Loss: 0.7939, Train Accuracy: 70.43%\n"
          ]
        },
        {
          "output_type": "stream",
          "name": "stderr",
          "text": [
            "Validation: 100%|██████████| 18/18 [00:19<00:00,  1.08s/it]\n"
          ]
        },
        {
          "output_type": "stream",
          "name": "stdout",
          "text": [
            "Validation Loss: 0.7580, Validation Accuracy: 72.50%\n",
            "\n",
            "Epoch 5/50\n"
          ]
        },
        {
          "output_type": "stream",
          "name": "stderr",
          "text": [
            "Training: 100%|██████████| 81/81 [01:25<00:00,  1.05s/it]\n"
          ]
        },
        {
          "output_type": "stream",
          "name": "stdout",
          "text": [
            "Train Loss: 0.7437, Train Accuracy: 72.18%\n"
          ]
        },
        {
          "output_type": "stream",
          "name": "stderr",
          "text": [
            "Validation: 100%|██████████| 18/18 [00:19<00:00,  1.08s/it]\n"
          ]
        },
        {
          "output_type": "stream",
          "name": "stdout",
          "text": [
            "Validation Loss: 0.8318, Validation Accuracy: 68.12%\n",
            "\n",
            "Epoch 6/50\n"
          ]
        },
        {
          "output_type": "stream",
          "name": "stderr",
          "text": [
            "Training: 100%|██████████| 81/81 [01:22<00:00,  1.01s/it]\n"
          ]
        },
        {
          "output_type": "stream",
          "name": "stdout",
          "text": [
            "Train Loss: 0.7569, Train Accuracy: 71.13%\n"
          ]
        },
        {
          "output_type": "stream",
          "name": "stderr",
          "text": [
            "Validation: 100%|██████████| 18/18 [00:19<00:00,  1.09s/it]\n"
          ]
        },
        {
          "output_type": "stream",
          "name": "stdout",
          "text": [
            "Validation Loss: 0.7246, Validation Accuracy: 74.50%\n",
            "\n",
            "Epoch 7/50\n"
          ]
        },
        {
          "output_type": "stream",
          "name": "stderr",
          "text": [
            "Training: 100%|██████████| 81/81 [01:22<00:00,  1.02s/it]\n"
          ]
        },
        {
          "output_type": "stream",
          "name": "stdout",
          "text": [
            "Train Loss: 0.7751, Train Accuracy: 71.75%\n"
          ]
        },
        {
          "output_type": "stream",
          "name": "stderr",
          "text": [
            "Validation: 100%|██████████| 18/18 [00:19<00:00,  1.09s/it]\n"
          ]
        },
        {
          "output_type": "stream",
          "name": "stdout",
          "text": [
            "Validation Loss: 0.7264, Validation Accuracy: 72.50%\n",
            "\n",
            "Epoch 8/50\n"
          ]
        },
        {
          "output_type": "stream",
          "name": "stderr",
          "text": [
            "Training: 100%|██████████| 81/81 [01:22<00:00,  1.02s/it]\n"
          ]
        },
        {
          "output_type": "stream",
          "name": "stdout",
          "text": [
            "Train Loss: 0.6975, Train Accuracy: 73.55%\n"
          ]
        },
        {
          "output_type": "stream",
          "name": "stderr",
          "text": [
            "Validation: 100%|██████████| 18/18 [00:19<00:00,  1.08s/it]\n"
          ]
        },
        {
          "output_type": "stream",
          "name": "stdout",
          "text": [
            "Validation Loss: 0.8640, Validation Accuracy: 67.40%\n",
            "\n",
            "Epoch 9/50\n"
          ]
        },
        {
          "output_type": "stream",
          "name": "stderr",
          "text": [
            "Training: 100%|██████████| 81/81 [01:22<00:00,  1.02s/it]\n"
          ]
        },
        {
          "output_type": "stream",
          "name": "stdout",
          "text": [
            "Train Loss: 0.7126, Train Accuracy: 74.76%\n"
          ]
        },
        {
          "output_type": "stream",
          "name": "stderr",
          "text": [
            "Validation: 100%|██████████| 18/18 [00:19<00:00,  1.08s/it]\n"
          ]
        },
        {
          "output_type": "stream",
          "name": "stdout",
          "text": [
            "Validation Loss: 0.7410, Validation Accuracy: 71.58%\n",
            "\n",
            "Epoch 10/50\n"
          ]
        },
        {
          "output_type": "stream",
          "name": "stderr",
          "text": [
            "Training: 100%|██████████| 81/81 [01:23<00:00,  1.03s/it]\n"
          ]
        },
        {
          "output_type": "stream",
          "name": "stdout",
          "text": [
            "Train Loss: 0.6994, Train Accuracy: 73.43%\n"
          ]
        },
        {
          "output_type": "stream",
          "name": "stderr",
          "text": [
            "Validation: 100%|██████████| 18/18 [00:19<00:00,  1.08s/it]\n"
          ]
        },
        {
          "output_type": "stream",
          "name": "stdout",
          "text": [
            "Validation Loss: 0.7830, Validation Accuracy: 71.95%\n",
            "\n",
            "Epoch 11/50\n"
          ]
        },
        {
          "output_type": "stream",
          "name": "stderr",
          "text": [
            "Training: 100%|██████████| 81/81 [01:22<00:00,  1.02s/it]\n"
          ]
        },
        {
          "output_type": "stream",
          "name": "stdout",
          "text": [
            "Train Loss: 0.6712, Train Accuracy: 75.22%\n"
          ]
        },
        {
          "output_type": "stream",
          "name": "stderr",
          "text": [
            "Validation: 100%|██████████| 18/18 [00:19<00:00,  1.10s/it]\n"
          ]
        },
        {
          "output_type": "stream",
          "name": "stdout",
          "text": [
            "Validation Loss: 0.7301, Validation Accuracy: 72.68%\n",
            "\n",
            "Epoch 12/50\n"
          ]
        },
        {
          "output_type": "stream",
          "name": "stderr",
          "text": [
            "Training: 100%|██████████| 81/81 [01:23<00:00,  1.03s/it]\n"
          ]
        },
        {
          "output_type": "stream",
          "name": "stdout",
          "text": [
            "Train Loss: 0.6661, Train Accuracy: 75.61%\n"
          ]
        },
        {
          "output_type": "stream",
          "name": "stderr",
          "text": [
            "Validation: 100%|██████████| 18/18 [00:19<00:00,  1.08s/it]\n"
          ]
        },
        {
          "output_type": "stream",
          "name": "stdout",
          "text": [
            "Validation Loss: 0.7762, Validation Accuracy: 71.77%\n",
            "\n",
            "Epoch 13/50\n"
          ]
        },
        {
          "output_type": "stream",
          "name": "stderr",
          "text": [
            "Training: 100%|██████████| 81/81 [01:24<00:00,  1.04s/it]\n"
          ]
        },
        {
          "output_type": "stream",
          "name": "stdout",
          "text": [
            "Train Loss: 0.6764, Train Accuracy: 74.60%\n"
          ]
        },
        {
          "output_type": "stream",
          "name": "stderr",
          "text": [
            "Validation: 100%|██████████| 18/18 [00:19<00:00,  1.08s/it]\n"
          ]
        },
        {
          "output_type": "stream",
          "name": "stdout",
          "text": [
            "Validation Loss: 0.7072, Validation Accuracy: 73.95%\n",
            "\n",
            "Epoch 14/50\n"
          ]
        },
        {
          "output_type": "stream",
          "name": "stderr",
          "text": [
            "Training: 100%|██████████| 81/81 [01:22<00:00,  1.02s/it]\n"
          ]
        },
        {
          "output_type": "stream",
          "name": "stdout",
          "text": [
            "Train Loss: 0.6270, Train Accuracy: 76.00%\n"
          ]
        },
        {
          "output_type": "stream",
          "name": "stderr",
          "text": [
            "Validation: 100%|██████████| 18/18 [00:19<00:00,  1.09s/it]\n"
          ]
        },
        {
          "output_type": "stream",
          "name": "stdout",
          "text": [
            "Validation Loss: 0.7796, Validation Accuracy: 70.31%\n",
            "\n",
            "Epoch 15/50\n"
          ]
        },
        {
          "output_type": "stream",
          "name": "stderr",
          "text": [
            "Training: 100%|██████████| 81/81 [01:23<00:00,  1.03s/it]\n"
          ]
        },
        {
          "output_type": "stream",
          "name": "stdout",
          "text": [
            "Train Loss: 0.6102, Train Accuracy: 76.43%\n"
          ]
        },
        {
          "output_type": "stream",
          "name": "stderr",
          "text": [
            "Validation: 100%|██████████| 18/18 [00:19<00:00,  1.09s/it]\n"
          ]
        },
        {
          "output_type": "stream",
          "name": "stdout",
          "text": [
            "Validation Loss: 0.6838, Validation Accuracy: 73.95%\n",
            "\n",
            "Epoch 16/50\n"
          ]
        },
        {
          "output_type": "stream",
          "name": "stderr",
          "text": [
            "Training: 100%|██████████| 81/81 [01:23<00:00,  1.04s/it]\n"
          ]
        },
        {
          "output_type": "stream",
          "name": "stdout",
          "text": [
            "Train Loss: 0.5810, Train Accuracy: 78.03%\n"
          ]
        },
        {
          "output_type": "stream",
          "name": "stderr",
          "text": [
            "Validation: 100%|██████████| 18/18 [00:19<00:00,  1.08s/it]\n"
          ]
        },
        {
          "output_type": "stream",
          "name": "stdout",
          "text": [
            "Validation Loss: 1.5922, Validation Accuracy: 59.20%\n",
            "\n",
            "Epoch 17/50\n"
          ]
        },
        {
          "output_type": "stream",
          "name": "stderr",
          "text": [
            "Training: 100%|██████████| 81/81 [01:24<00:00,  1.05s/it]\n"
          ]
        },
        {
          "output_type": "stream",
          "name": "stdout",
          "text": [
            "Train Loss: 0.7518, Train Accuracy: 72.34%\n"
          ]
        },
        {
          "output_type": "stream",
          "name": "stderr",
          "text": [
            "Validation: 100%|██████████| 18/18 [00:19<00:00,  1.10s/it]\n"
          ]
        },
        {
          "output_type": "stream",
          "name": "stdout",
          "text": [
            "Validation Loss: 0.7748, Validation Accuracy: 66.85%\n",
            "\n",
            "Epoch 18/50\n"
          ]
        },
        {
          "output_type": "stream",
          "name": "stderr",
          "text": [
            "Training: 100%|██████████| 81/81 [01:25<00:00,  1.06s/it]\n"
          ]
        },
        {
          "output_type": "stream",
          "name": "stdout",
          "text": [
            "Train Loss: 0.6547, Train Accuracy: 74.68%\n"
          ]
        },
        {
          "output_type": "stream",
          "name": "stderr",
          "text": [
            "Validation: 100%|██████████| 18/18 [00:19<00:00,  1.09s/it]\n"
          ]
        },
        {
          "output_type": "stream",
          "name": "stdout",
          "text": [
            "Validation Loss: 0.6495, Validation Accuracy: 74.68%\n",
            "\n",
            "Epoch 19/50\n"
          ]
        },
        {
          "output_type": "stream",
          "name": "stderr",
          "text": [
            "Training: 100%|██████████| 81/81 [01:23<00:00,  1.03s/it]\n"
          ]
        },
        {
          "output_type": "stream",
          "name": "stdout",
          "text": [
            "Train Loss: 0.6022, Train Accuracy: 75.97%\n"
          ]
        },
        {
          "output_type": "stream",
          "name": "stderr",
          "text": [
            "Validation: 100%|██████████| 18/18 [00:19<00:00,  1.08s/it]\n"
          ]
        },
        {
          "output_type": "stream",
          "name": "stdout",
          "text": [
            "Validation Loss: 0.6827, Validation Accuracy: 73.95%\n",
            "\n",
            "Epoch 20/50\n"
          ]
        },
        {
          "output_type": "stream",
          "name": "stderr",
          "text": [
            "Training: 100%|██████████| 81/81 [01:21<00:00,  1.01s/it]\n"
          ]
        },
        {
          "output_type": "stream",
          "name": "stdout",
          "text": [
            "Train Loss: 0.5926, Train Accuracy: 77.02%\n"
          ]
        },
        {
          "output_type": "stream",
          "name": "stderr",
          "text": [
            "Validation: 100%|██████████| 18/18 [00:19<00:00,  1.09s/it]\n"
          ]
        },
        {
          "output_type": "stream",
          "name": "stdout",
          "text": [
            "Validation Loss: 0.6958, Validation Accuracy: 72.86%\n",
            "\n",
            "Epoch 21/50\n"
          ]
        },
        {
          "output_type": "stream",
          "name": "stderr",
          "text": [
            "Training: 100%|██████████| 81/81 [01:24<00:00,  1.04s/it]\n"
          ]
        },
        {
          "output_type": "stream",
          "name": "stdout",
          "text": [
            "Train Loss: 0.5642, Train Accuracy: 77.84%\n"
          ]
        },
        {
          "output_type": "stream",
          "name": "stderr",
          "text": [
            "Validation: 100%|██████████| 18/18 [00:19<00:00,  1.09s/it]\n"
          ]
        },
        {
          "output_type": "stream",
          "name": "stdout",
          "text": [
            "Validation Loss: 0.6387, Validation Accuracy: 75.23%\n",
            "\n",
            "Epoch 22/50\n"
          ]
        },
        {
          "output_type": "stream",
          "name": "stderr",
          "text": [
            "Training: 100%|██████████| 81/81 [01:24<00:00,  1.04s/it]\n"
          ]
        },
        {
          "output_type": "stream",
          "name": "stdout",
          "text": [
            "Train Loss: 0.5503, Train Accuracy: 78.19%\n"
          ]
        },
        {
          "output_type": "stream",
          "name": "stderr",
          "text": [
            "Validation: 100%|██████████| 18/18 [00:19<00:00,  1.08s/it]\n"
          ]
        },
        {
          "output_type": "stream",
          "name": "stdout",
          "text": [
            "Validation Loss: 0.7046, Validation Accuracy: 74.13%\n",
            "\n",
            "Epoch 23/50\n"
          ]
        },
        {
          "output_type": "stream",
          "name": "stderr",
          "text": [
            "Training: 100%|██████████| 81/81 [01:23<00:00,  1.03s/it]\n"
          ]
        },
        {
          "output_type": "stream",
          "name": "stdout",
          "text": [
            "Train Loss: 0.5652, Train Accuracy: 78.42%\n"
          ]
        },
        {
          "output_type": "stream",
          "name": "stderr",
          "text": [
            "Validation: 100%|██████████| 18/18 [00:19<00:00,  1.09s/it]\n"
          ]
        },
        {
          "output_type": "stream",
          "name": "stdout",
          "text": [
            "Validation Loss: 0.6730, Validation Accuracy: 73.77%\n",
            "\n",
            "Epoch 24/50\n"
          ]
        },
        {
          "output_type": "stream",
          "name": "stderr",
          "text": [
            "Training: 100%|██████████| 81/81 [01:24<00:00,  1.05s/it]\n"
          ]
        },
        {
          "output_type": "stream",
          "name": "stdout",
          "text": [
            "Train Loss: 0.5535, Train Accuracy: 79.32%\n"
          ]
        },
        {
          "output_type": "stream",
          "name": "stderr",
          "text": [
            "Validation: 100%|██████████| 18/18 [00:19<00:00,  1.08s/it]\n"
          ]
        },
        {
          "output_type": "stream",
          "name": "stdout",
          "text": [
            "Validation Loss: 0.6797, Validation Accuracy: 73.59%\n",
            "\n",
            "Epoch 25/50\n"
          ]
        },
        {
          "output_type": "stream",
          "name": "stderr",
          "text": [
            "Training: 100%|██████████| 81/81 [01:23<00:00,  1.03s/it]\n"
          ]
        },
        {
          "output_type": "stream",
          "name": "stdout",
          "text": [
            "Train Loss: 0.5248, Train Accuracy: 79.71%\n"
          ]
        },
        {
          "output_type": "stream",
          "name": "stderr",
          "text": [
            "Validation: 100%|██████████| 18/18 [00:19<00:00,  1.09s/it]\n"
          ]
        },
        {
          "output_type": "stream",
          "name": "stdout",
          "text": [
            "Validation Loss: 0.6926, Validation Accuracy: 74.50%\n",
            "\n",
            "Epoch 26/50\n"
          ]
        },
        {
          "output_type": "stream",
          "name": "stderr",
          "text": [
            "Training: 100%|██████████| 81/81 [01:23<00:00,  1.03s/it]\n"
          ]
        },
        {
          "output_type": "stream",
          "name": "stdout",
          "text": [
            "Train Loss: 0.5440, Train Accuracy: 79.20%\n"
          ]
        },
        {
          "output_type": "stream",
          "name": "stderr",
          "text": [
            "Validation: 100%|██████████| 18/18 [00:19<00:00,  1.08s/it]\n"
          ]
        },
        {
          "output_type": "stream",
          "name": "stdout",
          "text": [
            "Validation Loss: 0.7092, Validation Accuracy: 73.41%\n",
            "\n",
            "Epoch 27/50\n"
          ]
        },
        {
          "output_type": "stream",
          "name": "stderr",
          "text": [
            "Training: 100%|██████████| 81/81 [01:23<00:00,  1.04s/it]\n"
          ]
        },
        {
          "output_type": "stream",
          "name": "stdout",
          "text": [
            "Train Loss: 0.5481, Train Accuracy: 78.27%\n"
          ]
        },
        {
          "output_type": "stream",
          "name": "stderr",
          "text": [
            "Validation: 100%|██████████| 18/18 [00:19<00:00,  1.08s/it]\n"
          ]
        },
        {
          "output_type": "stream",
          "name": "stdout",
          "text": [
            "Validation Loss: 0.7043, Validation Accuracy: 74.13%\n",
            "\n",
            "Epoch 28/50\n"
          ]
        },
        {
          "output_type": "stream",
          "name": "stderr",
          "text": [
            "Training: 100%|██████████| 81/81 [01:22<00:00,  1.01s/it]\n"
          ]
        },
        {
          "output_type": "stream",
          "name": "stdout",
          "text": [
            "Train Loss: 0.5083, Train Accuracy: 79.91%\n"
          ]
        },
        {
          "output_type": "stream",
          "name": "stderr",
          "text": [
            "Validation: 100%|██████████| 18/18 [00:19<00:00,  1.09s/it]\n"
          ]
        },
        {
          "output_type": "stream",
          "name": "stdout",
          "text": [
            "Validation Loss: 0.7987, Validation Accuracy: 72.31%\n",
            "\n",
            "Epoch 29/50\n"
          ]
        },
        {
          "output_type": "stream",
          "name": "stderr",
          "text": [
            "Training: 100%|██████████| 81/81 [01:23<00:00,  1.03s/it]\n"
          ]
        },
        {
          "output_type": "stream",
          "name": "stdout",
          "text": [
            "Train Loss: 0.5549, Train Accuracy: 80.57%\n"
          ]
        },
        {
          "output_type": "stream",
          "name": "stderr",
          "text": [
            "Validation: 100%|██████████| 18/18 [00:19<00:00,  1.09s/it]\n"
          ]
        },
        {
          "output_type": "stream",
          "name": "stdout",
          "text": [
            "Validation Loss: 1.9896, Validation Accuracy: 66.12%\n",
            "\n",
            "Epoch 30/50\n"
          ]
        },
        {
          "output_type": "stream",
          "name": "stderr",
          "text": [
            "Training: 100%|██████████| 81/81 [01:24<00:00,  1.04s/it]\n"
          ]
        },
        {
          "output_type": "stream",
          "name": "stdout",
          "text": [
            "Train Loss: 0.8599, Train Accuracy: 68.16%\n"
          ]
        },
        {
          "output_type": "stream",
          "name": "stderr",
          "text": [
            "Validation: 100%|██████████| 18/18 [00:19<00:00,  1.08s/it]\n"
          ]
        },
        {
          "output_type": "stream",
          "name": "stdout",
          "text": [
            "Validation Loss: 0.8570, Validation Accuracy: 69.76%\n",
            "\n",
            "Epoch 31/50\n"
          ]
        },
        {
          "output_type": "stream",
          "name": "stderr",
          "text": [
            "Training: 100%|██████████| 81/81 [01:23<00:00,  1.03s/it]\n"
          ]
        },
        {
          "output_type": "stream",
          "name": "stdout",
          "text": [
            "Train Loss: 0.7153, Train Accuracy: 72.88%\n"
          ]
        },
        {
          "output_type": "stream",
          "name": "stderr",
          "text": [
            "Validation: 100%|██████████| 18/18 [00:19<00:00,  1.09s/it]\n"
          ]
        },
        {
          "output_type": "stream",
          "name": "stdout",
          "text": [
            "Validation Loss: 0.7655, Validation Accuracy: 72.13%\n",
            "\n",
            "Epoch 32/50\n"
          ]
        },
        {
          "output_type": "stream",
          "name": "stderr",
          "text": [
            "Training: 100%|██████████| 81/81 [01:23<00:00,  1.04s/it]\n"
          ]
        },
        {
          "output_type": "stream",
          "name": "stdout",
          "text": [
            "Train Loss: 0.6722, Train Accuracy: 74.40%\n"
          ]
        },
        {
          "output_type": "stream",
          "name": "stderr",
          "text": [
            "Validation: 100%|██████████| 18/18 [00:19<00:00,  1.09s/it]\n"
          ]
        },
        {
          "output_type": "stream",
          "name": "stdout",
          "text": [
            "Validation Loss: 0.7909, Validation Accuracy: 72.31%\n",
            "\n",
            "Epoch 33/50\n"
          ]
        },
        {
          "output_type": "stream",
          "name": "stderr",
          "text": [
            "Training: 100%|██████████| 81/81 [01:22<00:00,  1.02s/it]\n"
          ]
        },
        {
          "output_type": "stream",
          "name": "stdout",
          "text": [
            "Train Loss: 0.6578, Train Accuracy: 75.26%\n"
          ]
        },
        {
          "output_type": "stream",
          "name": "stderr",
          "text": [
            "Validation: 100%|██████████| 18/18 [00:19<00:00,  1.09s/it]\n"
          ]
        },
        {
          "output_type": "stream",
          "name": "stdout",
          "text": [
            "Validation Loss: 0.6995, Validation Accuracy: 72.68%\n",
            "\n",
            "Epoch 34/50\n"
          ]
        },
        {
          "output_type": "stream",
          "name": "stderr",
          "text": [
            "Training: 100%|██████████| 81/81 [01:25<00:00,  1.06s/it]\n"
          ]
        },
        {
          "output_type": "stream",
          "name": "stdout",
          "text": [
            "Train Loss: 0.6116, Train Accuracy: 76.24%\n"
          ]
        },
        {
          "output_type": "stream",
          "name": "stderr",
          "text": [
            "Validation: 100%|██████████| 18/18 [00:19<00:00,  1.08s/it]\n"
          ]
        },
        {
          "output_type": "stream",
          "name": "stdout",
          "text": [
            "Validation Loss: 0.7233, Validation Accuracy: 72.86%\n",
            "\n",
            "Epoch 35/50\n"
          ]
        },
        {
          "output_type": "stream",
          "name": "stderr",
          "text": [
            "Training: 100%|██████████| 81/81 [01:23<00:00,  1.04s/it]\n"
          ]
        },
        {
          "output_type": "stream",
          "name": "stdout",
          "text": [
            "Train Loss: 0.5965, Train Accuracy: 76.59%\n"
          ]
        },
        {
          "output_type": "stream",
          "name": "stderr",
          "text": [
            "Validation: 100%|██████████| 18/18 [00:19<00:00,  1.08s/it]\n"
          ]
        },
        {
          "output_type": "stream",
          "name": "stdout",
          "text": [
            "Validation Loss: 0.6787, Validation Accuracy: 74.50%\n",
            "\n",
            "Epoch 36/50\n"
          ]
        },
        {
          "output_type": "stream",
          "name": "stderr",
          "text": [
            "Training: 100%|██████████| 81/81 [01:22<00:00,  1.02s/it]\n"
          ]
        },
        {
          "output_type": "stream",
          "name": "stdout",
          "text": [
            "Train Loss: 0.6004, Train Accuracy: 76.71%\n"
          ]
        },
        {
          "output_type": "stream",
          "name": "stderr",
          "text": [
            "Validation: 100%|██████████| 18/18 [00:19<00:00,  1.08s/it]\n"
          ]
        },
        {
          "output_type": "stream",
          "name": "stdout",
          "text": [
            "Validation Loss: 0.6943, Validation Accuracy: 74.13%\n",
            "\n",
            "Epoch 37/50\n"
          ]
        },
        {
          "output_type": "stream",
          "name": "stderr",
          "text": [
            "Training: 100%|██████████| 81/81 [01:22<00:00,  1.02s/it]\n"
          ]
        },
        {
          "output_type": "stream",
          "name": "stdout",
          "text": [
            "Train Loss: 0.5680, Train Accuracy: 77.72%\n"
          ]
        },
        {
          "output_type": "stream",
          "name": "stderr",
          "text": [
            "Validation: 100%|██████████| 18/18 [00:19<00:00,  1.09s/it]\n"
          ]
        },
        {
          "output_type": "stream",
          "name": "stdout",
          "text": [
            "Validation Loss: 0.6624, Validation Accuracy: 75.77%\n",
            "\n",
            "Epoch 38/50\n"
          ]
        },
        {
          "output_type": "stream",
          "name": "stderr",
          "text": [
            "Training: 100%|██████████| 81/81 [01:23<00:00,  1.03s/it]\n"
          ]
        },
        {
          "output_type": "stream",
          "name": "stdout",
          "text": [
            "Train Loss: 0.5589, Train Accuracy: 78.81%\n"
          ]
        },
        {
          "output_type": "stream",
          "name": "stderr",
          "text": [
            "Validation: 100%|██████████| 18/18 [00:19<00:00,  1.09s/it]\n"
          ]
        },
        {
          "output_type": "stream",
          "name": "stdout",
          "text": [
            "Validation Loss: 0.7612, Validation Accuracy: 70.49%\n",
            "\n",
            "Epoch 39/50\n"
          ]
        },
        {
          "output_type": "stream",
          "name": "stderr",
          "text": [
            "Training: 100%|██████████| 81/81 [01:23<00:00,  1.03s/it]\n"
          ]
        },
        {
          "output_type": "stream",
          "name": "stdout",
          "text": [
            "Train Loss: 0.6062, Train Accuracy: 76.79%\n"
          ]
        },
        {
          "output_type": "stream",
          "name": "stderr",
          "text": [
            "Validation: 100%|██████████| 18/18 [00:19<00:00,  1.09s/it]\n"
          ]
        },
        {
          "output_type": "stream",
          "name": "stdout",
          "text": [
            "Validation Loss: 0.6943, Validation Accuracy: 73.41%\n",
            "\n",
            "Epoch 40/50\n"
          ]
        },
        {
          "output_type": "stream",
          "name": "stderr",
          "text": [
            "Training: 100%|██████████| 81/81 [01:23<00:00,  1.03s/it]\n"
          ]
        },
        {
          "output_type": "stream",
          "name": "stdout",
          "text": [
            "Train Loss: 0.5696, Train Accuracy: 79.05%\n"
          ]
        },
        {
          "output_type": "stream",
          "name": "stderr",
          "text": [
            "Validation: 100%|██████████| 18/18 [00:19<00:00,  1.09s/it]\n"
          ]
        },
        {
          "output_type": "stream",
          "name": "stdout",
          "text": [
            "Validation Loss: 0.7575, Validation Accuracy: 73.59%\n",
            "\n",
            "Epoch 41/50\n"
          ]
        },
        {
          "output_type": "stream",
          "name": "stderr",
          "text": [
            "Training: 100%|██████████| 81/81 [01:24<00:00,  1.05s/it]\n"
          ]
        },
        {
          "output_type": "stream",
          "name": "stdout",
          "text": [
            "Train Loss: 0.5635, Train Accuracy: 78.42%\n"
          ]
        },
        {
          "output_type": "stream",
          "name": "stderr",
          "text": [
            "Validation: 100%|██████████| 18/18 [00:19<00:00,  1.09s/it]\n"
          ]
        },
        {
          "output_type": "stream",
          "name": "stdout",
          "text": [
            "Validation Loss: 0.7446, Validation Accuracy: 74.32%\n",
            "\n",
            "Epoch 42/50\n"
          ]
        },
        {
          "output_type": "stream",
          "name": "stderr",
          "text": [
            "Training: 100%|██████████| 81/81 [01:23<00:00,  1.04s/it]\n"
          ]
        },
        {
          "output_type": "stream",
          "name": "stdout",
          "text": [
            "Train Loss: 0.6739, Train Accuracy: 75.61%\n"
          ]
        },
        {
          "output_type": "stream",
          "name": "stderr",
          "text": [
            "Validation: 100%|██████████| 18/18 [00:19<00:00,  1.09s/it]\n"
          ]
        },
        {
          "output_type": "stream",
          "name": "stdout",
          "text": [
            "Validation Loss: 0.7595, Validation Accuracy: 72.86%\n",
            "\n",
            "Epoch 43/50\n"
          ]
        },
        {
          "output_type": "stream",
          "name": "stderr",
          "text": [
            "Training: 100%|██████████| 81/81 [01:24<00:00,  1.05s/it]\n"
          ]
        },
        {
          "output_type": "stream",
          "name": "stdout",
          "text": [
            "Train Loss: 0.5569, Train Accuracy: 78.27%\n"
          ]
        },
        {
          "output_type": "stream",
          "name": "stderr",
          "text": [
            "Validation: 100%|██████████| 18/18 [00:19<00:00,  1.09s/it]\n"
          ]
        },
        {
          "output_type": "stream",
          "name": "stdout",
          "text": [
            "Validation Loss: 0.7648, Validation Accuracy: 75.59%\n",
            "\n",
            "Epoch 44/50\n"
          ]
        },
        {
          "output_type": "stream",
          "name": "stderr",
          "text": [
            "Training: 100%|██████████| 81/81 [01:24<00:00,  1.04s/it]\n"
          ]
        },
        {
          "output_type": "stream",
          "name": "stdout",
          "text": [
            "Train Loss: 0.5370, Train Accuracy: 79.44%\n"
          ]
        },
        {
          "output_type": "stream",
          "name": "stderr",
          "text": [
            "Validation: 100%|██████████| 18/18 [00:19<00:00,  1.08s/it]\n"
          ]
        },
        {
          "output_type": "stream",
          "name": "stdout",
          "text": [
            "Validation Loss: 0.6536, Validation Accuracy: 76.87%\n",
            "\n",
            "Epoch 45/50\n"
          ]
        },
        {
          "output_type": "stream",
          "name": "stderr",
          "text": [
            "Training: 100%|██████████| 81/81 [01:23<00:00,  1.04s/it]\n"
          ]
        },
        {
          "output_type": "stream",
          "name": "stdout",
          "text": [
            "Train Loss: 0.5410, Train Accuracy: 79.95%\n"
          ]
        },
        {
          "output_type": "stream",
          "name": "stderr",
          "text": [
            "Validation: 100%|██████████| 18/18 [00:19<00:00,  1.09s/it]\n"
          ]
        },
        {
          "output_type": "stream",
          "name": "stdout",
          "text": [
            "Validation Loss: 0.7231, Validation Accuracy: 72.50%\n",
            "\n",
            "Epoch 46/50\n"
          ]
        },
        {
          "output_type": "stream",
          "name": "stderr",
          "text": [
            "Training: 100%|██████████| 81/81 [01:22<00:00,  1.02s/it]\n"
          ]
        },
        {
          "output_type": "stream",
          "name": "stdout",
          "text": [
            "Train Loss: 0.5340, Train Accuracy: 80.14%\n"
          ]
        },
        {
          "output_type": "stream",
          "name": "stderr",
          "text": [
            "Validation: 100%|██████████| 18/18 [00:19<00:00,  1.10s/it]\n"
          ]
        },
        {
          "output_type": "stream",
          "name": "stdout",
          "text": [
            "Validation Loss: 0.6820, Validation Accuracy: 73.77%\n",
            "\n",
            "Epoch 47/50\n"
          ]
        },
        {
          "output_type": "stream",
          "name": "stderr",
          "text": [
            "Training: 100%|██████████| 81/81 [01:23<00:00,  1.03s/it]\n"
          ]
        },
        {
          "output_type": "stream",
          "name": "stdout",
          "text": [
            "Train Loss: 0.5194, Train Accuracy: 80.02%\n"
          ]
        },
        {
          "output_type": "stream",
          "name": "stderr",
          "text": [
            "Validation: 100%|██████████| 18/18 [00:19<00:00,  1.09s/it]\n"
          ]
        },
        {
          "output_type": "stream",
          "name": "stdout",
          "text": [
            "Validation Loss: 0.6703, Validation Accuracy: 75.41%\n",
            "\n",
            "Epoch 48/50\n"
          ]
        },
        {
          "output_type": "stream",
          "name": "stderr",
          "text": [
            "Training: 100%|██████████| 81/81 [01:22<00:00,  1.02s/it]\n"
          ]
        },
        {
          "output_type": "stream",
          "name": "stdout",
          "text": [
            "Train Loss: 0.5040, Train Accuracy: 80.14%\n"
          ]
        },
        {
          "output_type": "stream",
          "name": "stderr",
          "text": [
            "Validation: 100%|██████████| 18/18 [00:19<00:00,  1.08s/it]\n"
          ]
        },
        {
          "output_type": "stream",
          "name": "stdout",
          "text": [
            "Validation Loss: 0.6918, Validation Accuracy: 73.41%\n",
            "\n",
            "Epoch 49/50\n"
          ]
        },
        {
          "output_type": "stream",
          "name": "stderr",
          "text": [
            "Training: 100%|██████████| 81/81 [01:23<00:00,  1.03s/it]\n"
          ]
        },
        {
          "output_type": "stream",
          "name": "stdout",
          "text": [
            "Train Loss: 0.5125, Train Accuracy: 79.71%\n"
          ]
        },
        {
          "output_type": "stream",
          "name": "stderr",
          "text": [
            "Validation: 100%|██████████| 18/18 [00:19<00:00,  1.10s/it]\n"
          ]
        },
        {
          "output_type": "stream",
          "name": "stdout",
          "text": [
            "Validation Loss: 0.7540, Validation Accuracy: 73.95%\n",
            "\n",
            "Epoch 50/50\n"
          ]
        },
        {
          "output_type": "stream",
          "name": "stderr",
          "text": [
            "Training: 100%|██████████| 81/81 [01:22<00:00,  1.02s/it]\n"
          ]
        },
        {
          "output_type": "stream",
          "name": "stdout",
          "text": [
            "Train Loss: 0.4654, Train Accuracy: 83.18%\n"
          ]
        },
        {
          "output_type": "stream",
          "name": "stderr",
          "text": [
            "Validation: 100%|██████████| 18/18 [00:19<00:00,  1.09s/it]"
          ]
        },
        {
          "output_type": "stream",
          "name": "stdout",
          "text": [
            "Validation Loss: 0.6947, Validation Accuracy: 71.22%\n"
          ]
        },
        {
          "output_type": "stream",
          "name": "stderr",
          "text": [
            "\n"
          ]
        }
      ]
    },
    {
      "cell_type": "code",
      "source": [
        "print(\"\\nFinal Test Evaluation\")\n",
        "evaluate(model, test_loader, criterion, device, phase=\"Test\")"
      ],
      "metadata": {
        "colab": {
          "base_uri": "https://localhost:8080/"
        },
        "id": "Ptqvb6aM0Pzb",
        "outputId": "7f793509-fd84-40fc-9792-0062d22eb5cb"
      },
      "execution_count": 34,
      "outputs": [
        {
          "output_type": "stream",
          "name": "stdout",
          "text": [
            "\n",
            "Final Test Evaluation\n"
          ]
        },
        {
          "output_type": "stream",
          "name": "stderr",
          "text": [
            "Test: 100%|██████████| 18/18 [00:20<00:00,  1.13s/it]"
          ]
        },
        {
          "output_type": "stream",
          "name": "stdout",
          "text": [
            "Test Loss: 0.7557, Test Accuracy: 72.73%\n"
          ]
        },
        {
          "output_type": "stream",
          "name": "stderr",
          "text": [
            "\n"
          ]
        }
      ]
    },
    {
      "cell_type": "code",
      "source": [
        "times = measure_inference_time(model, test_loader, device)"
      ],
      "metadata": {
        "colab": {
          "base_uri": "https://localhost:8080/"
        },
        "id": "dlazeL-a0WTt",
        "outputId": "3dff778f-bf8f-4769-a505-4b2844db28df"
      },
      "execution_count": 35,
      "outputs": [
        {
          "output_type": "stream",
          "name": "stdout",
          "text": [
            "Inference Time Measurement Results:\n",
            "Total Inferences: 18\n",
            "Average Time: 15.95 ms\n",
            "Standard Deviation: 1.87 ms\n",
            "Maximum Time: 23.44 ms\n",
            "Minimum Time: 14.20 ms\n"
          ]
        }
      ]
    },
    {
      "cell_type": "code",
      "source": [
        "from torch import profiler\n",
        "\n",
        "dummy_input = torch.randn(32, 3, 224, 224).cuda()\n",
        "\n",
        "# Profiling inference\n",
        "with profiler.profile(\n",
        "    activities=[\n",
        "       profiler.ProfilerActivity.CPU,\n",
        "        profiler.ProfilerActivity.CUDA,  # Include if using GPU\n",
        "    ],\n",
        "    on_trace_ready=profiler.tensorboard_trace_handler(\"./logs\"),  # Optional logging\n",
        "    record_shapes=True,\n",
        "    with_stack=True\n",
        ") as prof:\n",
        "    with torch.no_grad():\n",
        "        model(dummy_input)\n",
        "\n",
        "\n",
        "# Print results\n",
        "print(prof.key_averages().table(sort_by=\"cuda_time_total\" if torch.cuda.is_available() else \"cpu_time_total\", row_limit=10))"
      ],
      "metadata": {
        "colab": {
          "base_uri": "https://localhost:8080/"
        },
        "id": "c77rmtOz0XuA",
        "outputId": "5cb148ed-4a33-4658-a123-f242f07f9e43"
      },
      "execution_count": 36,
      "outputs": [
        {
          "output_type": "stream",
          "name": "stdout",
          "text": [
            "-------------------------------------------------------  ------------  ------------  ------------  ------------  ------------  ------------  ------------  ------------  ------------  ------------  \n",
            "                                                   Name    Self CPU %      Self CPU   CPU total %     CPU total  CPU time avg     Self CUDA   Self CUDA %    CUDA total  CUDA time avg    # of Calls  \n",
            "-------------------------------------------------------  ------------  ------------  ------------  ------------  ------------  ------------  ------------  ------------  ------------  ------------  \n",
            "                                      aten::convolution         1.58%     436.358us        35.21%       9.704ms     156.511us       0.000us         0.00%       7.244ms     116.846us            62  \n",
            "                                     aten::_convolution         9.94%       2.739ms        33.63%       9.267ms     149.473us       0.000us         0.00%       7.244ms     116.846us            62  \n",
            "                                           aten::conv2d         1.46%     402.106us        35.43%       9.764ms     165.497us       0.000us         0.00%       7.096ms     120.273us            59  \n",
            "                                aten::cudnn_convolution        13.60%       3.749ms        22.48%       6.195ms     104.993us       7.085ms        46.98%       7.085ms     120.091us            59  \n",
            "                                       aten::batch_norm         1.14%     315.267us        37.54%      10.346ms     136.137us       0.000us         0.00%       3.192ms      42.006us            76  \n",
            "                           aten::_batch_norm_impl_index         2.12%     585.024us        36.40%      10.031ms     131.989us       0.000us         0.00%       3.192ms      42.006us            76  \n",
            "                                 aten::cudnn_batch_norm        17.60%       4.852ms        27.56%       7.594ms     130.935us       2.954ms        19.59%       2.954ms      50.928us            58  \n",
            "void cudnn::bn_fw_inf_1C11_kernel_NCHW<float, float,...         0.00%       0.000us         0.00%       0.000us       0.000us       2.954ms        19.59%       2.954ms      50.928us            58  \n",
            "void cutlass::Kernel<cutlass_80_tensorop_s1688gemm_2...         0.00%       0.000us         0.00%       0.000us       0.000us       2.127ms        14.10%       2.127ms      92.473us            23  \n",
            "void cudnn::engines_precompiled::nchwToNhwcKernel<fl...         0.00%       0.000us         0.00%       0.000us       0.000us       1.674ms        11.10%       1.674ms      28.870us            58  \n",
            "-------------------------------------------------------  ------------  ------------  ------------  ------------  ------------  ------------  ------------  ------------  ------------  ------------  \n",
            "Self CPU time total: 27.558ms\n",
            "Self CUDA time total: 15.081ms\n",
            "\n"
          ]
        }
      ]
    },
    {
      "cell_type": "code",
      "source": [
        "save_path = \"L_HoViT_APTOS2019.pth\"\n",
        "torch.save(model.state_dict(), save_path)\n",
        "print(f\"Model weights saved to {save_path}\")"
      ],
      "metadata": {
        "colab": {
          "base_uri": "https://localhost:8080/"
        },
        "id": "YiQQmg-d0aG7",
        "outputId": "367fd8a1-4aa1-42cf-dcaa-0786e99fb846"
      },
      "execution_count": 37,
      "outputs": [
        {
          "output_type": "stream",
          "name": "stdout",
          "text": [
            "Model weights saved to L_HoViT_APTOS2019.pth\n"
          ]
        }
      ]
    },
    {
      "cell_type": "code",
      "source": [
        "import matplotlib.pyplot as plt\n",
        "\n",
        "epochs = range(1, len(train_loss)+1)\n",
        "\n",
        "\n",
        "plt.figure(figsize=(10, 5))\n",
        "plt.plot(epochs, train_loss, label='Train Loss')\n",
        "plt.plot(epochs, val_loss, label='Validation Loss')\n",
        "plt.title('Training and Validation Loss')\n",
        "plt.xlabel('Epochs')\n",
        "plt.ylabel('Loss')\n",
        "plt.legend()\n",
        "plt.show()\n",
        "\n",
        "\n",
        "plt.figure(figsize=(10, 5))\n",
        "plt.plot(epochs, train_acc, label='Train Accuracy')\n",
        "plt.plot(epochs, val_acc, label='Validation Accuracy')\n",
        "plt.title('Training and Validation Accuracy')\n",
        "plt.xlabel('Epochs')\n",
        "plt.ylabel('Accuracy (%)')\n",
        "plt.legend()\n",
        "plt.show()"
      ],
      "metadata": {
        "colab": {
          "base_uri": "https://localhost:8080/",
          "height": 957
        },
        "id": "vcLHFYiCehxM",
        "outputId": "90433e88-b37a-4c2d-f019-d34ade265948"
      },
      "execution_count": 38,
      "outputs": [
        {
          "output_type": "display_data",
          "data": {
            "text/plain": [
              "<Figure size 1000x500 with 1 Axes>"
            ],
            "image/png": "[encoded data removed]"
          },
          "metadata": {}
        },
        {
          "output_type": "display_data",
          "data": {
            "text/plain": [
              "<Figure size 1000x500 with 1 Axes>"
            ],
            "image/png": "[encoded data removed]"
          },
          "metadata": {}
        }
      ]
    }
  ]
}