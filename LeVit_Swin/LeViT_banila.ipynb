{
 "cells": [
  {
   "cell_type": "code",
   "execution_count": 32,
   "metadata": {
    "id": "lE_3OpxUeYWB"
   },
   "outputs": [],
   "source": [
    "import timm\n",
    "import torch\n",
    "import torch.nn as nn\n",
    "import torch.optim as optim\n",
    "from torchvision import datasets, transforms\n",
    "from torch.utils.data import DataLoader, random_split, ConcatDataset\n",
    "import numpy as np\n",
    "from tqdm import tqdm"
   ]
  },
  {
   "cell_type": "code",
   "execution_count": 33,
   "metadata": {
    "colab": {
     "base_uri": "https://localhost:8080/"
    },
    "id": "LGZnVFGleh7J",
    "outputId": "7bb84fd1-860a-4f3e-f3cd-30fab6f11d89"
   },
   "outputs": [
    {
     "name": "stdout",
     "output_type": "stream",
     "text": [
      "LevitDistilled(\n",
      "  (stem): Stem16(\n",
      "    (conv1): ConvNorm(\n",
      "      (linear): Conv2d(3, 32, kernel_size=(3, 3), stride=(2, 2), padding=(1, 1), bias=False)\n",
      "      (bn): BatchNorm2d(32, eps=1e-05, momentum=0.1, affine=True, track_running_stats=True)\n",
      "    )\n",
      "    (act1): Hardswish()\n",
      "    (conv2): ConvNorm(\n",
      "      (linear): Conv2d(32, 64, kernel_size=(3, 3), stride=(2, 2), padding=(1, 1), bias=False)\n",
      "      (bn): BatchNorm2d(64, eps=1e-05, momentum=0.1, affine=True, track_running_stats=True)\n",
      "    )\n",
      "    (act2): Hardswish()\n",
      "    (conv3): ConvNorm(\n",
      "      (linear): Conv2d(64, 128, kernel_size=(3, 3), stride=(2, 2), padding=(1, 1), bias=False)\n",
      "      (bn): BatchNorm2d(128, eps=1e-05, momentum=0.1, affine=True, track_running_stats=True)\n",
      "    )\n",
      "    (act3): Hardswish()\n",
      "    (conv4): ConvNorm(\n",
      "      (linear): Conv2d(128, 256, kernel_size=(3, 3), stride=(2, 2), padding=(1, 1), bias=False)\n",
      "      (bn): BatchNorm2d(256, eps=1e-05, momentum=0.1, affine=True, track_running_stats=True)\n",
      "    )\n",
      "  )\n",
      "  (stages): Sequential(\n",
      "    (0): LevitStage(\n",
      "      (downsample): Identity()\n",
      "      (blocks): Sequential(\n",
      "        (0): LevitBlock(\n",
      "          (attn): Attention(\n",
      "            (qkv): LinearNorm(\n",
      "              (linear): Linear(in_features=256, out_features=512, bias=False)\n",
      "              (bn): BatchNorm1d(512, eps=1e-05, momentum=0.1, affine=True, track_running_stats=True)\n",
      "            )\n",
      "            (proj): Sequential(\n",
      "              (act): Hardswish()\n",
      "              (ln): LinearNorm(\n",
      "                (linear): Linear(in_features=256, out_features=256, bias=False)\n",
      "                (bn): BatchNorm1d(256, eps=1e-05, momentum=0.1, affine=True, track_running_stats=True)\n",
      "              )\n",
      "            )\n",
      "          )\n",
      "          (drop_path1): Identity()\n",
      "          (mlp): LevitMlp(\n",
      "            (ln1): LinearNorm(\n",
      "              (linear): Linear(in_features=256, out_features=512, bias=False)\n",
      "              (bn): BatchNorm1d(512, eps=1e-05, momentum=0.1, affine=True, track_running_stats=True)\n",
      "            )\n",
      "            (act): Hardswish()\n",
      "            (drop): Dropout(p=0.0, inplace=False)\n",
      "            (ln2): LinearNorm(\n",
      "              (linear): Linear(in_features=512, out_features=256, bias=False)\n",
      "              (bn): BatchNorm1d(256, eps=1e-05, momentum=0.1, affine=True, track_running_stats=True)\n",
      "            )\n",
      "          )\n",
      "          (drop_path2): Identity()\n",
      "        )\n",
      "        (1): LevitBlock(\n",
      "          (attn): Attention(\n",
      "            (qkv): LinearNorm(\n",
      "              (linear): Linear(in_features=256, out_features=512, bias=False)\n",
      "              (bn): BatchNorm1d(512, eps=1e-05, momentum=0.1, affine=True, track_running_stats=True)\n",
      "            )\n",
      "            (proj): Sequential(\n",
      "              (act): Hardswish()\n",
      "              (ln): LinearNorm(\n",
      "                (linear): Linear(in_features=256, out_features=256, bias=False)\n",
      "                (bn): BatchNorm1d(256, eps=1e-05, momentum=0.1, affine=True, track_running_stats=True)\n",
      "              )\n",
      "            )\n",
      "          )\n",
      "          (drop_path1): Identity()\n",
      "          (mlp): LevitMlp(\n",
      "            (ln1): LinearNorm(\n",
      "              (linear): Linear(in_features=256, out_features=512, bias=False)\n",
      "              (bn): BatchNorm1d(512, eps=1e-05, momentum=0.1, affine=True, track_running_stats=True)\n",
      "            )\n",
      "            (act): Hardswish()\n",
      "            (drop): Dropout(p=0.0, inplace=False)\n",
      "            (ln2): LinearNorm(\n",
      "              (linear): Linear(in_features=512, out_features=256, bias=False)\n",
      "              (bn): BatchNorm1d(256, eps=1e-05, momentum=0.1, affine=True, track_running_stats=True)\n",
      "            )\n",
      "          )\n",
      "          (drop_path2): Identity()\n",
      "        )\n",
      "        (2): LevitBlock(\n",
      "          (attn): Attention(\n",
      "            (qkv): LinearNorm(\n",
      "              (linear): Linear(in_features=256, out_features=512, bias=False)\n",
      "              (bn): BatchNorm1d(512, eps=1e-05, momentum=0.1, affine=True, track_running_stats=True)\n",
      "            )\n",
      "            (proj): Sequential(\n",
      "              (act): Hardswish()\n",
      "              (ln): LinearNorm(\n",
      "                (linear): Linear(in_features=256, out_features=256, bias=False)\n",
      "                (bn): BatchNorm1d(256, eps=1e-05, momentum=0.1, affine=True, track_running_stats=True)\n",
      "              )\n",
      "            )\n",
      "          )\n",
      "          (drop_path1): Identity()\n",
      "          (mlp): LevitMlp(\n",
      "            (ln1): LinearNorm(\n",
      "              (linear): Linear(in_features=256, out_features=512, bias=False)\n",
      "              (bn): BatchNorm1d(512, eps=1e-05, momentum=0.1, affine=True, track_running_stats=True)\n",
      "            )\n",
      "            (act): Hardswish()\n",
      "            (drop): Dropout(p=0.0, inplace=False)\n",
      "            (ln2): LinearNorm(\n",
      "              (linear): Linear(in_features=512, out_features=256, bias=False)\n",
      "              (bn): BatchNorm1d(256, eps=1e-05, momentum=0.1, affine=True, track_running_stats=True)\n",
      "            )\n",
      "          )\n",
      "          (drop_path2): Identity()\n",
      "        )\n",
      "        (3): LevitBlock(\n",
      "          (attn): Attention(\n",
      "            (qkv): LinearNorm(\n",
      "              (linear): Linear(in_features=256, out_features=512, bias=False)\n",
      "              (bn): BatchNorm1d(512, eps=1e-05, momentum=0.1, affine=True, track_running_stats=True)\n",
      "            )\n",
      "            (proj): Sequential(\n",
      "              (act): Hardswish()\n",
      "              (ln): LinearNorm(\n",
      "                (linear): Linear(in_features=256, out_features=256, bias=False)\n",
      "                (bn): BatchNorm1d(256, eps=1e-05, momentum=0.1, affine=True, track_running_stats=True)\n",
      "              )\n",
      "            )\n",
      "          )\n",
      "          (drop_path1): Identity()\n",
      "          (mlp): LevitMlp(\n",
      "            (ln1): LinearNorm(\n",
      "              (linear): Linear(in_features=256, out_features=512, bias=False)\n",
      "              (bn): BatchNorm1d(512, eps=1e-05, momentum=0.1, affine=True, track_running_stats=True)\n",
      "            )\n",
      "            (act): Hardswish()\n",
      "            (drop): Dropout(p=0.0, inplace=False)\n",
      "            (ln2): LinearNorm(\n",
      "              (linear): Linear(in_features=512, out_features=256, bias=False)\n",
      "              (bn): BatchNorm1d(256, eps=1e-05, momentum=0.1, affine=True, track_running_stats=True)\n",
      "            )\n",
      "          )\n",
      "          (drop_path2): Identity()\n",
      "        )\n",
      "      )\n",
      "    )\n",
      "    (1): LevitStage(\n",
      "      (downsample): LevitDownsample(\n",
      "        (attn_downsample): AttentionDownsample(\n",
      "          (kv): LinearNorm(\n",
      "            (linear): Linear(in_features=256, out_features=1280, bias=False)\n",
      "            (bn): BatchNorm1d(1280, eps=1e-05, momentum=0.1, affine=True, track_running_stats=True)\n",
      "          )\n",
      "          (q): Sequential(\n",
      "            (down): Downsample()\n",
      "            (ln): LinearNorm(\n",
      "              (linear): Linear(in_features=256, out_features=256, bias=False)\n",
      "              (bn): BatchNorm1d(256, eps=1e-05, momentum=0.1, affine=True, track_running_stats=True)\n",
      "            )\n",
      "          )\n",
      "          (proj): Sequential(\n",
      "            (act): Hardswish()\n",
      "            (ln): LinearNorm(\n",
      "              (linear): Linear(in_features=1024, out_features=384, bias=False)\n",
      "              (bn): BatchNorm1d(384, eps=1e-05, momentum=0.1, affine=True, track_running_stats=True)\n",
      "            )\n",
      "          )\n",
      "        )\n",
      "        (mlp): LevitMlp(\n",
      "          (ln1): LinearNorm(\n",
      "            (linear): Linear(in_features=384, out_features=768, bias=False)\n",
      "            (bn): BatchNorm1d(768, eps=1e-05, momentum=0.1, affine=True, track_running_stats=True)\n",
      "          )\n",
      "          (act): Hardswish()\n",
      "          (drop): Dropout(p=0.0, inplace=False)\n",
      "          (ln2): LinearNorm(\n",
      "            (linear): Linear(in_features=768, out_features=384, bias=False)\n",
      "            (bn): BatchNorm1d(384, eps=1e-05, momentum=0.1, affine=True, track_running_stats=True)\n",
      "          )\n",
      "        )\n",
      "        (drop_path): Identity()\n",
      "      )\n",
      "      (blocks): Sequential(\n",
      "        (0): LevitBlock(\n",
      "          (attn): Attention(\n",
      "            (qkv): LinearNorm(\n",
      "              (linear): Linear(in_features=384, out_features=768, bias=False)\n",
      "              (bn): BatchNorm1d(768, eps=1e-05, momentum=0.1, affine=True, track_running_stats=True)\n",
      "            )\n",
      "            (proj): Sequential(\n",
      "              (act): Hardswish()\n",
      "              (ln): LinearNorm(\n",
      "                (linear): Linear(in_features=384, out_features=384, bias=False)\n",
      "                (bn): BatchNorm1d(384, eps=1e-05, momentum=0.1, affine=True, track_running_stats=True)\n",
      "              )\n",
      "            )\n",
      "          )\n",
      "          (drop_path1): Identity()\n",
      "          (mlp): LevitMlp(\n",
      "            (ln1): LinearNorm(\n",
      "              (linear): Linear(in_features=384, out_features=768, bias=False)\n",
      "              (bn): BatchNorm1d(768, eps=1e-05, momentum=0.1, affine=True, track_running_stats=True)\n",
      "            )\n",
      "            (act): Hardswish()\n",
      "            (drop): Dropout(p=0.0, inplace=False)\n",
      "            (ln2): LinearNorm(\n",
      "              (linear): Linear(in_features=768, out_features=384, bias=False)\n",
      "              (bn): BatchNorm1d(384, eps=1e-05, momentum=0.1, affine=True, track_running_stats=True)\n",
      "            )\n",
      "          )\n",
      "          (drop_path2): Identity()\n",
      "        )\n",
      "        (1): LevitBlock(\n",
      "          (attn): Attention(\n",
      "            (qkv): LinearNorm(\n",
      "              (linear): Linear(in_features=384, out_features=768, bias=False)\n",
      "              (bn): BatchNorm1d(768, eps=1e-05, momentum=0.1, affine=True, track_running_stats=True)\n",
      "            )\n",
      "            (proj): Sequential(\n",
      "              (act): Hardswish()\n",
      "              (ln): LinearNorm(\n",
      "                (linear): Linear(in_features=384, out_features=384, bias=False)\n",
      "                (bn): BatchNorm1d(384, eps=1e-05, momentum=0.1, affine=True, track_running_stats=True)\n",
      "              )\n",
      "            )\n",
      "          )\n",
      "          (drop_path1): Identity()\n",
      "          (mlp): LevitMlp(\n",
      "            (ln1): LinearNorm(\n",
      "              (linear): Linear(in_features=384, out_features=768, bias=False)\n",
      "              (bn): BatchNorm1d(768, eps=1e-05, momentum=0.1, affine=True, track_running_stats=True)\n",
      "            )\n",
      "            (act): Hardswish()\n",
      "            (drop): Dropout(p=0.0, inplace=False)\n",
      "            (ln2): LinearNorm(\n",
      "              (linear): Linear(in_features=768, out_features=384, bias=False)\n",
      "              (bn): BatchNorm1d(384, eps=1e-05, momentum=0.1, affine=True, track_running_stats=True)\n",
      "            )\n",
      "          )\n",
      "          (drop_path2): Identity()\n",
      "        )\n",
      "        (2): LevitBlock(\n",
      "          (attn): Attention(\n",
      "            (qkv): LinearNorm(\n",
      "              (linear): Linear(in_features=384, out_features=768, bias=False)\n",
      "              (bn): BatchNorm1d(768, eps=1e-05, momentum=0.1, affine=True, track_running_stats=True)\n",
      "            )\n",
      "            (proj): Sequential(\n",
      "              (act): Hardswish()\n",
      "              (ln): LinearNorm(\n",
      "                (linear): Linear(in_features=384, out_features=384, bias=False)\n",
      "                (bn): BatchNorm1d(384, eps=1e-05, momentum=0.1, affine=True, track_running_stats=True)\n",
      "              )\n",
      "            )\n",
      "          )\n",
      "          (drop_path1): Identity()\n",
      "          (mlp): LevitMlp(\n",
      "            (ln1): LinearNorm(\n",
      "              (linear): Linear(in_features=384, out_features=768, bias=False)\n",
      "              (bn): BatchNorm1d(768, eps=1e-05, momentum=0.1, affine=True, track_running_stats=True)\n",
      "            )\n",
      "            (act): Hardswish()\n",
      "            (drop): Dropout(p=0.0, inplace=False)\n",
      "            (ln2): LinearNorm(\n",
      "              (linear): Linear(in_features=768, out_features=384, bias=False)\n",
      "              (bn): BatchNorm1d(384, eps=1e-05, momentum=0.1, affine=True, track_running_stats=True)\n",
      "            )\n",
      "          )\n",
      "          (drop_path2): Identity()\n",
      "        )\n",
      "        (3): LevitBlock(\n",
      "          (attn): Attention(\n",
      "            (qkv): LinearNorm(\n",
      "              (linear): Linear(in_features=384, out_features=768, bias=False)\n",
      "              (bn): BatchNorm1d(768, eps=1e-05, momentum=0.1, affine=True, track_running_stats=True)\n",
      "            )\n",
      "            (proj): Sequential(\n",
      "              (act): Hardswish()\n",
      "              (ln): LinearNorm(\n",
      "                (linear): Linear(in_features=384, out_features=384, bias=False)\n",
      "                (bn): BatchNorm1d(384, eps=1e-05, momentum=0.1, affine=True, track_running_stats=True)\n",
      "              )\n",
      "            )\n",
      "          )\n",
      "          (drop_path1): Identity()\n",
      "          (mlp): LevitMlp(\n",
      "            (ln1): LinearNorm(\n",
      "              (linear): Linear(in_features=384, out_features=768, bias=False)\n",
      "              (bn): BatchNorm1d(768, eps=1e-05, momentum=0.1, affine=True, track_running_stats=True)\n",
      "            )\n",
      "            (act): Hardswish()\n",
      "            (drop): Dropout(p=0.0, inplace=False)\n",
      "            (ln2): LinearNorm(\n",
      "              (linear): Linear(in_features=768, out_features=384, bias=False)\n",
      "              (bn): BatchNorm1d(384, eps=1e-05, momentum=0.1, affine=True, track_running_stats=True)\n",
      "            )\n",
      "          )\n",
      "          (drop_path2): Identity()\n",
      "        )\n",
      "      )\n",
      "    )\n",
      "    (2): LevitStage(\n",
      "      (downsample): LevitDownsample(\n",
      "        (attn_downsample): AttentionDownsample(\n",
      "          (kv): LinearNorm(\n",
      "            (linear): Linear(in_features=384, out_features=1920, bias=False)\n",
      "            (bn): BatchNorm1d(1920, eps=1e-05, momentum=0.1, affine=True, track_running_stats=True)\n",
      "          )\n",
      "          (q): Sequential(\n",
      "            (down): Downsample()\n",
      "            (ln): LinearNorm(\n",
      "              (linear): Linear(in_features=384, out_features=384, bias=False)\n",
      "              (bn): BatchNorm1d(384, eps=1e-05, momentum=0.1, affine=True, track_running_stats=True)\n",
      "            )\n",
      "          )\n",
      "          (proj): Sequential(\n",
      "            (act): Hardswish()\n",
      "            (ln): LinearNorm(\n",
      "              (linear): Linear(in_features=1536, out_features=512, bias=False)\n",
      "              (bn): BatchNorm1d(512, eps=1e-05, momentum=0.1, affine=True, track_running_stats=True)\n",
      "            )\n",
      "          )\n",
      "        )\n",
      "        (mlp): LevitMlp(\n",
      "          (ln1): LinearNorm(\n",
      "            (linear): Linear(in_features=512, out_features=1024, bias=False)\n",
      "            (bn): BatchNorm1d(1024, eps=1e-05, momentum=0.1, affine=True, track_running_stats=True)\n",
      "          )\n",
      "          (act): Hardswish()\n",
      "          (drop): Dropout(p=0.0, inplace=False)\n",
      "          (ln2): LinearNorm(\n",
      "            (linear): Linear(in_features=1024, out_features=512, bias=False)\n",
      "            (bn): BatchNorm1d(512, eps=1e-05, momentum=0.1, affine=True, track_running_stats=True)\n",
      "          )\n",
      "        )\n",
      "        (drop_path): Identity()\n",
      "      )\n",
      "      (blocks): Sequential(\n",
      "        (0): LevitBlock(\n",
      "          (attn): Attention(\n",
      "            (qkv): LinearNorm(\n",
      "              (linear): Linear(in_features=512, out_features=1024, bias=False)\n",
      "              (bn): BatchNorm1d(1024, eps=1e-05, momentum=0.1, affine=True, track_running_stats=True)\n",
      "            )\n",
      "            (proj): Sequential(\n",
      "              (act): Hardswish()\n",
      "              (ln): LinearNorm(\n",
      "                (linear): Linear(in_features=512, out_features=512, bias=False)\n",
      "                (bn): BatchNorm1d(512, eps=1e-05, momentum=0.1, affine=True, track_running_stats=True)\n",
      "              )\n",
      "            )\n",
      "          )\n",
      "          (drop_path1): Identity()\n",
      "          (mlp): LevitMlp(\n",
      "            (ln1): LinearNorm(\n",
      "              (linear): Linear(in_features=512, out_features=1024, bias=False)\n",
      "              (bn): BatchNorm1d(1024, eps=1e-05, momentum=0.1, affine=True, track_running_stats=True)\n",
      "            )\n",
      "            (act): Hardswish()\n",
      "            (drop): Dropout(p=0.0, inplace=False)\n",
      "            (ln2): LinearNorm(\n",
      "              (linear): Linear(in_features=1024, out_features=512, bias=False)\n",
      "              (bn): BatchNorm1d(512, eps=1e-05, momentum=0.1, affine=True, track_running_stats=True)\n",
      "            )\n",
      "          )\n",
      "          (drop_path2): Identity()\n",
      "        )\n",
      "        (1): LevitBlock(\n",
      "          (attn): Attention(\n",
      "            (qkv): LinearNorm(\n",
      "              (linear): Linear(in_features=512, out_features=1024, bias=False)\n",
      "              (bn): BatchNorm1d(1024, eps=1e-05, momentum=0.1, affine=True, track_running_stats=True)\n",
      "            )\n",
      "            (proj): Sequential(\n",
      "              (act): Hardswish()\n",
      "              (ln): LinearNorm(\n",
      "                (linear): Linear(in_features=512, out_features=512, bias=False)\n",
      "                (bn): BatchNorm1d(512, eps=1e-05, momentum=0.1, affine=True, track_running_stats=True)\n",
      "              )\n",
      "            )\n",
      "          )\n",
      "          (drop_path1): Identity()\n",
      "          (mlp): LevitMlp(\n",
      "            (ln1): LinearNorm(\n",
      "              (linear): Linear(in_features=512, out_features=1024, bias=False)\n",
      "              (bn): BatchNorm1d(1024, eps=1e-05, momentum=0.1, affine=True, track_running_stats=True)\n",
      "            )\n",
      "            (act): Hardswish()\n",
      "            (drop): Dropout(p=0.0, inplace=False)\n",
      "            (ln2): LinearNorm(\n",
      "              (linear): Linear(in_features=1024, out_features=512, bias=False)\n",
      "              (bn): BatchNorm1d(512, eps=1e-05, momentum=0.1, affine=True, track_running_stats=True)\n",
      "            )\n",
      "          )\n",
      "          (drop_path2): Identity()\n",
      "        )\n",
      "        (2): LevitBlock(\n",
      "          (attn): Attention(\n",
      "            (qkv): LinearNorm(\n",
      "              (linear): Linear(in_features=512, out_features=1024, bias=False)\n",
      "              (bn): BatchNorm1d(1024, eps=1e-05, momentum=0.1, affine=True, track_running_stats=True)\n",
      "            )\n",
      "            (proj): Sequential(\n",
      "              (act): Hardswish()\n",
      "              (ln): LinearNorm(\n",
      "                (linear): Linear(in_features=512, out_features=512, bias=False)\n",
      "                (bn): BatchNorm1d(512, eps=1e-05, momentum=0.1, affine=True, track_running_stats=True)\n",
      "              )\n",
      "            )\n",
      "          )\n",
      "          (drop_path1): Identity()\n",
      "          (mlp): LevitMlp(\n",
      "            (ln1): LinearNorm(\n",
      "              (linear): Linear(in_features=512, out_features=1024, bias=False)\n",
      "              (bn): BatchNorm1d(1024, eps=1e-05, momentum=0.1, affine=True, track_running_stats=True)\n",
      "            )\n",
      "            (act): Hardswish()\n",
      "            (drop): Dropout(p=0.0, inplace=False)\n",
      "            (ln2): LinearNorm(\n",
      "              (linear): Linear(in_features=1024, out_features=512, bias=False)\n",
      "              (bn): BatchNorm1d(512, eps=1e-05, momentum=0.1, affine=True, track_running_stats=True)\n",
      "            )\n",
      "          )\n",
      "          (drop_path2): Identity()\n",
      "        )\n",
      "        (3): LevitBlock(\n",
      "          (attn): Attention(\n",
      "            (qkv): LinearNorm(\n",
      "              (linear): Linear(in_features=512, out_features=1024, bias=False)\n",
      "              (bn): BatchNorm1d(1024, eps=1e-05, momentum=0.1, affine=True, track_running_stats=True)\n",
      "            )\n",
      "            (proj): Sequential(\n",
      "              (act): Hardswish()\n",
      "              (ln): LinearNorm(\n",
      "                (linear): Linear(in_features=512, out_features=512, bias=False)\n",
      "                (bn): BatchNorm1d(512, eps=1e-05, momentum=0.1, affine=True, track_running_stats=True)\n",
      "              )\n",
      "            )\n",
      "          )\n",
      "          (drop_path1): Identity()\n",
      "          (mlp): LevitMlp(\n",
      "            (ln1): LinearNorm(\n",
      "              (linear): Linear(in_features=512, out_features=1024, bias=False)\n",
      "              (bn): BatchNorm1d(1024, eps=1e-05, momentum=0.1, affine=True, track_running_stats=True)\n",
      "            )\n",
      "            (act): Hardswish()\n",
      "            (drop): Dropout(p=0.0, inplace=False)\n",
      "            (ln2): LinearNorm(\n",
      "              (linear): Linear(in_features=1024, out_features=512, bias=False)\n",
      "              (bn): BatchNorm1d(512, eps=1e-05, momentum=0.1, affine=True, track_running_stats=True)\n",
      "            )\n",
      "          )\n",
      "          (drop_path2): Identity()\n",
      "        )\n",
      "      )\n",
      "    )\n",
      "  )\n",
      "  (head): NormLinear(\n",
      "    (bn): BatchNorm1d(512, eps=1e-05, momentum=0.1, affine=True, track_running_stats=True)\n",
      "    (drop): Dropout(p=0.0, inplace=False)\n",
      "    (linear): Linear(in_features=512, out_features=37, bias=True)\n",
      "  )\n",
      "  (head_dist): NormLinear(\n",
      "    (bn): BatchNorm1d(512, eps=1e-05, momentum=0.1, affine=True, track_running_stats=True)\n",
      "    (drop): Dropout(p=0.0, inplace=False)\n",
      "    (linear): Linear(in_features=512, out_features=37, bias=True)\n",
      "  )\n",
      ")\n"
     ]
    }
   ],
   "source": [
    "model = timm.create_model('levit_256', pretrained=True, num_classes=37) \n",
    "print(model)\n",
    "\n",
    "device = torch.device(\"cuda\" if torch.cuda.is_available() else \"cpu\")\n",
    "model = model.to(device)\n",
    "\n",
    "batch_size = 32\n",
    "learning_rate = 0.001\n",
    "num_epochs = 10"
   ]
  },
  {
   "cell_type": "code",
   "execution_count": 34,
   "metadata": {
    "id": "jx7gGEgYejyp"
   },
   "outputs": [],
   "source": [
    "transform = transforms.Compose([\n",
    "    transforms.Resize((224, 224)),  \n",
    "    transforms.ToTensor(),\n",
    "    transforms.Normalize(mean=[0.485, 0.456, 0.406], std=[0.229, 0.224, 0.225]),\n",
    "])"
   ]
  },
  {
   "cell_type": "code",
   "execution_count": 35,
   "metadata": {
    "id": "PodSwCS_f4qd"
   },
   "outputs": [],
   "source": [
    "trainval_data = datasets.OxfordIIITPet(root=\"data\", split=\"trainval\", target_types=\"category\", download=True, transform=transform)\n",
    "test_data = datasets.OxfordIIITPet(root=\"data\", split=\"test\", target_types=\"category\", download=True, transform=transform)\n",
    "combined_data = ConcatDataset([trainval_data, test_data])\n",
    "\n",
    "train_size = int(0.7 * len(combined_data))\n",
    "val_size = int(0.15 * len(combined_data))\n",
    "test_size = len(combined_data) - train_size - val_size\n",
    "train_data, val_data, test_data = random_split(combined_data, [train_size, val_size, test_size])"
   ]
  },
  {
   "cell_type": "code",
   "execution_count": 36,
   "metadata": {
    "colab": {
     "base_uri": "https://localhost:8080/"
    },
    "id": "7VBcafy8gBgk",
    "outputId": "bd207ffe-04ab-4848-fe56-cb2bf9df1f54"
   },
   "outputs": [
    {
     "name": "stdout",
     "output_type": "stream",
     "text": [
      "Train set size: 5144\n",
      "Validation set size: 1102\n",
      "Test set size: 1103\n"
     ]
    }
   ],
   "source": [
    "train_loader = DataLoader(train_data, batch_size=batch_size, shuffle=True)\n",
    "val_loader = DataLoader(val_data, batch_size=batch_size, shuffle=False)\n",
    "test_loader = DataLoader(test_data, batch_size=batch_size, shuffle=False)\n",
    "\n",
    "print(f\"Train set size: {len(train_data)}\")\n",
    "print(f\"Validation set size: {len(val_data)}\")\n",
    "print(f\"Test set size: {len(test_data)}\")"
   ]
  },
  {
   "cell_type": "code",
   "execution_count": 37,
   "metadata": {
    "id": "ithIzSqpenqC"
   },
   "outputs": [],
   "source": [
    "criterion = nn.CrossEntropyLoss()\n",
    "optimizer = optim.Adam(model.parameters(), lr=learning_rate)"
   ]
  },
  {
   "cell_type": "code",
   "execution_count": 41,
   "metadata": {
    "id": "2k4YP9ySfPyT"
   },
   "outputs": [],
   "source": [
    "def train(model, train_loader, criterion, optimizer, device):\n",
    "    model.train()\n",
    "    running_loss = 0.0\n",
    "    correct = 0\n",
    "    total = 0\n",
    "    for inputs, labels in tqdm(train_loader, desc=\"Training\"):\n",
    "        inputs, labels = inputs.to(device), labels.to(device)\n",
    "\n",
    "        optimizer.zero_grad()\n",
    "        outputs = model(inputs)\n",
    "        loss = criterion(outputs, labels)\n",
    "        loss.backward()\n",
    "        optimizer.step()\n",
    "\n",
    "        running_loss += loss.item()\n",
    "        _, predicted = torch.max(outputs, 1)\n",
    "        total += labels.size(0)\n",
    "        correct += (predicted == labels).sum().item()\n",
    "\n",
    "    epoch_loss = running_loss / len(train_loader)\n",
    "    accuracy = 100 * correct / total\n",
    "    print(f\"Train Loss: {epoch_loss:.4f}, Train Accuracy: {accuracy:.2f}%\")"
   ]
  },
  {
   "cell_type": "code",
   "execution_count": 42,
   "metadata": {
    "id": "reSveRC7fRaf"
   },
   "outputs": [],
   "source": [
    "def evaluate(model, data_loader, criterion, device, phase=\"Validation\"):\n",
    "    model.eval()\n",
    "    running_loss = 0.0\n",
    "    correct = 0\n",
    "    total = 0\n",
    "    with torch.no_grad():\n",
    "        for inputs, labels in tqdm(data_loader, desc=f\"{phase}\"):\n",
    "            inputs, labels = inputs.to(device), labels.to(device)\n",
    "            outputs = model(inputs)\n",
    "            loss = criterion(outputs, labels)\n",
    "\n",
    "            running_loss += loss.item()\n",
    "            _, predicted = torch.max(outputs, 1)\n",
    "            total += labels.size(0)\n",
    "            correct += (predicted == labels).sum().item()\n",
    "\n",
    "    epoch_loss = running_loss / len(data_loader)\n",
    "    accuracy = 100 * correct / total\n",
    "    print(f\"{phase} Loss: {epoch_loss:.4f}, {phase} Accuracy: {accuracy:.2f}%\")"
   ]
  },
  {
   "cell_type": "code",
   "execution_count": 43,
   "metadata": {
    "colab": {
     "base_uri": "https://localhost:8080/"
    },
    "id": "eXMXw8kufSqo",
    "outputId": "00f09a89-38e0-4ac1-f6cd-10522edac780"
   },
   "outputs": [
    {
     "name": "stdout",
     "output_type": "stream",
     "text": [
      "\n",
      "Epoch 1/10\n"
     ]
    },
    {
     "name": "stderr",
     "output_type": "stream",
     "text": [
      "Training: 100%|██████████| 161/161 [00:33<00:00,  4.86it/s]\n"
     ]
    },
    {
     "name": "stdout",
     "output_type": "stream",
     "text": [
      "Train Loss: 0.4385, Train Accuracy: 86.99%\n"
     ]
    },
    {
     "name": "stderr",
     "output_type": "stream",
     "text": [
      "Validation: 100%|██████████| 35/35 [00:05<00:00,  5.85it/s]\n"
     ]
    },
    {
     "name": "stdout",
     "output_type": "stream",
     "text": [
      "Validation Loss: 0.6465, Validation Accuracy: 79.58%\n",
      "\n",
      "Epoch 2/10\n"
     ]
    },
    {
     "name": "stderr",
     "output_type": "stream",
     "text": [
      "Training: 100%|██████████| 161/161 [00:33<00:00,  4.87it/s]\n"
     ]
    },
    {
     "name": "stdout",
     "output_type": "stream",
     "text": [
      "Train Loss: 0.2724, Train Accuracy: 91.54%\n"
     ]
    },
    {
     "name": "stderr",
     "output_type": "stream",
     "text": [
      "Validation: 100%|██████████| 35/35 [00:05<00:00,  5.86it/s]\n"
     ]
    },
    {
     "name": "stdout",
     "output_type": "stream",
     "text": [
      "Validation Loss: 0.6425, Validation Accuracy: 81.13%\n",
      "\n",
      "Epoch 3/10\n"
     ]
    },
    {
     "name": "stderr",
     "output_type": "stream",
     "text": [
      "Training: 100%|██████████| 161/161 [00:32<00:00,  4.89it/s]\n"
     ]
    },
    {
     "name": "stdout",
     "output_type": "stream",
     "text": [
      "Train Loss: 0.2473, Train Accuracy: 92.30%\n"
     ]
    },
    {
     "name": "stderr",
     "output_type": "stream",
     "text": [
      "Validation: 100%|██████████| 35/35 [00:05<00:00,  5.89it/s]\n"
     ]
    },
    {
     "name": "stdout",
     "output_type": "stream",
     "text": [
      "Validation Loss: 0.8441, Validation Accuracy: 76.77%\n",
      "\n",
      "Epoch 4/10\n"
     ]
    },
    {
     "name": "stderr",
     "output_type": "stream",
     "text": [
      "Training: 100%|██████████| 161/161 [00:32<00:00,  4.90it/s]\n"
     ]
    },
    {
     "name": "stdout",
     "output_type": "stream",
     "text": [
      "Train Loss: 0.2603, Train Accuracy: 92.01%\n"
     ]
    },
    {
     "name": "stderr",
     "output_type": "stream",
     "text": [
      "Validation: 100%|██████████| 35/35 [00:05<00:00,  5.89it/s]\n"
     ]
    },
    {
     "name": "stdout",
     "output_type": "stream",
     "text": [
      "Validation Loss: 0.7314, Validation Accuracy: 78.95%\n",
      "\n",
      "Epoch 5/10\n"
     ]
    },
    {
     "name": "stderr",
     "output_type": "stream",
     "text": [
      "Training: 100%|██████████| 161/161 [00:33<00:00,  4.87it/s]\n"
     ]
    },
    {
     "name": "stdout",
     "output_type": "stream",
     "text": [
      "Train Loss: 0.1317, Train Accuracy: 95.92%\n"
     ]
    },
    {
     "name": "stderr",
     "output_type": "stream",
     "text": [
      "Validation: 100%|██████████| 35/35 [00:05<00:00,  5.92it/s]\n"
     ]
    },
    {
     "name": "stdout",
     "output_type": "stream",
     "text": [
      "Validation Loss: 0.5384, Validation Accuracy: 86.03%\n",
      "\n",
      "Epoch 6/10\n"
     ]
    },
    {
     "name": "stderr",
     "output_type": "stream",
     "text": [
      "Training: 100%|██████████| 161/161 [00:33<00:00,  4.86it/s]\n"
     ]
    },
    {
     "name": "stdout",
     "output_type": "stream",
     "text": [
      "Train Loss: 0.1162, Train Accuracy: 96.25%\n"
     ]
    },
    {
     "name": "stderr",
     "output_type": "stream",
     "text": [
      "Validation: 100%|██████████| 35/35 [00:05<00:00,  5.92it/s]\n"
     ]
    },
    {
     "name": "stdout",
     "output_type": "stream",
     "text": [
      "Validation Loss: 1.5864, Validation Accuracy: 78.86%\n",
      "\n",
      "Epoch 7/10\n"
     ]
    },
    {
     "name": "stderr",
     "output_type": "stream",
     "text": [
      "Training: 100%|██████████| 161/161 [00:33<00:00,  4.87it/s]\n"
     ]
    },
    {
     "name": "stdout",
     "output_type": "stream",
     "text": [
      "Train Loss: 0.1305, Train Accuracy: 96.13%\n"
     ]
    },
    {
     "name": "stderr",
     "output_type": "stream",
     "text": [
      "Validation: 100%|██████████| 35/35 [00:06<00:00,  5.82it/s]\n"
     ]
    },
    {
     "name": "stdout",
     "output_type": "stream",
     "text": [
      "Validation Loss: 0.7159, Validation Accuracy: 82.12%\n",
      "\n",
      "Epoch 8/10\n"
     ]
    },
    {
     "name": "stderr",
     "output_type": "stream",
     "text": [
      "Training: 100%|██████████| 161/161 [00:33<00:00,  4.87it/s]\n"
     ]
    },
    {
     "name": "stdout",
     "output_type": "stream",
     "text": [
      "Train Loss: 0.1196, Train Accuracy: 96.31%\n"
     ]
    },
    {
     "name": "stderr",
     "output_type": "stream",
     "text": [
      "Validation: 100%|██████████| 35/35 [00:06<00:00,  5.65it/s]\n"
     ]
    },
    {
     "name": "stdout",
     "output_type": "stream",
     "text": [
      "Validation Loss: 0.6877, Validation Accuracy: 81.94%\n",
      "\n",
      "Epoch 9/10\n"
     ]
    },
    {
     "name": "stderr",
     "output_type": "stream",
     "text": [
      "Training: 100%|██████████| 161/161 [00:32<00:00,  4.88it/s]\n"
     ]
    },
    {
     "name": "stdout",
     "output_type": "stream",
     "text": [
      "Train Loss: 0.1243, Train Accuracy: 96.09%\n"
     ]
    },
    {
     "name": "stderr",
     "output_type": "stream",
     "text": [
      "Validation: 100%|██████████| 35/35 [00:05<00:00,  5.93it/s]\n"
     ]
    },
    {
     "name": "stdout",
     "output_type": "stream",
     "text": [
      "Validation Loss: 0.9737, Validation Accuracy: 75.23%\n",
      "\n",
      "Epoch 10/10\n"
     ]
    },
    {
     "name": "stderr",
     "output_type": "stream",
     "text": [
      "Training: 100%|██████████| 161/161 [00:33<00:00,  4.86it/s]\n"
     ]
    },
    {
     "name": "stdout",
     "output_type": "stream",
     "text": [
      "Train Loss: 0.1997, Train Accuracy: 93.62%\n"
     ]
    },
    {
     "name": "stderr",
     "output_type": "stream",
     "text": [
      "Validation: 100%|██████████| 35/35 [00:05<00:00,  5.88it/s]"
     ]
    },
    {
     "name": "stdout",
     "output_type": "stream",
     "text": [
      "Validation Loss: 0.7510, Validation Accuracy: 80.58%\n"
     ]
    },
    {
     "name": "stderr",
     "output_type": "stream",
     "text": [
      "\n"
     ]
    }
   ],
   "source": [
    "for epoch in range(num_epochs):\n",
    "    print(f\"\\nEpoch {epoch+1}/{num_epochs}\")\n",
    "    train(model, train_loader, criterion, optimizer, device)\n",
    "    evaluate(model, val_loader, criterion, device, phase=\"Validation\")"
   ]
  },
  {
   "cell_type": "code",
   "execution_count": 44,
   "metadata": {
    "colab": {
     "base_uri": "https://localhost:8080/"
    },
    "id": "Kbv95INyfUhw",
    "outputId": "21934609-e88e-45f9-ef7d-ffc37661e66c"
   },
   "outputs": [
    {
     "name": "stdout",
     "output_type": "stream",
     "text": [
      "\n",
      "Final Test Evaluation\n"
     ]
    },
    {
     "name": "stderr",
     "output_type": "stream",
     "text": [
      "Test: 100%|██████████| 35/35 [00:05<00:00,  6.15it/s]"
     ]
    },
    {
     "name": "stdout",
     "output_type": "stream",
     "text": [
      "Test Loss: 0.7485, Test Accuracy: 81.69%\n"
     ]
    },
    {
     "name": "stderr",
     "output_type": "stream",
     "text": [
      "\n"
     ]
    }
   ],
   "source": [
    "print(\"\\nFinal Test Evaluation\")\n",
    "evaluate(model, test_loader, criterion, device, phase=\"Test\")"
   ]
  },
  {
   "cell_type": "code",
   "execution_count": null,
   "metadata": {
    "id": "9wz4Ry5Phhd3"
   },
   "outputs": [],
   "source": []
  }
 ],
 "metadata": {
  "accelerator": "GPU",
  "colab": {
   "gpuType": "A100",
   "provenance": []
  },
  "kernelspec": {
   "display_name": "Python 3 (ipykernel)",
   "language": "python",
   "name": "python3"
  },
  "language_info": {
   "codemirror_mode": {
    "name": "ipython",
    "version": 3
   },
   "file_extension": ".py",
   "mimetype": "text/x-python",
   "name": "python",
   "nbconvert_exporter": "python",
   "pygments_lexer": "ipython3",
   "version": "3.12.4"
  }
 },
 "nbformat": 4,
 "nbformat_minor": 4
}
