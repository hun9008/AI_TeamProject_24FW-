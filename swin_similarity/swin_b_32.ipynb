{
  "cells": [
    {
      "cell_type": "code",
      "execution_count": 4,
      "metadata": {
        "colab": {
          "base_uri": "https://localhost:8080/"
        },
        "id": "G_8II8dbzG9v",
        "outputId": "cb2b23ac-087c-4de6-d25a-b33187ab158d"
      },
      "outputs": [
        {
          "output_type": "stream",
          "name": "stderr",
          "text": [
            "/usr/local/lib/python3.10/dist-packages/ignite/handlers/checkpoint.py:16: DeprecationWarning: `TorchScript` support for functional optimizers is deprecated and will be removed in a future PyTorch release. Consider using the `torch.compile` optimizer instead.\n",
            "  from torch.distributed.optim import ZeroRedundancyOptimizer\n"
          ]
        }
      ],
      "source": [
        "import numpy as np\n",
        "from collections import defaultdict\n",
        "import matplotlib.pyplot as plt\n",
        "\n",
        "import torch\n",
        "import torch.nn as nn\n",
        "import torch.optim as optim\n",
        "import torch.nn.functional as F\n",
        "from torchvision import datasets\n",
        "from torchvision import transforms\n",
        "\n",
        "from ignite.engine import Events, create_supervised_trainer, create_supervised_evaluator\n",
        "import ignite.metrics\n",
        "import ignite.contrib.handlers"
      ]
    },
    {
      "cell_type": "code",
      "execution_count": 5,
      "metadata": {
        "id": "f-WPe91rzG9v"
      },
      "outputs": [],
      "source": [
        "DATA_DIR = './data'\n",
        "\n",
        "IMAGE_SIZE = 32\n",
        "\n",
        "NUM_CLASSES = 10\n",
        "NUM_WORKERS = 8\n",
        "BATCH_SIZE = 32\n",
        "EPOCHS = 50\n",
        "\n",
        "LEARNING_RATE = 1e-3\n",
        "WEIGHT_DECAY = 1e-1\n",
        "\n",
        "validation_split = 0.1"
      ]
    },
    {
      "cell_type": "code",
      "source": [
        "DEVICE = torch.device(\"cuda\") if torch.cuda.is_available() else torch.device(\"cpu\")\n",
        "print(\"device:\", DEVICE)"
      ],
      "metadata": {
        "colab": {
          "base_uri": "https://localhost:8080/"
        },
        "id": "bG6v7SwQzQVC",
        "outputId": "cb339c5d-785e-4ac3-90cb-026d9f382ef0"
      },
      "execution_count": 6,
      "outputs": [
        {
          "output_type": "stream",
          "name": "stdout",
          "text": [
            "device: cuda\n"
          ]
        }
      ]
    },
    {
      "cell_type": "code",
      "source": [
        "train_transform = transforms.Compose([\n",
        "    transforms.RandomHorizontalFlip(),\n",
        "    transforms.RandomCrop(32, padding=4),\n",
        "    transforms.PILToTensor(),\n",
        "    transforms.ConvertImageDtype(torch.float)\n",
        "])"
      ],
      "metadata": {
        "id": "KwzHfJINzS1A"
      },
      "execution_count": 7,
      "outputs": []
    },
    {
      "cell_type": "code",
      "source": [
        "train_dset = datasets.CIFAR10(root=DATA_DIR, train=True, download=True, transform=train_transform)\n",
        "test_dset = datasets.CIFAR10(root=DATA_DIR, train=False, download=True, transform=transforms.ToTensor())"
      ],
      "metadata": {
        "colab": {
          "base_uri": "https://localhost:8080/"
        },
        "id": "1smUnfiFzzWT",
        "outputId": "fdf5faf8-f75d-40e0-cb45-8ebb777073fd"
      },
      "execution_count": 8,
      "outputs": [
        {
          "output_type": "stream",
          "name": "stdout",
          "text": [
            "Downloading https://www.cs.toronto.edu/~kriz/cifar-10-python.tar.gz to ./data/cifar-10-python.tar.gz\n"
          ]
        },
        {
          "output_type": "stream",
          "name": "stderr",
          "text": [
            "100%|██████████| 170498071/170498071 [00:03<00:00, 54220599.12it/s]\n"
          ]
        },
        {
          "output_type": "stream",
          "name": "stdout",
          "text": [
            "Extracting ./data/cifar-10-python.tar.gz to ./data\n",
            "Files already downloaded and verified\n"
          ]
        }
      ]
    },
    {
      "cell_type": "code",
      "source": [
        "train_loader = torch.utils.data.DataLoader(train_dset, batch_size=BATCH_SIZE, shuffle=True,\n",
        "                                           num_workers=NUM_WORKERS, pin_memory=True)\n",
        "test_loader = torch.utils.data.DataLoader(test_dset, batch_size=BATCH_SIZE, shuffle=False,\n",
        "                                          num_workers=NUM_WORKERS, pin_memory=True)"
      ],
      "metadata": {
        "id": "VI4clw0c2n_X"
      },
      "execution_count": 9,
      "outputs": []
    },
    {
      "cell_type": "code",
      "source": [
        "class Residual(nn.Module):\n",
        "    def __init__(self, *layers):\n",
        "        super().__init__()\n",
        "        self.residual = nn.Sequential(*layers)\n",
        "        self.gamma = nn.Parameter(torch.zeros(1))\n",
        "\n",
        "    def forward(self, x):\n",
        "        return x + self.gamma * self.residual(x)"
      ],
      "metadata": {
        "id": "NBfLwWdN00h4"
      },
      "execution_count": 10,
      "outputs": []
    },
    {
      "cell_type": "code",
      "source": [
        "class GlobalAvgPool(nn.Module):\n",
        "    def forward(self, x):\n",
        "        return x.mean(dim=-2)"
      ],
      "metadata": {
        "id": "aMbO27WY0811"
      },
      "execution_count": 11,
      "outputs": []
    },
    {
      "cell_type": "code",
      "source": [
        "class ShiftedWindowAttention(nn.Module):\n",
        "    def __init__(self, dim, head_dim, shape, window_size, shift_size=0):\n",
        "        super().__init__()\n",
        "        self.heads = dim // head_dim\n",
        "        self.head_dim = head_dim\n",
        "        self.scale = head_dim**-0.5\n",
        "\n",
        "        self.shape = shape\n",
        "        self.window_size = window_size\n",
        "        self.shift_size = shift_size\n",
        "\n",
        "        self.to_qkv = nn.Linear(dim, dim * 3)\n",
        "        self.unifyheads = nn.Linear(dim, dim)\n",
        "\n",
        "        self.pos_enc = nn.Parameter(torch.Tensor(self.heads, (2 * window_size - 1)**2))\n",
        "        self.register_buffer(\"relative_indices\", self.get_indices(window_size))\n",
        "\n",
        "        if shift_size > 0:\n",
        "            self.register_buffer(\"mask\", self.generate_mask(shape, window_size, shift_size))\n",
        "\n",
        "\n",
        "    def forward(self, x):\n",
        "        shift_size, window_size = self.shift_size, self.window_size\n",
        "\n",
        "        x = self.to_windows(x, self.shape, window_size, shift_size) # partition into windows\n",
        "\n",
        "        # self attention\n",
        "        qkv = self.to_qkv(x).unflatten(-1, (3, self.heads, self.head_dim)).transpose(-2, 1)\n",
        "        queries, keys, values = qkv.unbind(dim=2)\n",
        "\n",
        "        att = queries @ keys.transpose(-2, -1)\n",
        "\n",
        "        att = att * self.scale + self.get_rel_pos_enc(window_size) # add relative positon encoding\n",
        "\n",
        "        # masking\n",
        "        if shift_size > 0:\n",
        "            att = self.mask_attention(att)\n",
        "\n",
        "        att = F.softmax(att, dim=-1)\n",
        "\n",
        "        x = att @ values\n",
        "        x = x.transpose(1, 2).contiguous().flatten(-2, -1) # move head back\n",
        "        x = self.unifyheads(x)\n",
        "\n",
        "        x = self.from_windows(x, self.shape, window_size, shift_size) # undo partitioning into windows\n",
        "        return x\n",
        "\n",
        "\n",
        "    def to_windows(self, x, shape, window_size, shift_size):\n",
        "        x = x.unflatten(1, shape)\n",
        "        if shift_size > 0:\n",
        "            x = x.roll((-shift_size, -shift_size), dims=(1, 2))\n",
        "        x = self.split_windows(x, window_size)\n",
        "        return x\n",
        "\n",
        "\n",
        "    def from_windows(self, x, shape, window_size, shift_size):\n",
        "        x = self.merge_windows(x, shape, window_size)\n",
        "        if shift_size > 0:\n",
        "            x = x.roll((shift_size, shift_size), dims=(1, 2))\n",
        "        x = x.flatten(1, 2)\n",
        "        return x\n",
        "\n",
        "\n",
        "    def mask_attention(self, att):\n",
        "        num_win = self.mask.size(1)\n",
        "        att = att.unflatten(0, (att.size(0) // num_win, num_win))\n",
        "        att = att.masked_fill(self.mask, float('-inf'))\n",
        "        att = att.flatten(0, 1)\n",
        "        return att\n",
        "\n",
        "\n",
        "    def get_rel_pos_enc(self, window_size):\n",
        "        indices = self.relative_indices.expand(self.heads, -1)\n",
        "        rel_pos_enc = self.pos_enc.gather(-1, indices)\n",
        "        rel_pos_enc = rel_pos_enc.unflatten(-1, (window_size**2, window_size**2))\n",
        "        return rel_pos_enc\n",
        "\n",
        "\n",
        "    # For explanation of mask regions see Figure 4 in the article\n",
        "    @staticmethod\n",
        "    def generate_mask(shape, window_size, shift_size):\n",
        "        region_mask = torch.zeros(1, *shape, 1)\n",
        "        slices = [slice(0, -window_size), slice(-window_size, -shift_size), slice(-shift_size, None)]\n",
        "\n",
        "        region_num = 0\n",
        "        for i in slices:\n",
        "            for j in slices:\n",
        "                region_mask[:, i, j, :] = region_num\n",
        "                region_num += 1\n",
        "\n",
        "        mask_windows = ShiftedWindowAttention.split_windows(region_mask, window_size).squeeze(-1)\n",
        "        diff_mask = mask_windows.unsqueeze(1) - mask_windows.unsqueeze(2)\n",
        "        mask = diff_mask != 0\n",
        "        mask = mask.unsqueeze(1).unsqueeze(0) # add heads and batch dimension\n",
        "        return mask\n",
        "\n",
        "\n",
        "    @staticmethod\n",
        "    def split_windows(x, window_size):\n",
        "        n_h, n_w = x.size(1) // window_size, x.size(2) // window_size\n",
        "        x = x.unflatten(1, (n_h, window_size)).unflatten(-2, (n_w, window_size)) # split into windows\n",
        "        x = x.transpose(2, 3).flatten(0, 2) # merge batch and window numbers\n",
        "        x = x.flatten(-3, -2)\n",
        "        return x\n",
        "\n",
        "\n",
        "    @staticmethod\n",
        "    def merge_windows(x, shape, window_size):\n",
        "        n_h, n_w = shape[0] // window_size, shape[1] // window_size\n",
        "        b = x.size(0) // (n_h * n_w)\n",
        "        x = x.unflatten(1, (window_size, window_size))\n",
        "        x = x.unflatten(0, (b, n_h, n_w)).transpose(2, 3) # separate batch and window numbers\n",
        "        x = x.flatten(1, 2).flatten(-3, -2) # merge windows\n",
        "        return x\n",
        "\n",
        "\n",
        "    @staticmethod\n",
        "    def get_indices(window_size):\n",
        "        x = torch.arange(window_size, dtype=torch.long)\n",
        "\n",
        "        y1, x1, y2, x2 = torch.meshgrid(x, x, x, x, indexing='ij')\n",
        "        indices = (y1 - y2 + window_size - 1) * (2 * window_size - 1) + x1 - x2 + window_size - 1\n",
        "        indices = indices.flatten()\n",
        "\n",
        "        return indices"
      ],
      "metadata": {
        "id": "nYOXgV6-0-oq"
      },
      "execution_count": 12,
      "outputs": []
    },
    {
      "cell_type": "code",
      "source": [
        "class FeedForward(nn.Sequential):\n",
        "    def __init__(self, dim, mult=4):\n",
        "        hidden_dim = dim * mult\n",
        "        super().__init__(\n",
        "            nn.Linear(dim, hidden_dim),\n",
        "            nn.GELU(),\n",
        "            nn.Linear(hidden_dim, dim)\n",
        "        )"
      ],
      "metadata": {
        "id": "bZD-JOU91CYu"
      },
      "execution_count": 13,
      "outputs": []
    },
    {
      "cell_type": "code",
      "source": [
        "class TransformerBlock(nn.Sequential):\n",
        "    def __init__(self, dim, head_dim, shape, window_size, shift_size=0, p_drop=0.):\n",
        "        super().__init__(\n",
        "            Residual(\n",
        "                nn.LayerNorm(dim),\n",
        "                ShiftedWindowAttention(dim, head_dim, shape, window_size, shift_size),\n",
        "                nn.Dropout(p_drop)\n",
        "            ),\n",
        "            Residual(\n",
        "                nn.LayerNorm(dim),\n",
        "                FeedForward(dim),\n",
        "                nn.Dropout(p_drop)\n",
        "            )\n",
        "        )"
      ],
      "metadata": {
        "id": "U4JcosHW1EWv"
      },
      "execution_count": 14,
      "outputs": []
    },
    {
      "cell_type": "code",
      "source": [
        "class PatchMerging(nn.Module):\n",
        "    def __init__(self, in_dim, out_dim, shape):\n",
        "        super().__init__()\n",
        "        self.shape = shape\n",
        "        self.norm = nn.LayerNorm(4 * in_dim)\n",
        "        self.reduction = nn.Linear(4 * in_dim, out_dim, bias=False)\n",
        "\n",
        "    def forward(self, x):\n",
        "        x = x.unflatten(1, self.shape).movedim(-1, 1)\n",
        "        x = F.unfold(x, kernel_size=2, stride=2).movedim(1, -1)\n",
        "\n",
        "        x = self.norm(x)\n",
        "        x = self.reduction(x)\n",
        "        return x"
      ],
      "metadata": {
        "id": "1NpAl7RM1GIh"
      },
      "execution_count": 15,
      "outputs": []
    },
    {
      "cell_type": "code",
      "source": [
        "class Stage(nn.Sequential):\n",
        "    def __init__(self, num_blocks, in_dim, out_dim, head_dim, shape, window_size, p_drop=0.):\n",
        "        if out_dim != in_dim:\n",
        "            layers = [PatchMerging(in_dim, out_dim, shape)]\n",
        "            shape = (shape[0] // 2, shape[1] // 2)\n",
        "        else:\n",
        "            layers = []\n",
        "\n",
        "        shift_size = window_size // 2\n",
        "        layers += [TransformerBlock(out_dim, head_dim, shape, window_size, 0 if (num % 2 == 0) else shift_size,\n",
        "                                    p_drop) for num in range(num_blocks)]\n",
        "\n",
        "        super().__init__(*layers)"
      ],
      "metadata": {
        "id": "TzITSnCE1H80"
      },
      "execution_count": 16,
      "outputs": []
    },
    {
      "cell_type": "code",
      "source": [
        "class StageStack(nn.Sequential):\n",
        "    def __init__(self, num_blocks_list, dims, head_dim, shape, window_size, p_drop=0.):\n",
        "        layers = []\n",
        "        in_dim = dims[0]\n",
        "        for num, out_dim in zip(num_blocks_list, dims[1:]):\n",
        "            layers.append(Stage(num, in_dim, out_dim, head_dim, shape, window_size, p_drop))\n",
        "            if in_dim != out_dim:\n",
        "                shape = (shape[0] // 2, shape[1] // 2)\n",
        "                in_dim = out_dim\n",
        "\n",
        "        super().__init__(*layers)"
      ],
      "metadata": {
        "id": "1UYUIgpv1Jgc"
      },
      "execution_count": 17,
      "outputs": []
    },
    {
      "cell_type": "code",
      "source": [
        "class ToPatches(nn.Module):\n",
        "    def __init__(self, in_channels, dim, patch_size):\n",
        "        super().__init__()\n",
        "        self.patch_size = patch_size\n",
        "        patch_dim = in_channels * patch_size**2\n",
        "        self.proj = nn.Linear(patch_dim, dim)\n",
        "        self.norm = nn.LayerNorm(dim)\n",
        "\n",
        "    def forward(self, x):\n",
        "        x = F.unfold(x, kernel_size=self.patch_size, stride=self.patch_size).movedim(1, -1)\n",
        "        x = self.proj(x)\n",
        "        x = self.norm(x)\n",
        "        return x"
      ],
      "metadata": {
        "id": "UuKwZc881LG2"
      },
      "execution_count": 18,
      "outputs": []
    },
    {
      "cell_type": "code",
      "source": [
        "class AddPositionEmbedding(nn.Module):\n",
        "    def __init__(self, dim, num_patches):\n",
        "        super().__init__()\n",
        "        self.pos_embedding = nn.Parameter(torch.Tensor(num_patches, dim))\n",
        "\n",
        "    def forward(self, x):\n",
        "        return x + self.pos_embedding"
      ],
      "metadata": {
        "id": "FaMq9q5S1NGB"
      },
      "execution_count": 19,
      "outputs": []
    },
    {
      "cell_type": "code",
      "source": [
        "class ToEmbedding(nn.Sequential):\n",
        "    def __init__(self, in_channels, dim, patch_size, num_patches, p_drop=0.):\n",
        "        super().__init__(\n",
        "            ToPatches(in_channels, dim, patch_size),\n",
        "            AddPositionEmbedding(dim, num_patches),\n",
        "            nn.Dropout(p_drop)\n",
        "        )"
      ],
      "metadata": {
        "id": "9YoPCHwr1OWY"
      },
      "execution_count": 20,
      "outputs": []
    },
    {
      "cell_type": "code",
      "source": [
        "class Head(nn.Sequential):\n",
        "    def __init__(self, dim, classes, p_drop=0.):\n",
        "        super().__init__(\n",
        "            nn.LayerNorm(dim),\n",
        "            nn.GELU(),\n",
        "            GlobalAvgPool(),\n",
        "            nn.Dropout(p_drop),\n",
        "            nn.Linear(dim, classes)\n",
        "        )"
      ],
      "metadata": {
        "id": "xvNRSxSv1PnH"
      },
      "execution_count": 21,
      "outputs": []
    },
    {
      "cell_type": "code",
      "source": [
        "class SwinTransformer(nn.Sequential):\n",
        "    def __init__(self, classes, image_size, num_blocks_list, dims, head_dim, patch_size, window_size,\n",
        "                 in_channels=3, emb_p_drop=0., trans_p_drop=0., head_p_drop=0.):\n",
        "        reduced_size = image_size // patch_size\n",
        "        shape = (reduced_size, reduced_size)\n",
        "        num_patches = shape[0] * shape[1]\n",
        "\n",
        "        super().__init__(\n",
        "            ToEmbedding(in_channels, dims[0], patch_size, num_patches, emb_p_drop),\n",
        "            StageStack(num_blocks_list, dims, head_dim, shape, window_size, trans_p_drop),\n",
        "            Head(dims[-1], classes, head_p_drop)\n",
        "        )\n",
        "        self.reset_parameters()\n",
        "\n",
        "    def reset_parameters(self):\n",
        "        for m in self.modules():\n",
        "            if isinstance(m, nn.Linear):\n",
        "                nn.init.kaiming_normal_(m.weight)\n",
        "                if m.bias is not None: nn.init.zeros_(m.bias)\n",
        "            elif isinstance(m, nn.LayerNorm):\n",
        "                nn.init.constant_(m.weight, 1.)\n",
        "                nn.init.zeros_(m.bias)\n",
        "            elif isinstance(m, AddPositionEmbedding):\n",
        "                nn.init.normal_(m.pos_embedding, mean=0.0, std=0.02)\n",
        "            elif isinstance(m, ShiftedWindowAttention):\n",
        "                nn.init.normal_(m.pos_enc, mean=0.0, std=0.02)\n",
        "            elif isinstance(m, Residual):\n",
        "                nn.init.zeros_(m.gamma)\n",
        "\n",
        "    def separate_parameters(self):\n",
        "        parameters_decay = set()\n",
        "        parameters_no_decay = set()\n",
        "        modules_weight_decay = (nn.Linear, )\n",
        "        modules_no_weight_decay = (nn.LayerNorm,)\n",
        "\n",
        "        for m_name, m in self.named_modules():\n",
        "            for param_name, param in m.named_parameters():\n",
        "                full_param_name = f\"{m_name}.{param_name}\" if m_name else param_name\n",
        "\n",
        "                if isinstance(m, modules_no_weight_decay):\n",
        "                    parameters_no_decay.add(full_param_name)\n",
        "                elif param_name.endswith(\"bias\"):\n",
        "                    parameters_no_decay.add(full_param_name)\n",
        "                elif isinstance(m, Residual) and param_name.endswith(\"gamma\"):\n",
        "                    parameters_no_decay.add(full_param_name)\n",
        "                elif isinstance(m, AddPositionEmbedding) and param_name.endswith(\"pos_embedding\"):\n",
        "                    parameters_no_decay.add(full_param_name)\n",
        "                elif isinstance(m, ShiftedWindowAttention) and param_name.endswith(\"pos_enc\"):\n",
        "                    parameters_no_decay.add(full_param_name)\n",
        "                elif isinstance(m, modules_weight_decay):\n",
        "                    parameters_decay.add(full_param_name)\n",
        "\n",
        "        # sanity check\n",
        "        assert len(parameters_decay & parameters_no_decay) == 0\n",
        "        assert len(parameters_decay) + len(parameters_no_decay) == len(list(model.parameters()))\n",
        "\n",
        "        return parameters_decay, parameters_no_decay"
      ],
      "metadata": {
        "id": "An5vS4_C1RMF"
      },
      "execution_count": 22,
      "outputs": []
    },
    {
      "cell_type": "code",
      "source": [
        "model = SwinTransformer(NUM_CLASSES, IMAGE_SIZE,\n",
        "                        num_blocks_list=[4, 4], dims=[128, 128, 256],\n",
        "                        head_dim=32, patch_size=2, window_size=4,\n",
        "                        emb_p_drop=0., trans_p_drop=0., head_p_drop=0.3)"
      ],
      "metadata": {
        "id": "fdsfj4mU1VV3"
      },
      "execution_count": 23,
      "outputs": []
    },
    {
      "cell_type": "code",
      "source": [
        "model.to(DEVICE);"
      ],
      "metadata": {
        "id": "bFgN8S9W1YC6"
      },
      "execution_count": 24,
      "outputs": []
    },
    {
      "cell_type": "code",
      "source": [
        "print(\"Number of parameters: {:,}\".format(sum(p.numel() for p in model.parameters())))"
      ],
      "metadata": {
        "colab": {
          "base_uri": "https://localhost:8080/"
        },
        "id": "KdV6Rg0m1Z9C",
        "outputId": "f37a0cd5-3760-4796-9ec3-4e5e2d4769e1"
      },
      "execution_count": 25,
      "outputs": [
        {
          "output_type": "stream",
          "name": "stdout",
          "text": [
            "Number of parameters: 4,124,362\n"
          ]
        }
      ]
    },
    {
      "cell_type": "code",
      "source": [
        "def get_optimizer(model, learning_rate, weight_decay):\n",
        "    param_dict = {pn: p for pn, p in model.named_parameters()}\n",
        "    parameters_decay, parameters_no_decay = model.separate_parameters()\n",
        "\n",
        "    optim_groups = [\n",
        "        {\"params\": [param_dict[pn] for pn in parameters_decay], \"weight_decay\": weight_decay},\n",
        "        {\"params\": [param_dict[pn] for pn in parameters_no_decay], \"weight_decay\": 0.0},\n",
        "    ]\n",
        "    optimizer = optim.AdamW(optim_groups, lr=learning_rate)\n",
        "    return optimizer"
      ],
      "metadata": {
        "id": "tE7RBwzG1b8X"
      },
      "execution_count": 26,
      "outputs": []
    },
    {
      "cell_type": "code",
      "source": [
        "loss = nn.CrossEntropyLoss()\n",
        "optimizer = get_optimizer(model, learning_rate=LEARNING_RATE, weight_decay=WEIGHT_DECAY)\n",
        "trainer = create_supervised_trainer(model, optimizer, loss, device=DEVICE)\n",
        "lr_scheduler = optim.lr_scheduler.OneCycleLR(optimizer, max_lr=LEARNING_RATE,\n",
        "                                             steps_per_epoch=len(train_loader), epochs=EPOCHS)\n",
        "\n",
        "trainer.add_event_handler(Events.ITERATION_COMPLETED, lambda engine: lr_scheduler.step());\n",
        "ignite.metrics.RunningAverage(output_transform=lambda x: x).attach(trainer, \"loss\")\n",
        "val_metrics = {\"accuracy\": ignite.metrics.Accuracy(), \"loss\": ignite.metrics.Loss(loss)}\n",
        "evaluator = create_supervised_evaluator(model, metrics=val_metrics, device=DEVICE)\n",
        "history = defaultdict(list)"
      ],
      "metadata": {
        "id": "2c12tfuG14is"
      },
      "execution_count": 27,
      "outputs": []
    },
    {
      "cell_type": "code",
      "source": [
        "@trainer.on(Events.EPOCH_COMPLETED)\n",
        "def log_validation_results(engine):\n",
        "    train_state = engine.state\n",
        "    epoch = train_state.epoch\n",
        "    max_epochs = train_state.max_epochs\n",
        "    train_loss = train_state.metrics[\"loss\"]\n",
        "    history['train loss'].append(train_loss)\n",
        "\n",
        "    evaluator.run(test_loader)\n",
        "    val_metrics = evaluator.state.metrics\n",
        "    val_loss = val_metrics[\"loss\"]\n",
        "    val_acc = val_metrics[\"accuracy\"]\n",
        "    history['val loss'].append(val_loss)\n",
        "    history['val acc'].append(val_acc)\n",
        "\n",
        "    print(\"{}/{} - train: loss {:.3f}; val: loss {:.3f} accuracy {:.3f}\".format(\n",
        "        epoch, max_epochs, train_loss, val_loss, val_acc))"
      ],
      "metadata": {
        "id": "AHDXgmXA2TJ-"
      },
      "execution_count": 28,
      "outputs": []
    },
    {
      "cell_type": "code",
      "source": [
        "trainer.run(train_loader, max_epochs=EPOCHS);"
      ],
      "metadata": {
        "colab": {
          "base_uri": "https://localhost:8080/"
        },
        "id": "5ippnjaF2WIx",
        "outputId": "a1e4e349-9a4b-44f4-b360-0dfe738e154b"
      },
      "execution_count": 29,
      "outputs": [
        {
          "output_type": "stream",
          "name": "stdout",
          "text": [
            "1/50 - train: loss 1.929; val: loss 1.832 accuracy 0.321\n",
            "2/50 - train: loss 1.622; val: loss 1.585 accuracy 0.413\n",
            "3/50 - train: loss 1.431; val: loss 1.371 accuracy 0.501\n",
            "4/50 - train: loss 1.338; val: loss 1.343 accuracy 0.521\n",
            "5/50 - train: loss 1.243; val: loss 1.186 accuracy 0.571\n",
            "6/50 - train: loss 1.185; val: loss 1.192 accuracy 0.575\n",
            "7/50 - train: loss 1.129; val: loss 1.078 accuracy 0.617\n",
            "8/50 - train: loss 1.099; val: loss 1.064 accuracy 0.617\n",
            "9/50 - train: loss 1.040; val: loss 1.005 accuracy 0.643\n",
            "10/50 - train: loss 1.061; val: loss 0.971 accuracy 0.650\n",
            "11/50 - train: loss 1.014; val: loss 0.961 accuracy 0.663\n",
            "12/50 - train: loss 1.010; val: loss 0.947 accuracy 0.664\n",
            "13/50 - train: loss 0.958; val: loss 0.925 accuracy 0.677\n",
            "14/50 - train: loss 0.989; val: loss 0.923 accuracy 0.677\n",
            "15/50 - train: loss 0.937; val: loss 0.897 accuracy 0.686\n",
            "16/50 - train: loss 0.904; val: loss 0.867 accuracy 0.699\n",
            "17/50 - train: loss 0.907; val: loss 0.902 accuracy 0.678\n",
            "18/50 - train: loss 0.868; val: loss 1.010 accuracy 0.664\n",
            "19/50 - train: loss 0.830; val: loss 0.888 accuracy 0.701\n",
            "20/50 - train: loss 0.836; val: loss 0.813 accuracy 0.720\n",
            "21/50 - train: loss 0.803; val: loss 0.794 accuracy 0.729\n",
            "22/50 - train: loss 0.823; val: loss 0.802 accuracy 0.720\n",
            "23/50 - train: loss 0.794; val: loss 0.750 accuracy 0.740\n",
            "24/50 - train: loss 0.753; val: loss 0.726 accuracy 0.747\n",
            "25/50 - train: loss 0.770; val: loss 0.721 accuracy 0.747\n",
            "26/50 - train: loss 0.735; val: loss 0.719 accuracy 0.749\n",
            "27/50 - train: loss 0.702; val: loss 0.658 accuracy 0.772\n",
            "28/50 - train: loss 0.675; val: loss 0.673 accuracy 0.765\n",
            "29/50 - train: loss 0.643; val: loss 0.657 accuracy 0.773\n",
            "30/50 - train: loss 0.628; val: loss 0.638 accuracy 0.779\n",
            "31/50 - train: loss 0.601; val: loss 0.639 accuracy 0.779\n",
            "32/50 - train: loss 0.569; val: loss 0.599 accuracy 0.795\n",
            "33/50 - train: loss 0.546; val: loss 0.568 accuracy 0.806\n",
            "34/50 - train: loss 0.529; val: loss 0.620 accuracy 0.790\n",
            "35/50 - train: loss 0.500; val: loss 0.539 accuracy 0.816\n",
            "36/50 - train: loss 0.480; val: loss 0.495 accuracy 0.830\n",
            "37/50 - train: loss 0.426; val: loss 0.489 accuracy 0.831\n",
            "38/50 - train: loss 0.403; val: loss 0.494 accuracy 0.828\n",
            "39/50 - train: loss 0.362; val: loss 0.457 accuracy 0.849\n",
            "40/50 - train: loss 0.350; val: loss 0.462 accuracy 0.845\n",
            "41/50 - train: loss 0.305; val: loss 0.434 accuracy 0.856\n",
            "42/50 - train: loss 0.315; val: loss 0.419 accuracy 0.860\n",
            "43/50 - train: loss 0.276; val: loss 0.408 accuracy 0.865\n",
            "44/50 - train: loss 0.255; val: loss 0.402 accuracy 0.870\n",
            "45/50 - train: loss 0.218; val: loss 0.400 accuracy 0.872\n",
            "46/50 - train: loss 0.209; val: loss 0.401 accuracy 0.871\n",
            "47/50 - train: loss 0.203; val: loss 0.401 accuracy 0.874\n",
            "48/50 - train: loss 0.164; val: loss 0.399 accuracy 0.873\n",
            "49/50 - train: loss 0.161; val: loss 0.396 accuracy 0.877\n",
            "50/50 - train: loss 0.172; val: loss 0.396 accuracy 0.876\n"
          ]
        }
      ]
    },
    {
      "cell_type": "code",
      "source": [
        "fig = plt.figure()\n",
        "ax = fig.add_subplot(111)\n",
        "xs = np.arange(1, len(history['train loss']) + 1)\n",
        "ax.plot(xs, history['train loss'], '.-', label='train')\n",
        "ax.plot(xs, history['val loss'], '.-', label='val')\n",
        "ax.set_xlabel('epoch')\n",
        "ax.set_ylabel('loss')\n",
        "ax.legend()\n",
        "ax.grid()\n",
        "plt.show()"
      ],
      "metadata": {
        "colab": {
          "base_uri": "https://localhost:8080/",
          "height": 452
        },
        "id": "7Y6hwcMC2hpB",
        "outputId": "dcf5d3de-021b-465b-b938-cb14114eef6b"
      },
      "execution_count": 30,
      "outputs": [
        {
          "output_type": "display_data",
          "data": {
            "text/plain": [
              "<Figure size 640x480 with 1 Axes>"
            ],
            "image/png": "[encoded data removed]"
          },
          "metadata": {}
        }
      ]
    },
    {
      "cell_type": "code",
      "source": [
        "fig = plt.figure()\n",
        "ax = fig.add_subplot(111)\n",
        "xs = np.arange(1, len(history['val acc']) + 1)\n",
        "ax.plot(xs, history['val acc'], '-')\n",
        "ax.set_xlabel('epoch')\n",
        "ax.set_ylabel('val acc')\n",
        "ax.grid()\n",
        "plt.show()"
      ],
      "metadata": {
        "colab": {
          "base_uri": "https://localhost:8080/",
          "height": 452
        },
        "id": "4LpC14D121Cv",
        "outputId": "fb9867e8-41a0-467c-b7b1-df293825498f"
      },
      "execution_count": 31,
      "outputs": [
        {
          "output_type": "display_data",
          "data": {
            "text/plain": [
              "<Figure size 640x480 with 1 Axes>"
            ],
            "image/png": "[encoded data removed]"
          },
          "metadata": {}
        }
      ]
    },
    {
      "cell_type": "code",
      "source": [],
      "metadata": {
        "id": "wE55pYxy3OeA"
      },
      "execution_count": null,
      "outputs": []
    }
  ],
  "metadata": {
    "kernelspec": {
      "display_name": "Python 3",
      "name": "python3"
    },
    "language_info": {
      "codemirror_mode": {
        "name": "ipython",
        "version": 3
      },
      "file_extension": ".py",
      "mimetype": "text/x-python",
      "name": "python",
      "nbconvert_exporter": "python",
      "pygments_lexer": "ipython3",
      "version": "3.10.0"
    },
    "colab": {
      "provenance": [],
      "gpuType": "A100"
    },
    "accelerator": "GPU"
  },
  "nbformat": 4,
  "nbformat_minor": 0
}