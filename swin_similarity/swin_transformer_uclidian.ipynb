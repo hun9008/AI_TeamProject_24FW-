{
  "cells": [
    {
      "cell_type": "code",
      "source": [
        "!pip install pytorch-ignite"
      ],
      "metadata": {
        "colab": {
          "base_uri": "https://localhost:8080/"
        },
        "id": "Z3xJdmrbmULy",
        "outputId": "90d40c56-9f9d-4ae4-c159-6abfe90a54cc"
      },
      "execution_count": 1,
      "outputs": [
        {
          "output_type": "stream",
          "name": "stdout",
          "text": [
            "Collecting pytorch-ignite\n",
            "  Downloading pytorch_ignite-0.5.1-py3-none-any.whl.metadata (27 kB)\n",
            "Requirement already satisfied: torch<3,>=1.3 in /usr/local/lib/python3.10/dist-packages (from pytorch-ignite) (2.5.0+cu121)\n",
            "Requirement already satisfied: packaging in /usr/local/lib/python3.10/dist-packages (from pytorch-ignite) (24.1)\n",
            "Requirement already satisfied: filelock in /usr/local/lib/python3.10/dist-packages (from torch<3,>=1.3->pytorch-ignite) (3.16.1)\n",
            "Requirement already satisfied: typing-extensions>=4.8.0 in /usr/local/lib/python3.10/dist-packages (from torch<3,>=1.3->pytorch-ignite) (4.12.2)\n",
            "Requirement already satisfied: networkx in /usr/local/lib/python3.10/dist-packages (from torch<3,>=1.3->pytorch-ignite) (3.4.2)\n",
            "Requirement already satisfied: jinja2 in /usr/local/lib/python3.10/dist-packages (from torch<3,>=1.3->pytorch-ignite) (3.1.4)\n",
            "Requirement already satisfied: fsspec in /usr/local/lib/python3.10/dist-packages (from torch<3,>=1.3->pytorch-ignite) (2024.6.1)\n",
            "Requirement already satisfied: sympy==1.13.1 in /usr/local/lib/python3.10/dist-packages (from torch<3,>=1.3->pytorch-ignite) (1.13.1)\n",
            "Requirement already satisfied: mpmath<1.4,>=1.1.0 in /usr/local/lib/python3.10/dist-packages (from sympy==1.13.1->torch<3,>=1.3->pytorch-ignite) (1.3.0)\n",
            "Requirement already satisfied: MarkupSafe>=2.0 in /usr/local/lib/python3.10/dist-packages (from jinja2->torch<3,>=1.3->pytorch-ignite) (3.0.2)\n",
            "Downloading pytorch_ignite-0.5.1-py3-none-any.whl (312 kB)\n",
            "\u001b[2K   \u001b[90m━━━━━━━━━━━━━━━━━━━━━━━━━━━━━━━━━━━━━━━━\u001b[0m \u001b[32m312.7/312.7 kB\u001b[0m \u001b[31m6.2 MB/s\u001b[0m eta \u001b[36m0:00:00\u001b[0m\n",
            "\u001b[?25hInstalling collected packages: pytorch-ignite\n",
            "Successfully installed pytorch-ignite-0.5.1\n"
          ]
        }
      ]
    },
    {
      "cell_type": "code",
      "execution_count": 2,
      "metadata": {
        "id": "G_8II8dbzG9v",
        "colab": {
          "base_uri": "https://localhost:8080/"
        },
        "outputId": "734d3429-2a28-4faa-838a-2201e0b137c1"
      },
      "outputs": [
        {
          "output_type": "stream",
          "name": "stderr",
          "text": [
            "/usr/local/lib/python3.10/dist-packages/ignite/handlers/checkpoint.py:16: DeprecationWarning: `TorchScript` support for functional optimizers is deprecated and will be removed in a future PyTorch release. Consider using the `torch.compile` optimizer instead.\n",
            "  from torch.distributed.optim import ZeroRedundancyOptimizer\n"
          ]
        }
      ],
      "source": [
        "import numpy as np\n",
        "from collections import defaultdict\n",
        "import matplotlib.pyplot as plt\n",
        "\n",
        "import torch\n",
        "import torch.nn as nn\n",
        "import torch.optim as optim\n",
        "import torch.nn.functional as F\n",
        "from torchvision import datasets\n",
        "from torchvision import transforms\n",
        "\n",
        "from ignite.engine import Events, create_supervised_trainer, create_supervised_evaluator\n",
        "import ignite.metrics\n",
        "import ignite.contrib.handlers\n",
        "import time"
      ]
    },
    {
      "cell_type": "code",
      "execution_count": 3,
      "metadata": {
        "id": "f-WPe91rzG9v"
      },
      "outputs": [],
      "source": [
        "DATA_DIR = './data'\n",
        "\n",
        "IMAGE_SIZE = 32\n",
        "\n",
        "NUM_CLASSES = 10\n",
        "NUM_WORKERS = 8\n",
        "BATCH_SIZE = 32\n",
        "EPOCHS = 50\n",
        "\n",
        "LEARNING_RATE = 1e-3\n",
        "WEIGHT_DECAY = 1e-1\n",
        "\n",
        "validation_split = 0.1"
      ]
    },
    {
      "cell_type": "code",
      "execution_count": 4,
      "metadata": {
        "colab": {
          "base_uri": "https://localhost:8080/"
        },
        "id": "bG6v7SwQzQVC",
        "outputId": "8350b073-2a92-4c6a-8415-e65963158386"
      },
      "outputs": [
        {
          "output_type": "stream",
          "name": "stdout",
          "text": [
            "device: cuda\n"
          ]
        }
      ],
      "source": [
        "DEVICE = torch.device(\"cuda\") if torch.cuda.is_available() else torch.device(\"cpu\")\n",
        "print(\"device:\", DEVICE)"
      ]
    },
    {
      "cell_type": "code",
      "execution_count": 5,
      "metadata": {
        "id": "KwzHfJINzS1A"
      },
      "outputs": [],
      "source": [
        "train_transform = transforms.Compose([\n",
        "    transforms.RandomHorizontalFlip(),\n",
        "    transforms.RandomCrop(32, padding=4),\n",
        "    transforms.PILToTensor(),\n",
        "    transforms.ConvertImageDtype(torch.float)\n",
        "])"
      ]
    },
    {
      "cell_type": "code",
      "execution_count": 6,
      "metadata": {
        "colab": {
          "base_uri": "https://localhost:8080/"
        },
        "id": "1smUnfiFzzWT",
        "outputId": "a4c8823d-d41f-48b4-abea-7577e760b404"
      },
      "outputs": [
        {
          "output_type": "stream",
          "name": "stdout",
          "text": [
            "Downloading https://www.cs.toronto.edu/~kriz/cifar-10-python.tar.gz to ./data/cifar-10-python.tar.gz\n"
          ]
        },
        {
          "output_type": "stream",
          "name": "stderr",
          "text": [
            "100%|██████████| 170M/170M [00:03<00:00, 53.6MB/s]\n"
          ]
        },
        {
          "output_type": "stream",
          "name": "stdout",
          "text": [
            "Extracting ./data/cifar-10-python.tar.gz to ./data\n",
            "Files already downloaded and verified\n"
          ]
        }
      ],
      "source": [
        "train_dset = datasets.CIFAR10(root=DATA_DIR, train=True, download=True, transform=train_transform)\n",
        "test_dset = datasets.CIFAR10(root=DATA_DIR, train=False, download=True, transform=transforms.ToTensor())"
      ]
    },
    {
      "cell_type": "code",
      "execution_count": 7,
      "metadata": {
        "id": "VI4clw0c2n_X"
      },
      "outputs": [],
      "source": [
        "train_loader = torch.utils.data.DataLoader(train_dset, batch_size=BATCH_SIZE, shuffle=True,\n",
        "                                           num_workers=NUM_WORKERS, pin_memory=True)\n",
        "test_loader = torch.utils.data.DataLoader(test_dset, batch_size=BATCH_SIZE, shuffle=False,\n",
        "                                          num_workers=NUM_WORKERS, pin_memory=True)"
      ]
    },
    {
      "cell_type": "code",
      "execution_count": 8,
      "metadata": {
        "id": "NBfLwWdN00h4"
      },
      "outputs": [],
      "source": [
        "class Residual(nn.Module):\n",
        "    def __init__(self, *layers):\n",
        "        super().__init__()\n",
        "        self.residual = nn.Sequential(*layers)\n",
        "        self.gamma = nn.Parameter(torch.zeros(1))\n",
        "\n",
        "    def forward(self, x):\n",
        "        return x + self.gamma * self.residual(x)"
      ]
    },
    {
      "cell_type": "code",
      "execution_count": 9,
      "metadata": {
        "id": "aMbO27WY0811"
      },
      "outputs": [],
      "source": [
        "class GlobalAvgPool(nn.Module):\n",
        "    def forward(self, x):\n",
        "        return x.mean(dim=-2)"
      ]
    },
    {
      "cell_type": "code",
      "execution_count": 10,
      "metadata": {
        "id": "nYOXgV6-0-oq"
      },
      "outputs": [],
      "source": [
        "class ShiftedWindowAttention(nn.Module):\n",
        "    def __init__(self, dim, head_dim, shape, window_size, shift_size=0):\n",
        "        super().__init__()\n",
        "        self.heads = dim // head_dim\n",
        "        self.head_dim = head_dim\n",
        "        self.scale = head_dim**-0.5\n",
        "\n",
        "        self.shape = shape\n",
        "        self.window_size = window_size\n",
        "        self.shift_size = shift_size\n",
        "\n",
        "        self.to_qkv = nn.Linear(dim, dim * 3)\n",
        "        self.unifyheads = nn.Linear(dim, dim)\n",
        "\n",
        "        self.pos_enc = nn.Parameter(torch.Tensor(self.heads, (2 * window_size - 1)**2))\n",
        "        self.register_buffer(\"relative_indices\", self.get_indices(window_size))\n",
        "\n",
        "        if shift_size > 0:\n",
        "            self.register_buffer(\"mask\", self.generate_mask(shape, window_size, shift_size))\n",
        "\n",
        "\n",
        "    def forward(self, x):\n",
        "        shift_size, window_size = self.shift_size, self.window_size\n",
        "\n",
        "        # 1. 윈도우 분할\n",
        "        x = self.to_windows(x, self.shape, window_size, shift_size) # partition into windows\n",
        "\n",
        "        # self attention\n",
        "        # 2. 각 윈도우 self attention\n",
        "        # q, k, v로 분리 qkv = (batch_size, heads, 3, head_dim)\n",
        "        qkv = self.to_qkv(x).unflatten(-1, (3, self.heads, self.head_dim)).transpose(-2, 1)\n",
        "        queries, keys, values = qkv.unbind(dim=2)\n",
        "\n",
        "        # query 와 key의 내적 대신에 유클리드 거리를 이용한 유사도 이용\n",
        "        queries_extended = queries.unsqueeze(3)\n",
        "        keys_extended = keys.unsqueeze(2)\n",
        "        att = torch.sqrt(torch.sum((queries_extended - keys_extended)**2, dim=-1))\n",
        "\n",
        "        # 3. 상대적 위치 인코딩 추가\n",
        "        att = att * self.scale + self.get_rel_pos_enc(window_size) # add relative positon encoding\n",
        "\n",
        "        # 4. masking\n",
        "        if shift_size > 0:\n",
        "            att = self.mask_attention(att)\n",
        "\n",
        "        # 5. softmax를 취한다\n",
        "        att = F.softmax(att, dim=-1)\n",
        "\n",
        "        # 6. attention 값과 value를 곱한다\n",
        "        x = att @ values\n",
        "        x = x.transpose(1, 2).contiguous().flatten(-2, -1) # move head back\n",
        "        x = self.unifyheads(x)\n",
        "\n",
        "        # 7. 윈도우 병합\n",
        "        x = self.from_windows(x, self.shape, window_size, shift_size) # undo partitioning into windows\n",
        "        return x\n",
        "\n",
        "\n",
        "    def to_windows(self, x, shape, window_size, shift_size):\n",
        "        x = x.unflatten(1, shape)\n",
        "        if shift_size > 0:\n",
        "            x = x.roll((-shift_size, -shift_size), dims=(1, 2))\n",
        "        x = self.split_windows(x, window_size)\n",
        "        return x\n",
        "\n",
        "\n",
        "    def from_windows(self, x, shape, window_size, shift_size):\n",
        "        x = self.merge_windows(x, shape, window_size)\n",
        "        if shift_size > 0:\n",
        "            x = x.roll((shift_size, shift_size), dims=(1, 2))\n",
        "        x = x.flatten(1, 2)\n",
        "        return x\n",
        "\n",
        "    # 불필요한 계산을 줄이기 위해 mask 적용\n",
        "    def mask_attention(self, att):\n",
        "        num_win = self.mask.size(1)\n",
        "        att = att.unflatten(0, (att.size(0) // num_win, num_win))\n",
        "        att = att.masked_fill(self.mask, float('-inf'))\n",
        "        att = att.flatten(0, 1)\n",
        "        return att\n",
        "\n",
        "    # 상대적 위치 인코딩\n",
        "    def get_rel_pos_enc(self, window_size):\n",
        "        indices = self.relative_indices.expand(self.heads, -1)\n",
        "        rel_pos_enc = self.pos_enc.gather(-1, indices) #위치 인코딩 값 저장\n",
        "        rel_pos_enc = rel_pos_enc.unflatten(-1, (window_size**2, window_size**2))\n",
        "        return rel_pos_enc\n",
        "\n",
        "\n",
        "    # For explanation of mask regions see Figure 4 in the article\n",
        "    @staticmethod\n",
        "    def generate_mask(shape, window_size, shift_size):\n",
        "        region_mask = torch.zeros(1, *shape, 1)\n",
        "        slices = [slice(0, -window_size), slice(-window_size, -shift_size), slice(-shift_size, None)]\n",
        "\n",
        "        region_num = 0\n",
        "        for i in slices:\n",
        "            for j in slices:\n",
        "                region_mask[:, i, j, :] = region_num\n",
        "                region_num += 1\n",
        "\n",
        "        mask_windows = ShiftedWindowAttention.split_windows(region_mask, window_size).squeeze(-1)\n",
        "        diff_mask = mask_windows.unsqueeze(1) - mask_windows.unsqueeze(2)\n",
        "        mask = diff_mask != 0\n",
        "        mask = mask.unsqueeze(1).unsqueeze(0) # add heads and batch dimension\n",
        "        return mask\n",
        "\n",
        "\n",
        "    @staticmethod\n",
        "    def split_windows(x, window_size):\n",
        "        n_h, n_w = x.size(1) // window_size, x.size(2) // window_size\n",
        "        x = x.unflatten(1, (n_h, window_size)).unflatten(-2, (n_w, window_size)) # split into windows\n",
        "        x = x.transpose(2, 3).flatten(0, 2) # merge batch and window numbers\n",
        "        x = x.flatten(-3, -2)\n",
        "        return x\n",
        "\n",
        "\n",
        "    @staticmethod\n",
        "    def merge_windows(x, shape, window_size):\n",
        "        n_h, n_w = shape[0] // window_size, shape[1] // window_size\n",
        "        b = x.size(0) // (n_h * n_w)\n",
        "        x = x.unflatten(1, (window_size, window_size))\n",
        "        x = x.unflatten(0, (b, n_h, n_w)).transpose(2, 3) # separate batch and window numbers\n",
        "        x = x.flatten(1, 2).flatten(-3, -2) # merge windows\n",
        "        return x\n",
        "\n",
        "\n",
        "    @staticmethod\n",
        "    def get_indices(window_size):\n",
        "        x = torch.arange(window_size, dtype=torch.long)\n",
        "\n",
        "        y1, x1, y2, x2 = torch.meshgrid(x, x, x, x, indexing='ij')\n",
        "        indices = (y1 - y2 + window_size - 1) * (2 * window_size - 1) + x1 - x2 + window_size - 1\n",
        "        indices = indices.flatten()\n",
        "\n",
        "        return indices"
      ]
    },
    {
      "cell_type": "code",
      "execution_count": 11,
      "metadata": {
        "id": "bZD-JOU91CYu"
      },
      "outputs": [],
      "source": [
        "class FeedForward(nn.Sequential):\n",
        "    def __init__(self, dim, mult=4):\n",
        "        hidden_dim = dim * mult\n",
        "        super().__init__(\n",
        "            nn.Linear(dim, hidden_dim),\n",
        "            nn.GELU(),\n",
        "            nn.Linear(hidden_dim, dim)\n",
        "        )"
      ]
    },
    {
      "cell_type": "code",
      "execution_count": 12,
      "metadata": {
        "id": "U4JcosHW1EWv"
      },
      "outputs": [],
      "source": [
        "class TransformerBlock(nn.Sequential):\n",
        "    def __init__(self, dim, head_dim, shape, window_size, shift_size=0, p_drop=0.):\n",
        "        super().__init__(\n",
        "            Residual(\n",
        "                nn.LayerNorm(dim),\n",
        "                ShiftedWindowAttention(dim, head_dim, shape, window_size, shift_size),\n",
        "                nn.Dropout(p_drop)\n",
        "            ),\n",
        "            Residual(\n",
        "                nn.LayerNorm(dim),\n",
        "                FeedForward(dim),\n",
        "                nn.Dropout(p_drop)\n",
        "            )\n",
        "        )"
      ]
    },
    {
      "cell_type": "code",
      "execution_count": 13,
      "metadata": {
        "id": "1NpAl7RM1GIh"
      },
      "outputs": [],
      "source": [
        "class PatchMerging(nn.Module):\n",
        "    def __init__(self, in_dim, out_dim, shape):\n",
        "        super().__init__()\n",
        "        self.shape = shape\n",
        "        self.norm = nn.LayerNorm(4 * in_dim)\n",
        "        self.reduction = nn.Linear(4 * in_dim, out_dim, bias=False)\n",
        "\n",
        "    def forward(self, x):\n",
        "        x = x.unflatten(1, self.shape).movedim(-1, 1)\n",
        "        x = F.unfold(x, kernel_size=2, stride=2).movedim(1, -1)\n",
        "\n",
        "        x = self.norm(x)\n",
        "        x = self.reduction(x)\n",
        "        return x"
      ]
    },
    {
      "cell_type": "code",
      "execution_count": 14,
      "metadata": {
        "id": "TzITSnCE1H80"
      },
      "outputs": [],
      "source": [
        "class Stage(nn.Sequential):\n",
        "    def __init__(self, num_blocks, in_dim, out_dim, head_dim, shape, window_size, p_drop=0.):\n",
        "        if out_dim != in_dim:\n",
        "            layers = [PatchMerging(in_dim, out_dim, shape)]\n",
        "            shape = (shape[0] // 2, shape[1] // 2)\n",
        "        else:\n",
        "            layers = []\n",
        "\n",
        "        shift_size = window_size // 2\n",
        "        layers += [TransformerBlock(out_dim, head_dim, shape, window_size, 0 if (num % 2 == 0) else shift_size,\n",
        "                                    p_drop) for num in range(num_blocks)]\n",
        "\n",
        "        super().__init__(*layers)"
      ]
    },
    {
      "cell_type": "code",
      "execution_count": 15,
      "metadata": {
        "id": "1UYUIgpv1Jgc"
      },
      "outputs": [],
      "source": [
        "class StageStack(nn.Sequential):\n",
        "    def __init__(self, num_blocks_list, dims, head_dim, shape, window_size, p_drop=0.):\n",
        "        layers = []\n",
        "        in_dim = dims[0]\n",
        "        for num, out_dim in zip(num_blocks_list, dims[1:]):\n",
        "            layers.append(Stage(num, in_dim, out_dim, head_dim, shape, window_size, p_drop))\n",
        "            if in_dim != out_dim:\n",
        "                shape = (shape[0] // 2, shape[1] // 2)\n",
        "                in_dim = out_dim\n",
        "\n",
        "        super().__init__(*layers)"
      ]
    },
    {
      "cell_type": "code",
      "execution_count": 16,
      "metadata": {
        "id": "UuKwZc881LG2"
      },
      "outputs": [],
      "source": [
        "class ToPatches(nn.Module):\n",
        "    def __init__(self, in_channels, dim, patch_size):\n",
        "        super().__init__()\n",
        "        self.patch_size = patch_size\n",
        "        patch_dim = in_channels * patch_size**2\n",
        "        self.proj = nn.Linear(patch_dim, dim)\n",
        "        self.norm = nn.LayerNorm(dim)\n",
        "\n",
        "    def forward(self, x):\n",
        "        x = F.unfold(x, kernel_size=self.patch_size, stride=self.patch_size).movedim(1, -1)\n",
        "        x = self.proj(x)\n",
        "        x = self.norm(x)\n",
        "        return x"
      ]
    },
    {
      "cell_type": "code",
      "execution_count": 17,
      "metadata": {
        "id": "FaMq9q5S1NGB"
      },
      "outputs": [],
      "source": [
        "class AddPositionEmbedding(nn.Module):\n",
        "    def __init__(self, dim, num_patches):\n",
        "        super().__init__()\n",
        "        self.pos_embedding = nn.Parameter(torch.Tensor(num_patches, dim))\n",
        "\n",
        "    def forward(self, x):\n",
        "        return x + self.pos_embedding"
      ]
    },
    {
      "cell_type": "code",
      "execution_count": 18,
      "metadata": {
        "id": "9YoPCHwr1OWY"
      },
      "outputs": [],
      "source": [
        "class ToEmbedding(nn.Sequential):\n",
        "    def __init__(self, in_channels, dim, patch_size, num_patches, p_drop=0.):\n",
        "        super().__init__(\n",
        "            ToPatches(in_channels, dim, patch_size),\n",
        "            AddPositionEmbedding(dim, num_patches),\n",
        "            nn.Dropout(p_drop)\n",
        "        )"
      ]
    },
    {
      "cell_type": "code",
      "execution_count": 19,
      "metadata": {
        "id": "xvNRSxSv1PnH"
      },
      "outputs": [],
      "source": [
        "class Head(nn.Sequential):\n",
        "    def __init__(self, dim, classes, p_drop=0.):\n",
        "        super().__init__(\n",
        "            nn.LayerNorm(dim),\n",
        "            nn.GELU(),\n",
        "            GlobalAvgPool(),\n",
        "            nn.Dropout(p_drop),\n",
        "            nn.Linear(dim, classes)\n",
        "        )"
      ]
    },
    {
      "cell_type": "code",
      "execution_count": 20,
      "metadata": {
        "id": "An5vS4_C1RMF"
      },
      "outputs": [],
      "source": [
        "class SwinTransformer(nn.Sequential):\n",
        "    def __init__(self, classes, image_size, num_blocks_list, dims, head_dim, patch_size, window_size,\n",
        "                 in_channels=3, emb_p_drop=0., trans_p_drop=0., head_p_drop=0.):\n",
        "        reduced_size = image_size // patch_size\n",
        "        shape = (reduced_size, reduced_size)\n",
        "        num_patches = shape[0] * shape[1]\n",
        "\n",
        "        super().__init__(\n",
        "            ToEmbedding(in_channels, dims[0], patch_size, num_patches, emb_p_drop),\n",
        "            StageStack(num_blocks_list, dims, head_dim, shape, window_size, trans_p_drop),\n",
        "            Head(dims[-1], classes, head_p_drop)\n",
        "        )\n",
        "        self.reset_parameters()\n",
        "\n",
        "    def reset_parameters(self):\n",
        "        for m in self.modules():\n",
        "            if isinstance(m, nn.Linear):\n",
        "                nn.init.kaiming_normal_(m.weight)\n",
        "                if m.bias is not None: nn.init.zeros_(m.bias)\n",
        "            elif isinstance(m, nn.LayerNorm):\n",
        "                nn.init.constant_(m.weight, 1.)\n",
        "                nn.init.zeros_(m.bias)\n",
        "            elif isinstance(m, AddPositionEmbedding):\n",
        "                nn.init.normal_(m.pos_embedding, mean=0.0, std=0.02)\n",
        "            elif isinstance(m, ShiftedWindowAttention):\n",
        "                nn.init.normal_(m.pos_enc, mean=0.0, std=0.02)\n",
        "            elif isinstance(m, Residual):\n",
        "                nn.init.zeros_(m.gamma)\n",
        "\n",
        "    def separate_parameters(self):\n",
        "        parameters_decay = set()\n",
        "        parameters_no_decay = set()\n",
        "        modules_weight_decay = (nn.Linear, )\n",
        "        modules_no_weight_decay = (nn.LayerNorm,)\n",
        "\n",
        "        for m_name, m in self.named_modules():\n",
        "            for param_name, param in m.named_parameters():\n",
        "                full_param_name = f\"{m_name}.{param_name}\" if m_name else param_name\n",
        "\n",
        "                if isinstance(m, modules_no_weight_decay):\n",
        "                    parameters_no_decay.add(full_param_name)\n",
        "                elif param_name.endswith(\"bias\"):\n",
        "                    parameters_no_decay.add(full_param_name)\n",
        "                elif isinstance(m, Residual) and param_name.endswith(\"gamma\"):\n",
        "                    parameters_no_decay.add(full_param_name)\n",
        "                elif isinstance(m, AddPositionEmbedding) and param_name.endswith(\"pos_embedding\"):\n",
        "                    parameters_no_decay.add(full_param_name)\n",
        "                elif isinstance(m, ShiftedWindowAttention) and param_name.endswith(\"pos_enc\"):\n",
        "                    parameters_no_decay.add(full_param_name)\n",
        "                elif isinstance(m, modules_weight_decay):\n",
        "                    parameters_decay.add(full_param_name)\n",
        "\n",
        "        # sanity check\n",
        "        assert len(parameters_decay & parameters_no_decay) == 0\n",
        "        assert len(parameters_decay) + len(parameters_no_decay) == len(list(model.parameters()))\n",
        "\n",
        "        return parameters_decay, parameters_no_decay"
      ]
    },
    {
      "cell_type": "code",
      "execution_count": 21,
      "metadata": {
        "id": "fdsfj4mU1VV3"
      },
      "outputs": [],
      "source": [
        "model = SwinTransformer(NUM_CLASSES, IMAGE_SIZE,\n",
        "                        num_blocks_list=[4, 4], dims=[128, 128, 256],\n",
        "                        head_dim=32, patch_size=2, window_size=4,\n",
        "                        emb_p_drop=0., trans_p_drop=0., head_p_drop=0.3)"
      ]
    },
    {
      "cell_type": "code",
      "execution_count": 22,
      "metadata": {
        "id": "bFgN8S9W1YC6"
      },
      "outputs": [],
      "source": [
        "model.to(DEVICE);"
      ]
    },
    {
      "cell_type": "code",
      "execution_count": 23,
      "metadata": {
        "colab": {
          "base_uri": "https://localhost:8080/"
        },
        "id": "KdV6Rg0m1Z9C",
        "outputId": "d9ae125a-a4d9-4823-cc17-fd091ce96727"
      },
      "outputs": [
        {
          "output_type": "stream",
          "name": "stdout",
          "text": [
            "Number of parameters: 4,124,362\n"
          ]
        }
      ],
      "source": [
        "print(\"Number of parameters: {:,}\".format(sum(p.numel() for p in model.parameters())))"
      ]
    },
    {
      "cell_type": "code",
      "execution_count": 24,
      "metadata": {
        "id": "tE7RBwzG1b8X"
      },
      "outputs": [],
      "source": [
        "def get_optimizer(model, learning_rate, weight_decay):\n",
        "    param_dict = {pn: p for pn, p in model.named_parameters()}\n",
        "    parameters_decay, parameters_no_decay = model.separate_parameters()\n",
        "\n",
        "    optim_groups = [\n",
        "        {\"params\": [param_dict[pn] for pn in parameters_decay], \"weight_decay\": weight_decay},\n",
        "        {\"params\": [param_dict[pn] for pn in parameters_no_decay], \"weight_decay\": 0.0},\n",
        "    ]\n",
        "    optimizer = optim.AdamW(optim_groups, lr=learning_rate)\n",
        "    return optimizer"
      ]
    },
    {
      "cell_type": "code",
      "execution_count": 25,
      "metadata": {
        "id": "2c12tfuG14is"
      },
      "outputs": [],
      "source": [
        "loss = nn.CrossEntropyLoss()\n",
        "optimizer = get_optimizer(model, learning_rate=LEARNING_RATE, weight_decay=WEIGHT_DECAY)\n",
        "trainer = create_supervised_trainer(model, optimizer, loss, device=DEVICE)\n",
        "lr_scheduler = optim.lr_scheduler.OneCycleLR(optimizer, max_lr=LEARNING_RATE,\n",
        "                                             steps_per_epoch=len(train_loader), epochs=EPOCHS)\n",
        "\n",
        "trainer.add_event_handler(Events.ITERATION_COMPLETED, lambda engine: lr_scheduler.step());\n",
        "ignite.metrics.RunningAverage(output_transform=lambda x: x).attach(trainer, \"loss\")\n",
        "val_metrics = {\"accuracy\": ignite.metrics.Accuracy(), \"loss\": ignite.metrics.Loss(loss)}\n",
        "evaluator = create_supervised_evaluator(model, metrics=val_metrics, device=DEVICE)\n",
        "history = defaultdict(list)"
      ]
    },
    {
      "cell_type": "code",
      "execution_count": 26,
      "metadata": {
        "id": "AHDXgmXA2TJ-"
      },
      "outputs": [],
      "source": [
        "@trainer.on(Events.EPOCH_COMPLETED)\n",
        "def log_validation_results(engine):\n",
        "    train_state = engine.state\n",
        "    epoch = train_state.epoch\n",
        "    max_epochs = train_state.max_epochs\n",
        "    train_loss = train_state.metrics[\"loss\"]\n",
        "    history['train loss'].append(train_loss)\n",
        "\n",
        "    evaluator.run(test_loader)\n",
        "    val_metrics = evaluator.state.metrics\n",
        "    val_loss = val_metrics[\"loss\"]\n",
        "    val_acc = val_metrics[\"accuracy\"]\n",
        "    history['val loss'].append(val_loss)\n",
        "    history['val acc'].append(val_acc)\n",
        "\n",
        "    print(\"{}/{} - train: loss {:.3f}; val: loss {:.3f} accuracy {:.3f}\".format(\n",
        "        epoch, max_epochs, train_loss, val_loss, val_acc))"
      ]
    },
    {
      "cell_type": "code",
      "execution_count": 27,
      "metadata": {
        "colab": {
          "base_uri": "https://localhost:8080/"
        },
        "id": "5ippnjaF2WIx",
        "outputId": "0a43281f-98b2-4687-92cd-fbb5b77236fa"
      },
      "outputs": [
        {
          "output_type": "stream",
          "name": "stdout",
          "text": [
            "1/50 - train: loss 1.999; val: loss 1.970 accuracy 0.251\n",
            "2/50 - train: loss 1.746; val: loss 1.738 accuracy 0.372\n",
            "3/50 - train: loss 1.521; val: loss 1.507 accuracy 0.449\n",
            "4/50 - train: loss 1.392; val: loss 1.358 accuracy 0.509\n",
            "5/50 - train: loss 1.299; val: loss 1.293 accuracy 0.532\n",
            "6/50 - train: loss 1.213; val: loss 1.192 accuracy 0.572\n",
            "7/50 - train: loss 1.137; val: loss 1.195 accuracy 0.567\n",
            "8/50 - train: loss 1.054; val: loss 1.114 accuracy 0.606\n",
            "9/50 - train: loss 1.034; val: loss 0.976 accuracy 0.652\n",
            "10/50 - train: loss 0.986; val: loss 0.906 accuracy 0.683\n",
            "11/50 - train: loss 0.928; val: loss 0.935 accuracy 0.675\n",
            "12/50 - train: loss 0.864; val: loss 0.891 accuracy 0.689\n",
            "13/50 - train: loss 0.902; val: loss 0.834 accuracy 0.707\n",
            "14/50 - train: loss 0.854; val: loss 0.778 accuracy 0.725\n",
            "15/50 - train: loss 0.836; val: loss 0.759 accuracy 0.736\n",
            "16/50 - train: loss 0.792; val: loss 0.801 accuracy 0.721\n",
            "17/50 - train: loss 0.790; val: loss 0.785 accuracy 0.723\n",
            "18/50 - train: loss 0.723; val: loss 0.731 accuracy 0.745\n",
            "19/50 - train: loss 0.709; val: loss 0.768 accuracy 0.733\n",
            "20/50 - train: loss 0.738; val: loss 0.674 accuracy 0.766\n",
            "21/50 - train: loss 0.706; val: loss 0.653 accuracy 0.775\n",
            "22/50 - train: loss 0.682; val: loss 0.673 accuracy 0.767\n",
            "23/50 - train: loss 0.656; val: loss 0.701 accuracy 0.756\n",
            "24/50 - train: loss 0.613; val: loss 0.643 accuracy 0.782\n",
            "25/50 - train: loss 0.624; val: loss 0.627 accuracy 0.781\n",
            "26/50 - train: loss 0.595; val: loss 0.616 accuracy 0.788\n",
            "27/50 - train: loss 0.590; val: loss 0.580 accuracy 0.802\n",
            "28/50 - train: loss 0.607; val: loss 0.542 accuracy 0.810\n",
            "29/50 - train: loss 0.569; val: loss 0.605 accuracy 0.794\n",
            "30/50 - train: loss 0.524; val: loss 0.550 accuracy 0.811\n",
            "31/50 - train: loss 0.497; val: loss 0.502 accuracy 0.826\n",
            "32/50 - train: loss 0.470; val: loss 0.545 accuracy 0.811\n",
            "33/50 - train: loss 0.436; val: loss 0.519 accuracy 0.825\n",
            "34/50 - train: loss 0.418; val: loss 0.462 accuracy 0.842\n",
            "35/50 - train: loss 0.394; val: loss 0.471 accuracy 0.838\n",
            "36/50 - train: loss 0.380; val: loss 0.446 accuracy 0.850\n",
            "37/50 - train: loss 0.359; val: loss 0.420 accuracy 0.856\n",
            "38/50 - train: loss 0.315; val: loss 0.418 accuracy 0.863\n",
            "39/50 - train: loss 0.292; val: loss 0.392 accuracy 0.868\n",
            "40/50 - train: loss 0.245; val: loss 0.398 accuracy 0.870\n",
            "41/50 - train: loss 0.238; val: loss 0.390 accuracy 0.870\n",
            "42/50 - train: loss 0.212; val: loss 0.373 accuracy 0.879\n",
            "43/50 - train: loss 0.206; val: loss 0.367 accuracy 0.881\n",
            "44/50 - train: loss 0.175; val: loss 0.363 accuracy 0.881\n",
            "45/50 - train: loss 0.165; val: loss 0.359 accuracy 0.887\n",
            "46/50 - train: loss 0.142; val: loss 0.364 accuracy 0.887\n",
            "47/50 - train: loss 0.130; val: loss 0.358 accuracy 0.888\n",
            "48/50 - train: loss 0.117; val: loss 0.359 accuracy 0.888\n",
            "49/50 - train: loss 0.109; val: loss 0.359 accuracy 0.888\n",
            "50/50 - train: loss 0.117; val: loss 0.359 accuracy 0.888\n"
          ]
        }
      ],
      "source": [
        "trainer.run(train_loader, max_epochs=EPOCHS);"
      ]
    },
    {
      "cell_type": "code",
      "source": [
        "from torchvision import transforms\n",
        "from PIL import Image\n",
        "import time"
      ],
      "metadata": {
        "id": "453x3sRUkoDs"
      },
      "execution_count": 36,
      "outputs": []
    },
    {
      "cell_type": "code",
      "source": [
        "model.eval()\n",
        "image_path = \"dog.png\"\n",
        "input_image = Image.open(image_path)\n",
        "preprocess = transforms.Compose([\n",
        "    transforms.Resize(IMAGE_SIZE),\n",
        "    transforms.CenterCrop(IMAGE_SIZE),\n",
        "    transforms.ToTensor(),\n",
        "])\n",
        "input_tensor = preprocess(input_image)\n",
        "input_tensor = input_tensor.to(DEVICE)\n",
        "input_tensor = input_tensor.unsqueeze(0)\n",
        "start_time = time.time()\n",
        "with torch.no_grad():\n",
        "  output = model(input_tensor)\n",
        "print(f\"inference time: {time.time() - start_time}\")\n",
        "max_index = torch.argmax(output, dim=1)"
      ],
      "metadata": {
        "colab": {
          "base_uri": "https://localhost:8080/"
        },
        "id": "tNrmnQj-lAM5",
        "outputId": "28401d7b-b8d3-48e0-c9a4-a9869d511894"
      },
      "execution_count": 37,
      "outputs": [
        {
          "output_type": "stream",
          "name": "stdout",
          "text": [
            "inference time: 0.008795738220214844\n"
          ]
        }
      ]
    },
    {
      "cell_type": "code",
      "source": [
        "cifar_class = ['airplane', 'automobile', 'bird', 'cat', 'deer', 'dog', 'frog', 'horse', 'ship', 'truck']\n",
        "print(output)\n",
        "print(cifar_class[max_index])"
      ],
      "metadata": {
        "colab": {
          "base_uri": "https://localhost:8080/"
        },
        "id": "-sgPsGs_lCOI",
        "outputId": "ebeec13f-1389-40e5-ac1c-a47b16c44f50"
      },
      "execution_count": 38,
      "outputs": [
        {
          "output_type": "stream",
          "name": "stdout",
          "text": [
            "tensor([[-15.1777,  -9.8389,  -7.9864,  -2.0152,   1.3123,   6.7937, -10.6705,\n",
            "          -5.3063, -15.1417, -11.4632]], device='cuda:0')\n",
            "dog\n"
          ]
        }
      ]
    },
    {
      "cell_type": "code",
      "execution_count": 39,
      "metadata": {
        "colab": {
          "base_uri": "https://localhost:8080/",
          "height": 449
        },
        "id": "7Y6hwcMC2hpB",
        "outputId": "cee3f9a2-ce09-4dd0-f25d-de4b555011dd"
      },
      "outputs": [
        {
          "output_type": "display_data",
          "data": {
            "text/plain": [
              "<Figure size 640x480 with 1 Axes>"
            ],
            "image/png": "[encoded data removed]"
          },
          "metadata": {}
        }
      ],
      "source": [
        "fig = plt.figure()\n",
        "ax = fig.add_subplot(111)\n",
        "xs = np.arange(1, len(history['train loss']) + 1)\n",
        "ax.plot(xs, history['train loss'], '.-', label='train')\n",
        "ax.plot(xs, history['val loss'], '.-', label='val')\n",
        "ax.set_xlabel('epoch')\n",
        "ax.set_ylabel('loss')\n",
        "ax.legend()\n",
        "ax.grid()\n",
        "plt.show()"
      ]
    },
    {
      "cell_type": "code",
      "execution_count": 40,
      "metadata": {
        "colab": {
          "base_uri": "https://localhost:8080/",
          "height": 449
        },
        "id": "4LpC14D121Cv",
        "outputId": "0cfca78d-da3f-43c5-aa7d-2482bdded305"
      },
      "outputs": [
        {
          "output_type": "display_data",
          "data": {
            "text/plain": [
              "<Figure size 640x480 with 1 Axes>"
            ],
            "image/png": "[encoded data removed]"
          },
          "metadata": {}
        }
      ],
      "source": [
        "fig = plt.figure()\n",
        "ax = fig.add_subplot(111)\n",
        "xs = np.arange(1, len(history['val acc']) + 1)\n",
        "ax.plot(xs, history['val acc'], '-')\n",
        "ax.set_xlabel('epoch')\n",
        "ax.set_ylabel('val acc')\n",
        "ax.grid()\n",
        "plt.show()"
      ]
    }
  ],
  "metadata": {
    "accelerator": "GPU",
    "colab": {
      "gpuType": "A100",
      "provenance": [],
      "machine_shape": "hm"
    },
    "kernelspec": {
      "display_name": "Python 3",
      "name": "python3"
    },
    "language_info": {
      "codemirror_mode": {
        "name": "ipython",
        "version": 3
      },
      "file_extension": ".py",
      "mimetype": "text/x-python",
      "name": "python",
      "nbconvert_exporter": "python",
      "pygments_lexer": "ipython3",
      "version": "3.10.0"
    }
  },
  "nbformat": 4,
  "nbformat_minor": 0
}