{
  "cells": [
    {
      "cell_type": "markdown",
      "metadata": {
        "id": "view-in-github",
        "colab_type": "text"
      },
      "source": [
        "<a href=\"https://colab.research.google.com/github/hun9008/AI_TeamProject_24FW-/blob/main/Vit.ipynb\" target=\"_parent\"><img src=\"https://colab.research.google.com/assets/colab-badge.svg\" alt=\"Open In Colab\"/></a>"
      ]
    },
    {
      "cell_type": "code",
      "execution_count": 1,
      "metadata": {
        "id": "ucuqYlRE9g9V"
      },
      "outputs": [],
      "source": [
        "import numpy as np\n",
        "import tensorflow as tf\n",
        "import matplotlib.pyplot as plt\n",
        "from tensorflow.keras import layers, models"
      ]
    },
    {
      "cell_type": "code",
      "source": [
        "gpus = tf.config.experimental.list_physical_devices('GPU')\n",
        "if gpus:\n",
        "  try:\n",
        "    # Currently, memory growth needs to be the same across GPUs\n",
        "    for gpu in gpus:\n",
        "      tf.config.experimental.set_memory_growth(gpu, True)\n",
        "    logical_gpus = tf.config.experimental.list_logical_devices('GPU')\n",
        "    print(len(gpus), \"Physical GPUs,\", len(logical_gpus), \"Logical GPUs\")\n",
        "  except RuntimeError as e:\n",
        "    # Memory growth must be set before GPUs have been initialized\n",
        "    print(e)"
      ],
      "metadata": {
        "colab": {
          "base_uri": "https://localhost:8080/"
        },
        "id": "7LsxMQhe_JbK",
        "outputId": "b1aad144-9271-4b90-82b6-37dece58e404"
      },
      "execution_count": 2,
      "outputs": [
        {
          "output_type": "stream",
          "name": "stdout",
          "text": [
            "1 Physical GPUs, 1 Logical GPUs\n"
          ]
        }
      ]
    },
    {
      "cell_type": "code",
      "execution_count": 3,
      "metadata": {
        "colab": {
          "base_uri": "https://localhost:8080/",
          "height": 229
        },
        "id": "oRL1q3vO9g9X",
        "outputId": "7f8a28b7-4adf-4b5a-d9a0-5795af2740e2"
      },
      "outputs": [
        {
          "output_type": "stream",
          "name": "stdout",
          "text": [
            "Downloading data from https://www.cs.toronto.edu/~kriz/cifar-100-python.tar.gz\n",
            "\u001b[1m169001437/169001437\u001b[0m \u001b[32m━━━━━━━━━━━━━━━━━━━━\u001b[0m\u001b[37m\u001b[0m \u001b[1m2s\u001b[0m 0us/step\n"
          ]
        },
        {
          "output_type": "display_data",
          "data": {
            "text/plain": [
              "<Figure size 1000x200 with 5 Axes>"
            ],
            "image/png": "[encoded data removed]"
          },
          "metadata": {}
        }
      ],
      "source": [
        "(train_x, train_y), (test_x, test_y) = tf.keras.datasets.cifar100.load_data()\n",
        "\n",
        "num_classes = 100\n",
        "\n",
        "plt.figure(figsize=(10, 2))\n",
        "for i in range(5):\n",
        "    plt.subplot(1, 5, i + 1)\n",
        "    plt.imshow(train_x[i])\n",
        "    plt.title(f\"Label:{train_y[i][0]}\")\n",
        "    plt.axis('off')\n",
        "plt.show()\n"
      ]
    },
    {
      "cell_type": "code",
      "execution_count": 4,
      "metadata": {
        "colab": {
          "base_uri": "https://localhost:8080/"
        },
        "id": "Mi1pwJrQ9g9Y",
        "outputId": "2e4f8775-e75f-4e72-b1cd-8bf7c0984b0c"
      },
      "outputs": [
        {
          "output_type": "stream",
          "name": "stdout",
          "text": [
            "Befor scaling max and min: 255, 0\n",
            "After scaling max and min: 1.0, 0.0\n"
          ]
        }
      ],
      "source": [
        "# 정규화 진행\n",
        "print(f\"Befor scaling max and min: {train_x.max()}, {train_x.min()}\")\n",
        "train_x = train_x / 255.0\n",
        "test_x = test_x / 255.0\n",
        "print(f\"After scaling max and min: {train_x.max()}, {train_x.min()}\")"
      ]
    },
    {
      "cell_type": "code",
      "execution_count": 5,
      "metadata": {
        "id": "z42S3Jmr9g9Z"
      },
      "outputs": [],
      "source": [
        "# 모델의 파라미터 정의\n",
        "input_shape = (32, 32, 3) # 입력 이미지의 shape\n",
        "batch_size = 64 # 한번에 학습할 데이터의 개수, 트랜스포머에서는 병렬처리가 용이하므로 큰 값을 사용\n",
        "\n",
        "image_size = 72 # 패치 분할을 위한 입력 이미지를 재조정할 사이즈\n",
        "patch_size = 6 # 이미지를 나눌 패치의 사이즈, 각 이미지는 patch_size x patch_size 크기의 패치로 나누어진다\n",
        "num_patches = (image_size // patch_size) ** 2 # 이미지를 나눌 패치의 개수\n",
        "\n",
        "learning_rate = 1e-3 # 학습률\n",
        "weight_decay = 1e-4 # 가중치 감쇠, 오버피팅을 방지\n",
        "epochs = 30\n",
        "\n",
        "transformer_layers = 4 # 트랜스포머 내부의 인코더 레이어의 수, 더 많은 레이어는 모델의 복잡도와 학습 능력을 증가시킴, but 더 많은 계산량이 필요\n",
        "projection_dim = 64 # 패치를 투영할 때의 차원 수, 트랜스포머의 내부 차원과 관련이 있음\n",
        "num_heads = 4 # 멀티 헤드 어텐션에서의 헤드 수, 여러 개의 헤드를 사용하면 모델이 다양한 정보를 벙렬로 처리할 수 있음\n",
        "\n",
        "transformer_units = [projection_dim * 2, projection_dim] # 트랜스포머의 퍼드포워드 네트워크에서 사용되는 유닛의 수. 이 배열은 각 레이어에서의 유닛 수를 나타냄\n",
        "mlp_head_units = [2048, 1024] # 트랜스포머의 최종 레이어에서 사용되는 유닛의 수"
      ]
    },
    {
      "cell_type": "code",
      "execution_count": 6,
      "metadata": {
        "id": "qbEusNCm9g9a"
      },
      "outputs": [],
      "source": [
        "class PatchTokenization(layers.Layer):\n",
        "    def __init__(self, image_size=image_size, patch_size=patch_size, num_patches=num_patches, projection_dim=projection_dim, **kwargs):\n",
        "        super().__init__(**kwargs)\n",
        "        self.image_size = image_size\n",
        "        self.patch_size = patch_size\n",
        "        self.half_patch = patch_size // 2\n",
        "        self.flatten_patches = layers.Reshape((num_patches, -1))\n",
        "        self.projection = layers.Dense(projection_dim)\n",
        "        self.layer_norm = layers.LayerNormalization(epsilon=1e-6)\n",
        "\n",
        "    def call(self, images):\n",
        "        #입력 이미지를 패치로 나눔\n",
        "        patches = tf.image.extract_patches(images = images,\n",
        "                                           sizes=[1, self.patch_size, self.patch_size, 1], # 패치의 크기\n",
        "                                           strides=[1, self.patch_size, self.patch_size, 1], # 패치의 간격\n",
        "                                           rates=[1, 1, 1, 1],\n",
        "                                           padding='VALID') # 이미지 가장자리를 잘라내어 정확히 패치가 맞도록 함\n",
        "        flat_patches = self.flatten_patches(patches) # 패치 평탄화\n",
        "        tokens = self.projection(flat_patches) # 패치를 투영(각 패치를 고정된 사이즈의 벡터로 매핑) => transformer의 입력으로 사용\n",
        "        return (tokens, patches)"
      ]
    },
    {
      "cell_type": "code",
      "execution_count": 7,
      "metadata": {
        "colab": {
          "base_uri": "https://localhost:8080/",
          "height": 402
        },
        "id": "7inXUwuA9g9a",
        "outputId": "e0035059-8e4a-4980-e863-2350693461c3"
      },
      "outputs": [
        {
          "output_type": "stream",
          "name": "stderr",
          "text": [
            "/usr/local/lib/python3.10/dist-packages/keras/src/layers/layer.py:372: UserWarning: `build()` was called on layer 'patch_tokenization', however the layer does not have a `build()` method implemented and it looks like it has unbuilt state. This will cause the layer to be marked as built, despite not being actually built, which may cause failures down the line. Make sure to implement a proper `build()` method.\n",
            "  warnings.warn(\n"
          ]
        },
        {
          "output_type": "display_data",
          "data": {
            "text/plain": [
              "<Figure size 400x400 with 144 Axes>"
            ],
            "image/png": "[encoded data removed]"
          },
          "metadata": {}
        }
      ],
      "source": [
        "image = train_x[np.random.choice(range(train_x.shape[0]))]\n",
        "resized_image = tf.image.resize(tf.convert_to_tensor([image]), (image_size, image_size))\n",
        "\n",
        "# patch_tokenizer = PatchTokenization()\n",
        "# tokens, patches = patch_tokenizer(resized_image)\n",
        "(token, patch) = PatchTokenization()(resized_image) # 객체를 함수처럼 호출하여 사용 (call 메서드가 호출됨)\n",
        "(token, patch) = (token[0], patch[0])\n",
        "n = patch.shape[0]\n",
        "count = 1\n",
        "plt.figure(figsize=(4, 4))\n",
        "for row in range(n):\n",
        "    for col in range(n):\n",
        "        plt.subplot(n, n, count)\n",
        "        count += 1\n",
        "        image = tf.reshape(patch[row, col], (patch_size, patch_size, 3))\n",
        "        plt.imshow(image)\n",
        "        plt.axis('off')\n",
        "plt.show()"
      ]
    },
    {
      "cell_type": "code",
      "execution_count": 8,
      "metadata": {
        "id": "mSTxWDES9g9a"
      },
      "outputs": [],
      "source": [
        "class PatchEncoder(layers.Layer):\n",
        "    def __init__(self, num_heads=num_heads, projection_dim=projection_dim, **kwargs):\n",
        "        super().__init__(**kwargs)\n",
        "        self.num_patches = num_patches\n",
        "        # 각 패치의 위치에 대한 학습 가능한 임베딩을 생성 (패치의 토큰과 위치 임베딩을 더해 트랜스포머의 입력으로 사용)\n",
        "        self.position_embedding = layers.Embedding(input_dim=num_patches, output_dim=projection_dim) # 투영된 차원과 위치 임베딩은 같은 차원을 사용\n",
        "        self.positions = tf.range(start=0, limit=num_patches, delta=1) # 패치의 위치에 대한 인덱스를 생성성\n",
        "\n",
        "    def call(self, encoded_patches):\n",
        "        encoded_positions = self.position_embedding(self.positions)\n",
        "        encoded_patches = encoded_patches + encoded_positions # 위치 정보 추가\n",
        "        # 모델이 패치들 사이의 관계와 이미지 내에서 각 패치의 위치를 고려할 수 있게 함\n",
        "        return encoded_patches"
      ]
    },
    {
      "cell_type": "code",
      "execution_count": 9,
      "metadata": {
        "id": "UIab4J8U9g9b"
      },
      "outputs": [],
      "source": [
        "def mlp(x, hidden_units, dropout_rate):\n",
        "    for units in hidden_units:\n",
        "        x = layers.Dense(units, activation=tf.nn.gelu)(x)\n",
        "        x = layers.Dropout(dropout_rate)(x)\n",
        "    return x"
      ]
    },
    {
      "cell_type": "code",
      "execution_count": 10,
      "metadata": {
        "id": "EcQKmJpW9g9b"
      },
      "outputs": [],
      "source": [
        "def create_vit_classifier():\n",
        "    inputs = layers.Input(shape=input_shape)\n",
        "    x = layers.Normalization(axis=-1)(inputs)\n",
        "    x = layers.Resizing(image_size, image_size)(x) # 이미지를 정해진 크기로 재조정\n",
        "    (tokens, _) = PatchTokenization()(x) # 이미지를 패치로 분할 후 각 패치를 투영\n",
        "    encoded_patches = PatchEncoder()(tokens) # 패치 위치 정보 인코딩\n",
        "    for _ in range(transformer_layers):\n",
        "        # 멀티 헤드 어텐션과 퍼드포워드 네트워크를 포함하는 트랜스포머 레이어\n",
        "        x1 = layers.LayerNormalization(epsilon=1e-6)(encoded_patches)\n",
        "        attention_output = layers.MultiHeadAttention(num_heads=num_heads, key_dim=projection_dim, dropout=0.1)(x1, x1)\n",
        "        x2 = layers.Add()([attention_output, encoded_patches])\n",
        "        x3 = layers.LayerNormalization(epsilon=1e-6)(x2)\n",
        "        x3 = mlp(x3, hidden_units=transformer_units, dropout_rate=0.1)\n",
        "        encoded_patches = layers.Add()([x3, x2])\n",
        "\n",
        "    x = layers.LayerNormalization(epsilon=1e-6)(encoded_patches)\n",
        "    x = layers.Flatten()(x)\n",
        "    x = mlp(x, hidden_units=mlp_head_units, dropout_rate=0.5)\n",
        "    outputs = layers.Dense(num_classes)(x) # num_classes개의 클래스로 분류\n",
        "    model = models.Model(inputs=inputs, outputs=outputs)\n",
        "    return model"
      ]
    },
    {
      "cell_type": "code",
      "execution_count": 11,
      "metadata": {
        "id": "mVnwqdSE9g9b"
      },
      "outputs": [],
      "source": [
        "# 코사인 감쇠 스케줄링 : 학습률을 점진적으로 감소시키는 방법\n",
        "class CosineDecay(tf.keras.optimizers.schedules.LearningRateSchedule):\n",
        "    def __init__(self, learning_rate_base, total_steps, warmup_learning_rate, warmup_steps):\n",
        "        super().__init__()\n",
        "        self.learning_rate_base = learning_rate_base\n",
        "        self.total_steps = total_steps\n",
        "        self.warmup_learning_rate = warmup_learning_rate\n",
        "        self.warmup_steps = warmup_steps\n",
        "        self.pi = tf.constant(np.pi)\n",
        "\n",
        "    def __call__(self, step):\n",
        "        if self.total_steps < self.warmup_steps:\n",
        "            raise ValueError('Total_steps must be larger or equal to warmup_steps.')\n",
        "        cos_annealed_lr = tf.cos(self.pi * (tf.cast(step, tf.float32) - self.warmup_steps) / float(self.total_steps - self.warmup_steps))\n",
        "        learning_rate = 0.5 * self.learning_rate_base * (1 + cos_annealed_lr)\n",
        "\n",
        "        if self.warmup_steps > 0 :\n",
        "            if self.learning_rate_base < self.warmup_learning_rate:\n",
        "                raise ValueError('Learning_rate_base must be larger or equal to warmup_learning_rate.')\n",
        "            slope = (self.learning_rate_base - self.warmup_learning_rate) / self.warmup_steps\n",
        "            warmup_lr = slope * tf.cast(step, tf.float32) + self.warmup_learning_rate\n",
        "            learning_rate = tf.where(step < self.warmup_steps, warmup_lr, learning_rate)\n",
        "\n",
        "        return tf.where(step > self.total_steps, 0.0, learning_rate, name='learning_rate')"
      ]
    },
    {
      "cell_type": "code",
      "execution_count": 12,
      "metadata": {
        "id": "FnAQZyhE9g9c"
      },
      "outputs": [],
      "source": [
        "total_steps = int((len(train_x) / batch_size) * epochs)\n",
        "warmup_epoch_percentage = 0.10\n",
        "warmup_steps = int(total_steps * warmup_epoch_percentage)\n",
        "scheduled_lrs = CosineDecay(learning_rate_base=learning_rate, total_steps=total_steps, warmup_learning_rate=0.0, warmup_steps=warmup_steps)"
      ]
    },
    {
      "cell_type": "code",
      "execution_count": 13,
      "metadata": {
        "colab": {
          "base_uri": "https://localhost:8080/"
        },
        "id": "Kj4aBKz89g9c",
        "outputId": "05fabdbb-8143-434e-aa7a-e2f9b5ad72ec"
      },
      "outputs": [
        {
          "output_type": "stream",
          "name": "stderr",
          "text": [
            "/usr/local/lib/python3.10/dist-packages/keras/src/layers/layer.py:372: UserWarning: `build()` was called on layer 'patch_tokenization_1', however the layer does not have a `build()` method implemented and it looks like it has unbuilt state. This will cause the layer to be marked as built, despite not being actually built, which may cause failures down the line. Make sure to implement a proper `build()` method.\n",
            "  warnings.warn(\n"
          ]
        }
      ],
      "source": [
        "vit = create_vit_classifier()\n",
        "\n",
        "optimizer = tf.keras.optimizers.Adam(learning_rate = scheduled_lrs, weight_decay=weight_decay)\n",
        "\n",
        "vit.compile(optimizer=optimizer,\n",
        "             loss=tf.keras.losses.SparseCategoricalCrossentropy(from_logits=True),\n",
        "             metrics=[tf.keras.metrics.SparseCategoricalAccuracy(name = 'accuracy'), #모델 정확도\n",
        "                      tf.keras.metrics.SparseTopKCategoricalAccuracy(5, name='top-5-accuracy')]) # 모델의 상위 5개 예측 정확도"
      ]
    },
    {
      "cell_type": "code",
      "execution_count": 14,
      "metadata": {
        "colab": {
          "base_uri": "https://localhost:8080/"
        },
        "id": "Asm4YtKx9g9c",
        "outputId": "c352fbec-9dc9-42b0-d06b-882a773b396e"
      },
      "outputs": [
        {
          "output_type": "stream",
          "name": "stdout",
          "text": [
            "Epoch 1/30\n",
            "\u001b[1m625/625\u001b[0m \u001b[32m━━━━━━━━━━━━━━━━━━━━\u001b[0m\u001b[37m\u001b[0m \u001b[1m63s\u001b[0m 30ms/step - accuracy: 0.0168 - loss: 4.8955 - top-5-accuracy: 0.0754 - val_accuracy: 0.0700 - val_loss: 4.1473 - val_top-5-accuracy: 0.2509\n",
            "Epoch 2/30\n",
            "\u001b[1m625/625\u001b[0m \u001b[32m━━━━━━━━━━━━━━━━━━━━\u001b[0m\u001b[37m\u001b[0m \u001b[1m6s\u001b[0m 9ms/step - accuracy: 0.0649 - loss: 4.1805 - top-5-accuracy: 0.2210 - val_accuracy: 0.1323 - val_loss: 3.7103 - val_top-5-accuracy: 0.3669\n",
            "Epoch 3/30\n",
            "\u001b[1m625/625\u001b[0m \u001b[32m━━━━━━━━━━━━━━━━━━━━\u001b[0m\u001b[37m\u001b[0m \u001b[1m6s\u001b[0m 9ms/step - accuracy: 0.0929 - loss: 3.9277 - top-5-accuracy: 0.2993 - val_accuracy: 0.1657 - val_loss: 3.5524 - val_top-5-accuracy: 0.4361\n",
            "Epoch 4/30\n",
            "\u001b[1m625/625\u001b[0m \u001b[32m━━━━━━━━━━━━━━━━━━━━\u001b[0m\u001b[37m\u001b[0m \u001b[1m6s\u001b[0m 9ms/step - accuracy: 0.1342 - loss: 3.6459 - top-5-accuracy: 0.3770 - val_accuracy: 0.2132 - val_loss: 3.2083 - val_top-5-accuracy: 0.4937\n",
            "Epoch 5/30\n",
            "\u001b[1m625/625\u001b[0m \u001b[32m━━━━━━━━━━━━━━━━━━━━\u001b[0m\u001b[37m\u001b[0m \u001b[1m6s\u001b[0m 9ms/step - accuracy: 0.1906 - loss: 3.3362 - top-5-accuracy: 0.4620 - val_accuracy: 0.2350 - val_loss: 3.0728 - val_top-5-accuracy: 0.5355\n",
            "Epoch 6/30\n",
            "\u001b[1m625/625\u001b[0m \u001b[32m━━━━━━━━━━━━━━━━━━━━\u001b[0m\u001b[37m\u001b[0m \u001b[1m6s\u001b[0m 9ms/step - accuracy: 0.2409 - loss: 3.0507 - top-5-accuracy: 0.5405 - val_accuracy: 0.2756 - val_loss: 2.8719 - val_top-5-accuracy: 0.5871\n",
            "Epoch 7/30\n",
            "\u001b[1m625/625\u001b[0m \u001b[32m━━━━━━━━━━━━━━━━━━━━\u001b[0m\u001b[37m\u001b[0m \u001b[1m6s\u001b[0m 9ms/step - accuracy: 0.2906 - loss: 2.7929 - top-5-accuracy: 0.6058 - val_accuracy: 0.3140 - val_loss: 2.7223 - val_top-5-accuracy: 0.6216\n",
            "Epoch 8/30\n",
            "\u001b[1m625/625\u001b[0m \u001b[32m━━━━━━━━━━━━━━━━━━━━\u001b[0m\u001b[37m\u001b[0m \u001b[1m6s\u001b[0m 9ms/step - accuracy: 0.3453 - loss: 2.5231 - top-5-accuracy: 0.6653 - val_accuracy: 0.3433 - val_loss: 2.5990 - val_top-5-accuracy: 0.6461\n",
            "Epoch 9/30\n",
            "\u001b[1m625/625\u001b[0m \u001b[32m━━━━━━━━━━━━━━━━━━━━\u001b[0m\u001b[37m\u001b[0m \u001b[1m6s\u001b[0m 9ms/step - accuracy: 0.4059 - loss: 2.2366 - top-5-accuracy: 0.7306 - val_accuracy: 0.3455 - val_loss: 2.5770 - val_top-5-accuracy: 0.6538\n",
            "Epoch 10/30\n",
            "\u001b[1m625/625\u001b[0m \u001b[32m━━━━━━━━━━━━━━━━━━━━\u001b[0m\u001b[37m\u001b[0m \u001b[1m6s\u001b[0m 9ms/step - accuracy: 0.4753 - loss: 1.9235 - top-5-accuracy: 0.7938 - val_accuracy: 0.3638 - val_loss: 2.5207 - val_top-5-accuracy: 0.6700\n",
            "Epoch 11/30\n",
            "\u001b[1m625/625\u001b[0m \u001b[32m━━━━━━━━━━━━━━━━━━━━\u001b[0m\u001b[37m\u001b[0m \u001b[1m6s\u001b[0m 9ms/step - accuracy: 0.5566 - loss: 1.5774 - top-5-accuracy: 0.8561 - val_accuracy: 0.3784 - val_loss: 2.5179 - val_top-5-accuracy: 0.6786\n",
            "Epoch 12/30\n",
            "\u001b[1m625/625\u001b[0m \u001b[32m━━━━━━━━━━━━━━━━━━━━\u001b[0m\u001b[37m\u001b[0m \u001b[1m6s\u001b[0m 9ms/step - accuracy: 0.6387 - loss: 1.2500 - top-5-accuracy: 0.9067 - val_accuracy: 0.3754 - val_loss: 2.6276 - val_top-5-accuracy: 0.6694\n",
            "Epoch 13/30\n",
            "\u001b[1m625/625\u001b[0m \u001b[32m━━━━━━━━━━━━━━━━━━━━\u001b[0m\u001b[37m\u001b[0m \u001b[1m6s\u001b[0m 9ms/step - accuracy: 0.7200 - loss: 0.9579 - top-5-accuracy: 0.9427 - val_accuracy: 0.3795 - val_loss: 2.6968 - val_top-5-accuracy: 0.6753\n",
            "Epoch 14/30\n",
            "\u001b[1m625/625\u001b[0m \u001b[32m━━━━━━━━━━━━━━━━━━━━\u001b[0m\u001b[37m\u001b[0m \u001b[1m6s\u001b[0m 9ms/step - accuracy: 0.7822 - loss: 0.7351 - top-5-accuracy: 0.9653 - val_accuracy: 0.3724 - val_loss: 2.7982 - val_top-5-accuracy: 0.6719\n",
            "Epoch 15/30\n",
            "\u001b[1m625/625\u001b[0m \u001b[32m━━━━━━━━━━━━━━━━━━━━\u001b[0m\u001b[37m\u001b[0m \u001b[1m6s\u001b[0m 9ms/step - accuracy: 0.8247 - loss: 0.5830 - top-5-accuracy: 0.9795 - val_accuracy: 0.3786 - val_loss: 2.8579 - val_top-5-accuracy: 0.6709\n",
            "Epoch 16/30\n",
            "\u001b[1m625/625\u001b[0m \u001b[32m━━━━━━━━━━━━━━━━━━━━\u001b[0m\u001b[37m\u001b[0m \u001b[1m6s\u001b[0m 9ms/step - accuracy: 0.8618 - loss: 0.4526 - top-5-accuracy: 0.9859 - val_accuracy: 0.3870 - val_loss: 3.0493 - val_top-5-accuracy: 0.6712\n",
            "Epoch 17/30\n",
            "\u001b[1m625/625\u001b[0m \u001b[32m━━━━━━━━━━━━━━━━━━━━\u001b[0m\u001b[37m\u001b[0m \u001b[1m6s\u001b[0m 9ms/step - accuracy: 0.8875 - loss: 0.3672 - top-5-accuracy: 0.9915 - val_accuracy: 0.3825 - val_loss: 3.3248 - val_top-5-accuracy: 0.6722\n",
            "Epoch 18/30\n",
            "\u001b[1m625/625\u001b[0m \u001b[32m━━━━━━━━━━━━━━━━━━━━\u001b[0m\u001b[37m\u001b[0m \u001b[1m6s\u001b[0m 9ms/step - accuracy: 0.9063 - loss: 0.3093 - top-5-accuracy: 0.9939 - val_accuracy: 0.3869 - val_loss: 3.1942 - val_top-5-accuracy: 0.6767\n",
            "Epoch 19/30\n",
            "\u001b[1m625/625\u001b[0m \u001b[32m━━━━━━━━━━━━━━━━━━━━\u001b[0m\u001b[37m\u001b[0m \u001b[1m6s\u001b[0m 9ms/step - accuracy: 0.9175 - loss: 0.2734 - top-5-accuracy: 0.9942 - val_accuracy: 0.3778 - val_loss: 3.4120 - val_top-5-accuracy: 0.6733\n",
            "Epoch 20/30\n",
            "\u001b[1m625/625\u001b[0m \u001b[32m━━━━━━━━━━━━━━━━━━━━\u001b[0m\u001b[37m\u001b[0m \u001b[1m6s\u001b[0m 9ms/step - accuracy: 0.9255 - loss: 0.2412 - top-5-accuracy: 0.9952 - val_accuracy: 0.3821 - val_loss: 3.3887 - val_top-5-accuracy: 0.6667\n",
            "Epoch 21/30\n",
            "\u001b[1m625/625\u001b[0m \u001b[32m━━━━━━━━━━━━━━━━━━━━\u001b[0m\u001b[37m\u001b[0m \u001b[1m6s\u001b[0m 9ms/step - accuracy: 0.9432 - loss: 0.1912 - top-5-accuracy: 0.9970 - val_accuracy: 0.3868 - val_loss: 3.3836 - val_top-5-accuracy: 0.6740\n",
            "Epoch 22/30\n",
            "\u001b[1m625/625\u001b[0m \u001b[32m━━━━━━━━━━━━━━━━━━━━\u001b[0m\u001b[37m\u001b[0m \u001b[1m6s\u001b[0m 9ms/step - accuracy: 0.9522 - loss: 0.1605 - top-5-accuracy: 0.9976 - val_accuracy: 0.3881 - val_loss: 3.4467 - val_top-5-accuracy: 0.6725\n",
            "Epoch 23/30\n",
            "\u001b[1m625/625\u001b[0m \u001b[32m━━━━━━━━━━━━━━━━━━━━\u001b[0m\u001b[37m\u001b[0m \u001b[1m6s\u001b[0m 9ms/step - accuracy: 0.9572 - loss: 0.1396 - top-5-accuracy: 0.9983 - val_accuracy: 0.3929 - val_loss: 3.5436 - val_top-5-accuracy: 0.6728\n",
            "Epoch 24/30\n",
            "\u001b[1m625/625\u001b[0m \u001b[32m━━━━━━━━━━━━━━━━━━━━\u001b[0m\u001b[37m\u001b[0m \u001b[1m6s\u001b[0m 9ms/step - accuracy: 0.9627 - loss: 0.1233 - top-5-accuracy: 0.9985 - val_accuracy: 0.3896 - val_loss: 3.5965 - val_top-5-accuracy: 0.6727\n",
            "Epoch 25/30\n",
            "\u001b[1m625/625\u001b[0m \u001b[32m━━━━━━━━━━━━━━━━━━━━\u001b[0m\u001b[37m\u001b[0m \u001b[1m6s\u001b[0m 9ms/step - accuracy: 0.9687 - loss: 0.1063 - top-5-accuracy: 0.9988 - val_accuracy: 0.3895 - val_loss: 3.6033 - val_top-5-accuracy: 0.6761\n",
            "Epoch 26/30\n",
            "\u001b[1m625/625\u001b[0m \u001b[32m━━━━━━━━━━━━━━━━━━━━\u001b[0m\u001b[37m\u001b[0m \u001b[1m6s\u001b[0m 9ms/step - accuracy: 0.9725 - loss: 0.0904 - top-5-accuracy: 0.9993 - val_accuracy: 0.3923 - val_loss: 3.4012 - val_top-5-accuracy: 0.6721\n",
            "Epoch 27/30\n",
            "\u001b[1m625/625\u001b[0m \u001b[32m━━━━━━━━━━━━━━━━━━━━\u001b[0m\u001b[37m\u001b[0m \u001b[1m6s\u001b[0m 9ms/step - accuracy: 0.9777 - loss: 0.0770 - top-5-accuracy: 0.9992 - val_accuracy: 0.3922 - val_loss: 3.5584 - val_top-5-accuracy: 0.6749\n",
            "Epoch 28/30\n",
            "\u001b[1m625/625\u001b[0m \u001b[32m━━━━━━━━━━━━━━━━━━━━\u001b[0m\u001b[37m\u001b[0m \u001b[1m6s\u001b[0m 9ms/step - accuracy: 0.9806 - loss: 0.0641 - top-5-accuracy: 0.9995 - val_accuracy: 0.3912 - val_loss: 3.5468 - val_top-5-accuracy: 0.6780\n",
            "Epoch 29/30\n",
            "\u001b[1m625/625\u001b[0m \u001b[32m━━━━━━━━━━━━━━━━━━━━\u001b[0m\u001b[37m\u001b[0m \u001b[1m6s\u001b[0m 9ms/step - accuracy: 0.9832 - loss: 0.0589 - top-5-accuracy: 0.9994 - val_accuracy: 0.3967 - val_loss: 3.8730 - val_top-5-accuracy: 0.6803\n",
            "Epoch 30/30\n",
            "\u001b[1m625/625\u001b[0m \u001b[32m━━━━━━━━━━━━━━━━━━━━\u001b[0m\u001b[37m\u001b[0m \u001b[1m6s\u001b[0m 9ms/step - accuracy: 0.9844 - loss: 0.0525 - top-5-accuracy: 0.9994 - val_accuracy: 0.3979 - val_loss: 3.6343 - val_top-5-accuracy: 0.6787\n"
          ]
        }
      ],
      "source": [
        "history = vit.fit(x = train_x, y = train_y, batch_size=batch_size, epochs=epochs, validation_split = 0.2)"
      ]
    },
    {
      "cell_type": "code",
      "source": [
        "vit.evaluate(test_x, test_y)"
      ],
      "metadata": {
        "colab": {
          "base_uri": "https://localhost:8080/"
        },
        "id": "C7xcmmvcAwyj",
        "outputId": "04819cda-b001-4260-8b7b-d77a54f3bd67"
      },
      "execution_count": 15,
      "outputs": [
        {
          "output_type": "stream",
          "name": "stdout",
          "text": [
            "\u001b[1m313/313\u001b[0m \u001b[32m━━━━━━━━━━━━━━━━━━━━\u001b[0m\u001b[37m\u001b[0m \u001b[1m7s\u001b[0m 3ms/step - accuracy: 0.4038 - loss: 3.5158 - top-5-accuracy: 0.6845\n"
          ]
        },
        {
          "output_type": "execute_result",
          "data": {
            "text/plain": [
              "[3.5465121269226074, 0.4009999930858612, 0.6837999820709229]"
            ]
          },
          "metadata": {},
          "execution_count": 15
        }
      ]
    }
  ],
  "metadata": {
    "kernelspec": {
      "display_name": "Python 3",
      "name": "python3"
    },
    "language_info": {
      "codemirror_mode": {
        "name": "ipython",
        "version": 3
      },
      "file_extension": ".py",
      "mimetype": "text/x-python",
      "name": "python",
      "nbconvert_exporter": "python",
      "pygments_lexer": "ipython3",
      "version": "3.12.4"
    },
    "colab": {
      "provenance": [],
      "machine_shape": "hm",
      "gpuType": "A100",
      "include_colab_link": true
    },
    "accelerator": "GPU"
  },
  "nbformat": 4,
  "nbformat_minor": 0
}