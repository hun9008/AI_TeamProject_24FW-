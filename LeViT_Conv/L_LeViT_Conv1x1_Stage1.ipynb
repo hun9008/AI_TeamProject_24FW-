{
  "cells": [
    {
      "cell_type": "code",
      "execution_count": 1,
      "metadata": {
        "colab": {
          "base_uri": "https://localhost:8080/"
        },
        "id": "gOt_dilyzGPf",
        "outputId": "60bf808f-9540-45a6-a150-2c83b0e3f729"
      },
      "outputs": [
        {
          "output_type": "stream",
          "name": "stdout",
          "text": [
            "Collecting torchinfo\n",
            "  Downloading torchinfo-1.8.0-py3-none-any.whl.metadata (21 kB)\n",
            "Downloading torchinfo-1.8.0-py3-none-any.whl (23 kB)\n",
            "Installing collected packages: torchinfo\n",
            "Successfully installed torchinfo-1.8.0\n"
          ]
        }
      ],
      "source": [
        "!pip install torchinfo"
      ]
    },
    {
      "cell_type": "code",
      "execution_count": 2,
      "metadata": {
        "id": "tZSEFQzWzBPy"
      },
      "outputs": [],
      "source": [
        "import timm\n",
        "import torch\n",
        "import torch.nn as nn\n",
        "import torch.optim as optim\n",
        "from torchvision import datasets, transforms\n",
        "from torch.utils.data import DataLoader, random_split, ConcatDataset\n",
        "import numpy as np\n",
        "from tqdm import tqdm\n",
        "\n",
        "import itertools\n",
        "from torchinfo import summary"
      ]
    },
    {
      "cell_type": "code",
      "execution_count": 3,
      "metadata": {
        "id": "5N0s6e-mzBPz"
      },
      "outputs": [],
      "source": [
        "class ConvNorm(nn.Module):\n",
        "    def __init__(self, in_channels, out_channels, kernel_size=3, stride=2, padding=1):\n",
        "        super(ConvNorm, self).__init__()\n",
        "        self.linear = nn.Conv2d(\n",
        "            in_channels, out_channels, kernel_size=kernel_size,\n",
        "            stride=stride, padding=padding, bias=False\n",
        "        )\n",
        "        self.bn = nn.BatchNorm2d(out_channels)\n",
        "\n",
        "    def forward(self, x):\n",
        "        x = self.linear(x)\n",
        "        x = self.bn(x)\n",
        "        return x"
      ]
    },
    {
      "cell_type": "code",
      "execution_count": 4,
      "metadata": {
        "id": "fX0CnXd9zBP0"
      },
      "outputs": [],
      "source": [
        "class Stem16(nn.Module):\n",
        "    def __init__(self):\n",
        "        super(Stem16, self).__init__()\n",
        "        self.conv1 = ConvNorm(3, 32)\n",
        "        self.act1 = nn.Hardswish()\n",
        "        self.conv2 = ConvNorm(32, 64)\n",
        "        self.act2 = nn.Hardswish()\n",
        "        self.conv3 = ConvNorm(64, 128)\n",
        "        self.act3 = nn.Hardswish()\n",
        "        self.conv4 = ConvNorm(128, 256)\n",
        "\n",
        "    def forward(self, x):\n",
        "        x = self.act1(self.conv1(x))\n",
        "        x = self.act2(self.conv2(x))\n",
        "        x = self.act3(self.conv3(x))\n",
        "        x = self.conv4(x)\n",
        "        return x"
      ]
    },
    {
      "cell_type": "code",
      "execution_count": 5,
      "metadata": {
        "id": "7tw3fRfnzBP0"
      },
      "outputs": [],
      "source": [
        "class LinearNorm(nn.Module):\n",
        "    def __init__(self, in_features, out_features):\n",
        "        super(LinearNorm, self).__init__()\n",
        "        self.linear = nn.Linear(in_features, out_features, bias=False)\n",
        "        self.bn = nn.BatchNorm1d(out_features)\n",
        "\n",
        "    def forward(self, x):\n",
        "\n",
        "        if x.dim() == 3:\n",
        "            B, N, C = x.shape\n",
        "            x = x.reshape(B * N, C)\n",
        "            x = self.bn(self.linear(x))\n",
        "            x = x.reshape(B, N, -1)\n",
        "        else:\n",
        "            x = self.bn(self.linear(x))\n",
        "        return x"
      ]
    },
    {
      "cell_type": "code",
      "execution_count": 6,
      "metadata": {
        "id": "rW7vhH2YzBP1"
      },
      "outputs": [],
      "source": [
        "class Attention(nn.Module):\n",
        "    def __init__(self, dim, num_heads, attn_ratio=2):\n",
        "        super(Attention, self).__init__()\n",
        "        self.num_heads = num_heads\n",
        "        head_dim = dim // num_heads\n",
        "        self.scale = head_dim ** -0.5\n",
        "        inner_dim = head_dim * num_heads * 3\n",
        "        self.qkv = LinearNorm(dim, inner_dim)\n",
        "\n",
        "        self.proj = nn.Sequential(\n",
        "            nn.Hardswish(),\n",
        "            LinearNorm(dim, dim)\n",
        "        )\n",
        "\n",
        "    def forward(self, x):\n",
        "        B, N, C = x.shape\n",
        "        qkv = self.qkv(x)\n",
        "        qkv = qkv.view(B, N, 3, self.num_heads, C // self.num_heads).permute(2, 0, 3, 1, 4)\n",
        "        q, k, v = qkv[0], qkv[1], qkv[2]\n",
        "        attn = (q @ k.transpose(-2, -1)) * self.scale\n",
        "        attn = attn.softmax(dim=-1)\n",
        "        x = (attn @ v).transpose(1, 2).reshape(B, N, C)\n",
        "        return self.proj(x)"
      ]
    },
    {
      "cell_type": "code",
      "execution_count": 7,
      "metadata": {
        "id": "ewOcRA2dzBP1"
      },
      "outputs": [],
      "source": [
        "class LevitMlp(nn.Module):\n",
        "    def __init__(self, in_features, hidden_features, out_features):\n",
        "        super(LevitMlp, self).__init__()\n",
        "        self.ln1 = LinearNorm(in_features, hidden_features)\n",
        "        self.act = nn.Hardswish()\n",
        "        self.drop = nn.Dropout(p=0.0, inplace=False)\n",
        "        self.ln2 = LinearNorm(hidden_features, out_features)\n",
        "\n",
        "    def forward(self, x):\n",
        "        x = self.ln1(x)\n",
        "        x = self.act(x)\n",
        "        x = self.drop(x)\n",
        "        x = self.ln2(x)\n",
        "        return x"
      ]
    },
    {
      "cell_type": "code",
      "execution_count": 88,
      "metadata": {
        "id": "1m-F4YvfzBP2"
      },
      "outputs": [],
      "source": [
        "class LevitBlock(nn.Module):\n",
        "    def __init__(self, dim, num_heads, mlp_ratio=2):\n",
        "        super(LevitBlock, self).__init__()\n",
        "        self.attn = Attention(dim, num_heads)\n",
        "        self.drop_path1 = nn.Identity()\n",
        "        self.mlp = LevitMlp(dim, dim * mlp_ratio, dim)\n",
        "        self.drop_path2 = nn.Identity()\n",
        "\n",
        "    def forward(self, x):\n",
        "        #print(\"Input to LevitBlock:\", x.shape)\n",
        "        x = x + self.drop_path1(self.attn(x))  # Attention 연산\n",
        "        #print(\"After Attention:\", x.shape)\n",
        "        x = x + self.drop_path2(self.mlp(x))  # MLP 연산\n",
        "        #print(\"After MLP:\", x.shape)\n",
        "        return x"
      ]
    },
    {
      "cell_type": "code",
      "execution_count": 9,
      "metadata": {
        "id": "pDfX1xE1zBP2"
      },
      "outputs": [],
      "source": [
        "class AttentionDownsample(nn.Module):\n",
        "    def __init__(self, dim, out_dim, num_heads, attn_ratio=2):\n",
        "        super(AttentionDownsample, self).__init__()\n",
        "        self.num_heads = num_heads\n",
        "        self.scale = (dim // num_heads) ** -0.5\n",
        "        inner_dim = dim * attn_ratio * num_heads\n",
        "        self.kv = LinearNorm(dim, inner_dim)\n",
        "\n",
        "        self.q = nn.Sequential(\n",
        "            nn.Conv2d(dim, dim, kernel_size=2, stride=2),\n",
        "            nn.Flatten(start_dim=1)\n",
        "        )\n",
        "\n",
        "        self.proj = nn.Sequential(\n",
        "            nn.Hardswish(),\n",
        "            LinearNorm(dim, out_dim)\n",
        "        )\n",
        "\n",
        "    def forward(self, x):\n",
        "        B, N, C = x.shape\n",
        "        H = W = int(N ** 0.5)\n",
        "        x = x.reshape(B, C, H, W)\n",
        "\n",
        "        kv = self.kv(x.flatten(2).transpose(1, 2))\n",
        "        q = self.q(x)\n",
        "\n",
        "        q = q.reshape(B, -1, C)\n",
        "        x = self.proj(q)\n",
        "        return x"
      ]
    },
    {
      "cell_type": "code",
      "execution_count": 89,
      "metadata": {
        "id": "Z26uegOwzBP2"
      },
      "outputs": [],
      "source": [
        "class LevitDownsample(nn.Module):\n",
        "    def __init__(self, dim, out_dim, num_heads, attn_ratio=2):\n",
        "        super(LevitDownsample, self).__init__()\n",
        "        self.attn_downsample = AttentionDownsample(dim, out_dim, num_heads, attn_ratio)\n",
        "        self.mlp = LevitMlp(out_dim, out_dim * attn_ratio, out_dim)\n",
        "        self.drop_path = nn.Identity()\n",
        "\n",
        "    def forward(self, x):\n",
        "        #print(\"Before Downsample:\", x.shape)\n",
        "\n",
        "        # Convert 4D to 3D\n",
        "        if x.dim() == 4:  # If input is 4D, convert to 3D\n",
        "            B, C, H, W = x.shape\n",
        "            x = x.view(B, C, -1).transpose(1, 2)  # B, N, C\n",
        "            #print(\"After 4D to 3D conversion for Downsample:\", x.shape)\n",
        "\n",
        "        x = self.attn_downsample(x)\n",
        "        #print(\"After attn_downsample:\", x.shape)\n",
        "        x = self.drop_path(self.mlp(x))\n",
        "        #print(\"After MLP in Downsample:\", x.shape)\n",
        "\n",
        "        return x\n"
      ]
    },
    {
      "cell_type": "code",
      "execution_count": 90,
      "metadata": {
        "id": "oGsAuLPfzBP3"
      },
      "outputs": [],
      "source": [
        "class LevitStage(nn.Module):\n",
        "    def __init__(self, dim, out_dim, num_heads, num_blocks, downsample=True):\n",
        "        super(LevitStage, self).__init__()\n",
        "        self.downsample = LevitDownsample(dim, out_dim, num_heads) if downsample else nn.Identity()\n",
        "        self.blocks = nn.Sequential(*[LevitBlock(out_dim, num_heads) for _ in range(num_blocks)])\n",
        "\n",
        "    def forward(self, x):\n",
        "        x = self.downsample(x)\n",
        "        x = self.blocks(x)\n",
        "        return x"
      ]
    },
    {
      "cell_type": "code",
      "execution_count": 91,
      "metadata": {
        "id": "2PBkdZUuhsDI"
      },
      "outputs": [],
      "source": [
        "class ConvLevitStage(nn.Module):\n",
        "    def __init__(self, in_channels, out_channels, num_blocks, kernel_size, stride, padding):\n",
        "        super(ConvLevitStage, self).__init__()\n",
        "        self.layers = nn.Sequential(\n",
        "            *[nn.Conv2d(in_channels if i == 0 else out_channels, out_channels, kernel_size, stride, padding)\n",
        "              for i in range(num_blocks)],\n",
        "            nn.BatchNorm2d(out_channels),\n",
        "            nn.ReLU(inplace=True)\n",
        "        )\n",
        "\n",
        "    def forward(self, x):\n",
        "        #print(\"Input to ConvLevitStage:\", x.shape)  # Debugging 출력\n",
        "        x = self.layers(x)\n",
        "        #print(\"Output of ConvLevitStage:\", x.shape)  # Debugging 출력\n",
        "        return x"
      ]
    },
    {
      "cell_type": "code",
      "execution_count": 92,
      "metadata": {
        "id": "bBPec4pbzBP3"
      },
      "outputs": [],
      "source": [
        "class NormLinear(nn.Module):\n",
        "    def __init__(self, in_features, out_features, dropout_prob=0.0):\n",
        "        super(NormLinear, self).__init__()\n",
        "        self.bn = nn.BatchNorm1d(in_features)\n",
        "        self.drop = nn.Dropout(p=dropout_prob, inplace=False)\n",
        "        self.linear = nn.Linear(in_features, out_features, bias=True)\n",
        "\n",
        "    def forward(self, x):\n",
        "        x = self.bn(x)\n",
        "        x = self.drop(x)\n",
        "        x = self.linear(x)\n",
        "        return x\n"
      ]
    },
    {
      "cell_type": "code",
      "execution_count": 93,
      "metadata": {
        "id": "mt5kkekezBP3"
      },
      "outputs": [],
      "source": [
        "class LevitDistilled(nn.Module):\n",
        "    def __init__(self, num_classes=37):\n",
        "        super(LevitDistilled, self).__init__()\n",
        "        self.stem = Stem16()\n",
        "\n",
        "        self.stage1 = ConvLevitStage(\n",
        "            in_channels=256,\n",
        "            out_channels=256,\n",
        "            num_blocks=3,\n",
        "            kernel_size=1,\n",
        "            stride=1,\n",
        "            padding=0\n",
        "        )\n",
        "\n",
        "        self.stage2 = LevitStage(dim=256, out_dim=384, num_heads=6, num_blocks=3, downsample=True)\n",
        "        self.stage3 = LevitStage(dim=384, out_dim=512, num_heads=8, num_blocks=2, downsample=True)\n",
        "\n",
        "        self.head = NormLinear(in_features=512, out_features=num_classes, dropout_prob=0.0)\n",
        "        self.head_dist = NormLinear(in_features=512, out_features=num_classes, dropout_prob=0.0)\n",
        "\n",
        "    def forward(self, x):\n",
        "        # Stem\n",
        "        x = self.stem(x)\n",
        "        #print(\"After Stem:\", x.shape)\n",
        "\n",
        "        # Stage 1\n",
        "        x = self.stage1(x)\n",
        "        #print(\"After Stage 1:\", x.shape)\n",
        "\n",
        "        # Convert to 3D for stage2\n",
        "        B, C, H, W = x.shape\n",
        "        x = x.view(B, C, -1).transpose(1, 2)  # B, N, C\n",
        "        #print(\"After 3D conversion for Stage 2:\", x.shape)\n",
        "\n",
        "        # Stage 2\n",
        "        x = self.stage2(x)\n",
        "        #print(\"After Stage 2:\", x.shape)\n",
        "\n",
        "        # Convert back to 4D for stage3\n",
        "        H = W = int(x.shape[1] ** 0.5)\n",
        "        x = x.transpose(1, 2).view(B, 384, H, W)\n",
        "        x = self.stage3(x)\n",
        "\n",
        "        # Final pooling\n",
        "        # Handle 3D tensor properly\n",
        "        if x.dim() == 3:\n",
        "            x = x.mean(dim=1)  # Mean over the sequence dimension\n",
        "        elif x.dim() == 4:\n",
        "            x = torch.mean(x, dim=(2, 3))  # Global Average Pooling for 4D tensor\n",
        "\n",
        "        # Classification heads\n",
        "        out = self.head(x)\n",
        "        out_dist = self.head_dist(x)\n",
        "        return out"
      ]
    },
    {
      "cell_type": "code",
      "execution_count": 94,
      "metadata": {
        "id": "tP9YQ8094vV6"
      },
      "outputs": [],
      "source": [
        "ResNet50 = timm.create_model('resnet50', pretrained=True)"
      ]
    },
    {
      "cell_type": "code",
      "execution_count": 95,
      "metadata": {
        "colab": {
          "base_uri": "https://localhost:8080/"
        },
        "collapsed": true,
        "id": "k5kDAmg84xs_",
        "outputId": "64397331-d585-4d9e-c134-cb80ae8326b4"
      },
      "outputs": [
        {
          "output_type": "stream",
          "name": "stdout",
          "text": [
            "==========================================================================================\n",
            "Layer (type:depth-idx)                   Output Shape              Param #\n",
            "==========================================================================================\n",
            "ResNet                                   [32, 1000]                --\n",
            "├─Conv2d: 1-1                            [32, 64, 112, 112]        9,408\n",
            "├─BatchNorm2d: 1-2                       [32, 64, 112, 112]        128\n",
            "├─ReLU: 1-3                              [32, 64, 112, 112]        --\n",
            "├─MaxPool2d: 1-4                         [32, 64, 56, 56]          --\n",
            "├─Sequential: 1-5                        [32, 256, 56, 56]         --\n",
            "│    └─Bottleneck: 2-1                   [32, 256, 56, 56]         --\n",
            "│    │    └─Conv2d: 3-1                  [32, 64, 56, 56]          4,096\n",
            "│    │    └─BatchNorm2d: 3-2             [32, 64, 56, 56]          128\n",
            "│    │    └─ReLU: 3-3                    [32, 64, 56, 56]          --\n",
            "│    │    └─Conv2d: 3-4                  [32, 64, 56, 56]          36,864\n",
            "│    │    └─BatchNorm2d: 3-5             [32, 64, 56, 56]          128\n",
            "│    │    └─Identity: 3-6                [32, 64, 56, 56]          --\n",
            "│    │    └─ReLU: 3-7                    [32, 64, 56, 56]          --\n",
            "│    │    └─Identity: 3-8                [32, 64, 56, 56]          --\n",
            "│    │    └─Conv2d: 3-9                  [32, 256, 56, 56]         16,384\n",
            "│    │    └─BatchNorm2d: 3-10            [32, 256, 56, 56]         512\n",
            "│    │    └─Sequential: 3-11             [32, 256, 56, 56]         16,896\n",
            "│    │    └─ReLU: 3-12                   [32, 256, 56, 56]         --\n",
            "│    └─Bottleneck: 2-2                   [32, 256, 56, 56]         --\n",
            "│    │    └─Conv2d: 3-13                 [32, 64, 56, 56]          16,384\n",
            "│    │    └─BatchNorm2d: 3-14            [32, 64, 56, 56]          128\n",
            "│    │    └─ReLU: 3-15                   [32, 64, 56, 56]          --\n",
            "│    │    └─Conv2d: 3-16                 [32, 64, 56, 56]          36,864\n",
            "│    │    └─BatchNorm2d: 3-17            [32, 64, 56, 56]          128\n",
            "│    │    └─Identity: 3-18               [32, 64, 56, 56]          --\n",
            "│    │    └─ReLU: 3-19                   [32, 64, 56, 56]          --\n",
            "│    │    └─Identity: 3-20               [32, 64, 56, 56]          --\n",
            "│    │    └─Conv2d: 3-21                 [32, 256, 56, 56]         16,384\n",
            "│    │    └─BatchNorm2d: 3-22            [32, 256, 56, 56]         512\n",
            "│    │    └─ReLU: 3-23                   [32, 256, 56, 56]         --\n",
            "│    └─Bottleneck: 2-3                   [32, 256, 56, 56]         --\n",
            "│    │    └─Conv2d: 3-24                 [32, 64, 56, 56]          16,384\n",
            "│    │    └─BatchNorm2d: 3-25            [32, 64, 56, 56]          128\n",
            "│    │    └─ReLU: 3-26                   [32, 64, 56, 56]          --\n",
            "│    │    └─Conv2d: 3-27                 [32, 64, 56, 56]          36,864\n",
            "│    │    └─BatchNorm2d: 3-28            [32, 64, 56, 56]          128\n",
            "│    │    └─Identity: 3-29               [32, 64, 56, 56]          --\n",
            "│    │    └─ReLU: 3-30                   [32, 64, 56, 56]          --\n",
            "│    │    └─Identity: 3-31               [32, 64, 56, 56]          --\n",
            "│    │    └─Conv2d: 3-32                 [32, 256, 56, 56]         16,384\n",
            "│    │    └─BatchNorm2d: 3-33            [32, 256, 56, 56]         512\n",
            "│    │    └─ReLU: 3-34                   [32, 256, 56, 56]         --\n",
            "├─Sequential: 1-6                        [32, 512, 28, 28]         --\n",
            "│    └─Bottleneck: 2-4                   [32, 512, 28, 28]         --\n",
            "│    │    └─Conv2d: 3-35                 [32, 128, 56, 56]         32,768\n",
            "│    │    └─BatchNorm2d: 3-36            [32, 128, 56, 56]         256\n",
            "│    │    └─ReLU: 3-37                   [32, 128, 56, 56]         --\n",
            "│    │    └─Conv2d: 3-38                 [32, 128, 28, 28]         147,456\n",
            "│    │    └─BatchNorm2d: 3-39            [32, 128, 28, 28]         256\n",
            "│    │    └─Identity: 3-40               [32, 128, 28, 28]         --\n",
            "│    │    └─ReLU: 3-41                   [32, 128, 28, 28]         --\n",
            "│    │    └─Identity: 3-42               [32, 128, 28, 28]         --\n",
            "│    │    └─Conv2d: 3-43                 [32, 512, 28, 28]         65,536\n",
            "│    │    └─BatchNorm2d: 3-44            [32, 512, 28, 28]         1,024\n",
            "│    │    └─Sequential: 3-45             [32, 512, 28, 28]         132,096\n",
            "│    │    └─ReLU: 3-46                   [32, 512, 28, 28]         --\n",
            "│    └─Bottleneck: 2-5                   [32, 512, 28, 28]         --\n",
            "│    │    └─Conv2d: 3-47                 [32, 128, 28, 28]         65,536\n",
            "│    │    └─BatchNorm2d: 3-48            [32, 128, 28, 28]         256\n",
            "│    │    └─ReLU: 3-49                   [32, 128, 28, 28]         --\n",
            "│    │    └─Conv2d: 3-50                 [32, 128, 28, 28]         147,456\n",
            "│    │    └─BatchNorm2d: 3-51            [32, 128, 28, 28]         256\n",
            "│    │    └─Identity: 3-52               [32, 128, 28, 28]         --\n",
            "│    │    └─ReLU: 3-53                   [32, 128, 28, 28]         --\n",
            "│    │    └─Identity: 3-54               [32, 128, 28, 28]         --\n",
            "│    │    └─Conv2d: 3-55                 [32, 512, 28, 28]         65,536\n",
            "│    │    └─BatchNorm2d: 3-56            [32, 512, 28, 28]         1,024\n",
            "│    │    └─ReLU: 3-57                   [32, 512, 28, 28]         --\n",
            "│    └─Bottleneck: 2-6                   [32, 512, 28, 28]         --\n",
            "│    │    └─Conv2d: 3-58                 [32, 128, 28, 28]         65,536\n",
            "│    │    └─BatchNorm2d: 3-59            [32, 128, 28, 28]         256\n",
            "│    │    └─ReLU: 3-60                   [32, 128, 28, 28]         --\n",
            "│    │    └─Conv2d: 3-61                 [32, 128, 28, 28]         147,456\n",
            "│    │    └─BatchNorm2d: 3-62            [32, 128, 28, 28]         256\n",
            "│    │    └─Identity: 3-63               [32, 128, 28, 28]         --\n",
            "│    │    └─ReLU: 3-64                   [32, 128, 28, 28]         --\n",
            "│    │    └─Identity: 3-65               [32, 128, 28, 28]         --\n",
            "│    │    └─Conv2d: 3-66                 [32, 512, 28, 28]         65,536\n",
            "│    │    └─BatchNorm2d: 3-67            [32, 512, 28, 28]         1,024\n",
            "│    │    └─ReLU: 3-68                   [32, 512, 28, 28]         --\n",
            "│    └─Bottleneck: 2-7                   [32, 512, 28, 28]         --\n",
            "│    │    └─Conv2d: 3-69                 [32, 128, 28, 28]         65,536\n",
            "│    │    └─BatchNorm2d: 3-70            [32, 128, 28, 28]         256\n",
            "│    │    └─ReLU: 3-71                   [32, 128, 28, 28]         --\n",
            "│    │    └─Conv2d: 3-72                 [32, 128, 28, 28]         147,456\n",
            "│    │    └─BatchNorm2d: 3-73            [32, 128, 28, 28]         256\n",
            "│    │    └─Identity: 3-74               [32, 128, 28, 28]         --\n",
            "│    │    └─ReLU: 3-75                   [32, 128, 28, 28]         --\n",
            "│    │    └─Identity: 3-76               [32, 128, 28, 28]         --\n",
            "│    │    └─Conv2d: 3-77                 [32, 512, 28, 28]         65,536\n",
            "│    │    └─BatchNorm2d: 3-78            [32, 512, 28, 28]         1,024\n",
            "│    │    └─ReLU: 3-79                   [32, 512, 28, 28]         --\n",
            "├─Sequential: 1-7                        [32, 1024, 14, 14]        --\n",
            "│    └─Bottleneck: 2-8                   [32, 1024, 14, 14]        --\n",
            "│    │    └─Conv2d: 3-80                 [32, 256, 28, 28]         131,072\n",
            "│    │    └─BatchNorm2d: 3-81            [32, 256, 28, 28]         512\n",
            "│    │    └─ReLU: 3-82                   [32, 256, 28, 28]         --\n",
            "│    │    └─Conv2d: 3-83                 [32, 256, 14, 14]         589,824\n",
            "│    │    └─BatchNorm2d: 3-84            [32, 256, 14, 14]         512\n",
            "│    │    └─Identity: 3-85               [32, 256, 14, 14]         --\n",
            "│    │    └─ReLU: 3-86                   [32, 256, 14, 14]         --\n",
            "│    │    └─Identity: 3-87               [32, 256, 14, 14]         --\n",
            "│    │    └─Conv2d: 3-88                 [32, 1024, 14, 14]        262,144\n",
            "│    │    └─BatchNorm2d: 3-89            [32, 1024, 14, 14]        2,048\n",
            "│    │    └─Sequential: 3-90             [32, 1024, 14, 14]        526,336\n",
            "│    │    └─ReLU: 3-91                   [32, 1024, 14, 14]        --\n",
            "│    └─Bottleneck: 2-9                   [32, 1024, 14, 14]        --\n",
            "│    │    └─Conv2d: 3-92                 [32, 256, 14, 14]         262,144\n",
            "│    │    └─BatchNorm2d: 3-93            [32, 256, 14, 14]         512\n",
            "│    │    └─ReLU: 3-94                   [32, 256, 14, 14]         --\n",
            "│    │    └─Conv2d: 3-95                 [32, 256, 14, 14]         589,824\n",
            "│    │    └─BatchNorm2d: 3-96            [32, 256, 14, 14]         512\n",
            "│    │    └─Identity: 3-97               [32, 256, 14, 14]         --\n",
            "│    │    └─ReLU: 3-98                   [32, 256, 14, 14]         --\n",
            "│    │    └─Identity: 3-99               [32, 256, 14, 14]         --\n",
            "│    │    └─Conv2d: 3-100                [32, 1024, 14, 14]        262,144\n",
            "│    │    └─BatchNorm2d: 3-101           [32, 1024, 14, 14]        2,048\n",
            "│    │    └─ReLU: 3-102                  [32, 1024, 14, 14]        --\n",
            "│    └─Bottleneck: 2-10                  [32, 1024, 14, 14]        --\n",
            "│    │    └─Conv2d: 3-103                [32, 256, 14, 14]         262,144\n",
            "│    │    └─BatchNorm2d: 3-104           [32, 256, 14, 14]         512\n",
            "│    │    └─ReLU: 3-105                  [32, 256, 14, 14]         --\n",
            "│    │    └─Conv2d: 3-106                [32, 256, 14, 14]         589,824\n",
            "│    │    └─BatchNorm2d: 3-107           [32, 256, 14, 14]         512\n",
            "│    │    └─Identity: 3-108              [32, 256, 14, 14]         --\n",
            "│    │    └─ReLU: 3-109                  [32, 256, 14, 14]         --\n",
            "│    │    └─Identity: 3-110              [32, 256, 14, 14]         --\n",
            "│    │    └─Conv2d: 3-111                [32, 1024, 14, 14]        262,144\n",
            "│    │    └─BatchNorm2d: 3-112           [32, 1024, 14, 14]        2,048\n",
            "│    │    └─ReLU: 3-113                  [32, 1024, 14, 14]        --\n",
            "│    └─Bottleneck: 2-11                  [32, 1024, 14, 14]        --\n",
            "│    │    └─Conv2d: 3-114                [32, 256, 14, 14]         262,144\n",
            "│    │    └─BatchNorm2d: 3-115           [32, 256, 14, 14]         512\n",
            "│    │    └─ReLU: 3-116                  [32, 256, 14, 14]         --\n",
            "│    │    └─Conv2d: 3-117                [32, 256, 14, 14]         589,824\n",
            "│    │    └─BatchNorm2d: 3-118           [32, 256, 14, 14]         512\n",
            "│    │    └─Identity: 3-119              [32, 256, 14, 14]         --\n",
            "│    │    └─ReLU: 3-120                  [32, 256, 14, 14]         --\n",
            "│    │    └─Identity: 3-121              [32, 256, 14, 14]         --\n",
            "│    │    └─Conv2d: 3-122                [32, 1024, 14, 14]        262,144\n",
            "│    │    └─BatchNorm2d: 3-123           [32, 1024, 14, 14]        2,048\n",
            "│    │    └─ReLU: 3-124                  [32, 1024, 14, 14]        --\n",
            "│    └─Bottleneck: 2-12                  [32, 1024, 14, 14]        --\n",
            "│    │    └─Conv2d: 3-125                [32, 256, 14, 14]         262,144\n",
            "│    │    └─BatchNorm2d: 3-126           [32, 256, 14, 14]         512\n",
            "│    │    └─ReLU: 3-127                  [32, 256, 14, 14]         --\n",
            "│    │    └─Conv2d: 3-128                [32, 256, 14, 14]         589,824\n",
            "│    │    └─BatchNorm2d: 3-129           [32, 256, 14, 14]         512\n",
            "│    │    └─Identity: 3-130              [32, 256, 14, 14]         --\n",
            "│    │    └─ReLU: 3-131                  [32, 256, 14, 14]         --\n",
            "│    │    └─Identity: 3-132              [32, 256, 14, 14]         --\n",
            "│    │    └─Conv2d: 3-133                [32, 1024, 14, 14]        262,144\n",
            "│    │    └─BatchNorm2d: 3-134           [32, 1024, 14, 14]        2,048\n",
            "│    │    └─ReLU: 3-135                  [32, 1024, 14, 14]        --\n",
            "│    └─Bottleneck: 2-13                  [32, 1024, 14, 14]        --\n",
            "│    │    └─Conv2d: 3-136                [32, 256, 14, 14]         262,144\n",
            "│    │    └─BatchNorm2d: 3-137           [32, 256, 14, 14]         512\n",
            "│    │    └─ReLU: 3-138                  [32, 256, 14, 14]         --\n",
            "│    │    └─Conv2d: 3-139                [32, 256, 14, 14]         589,824\n",
            "│    │    └─BatchNorm2d: 3-140           [32, 256, 14, 14]         512\n",
            "│    │    └─Identity: 3-141              [32, 256, 14, 14]         --\n",
            "│    │    └─ReLU: 3-142                  [32, 256, 14, 14]         --\n",
            "│    │    └─Identity: 3-143              [32, 256, 14, 14]         --\n",
            "│    │    └─Conv2d: 3-144                [32, 1024, 14, 14]        262,144\n",
            "│    │    └─BatchNorm2d: 3-145           [32, 1024, 14, 14]        2,048\n",
            "│    │    └─ReLU: 3-146                  [32, 1024, 14, 14]        --\n",
            "├─Sequential: 1-8                        [32, 2048, 7, 7]          --\n",
            "│    └─Bottleneck: 2-14                  [32, 2048, 7, 7]          --\n",
            "│    │    └─Conv2d: 3-147                [32, 512, 14, 14]         524,288\n",
            "│    │    └─BatchNorm2d: 3-148           [32, 512, 14, 14]         1,024\n",
            "│    │    └─ReLU: 3-149                  [32, 512, 14, 14]         --\n",
            "│    │    └─Conv2d: 3-150                [32, 512, 7, 7]           2,359,296\n",
            "│    │    └─BatchNorm2d: 3-151           [32, 512, 7, 7]           1,024\n",
            "│    │    └─Identity: 3-152              [32, 512, 7, 7]           --\n",
            "│    │    └─ReLU: 3-153                  [32, 512, 7, 7]           --\n",
            "│    │    └─Identity: 3-154              [32, 512, 7, 7]           --\n",
            "│    │    └─Conv2d: 3-155                [32, 2048, 7, 7]          1,048,576\n",
            "│    │    └─BatchNorm2d: 3-156           [32, 2048, 7, 7]          4,096\n",
            "│    │    └─Sequential: 3-157            [32, 2048, 7, 7]          2,101,248\n",
            "│    │    └─ReLU: 3-158                  [32, 2048, 7, 7]          --\n",
            "│    └─Bottleneck: 2-15                  [32, 2048, 7, 7]          --\n",
            "│    │    └─Conv2d: 3-159                [32, 512, 7, 7]           1,048,576\n",
            "│    │    └─BatchNorm2d: 3-160           [32, 512, 7, 7]           1,024\n",
            "│    │    └─ReLU: 3-161                  [32, 512, 7, 7]           --\n",
            "│    │    └─Conv2d: 3-162                [32, 512, 7, 7]           2,359,296\n",
            "│    │    └─BatchNorm2d: 3-163           [32, 512, 7, 7]           1,024\n",
            "│    │    └─Identity: 3-164              [32, 512, 7, 7]           --\n",
            "│    │    └─ReLU: 3-165                  [32, 512, 7, 7]           --\n",
            "│    │    └─Identity: 3-166              [32, 512, 7, 7]           --\n",
            "│    │    └─Conv2d: 3-167                [32, 2048, 7, 7]          1,048,576\n",
            "│    │    └─BatchNorm2d: 3-168           [32, 2048, 7, 7]          4,096\n",
            "│    │    └─ReLU: 3-169                  [32, 2048, 7, 7]          --\n",
            "│    └─Bottleneck: 2-16                  [32, 2048, 7, 7]          --\n",
            "│    │    └─Conv2d: 3-170                [32, 512, 7, 7]           1,048,576\n",
            "│    │    └─BatchNorm2d: 3-171           [32, 512, 7, 7]           1,024\n",
            "│    │    └─ReLU: 3-172                  [32, 512, 7, 7]           --\n",
            "│    │    └─Conv2d: 3-173                [32, 512, 7, 7]           2,359,296\n",
            "│    │    └─BatchNorm2d: 3-174           [32, 512, 7, 7]           1,024\n",
            "│    │    └─Identity: 3-175              [32, 512, 7, 7]           --\n",
            "│    │    └─ReLU: 3-176                  [32, 512, 7, 7]           --\n",
            "│    │    └─Identity: 3-177              [32, 512, 7, 7]           --\n",
            "│    │    └─Conv2d: 3-178                [32, 2048, 7, 7]          1,048,576\n",
            "│    │    └─BatchNorm2d: 3-179           [32, 2048, 7, 7]          4,096\n",
            "│    │    └─ReLU: 3-180                  [32, 2048, 7, 7]          --\n",
            "├─SelectAdaptivePool2d: 1-9              [32, 2048]                --\n",
            "│    └─AdaptiveAvgPool2d: 2-17           [32, 2048, 1, 1]          --\n",
            "│    └─Flatten: 2-18                     [32, 2048]                --\n",
            "├─Linear: 1-10                           [32, 1000]                2,049,000\n",
            "==========================================================================================\n",
            "Total params: 25,557,032\n",
            "Trainable params: 25,557,032\n",
            "Non-trainable params: 0\n",
            "Total mult-adds (G): 130.86\n",
            "==========================================================================================\n",
            "Input size (MB): 19.27\n",
            "Forward/backward pass size (MB): 5690.62\n",
            "Params size (MB): 102.23\n",
            "Estimated Total Size (MB): 5812.11\n",
            "==========================================================================================\n"
          ]
        }
      ],
      "source": [
        "print(summary(ResNet50, input_size=(32, 3, 224, 224)))"
      ]
    },
    {
      "cell_type": "code",
      "execution_count": 96,
      "metadata": {
        "id": "jr3cd2Ro67IM"
      },
      "outputs": [],
      "source": [
        "for param in ResNet50.parameters():\n",
        "    param.requires_grad = False"
      ]
    },
    {
      "cell_type": "code",
      "execution_count": 97,
      "metadata": {
        "id": "e0vDyvmN821X"
      },
      "outputs": [],
      "source": [
        "ResNet50.fc = nn.Identity()"
      ]
    },
    {
      "cell_type": "code",
      "execution_count": 112,
      "metadata": {
        "id": "xJDiw4Kc4674"
      },
      "outputs": [],
      "source": [
        "class LauncherModel(nn.Module):\n",
        "    def __init__(self):\n",
        "        super().__init__()\n",
        "        self.resnet = ResNet50\n",
        "        self.fc = nn.Linear(2048, 3 * 56 * 56)\n",
        "\n",
        "        self.upsample = nn.ConvTranspose2d(3, 3, kernel_size=4, stride=4, padding=0)\n",
        "\n",
        "        self.levit = LevitDistilled()\n",
        "\n",
        "    def forward(self, x):\n",
        "        x = self.resnet(x)  # (32, 2048)\n",
        "        x = self.fc(x)  # (32, 9408)\n",
        "        x = x.view(x.size(0), 3, 56, 56)  # (32, 3, 56, 56)\n",
        "        x = self.upsample(x)  # (32, 3, 224, 224)\n",
        "\n",
        "        #print(\"Shape of x after upsampling:\", x.shape)\n",
        "\n",
        "        x = self.levit(x)\n",
        "        return x\n"
      ]
    },
    {
      "cell_type": "code",
      "execution_count": 113,
      "metadata": {
        "colab": {
          "base_uri": "https://localhost:8080/"
        },
        "id": "kz4Um3NmzBP3",
        "outputId": "e3814e65-3a95-4772-9f48-aab1116d1e55",
        "collapsed": true
      },
      "outputs": [
        {
          "output_type": "stream",
          "name": "stdout",
          "text": [
            "LauncherModel(\n",
            "  (resnet): ResNet(\n",
            "    (conv1): Conv2d(3, 64, kernel_size=(7, 7), stride=(2, 2), padding=(3, 3), bias=False)\n",
            "    (bn1): BatchNorm2d(64, eps=1e-05, momentum=0.1, affine=True, track_running_stats=True)\n",
            "    (act1): ReLU(inplace=True)\n",
            "    (maxpool): MaxPool2d(kernel_size=3, stride=2, padding=1, dilation=1, ceil_mode=False)\n",
            "    (layer1): Sequential(\n",
            "      (0): Bottleneck(\n",
            "        (conv1): Conv2d(64, 64, kernel_size=(1, 1), stride=(1, 1), bias=False)\n",
            "        (bn1): BatchNorm2d(64, eps=1e-05, momentum=0.1, affine=True, track_running_stats=True)\n",
            "        (act1): ReLU(inplace=True)\n",
            "        (conv2): Conv2d(64, 64, kernel_size=(3, 3), stride=(1, 1), padding=(1, 1), bias=False)\n",
            "        (bn2): BatchNorm2d(64, eps=1e-05, momentum=0.1, affine=True, track_running_stats=True)\n",
            "        (drop_block): Identity()\n",
            "        (act2): ReLU(inplace=True)\n",
            "        (aa): Identity()\n",
            "        (conv3): Conv2d(64, 256, kernel_size=(1, 1), stride=(1, 1), bias=False)\n",
            "        (bn3): BatchNorm2d(256, eps=1e-05, momentum=0.1, affine=True, track_running_stats=True)\n",
            "        (act3): ReLU(inplace=True)\n",
            "        (downsample): Sequential(\n",
            "          (0): Conv2d(64, 256, kernel_size=(1, 1), stride=(1, 1), bias=False)\n",
            "          (1): BatchNorm2d(256, eps=1e-05, momentum=0.1, affine=True, track_running_stats=True)\n",
            "        )\n",
            "      )\n",
            "      (1): Bottleneck(\n",
            "        (conv1): Conv2d(256, 64, kernel_size=(1, 1), stride=(1, 1), bias=False)\n",
            "        (bn1): BatchNorm2d(64, eps=1e-05, momentum=0.1, affine=True, track_running_stats=True)\n",
            "        (act1): ReLU(inplace=True)\n",
            "        (conv2): Conv2d(64, 64, kernel_size=(3, 3), stride=(1, 1), padding=(1, 1), bias=False)\n",
            "        (bn2): BatchNorm2d(64, eps=1e-05, momentum=0.1, affine=True, track_running_stats=True)\n",
            "        (drop_block): Identity()\n",
            "        (act2): ReLU(inplace=True)\n",
            "        (aa): Identity()\n",
            "        (conv3): Conv2d(64, 256, kernel_size=(1, 1), stride=(1, 1), bias=False)\n",
            "        (bn3): BatchNorm2d(256, eps=1e-05, momentum=0.1, affine=True, track_running_stats=True)\n",
            "        (act3): ReLU(inplace=True)\n",
            "      )\n",
            "      (2): Bottleneck(\n",
            "        (conv1): Conv2d(256, 64, kernel_size=(1, 1), stride=(1, 1), bias=False)\n",
            "        (bn1): BatchNorm2d(64, eps=1e-05, momentum=0.1, affine=True, track_running_stats=True)\n",
            "        (act1): ReLU(inplace=True)\n",
            "        (conv2): Conv2d(64, 64, kernel_size=(3, 3), stride=(1, 1), padding=(1, 1), bias=False)\n",
            "        (bn2): BatchNorm2d(64, eps=1e-05, momentum=0.1, affine=True, track_running_stats=True)\n",
            "        (drop_block): Identity()\n",
            "        (act2): ReLU(inplace=True)\n",
            "        (aa): Identity()\n",
            "        (conv3): Conv2d(64, 256, kernel_size=(1, 1), stride=(1, 1), bias=False)\n",
            "        (bn3): BatchNorm2d(256, eps=1e-05, momentum=0.1, affine=True, track_running_stats=True)\n",
            "        (act3): ReLU(inplace=True)\n",
            "      )\n",
            "    )\n",
            "    (layer2): Sequential(\n",
            "      (0): Bottleneck(\n",
            "        (conv1): Conv2d(256, 128, kernel_size=(1, 1), stride=(1, 1), bias=False)\n",
            "        (bn1): BatchNorm2d(128, eps=1e-05, momentum=0.1, affine=True, track_running_stats=True)\n",
            "        (act1): ReLU(inplace=True)\n",
            "        (conv2): Conv2d(128, 128, kernel_size=(3, 3), stride=(2, 2), padding=(1, 1), bias=False)\n",
            "        (bn2): BatchNorm2d(128, eps=1e-05, momentum=0.1, affine=True, track_running_stats=True)\n",
            "        (drop_block): Identity()\n",
            "        (act2): ReLU(inplace=True)\n",
            "        (aa): Identity()\n",
            "        (conv3): Conv2d(128, 512, kernel_size=(1, 1), stride=(1, 1), bias=False)\n",
            "        (bn3): BatchNorm2d(512, eps=1e-05, momentum=0.1, affine=True, track_running_stats=True)\n",
            "        (act3): ReLU(inplace=True)\n",
            "        (downsample): Sequential(\n",
            "          (0): Conv2d(256, 512, kernel_size=(1, 1), stride=(2, 2), bias=False)\n",
            "          (1): BatchNorm2d(512, eps=1e-05, momentum=0.1, affine=True, track_running_stats=True)\n",
            "        )\n",
            "      )\n",
            "      (1): Bottleneck(\n",
            "        (conv1): Conv2d(512, 128, kernel_size=(1, 1), stride=(1, 1), bias=False)\n",
            "        (bn1): BatchNorm2d(128, eps=1e-05, momentum=0.1, affine=True, track_running_stats=True)\n",
            "        (act1): ReLU(inplace=True)\n",
            "        (conv2): Conv2d(128, 128, kernel_size=(3, 3), stride=(1, 1), padding=(1, 1), bias=False)\n",
            "        (bn2): BatchNorm2d(128, eps=1e-05, momentum=0.1, affine=True, track_running_stats=True)\n",
            "        (drop_block): Identity()\n",
            "        (act2): ReLU(inplace=True)\n",
            "        (aa): Identity()\n",
            "        (conv3): Conv2d(128, 512, kernel_size=(1, 1), stride=(1, 1), bias=False)\n",
            "        (bn3): BatchNorm2d(512, eps=1e-05, momentum=0.1, affine=True, track_running_stats=True)\n",
            "        (act3): ReLU(inplace=True)\n",
            "      )\n",
            "      (2): Bottleneck(\n",
            "        (conv1): Conv2d(512, 128, kernel_size=(1, 1), stride=(1, 1), bias=False)\n",
            "        (bn1): BatchNorm2d(128, eps=1e-05, momentum=0.1, affine=True, track_running_stats=True)\n",
            "        (act1): ReLU(inplace=True)\n",
            "        (conv2): Conv2d(128, 128, kernel_size=(3, 3), stride=(1, 1), padding=(1, 1), bias=False)\n",
            "        (bn2): BatchNorm2d(128, eps=1e-05, momentum=0.1, affine=True, track_running_stats=True)\n",
            "        (drop_block): Identity()\n",
            "        (act2): ReLU(inplace=True)\n",
            "        (aa): Identity()\n",
            "        (conv3): Conv2d(128, 512, kernel_size=(1, 1), stride=(1, 1), bias=False)\n",
            "        (bn3): BatchNorm2d(512, eps=1e-05, momentum=0.1, affine=True, track_running_stats=True)\n",
            "        (act3): ReLU(inplace=True)\n",
            "      )\n",
            "      (3): Bottleneck(\n",
            "        (conv1): Conv2d(512, 128, kernel_size=(1, 1), stride=(1, 1), bias=False)\n",
            "        (bn1): BatchNorm2d(128, eps=1e-05, momentum=0.1, affine=True, track_running_stats=True)\n",
            "        (act1): ReLU(inplace=True)\n",
            "        (conv2): Conv2d(128, 128, kernel_size=(3, 3), stride=(1, 1), padding=(1, 1), bias=False)\n",
            "        (bn2): BatchNorm2d(128, eps=1e-05, momentum=0.1, affine=True, track_running_stats=True)\n",
            "        (drop_block): Identity()\n",
            "        (act2): ReLU(inplace=True)\n",
            "        (aa): Identity()\n",
            "        (conv3): Conv2d(128, 512, kernel_size=(1, 1), stride=(1, 1), bias=False)\n",
            "        (bn3): BatchNorm2d(512, eps=1e-05, momentum=0.1, affine=True, track_running_stats=True)\n",
            "        (act3): ReLU(inplace=True)\n",
            "      )\n",
            "    )\n",
            "    (layer3): Sequential(\n",
            "      (0): Bottleneck(\n",
            "        (conv1): Conv2d(512, 256, kernel_size=(1, 1), stride=(1, 1), bias=False)\n",
            "        (bn1): BatchNorm2d(256, eps=1e-05, momentum=0.1, affine=True, track_running_stats=True)\n",
            "        (act1): ReLU(inplace=True)\n",
            "        (conv2): Conv2d(256, 256, kernel_size=(3, 3), stride=(2, 2), padding=(1, 1), bias=False)\n",
            "        (bn2): BatchNorm2d(256, eps=1e-05, momentum=0.1, affine=True, track_running_stats=True)\n",
            "        (drop_block): Identity()\n",
            "        (act2): ReLU(inplace=True)\n",
            "        (aa): Identity()\n",
            "        (conv3): Conv2d(256, 1024, kernel_size=(1, 1), stride=(1, 1), bias=False)\n",
            "        (bn3): BatchNorm2d(1024, eps=1e-05, momentum=0.1, affine=True, track_running_stats=True)\n",
            "        (act3): ReLU(inplace=True)\n",
            "        (downsample): Sequential(\n",
            "          (0): Conv2d(512, 1024, kernel_size=(1, 1), stride=(2, 2), bias=False)\n",
            "          (1): BatchNorm2d(1024, eps=1e-05, momentum=0.1, affine=True, track_running_stats=True)\n",
            "        )\n",
            "      )\n",
            "      (1): Bottleneck(\n",
            "        (conv1): Conv2d(1024, 256, kernel_size=(1, 1), stride=(1, 1), bias=False)\n",
            "        (bn1): BatchNorm2d(256, eps=1e-05, momentum=0.1, affine=True, track_running_stats=True)\n",
            "        (act1): ReLU(inplace=True)\n",
            "        (conv2): Conv2d(256, 256, kernel_size=(3, 3), stride=(1, 1), padding=(1, 1), bias=False)\n",
            "        (bn2): BatchNorm2d(256, eps=1e-05, momentum=0.1, affine=True, track_running_stats=True)\n",
            "        (drop_block): Identity()\n",
            "        (act2): ReLU(inplace=True)\n",
            "        (aa): Identity()\n",
            "        (conv3): Conv2d(256, 1024, kernel_size=(1, 1), stride=(1, 1), bias=False)\n",
            "        (bn3): BatchNorm2d(1024, eps=1e-05, momentum=0.1, affine=True, track_running_stats=True)\n",
            "        (act3): ReLU(inplace=True)\n",
            "      )\n",
            "      (2): Bottleneck(\n",
            "        (conv1): Conv2d(1024, 256, kernel_size=(1, 1), stride=(1, 1), bias=False)\n",
            "        (bn1): BatchNorm2d(256, eps=1e-05, momentum=0.1, affine=True, track_running_stats=True)\n",
            "        (act1): ReLU(inplace=True)\n",
            "        (conv2): Conv2d(256, 256, kernel_size=(3, 3), stride=(1, 1), padding=(1, 1), bias=False)\n",
            "        (bn2): BatchNorm2d(256, eps=1e-05, momentum=0.1, affine=True, track_running_stats=True)\n",
            "        (drop_block): Identity()\n",
            "        (act2): ReLU(inplace=True)\n",
            "        (aa): Identity()\n",
            "        (conv3): Conv2d(256, 1024, kernel_size=(1, 1), stride=(1, 1), bias=False)\n",
            "        (bn3): BatchNorm2d(1024, eps=1e-05, momentum=0.1, affine=True, track_running_stats=True)\n",
            "        (act3): ReLU(inplace=True)\n",
            "      )\n",
            "      (3): Bottleneck(\n",
            "        (conv1): Conv2d(1024, 256, kernel_size=(1, 1), stride=(1, 1), bias=False)\n",
            "        (bn1): BatchNorm2d(256, eps=1e-05, momentum=0.1, affine=True, track_running_stats=True)\n",
            "        (act1): ReLU(inplace=True)\n",
            "        (conv2): Conv2d(256, 256, kernel_size=(3, 3), stride=(1, 1), padding=(1, 1), bias=False)\n",
            "        (bn2): BatchNorm2d(256, eps=1e-05, momentum=0.1, affine=True, track_running_stats=True)\n",
            "        (drop_block): Identity()\n",
            "        (act2): ReLU(inplace=True)\n",
            "        (aa): Identity()\n",
            "        (conv3): Conv2d(256, 1024, kernel_size=(1, 1), stride=(1, 1), bias=False)\n",
            "        (bn3): BatchNorm2d(1024, eps=1e-05, momentum=0.1, affine=True, track_running_stats=True)\n",
            "        (act3): ReLU(inplace=True)\n",
            "      )\n",
            "      (4): Bottleneck(\n",
            "        (conv1): Conv2d(1024, 256, kernel_size=(1, 1), stride=(1, 1), bias=False)\n",
            "        (bn1): BatchNorm2d(256, eps=1e-05, momentum=0.1, affine=True, track_running_stats=True)\n",
            "        (act1): ReLU(inplace=True)\n",
            "        (conv2): Conv2d(256, 256, kernel_size=(3, 3), stride=(1, 1), padding=(1, 1), bias=False)\n",
            "        (bn2): BatchNorm2d(256, eps=1e-05, momentum=0.1, affine=True, track_running_stats=True)\n",
            "        (drop_block): Identity()\n",
            "        (act2): ReLU(inplace=True)\n",
            "        (aa): Identity()\n",
            "        (conv3): Conv2d(256, 1024, kernel_size=(1, 1), stride=(1, 1), bias=False)\n",
            "        (bn3): BatchNorm2d(1024, eps=1e-05, momentum=0.1, affine=True, track_running_stats=True)\n",
            "        (act3): ReLU(inplace=True)\n",
            "      )\n",
            "      (5): Bottleneck(\n",
            "        (conv1): Conv2d(1024, 256, kernel_size=(1, 1), stride=(1, 1), bias=False)\n",
            "        (bn1): BatchNorm2d(256, eps=1e-05, momentum=0.1, affine=True, track_running_stats=True)\n",
            "        (act1): ReLU(inplace=True)\n",
            "        (conv2): Conv2d(256, 256, kernel_size=(3, 3), stride=(1, 1), padding=(1, 1), bias=False)\n",
            "        (bn2): BatchNorm2d(256, eps=1e-05, momentum=0.1, affine=True, track_running_stats=True)\n",
            "        (drop_block): Identity()\n",
            "        (act2): ReLU(inplace=True)\n",
            "        (aa): Identity()\n",
            "        (conv3): Conv2d(256, 1024, kernel_size=(1, 1), stride=(1, 1), bias=False)\n",
            "        (bn3): BatchNorm2d(1024, eps=1e-05, momentum=0.1, affine=True, track_running_stats=True)\n",
            "        (act3): ReLU(inplace=True)\n",
            "      )\n",
            "    )\n",
            "    (layer4): Sequential(\n",
            "      (0): Bottleneck(\n",
            "        (conv1): Conv2d(1024, 512, kernel_size=(1, 1), stride=(1, 1), bias=False)\n",
            "        (bn1): BatchNorm2d(512, eps=1e-05, momentum=0.1, affine=True, track_running_stats=True)\n",
            "        (act1): ReLU(inplace=True)\n",
            "        (conv2): Conv2d(512, 512, kernel_size=(3, 3), stride=(2, 2), padding=(1, 1), bias=False)\n",
            "        (bn2): BatchNorm2d(512, eps=1e-05, momentum=0.1, affine=True, track_running_stats=True)\n",
            "        (drop_block): Identity()\n",
            "        (act2): ReLU(inplace=True)\n",
            "        (aa): Identity()\n",
            "        (conv3): Conv2d(512, 2048, kernel_size=(1, 1), stride=(1, 1), bias=False)\n",
            "        (bn3): BatchNorm2d(2048, eps=1e-05, momentum=0.1, affine=True, track_running_stats=True)\n",
            "        (act3): ReLU(inplace=True)\n",
            "        (downsample): Sequential(\n",
            "          (0): Conv2d(1024, 2048, kernel_size=(1, 1), stride=(2, 2), bias=False)\n",
            "          (1): BatchNorm2d(2048, eps=1e-05, momentum=0.1, affine=True, track_running_stats=True)\n",
            "        )\n",
            "      )\n",
            "      (1): Bottleneck(\n",
            "        (conv1): Conv2d(2048, 512, kernel_size=(1, 1), stride=(1, 1), bias=False)\n",
            "        (bn1): BatchNorm2d(512, eps=1e-05, momentum=0.1, affine=True, track_running_stats=True)\n",
            "        (act1): ReLU(inplace=True)\n",
            "        (conv2): Conv2d(512, 512, kernel_size=(3, 3), stride=(1, 1), padding=(1, 1), bias=False)\n",
            "        (bn2): BatchNorm2d(512, eps=1e-05, momentum=0.1, affine=True, track_running_stats=True)\n",
            "        (drop_block): Identity()\n",
            "        (act2): ReLU(inplace=True)\n",
            "        (aa): Identity()\n",
            "        (conv3): Conv2d(512, 2048, kernel_size=(1, 1), stride=(1, 1), bias=False)\n",
            "        (bn3): BatchNorm2d(2048, eps=1e-05, momentum=0.1, affine=True, track_running_stats=True)\n",
            "        (act3): ReLU(inplace=True)\n",
            "      )\n",
            "      (2): Bottleneck(\n",
            "        (conv1): Conv2d(2048, 512, kernel_size=(1, 1), stride=(1, 1), bias=False)\n",
            "        (bn1): BatchNorm2d(512, eps=1e-05, momentum=0.1, affine=True, track_running_stats=True)\n",
            "        (act1): ReLU(inplace=True)\n",
            "        (conv2): Conv2d(512, 512, kernel_size=(3, 3), stride=(1, 1), padding=(1, 1), bias=False)\n",
            "        (bn2): BatchNorm2d(512, eps=1e-05, momentum=0.1, affine=True, track_running_stats=True)\n",
            "        (drop_block): Identity()\n",
            "        (act2): ReLU(inplace=True)\n",
            "        (aa): Identity()\n",
            "        (conv3): Conv2d(512, 2048, kernel_size=(1, 1), stride=(1, 1), bias=False)\n",
            "        (bn3): BatchNorm2d(2048, eps=1e-05, momentum=0.1, affine=True, track_running_stats=True)\n",
            "        (act3): ReLU(inplace=True)\n",
            "      )\n",
            "    )\n",
            "    (global_pool): SelectAdaptivePool2d(pool_type=avg, flatten=Flatten(start_dim=1, end_dim=-1))\n",
            "    (fc): Identity()\n",
            "  )\n",
            "  (fc): Linear(in_features=2048, out_features=9408, bias=True)\n",
            "  (upsample): ConvTranspose2d(3, 3, kernel_size=(4, 4), stride=(4, 4))\n",
            "  (levit): LevitDistilled(\n",
            "    (stem): Stem16(\n",
            "      (conv1): ConvNorm(\n",
            "        (linear): Conv2d(3, 32, kernel_size=(3, 3), stride=(2, 2), padding=(1, 1), bias=False)\n",
            "        (bn): BatchNorm2d(32, eps=1e-05, momentum=0.1, affine=True, track_running_stats=True)\n",
            "      )\n",
            "      (act1): Hardswish()\n",
            "      (conv2): ConvNorm(\n",
            "        (linear): Conv2d(32, 64, kernel_size=(3, 3), stride=(2, 2), padding=(1, 1), bias=False)\n",
            "        (bn): BatchNorm2d(64, eps=1e-05, momentum=0.1, affine=True, track_running_stats=True)\n",
            "      )\n",
            "      (act2): Hardswish()\n",
            "      (conv3): ConvNorm(\n",
            "        (linear): Conv2d(64, 128, kernel_size=(3, 3), stride=(2, 2), padding=(1, 1), bias=False)\n",
            "        (bn): BatchNorm2d(128, eps=1e-05, momentum=0.1, affine=True, track_running_stats=True)\n",
            "      )\n",
            "      (act3): Hardswish()\n",
            "      (conv4): ConvNorm(\n",
            "        (linear): Conv2d(128, 256, kernel_size=(3, 3), stride=(2, 2), padding=(1, 1), bias=False)\n",
            "        (bn): BatchNorm2d(256, eps=1e-05, momentum=0.1, affine=True, track_running_stats=True)\n",
            "      )\n",
            "    )\n",
            "    (stage1): ConvLevitStage(\n",
            "      (layers): Sequential(\n",
            "        (0): Conv2d(256, 256, kernel_size=(1, 1), stride=(1, 1))\n",
            "        (1): Conv2d(256, 256, kernel_size=(1, 1), stride=(1, 1))\n",
            "        (2): Conv2d(256, 256, kernel_size=(1, 1), stride=(1, 1))\n",
            "        (3): BatchNorm2d(256, eps=1e-05, momentum=0.1, affine=True, track_running_stats=True)\n",
            "        (4): ReLU(inplace=True)\n",
            "      )\n",
            "    )\n",
            "    (stage2): LevitStage(\n",
            "      (downsample): LevitDownsample(\n",
            "        (attn_downsample): AttentionDownsample(\n",
            "          (kv): LinearNorm(\n",
            "            (linear): Linear(in_features=256, out_features=3072, bias=False)\n",
            "            (bn): BatchNorm1d(3072, eps=1e-05, momentum=0.1, affine=True, track_running_stats=True)\n",
            "          )\n",
            "          (q): Sequential(\n",
            "            (0): Conv2d(256, 256, kernel_size=(2, 2), stride=(2, 2))\n",
            "            (1): Flatten(start_dim=1, end_dim=-1)\n",
            "          )\n",
            "          (proj): Sequential(\n",
            "            (0): Hardswish()\n",
            "            (1): LinearNorm(\n",
            "              (linear): Linear(in_features=256, out_features=384, bias=False)\n",
            "              (bn): BatchNorm1d(384, eps=1e-05, momentum=0.1, affine=True, track_running_stats=True)\n",
            "            )\n",
            "          )\n",
            "        )\n",
            "        (mlp): LevitMlp(\n",
            "          (ln1): LinearNorm(\n",
            "            (linear): Linear(in_features=384, out_features=768, bias=False)\n",
            "            (bn): BatchNorm1d(768, eps=1e-05, momentum=0.1, affine=True, track_running_stats=True)\n",
            "          )\n",
            "          (act): Hardswish()\n",
            "          (drop): Dropout(p=0.0, inplace=False)\n",
            "          (ln2): LinearNorm(\n",
            "            (linear): Linear(in_features=768, out_features=384, bias=False)\n",
            "            (bn): BatchNorm1d(384, eps=1e-05, momentum=0.1, affine=True, track_running_stats=True)\n",
            "          )\n",
            "        )\n",
            "        (drop_path): Identity()\n",
            "      )\n",
            "      (blocks): Sequential(\n",
            "        (0): LevitBlock(\n",
            "          (attn): Attention(\n",
            "            (qkv): LinearNorm(\n",
            "              (linear): Linear(in_features=384, out_features=1152, bias=False)\n",
            "              (bn): BatchNorm1d(1152, eps=1e-05, momentum=0.1, affine=True, track_running_stats=True)\n",
            "            )\n",
            "            (proj): Sequential(\n",
            "              (0): Hardswish()\n",
            "              (1): LinearNorm(\n",
            "                (linear): Linear(in_features=384, out_features=384, bias=False)\n",
            "                (bn): BatchNorm1d(384, eps=1e-05, momentum=0.1, affine=True, track_running_stats=True)\n",
            "              )\n",
            "            )\n",
            "          )\n",
            "          (drop_path1): Identity()\n",
            "          (mlp): LevitMlp(\n",
            "            (ln1): LinearNorm(\n",
            "              (linear): Linear(in_features=384, out_features=768, bias=False)\n",
            "              (bn): BatchNorm1d(768, eps=1e-05, momentum=0.1, affine=True, track_running_stats=True)\n",
            "            )\n",
            "            (act): Hardswish()\n",
            "            (drop): Dropout(p=0.0, inplace=False)\n",
            "            (ln2): LinearNorm(\n",
            "              (linear): Linear(in_features=768, out_features=384, bias=False)\n",
            "              (bn): BatchNorm1d(384, eps=1e-05, momentum=0.1, affine=True, track_running_stats=True)\n",
            "            )\n",
            "          )\n",
            "          (drop_path2): Identity()\n",
            "        )\n",
            "        (1): LevitBlock(\n",
            "          (attn): Attention(\n",
            "            (qkv): LinearNorm(\n",
            "              (linear): Linear(in_features=384, out_features=1152, bias=False)\n",
            "              (bn): BatchNorm1d(1152, eps=1e-05, momentum=0.1, affine=True, track_running_stats=True)\n",
            "            )\n",
            "            (proj): Sequential(\n",
            "              (0): Hardswish()\n",
            "              (1): LinearNorm(\n",
            "                (linear): Linear(in_features=384, out_features=384, bias=False)\n",
            "                (bn): BatchNorm1d(384, eps=1e-05, momentum=0.1, affine=True, track_running_stats=True)\n",
            "              )\n",
            "            )\n",
            "          )\n",
            "          (drop_path1): Identity()\n",
            "          (mlp): LevitMlp(\n",
            "            (ln1): LinearNorm(\n",
            "              (linear): Linear(in_features=384, out_features=768, bias=False)\n",
            "              (bn): BatchNorm1d(768, eps=1e-05, momentum=0.1, affine=True, track_running_stats=True)\n",
            "            )\n",
            "            (act): Hardswish()\n",
            "            (drop): Dropout(p=0.0, inplace=False)\n",
            "            (ln2): LinearNorm(\n",
            "              (linear): Linear(in_features=768, out_features=384, bias=False)\n",
            "              (bn): BatchNorm1d(384, eps=1e-05, momentum=0.1, affine=True, track_running_stats=True)\n",
            "            )\n",
            "          )\n",
            "          (drop_path2): Identity()\n",
            "        )\n",
            "        (2): LevitBlock(\n",
            "          (attn): Attention(\n",
            "            (qkv): LinearNorm(\n",
            "              (linear): Linear(in_features=384, out_features=1152, bias=False)\n",
            "              (bn): BatchNorm1d(1152, eps=1e-05, momentum=0.1, affine=True, track_running_stats=True)\n",
            "            )\n",
            "            (proj): Sequential(\n",
            "              (0): Hardswish()\n",
            "              (1): LinearNorm(\n",
            "                (linear): Linear(in_features=384, out_features=384, bias=False)\n",
            "                (bn): BatchNorm1d(384, eps=1e-05, momentum=0.1, affine=True, track_running_stats=True)\n",
            "              )\n",
            "            )\n",
            "          )\n",
            "          (drop_path1): Identity()\n",
            "          (mlp): LevitMlp(\n",
            "            (ln1): LinearNorm(\n",
            "              (linear): Linear(in_features=384, out_features=768, bias=False)\n",
            "              (bn): BatchNorm1d(768, eps=1e-05, momentum=0.1, affine=True, track_running_stats=True)\n",
            "            )\n",
            "            (act): Hardswish()\n",
            "            (drop): Dropout(p=0.0, inplace=False)\n",
            "            (ln2): LinearNorm(\n",
            "              (linear): Linear(in_features=768, out_features=384, bias=False)\n",
            "              (bn): BatchNorm1d(384, eps=1e-05, momentum=0.1, affine=True, track_running_stats=True)\n",
            "            )\n",
            "          )\n",
            "          (drop_path2): Identity()\n",
            "        )\n",
            "      )\n",
            "    )\n",
            "    (stage3): LevitStage(\n",
            "      (downsample): LevitDownsample(\n",
            "        (attn_downsample): AttentionDownsample(\n",
            "          (kv): LinearNorm(\n",
            "            (linear): Linear(in_features=384, out_features=6144, bias=False)\n",
            "            (bn): BatchNorm1d(6144, eps=1e-05, momentum=0.1, affine=True, track_running_stats=True)\n",
            "          )\n",
            "          (q): Sequential(\n",
            "            (0): Conv2d(384, 384, kernel_size=(2, 2), stride=(2, 2))\n",
            "            (1): Flatten(start_dim=1, end_dim=-1)\n",
            "          )\n",
            "          (proj): Sequential(\n",
            "            (0): Hardswish()\n",
            "            (1): LinearNorm(\n",
            "              (linear): Linear(in_features=384, out_features=512, bias=False)\n",
            "              (bn): BatchNorm1d(512, eps=1e-05, momentum=0.1, affine=True, track_running_stats=True)\n",
            "            )\n",
            "          )\n",
            "        )\n",
            "        (mlp): LevitMlp(\n",
            "          (ln1): LinearNorm(\n",
            "            (linear): Linear(in_features=512, out_features=1024, bias=False)\n",
            "            (bn): BatchNorm1d(1024, eps=1e-05, momentum=0.1, affine=True, track_running_stats=True)\n",
            "          )\n",
            "          (act): Hardswish()\n",
            "          (drop): Dropout(p=0.0, inplace=False)\n",
            "          (ln2): LinearNorm(\n",
            "            (linear): Linear(in_features=1024, out_features=512, bias=False)\n",
            "            (bn): BatchNorm1d(512, eps=1e-05, momentum=0.1, affine=True, track_running_stats=True)\n",
            "          )\n",
            "        )\n",
            "        (drop_path): Identity()\n",
            "      )\n",
            "      (blocks): Sequential(\n",
            "        (0): LevitBlock(\n",
            "          (attn): Attention(\n",
            "            (qkv): LinearNorm(\n",
            "              (linear): Linear(in_features=512, out_features=1536, bias=False)\n",
            "              (bn): BatchNorm1d(1536, eps=1e-05, momentum=0.1, affine=True, track_running_stats=True)\n",
            "            )\n",
            "            (proj): Sequential(\n",
            "              (0): Hardswish()\n",
            "              (1): LinearNorm(\n",
            "                (linear): Linear(in_features=512, out_features=512, bias=False)\n",
            "                (bn): BatchNorm1d(512, eps=1e-05, momentum=0.1, affine=True, track_running_stats=True)\n",
            "              )\n",
            "            )\n",
            "          )\n",
            "          (drop_path1): Identity()\n",
            "          (mlp): LevitMlp(\n",
            "            (ln1): LinearNorm(\n",
            "              (linear): Linear(in_features=512, out_features=1024, bias=False)\n",
            "              (bn): BatchNorm1d(1024, eps=1e-05, momentum=0.1, affine=True, track_running_stats=True)\n",
            "            )\n",
            "            (act): Hardswish()\n",
            "            (drop): Dropout(p=0.0, inplace=False)\n",
            "            (ln2): LinearNorm(\n",
            "              (linear): Linear(in_features=1024, out_features=512, bias=False)\n",
            "              (bn): BatchNorm1d(512, eps=1e-05, momentum=0.1, affine=True, track_running_stats=True)\n",
            "            )\n",
            "          )\n",
            "          (drop_path2): Identity()\n",
            "        )\n",
            "        (1): LevitBlock(\n",
            "          (attn): Attention(\n",
            "            (qkv): LinearNorm(\n",
            "              (linear): Linear(in_features=512, out_features=1536, bias=False)\n",
            "              (bn): BatchNorm1d(1536, eps=1e-05, momentum=0.1, affine=True, track_running_stats=True)\n",
            "            )\n",
            "            (proj): Sequential(\n",
            "              (0): Hardswish()\n",
            "              (1): LinearNorm(\n",
            "                (linear): Linear(in_features=512, out_features=512, bias=False)\n",
            "                (bn): BatchNorm1d(512, eps=1e-05, momentum=0.1, affine=True, track_running_stats=True)\n",
            "              )\n",
            "            )\n",
            "          )\n",
            "          (drop_path1): Identity()\n",
            "          (mlp): LevitMlp(\n",
            "            (ln1): LinearNorm(\n",
            "              (linear): Linear(in_features=512, out_features=1024, bias=False)\n",
            "              (bn): BatchNorm1d(1024, eps=1e-05, momentum=0.1, affine=True, track_running_stats=True)\n",
            "            )\n",
            "            (act): Hardswish()\n",
            "            (drop): Dropout(p=0.0, inplace=False)\n",
            "            (ln2): LinearNorm(\n",
            "              (linear): Linear(in_features=1024, out_features=512, bias=False)\n",
            "              (bn): BatchNorm1d(512, eps=1e-05, momentum=0.1, affine=True, track_running_stats=True)\n",
            "            )\n",
            "          )\n",
            "          (drop_path2): Identity()\n",
            "        )\n",
            "      )\n",
            "    )\n",
            "    (head): NormLinear(\n",
            "      (bn): BatchNorm1d(512, eps=1e-05, momentum=0.1, affine=True, track_running_stats=True)\n",
            "      (drop): Dropout(p=0.0, inplace=False)\n",
            "      (linear): Linear(in_features=512, out_features=37, bias=True)\n",
            "    )\n",
            "    (head_dist): NormLinear(\n",
            "      (bn): BatchNorm1d(512, eps=1e-05, momentum=0.1, affine=True, track_running_stats=True)\n",
            "      (drop): Dropout(p=0.0, inplace=False)\n",
            "      (linear): Linear(in_features=512, out_features=37, bias=True)\n",
            "    )\n",
            "  )\n",
            ")\n"
          ]
        }
      ],
      "source": [
        "# model = LevitDistilled()\n",
        "model = LauncherModel()\n",
        "print(model)\n",
        "\n",
        "device = torch.device(\"cuda\" if torch.cuda.is_available() else \"cpu\")\n",
        "model = model.to(device)\n",
        "\n",
        "batch_size = 32\n",
        "learning_rate = 0.001\n",
        "num_epochs = 50"
      ]
    },
    {
      "cell_type": "code",
      "execution_count": 101,
      "metadata": {
        "colab": {
          "base_uri": "https://localhost:8080/"
        },
        "id": "M7rBknzRzBP3",
        "outputId": "c078a9b1-601e-4700-88df-4a92027ae0fb"
      },
      "outputs": [
        {
          "output_type": "stream",
          "name": "stdout",
          "text": [
            "Shape of x after upsampling: torch.Size([32, 3, 224, 224])\n",
            "==============================================================================================================\n",
            "Layer (type:depth-idx)                                       Output Shape              Param #\n",
            "==============================================================================================================\n",
            "LauncherModel                                                [32, 37]                  --\n",
            "├─ResNet: 1-1                                                [32, 2048]                --\n",
            "│    └─conv1.weight                                                                    ├─9,408\n",
            "│    └─bn1.weight                                                                      ├─64\n",
            "│    └─bn1.bias                                                                        ├─64\n",
            "│    └─layer1.0.conv1.weight                                                           ├─4,096\n",
            "│    └─layer1.0.bn1.weight                                                             ├─64\n",
            "│    └─layer1.0.bn1.bias                                                               ├─64\n",
            "│    └─layer1.0.conv2.weight                                                           ├─36,864\n",
            "│    └─layer1.0.bn2.weight                                                             ├─64\n",
            "│    └─layer1.0.bn2.bias                                                               ├─64\n",
            "│    └─layer1.0.conv3.weight                                                           ├─16,384\n",
            "│    └─layer1.0.bn3.weight                                                             ├─256\n",
            "│    └─layer1.0.bn3.bias                                                               ├─256\n",
            "│    └─layer1.0.downsample.0.weight                                                    ├─16,384\n",
            "│    └─layer1.0.downsample.1.weight                                                    ├─256\n",
            "│    └─layer1.0.downsample.1.bias                                                      ├─256\n",
            "│    └─layer1.1.conv1.weight                                                           ├─16,384\n",
            "│    └─layer1.1.bn1.weight                                                             ├─64\n",
            "│    └─layer1.1.bn1.bias                                                               ├─64\n",
            "│    └─layer1.1.conv2.weight                                                           ├─36,864\n",
            "│    └─layer1.1.bn2.weight                                                             ├─64\n",
            "│    └─layer1.1.bn2.bias                                                               ├─64\n",
            "│    └─layer1.1.conv3.weight                                                           ├─16,384\n",
            "│    └─layer1.1.bn3.weight                                                             ├─256\n",
            "│    └─layer1.1.bn3.bias                                                               ├─256\n",
            "│    └─layer1.2.conv1.weight                                                           ├─16,384\n",
            "│    └─layer1.2.bn1.weight                                                             ├─64\n",
            "│    └─layer1.2.bn1.bias                                                               ├─64\n",
            "│    └─layer1.2.conv2.weight                                                           ├─36,864\n",
            "│    └─layer1.2.bn2.weight                                                             ├─64\n",
            "│    └─layer1.2.bn2.bias                                                               ├─64\n",
            "│    └─layer1.2.conv3.weight                                                           ├─16,384\n",
            "│    └─layer1.2.bn3.weight                                                             ├─256\n",
            "│    └─layer1.2.bn3.bias                                                               ├─256\n",
            "│    └─layer2.0.conv1.weight                                                           ├─32,768\n",
            "│    └─layer2.0.bn1.weight                                                             ├─128\n",
            "│    └─layer2.0.bn1.bias                                                               ├─128\n",
            "│    └─layer2.0.conv2.weight                                                           ├─147,456\n",
            "│    └─layer2.0.bn2.weight                                                             ├─128\n",
            "│    └─layer2.0.bn2.bias                                                               ├─128\n",
            "│    └─layer2.0.conv3.weight                                                           ├─65,536\n",
            "│    └─layer2.0.bn3.weight                                                             ├─512\n",
            "│    └─layer2.0.bn3.bias                                                               ├─512\n",
            "│    └─layer2.0.downsample.0.weight                                                    ├─131,072\n",
            "│    └─layer2.0.downsample.1.weight                                                    ├─512\n",
            "│    └─layer2.0.downsample.1.bias                                                      ├─512\n",
            "│    └─layer2.1.conv1.weight                                                           ├─65,536\n",
            "│    └─layer2.1.bn1.weight                                                             ├─128\n",
            "│    └─layer2.1.bn1.bias                                                               ├─128\n",
            "│    └─layer2.1.conv2.weight                                                           ├─147,456\n",
            "│    └─layer2.1.bn2.weight                                                             ├─128\n",
            "│    └─layer2.1.bn2.bias                                                               ├─128\n",
            "│    └─layer2.1.conv3.weight                                                           ├─65,536\n",
            "│    └─layer2.1.bn3.weight                                                             ├─512\n",
            "│    └─layer2.1.bn3.bias                                                               ├─512\n",
            "│    └─layer2.2.conv1.weight                                                           ├─65,536\n",
            "│    └─layer2.2.bn1.weight                                                             ├─128\n",
            "│    └─layer2.2.bn1.bias                                                               ├─128\n",
            "│    └─layer2.2.conv2.weight                                                           ├─147,456\n",
            "│    └─layer2.2.bn2.weight                                                             ├─128\n",
            "│    └─layer2.2.bn2.bias                                                               ├─128\n",
            "│    └─layer2.2.conv3.weight                                                           ├─65,536\n",
            "│    └─layer2.2.bn3.weight                                                             ├─512\n",
            "│    └─layer2.2.bn3.bias                                                               ├─512\n",
            "│    └─layer2.3.conv1.weight                                                           ├─65,536\n",
            "│    └─layer2.3.bn1.weight                                                             ├─128\n",
            "│    └─layer2.3.bn1.bias                                                               ├─128\n",
            "│    └─layer2.3.conv2.weight                                                           ├─147,456\n",
            "│    └─layer2.3.bn2.weight                                                             ├─128\n",
            "│    └─layer2.3.bn2.bias                                                               ├─128\n",
            "│    └─layer2.3.conv3.weight                                                           ├─65,536\n",
            "│    └─layer2.3.bn3.weight                                                             ├─512\n",
            "│    └─layer2.3.bn3.bias                                                               ├─512\n",
            "│    └─layer3.0.conv1.weight                                                           ├─131,072\n",
            "│    └─layer3.0.bn1.weight                                                             ├─256\n",
            "│    └─layer3.0.bn1.bias                                                               ├─256\n",
            "│    └─layer3.0.conv2.weight                                                           ├─589,824\n",
            "│    └─layer3.0.bn2.weight                                                             ├─256\n",
            "│    └─layer3.0.bn2.bias                                                               ├─256\n",
            "│    └─layer3.0.conv3.weight                                                           ├─262,144\n",
            "│    └─layer3.0.bn3.weight                                                             ├─1,024\n",
            "│    └─layer3.0.bn3.bias                                                               ├─1,024\n",
            "│    └─layer3.0.downsample.0.weight                                                    ├─524,288\n",
            "│    └─layer3.0.downsample.1.weight                                                    ├─1,024\n",
            "│    └─layer3.0.downsample.1.bias                                                      ├─1,024\n",
            "│    └─layer3.1.conv1.weight                                                           ├─262,144\n",
            "│    └─layer3.1.bn1.weight                                                             ├─256\n",
            "│    └─layer3.1.bn1.bias                                                               ├─256\n",
            "│    └─layer3.1.conv2.weight                                                           ├─589,824\n",
            "│    └─layer3.1.bn2.weight                                                             ├─256\n",
            "│    └─layer3.1.bn2.bias                                                               ├─256\n",
            "│    └─layer3.1.conv3.weight                                                           ├─262,144\n",
            "│    └─layer3.1.bn3.weight                                                             ├─1,024\n",
            "│    └─layer3.1.bn3.bias                                                               ├─1,024\n",
            "│    └─layer3.2.conv1.weight                                                           ├─262,144\n",
            "│    └─layer3.2.bn1.weight                                                             ├─256\n",
            "│    └─layer3.2.bn1.bias                                                               ├─256\n",
            "│    └─layer3.2.conv2.weight                                                           ├─589,824\n",
            "│    └─layer3.2.bn2.weight                                                             ├─256\n",
            "│    └─layer3.2.bn2.bias                                                               ├─256\n",
            "│    └─layer3.2.conv3.weight                                                           ├─262,144\n",
            "│    └─layer3.2.bn3.weight                                                             ├─1,024\n",
            "│    └─layer3.2.bn3.bias                                                               ├─1,024\n",
            "│    └─layer3.3.conv1.weight                                                           ├─262,144\n",
            "│    └─layer3.3.bn1.weight                                                             ├─256\n",
            "│    └─layer3.3.bn1.bias                                                               ├─256\n",
            "│    └─layer3.3.conv2.weight                                                           ├─589,824\n",
            "│    └─layer3.3.bn2.weight                                                             ├─256\n",
            "│    └─layer3.3.bn2.bias                                                               ├─256\n",
            "│    └─layer3.3.conv3.weight                                                           ├─262,144\n",
            "│    └─layer3.3.bn3.weight                                                             ├─1,024\n",
            "│    └─layer3.3.bn3.bias                                                               ├─1,024\n",
            "│    └─layer3.4.conv1.weight                                                           ├─262,144\n",
            "│    └─layer3.4.bn1.weight                                                             ├─256\n",
            "│    └─layer3.4.bn1.bias                                                               ├─256\n",
            "│    └─layer3.4.conv2.weight                                                           ├─589,824\n",
            "│    └─layer3.4.bn2.weight                                                             ├─256\n",
            "│    └─layer3.4.bn2.bias                                                               ├─256\n",
            "│    └─layer3.4.conv3.weight                                                           ├─262,144\n",
            "│    └─layer3.4.bn3.weight                                                             ├─1,024\n",
            "│    └─layer3.4.bn3.bias                                                               ├─1,024\n",
            "│    └─layer3.5.conv1.weight                                                           ├─262,144\n",
            "│    └─layer3.5.bn1.weight                                                             ├─256\n",
            "│    └─layer3.5.bn1.bias                                                               ├─256\n",
            "│    └─layer3.5.conv2.weight                                                           ├─589,824\n",
            "│    └─layer3.5.bn2.weight                                                             ├─256\n",
            "│    └─layer3.5.bn2.bias                                                               ├─256\n",
            "│    └─layer3.5.conv3.weight                                                           ├─262,144\n",
            "│    └─layer3.5.bn3.weight                                                             ├─1,024\n",
            "│    └─layer3.5.bn3.bias                                                               ├─1,024\n",
            "│    └─layer4.0.conv1.weight                                                           ├─524,288\n",
            "│    └─layer4.0.bn1.weight                                                             ├─512\n",
            "│    └─layer4.0.bn1.bias                                                               ├─512\n",
            "│    └─layer4.0.conv2.weight                                                           ├─2,359,296\n",
            "│    └─layer4.0.bn2.weight                                                             ├─512\n",
            "│    └─layer4.0.bn2.bias                                                               ├─512\n",
            "│    └─layer4.0.conv3.weight                                                           ├─1,048,576\n",
            "│    └─layer4.0.bn3.weight                                                             ├─2,048\n",
            "│    └─layer4.0.bn3.bias                                                               ├─2,048\n",
            "│    └─layer4.0.downsample.0.weight                                                    ├─2,097,152\n",
            "│    └─layer4.0.downsample.1.weight                                                    ├─2,048\n",
            "│    └─layer4.0.downsample.1.bias                                                      ├─2,048\n",
            "│    └─layer4.1.conv1.weight                                                           ├─1,048,576\n",
            "│    └─layer4.1.bn1.weight                                                             ├─512\n",
            "│    └─layer4.1.bn1.bias                                                               ├─512\n",
            "│    └─layer4.1.conv2.weight                                                           ├─2,359,296\n",
            "│    └─layer4.1.bn2.weight                                                             ├─512\n",
            "│    └─layer4.1.bn2.bias                                                               ├─512\n",
            "│    └─layer4.1.conv3.weight                                                           ├─1,048,576\n",
            "│    └─layer4.1.bn3.weight                                                             ├─2,048\n",
            "│    └─layer4.1.bn3.bias                                                               ├─2,048\n",
            "│    └─layer4.2.conv1.weight                                                           ├─1,048,576\n",
            "│    └─layer4.2.bn1.weight                                                             ├─512\n",
            "│    └─layer4.2.bn1.bias                                                               ├─512\n",
            "│    └─layer4.2.conv2.weight                                                           ├─2,359,296\n",
            "│    └─layer4.2.bn2.weight                                                             ├─512\n",
            "│    └─layer4.2.bn2.bias                                                               ├─512\n",
            "│    └─layer4.2.conv3.weight                                                           ├─1,048,576\n",
            "│    └─layer4.2.bn3.weight                                                             ├─2,048\n",
            "│    └─layer4.2.bn3.bias                                                               └─2,048\n",
            "│    └─Conv2d: 2-1                                           [32, 64, 112, 112]        (9,408)\n",
            "│    │    └─weight                                                                     └─9,408\n",
            "│    └─BatchNorm2d: 2-2                                      [32, 64, 112, 112]        (128)\n",
            "│    │    └─weight                                                                     ├─64\n",
            "│    │    └─bias                                                                       └─64\n",
            "│    └─ReLU: 2-3                                             [32, 64, 112, 112]        --\n",
            "│    └─MaxPool2d: 2-4                                        [32, 64, 56, 56]          --\n",
            "│    └─Sequential: 2-5                                       [32, 256, 56, 56]         --\n",
            "│    │    └─0.conv1.weight                                                             ├─4,096\n",
            "│    │    └─0.bn1.weight                                                               ├─64\n",
            "│    │    └─0.bn1.bias                                                                 ├─64\n",
            "│    │    └─0.conv2.weight                                                             ├─36,864\n",
            "│    │    └─0.bn2.weight                                                               ├─64\n",
            "│    │    └─0.bn2.bias                                                                 ├─64\n",
            "│    │    └─0.conv3.weight                                                             ├─16,384\n",
            "│    │    └─0.bn3.weight                                                               ├─256\n",
            "│    │    └─0.bn3.bias                                                                 ├─256\n",
            "│    │    └─0.downsample.0.weight                                                      ├─16,384\n",
            "│    │    └─0.downsample.1.weight                                                      ├─256\n",
            "│    │    └─0.downsample.1.bias                                                        ├─256\n",
            "│    │    └─1.conv1.weight                                                             ├─16,384\n",
            "│    │    └─1.bn1.weight                                                               ├─64\n",
            "│    │    └─1.bn1.bias                                                                 ├─64\n",
            "│    │    └─1.conv2.weight                                                             ├─36,864\n",
            "│    │    └─1.bn2.weight                                                               ├─64\n",
            "│    │    └─1.bn2.bias                                                                 ├─64\n",
            "│    │    └─1.conv3.weight                                                             ├─16,384\n",
            "│    │    └─1.bn3.weight                                                               ├─256\n",
            "│    │    └─1.bn3.bias                                                                 ├─256\n",
            "│    │    └─2.conv1.weight                                                             ├─16,384\n",
            "│    │    └─2.bn1.weight                                                               ├─64\n",
            "│    │    └─2.bn1.bias                                                                 ├─64\n",
            "│    │    └─2.conv2.weight                                                             ├─36,864\n",
            "│    │    └─2.bn2.weight                                                               ├─64\n",
            "│    │    └─2.bn2.bias                                                                 ├─64\n",
            "│    │    └─2.conv3.weight                                                             ├─16,384\n",
            "│    │    └─2.bn3.weight                                                               ├─256\n",
            "│    │    └─2.bn3.bias                                                                 └─256\n",
            "│    │    └─Bottleneck: 3-1                                  [32, 256, 56, 56]         (75,008)\n",
            "│    │    │    └─conv1.weight                                                          ├─4,096\n",
            "│    │    │    └─bn1.weight                                                            ├─64\n",
            "│    │    │    └─bn1.bias                                                              ├─64\n",
            "│    │    │    └─conv2.weight                                                          ├─36,864\n",
            "│    │    │    └─bn2.weight                                                            ├─64\n",
            "│    │    │    └─bn2.bias                                                              ├─64\n",
            "│    │    │    └─conv3.weight                                                          ├─16,384\n",
            "│    │    │    └─bn3.weight                                                            ├─256\n",
            "│    │    │    └─bn3.bias                                                              ├─256\n",
            "│    │    │    └─downsample.0.weight                                                   ├─16,384\n",
            "│    │    │    └─downsample.1.weight                                                   ├─256\n",
            "│    │    │    └─downsample.1.bias                                                     └─256\n",
            "│    │    └─Bottleneck: 3-2                                  [32, 256, 56, 56]         (70,400)\n",
            "│    │    │    └─conv1.weight                                                          ├─16,384\n",
            "│    │    │    └─bn1.weight                                                            ├─64\n",
            "│    │    │    └─bn1.bias                                                              ├─64\n",
            "│    │    │    └─conv2.weight                                                          ├─36,864\n",
            "│    │    │    └─bn2.weight                                                            ├─64\n",
            "│    │    │    └─bn2.bias                                                              ├─64\n",
            "│    │    │    └─conv3.weight                                                          ├─16,384\n",
            "│    │    │    └─bn3.weight                                                            ├─256\n",
            "│    │    │    └─bn3.bias                                                              └─256\n",
            "│    │    └─Bottleneck: 3-3                                  [32, 256, 56, 56]         (70,400)\n",
            "│    │    │    └─conv1.weight                                                          ├─16,384\n",
            "│    │    │    └─bn1.weight                                                            ├─64\n",
            "│    │    │    └─bn1.bias                                                              ├─64\n",
            "│    │    │    └─conv2.weight                                                          ├─36,864\n",
            "│    │    │    └─bn2.weight                                                            ├─64\n",
            "│    │    │    └─bn2.bias                                                              ├─64\n",
            "│    │    │    └─conv3.weight                                                          ├─16,384\n",
            "│    │    │    └─bn3.weight                                                            ├─256\n",
            "│    │    │    └─bn3.bias                                                              └─256\n",
            "│    └─Sequential: 2-6                                       [32, 512, 28, 28]         --\n",
            "│    │    └─0.conv1.weight                                                             ├─32,768\n",
            "│    │    └─0.bn1.weight                                                               ├─128\n",
            "│    │    └─0.bn1.bias                                                                 ├─128\n",
            "│    │    └─0.conv2.weight                                                             ├─147,456\n",
            "│    │    └─0.bn2.weight                                                               ├─128\n",
            "│    │    └─0.bn2.bias                                                                 ├─128\n",
            "│    │    └─0.conv3.weight                                                             ├─65,536\n",
            "│    │    └─0.bn3.weight                                                               ├─512\n",
            "│    │    └─0.bn3.bias                                                                 ├─512\n",
            "│    │    └─0.downsample.0.weight                                                      ├─131,072\n",
            "│    │    └─0.downsample.1.weight                                                      ├─512\n",
            "│    │    └─0.downsample.1.bias                                                        ├─512\n",
            "│    │    └─1.conv1.weight                                                             ├─65,536\n",
            "│    │    └─1.bn1.weight                                                               ├─128\n",
            "│    │    └─1.bn1.bias                                                                 ├─128\n",
            "│    │    └─1.conv2.weight                                                             ├─147,456\n",
            "│    │    └─1.bn2.weight                                                               ├─128\n",
            "│    │    └─1.bn2.bias                                                                 ├─128\n",
            "│    │    └─1.conv3.weight                                                             ├─65,536\n",
            "│    │    └─1.bn3.weight                                                               ├─512\n",
            "│    │    └─1.bn3.bias                                                                 ├─512\n",
            "│    │    └─2.conv1.weight                                                             ├─65,536\n",
            "│    │    └─2.bn1.weight                                                               ├─128\n",
            "│    │    └─2.bn1.bias                                                                 ├─128\n",
            "│    │    └─2.conv2.weight                                                             ├─147,456\n",
            "│    │    └─2.bn2.weight                                                               ├─128\n",
            "│    │    └─2.bn2.bias                                                                 ├─128\n",
            "│    │    └─2.conv3.weight                                                             ├─65,536\n",
            "│    │    └─2.bn3.weight                                                               ├─512\n",
            "│    │    └─2.bn3.bias                                                                 ├─512\n",
            "│    │    └─3.conv1.weight                                                             ├─65,536\n",
            "│    │    └─3.bn1.weight                                                               ├─128\n",
            "│    │    └─3.bn1.bias                                                                 ├─128\n",
            "│    │    └─3.conv2.weight                                                             ├─147,456\n",
            "│    │    └─3.bn2.weight                                                               ├─128\n",
            "│    │    └─3.bn2.bias                                                                 ├─128\n",
            "│    │    └─3.conv3.weight                                                             ├─65,536\n",
            "│    │    └─3.bn3.weight                                                               ├─512\n",
            "│    │    └─3.bn3.bias                                                                 └─512\n",
            "│    │    └─Bottleneck: 3-4                                  [32, 512, 28, 28]         (379,392)\n",
            "│    │    │    └─conv1.weight                                                          ├─32,768\n",
            "│    │    │    └─bn1.weight                                                            ├─128\n",
            "│    │    │    └─bn1.bias                                                              ├─128\n",
            "│    │    │    └─conv2.weight                                                          ├─147,456\n",
            "│    │    │    └─bn2.weight                                                            ├─128\n",
            "│    │    │    └─bn2.bias                                                              ├─128\n",
            "│    │    │    └─conv3.weight                                                          ├─65,536\n",
            "│    │    │    └─bn3.weight                                                            ├─512\n",
            "│    │    │    └─bn3.bias                                                              ├─512\n",
            "│    │    │    └─downsample.0.weight                                                   ├─131,072\n",
            "│    │    │    └─downsample.1.weight                                                   ├─512\n",
            "│    │    │    └─downsample.1.bias                                                     └─512\n",
            "│    │    └─Bottleneck: 3-5                                  [32, 512, 28, 28]         (280,064)\n",
            "│    │    │    └─conv1.weight                                                          ├─65,536\n",
            "│    │    │    └─bn1.weight                                                            ├─128\n",
            "│    │    │    └─bn1.bias                                                              ├─128\n",
            "│    │    │    └─conv2.weight                                                          ├─147,456\n",
            "│    │    │    └─bn2.weight                                                            ├─128\n",
            "│    │    │    └─bn2.bias                                                              ├─128\n",
            "│    │    │    └─conv3.weight                                                          ├─65,536\n",
            "│    │    │    └─bn3.weight                                                            ├─512\n",
            "│    │    │    └─bn3.bias                                                              └─512\n",
            "│    │    └─Bottleneck: 3-6                                  [32, 512, 28, 28]         (280,064)\n",
            "│    │    │    └─conv1.weight                                                          ├─65,536\n",
            "│    │    │    └─bn1.weight                                                            ├─128\n",
            "│    │    │    └─bn1.bias                                                              ├─128\n",
            "│    │    │    └─conv2.weight                                                          ├─147,456\n",
            "│    │    │    └─bn2.weight                                                            ├─128\n",
            "│    │    │    └─bn2.bias                                                              ├─128\n",
            "│    │    │    └─conv3.weight                                                          ├─65,536\n",
            "│    │    │    └─bn3.weight                                                            ├─512\n",
            "│    │    │    └─bn3.bias                                                              └─512\n",
            "│    │    └─Bottleneck: 3-7                                  [32, 512, 28, 28]         (280,064)\n",
            "│    │    │    └─conv1.weight                                                          ├─65,536\n",
            "│    │    │    └─bn1.weight                                                            ├─128\n",
            "│    │    │    └─bn1.bias                                                              ├─128\n",
            "│    │    │    └─conv2.weight                                                          ├─147,456\n",
            "│    │    │    └─bn2.weight                                                            ├─128\n",
            "│    │    │    └─bn2.bias                                                              ├─128\n",
            "│    │    │    └─conv3.weight                                                          ├─65,536\n",
            "│    │    │    └─bn3.weight                                                            ├─512\n",
            "│    │    │    └─bn3.bias                                                              └─512\n",
            "│    └─Sequential: 2-7                                       [32, 1024, 14, 14]        --\n",
            "│    │    └─0.conv1.weight                                                             ├─131,072\n",
            "│    │    └─0.bn1.weight                                                               ├─256\n",
            "│    │    └─0.bn1.bias                                                                 ├─256\n",
            "│    │    └─0.conv2.weight                                                             ├─589,824\n",
            "│    │    └─0.bn2.weight                                                               ├─256\n",
            "│    │    └─0.bn2.bias                                                                 ├─256\n",
            "│    │    └─0.conv3.weight                                                             ├─262,144\n",
            "│    │    └─0.bn3.weight                                                               ├─1,024\n",
            "│    │    └─0.bn3.bias                                                                 ├─1,024\n",
            "│    │    └─0.downsample.0.weight                                                      ├─524,288\n",
            "│    │    └─0.downsample.1.weight                                                      ├─1,024\n",
            "│    │    └─0.downsample.1.bias                                                        ├─1,024\n",
            "│    │    └─1.conv1.weight                                                             ├─262,144\n",
            "│    │    └─1.bn1.weight                                                               ├─256\n",
            "│    │    └─1.bn1.bias                                                                 ├─256\n",
            "│    │    └─1.conv2.weight                                                             ├─589,824\n",
            "│    │    └─1.bn2.weight                                                               ├─256\n",
            "│    │    └─1.bn2.bias                                                                 ├─256\n",
            "│    │    └─1.conv3.weight                                                             ├─262,144\n",
            "│    │    └─1.bn3.weight                                                               ├─1,024\n",
            "│    │    └─1.bn3.bias                                                                 ├─1,024\n",
            "│    │    └─2.conv1.weight                                                             ├─262,144\n",
            "│    │    └─2.bn1.weight                                                               ├─256\n",
            "│    │    └─2.bn1.bias                                                                 ├─256\n",
            "│    │    └─2.conv2.weight                                                             ├─589,824\n",
            "│    │    └─2.bn2.weight                                                               ├─256\n",
            "│    │    └─2.bn2.bias                                                                 ├─256\n",
            "│    │    └─2.conv3.weight                                                             ├─262,144\n",
            "│    │    └─2.bn3.weight                                                               ├─1,024\n",
            "│    │    └─2.bn3.bias                                                                 ├─1,024\n",
            "│    │    └─3.conv1.weight                                                             ├─262,144\n",
            "│    │    └─3.bn1.weight                                                               ├─256\n",
            "│    │    └─3.bn1.bias                                                                 ├─256\n",
            "│    │    └─3.conv2.weight                                                             ├─589,824\n",
            "│    │    └─3.bn2.weight                                                               ├─256\n",
            "│    │    └─3.bn2.bias                                                                 ├─256\n",
            "│    │    └─3.conv3.weight                                                             ├─262,144\n",
            "│    │    └─3.bn3.weight                                                               ├─1,024\n",
            "│    │    └─3.bn3.bias                                                                 ├─1,024\n",
            "│    │    └─4.conv1.weight                                                             ├─262,144\n",
            "│    │    └─4.bn1.weight                                                               ├─256\n",
            "│    │    └─4.bn1.bias                                                                 ├─256\n",
            "│    │    └─4.conv2.weight                                                             ├─589,824\n",
            "│    │    └─4.bn2.weight                                                               ├─256\n",
            "│    │    └─4.bn2.bias                                                                 ├─256\n",
            "│    │    └─4.conv3.weight                                                             ├─262,144\n",
            "│    │    └─4.bn3.weight                                                               ├─1,024\n",
            "│    │    └─4.bn3.bias                                                                 ├─1,024\n",
            "│    │    └─5.conv1.weight                                                             ├─262,144\n",
            "│    │    └─5.bn1.weight                                                               ├─256\n",
            "│    │    └─5.bn1.bias                                                                 ├─256\n",
            "│    │    └─5.conv2.weight                                                             ├─589,824\n",
            "│    │    └─5.bn2.weight                                                               ├─256\n",
            "│    │    └─5.bn2.bias                                                                 ├─256\n",
            "│    │    └─5.conv3.weight                                                             ├─262,144\n",
            "│    │    └─5.bn3.weight                                                               ├─1,024\n",
            "│    │    └─5.bn3.bias                                                                 └─1,024\n",
            "│    │    └─Bottleneck: 3-8                                  [32, 1024, 14, 14]        (1,512,448)\n",
            "│    │    │    └─conv1.weight                                                          ├─131,072\n",
            "│    │    │    └─bn1.weight                                                            ├─256\n",
            "│    │    │    └─bn1.bias                                                              ├─256\n",
            "│    │    │    └─conv2.weight                                                          ├─589,824\n",
            "│    │    │    └─bn2.weight                                                            ├─256\n",
            "│    │    │    └─bn2.bias                                                              ├─256\n",
            "│    │    │    └─conv3.weight                                                          ├─262,144\n",
            "│    │    │    └─bn3.weight                                                            ├─1,024\n",
            "│    │    │    └─bn3.bias                                                              ├─1,024\n",
            "│    │    │    └─downsample.0.weight                                                   ├─524,288\n",
            "│    │    │    └─downsample.1.weight                                                   ├─1,024\n",
            "│    │    │    └─downsample.1.bias                                                     └─1,024\n",
            "│    │    └─Bottleneck: 3-9                                  [32, 1024, 14, 14]        (1,117,184)\n",
            "│    │    │    └─conv1.weight                                                          ├─262,144\n",
            "│    │    │    └─bn1.weight                                                            ├─256\n",
            "│    │    │    └─bn1.bias                                                              ├─256\n",
            "│    │    │    └─conv2.weight                                                          ├─589,824\n",
            "│    │    │    └─bn2.weight                                                            ├─256\n",
            "│    │    │    └─bn2.bias                                                              ├─256\n",
            "│    │    │    └─conv3.weight                                                          ├─262,144\n",
            "│    │    │    └─bn3.weight                                                            ├─1,024\n",
            "│    │    │    └─bn3.bias                                                              └─1,024\n",
            "│    │    └─Bottleneck: 3-10                                 [32, 1024, 14, 14]        (1,117,184)\n",
            "│    │    │    └─conv1.weight                                                          ├─262,144\n",
            "│    │    │    └─bn1.weight                                                            ├─256\n",
            "│    │    │    └─bn1.bias                                                              ├─256\n",
            "│    │    │    └─conv2.weight                                                          ├─589,824\n",
            "│    │    │    └─bn2.weight                                                            ├─256\n",
            "│    │    │    └─bn2.bias                                                              ├─256\n",
            "│    │    │    └─conv3.weight                                                          ├─262,144\n",
            "│    │    │    └─bn3.weight                                                            ├─1,024\n",
            "│    │    │    └─bn3.bias                                                              └─1,024\n",
            "│    │    └─Bottleneck: 3-11                                 [32, 1024, 14, 14]        (1,117,184)\n",
            "│    │    │    └─conv1.weight                                                          ├─262,144\n",
            "│    │    │    └─bn1.weight                                                            ├─256\n",
            "│    │    │    └─bn1.bias                                                              ├─256\n",
            "│    │    │    └─conv2.weight                                                          ├─589,824\n",
            "│    │    │    └─bn2.weight                                                            ├─256\n",
            "│    │    │    └─bn2.bias                                                              ├─256\n",
            "│    │    │    └─conv3.weight                                                          ├─262,144\n",
            "│    │    │    └─bn3.weight                                                            ├─1,024\n",
            "│    │    │    └─bn3.bias                                                              └─1,024\n",
            "│    │    └─Bottleneck: 3-12                                 [32, 1024, 14, 14]        (1,117,184)\n",
            "│    │    │    └─conv1.weight                                                          ├─262,144\n",
            "│    │    │    └─bn1.weight                                                            ├─256\n",
            "│    │    │    └─bn1.bias                                                              ├─256\n",
            "│    │    │    └─conv2.weight                                                          ├─589,824\n",
            "│    │    │    └─bn2.weight                                                            ├─256\n",
            "│    │    │    └─bn2.bias                                                              ├─256\n",
            "│    │    │    └─conv3.weight                                                          ├─262,144\n",
            "│    │    │    └─bn3.weight                                                            ├─1,024\n",
            "│    │    │    └─bn3.bias                                                              └─1,024\n",
            "│    │    └─Bottleneck: 3-13                                 [32, 1024, 14, 14]        (1,117,184)\n",
            "│    │    │    └─conv1.weight                                                          ├─262,144\n",
            "│    │    │    └─bn1.weight                                                            ├─256\n",
            "│    │    │    └─bn1.bias                                                              ├─256\n",
            "│    │    │    └─conv2.weight                                                          ├─589,824\n",
            "│    │    │    └─bn2.weight                                                            ├─256\n",
            "│    │    │    └─bn2.bias                                                              ├─256\n",
            "│    │    │    └─conv3.weight                                                          ├─262,144\n",
            "│    │    │    └─bn3.weight                                                            ├─1,024\n",
            "│    │    │    └─bn3.bias                                                              └─1,024\n",
            "│    └─Sequential: 2-8                                       [32, 2048, 7, 7]          --\n",
            "│    │    └─0.conv1.weight                                                             ├─524,288\n",
            "│    │    └─0.bn1.weight                                                               ├─512\n",
            "│    │    └─0.bn1.bias                                                                 ├─512\n",
            "│    │    └─0.conv2.weight                                                             ├─2,359,296\n",
            "│    │    └─0.bn2.weight                                                               ├─512\n",
            "│    │    └─0.bn2.bias                                                                 ├─512\n",
            "│    │    └─0.conv3.weight                                                             ├─1,048,576\n",
            "│    │    └─0.bn3.weight                                                               ├─2,048\n",
            "│    │    └─0.bn3.bias                                                                 ├─2,048\n",
            "│    │    └─0.downsample.0.weight                                                      ├─2,097,152\n",
            "│    │    └─0.downsample.1.weight                                                      ├─2,048\n",
            "│    │    └─0.downsample.1.bias                                                        ├─2,048\n",
            "│    │    └─1.conv1.weight                                                             ├─1,048,576\n",
            "│    │    └─1.bn1.weight                                                               ├─512\n",
            "│    │    └─1.bn1.bias                                                                 ├─512\n",
            "│    │    └─1.conv2.weight                                                             ├─2,359,296\n",
            "│    │    └─1.bn2.weight                                                               ├─512\n",
            "│    │    └─1.bn2.bias                                                                 ├─512\n",
            "│    │    └─1.conv3.weight                                                             ├─1,048,576\n",
            "│    │    └─1.bn3.weight                                                               ├─2,048\n",
            "│    │    └─1.bn3.bias                                                                 ├─2,048\n",
            "│    │    └─2.conv1.weight                                                             ├─1,048,576\n",
            "│    │    └─2.bn1.weight                                                               ├─512\n",
            "│    │    └─2.bn1.bias                                                                 ├─512\n",
            "│    │    └─2.conv2.weight                                                             ├─2,359,296\n",
            "│    │    └─2.bn2.weight                                                               ├─512\n",
            "│    │    └─2.bn2.bias                                                                 ├─512\n",
            "│    │    └─2.conv3.weight                                                             ├─1,048,576\n",
            "│    │    └─2.bn3.weight                                                               ├─2,048\n",
            "│    │    └─2.bn3.bias                                                                 └─2,048\n",
            "│    │    └─Bottleneck: 3-14                                 [32, 2048, 7, 7]          (6,039,552)\n",
            "│    │    │    └─conv1.weight                                                          ├─524,288\n",
            "│    │    │    └─bn1.weight                                                            ├─512\n",
            "│    │    │    └─bn1.bias                                                              ├─512\n",
            "│    │    │    └─conv2.weight                                                          ├─2,359,296\n",
            "│    │    │    └─bn2.weight                                                            ├─512\n",
            "│    │    │    └─bn2.bias                                                              ├─512\n",
            "│    │    │    └─conv3.weight                                                          ├─1,048,576\n",
            "│    │    │    └─bn3.weight                                                            ├─2,048\n",
            "│    │    │    └─bn3.bias                                                              ├─2,048\n",
            "│    │    │    └─downsample.0.weight                                                   ├─2,097,152\n",
            "│    │    │    └─downsample.1.weight                                                   ├─2,048\n",
            "│    │    │    └─downsample.1.bias                                                     └─2,048\n",
            "│    │    └─Bottleneck: 3-15                                 [32, 2048, 7, 7]          (4,462,592)\n",
            "│    │    │    └─conv1.weight                                                          ├─1,048,576\n",
            "│    │    │    └─bn1.weight                                                            ├─512\n",
            "│    │    │    └─bn1.bias                                                              ├─512\n",
            "│    │    │    └─conv2.weight                                                          ├─2,359,296\n",
            "│    │    │    └─bn2.weight                                                            ├─512\n",
            "│    │    │    └─bn2.bias                                                              ├─512\n",
            "│    │    │    └─conv3.weight                                                          ├─1,048,576\n",
            "│    │    │    └─bn3.weight                                                            ├─2,048\n",
            "│    │    │    └─bn3.bias                                                              └─2,048\n",
            "│    │    └─Bottleneck: 3-16                                 [32, 2048, 7, 7]          (4,462,592)\n",
            "│    │    │    └─conv1.weight                                                          ├─1,048,576\n",
            "│    │    │    └─bn1.weight                                                            ├─512\n",
            "│    │    │    └─bn1.bias                                                              ├─512\n",
            "│    │    │    └─conv2.weight                                                          ├─2,359,296\n",
            "│    │    │    └─bn2.weight                                                            ├─512\n",
            "│    │    │    └─bn2.bias                                                              ├─512\n",
            "│    │    │    └─conv3.weight                                                          ├─1,048,576\n",
            "│    │    │    └─bn3.weight                                                            ├─2,048\n",
            "│    │    │    └─bn3.bias                                                              └─2,048\n",
            "│    └─SelectAdaptivePool2d: 2-9                             [32, 2048]                --\n",
            "│    │    └─AdaptiveAvgPool2d: 3-17                          [32, 2048, 1, 1]          --\n",
            "│    │    └─Flatten: 3-18                                    [32, 2048]                --\n",
            "│    └─Identity: 2-10                                        [32, 2048]                --\n",
            "├─Linear: 1-2                                                [32, 9408]                19,276,992\n",
            "│    └─weight                                                                          ├─19,267,584\n",
            "│    └─bias                                                                            └─9,408\n",
            "├─ConvTranspose2d: 1-3                                       [32, 3, 224, 224]         147\n",
            "│    └─weight                                                                          ├─144\n",
            "│    └─bias                                                                            └─3\n",
            "├─LevitDistilled: 1-4                                        [32, 37]                  --\n",
            "│    └─stem.conv1.linear.weight                                                        ├─864\n",
            "│    └─stem.conv1.bn.weight                                                            ├─32\n",
            "│    └─stem.conv1.bn.bias                                                              ├─32\n",
            "│    └─stem.conv2.linear.weight                                                        ├─18,432\n",
            "│    └─stem.conv2.bn.weight                                                            ├─64\n",
            "│    └─stem.conv2.bn.bias                                                              ├─64\n",
            "│    └─stem.conv3.linear.weight                                                        ├─73,728\n",
            "│    └─stem.conv3.bn.weight                                                            ├─128\n",
            "│    └─stem.conv3.bn.bias                                                              ├─128\n",
            "│    └─stem.conv4.linear.weight                                                        ├─294,912\n",
            "│    └─stem.conv4.bn.weight                                                            ├─256\n",
            "│    └─stem.conv4.bn.bias                                                              ├─256\n",
            "│    └─stage1.layers.0.weight                                                          ├─65,536\n",
            "│    └─stage1.layers.0.bias                                                            ├─256\n",
            "│    └─stage1.layers.1.weight                                                          ├─65,536\n",
            "│    └─stage1.layers.1.bias                                                            ├─256\n",
            "│    └─stage1.layers.2.weight                                                          ├─65,536\n",
            "│    └─stage1.layers.2.bias                                                            ├─256\n",
            "│    └─stage1.layers.3.weight                                                          ├─256\n",
            "│    └─stage1.layers.3.bias                                                            ├─256\n",
            "│    └─stage2.downsample.attn_downsample.kv.linear.weight                              ├─786,432\n",
            "│    └─stage2.downsample.attn_downsample.kv.bn.weight                                  ├─3,072\n",
            "│    └─stage2.downsample.attn_downsample.kv.bn.bias                                    ├─3,072\n",
            "│    └─stage2.downsample.attn_downsample.q.0.weight                                    ├─262,144\n",
            "│    └─stage2.downsample.attn_downsample.q.0.bias                                      ├─256\n",
            "│    └─stage2.downsample.attn_downsample.proj.1.linear.weight                           ├─98,304\n",
            "│    └─stage2.downsample.attn_downsample.proj.1.bn.weight                              ├─384\n",
            "│    └─stage2.downsample.attn_downsample.proj.1.bn.bias                                ├─384\n",
            "│    └─stage2.downsample.mlp.ln1.linear.weight                                         ├─294,912\n",
            "│    └─stage2.downsample.mlp.ln1.bn.weight                                             ├─768\n",
            "│    └─stage2.downsample.mlp.ln1.bn.bias                                               ├─768\n",
            "│    └─stage2.downsample.mlp.ln2.linear.weight                                         ├─294,912\n",
            "│    └─stage2.downsample.mlp.ln2.bn.weight                                             ├─384\n",
            "│    └─stage2.downsample.mlp.ln2.bn.bias                                               ├─384\n",
            "│    └─stage2.blocks.0.attn.qkv.linear.weight                                          ├─442,368\n",
            "│    └─stage2.blocks.0.attn.qkv.bn.weight                                              ├─1,152\n",
            "│    └─stage2.blocks.0.attn.qkv.bn.bias                                                ├─1,152\n",
            "│    └─stage2.blocks.0.attn.proj.1.linear.weight                                       ├─147,456\n",
            "│    └─stage2.blocks.0.attn.proj.1.bn.weight                                           ├─384\n",
            "│    └─stage2.blocks.0.attn.proj.1.bn.bias                                             ├─384\n",
            "│    └─stage2.blocks.0.mlp.ln1.linear.weight                                           ├─294,912\n",
            "│    └─stage2.blocks.0.mlp.ln1.bn.weight                                               ├─768\n",
            "│    └─stage2.blocks.0.mlp.ln1.bn.bias                                                 ├─768\n",
            "│    └─stage2.blocks.0.mlp.ln2.linear.weight                                           ├─294,912\n",
            "│    └─stage2.blocks.0.mlp.ln2.bn.weight                                               ├─384\n",
            "│    └─stage2.blocks.0.mlp.ln2.bn.bias                                                 ├─384\n",
            "│    └─stage2.blocks.1.attn.qkv.linear.weight                                          ├─442,368\n",
            "│    └─stage2.blocks.1.attn.qkv.bn.weight                                              ├─1,152\n",
            "│    └─stage2.blocks.1.attn.qkv.bn.bias                                                ├─1,152\n",
            "│    └─stage2.blocks.1.attn.proj.1.linear.weight                                       ├─147,456\n",
            "│    └─stage2.blocks.1.attn.proj.1.bn.weight                                           ├─384\n",
            "│    └─stage2.blocks.1.attn.proj.1.bn.bias                                             ├─384\n",
            "│    └─stage2.blocks.1.mlp.ln1.linear.weight                                           ├─294,912\n",
            "│    └─stage2.blocks.1.mlp.ln1.bn.weight                                               ├─768\n",
            "│    └─stage2.blocks.1.mlp.ln1.bn.bias                                                 ├─768\n",
            "│    └─stage2.blocks.1.mlp.ln2.linear.weight                                           ├─294,912\n",
            "│    └─stage2.blocks.1.mlp.ln2.bn.weight                                               ├─384\n",
            "│    └─stage2.blocks.1.mlp.ln2.bn.bias                                                 ├─384\n",
            "│    └─stage2.blocks.2.attn.qkv.linear.weight                                          ├─442,368\n",
            "│    └─stage2.blocks.2.attn.qkv.bn.weight                                              ├─1,152\n",
            "│    └─stage2.blocks.2.attn.qkv.bn.bias                                                ├─1,152\n",
            "│    └─stage2.blocks.2.attn.proj.1.linear.weight                                       ├─147,456\n",
            "│    └─stage2.blocks.2.attn.proj.1.bn.weight                                           ├─384\n",
            "│    └─stage2.blocks.2.attn.proj.1.bn.bias                                             ├─384\n",
            "│    └─stage2.blocks.2.mlp.ln1.linear.weight                                           ├─294,912\n",
            "│    └─stage2.blocks.2.mlp.ln1.bn.weight                                               ├─768\n",
            "│    └─stage2.blocks.2.mlp.ln1.bn.bias                                                 ├─768\n",
            "│    └─stage2.blocks.2.mlp.ln2.linear.weight                                           ├─294,912\n",
            "│    └─stage2.blocks.2.mlp.ln2.bn.weight                                               ├─384\n",
            "│    └─stage2.blocks.2.mlp.ln2.bn.bias                                                 ├─384\n",
            "│    └─stage3.downsample.attn_downsample.kv.linear.weight                              ├─2,359,296\n",
            "│    └─stage3.downsample.attn_downsample.kv.bn.weight                                  ├─6,144\n",
            "│    └─stage3.downsample.attn_downsample.kv.bn.bias                                    ├─6,144\n",
            "│    └─stage3.downsample.attn_downsample.q.0.weight                                    ├─589,824\n",
            "│    └─stage3.downsample.attn_downsample.q.0.bias                                      ├─384\n",
            "│    └─stage3.downsample.attn_downsample.proj.1.linear.weight                           ├─196,608\n",
            "│    └─stage3.downsample.attn_downsample.proj.1.bn.weight                              ├─512\n",
            "│    └─stage3.downsample.attn_downsample.proj.1.bn.bias                                ├─512\n",
            "│    └─stage3.downsample.mlp.ln1.linear.weight                                         ├─524,288\n",
            "│    └─stage3.downsample.mlp.ln1.bn.weight                                             ├─1,024\n",
            "│    └─stage3.downsample.mlp.ln1.bn.bias                                               ├─1,024\n",
            "│    └─stage3.downsample.mlp.ln2.linear.weight                                         ├─524,288\n",
            "│    └─stage3.downsample.mlp.ln2.bn.weight                                             ├─512\n",
            "│    └─stage3.downsample.mlp.ln2.bn.bias                                               ├─512\n",
            "│    └─stage3.blocks.0.attn.qkv.linear.weight                                          ├─786,432\n",
            "│    └─stage3.blocks.0.attn.qkv.bn.weight                                              ├─1,536\n",
            "│    └─stage3.blocks.0.attn.qkv.bn.bias                                                ├─1,536\n",
            "│    └─stage3.blocks.0.attn.proj.1.linear.weight                                       ├─262,144\n",
            "│    └─stage3.blocks.0.attn.proj.1.bn.weight                                           ├─512\n",
            "│    └─stage3.blocks.0.attn.proj.1.bn.bias                                             ├─512\n",
            "│    └─stage3.blocks.0.mlp.ln1.linear.weight                                           ├─524,288\n",
            "│    └─stage3.blocks.0.mlp.ln1.bn.weight                                               ├─1,024\n",
            "│    └─stage3.blocks.0.mlp.ln1.bn.bias                                                 ├─1,024\n",
            "│    └─stage3.blocks.0.mlp.ln2.linear.weight                                           ├─524,288\n",
            "│    └─stage3.blocks.0.mlp.ln2.bn.weight                                               ├─512\n",
            "│    └─stage3.blocks.0.mlp.ln2.bn.bias                                                 ├─512\n",
            "│    └─stage3.blocks.1.attn.qkv.linear.weight                                          ├─786,432\n",
            "│    └─stage3.blocks.1.attn.qkv.bn.weight                                              ├─1,536\n",
            "│    └─stage3.blocks.1.attn.qkv.bn.bias                                                ├─1,536\n",
            "│    └─stage3.blocks.1.attn.proj.1.linear.weight                                       ├─262,144\n",
            "│    └─stage3.blocks.1.attn.proj.1.bn.weight                                           ├─512\n",
            "│    └─stage3.blocks.1.attn.proj.1.bn.bias                                             ├─512\n",
            "│    └─stage3.blocks.1.mlp.ln1.linear.weight                                           ├─524,288\n",
            "│    └─stage3.blocks.1.mlp.ln1.bn.weight                                               ├─1,024\n",
            "│    └─stage3.blocks.1.mlp.ln1.bn.bias                                                 ├─1,024\n",
            "│    └─stage3.blocks.1.mlp.ln2.linear.weight                                           ├─524,288\n",
            "│    └─stage3.blocks.1.mlp.ln2.bn.weight                                               ├─512\n",
            "│    └─stage3.blocks.1.mlp.ln2.bn.bias                                                 ├─512\n",
            "│    └─head.bn.weight                                                                  ├─512\n",
            "│    └─head.bn.bias                                                                    ├─512\n",
            "│    └─head.linear.weight                                                              ├─18,944\n",
            "│    └─head.linear.bias                                                                ├─37\n",
            "│    └─head_dist.bn.weight                                                             ├─512\n",
            "│    └─head_dist.bn.bias                                                               ├─512\n",
            "│    └─head_dist.linear.weight                                                         ├─18,944\n",
            "│    └─head_dist.linear.bias                                                           └─37\n",
            "│    └─Stem16: 2-11                                          [32, 256, 14, 14]         --\n",
            "│    │    └─conv1.linear.weight                                                        ├─864\n",
            "│    │    └─conv1.bn.weight                                                            ├─32\n",
            "│    │    └─conv1.bn.bias                                                              ├─32\n",
            "│    │    └─conv2.linear.weight                                                        ├─18,432\n",
            "│    │    └─conv2.bn.weight                                                            ├─64\n",
            "│    │    └─conv2.bn.bias                                                              ├─64\n",
            "│    │    └─conv3.linear.weight                                                        ├─73,728\n",
            "│    │    └─conv3.bn.weight                                                            ├─128\n",
            "│    │    └─conv3.bn.bias                                                              ├─128\n",
            "│    │    └─conv4.linear.weight                                                        ├─294,912\n",
            "│    │    └─conv4.bn.weight                                                            ├─256\n",
            "│    │    └─conv4.bn.bias                                                              └─256\n",
            "│    │    └─ConvNorm: 3-19                                   [32, 32, 112, 112]        928\n",
            "│    │    │    └─linear.weight                                                         ├─864\n",
            "│    │    │    └─bn.weight                                                             ├─32\n",
            "│    │    │    └─bn.bias                                                               └─32\n",
            "│    │    └─Hardswish: 3-20                                  [32, 32, 112, 112]        --\n",
            "│    │    └─ConvNorm: 3-21                                   [32, 64, 56, 56]          18,560\n",
            "│    │    │    └─linear.weight                                                         ├─18,432\n",
            "│    │    │    └─bn.weight                                                             ├─64\n",
            "│    │    │    └─bn.bias                                                               └─64\n",
            "│    │    └─Hardswish: 3-22                                  [32, 64, 56, 56]          --\n",
            "│    │    └─ConvNorm: 3-23                                   [32, 128, 28, 28]         73,984\n",
            "│    │    │    └─linear.weight                                                         ├─73,728\n",
            "│    │    │    └─bn.weight                                                             ├─128\n",
            "│    │    │    └─bn.bias                                                               └─128\n",
            "│    │    └─Hardswish: 3-24                                  [32, 128, 28, 28]         --\n",
            "│    │    └─ConvNorm: 3-25                                   [32, 256, 14, 14]         295,424\n",
            "│    │    │    └─linear.weight                                                         ├─294,912\n",
            "│    │    │    └─bn.weight                                                             ├─256\n",
            "│    │    │    └─bn.bias                                                               └─256\n",
            "│    └─ConvLevitStage: 2-12                                  [32, 256, 14, 14]         --\n",
            "│    │    └─layers.0.weight                                                            ├─65,536\n",
            "│    │    └─layers.0.bias                                                              ├─256\n",
            "│    │    └─layers.1.weight                                                            ├─65,536\n",
            "│    │    └─layers.1.bias                                                              ├─256\n",
            "│    │    └─layers.2.weight                                                            ├─65,536\n",
            "│    │    └─layers.2.bias                                                              ├─256\n",
            "│    │    └─layers.3.weight                                                            ├─256\n",
            "│    │    └─layers.3.bias                                                              └─256\n",
            "│    │    └─Sequential: 3-26                                 [32, 256, 14, 14]         197,888\n",
            "│    │    │    └─0.weight                                                              ├─65,536\n",
            "│    │    │    └─0.bias                                                                ├─256\n",
            "│    │    │    └─1.weight                                                              ├─65,536\n",
            "│    │    │    └─1.bias                                                                ├─256\n",
            "│    │    │    └─2.weight                                                              ├─65,536\n",
            "│    │    │    └─2.bias                                                                ├─256\n",
            "│    │    │    └─3.weight                                                              ├─256\n",
            "│    │    │    └─3.bias                                                                └─256\n",
            "│    └─LevitStage: 2-13                                      [32, 49, 384]             --\n",
            "│    │    └─downsample.attn_downsample.kv.linear.weight                                ├─786,432\n",
            "│    │    └─downsample.attn_downsample.kv.bn.weight                                    ├─3,072\n",
            "│    │    └─downsample.attn_downsample.kv.bn.bias                                      ├─3,072\n",
            "│    │    └─downsample.attn_downsample.q.0.weight                                      ├─262,144\n",
            "│    │    └─downsample.attn_downsample.q.0.bias                                        ├─256\n",
            "│    │    └─downsample.attn_downsample.proj.1.linear.weight                            ├─98,304\n",
            "│    │    └─downsample.attn_downsample.proj.1.bn.weight                                ├─384\n",
            "│    │    └─downsample.attn_downsample.proj.1.bn.bias                                  ├─384\n",
            "│    │    └─downsample.mlp.ln1.linear.weight                                           ├─294,912\n",
            "│    │    └─downsample.mlp.ln1.bn.weight                                               ├─768\n",
            "│    │    └─downsample.mlp.ln1.bn.bias                                                 ├─768\n",
            "│    │    └─downsample.mlp.ln2.linear.weight                                           ├─294,912\n",
            "│    │    └─downsample.mlp.ln2.bn.weight                                               ├─384\n",
            "│    │    └─downsample.mlp.ln2.bn.bias                                                 ├─384\n",
            "│    │    └─blocks.0.attn.qkv.linear.weight                                            ├─442,368\n",
            "│    │    └─blocks.0.attn.qkv.bn.weight                                                ├─1,152\n",
            "│    │    └─blocks.0.attn.qkv.bn.bias                                                  ├─1,152\n",
            "│    │    └─blocks.0.attn.proj.1.linear.weight                                         ├─147,456\n",
            "│    │    └─blocks.0.attn.proj.1.bn.weight                                             ├─384\n",
            "│    │    └─blocks.0.attn.proj.1.bn.bias                                               ├─384\n",
            "│    │    └─blocks.0.mlp.ln1.linear.weight                                             ├─294,912\n",
            "│    │    └─blocks.0.mlp.ln1.bn.weight                                                 ├─768\n",
            "│    │    └─blocks.0.mlp.ln1.bn.bias                                                   ├─768\n",
            "│    │    └─blocks.0.mlp.ln2.linear.weight                                             ├─294,912\n",
            "│    │    └─blocks.0.mlp.ln2.bn.weight                                                 ├─384\n",
            "│    │    └─blocks.0.mlp.ln2.bn.bias                                                   ├─384\n",
            "│    │    └─blocks.1.attn.qkv.linear.weight                                            ├─442,368\n",
            "│    │    └─blocks.1.attn.qkv.bn.weight                                                ├─1,152\n",
            "│    │    └─blocks.1.attn.qkv.bn.bias                                                  ├─1,152\n",
            "│    │    └─blocks.1.attn.proj.1.linear.weight                                         ├─147,456\n",
            "│    │    └─blocks.1.attn.proj.1.bn.weight                                             ├─384\n",
            "│    │    └─blocks.1.attn.proj.1.bn.bias                                               ├─384\n",
            "│    │    └─blocks.1.mlp.ln1.linear.weight                                             ├─294,912\n",
            "│    │    └─blocks.1.mlp.ln1.bn.weight                                                 ├─768\n",
            "│    │    └─blocks.1.mlp.ln1.bn.bias                                                   ├─768\n",
            "│    │    └─blocks.1.mlp.ln2.linear.weight                                             ├─294,912\n",
            "│    │    └─blocks.1.mlp.ln2.bn.weight                                                 ├─384\n",
            "│    │    └─blocks.1.mlp.ln2.bn.bias                                                   ├─384\n",
            "│    │    └─blocks.2.attn.qkv.linear.weight                                            ├─442,368\n",
            "│    │    └─blocks.2.attn.qkv.bn.weight                                                ├─1,152\n",
            "│    │    └─blocks.2.attn.qkv.bn.bias                                                  ├─1,152\n",
            "│    │    └─blocks.2.attn.proj.1.linear.weight                                         ├─147,456\n",
            "│    │    └─blocks.2.attn.proj.1.bn.weight                                             ├─384\n",
            "│    │    └─blocks.2.attn.proj.1.bn.bias                                               ├─384\n",
            "│    │    └─blocks.2.mlp.ln1.linear.weight                                             ├─294,912\n",
            "│    │    └─blocks.2.mlp.ln1.bn.weight                                                 ├─768\n",
            "│    │    └─blocks.2.mlp.ln1.bn.bias                                                   ├─768\n",
            "│    │    └─blocks.2.mlp.ln2.linear.weight                                             ├─294,912\n",
            "│    │    └─blocks.2.mlp.ln2.bn.weight                                                 ├─384\n",
            "│    │    └─blocks.2.mlp.ln2.bn.bias                                                   └─384\n",
            "│    │    └─LevitDownsample: 3-27                            [32, 49, 384]             1,746,176\n",
            "│    │    │    └─attn_downsample.kv.linear.weight                                      ├─786,432\n",
            "│    │    │    └─attn_downsample.kv.bn.weight                                          ├─3,072\n",
            "│    │    │    └─attn_downsample.kv.bn.bias                                            ├─3,072\n",
            "│    │    │    └─attn_downsample.q.0.weight                                            ├─262,144\n",
            "│    │    │    └─attn_downsample.q.0.bias                                              ├─256\n",
            "│    │    │    └─attn_downsample.proj.1.linear.weight                                  ├─98,304\n",
            "│    │    │    └─attn_downsample.proj.1.bn.weight                                      ├─384\n",
            "│    │    │    └─attn_downsample.proj.1.bn.bias                                        ├─384\n",
            "│    │    │    └─mlp.ln1.linear.weight                                                 ├─294,912\n",
            "│    │    │    └─mlp.ln1.bn.weight                                                     ├─768\n",
            "│    │    │    └─mlp.ln1.bn.bias                                                       ├─768\n",
            "│    │    │    └─mlp.ln2.linear.weight                                                 ├─294,912\n",
            "│    │    │    └─mlp.ln2.bn.weight                                                     ├─384\n",
            "│    │    │    └─mlp.ln2.bn.bias                                                       └─384\n",
            "│    │    └─Sequential: 3-28                                 [32, 49, 384]             3,555,072\n",
            "│    │    │    └─0.attn.qkv.linear.weight                                              ├─442,368\n",
            "│    │    │    └─0.attn.qkv.bn.weight                                                  ├─1,152\n",
            "│    │    │    └─0.attn.qkv.bn.bias                                                    ├─1,152\n",
            "│    │    │    └─0.attn.proj.1.linear.weight                                           ├─147,456\n",
            "│    │    │    └─0.attn.proj.1.bn.weight                                               ├─384\n",
            "│    │    │    └─0.attn.proj.1.bn.bias                                                 ├─384\n",
            "│    │    │    └─0.mlp.ln1.linear.weight                                               ├─294,912\n",
            "│    │    │    └─0.mlp.ln1.bn.weight                                                   ├─768\n",
            "│    │    │    └─0.mlp.ln1.bn.bias                                                     ├─768\n",
            "│    │    │    └─0.mlp.ln2.linear.weight                                               ├─294,912\n",
            "│    │    │    └─0.mlp.ln2.bn.weight                                                   ├─384\n",
            "│    │    │    └─0.mlp.ln2.bn.bias                                                     ├─384\n",
            "│    │    │    └─1.attn.qkv.linear.weight                                              ├─442,368\n",
            "│    │    │    └─1.attn.qkv.bn.weight                                                  ├─1,152\n",
            "│    │    │    └─1.attn.qkv.bn.bias                                                    ├─1,152\n",
            "│    │    │    └─1.attn.proj.1.linear.weight                                           ├─147,456\n",
            "│    │    │    └─1.attn.proj.1.bn.weight                                               ├─384\n",
            "│    │    │    └─1.attn.proj.1.bn.bias                                                 ├─384\n",
            "│    │    │    └─1.mlp.ln1.linear.weight                                               ├─294,912\n",
            "│    │    │    └─1.mlp.ln1.bn.weight                                                   ├─768\n",
            "│    │    │    └─1.mlp.ln1.bn.bias                                                     ├─768\n",
            "│    │    │    └─1.mlp.ln2.linear.weight                                               ├─294,912\n",
            "│    │    │    └─1.mlp.ln2.bn.weight                                                   ├─384\n",
            "│    │    │    └─1.mlp.ln2.bn.bias                                                     ├─384\n",
            "│    │    │    └─2.attn.qkv.linear.weight                                              ├─442,368\n",
            "│    │    │    └─2.attn.qkv.bn.weight                                                  ├─1,152\n",
            "│    │    │    └─2.attn.qkv.bn.bias                                                    ├─1,152\n",
            "│    │    │    └─2.attn.proj.1.linear.weight                                           ├─147,456\n",
            "│    │    │    └─2.attn.proj.1.bn.weight                                               ├─384\n",
            "│    │    │    └─2.attn.proj.1.bn.bias                                                 ├─384\n",
            "│    │    │    └─2.mlp.ln1.linear.weight                                               ├─294,912\n",
            "│    │    │    └─2.mlp.ln1.bn.weight                                                   ├─768\n",
            "│    │    │    └─2.mlp.ln1.bn.bias                                                     ├─768\n",
            "│    │    │    └─2.mlp.ln2.linear.weight                                               ├─294,912\n",
            "│    │    │    └─2.mlp.ln2.bn.weight                                                   ├─384\n",
            "│    │    │    └─2.mlp.ln2.bn.bias                                                     └─384\n",
            "│    └─LevitStage: 2-14                                      [32, 9, 512]              --\n",
            "│    │    └─downsample.attn_downsample.kv.linear.weight                                ├─2,359,296\n",
            "│    │    └─downsample.attn_downsample.kv.bn.weight                                    ├─6,144\n",
            "│    │    └─downsample.attn_downsample.kv.bn.bias                                      ├─6,144\n",
            "│    │    └─downsample.attn_downsample.q.0.weight                                      ├─589,824\n",
            "│    │    └─downsample.attn_downsample.q.0.bias                                        ├─384\n",
            "│    │    └─downsample.attn_downsample.proj.1.linear.weight                            ├─196,608\n",
            "│    │    └─downsample.attn_downsample.proj.1.bn.weight                                ├─512\n",
            "│    │    └─downsample.attn_downsample.proj.1.bn.bias                                  ├─512\n",
            "│    │    └─downsample.mlp.ln1.linear.weight                                           ├─524,288\n",
            "│    │    └─downsample.mlp.ln1.bn.weight                                               ├─1,024\n",
            "│    │    └─downsample.mlp.ln1.bn.bias                                                 ├─1,024\n",
            "│    │    └─downsample.mlp.ln2.linear.weight                                           ├─524,288\n",
            "│    │    └─downsample.mlp.ln2.bn.weight                                               ├─512\n",
            "│    │    └─downsample.mlp.ln2.bn.bias                                                 ├─512\n",
            "│    │    └─blocks.0.attn.qkv.linear.weight                                            ├─786,432\n",
            "│    │    └─blocks.0.attn.qkv.bn.weight                                                ├─1,536\n",
            "│    │    └─blocks.0.attn.qkv.bn.bias                                                  ├─1,536\n",
            "│    │    └─blocks.0.attn.proj.1.linear.weight                                         ├─262,144\n",
            "│    │    └─blocks.0.attn.proj.1.bn.weight                                             ├─512\n",
            "│    │    └─blocks.0.attn.proj.1.bn.bias                                               ├─512\n",
            "│    │    └─blocks.0.mlp.ln1.linear.weight                                             ├─524,288\n",
            "│    │    └─blocks.0.mlp.ln1.bn.weight                                                 ├─1,024\n",
            "│    │    └─blocks.0.mlp.ln1.bn.bias                                                   ├─1,024\n",
            "│    │    └─blocks.0.mlp.ln2.linear.weight                                             ├─524,288\n",
            "│    │    └─blocks.0.mlp.ln2.bn.weight                                                 ├─512\n",
            "│    │    └─blocks.0.mlp.ln2.bn.bias                                                   ├─512\n",
            "│    │    └─blocks.1.attn.qkv.linear.weight                                            ├─786,432\n",
            "│    │    └─blocks.1.attn.qkv.bn.weight                                                ├─1,536\n",
            "│    │    └─blocks.1.attn.qkv.bn.bias                                                  ├─1,536\n",
            "│    │    └─blocks.1.attn.proj.1.linear.weight                                         ├─262,144\n",
            "│    │    └─blocks.1.attn.proj.1.bn.weight                                             ├─512\n",
            "│    │    └─blocks.1.attn.proj.1.bn.bias                                               ├─512\n",
            "│    │    └─blocks.1.mlp.ln1.linear.weight                                             ├─524,288\n",
            "│    │    └─blocks.1.mlp.ln1.bn.weight                                                 ├─1,024\n",
            "│    │    └─blocks.1.mlp.ln1.bn.bias                                                   ├─1,024\n",
            "│    │    └─blocks.1.mlp.ln2.linear.weight                                             ├─524,288\n",
            "│    │    └─blocks.1.mlp.ln2.bn.weight                                                 ├─512\n",
            "│    │    └─blocks.1.mlp.ln2.bn.bias                                                   └─512\n",
            "│    │    └─LevitDownsample: 3-29                            [32, 9, 512]              4,211,072\n",
            "│    │    │    └─attn_downsample.kv.linear.weight                                      ├─2,359,296\n",
            "│    │    │    └─attn_downsample.kv.bn.weight                                          ├─6,144\n",
            "│    │    │    └─attn_downsample.kv.bn.bias                                            ├─6,144\n",
            "│    │    │    └─attn_downsample.q.0.weight                                            ├─589,824\n",
            "│    │    │    └─attn_downsample.q.0.bias                                              ├─384\n",
            "│    │    │    └─attn_downsample.proj.1.linear.weight                                  ├─196,608\n",
            "│    │    │    └─attn_downsample.proj.1.bn.weight                                      ├─512\n",
            "│    │    │    └─attn_downsample.proj.1.bn.bias                                        ├─512\n",
            "│    │    │    └─mlp.ln1.linear.weight                                                 ├─524,288\n",
            "│    │    │    └─mlp.ln1.bn.weight                                                     ├─1,024\n",
            "│    │    │    └─mlp.ln1.bn.bias                                                       ├─1,024\n",
            "│    │    │    └─mlp.ln2.linear.weight                                                 ├─524,288\n",
            "│    │    │    └─mlp.ln2.bn.weight                                                     ├─512\n",
            "│    │    │    └─mlp.ln2.bn.bias                                                       └─512\n",
            "│    │    └─Sequential: 3-30                                 [32, 9, 512]              4,208,640\n",
            "│    │    │    └─0.attn.qkv.linear.weight                                              ├─786,432\n",
            "│    │    │    └─0.attn.qkv.bn.weight                                                  ├─1,536\n",
            "│    │    │    └─0.attn.qkv.bn.bias                                                    ├─1,536\n",
            "│    │    │    └─0.attn.proj.1.linear.weight                                           ├─262,144\n",
            "│    │    │    └─0.attn.proj.1.bn.weight                                               ├─512\n",
            "│    │    │    └─0.attn.proj.1.bn.bias                                                 ├─512\n",
            "│    │    │    └─0.mlp.ln1.linear.weight                                               ├─524,288\n",
            "│    │    │    └─0.mlp.ln1.bn.weight                                                   ├─1,024\n",
            "│    │    │    └─0.mlp.ln1.bn.bias                                                     ├─1,024\n",
            "│    │    │    └─0.mlp.ln2.linear.weight                                               ├─524,288\n",
            "│    │    │    └─0.mlp.ln2.bn.weight                                                   ├─512\n",
            "│    │    │    └─0.mlp.ln2.bn.bias                                                     ├─512\n",
            "│    │    │    └─1.attn.qkv.linear.weight                                              ├─786,432\n",
            "│    │    │    └─1.attn.qkv.bn.weight                                                  ├─1,536\n",
            "│    │    │    └─1.attn.qkv.bn.bias                                                    ├─1,536\n",
            "│    │    │    └─1.attn.proj.1.linear.weight                                           ├─262,144\n",
            "│    │    │    └─1.attn.proj.1.bn.weight                                               ├─512\n",
            "│    │    │    └─1.attn.proj.1.bn.bias                                                 ├─512\n",
            "│    │    │    └─1.mlp.ln1.linear.weight                                               ├─524,288\n",
            "│    │    │    └─1.mlp.ln1.bn.weight                                                   ├─1,024\n",
            "│    │    │    └─1.mlp.ln1.bn.bias                                                     ├─1,024\n",
            "│    │    │    └─1.mlp.ln2.linear.weight                                               ├─524,288\n",
            "│    │    │    └─1.mlp.ln2.bn.weight                                                   ├─512\n",
            "│    │    │    └─1.mlp.ln2.bn.bias                                                     └─512\n",
            "│    └─NormLinear: 2-15                                      [32, 37]                  --\n",
            "│    │    └─bn.weight                                                                  ├─512\n",
            "│    │    └─bn.bias                                                                    ├─512\n",
            "│    │    └─linear.weight                                                              ├─18,944\n",
            "│    │    └─linear.bias                                                                └─37\n",
            "│    │    └─BatchNorm1d: 3-31                                [32, 512]                 1,024\n",
            "│    │    │    └─weight                                                                ├─512\n",
            "│    │    │    └─bias                                                                  └─512\n",
            "│    │    └─Dropout: 3-32                                    [32, 512]                 --\n",
            "│    │    └─Linear: 3-33                                     [32, 37]                  18,981\n",
            "│    │    │    └─weight                                                                ├─18,944\n",
            "│    │    │    └─bias                                                                  └─37\n",
            "│    └─NormLinear: 2-16                                      [32, 37]                  --\n",
            "│    │    └─bn.weight                                                                  ├─512\n",
            "│    │    └─bn.bias                                                                    ├─512\n",
            "│    │    └─linear.weight                                                              ├─18,944\n",
            "│    │    └─linear.bias                                                                └─37\n",
            "│    │    └─BatchNorm1d: 3-34                                [32, 512]                 1,024\n",
            "│    │    │    └─weight                                                                ├─512\n",
            "│    │    │    └─bias                                                                  └─512\n",
            "│    │    └─Dropout: 3-35                                    [32, 512]                 --\n",
            "│    │    └─Linear: 3-36                                     [32, 37]                  18,981\n",
            "│    │    │    └─weight                                                                ├─18,944\n",
            "│    │    │    └─bias                                                                  └─37\n",
            "==============================================================================================================\n",
            "Total params: 57,132,925\n",
            "Trainable params: 33,624,893\n",
            "Non-trainable params: 23,508,032\n",
            "Total mult-adds (G): 156.28\n",
            "==============================================================================================================\n",
            "Input size (MB): 19.27\n",
            "Forward/backward pass size (MB): 6918.15\n",
            "Params size (MB): 228.53\n",
            "Estimated Total Size (MB): 7165.95\n",
            "==============================================================================================================\n",
            "==============================================================================================================\n",
            "Layer (type:depth-idx)                                       Output Shape              Param #\n",
            "==============================================================================================================\n",
            "LauncherModel                                                [32, 37]                  --\n",
            "├─ResNet: 1-1                                                [32, 2048]                --\n",
            "│    └─conv1.weight                                                                    ├─9,408\n",
            "│    └─bn1.weight                                                                      ├─64\n",
            "│    └─bn1.bias                                                                        ├─64\n",
            "│    └─layer1.0.conv1.weight                                                           ├─4,096\n",
            "│    └─layer1.0.bn1.weight                                                             ├─64\n",
            "│    └─layer1.0.bn1.bias                                                               ├─64\n",
            "│    └─layer1.0.conv2.weight                                                           ├─36,864\n",
            "│    └─layer1.0.bn2.weight                                                             ├─64\n",
            "│    └─layer1.0.bn2.bias                                                               ├─64\n",
            "│    └─layer1.0.conv3.weight                                                           ├─16,384\n",
            "│    └─layer1.0.bn3.weight                                                             ├─256\n",
            "│    └─layer1.0.bn3.bias                                                               ├─256\n",
            "│    └─layer1.0.downsample.0.weight                                                    ├─16,384\n",
            "│    └─layer1.0.downsample.1.weight                                                    ├─256\n",
            "│    └─layer1.0.downsample.1.bias                                                      ├─256\n",
            "│    └─layer1.1.conv1.weight                                                           ├─16,384\n",
            "│    └─layer1.1.bn1.weight                                                             ├─64\n",
            "│    └─layer1.1.bn1.bias                                                               ├─64\n",
            "│    └─layer1.1.conv2.weight                                                           ├─36,864\n",
            "│    └─layer1.1.bn2.weight                                                             ├─64\n",
            "│    └─layer1.1.bn2.bias                                                               ├─64\n",
            "│    └─layer1.1.conv3.weight                                                           ├─16,384\n",
            "│    └─layer1.1.bn3.weight                                                             ├─256\n",
            "│    └─layer1.1.bn3.bias                                                               ├─256\n",
            "│    └─layer1.2.conv1.weight                                                           ├─16,384\n",
            "│    └─layer1.2.bn1.weight                                                             ├─64\n",
            "│    └─layer1.2.bn1.bias                                                               ├─64\n",
            "│    └─layer1.2.conv2.weight                                                           ├─36,864\n",
            "│    └─layer1.2.bn2.weight                                                             ├─64\n",
            "│    └─layer1.2.bn2.bias                                                               ├─64\n",
            "│    └─layer1.2.conv3.weight                                                           ├─16,384\n",
            "│    └─layer1.2.bn3.weight                                                             ├─256\n",
            "│    └─layer1.2.bn3.bias                                                               ├─256\n",
            "│    └─layer2.0.conv1.weight                                                           ├─32,768\n",
            "│    └─layer2.0.bn1.weight                                                             ├─128\n",
            "│    └─layer2.0.bn1.bias                                                               ├─128\n",
            "│    └─layer2.0.conv2.weight                                                           ├─147,456\n",
            "│    └─layer2.0.bn2.weight                                                             ├─128\n",
            "│    └─layer2.0.bn2.bias                                                               ├─128\n",
            "│    └─layer2.0.conv3.weight                                                           ├─65,536\n",
            "│    └─layer2.0.bn3.weight                                                             ├─512\n",
            "│    └─layer2.0.bn3.bias                                                               ├─512\n",
            "│    └─layer2.0.downsample.0.weight                                                    ├─131,072\n",
            "│    └─layer2.0.downsample.1.weight                                                    ├─512\n",
            "│    └─layer2.0.downsample.1.bias                                                      ├─512\n",
            "│    └─layer2.1.conv1.weight                                                           ├─65,536\n",
            "│    └─layer2.1.bn1.weight                                                             ├─128\n",
            "│    └─layer2.1.bn1.bias                                                               ├─128\n",
            "│    └─layer2.1.conv2.weight                                                           ├─147,456\n",
            "│    └─layer2.1.bn2.weight                                                             ├─128\n",
            "│    └─layer2.1.bn2.bias                                                               ├─128\n",
            "│    └─layer2.1.conv3.weight                                                           ├─65,536\n",
            "│    └─layer2.1.bn3.weight                                                             ├─512\n",
            "│    └─layer2.1.bn3.bias                                                               ├─512\n",
            "│    └─layer2.2.conv1.weight                                                           ├─65,536\n",
            "│    └─layer2.2.bn1.weight                                                             ├─128\n",
            "│    └─layer2.2.bn1.bias                                                               ├─128\n",
            "│    └─layer2.2.conv2.weight                                                           ├─147,456\n",
            "│    └─layer2.2.bn2.weight                                                             ├─128\n",
            "│    └─layer2.2.bn2.bias                                                               ├─128\n",
            "│    └─layer2.2.conv3.weight                                                           ├─65,536\n",
            "│    └─layer2.2.bn3.weight                                                             ├─512\n",
            "│    └─layer2.2.bn3.bias                                                               ├─512\n",
            "│    └─layer2.3.conv1.weight                                                           ├─65,536\n",
            "│    └─layer2.3.bn1.weight                                                             ├─128\n",
            "│    └─layer2.3.bn1.bias                                                               ├─128\n",
            "│    └─layer2.3.conv2.weight                                                           ├─147,456\n",
            "│    └─layer2.3.bn2.weight                                                             ├─128\n",
            "│    └─layer2.3.bn2.bias                                                               ├─128\n",
            "│    └─layer2.3.conv3.weight                                                           ├─65,536\n",
            "│    └─layer2.3.bn3.weight                                                             ├─512\n",
            "│    └─layer2.3.bn3.bias                                                               ├─512\n",
            "│    └─layer3.0.conv1.weight                                                           ├─131,072\n",
            "│    └─layer3.0.bn1.weight                                                             ├─256\n",
            "│    └─layer3.0.bn1.bias                                                               ├─256\n",
            "│    └─layer3.0.conv2.weight                                                           ├─589,824\n",
            "│    └─layer3.0.bn2.weight                                                             ├─256\n",
            "│    └─layer3.0.bn2.bias                                                               ├─256\n",
            "│    └─layer3.0.conv3.weight                                                           ├─262,144\n",
            "│    └─layer3.0.bn3.weight                                                             ├─1,024\n",
            "│    └─layer3.0.bn3.bias                                                               ├─1,024\n",
            "│    └─layer3.0.downsample.0.weight                                                    ├─524,288\n",
            "│    └─layer3.0.downsample.1.weight                                                    ├─1,024\n",
            "│    └─layer3.0.downsample.1.bias                                                      ├─1,024\n",
            "│    └─layer3.1.conv1.weight                                                           ├─262,144\n",
            "│    └─layer3.1.bn1.weight                                                             ├─256\n",
            "│    └─layer3.1.bn1.bias                                                               ├─256\n",
            "│    └─layer3.1.conv2.weight                                                           ├─589,824\n",
            "│    └─layer3.1.bn2.weight                                                             ├─256\n",
            "│    └─layer3.1.bn2.bias                                                               ├─256\n",
            "│    └─layer3.1.conv3.weight                                                           ├─262,144\n",
            "│    └─layer3.1.bn3.weight                                                             ├─1,024\n",
            "│    └─layer3.1.bn3.bias                                                               ├─1,024\n",
            "│    └─layer3.2.conv1.weight                                                           ├─262,144\n",
            "│    └─layer3.2.bn1.weight                                                             ├─256\n",
            "│    └─layer3.2.bn1.bias                                                               ├─256\n",
            "│    └─layer3.2.conv2.weight                                                           ├─589,824\n",
            "│    └─layer3.2.bn2.weight                                                             ├─256\n",
            "│    └─layer3.2.bn2.bias                                                               ├─256\n",
            "│    └─layer3.2.conv3.weight                                                           ├─262,144\n",
            "│    └─layer3.2.bn3.weight                                                             ├─1,024\n",
            "│    └─layer3.2.bn3.bias                                                               ├─1,024\n",
            "│    └─layer3.3.conv1.weight                                                           ├─262,144\n",
            "│    └─layer3.3.bn1.weight                                                             ├─256\n",
            "│    └─layer3.3.bn1.bias                                                               ├─256\n",
            "│    └─layer3.3.conv2.weight                                                           ├─589,824\n",
            "│    └─layer3.3.bn2.weight                                                             ├─256\n",
            "│    └─layer3.3.bn2.bias                                                               ├─256\n",
            "│    └─layer3.3.conv3.weight                                                           ├─262,144\n",
            "│    └─layer3.3.bn3.weight                                                             ├─1,024\n",
            "│    └─layer3.3.bn3.bias                                                               ├─1,024\n",
            "│    └─layer3.4.conv1.weight                                                           ├─262,144\n",
            "│    └─layer3.4.bn1.weight                                                             ├─256\n",
            "│    └─layer3.4.bn1.bias                                                               ├─256\n",
            "│    └─layer3.4.conv2.weight                                                           ├─589,824\n",
            "│    └─layer3.4.bn2.weight                                                             ├─256\n",
            "│    └─layer3.4.bn2.bias                                                               ├─256\n",
            "│    └─layer3.4.conv3.weight                                                           ├─262,144\n",
            "│    └─layer3.4.bn3.weight                                                             ├─1,024\n",
            "│    └─layer3.4.bn3.bias                                                               ├─1,024\n",
            "│    └─layer3.5.conv1.weight                                                           ├─262,144\n",
            "│    └─layer3.5.bn1.weight                                                             ├─256\n",
            "│    └─layer3.5.bn1.bias                                                               ├─256\n",
            "│    └─layer3.5.conv2.weight                                                           ├─589,824\n",
            "│    └─layer3.5.bn2.weight                                                             ├─256\n",
            "│    └─layer3.5.bn2.bias                                                               ├─256\n",
            "│    └─layer3.5.conv3.weight                                                           ├─262,144\n",
            "│    └─layer3.5.bn3.weight                                                             ├─1,024\n",
            "│    └─layer3.5.bn3.bias                                                               ├─1,024\n",
            "│    └─layer4.0.conv1.weight                                                           ├─524,288\n",
            "│    └─layer4.0.bn1.weight                                                             ├─512\n",
            "│    └─layer4.0.bn1.bias                                                               ├─512\n",
            "│    └─layer4.0.conv2.weight                                                           ├─2,359,296\n",
            "│    └─layer4.0.bn2.weight                                                             ├─512\n",
            "│    └─layer4.0.bn2.bias                                                               ├─512\n",
            "│    └─layer4.0.conv3.weight                                                           ├─1,048,576\n",
            "│    └─layer4.0.bn3.weight                                                             ├─2,048\n",
            "│    └─layer4.0.bn3.bias                                                               ├─2,048\n",
            "│    └─layer4.0.downsample.0.weight                                                    ├─2,097,152\n",
            "│    └─layer4.0.downsample.1.weight                                                    ├─2,048\n",
            "│    └─layer4.0.downsample.1.bias                                                      ├─2,048\n",
            "│    └─layer4.1.conv1.weight                                                           ├─1,048,576\n",
            "│    └─layer4.1.bn1.weight                                                             ├─512\n",
            "│    └─layer4.1.bn1.bias                                                               ├─512\n",
            "│    └─layer4.1.conv2.weight                                                           ├─2,359,296\n",
            "│    └─layer4.1.bn2.weight                                                             ├─512\n",
            "│    └─layer4.1.bn2.bias                                                               ├─512\n",
            "│    └─layer4.1.conv3.weight                                                           ├─1,048,576\n",
            "│    └─layer4.1.bn3.weight                                                             ├─2,048\n",
            "│    └─layer4.1.bn3.bias                                                               ├─2,048\n",
            "│    └─layer4.2.conv1.weight                                                           ├─1,048,576\n",
            "│    └─layer4.2.bn1.weight                                                             ├─512\n",
            "│    └─layer4.2.bn1.bias                                                               ├─512\n",
            "│    └─layer4.2.conv2.weight                                                           ├─2,359,296\n",
            "│    └─layer4.2.bn2.weight                                                             ├─512\n",
            "│    └─layer4.2.bn2.bias                                                               ├─512\n",
            "│    └─layer4.2.conv3.weight                                                           ├─1,048,576\n",
            "│    └─layer4.2.bn3.weight                                                             ├─2,048\n",
            "│    └─layer4.2.bn3.bias                                                               └─2,048\n",
            "│    └─Conv2d: 2-1                                           [32, 64, 112, 112]        (9,408)\n",
            "│    │    └─weight                                                                     └─9,408\n",
            "│    └─BatchNorm2d: 2-2                                      [32, 64, 112, 112]        (128)\n",
            "│    │    └─weight                                                                     ├─64\n",
            "│    │    └─bias                                                                       └─64\n",
            "│    └─ReLU: 2-3                                             [32, 64, 112, 112]        --\n",
            "│    └─MaxPool2d: 2-4                                        [32, 64, 56, 56]          --\n",
            "│    └─Sequential: 2-5                                       [32, 256, 56, 56]         --\n",
            "│    │    └─0.conv1.weight                                                             ├─4,096\n",
            "│    │    └─0.bn1.weight                                                               ├─64\n",
            "│    │    └─0.bn1.bias                                                                 ├─64\n",
            "│    │    └─0.conv2.weight                                                             ├─36,864\n",
            "│    │    └─0.bn2.weight                                                               ├─64\n",
            "│    │    └─0.bn2.bias                                                                 ├─64\n",
            "│    │    └─0.conv3.weight                                                             ├─16,384\n",
            "│    │    └─0.bn3.weight                                                               ├─256\n",
            "│    │    └─0.bn3.bias                                                                 ├─256\n",
            "│    │    └─0.downsample.0.weight                                                      ├─16,384\n",
            "│    │    └─0.downsample.1.weight                                                      ├─256\n",
            "│    │    └─0.downsample.1.bias                                                        ├─256\n",
            "│    │    └─1.conv1.weight                                                             ├─16,384\n",
            "│    │    └─1.bn1.weight                                                               ├─64\n",
            "│    │    └─1.bn1.bias                                                                 ├─64\n",
            "│    │    └─1.conv2.weight                                                             ├─36,864\n",
            "│    │    └─1.bn2.weight                                                               ├─64\n",
            "│    │    └─1.bn2.bias                                                                 ├─64\n",
            "│    │    └─1.conv3.weight                                                             ├─16,384\n",
            "│    │    └─1.bn3.weight                                                               ├─256\n",
            "│    │    └─1.bn3.bias                                                                 ├─256\n",
            "│    │    └─2.conv1.weight                                                             ├─16,384\n",
            "│    │    └─2.bn1.weight                                                               ├─64\n",
            "│    │    └─2.bn1.bias                                                                 ├─64\n",
            "│    │    └─2.conv2.weight                                                             ├─36,864\n",
            "│    │    └─2.bn2.weight                                                               ├─64\n",
            "│    │    └─2.bn2.bias                                                                 ├─64\n",
            "│    │    └─2.conv3.weight                                                             ├─16,384\n",
            "│    │    └─2.bn3.weight                                                               ├─256\n",
            "│    │    └─2.bn3.bias                                                                 └─256\n",
            "│    │    └─Bottleneck: 3-1                                  [32, 256, 56, 56]         (75,008)\n",
            "│    │    │    └─conv1.weight                                                          ├─4,096\n",
            "│    │    │    └─bn1.weight                                                            ├─64\n",
            "│    │    │    └─bn1.bias                                                              ├─64\n",
            "│    │    │    └─conv2.weight                                                          ├─36,864\n",
            "│    │    │    └─bn2.weight                                                            ├─64\n",
            "│    │    │    └─bn2.bias                                                              ├─64\n",
            "│    │    │    └─conv3.weight                                                          ├─16,384\n",
            "│    │    │    └─bn3.weight                                                            ├─256\n",
            "│    │    │    └─bn3.bias                                                              ├─256\n",
            "│    │    │    └─downsample.0.weight                                                   ├─16,384\n",
            "│    │    │    └─downsample.1.weight                                                   ├─256\n",
            "│    │    │    └─downsample.1.bias                                                     └─256\n",
            "│    │    └─Bottleneck: 3-2                                  [32, 256, 56, 56]         (70,400)\n",
            "│    │    │    └─conv1.weight                                                          ├─16,384\n",
            "│    │    │    └─bn1.weight                                                            ├─64\n",
            "│    │    │    └─bn1.bias                                                              ├─64\n",
            "│    │    │    └─conv2.weight                                                          ├─36,864\n",
            "│    │    │    └─bn2.weight                                                            ├─64\n",
            "│    │    │    └─bn2.bias                                                              ├─64\n",
            "│    │    │    └─conv3.weight                                                          ├─16,384\n",
            "│    │    │    └─bn3.weight                                                            ├─256\n",
            "│    │    │    └─bn3.bias                                                              └─256\n",
            "│    │    └─Bottleneck: 3-3                                  [32, 256, 56, 56]         (70,400)\n",
            "│    │    │    └─conv1.weight                                                          ├─16,384\n",
            "│    │    │    └─bn1.weight                                                            ├─64\n",
            "│    │    │    └─bn1.bias                                                              ├─64\n",
            "│    │    │    └─conv2.weight                                                          ├─36,864\n",
            "│    │    │    └─bn2.weight                                                            ├─64\n",
            "│    │    │    └─bn2.bias                                                              ├─64\n",
            "│    │    │    └─conv3.weight                                                          ├─16,384\n",
            "│    │    │    └─bn3.weight                                                            ├─256\n",
            "│    │    │    └─bn3.bias                                                              └─256\n",
            "│    └─Sequential: 2-6                                       [32, 512, 28, 28]         --\n",
            "│    │    └─0.conv1.weight                                                             ├─32,768\n",
            "│    │    └─0.bn1.weight                                                               ├─128\n",
            "│    │    └─0.bn1.bias                                                                 ├─128\n",
            "│    │    └─0.conv2.weight                                                             ├─147,456\n",
            "│    │    └─0.bn2.weight                                                               ├─128\n",
            "│    │    └─0.bn2.bias                                                                 ├─128\n",
            "│    │    └─0.conv3.weight                                                             ├─65,536\n",
            "│    │    └─0.bn3.weight                                                               ├─512\n",
            "│    │    └─0.bn3.bias                                                                 ├─512\n",
            "│    │    └─0.downsample.0.weight                                                      ├─131,072\n",
            "│    │    └─0.downsample.1.weight                                                      ├─512\n",
            "│    │    └─0.downsample.1.bias                                                        ├─512\n",
            "│    │    └─1.conv1.weight                                                             ├─65,536\n",
            "│    │    └─1.bn1.weight                                                               ├─128\n",
            "│    │    └─1.bn1.bias                                                                 ├─128\n",
            "│    │    └─1.conv2.weight                                                             ├─147,456\n",
            "│    │    └─1.bn2.weight                                                               ├─128\n",
            "│    │    └─1.bn2.bias                                                                 ├─128\n",
            "│    │    └─1.conv3.weight                                                             ├─65,536\n",
            "│    │    └─1.bn3.weight                                                               ├─512\n",
            "│    │    └─1.bn3.bias                                                                 ├─512\n",
            "│    │    └─2.conv1.weight                                                             ├─65,536\n",
            "│    │    └─2.bn1.weight                                                               ├─128\n",
            "│    │    └─2.bn1.bias                                                                 ├─128\n",
            "│    │    └─2.conv2.weight                                                             ├─147,456\n",
            "│    │    └─2.bn2.weight                                                               ├─128\n",
            "│    │    └─2.bn2.bias                                                                 ├─128\n",
            "│    │    └─2.conv3.weight                                                             ├─65,536\n",
            "│    │    └─2.bn3.weight                                                               ├─512\n",
            "│    │    └─2.bn3.bias                                                                 ├─512\n",
            "│    │    └─3.conv1.weight                                                             ├─65,536\n",
            "│    │    └─3.bn1.weight                                                               ├─128\n",
            "│    │    └─3.bn1.bias                                                                 ├─128\n",
            "│    │    └─3.conv2.weight                                                             ├─147,456\n",
            "│    │    └─3.bn2.weight                                                               ├─128\n",
            "│    │    └─3.bn2.bias                                                                 ├─128\n",
            "│    │    └─3.conv3.weight                                                             ├─65,536\n",
            "│    │    └─3.bn3.weight                                                               ├─512\n",
            "│    │    └─3.bn3.bias                                                                 └─512\n",
            "│    │    └─Bottleneck: 3-4                                  [32, 512, 28, 28]         (379,392)\n",
            "│    │    │    └─conv1.weight                                                          ├─32,768\n",
            "│    │    │    └─bn1.weight                                                            ├─128\n",
            "│    │    │    └─bn1.bias                                                              ├─128\n",
            "│    │    │    └─conv2.weight                                                          ├─147,456\n",
            "│    │    │    └─bn2.weight                                                            ├─128\n",
            "│    │    │    └─bn2.bias                                                              ├─128\n",
            "│    │    │    └─conv3.weight                                                          ├─65,536\n",
            "│    │    │    └─bn3.weight                                                            ├─512\n",
            "│    │    │    └─bn3.bias                                                              ├─512\n",
            "│    │    │    └─downsample.0.weight                                                   ├─131,072\n",
            "│    │    │    └─downsample.1.weight                                                   ├─512\n",
            "│    │    │    └─downsample.1.bias                                                     └─512\n",
            "│    │    └─Bottleneck: 3-5                                  [32, 512, 28, 28]         (280,064)\n",
            "│    │    │    └─conv1.weight                                                          ├─65,536\n",
            "│    │    │    └─bn1.weight                                                            ├─128\n",
            "│    │    │    └─bn1.bias                                                              ├─128\n",
            "│    │    │    └─conv2.weight                                                          ├─147,456\n",
            "│    │    │    └─bn2.weight                                                            ├─128\n",
            "│    │    │    └─bn2.bias                                                              ├─128\n",
            "│    │    │    └─conv3.weight                                                          ├─65,536\n",
            "│    │    │    └─bn3.weight                                                            ├─512\n",
            "│    │    │    └─bn3.bias                                                              └─512\n",
            "│    │    └─Bottleneck: 3-6                                  [32, 512, 28, 28]         (280,064)\n",
            "│    │    │    └─conv1.weight                                                          ├─65,536\n",
            "│    │    │    └─bn1.weight                                                            ├─128\n",
            "│    │    │    └─bn1.bias                                                              ├─128\n",
            "│    │    │    └─conv2.weight                                                          ├─147,456\n",
            "│    │    │    └─bn2.weight                                                            ├─128\n",
            "│    │    │    └─bn2.bias                                                              ├─128\n",
            "│    │    │    └─conv3.weight                                                          ├─65,536\n",
            "│    │    │    └─bn3.weight                                                            ├─512\n",
            "│    │    │    └─bn3.bias                                                              └─512\n",
            "│    │    └─Bottleneck: 3-7                                  [32, 512, 28, 28]         (280,064)\n",
            "│    │    │    └─conv1.weight                                                          ├─65,536\n",
            "│    │    │    └─bn1.weight                                                            ├─128\n",
            "│    │    │    └─bn1.bias                                                              ├─128\n",
            "│    │    │    └─conv2.weight                                                          ├─147,456\n",
            "│    │    │    └─bn2.weight                                                            ├─128\n",
            "│    │    │    └─bn2.bias                                                              ├─128\n",
            "│    │    │    └─conv3.weight                                                          ├─65,536\n",
            "│    │    │    └─bn3.weight                                                            ├─512\n",
            "│    │    │    └─bn3.bias                                                              └─512\n",
            "│    └─Sequential: 2-7                                       [32, 1024, 14, 14]        --\n",
            "│    │    └─0.conv1.weight                                                             ├─131,072\n",
            "│    │    └─0.bn1.weight                                                               ├─256\n",
            "│    │    └─0.bn1.bias                                                                 ├─256\n",
            "│    │    └─0.conv2.weight                                                             ├─589,824\n",
            "│    │    └─0.bn2.weight                                                               ├─256\n",
            "│    │    └─0.bn2.bias                                                                 ├─256\n",
            "│    │    └─0.conv3.weight                                                             ├─262,144\n",
            "│    │    └─0.bn3.weight                                                               ├─1,024\n",
            "│    │    └─0.bn3.bias                                                                 ├─1,024\n",
            "│    │    └─0.downsample.0.weight                                                      ├─524,288\n",
            "│    │    └─0.downsample.1.weight                                                      ├─1,024\n",
            "│    │    └─0.downsample.1.bias                                                        ├─1,024\n",
            "│    │    └─1.conv1.weight                                                             ├─262,144\n",
            "│    │    └─1.bn1.weight                                                               ├─256\n",
            "│    │    └─1.bn1.bias                                                                 ├─256\n",
            "│    │    └─1.conv2.weight                                                             ├─589,824\n",
            "│    │    └─1.bn2.weight                                                               ├─256\n",
            "│    │    └─1.bn2.bias                                                                 ├─256\n",
            "│    │    └─1.conv3.weight                                                             ├─262,144\n",
            "│    │    └─1.bn3.weight                                                               ├─1,024\n",
            "│    │    └─1.bn3.bias                                                                 ├─1,024\n",
            "│    │    └─2.conv1.weight                                                             ├─262,144\n",
            "│    │    └─2.bn1.weight                                                               ├─256\n",
            "│    │    └─2.bn1.bias                                                                 ├─256\n",
            "│    │    └─2.conv2.weight                                                             ├─589,824\n",
            "│    │    └─2.bn2.weight                                                               ├─256\n",
            "│    │    └─2.bn2.bias                                                                 ├─256\n",
            "│    │    └─2.conv3.weight                                                             ├─262,144\n",
            "│    │    └─2.bn3.weight                                                               ├─1,024\n",
            "│    │    └─2.bn3.bias                                                                 ├─1,024\n",
            "│    │    └─3.conv1.weight                                                             ├─262,144\n",
            "│    │    └─3.bn1.weight                                                               ├─256\n",
            "│    │    └─3.bn1.bias                                                                 ├─256\n",
            "│    │    └─3.conv2.weight                                                             ├─589,824\n",
            "│    │    └─3.bn2.weight                                                               ├─256\n",
            "│    │    └─3.bn2.bias                                                                 ├─256\n",
            "│    │    └─3.conv3.weight                                                             ├─262,144\n",
            "│    │    └─3.bn3.weight                                                               ├─1,024\n",
            "│    │    └─3.bn3.bias                                                                 ├─1,024\n",
            "│    │    └─4.conv1.weight                                                             ├─262,144\n",
            "│    │    └─4.bn1.weight                                                               ├─256\n",
            "│    │    └─4.bn1.bias                                                                 ├─256\n",
            "│    │    └─4.conv2.weight                                                             ├─589,824\n",
            "│    │    └─4.bn2.weight                                                               ├─256\n",
            "│    │    └─4.bn2.bias                                                                 ├─256\n",
            "│    │    └─4.conv3.weight                                                             ├─262,144\n",
            "│    │    └─4.bn3.weight                                                               ├─1,024\n",
            "│    │    └─4.bn3.bias                                                                 ├─1,024\n",
            "│    │    └─5.conv1.weight                                                             ├─262,144\n",
            "│    │    └─5.bn1.weight                                                               ├─256\n",
            "│    │    └─5.bn1.bias                                                                 ├─256\n",
            "│    │    └─5.conv2.weight                                                             ├─589,824\n",
            "│    │    └─5.bn2.weight                                                               ├─256\n",
            "│    │    └─5.bn2.bias                                                                 ├─256\n",
            "│    │    └─5.conv3.weight                                                             ├─262,144\n",
            "│    │    └─5.bn3.weight                                                               ├─1,024\n",
            "│    │    └─5.bn3.bias                                                                 └─1,024\n",
            "│    │    └─Bottleneck: 3-8                                  [32, 1024, 14, 14]        (1,512,448)\n",
            "│    │    │    └─conv1.weight                                                          ├─131,072\n",
            "│    │    │    └─bn1.weight                                                            ├─256\n",
            "│    │    │    └─bn1.bias                                                              ├─256\n",
            "│    │    │    └─conv2.weight                                                          ├─589,824\n",
            "│    │    │    └─bn2.weight                                                            ├─256\n",
            "│    │    │    └─bn2.bias                                                              ├─256\n",
            "│    │    │    └─conv3.weight                                                          ├─262,144\n",
            "│    │    │    └─bn3.weight                                                            ├─1,024\n",
            "│    │    │    └─bn3.bias                                                              ├─1,024\n",
            "│    │    │    └─downsample.0.weight                                                   ├─524,288\n",
            "│    │    │    └─downsample.1.weight                                                   ├─1,024\n",
            "│    │    │    └─downsample.1.bias                                                     └─1,024\n",
            "│    │    └─Bottleneck: 3-9                                  [32, 1024, 14, 14]        (1,117,184)\n",
            "│    │    │    └─conv1.weight                                                          ├─262,144\n",
            "│    │    │    └─bn1.weight                                                            ├─256\n",
            "│    │    │    └─bn1.bias                                                              ├─256\n",
            "│    │    │    └─conv2.weight                                                          ├─589,824\n",
            "│    │    │    └─bn2.weight                                                            ├─256\n",
            "│    │    │    └─bn2.bias                                                              ├─256\n",
            "│    │    │    └─conv3.weight                                                          ├─262,144\n",
            "│    │    │    └─bn3.weight                                                            ├─1,024\n",
            "│    │    │    └─bn3.bias                                                              └─1,024\n",
            "│    │    └─Bottleneck: 3-10                                 [32, 1024, 14, 14]        (1,117,184)\n",
            "│    │    │    └─conv1.weight                                                          ├─262,144\n",
            "│    │    │    └─bn1.weight                                                            ├─256\n",
            "│    │    │    └─bn1.bias                                                              ├─256\n",
            "│    │    │    └─conv2.weight                                                          ├─589,824\n",
            "│    │    │    └─bn2.weight                                                            ├─256\n",
            "│    │    │    └─bn2.bias                                                              ├─256\n",
            "│    │    │    └─conv3.weight                                                          ├─262,144\n",
            "│    │    │    └─bn3.weight                                                            ├─1,024\n",
            "│    │    │    └─bn3.bias                                                              └─1,024\n",
            "│    │    └─Bottleneck: 3-11                                 [32, 1024, 14, 14]        (1,117,184)\n",
            "│    │    │    └─conv1.weight                                                          ├─262,144\n",
            "│    │    │    └─bn1.weight                                                            ├─256\n",
            "│    │    │    └─bn1.bias                                                              ├─256\n",
            "│    │    │    └─conv2.weight                                                          ├─589,824\n",
            "│    │    │    └─bn2.weight                                                            ├─256\n",
            "│    │    │    └─bn2.bias                                                              ├─256\n",
            "│    │    │    └─conv3.weight                                                          ├─262,144\n",
            "│    │    │    └─bn3.weight                                                            ├─1,024\n",
            "│    │    │    └─bn3.bias                                                              └─1,024\n",
            "│    │    └─Bottleneck: 3-12                                 [32, 1024, 14, 14]        (1,117,184)\n",
            "│    │    │    └─conv1.weight                                                          ├─262,144\n",
            "│    │    │    └─bn1.weight                                                            ├─256\n",
            "│    │    │    └─bn1.bias                                                              ├─256\n",
            "│    │    │    └─conv2.weight                                                          ├─589,824\n",
            "│    │    │    └─bn2.weight                                                            ├─256\n",
            "│    │    │    └─bn2.bias                                                              ├─256\n",
            "│    │    │    └─conv3.weight                                                          ├─262,144\n",
            "│    │    │    └─bn3.weight                                                            ├─1,024\n",
            "│    │    │    └─bn3.bias                                                              └─1,024\n",
            "│    │    └─Bottleneck: 3-13                                 [32, 1024, 14, 14]        (1,117,184)\n",
            "│    │    │    └─conv1.weight                                                          ├─262,144\n",
            "│    │    │    └─bn1.weight                                                            ├─256\n",
            "│    │    │    └─bn1.bias                                                              ├─256\n",
            "│    │    │    └─conv2.weight                                                          ├─589,824\n",
            "│    │    │    └─bn2.weight                                                            ├─256\n",
            "│    │    │    └─bn2.bias                                                              ├─256\n",
            "│    │    │    └─conv3.weight                                                          ├─262,144\n",
            "│    │    │    └─bn3.weight                                                            ├─1,024\n",
            "│    │    │    └─bn3.bias                                                              └─1,024\n",
            "│    └─Sequential: 2-8                                       [32, 2048, 7, 7]          --\n",
            "│    │    └─0.conv1.weight                                                             ├─524,288\n",
            "│    │    └─0.bn1.weight                                                               ├─512\n",
            "│    │    └─0.bn1.bias                                                                 ├─512\n",
            "│    │    └─0.conv2.weight                                                             ├─2,359,296\n",
            "│    │    └─0.bn2.weight                                                               ├─512\n",
            "│    │    └─0.bn2.bias                                                                 ├─512\n",
            "│    │    └─0.conv3.weight                                                             ├─1,048,576\n",
            "│    │    └─0.bn3.weight                                                               ├─2,048\n",
            "│    │    └─0.bn3.bias                                                                 ├─2,048\n",
            "│    │    └─0.downsample.0.weight                                                      ├─2,097,152\n",
            "│    │    └─0.downsample.1.weight                                                      ├─2,048\n",
            "│    │    └─0.downsample.1.bias                                                        ├─2,048\n",
            "│    │    └─1.conv1.weight                                                             ├─1,048,576\n",
            "│    │    └─1.bn1.weight                                                               ├─512\n",
            "│    │    └─1.bn1.bias                                                                 ├─512\n",
            "│    │    └─1.conv2.weight                                                             ├─2,359,296\n",
            "│    │    └─1.bn2.weight                                                               ├─512\n",
            "│    │    └─1.bn2.bias                                                                 ├─512\n",
            "│    │    └─1.conv3.weight                                                             ├─1,048,576\n",
            "│    │    └─1.bn3.weight                                                               ├─2,048\n",
            "│    │    └─1.bn3.bias                                                                 ├─2,048\n",
            "│    │    └─2.conv1.weight                                                             ├─1,048,576\n",
            "│    │    └─2.bn1.weight                                                               ├─512\n",
            "│    │    └─2.bn1.bias                                                                 ├─512\n",
            "│    │    └─2.conv2.weight                                                             ├─2,359,296\n",
            "│    │    └─2.bn2.weight                                                               ├─512\n",
            "│    │    └─2.bn2.bias                                                                 ├─512\n",
            "│    │    └─2.conv3.weight                                                             ├─1,048,576\n",
            "│    │    └─2.bn3.weight                                                               ├─2,048\n",
            "│    │    └─2.bn3.bias                                                                 └─2,048\n",
            "│    │    └─Bottleneck: 3-14                                 [32, 2048, 7, 7]          (6,039,552)\n",
            "│    │    │    └─conv1.weight                                                          ├─524,288\n",
            "│    │    │    └─bn1.weight                                                            ├─512\n",
            "│    │    │    └─bn1.bias                                                              ├─512\n",
            "│    │    │    └─conv2.weight                                                          ├─2,359,296\n",
            "│    │    │    └─bn2.weight                                                            ├─512\n",
            "│    │    │    └─bn2.bias                                                              ├─512\n",
            "│    │    │    └─conv3.weight                                                          ├─1,048,576\n",
            "│    │    │    └─bn3.weight                                                            ├─2,048\n",
            "│    │    │    └─bn3.bias                                                              ├─2,048\n",
            "│    │    │    └─downsample.0.weight                                                   ├─2,097,152\n",
            "│    │    │    └─downsample.1.weight                                                   ├─2,048\n",
            "│    │    │    └─downsample.1.bias                                                     └─2,048\n",
            "│    │    └─Bottleneck: 3-15                                 [32, 2048, 7, 7]          (4,462,592)\n",
            "│    │    │    └─conv1.weight                                                          ├─1,048,576\n",
            "│    │    │    └─bn1.weight                                                            ├─512\n",
            "│    │    │    └─bn1.bias                                                              ├─512\n",
            "│    │    │    └─conv2.weight                                                          ├─2,359,296\n",
            "│    │    │    └─bn2.weight                                                            ├─512\n",
            "│    │    │    └─bn2.bias                                                              ├─512\n",
            "│    │    │    └─conv3.weight                                                          ├─1,048,576\n",
            "│    │    │    └─bn3.weight                                                            ├─2,048\n",
            "│    │    │    └─bn3.bias                                                              └─2,048\n",
            "│    │    └─Bottleneck: 3-16                                 [32, 2048, 7, 7]          (4,462,592)\n",
            "│    │    │    └─conv1.weight                                                          ├─1,048,576\n",
            "│    │    │    └─bn1.weight                                                            ├─512\n",
            "│    │    │    └─bn1.bias                                                              ├─512\n",
            "│    │    │    └─conv2.weight                                                          ├─2,359,296\n",
            "│    │    │    └─bn2.weight                                                            ├─512\n",
            "│    │    │    └─bn2.bias                                                              ├─512\n",
            "│    │    │    └─conv3.weight                                                          ├─1,048,576\n",
            "│    │    │    └─bn3.weight                                                            ├─2,048\n",
            "│    │    │    └─bn3.bias                                                              └─2,048\n",
            "│    └─SelectAdaptivePool2d: 2-9                             [32, 2048]                --\n",
            "│    │    └─AdaptiveAvgPool2d: 3-17                          [32, 2048, 1, 1]          --\n",
            "│    │    └─Flatten: 3-18                                    [32, 2048]                --\n",
            "│    └─Identity: 2-10                                        [32, 2048]                --\n",
            "├─Linear: 1-2                                                [32, 9408]                19,276,992\n",
            "│    └─weight                                                                          ├─19,267,584\n",
            "│    └─bias                                                                            └─9,408\n",
            "├─ConvTranspose2d: 1-3                                       [32, 3, 224, 224]         147\n",
            "│    └─weight                                                                          ├─144\n",
            "│    └─bias                                                                            └─3\n",
            "├─LevitDistilled: 1-4                                        [32, 37]                  --\n",
            "│    └─stem.conv1.linear.weight                                                        ├─864\n",
            "│    └─stem.conv1.bn.weight                                                            ├─32\n",
            "│    └─stem.conv1.bn.bias                                                              ├─32\n",
            "│    └─stem.conv2.linear.weight                                                        ├─18,432\n",
            "│    └─stem.conv2.bn.weight                                                            ├─64\n",
            "│    └─stem.conv2.bn.bias                                                              ├─64\n",
            "│    └─stem.conv3.linear.weight                                                        ├─73,728\n",
            "│    └─stem.conv3.bn.weight                                                            ├─128\n",
            "│    └─stem.conv3.bn.bias                                                              ├─128\n",
            "│    └─stem.conv4.linear.weight                                                        ├─294,912\n",
            "│    └─stem.conv4.bn.weight                                                            ├─256\n",
            "│    └─stem.conv4.bn.bias                                                              ├─256\n",
            "│    └─stage1.layers.0.weight                                                          ├─65,536\n",
            "│    └─stage1.layers.0.bias                                                            ├─256\n",
            "│    └─stage1.layers.1.weight                                                          ├─65,536\n",
            "│    └─stage1.layers.1.bias                                                            ├─256\n",
            "│    └─stage1.layers.2.weight                                                          ├─65,536\n",
            "│    └─stage1.layers.2.bias                                                            ├─256\n",
            "│    └─stage1.layers.3.weight                                                          ├─256\n",
            "│    └─stage1.layers.3.bias                                                            ├─256\n",
            "│    └─stage2.downsample.attn_downsample.kv.linear.weight                              ├─786,432\n",
            "│    └─stage2.downsample.attn_downsample.kv.bn.weight                                  ├─3,072\n",
            "│    └─stage2.downsample.attn_downsample.kv.bn.bias                                    ├─3,072\n",
            "│    └─stage2.downsample.attn_downsample.q.0.weight                                    ├─262,144\n",
            "│    └─stage2.downsample.attn_downsample.q.0.bias                                      ├─256\n",
            "│    └─stage2.downsample.attn_downsample.proj.1.linear.weight                           ├─98,304\n",
            "│    └─stage2.downsample.attn_downsample.proj.1.bn.weight                              ├─384\n",
            "│    └─stage2.downsample.attn_downsample.proj.1.bn.bias                                ├─384\n",
            "│    └─stage2.downsample.mlp.ln1.linear.weight                                         ├─294,912\n",
            "│    └─stage2.downsample.mlp.ln1.bn.weight                                             ├─768\n",
            "│    └─stage2.downsample.mlp.ln1.bn.bias                                               ├─768\n",
            "│    └─stage2.downsample.mlp.ln2.linear.weight                                         ├─294,912\n",
            "│    └─stage2.downsample.mlp.ln2.bn.weight                                             ├─384\n",
            "│    └─stage2.downsample.mlp.ln2.bn.bias                                               ├─384\n",
            "│    └─stage2.blocks.0.attn.qkv.linear.weight                                          ├─442,368\n",
            "│    └─stage2.blocks.0.attn.qkv.bn.weight                                              ├─1,152\n",
            "│    └─stage2.blocks.0.attn.qkv.bn.bias                                                ├─1,152\n",
            "│    └─stage2.blocks.0.attn.proj.1.linear.weight                                       ├─147,456\n",
            "│    └─stage2.blocks.0.attn.proj.1.bn.weight                                           ├─384\n",
            "│    └─stage2.blocks.0.attn.proj.1.bn.bias                                             ├─384\n",
            "│    └─stage2.blocks.0.mlp.ln1.linear.weight                                           ├─294,912\n",
            "│    └─stage2.blocks.0.mlp.ln1.bn.weight                                               ├─768\n",
            "│    └─stage2.blocks.0.mlp.ln1.bn.bias                                                 ├─768\n",
            "│    └─stage2.blocks.0.mlp.ln2.linear.weight                                           ├─294,912\n",
            "│    └─stage2.blocks.0.mlp.ln2.bn.weight                                               ├─384\n",
            "│    └─stage2.blocks.0.mlp.ln2.bn.bias                                                 ├─384\n",
            "│    └─stage2.blocks.1.attn.qkv.linear.weight                                          ├─442,368\n",
            "│    └─stage2.blocks.1.attn.qkv.bn.weight                                              ├─1,152\n",
            "│    └─stage2.blocks.1.attn.qkv.bn.bias                                                ├─1,152\n",
            "│    └─stage2.blocks.1.attn.proj.1.linear.weight                                       ├─147,456\n",
            "│    └─stage2.blocks.1.attn.proj.1.bn.weight                                           ├─384\n",
            "│    └─stage2.blocks.1.attn.proj.1.bn.bias                                             ├─384\n",
            "│    └─stage2.blocks.1.mlp.ln1.linear.weight                                           ├─294,912\n",
            "│    └─stage2.blocks.1.mlp.ln1.bn.weight                                               ├─768\n",
            "│    └─stage2.blocks.1.mlp.ln1.bn.bias                                                 ├─768\n",
            "│    └─stage2.blocks.1.mlp.ln2.linear.weight                                           ├─294,912\n",
            "│    └─stage2.blocks.1.mlp.ln2.bn.weight                                               ├─384\n",
            "│    └─stage2.blocks.1.mlp.ln2.bn.bias                                                 ├─384\n",
            "│    └─stage2.blocks.2.attn.qkv.linear.weight                                          ├─442,368\n",
            "│    └─stage2.blocks.2.attn.qkv.bn.weight                                              ├─1,152\n",
            "│    └─stage2.blocks.2.attn.qkv.bn.bias                                                ├─1,152\n",
            "│    └─stage2.blocks.2.attn.proj.1.linear.weight                                       ├─147,456\n",
            "│    └─stage2.blocks.2.attn.proj.1.bn.weight                                           ├─384\n",
            "│    └─stage2.blocks.2.attn.proj.1.bn.bias                                             ├─384\n",
            "│    └─stage2.blocks.2.mlp.ln1.linear.weight                                           ├─294,912\n",
            "│    └─stage2.blocks.2.mlp.ln1.bn.weight                                               ├─768\n",
            "│    └─stage2.blocks.2.mlp.ln1.bn.bias                                                 ├─768\n",
            "│    └─stage2.blocks.2.mlp.ln2.linear.weight                                           ├─294,912\n",
            "│    └─stage2.blocks.2.mlp.ln2.bn.weight                                               ├─384\n",
            "│    └─stage2.blocks.2.mlp.ln2.bn.bias                                                 ├─384\n",
            "│    └─stage3.downsample.attn_downsample.kv.linear.weight                              ├─2,359,296\n",
            "│    └─stage3.downsample.attn_downsample.kv.bn.weight                                  ├─6,144\n",
            "│    └─stage3.downsample.attn_downsample.kv.bn.bias                                    ├─6,144\n",
            "│    └─stage3.downsample.attn_downsample.q.0.weight                                    ├─589,824\n",
            "│    └─stage3.downsample.attn_downsample.q.0.bias                                      ├─384\n",
            "│    └─stage3.downsample.attn_downsample.proj.1.linear.weight                           ├─196,608\n",
            "│    └─stage3.downsample.attn_downsample.proj.1.bn.weight                              ├─512\n",
            "│    └─stage3.downsample.attn_downsample.proj.1.bn.bias                                ├─512\n",
            "│    └─stage3.downsample.mlp.ln1.linear.weight                                         ├─524,288\n",
            "│    └─stage3.downsample.mlp.ln1.bn.weight                                             ├─1,024\n",
            "│    └─stage3.downsample.mlp.ln1.bn.bias                                               ├─1,024\n",
            "│    └─stage3.downsample.mlp.ln2.linear.weight                                         ├─524,288\n",
            "│    └─stage3.downsample.mlp.ln2.bn.weight                                             ├─512\n",
            "│    └─stage3.downsample.mlp.ln2.bn.bias                                               ├─512\n",
            "│    └─stage3.blocks.0.attn.qkv.linear.weight                                          ├─786,432\n",
            "│    └─stage3.blocks.0.attn.qkv.bn.weight                                              ├─1,536\n",
            "│    └─stage3.blocks.0.attn.qkv.bn.bias                                                ├─1,536\n",
            "│    └─stage3.blocks.0.attn.proj.1.linear.weight                                       ├─262,144\n",
            "│    └─stage3.blocks.0.attn.proj.1.bn.weight                                           ├─512\n",
            "│    └─stage3.blocks.0.attn.proj.1.bn.bias                                             ├─512\n",
            "│    └─stage3.blocks.0.mlp.ln1.linear.weight                                           ├─524,288\n",
            "│    └─stage3.blocks.0.mlp.ln1.bn.weight                                               ├─1,024\n",
            "│    └─stage3.blocks.0.mlp.ln1.bn.bias                                                 ├─1,024\n",
            "│    └─stage3.blocks.0.mlp.ln2.linear.weight                                           ├─524,288\n",
            "│    └─stage3.blocks.0.mlp.ln2.bn.weight                                               ├─512\n",
            "│    └─stage3.blocks.0.mlp.ln2.bn.bias                                                 ├─512\n",
            "│    └─stage3.blocks.1.attn.qkv.linear.weight                                          ├─786,432\n",
            "│    └─stage3.blocks.1.attn.qkv.bn.weight                                              ├─1,536\n",
            "│    └─stage3.blocks.1.attn.qkv.bn.bias                                                ├─1,536\n",
            "│    └─stage3.blocks.1.attn.proj.1.linear.weight                                       ├─262,144\n",
            "│    └─stage3.blocks.1.attn.proj.1.bn.weight                                           ├─512\n",
            "│    └─stage3.blocks.1.attn.proj.1.bn.bias                                             ├─512\n",
            "│    └─stage3.blocks.1.mlp.ln1.linear.weight                                           ├─524,288\n",
            "│    └─stage3.blocks.1.mlp.ln1.bn.weight                                               ├─1,024\n",
            "│    └─stage3.blocks.1.mlp.ln1.bn.bias                                                 ├─1,024\n",
            "│    └─stage3.blocks.1.mlp.ln2.linear.weight                                           ├─524,288\n",
            "│    └─stage3.blocks.1.mlp.ln2.bn.weight                                               ├─512\n",
            "│    └─stage3.blocks.1.mlp.ln2.bn.bias                                                 ├─512\n",
            "│    └─head.bn.weight                                                                  ├─512\n",
            "│    └─head.bn.bias                                                                    ├─512\n",
            "│    └─head.linear.weight                                                              ├─18,944\n",
            "│    └─head.linear.bias                                                                ├─37\n",
            "│    └─head_dist.bn.weight                                                             ├─512\n",
            "│    └─head_dist.bn.bias                                                               ├─512\n",
            "│    └─head_dist.linear.weight                                                         ├─18,944\n",
            "│    └─head_dist.linear.bias                                                           └─37\n",
            "│    └─Stem16: 2-11                                          [32, 256, 14, 14]         --\n",
            "│    │    └─conv1.linear.weight                                                        ├─864\n",
            "│    │    └─conv1.bn.weight                                                            ├─32\n",
            "│    │    └─conv1.bn.bias                                                              ├─32\n",
            "│    │    └─conv2.linear.weight                                                        ├─18,432\n",
            "│    │    └─conv2.bn.weight                                                            ├─64\n",
            "│    │    └─conv2.bn.bias                                                              ├─64\n",
            "│    │    └─conv3.linear.weight                                                        ├─73,728\n",
            "│    │    └─conv3.bn.weight                                                            ├─128\n",
            "│    │    └─conv3.bn.bias                                                              ├─128\n",
            "│    │    └─conv4.linear.weight                                                        ├─294,912\n",
            "│    │    └─conv4.bn.weight                                                            ├─256\n",
            "│    │    └─conv4.bn.bias                                                              └─256\n",
            "│    │    └─ConvNorm: 3-19                                   [32, 32, 112, 112]        928\n",
            "│    │    │    └─linear.weight                                                         ├─864\n",
            "│    │    │    └─bn.weight                                                             ├─32\n",
            "│    │    │    └─bn.bias                                                               └─32\n",
            "│    │    └─Hardswish: 3-20                                  [32, 32, 112, 112]        --\n",
            "│    │    └─ConvNorm: 3-21                                   [32, 64, 56, 56]          18,560\n",
            "│    │    │    └─linear.weight                                                         ├─18,432\n",
            "│    │    │    └─bn.weight                                                             ├─64\n",
            "│    │    │    └─bn.bias                                                               └─64\n",
            "│    │    └─Hardswish: 3-22                                  [32, 64, 56, 56]          --\n",
            "│    │    └─ConvNorm: 3-23                                   [32, 128, 28, 28]         73,984\n",
            "│    │    │    └─linear.weight                                                         ├─73,728\n",
            "│    │    │    └─bn.weight                                                             ├─128\n",
            "│    │    │    └─bn.bias                                                               └─128\n",
            "│    │    └─Hardswish: 3-24                                  [32, 128, 28, 28]         --\n",
            "│    │    └─ConvNorm: 3-25                                   [32, 256, 14, 14]         295,424\n",
            "│    │    │    └─linear.weight                                                         ├─294,912\n",
            "│    │    │    └─bn.weight                                                             ├─256\n",
            "│    │    │    └─bn.bias                                                               └─256\n",
            "│    └─ConvLevitStage: 2-12                                  [32, 256, 14, 14]         --\n",
            "│    │    └─layers.0.weight                                                            ├─65,536\n",
            "│    │    └─layers.0.bias                                                              ├─256\n",
            "│    │    └─layers.1.weight                                                            ├─65,536\n",
            "│    │    └─layers.1.bias                                                              ├─256\n",
            "│    │    └─layers.2.weight                                                            ├─65,536\n",
            "│    │    └─layers.2.bias                                                              ├─256\n",
            "│    │    └─layers.3.weight                                                            ├─256\n",
            "│    │    └─layers.3.bias                                                              └─256\n",
            "│    │    └─Sequential: 3-26                                 [32, 256, 14, 14]         197,888\n",
            "│    │    │    └─0.weight                                                              ├─65,536\n",
            "│    │    │    └─0.bias                                                                ├─256\n",
            "│    │    │    └─1.weight                                                              ├─65,536\n",
            "│    │    │    └─1.bias                                                                ├─256\n",
            "│    │    │    └─2.weight                                                              ├─65,536\n",
            "│    │    │    └─2.bias                                                                ├─256\n",
            "│    │    │    └─3.weight                                                              ├─256\n",
            "│    │    │    └─3.bias                                                                └─256\n",
            "│    └─LevitStage: 2-13                                      [32, 49, 384]             --\n",
            "│    │    └─downsample.attn_downsample.kv.linear.weight                                ├─786,432\n",
            "│    │    └─downsample.attn_downsample.kv.bn.weight                                    ├─3,072\n",
            "│    │    └─downsample.attn_downsample.kv.bn.bias                                      ├─3,072\n",
            "│    │    └─downsample.attn_downsample.q.0.weight                                      ├─262,144\n",
            "│    │    └─downsample.attn_downsample.q.0.bias                                        ├─256\n",
            "│    │    └─downsample.attn_downsample.proj.1.linear.weight                            ├─98,304\n",
            "│    │    └─downsample.attn_downsample.proj.1.bn.weight                                ├─384\n",
            "│    │    └─downsample.attn_downsample.proj.1.bn.bias                                  ├─384\n",
            "│    │    └─downsample.mlp.ln1.linear.weight                                           ├─294,912\n",
            "│    │    └─downsample.mlp.ln1.bn.weight                                               ├─768\n",
            "│    │    └─downsample.mlp.ln1.bn.bias                                                 ├─768\n",
            "│    │    └─downsample.mlp.ln2.linear.weight                                           ├─294,912\n",
            "│    │    └─downsample.mlp.ln2.bn.weight                                               ├─384\n",
            "│    │    └─downsample.mlp.ln2.bn.bias                                                 ├─384\n",
            "│    │    └─blocks.0.attn.qkv.linear.weight                                            ├─442,368\n",
            "│    │    └─blocks.0.attn.qkv.bn.weight                                                ├─1,152\n",
            "│    │    └─blocks.0.attn.qkv.bn.bias                                                  ├─1,152\n",
            "│    │    └─blocks.0.attn.proj.1.linear.weight                                         ├─147,456\n",
            "│    │    └─blocks.0.attn.proj.1.bn.weight                                             ├─384\n",
            "│    │    └─blocks.0.attn.proj.1.bn.bias                                               ├─384\n",
            "│    │    └─blocks.0.mlp.ln1.linear.weight                                             ├─294,912\n",
            "│    │    └─blocks.0.mlp.ln1.bn.weight                                                 ├─768\n",
            "│    │    └─blocks.0.mlp.ln1.bn.bias                                                   ├─768\n",
            "│    │    └─blocks.0.mlp.ln2.linear.weight                                             ├─294,912\n",
            "│    │    └─blocks.0.mlp.ln2.bn.weight                                                 ├─384\n",
            "│    │    └─blocks.0.mlp.ln2.bn.bias                                                   ├─384\n",
            "│    │    └─blocks.1.attn.qkv.linear.weight                                            ├─442,368\n",
            "│    │    └─blocks.1.attn.qkv.bn.weight                                                ├─1,152\n",
            "│    │    └─blocks.1.attn.qkv.bn.bias                                                  ├─1,152\n",
            "│    │    └─blocks.1.attn.proj.1.linear.weight                                         ├─147,456\n",
            "│    │    └─blocks.1.attn.proj.1.bn.weight                                             ├─384\n",
            "│    │    └─blocks.1.attn.proj.1.bn.bias                                               ├─384\n",
            "│    │    └─blocks.1.mlp.ln1.linear.weight                                             ├─294,912\n",
            "│    │    └─blocks.1.mlp.ln1.bn.weight                                                 ├─768\n",
            "│    │    └─blocks.1.mlp.ln1.bn.bias                                                   ├─768\n",
            "│    │    └─blocks.1.mlp.ln2.linear.weight                                             ├─294,912\n",
            "│    │    └─blocks.1.mlp.ln2.bn.weight                                                 ├─384\n",
            "│    │    └─blocks.1.mlp.ln2.bn.bias                                                   ├─384\n",
            "│    │    └─blocks.2.attn.qkv.linear.weight                                            ├─442,368\n",
            "│    │    └─blocks.2.attn.qkv.bn.weight                                                ├─1,152\n",
            "│    │    └─blocks.2.attn.qkv.bn.bias                                                  ├─1,152\n",
            "│    │    └─blocks.2.attn.proj.1.linear.weight                                         ├─147,456\n",
            "│    │    └─blocks.2.attn.proj.1.bn.weight                                             ├─384\n",
            "│    │    └─blocks.2.attn.proj.1.bn.bias                                               ├─384\n",
            "│    │    └─blocks.2.mlp.ln1.linear.weight                                             ├─294,912\n",
            "│    │    └─blocks.2.mlp.ln1.bn.weight                                                 ├─768\n",
            "│    │    └─blocks.2.mlp.ln1.bn.bias                                                   ├─768\n",
            "│    │    └─blocks.2.mlp.ln2.linear.weight                                             ├─294,912\n",
            "│    │    └─blocks.2.mlp.ln2.bn.weight                                                 ├─384\n",
            "│    │    └─blocks.2.mlp.ln2.bn.bias                                                   └─384\n",
            "│    │    └─LevitDownsample: 3-27                            [32, 49, 384]             1,746,176\n",
            "│    │    │    └─attn_downsample.kv.linear.weight                                      ├─786,432\n",
            "│    │    │    └─attn_downsample.kv.bn.weight                                          ├─3,072\n",
            "│    │    │    └─attn_downsample.kv.bn.bias                                            ├─3,072\n",
            "│    │    │    └─attn_downsample.q.0.weight                                            ├─262,144\n",
            "│    │    │    └─attn_downsample.q.0.bias                                              ├─256\n",
            "│    │    │    └─attn_downsample.proj.1.linear.weight                                  ├─98,304\n",
            "│    │    │    └─attn_downsample.proj.1.bn.weight                                      ├─384\n",
            "│    │    │    └─attn_downsample.proj.1.bn.bias                                        ├─384\n",
            "│    │    │    └─mlp.ln1.linear.weight                                                 ├─294,912\n",
            "│    │    │    └─mlp.ln1.bn.weight                                                     ├─768\n",
            "│    │    │    └─mlp.ln1.bn.bias                                                       ├─768\n",
            "│    │    │    └─mlp.ln2.linear.weight                                                 ├─294,912\n",
            "│    │    │    └─mlp.ln2.bn.weight                                                     ├─384\n",
            "│    │    │    └─mlp.ln2.bn.bias                                                       └─384\n",
            "│    │    └─Sequential: 3-28                                 [32, 49, 384]             3,555,072\n",
            "│    │    │    └─0.attn.qkv.linear.weight                                              ├─442,368\n",
            "│    │    │    └─0.attn.qkv.bn.weight                                                  ├─1,152\n",
            "│    │    │    └─0.attn.qkv.bn.bias                                                    ├─1,152\n",
            "│    │    │    └─0.attn.proj.1.linear.weight                                           ├─147,456\n",
            "│    │    │    └─0.attn.proj.1.bn.weight                                               ├─384\n",
            "│    │    │    └─0.attn.proj.1.bn.bias                                                 ├─384\n",
            "│    │    │    └─0.mlp.ln1.linear.weight                                               ├─294,912\n",
            "│    │    │    └─0.mlp.ln1.bn.weight                                                   ├─768\n",
            "│    │    │    └─0.mlp.ln1.bn.bias                                                     ├─768\n",
            "│    │    │    └─0.mlp.ln2.linear.weight                                               ├─294,912\n",
            "│    │    │    └─0.mlp.ln2.bn.weight                                                   ├─384\n",
            "│    │    │    └─0.mlp.ln2.bn.bias                                                     ├─384\n",
            "│    │    │    └─1.attn.qkv.linear.weight                                              ├─442,368\n",
            "│    │    │    └─1.attn.qkv.bn.weight                                                  ├─1,152\n",
            "│    │    │    └─1.attn.qkv.bn.bias                                                    ├─1,152\n",
            "│    │    │    └─1.attn.proj.1.linear.weight                                           ├─147,456\n",
            "│    │    │    └─1.attn.proj.1.bn.weight                                               ├─384\n",
            "│    │    │    └─1.attn.proj.1.bn.bias                                                 ├─384\n",
            "│    │    │    └─1.mlp.ln1.linear.weight                                               ├─294,912\n",
            "│    │    │    └─1.mlp.ln1.bn.weight                                                   ├─768\n",
            "│    │    │    └─1.mlp.ln1.bn.bias                                                     ├─768\n",
            "│    │    │    └─1.mlp.ln2.linear.weight                                               ├─294,912\n",
            "│    │    │    └─1.mlp.ln2.bn.weight                                                   ├─384\n",
            "│    │    │    └─1.mlp.ln2.bn.bias                                                     ├─384\n",
            "│    │    │    └─2.attn.qkv.linear.weight                                              ├─442,368\n",
            "│    │    │    └─2.attn.qkv.bn.weight                                                  ├─1,152\n",
            "│    │    │    └─2.attn.qkv.bn.bias                                                    ├─1,152\n",
            "│    │    │    └─2.attn.proj.1.linear.weight                                           ├─147,456\n",
            "│    │    │    └─2.attn.proj.1.bn.weight                                               ├─384\n",
            "│    │    │    └─2.attn.proj.1.bn.bias                                                 ├─384\n",
            "│    │    │    └─2.mlp.ln1.linear.weight                                               ├─294,912\n",
            "│    │    │    └─2.mlp.ln1.bn.weight                                                   ├─768\n",
            "│    │    │    └─2.mlp.ln1.bn.bias                                                     ├─768\n",
            "│    │    │    └─2.mlp.ln2.linear.weight                                               ├─294,912\n",
            "│    │    │    └─2.mlp.ln2.bn.weight                                                   ├─384\n",
            "│    │    │    └─2.mlp.ln2.bn.bias                                                     └─384\n",
            "│    └─LevitStage: 2-14                                      [32, 9, 512]              --\n",
            "│    │    └─downsample.attn_downsample.kv.linear.weight                                ├─2,359,296\n",
            "│    │    └─downsample.attn_downsample.kv.bn.weight                                    ├─6,144\n",
            "│    │    └─downsample.attn_downsample.kv.bn.bias                                      ├─6,144\n",
            "│    │    └─downsample.attn_downsample.q.0.weight                                      ├─589,824\n",
            "│    │    └─downsample.attn_downsample.q.0.bias                                        ├─384\n",
            "│    │    └─downsample.attn_downsample.proj.1.linear.weight                            ├─196,608\n",
            "│    │    └─downsample.attn_downsample.proj.1.bn.weight                                ├─512\n",
            "│    │    └─downsample.attn_downsample.proj.1.bn.bias                                  ├─512\n",
            "│    │    └─downsample.mlp.ln1.linear.weight                                           ├─524,288\n",
            "│    │    └─downsample.mlp.ln1.bn.weight                                               ├─1,024\n",
            "│    │    └─downsample.mlp.ln1.bn.bias                                                 ├─1,024\n",
            "│    │    └─downsample.mlp.ln2.linear.weight                                           ├─524,288\n",
            "│    │    └─downsample.mlp.ln2.bn.weight                                               ├─512\n",
            "│    │    └─downsample.mlp.ln2.bn.bias                                                 ├─512\n",
            "│    │    └─blocks.0.attn.qkv.linear.weight                                            ├─786,432\n",
            "│    │    └─blocks.0.attn.qkv.bn.weight                                                ├─1,536\n",
            "│    │    └─blocks.0.attn.qkv.bn.bias                                                  ├─1,536\n",
            "│    │    └─blocks.0.attn.proj.1.linear.weight                                         ├─262,144\n",
            "│    │    └─blocks.0.attn.proj.1.bn.weight                                             ├─512\n",
            "│    │    └─blocks.0.attn.proj.1.bn.bias                                               ├─512\n",
            "│    │    └─blocks.0.mlp.ln1.linear.weight                                             ├─524,288\n",
            "│    │    └─blocks.0.mlp.ln1.bn.weight                                                 ├─1,024\n",
            "│    │    └─blocks.0.mlp.ln1.bn.bias                                                   ├─1,024\n",
            "│    │    └─blocks.0.mlp.ln2.linear.weight                                             ├─524,288\n",
            "│    │    └─blocks.0.mlp.ln2.bn.weight                                                 ├─512\n",
            "│    │    └─blocks.0.mlp.ln2.bn.bias                                                   ├─512\n",
            "│    │    └─blocks.1.attn.qkv.linear.weight                                            ├─786,432\n",
            "│    │    └─blocks.1.attn.qkv.bn.weight                                                ├─1,536\n",
            "│    │    └─blocks.1.attn.qkv.bn.bias                                                  ├─1,536\n",
            "│    │    └─blocks.1.attn.proj.1.linear.weight                                         ├─262,144\n",
            "│    │    └─blocks.1.attn.proj.1.bn.weight                                             ├─512\n",
            "│    │    └─blocks.1.attn.proj.1.bn.bias                                               ├─512\n",
            "│    │    └─blocks.1.mlp.ln1.linear.weight                                             ├─524,288\n",
            "│    │    └─blocks.1.mlp.ln1.bn.weight                                                 ├─1,024\n",
            "│    │    └─blocks.1.mlp.ln1.bn.bias                                                   ├─1,024\n",
            "│    │    └─blocks.1.mlp.ln2.linear.weight                                             ├─524,288\n",
            "│    │    └─blocks.1.mlp.ln2.bn.weight                                                 ├─512\n",
            "│    │    └─blocks.1.mlp.ln2.bn.bias                                                   └─512\n",
            "│    │    └─LevitDownsample: 3-29                            [32, 9, 512]              4,211,072\n",
            "│    │    │    └─attn_downsample.kv.linear.weight                                      ├─2,359,296\n",
            "│    │    │    └─attn_downsample.kv.bn.weight                                          ├─6,144\n",
            "│    │    │    └─attn_downsample.kv.bn.bias                                            ├─6,144\n",
            "│    │    │    └─attn_downsample.q.0.weight                                            ├─589,824\n",
            "│    │    │    └─attn_downsample.q.0.bias                                              ├─384\n",
            "│    │    │    └─attn_downsample.proj.1.linear.weight                                  ├─196,608\n",
            "│    │    │    └─attn_downsample.proj.1.bn.weight                                      ├─512\n",
            "│    │    │    └─attn_downsample.proj.1.bn.bias                                        ├─512\n",
            "│    │    │    └─mlp.ln1.linear.weight                                                 ├─524,288\n",
            "│    │    │    └─mlp.ln1.bn.weight                                                     ├─1,024\n",
            "│    │    │    └─mlp.ln1.bn.bias                                                       ├─1,024\n",
            "│    │    │    └─mlp.ln2.linear.weight                                                 ├─524,288\n",
            "│    │    │    └─mlp.ln2.bn.weight                                                     ├─512\n",
            "│    │    │    └─mlp.ln2.bn.bias                                                       └─512\n",
            "│    │    └─Sequential: 3-30                                 [32, 9, 512]              4,208,640\n",
            "│    │    │    └─0.attn.qkv.linear.weight                                              ├─786,432\n",
            "│    │    │    └─0.attn.qkv.bn.weight                                                  ├─1,536\n",
            "│    │    │    └─0.attn.qkv.bn.bias                                                    ├─1,536\n",
            "│    │    │    └─0.attn.proj.1.linear.weight                                           ├─262,144\n",
            "│    │    │    └─0.attn.proj.1.bn.weight                                               ├─512\n",
            "│    │    │    └─0.attn.proj.1.bn.bias                                                 ├─512\n",
            "│    │    │    └─0.mlp.ln1.linear.weight                                               ├─524,288\n",
            "│    │    │    └─0.mlp.ln1.bn.weight                                                   ├─1,024\n",
            "│    │    │    └─0.mlp.ln1.bn.bias                                                     ├─1,024\n",
            "│    │    │    └─0.mlp.ln2.linear.weight                                               ├─524,288\n",
            "│    │    │    └─0.mlp.ln2.bn.weight                                                   ├─512\n",
            "│    │    │    └─0.mlp.ln2.bn.bias                                                     ├─512\n",
            "│    │    │    └─1.attn.qkv.linear.weight                                              ├─786,432\n",
            "│    │    │    └─1.attn.qkv.bn.weight                                                  ├─1,536\n",
            "│    │    │    └─1.attn.qkv.bn.bias                                                    ├─1,536\n",
            "│    │    │    └─1.attn.proj.1.linear.weight                                           ├─262,144\n",
            "│    │    │    └─1.attn.proj.1.bn.weight                                               ├─512\n",
            "│    │    │    └─1.attn.proj.1.bn.bias                                                 ├─512\n",
            "│    │    │    └─1.mlp.ln1.linear.weight                                               ├─524,288\n",
            "│    │    │    └─1.mlp.ln1.bn.weight                                                   ├─1,024\n",
            "│    │    │    └─1.mlp.ln1.bn.bias                                                     ├─1,024\n",
            "│    │    │    └─1.mlp.ln2.linear.weight                                               ├─524,288\n",
            "│    │    │    └─1.mlp.ln2.bn.weight                                                   ├─512\n",
            "│    │    │    └─1.mlp.ln2.bn.bias                                                     └─512\n",
            "│    └─NormLinear: 2-15                                      [32, 37]                  --\n",
            "│    │    └─bn.weight                                                                  ├─512\n",
            "│    │    └─bn.bias                                                                    ├─512\n",
            "│    │    └─linear.weight                                                              ├─18,944\n",
            "│    │    └─linear.bias                                                                └─37\n",
            "│    │    └─BatchNorm1d: 3-31                                [32, 512]                 1,024\n",
            "│    │    │    └─weight                                                                ├─512\n",
            "│    │    │    └─bias                                                                  └─512\n",
            "│    │    └─Dropout: 3-32                                    [32, 512]                 --\n",
            "│    │    └─Linear: 3-33                                     [32, 37]                  18,981\n",
            "│    │    │    └─weight                                                                ├─18,944\n",
            "│    │    │    └─bias                                                                  └─37\n",
            "│    └─NormLinear: 2-16                                      [32, 37]                  --\n",
            "│    │    └─bn.weight                                                                  ├─512\n",
            "│    │    └─bn.bias                                                                    ├─512\n",
            "│    │    └─linear.weight                                                              ├─18,944\n",
            "│    │    └─linear.bias                                                                └─37\n",
            "│    │    └─BatchNorm1d: 3-34                                [32, 512]                 1,024\n",
            "│    │    │    └─weight                                                                ├─512\n",
            "│    │    │    └─bias                                                                  └─512\n",
            "│    │    └─Dropout: 3-35                                    [32, 512]                 --\n",
            "│    │    └─Linear: 3-36                                     [32, 37]                  18,981\n",
            "│    │    │    └─weight                                                                ├─18,944\n",
            "│    │    │    └─bias                                                                  └─37\n",
            "==============================================================================================================\n",
            "Total params: 57,132,925\n",
            "Trainable params: 33,624,893\n",
            "Non-trainable params: 23,508,032\n",
            "Total mult-adds (G): 156.28\n",
            "==============================================================================================================\n",
            "Input size (MB): 19.27\n",
            "Forward/backward pass size (MB): 6918.15\n",
            "Params size (MB): 228.53\n",
            "Estimated Total Size (MB): 7165.95\n",
            "==============================================================================================================\n"
          ]
        }
      ],
      "source": [
        "print(summary(model, input_size=(32, 3, 224, 224), verbose=2))"
      ]
    },
    {
      "cell_type": "code",
      "source": [
        "model = LauncherModel().to(device)\n",
        "\n",
        "# 더미 입력 생성 (예: (32, 3, 224, 224))\n",
        "dummy_input = torch.randn(32, 3, 224, 224).to(device)\n",
        "\n",
        "# 각 단계의 출력 크기 확인\n",
        "print(\"Input shape:\", dummy_input.shape)\n",
        "x = dummy_input\n",
        "\n",
        "x = model.resnet(x)\n",
        "print(\"After ResNet:\", x.shape)\n",
        "\n",
        "x = model.fc(x)\n",
        "x = x.view(x.size(0), 3, 56, 56)\n",
        "print(\"After fc reshape:\", x.shape)\n",
        "\n",
        "x = model.upsample(x)\n",
        "print(\"After upsampling:\", x.shape)\n",
        "\n",
        "x = model.levit(x)\n",
        "print(\"After LevitDistilled:\", x.shape)\n"
      ],
      "metadata": {
        "colab": {
          "base_uri": "https://localhost:8080/"
        },
        "id": "MV8-3XGV5UvG",
        "outputId": "72cdfb0a-bf35-41f7-c200-3d0ed7ca1039"
      },
      "execution_count": 102,
      "outputs": [
        {
          "output_type": "stream",
          "name": "stdout",
          "text": [
            "Input shape: torch.Size([32, 3, 224, 224])\n",
            "After ResNet: torch.Size([32, 2048])\n",
            "After fc reshape: torch.Size([32, 3, 56, 56])\n",
            "After upsampling: torch.Size([32, 3, 224, 224])\n",
            "After LevitDistilled: torch.Size([32, 37])\n"
          ]
        }
      ]
    },
    {
      "cell_type": "code",
      "execution_count": 104,
      "metadata": {
        "id": "TOaIwHDSzBP3"
      },
      "outputs": [],
      "source": [
        "transform = transforms.Compose([\n",
        "    transforms.Resize((224, 224)),\n",
        "    transforms.ToTensor(),\n",
        "    transforms.Normalize(mean=[0.485, 0.456, 0.406], std=[0.229, 0.224, 0.225]),\n",
        "])"
      ]
    },
    {
      "cell_type": "code",
      "execution_count": 105,
      "metadata": {
        "colab": {
          "base_uri": "https://localhost:8080/"
        },
        "id": "N0Ww6weVzBP4",
        "outputId": "ee2a936c-92e1-4d5d-9395-470a2ad12dc2"
      },
      "outputs": [
        {
          "output_type": "stream",
          "name": "stdout",
          "text": [
            "Downloading https://thor.robots.ox.ac.uk/pets/images.tar.gz to data/oxford-iiit-pet/images.tar.gz\n"
          ]
        },
        {
          "output_type": "stream",
          "name": "stderr",
          "text": [
            "100%|██████████| 792M/792M [00:37<00:00, 21.1MB/s]\n"
          ]
        },
        {
          "output_type": "stream",
          "name": "stdout",
          "text": [
            "Extracting data/oxford-iiit-pet/images.tar.gz to data/oxford-iiit-pet\n",
            "Downloading https://thor.robots.ox.ac.uk/pets/annotations.tar.gz to data/oxford-iiit-pet/annotations.tar.gz\n"
          ]
        },
        {
          "output_type": "stream",
          "name": "stderr",
          "text": [
            "100%|██████████| 19.2M/19.2M [00:02<00:00, 9.12MB/s]\n"
          ]
        },
        {
          "output_type": "stream",
          "name": "stdout",
          "text": [
            "Extracting data/oxford-iiit-pet/annotations.tar.gz to data/oxford-iiit-pet\n"
          ]
        }
      ],
      "source": [
        "trainval_data = datasets.OxfordIIITPet(root=\"data\", split=\"trainval\", target_types=\"category\", download=True, transform=transform)\n",
        "test_data = datasets.OxfordIIITPet(root=\"data\", split=\"test\", target_types=\"category\", download=True, transform=transform)\n",
        "combined_data = ConcatDataset([trainval_data, test_data])\n",
        "\n",
        "train_size = int(0.7 * len(combined_data))\n",
        "val_size = int(0.15 * len(combined_data))\n",
        "test_size = len(combined_data) - train_size - val_size\n",
        "train_data, val_data, test_data = random_split(combined_data, [train_size, val_size, test_size])"
      ]
    },
    {
      "cell_type": "code",
      "execution_count": 106,
      "metadata": {
        "colab": {
          "base_uri": "https://localhost:8080/"
        },
        "id": "S4sK4r0FzBP4",
        "outputId": "05f1413a-bba0-4de5-9ea4-7327850e019d"
      },
      "outputs": [
        {
          "output_type": "stream",
          "name": "stdout",
          "text": [
            "Train set size: 5144\n",
            "Validation set size: 1102\n",
            "Test set size: 1103\n"
          ]
        }
      ],
      "source": [
        "train_loader = DataLoader(train_data, batch_size=batch_size, shuffle=True)\n",
        "val_loader = DataLoader(val_data, batch_size=batch_size, shuffle=False)\n",
        "test_loader = DataLoader(test_data, batch_size=batch_size, shuffle=False)\n",
        "\n",
        "print(f\"Train set size: {len(train_data)}\")\n",
        "print(f\"Validation set size: {len(val_data)}\")\n",
        "print(f\"Test set size: {len(test_data)}\")"
      ]
    },
    {
      "cell_type": "code",
      "execution_count": 107,
      "metadata": {
        "id": "HCIgSLtBzBP4"
      },
      "outputs": [],
      "source": [
        "criterion = nn.CrossEntropyLoss()\n",
        "optimizer = optim.Adam(model.parameters(), lr=learning_rate)"
      ]
    },
    {
      "cell_type": "code",
      "execution_count": 108,
      "metadata": {
        "id": "qCcVDgIPzBP4"
      },
      "outputs": [],
      "source": [
        "def train(model, train_loader, criterion, optimizer, device):\n",
        "    model.train()\n",
        "    running_loss = 0.0\n",
        "    correct = 0\n",
        "    total = 0\n",
        "    for inputs, labels in tqdm(train_loader, desc=\"Training\"):\n",
        "        inputs, labels = inputs.to(device), labels.to(device)\n",
        "\n",
        "        optimizer.zero_grad()\n",
        "        outputs = model(inputs)\n",
        "        loss = criterion(outputs, labels)\n",
        "        loss.backward()\n",
        "        optimizer.step()\n",
        "\n",
        "        running_loss += loss.item()\n",
        "        _, predicted = torch.max(outputs, 1)\n",
        "        total += labels.size(0)\n",
        "        correct += (predicted == labels).sum().item()\n",
        "\n",
        "    epoch_loss = running_loss / len(train_loader)\n",
        "    accuracy = 100 * correct / total\n",
        "    print(f\"Train Loss: {epoch_loss:.4f}, Train Accuracy: {accuracy:.2f}%\")"
      ]
    },
    {
      "cell_type": "code",
      "execution_count": 109,
      "metadata": {
        "id": "pzZwWmVFzBP5"
      },
      "outputs": [],
      "source": [
        "def evaluate(model, data_loader, criterion, device, phase=\"Validation\"):\n",
        "    model.eval()\n",
        "    running_loss = 0.0\n",
        "    correct = 0\n",
        "    total = 0\n",
        "    with torch.no_grad():\n",
        "        for inputs, labels in tqdm(data_loader, desc=f\"{phase}\"):\n",
        "            inputs, labels = inputs.to(device), labels.to(device)\n",
        "            outputs = model(inputs)\n",
        "            loss = criterion(outputs, labels)\n",
        "\n",
        "            running_loss += loss.item()\n",
        "            _, predicted = torch.max(outputs, 1)\n",
        "            total += labels.size(0)\n",
        "            correct += (predicted == labels).sum().item()\n",
        "\n",
        "    epoch_loss = running_loss / len(data_loader)\n",
        "    accuracy = 100 * correct / total\n",
        "    print(f\"{phase} Loss: {epoch_loss:.4f}, {phase} Accuracy: {accuracy:.2f}%\")"
      ]
    },
    {
      "cell_type": "code",
      "execution_count": 110,
      "metadata": {
        "id": "ATaK9u_JDWLD"
      },
      "outputs": [],
      "source": [
        "def measure_inference_time(model, data_loader, device):\n",
        "    model.eval()\n",
        "    times = []\n",
        "\n",
        "    with torch.no_grad():\n",
        "        for inputs, _ in data_loader:\n",
        "            inputs = inputs.to(device)\n",
        "            start_time = torch.cuda.Event(enable_timing=True)\n",
        "            end_time = torch.cuda.Event(enable_timing=True)\n",
        "\n",
        "            start_time.record()\n",
        "            _ = model(inputs)  # inference 수행\n",
        "            end_time.record()\n",
        "\n",
        "            # 시간 측정\n",
        "            torch.cuda.synchronize()  # CUDA에서 모든 커널이 완료될 때까지 대기\n",
        "            elapsed_time = start_time.elapsed_time(end_time)  # 밀리초 단위로 반환\n",
        "            times.append(elapsed_time)\n",
        "\n",
        "    # 통계량 계산\n",
        "    times_np = np.array(times)\n",
        "    total_inferences = len(times_np)\n",
        "    avg_time = np.mean(times_np)\n",
        "    std_dev = np.std(times_np)\n",
        "    max_time = np.max(times_np)\n",
        "    min_time = np.min(times_np)\n",
        "\n",
        "    # 결과 출력\n",
        "    print(f\"Inference Time Measurement Results:\")\n",
        "    print(f\"Total Inferences: {total_inferences}\")\n",
        "    print(f\"Average Time: {avg_time:.2f} ms\")\n",
        "    print(f\"Standard Deviation: {std_dev:.2f} ms\")\n",
        "    print(f\"Maximum Time: {max_time:.2f} ms\")\n",
        "    print(f\"Minimum Time: {min_time:.2f} ms\")\n",
        "\n",
        "    return times"
      ]
    },
    {
      "cell_type": "code",
      "execution_count": 114,
      "metadata": {
        "colab": {
          "base_uri": "https://localhost:8080/"
        },
        "id": "YdGy_hjpzBP5",
        "outputId": "e8fe7e49-2bff-4945-db57-87784835b242"
      },
      "outputs": [
        {
          "output_type": "stream",
          "name": "stdout",
          "text": [
            "\n",
            "Epoch 1/50\n"
          ]
        },
        {
          "output_type": "stream",
          "name": "stderr",
          "text": [
            "Training: 100%|██████████| 161/161 [00:30<00:00,  5.25it/s]\n"
          ]
        },
        {
          "output_type": "stream",
          "name": "stdout",
          "text": [
            "Train Loss: 3.7489, Train Accuracy: 2.59%\n"
          ]
        },
        {
          "output_type": "stream",
          "name": "stderr",
          "text": [
            "Validation: 100%|██████████| 35/35 [00:05<00:00,  5.90it/s]\n"
          ]
        },
        {
          "output_type": "stream",
          "name": "stdout",
          "text": [
            "Validation Loss: 3.7127, Validation Accuracy: 1.36%\n",
            "\n",
            "Epoch 2/50\n"
          ]
        },
        {
          "output_type": "stream",
          "name": "stderr",
          "text": [
            "Training: 100%|██████████| 161/161 [00:30<00:00,  5.31it/s]\n"
          ]
        },
        {
          "output_type": "stream",
          "name": "stdout",
          "text": [
            "Train Loss: 3.7373, Train Accuracy: 2.55%\n"
          ]
        },
        {
          "output_type": "stream",
          "name": "stderr",
          "text": [
            "Validation: 100%|██████████| 35/35 [00:05<00:00,  5.93it/s]\n"
          ]
        },
        {
          "output_type": "stream",
          "name": "stdout",
          "text": [
            "Validation Loss: 3.7901, Validation Accuracy: 1.36%\n",
            "\n",
            "Epoch 3/50\n"
          ]
        },
        {
          "output_type": "stream",
          "name": "stderr",
          "text": [
            "Training: 100%|██████████| 161/161 [00:30<00:00,  5.31it/s]\n"
          ]
        },
        {
          "output_type": "stream",
          "name": "stdout",
          "text": [
            "Train Loss: 3.7621, Train Accuracy: 2.20%\n"
          ]
        },
        {
          "output_type": "stream",
          "name": "stderr",
          "text": [
            "Validation: 100%|██████████| 35/35 [00:05<00:00,  6.02it/s]\n"
          ]
        },
        {
          "output_type": "stream",
          "name": "stdout",
          "text": [
            "Validation Loss: 3.6977, Validation Accuracy: 1.63%\n",
            "\n",
            "Epoch 4/50\n"
          ]
        },
        {
          "output_type": "stream",
          "name": "stderr",
          "text": [
            "Training: 100%|██████████| 161/161 [00:30<00:00,  5.32it/s]\n"
          ]
        },
        {
          "output_type": "stream",
          "name": "stdout",
          "text": [
            "Train Loss: 3.7461, Train Accuracy: 2.00%\n"
          ]
        },
        {
          "output_type": "stream",
          "name": "stderr",
          "text": [
            "Validation: 100%|██████████| 35/35 [00:05<00:00,  5.94it/s]\n"
          ]
        },
        {
          "output_type": "stream",
          "name": "stdout",
          "text": [
            "Validation Loss: 3.7766, Validation Accuracy: 0.82%\n",
            "\n",
            "Epoch 5/50\n"
          ]
        },
        {
          "output_type": "stream",
          "name": "stderr",
          "text": [
            "Training: 100%|██████████| 161/161 [00:30<00:00,  5.30it/s]\n"
          ]
        },
        {
          "output_type": "stream",
          "name": "stdout",
          "text": [
            "Train Loss: 3.7572, Train Accuracy: 2.04%\n"
          ]
        },
        {
          "output_type": "stream",
          "name": "stderr",
          "text": [
            "Validation: 100%|██████████| 35/35 [00:05<00:00,  5.91it/s]\n"
          ]
        },
        {
          "output_type": "stream",
          "name": "stdout",
          "text": [
            "Validation Loss: 3.7766, Validation Accuracy: 1.18%\n",
            "\n",
            "Epoch 6/50\n"
          ]
        },
        {
          "output_type": "stream",
          "name": "stderr",
          "text": [
            "Training: 100%|██████████| 161/161 [00:30<00:00,  5.30it/s]\n"
          ]
        },
        {
          "output_type": "stream",
          "name": "stdout",
          "text": [
            "Train Loss: 3.7499, Train Accuracy: 2.20%\n"
          ]
        },
        {
          "output_type": "stream",
          "name": "stderr",
          "text": [
            "Validation: 100%|██████████| 35/35 [00:05<00:00,  5.96it/s]\n"
          ]
        },
        {
          "output_type": "stream",
          "name": "stdout",
          "text": [
            "Validation Loss: 3.7227, Validation Accuracy: 1.54%\n",
            "\n",
            "Epoch 7/50\n"
          ]
        },
        {
          "output_type": "stream",
          "name": "stderr",
          "text": [
            "Training: 100%|██████████| 161/161 [00:30<00:00,  5.31it/s]\n"
          ]
        },
        {
          "output_type": "stream",
          "name": "stdout",
          "text": [
            "Train Loss: 3.7402, Train Accuracy: 2.59%\n"
          ]
        },
        {
          "output_type": "stream",
          "name": "stderr",
          "text": [
            "Validation: 100%|██████████| 35/35 [00:06<00:00,  5.83it/s]\n"
          ]
        },
        {
          "output_type": "stream",
          "name": "stdout",
          "text": [
            "Validation Loss: 3.7726, Validation Accuracy: 1.27%\n",
            "\n",
            "Epoch 8/50\n"
          ]
        },
        {
          "output_type": "stream",
          "name": "stderr",
          "text": [
            "Training: 100%|██████████| 161/161 [00:30<00:00,  5.28it/s]\n"
          ]
        },
        {
          "output_type": "stream",
          "name": "stdout",
          "text": [
            "Train Loss: 3.7458, Train Accuracy: 2.35%\n"
          ]
        },
        {
          "output_type": "stream",
          "name": "stderr",
          "text": [
            "Validation: 100%|██████████| 35/35 [00:05<00:00,  5.91it/s]\n"
          ]
        },
        {
          "output_type": "stream",
          "name": "stdout",
          "text": [
            "Validation Loss: 3.7471, Validation Accuracy: 1.36%\n",
            "\n",
            "Epoch 9/50\n"
          ]
        },
        {
          "output_type": "stream",
          "name": "stderr",
          "text": [
            "Training: 100%|██████████| 161/161 [00:30<00:00,  5.31it/s]\n"
          ]
        },
        {
          "output_type": "stream",
          "name": "stdout",
          "text": [
            "Train Loss: 3.7492, Train Accuracy: 2.41%\n"
          ]
        },
        {
          "output_type": "stream",
          "name": "stderr",
          "text": [
            "Validation: 100%|██████████| 35/35 [00:05<00:00,  5.94it/s]\n"
          ]
        },
        {
          "output_type": "stream",
          "name": "stdout",
          "text": [
            "Validation Loss: 3.7498, Validation Accuracy: 1.54%\n",
            "\n",
            "Epoch 10/50\n"
          ]
        },
        {
          "output_type": "stream",
          "name": "stderr",
          "text": [
            "Training: 100%|██████████| 161/161 [00:30<00:00,  5.26it/s]\n"
          ]
        },
        {
          "output_type": "stream",
          "name": "stdout",
          "text": [
            "Train Loss: 3.7499, Train Accuracy: 2.37%\n"
          ]
        },
        {
          "output_type": "stream",
          "name": "stderr",
          "text": [
            "Validation: 100%|██████████| 35/35 [00:05<00:00,  5.97it/s]\n"
          ]
        },
        {
          "output_type": "stream",
          "name": "stdout",
          "text": [
            "Validation Loss: 3.7044, Validation Accuracy: 1.81%\n",
            "\n",
            "Epoch 11/50\n"
          ]
        },
        {
          "output_type": "stream",
          "name": "stderr",
          "text": [
            "Training: 100%|██████████| 161/161 [00:30<00:00,  5.27it/s]\n"
          ]
        },
        {
          "output_type": "stream",
          "name": "stdout",
          "text": [
            "Train Loss: 3.7468, Train Accuracy: 2.27%\n"
          ]
        },
        {
          "output_type": "stream",
          "name": "stderr",
          "text": [
            "Validation: 100%|██████████| 35/35 [00:05<00:00,  5.98it/s]\n"
          ]
        },
        {
          "output_type": "stream",
          "name": "stdout",
          "text": [
            "Validation Loss: 3.7390, Validation Accuracy: 1.36%\n",
            "\n",
            "Epoch 12/50\n"
          ]
        },
        {
          "output_type": "stream",
          "name": "stderr",
          "text": [
            "Training: 100%|██████████| 161/161 [00:30<00:00,  5.31it/s]\n"
          ]
        },
        {
          "output_type": "stream",
          "name": "stdout",
          "text": [
            "Train Loss: 3.7563, Train Accuracy: 2.06%\n"
          ]
        },
        {
          "output_type": "stream",
          "name": "stderr",
          "text": [
            "Validation: 100%|██████████| 35/35 [00:05<00:00,  5.91it/s]\n"
          ]
        },
        {
          "output_type": "stream",
          "name": "stdout",
          "text": [
            "Validation Loss: 3.7434, Validation Accuracy: 1.27%\n",
            "\n",
            "Epoch 13/50\n"
          ]
        },
        {
          "output_type": "stream",
          "name": "stderr",
          "text": [
            "Training: 100%|██████████| 161/161 [00:30<00:00,  5.29it/s]\n"
          ]
        },
        {
          "output_type": "stream",
          "name": "stdout",
          "text": [
            "Train Loss: 3.7441, Train Accuracy: 2.04%\n"
          ]
        },
        {
          "output_type": "stream",
          "name": "stderr",
          "text": [
            "Validation: 100%|██████████| 35/35 [00:05<00:00,  5.86it/s]\n"
          ]
        },
        {
          "output_type": "stream",
          "name": "stdout",
          "text": [
            "Validation Loss: 3.7440, Validation Accuracy: 1.36%\n",
            "\n",
            "Epoch 14/50\n"
          ]
        },
        {
          "output_type": "stream",
          "name": "stderr",
          "text": [
            "Training: 100%|██████████| 161/161 [00:30<00:00,  5.34it/s]\n"
          ]
        },
        {
          "output_type": "stream",
          "name": "stdout",
          "text": [
            "Train Loss: 3.7505, Train Accuracy: 2.14%\n"
          ]
        },
        {
          "output_type": "stream",
          "name": "stderr",
          "text": [
            "Validation: 100%|██████████| 35/35 [00:05<00:00,  5.88it/s]\n"
          ]
        },
        {
          "output_type": "stream",
          "name": "stdout",
          "text": [
            "Validation Loss: 3.7295, Validation Accuracy: 1.09%\n",
            "\n",
            "Epoch 15/50\n"
          ]
        },
        {
          "output_type": "stream",
          "name": "stderr",
          "text": [
            "Training: 100%|██████████| 161/161 [00:30<00:00,  5.33it/s]\n"
          ]
        },
        {
          "output_type": "stream",
          "name": "stdout",
          "text": [
            "Train Loss: 3.7449, Train Accuracy: 2.24%\n"
          ]
        },
        {
          "output_type": "stream",
          "name": "stderr",
          "text": [
            "Validation: 100%|██████████| 35/35 [00:05<00:00,  5.90it/s]\n"
          ]
        },
        {
          "output_type": "stream",
          "name": "stdout",
          "text": [
            "Validation Loss: 3.7669, Validation Accuracy: 1.18%\n",
            "\n",
            "Epoch 16/50\n"
          ]
        },
        {
          "output_type": "stream",
          "name": "stderr",
          "text": [
            "Training: 100%|██████████| 161/161 [00:30<00:00,  5.31it/s]\n"
          ]
        },
        {
          "output_type": "stream",
          "name": "stdout",
          "text": [
            "Train Loss: 3.7457, Train Accuracy: 2.04%\n"
          ]
        },
        {
          "output_type": "stream",
          "name": "stderr",
          "text": [
            "Validation: 100%|██████████| 35/35 [00:06<00:00,  5.79it/s]\n"
          ]
        },
        {
          "output_type": "stream",
          "name": "stdout",
          "text": [
            "Validation Loss: 3.8533, Validation Accuracy: 1.18%\n",
            "\n",
            "Epoch 17/50\n"
          ]
        },
        {
          "output_type": "stream",
          "name": "stderr",
          "text": [
            "Training: 100%|██████████| 161/161 [00:30<00:00,  5.28it/s]\n"
          ]
        },
        {
          "output_type": "stream",
          "name": "stdout",
          "text": [
            "Train Loss: 3.7503, Train Accuracy: 2.08%\n"
          ]
        },
        {
          "output_type": "stream",
          "name": "stderr",
          "text": [
            "Validation: 100%|██████████| 35/35 [00:05<00:00,  6.00it/s]\n"
          ]
        },
        {
          "output_type": "stream",
          "name": "stdout",
          "text": [
            "Validation Loss: 3.7170, Validation Accuracy: 1.81%\n",
            "\n",
            "Epoch 18/50\n"
          ]
        },
        {
          "output_type": "stream",
          "name": "stderr",
          "text": [
            "Training: 100%|██████████| 161/161 [00:30<00:00,  5.29it/s]\n"
          ]
        },
        {
          "output_type": "stream",
          "name": "stdout",
          "text": [
            "Train Loss: 3.7586, Train Accuracy: 2.06%\n"
          ]
        },
        {
          "output_type": "stream",
          "name": "stderr",
          "text": [
            "Validation: 100%|██████████| 35/35 [00:05<00:00,  5.99it/s]\n"
          ]
        },
        {
          "output_type": "stream",
          "name": "stdout",
          "text": [
            "Validation Loss: 3.7128, Validation Accuracy: 1.45%\n",
            "\n",
            "Epoch 19/50\n"
          ]
        },
        {
          "output_type": "stream",
          "name": "stderr",
          "text": [
            "Training: 100%|██████████| 161/161 [00:30<00:00,  5.28it/s]\n"
          ]
        },
        {
          "output_type": "stream",
          "name": "stdout",
          "text": [
            "Train Loss: 3.7339, Train Accuracy: 2.62%\n"
          ]
        },
        {
          "output_type": "stream",
          "name": "stderr",
          "text": [
            "Validation: 100%|██████████| 35/35 [00:05<00:00,  5.94it/s]\n"
          ]
        },
        {
          "output_type": "stream",
          "name": "stdout",
          "text": [
            "Validation Loss: 3.7749, Validation Accuracy: 1.54%\n",
            "\n",
            "Epoch 20/50\n"
          ]
        },
        {
          "output_type": "stream",
          "name": "stderr",
          "text": [
            "Training: 100%|██████████| 161/161 [00:30<00:00,  5.28it/s]\n"
          ]
        },
        {
          "output_type": "stream",
          "name": "stdout",
          "text": [
            "Train Loss: 3.7511, Train Accuracy: 2.20%\n"
          ]
        },
        {
          "output_type": "stream",
          "name": "stderr",
          "text": [
            "Validation: 100%|██████████| 35/35 [00:05<00:00,  6.00it/s]\n"
          ]
        },
        {
          "output_type": "stream",
          "name": "stdout",
          "text": [
            "Validation Loss: 3.8005, Validation Accuracy: 1.72%\n",
            "\n",
            "Epoch 21/50\n"
          ]
        },
        {
          "output_type": "stream",
          "name": "stderr",
          "text": [
            "Training: 100%|██████████| 161/161 [00:30<00:00,  5.28it/s]\n"
          ]
        },
        {
          "output_type": "stream",
          "name": "stdout",
          "text": [
            "Train Loss: 3.7473, Train Accuracy: 2.59%\n"
          ]
        },
        {
          "output_type": "stream",
          "name": "stderr",
          "text": [
            "Validation: 100%|██████████| 35/35 [00:05<00:00,  5.94it/s]\n"
          ]
        },
        {
          "output_type": "stream",
          "name": "stdout",
          "text": [
            "Validation Loss: 3.7480, Validation Accuracy: 1.72%\n",
            "\n",
            "Epoch 22/50\n"
          ]
        },
        {
          "output_type": "stream",
          "name": "stderr",
          "text": [
            "Training: 100%|██████████| 161/161 [00:30<00:00,  5.28it/s]\n"
          ]
        },
        {
          "output_type": "stream",
          "name": "stdout",
          "text": [
            "Train Loss: 3.7519, Train Accuracy: 2.37%\n"
          ]
        },
        {
          "output_type": "stream",
          "name": "stderr",
          "text": [
            "Validation: 100%|██████████| 35/35 [00:06<00:00,  5.80it/s]\n"
          ]
        },
        {
          "output_type": "stream",
          "name": "stdout",
          "text": [
            "Validation Loss: 3.8162, Validation Accuracy: 1.00%\n",
            "\n",
            "Epoch 23/50\n"
          ]
        },
        {
          "output_type": "stream",
          "name": "stderr",
          "text": [
            "Training: 100%|██████████| 161/161 [00:30<00:00,  5.25it/s]\n"
          ]
        },
        {
          "output_type": "stream",
          "name": "stdout",
          "text": [
            "Train Loss: 3.7374, Train Accuracy: 2.45%\n"
          ]
        },
        {
          "output_type": "stream",
          "name": "stderr",
          "text": [
            "Validation: 100%|██████████| 35/35 [00:05<00:00,  5.84it/s]\n"
          ]
        },
        {
          "output_type": "stream",
          "name": "stdout",
          "text": [
            "Validation Loss: 3.7951, Validation Accuracy: 0.91%\n",
            "\n",
            "Epoch 24/50\n"
          ]
        },
        {
          "output_type": "stream",
          "name": "stderr",
          "text": [
            "Training: 100%|██████████| 161/161 [00:30<00:00,  5.29it/s]\n"
          ]
        },
        {
          "output_type": "stream",
          "name": "stdout",
          "text": [
            "Train Loss: 3.7347, Train Accuracy: 2.82%\n"
          ]
        },
        {
          "output_type": "stream",
          "name": "stderr",
          "text": [
            "Validation: 100%|██████████| 35/35 [00:05<00:00,  5.87it/s]\n"
          ]
        },
        {
          "output_type": "stream",
          "name": "stdout",
          "text": [
            "Validation Loss: 3.8105, Validation Accuracy: 0.91%\n",
            "\n",
            "Epoch 25/50\n"
          ]
        },
        {
          "output_type": "stream",
          "name": "stderr",
          "text": [
            "Training: 100%|██████████| 161/161 [00:30<00:00,  5.24it/s]\n"
          ]
        },
        {
          "output_type": "stream",
          "name": "stdout",
          "text": [
            "Train Loss: 3.7579, Train Accuracy: 2.27%\n"
          ]
        },
        {
          "output_type": "stream",
          "name": "stderr",
          "text": [
            "Validation: 100%|██████████| 35/35 [00:05<00:00,  5.90it/s]\n"
          ]
        },
        {
          "output_type": "stream",
          "name": "stdout",
          "text": [
            "Validation Loss: 3.7041, Validation Accuracy: 1.54%\n",
            "\n",
            "Epoch 26/50\n"
          ]
        },
        {
          "output_type": "stream",
          "name": "stderr",
          "text": [
            "Training: 100%|██████████| 161/161 [00:30<00:00,  5.25it/s]\n"
          ]
        },
        {
          "output_type": "stream",
          "name": "stdout",
          "text": [
            "Train Loss: 3.7437, Train Accuracy: 2.59%\n"
          ]
        },
        {
          "output_type": "stream",
          "name": "stderr",
          "text": [
            "Validation: 100%|██████████| 35/35 [00:05<00:00,  5.95it/s]\n"
          ]
        },
        {
          "output_type": "stream",
          "name": "stdout",
          "text": [
            "Validation Loss: 3.6747, Validation Accuracy: 1.27%\n",
            "\n",
            "Epoch 27/50\n"
          ]
        },
        {
          "output_type": "stream",
          "name": "stderr",
          "text": [
            "Training: 100%|██████████| 161/161 [00:30<00:00,  5.23it/s]\n"
          ]
        },
        {
          "output_type": "stream",
          "name": "stdout",
          "text": [
            "Train Loss: 3.7430, Train Accuracy: 1.98%\n"
          ]
        },
        {
          "output_type": "stream",
          "name": "stderr",
          "text": [
            "Validation: 100%|██████████| 35/35 [00:05<00:00,  5.95it/s]\n"
          ]
        },
        {
          "output_type": "stream",
          "name": "stdout",
          "text": [
            "Validation Loss: 3.7775, Validation Accuracy: 1.27%\n",
            "\n",
            "Epoch 28/50\n"
          ]
        },
        {
          "output_type": "stream",
          "name": "stderr",
          "text": [
            "Training: 100%|██████████| 161/161 [00:30<00:00,  5.27it/s]\n"
          ]
        },
        {
          "output_type": "stream",
          "name": "stdout",
          "text": [
            "Train Loss: 3.7484, Train Accuracy: 2.12%\n"
          ]
        },
        {
          "output_type": "stream",
          "name": "stderr",
          "text": [
            "Validation: 100%|██████████| 35/35 [00:05<00:00,  5.94it/s]\n"
          ]
        },
        {
          "output_type": "stream",
          "name": "stdout",
          "text": [
            "Validation Loss: 3.8235, Validation Accuracy: 1.27%\n",
            "\n",
            "Epoch 29/50\n"
          ]
        },
        {
          "output_type": "stream",
          "name": "stderr",
          "text": [
            "Training: 100%|██████████| 161/161 [00:30<00:00,  5.27it/s]\n"
          ]
        },
        {
          "output_type": "stream",
          "name": "stdout",
          "text": [
            "Train Loss: 3.7506, Train Accuracy: 2.64%\n"
          ]
        },
        {
          "output_type": "stream",
          "name": "stderr",
          "text": [
            "Validation: 100%|██████████| 35/35 [00:05<00:00,  5.90it/s]\n"
          ]
        },
        {
          "output_type": "stream",
          "name": "stdout",
          "text": [
            "Validation Loss: 3.7866, Validation Accuracy: 1.54%\n",
            "\n",
            "Epoch 30/50\n"
          ]
        },
        {
          "output_type": "stream",
          "name": "stderr",
          "text": [
            "Training: 100%|██████████| 161/161 [00:30<00:00,  5.27it/s]\n"
          ]
        },
        {
          "output_type": "stream",
          "name": "stdout",
          "text": [
            "Train Loss: 3.7634, Train Accuracy: 2.31%\n"
          ]
        },
        {
          "output_type": "stream",
          "name": "stderr",
          "text": [
            "Validation: 100%|██████████| 35/35 [00:06<00:00,  5.79it/s]\n"
          ]
        },
        {
          "output_type": "stream",
          "name": "stdout",
          "text": [
            "Validation Loss: 3.6933, Validation Accuracy: 1.45%\n",
            "\n",
            "Epoch 31/50\n"
          ]
        },
        {
          "output_type": "stream",
          "name": "stderr",
          "text": [
            "Training: 100%|██████████| 161/161 [00:30<00:00,  5.32it/s]\n"
          ]
        },
        {
          "output_type": "stream",
          "name": "stdout",
          "text": [
            "Train Loss: 3.7560, Train Accuracy: 2.49%\n"
          ]
        },
        {
          "output_type": "stream",
          "name": "stderr",
          "text": [
            "Validation: 100%|██████████| 35/35 [00:05<00:00,  5.84it/s]\n"
          ]
        },
        {
          "output_type": "stream",
          "name": "stdout",
          "text": [
            "Validation Loss: 3.7427, Validation Accuracy: 1.54%\n",
            "\n",
            "Epoch 32/50\n"
          ]
        },
        {
          "output_type": "stream",
          "name": "stderr",
          "text": [
            "Training: 100%|██████████| 161/161 [00:30<00:00,  5.32it/s]\n"
          ]
        },
        {
          "output_type": "stream",
          "name": "stdout",
          "text": [
            "Train Loss: 3.7488, Train Accuracy: 2.62%\n"
          ]
        },
        {
          "output_type": "stream",
          "name": "stderr",
          "text": [
            "Validation: 100%|██████████| 35/35 [00:05<00:00,  5.87it/s]\n"
          ]
        },
        {
          "output_type": "stream",
          "name": "stdout",
          "text": [
            "Validation Loss: 3.7439, Validation Accuracy: 1.27%\n",
            "\n",
            "Epoch 33/50\n"
          ]
        },
        {
          "output_type": "stream",
          "name": "stderr",
          "text": [
            "Training: 100%|██████████| 161/161 [00:30<00:00,  5.31it/s]\n"
          ]
        },
        {
          "output_type": "stream",
          "name": "stdout",
          "text": [
            "Train Loss: 3.7540, Train Accuracy: 2.26%\n"
          ]
        },
        {
          "output_type": "stream",
          "name": "stderr",
          "text": [
            "Validation: 100%|██████████| 35/35 [00:05<00:00,  5.92it/s]\n"
          ]
        },
        {
          "output_type": "stream",
          "name": "stdout",
          "text": [
            "Validation Loss: 3.6802, Validation Accuracy: 1.45%\n",
            "\n",
            "Epoch 34/50\n"
          ]
        },
        {
          "output_type": "stream",
          "name": "stderr",
          "text": [
            "Training: 100%|██████████| 161/161 [00:30<00:00,  5.28it/s]\n"
          ]
        },
        {
          "output_type": "stream",
          "name": "stdout",
          "text": [
            "Train Loss: 3.7418, Train Accuracy: 2.29%\n"
          ]
        },
        {
          "output_type": "stream",
          "name": "stderr",
          "text": [
            "Validation: 100%|██████████| 35/35 [00:05<00:00,  5.92it/s]\n"
          ]
        },
        {
          "output_type": "stream",
          "name": "stdout",
          "text": [
            "Validation Loss: 3.7794, Validation Accuracy: 1.09%\n",
            "\n",
            "Epoch 35/50\n"
          ]
        },
        {
          "output_type": "stream",
          "name": "stderr",
          "text": [
            "Training: 100%|██████████| 161/161 [00:30<00:00,  5.28it/s]\n"
          ]
        },
        {
          "output_type": "stream",
          "name": "stdout",
          "text": [
            "Train Loss: 3.7530, Train Accuracy: 1.94%\n"
          ]
        },
        {
          "output_type": "stream",
          "name": "stderr",
          "text": [
            "Validation: 100%|██████████| 35/35 [00:05<00:00,  5.91it/s]\n"
          ]
        },
        {
          "output_type": "stream",
          "name": "stdout",
          "text": [
            "Validation Loss: 3.6864, Validation Accuracy: 1.36%\n",
            "\n",
            "Epoch 36/50\n"
          ]
        },
        {
          "output_type": "stream",
          "name": "stderr",
          "text": [
            "Training: 100%|██████████| 161/161 [00:30<00:00,  5.30it/s]\n"
          ]
        },
        {
          "output_type": "stream",
          "name": "stdout",
          "text": [
            "Train Loss: 3.7483, Train Accuracy: 2.51%\n"
          ]
        },
        {
          "output_type": "stream",
          "name": "stderr",
          "text": [
            "Validation: 100%|██████████| 35/35 [00:05<00:00,  5.93it/s]\n"
          ]
        },
        {
          "output_type": "stream",
          "name": "stdout",
          "text": [
            "Validation Loss: 3.7329, Validation Accuracy: 1.18%\n",
            "\n",
            "Epoch 37/50\n"
          ]
        },
        {
          "output_type": "stream",
          "name": "stderr",
          "text": [
            "Training: 100%|██████████| 161/161 [00:30<00:00,  5.28it/s]\n"
          ]
        },
        {
          "output_type": "stream",
          "name": "stdout",
          "text": [
            "Train Loss: 3.7446, Train Accuracy: 2.08%\n"
          ]
        },
        {
          "output_type": "stream",
          "name": "stderr",
          "text": [
            "Validation: 100%|██████████| 35/35 [00:05<00:00,  5.87it/s]\n"
          ]
        },
        {
          "output_type": "stream",
          "name": "stdout",
          "text": [
            "Validation Loss: 3.6712, Validation Accuracy: 1.00%\n",
            "\n",
            "Epoch 38/50\n"
          ]
        },
        {
          "output_type": "stream",
          "name": "stderr",
          "text": [
            "Training: 100%|██████████| 161/161 [00:30<00:00,  5.32it/s]\n"
          ]
        },
        {
          "output_type": "stream",
          "name": "stdout",
          "text": [
            "Train Loss: 3.7464, Train Accuracy: 2.22%\n"
          ]
        },
        {
          "output_type": "stream",
          "name": "stderr",
          "text": [
            "Validation: 100%|██████████| 35/35 [00:06<00:00,  5.72it/s]\n"
          ]
        },
        {
          "output_type": "stream",
          "name": "stdout",
          "text": [
            "Validation Loss: 3.7436, Validation Accuracy: 1.54%\n",
            "\n",
            "Epoch 39/50\n"
          ]
        },
        {
          "output_type": "stream",
          "name": "stderr",
          "text": [
            "Training: 100%|██████████| 161/161 [00:30<00:00,  5.31it/s]\n"
          ]
        },
        {
          "output_type": "stream",
          "name": "stdout",
          "text": [
            "Train Loss: 3.7478, Train Accuracy: 2.22%\n"
          ]
        },
        {
          "output_type": "stream",
          "name": "stderr",
          "text": [
            "Validation: 100%|██████████| 35/35 [00:05<00:00,  5.91it/s]\n"
          ]
        },
        {
          "output_type": "stream",
          "name": "stdout",
          "text": [
            "Validation Loss: 3.7151, Validation Accuracy: 1.45%\n",
            "\n",
            "Epoch 40/50\n"
          ]
        },
        {
          "output_type": "stream",
          "name": "stderr",
          "text": [
            "Training: 100%|██████████| 161/161 [00:30<00:00,  5.30it/s]\n"
          ]
        },
        {
          "output_type": "stream",
          "name": "stdout",
          "text": [
            "Train Loss: 3.7509, Train Accuracy: 2.24%\n"
          ]
        },
        {
          "output_type": "stream",
          "name": "stderr",
          "text": [
            "Validation: 100%|██████████| 35/35 [00:05<00:00,  5.88it/s]\n"
          ]
        },
        {
          "output_type": "stream",
          "name": "stdout",
          "text": [
            "Validation Loss: 3.7370, Validation Accuracy: 1.54%\n",
            "\n",
            "Epoch 41/50\n"
          ]
        },
        {
          "output_type": "stream",
          "name": "stderr",
          "text": [
            "Training: 100%|██████████| 161/161 [00:30<00:00,  5.33it/s]\n"
          ]
        },
        {
          "output_type": "stream",
          "name": "stdout",
          "text": [
            "Train Loss: 3.7693, Train Accuracy: 2.41%\n"
          ]
        },
        {
          "output_type": "stream",
          "name": "stderr",
          "text": [
            "Validation: 100%|██████████| 35/35 [00:05<00:00,  6.01it/s]\n"
          ]
        },
        {
          "output_type": "stream",
          "name": "stdout",
          "text": [
            "Validation Loss: 3.8191, Validation Accuracy: 0.91%\n",
            "\n",
            "Epoch 42/50\n"
          ]
        },
        {
          "output_type": "stream",
          "name": "stderr",
          "text": [
            "Training: 100%|██████████| 161/161 [00:30<00:00,  5.27it/s]\n"
          ]
        },
        {
          "output_type": "stream",
          "name": "stdout",
          "text": [
            "Train Loss: 3.7501, Train Accuracy: 2.70%\n"
          ]
        },
        {
          "output_type": "stream",
          "name": "stderr",
          "text": [
            "Validation: 100%|██████████| 35/35 [00:05<00:00,  5.97it/s]\n"
          ]
        },
        {
          "output_type": "stream",
          "name": "stdout",
          "text": [
            "Validation Loss: 3.7699, Validation Accuracy: 1.27%\n",
            "\n",
            "Epoch 43/50\n"
          ]
        },
        {
          "output_type": "stream",
          "name": "stderr",
          "text": [
            "Training: 100%|██████████| 161/161 [00:30<00:00,  5.30it/s]\n"
          ]
        },
        {
          "output_type": "stream",
          "name": "stdout",
          "text": [
            "Train Loss: 3.7452, Train Accuracy: 2.26%\n"
          ]
        },
        {
          "output_type": "stream",
          "name": "stderr",
          "text": [
            "Validation: 100%|██████████| 35/35 [00:05<00:00,  5.88it/s]\n"
          ]
        },
        {
          "output_type": "stream",
          "name": "stdout",
          "text": [
            "Validation Loss: 3.7297, Validation Accuracy: 1.45%\n",
            "\n",
            "Epoch 44/50\n"
          ]
        },
        {
          "output_type": "stream",
          "name": "stderr",
          "text": [
            "Training: 100%|██████████| 161/161 [00:30<00:00,  5.31it/s]\n"
          ]
        },
        {
          "output_type": "stream",
          "name": "stdout",
          "text": [
            "Train Loss: 3.7448, Train Accuracy: 2.27%\n"
          ]
        },
        {
          "output_type": "stream",
          "name": "stderr",
          "text": [
            "Validation: 100%|██████████| 35/35 [00:05<00:00,  5.99it/s]\n"
          ]
        },
        {
          "output_type": "stream",
          "name": "stdout",
          "text": [
            "Validation Loss: 3.7429, Validation Accuracy: 1.00%\n",
            "\n",
            "Epoch 45/50\n"
          ]
        },
        {
          "output_type": "stream",
          "name": "stderr",
          "text": [
            "Training: 100%|██████████| 161/161 [00:30<00:00,  5.27it/s]\n"
          ]
        },
        {
          "output_type": "stream",
          "name": "stdout",
          "text": [
            "Train Loss: 3.7380, Train Accuracy: 2.43%\n"
          ]
        },
        {
          "output_type": "stream",
          "name": "stderr",
          "text": [
            "Validation: 100%|██████████| 35/35 [00:05<00:00,  5.87it/s]\n"
          ]
        },
        {
          "output_type": "stream",
          "name": "stdout",
          "text": [
            "Validation Loss: 3.7241, Validation Accuracy: 1.54%\n",
            "\n",
            "Epoch 46/50\n"
          ]
        },
        {
          "output_type": "stream",
          "name": "stderr",
          "text": [
            "Training: 100%|██████████| 161/161 [00:30<00:00,  5.34it/s]\n"
          ]
        },
        {
          "output_type": "stream",
          "name": "stdout",
          "text": [
            "Train Loss: 3.7494, Train Accuracy: 2.39%\n"
          ]
        },
        {
          "output_type": "stream",
          "name": "stderr",
          "text": [
            "Validation: 100%|██████████| 35/35 [00:05<00:00,  5.89it/s]\n"
          ]
        },
        {
          "output_type": "stream",
          "name": "stdout",
          "text": [
            "Validation Loss: 3.7079, Validation Accuracy: 0.91%\n",
            "\n",
            "Epoch 47/50\n"
          ]
        },
        {
          "output_type": "stream",
          "name": "stderr",
          "text": [
            "Training: 100%|██████████| 161/161 [00:30<00:00,  5.30it/s]\n"
          ]
        },
        {
          "output_type": "stream",
          "name": "stdout",
          "text": [
            "Train Loss: 3.7628, Train Accuracy: 2.12%\n"
          ]
        },
        {
          "output_type": "stream",
          "name": "stderr",
          "text": [
            "Validation: 100%|██████████| 35/35 [00:05<00:00,  5.87it/s]\n"
          ]
        },
        {
          "output_type": "stream",
          "name": "stdout",
          "text": [
            "Validation Loss: 3.7325, Validation Accuracy: 1.36%\n",
            "\n",
            "Epoch 48/50\n"
          ]
        },
        {
          "output_type": "stream",
          "name": "stderr",
          "text": [
            "Training: 100%|██████████| 161/161 [00:30<00:00,  5.30it/s]\n"
          ]
        },
        {
          "output_type": "stream",
          "name": "stdout",
          "text": [
            "Train Loss: 3.7532, Train Accuracy: 2.02%\n"
          ]
        },
        {
          "output_type": "stream",
          "name": "stderr",
          "text": [
            "Validation: 100%|██████████| 35/35 [00:06<00:00,  5.83it/s]\n"
          ]
        },
        {
          "output_type": "stream",
          "name": "stdout",
          "text": [
            "Validation Loss: 3.6588, Validation Accuracy: 1.36%\n",
            "\n",
            "Epoch 49/50\n"
          ]
        },
        {
          "output_type": "stream",
          "name": "stderr",
          "text": [
            "Training: 100%|██████████| 161/161 [00:30<00:00,  5.32it/s]\n"
          ]
        },
        {
          "output_type": "stream",
          "name": "stdout",
          "text": [
            "Train Loss: 3.7458, Train Accuracy: 2.35%\n"
          ]
        },
        {
          "output_type": "stream",
          "name": "stderr",
          "text": [
            "Validation: 100%|██████████| 35/35 [00:05<00:00,  6.02it/s]\n"
          ]
        },
        {
          "output_type": "stream",
          "name": "stdout",
          "text": [
            "Validation Loss: 3.8021, Validation Accuracy: 1.00%\n",
            "\n",
            "Epoch 50/50\n"
          ]
        },
        {
          "output_type": "stream",
          "name": "stderr",
          "text": [
            "Training: 100%|██████████| 161/161 [00:30<00:00,  5.31it/s]\n"
          ]
        },
        {
          "output_type": "stream",
          "name": "stdout",
          "text": [
            "Train Loss: 3.7416, Train Accuracy: 2.24%\n"
          ]
        },
        {
          "output_type": "stream",
          "name": "stderr",
          "text": [
            "Validation: 100%|██████████| 35/35 [00:05<00:00,  5.97it/s]"
          ]
        },
        {
          "output_type": "stream",
          "name": "stdout",
          "text": [
            "Validation Loss: 3.6905, Validation Accuracy: 1.54%\n"
          ]
        },
        {
          "output_type": "stream",
          "name": "stderr",
          "text": [
            "\n"
          ]
        }
      ],
      "source": [
        "for epoch in range(num_epochs):\n",
        "    print(f\"\\nEpoch {epoch+1}/{num_epochs}\")\n",
        "    train(model, train_loader, criterion, optimizer, device)\n",
        "    evaluate(model, val_loader, criterion, device, phase=\"Validation\")"
      ]
    },
    {
      "cell_type": "code",
      "execution_count": 115,
      "metadata": {
        "colab": {
          "base_uri": "https://localhost:8080/"
        },
        "id": "tAiyDwO0zMk1",
        "outputId": "921329f7-1893-48ee-b5a0-60a0e08dc859"
      },
      "outputs": [
        {
          "output_type": "stream",
          "name": "stdout",
          "text": [
            "\n",
            "Final Test Evaluation\n"
          ]
        },
        {
          "output_type": "stream",
          "name": "stderr",
          "text": [
            "Test: 100%|██████████| 35/35 [00:06<00:00,  5.67it/s]"
          ]
        },
        {
          "output_type": "stream",
          "name": "stdout",
          "text": [
            "Test Loss: 3.7527, Test Accuracy: 1.81%\n"
          ]
        },
        {
          "output_type": "stream",
          "name": "stderr",
          "text": [
            "\n"
          ]
        }
      ],
      "source": [
        "print(\"\\nFinal Test Evaluation\")\n",
        "evaluate(model, test_loader, criterion, device, phase=\"Test\")"
      ]
    },
    {
      "cell_type": "code",
      "execution_count": 116,
      "metadata": {
        "colab": {
          "base_uri": "https://localhost:8080/"
        },
        "id": "HCv209A51QEb",
        "outputId": "38eb3153-02fb-4676-8153-3abc745b191f"
      },
      "outputs": [
        {
          "output_type": "stream",
          "name": "stdout",
          "text": [
            "Inference Time Measurement Results:\n",
            "Total Inferences: 35\n",
            "Average Time: 19.21 ms\n",
            "Standard Deviation: 0.62 ms\n",
            "Maximum Time: 19.35 ms\n",
            "Minimum Time: 15.63 ms\n"
          ]
        }
      ],
      "source": [
        "times = measure_inference_time(model, test_loader, device)"
      ]
    },
    {
      "cell_type": "code",
      "execution_count": 117,
      "metadata": {
        "id": "m_kVgdJKDZqe",
        "colab": {
          "base_uri": "https://localhost:8080/"
        },
        "outputId": "3cb1d3cb-f8dd-47b6-8f87-7f1c3e598ece"
      },
      "outputs": [
        {
          "output_type": "stream",
          "name": "stdout",
          "text": [
            "-------------------------------------------------------  ------------  ------------  ------------  ------------  ------------  ------------  ------------  ------------  ------------  ------------  \n",
            "                                                   Name    Self CPU %      Self CPU   CPU total %     CPU total  CPU time avg     Self CUDA   Self CUDA %    CUDA total  CUDA time avg    # of Calls  \n",
            "-------------------------------------------------------  ------------  ------------  ------------  ------------  ------------  ------------  ------------  ------------  ------------  ------------  \n",
            "                                      aten::convolution         1.21%     414.375us        37.06%      12.720ms     201.905us       0.000us         0.00%       8.115ms     128.811us            63  \n",
            "                                     aten::_convolution        10.23%       3.510ms        35.85%      12.306ms     195.328us       0.000us         0.00%       8.115ms     128.811us            63  \n",
            "                                           aten::conv2d         1.23%     423.619us        37.91%      13.013ms     209.880us       0.000us         0.00%       7.498ms     120.936us            62  \n",
            "                                aten::cudnn_convolution        17.24%       5.917ms        24.89%       8.544ms     137.803us       7.452ms        39.54%       7.452ms     120.187us            62  \n",
            "                                       aten::batch_norm         1.12%     383.180us        37.72%      12.948ms     147.133us       0.000us         0.00%       3.647ms      41.447us            88  \n",
            "                           aten::_batch_norm_impl_index         1.81%     619.747us        36.60%      12.565ms     142.779us       0.000us         0.00%       3.647ms      41.447us            88  \n",
            "                                           aten::matmul         1.25%     428.762us         8.94%       3.069ms      80.754us       0.000us         0.00%       3.171ms      83.438us            38  \n",
            "                                           aten::linear         0.50%     172.542us         6.58%       2.259ms      72.872us       0.000us         0.00%       3.094ms      99.803us            31  \n",
            "                                 aten::cudnn_batch_norm        18.80%       6.452ms        26.14%       8.973ms     154.714us       3.072ms        16.30%       3.072ms      52.960us            58  \n",
            "void cudnn::bn_fw_inf_1C11_kernel_NCHW<float, float,...         0.00%       0.000us         0.00%       0.000us       0.000us       3.072ms        16.30%       3.072ms      52.960us            58  \n",
            "-------------------------------------------------------  ------------  ------------  ------------  ------------  ------------  ------------  ------------  ------------  ------------  ------------  \n",
            "Self CPU time total: 34.325ms\n",
            "Self CUDA time total: 18.846ms\n",
            "\n"
          ]
        }
      ],
      "source": [
        "from torch import profiler\n",
        "\n",
        "dummy_input = torch.randn(32, 3, 224, 224).cuda()\n",
        "\n",
        "# Profiling inference\n",
        "with profiler.profile(\n",
        "    activities=[\n",
        "       profiler.ProfilerActivity.CPU,\n",
        "        profiler.ProfilerActivity.CUDA,  # Include if using GPU\n",
        "    ],\n",
        "    on_trace_ready=profiler.tensorboard_trace_handler(\"./logs\"),  # Optional logging\n",
        "    record_shapes=True,\n",
        "    with_stack=True\n",
        ") as prof:\n",
        "    with torch.no_grad():\n",
        "        model(dummy_input)\n",
        "\n",
        "\n",
        "# Print results\n",
        "print(prof.key_averages().table(sort_by=\"cuda_time_total\" if torch.cuda.is_available() else \"cpu_time_total\", row_limit=10))"
      ]
    },
    {
      "cell_type": "code",
      "source": [],
      "metadata": {
        "id": "yeq3p52XFOf7"
      },
      "execution_count": null,
      "outputs": []
    }
  ],
  "metadata": {
    "accelerator": "GPU",
    "colab": {
      "gpuType": "A100",
      "provenance": []
    },
    "kernelspec": {
      "display_name": "Python 3",
      "name": "python3"
    },
    "language_info": {
      "codemirror_mode": {
        "name": "ipython",
        "version": 3
      },
      "file_extension": ".py",
      "mimetype": "text/x-python",
      "name": "python",
      "nbconvert_exporter": "python",
      "pygments_lexer": "ipython3",
      "version": "3.10.0"
    }
  },
  "nbformat": 4,
  "nbformat_minor": 0
}