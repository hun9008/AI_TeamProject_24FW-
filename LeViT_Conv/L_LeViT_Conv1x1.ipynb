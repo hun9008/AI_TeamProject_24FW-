{
  "cells": [
    {
      "cell_type": "code",
      "execution_count": 1,
      "metadata": {
        "colab": {
          "base_uri": "https://localhost:8080/"
        },
        "id": "gOt_dilyzGPf",
        "outputId": "8445bb21-24d2-45a6-8d78-c3ef472f82f1"
      },
      "outputs": [
        {
          "output_type": "stream",
          "name": "stdout",
          "text": [
            "Collecting torchinfo\n",
            "  Downloading torchinfo-1.8.0-py3-none-any.whl.metadata (21 kB)\n",
            "Downloading torchinfo-1.8.0-py3-none-any.whl (23 kB)\n",
            "Installing collected packages: torchinfo\n",
            "Successfully installed torchinfo-1.8.0\n"
          ]
        }
      ],
      "source": [
        "!pip install torchinfo"
      ]
    },
    {
      "cell_type": "code",
      "execution_count": 2,
      "metadata": {
        "id": "tZSEFQzWzBPy"
      },
      "outputs": [],
      "source": [
        "import timm\n",
        "import torch\n",
        "import torch.nn as nn\n",
        "import torch.optim as optim\n",
        "from torchvision import datasets, transforms\n",
        "from torch.utils.data import DataLoader, random_split, ConcatDataset\n",
        "import numpy as np\n",
        "from tqdm import tqdm\n",
        "\n",
        "import itertools\n",
        "from torchinfo import summary"
      ]
    },
    {
      "cell_type": "code",
      "execution_count": 3,
      "metadata": {
        "id": "5N0s6e-mzBPz"
      },
      "outputs": [],
      "source": [
        "class ConvNorm(nn.Module):\n",
        "    def __init__(self, in_channels, out_channels, kernel_size=3, stride=2, padding=1):\n",
        "        super(ConvNorm, self).__init__()\n",
        "        self.linear = nn.Conv2d(\n",
        "            in_channels, out_channels, kernel_size=kernel_size,\n",
        "            stride=stride, padding=padding, bias=False\n",
        "        )\n",
        "        self.bn = nn.BatchNorm2d(out_channels)\n",
        "\n",
        "    def forward(self, x):\n",
        "        x = self.linear(x)\n",
        "        x = self.bn(x)\n",
        "        return x"
      ]
    },
    {
      "cell_type": "code",
      "execution_count": 4,
      "metadata": {
        "id": "fX0CnXd9zBP0"
      },
      "outputs": [],
      "source": [
        "class Stem16(nn.Module):\n",
        "    def __init__(self):\n",
        "        super(Stem16, self).__init__()\n",
        "        self.conv1 = ConvNorm(3, 32)\n",
        "        self.act1 = nn.Hardswish()\n",
        "        self.conv2 = ConvNorm(32, 64)\n",
        "        self.act2 = nn.Hardswish()\n",
        "        self.conv3 = ConvNorm(64, 128)\n",
        "        self.act3 = nn.Hardswish()\n",
        "        self.conv4 = ConvNorm(128, 256)\n",
        "\n",
        "    def forward(self, x):\n",
        "        x = self.act1(self.conv1(x))\n",
        "        x = self.act2(self.conv2(x))\n",
        "        x = self.act3(self.conv3(x))\n",
        "        x = self.conv4(x)\n",
        "        return x"
      ]
    },
    {
      "cell_type": "code",
      "execution_count": 5,
      "metadata": {
        "id": "7tw3fRfnzBP0"
      },
      "outputs": [],
      "source": [
        "class LinearNorm(nn.Module):\n",
        "    def __init__(self, in_features, out_features):\n",
        "        super(LinearNorm, self).__init__()\n",
        "        self.linear = nn.Linear(in_features, out_features, bias=False)\n",
        "        self.bn = nn.BatchNorm1d(out_features)\n",
        "\n",
        "    def forward(self, x):\n",
        "\n",
        "        if x.dim() == 3:\n",
        "            B, N, C = x.shape\n",
        "            x = x.reshape(B * N, C)\n",
        "            x = self.bn(self.linear(x))\n",
        "            x = x.reshape(B, N, -1)\n",
        "        else:\n",
        "            x = self.bn(self.linear(x))\n",
        "        return x"
      ]
    },
    {
      "cell_type": "code",
      "execution_count": 6,
      "metadata": {
        "id": "rW7vhH2YzBP1"
      },
      "outputs": [],
      "source": [
        "class Attention(nn.Module):\n",
        "    def __init__(self, dim, num_heads, attn_ratio=2):\n",
        "        super(Attention, self).__init__()\n",
        "        self.num_heads = num_heads\n",
        "        head_dim = dim // num_heads\n",
        "        self.scale = head_dim ** -0.5\n",
        "        inner_dim = head_dim * num_heads * 3\n",
        "        self.qkv = LinearNorm(dim, inner_dim)\n",
        "\n",
        "        self.proj = nn.Sequential(\n",
        "            nn.Hardswish(),\n",
        "            LinearNorm(dim, dim)\n",
        "        )\n",
        "\n",
        "    def forward(self, x):\n",
        "        B, N, C = x.shape\n",
        "        qkv = self.qkv(x)\n",
        "        qkv = qkv.view(B, N, 3, self.num_heads, C // self.num_heads).permute(2, 0, 3, 1, 4)\n",
        "        q, k, v = qkv[0], qkv[1], qkv[2]\n",
        "        attn = (q @ k.transpose(-2, -1)) * self.scale\n",
        "        attn = attn.softmax(dim=-1)\n",
        "        x = (attn @ v).transpose(1, 2).reshape(B, N, C)\n",
        "        return self.proj(x)"
      ]
    },
    {
      "cell_type": "code",
      "execution_count": 7,
      "metadata": {
        "id": "ewOcRA2dzBP1"
      },
      "outputs": [],
      "source": [
        "class LevitMlp(nn.Module):\n",
        "    def __init__(self, in_features, hidden_features, out_features):\n",
        "        super(LevitMlp, self).__init__()\n",
        "        self.ln1 = LinearNorm(in_features, hidden_features)\n",
        "        self.act = nn.Hardswish()\n",
        "        self.drop = nn.Dropout(p=0.0, inplace=False)\n",
        "        self.ln2 = LinearNorm(hidden_features, out_features)\n",
        "\n",
        "    def forward(self, x):\n",
        "        x = self.ln1(x)\n",
        "        x = self.act(x)\n",
        "        x = self.drop(x)\n",
        "        x = self.ln2(x)\n",
        "        return x"
      ]
    },
    {
      "cell_type": "code",
      "execution_count": 8,
      "metadata": {
        "id": "1m-F4YvfzBP2"
      },
      "outputs": [],
      "source": [
        "class LevitBlock(nn.Module):\n",
        "    def __init__(self, dim, num_heads, mlp_ratio=2):\n",
        "        super(LevitBlock, self).__init__()\n",
        "        self.attn = Attention(dim, num_heads)\n",
        "        self.drop_path1 = nn.Identity()\n",
        "        self.mlp = LevitMlp(dim, dim * mlp_ratio, dim)\n",
        "        self.drop_path2 = nn.Identity()\n",
        "\n",
        "    def forward(self, x):\n",
        "        x = x + self.drop_path1(self.attn(x))\n",
        "        x = x + self.drop_path2(self.mlp(x))\n",
        "        return x"
      ]
    },
    {
      "cell_type": "code",
      "execution_count": 9,
      "metadata": {
        "id": "pDfX1xE1zBP2"
      },
      "outputs": [],
      "source": [
        "class AttentionDownsample(nn.Module):\n",
        "    def __init__(self, dim, out_dim, num_heads, attn_ratio=2):\n",
        "        super(AttentionDownsample, self).__init__()\n",
        "        self.num_heads = num_heads\n",
        "        self.scale = (dim // num_heads) ** -0.5\n",
        "        inner_dim = dim * attn_ratio * num_heads\n",
        "        self.kv = LinearNorm(dim, inner_dim)\n",
        "\n",
        "        self.q = nn.Sequential(\n",
        "            nn.Conv2d(dim, dim, kernel_size=2, stride=2),\n",
        "            nn.Flatten(start_dim=1)\n",
        "        )\n",
        "\n",
        "        self.proj = nn.Sequential(\n",
        "            nn.Hardswish(),\n",
        "            LinearNorm(dim, out_dim)\n",
        "        )\n",
        "\n",
        "    def forward(self, x):\n",
        "        B, N, C = x.shape\n",
        "        H = W = int(N ** 0.5)\n",
        "        x = x.reshape(B, C, H, W)\n",
        "\n",
        "        kv = self.kv(x.flatten(2).transpose(1, 2))\n",
        "        q = self.q(x)\n",
        "\n",
        "        q = q.reshape(B, -1, C)\n",
        "        x = self.proj(q)\n",
        "        return x"
      ]
    },
    {
      "cell_type": "code",
      "execution_count": 10,
      "metadata": {
        "id": "Z26uegOwzBP2"
      },
      "outputs": [],
      "source": [
        "class LevitDownsample(nn.Module):\n",
        "    def __init__(self, dim, out_dim, num_heads, attn_ratio=2):\n",
        "        super(LevitDownsample, self).__init__()\n",
        "        self.attn_downsample = AttentionDownsample(dim, out_dim, num_heads, attn_ratio)\n",
        "        self.mlp = LevitMlp(out_dim, out_dim * attn_ratio, out_dim)\n",
        "        self.drop_path = nn.Identity()\n",
        "\n",
        "    def forward(self, x):\n",
        "        x = self.attn_downsample(x)\n",
        "        x = self.drop_path(self.mlp(x))\n",
        "        return x"
      ]
    },
    {
      "cell_type": "code",
      "execution_count": 11,
      "metadata": {
        "id": "oGsAuLPfzBP3"
      },
      "outputs": [],
      "source": [
        "class LevitStage(nn.Module):\n",
        "    def __init__(self, dim, out_dim, num_heads, num_blocks, downsample=True):\n",
        "        super(LevitStage, self).__init__()\n",
        "        self.downsample = LevitDownsample(dim, out_dim, num_heads) if downsample else nn.Identity()\n",
        "        self.blocks = nn.Sequential(*[LevitBlock(out_dim, num_heads) for _ in range(num_blocks)])\n",
        "\n",
        "    def forward(self, x):\n",
        "        x = self.downsample(x)\n",
        "        x = self.blocks(x)\n",
        "        return x"
      ]
    },
    {
      "cell_type": "code",
      "source": [
        "class ConvLevitStage(nn.Module):\n",
        "    def __init__(self, in_channels, out_channels, num_blocks, kernel_size, stride, padding):\n",
        "        super(ConvLevitStage, self).__init__()\n",
        "        self.layers = nn.Sequential(\n",
        "            *[nn.Conv2d(in_channels if i == 0 else out_channels, out_channels, kernel_size, stride, padding)\n",
        "              for i in range(num_blocks)],\n",
        "            nn.BatchNorm2d(out_channels),\n",
        "            nn.ReLU(inplace=True)\n",
        "        )\n",
        "\n",
        "    def forward(self, x):\n",
        "        return self.layers(x)"
      ],
      "metadata": {
        "id": "2PBkdZUuhsDI"
      },
      "execution_count": 12,
      "outputs": []
    },
    {
      "cell_type": "code",
      "execution_count": 13,
      "metadata": {
        "id": "bBPec4pbzBP3"
      },
      "outputs": [],
      "source": [
        "class NormLinear(nn.Module):\n",
        "    def __init__(self, in_features, out_features, dropout_prob=0.0):\n",
        "        super(NormLinear, self).__init__()\n",
        "        self.bn = nn.BatchNorm1d(in_features)\n",
        "        self.drop = nn.Dropout(p=dropout_prob, inplace=False)\n",
        "        self.linear = nn.Linear(in_features, out_features, bias=True)\n",
        "\n",
        "    def forward(self, x):\n",
        "        x = self.bn(x)\n",
        "        x = self.drop(x)\n",
        "        x = self.linear(x)\n",
        "        return x\n"
      ]
    },
    {
      "cell_type": "code",
      "execution_count": 14,
      "metadata": {
        "id": "mt5kkekezBP3"
      },
      "outputs": [],
      "source": [
        "class LevitDistilled(nn.Module):\n",
        "    def __init__(self, num_classes=37):\n",
        "        super(LevitDistilled, self).__init__()\n",
        "\n",
        "        self.stem = Stem16()\n",
        "\n",
        "        self.stage1 = LevitStage(dim=256, out_dim=256, num_heads=4, num_blocks=3, downsample=False)\n",
        "        self.stage2 = LevitStage(dim=256, out_dim=384, num_heads=6, num_blocks=3, downsample=True)\n",
        "\n",
        "        self.conv1x1 = nn.Sequential(\n",
        "            nn.Conv2d(384, 512, kernel_size=1, stride=1, padding=0),\n",
        "            nn.BatchNorm2d(512),\n",
        "            nn.ReLU(inplace=True)\n",
        "        )\n",
        "\n",
        "        self.head = NormLinear(in_features=512, out_features=num_classes, dropout_prob=0.0)\n",
        "        self.head_dist = NormLinear(in_features=512, out_features=num_classes, dropout_prob=0.0)\n",
        "\n",
        "    def forward(self, x):\n",
        "        x = self.stem(x)\n",
        "\n",
        "        B, C, H, W = x.shape\n",
        "        x = x.view(B, C, -1).transpose(1, 2)\n",
        "        x = self.stage1(x)\n",
        "        x = self.stage2(x)\n",
        "\n",
        "        H = W = int(x.shape[1]**0.5)\n",
        "        x = x.transpose(1, 2).view(B, 384, H, W)\n",
        "\n",
        "        x = self.conv1x1(x)\n",
        "\n",
        "        x = torch.mean(x, dim=(2, 3))\n",
        "        out = self.head(x)\n",
        "        out_dist = self.head_dist(x)\n",
        "        return out"
      ]
    },
    {
      "cell_type": "code",
      "execution_count": 15,
      "metadata": {
        "id": "tP9YQ8094vV6",
        "colab": {
          "base_uri": "https://localhost:8080/",
          "height": 156,
          "referenced_widgets": [
            "d0c690f8723c47b0a6e3f19ffac29a4d",
            "37888ccfcb8843bea3345b5921760727",
            "7cb99297fb7d4ff48f705d46f13621e4",
            "a34cfc563dd647fb800587122ca64c2b",
            "8b1af1f502bc45a4acd42d7cdfd59fa7",
            "5e94265dc67f4f5394d5eaac160d2180",
            "5cb41585583e4c8c91b9fe62ec4d551a",
            "3d30bae547eb4404a982a43955fc97b2",
            "78db1ebfc467471ba41f12e4d7a0df9e",
            "a74615005de54cb5bf5f0df47fcd17bb",
            "ad3da768b68147d7b38259f536dd6487"
          ]
        },
        "outputId": "c5fbf478-57f3-4a52-ddf4-571f06043548"
      },
      "outputs": [
        {
          "output_type": "stream",
          "name": "stderr",
          "text": [
            "/usr/local/lib/python3.10/dist-packages/huggingface_hub/utils/_auth.py:94: UserWarning: \n",
            "The secret `HF_TOKEN` does not exist in your Colab secrets.\n",
            "To authenticate with the Hugging Face Hub, create a token in your settings tab (https://huggingface.co/settings/tokens), set it as secret in your Google Colab and restart your session.\n",
            "You will be able to reuse this secret in all of your notebooks.\n",
            "Please note that authentication is recommended but still optional to access public models or datasets.\n",
            "  warnings.warn(\n"
          ]
        },
        {
          "output_type": "display_data",
          "data": {
            "text/plain": [
              "model.safetensors:   0%|          | 0.00/102M [00:00<?, ?B/s]"
            ],
            "application/vnd.jupyter.widget-view+json": {
              "version_major": 2,
              "version_minor": 0,
              "model_id": "d0c690f8723c47b0a6e3f19ffac29a4d"
            }
          },
          "metadata": {}
        }
      ],
      "source": [
        "ResNet50 = timm.create_model('resnet50', pretrained=True)"
      ]
    },
    {
      "cell_type": "code",
      "execution_count": 16,
      "metadata": {
        "colab": {
          "base_uri": "https://localhost:8080/"
        },
        "id": "k5kDAmg84xs_",
        "outputId": "f61e19a7-bb5c-40db-e60d-5fa229358265",
        "collapsed": true
      },
      "outputs": [
        {
          "output_type": "stream",
          "name": "stdout",
          "text": [
            "==========================================================================================\n",
            "Layer (type:depth-idx)                   Output Shape              Param #\n",
            "==========================================================================================\n",
            "ResNet                                   [32, 1000]                --\n",
            "├─Conv2d: 1-1                            [32, 64, 112, 112]        9,408\n",
            "├─BatchNorm2d: 1-2                       [32, 64, 112, 112]        128\n",
            "├─ReLU: 1-3                              [32, 64, 112, 112]        --\n",
            "├─MaxPool2d: 1-4                         [32, 64, 56, 56]          --\n",
            "├─Sequential: 1-5                        [32, 256, 56, 56]         --\n",
            "│    └─Bottleneck: 2-1                   [32, 256, 56, 56]         --\n",
            "│    │    └─Conv2d: 3-1                  [32, 64, 56, 56]          4,096\n",
            "│    │    └─BatchNorm2d: 3-2             [32, 64, 56, 56]          128\n",
            "│    │    └─ReLU: 3-3                    [32, 64, 56, 56]          --\n",
            "│    │    └─Conv2d: 3-4                  [32, 64, 56, 56]          36,864\n",
            "│    │    └─BatchNorm2d: 3-5             [32, 64, 56, 56]          128\n",
            "│    │    └─Identity: 3-6                [32, 64, 56, 56]          --\n",
            "│    │    └─ReLU: 3-7                    [32, 64, 56, 56]          --\n",
            "│    │    └─Identity: 3-8                [32, 64, 56, 56]          --\n",
            "│    │    └─Conv2d: 3-9                  [32, 256, 56, 56]         16,384\n",
            "│    │    └─BatchNorm2d: 3-10            [32, 256, 56, 56]         512\n",
            "│    │    └─Sequential: 3-11             [32, 256, 56, 56]         16,896\n",
            "│    │    └─ReLU: 3-12                   [32, 256, 56, 56]         --\n",
            "│    └─Bottleneck: 2-2                   [32, 256, 56, 56]         --\n",
            "│    │    └─Conv2d: 3-13                 [32, 64, 56, 56]          16,384\n",
            "│    │    └─BatchNorm2d: 3-14            [32, 64, 56, 56]          128\n",
            "│    │    └─ReLU: 3-15                   [32, 64, 56, 56]          --\n",
            "│    │    └─Conv2d: 3-16                 [32, 64, 56, 56]          36,864\n",
            "│    │    └─BatchNorm2d: 3-17            [32, 64, 56, 56]          128\n",
            "│    │    └─Identity: 3-18               [32, 64, 56, 56]          --\n",
            "│    │    └─ReLU: 3-19                   [32, 64, 56, 56]          --\n",
            "│    │    └─Identity: 3-20               [32, 64, 56, 56]          --\n",
            "│    │    └─Conv2d: 3-21                 [32, 256, 56, 56]         16,384\n",
            "│    │    └─BatchNorm2d: 3-22            [32, 256, 56, 56]         512\n",
            "│    │    └─ReLU: 3-23                   [32, 256, 56, 56]         --\n",
            "│    └─Bottleneck: 2-3                   [32, 256, 56, 56]         --\n",
            "│    │    └─Conv2d: 3-24                 [32, 64, 56, 56]          16,384\n",
            "│    │    └─BatchNorm2d: 3-25            [32, 64, 56, 56]          128\n",
            "│    │    └─ReLU: 3-26                   [32, 64, 56, 56]          --\n",
            "│    │    └─Conv2d: 3-27                 [32, 64, 56, 56]          36,864\n",
            "│    │    └─BatchNorm2d: 3-28            [32, 64, 56, 56]          128\n",
            "│    │    └─Identity: 3-29               [32, 64, 56, 56]          --\n",
            "│    │    └─ReLU: 3-30                   [32, 64, 56, 56]          --\n",
            "│    │    └─Identity: 3-31               [32, 64, 56, 56]          --\n",
            "│    │    └─Conv2d: 3-32                 [32, 256, 56, 56]         16,384\n",
            "│    │    └─BatchNorm2d: 3-33            [32, 256, 56, 56]         512\n",
            "│    │    └─ReLU: 3-34                   [32, 256, 56, 56]         --\n",
            "├─Sequential: 1-6                        [32, 512, 28, 28]         --\n",
            "│    └─Bottleneck: 2-4                   [32, 512, 28, 28]         --\n",
            "│    │    └─Conv2d: 3-35                 [32, 128, 56, 56]         32,768\n",
            "│    │    └─BatchNorm2d: 3-36            [32, 128, 56, 56]         256\n",
            "│    │    └─ReLU: 3-37                   [32, 128, 56, 56]         --\n",
            "│    │    └─Conv2d: 3-38                 [32, 128, 28, 28]         147,456\n",
            "│    │    └─BatchNorm2d: 3-39            [32, 128, 28, 28]         256\n",
            "│    │    └─Identity: 3-40               [32, 128, 28, 28]         --\n",
            "│    │    └─ReLU: 3-41                   [32, 128, 28, 28]         --\n",
            "│    │    └─Identity: 3-42               [32, 128, 28, 28]         --\n",
            "│    │    └─Conv2d: 3-43                 [32, 512, 28, 28]         65,536\n",
            "│    │    └─BatchNorm2d: 3-44            [32, 512, 28, 28]         1,024\n",
            "│    │    └─Sequential: 3-45             [32, 512, 28, 28]         132,096\n",
            "│    │    └─ReLU: 3-46                   [32, 512, 28, 28]         --\n",
            "│    └─Bottleneck: 2-5                   [32, 512, 28, 28]         --\n",
            "│    │    └─Conv2d: 3-47                 [32, 128, 28, 28]         65,536\n",
            "│    │    └─BatchNorm2d: 3-48            [32, 128, 28, 28]         256\n",
            "│    │    └─ReLU: 3-49                   [32, 128, 28, 28]         --\n",
            "│    │    └─Conv2d: 3-50                 [32, 128, 28, 28]         147,456\n",
            "│    │    └─BatchNorm2d: 3-51            [32, 128, 28, 28]         256\n",
            "│    │    └─Identity: 3-52               [32, 128, 28, 28]         --\n",
            "│    │    └─ReLU: 3-53                   [32, 128, 28, 28]         --\n",
            "│    │    └─Identity: 3-54               [32, 128, 28, 28]         --\n",
            "│    │    └─Conv2d: 3-55                 [32, 512, 28, 28]         65,536\n",
            "│    │    └─BatchNorm2d: 3-56            [32, 512, 28, 28]         1,024\n",
            "│    │    └─ReLU: 3-57                   [32, 512, 28, 28]         --\n",
            "│    └─Bottleneck: 2-6                   [32, 512, 28, 28]         --\n",
            "│    │    └─Conv2d: 3-58                 [32, 128, 28, 28]         65,536\n",
            "│    │    └─BatchNorm2d: 3-59            [32, 128, 28, 28]         256\n",
            "│    │    └─ReLU: 3-60                   [32, 128, 28, 28]         --\n",
            "│    │    └─Conv2d: 3-61                 [32, 128, 28, 28]         147,456\n",
            "│    │    └─BatchNorm2d: 3-62            [32, 128, 28, 28]         256\n",
            "│    │    └─Identity: 3-63               [32, 128, 28, 28]         --\n",
            "│    │    └─ReLU: 3-64                   [32, 128, 28, 28]         --\n",
            "│    │    └─Identity: 3-65               [32, 128, 28, 28]         --\n",
            "│    │    └─Conv2d: 3-66                 [32, 512, 28, 28]         65,536\n",
            "│    │    └─BatchNorm2d: 3-67            [32, 512, 28, 28]         1,024\n",
            "│    │    └─ReLU: 3-68                   [32, 512, 28, 28]         --\n",
            "│    └─Bottleneck: 2-7                   [32, 512, 28, 28]         --\n",
            "│    │    └─Conv2d: 3-69                 [32, 128, 28, 28]         65,536\n",
            "│    │    └─BatchNorm2d: 3-70            [32, 128, 28, 28]         256\n",
            "│    │    └─ReLU: 3-71                   [32, 128, 28, 28]         --\n",
            "│    │    └─Conv2d: 3-72                 [32, 128, 28, 28]         147,456\n",
            "│    │    └─BatchNorm2d: 3-73            [32, 128, 28, 28]         256\n",
            "│    │    └─Identity: 3-74               [32, 128, 28, 28]         --\n",
            "│    │    └─ReLU: 3-75                   [32, 128, 28, 28]         --\n",
            "│    │    └─Identity: 3-76               [32, 128, 28, 28]         --\n",
            "│    │    └─Conv2d: 3-77                 [32, 512, 28, 28]         65,536\n",
            "│    │    └─BatchNorm2d: 3-78            [32, 512, 28, 28]         1,024\n",
            "│    │    └─ReLU: 3-79                   [32, 512, 28, 28]         --\n",
            "├─Sequential: 1-7                        [32, 1024, 14, 14]        --\n",
            "│    └─Bottleneck: 2-8                   [32, 1024, 14, 14]        --\n",
            "│    │    └─Conv2d: 3-80                 [32, 256, 28, 28]         131,072\n",
            "│    │    └─BatchNorm2d: 3-81            [32, 256, 28, 28]         512\n",
            "│    │    └─ReLU: 3-82                   [32, 256, 28, 28]         --\n",
            "│    │    └─Conv2d: 3-83                 [32, 256, 14, 14]         589,824\n",
            "│    │    └─BatchNorm2d: 3-84            [32, 256, 14, 14]         512\n",
            "│    │    └─Identity: 3-85               [32, 256, 14, 14]         --\n",
            "│    │    └─ReLU: 3-86                   [32, 256, 14, 14]         --\n",
            "│    │    └─Identity: 3-87               [32, 256, 14, 14]         --\n",
            "│    │    └─Conv2d: 3-88                 [32, 1024, 14, 14]        262,144\n",
            "│    │    └─BatchNorm2d: 3-89            [32, 1024, 14, 14]        2,048\n",
            "│    │    └─Sequential: 3-90             [32, 1024, 14, 14]        526,336\n",
            "│    │    └─ReLU: 3-91                   [32, 1024, 14, 14]        --\n",
            "│    └─Bottleneck: 2-9                   [32, 1024, 14, 14]        --\n",
            "│    │    └─Conv2d: 3-92                 [32, 256, 14, 14]         262,144\n",
            "│    │    └─BatchNorm2d: 3-93            [32, 256, 14, 14]         512\n",
            "│    │    └─ReLU: 3-94                   [32, 256, 14, 14]         --\n",
            "│    │    └─Conv2d: 3-95                 [32, 256, 14, 14]         589,824\n",
            "│    │    └─BatchNorm2d: 3-96            [32, 256, 14, 14]         512\n",
            "│    │    └─Identity: 3-97               [32, 256, 14, 14]         --\n",
            "│    │    └─ReLU: 3-98                   [32, 256, 14, 14]         --\n",
            "│    │    └─Identity: 3-99               [32, 256, 14, 14]         --\n",
            "│    │    └─Conv2d: 3-100                [32, 1024, 14, 14]        262,144\n",
            "│    │    └─BatchNorm2d: 3-101           [32, 1024, 14, 14]        2,048\n",
            "│    │    └─ReLU: 3-102                  [32, 1024, 14, 14]        --\n",
            "│    └─Bottleneck: 2-10                  [32, 1024, 14, 14]        --\n",
            "│    │    └─Conv2d: 3-103                [32, 256, 14, 14]         262,144\n",
            "│    │    └─BatchNorm2d: 3-104           [32, 256, 14, 14]         512\n",
            "│    │    └─ReLU: 3-105                  [32, 256, 14, 14]         --\n",
            "│    │    └─Conv2d: 3-106                [32, 256, 14, 14]         589,824\n",
            "│    │    └─BatchNorm2d: 3-107           [32, 256, 14, 14]         512\n",
            "│    │    └─Identity: 3-108              [32, 256, 14, 14]         --\n",
            "│    │    └─ReLU: 3-109                  [32, 256, 14, 14]         --\n",
            "│    │    └─Identity: 3-110              [32, 256, 14, 14]         --\n",
            "│    │    └─Conv2d: 3-111                [32, 1024, 14, 14]        262,144\n",
            "│    │    └─BatchNorm2d: 3-112           [32, 1024, 14, 14]        2,048\n",
            "│    │    └─ReLU: 3-113                  [32, 1024, 14, 14]        --\n",
            "│    └─Bottleneck: 2-11                  [32, 1024, 14, 14]        --\n",
            "│    │    └─Conv2d: 3-114                [32, 256, 14, 14]         262,144\n",
            "│    │    └─BatchNorm2d: 3-115           [32, 256, 14, 14]         512\n",
            "│    │    └─ReLU: 3-116                  [32, 256, 14, 14]         --\n",
            "│    │    └─Conv2d: 3-117                [32, 256, 14, 14]         589,824\n",
            "│    │    └─BatchNorm2d: 3-118           [32, 256, 14, 14]         512\n",
            "│    │    └─Identity: 3-119              [32, 256, 14, 14]         --\n",
            "│    │    └─ReLU: 3-120                  [32, 256, 14, 14]         --\n",
            "│    │    └─Identity: 3-121              [32, 256, 14, 14]         --\n",
            "│    │    └─Conv2d: 3-122                [32, 1024, 14, 14]        262,144\n",
            "│    │    └─BatchNorm2d: 3-123           [32, 1024, 14, 14]        2,048\n",
            "│    │    └─ReLU: 3-124                  [32, 1024, 14, 14]        --\n",
            "│    └─Bottleneck: 2-12                  [32, 1024, 14, 14]        --\n",
            "│    │    └─Conv2d: 3-125                [32, 256, 14, 14]         262,144\n",
            "│    │    └─BatchNorm2d: 3-126           [32, 256, 14, 14]         512\n",
            "│    │    └─ReLU: 3-127                  [32, 256, 14, 14]         --\n",
            "│    │    └─Conv2d: 3-128                [32, 256, 14, 14]         589,824\n",
            "│    │    └─BatchNorm2d: 3-129           [32, 256, 14, 14]         512\n",
            "│    │    └─Identity: 3-130              [32, 256, 14, 14]         --\n",
            "│    │    └─ReLU: 3-131                  [32, 256, 14, 14]         --\n",
            "│    │    └─Identity: 3-132              [32, 256, 14, 14]         --\n",
            "│    │    └─Conv2d: 3-133                [32, 1024, 14, 14]        262,144\n",
            "│    │    └─BatchNorm2d: 3-134           [32, 1024, 14, 14]        2,048\n",
            "│    │    └─ReLU: 3-135                  [32, 1024, 14, 14]        --\n",
            "│    └─Bottleneck: 2-13                  [32, 1024, 14, 14]        --\n",
            "│    │    └─Conv2d: 3-136                [32, 256, 14, 14]         262,144\n",
            "│    │    └─BatchNorm2d: 3-137           [32, 256, 14, 14]         512\n",
            "│    │    └─ReLU: 3-138                  [32, 256, 14, 14]         --\n",
            "│    │    └─Conv2d: 3-139                [32, 256, 14, 14]         589,824\n",
            "│    │    └─BatchNorm2d: 3-140           [32, 256, 14, 14]         512\n",
            "│    │    └─Identity: 3-141              [32, 256, 14, 14]         --\n",
            "│    │    └─ReLU: 3-142                  [32, 256, 14, 14]         --\n",
            "│    │    └─Identity: 3-143              [32, 256, 14, 14]         --\n",
            "│    │    └─Conv2d: 3-144                [32, 1024, 14, 14]        262,144\n",
            "│    │    └─BatchNorm2d: 3-145           [32, 1024, 14, 14]        2,048\n",
            "│    │    └─ReLU: 3-146                  [32, 1024, 14, 14]        --\n",
            "├─Sequential: 1-8                        [32, 2048, 7, 7]          --\n",
            "│    └─Bottleneck: 2-14                  [32, 2048, 7, 7]          --\n",
            "│    │    └─Conv2d: 3-147                [32, 512, 14, 14]         524,288\n",
            "│    │    └─BatchNorm2d: 3-148           [32, 512, 14, 14]         1,024\n",
            "│    │    └─ReLU: 3-149                  [32, 512, 14, 14]         --\n",
            "│    │    └─Conv2d: 3-150                [32, 512, 7, 7]           2,359,296\n",
            "│    │    └─BatchNorm2d: 3-151           [32, 512, 7, 7]           1,024\n",
            "│    │    └─Identity: 3-152              [32, 512, 7, 7]           --\n",
            "│    │    └─ReLU: 3-153                  [32, 512, 7, 7]           --\n",
            "│    │    └─Identity: 3-154              [32, 512, 7, 7]           --\n",
            "│    │    └─Conv2d: 3-155                [32, 2048, 7, 7]          1,048,576\n",
            "│    │    └─BatchNorm2d: 3-156           [32, 2048, 7, 7]          4,096\n",
            "│    │    └─Sequential: 3-157            [32, 2048, 7, 7]          2,101,248\n",
            "│    │    └─ReLU: 3-158                  [32, 2048, 7, 7]          --\n",
            "│    └─Bottleneck: 2-15                  [32, 2048, 7, 7]          --\n",
            "│    │    └─Conv2d: 3-159                [32, 512, 7, 7]           1,048,576\n",
            "│    │    └─BatchNorm2d: 3-160           [32, 512, 7, 7]           1,024\n",
            "│    │    └─ReLU: 3-161                  [32, 512, 7, 7]           --\n",
            "│    │    └─Conv2d: 3-162                [32, 512, 7, 7]           2,359,296\n",
            "│    │    └─BatchNorm2d: 3-163           [32, 512, 7, 7]           1,024\n",
            "│    │    └─Identity: 3-164              [32, 512, 7, 7]           --\n",
            "│    │    └─ReLU: 3-165                  [32, 512, 7, 7]           --\n",
            "│    │    └─Identity: 3-166              [32, 512, 7, 7]           --\n",
            "│    │    └─Conv2d: 3-167                [32, 2048, 7, 7]          1,048,576\n",
            "│    │    └─BatchNorm2d: 3-168           [32, 2048, 7, 7]          4,096\n",
            "│    │    └─ReLU: 3-169                  [32, 2048, 7, 7]          --\n",
            "│    └─Bottleneck: 2-16                  [32, 2048, 7, 7]          --\n",
            "│    │    └─Conv2d: 3-170                [32, 512, 7, 7]           1,048,576\n",
            "│    │    └─BatchNorm2d: 3-171           [32, 512, 7, 7]           1,024\n",
            "│    │    └─ReLU: 3-172                  [32, 512, 7, 7]           --\n",
            "│    │    └─Conv2d: 3-173                [32, 512, 7, 7]           2,359,296\n",
            "│    │    └─BatchNorm2d: 3-174           [32, 512, 7, 7]           1,024\n",
            "│    │    └─Identity: 3-175              [32, 512, 7, 7]           --\n",
            "│    │    └─ReLU: 3-176                  [32, 512, 7, 7]           --\n",
            "│    │    └─Identity: 3-177              [32, 512, 7, 7]           --\n",
            "│    │    └─Conv2d: 3-178                [32, 2048, 7, 7]          1,048,576\n",
            "│    │    └─BatchNorm2d: 3-179           [32, 2048, 7, 7]          4,096\n",
            "│    │    └─ReLU: 3-180                  [32, 2048, 7, 7]          --\n",
            "├─SelectAdaptivePool2d: 1-9              [32, 2048]                --\n",
            "│    └─AdaptiveAvgPool2d: 2-17           [32, 2048, 1, 1]          --\n",
            "│    └─Flatten: 2-18                     [32, 2048]                --\n",
            "├─Linear: 1-10                           [32, 1000]                2,049,000\n",
            "==========================================================================================\n",
            "Total params: 25,557,032\n",
            "Trainable params: 25,557,032\n",
            "Non-trainable params: 0\n",
            "Total mult-adds (G): 130.86\n",
            "==========================================================================================\n",
            "Input size (MB): 19.27\n",
            "Forward/backward pass size (MB): 5690.62\n",
            "Params size (MB): 102.23\n",
            "Estimated Total Size (MB): 5812.11\n",
            "==========================================================================================\n"
          ]
        }
      ],
      "source": [
        "print(summary(ResNet50, input_size=(32, 3, 224, 224)))"
      ]
    },
    {
      "cell_type": "code",
      "execution_count": 17,
      "metadata": {
        "id": "jr3cd2Ro67IM"
      },
      "outputs": [],
      "source": [
        "for param in ResNet50.parameters():\n",
        "    param.requires_grad = False"
      ]
    },
    {
      "cell_type": "code",
      "execution_count": 18,
      "metadata": {
        "id": "e0vDyvmN821X"
      },
      "outputs": [],
      "source": [
        "ResNet50.fc = nn.Identity()"
      ]
    },
    {
      "cell_type": "code",
      "execution_count": 19,
      "metadata": {
        "id": "xJDiw4Kc4674"
      },
      "outputs": [],
      "source": [
        "class LauncherModel(nn.Module):\n",
        "    def __init__(self):\n",
        "        super().__init__()\n",
        "        self.resnet = ResNet50\n",
        "        self.fc = nn.Linear(2048, 3 * 56 * 56)\n",
        "\n",
        "        self.upsample = nn.ConvTranspose2d(3, 3, kernel_size=4, stride=4, padding=0)\n",
        "\n",
        "        self.levit = LevitDistilled()\n",
        "\n",
        "    def forward(self, x):\n",
        "        x = self.resnet(x)  # (32, 2048)\n",
        "        x = self.fc(x)  # (32, 9408)\n",
        "        x = x.view(x.size(0), 3, 56, 56)  # (32, 3, 56, 56)\n",
        "        x = self.upsample(x)  # (32, 3, 224, 224)\n",
        "        x = self.levit(x)\n",
        "        return x\n"
      ]
    },
    {
      "cell_type": "code",
      "execution_count": 20,
      "metadata": {
        "colab": {
          "base_uri": "https://localhost:8080/"
        },
        "id": "kz4Um3NmzBP3",
        "outputId": "f223da6b-b8a2-4a17-8918-36e297299048"
      },
      "outputs": [
        {
          "output_type": "stream",
          "name": "stdout",
          "text": [
            "LauncherModel(\n",
            "  (resnet): ResNet(\n",
            "    (conv1): Conv2d(3, 64, kernel_size=(7, 7), stride=(2, 2), padding=(3, 3), bias=False)\n",
            "    (bn1): BatchNorm2d(64, eps=1e-05, momentum=0.1, affine=True, track_running_stats=True)\n",
            "    (act1): ReLU(inplace=True)\n",
            "    (maxpool): MaxPool2d(kernel_size=3, stride=2, padding=1, dilation=1, ceil_mode=False)\n",
            "    (layer1): Sequential(\n",
            "      (0): Bottleneck(\n",
            "        (conv1): Conv2d(64, 64, kernel_size=(1, 1), stride=(1, 1), bias=False)\n",
            "        (bn1): BatchNorm2d(64, eps=1e-05, momentum=0.1, affine=True, track_running_stats=True)\n",
            "        (act1): ReLU(inplace=True)\n",
            "        (conv2): Conv2d(64, 64, kernel_size=(3, 3), stride=(1, 1), padding=(1, 1), bias=False)\n",
            "        (bn2): BatchNorm2d(64, eps=1e-05, momentum=0.1, affine=True, track_running_stats=True)\n",
            "        (drop_block): Identity()\n",
            "        (act2): ReLU(inplace=True)\n",
            "        (aa): Identity()\n",
            "        (conv3): Conv2d(64, 256, kernel_size=(1, 1), stride=(1, 1), bias=False)\n",
            "        (bn3): BatchNorm2d(256, eps=1e-05, momentum=0.1, affine=True, track_running_stats=True)\n",
            "        (act3): ReLU(inplace=True)\n",
            "        (downsample): Sequential(\n",
            "          (0): Conv2d(64, 256, kernel_size=(1, 1), stride=(1, 1), bias=False)\n",
            "          (1): BatchNorm2d(256, eps=1e-05, momentum=0.1, affine=True, track_running_stats=True)\n",
            "        )\n",
            "      )\n",
            "      (1): Bottleneck(\n",
            "        (conv1): Conv2d(256, 64, kernel_size=(1, 1), stride=(1, 1), bias=False)\n",
            "        (bn1): BatchNorm2d(64, eps=1e-05, momentum=0.1, affine=True, track_running_stats=True)\n",
            "        (act1): ReLU(inplace=True)\n",
            "        (conv2): Conv2d(64, 64, kernel_size=(3, 3), stride=(1, 1), padding=(1, 1), bias=False)\n",
            "        (bn2): BatchNorm2d(64, eps=1e-05, momentum=0.1, affine=True, track_running_stats=True)\n",
            "        (drop_block): Identity()\n",
            "        (act2): ReLU(inplace=True)\n",
            "        (aa): Identity()\n",
            "        (conv3): Conv2d(64, 256, kernel_size=(1, 1), stride=(1, 1), bias=False)\n",
            "        (bn3): BatchNorm2d(256, eps=1e-05, momentum=0.1, affine=True, track_running_stats=True)\n",
            "        (act3): ReLU(inplace=True)\n",
            "      )\n",
            "      (2): Bottleneck(\n",
            "        (conv1): Conv2d(256, 64, kernel_size=(1, 1), stride=(1, 1), bias=False)\n",
            "        (bn1): BatchNorm2d(64, eps=1e-05, momentum=0.1, affine=True, track_running_stats=True)\n",
            "        (act1): ReLU(inplace=True)\n",
            "        (conv2): Conv2d(64, 64, kernel_size=(3, 3), stride=(1, 1), padding=(1, 1), bias=False)\n",
            "        (bn2): BatchNorm2d(64, eps=1e-05, momentum=0.1, affine=True, track_running_stats=True)\n",
            "        (drop_block): Identity()\n",
            "        (act2): ReLU(inplace=True)\n",
            "        (aa): Identity()\n",
            "        (conv3): Conv2d(64, 256, kernel_size=(1, 1), stride=(1, 1), bias=False)\n",
            "        (bn3): BatchNorm2d(256, eps=1e-05, momentum=0.1, affine=True, track_running_stats=True)\n",
            "        (act3): ReLU(inplace=True)\n",
            "      )\n",
            "    )\n",
            "    (layer2): Sequential(\n",
            "      (0): Bottleneck(\n",
            "        (conv1): Conv2d(256, 128, kernel_size=(1, 1), stride=(1, 1), bias=False)\n",
            "        (bn1): BatchNorm2d(128, eps=1e-05, momentum=0.1, affine=True, track_running_stats=True)\n",
            "        (act1): ReLU(inplace=True)\n",
            "        (conv2): Conv2d(128, 128, kernel_size=(3, 3), stride=(2, 2), padding=(1, 1), bias=False)\n",
            "        (bn2): BatchNorm2d(128, eps=1e-05, momentum=0.1, affine=True, track_running_stats=True)\n",
            "        (drop_block): Identity()\n",
            "        (act2): ReLU(inplace=True)\n",
            "        (aa): Identity()\n",
            "        (conv3): Conv2d(128, 512, kernel_size=(1, 1), stride=(1, 1), bias=False)\n",
            "        (bn3): BatchNorm2d(512, eps=1e-05, momentum=0.1, affine=True, track_running_stats=True)\n",
            "        (act3): ReLU(inplace=True)\n",
            "        (downsample): Sequential(\n",
            "          (0): Conv2d(256, 512, kernel_size=(1, 1), stride=(2, 2), bias=False)\n",
            "          (1): BatchNorm2d(512, eps=1e-05, momentum=0.1, affine=True, track_running_stats=True)\n",
            "        )\n",
            "      )\n",
            "      (1): Bottleneck(\n",
            "        (conv1): Conv2d(512, 128, kernel_size=(1, 1), stride=(1, 1), bias=False)\n",
            "        (bn1): BatchNorm2d(128, eps=1e-05, momentum=0.1, affine=True, track_running_stats=True)\n",
            "        (act1): ReLU(inplace=True)\n",
            "        (conv2): Conv2d(128, 128, kernel_size=(3, 3), stride=(1, 1), padding=(1, 1), bias=False)\n",
            "        (bn2): BatchNorm2d(128, eps=1e-05, momentum=0.1, affine=True, track_running_stats=True)\n",
            "        (drop_block): Identity()\n",
            "        (act2): ReLU(inplace=True)\n",
            "        (aa): Identity()\n",
            "        (conv3): Conv2d(128, 512, kernel_size=(1, 1), stride=(1, 1), bias=False)\n",
            "        (bn3): BatchNorm2d(512, eps=1e-05, momentum=0.1, affine=True, track_running_stats=True)\n",
            "        (act3): ReLU(inplace=True)\n",
            "      )\n",
            "      (2): Bottleneck(\n",
            "        (conv1): Conv2d(512, 128, kernel_size=(1, 1), stride=(1, 1), bias=False)\n",
            "        (bn1): BatchNorm2d(128, eps=1e-05, momentum=0.1, affine=True, track_running_stats=True)\n",
            "        (act1): ReLU(inplace=True)\n",
            "        (conv2): Conv2d(128, 128, kernel_size=(3, 3), stride=(1, 1), padding=(1, 1), bias=False)\n",
            "        (bn2): BatchNorm2d(128, eps=1e-05, momentum=0.1, affine=True, track_running_stats=True)\n",
            "        (drop_block): Identity()\n",
            "        (act2): ReLU(inplace=True)\n",
            "        (aa): Identity()\n",
            "        (conv3): Conv2d(128, 512, kernel_size=(1, 1), stride=(1, 1), bias=False)\n",
            "        (bn3): BatchNorm2d(512, eps=1e-05, momentum=0.1, affine=True, track_running_stats=True)\n",
            "        (act3): ReLU(inplace=True)\n",
            "      )\n",
            "      (3): Bottleneck(\n",
            "        (conv1): Conv2d(512, 128, kernel_size=(1, 1), stride=(1, 1), bias=False)\n",
            "        (bn1): BatchNorm2d(128, eps=1e-05, momentum=0.1, affine=True, track_running_stats=True)\n",
            "        (act1): ReLU(inplace=True)\n",
            "        (conv2): Conv2d(128, 128, kernel_size=(3, 3), stride=(1, 1), padding=(1, 1), bias=False)\n",
            "        (bn2): BatchNorm2d(128, eps=1e-05, momentum=0.1, affine=True, track_running_stats=True)\n",
            "        (drop_block): Identity()\n",
            "        (act2): ReLU(inplace=True)\n",
            "        (aa): Identity()\n",
            "        (conv3): Conv2d(128, 512, kernel_size=(1, 1), stride=(1, 1), bias=False)\n",
            "        (bn3): BatchNorm2d(512, eps=1e-05, momentum=0.1, affine=True, track_running_stats=True)\n",
            "        (act3): ReLU(inplace=True)\n",
            "      )\n",
            "    )\n",
            "    (layer3): Sequential(\n",
            "      (0): Bottleneck(\n",
            "        (conv1): Conv2d(512, 256, kernel_size=(1, 1), stride=(1, 1), bias=False)\n",
            "        (bn1): BatchNorm2d(256, eps=1e-05, momentum=0.1, affine=True, track_running_stats=True)\n",
            "        (act1): ReLU(inplace=True)\n",
            "        (conv2): Conv2d(256, 256, kernel_size=(3, 3), stride=(2, 2), padding=(1, 1), bias=False)\n",
            "        (bn2): BatchNorm2d(256, eps=1e-05, momentum=0.1, affine=True, track_running_stats=True)\n",
            "        (drop_block): Identity()\n",
            "        (act2): ReLU(inplace=True)\n",
            "        (aa): Identity()\n",
            "        (conv3): Conv2d(256, 1024, kernel_size=(1, 1), stride=(1, 1), bias=False)\n",
            "        (bn3): BatchNorm2d(1024, eps=1e-05, momentum=0.1, affine=True, track_running_stats=True)\n",
            "        (act3): ReLU(inplace=True)\n",
            "        (downsample): Sequential(\n",
            "          (0): Conv2d(512, 1024, kernel_size=(1, 1), stride=(2, 2), bias=False)\n",
            "          (1): BatchNorm2d(1024, eps=1e-05, momentum=0.1, affine=True, track_running_stats=True)\n",
            "        )\n",
            "      )\n",
            "      (1): Bottleneck(\n",
            "        (conv1): Conv2d(1024, 256, kernel_size=(1, 1), stride=(1, 1), bias=False)\n",
            "        (bn1): BatchNorm2d(256, eps=1e-05, momentum=0.1, affine=True, track_running_stats=True)\n",
            "        (act1): ReLU(inplace=True)\n",
            "        (conv2): Conv2d(256, 256, kernel_size=(3, 3), stride=(1, 1), padding=(1, 1), bias=False)\n",
            "        (bn2): BatchNorm2d(256, eps=1e-05, momentum=0.1, affine=True, track_running_stats=True)\n",
            "        (drop_block): Identity()\n",
            "        (act2): ReLU(inplace=True)\n",
            "        (aa): Identity()\n",
            "        (conv3): Conv2d(256, 1024, kernel_size=(1, 1), stride=(1, 1), bias=False)\n",
            "        (bn3): BatchNorm2d(1024, eps=1e-05, momentum=0.1, affine=True, track_running_stats=True)\n",
            "        (act3): ReLU(inplace=True)\n",
            "      )\n",
            "      (2): Bottleneck(\n",
            "        (conv1): Conv2d(1024, 256, kernel_size=(1, 1), stride=(1, 1), bias=False)\n",
            "        (bn1): BatchNorm2d(256, eps=1e-05, momentum=0.1, affine=True, track_running_stats=True)\n",
            "        (act1): ReLU(inplace=True)\n",
            "        (conv2): Conv2d(256, 256, kernel_size=(3, 3), stride=(1, 1), padding=(1, 1), bias=False)\n",
            "        (bn2): BatchNorm2d(256, eps=1e-05, momentum=0.1, affine=True, track_running_stats=True)\n",
            "        (drop_block): Identity()\n",
            "        (act2): ReLU(inplace=True)\n",
            "        (aa): Identity()\n",
            "        (conv3): Conv2d(256, 1024, kernel_size=(1, 1), stride=(1, 1), bias=False)\n",
            "        (bn3): BatchNorm2d(1024, eps=1e-05, momentum=0.1, affine=True, track_running_stats=True)\n",
            "        (act3): ReLU(inplace=True)\n",
            "      )\n",
            "      (3): Bottleneck(\n",
            "        (conv1): Conv2d(1024, 256, kernel_size=(1, 1), stride=(1, 1), bias=False)\n",
            "        (bn1): BatchNorm2d(256, eps=1e-05, momentum=0.1, affine=True, track_running_stats=True)\n",
            "        (act1): ReLU(inplace=True)\n",
            "        (conv2): Conv2d(256, 256, kernel_size=(3, 3), stride=(1, 1), padding=(1, 1), bias=False)\n",
            "        (bn2): BatchNorm2d(256, eps=1e-05, momentum=0.1, affine=True, track_running_stats=True)\n",
            "        (drop_block): Identity()\n",
            "        (act2): ReLU(inplace=True)\n",
            "        (aa): Identity()\n",
            "        (conv3): Conv2d(256, 1024, kernel_size=(1, 1), stride=(1, 1), bias=False)\n",
            "        (bn3): BatchNorm2d(1024, eps=1e-05, momentum=0.1, affine=True, track_running_stats=True)\n",
            "        (act3): ReLU(inplace=True)\n",
            "      )\n",
            "      (4): Bottleneck(\n",
            "        (conv1): Conv2d(1024, 256, kernel_size=(1, 1), stride=(1, 1), bias=False)\n",
            "        (bn1): BatchNorm2d(256, eps=1e-05, momentum=0.1, affine=True, track_running_stats=True)\n",
            "        (act1): ReLU(inplace=True)\n",
            "        (conv2): Conv2d(256, 256, kernel_size=(3, 3), stride=(1, 1), padding=(1, 1), bias=False)\n",
            "        (bn2): BatchNorm2d(256, eps=1e-05, momentum=0.1, affine=True, track_running_stats=True)\n",
            "        (drop_block): Identity()\n",
            "        (act2): ReLU(inplace=True)\n",
            "        (aa): Identity()\n",
            "        (conv3): Conv2d(256, 1024, kernel_size=(1, 1), stride=(1, 1), bias=False)\n",
            "        (bn3): BatchNorm2d(1024, eps=1e-05, momentum=0.1, affine=True, track_running_stats=True)\n",
            "        (act3): ReLU(inplace=True)\n",
            "      )\n",
            "      (5): Bottleneck(\n",
            "        (conv1): Conv2d(1024, 256, kernel_size=(1, 1), stride=(1, 1), bias=False)\n",
            "        (bn1): BatchNorm2d(256, eps=1e-05, momentum=0.1, affine=True, track_running_stats=True)\n",
            "        (act1): ReLU(inplace=True)\n",
            "        (conv2): Conv2d(256, 256, kernel_size=(3, 3), stride=(1, 1), padding=(1, 1), bias=False)\n",
            "        (bn2): BatchNorm2d(256, eps=1e-05, momentum=0.1, affine=True, track_running_stats=True)\n",
            "        (drop_block): Identity()\n",
            "        (act2): ReLU(inplace=True)\n",
            "        (aa): Identity()\n",
            "        (conv3): Conv2d(256, 1024, kernel_size=(1, 1), stride=(1, 1), bias=False)\n",
            "        (bn3): BatchNorm2d(1024, eps=1e-05, momentum=0.1, affine=True, track_running_stats=True)\n",
            "        (act3): ReLU(inplace=True)\n",
            "      )\n",
            "    )\n",
            "    (layer4): Sequential(\n",
            "      (0): Bottleneck(\n",
            "        (conv1): Conv2d(1024, 512, kernel_size=(1, 1), stride=(1, 1), bias=False)\n",
            "        (bn1): BatchNorm2d(512, eps=1e-05, momentum=0.1, affine=True, track_running_stats=True)\n",
            "        (act1): ReLU(inplace=True)\n",
            "        (conv2): Conv2d(512, 512, kernel_size=(3, 3), stride=(2, 2), padding=(1, 1), bias=False)\n",
            "        (bn2): BatchNorm2d(512, eps=1e-05, momentum=0.1, affine=True, track_running_stats=True)\n",
            "        (drop_block): Identity()\n",
            "        (act2): ReLU(inplace=True)\n",
            "        (aa): Identity()\n",
            "        (conv3): Conv2d(512, 2048, kernel_size=(1, 1), stride=(1, 1), bias=False)\n",
            "        (bn3): BatchNorm2d(2048, eps=1e-05, momentum=0.1, affine=True, track_running_stats=True)\n",
            "        (act3): ReLU(inplace=True)\n",
            "        (downsample): Sequential(\n",
            "          (0): Conv2d(1024, 2048, kernel_size=(1, 1), stride=(2, 2), bias=False)\n",
            "          (1): BatchNorm2d(2048, eps=1e-05, momentum=0.1, affine=True, track_running_stats=True)\n",
            "        )\n",
            "      )\n",
            "      (1): Bottleneck(\n",
            "        (conv1): Conv2d(2048, 512, kernel_size=(1, 1), stride=(1, 1), bias=False)\n",
            "        (bn1): BatchNorm2d(512, eps=1e-05, momentum=0.1, affine=True, track_running_stats=True)\n",
            "        (act1): ReLU(inplace=True)\n",
            "        (conv2): Conv2d(512, 512, kernel_size=(3, 3), stride=(1, 1), padding=(1, 1), bias=False)\n",
            "        (bn2): BatchNorm2d(512, eps=1e-05, momentum=0.1, affine=True, track_running_stats=True)\n",
            "        (drop_block): Identity()\n",
            "        (act2): ReLU(inplace=True)\n",
            "        (aa): Identity()\n",
            "        (conv3): Conv2d(512, 2048, kernel_size=(1, 1), stride=(1, 1), bias=False)\n",
            "        (bn3): BatchNorm2d(2048, eps=1e-05, momentum=0.1, affine=True, track_running_stats=True)\n",
            "        (act3): ReLU(inplace=True)\n",
            "      )\n",
            "      (2): Bottleneck(\n",
            "        (conv1): Conv2d(2048, 512, kernel_size=(1, 1), stride=(1, 1), bias=False)\n",
            "        (bn1): BatchNorm2d(512, eps=1e-05, momentum=0.1, affine=True, track_running_stats=True)\n",
            "        (act1): ReLU(inplace=True)\n",
            "        (conv2): Conv2d(512, 512, kernel_size=(3, 3), stride=(1, 1), padding=(1, 1), bias=False)\n",
            "        (bn2): BatchNorm2d(512, eps=1e-05, momentum=0.1, affine=True, track_running_stats=True)\n",
            "        (drop_block): Identity()\n",
            "        (act2): ReLU(inplace=True)\n",
            "        (aa): Identity()\n",
            "        (conv3): Conv2d(512, 2048, kernel_size=(1, 1), stride=(1, 1), bias=False)\n",
            "        (bn3): BatchNorm2d(2048, eps=1e-05, momentum=0.1, affine=True, track_running_stats=True)\n",
            "        (act3): ReLU(inplace=True)\n",
            "      )\n",
            "    )\n",
            "    (global_pool): SelectAdaptivePool2d(pool_type=avg, flatten=Flatten(start_dim=1, end_dim=-1))\n",
            "    (fc): Identity()\n",
            "  )\n",
            "  (fc): Linear(in_features=2048, out_features=9408, bias=True)\n",
            "  (upsample): ConvTranspose2d(3, 3, kernel_size=(4, 4), stride=(4, 4))\n",
            "  (levit): LevitDistilled(\n",
            "    (stem): Stem16(\n",
            "      (conv1): ConvNorm(\n",
            "        (linear): Conv2d(3, 32, kernel_size=(3, 3), stride=(2, 2), padding=(1, 1), bias=False)\n",
            "        (bn): BatchNorm2d(32, eps=1e-05, momentum=0.1, affine=True, track_running_stats=True)\n",
            "      )\n",
            "      (act1): Hardswish()\n",
            "      (conv2): ConvNorm(\n",
            "        (linear): Conv2d(32, 64, kernel_size=(3, 3), stride=(2, 2), padding=(1, 1), bias=False)\n",
            "        (bn): BatchNorm2d(64, eps=1e-05, momentum=0.1, affine=True, track_running_stats=True)\n",
            "      )\n",
            "      (act2): Hardswish()\n",
            "      (conv3): ConvNorm(\n",
            "        (linear): Conv2d(64, 128, kernel_size=(3, 3), stride=(2, 2), padding=(1, 1), bias=False)\n",
            "        (bn): BatchNorm2d(128, eps=1e-05, momentum=0.1, affine=True, track_running_stats=True)\n",
            "      )\n",
            "      (act3): Hardswish()\n",
            "      (conv4): ConvNorm(\n",
            "        (linear): Conv2d(128, 256, kernel_size=(3, 3), stride=(2, 2), padding=(1, 1), bias=False)\n",
            "        (bn): BatchNorm2d(256, eps=1e-05, momentum=0.1, affine=True, track_running_stats=True)\n",
            "      )\n",
            "    )\n",
            "    (stage1): LevitStage(\n",
            "      (downsample): Identity()\n",
            "      (blocks): Sequential(\n",
            "        (0): LevitBlock(\n",
            "          (attn): Attention(\n",
            "            (qkv): LinearNorm(\n",
            "              (linear): Linear(in_features=256, out_features=768, bias=False)\n",
            "              (bn): BatchNorm1d(768, eps=1e-05, momentum=0.1, affine=True, track_running_stats=True)\n",
            "            )\n",
            "            (proj): Sequential(\n",
            "              (0): Hardswish()\n",
            "              (1): LinearNorm(\n",
            "                (linear): Linear(in_features=256, out_features=256, bias=False)\n",
            "                (bn): BatchNorm1d(256, eps=1e-05, momentum=0.1, affine=True, track_running_stats=True)\n",
            "              )\n",
            "            )\n",
            "          )\n",
            "          (drop_path1): Identity()\n",
            "          (mlp): LevitMlp(\n",
            "            (ln1): LinearNorm(\n",
            "              (linear): Linear(in_features=256, out_features=512, bias=False)\n",
            "              (bn): BatchNorm1d(512, eps=1e-05, momentum=0.1, affine=True, track_running_stats=True)\n",
            "            )\n",
            "            (act): Hardswish()\n",
            "            (drop): Dropout(p=0.0, inplace=False)\n",
            "            (ln2): LinearNorm(\n",
            "              (linear): Linear(in_features=512, out_features=256, bias=False)\n",
            "              (bn): BatchNorm1d(256, eps=1e-05, momentum=0.1, affine=True, track_running_stats=True)\n",
            "            )\n",
            "          )\n",
            "          (drop_path2): Identity()\n",
            "        )\n",
            "        (1): LevitBlock(\n",
            "          (attn): Attention(\n",
            "            (qkv): LinearNorm(\n",
            "              (linear): Linear(in_features=256, out_features=768, bias=False)\n",
            "              (bn): BatchNorm1d(768, eps=1e-05, momentum=0.1, affine=True, track_running_stats=True)\n",
            "            )\n",
            "            (proj): Sequential(\n",
            "              (0): Hardswish()\n",
            "              (1): LinearNorm(\n",
            "                (linear): Linear(in_features=256, out_features=256, bias=False)\n",
            "                (bn): BatchNorm1d(256, eps=1e-05, momentum=0.1, affine=True, track_running_stats=True)\n",
            "              )\n",
            "            )\n",
            "          )\n",
            "          (drop_path1): Identity()\n",
            "          (mlp): LevitMlp(\n",
            "            (ln1): LinearNorm(\n",
            "              (linear): Linear(in_features=256, out_features=512, bias=False)\n",
            "              (bn): BatchNorm1d(512, eps=1e-05, momentum=0.1, affine=True, track_running_stats=True)\n",
            "            )\n",
            "            (act): Hardswish()\n",
            "            (drop): Dropout(p=0.0, inplace=False)\n",
            "            (ln2): LinearNorm(\n",
            "              (linear): Linear(in_features=512, out_features=256, bias=False)\n",
            "              (bn): BatchNorm1d(256, eps=1e-05, momentum=0.1, affine=True, track_running_stats=True)\n",
            "            )\n",
            "          )\n",
            "          (drop_path2): Identity()\n",
            "        )\n",
            "        (2): LevitBlock(\n",
            "          (attn): Attention(\n",
            "            (qkv): LinearNorm(\n",
            "              (linear): Linear(in_features=256, out_features=768, bias=False)\n",
            "              (bn): BatchNorm1d(768, eps=1e-05, momentum=0.1, affine=True, track_running_stats=True)\n",
            "            )\n",
            "            (proj): Sequential(\n",
            "              (0): Hardswish()\n",
            "              (1): LinearNorm(\n",
            "                (linear): Linear(in_features=256, out_features=256, bias=False)\n",
            "                (bn): BatchNorm1d(256, eps=1e-05, momentum=0.1, affine=True, track_running_stats=True)\n",
            "              )\n",
            "            )\n",
            "          )\n",
            "          (drop_path1): Identity()\n",
            "          (mlp): LevitMlp(\n",
            "            (ln1): LinearNorm(\n",
            "              (linear): Linear(in_features=256, out_features=512, bias=False)\n",
            "              (bn): BatchNorm1d(512, eps=1e-05, momentum=0.1, affine=True, track_running_stats=True)\n",
            "            )\n",
            "            (act): Hardswish()\n",
            "            (drop): Dropout(p=0.0, inplace=False)\n",
            "            (ln2): LinearNorm(\n",
            "              (linear): Linear(in_features=512, out_features=256, bias=False)\n",
            "              (bn): BatchNorm1d(256, eps=1e-05, momentum=0.1, affine=True, track_running_stats=True)\n",
            "            )\n",
            "          )\n",
            "          (drop_path2): Identity()\n",
            "        )\n",
            "      )\n",
            "    )\n",
            "    (stage2): LevitStage(\n",
            "      (downsample): LevitDownsample(\n",
            "        (attn_downsample): AttentionDownsample(\n",
            "          (kv): LinearNorm(\n",
            "            (linear): Linear(in_features=256, out_features=3072, bias=False)\n",
            "            (bn): BatchNorm1d(3072, eps=1e-05, momentum=0.1, affine=True, track_running_stats=True)\n",
            "          )\n",
            "          (q): Sequential(\n",
            "            (0): Conv2d(256, 256, kernel_size=(2, 2), stride=(2, 2))\n",
            "            (1): Flatten(start_dim=1, end_dim=-1)\n",
            "          )\n",
            "          (proj): Sequential(\n",
            "            (0): Hardswish()\n",
            "            (1): LinearNorm(\n",
            "              (linear): Linear(in_features=256, out_features=384, bias=False)\n",
            "              (bn): BatchNorm1d(384, eps=1e-05, momentum=0.1, affine=True, track_running_stats=True)\n",
            "            )\n",
            "          )\n",
            "        )\n",
            "        (mlp): LevitMlp(\n",
            "          (ln1): LinearNorm(\n",
            "            (linear): Linear(in_features=384, out_features=768, bias=False)\n",
            "            (bn): BatchNorm1d(768, eps=1e-05, momentum=0.1, affine=True, track_running_stats=True)\n",
            "          )\n",
            "          (act): Hardswish()\n",
            "          (drop): Dropout(p=0.0, inplace=False)\n",
            "          (ln2): LinearNorm(\n",
            "            (linear): Linear(in_features=768, out_features=384, bias=False)\n",
            "            (bn): BatchNorm1d(384, eps=1e-05, momentum=0.1, affine=True, track_running_stats=True)\n",
            "          )\n",
            "        )\n",
            "        (drop_path): Identity()\n",
            "      )\n",
            "      (blocks): Sequential(\n",
            "        (0): LevitBlock(\n",
            "          (attn): Attention(\n",
            "            (qkv): LinearNorm(\n",
            "              (linear): Linear(in_features=384, out_features=1152, bias=False)\n",
            "              (bn): BatchNorm1d(1152, eps=1e-05, momentum=0.1, affine=True, track_running_stats=True)\n",
            "            )\n",
            "            (proj): Sequential(\n",
            "              (0): Hardswish()\n",
            "              (1): LinearNorm(\n",
            "                (linear): Linear(in_features=384, out_features=384, bias=False)\n",
            "                (bn): BatchNorm1d(384, eps=1e-05, momentum=0.1, affine=True, track_running_stats=True)\n",
            "              )\n",
            "            )\n",
            "          )\n",
            "          (drop_path1): Identity()\n",
            "          (mlp): LevitMlp(\n",
            "            (ln1): LinearNorm(\n",
            "              (linear): Linear(in_features=384, out_features=768, bias=False)\n",
            "              (bn): BatchNorm1d(768, eps=1e-05, momentum=0.1, affine=True, track_running_stats=True)\n",
            "            )\n",
            "            (act): Hardswish()\n",
            "            (drop): Dropout(p=0.0, inplace=False)\n",
            "            (ln2): LinearNorm(\n",
            "              (linear): Linear(in_features=768, out_features=384, bias=False)\n",
            "              (bn): BatchNorm1d(384, eps=1e-05, momentum=0.1, affine=True, track_running_stats=True)\n",
            "            )\n",
            "          )\n",
            "          (drop_path2): Identity()\n",
            "        )\n",
            "        (1): LevitBlock(\n",
            "          (attn): Attention(\n",
            "            (qkv): LinearNorm(\n",
            "              (linear): Linear(in_features=384, out_features=1152, bias=False)\n",
            "              (bn): BatchNorm1d(1152, eps=1e-05, momentum=0.1, affine=True, track_running_stats=True)\n",
            "            )\n",
            "            (proj): Sequential(\n",
            "              (0): Hardswish()\n",
            "              (1): LinearNorm(\n",
            "                (linear): Linear(in_features=384, out_features=384, bias=False)\n",
            "                (bn): BatchNorm1d(384, eps=1e-05, momentum=0.1, affine=True, track_running_stats=True)\n",
            "              )\n",
            "            )\n",
            "          )\n",
            "          (drop_path1): Identity()\n",
            "          (mlp): LevitMlp(\n",
            "            (ln1): LinearNorm(\n",
            "              (linear): Linear(in_features=384, out_features=768, bias=False)\n",
            "              (bn): BatchNorm1d(768, eps=1e-05, momentum=0.1, affine=True, track_running_stats=True)\n",
            "            )\n",
            "            (act): Hardswish()\n",
            "            (drop): Dropout(p=0.0, inplace=False)\n",
            "            (ln2): LinearNorm(\n",
            "              (linear): Linear(in_features=768, out_features=384, bias=False)\n",
            "              (bn): BatchNorm1d(384, eps=1e-05, momentum=0.1, affine=True, track_running_stats=True)\n",
            "            )\n",
            "          )\n",
            "          (drop_path2): Identity()\n",
            "        )\n",
            "        (2): LevitBlock(\n",
            "          (attn): Attention(\n",
            "            (qkv): LinearNorm(\n",
            "              (linear): Linear(in_features=384, out_features=1152, bias=False)\n",
            "              (bn): BatchNorm1d(1152, eps=1e-05, momentum=0.1, affine=True, track_running_stats=True)\n",
            "            )\n",
            "            (proj): Sequential(\n",
            "              (0): Hardswish()\n",
            "              (1): LinearNorm(\n",
            "                (linear): Linear(in_features=384, out_features=384, bias=False)\n",
            "                (bn): BatchNorm1d(384, eps=1e-05, momentum=0.1, affine=True, track_running_stats=True)\n",
            "              )\n",
            "            )\n",
            "          )\n",
            "          (drop_path1): Identity()\n",
            "          (mlp): LevitMlp(\n",
            "            (ln1): LinearNorm(\n",
            "              (linear): Linear(in_features=384, out_features=768, bias=False)\n",
            "              (bn): BatchNorm1d(768, eps=1e-05, momentum=0.1, affine=True, track_running_stats=True)\n",
            "            )\n",
            "            (act): Hardswish()\n",
            "            (drop): Dropout(p=0.0, inplace=False)\n",
            "            (ln2): LinearNorm(\n",
            "              (linear): Linear(in_features=768, out_features=384, bias=False)\n",
            "              (bn): BatchNorm1d(384, eps=1e-05, momentum=0.1, affine=True, track_running_stats=True)\n",
            "            )\n",
            "          )\n",
            "          (drop_path2): Identity()\n",
            "        )\n",
            "      )\n",
            "    )\n",
            "    (conv1x1): Sequential(\n",
            "      (0): Conv2d(384, 512, kernel_size=(1, 1), stride=(1, 1))\n",
            "      (1): BatchNorm2d(512, eps=1e-05, momentum=0.1, affine=True, track_running_stats=True)\n",
            "      (2): ReLU(inplace=True)\n",
            "    )\n",
            "    (head): NormLinear(\n",
            "      (bn): BatchNorm1d(512, eps=1e-05, momentum=0.1, affine=True, track_running_stats=True)\n",
            "      (drop): Dropout(p=0.0, inplace=False)\n",
            "      (linear): Linear(in_features=512, out_features=37, bias=True)\n",
            "    )\n",
            "    (head_dist): NormLinear(\n",
            "      (bn): BatchNorm1d(512, eps=1e-05, momentum=0.1, affine=True, track_running_stats=True)\n",
            "      (drop): Dropout(p=0.0, inplace=False)\n",
            "      (linear): Linear(in_features=512, out_features=37, bias=True)\n",
            "    )\n",
            "  )\n",
            ")\n"
          ]
        }
      ],
      "source": [
        "# model = LevitDistilled()\n",
        "model = LauncherModel()\n",
        "print(model)\n",
        "\n",
        "device = torch.device(\"cuda\" if torch.cuda.is_available() else \"cpu\")\n",
        "model = model.to(device)\n",
        "\n",
        "batch_size = 32\n",
        "learning_rate = 0.001\n",
        "num_epochs = 50"
      ]
    },
    {
      "cell_type": "code",
      "execution_count": 21,
      "metadata": {
        "colab": {
          "base_uri": "https://localhost:8080/"
        },
        "id": "M7rBknzRzBP3",
        "outputId": "fc71dd73-eab1-4ee1-ce77-0d7a89d4cb2d"
      },
      "outputs": [
        {
          "output_type": "stream",
          "name": "stdout",
          "text": [
            "==============================================================================================================\n",
            "Layer (type:depth-idx)                                       Output Shape              Param #\n",
            "==============================================================================================================\n",
            "LauncherModel                                                [32, 37]                  --\n",
            "├─ResNet: 1-1                                                [32, 2048]                --\n",
            "│    └─conv1.weight                                                                    ├─9,408\n",
            "│    └─bn1.weight                                                                      ├─64\n",
            "│    └─bn1.bias                                                                        ├─64\n",
            "│    └─layer1.0.conv1.weight                                                           ├─4,096\n",
            "│    └─layer1.0.bn1.weight                                                             ├─64\n",
            "│    └─layer1.0.bn1.bias                                                               ├─64\n",
            "│    └─layer1.0.conv2.weight                                                           ├─36,864\n",
            "│    └─layer1.0.bn2.weight                                                             ├─64\n",
            "│    └─layer1.0.bn2.bias                                                               ├─64\n",
            "│    └─layer1.0.conv3.weight                                                           ├─16,384\n",
            "│    └─layer1.0.bn3.weight                                                             ├─256\n",
            "│    └─layer1.0.bn3.bias                                                               ├─256\n",
            "│    └─layer1.0.downsample.0.weight                                                    ├─16,384\n",
            "│    └─layer1.0.downsample.1.weight                                                    ├─256\n",
            "│    └─layer1.0.downsample.1.bias                                                      ├─256\n",
            "│    └─layer1.1.conv1.weight                                                           ├─16,384\n",
            "│    └─layer1.1.bn1.weight                                                             ├─64\n",
            "│    └─layer1.1.bn1.bias                                                               ├─64\n",
            "│    └─layer1.1.conv2.weight                                                           ├─36,864\n",
            "│    └─layer1.1.bn2.weight                                                             ├─64\n",
            "│    └─layer1.1.bn2.bias                                                               ├─64\n",
            "│    └─layer1.1.conv3.weight                                                           ├─16,384\n",
            "│    └─layer1.1.bn3.weight                                                             ├─256\n",
            "│    └─layer1.1.bn3.bias                                                               ├─256\n",
            "│    └─layer1.2.conv1.weight                                                           ├─16,384\n",
            "│    └─layer1.2.bn1.weight                                                             ├─64\n",
            "│    └─layer1.2.bn1.bias                                                               ├─64\n",
            "│    └─layer1.2.conv2.weight                                                           ├─36,864\n",
            "│    └─layer1.2.bn2.weight                                                             ├─64\n",
            "│    └─layer1.2.bn2.bias                                                               ├─64\n",
            "│    └─layer1.2.conv3.weight                                                           ├─16,384\n",
            "│    └─layer1.2.bn3.weight                                                             ├─256\n",
            "│    └─layer1.2.bn3.bias                                                               ├─256\n",
            "│    └─layer2.0.conv1.weight                                                           ├─32,768\n",
            "│    └─layer2.0.bn1.weight                                                             ├─128\n",
            "│    └─layer2.0.bn1.bias                                                               ├─128\n",
            "│    └─layer2.0.conv2.weight                                                           ├─147,456\n",
            "│    └─layer2.0.bn2.weight                                                             ├─128\n",
            "│    └─layer2.0.bn2.bias                                                               ├─128\n",
            "│    └─layer2.0.conv3.weight                                                           ├─65,536\n",
            "│    └─layer2.0.bn3.weight                                                             ├─512\n",
            "│    └─layer2.0.bn3.bias                                                               ├─512\n",
            "│    └─layer2.0.downsample.0.weight                                                    ├─131,072\n",
            "│    └─layer2.0.downsample.1.weight                                                    ├─512\n",
            "│    └─layer2.0.downsample.1.bias                                                      ├─512\n",
            "│    └─layer2.1.conv1.weight                                                           ├─65,536\n",
            "│    └─layer2.1.bn1.weight                                                             ├─128\n",
            "│    └─layer2.1.bn1.bias                                                               ├─128\n",
            "│    └─layer2.1.conv2.weight                                                           ├─147,456\n",
            "│    └─layer2.1.bn2.weight                                                             ├─128\n",
            "│    └─layer2.1.bn2.bias                                                               ├─128\n",
            "│    └─layer2.1.conv3.weight                                                           ├─65,536\n",
            "│    └─layer2.1.bn3.weight                                                             ├─512\n",
            "│    └─layer2.1.bn3.bias                                                               ├─512\n",
            "│    └─layer2.2.conv1.weight                                                           ├─65,536\n",
            "│    └─layer2.2.bn1.weight                                                             ├─128\n",
            "│    └─layer2.2.bn1.bias                                                               ├─128\n",
            "│    └─layer2.2.conv2.weight                                                           ├─147,456\n",
            "│    └─layer2.2.bn2.weight                                                             ├─128\n",
            "│    └─layer2.2.bn2.bias                                                               ├─128\n",
            "│    └─layer2.2.conv3.weight                                                           ├─65,536\n",
            "│    └─layer2.2.bn3.weight                                                             ├─512\n",
            "│    └─layer2.2.bn3.bias                                                               ├─512\n",
            "│    └─layer2.3.conv1.weight                                                           ├─65,536\n",
            "│    └─layer2.3.bn1.weight                                                             ├─128\n",
            "│    └─layer2.3.bn1.bias                                                               ├─128\n",
            "│    └─layer2.3.conv2.weight                                                           ├─147,456\n",
            "│    └─layer2.3.bn2.weight                                                             ├─128\n",
            "│    └─layer2.3.bn2.bias                                                               ├─128\n",
            "│    └─layer2.3.conv3.weight                                                           ├─65,536\n",
            "│    └─layer2.3.bn3.weight                                                             ├─512\n",
            "│    └─layer2.3.bn3.bias                                                               ├─512\n",
            "│    └─layer3.0.conv1.weight                                                           ├─131,072\n",
            "│    └─layer3.0.bn1.weight                                                             ├─256\n",
            "│    └─layer3.0.bn1.bias                                                               ├─256\n",
            "│    └─layer3.0.conv2.weight                                                           ├─589,824\n",
            "│    └─layer3.0.bn2.weight                                                             ├─256\n",
            "│    └─layer3.0.bn2.bias                                                               ├─256\n",
            "│    └─layer3.0.conv3.weight                                                           ├─262,144\n",
            "│    └─layer3.0.bn3.weight                                                             ├─1,024\n",
            "│    └─layer3.0.bn3.bias                                                               ├─1,024\n",
            "│    └─layer3.0.downsample.0.weight                                                    ├─524,288\n",
            "│    └─layer3.0.downsample.1.weight                                                    ├─1,024\n",
            "│    └─layer3.0.downsample.1.bias                                                      ├─1,024\n",
            "│    └─layer3.1.conv1.weight                                                           ├─262,144\n",
            "│    └─layer3.1.bn1.weight                                                             ├─256\n",
            "│    └─layer3.1.bn1.bias                                                               ├─256\n",
            "│    └─layer3.1.conv2.weight                                                           ├─589,824\n",
            "│    └─layer3.1.bn2.weight                                                             ├─256\n",
            "│    └─layer3.1.bn2.bias                                                               ├─256\n",
            "│    └─layer3.1.conv3.weight                                                           ├─262,144\n",
            "│    └─layer3.1.bn3.weight                                                             ├─1,024\n",
            "│    └─layer3.1.bn3.bias                                                               ├─1,024\n",
            "│    └─layer3.2.conv1.weight                                                           ├─262,144\n",
            "│    └─layer3.2.bn1.weight                                                             ├─256\n",
            "│    └─layer3.2.bn1.bias                                                               ├─256\n",
            "│    └─layer3.2.conv2.weight                                                           ├─589,824\n",
            "│    └─layer3.2.bn2.weight                                                             ├─256\n",
            "│    └─layer3.2.bn2.bias                                                               ├─256\n",
            "│    └─layer3.2.conv3.weight                                                           ├─262,144\n",
            "│    └─layer3.2.bn3.weight                                                             ├─1,024\n",
            "│    └─layer3.2.bn3.bias                                                               ├─1,024\n",
            "│    └─layer3.3.conv1.weight                                                           ├─262,144\n",
            "│    └─layer3.3.bn1.weight                                                             ├─256\n",
            "│    └─layer3.3.bn1.bias                                                               ├─256\n",
            "│    └─layer3.3.conv2.weight                                                           ├─589,824\n",
            "│    └─layer3.3.bn2.weight                                                             ├─256\n",
            "│    └─layer3.3.bn2.bias                                                               ├─256\n",
            "│    └─layer3.3.conv3.weight                                                           ├─262,144\n",
            "│    └─layer3.3.bn3.weight                                                             ├─1,024\n",
            "│    └─layer3.3.bn3.bias                                                               ├─1,024\n",
            "│    └─layer3.4.conv1.weight                                                           ├─262,144\n",
            "│    └─layer3.4.bn1.weight                                                             ├─256\n",
            "│    └─layer3.4.bn1.bias                                                               ├─256\n",
            "│    └─layer3.4.conv2.weight                                                           ├─589,824\n",
            "│    └─layer3.4.bn2.weight                                                             ├─256\n",
            "│    └─layer3.4.bn2.bias                                                               ├─256\n",
            "│    └─layer3.4.conv3.weight                                                           ├─262,144\n",
            "│    └─layer3.4.bn3.weight                                                             ├─1,024\n",
            "│    └─layer3.4.bn3.bias                                                               ├─1,024\n",
            "│    └─layer3.5.conv1.weight                                                           ├─262,144\n",
            "│    └─layer3.5.bn1.weight                                                             ├─256\n",
            "│    └─layer3.5.bn1.bias                                                               ├─256\n",
            "│    └─layer3.5.conv2.weight                                                           ├─589,824\n",
            "│    └─layer3.5.bn2.weight                                                             ├─256\n",
            "│    └─layer3.5.bn2.bias                                                               ├─256\n",
            "│    └─layer3.5.conv3.weight                                                           ├─262,144\n",
            "│    └─layer3.5.bn3.weight                                                             ├─1,024\n",
            "│    └─layer3.5.bn3.bias                                                               ├─1,024\n",
            "│    └─layer4.0.conv1.weight                                                           ├─524,288\n",
            "│    └─layer4.0.bn1.weight                                                             ├─512\n",
            "│    └─layer4.0.bn1.bias                                                               ├─512\n",
            "│    └─layer4.0.conv2.weight                                                           ├─2,359,296\n",
            "│    └─layer4.0.bn2.weight                                                             ├─512\n",
            "│    └─layer4.0.bn2.bias                                                               ├─512\n",
            "│    └─layer4.0.conv3.weight                                                           ├─1,048,576\n",
            "│    └─layer4.0.bn3.weight                                                             ├─2,048\n",
            "│    └─layer4.0.bn3.bias                                                               ├─2,048\n",
            "│    └─layer4.0.downsample.0.weight                                                    ├─2,097,152\n",
            "│    └─layer4.0.downsample.1.weight                                                    ├─2,048\n",
            "│    └─layer4.0.downsample.1.bias                                                      ├─2,048\n",
            "│    └─layer4.1.conv1.weight                                                           ├─1,048,576\n",
            "│    └─layer4.1.bn1.weight                                                             ├─512\n",
            "│    └─layer4.1.bn1.bias                                                               ├─512\n",
            "│    └─layer4.1.conv2.weight                                                           ├─2,359,296\n",
            "│    └─layer4.1.bn2.weight                                                             ├─512\n",
            "│    └─layer4.1.bn2.bias                                                               ├─512\n",
            "│    └─layer4.1.conv3.weight                                                           ├─1,048,576\n",
            "│    └─layer4.1.bn3.weight                                                             ├─2,048\n",
            "│    └─layer4.1.bn3.bias                                                               ├─2,048\n",
            "│    └─layer4.2.conv1.weight                                                           ├─1,048,576\n",
            "│    └─layer4.2.bn1.weight                                                             ├─512\n",
            "│    └─layer4.2.bn1.bias                                                               ├─512\n",
            "│    └─layer4.2.conv2.weight                                                           ├─2,359,296\n",
            "│    └─layer4.2.bn2.weight                                                             ├─512\n",
            "│    └─layer4.2.bn2.bias                                                               ├─512\n",
            "│    └─layer4.2.conv3.weight                                                           ├─1,048,576\n",
            "│    └─layer4.2.bn3.weight                                                             ├─2,048\n",
            "│    └─layer4.2.bn3.bias                                                               └─2,048\n",
            "│    └─Conv2d: 2-1                                           [32, 64, 112, 112]        (9,408)\n",
            "│    │    └─weight                                                                     └─9,408\n",
            "│    └─BatchNorm2d: 2-2                                      [32, 64, 112, 112]        (128)\n",
            "│    │    └─weight                                                                     ├─64\n",
            "│    │    └─bias                                                                       └─64\n",
            "│    └─ReLU: 2-3                                             [32, 64, 112, 112]        --\n",
            "│    └─MaxPool2d: 2-4                                        [32, 64, 56, 56]          --\n",
            "│    └─Sequential: 2-5                                       [32, 256, 56, 56]         --\n",
            "│    │    └─0.conv1.weight                                                             ├─4,096\n",
            "│    │    └─0.bn1.weight                                                               ├─64\n",
            "│    │    └─0.bn1.bias                                                                 ├─64\n",
            "│    │    └─0.conv2.weight                                                             ├─36,864\n",
            "│    │    └─0.bn2.weight                                                               ├─64\n",
            "│    │    └─0.bn2.bias                                                                 ├─64\n",
            "│    │    └─0.conv3.weight                                                             ├─16,384\n",
            "│    │    └─0.bn3.weight                                                               ├─256\n",
            "│    │    └─0.bn3.bias                                                                 ├─256\n",
            "│    │    └─0.downsample.0.weight                                                      ├─16,384\n",
            "│    │    └─0.downsample.1.weight                                                      ├─256\n",
            "│    │    └─0.downsample.1.bias                                                        ├─256\n",
            "│    │    └─1.conv1.weight                                                             ├─16,384\n",
            "│    │    └─1.bn1.weight                                                               ├─64\n",
            "│    │    └─1.bn1.bias                                                                 ├─64\n",
            "│    │    └─1.conv2.weight                                                             ├─36,864\n",
            "│    │    └─1.bn2.weight                                                               ├─64\n",
            "│    │    └─1.bn2.bias                                                                 ├─64\n",
            "│    │    └─1.conv3.weight                                                             ├─16,384\n",
            "│    │    └─1.bn3.weight                                                               ├─256\n",
            "│    │    └─1.bn3.bias                                                                 ├─256\n",
            "│    │    └─2.conv1.weight                                                             ├─16,384\n",
            "│    │    └─2.bn1.weight                                                               ├─64\n",
            "│    │    └─2.bn1.bias                                                                 ├─64\n",
            "│    │    └─2.conv2.weight                                                             ├─36,864\n",
            "│    │    └─2.bn2.weight                                                               ├─64\n",
            "│    │    └─2.bn2.bias                                                                 ├─64\n",
            "│    │    └─2.conv3.weight                                                             ├─16,384\n",
            "│    │    └─2.bn3.weight                                                               ├─256\n",
            "│    │    └─2.bn3.bias                                                                 └─256\n",
            "│    │    └─Bottleneck: 3-1                                  [32, 256, 56, 56]         (75,008)\n",
            "│    │    │    └─conv1.weight                                                          ├─4,096\n",
            "│    │    │    └─bn1.weight                                                            ├─64\n",
            "│    │    │    └─bn1.bias                                                              ├─64\n",
            "│    │    │    └─conv2.weight                                                          ├─36,864\n",
            "│    │    │    └─bn2.weight                                                            ├─64\n",
            "│    │    │    └─bn2.bias                                                              ├─64\n",
            "│    │    │    └─conv3.weight                                                          ├─16,384\n",
            "│    │    │    └─bn3.weight                                                            ├─256\n",
            "│    │    │    └─bn3.bias                                                              ├─256\n",
            "│    │    │    └─downsample.0.weight                                                   ├─16,384\n",
            "│    │    │    └─downsample.1.weight                                                   ├─256\n",
            "│    │    │    └─downsample.1.bias                                                     └─256\n",
            "│    │    └─Bottleneck: 3-2                                  [32, 256, 56, 56]         (70,400)\n",
            "│    │    │    └─conv1.weight                                                          ├─16,384\n",
            "│    │    │    └─bn1.weight                                                            ├─64\n",
            "│    │    │    └─bn1.bias                                                              ├─64\n",
            "│    │    │    └─conv2.weight                                                          ├─36,864\n",
            "│    │    │    └─bn2.weight                                                            ├─64\n",
            "│    │    │    └─bn2.bias                                                              ├─64\n",
            "│    │    │    └─conv3.weight                                                          ├─16,384\n",
            "│    │    │    └─bn3.weight                                                            ├─256\n",
            "│    │    │    └─bn3.bias                                                              └─256\n",
            "│    │    └─Bottleneck: 3-3                                  [32, 256, 56, 56]         (70,400)\n",
            "│    │    │    └─conv1.weight                                                          ├─16,384\n",
            "│    │    │    └─bn1.weight                                                            ├─64\n",
            "│    │    │    └─bn1.bias                                                              ├─64\n",
            "│    │    │    └─conv2.weight                                                          ├─36,864\n",
            "│    │    │    └─bn2.weight                                                            ├─64\n",
            "│    │    │    └─bn2.bias                                                              ├─64\n",
            "│    │    │    └─conv3.weight                                                          ├─16,384\n",
            "│    │    │    └─bn3.weight                                                            ├─256\n",
            "│    │    │    └─bn3.bias                                                              └─256\n",
            "│    └─Sequential: 2-6                                       [32, 512, 28, 28]         --\n",
            "│    │    └─0.conv1.weight                                                             ├─32,768\n",
            "│    │    └─0.bn1.weight                                                               ├─128\n",
            "│    │    └─0.bn1.bias                                                                 ├─128\n",
            "│    │    └─0.conv2.weight                                                             ├─147,456\n",
            "│    │    └─0.bn2.weight                                                               ├─128\n",
            "│    │    └─0.bn2.bias                                                                 ├─128\n",
            "│    │    └─0.conv3.weight                                                             ├─65,536\n",
            "│    │    └─0.bn3.weight                                                               ├─512\n",
            "│    │    └─0.bn3.bias                                                                 ├─512\n",
            "│    │    └─0.downsample.0.weight                                                      ├─131,072\n",
            "│    │    └─0.downsample.1.weight                                                      ├─512\n",
            "│    │    └─0.downsample.1.bias                                                        ├─512\n",
            "│    │    └─1.conv1.weight                                                             ├─65,536\n",
            "│    │    └─1.bn1.weight                                                               ├─128\n",
            "│    │    └─1.bn1.bias                                                                 ├─128\n",
            "│    │    └─1.conv2.weight                                                             ├─147,456\n",
            "│    │    └─1.bn2.weight                                                               ├─128\n",
            "│    │    └─1.bn2.bias                                                                 ├─128\n",
            "│    │    └─1.conv3.weight                                                             ├─65,536\n",
            "│    │    └─1.bn3.weight                                                               ├─512\n",
            "│    │    └─1.bn3.bias                                                                 ├─512\n",
            "│    │    └─2.conv1.weight                                                             ├─65,536\n",
            "│    │    └─2.bn1.weight                                                               ├─128\n",
            "│    │    └─2.bn1.bias                                                                 ├─128\n",
            "│    │    └─2.conv2.weight                                                             ├─147,456\n",
            "│    │    └─2.bn2.weight                                                               ├─128\n",
            "│    │    └─2.bn2.bias                                                                 ├─128\n",
            "│    │    └─2.conv3.weight                                                             ├─65,536\n",
            "│    │    └─2.bn3.weight                                                               ├─512\n",
            "│    │    └─2.bn3.bias                                                                 ├─512\n",
            "│    │    └─3.conv1.weight                                                             ├─65,536\n",
            "│    │    └─3.bn1.weight                                                               ├─128\n",
            "│    │    └─3.bn1.bias                                                                 ├─128\n",
            "│    │    └─3.conv2.weight                                                             ├─147,456\n",
            "│    │    └─3.bn2.weight                                                               ├─128\n",
            "│    │    └─3.bn2.bias                                                                 ├─128\n",
            "│    │    └─3.conv3.weight                                                             ├─65,536\n",
            "│    │    └─3.bn3.weight                                                               ├─512\n",
            "│    │    └─3.bn3.bias                                                                 └─512\n",
            "│    │    └─Bottleneck: 3-4                                  [32, 512, 28, 28]         (379,392)\n",
            "│    │    │    └─conv1.weight                                                          ├─32,768\n",
            "│    │    │    └─bn1.weight                                                            ├─128\n",
            "│    │    │    └─bn1.bias                                                              ├─128\n",
            "│    │    │    └─conv2.weight                                                          ├─147,456\n",
            "│    │    │    └─bn2.weight                                                            ├─128\n",
            "│    │    │    └─bn2.bias                                                              ├─128\n",
            "│    │    │    └─conv3.weight                                                          ├─65,536\n",
            "│    │    │    └─bn3.weight                                                            ├─512\n",
            "│    │    │    └─bn3.bias                                                              ├─512\n",
            "│    │    │    └─downsample.0.weight                                                   ├─131,072\n",
            "│    │    │    └─downsample.1.weight                                                   ├─512\n",
            "│    │    │    └─downsample.1.bias                                                     └─512\n",
            "│    │    └─Bottleneck: 3-5                                  [32, 512, 28, 28]         (280,064)\n",
            "│    │    │    └─conv1.weight                                                          ├─65,536\n",
            "│    │    │    └─bn1.weight                                                            ├─128\n",
            "│    │    │    └─bn1.bias                                                              ├─128\n",
            "│    │    │    └─conv2.weight                                                          ├─147,456\n",
            "│    │    │    └─bn2.weight                                                            ├─128\n",
            "│    │    │    └─bn2.bias                                                              ├─128\n",
            "│    │    │    └─conv3.weight                                                          ├─65,536\n",
            "│    │    │    └─bn3.weight                                                            ├─512\n",
            "│    │    │    └─bn3.bias                                                              └─512\n",
            "│    │    └─Bottleneck: 3-6                                  [32, 512, 28, 28]         (280,064)\n",
            "│    │    │    └─conv1.weight                                                          ├─65,536\n",
            "│    │    │    └─bn1.weight                                                            ├─128\n",
            "│    │    │    └─bn1.bias                                                              ├─128\n",
            "│    │    │    └─conv2.weight                                                          ├─147,456\n",
            "│    │    │    └─bn2.weight                                                            ├─128\n",
            "│    │    │    └─bn2.bias                                                              ├─128\n",
            "│    │    │    └─conv3.weight                                                          ├─65,536\n",
            "│    │    │    └─bn3.weight                                                            ├─512\n",
            "│    │    │    └─bn3.bias                                                              └─512\n",
            "│    │    └─Bottleneck: 3-7                                  [32, 512, 28, 28]         (280,064)\n",
            "│    │    │    └─conv1.weight                                                          ├─65,536\n",
            "│    │    │    └─bn1.weight                                                            ├─128\n",
            "│    │    │    └─bn1.bias                                                              ├─128\n",
            "│    │    │    └─conv2.weight                                                          ├─147,456\n",
            "│    │    │    └─bn2.weight                                                            ├─128\n",
            "│    │    │    └─bn2.bias                                                              ├─128\n",
            "│    │    │    └─conv3.weight                                                          ├─65,536\n",
            "│    │    │    └─bn3.weight                                                            ├─512\n",
            "│    │    │    └─bn3.bias                                                              └─512\n",
            "│    └─Sequential: 2-7                                       [32, 1024, 14, 14]        --\n",
            "│    │    └─0.conv1.weight                                                             ├─131,072\n",
            "│    │    └─0.bn1.weight                                                               ├─256\n",
            "│    │    └─0.bn1.bias                                                                 ├─256\n",
            "│    │    └─0.conv2.weight                                                             ├─589,824\n",
            "│    │    └─0.bn2.weight                                                               ├─256\n",
            "│    │    └─0.bn2.bias                                                                 ├─256\n",
            "│    │    └─0.conv3.weight                                                             ├─262,144\n",
            "│    │    └─0.bn3.weight                                                               ├─1,024\n",
            "│    │    └─0.bn3.bias                                                                 ├─1,024\n",
            "│    │    └─0.downsample.0.weight                                                      ├─524,288\n",
            "│    │    └─0.downsample.1.weight                                                      ├─1,024\n",
            "│    │    └─0.downsample.1.bias                                                        ├─1,024\n",
            "│    │    └─1.conv1.weight                                                             ├─262,144\n",
            "│    │    └─1.bn1.weight                                                               ├─256\n",
            "│    │    └─1.bn1.bias                                                                 ├─256\n",
            "│    │    └─1.conv2.weight                                                             ├─589,824\n",
            "│    │    └─1.bn2.weight                                                               ├─256\n",
            "│    │    └─1.bn2.bias                                                                 ├─256\n",
            "│    │    └─1.conv3.weight                                                             ├─262,144\n",
            "│    │    └─1.bn3.weight                                                               ├─1,024\n",
            "│    │    └─1.bn3.bias                                                                 ├─1,024\n",
            "│    │    └─2.conv1.weight                                                             ├─262,144\n",
            "│    │    └─2.bn1.weight                                                               ├─256\n",
            "│    │    └─2.bn1.bias                                                                 ├─256\n",
            "│    │    └─2.conv2.weight                                                             ├─589,824\n",
            "│    │    └─2.bn2.weight                                                               ├─256\n",
            "│    │    └─2.bn2.bias                                                                 ├─256\n",
            "│    │    └─2.conv3.weight                                                             ├─262,144\n",
            "│    │    └─2.bn3.weight                                                               ├─1,024\n",
            "│    │    └─2.bn3.bias                                                                 ├─1,024\n",
            "│    │    └─3.conv1.weight                                                             ├─262,144\n",
            "│    │    └─3.bn1.weight                                                               ├─256\n",
            "│    │    └─3.bn1.bias                                                                 ├─256\n",
            "│    │    └─3.conv2.weight                                                             ├─589,824\n",
            "│    │    └─3.bn2.weight                                                               ├─256\n",
            "│    │    └─3.bn2.bias                                                                 ├─256\n",
            "│    │    └─3.conv3.weight                                                             ├─262,144\n",
            "│    │    └─3.bn3.weight                                                               ├─1,024\n",
            "│    │    └─3.bn3.bias                                                                 ├─1,024\n",
            "│    │    └─4.conv1.weight                                                             ├─262,144\n",
            "│    │    └─4.bn1.weight                                                               ├─256\n",
            "│    │    └─4.bn1.bias                                                                 ├─256\n",
            "│    │    └─4.conv2.weight                                                             ├─589,824\n",
            "│    │    └─4.bn2.weight                                                               ├─256\n",
            "│    │    └─4.bn2.bias                                                                 ├─256\n",
            "│    │    └─4.conv3.weight                                                             ├─262,144\n",
            "│    │    └─4.bn3.weight                                                               ├─1,024\n",
            "│    │    └─4.bn3.bias                                                                 ├─1,024\n",
            "│    │    └─5.conv1.weight                                                             ├─262,144\n",
            "│    │    └─5.bn1.weight                                                               ├─256\n",
            "│    │    └─5.bn1.bias                                                                 ├─256\n",
            "│    │    └─5.conv2.weight                                                             ├─589,824\n",
            "│    │    └─5.bn2.weight                                                               ├─256\n",
            "│    │    └─5.bn2.bias                                                                 ├─256\n",
            "│    │    └─5.conv3.weight                                                             ├─262,144\n",
            "│    │    └─5.bn3.weight                                                               ├─1,024\n",
            "│    │    └─5.bn3.bias                                                                 └─1,024\n",
            "│    │    └─Bottleneck: 3-8                                  [32, 1024, 14, 14]        (1,512,448)\n",
            "│    │    │    └─conv1.weight                                                          ├─131,072\n",
            "│    │    │    └─bn1.weight                                                            ├─256\n",
            "│    │    │    └─bn1.bias                                                              ├─256\n",
            "│    │    │    └─conv2.weight                                                          ├─589,824\n",
            "│    │    │    └─bn2.weight                                                            ├─256\n",
            "│    │    │    └─bn2.bias                                                              ├─256\n",
            "│    │    │    └─conv3.weight                                                          ├─262,144\n",
            "│    │    │    └─bn3.weight                                                            ├─1,024\n",
            "│    │    │    └─bn3.bias                                                              ├─1,024\n",
            "│    │    │    └─downsample.0.weight                                                   ├─524,288\n",
            "│    │    │    └─downsample.1.weight                                                   ├─1,024\n",
            "│    │    │    └─downsample.1.bias                                                     └─1,024\n",
            "│    │    └─Bottleneck: 3-9                                  [32, 1024, 14, 14]        (1,117,184)\n",
            "│    │    │    └─conv1.weight                                                          ├─262,144\n",
            "│    │    │    └─bn1.weight                                                            ├─256\n",
            "│    │    │    └─bn1.bias                                                              ├─256\n",
            "│    │    │    └─conv2.weight                                                          ├─589,824\n",
            "│    │    │    └─bn2.weight                                                            ├─256\n",
            "│    │    │    └─bn2.bias                                                              ├─256\n",
            "│    │    │    └─conv3.weight                                                          ├─262,144\n",
            "│    │    │    └─bn3.weight                                                            ├─1,024\n",
            "│    │    │    └─bn3.bias                                                              └─1,024\n",
            "│    │    └─Bottleneck: 3-10                                 [32, 1024, 14, 14]        (1,117,184)\n",
            "│    │    │    └─conv1.weight                                                          ├─262,144\n",
            "│    │    │    └─bn1.weight                                                            ├─256\n",
            "│    │    │    └─bn1.bias                                                              ├─256\n",
            "│    │    │    └─conv2.weight                                                          ├─589,824\n",
            "│    │    │    └─bn2.weight                                                            ├─256\n",
            "│    │    │    └─bn2.bias                                                              ├─256\n",
            "│    │    │    └─conv3.weight                                                          ├─262,144\n",
            "│    │    │    └─bn3.weight                                                            ├─1,024\n",
            "│    │    │    └─bn3.bias                                                              └─1,024\n",
            "│    │    └─Bottleneck: 3-11                                 [32, 1024, 14, 14]        (1,117,184)\n",
            "│    │    │    └─conv1.weight                                                          ├─262,144\n",
            "│    │    │    └─bn1.weight                                                            ├─256\n",
            "│    │    │    └─bn1.bias                                                              ├─256\n",
            "│    │    │    └─conv2.weight                                                          ├─589,824\n",
            "│    │    │    └─bn2.weight                                                            ├─256\n",
            "│    │    │    └─bn2.bias                                                              ├─256\n",
            "│    │    │    └─conv3.weight                                                          ├─262,144\n",
            "│    │    │    └─bn3.weight                                                            ├─1,024\n",
            "│    │    │    └─bn3.bias                                                              └─1,024\n",
            "│    │    └─Bottleneck: 3-12                                 [32, 1024, 14, 14]        (1,117,184)\n",
            "│    │    │    └─conv1.weight                                                          ├─262,144\n",
            "│    │    │    └─bn1.weight                                                            ├─256\n",
            "│    │    │    └─bn1.bias                                                              ├─256\n",
            "│    │    │    └─conv2.weight                                                          ├─589,824\n",
            "│    │    │    └─bn2.weight                                                            ├─256\n",
            "│    │    │    └─bn2.bias                                                              ├─256\n",
            "│    │    │    └─conv3.weight                                                          ├─262,144\n",
            "│    │    │    └─bn3.weight                                                            ├─1,024\n",
            "│    │    │    └─bn3.bias                                                              └─1,024\n",
            "│    │    └─Bottleneck: 3-13                                 [32, 1024, 14, 14]        (1,117,184)\n",
            "│    │    │    └─conv1.weight                                                          ├─262,144\n",
            "│    │    │    └─bn1.weight                                                            ├─256\n",
            "│    │    │    └─bn1.bias                                                              ├─256\n",
            "│    │    │    └─conv2.weight                                                          ├─589,824\n",
            "│    │    │    └─bn2.weight                                                            ├─256\n",
            "│    │    │    └─bn2.bias                                                              ├─256\n",
            "│    │    │    └─conv3.weight                                                          ├─262,144\n",
            "│    │    │    └─bn3.weight                                                            ├─1,024\n",
            "│    │    │    └─bn3.bias                                                              └─1,024\n",
            "│    └─Sequential: 2-8                                       [32, 2048, 7, 7]          --\n",
            "│    │    └─0.conv1.weight                                                             ├─524,288\n",
            "│    │    └─0.bn1.weight                                                               ├─512\n",
            "│    │    └─0.bn1.bias                                                                 ├─512\n",
            "│    │    └─0.conv2.weight                                                             ├─2,359,296\n",
            "│    │    └─0.bn2.weight                                                               ├─512\n",
            "│    │    └─0.bn2.bias                                                                 ├─512\n",
            "│    │    └─0.conv3.weight                                                             ├─1,048,576\n",
            "│    │    └─0.bn3.weight                                                               ├─2,048\n",
            "│    │    └─0.bn3.bias                                                                 ├─2,048\n",
            "│    │    └─0.downsample.0.weight                                                      ├─2,097,152\n",
            "│    │    └─0.downsample.1.weight                                                      ├─2,048\n",
            "│    │    └─0.downsample.1.bias                                                        ├─2,048\n",
            "│    │    └─1.conv1.weight                                                             ├─1,048,576\n",
            "│    │    └─1.bn1.weight                                                               ├─512\n",
            "│    │    └─1.bn1.bias                                                                 ├─512\n",
            "│    │    └─1.conv2.weight                                                             ├─2,359,296\n",
            "│    │    └─1.bn2.weight                                                               ├─512\n",
            "│    │    └─1.bn2.bias                                                                 ├─512\n",
            "│    │    └─1.conv3.weight                                                             ├─1,048,576\n",
            "│    │    └─1.bn3.weight                                                               ├─2,048\n",
            "│    │    └─1.bn3.bias                                                                 ├─2,048\n",
            "│    │    └─2.conv1.weight                                                             ├─1,048,576\n",
            "│    │    └─2.bn1.weight                                                               ├─512\n",
            "│    │    └─2.bn1.bias                                                                 ├─512\n",
            "│    │    └─2.conv2.weight                                                             ├─2,359,296\n",
            "│    │    └─2.bn2.weight                                                               ├─512\n",
            "│    │    └─2.bn2.bias                                                                 ├─512\n",
            "│    │    └─2.conv3.weight                                                             ├─1,048,576\n",
            "│    │    └─2.bn3.weight                                                               ├─2,048\n",
            "│    │    └─2.bn3.bias                                                                 └─2,048\n",
            "│    │    └─Bottleneck: 3-14                                 [32, 2048, 7, 7]          (6,039,552)\n",
            "│    │    │    └─conv1.weight                                                          ├─524,288\n",
            "│    │    │    └─bn1.weight                                                            ├─512\n",
            "│    │    │    └─bn1.bias                                                              ├─512\n",
            "│    │    │    └─conv2.weight                                                          ├─2,359,296\n",
            "│    │    │    └─bn2.weight                                                            ├─512\n",
            "│    │    │    └─bn2.bias                                                              ├─512\n",
            "│    │    │    └─conv3.weight                                                          ├─1,048,576\n",
            "│    │    │    └─bn3.weight                                                            ├─2,048\n",
            "│    │    │    └─bn3.bias                                                              ├─2,048\n",
            "│    │    │    └─downsample.0.weight                                                   ├─2,097,152\n",
            "│    │    │    └─downsample.1.weight                                                   ├─2,048\n",
            "│    │    │    └─downsample.1.bias                                                     └─2,048\n",
            "│    │    └─Bottleneck: 3-15                                 [32, 2048, 7, 7]          (4,462,592)\n",
            "│    │    │    └─conv1.weight                                                          ├─1,048,576\n",
            "│    │    │    └─bn1.weight                                                            ├─512\n",
            "│    │    │    └─bn1.bias                                                              ├─512\n",
            "│    │    │    └─conv2.weight                                                          ├─2,359,296\n",
            "│    │    │    └─bn2.weight                                                            ├─512\n",
            "│    │    │    └─bn2.bias                                                              ├─512\n",
            "│    │    │    └─conv3.weight                                                          ├─1,048,576\n",
            "│    │    │    └─bn3.weight                                                            ├─2,048\n",
            "│    │    │    └─bn3.bias                                                              └─2,048\n",
            "│    │    └─Bottleneck: 3-16                                 [32, 2048, 7, 7]          (4,462,592)\n",
            "│    │    │    └─conv1.weight                                                          ├─1,048,576\n",
            "│    │    │    └─bn1.weight                                                            ├─512\n",
            "│    │    │    └─bn1.bias                                                              ├─512\n",
            "│    │    │    └─conv2.weight                                                          ├─2,359,296\n",
            "│    │    │    └─bn2.weight                                                            ├─512\n",
            "│    │    │    └─bn2.bias                                                              ├─512\n",
            "│    │    │    └─conv3.weight                                                          ├─1,048,576\n",
            "│    │    │    └─bn3.weight                                                            ├─2,048\n",
            "│    │    │    └─bn3.bias                                                              └─2,048\n",
            "│    └─SelectAdaptivePool2d: 2-9                             [32, 2048]                --\n",
            "│    │    └─AdaptiveAvgPool2d: 3-17                          [32, 2048, 1, 1]          --\n",
            "│    │    └─Flatten: 3-18                                    [32, 2048]                --\n",
            "│    └─Identity: 2-10                                        [32, 2048]                --\n",
            "├─Linear: 1-2                                                [32, 9408]                19,276,992\n",
            "│    └─weight                                                                          ├─19,267,584\n",
            "│    └─bias                                                                            └─9,408\n",
            "├─ConvTranspose2d: 1-3                                       [32, 3, 224, 224]         147\n",
            "│    └─weight                                                                          ├─144\n",
            "│    └─bias                                                                            └─3\n",
            "├─LevitDistilled: 1-4                                        [32, 37]                  --\n",
            "│    └─stem.conv1.linear.weight                                                        ├─864\n",
            "│    └─stem.conv1.bn.weight                                                            ├─32\n",
            "│    └─stem.conv1.bn.bias                                                              ├─32\n",
            "│    └─stem.conv2.linear.weight                                                        ├─18,432\n",
            "│    └─stem.conv2.bn.weight                                                            ├─64\n",
            "│    └─stem.conv2.bn.bias                                                              ├─64\n",
            "│    └─stem.conv3.linear.weight                                                        ├─73,728\n",
            "│    └─stem.conv3.bn.weight                                                            ├─128\n",
            "│    └─stem.conv3.bn.bias                                                              ├─128\n",
            "│    └─stem.conv4.linear.weight                                                        ├─294,912\n",
            "│    └─stem.conv4.bn.weight                                                            ├─256\n",
            "│    └─stem.conv4.bn.bias                                                              ├─256\n",
            "│    └─stage1.blocks.0.attn.qkv.linear.weight                                          ├─196,608\n",
            "│    └─stage1.blocks.0.attn.qkv.bn.weight                                              ├─768\n",
            "│    └─stage1.blocks.0.attn.qkv.bn.bias                                                ├─768\n",
            "│    └─stage1.blocks.0.attn.proj.1.linear.weight                                       ├─65,536\n",
            "│    └─stage1.blocks.0.attn.proj.1.bn.weight                                           ├─256\n",
            "│    └─stage1.blocks.0.attn.proj.1.bn.bias                                             ├─256\n",
            "│    └─stage1.blocks.0.mlp.ln1.linear.weight                                           ├─131,072\n",
            "│    └─stage1.blocks.0.mlp.ln1.bn.weight                                               ├─512\n",
            "│    └─stage1.blocks.0.mlp.ln1.bn.bias                                                 ├─512\n",
            "│    └─stage1.blocks.0.mlp.ln2.linear.weight                                           ├─131,072\n",
            "│    └─stage1.blocks.0.mlp.ln2.bn.weight                                               ├─256\n",
            "│    └─stage1.blocks.0.mlp.ln2.bn.bias                                                 ├─256\n",
            "│    └─stage1.blocks.1.attn.qkv.linear.weight                                          ├─196,608\n",
            "│    └─stage1.blocks.1.attn.qkv.bn.weight                                              ├─768\n",
            "│    └─stage1.blocks.1.attn.qkv.bn.bias                                                ├─768\n",
            "│    └─stage1.blocks.1.attn.proj.1.linear.weight                                       ├─65,536\n",
            "│    └─stage1.blocks.1.attn.proj.1.bn.weight                                           ├─256\n",
            "│    └─stage1.blocks.1.attn.proj.1.bn.bias                                             ├─256\n",
            "│    └─stage1.blocks.1.mlp.ln1.linear.weight                                           ├─131,072\n",
            "│    └─stage1.blocks.1.mlp.ln1.bn.weight                                               ├─512\n",
            "│    └─stage1.blocks.1.mlp.ln1.bn.bias                                                 ├─512\n",
            "│    └─stage1.blocks.1.mlp.ln2.linear.weight                                           ├─131,072\n",
            "│    └─stage1.blocks.1.mlp.ln2.bn.weight                                               ├─256\n",
            "│    └─stage1.blocks.1.mlp.ln2.bn.bias                                                 ├─256\n",
            "│    └─stage1.blocks.2.attn.qkv.linear.weight                                          ├─196,608\n",
            "│    └─stage1.blocks.2.attn.qkv.bn.weight                                              ├─768\n",
            "│    └─stage1.blocks.2.attn.qkv.bn.bias                                                ├─768\n",
            "│    └─stage1.blocks.2.attn.proj.1.linear.weight                                       ├─65,536\n",
            "│    └─stage1.blocks.2.attn.proj.1.bn.weight                                           ├─256\n",
            "│    └─stage1.blocks.2.attn.proj.1.bn.bias                                             ├─256\n",
            "│    └─stage1.blocks.2.mlp.ln1.linear.weight                                           ├─131,072\n",
            "│    └─stage1.blocks.2.mlp.ln1.bn.weight                                               ├─512\n",
            "│    └─stage1.blocks.2.mlp.ln1.bn.bias                                                 ├─512\n",
            "│    └─stage1.blocks.2.mlp.ln2.linear.weight                                           ├─131,072\n",
            "│    └─stage1.blocks.2.mlp.ln2.bn.weight                                               ├─256\n",
            "│    └─stage1.blocks.2.mlp.ln2.bn.bias                                                 ├─256\n",
            "│    └─stage2.downsample.attn_downsample.kv.linear.weight                              ├─786,432\n",
            "│    └─stage2.downsample.attn_downsample.kv.bn.weight                                  ├─3,072\n",
            "│    └─stage2.downsample.attn_downsample.kv.bn.bias                                    ├─3,072\n",
            "│    └─stage2.downsample.attn_downsample.q.0.weight                                    ├─262,144\n",
            "│    └─stage2.downsample.attn_downsample.q.0.bias                                      ├─256\n",
            "│    └─stage2.downsample.attn_downsample.proj.1.linear.weight                           ├─98,304\n",
            "│    └─stage2.downsample.attn_downsample.proj.1.bn.weight                              ├─384\n",
            "│    └─stage2.downsample.attn_downsample.proj.1.bn.bias                                ├─384\n",
            "│    └─stage2.downsample.mlp.ln1.linear.weight                                         ├─294,912\n",
            "│    └─stage2.downsample.mlp.ln1.bn.weight                                             ├─768\n",
            "│    └─stage2.downsample.mlp.ln1.bn.bias                                               ├─768\n",
            "│    └─stage2.downsample.mlp.ln2.linear.weight                                         ├─294,912\n",
            "│    └─stage2.downsample.mlp.ln2.bn.weight                                             ├─384\n",
            "│    └─stage2.downsample.mlp.ln2.bn.bias                                               ├─384\n",
            "│    └─stage2.blocks.0.attn.qkv.linear.weight                                          ├─442,368\n",
            "│    └─stage2.blocks.0.attn.qkv.bn.weight                                              ├─1,152\n",
            "│    └─stage2.blocks.0.attn.qkv.bn.bias                                                ├─1,152\n",
            "│    └─stage2.blocks.0.attn.proj.1.linear.weight                                       ├─147,456\n",
            "│    └─stage2.blocks.0.attn.proj.1.bn.weight                                           ├─384\n",
            "│    └─stage2.blocks.0.attn.proj.1.bn.bias                                             ├─384\n",
            "│    └─stage2.blocks.0.mlp.ln1.linear.weight                                           ├─294,912\n",
            "│    └─stage2.blocks.0.mlp.ln1.bn.weight                                               ├─768\n",
            "│    └─stage2.blocks.0.mlp.ln1.bn.bias                                                 ├─768\n",
            "│    └─stage2.blocks.0.mlp.ln2.linear.weight                                           ├─294,912\n",
            "│    └─stage2.blocks.0.mlp.ln2.bn.weight                                               ├─384\n",
            "│    └─stage2.blocks.0.mlp.ln2.bn.bias                                                 ├─384\n",
            "│    └─stage2.blocks.1.attn.qkv.linear.weight                                          ├─442,368\n",
            "│    └─stage2.blocks.1.attn.qkv.bn.weight                                              ├─1,152\n",
            "│    └─stage2.blocks.1.attn.qkv.bn.bias                                                ├─1,152\n",
            "│    └─stage2.blocks.1.attn.proj.1.linear.weight                                       ├─147,456\n",
            "│    └─stage2.blocks.1.attn.proj.1.bn.weight                                           ├─384\n",
            "│    └─stage2.blocks.1.attn.proj.1.bn.bias                                             ├─384\n",
            "│    └─stage2.blocks.1.mlp.ln1.linear.weight                                           ├─294,912\n",
            "│    └─stage2.blocks.1.mlp.ln1.bn.weight                                               ├─768\n",
            "│    └─stage2.blocks.1.mlp.ln1.bn.bias                                                 ├─768\n",
            "│    └─stage2.blocks.1.mlp.ln2.linear.weight                                           ├─294,912\n",
            "│    └─stage2.blocks.1.mlp.ln2.bn.weight                                               ├─384\n",
            "│    └─stage2.blocks.1.mlp.ln2.bn.bias                                                 ├─384\n",
            "│    └─stage2.blocks.2.attn.qkv.linear.weight                                          ├─442,368\n",
            "│    └─stage2.blocks.2.attn.qkv.bn.weight                                              ├─1,152\n",
            "│    └─stage2.blocks.2.attn.qkv.bn.bias                                                ├─1,152\n",
            "│    └─stage2.blocks.2.attn.proj.1.linear.weight                                       ├─147,456\n",
            "│    └─stage2.blocks.2.attn.proj.1.bn.weight                                           ├─384\n",
            "│    └─stage2.blocks.2.attn.proj.1.bn.bias                                             ├─384\n",
            "│    └─stage2.blocks.2.mlp.ln1.linear.weight                                           ├─294,912\n",
            "│    └─stage2.blocks.2.mlp.ln1.bn.weight                                               ├─768\n",
            "│    └─stage2.blocks.2.mlp.ln1.bn.bias                                                 ├─768\n",
            "│    └─stage2.blocks.2.mlp.ln2.linear.weight                                           ├─294,912\n",
            "│    └─stage2.blocks.2.mlp.ln2.bn.weight                                               ├─384\n",
            "│    └─stage2.blocks.2.mlp.ln2.bn.bias                                                 ├─384\n",
            "│    └─conv1x1.0.weight                                                                ├─196,608\n",
            "│    └─conv1x1.0.bias                                                                  ├─512\n",
            "│    └─conv1x1.1.weight                                                                ├─512\n",
            "│    └─conv1x1.1.bias                                                                  ├─512\n",
            "│    └─head.bn.weight                                                                  ├─512\n",
            "│    └─head.bn.bias                                                                    ├─512\n",
            "│    └─head.linear.weight                                                              ├─18,944\n",
            "│    └─head.linear.bias                                                                ├─37\n",
            "│    └─head_dist.bn.weight                                                             ├─512\n",
            "│    └─head_dist.bn.bias                                                               ├─512\n",
            "│    └─head_dist.linear.weight                                                         ├─18,944\n",
            "│    └─head_dist.linear.bias                                                           └─37\n",
            "│    └─Stem16: 2-11                                          [32, 256, 14, 14]         --\n",
            "│    │    └─conv1.linear.weight                                                        ├─864\n",
            "│    │    └─conv1.bn.weight                                                            ├─32\n",
            "│    │    └─conv1.bn.bias                                                              ├─32\n",
            "│    │    └─conv2.linear.weight                                                        ├─18,432\n",
            "│    │    └─conv2.bn.weight                                                            ├─64\n",
            "│    │    └─conv2.bn.bias                                                              ├─64\n",
            "│    │    └─conv3.linear.weight                                                        ├─73,728\n",
            "│    │    └─conv3.bn.weight                                                            ├─128\n",
            "│    │    └─conv3.bn.bias                                                              ├─128\n",
            "│    │    └─conv4.linear.weight                                                        ├─294,912\n",
            "│    │    └─conv4.bn.weight                                                            ├─256\n",
            "│    │    └─conv4.bn.bias                                                              └─256\n",
            "│    │    └─ConvNorm: 3-19                                   [32, 32, 112, 112]        928\n",
            "│    │    │    └─linear.weight                                                         ├─864\n",
            "│    │    │    └─bn.weight                                                             ├─32\n",
            "│    │    │    └─bn.bias                                                               └─32\n",
            "│    │    └─Hardswish: 3-20                                  [32, 32, 112, 112]        --\n",
            "│    │    └─ConvNorm: 3-21                                   [32, 64, 56, 56]          18,560\n",
            "│    │    │    └─linear.weight                                                         ├─18,432\n",
            "│    │    │    └─bn.weight                                                             ├─64\n",
            "│    │    │    └─bn.bias                                                               └─64\n",
            "│    │    └─Hardswish: 3-22                                  [32, 64, 56, 56]          --\n",
            "│    │    └─ConvNorm: 3-23                                   [32, 128, 28, 28]         73,984\n",
            "│    │    │    └─linear.weight                                                         ├─73,728\n",
            "│    │    │    └─bn.weight                                                             ├─128\n",
            "│    │    │    └─bn.bias                                                               └─128\n",
            "│    │    └─Hardswish: 3-24                                  [32, 128, 28, 28]         --\n",
            "│    │    └─ConvNorm: 3-25                                   [32, 256, 14, 14]         295,424\n",
            "│    │    │    └─linear.weight                                                         ├─294,912\n",
            "│    │    │    └─bn.weight                                                             ├─256\n",
            "│    │    │    └─bn.bias                                                               └─256\n",
            "│    └─LevitStage: 2-12                                      [32, 196, 256]            --\n",
            "│    │    └─blocks.0.attn.qkv.linear.weight                                            ├─196,608\n",
            "│    │    └─blocks.0.attn.qkv.bn.weight                                                ├─768\n",
            "│    │    └─blocks.0.attn.qkv.bn.bias                                                  ├─768\n",
            "│    │    └─blocks.0.attn.proj.1.linear.weight                                         ├─65,536\n",
            "│    │    └─blocks.0.attn.proj.1.bn.weight                                             ├─256\n",
            "│    │    └─blocks.0.attn.proj.1.bn.bias                                               ├─256\n",
            "│    │    └─blocks.0.mlp.ln1.linear.weight                                             ├─131,072\n",
            "│    │    └─blocks.0.mlp.ln1.bn.weight                                                 ├─512\n",
            "│    │    └─blocks.0.mlp.ln1.bn.bias                                                   ├─512\n",
            "│    │    └─blocks.0.mlp.ln2.linear.weight                                             ├─131,072\n",
            "│    │    └─blocks.0.mlp.ln2.bn.weight                                                 ├─256\n",
            "│    │    └─blocks.0.mlp.ln2.bn.bias                                                   ├─256\n",
            "│    │    └─blocks.1.attn.qkv.linear.weight                                            ├─196,608\n",
            "│    │    └─blocks.1.attn.qkv.bn.weight                                                ├─768\n",
            "│    │    └─blocks.1.attn.qkv.bn.bias                                                  ├─768\n",
            "│    │    └─blocks.1.attn.proj.1.linear.weight                                         ├─65,536\n",
            "│    │    └─blocks.1.attn.proj.1.bn.weight                                             ├─256\n",
            "│    │    └─blocks.1.attn.proj.1.bn.bias                                               ├─256\n",
            "│    │    └─blocks.1.mlp.ln1.linear.weight                                             ├─131,072\n",
            "│    │    └─blocks.1.mlp.ln1.bn.weight                                                 ├─512\n",
            "│    │    └─blocks.1.mlp.ln1.bn.bias                                                   ├─512\n",
            "│    │    └─blocks.1.mlp.ln2.linear.weight                                             ├─131,072\n",
            "│    │    └─blocks.1.mlp.ln2.bn.weight                                                 ├─256\n",
            "│    │    └─blocks.1.mlp.ln2.bn.bias                                                   ├─256\n",
            "│    │    └─blocks.2.attn.qkv.linear.weight                                            ├─196,608\n",
            "│    │    └─blocks.2.attn.qkv.bn.weight                                                ├─768\n",
            "│    │    └─blocks.2.attn.qkv.bn.bias                                                  ├─768\n",
            "│    │    └─blocks.2.attn.proj.1.linear.weight                                         ├─65,536\n",
            "│    │    └─blocks.2.attn.proj.1.bn.weight                                             ├─256\n",
            "│    │    └─blocks.2.attn.proj.1.bn.bias                                               ├─256\n",
            "│    │    └─blocks.2.mlp.ln1.linear.weight                                             ├─131,072\n",
            "│    │    └─blocks.2.mlp.ln1.bn.weight                                                 ├─512\n",
            "│    │    └─blocks.2.mlp.ln1.bn.bias                                                   ├─512\n",
            "│    │    └─blocks.2.mlp.ln2.linear.weight                                             ├─131,072\n",
            "│    │    └─blocks.2.mlp.ln2.bn.weight                                                 ├─256\n",
            "│    │    └─blocks.2.mlp.ln2.bn.bias                                                   └─256\n",
            "│    │    └─Identity: 3-26                                   [32, 196, 256]            --\n",
            "│    │    └─Sequential: 3-27                                 [32, 196, 256]            1,583,616\n",
            "│    │    │    └─0.attn.qkv.linear.weight                                              ├─196,608\n",
            "│    │    │    └─0.attn.qkv.bn.weight                                                  ├─768\n",
            "│    │    │    └─0.attn.qkv.bn.bias                                                    ├─768\n",
            "│    │    │    └─0.attn.proj.1.linear.weight                                           ├─65,536\n",
            "│    │    │    └─0.attn.proj.1.bn.weight                                               ├─256\n",
            "│    │    │    └─0.attn.proj.1.bn.bias                                                 ├─256\n",
            "│    │    │    └─0.mlp.ln1.linear.weight                                               ├─131,072\n",
            "│    │    │    └─0.mlp.ln1.bn.weight                                                   ├─512\n",
            "│    │    │    └─0.mlp.ln1.bn.bias                                                     ├─512\n",
            "│    │    │    └─0.mlp.ln2.linear.weight                                               ├─131,072\n",
            "│    │    │    └─0.mlp.ln2.bn.weight                                                   ├─256\n",
            "│    │    │    └─0.mlp.ln2.bn.bias                                                     ├─256\n",
            "│    │    │    └─1.attn.qkv.linear.weight                                              ├─196,608\n",
            "│    │    │    └─1.attn.qkv.bn.weight                                                  ├─768\n",
            "│    │    │    └─1.attn.qkv.bn.bias                                                    ├─768\n",
            "│    │    │    └─1.attn.proj.1.linear.weight                                           ├─65,536\n",
            "│    │    │    └─1.attn.proj.1.bn.weight                                               ├─256\n",
            "│    │    │    └─1.attn.proj.1.bn.bias                                                 ├─256\n",
            "│    │    │    └─1.mlp.ln1.linear.weight                                               ├─131,072\n",
            "│    │    │    └─1.mlp.ln1.bn.weight                                                   ├─512\n",
            "│    │    │    └─1.mlp.ln1.bn.bias                                                     ├─512\n",
            "│    │    │    └─1.mlp.ln2.linear.weight                                               ├─131,072\n",
            "│    │    │    └─1.mlp.ln2.bn.weight                                                   ├─256\n",
            "│    │    │    └─1.mlp.ln2.bn.bias                                                     ├─256\n",
            "│    │    │    └─2.attn.qkv.linear.weight                                              ├─196,608\n",
            "│    │    │    └─2.attn.qkv.bn.weight                                                  ├─768\n",
            "│    │    │    └─2.attn.qkv.bn.bias                                                    ├─768\n",
            "│    │    │    └─2.attn.proj.1.linear.weight                                           ├─65,536\n",
            "│    │    │    └─2.attn.proj.1.bn.weight                                               ├─256\n",
            "│    │    │    └─2.attn.proj.1.bn.bias                                                 ├─256\n",
            "│    │    │    └─2.mlp.ln1.linear.weight                                               ├─131,072\n",
            "│    │    │    └─2.mlp.ln1.bn.weight                                                   ├─512\n",
            "│    │    │    └─2.mlp.ln1.bn.bias                                                     ├─512\n",
            "│    │    │    └─2.mlp.ln2.linear.weight                                               ├─131,072\n",
            "│    │    │    └─2.mlp.ln2.bn.weight                                                   ├─256\n",
            "│    │    │    └─2.mlp.ln2.bn.bias                                                     └─256\n",
            "│    └─LevitStage: 2-13                                      [32, 49, 384]             --\n",
            "│    │    └─downsample.attn_downsample.kv.linear.weight                                ├─786,432\n",
            "│    │    └─downsample.attn_downsample.kv.bn.weight                                    ├─3,072\n",
            "│    │    └─downsample.attn_downsample.kv.bn.bias                                      ├─3,072\n",
            "│    │    └─downsample.attn_downsample.q.0.weight                                      ├─262,144\n",
            "│    │    └─downsample.attn_downsample.q.0.bias                                        ├─256\n",
            "│    │    └─downsample.attn_downsample.proj.1.linear.weight                            ├─98,304\n",
            "│    │    └─downsample.attn_downsample.proj.1.bn.weight                                ├─384\n",
            "│    │    └─downsample.attn_downsample.proj.1.bn.bias                                  ├─384\n",
            "│    │    └─downsample.mlp.ln1.linear.weight                                           ├─294,912\n",
            "│    │    └─downsample.mlp.ln1.bn.weight                                               ├─768\n",
            "│    │    └─downsample.mlp.ln1.bn.bias                                                 ├─768\n",
            "│    │    └─downsample.mlp.ln2.linear.weight                                           ├─294,912\n",
            "│    │    └─downsample.mlp.ln2.bn.weight                                               ├─384\n",
            "│    │    └─downsample.mlp.ln2.bn.bias                                                 ├─384\n",
            "│    │    └─blocks.0.attn.qkv.linear.weight                                            ├─442,368\n",
            "│    │    └─blocks.0.attn.qkv.bn.weight                                                ├─1,152\n",
            "│    │    └─blocks.0.attn.qkv.bn.bias                                                  ├─1,152\n",
            "│    │    └─blocks.0.attn.proj.1.linear.weight                                         ├─147,456\n",
            "│    │    └─blocks.0.attn.proj.1.bn.weight                                             ├─384\n",
            "│    │    └─blocks.0.attn.proj.1.bn.bias                                               ├─384\n",
            "│    │    └─blocks.0.mlp.ln1.linear.weight                                             ├─294,912\n",
            "│    │    └─blocks.0.mlp.ln1.bn.weight                                                 ├─768\n",
            "│    │    └─blocks.0.mlp.ln1.bn.bias                                                   ├─768\n",
            "│    │    └─blocks.0.mlp.ln2.linear.weight                                             ├─294,912\n",
            "│    │    └─blocks.0.mlp.ln2.bn.weight                                                 ├─384\n",
            "│    │    └─blocks.0.mlp.ln2.bn.bias                                                   ├─384\n",
            "│    │    └─blocks.1.attn.qkv.linear.weight                                            ├─442,368\n",
            "│    │    └─blocks.1.attn.qkv.bn.weight                                                ├─1,152\n",
            "│    │    └─blocks.1.attn.qkv.bn.bias                                                  ├─1,152\n",
            "│    │    └─blocks.1.attn.proj.1.linear.weight                                         ├─147,456\n",
            "│    │    └─blocks.1.attn.proj.1.bn.weight                                             ├─384\n",
            "│    │    └─blocks.1.attn.proj.1.bn.bias                                               ├─384\n",
            "│    │    └─blocks.1.mlp.ln1.linear.weight                                             ├─294,912\n",
            "│    │    └─blocks.1.mlp.ln1.bn.weight                                                 ├─768\n",
            "│    │    └─blocks.1.mlp.ln1.bn.bias                                                   ├─768\n",
            "│    │    └─blocks.1.mlp.ln2.linear.weight                                             ├─294,912\n",
            "│    │    └─blocks.1.mlp.ln2.bn.weight                                                 ├─384\n",
            "│    │    └─blocks.1.mlp.ln2.bn.bias                                                   ├─384\n",
            "│    │    └─blocks.2.attn.qkv.linear.weight                                            ├─442,368\n",
            "│    │    └─blocks.2.attn.qkv.bn.weight                                                ├─1,152\n",
            "│    │    └─blocks.2.attn.qkv.bn.bias                                                  ├─1,152\n",
            "│    │    └─blocks.2.attn.proj.1.linear.weight                                         ├─147,456\n",
            "│    │    └─blocks.2.attn.proj.1.bn.weight                                             ├─384\n",
            "│    │    └─blocks.2.attn.proj.1.bn.bias                                               ├─384\n",
            "│    │    └─blocks.2.mlp.ln1.linear.weight                                             ├─294,912\n",
            "│    │    └─blocks.2.mlp.ln1.bn.weight                                                 ├─768\n",
            "│    │    └─blocks.2.mlp.ln1.bn.bias                                                   ├─768\n",
            "│    │    └─blocks.2.mlp.ln2.linear.weight                                             ├─294,912\n",
            "│    │    └─blocks.2.mlp.ln2.bn.weight                                                 ├─384\n",
            "│    │    └─blocks.2.mlp.ln2.bn.bias                                                   └─384\n",
            "│    │    └─LevitDownsample: 3-28                            [32, 49, 384]             1,746,176\n",
            "│    │    │    └─attn_downsample.kv.linear.weight                                      ├─786,432\n",
            "│    │    │    └─attn_downsample.kv.bn.weight                                          ├─3,072\n",
            "│    │    │    └─attn_downsample.kv.bn.bias                                            ├─3,072\n",
            "│    │    │    └─attn_downsample.q.0.weight                                            ├─262,144\n",
            "│    │    │    └─attn_downsample.q.0.bias                                              ├─256\n",
            "│    │    │    └─attn_downsample.proj.1.linear.weight                                  ├─98,304\n",
            "│    │    │    └─attn_downsample.proj.1.bn.weight                                      ├─384\n",
            "│    │    │    └─attn_downsample.proj.1.bn.bias                                        ├─384\n",
            "│    │    │    └─mlp.ln1.linear.weight                                                 ├─294,912\n",
            "│    │    │    └─mlp.ln1.bn.weight                                                     ├─768\n",
            "│    │    │    └─mlp.ln1.bn.bias                                                       ├─768\n",
            "│    │    │    └─mlp.ln2.linear.weight                                                 ├─294,912\n",
            "│    │    │    └─mlp.ln2.bn.weight                                                     ├─384\n",
            "│    │    │    └─mlp.ln2.bn.bias                                                       └─384\n",
            "│    │    └─Sequential: 3-29                                 [32, 49, 384]             3,555,072\n",
            "│    │    │    └─0.attn.qkv.linear.weight                                              ├─442,368\n",
            "│    │    │    └─0.attn.qkv.bn.weight                                                  ├─1,152\n",
            "│    │    │    └─0.attn.qkv.bn.bias                                                    ├─1,152\n",
            "│    │    │    └─0.attn.proj.1.linear.weight                                           ├─147,456\n",
            "│    │    │    └─0.attn.proj.1.bn.weight                                               ├─384\n",
            "│    │    │    └─0.attn.proj.1.bn.bias                                                 ├─384\n",
            "│    │    │    └─0.mlp.ln1.linear.weight                                               ├─294,912\n",
            "│    │    │    └─0.mlp.ln1.bn.weight                                                   ├─768\n",
            "│    │    │    └─0.mlp.ln1.bn.bias                                                     ├─768\n",
            "│    │    │    └─0.mlp.ln2.linear.weight                                               ├─294,912\n",
            "│    │    │    └─0.mlp.ln2.bn.weight                                                   ├─384\n",
            "│    │    │    └─0.mlp.ln2.bn.bias                                                     ├─384\n",
            "│    │    │    └─1.attn.qkv.linear.weight                                              ├─442,368\n",
            "│    │    │    └─1.attn.qkv.bn.weight                                                  ├─1,152\n",
            "│    │    │    └─1.attn.qkv.bn.bias                                                    ├─1,152\n",
            "│    │    │    └─1.attn.proj.1.linear.weight                                           ├─147,456\n",
            "│    │    │    └─1.attn.proj.1.bn.weight                                               ├─384\n",
            "│    │    │    └─1.attn.proj.1.bn.bias                                                 ├─384\n",
            "│    │    │    └─1.mlp.ln1.linear.weight                                               ├─294,912\n",
            "│    │    │    └─1.mlp.ln1.bn.weight                                                   ├─768\n",
            "│    │    │    └─1.mlp.ln1.bn.bias                                                     ├─768\n",
            "│    │    │    └─1.mlp.ln2.linear.weight                                               ├─294,912\n",
            "│    │    │    └─1.mlp.ln2.bn.weight                                                   ├─384\n",
            "│    │    │    └─1.mlp.ln2.bn.bias                                                     ├─384\n",
            "│    │    │    └─2.attn.qkv.linear.weight                                              ├─442,368\n",
            "│    │    │    └─2.attn.qkv.bn.weight                                                  ├─1,152\n",
            "│    │    │    └─2.attn.qkv.bn.bias                                                    ├─1,152\n",
            "│    │    │    └─2.attn.proj.1.linear.weight                                           ├─147,456\n",
            "│    │    │    └─2.attn.proj.1.bn.weight                                               ├─384\n",
            "│    │    │    └─2.attn.proj.1.bn.bias                                                 ├─384\n",
            "│    │    │    └─2.mlp.ln1.linear.weight                                               ├─294,912\n",
            "│    │    │    └─2.mlp.ln1.bn.weight                                                   ├─768\n",
            "│    │    │    └─2.mlp.ln1.bn.bias                                                     ├─768\n",
            "│    │    │    └─2.mlp.ln2.linear.weight                                               ├─294,912\n",
            "│    │    │    └─2.mlp.ln2.bn.weight                                                   ├─384\n",
            "│    │    │    └─2.mlp.ln2.bn.bias                                                     └─384\n",
            "│    └─Sequential: 2-14                                      [32, 512, 7, 7]           --\n",
            "│    │    └─0.weight                                                                   ├─196,608\n",
            "│    │    └─0.bias                                                                     ├─512\n",
            "│    │    └─1.weight                                                                   ├─512\n",
            "│    │    └─1.bias                                                                     └─512\n",
            "│    │    └─Conv2d: 3-30                                     [32, 512, 7, 7]           197,120\n",
            "│    │    │    └─weight                                                                ├─196,608\n",
            "│    │    │    └─bias                                                                  └─512\n",
            "│    │    └─BatchNorm2d: 3-31                                [32, 512, 7, 7]           1,024\n",
            "│    │    │    └─weight                                                                ├─512\n",
            "│    │    │    └─bias                                                                  └─512\n",
            "│    │    └─ReLU: 3-32                                       [32, 512, 7, 7]           --\n",
            "│    └─NormLinear: 2-15                                      [32, 37]                  --\n",
            "│    │    └─bn.weight                                                                  ├─512\n",
            "│    │    └─bn.bias                                                                    ├─512\n",
            "│    │    └─linear.weight                                                              ├─18,944\n",
            "│    │    └─linear.bias                                                                └─37\n",
            "│    │    └─BatchNorm1d: 3-33                                [32, 512]                 1,024\n",
            "│    │    │    └─weight                                                                ├─512\n",
            "│    │    │    └─bias                                                                  └─512\n",
            "│    │    └─Dropout: 3-34                                    [32, 512]                 --\n",
            "│    │    └─Linear: 3-35                                     [32, 37]                  18,981\n",
            "│    │    │    └─weight                                                                ├─18,944\n",
            "│    │    │    └─bias                                                                  └─37\n",
            "│    └─NormLinear: 2-16                                      [32, 37]                  --\n",
            "│    │    └─bn.weight                                                                  ├─512\n",
            "│    │    └─bn.bias                                                                    ├─512\n",
            "│    │    └─linear.weight                                                              ├─18,944\n",
            "│    │    └─linear.bias                                                                └─37\n",
            "│    │    └─BatchNorm1d: 3-36                                [32, 512]                 1,024\n",
            "│    │    │    └─weight                                                                ├─512\n",
            "│    │    │    └─bias                                                                  └─512\n",
            "│    │    └─Dropout: 3-37                                    [32, 512]                 --\n",
            "│    │    └─Linear: 3-38                                     [32, 37]                  18,981\n",
            "│    │    │    └─weight                                                                ├─18,944\n",
            "│    │    │    └─bias                                                                  └─37\n",
            "==============================================================================================================\n",
            "Total params: 50,297,085\n",
            "Trainable params: 26,789,053\n",
            "Non-trainable params: 23,508,032\n",
            "Total mult-adds (G): 159.82\n",
            "==============================================================================================================\n",
            "Input size (MB): 19.27\n",
            "Forward/backward pass size (MB): 7221.61\n",
            "Params size (MB): 201.19\n",
            "Estimated Total Size (MB): 7442.07\n",
            "==============================================================================================================\n",
            "==============================================================================================================\n",
            "Layer (type:depth-idx)                                       Output Shape              Param #\n",
            "==============================================================================================================\n",
            "LauncherModel                                                [32, 37]                  --\n",
            "├─ResNet: 1-1                                                [32, 2048]                --\n",
            "│    └─conv1.weight                                                                    ├─9,408\n",
            "│    └─bn1.weight                                                                      ├─64\n",
            "│    └─bn1.bias                                                                        ├─64\n",
            "│    └─layer1.0.conv1.weight                                                           ├─4,096\n",
            "│    └─layer1.0.bn1.weight                                                             ├─64\n",
            "│    └─layer1.0.bn1.bias                                                               ├─64\n",
            "│    └─layer1.0.conv2.weight                                                           ├─36,864\n",
            "│    └─layer1.0.bn2.weight                                                             ├─64\n",
            "│    └─layer1.0.bn2.bias                                                               ├─64\n",
            "│    └─layer1.0.conv3.weight                                                           ├─16,384\n",
            "│    └─layer1.0.bn3.weight                                                             ├─256\n",
            "│    └─layer1.0.bn3.bias                                                               ├─256\n",
            "│    └─layer1.0.downsample.0.weight                                                    ├─16,384\n",
            "│    └─layer1.0.downsample.1.weight                                                    ├─256\n",
            "│    └─layer1.0.downsample.1.bias                                                      ├─256\n",
            "│    └─layer1.1.conv1.weight                                                           ├─16,384\n",
            "│    └─layer1.1.bn1.weight                                                             ├─64\n",
            "│    └─layer1.1.bn1.bias                                                               ├─64\n",
            "│    └─layer1.1.conv2.weight                                                           ├─36,864\n",
            "│    └─layer1.1.bn2.weight                                                             ├─64\n",
            "│    └─layer1.1.bn2.bias                                                               ├─64\n",
            "│    └─layer1.1.conv3.weight                                                           ├─16,384\n",
            "│    └─layer1.1.bn3.weight                                                             ├─256\n",
            "│    └─layer1.1.bn3.bias                                                               ├─256\n",
            "│    └─layer1.2.conv1.weight                                                           ├─16,384\n",
            "│    └─layer1.2.bn1.weight                                                             ├─64\n",
            "│    └─layer1.2.bn1.bias                                                               ├─64\n",
            "│    └─layer1.2.conv2.weight                                                           ├─36,864\n",
            "│    └─layer1.2.bn2.weight                                                             ├─64\n",
            "│    └─layer1.2.bn2.bias                                                               ├─64\n",
            "│    └─layer1.2.conv3.weight                                                           ├─16,384\n",
            "│    └─layer1.2.bn3.weight                                                             ├─256\n",
            "│    └─layer1.2.bn3.bias                                                               ├─256\n",
            "│    └─layer2.0.conv1.weight                                                           ├─32,768\n",
            "│    └─layer2.0.bn1.weight                                                             ├─128\n",
            "│    └─layer2.0.bn1.bias                                                               ├─128\n",
            "│    └─layer2.0.conv2.weight                                                           ├─147,456\n",
            "│    └─layer2.0.bn2.weight                                                             ├─128\n",
            "│    └─layer2.0.bn2.bias                                                               ├─128\n",
            "│    └─layer2.0.conv3.weight                                                           ├─65,536\n",
            "│    └─layer2.0.bn3.weight                                                             ├─512\n",
            "│    └─layer2.0.bn3.bias                                                               ├─512\n",
            "│    └─layer2.0.downsample.0.weight                                                    ├─131,072\n",
            "│    └─layer2.0.downsample.1.weight                                                    ├─512\n",
            "│    └─layer2.0.downsample.1.bias                                                      ├─512\n",
            "│    └─layer2.1.conv1.weight                                                           ├─65,536\n",
            "│    └─layer2.1.bn1.weight                                                             ├─128\n",
            "│    └─layer2.1.bn1.bias                                                               ├─128\n",
            "│    └─layer2.1.conv2.weight                                                           ├─147,456\n",
            "│    └─layer2.1.bn2.weight                                                             ├─128\n",
            "│    └─layer2.1.bn2.bias                                                               ├─128\n",
            "│    └─layer2.1.conv3.weight                                                           ├─65,536\n",
            "│    └─layer2.1.bn3.weight                                                             ├─512\n",
            "│    └─layer2.1.bn3.bias                                                               ├─512\n",
            "│    └─layer2.2.conv1.weight                                                           ├─65,536\n",
            "│    └─layer2.2.bn1.weight                                                             ├─128\n",
            "│    └─layer2.2.bn1.bias                                                               ├─128\n",
            "│    └─layer2.2.conv2.weight                                                           ├─147,456\n",
            "│    └─layer2.2.bn2.weight                                                             ├─128\n",
            "│    └─layer2.2.bn2.bias                                                               ├─128\n",
            "│    └─layer2.2.conv3.weight                                                           ├─65,536\n",
            "│    └─layer2.2.bn3.weight                                                             ├─512\n",
            "│    └─layer2.2.bn3.bias                                                               ├─512\n",
            "│    └─layer2.3.conv1.weight                                                           ├─65,536\n",
            "│    └─layer2.3.bn1.weight                                                             ├─128\n",
            "│    └─layer2.3.bn1.bias                                                               ├─128\n",
            "│    └─layer2.3.conv2.weight                                                           ├─147,456\n",
            "│    └─layer2.3.bn2.weight                                                             ├─128\n",
            "│    └─layer2.3.bn2.bias                                                               ├─128\n",
            "│    └─layer2.3.conv3.weight                                                           ├─65,536\n",
            "│    └─layer2.3.bn3.weight                                                             ├─512\n",
            "│    └─layer2.3.bn3.bias                                                               ├─512\n",
            "│    └─layer3.0.conv1.weight                                                           ├─131,072\n",
            "│    └─layer3.0.bn1.weight                                                             ├─256\n",
            "│    └─layer3.0.bn1.bias                                                               ├─256\n",
            "│    └─layer3.0.conv2.weight                                                           ├─589,824\n",
            "│    └─layer3.0.bn2.weight                                                             ├─256\n",
            "│    └─layer3.0.bn2.bias                                                               ├─256\n",
            "│    └─layer3.0.conv3.weight                                                           ├─262,144\n",
            "│    └─layer3.0.bn3.weight                                                             ├─1,024\n",
            "│    └─layer3.0.bn3.bias                                                               ├─1,024\n",
            "│    └─layer3.0.downsample.0.weight                                                    ├─524,288\n",
            "│    └─layer3.0.downsample.1.weight                                                    ├─1,024\n",
            "│    └─layer3.0.downsample.1.bias                                                      ├─1,024\n",
            "│    └─layer3.1.conv1.weight                                                           ├─262,144\n",
            "│    └─layer3.1.bn1.weight                                                             ├─256\n",
            "│    └─layer3.1.bn1.bias                                                               ├─256\n",
            "│    └─layer3.1.conv2.weight                                                           ├─589,824\n",
            "│    └─layer3.1.bn2.weight                                                             ├─256\n",
            "│    └─layer3.1.bn2.bias                                                               ├─256\n",
            "│    └─layer3.1.conv3.weight                                                           ├─262,144\n",
            "│    └─layer3.1.bn3.weight                                                             ├─1,024\n",
            "│    └─layer3.1.bn3.bias                                                               ├─1,024\n",
            "│    └─layer3.2.conv1.weight                                                           ├─262,144\n",
            "│    └─layer3.2.bn1.weight                                                             ├─256\n",
            "│    └─layer3.2.bn1.bias                                                               ├─256\n",
            "│    └─layer3.2.conv2.weight                                                           ├─589,824\n",
            "│    └─layer3.2.bn2.weight                                                             ├─256\n",
            "│    └─layer3.2.bn2.bias                                                               ├─256\n",
            "│    └─layer3.2.conv3.weight                                                           ├─262,144\n",
            "│    └─layer3.2.bn3.weight                                                             ├─1,024\n",
            "│    └─layer3.2.bn3.bias                                                               ├─1,024\n",
            "│    └─layer3.3.conv1.weight                                                           ├─262,144\n",
            "│    └─layer3.3.bn1.weight                                                             ├─256\n",
            "│    └─layer3.3.bn1.bias                                                               ├─256\n",
            "│    └─layer3.3.conv2.weight                                                           ├─589,824\n",
            "│    └─layer3.3.bn2.weight                                                             ├─256\n",
            "│    └─layer3.3.bn2.bias                                                               ├─256\n",
            "│    └─layer3.3.conv3.weight                                                           ├─262,144\n",
            "│    └─layer3.3.bn3.weight                                                             ├─1,024\n",
            "│    └─layer3.3.bn3.bias                                                               ├─1,024\n",
            "│    └─layer3.4.conv1.weight                                                           ├─262,144\n",
            "│    └─layer3.4.bn1.weight                                                             ├─256\n",
            "│    └─layer3.4.bn1.bias                                                               ├─256\n",
            "│    └─layer3.4.conv2.weight                                                           ├─589,824\n",
            "│    └─layer3.4.bn2.weight                                                             ├─256\n",
            "│    └─layer3.4.bn2.bias                                                               ├─256\n",
            "│    └─layer3.4.conv3.weight                                                           ├─262,144\n",
            "│    └─layer3.4.bn3.weight                                                             ├─1,024\n",
            "│    └─layer3.4.bn3.bias                                                               ├─1,024\n",
            "│    └─layer3.5.conv1.weight                                                           ├─262,144\n",
            "│    └─layer3.5.bn1.weight                                                             ├─256\n",
            "│    └─layer3.5.bn1.bias                                                               ├─256\n",
            "│    └─layer3.5.conv2.weight                                                           ├─589,824\n",
            "│    └─layer3.5.bn2.weight                                                             ├─256\n",
            "│    └─layer3.5.bn2.bias                                                               ├─256\n",
            "│    └─layer3.5.conv3.weight                                                           ├─262,144\n",
            "│    └─layer3.5.bn3.weight                                                             ├─1,024\n",
            "│    └─layer3.5.bn3.bias                                                               ├─1,024\n",
            "│    └─layer4.0.conv1.weight                                                           ├─524,288\n",
            "│    └─layer4.0.bn1.weight                                                             ├─512\n",
            "│    └─layer4.0.bn1.bias                                                               ├─512\n",
            "│    └─layer4.0.conv2.weight                                                           ├─2,359,296\n",
            "│    └─layer4.0.bn2.weight                                                             ├─512\n",
            "│    └─layer4.0.bn2.bias                                                               ├─512\n",
            "│    └─layer4.0.conv3.weight                                                           ├─1,048,576\n",
            "│    └─layer4.0.bn3.weight                                                             ├─2,048\n",
            "│    └─layer4.0.bn3.bias                                                               ├─2,048\n",
            "│    └─layer4.0.downsample.0.weight                                                    ├─2,097,152\n",
            "│    └─layer4.0.downsample.1.weight                                                    ├─2,048\n",
            "│    └─layer4.0.downsample.1.bias                                                      ├─2,048\n",
            "│    └─layer4.1.conv1.weight                                                           ├─1,048,576\n",
            "│    └─layer4.1.bn1.weight                                                             ├─512\n",
            "│    └─layer4.1.bn1.bias                                                               ├─512\n",
            "│    └─layer4.1.conv2.weight                                                           ├─2,359,296\n",
            "│    └─layer4.1.bn2.weight                                                             ├─512\n",
            "│    └─layer4.1.bn2.bias                                                               ├─512\n",
            "│    └─layer4.1.conv3.weight                                                           ├─1,048,576\n",
            "│    └─layer4.1.bn3.weight                                                             ├─2,048\n",
            "│    └─layer4.1.bn3.bias                                                               ├─2,048\n",
            "│    └─layer4.2.conv1.weight                                                           ├─1,048,576\n",
            "│    └─layer4.2.bn1.weight                                                             ├─512\n",
            "│    └─layer4.2.bn1.bias                                                               ├─512\n",
            "│    └─layer4.2.conv2.weight                                                           ├─2,359,296\n",
            "│    └─layer4.2.bn2.weight                                                             ├─512\n",
            "│    └─layer4.2.bn2.bias                                                               ├─512\n",
            "│    └─layer4.2.conv3.weight                                                           ├─1,048,576\n",
            "│    └─layer4.2.bn3.weight                                                             ├─2,048\n",
            "│    └─layer4.2.bn3.bias                                                               └─2,048\n",
            "│    └─Conv2d: 2-1                                           [32, 64, 112, 112]        (9,408)\n",
            "│    │    └─weight                                                                     └─9,408\n",
            "│    └─BatchNorm2d: 2-2                                      [32, 64, 112, 112]        (128)\n",
            "│    │    └─weight                                                                     ├─64\n",
            "│    │    └─bias                                                                       └─64\n",
            "│    └─ReLU: 2-3                                             [32, 64, 112, 112]        --\n",
            "│    └─MaxPool2d: 2-4                                        [32, 64, 56, 56]          --\n",
            "│    └─Sequential: 2-5                                       [32, 256, 56, 56]         --\n",
            "│    │    └─0.conv1.weight                                                             ├─4,096\n",
            "│    │    └─0.bn1.weight                                                               ├─64\n",
            "│    │    └─0.bn1.bias                                                                 ├─64\n",
            "│    │    └─0.conv2.weight                                                             ├─36,864\n",
            "│    │    └─0.bn2.weight                                                               ├─64\n",
            "│    │    └─0.bn2.bias                                                                 ├─64\n",
            "│    │    └─0.conv3.weight                                                             ├─16,384\n",
            "│    │    └─0.bn3.weight                                                               ├─256\n",
            "│    │    └─0.bn3.bias                                                                 ├─256\n",
            "│    │    └─0.downsample.0.weight                                                      ├─16,384\n",
            "│    │    └─0.downsample.1.weight                                                      ├─256\n",
            "│    │    └─0.downsample.1.bias                                                        ├─256\n",
            "│    │    └─1.conv1.weight                                                             ├─16,384\n",
            "│    │    └─1.bn1.weight                                                               ├─64\n",
            "│    │    └─1.bn1.bias                                                                 ├─64\n",
            "│    │    └─1.conv2.weight                                                             ├─36,864\n",
            "│    │    └─1.bn2.weight                                                               ├─64\n",
            "│    │    └─1.bn2.bias                                                                 ├─64\n",
            "│    │    └─1.conv3.weight                                                             ├─16,384\n",
            "│    │    └─1.bn3.weight                                                               ├─256\n",
            "│    │    └─1.bn3.bias                                                                 ├─256\n",
            "│    │    └─2.conv1.weight                                                             ├─16,384\n",
            "│    │    └─2.bn1.weight                                                               ├─64\n",
            "│    │    └─2.bn1.bias                                                                 ├─64\n",
            "│    │    └─2.conv2.weight                                                             ├─36,864\n",
            "│    │    └─2.bn2.weight                                                               ├─64\n",
            "│    │    └─2.bn2.bias                                                                 ├─64\n",
            "│    │    └─2.conv3.weight                                                             ├─16,384\n",
            "│    │    └─2.bn3.weight                                                               ├─256\n",
            "│    │    └─2.bn3.bias                                                                 └─256\n",
            "│    │    └─Bottleneck: 3-1                                  [32, 256, 56, 56]         (75,008)\n",
            "│    │    │    └─conv1.weight                                                          ├─4,096\n",
            "│    │    │    └─bn1.weight                                                            ├─64\n",
            "│    │    │    └─bn1.bias                                                              ├─64\n",
            "│    │    │    └─conv2.weight                                                          ├─36,864\n",
            "│    │    │    └─bn2.weight                                                            ├─64\n",
            "│    │    │    └─bn2.bias                                                              ├─64\n",
            "│    │    │    └─conv3.weight                                                          ├─16,384\n",
            "│    │    │    └─bn3.weight                                                            ├─256\n",
            "│    │    │    └─bn3.bias                                                              ├─256\n",
            "│    │    │    └─downsample.0.weight                                                   ├─16,384\n",
            "│    │    │    └─downsample.1.weight                                                   ├─256\n",
            "│    │    │    └─downsample.1.bias                                                     └─256\n",
            "│    │    └─Bottleneck: 3-2                                  [32, 256, 56, 56]         (70,400)\n",
            "│    │    │    └─conv1.weight                                                          ├─16,384\n",
            "│    │    │    └─bn1.weight                                                            ├─64\n",
            "│    │    │    └─bn1.bias                                                              ├─64\n",
            "│    │    │    └─conv2.weight                                                          ├─36,864\n",
            "│    │    │    └─bn2.weight                                                            ├─64\n",
            "│    │    │    └─bn2.bias                                                              ├─64\n",
            "│    │    │    └─conv3.weight                                                          ├─16,384\n",
            "│    │    │    └─bn3.weight                                                            ├─256\n",
            "│    │    │    └─bn3.bias                                                              └─256\n",
            "│    │    └─Bottleneck: 3-3                                  [32, 256, 56, 56]         (70,400)\n",
            "│    │    │    └─conv1.weight                                                          ├─16,384\n",
            "│    │    │    └─bn1.weight                                                            ├─64\n",
            "│    │    │    └─bn1.bias                                                              ├─64\n",
            "│    │    │    └─conv2.weight                                                          ├─36,864\n",
            "│    │    │    └─bn2.weight                                                            ├─64\n",
            "│    │    │    └─bn2.bias                                                              ├─64\n",
            "│    │    │    └─conv3.weight                                                          ├─16,384\n",
            "│    │    │    └─bn3.weight                                                            ├─256\n",
            "│    │    │    └─bn3.bias                                                              └─256\n",
            "│    └─Sequential: 2-6                                       [32, 512, 28, 28]         --\n",
            "│    │    └─0.conv1.weight                                                             ├─32,768\n",
            "│    │    └─0.bn1.weight                                                               ├─128\n",
            "│    │    └─0.bn1.bias                                                                 ├─128\n",
            "│    │    └─0.conv2.weight                                                             ├─147,456\n",
            "│    │    └─0.bn2.weight                                                               ├─128\n",
            "│    │    └─0.bn2.bias                                                                 ├─128\n",
            "│    │    └─0.conv3.weight                                                             ├─65,536\n",
            "│    │    └─0.bn3.weight                                                               ├─512\n",
            "│    │    └─0.bn3.bias                                                                 ├─512\n",
            "│    │    └─0.downsample.0.weight                                                      ├─131,072\n",
            "│    │    └─0.downsample.1.weight                                                      ├─512\n",
            "│    │    └─0.downsample.1.bias                                                        ├─512\n",
            "│    │    └─1.conv1.weight                                                             ├─65,536\n",
            "│    │    └─1.bn1.weight                                                               ├─128\n",
            "│    │    └─1.bn1.bias                                                                 ├─128\n",
            "│    │    └─1.conv2.weight                                                             ├─147,456\n",
            "│    │    └─1.bn2.weight                                                               ├─128\n",
            "│    │    └─1.bn2.bias                                                                 ├─128\n",
            "│    │    └─1.conv3.weight                                                             ├─65,536\n",
            "│    │    └─1.bn3.weight                                                               ├─512\n",
            "│    │    └─1.bn3.bias                                                                 ├─512\n",
            "│    │    └─2.conv1.weight                                                             ├─65,536\n",
            "│    │    └─2.bn1.weight                                                               ├─128\n",
            "│    │    └─2.bn1.bias                                                                 ├─128\n",
            "│    │    └─2.conv2.weight                                                             ├─147,456\n",
            "│    │    └─2.bn2.weight                                                               ├─128\n",
            "│    │    └─2.bn2.bias                                                                 ├─128\n",
            "│    │    └─2.conv3.weight                                                             ├─65,536\n",
            "│    │    └─2.bn3.weight                                                               ├─512\n",
            "│    │    └─2.bn3.bias                                                                 ├─512\n",
            "│    │    └─3.conv1.weight                                                             ├─65,536\n",
            "│    │    └─3.bn1.weight                                                               ├─128\n",
            "│    │    └─3.bn1.bias                                                                 ├─128\n",
            "│    │    └─3.conv2.weight                                                             ├─147,456\n",
            "│    │    └─3.bn2.weight                                                               ├─128\n",
            "│    │    └─3.bn2.bias                                                                 ├─128\n",
            "│    │    └─3.conv3.weight                                                             ├─65,536\n",
            "│    │    └─3.bn3.weight                                                               ├─512\n",
            "│    │    └─3.bn3.bias                                                                 └─512\n",
            "│    │    └─Bottleneck: 3-4                                  [32, 512, 28, 28]         (379,392)\n",
            "│    │    │    └─conv1.weight                                                          ├─32,768\n",
            "│    │    │    └─bn1.weight                                                            ├─128\n",
            "│    │    │    └─bn1.bias                                                              ├─128\n",
            "│    │    │    └─conv2.weight                                                          ├─147,456\n",
            "│    │    │    └─bn2.weight                                                            ├─128\n",
            "│    │    │    └─bn2.bias                                                              ├─128\n",
            "│    │    │    └─conv3.weight                                                          ├─65,536\n",
            "│    │    │    └─bn3.weight                                                            ├─512\n",
            "│    │    │    └─bn3.bias                                                              ├─512\n",
            "│    │    │    └─downsample.0.weight                                                   ├─131,072\n",
            "│    │    │    └─downsample.1.weight                                                   ├─512\n",
            "│    │    │    └─downsample.1.bias                                                     └─512\n",
            "│    │    └─Bottleneck: 3-5                                  [32, 512, 28, 28]         (280,064)\n",
            "│    │    │    └─conv1.weight                                                          ├─65,536\n",
            "│    │    │    └─bn1.weight                                                            ├─128\n",
            "│    │    │    └─bn1.bias                                                              ├─128\n",
            "│    │    │    └─conv2.weight                                                          ├─147,456\n",
            "│    │    │    └─bn2.weight                                                            ├─128\n",
            "│    │    │    └─bn2.bias                                                              ├─128\n",
            "│    │    │    └─conv3.weight                                                          ├─65,536\n",
            "│    │    │    └─bn3.weight                                                            ├─512\n",
            "│    │    │    └─bn3.bias                                                              └─512\n",
            "│    │    └─Bottleneck: 3-6                                  [32, 512, 28, 28]         (280,064)\n",
            "│    │    │    └─conv1.weight                                                          ├─65,536\n",
            "│    │    │    └─bn1.weight                                                            ├─128\n",
            "│    │    │    └─bn1.bias                                                              ├─128\n",
            "│    │    │    └─conv2.weight                                                          ├─147,456\n",
            "│    │    │    └─bn2.weight                                                            ├─128\n",
            "│    │    │    └─bn2.bias                                                              ├─128\n",
            "│    │    │    └─conv3.weight                                                          ├─65,536\n",
            "│    │    │    └─bn3.weight                                                            ├─512\n",
            "│    │    │    └─bn3.bias                                                              └─512\n",
            "│    │    └─Bottleneck: 3-7                                  [32, 512, 28, 28]         (280,064)\n",
            "│    │    │    └─conv1.weight                                                          ├─65,536\n",
            "│    │    │    └─bn1.weight                                                            ├─128\n",
            "│    │    │    └─bn1.bias                                                              ├─128\n",
            "│    │    │    └─conv2.weight                                                          ├─147,456\n",
            "│    │    │    └─bn2.weight                                                            ├─128\n",
            "│    │    │    └─bn2.bias                                                              ├─128\n",
            "│    │    │    └─conv3.weight                                                          ├─65,536\n",
            "│    │    │    └─bn3.weight                                                            ├─512\n",
            "│    │    │    └─bn3.bias                                                              └─512\n",
            "│    └─Sequential: 2-7                                       [32, 1024, 14, 14]        --\n",
            "│    │    └─0.conv1.weight                                                             ├─131,072\n",
            "│    │    └─0.bn1.weight                                                               ├─256\n",
            "│    │    └─0.bn1.bias                                                                 ├─256\n",
            "│    │    └─0.conv2.weight                                                             ├─589,824\n",
            "│    │    └─0.bn2.weight                                                               ├─256\n",
            "│    │    └─0.bn2.bias                                                                 ├─256\n",
            "│    │    └─0.conv3.weight                                                             ├─262,144\n",
            "│    │    └─0.bn3.weight                                                               ├─1,024\n",
            "│    │    └─0.bn3.bias                                                                 ├─1,024\n",
            "│    │    └─0.downsample.0.weight                                                      ├─524,288\n",
            "│    │    └─0.downsample.1.weight                                                      ├─1,024\n",
            "│    │    └─0.downsample.1.bias                                                        ├─1,024\n",
            "│    │    └─1.conv1.weight                                                             ├─262,144\n",
            "│    │    └─1.bn1.weight                                                               ├─256\n",
            "│    │    └─1.bn1.bias                                                                 ├─256\n",
            "│    │    └─1.conv2.weight                                                             ├─589,824\n",
            "│    │    └─1.bn2.weight                                                               ├─256\n",
            "│    │    └─1.bn2.bias                                                                 ├─256\n",
            "│    │    └─1.conv3.weight                                                             ├─262,144\n",
            "│    │    └─1.bn3.weight                                                               ├─1,024\n",
            "│    │    └─1.bn3.bias                                                                 ├─1,024\n",
            "│    │    └─2.conv1.weight                                                             ├─262,144\n",
            "│    │    └─2.bn1.weight                                                               ├─256\n",
            "│    │    └─2.bn1.bias                                                                 ├─256\n",
            "│    │    └─2.conv2.weight                                                             ├─589,824\n",
            "│    │    └─2.bn2.weight                                                               ├─256\n",
            "│    │    └─2.bn2.bias                                                                 ├─256\n",
            "│    │    └─2.conv3.weight                                                             ├─262,144\n",
            "│    │    └─2.bn3.weight                                                               ├─1,024\n",
            "│    │    └─2.bn3.bias                                                                 ├─1,024\n",
            "│    │    └─3.conv1.weight                                                             ├─262,144\n",
            "│    │    └─3.bn1.weight                                                               ├─256\n",
            "│    │    └─3.bn1.bias                                                                 ├─256\n",
            "│    │    └─3.conv2.weight                                                             ├─589,824\n",
            "│    │    └─3.bn2.weight                                                               ├─256\n",
            "│    │    └─3.bn2.bias                                                                 ├─256\n",
            "│    │    └─3.conv3.weight                                                             ├─262,144\n",
            "│    │    └─3.bn3.weight                                                               ├─1,024\n",
            "│    │    └─3.bn3.bias                                                                 ├─1,024\n",
            "│    │    └─4.conv1.weight                                                             ├─262,144\n",
            "│    │    └─4.bn1.weight                                                               ├─256\n",
            "│    │    └─4.bn1.bias                                                                 ├─256\n",
            "│    │    └─4.conv2.weight                                                             ├─589,824\n",
            "│    │    └─4.bn2.weight                                                               ├─256\n",
            "│    │    └─4.bn2.bias                                                                 ├─256\n",
            "│    │    └─4.conv3.weight                                                             ├─262,144\n",
            "│    │    └─4.bn3.weight                                                               ├─1,024\n",
            "│    │    └─4.bn3.bias                                                                 ├─1,024\n",
            "│    │    └─5.conv1.weight                                                             ├─262,144\n",
            "│    │    └─5.bn1.weight                                                               ├─256\n",
            "│    │    └─5.bn1.bias                                                                 ├─256\n",
            "│    │    └─5.conv2.weight                                                             ├─589,824\n",
            "│    │    └─5.bn2.weight                                                               ├─256\n",
            "│    │    └─5.bn2.bias                                                                 ├─256\n",
            "│    │    └─5.conv3.weight                                                             ├─262,144\n",
            "│    │    └─5.bn3.weight                                                               ├─1,024\n",
            "│    │    └─5.bn3.bias                                                                 └─1,024\n",
            "│    │    └─Bottleneck: 3-8                                  [32, 1024, 14, 14]        (1,512,448)\n",
            "│    │    │    └─conv1.weight                                                          ├─131,072\n",
            "│    │    │    └─bn1.weight                                                            ├─256\n",
            "│    │    │    └─bn1.bias                                                              ├─256\n",
            "│    │    │    └─conv2.weight                                                          ├─589,824\n",
            "│    │    │    └─bn2.weight                                                            ├─256\n",
            "│    │    │    └─bn2.bias                                                              ├─256\n",
            "│    │    │    └─conv3.weight                                                          ├─262,144\n",
            "│    │    │    └─bn3.weight                                                            ├─1,024\n",
            "│    │    │    └─bn3.bias                                                              ├─1,024\n",
            "│    │    │    └─downsample.0.weight                                                   ├─524,288\n",
            "│    │    │    └─downsample.1.weight                                                   ├─1,024\n",
            "│    │    │    └─downsample.1.bias                                                     └─1,024\n",
            "│    │    └─Bottleneck: 3-9                                  [32, 1024, 14, 14]        (1,117,184)\n",
            "│    │    │    └─conv1.weight                                                          ├─262,144\n",
            "│    │    │    └─bn1.weight                                                            ├─256\n",
            "│    │    │    └─bn1.bias                                                              ├─256\n",
            "│    │    │    └─conv2.weight                                                          ├─589,824\n",
            "│    │    │    └─bn2.weight                                                            ├─256\n",
            "│    │    │    └─bn2.bias                                                              ├─256\n",
            "│    │    │    └─conv3.weight                                                          ├─262,144\n",
            "│    │    │    └─bn3.weight                                                            ├─1,024\n",
            "│    │    │    └─bn3.bias                                                              └─1,024\n",
            "│    │    └─Bottleneck: 3-10                                 [32, 1024, 14, 14]        (1,117,184)\n",
            "│    │    │    └─conv1.weight                                                          ├─262,144\n",
            "│    │    │    └─bn1.weight                                                            ├─256\n",
            "│    │    │    └─bn1.bias                                                              ├─256\n",
            "│    │    │    └─conv2.weight                                                          ├─589,824\n",
            "│    │    │    └─bn2.weight                                                            ├─256\n",
            "│    │    │    └─bn2.bias                                                              ├─256\n",
            "│    │    │    └─conv3.weight                                                          ├─262,144\n",
            "│    │    │    └─bn3.weight                                                            ├─1,024\n",
            "│    │    │    └─bn3.bias                                                              └─1,024\n",
            "│    │    └─Bottleneck: 3-11                                 [32, 1024, 14, 14]        (1,117,184)\n",
            "│    │    │    └─conv1.weight                                                          ├─262,144\n",
            "│    │    │    └─bn1.weight                                                            ├─256\n",
            "│    │    │    └─bn1.bias                                                              ├─256\n",
            "│    │    │    └─conv2.weight                                                          ├─589,824\n",
            "│    │    │    └─bn2.weight                                                            ├─256\n",
            "│    │    │    └─bn2.bias                                                              ├─256\n",
            "│    │    │    └─conv3.weight                                                          ├─262,144\n",
            "│    │    │    └─bn3.weight                                                            ├─1,024\n",
            "│    │    │    └─bn3.bias                                                              └─1,024\n",
            "│    │    └─Bottleneck: 3-12                                 [32, 1024, 14, 14]        (1,117,184)\n",
            "│    │    │    └─conv1.weight                                                          ├─262,144\n",
            "│    │    │    └─bn1.weight                                                            ├─256\n",
            "│    │    │    └─bn1.bias                                                              ├─256\n",
            "│    │    │    └─conv2.weight                                                          ├─589,824\n",
            "│    │    │    └─bn2.weight                                                            ├─256\n",
            "│    │    │    └─bn2.bias                                                              ├─256\n",
            "│    │    │    └─conv3.weight                                                          ├─262,144\n",
            "│    │    │    └─bn3.weight                                                            ├─1,024\n",
            "│    │    │    └─bn3.bias                                                              └─1,024\n",
            "│    │    └─Bottleneck: 3-13                                 [32, 1024, 14, 14]        (1,117,184)\n",
            "│    │    │    └─conv1.weight                                                          ├─262,144\n",
            "│    │    │    └─bn1.weight                                                            ├─256\n",
            "│    │    │    └─bn1.bias                                                              ├─256\n",
            "│    │    │    └─conv2.weight                                                          ├─589,824\n",
            "│    │    │    └─bn2.weight                                                            ├─256\n",
            "│    │    │    └─bn2.bias                                                              ├─256\n",
            "│    │    │    └─conv3.weight                                                          ├─262,144\n",
            "│    │    │    └─bn3.weight                                                            ├─1,024\n",
            "│    │    │    └─bn3.bias                                                              └─1,024\n",
            "│    └─Sequential: 2-8                                       [32, 2048, 7, 7]          --\n",
            "│    │    └─0.conv1.weight                                                             ├─524,288\n",
            "│    │    └─0.bn1.weight                                                               ├─512\n",
            "│    │    └─0.bn1.bias                                                                 ├─512\n",
            "│    │    └─0.conv2.weight                                                             ├─2,359,296\n",
            "│    │    └─0.bn2.weight                                                               ├─512\n",
            "│    │    └─0.bn2.bias                                                                 ├─512\n",
            "│    │    └─0.conv3.weight                                                             ├─1,048,576\n",
            "│    │    └─0.bn3.weight                                                               ├─2,048\n",
            "│    │    └─0.bn3.bias                                                                 ├─2,048\n",
            "│    │    └─0.downsample.0.weight                                                      ├─2,097,152\n",
            "│    │    └─0.downsample.1.weight                                                      ├─2,048\n",
            "│    │    └─0.downsample.1.bias                                                        ├─2,048\n",
            "│    │    └─1.conv1.weight                                                             ├─1,048,576\n",
            "│    │    └─1.bn1.weight                                                               ├─512\n",
            "│    │    └─1.bn1.bias                                                                 ├─512\n",
            "│    │    └─1.conv2.weight                                                             ├─2,359,296\n",
            "│    │    └─1.bn2.weight                                                               ├─512\n",
            "│    │    └─1.bn2.bias                                                                 ├─512\n",
            "│    │    └─1.conv3.weight                                                             ├─1,048,576\n",
            "│    │    └─1.bn3.weight                                                               ├─2,048\n",
            "│    │    └─1.bn3.bias                                                                 ├─2,048\n",
            "│    │    └─2.conv1.weight                                                             ├─1,048,576\n",
            "│    │    └─2.bn1.weight                                                               ├─512\n",
            "│    │    └─2.bn1.bias                                                                 ├─512\n",
            "│    │    └─2.conv2.weight                                                             ├─2,359,296\n",
            "│    │    └─2.bn2.weight                                                               ├─512\n",
            "│    │    └─2.bn2.bias                                                                 ├─512\n",
            "│    │    └─2.conv3.weight                                                             ├─1,048,576\n",
            "│    │    └─2.bn3.weight                                                               ├─2,048\n",
            "│    │    └─2.bn3.bias                                                                 └─2,048\n",
            "│    │    └─Bottleneck: 3-14                                 [32, 2048, 7, 7]          (6,039,552)\n",
            "│    │    │    └─conv1.weight                                                          ├─524,288\n",
            "│    │    │    └─bn1.weight                                                            ├─512\n",
            "│    │    │    └─bn1.bias                                                              ├─512\n",
            "│    │    │    └─conv2.weight                                                          ├─2,359,296\n",
            "│    │    │    └─bn2.weight                                                            ├─512\n",
            "│    │    │    └─bn2.bias                                                              ├─512\n",
            "│    │    │    └─conv3.weight                                                          ├─1,048,576\n",
            "│    │    │    └─bn3.weight                                                            ├─2,048\n",
            "│    │    │    └─bn3.bias                                                              ├─2,048\n",
            "│    │    │    └─downsample.0.weight                                                   ├─2,097,152\n",
            "│    │    │    └─downsample.1.weight                                                   ├─2,048\n",
            "│    │    │    └─downsample.1.bias                                                     └─2,048\n",
            "│    │    └─Bottleneck: 3-15                                 [32, 2048, 7, 7]          (4,462,592)\n",
            "│    │    │    └─conv1.weight                                                          ├─1,048,576\n",
            "│    │    │    └─bn1.weight                                                            ├─512\n",
            "│    │    │    └─bn1.bias                                                              ├─512\n",
            "│    │    │    └─conv2.weight                                                          ├─2,359,296\n",
            "│    │    │    └─bn2.weight                                                            ├─512\n",
            "│    │    │    └─bn2.bias                                                              ├─512\n",
            "│    │    │    └─conv3.weight                                                          ├─1,048,576\n",
            "│    │    │    └─bn3.weight                                                            ├─2,048\n",
            "│    │    │    └─bn3.bias                                                              └─2,048\n",
            "│    │    └─Bottleneck: 3-16                                 [32, 2048, 7, 7]          (4,462,592)\n",
            "│    │    │    └─conv1.weight                                                          ├─1,048,576\n",
            "│    │    │    └─bn1.weight                                                            ├─512\n",
            "│    │    │    └─bn1.bias                                                              ├─512\n",
            "│    │    │    └─conv2.weight                                                          ├─2,359,296\n",
            "│    │    │    └─bn2.weight                                                            ├─512\n",
            "│    │    │    └─bn2.bias                                                              ├─512\n",
            "│    │    │    └─conv3.weight                                                          ├─1,048,576\n",
            "│    │    │    └─bn3.weight                                                            ├─2,048\n",
            "│    │    │    └─bn3.bias                                                              └─2,048\n",
            "│    └─SelectAdaptivePool2d: 2-9                             [32, 2048]                --\n",
            "│    │    └─AdaptiveAvgPool2d: 3-17                          [32, 2048, 1, 1]          --\n",
            "│    │    └─Flatten: 3-18                                    [32, 2048]                --\n",
            "│    └─Identity: 2-10                                        [32, 2048]                --\n",
            "├─Linear: 1-2                                                [32, 9408]                19,276,992\n",
            "│    └─weight                                                                          ├─19,267,584\n",
            "│    └─bias                                                                            └─9,408\n",
            "├─ConvTranspose2d: 1-3                                       [32, 3, 224, 224]         147\n",
            "│    └─weight                                                                          ├─144\n",
            "│    └─bias                                                                            └─3\n",
            "├─LevitDistilled: 1-4                                        [32, 37]                  --\n",
            "│    └─stem.conv1.linear.weight                                                        ├─864\n",
            "│    └─stem.conv1.bn.weight                                                            ├─32\n",
            "│    └─stem.conv1.bn.bias                                                              ├─32\n",
            "│    └─stem.conv2.linear.weight                                                        ├─18,432\n",
            "│    └─stem.conv2.bn.weight                                                            ├─64\n",
            "│    └─stem.conv2.bn.bias                                                              ├─64\n",
            "│    └─stem.conv3.linear.weight                                                        ├─73,728\n",
            "│    └─stem.conv3.bn.weight                                                            ├─128\n",
            "│    └─stem.conv3.bn.bias                                                              ├─128\n",
            "│    └─stem.conv4.linear.weight                                                        ├─294,912\n",
            "│    └─stem.conv4.bn.weight                                                            ├─256\n",
            "│    └─stem.conv4.bn.bias                                                              ├─256\n",
            "│    └─stage1.blocks.0.attn.qkv.linear.weight                                          ├─196,608\n",
            "│    └─stage1.blocks.0.attn.qkv.bn.weight                                              ├─768\n",
            "│    └─stage1.blocks.0.attn.qkv.bn.bias                                                ├─768\n",
            "│    └─stage1.blocks.0.attn.proj.1.linear.weight                                       ├─65,536\n",
            "│    └─stage1.blocks.0.attn.proj.1.bn.weight                                           ├─256\n",
            "│    └─stage1.blocks.0.attn.proj.1.bn.bias                                             ├─256\n",
            "│    └─stage1.blocks.0.mlp.ln1.linear.weight                                           ├─131,072\n",
            "│    └─stage1.blocks.0.mlp.ln1.bn.weight                                               ├─512\n",
            "│    └─stage1.blocks.0.mlp.ln1.bn.bias                                                 ├─512\n",
            "│    └─stage1.blocks.0.mlp.ln2.linear.weight                                           ├─131,072\n",
            "│    └─stage1.blocks.0.mlp.ln2.bn.weight                                               ├─256\n",
            "│    └─stage1.blocks.0.mlp.ln2.bn.bias                                                 ├─256\n",
            "│    └─stage1.blocks.1.attn.qkv.linear.weight                                          ├─196,608\n",
            "│    └─stage1.blocks.1.attn.qkv.bn.weight                                              ├─768\n",
            "│    └─stage1.blocks.1.attn.qkv.bn.bias                                                ├─768\n",
            "│    └─stage1.blocks.1.attn.proj.1.linear.weight                                       ├─65,536\n",
            "│    └─stage1.blocks.1.attn.proj.1.bn.weight                                           ├─256\n",
            "│    └─stage1.blocks.1.attn.proj.1.bn.bias                                             ├─256\n",
            "│    └─stage1.blocks.1.mlp.ln1.linear.weight                                           ├─131,072\n",
            "│    └─stage1.blocks.1.mlp.ln1.bn.weight                                               ├─512\n",
            "│    └─stage1.blocks.1.mlp.ln1.bn.bias                                                 ├─512\n",
            "│    └─stage1.blocks.1.mlp.ln2.linear.weight                                           ├─131,072\n",
            "│    └─stage1.blocks.1.mlp.ln2.bn.weight                                               ├─256\n",
            "│    └─stage1.blocks.1.mlp.ln2.bn.bias                                                 ├─256\n",
            "│    └─stage1.blocks.2.attn.qkv.linear.weight                                          ├─196,608\n",
            "│    └─stage1.blocks.2.attn.qkv.bn.weight                                              ├─768\n",
            "│    └─stage1.blocks.2.attn.qkv.bn.bias                                                ├─768\n",
            "│    └─stage1.blocks.2.attn.proj.1.linear.weight                                       ├─65,536\n",
            "│    └─stage1.blocks.2.attn.proj.1.bn.weight                                           ├─256\n",
            "│    └─stage1.blocks.2.attn.proj.1.bn.bias                                             ├─256\n",
            "│    └─stage1.blocks.2.mlp.ln1.linear.weight                                           ├─131,072\n",
            "│    └─stage1.blocks.2.mlp.ln1.bn.weight                                               ├─512\n",
            "│    └─stage1.blocks.2.mlp.ln1.bn.bias                                                 ├─512\n",
            "│    └─stage1.blocks.2.mlp.ln2.linear.weight                                           ├─131,072\n",
            "│    └─stage1.blocks.2.mlp.ln2.bn.weight                                               ├─256\n",
            "│    └─stage1.blocks.2.mlp.ln2.bn.bias                                                 ├─256\n",
            "│    └─stage2.downsample.attn_downsample.kv.linear.weight                              ├─786,432\n",
            "│    └─stage2.downsample.attn_downsample.kv.bn.weight                                  ├─3,072\n",
            "│    └─stage2.downsample.attn_downsample.kv.bn.bias                                    ├─3,072\n",
            "│    └─stage2.downsample.attn_downsample.q.0.weight                                    ├─262,144\n",
            "│    └─stage2.downsample.attn_downsample.q.0.bias                                      ├─256\n",
            "│    └─stage2.downsample.attn_downsample.proj.1.linear.weight                           ├─98,304\n",
            "│    └─stage2.downsample.attn_downsample.proj.1.bn.weight                              ├─384\n",
            "│    └─stage2.downsample.attn_downsample.proj.1.bn.bias                                ├─384\n",
            "│    └─stage2.downsample.mlp.ln1.linear.weight                                         ├─294,912\n",
            "│    └─stage2.downsample.mlp.ln1.bn.weight                                             ├─768\n",
            "│    └─stage2.downsample.mlp.ln1.bn.bias                                               ├─768\n",
            "│    └─stage2.downsample.mlp.ln2.linear.weight                                         ├─294,912\n",
            "│    └─stage2.downsample.mlp.ln2.bn.weight                                             ├─384\n",
            "│    └─stage2.downsample.mlp.ln2.bn.bias                                               ├─384\n",
            "│    └─stage2.blocks.0.attn.qkv.linear.weight                                          ├─442,368\n",
            "│    └─stage2.blocks.0.attn.qkv.bn.weight                                              ├─1,152\n",
            "│    └─stage2.blocks.0.attn.qkv.bn.bias                                                ├─1,152\n",
            "│    └─stage2.blocks.0.attn.proj.1.linear.weight                                       ├─147,456\n",
            "│    └─stage2.blocks.0.attn.proj.1.bn.weight                                           ├─384\n",
            "│    └─stage2.blocks.0.attn.proj.1.bn.bias                                             ├─384\n",
            "│    └─stage2.blocks.0.mlp.ln1.linear.weight                                           ├─294,912\n",
            "│    └─stage2.blocks.0.mlp.ln1.bn.weight                                               ├─768\n",
            "│    └─stage2.blocks.0.mlp.ln1.bn.bias                                                 ├─768\n",
            "│    └─stage2.blocks.0.mlp.ln2.linear.weight                                           ├─294,912\n",
            "│    └─stage2.blocks.0.mlp.ln2.bn.weight                                               ├─384\n",
            "│    └─stage2.blocks.0.mlp.ln2.bn.bias                                                 ├─384\n",
            "│    └─stage2.blocks.1.attn.qkv.linear.weight                                          ├─442,368\n",
            "│    └─stage2.blocks.1.attn.qkv.bn.weight                                              ├─1,152\n",
            "│    └─stage2.blocks.1.attn.qkv.bn.bias                                                ├─1,152\n",
            "│    └─stage2.blocks.1.attn.proj.1.linear.weight                                       ├─147,456\n",
            "│    └─stage2.blocks.1.attn.proj.1.bn.weight                                           ├─384\n",
            "│    └─stage2.blocks.1.attn.proj.1.bn.bias                                             ├─384\n",
            "│    └─stage2.blocks.1.mlp.ln1.linear.weight                                           ├─294,912\n",
            "│    └─stage2.blocks.1.mlp.ln1.bn.weight                                               ├─768\n",
            "│    └─stage2.blocks.1.mlp.ln1.bn.bias                                                 ├─768\n",
            "│    └─stage2.blocks.1.mlp.ln2.linear.weight                                           ├─294,912\n",
            "│    └─stage2.blocks.1.mlp.ln2.bn.weight                                               ├─384\n",
            "│    └─stage2.blocks.1.mlp.ln2.bn.bias                                                 ├─384\n",
            "│    └─stage2.blocks.2.attn.qkv.linear.weight                                          ├─442,368\n",
            "│    └─stage2.blocks.2.attn.qkv.bn.weight                                              ├─1,152\n",
            "│    └─stage2.blocks.2.attn.qkv.bn.bias                                                ├─1,152\n",
            "│    └─stage2.blocks.2.attn.proj.1.linear.weight                                       ├─147,456\n",
            "│    └─stage2.blocks.2.attn.proj.1.bn.weight                                           ├─384\n",
            "│    └─stage2.blocks.2.attn.proj.1.bn.bias                                             ├─384\n",
            "│    └─stage2.blocks.2.mlp.ln1.linear.weight                                           ├─294,912\n",
            "│    └─stage2.blocks.2.mlp.ln1.bn.weight                                               ├─768\n",
            "│    └─stage2.blocks.2.mlp.ln1.bn.bias                                                 ├─768\n",
            "│    └─stage2.blocks.2.mlp.ln2.linear.weight                                           ├─294,912\n",
            "│    └─stage2.blocks.2.mlp.ln2.bn.weight                                               ├─384\n",
            "│    └─stage2.blocks.2.mlp.ln2.bn.bias                                                 ├─384\n",
            "│    └─conv1x1.0.weight                                                                ├─196,608\n",
            "│    └─conv1x1.0.bias                                                                  ├─512\n",
            "│    └─conv1x1.1.weight                                                                ├─512\n",
            "│    └─conv1x1.1.bias                                                                  ├─512\n",
            "│    └─head.bn.weight                                                                  ├─512\n",
            "│    └─head.bn.bias                                                                    ├─512\n",
            "│    └─head.linear.weight                                                              ├─18,944\n",
            "│    └─head.linear.bias                                                                ├─37\n",
            "│    └─head_dist.bn.weight                                                             ├─512\n",
            "│    └─head_dist.bn.bias                                                               ├─512\n",
            "│    └─head_dist.linear.weight                                                         ├─18,944\n",
            "│    └─head_dist.linear.bias                                                           └─37\n",
            "│    └─Stem16: 2-11                                          [32, 256, 14, 14]         --\n",
            "│    │    └─conv1.linear.weight                                                        ├─864\n",
            "│    │    └─conv1.bn.weight                                                            ├─32\n",
            "│    │    └─conv1.bn.bias                                                              ├─32\n",
            "│    │    └─conv2.linear.weight                                                        ├─18,432\n",
            "│    │    └─conv2.bn.weight                                                            ├─64\n",
            "│    │    └─conv2.bn.bias                                                              ├─64\n",
            "│    │    └─conv3.linear.weight                                                        ├─73,728\n",
            "│    │    └─conv3.bn.weight                                                            ├─128\n",
            "│    │    └─conv3.bn.bias                                                              ├─128\n",
            "│    │    └─conv4.linear.weight                                                        ├─294,912\n",
            "│    │    └─conv4.bn.weight                                                            ├─256\n",
            "│    │    └─conv4.bn.bias                                                              └─256\n",
            "│    │    └─ConvNorm: 3-19                                   [32, 32, 112, 112]        928\n",
            "│    │    │    └─linear.weight                                                         ├─864\n",
            "│    │    │    └─bn.weight                                                             ├─32\n",
            "│    │    │    └─bn.bias                                                               └─32\n",
            "│    │    └─Hardswish: 3-20                                  [32, 32, 112, 112]        --\n",
            "│    │    └─ConvNorm: 3-21                                   [32, 64, 56, 56]          18,560\n",
            "│    │    │    └─linear.weight                                                         ├─18,432\n",
            "│    │    │    └─bn.weight                                                             ├─64\n",
            "│    │    │    └─bn.bias                                                               └─64\n",
            "│    │    └─Hardswish: 3-22                                  [32, 64, 56, 56]          --\n",
            "│    │    └─ConvNorm: 3-23                                   [32, 128, 28, 28]         73,984\n",
            "│    │    │    └─linear.weight                                                         ├─73,728\n",
            "│    │    │    └─bn.weight                                                             ├─128\n",
            "│    │    │    └─bn.bias                                                               └─128\n",
            "│    │    └─Hardswish: 3-24                                  [32, 128, 28, 28]         --\n",
            "│    │    └─ConvNorm: 3-25                                   [32, 256, 14, 14]         295,424\n",
            "│    │    │    └─linear.weight                                                         ├─294,912\n",
            "│    │    │    └─bn.weight                                                             ├─256\n",
            "│    │    │    └─bn.bias                                                               └─256\n",
            "│    └─LevitStage: 2-12                                      [32, 196, 256]            --\n",
            "│    │    └─blocks.0.attn.qkv.linear.weight                                            ├─196,608\n",
            "│    │    └─blocks.0.attn.qkv.bn.weight                                                ├─768\n",
            "│    │    └─blocks.0.attn.qkv.bn.bias                                                  ├─768\n",
            "│    │    └─blocks.0.attn.proj.1.linear.weight                                         ├─65,536\n",
            "│    │    └─blocks.0.attn.proj.1.bn.weight                                             ├─256\n",
            "│    │    └─blocks.0.attn.proj.1.bn.bias                                               ├─256\n",
            "│    │    └─blocks.0.mlp.ln1.linear.weight                                             ├─131,072\n",
            "│    │    └─blocks.0.mlp.ln1.bn.weight                                                 ├─512\n",
            "│    │    └─blocks.0.mlp.ln1.bn.bias                                                   ├─512\n",
            "│    │    └─blocks.0.mlp.ln2.linear.weight                                             ├─131,072\n",
            "│    │    └─blocks.0.mlp.ln2.bn.weight                                                 ├─256\n",
            "│    │    └─blocks.0.mlp.ln2.bn.bias                                                   ├─256\n",
            "│    │    └─blocks.1.attn.qkv.linear.weight                                            ├─196,608\n",
            "│    │    └─blocks.1.attn.qkv.bn.weight                                                ├─768\n",
            "│    │    └─blocks.1.attn.qkv.bn.bias                                                  ├─768\n",
            "│    │    └─blocks.1.attn.proj.1.linear.weight                                         ├─65,536\n",
            "│    │    └─blocks.1.attn.proj.1.bn.weight                                             ├─256\n",
            "│    │    └─blocks.1.attn.proj.1.bn.bias                                               ├─256\n",
            "│    │    └─blocks.1.mlp.ln1.linear.weight                                             ├─131,072\n",
            "│    │    └─blocks.1.mlp.ln1.bn.weight                                                 ├─512\n",
            "│    │    └─blocks.1.mlp.ln1.bn.bias                                                   ├─512\n",
            "│    │    └─blocks.1.mlp.ln2.linear.weight                                             ├─131,072\n",
            "│    │    └─blocks.1.mlp.ln2.bn.weight                                                 ├─256\n",
            "│    │    └─blocks.1.mlp.ln2.bn.bias                                                   ├─256\n",
            "│    │    └─blocks.2.attn.qkv.linear.weight                                            ├─196,608\n",
            "│    │    └─blocks.2.attn.qkv.bn.weight                                                ├─768\n",
            "│    │    └─blocks.2.attn.qkv.bn.bias                                                  ├─768\n",
            "│    │    └─blocks.2.attn.proj.1.linear.weight                                         ├─65,536\n",
            "│    │    └─blocks.2.attn.proj.1.bn.weight                                             ├─256\n",
            "│    │    └─blocks.2.attn.proj.1.bn.bias                                               ├─256\n",
            "│    │    └─blocks.2.mlp.ln1.linear.weight                                             ├─131,072\n",
            "│    │    └─blocks.2.mlp.ln1.bn.weight                                                 ├─512\n",
            "│    │    └─blocks.2.mlp.ln1.bn.bias                                                   ├─512\n",
            "│    │    └─blocks.2.mlp.ln2.linear.weight                                             ├─131,072\n",
            "│    │    └─blocks.2.mlp.ln2.bn.weight                                                 ├─256\n",
            "│    │    └─blocks.2.mlp.ln2.bn.bias                                                   └─256\n",
            "│    │    └─Identity: 3-26                                   [32, 196, 256]            --\n",
            "│    │    └─Sequential: 3-27                                 [32, 196, 256]            1,583,616\n",
            "│    │    │    └─0.attn.qkv.linear.weight                                              ├─196,608\n",
            "│    │    │    └─0.attn.qkv.bn.weight                                                  ├─768\n",
            "│    │    │    └─0.attn.qkv.bn.bias                                                    ├─768\n",
            "│    │    │    └─0.attn.proj.1.linear.weight                                           ├─65,536\n",
            "│    │    │    └─0.attn.proj.1.bn.weight                                               ├─256\n",
            "│    │    │    └─0.attn.proj.1.bn.bias                                                 ├─256\n",
            "│    │    │    └─0.mlp.ln1.linear.weight                                               ├─131,072\n",
            "│    │    │    └─0.mlp.ln1.bn.weight                                                   ├─512\n",
            "│    │    │    └─0.mlp.ln1.bn.bias                                                     ├─512\n",
            "│    │    │    └─0.mlp.ln2.linear.weight                                               ├─131,072\n",
            "│    │    │    └─0.mlp.ln2.bn.weight                                                   ├─256\n",
            "│    │    │    └─0.mlp.ln2.bn.bias                                                     ├─256\n",
            "│    │    │    └─1.attn.qkv.linear.weight                                              ├─196,608\n",
            "│    │    │    └─1.attn.qkv.bn.weight                                                  ├─768\n",
            "│    │    │    └─1.attn.qkv.bn.bias                                                    ├─768\n",
            "│    │    │    └─1.attn.proj.1.linear.weight                                           ├─65,536\n",
            "│    │    │    └─1.attn.proj.1.bn.weight                                               ├─256\n",
            "│    │    │    └─1.attn.proj.1.bn.bias                                                 ├─256\n",
            "│    │    │    └─1.mlp.ln1.linear.weight                                               ├─131,072\n",
            "│    │    │    └─1.mlp.ln1.bn.weight                                                   ├─512\n",
            "│    │    │    └─1.mlp.ln1.bn.bias                                                     ├─512\n",
            "│    │    │    └─1.mlp.ln2.linear.weight                                               ├─131,072\n",
            "│    │    │    └─1.mlp.ln2.bn.weight                                                   ├─256\n",
            "│    │    │    └─1.mlp.ln2.bn.bias                                                     ├─256\n",
            "│    │    │    └─2.attn.qkv.linear.weight                                              ├─196,608\n",
            "│    │    │    └─2.attn.qkv.bn.weight                                                  ├─768\n",
            "│    │    │    └─2.attn.qkv.bn.bias                                                    ├─768\n",
            "│    │    │    └─2.attn.proj.1.linear.weight                                           ├─65,536\n",
            "│    │    │    └─2.attn.proj.1.bn.weight                                               ├─256\n",
            "│    │    │    └─2.attn.proj.1.bn.bias                                                 ├─256\n",
            "│    │    │    └─2.mlp.ln1.linear.weight                                               ├─131,072\n",
            "│    │    │    └─2.mlp.ln1.bn.weight                                                   ├─512\n",
            "│    │    │    └─2.mlp.ln1.bn.bias                                                     ├─512\n",
            "│    │    │    └─2.mlp.ln2.linear.weight                                               ├─131,072\n",
            "│    │    │    └─2.mlp.ln2.bn.weight                                                   ├─256\n",
            "│    │    │    └─2.mlp.ln2.bn.bias                                                     └─256\n",
            "│    └─LevitStage: 2-13                                      [32, 49, 384]             --\n",
            "│    │    └─downsample.attn_downsample.kv.linear.weight                                ├─786,432\n",
            "│    │    └─downsample.attn_downsample.kv.bn.weight                                    ├─3,072\n",
            "│    │    └─downsample.attn_downsample.kv.bn.bias                                      ├─3,072\n",
            "│    │    └─downsample.attn_downsample.q.0.weight                                      ├─262,144\n",
            "│    │    └─downsample.attn_downsample.q.0.bias                                        ├─256\n",
            "│    │    └─downsample.attn_downsample.proj.1.linear.weight                            ├─98,304\n",
            "│    │    └─downsample.attn_downsample.proj.1.bn.weight                                ├─384\n",
            "│    │    └─downsample.attn_downsample.proj.1.bn.bias                                  ├─384\n",
            "│    │    └─downsample.mlp.ln1.linear.weight                                           ├─294,912\n",
            "│    │    └─downsample.mlp.ln1.bn.weight                                               ├─768\n",
            "│    │    └─downsample.mlp.ln1.bn.bias                                                 ├─768\n",
            "│    │    └─downsample.mlp.ln2.linear.weight                                           ├─294,912\n",
            "│    │    └─downsample.mlp.ln2.bn.weight                                               ├─384\n",
            "│    │    └─downsample.mlp.ln2.bn.bias                                                 ├─384\n",
            "│    │    └─blocks.0.attn.qkv.linear.weight                                            ├─442,368\n",
            "│    │    └─blocks.0.attn.qkv.bn.weight                                                ├─1,152\n",
            "│    │    └─blocks.0.attn.qkv.bn.bias                                                  ├─1,152\n",
            "│    │    └─blocks.0.attn.proj.1.linear.weight                                         ├─147,456\n",
            "│    │    └─blocks.0.attn.proj.1.bn.weight                                             ├─384\n",
            "│    │    └─blocks.0.attn.proj.1.bn.bias                                               ├─384\n",
            "│    │    └─blocks.0.mlp.ln1.linear.weight                                             ├─294,912\n",
            "│    │    └─blocks.0.mlp.ln1.bn.weight                                                 ├─768\n",
            "│    │    └─blocks.0.mlp.ln1.bn.bias                                                   ├─768\n",
            "│    │    └─blocks.0.mlp.ln2.linear.weight                                             ├─294,912\n",
            "│    │    └─blocks.0.mlp.ln2.bn.weight                                                 ├─384\n",
            "│    │    └─blocks.0.mlp.ln2.bn.bias                                                   ├─384\n",
            "│    │    └─blocks.1.attn.qkv.linear.weight                                            ├─442,368\n",
            "│    │    └─blocks.1.attn.qkv.bn.weight                                                ├─1,152\n",
            "│    │    └─blocks.1.attn.qkv.bn.bias                                                  ├─1,152\n",
            "│    │    └─blocks.1.attn.proj.1.linear.weight                                         ├─147,456\n",
            "│    │    └─blocks.1.attn.proj.1.bn.weight                                             ├─384\n",
            "│    │    └─blocks.1.attn.proj.1.bn.bias                                               ├─384\n",
            "│    │    └─blocks.1.mlp.ln1.linear.weight                                             ├─294,912\n",
            "│    │    └─blocks.1.mlp.ln1.bn.weight                                                 ├─768\n",
            "│    │    └─blocks.1.mlp.ln1.bn.bias                                                   ├─768\n",
            "│    │    └─blocks.1.mlp.ln2.linear.weight                                             ├─294,912\n",
            "│    │    └─blocks.1.mlp.ln2.bn.weight                                                 ├─384\n",
            "│    │    └─blocks.1.mlp.ln2.bn.bias                                                   ├─384\n",
            "│    │    └─blocks.2.attn.qkv.linear.weight                                            ├─442,368\n",
            "│    │    └─blocks.2.attn.qkv.bn.weight                                                ├─1,152\n",
            "│    │    └─blocks.2.attn.qkv.bn.bias                                                  ├─1,152\n",
            "│    │    └─blocks.2.attn.proj.1.linear.weight                                         ├─147,456\n",
            "│    │    └─blocks.2.attn.proj.1.bn.weight                                             ├─384\n",
            "│    │    └─blocks.2.attn.proj.1.bn.bias                                               ├─384\n",
            "│    │    └─blocks.2.mlp.ln1.linear.weight                                             ├─294,912\n",
            "│    │    └─blocks.2.mlp.ln1.bn.weight                                                 ├─768\n",
            "│    │    └─blocks.2.mlp.ln1.bn.bias                                                   ├─768\n",
            "│    │    └─blocks.2.mlp.ln2.linear.weight                                             ├─294,912\n",
            "│    │    └─blocks.2.mlp.ln2.bn.weight                                                 ├─384\n",
            "│    │    └─blocks.2.mlp.ln2.bn.bias                                                   └─384\n",
            "│    │    └─LevitDownsample: 3-28                            [32, 49, 384]             1,746,176\n",
            "│    │    │    └─attn_downsample.kv.linear.weight                                      ├─786,432\n",
            "│    │    │    └─attn_downsample.kv.bn.weight                                          ├─3,072\n",
            "│    │    │    └─attn_downsample.kv.bn.bias                                            ├─3,072\n",
            "│    │    │    └─attn_downsample.q.0.weight                                            ├─262,144\n",
            "│    │    │    └─attn_downsample.q.0.bias                                              ├─256\n",
            "│    │    │    └─attn_downsample.proj.1.linear.weight                                  ├─98,304\n",
            "│    │    │    └─attn_downsample.proj.1.bn.weight                                      ├─384\n",
            "│    │    │    └─attn_downsample.proj.1.bn.bias                                        ├─384\n",
            "│    │    │    └─mlp.ln1.linear.weight                                                 ├─294,912\n",
            "│    │    │    └─mlp.ln1.bn.weight                                                     ├─768\n",
            "│    │    │    └─mlp.ln1.bn.bias                                                       ├─768\n",
            "│    │    │    └─mlp.ln2.linear.weight                                                 ├─294,912\n",
            "│    │    │    └─mlp.ln2.bn.weight                                                     ├─384\n",
            "│    │    │    └─mlp.ln2.bn.bias                                                       └─384\n",
            "│    │    └─Sequential: 3-29                                 [32, 49, 384]             3,555,072\n",
            "│    │    │    └─0.attn.qkv.linear.weight                                              ├─442,368\n",
            "│    │    │    └─0.attn.qkv.bn.weight                                                  ├─1,152\n",
            "│    │    │    └─0.attn.qkv.bn.bias                                                    ├─1,152\n",
            "│    │    │    └─0.attn.proj.1.linear.weight                                           ├─147,456\n",
            "│    │    │    └─0.attn.proj.1.bn.weight                                               ├─384\n",
            "│    │    │    └─0.attn.proj.1.bn.bias                                                 ├─384\n",
            "│    │    │    └─0.mlp.ln1.linear.weight                                               ├─294,912\n",
            "│    │    │    └─0.mlp.ln1.bn.weight                                                   ├─768\n",
            "│    │    │    └─0.mlp.ln1.bn.bias                                                     ├─768\n",
            "│    │    │    └─0.mlp.ln2.linear.weight                                               ├─294,912\n",
            "│    │    │    └─0.mlp.ln2.bn.weight                                                   ├─384\n",
            "│    │    │    └─0.mlp.ln2.bn.bias                                                     ├─384\n",
            "│    │    │    └─1.attn.qkv.linear.weight                                              ├─442,368\n",
            "│    │    │    └─1.attn.qkv.bn.weight                                                  ├─1,152\n",
            "│    │    │    └─1.attn.qkv.bn.bias                                                    ├─1,152\n",
            "│    │    │    └─1.attn.proj.1.linear.weight                                           ├─147,456\n",
            "│    │    │    └─1.attn.proj.1.bn.weight                                               ├─384\n",
            "│    │    │    └─1.attn.proj.1.bn.bias                                                 ├─384\n",
            "│    │    │    └─1.mlp.ln1.linear.weight                                               ├─294,912\n",
            "│    │    │    └─1.mlp.ln1.bn.weight                                                   ├─768\n",
            "│    │    │    └─1.mlp.ln1.bn.bias                                                     ├─768\n",
            "│    │    │    └─1.mlp.ln2.linear.weight                                               ├─294,912\n",
            "│    │    │    └─1.mlp.ln2.bn.weight                                                   ├─384\n",
            "│    │    │    └─1.mlp.ln2.bn.bias                                                     ├─384\n",
            "│    │    │    └─2.attn.qkv.linear.weight                                              ├─442,368\n",
            "│    │    │    └─2.attn.qkv.bn.weight                                                  ├─1,152\n",
            "│    │    │    └─2.attn.qkv.bn.bias                                                    ├─1,152\n",
            "│    │    │    └─2.attn.proj.1.linear.weight                                           ├─147,456\n",
            "│    │    │    └─2.attn.proj.1.bn.weight                                               ├─384\n",
            "│    │    │    └─2.attn.proj.1.bn.bias                                                 ├─384\n",
            "│    │    │    └─2.mlp.ln1.linear.weight                                               ├─294,912\n",
            "│    │    │    └─2.mlp.ln1.bn.weight                                                   ├─768\n",
            "│    │    │    └─2.mlp.ln1.bn.bias                                                     ├─768\n",
            "│    │    │    └─2.mlp.ln2.linear.weight                                               ├─294,912\n",
            "│    │    │    └─2.mlp.ln2.bn.weight                                                   ├─384\n",
            "│    │    │    └─2.mlp.ln2.bn.bias                                                     └─384\n",
            "│    └─Sequential: 2-14                                      [32, 512, 7, 7]           --\n",
            "│    │    └─0.weight                                                                   ├─196,608\n",
            "│    │    └─0.bias                                                                     ├─512\n",
            "│    │    └─1.weight                                                                   ├─512\n",
            "│    │    └─1.bias                                                                     └─512\n",
            "│    │    └─Conv2d: 3-30                                     [32, 512, 7, 7]           197,120\n",
            "│    │    │    └─weight                                                                ├─196,608\n",
            "│    │    │    └─bias                                                                  └─512\n",
            "│    │    └─BatchNorm2d: 3-31                                [32, 512, 7, 7]           1,024\n",
            "│    │    │    └─weight                                                                ├─512\n",
            "│    │    │    └─bias                                                                  └─512\n",
            "│    │    └─ReLU: 3-32                                       [32, 512, 7, 7]           --\n",
            "│    └─NormLinear: 2-15                                      [32, 37]                  --\n",
            "│    │    └─bn.weight                                                                  ├─512\n",
            "│    │    └─bn.bias                                                                    ├─512\n",
            "│    │    └─linear.weight                                                              ├─18,944\n",
            "│    │    └─linear.bias                                                                └─37\n",
            "│    │    └─BatchNorm1d: 3-33                                [32, 512]                 1,024\n",
            "│    │    │    └─weight                                                                ├─512\n",
            "│    │    │    └─bias                                                                  └─512\n",
            "│    │    └─Dropout: 3-34                                    [32, 512]                 --\n",
            "│    │    └─Linear: 3-35                                     [32, 37]                  18,981\n",
            "│    │    │    └─weight                                                                ├─18,944\n",
            "│    │    │    └─bias                                                                  └─37\n",
            "│    └─NormLinear: 2-16                                      [32, 37]                  --\n",
            "│    │    └─bn.weight                                                                  ├─512\n",
            "│    │    └─bn.bias                                                                    ├─512\n",
            "│    │    └─linear.weight                                                              ├─18,944\n",
            "│    │    └─linear.bias                                                                └─37\n",
            "│    │    └─BatchNorm1d: 3-36                                [32, 512]                 1,024\n",
            "│    │    │    └─weight                                                                ├─512\n",
            "│    │    │    └─bias                                                                  └─512\n",
            "│    │    └─Dropout: 3-37                                    [32, 512]                 --\n",
            "│    │    └─Linear: 3-38                                     [32, 37]                  18,981\n",
            "│    │    │    └─weight                                                                ├─18,944\n",
            "│    │    │    └─bias                                                                  └─37\n",
            "==============================================================================================================\n",
            "Total params: 50,297,085\n",
            "Trainable params: 26,789,053\n",
            "Non-trainable params: 23,508,032\n",
            "Total mult-adds (G): 159.82\n",
            "==============================================================================================================\n",
            "Input size (MB): 19.27\n",
            "Forward/backward pass size (MB): 7221.61\n",
            "Params size (MB): 201.19\n",
            "Estimated Total Size (MB): 7442.07\n",
            "==============================================================================================================\n"
          ]
        }
      ],
      "source": [
        "print(summary(model, input_size=(32, 3, 224, 224), verbose=2))"
      ]
    },
    {
      "cell_type": "code",
      "execution_count": 22,
      "metadata": {
        "id": "TOaIwHDSzBP3"
      },
      "outputs": [],
      "source": [
        "transform = transforms.Compose([\n",
        "    transforms.Resize((224, 224)),\n",
        "    transforms.ToTensor(),\n",
        "    transforms.Normalize(mean=[0.485, 0.456, 0.406], std=[0.229, 0.224, 0.225]),\n",
        "])"
      ]
    },
    {
      "cell_type": "code",
      "execution_count": 23,
      "metadata": {
        "id": "N0Ww6weVzBP4",
        "colab": {
          "base_uri": "https://localhost:8080/"
        },
        "outputId": "9509c848-3666-4244-b0b5-4500d82bba03"
      },
      "outputs": [
        {
          "output_type": "stream",
          "name": "stdout",
          "text": [
            "Downloading https://thor.robots.ox.ac.uk/pets/images.tar.gz to data/oxford-iiit-pet/images.tar.gz\n"
          ]
        },
        {
          "output_type": "stream",
          "name": "stderr",
          "text": [
            "100%|██████████| 792M/792M [00:37<00:00, 21.3MB/s]\n"
          ]
        },
        {
          "output_type": "stream",
          "name": "stdout",
          "text": [
            "Extracting data/oxford-iiit-pet/images.tar.gz to data/oxford-iiit-pet\n",
            "Downloading https://thor.robots.ox.ac.uk/pets/annotations.tar.gz to data/oxford-iiit-pet/annotations.tar.gz\n"
          ]
        },
        {
          "output_type": "stream",
          "name": "stderr",
          "text": [
            "100%|██████████| 19.2M/19.2M [00:02<00:00, 8.99MB/s]\n"
          ]
        },
        {
          "output_type": "stream",
          "name": "stdout",
          "text": [
            "Extracting data/oxford-iiit-pet/annotations.tar.gz to data/oxford-iiit-pet\n"
          ]
        }
      ],
      "source": [
        "trainval_data = datasets.OxfordIIITPet(root=\"data\", split=\"trainval\", target_types=\"category\", download=True, transform=transform)\n",
        "test_data = datasets.OxfordIIITPet(root=\"data\", split=\"test\", target_types=\"category\", download=True, transform=transform)\n",
        "combined_data = ConcatDataset([trainval_data, test_data])\n",
        "\n",
        "train_size = int(0.7 * len(combined_data))\n",
        "val_size = int(0.15 * len(combined_data))\n",
        "test_size = len(combined_data) - train_size - val_size\n",
        "train_data, val_data, test_data = random_split(combined_data, [train_size, val_size, test_size])"
      ]
    },
    {
      "cell_type": "code",
      "execution_count": 24,
      "metadata": {
        "id": "S4sK4r0FzBP4",
        "colab": {
          "base_uri": "https://localhost:8080/"
        },
        "outputId": "9ed33ba1-1f70-403e-e7e3-f938dfe083a7"
      },
      "outputs": [
        {
          "output_type": "stream",
          "name": "stdout",
          "text": [
            "Train set size: 5144\n",
            "Validation set size: 1102\n",
            "Test set size: 1103\n"
          ]
        }
      ],
      "source": [
        "train_loader = DataLoader(train_data, batch_size=batch_size, shuffle=True)\n",
        "val_loader = DataLoader(val_data, batch_size=batch_size, shuffle=False)\n",
        "test_loader = DataLoader(test_data, batch_size=batch_size, shuffle=False)\n",
        "\n",
        "print(f\"Train set size: {len(train_data)}\")\n",
        "print(f\"Validation set size: {len(val_data)}\")\n",
        "print(f\"Test set size: {len(test_data)}\")"
      ]
    },
    {
      "cell_type": "code",
      "execution_count": 25,
      "metadata": {
        "id": "HCIgSLtBzBP4"
      },
      "outputs": [],
      "source": [
        "criterion = nn.CrossEntropyLoss()\n",
        "optimizer = optim.Adam(model.parameters(), lr=learning_rate)"
      ]
    },
    {
      "cell_type": "code",
      "execution_count": 26,
      "metadata": {
        "id": "qCcVDgIPzBP4"
      },
      "outputs": [],
      "source": [
        "def train(model, train_loader, criterion, optimizer, device):\n",
        "    model.train()\n",
        "    running_loss = 0.0\n",
        "    correct = 0\n",
        "    total = 0\n",
        "    for inputs, labels in tqdm(train_loader, desc=\"Training\"):\n",
        "        inputs, labels = inputs.to(device), labels.to(device)\n",
        "\n",
        "        optimizer.zero_grad()\n",
        "        outputs = model(inputs)\n",
        "        loss = criterion(outputs, labels)\n",
        "        loss.backward()\n",
        "        optimizer.step()\n",
        "\n",
        "        running_loss += loss.item()\n",
        "        _, predicted = torch.max(outputs, 1)\n",
        "        total += labels.size(0)\n",
        "        correct += (predicted == labels).sum().item()\n",
        "\n",
        "    epoch_loss = running_loss / len(train_loader)\n",
        "    accuracy = 100 * correct / total\n",
        "    print(f\"Train Loss: {epoch_loss:.4f}, Train Accuracy: {accuracy:.2f}%\")"
      ]
    },
    {
      "cell_type": "code",
      "execution_count": 27,
      "metadata": {
        "id": "pzZwWmVFzBP5"
      },
      "outputs": [],
      "source": [
        "def evaluate(model, data_loader, criterion, device, phase=\"Validation\"):\n",
        "    model.eval()\n",
        "    running_loss = 0.0\n",
        "    correct = 0\n",
        "    total = 0\n",
        "    with torch.no_grad():\n",
        "        for inputs, labels in tqdm(data_loader, desc=f\"{phase}\"):\n",
        "            inputs, labels = inputs.to(device), labels.to(device)\n",
        "            outputs = model(inputs)\n",
        "            loss = criterion(outputs, labels)\n",
        "\n",
        "            running_loss += loss.item()\n",
        "            _, predicted = torch.max(outputs, 1)\n",
        "            total += labels.size(0)\n",
        "            correct += (predicted == labels).sum().item()\n",
        "\n",
        "    epoch_loss = running_loss / len(data_loader)\n",
        "    accuracy = 100 * correct / total\n",
        "    print(f\"{phase} Loss: {epoch_loss:.4f}, {phase} Accuracy: {accuracy:.2f}%\")"
      ]
    },
    {
      "cell_type": "code",
      "execution_count": 28,
      "metadata": {
        "id": "ATaK9u_JDWLD"
      },
      "outputs": [],
      "source": [
        "def measure_inference_time(model, data_loader, device):\n",
        "    model.eval()\n",
        "    times = []\n",
        "\n",
        "    with torch.no_grad():\n",
        "        for inputs, _ in data_loader:\n",
        "            inputs = inputs.to(device)\n",
        "            start_time = torch.cuda.Event(enable_timing=True)\n",
        "            end_time = torch.cuda.Event(enable_timing=True)\n",
        "\n",
        "            start_time.record()\n",
        "            _ = model(inputs)  # inference 수행\n",
        "            end_time.record()\n",
        "\n",
        "            # 시간 측정\n",
        "            torch.cuda.synchronize()  # CUDA에서 모든 커널이 완료될 때까지 대기\n",
        "            elapsed_time = start_time.elapsed_time(end_time)  # 밀리초 단위로 반환\n",
        "            times.append(elapsed_time)\n",
        "\n",
        "    # 통계량 계산\n",
        "    times_np = np.array(times)\n",
        "    total_inferences = len(times_np)\n",
        "    avg_time = np.mean(times_np)\n",
        "    std_dev = np.std(times_np)\n",
        "    max_time = np.max(times_np)\n",
        "    min_time = np.min(times_np)\n",
        "\n",
        "    # 결과 출력\n",
        "    print(f\"Inference Time Measurement Results:\")\n",
        "    print(f\"Total Inferences: {total_inferences}\")\n",
        "    print(f\"Average Time: {avg_time:.2f} ms\")\n",
        "    print(f\"Standard Deviation: {std_dev:.2f} ms\")\n",
        "    print(f\"Maximum Time: {max_time:.2f} ms\")\n",
        "    print(f\"Minimum Time: {min_time:.2f} ms\")\n",
        "\n",
        "    return times"
      ]
    },
    {
      "cell_type": "code",
      "execution_count": 29,
      "metadata": {
        "id": "YdGy_hjpzBP5",
        "colab": {
          "base_uri": "https://localhost:8080/"
        },
        "outputId": "24899e63-2df2-42c3-b89f-61d5932421f8"
      },
      "outputs": [
        {
          "output_type": "stream",
          "name": "stdout",
          "text": [
            "\n",
            "Epoch 1/50\n"
          ]
        },
        {
          "output_type": "stream",
          "name": "stderr",
          "text": [
            "Training: 100%|██████████| 161/161 [00:34<00:00,  4.73it/s]\n"
          ]
        },
        {
          "output_type": "stream",
          "name": "stdout",
          "text": [
            "Train Loss: 3.6917, Train Accuracy: 3.52%\n"
          ]
        },
        {
          "output_type": "stream",
          "name": "stderr",
          "text": [
            "Validation: 100%|██████████| 35/35 [00:06<00:00,  5.78it/s]\n"
          ]
        },
        {
          "output_type": "stream",
          "name": "stdout",
          "text": [
            "Validation Loss: 3.5158, Validation Accuracy: 5.08%\n",
            "\n",
            "Epoch 2/50\n"
          ]
        },
        {
          "output_type": "stream",
          "name": "stderr",
          "text": [
            "Training: 100%|██████████| 161/161 [00:31<00:00,  5.08it/s]\n"
          ]
        },
        {
          "output_type": "stream",
          "name": "stdout",
          "text": [
            "Train Loss: 3.0983, Train Accuracy: 7.80%\n"
          ]
        },
        {
          "output_type": "stream",
          "name": "stderr",
          "text": [
            "Validation: 100%|██████████| 35/35 [00:05<00:00,  5.85it/s]\n"
          ]
        },
        {
          "output_type": "stream",
          "name": "stdout",
          "text": [
            "Validation Loss: 2.7417, Validation Accuracy: 11.34%\n",
            "\n",
            "Epoch 3/50\n"
          ]
        },
        {
          "output_type": "stream",
          "name": "stderr",
          "text": [
            "Training: 100%|██████████| 161/161 [00:31<00:00,  5.14it/s]\n"
          ]
        },
        {
          "output_type": "stream",
          "name": "stdout",
          "text": [
            "Train Loss: 2.6039, Train Accuracy: 14.37%\n"
          ]
        },
        {
          "output_type": "stream",
          "name": "stderr",
          "text": [
            "Validation: 100%|██████████| 35/35 [00:05<00:00,  5.93it/s]\n"
          ]
        },
        {
          "output_type": "stream",
          "name": "stdout",
          "text": [
            "Validation Loss: 2.2560, Validation Accuracy: 25.59%\n",
            "\n",
            "Epoch 4/50\n"
          ]
        },
        {
          "output_type": "stream",
          "name": "stderr",
          "text": [
            "Training: 100%|██████████| 161/161 [00:31<00:00,  5.15it/s]\n"
          ]
        },
        {
          "output_type": "stream",
          "name": "stdout",
          "text": [
            "Train Loss: 2.0187, Train Accuracy: 28.83%\n"
          ]
        },
        {
          "output_type": "stream",
          "name": "stderr",
          "text": [
            "Validation: 100%|██████████| 35/35 [00:05<00:00,  5.96it/s]\n"
          ]
        },
        {
          "output_type": "stream",
          "name": "stdout",
          "text": [
            "Validation Loss: 1.7824, Validation Accuracy: 35.48%\n",
            "\n",
            "Epoch 5/50\n"
          ]
        },
        {
          "output_type": "stream",
          "name": "stderr",
          "text": [
            "Training: 100%|██████████| 161/161 [00:31<00:00,  5.15it/s]\n"
          ]
        },
        {
          "output_type": "stream",
          "name": "stdout",
          "text": [
            "Train Loss: 1.6452, Train Accuracy: 41.25%\n"
          ]
        },
        {
          "output_type": "stream",
          "name": "stderr",
          "text": [
            "Validation: 100%|██████████| 35/35 [00:05<00:00,  5.93it/s]\n"
          ]
        },
        {
          "output_type": "stream",
          "name": "stdout",
          "text": [
            "Validation Loss: 1.3815, Validation Accuracy: 47.73%\n",
            "\n",
            "Epoch 6/50\n"
          ]
        },
        {
          "output_type": "stream",
          "name": "stderr",
          "text": [
            "Training: 100%|██████████| 161/161 [00:31<00:00,  5.15it/s]\n"
          ]
        },
        {
          "output_type": "stream",
          "name": "stdout",
          "text": [
            "Train Loss: 1.3611, Train Accuracy: 51.03%\n"
          ]
        },
        {
          "output_type": "stream",
          "name": "stderr",
          "text": [
            "Validation: 100%|██████████| 35/35 [00:05<00:00,  5.89it/s]\n"
          ]
        },
        {
          "output_type": "stream",
          "name": "stdout",
          "text": [
            "Validation Loss: 1.1629, Validation Accuracy: 59.89%\n",
            "\n",
            "Epoch 7/50\n"
          ]
        },
        {
          "output_type": "stream",
          "name": "stderr",
          "text": [
            "Training: 100%|██████████| 161/161 [00:31<00:00,  5.15it/s]\n"
          ]
        },
        {
          "output_type": "stream",
          "name": "stdout",
          "text": [
            "Train Loss: 0.9978, Train Accuracy: 64.91%\n"
          ]
        },
        {
          "output_type": "stream",
          "name": "stderr",
          "text": [
            "Validation: 100%|██████████| 35/35 [00:05<00:00,  5.91it/s]\n"
          ]
        },
        {
          "output_type": "stream",
          "name": "stdout",
          "text": [
            "Validation Loss: 0.8449, Validation Accuracy: 70.24%\n",
            "\n",
            "Epoch 8/50\n"
          ]
        },
        {
          "output_type": "stream",
          "name": "stderr",
          "text": [
            "Training: 100%|██████████| 161/161 [00:31<00:00,  5.15it/s]\n"
          ]
        },
        {
          "output_type": "stream",
          "name": "stdout",
          "text": [
            "Train Loss: 0.7948, Train Accuracy: 72.41%\n"
          ]
        },
        {
          "output_type": "stream",
          "name": "stderr",
          "text": [
            "Validation: 100%|██████████| 35/35 [00:05<00:00,  5.92it/s]\n"
          ]
        },
        {
          "output_type": "stream",
          "name": "stdout",
          "text": [
            "Validation Loss: 0.7402, Validation Accuracy: 73.87%\n",
            "\n",
            "Epoch 9/50\n"
          ]
        },
        {
          "output_type": "stream",
          "name": "stderr",
          "text": [
            "Training: 100%|██████████| 161/161 [00:31<00:00,  5.11it/s]\n"
          ]
        },
        {
          "output_type": "stream",
          "name": "stdout",
          "text": [
            "Train Loss: 0.6356, Train Accuracy: 77.99%\n"
          ]
        },
        {
          "output_type": "stream",
          "name": "stderr",
          "text": [
            "Validation: 100%|██████████| 35/35 [00:05<00:00,  5.93it/s]\n"
          ]
        },
        {
          "output_type": "stream",
          "name": "stdout",
          "text": [
            "Validation Loss: 0.6975, Validation Accuracy: 77.22%\n",
            "\n",
            "Epoch 10/50\n"
          ]
        },
        {
          "output_type": "stream",
          "name": "stderr",
          "text": [
            "Training: 100%|██████████| 161/161 [00:31<00:00,  5.12it/s]\n"
          ]
        },
        {
          "output_type": "stream",
          "name": "stdout",
          "text": [
            "Train Loss: 0.5594, Train Accuracy: 80.87%\n"
          ]
        },
        {
          "output_type": "stream",
          "name": "stderr",
          "text": [
            "Validation: 100%|██████████| 35/35 [00:05<00:00,  5.89it/s]\n"
          ]
        },
        {
          "output_type": "stream",
          "name": "stdout",
          "text": [
            "Validation Loss: 0.6316, Validation Accuracy: 79.85%\n",
            "\n",
            "Epoch 11/50\n"
          ]
        },
        {
          "output_type": "stream",
          "name": "stderr",
          "text": [
            "Training: 100%|██████████| 161/161 [00:31<00:00,  5.14it/s]\n"
          ]
        },
        {
          "output_type": "stream",
          "name": "stdout",
          "text": [
            "Train Loss: 0.4948, Train Accuracy: 83.40%\n"
          ]
        },
        {
          "output_type": "stream",
          "name": "stderr",
          "text": [
            "Validation: 100%|██████████| 35/35 [00:05<00:00,  5.94it/s]\n"
          ]
        },
        {
          "output_type": "stream",
          "name": "stdout",
          "text": [
            "Validation Loss: 0.6014, Validation Accuracy: 81.58%\n",
            "\n",
            "Epoch 12/50\n"
          ]
        },
        {
          "output_type": "stream",
          "name": "stderr",
          "text": [
            "Training: 100%|██████████| 161/161 [00:31<00:00,  5.13it/s]\n"
          ]
        },
        {
          "output_type": "stream",
          "name": "stdout",
          "text": [
            "Train Loss: 0.4339, Train Accuracy: 85.36%\n"
          ]
        },
        {
          "output_type": "stream",
          "name": "stderr",
          "text": [
            "Validation: 100%|██████████| 35/35 [00:05<00:00,  5.94it/s]\n"
          ]
        },
        {
          "output_type": "stream",
          "name": "stdout",
          "text": [
            "Validation Loss: 0.7804, Validation Accuracy: 77.50%\n",
            "\n",
            "Epoch 13/50\n"
          ]
        },
        {
          "output_type": "stream",
          "name": "stderr",
          "text": [
            "Training: 100%|██████████| 161/161 [00:31<00:00,  5.11it/s]\n"
          ]
        },
        {
          "output_type": "stream",
          "name": "stdout",
          "text": [
            "Train Loss: 0.3592, Train Accuracy: 87.93%\n"
          ]
        },
        {
          "output_type": "stream",
          "name": "stderr",
          "text": [
            "Validation: 100%|██████████| 35/35 [00:05<00:00,  5.94it/s]\n"
          ]
        },
        {
          "output_type": "stream",
          "name": "stdout",
          "text": [
            "Validation Loss: 0.6595, Validation Accuracy: 80.85%\n",
            "\n",
            "Epoch 14/50\n"
          ]
        },
        {
          "output_type": "stream",
          "name": "stderr",
          "text": [
            "Training: 100%|██████████| 161/161 [00:31<00:00,  5.12it/s]\n"
          ]
        },
        {
          "output_type": "stream",
          "name": "stdout",
          "text": [
            "Train Loss: 0.3192, Train Accuracy: 89.33%\n"
          ]
        },
        {
          "output_type": "stream",
          "name": "stderr",
          "text": [
            "Validation: 100%|██████████| 35/35 [00:06<00:00,  5.83it/s]\n"
          ]
        },
        {
          "output_type": "stream",
          "name": "stdout",
          "text": [
            "Validation Loss: 0.5828, Validation Accuracy: 83.12%\n",
            "\n",
            "Epoch 15/50\n"
          ]
        },
        {
          "output_type": "stream",
          "name": "stderr",
          "text": [
            "Training: 100%|██████████| 161/161 [00:31<00:00,  5.15it/s]\n"
          ]
        },
        {
          "output_type": "stream",
          "name": "stdout",
          "text": [
            "Train Loss: 0.2913, Train Accuracy: 90.10%\n"
          ]
        },
        {
          "output_type": "stream",
          "name": "stderr",
          "text": [
            "Validation: 100%|██████████| 35/35 [00:05<00:00,  5.89it/s]\n"
          ]
        },
        {
          "output_type": "stream",
          "name": "stdout",
          "text": [
            "Validation Loss: 0.6340, Validation Accuracy: 83.12%\n",
            "\n",
            "Epoch 16/50\n"
          ]
        },
        {
          "output_type": "stream",
          "name": "stderr",
          "text": [
            "Training: 100%|██████████| 161/161 [00:31<00:00,  5.11it/s]\n"
          ]
        },
        {
          "output_type": "stream",
          "name": "stdout",
          "text": [
            "Train Loss: 0.2701, Train Accuracy: 91.21%\n"
          ]
        },
        {
          "output_type": "stream",
          "name": "stderr",
          "text": [
            "Validation: 100%|██████████| 35/35 [00:05<00:00,  5.95it/s]\n"
          ]
        },
        {
          "output_type": "stream",
          "name": "stdout",
          "text": [
            "Validation Loss: 0.6457, Validation Accuracy: 83.85%\n",
            "\n",
            "Epoch 17/50\n"
          ]
        },
        {
          "output_type": "stream",
          "name": "stderr",
          "text": [
            "Training: 100%|██████████| 161/161 [00:31<00:00,  5.09it/s]\n"
          ]
        },
        {
          "output_type": "stream",
          "name": "stdout",
          "text": [
            "Train Loss: 0.2353, Train Accuracy: 91.97%\n"
          ]
        },
        {
          "output_type": "stream",
          "name": "stderr",
          "text": [
            "Validation: 100%|██████████| 35/35 [00:05<00:00,  5.99it/s]\n"
          ]
        },
        {
          "output_type": "stream",
          "name": "stdout",
          "text": [
            "Validation Loss: 0.6627, Validation Accuracy: 83.48%\n",
            "\n",
            "Epoch 18/50\n"
          ]
        },
        {
          "output_type": "stream",
          "name": "stderr",
          "text": [
            "Training: 100%|██████████| 161/161 [00:31<00:00,  5.12it/s]\n"
          ]
        },
        {
          "output_type": "stream",
          "name": "stdout",
          "text": [
            "Train Loss: 0.2406, Train Accuracy: 92.48%\n"
          ]
        },
        {
          "output_type": "stream",
          "name": "stderr",
          "text": [
            "Validation: 100%|██████████| 35/35 [00:05<00:00,  5.87it/s]\n"
          ]
        },
        {
          "output_type": "stream",
          "name": "stdout",
          "text": [
            "Validation Loss: 0.7948, Validation Accuracy: 80.49%\n",
            "\n",
            "Epoch 19/50\n"
          ]
        },
        {
          "output_type": "stream",
          "name": "stderr",
          "text": [
            "Training: 100%|██████████| 161/161 [00:31<00:00,  5.11it/s]\n"
          ]
        },
        {
          "output_type": "stream",
          "name": "stdout",
          "text": [
            "Train Loss: 0.2146, Train Accuracy: 92.90%\n"
          ]
        },
        {
          "output_type": "stream",
          "name": "stderr",
          "text": [
            "Validation: 100%|██████████| 35/35 [00:06<00:00,  5.81it/s]\n"
          ]
        },
        {
          "output_type": "stream",
          "name": "stdout",
          "text": [
            "Validation Loss: 0.7717, Validation Accuracy: 81.13%\n",
            "\n",
            "Epoch 20/50\n"
          ]
        },
        {
          "output_type": "stream",
          "name": "stderr",
          "text": [
            "Training: 100%|██████████| 161/161 [00:31<00:00,  5.11it/s]\n"
          ]
        },
        {
          "output_type": "stream",
          "name": "stdout",
          "text": [
            "Train Loss: 0.2017, Train Accuracy: 93.41%\n"
          ]
        },
        {
          "output_type": "stream",
          "name": "stderr",
          "text": [
            "Validation: 100%|██████████| 35/35 [00:05<00:00,  5.94it/s]\n"
          ]
        },
        {
          "output_type": "stream",
          "name": "stdout",
          "text": [
            "Validation Loss: 0.7337, Validation Accuracy: 81.94%\n",
            "\n",
            "Epoch 21/50\n"
          ]
        },
        {
          "output_type": "stream",
          "name": "stderr",
          "text": [
            "Training: 100%|██████████| 161/161 [00:31<00:00,  5.07it/s]\n"
          ]
        },
        {
          "output_type": "stream",
          "name": "stdout",
          "text": [
            "Train Loss: 0.2152, Train Accuracy: 92.85%\n"
          ]
        },
        {
          "output_type": "stream",
          "name": "stderr",
          "text": [
            "Validation: 100%|██████████| 35/35 [00:05<00:00,  5.97it/s]\n"
          ]
        },
        {
          "output_type": "stream",
          "name": "stdout",
          "text": [
            "Validation Loss: 0.7355, Validation Accuracy: 82.21%\n",
            "\n",
            "Epoch 22/50\n"
          ]
        },
        {
          "output_type": "stream",
          "name": "stderr",
          "text": [
            "Training: 100%|██████████| 161/161 [00:31<00:00,  5.12it/s]\n"
          ]
        },
        {
          "output_type": "stream",
          "name": "stdout",
          "text": [
            "Train Loss: 0.1992, Train Accuracy: 93.41%\n"
          ]
        },
        {
          "output_type": "stream",
          "name": "stderr",
          "text": [
            "Validation: 100%|██████████| 35/35 [00:05<00:00,  5.86it/s]\n"
          ]
        },
        {
          "output_type": "stream",
          "name": "stdout",
          "text": [
            "Validation Loss: 0.8860, Validation Accuracy: 79.40%\n",
            "\n",
            "Epoch 23/50\n"
          ]
        },
        {
          "output_type": "stream",
          "name": "stderr",
          "text": [
            "Training: 100%|██████████| 161/161 [00:31<00:00,  5.15it/s]\n"
          ]
        },
        {
          "output_type": "stream",
          "name": "stdout",
          "text": [
            "Train Loss: 0.1617, Train Accuracy: 94.77%\n"
          ]
        },
        {
          "output_type": "stream",
          "name": "stderr",
          "text": [
            "Validation: 100%|██████████| 35/35 [00:05<00:00,  5.93it/s]\n"
          ]
        },
        {
          "output_type": "stream",
          "name": "stdout",
          "text": [
            "Validation Loss: 0.6969, Validation Accuracy: 83.85%\n",
            "\n",
            "Epoch 24/50\n"
          ]
        },
        {
          "output_type": "stream",
          "name": "stderr",
          "text": [
            "Training: 100%|██████████| 161/161 [00:31<00:00,  5.14it/s]\n"
          ]
        },
        {
          "output_type": "stream",
          "name": "stdout",
          "text": [
            "Train Loss: 0.1650, Train Accuracy: 94.58%\n"
          ]
        },
        {
          "output_type": "stream",
          "name": "stderr",
          "text": [
            "Validation: 100%|██████████| 35/35 [00:05<00:00,  5.93it/s]\n"
          ]
        },
        {
          "output_type": "stream",
          "name": "stdout",
          "text": [
            "Validation Loss: 0.7607, Validation Accuracy: 82.40%\n",
            "\n",
            "Epoch 25/50\n"
          ]
        },
        {
          "output_type": "stream",
          "name": "stderr",
          "text": [
            "Training: 100%|██████████| 161/161 [00:31<00:00,  5.12it/s]\n"
          ]
        },
        {
          "output_type": "stream",
          "name": "stdout",
          "text": [
            "Train Loss: 0.1555, Train Accuracy: 94.87%\n"
          ]
        },
        {
          "output_type": "stream",
          "name": "stderr",
          "text": [
            "Validation: 100%|██████████| 35/35 [00:05<00:00,  5.88it/s]\n"
          ]
        },
        {
          "output_type": "stream",
          "name": "stdout",
          "text": [
            "Validation Loss: 0.7041, Validation Accuracy: 82.94%\n",
            "\n",
            "Epoch 26/50\n"
          ]
        },
        {
          "output_type": "stream",
          "name": "stderr",
          "text": [
            "Training: 100%|██████████| 161/161 [00:31<00:00,  5.10it/s]\n"
          ]
        },
        {
          "output_type": "stream",
          "name": "stdout",
          "text": [
            "Train Loss: 0.1544, Train Accuracy: 94.81%\n"
          ]
        },
        {
          "output_type": "stream",
          "name": "stderr",
          "text": [
            "Validation: 100%|██████████| 35/35 [00:05<00:00,  5.91it/s]\n"
          ]
        },
        {
          "output_type": "stream",
          "name": "stdout",
          "text": [
            "Validation Loss: 0.7129, Validation Accuracy: 84.12%\n",
            "\n",
            "Epoch 27/50\n"
          ]
        },
        {
          "output_type": "stream",
          "name": "stderr",
          "text": [
            "Training: 100%|██████████| 161/161 [00:31<00:00,  5.13it/s]\n"
          ]
        },
        {
          "output_type": "stream",
          "name": "stdout",
          "text": [
            "Train Loss: 0.1361, Train Accuracy: 95.47%\n"
          ]
        },
        {
          "output_type": "stream",
          "name": "stderr",
          "text": [
            "Validation: 100%|██████████| 35/35 [00:06<00:00,  5.83it/s]\n"
          ]
        },
        {
          "output_type": "stream",
          "name": "stdout",
          "text": [
            "Validation Loss: 0.7621, Validation Accuracy: 84.66%\n",
            "\n",
            "Epoch 28/50\n"
          ]
        },
        {
          "output_type": "stream",
          "name": "stderr",
          "text": [
            "Training: 100%|██████████| 161/161 [00:31<00:00,  5.12it/s]\n"
          ]
        },
        {
          "output_type": "stream",
          "name": "stdout",
          "text": [
            "Train Loss: 0.1320, Train Accuracy: 95.53%\n"
          ]
        },
        {
          "output_type": "stream",
          "name": "stderr",
          "text": [
            "Validation: 100%|██████████| 35/35 [00:05<00:00,  5.87it/s]\n"
          ]
        },
        {
          "output_type": "stream",
          "name": "stdout",
          "text": [
            "Validation Loss: 0.5747, Validation Accuracy: 86.84%\n",
            "\n",
            "Epoch 29/50\n"
          ]
        },
        {
          "output_type": "stream",
          "name": "stderr",
          "text": [
            "Training: 100%|██████████| 161/161 [00:31<00:00,  5.09it/s]\n"
          ]
        },
        {
          "output_type": "stream",
          "name": "stdout",
          "text": [
            "Train Loss: 0.1387, Train Accuracy: 95.59%\n"
          ]
        },
        {
          "output_type": "stream",
          "name": "stderr",
          "text": [
            "Validation: 100%|██████████| 35/35 [00:05<00:00,  5.96it/s]\n"
          ]
        },
        {
          "output_type": "stream",
          "name": "stdout",
          "text": [
            "Validation Loss: 0.6988, Validation Accuracy: 83.94%\n",
            "\n",
            "Epoch 30/50\n"
          ]
        },
        {
          "output_type": "stream",
          "name": "stderr",
          "text": [
            "Training: 100%|██████████| 161/161 [00:31<00:00,  5.14it/s]\n"
          ]
        },
        {
          "output_type": "stream",
          "name": "stdout",
          "text": [
            "Train Loss: 0.1330, Train Accuracy: 95.51%\n"
          ]
        },
        {
          "output_type": "stream",
          "name": "stderr",
          "text": [
            "Validation: 100%|██████████| 35/35 [00:05<00:00,  5.89it/s]\n"
          ]
        },
        {
          "output_type": "stream",
          "name": "stdout",
          "text": [
            "Validation Loss: 0.7083, Validation Accuracy: 85.39%\n",
            "\n",
            "Epoch 31/50\n"
          ]
        },
        {
          "output_type": "stream",
          "name": "stderr",
          "text": [
            "Training: 100%|██████████| 161/161 [00:31<00:00,  5.13it/s]\n"
          ]
        },
        {
          "output_type": "stream",
          "name": "stdout",
          "text": [
            "Train Loss: 0.1331, Train Accuracy: 95.94%\n"
          ]
        },
        {
          "output_type": "stream",
          "name": "stderr",
          "text": [
            "Validation: 100%|██████████| 35/35 [00:06<00:00,  5.80it/s]\n"
          ]
        },
        {
          "output_type": "stream",
          "name": "stdout",
          "text": [
            "Validation Loss: 0.7536, Validation Accuracy: 83.21%\n",
            "\n",
            "Epoch 32/50\n"
          ]
        },
        {
          "output_type": "stream",
          "name": "stderr",
          "text": [
            "Training: 100%|██████████| 161/161 [00:31<00:00,  5.14it/s]\n"
          ]
        },
        {
          "output_type": "stream",
          "name": "stdout",
          "text": [
            "Train Loss: 0.1437, Train Accuracy: 95.35%\n"
          ]
        },
        {
          "output_type": "stream",
          "name": "stderr",
          "text": [
            "Validation: 100%|██████████| 35/35 [00:06<00:00,  5.83it/s]\n"
          ]
        },
        {
          "output_type": "stream",
          "name": "stdout",
          "text": [
            "Validation Loss: 0.8452, Validation Accuracy: 83.21%\n",
            "\n",
            "Epoch 33/50\n"
          ]
        },
        {
          "output_type": "stream",
          "name": "stderr",
          "text": [
            "Training: 100%|██████████| 161/161 [00:31<00:00,  5.12it/s]\n"
          ]
        },
        {
          "output_type": "stream",
          "name": "stdout",
          "text": [
            "Train Loss: 0.1068, Train Accuracy: 96.58%\n"
          ]
        },
        {
          "output_type": "stream",
          "name": "stderr",
          "text": [
            "Validation: 100%|██████████| 35/35 [00:05<00:00,  5.94it/s]\n"
          ]
        },
        {
          "output_type": "stream",
          "name": "stdout",
          "text": [
            "Validation Loss: 0.8469, Validation Accuracy: 82.21%\n",
            "\n",
            "Epoch 34/50\n"
          ]
        },
        {
          "output_type": "stream",
          "name": "stderr",
          "text": [
            "Training: 100%|██████████| 161/161 [00:31<00:00,  5.13it/s]\n"
          ]
        },
        {
          "output_type": "stream",
          "name": "stdout",
          "text": [
            "Train Loss: 0.1254, Train Accuracy: 95.76%\n"
          ]
        },
        {
          "output_type": "stream",
          "name": "stderr",
          "text": [
            "Validation: 100%|██████████| 35/35 [00:05<00:00,  5.85it/s]\n"
          ]
        },
        {
          "output_type": "stream",
          "name": "stdout",
          "text": [
            "Validation Loss: 0.7502, Validation Accuracy: 84.39%\n",
            "\n",
            "Epoch 35/50\n"
          ]
        },
        {
          "output_type": "stream",
          "name": "stderr",
          "text": [
            "Training: 100%|██████████| 161/161 [00:31<00:00,  5.09it/s]\n"
          ]
        },
        {
          "output_type": "stream",
          "name": "stdout",
          "text": [
            "Train Loss: 0.1157, Train Accuracy: 96.15%\n"
          ]
        },
        {
          "output_type": "stream",
          "name": "stderr",
          "text": [
            "Validation: 100%|██████████| 35/35 [00:05<00:00,  5.86it/s]\n"
          ]
        },
        {
          "output_type": "stream",
          "name": "stdout",
          "text": [
            "Validation Loss: 0.7358, Validation Accuracy: 84.03%\n",
            "\n",
            "Epoch 36/50\n"
          ]
        },
        {
          "output_type": "stream",
          "name": "stderr",
          "text": [
            "Training: 100%|██████████| 161/161 [00:31<00:00,  5.14it/s]\n"
          ]
        },
        {
          "output_type": "stream",
          "name": "stdout",
          "text": [
            "Train Loss: 0.1009, Train Accuracy: 97.01%\n"
          ]
        },
        {
          "output_type": "stream",
          "name": "stderr",
          "text": [
            "Validation: 100%|██████████| 35/35 [00:05<00:00,  5.96it/s]\n"
          ]
        },
        {
          "output_type": "stream",
          "name": "stdout",
          "text": [
            "Validation Loss: 0.7410, Validation Accuracy: 84.21%\n",
            "\n",
            "Epoch 37/50\n"
          ]
        },
        {
          "output_type": "stream",
          "name": "stderr",
          "text": [
            "Training: 100%|██████████| 161/161 [00:31<00:00,  5.12it/s]\n"
          ]
        },
        {
          "output_type": "stream",
          "name": "stdout",
          "text": [
            "Train Loss: 0.1140, Train Accuracy: 96.36%\n"
          ]
        },
        {
          "output_type": "stream",
          "name": "stderr",
          "text": [
            "Validation: 100%|██████████| 35/35 [00:05<00:00,  5.90it/s]\n"
          ]
        },
        {
          "output_type": "stream",
          "name": "stdout",
          "text": [
            "Validation Loss: 0.8735, Validation Accuracy: 82.76%\n",
            "\n",
            "Epoch 38/50\n"
          ]
        },
        {
          "output_type": "stream",
          "name": "stderr",
          "text": [
            "Training: 100%|██████████| 161/161 [00:31<00:00,  5.12it/s]\n"
          ]
        },
        {
          "output_type": "stream",
          "name": "stdout",
          "text": [
            "Train Loss: 0.1476, Train Accuracy: 95.24%\n"
          ]
        },
        {
          "output_type": "stream",
          "name": "stderr",
          "text": [
            "Validation: 100%|██████████| 35/35 [00:05<00:00,  5.95it/s]\n"
          ]
        },
        {
          "output_type": "stream",
          "name": "stdout",
          "text": [
            "Validation Loss: 0.7429, Validation Accuracy: 84.94%\n",
            "\n",
            "Epoch 39/50\n"
          ]
        },
        {
          "output_type": "stream",
          "name": "stderr",
          "text": [
            "Training: 100%|██████████| 161/161 [00:31<00:00,  5.12it/s]\n"
          ]
        },
        {
          "output_type": "stream",
          "name": "stdout",
          "text": [
            "Train Loss: 0.1204, Train Accuracy: 96.27%\n"
          ]
        },
        {
          "output_type": "stream",
          "name": "stderr",
          "text": [
            "Validation: 100%|██████████| 35/35 [00:05<00:00,  5.93it/s]\n"
          ]
        },
        {
          "output_type": "stream",
          "name": "stdout",
          "text": [
            "Validation Loss: 0.8355, Validation Accuracy: 84.94%\n",
            "\n",
            "Epoch 40/50\n"
          ]
        },
        {
          "output_type": "stream",
          "name": "stderr",
          "text": [
            "Training: 100%|██████████| 161/161 [00:31<00:00,  5.13it/s]\n"
          ]
        },
        {
          "output_type": "stream",
          "name": "stdout",
          "text": [
            "Train Loss: 0.0883, Train Accuracy: 97.01%\n"
          ]
        },
        {
          "output_type": "stream",
          "name": "stderr",
          "text": [
            "Validation: 100%|██████████| 35/35 [00:05<00:00,  5.91it/s]\n"
          ]
        },
        {
          "output_type": "stream",
          "name": "stdout",
          "text": [
            "Validation Loss: 0.7076, Validation Accuracy: 86.03%\n",
            "\n",
            "Epoch 41/50\n"
          ]
        },
        {
          "output_type": "stream",
          "name": "stderr",
          "text": [
            "Training: 100%|██████████| 161/161 [00:31<00:00,  5.15it/s]\n"
          ]
        },
        {
          "output_type": "stream",
          "name": "stdout",
          "text": [
            "Train Loss: 0.1190, Train Accuracy: 96.07%\n"
          ]
        },
        {
          "output_type": "stream",
          "name": "stderr",
          "text": [
            "Validation: 100%|██████████| 35/35 [00:05<00:00,  5.93it/s]\n"
          ]
        },
        {
          "output_type": "stream",
          "name": "stdout",
          "text": [
            "Validation Loss: 0.8546, Validation Accuracy: 84.12%\n",
            "\n",
            "Epoch 42/50\n"
          ]
        },
        {
          "output_type": "stream",
          "name": "stderr",
          "text": [
            "Training: 100%|██████████| 161/161 [00:31<00:00,  5.11it/s]\n"
          ]
        },
        {
          "output_type": "stream",
          "name": "stdout",
          "text": [
            "Train Loss: 0.1077, Train Accuracy: 96.54%\n"
          ]
        },
        {
          "output_type": "stream",
          "name": "stderr",
          "text": [
            "Validation: 100%|██████████| 35/35 [00:05<00:00,  5.90it/s]\n"
          ]
        },
        {
          "output_type": "stream",
          "name": "stdout",
          "text": [
            "Validation Loss: 0.7988, Validation Accuracy: 84.12%\n",
            "\n",
            "Epoch 43/50\n"
          ]
        },
        {
          "output_type": "stream",
          "name": "stderr",
          "text": [
            "Training: 100%|██████████| 161/161 [00:31<00:00,  5.09it/s]\n"
          ]
        },
        {
          "output_type": "stream",
          "name": "stdout",
          "text": [
            "Train Loss: 0.0981, Train Accuracy: 96.89%\n"
          ]
        },
        {
          "output_type": "stream",
          "name": "stderr",
          "text": [
            "Validation: 100%|██████████| 35/35 [00:06<00:00,  5.77it/s]\n"
          ]
        },
        {
          "output_type": "stream",
          "name": "stdout",
          "text": [
            "Validation Loss: 0.6317, Validation Accuracy: 86.48%\n",
            "\n",
            "Epoch 44/50\n"
          ]
        },
        {
          "output_type": "stream",
          "name": "stderr",
          "text": [
            "Training: 100%|██████████| 161/161 [00:31<00:00,  5.12it/s]\n"
          ]
        },
        {
          "output_type": "stream",
          "name": "stdout",
          "text": [
            "Train Loss: 0.0876, Train Accuracy: 97.26%\n"
          ]
        },
        {
          "output_type": "stream",
          "name": "stderr",
          "text": [
            "Validation: 100%|██████████| 35/35 [00:05<00:00,  5.85it/s]\n"
          ]
        },
        {
          "output_type": "stream",
          "name": "stdout",
          "text": [
            "Validation Loss: 0.8005, Validation Accuracy: 84.57%\n",
            "\n",
            "Epoch 45/50\n"
          ]
        },
        {
          "output_type": "stream",
          "name": "stderr",
          "text": [
            "Training: 100%|██████████| 161/161 [00:31<00:00,  5.11it/s]\n"
          ]
        },
        {
          "output_type": "stream",
          "name": "stdout",
          "text": [
            "Train Loss: 0.0982, Train Accuracy: 97.22%\n"
          ]
        },
        {
          "output_type": "stream",
          "name": "stderr",
          "text": [
            "Validation: 100%|██████████| 35/35 [00:05<00:00,  5.95it/s]\n"
          ]
        },
        {
          "output_type": "stream",
          "name": "stdout",
          "text": [
            "Validation Loss: 0.6717, Validation Accuracy: 85.93%\n",
            "\n",
            "Epoch 46/50\n"
          ]
        },
        {
          "output_type": "stream",
          "name": "stderr",
          "text": [
            "Training: 100%|██████████| 161/161 [00:31<00:00,  5.13it/s]\n"
          ]
        },
        {
          "output_type": "stream",
          "name": "stdout",
          "text": [
            "Train Loss: 0.0739, Train Accuracy: 97.43%\n"
          ]
        },
        {
          "output_type": "stream",
          "name": "stderr",
          "text": [
            "Validation: 100%|██████████| 35/35 [00:05<00:00,  5.93it/s]\n"
          ]
        },
        {
          "output_type": "stream",
          "name": "stdout",
          "text": [
            "Validation Loss: 0.7000, Validation Accuracy: 86.48%\n",
            "\n",
            "Epoch 47/50\n"
          ]
        },
        {
          "output_type": "stream",
          "name": "stderr",
          "text": [
            "Training: 100%|██████████| 161/161 [00:31<00:00,  5.14it/s]\n"
          ]
        },
        {
          "output_type": "stream",
          "name": "stdout",
          "text": [
            "Train Loss: 0.0791, Train Accuracy: 97.49%\n"
          ]
        },
        {
          "output_type": "stream",
          "name": "stderr",
          "text": [
            "Validation: 100%|██████████| 35/35 [00:05<00:00,  5.92it/s]\n"
          ]
        },
        {
          "output_type": "stream",
          "name": "stdout",
          "text": [
            "Validation Loss: 0.7858, Validation Accuracy: 85.93%\n",
            "\n",
            "Epoch 48/50\n"
          ]
        },
        {
          "output_type": "stream",
          "name": "stderr",
          "text": [
            "Training: 100%|██████████| 161/161 [00:31<00:00,  5.15it/s]\n"
          ]
        },
        {
          "output_type": "stream",
          "name": "stdout",
          "text": [
            "Train Loss: 0.0603, Train Accuracy: 98.00%\n"
          ]
        },
        {
          "output_type": "stream",
          "name": "stderr",
          "text": [
            "Validation: 100%|██████████| 35/35 [00:06<00:00,  5.74it/s]\n"
          ]
        },
        {
          "output_type": "stream",
          "name": "stdout",
          "text": [
            "Validation Loss: 0.7794, Validation Accuracy: 85.12%\n",
            "\n",
            "Epoch 49/50\n"
          ]
        },
        {
          "output_type": "stream",
          "name": "stderr",
          "text": [
            "Training: 100%|██████████| 161/161 [00:31<00:00,  5.13it/s]\n"
          ]
        },
        {
          "output_type": "stream",
          "name": "stdout",
          "text": [
            "Train Loss: 0.0687, Train Accuracy: 97.84%\n"
          ]
        },
        {
          "output_type": "stream",
          "name": "stderr",
          "text": [
            "Validation: 100%|██████████| 35/35 [00:05<00:00,  5.97it/s]\n"
          ]
        },
        {
          "output_type": "stream",
          "name": "stdout",
          "text": [
            "Validation Loss: 0.7760, Validation Accuracy: 85.12%\n",
            "\n",
            "Epoch 50/50\n"
          ]
        },
        {
          "output_type": "stream",
          "name": "stderr",
          "text": [
            "Training: 100%|██████████| 161/161 [00:31<00:00,  5.15it/s]\n"
          ]
        },
        {
          "output_type": "stream",
          "name": "stdout",
          "text": [
            "Train Loss: 0.0987, Train Accuracy: 96.91%\n"
          ]
        },
        {
          "output_type": "stream",
          "name": "stderr",
          "text": [
            "Validation: 100%|██████████| 35/35 [00:05<00:00,  5.94it/s]"
          ]
        },
        {
          "output_type": "stream",
          "name": "stdout",
          "text": [
            "Validation Loss: 1.0696, Validation Accuracy: 80.04%\n"
          ]
        },
        {
          "output_type": "stream",
          "name": "stderr",
          "text": [
            "\n"
          ]
        }
      ],
      "source": [
        "for epoch in range(num_epochs):\n",
        "    print(f\"\\nEpoch {epoch+1}/{num_epochs}\")\n",
        "    train(model, train_loader, criterion, optimizer, device)\n",
        "    evaluate(model, val_loader, criterion, device, phase=\"Validation\")"
      ]
    },
    {
      "cell_type": "code",
      "execution_count": 30,
      "metadata": {
        "id": "tAiyDwO0zMk1",
        "colab": {
          "base_uri": "https://localhost:8080/"
        },
        "outputId": "f9db7ce6-9e21-4509-9242-7ceb82e1e5c7"
      },
      "outputs": [
        {
          "output_type": "stream",
          "name": "stdout",
          "text": [
            "\n",
            "Final Test Evaluation\n"
          ]
        },
        {
          "output_type": "stream",
          "name": "stderr",
          "text": [
            "Test: 100%|██████████| 35/35 [00:06<00:00,  5.76it/s]"
          ]
        },
        {
          "output_type": "stream",
          "name": "stdout",
          "text": [
            "Test Loss: 0.9887, Test Accuracy: 82.77%\n"
          ]
        },
        {
          "output_type": "stream",
          "name": "stderr",
          "text": [
            "\n"
          ]
        }
      ],
      "source": [
        "print(\"\\nFinal Test Evaluation\")\n",
        "evaluate(model, test_loader, criterion, device, phase=\"Test\")"
      ]
    },
    {
      "cell_type": "code",
      "execution_count": 31,
      "metadata": {
        "id": "HCv209A51QEb",
        "colab": {
          "base_uri": "https://localhost:8080/"
        },
        "outputId": "e88ae1d2-cfb3-48a3-89c3-3f6bedffed4a"
      },
      "outputs": [
        {
          "output_type": "stream",
          "name": "stdout",
          "text": [
            "Inference Time Measurement Results:\n",
            "Total Inferences: 35\n",
            "Average Time: 21.14 ms\n",
            "Standard Deviation: 1.05 ms\n",
            "Maximum Time: 21.37 ms\n",
            "Minimum Time: 15.02 ms\n"
          ]
        }
      ],
      "source": [
        "times = measure_inference_time(model, test_loader, device)"
      ]
    },
    {
      "cell_type": "code",
      "execution_count": null,
      "metadata": {
        "id": "m_kVgdJKDZqe"
      },
      "outputs": [],
      "source": []
    }
  ],
  "metadata": {
    "accelerator": "GPU",
    "colab": {
      "gpuType": "A100",
      "provenance": []
    },
    "kernelspec": {
      "display_name": "Python 3",
      "name": "python3"
    },
    "language_info": {
      "codemirror_mode": {
        "name": "ipython",
        "version": 3
      },
      "file_extension": ".py",
      "mimetype": "text/x-python",
      "name": "python",
      "nbconvert_exporter": "python",
      "pygments_lexer": "ipython3",
      "version": "3.10.0"
    },
    "widgets": {
      "application/vnd.jupyter.widget-state+json": {
        "d0c690f8723c47b0a6e3f19ffac29a4d": {
          "model_module": "@jupyter-widgets/controls",
          "model_name": "HBoxModel",
          "model_module_version": "1.5.0",
          "state": {
            "_dom_classes": [],
            "_model_module": "@jupyter-widgets/controls",
            "_model_module_version": "1.5.0",
            "_model_name": "HBoxModel",
            "_view_count": null,
            "_view_module": "@jupyter-widgets/controls",
            "_view_module_version": "1.5.0",
            "_view_name": "HBoxView",
            "box_style": "",
            "children": [
              "IPY_MODEL_37888ccfcb8843bea3345b5921760727",
              "IPY_MODEL_7cb99297fb7d4ff48f705d46f13621e4",
              "IPY_MODEL_a34cfc563dd647fb800587122ca64c2b"
            ],
            "layout": "IPY_MODEL_8b1af1f502bc45a4acd42d7cdfd59fa7"
          }
        },
        "37888ccfcb8843bea3345b5921760727": {
          "model_module": "@jupyter-widgets/controls",
          "model_name": "HTMLModel",
          "model_module_version": "1.5.0",
          "state": {
            "_dom_classes": [],
            "_model_module": "@jupyter-widgets/controls",
            "_model_module_version": "1.5.0",
            "_model_name": "HTMLModel",
            "_view_count": null,
            "_view_module": "@jupyter-widgets/controls",
            "_view_module_version": "1.5.0",
            "_view_name": "HTMLView",
            "description": "",
            "description_tooltip": null,
            "layout": "IPY_MODEL_5e94265dc67f4f5394d5eaac160d2180",
            "placeholder": "​",
            "style": "IPY_MODEL_5cb41585583e4c8c91b9fe62ec4d551a",
            "value": "model.safetensors: 100%"
          }
        },
        "7cb99297fb7d4ff48f705d46f13621e4": {
          "model_module": "@jupyter-widgets/controls",
          "model_name": "FloatProgressModel",
          "model_module_version": "1.5.0",
          "state": {
            "_dom_classes": [],
            "_model_module": "@jupyter-widgets/controls",
            "_model_module_version": "1.5.0",
            "_model_name": "FloatProgressModel",
            "_view_count": null,
            "_view_module": "@jupyter-widgets/controls",
            "_view_module_version": "1.5.0",
            "_view_name": "ProgressView",
            "bar_style": "success",
            "description": "",
            "description_tooltip": null,
            "layout": "IPY_MODEL_3d30bae547eb4404a982a43955fc97b2",
            "max": 102469840,
            "min": 0,
            "orientation": "horizontal",
            "style": "IPY_MODEL_78db1ebfc467471ba41f12e4d7a0df9e",
            "value": 102469840
          }
        },
        "a34cfc563dd647fb800587122ca64c2b": {
          "model_module": "@jupyter-widgets/controls",
          "model_name": "HTMLModel",
          "model_module_version": "1.5.0",
          "state": {
            "_dom_classes": [],
            "_model_module": "@jupyter-widgets/controls",
            "_model_module_version": "1.5.0",
            "_model_name": "HTMLModel",
            "_view_count": null,
            "_view_module": "@jupyter-widgets/controls",
            "_view_module_version": "1.5.0",
            "_view_name": "HTMLView",
            "description": "",
            "description_tooltip": null,
            "layout": "IPY_MODEL_a74615005de54cb5bf5f0df47fcd17bb",
            "placeholder": "​",
            "style": "IPY_MODEL_ad3da768b68147d7b38259f536dd6487",
            "value": " 102M/102M [00:00&lt;00:00, 200MB/s]"
          }
        },
        "8b1af1f502bc45a4acd42d7cdfd59fa7": {
          "model_module": "@jupyter-widgets/base",
          "model_name": "LayoutModel",
          "model_module_version": "1.2.0",
          "state": {
            "_model_module": "@jupyter-widgets/base",
            "_model_module_version": "1.2.0",
            "_model_name": "LayoutModel",
            "_view_count": null,
            "_view_module": "@jupyter-widgets/base",
            "_view_module_version": "1.2.0",
            "_view_name": "LayoutView",
            "align_content": null,
            "align_items": null,
            "align_self": null,
            "border": null,
            "bottom": null,
            "display": null,
            "flex": null,
            "flex_flow": null,
            "grid_area": null,
            "grid_auto_columns": null,
            "grid_auto_flow": null,
            "grid_auto_rows": null,
            "grid_column": null,
            "grid_gap": null,
            "grid_row": null,
            "grid_template_areas": null,
            "grid_template_columns": null,
            "grid_template_rows": null,
            "height": null,
            "justify_content": null,
            "justify_items": null,
            "left": null,
            "margin": null,
            "max_height": null,
            "max_width": null,
            "min_height": null,
            "min_width": null,
            "object_fit": null,
            "object_position": null,
            "order": null,
            "overflow": null,
            "overflow_x": null,
            "overflow_y": null,
            "padding": null,
            "right": null,
            "top": null,
            "visibility": null,
            "width": null
          }
        },
        "5e94265dc67f4f5394d5eaac160d2180": {
          "model_module": "@jupyter-widgets/base",
          "model_name": "LayoutModel",
          "model_module_version": "1.2.0",
          "state": {
            "_model_module": "@jupyter-widgets/base",
            "_model_module_version": "1.2.0",
            "_model_name": "LayoutModel",
            "_view_count": null,
            "_view_module": "@jupyter-widgets/base",
            "_view_module_version": "1.2.0",
            "_view_name": "LayoutView",
            "align_content": null,
            "align_items": null,
            "align_self": null,
            "border": null,
            "bottom": null,
            "display": null,
            "flex": null,
            "flex_flow": null,
            "grid_area": null,
            "grid_auto_columns": null,
            "grid_auto_flow": null,
            "grid_auto_rows": null,
            "grid_column": null,
            "grid_gap": null,
            "grid_row": null,
            "grid_template_areas": null,
            "grid_template_columns": null,
            "grid_template_rows": null,
            "height": null,
            "justify_content": null,
            "justify_items": null,
            "left": null,
            "margin": null,
            "max_height": null,
            "max_width": null,
            "min_height": null,
            "min_width": null,
            "object_fit": null,
            "object_position": null,
            "order": null,
            "overflow": null,
            "overflow_x": null,
            "overflow_y": null,
            "padding": null,
            "right": null,
            "top": null,
            "visibility": null,
            "width": null
          }
        },
        "5cb41585583e4c8c91b9fe62ec4d551a": {
          "model_module": "@jupyter-widgets/controls",
          "model_name": "DescriptionStyleModel",
          "model_module_version": "1.5.0",
          "state": {
            "_model_module": "@jupyter-widgets/controls",
            "_model_module_version": "1.5.0",
            "_model_name": "DescriptionStyleModel",
            "_view_count": null,
            "_view_module": "@jupyter-widgets/base",
            "_view_module_version": "1.2.0",
            "_view_name": "StyleView",
            "description_width": ""
          }
        },
        "3d30bae547eb4404a982a43955fc97b2": {
          "model_module": "@jupyter-widgets/base",
          "model_name": "LayoutModel",
          "model_module_version": "1.2.0",
          "state": {
            "_model_module": "@jupyter-widgets/base",
            "_model_module_version": "1.2.0",
            "_model_name": "LayoutModel",
            "_view_count": null,
            "_view_module": "@jupyter-widgets/base",
            "_view_module_version": "1.2.0",
            "_view_name": "LayoutView",
            "align_content": null,
            "align_items": null,
            "align_self": null,
            "border": null,
            "bottom": null,
            "display": null,
            "flex": null,
            "flex_flow": null,
            "grid_area": null,
            "grid_auto_columns": null,
            "grid_auto_flow": null,
            "grid_auto_rows": null,
            "grid_column": null,
            "grid_gap": null,
            "grid_row": null,
            "grid_template_areas": null,
            "grid_template_columns": null,
            "grid_template_rows": null,
            "height": null,
            "justify_content": null,
            "justify_items": null,
            "left": null,
            "margin": null,
            "max_height": null,
            "max_width": null,
            "min_height": null,
            "min_width": null,
            "object_fit": null,
            "object_position": null,
            "order": null,
            "overflow": null,
            "overflow_x": null,
            "overflow_y": null,
            "padding": null,
            "right": null,
            "top": null,
            "visibility": null,
            "width": null
          }
        },
        "78db1ebfc467471ba41f12e4d7a0df9e": {
          "model_module": "@jupyter-widgets/controls",
          "model_name": "ProgressStyleModel",
          "model_module_version": "1.5.0",
          "state": {
            "_model_module": "@jupyter-widgets/controls",
            "_model_module_version": "1.5.0",
            "_model_name": "ProgressStyleModel",
            "_view_count": null,
            "_view_module": "@jupyter-widgets/base",
            "_view_module_version": "1.2.0",
            "_view_name": "StyleView",
            "bar_color": null,
            "description_width": ""
          }
        },
        "a74615005de54cb5bf5f0df47fcd17bb": {
          "model_module": "@jupyter-widgets/base",
          "model_name": "LayoutModel",
          "model_module_version": "1.2.0",
          "state": {
            "_model_module": "@jupyter-widgets/base",
            "_model_module_version": "1.2.0",
            "_model_name": "LayoutModel",
            "_view_count": null,
            "_view_module": "@jupyter-widgets/base",
            "_view_module_version": "1.2.0",
            "_view_name": "LayoutView",
            "align_content": null,
            "align_items": null,
            "align_self": null,
            "border": null,
            "bottom": null,
            "display": null,
            "flex": null,
            "flex_flow": null,
            "grid_area": null,
            "grid_auto_columns": null,
            "grid_auto_flow": null,
            "grid_auto_rows": null,
            "grid_column": null,
            "grid_gap": null,
            "grid_row": null,
            "grid_template_areas": null,
            "grid_template_columns": null,
            "grid_template_rows": null,
            "height": null,
            "justify_content": null,
            "justify_items": null,
            "left": null,
            "margin": null,
            "max_height": null,
            "max_width": null,
            "min_height": null,
            "min_width": null,
            "object_fit": null,
            "object_position": null,
            "order": null,
            "overflow": null,
            "overflow_x": null,
            "overflow_y": null,
            "padding": null,
            "right": null,
            "top": null,
            "visibility": null,
            "width": null
          }
        },
        "ad3da768b68147d7b38259f536dd6487": {
          "model_module": "@jupyter-widgets/controls",
          "model_name": "DescriptionStyleModel",
          "model_module_version": "1.5.0",
          "state": {
            "_model_module": "@jupyter-widgets/controls",
            "_model_module_version": "1.5.0",
            "_model_name": "DescriptionStyleModel",
            "_view_count": null,
            "_view_module": "@jupyter-widgets/base",
            "_view_module_version": "1.2.0",
            "_view_name": "StyleView",
            "description_width": ""
          }
        }
      }
    }
  },
  "nbformat": 4,
  "nbformat_minor": 0
}