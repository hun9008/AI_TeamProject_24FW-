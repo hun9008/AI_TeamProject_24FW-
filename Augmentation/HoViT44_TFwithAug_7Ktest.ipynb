{
  "cells": [
    {
      "cell_type": "code",
      "execution_count": 1,
      "metadata": {
        "colab": {
          "base_uri": "https://localhost:8080/"
        },
        "id": "NYpt3QcVCl83",
        "outputId": "b7b4ab85-2219-406f-b3be-e7ae593e1bf6"
      },
      "outputs": [
        {
          "output_type": "stream",
          "name": "stdout",
          "text": [
            "Collecting wget\n",
            "  Downloading wget-3.2.zip (10 kB)\n",
            "  Preparing metadata (setup.py) ... \u001b[?25l\u001b[?25hdone\n",
            "Collecting torchinfo\n",
            "  Downloading torchinfo-1.8.0-py3-none-any.whl.metadata (21 kB)\n",
            "Downloading torchinfo-1.8.0-py3-none-any.whl (23 kB)\n",
            "Building wheels for collected packages: wget\n",
            "  Building wheel for wget (setup.py) ... \u001b[?25l\u001b[?25hdone\n",
            "  Created wheel for wget: filename=wget-3.2-py3-none-any.whl size=9656 sha256=7cb34d4e88a779e3fa6565d9af1ae2f1d31b5b9dc67d36998b8bceceaa7e71d3\n",
            "  Stored in directory: /root/.cache/pip/wheels/40/b3/0f/a40dbd1c6861731779f62cc4babcb234387e11d697df70ee97\n",
            "Successfully built wget\n",
            "Installing collected packages: wget, torchinfo\n",
            "Successfully installed torchinfo-1.8.0 wget-3.2\n"
          ]
        }
      ],
      "source": [
        "!pip install wget torchinfo"
      ]
    },
    {
      "cell_type": "code",
      "execution_count": 2,
      "metadata": {
        "colab": {
          "base_uri": "https://localhost:8080/"
        },
        "id": "hnxTtKfkN46C",
        "outputId": "6ee6e229-1df6-4f91-f91e-f79184dab3c4"
      },
      "outputs": [
        {
          "output_type": "stream",
          "name": "stdout",
          "text": [
            "--2025-02-26 18:47:00--  https://zenodo.org/record/1214456/files/NCT-CRC-HE-100K.zip\n",
            "Resolving zenodo.org (zenodo.org)... 188.185.45.92, 188.185.43.25, 188.185.48.194, ...\n",
            "Connecting to zenodo.org (zenodo.org)|188.185.45.92|:443... connected.\n",
            "HTTP request sent, awaiting response... 301 MOVED PERMANENTLY\n",
            "Location: /records/1214456/files/NCT-CRC-HE-100K.zip [following]\n",
            "--2025-02-26 18:47:01--  https://zenodo.org/records/1214456/files/NCT-CRC-HE-100K.zip\n",
            "Reusing existing connection to zenodo.org:443.\n",
            "HTTP request sent, awaiting response... 200 OK\n",
            "Length: 11690284003 (11G) [application/octet-stream]\n",
            "Saving to: ‘NCT-CRC-HE-100K.zip’\n",
            "\n",
            "NCT-CRC-HE-100K.zip 100%[===================>]  10.89G  24.8MB/s    in 7m 44s  \n",
            "\n",
            "2025-02-26 18:54:44 (24.0 MB/s) - ‘NCT-CRC-HE-100K.zip’ saved [11690284003/11690284003]\n",
            "\n",
            "dataset setup complete!\n"
          ]
        }
      ],
      "source": [
        "!wget -O NCT-CRC-HE-100K.zip https://zenodo.org/record/1214456/files/NCT-CRC-HE-100K.zip\n",
        "!unzip -qq NCT-CRC-HE-100K.zip -d train\n",
        "\n",
        "print(\"dataset setup complete!\")"
      ]
    },
    {
      "cell_type": "code",
      "source": [
        "!pip install peft"
      ],
      "metadata": {
        "colab": {
          "base_uri": "https://localhost:8080/"
        },
        "id": "f_9sIsiJ2ldL",
        "outputId": "ed6dfabb-cfae-46b1-efbb-0725bf4783a4"
      },
      "execution_count": 3,
      "outputs": [
        {
          "output_type": "stream",
          "name": "stdout",
          "text": [
            "Requirement already satisfied: peft in /usr/local/lib/python3.11/dist-packages (0.14.0)\n",
            "Requirement already satisfied: numpy>=1.17 in /usr/local/lib/python3.11/dist-packages (from peft) (1.26.4)\n",
            "Requirement already satisfied: packaging>=20.0 in /usr/local/lib/python3.11/dist-packages (from peft) (24.2)\n",
            "Requirement already satisfied: psutil in /usr/local/lib/python3.11/dist-packages (from peft) (5.9.5)\n",
            "Requirement already satisfied: pyyaml in /usr/local/lib/python3.11/dist-packages (from peft) (6.0.2)\n",
            "Requirement already satisfied: torch>=1.13.0 in /usr/local/lib/python3.11/dist-packages (from peft) (2.5.1+cu124)\n",
            "Requirement already satisfied: transformers in /usr/local/lib/python3.11/dist-packages (from peft) (4.48.3)\n",
            "Requirement already satisfied: tqdm in /usr/local/lib/python3.11/dist-packages (from peft) (4.67.1)\n",
            "Requirement already satisfied: accelerate>=0.21.0 in /usr/local/lib/python3.11/dist-packages (from peft) (1.3.0)\n",
            "Requirement already satisfied: safetensors in /usr/local/lib/python3.11/dist-packages (from peft) (0.5.2)\n",
            "Requirement already satisfied: huggingface-hub>=0.25.0 in /usr/local/lib/python3.11/dist-packages (from peft) (0.28.1)\n",
            "Requirement already satisfied: filelock in /usr/local/lib/python3.11/dist-packages (from huggingface-hub>=0.25.0->peft) (3.17.0)\n",
            "Requirement already satisfied: fsspec>=2023.5.0 in /usr/local/lib/python3.11/dist-packages (from huggingface-hub>=0.25.0->peft) (2024.10.0)\n",
            "Requirement already satisfied: requests in /usr/local/lib/python3.11/dist-packages (from huggingface-hub>=0.25.0->peft) (2.32.3)\n",
            "Requirement already satisfied: typing-extensions>=3.7.4.3 in /usr/local/lib/python3.11/dist-packages (from huggingface-hub>=0.25.0->peft) (4.12.2)\n",
            "Requirement already satisfied: networkx in /usr/local/lib/python3.11/dist-packages (from torch>=1.13.0->peft) (3.4.2)\n",
            "Requirement already satisfied: jinja2 in /usr/local/lib/python3.11/dist-packages (from torch>=1.13.0->peft) (3.1.5)\n",
            "Collecting nvidia-cuda-nvrtc-cu12==12.4.127 (from torch>=1.13.0->peft)\n",
            "  Downloading nvidia_cuda_nvrtc_cu12-12.4.127-py3-none-manylinux2014_x86_64.whl.metadata (1.5 kB)\n",
            "Collecting nvidia-cuda-runtime-cu12==12.4.127 (from torch>=1.13.0->peft)\n",
            "  Downloading nvidia_cuda_runtime_cu12-12.4.127-py3-none-manylinux2014_x86_64.whl.metadata (1.5 kB)\n",
            "Collecting nvidia-cuda-cupti-cu12==12.4.127 (from torch>=1.13.0->peft)\n",
            "  Downloading nvidia_cuda_cupti_cu12-12.4.127-py3-none-manylinux2014_x86_64.whl.metadata (1.6 kB)\n",
            "Collecting nvidia-cudnn-cu12==9.1.0.70 (from torch>=1.13.0->peft)\n",
            "  Downloading nvidia_cudnn_cu12-9.1.0.70-py3-none-manylinux2014_x86_64.whl.metadata (1.6 kB)\n",
            "Collecting nvidia-cublas-cu12==12.4.5.8 (from torch>=1.13.0->peft)\n",
            "  Downloading nvidia_cublas_cu12-12.4.5.8-py3-none-manylinux2014_x86_64.whl.metadata (1.5 kB)\n",
            "Collecting nvidia-cufft-cu12==11.2.1.3 (from torch>=1.13.0->peft)\n",
            "  Downloading nvidia_cufft_cu12-11.2.1.3-py3-none-manylinux2014_x86_64.whl.metadata (1.5 kB)\n",
            "Collecting nvidia-curand-cu12==10.3.5.147 (from torch>=1.13.0->peft)\n",
            "  Downloading nvidia_curand_cu12-10.3.5.147-py3-none-manylinux2014_x86_64.whl.metadata (1.5 kB)\n",
            "Collecting nvidia-cusolver-cu12==11.6.1.9 (from torch>=1.13.0->peft)\n",
            "  Downloading nvidia_cusolver_cu12-11.6.1.9-py3-none-manylinux2014_x86_64.whl.metadata (1.6 kB)\n",
            "Collecting nvidia-cusparse-cu12==12.3.1.170 (from torch>=1.13.0->peft)\n",
            "  Downloading nvidia_cusparse_cu12-12.3.1.170-py3-none-manylinux2014_x86_64.whl.metadata (1.6 kB)\n",
            "Requirement already satisfied: nvidia-nccl-cu12==2.21.5 in /usr/local/lib/python3.11/dist-packages (from torch>=1.13.0->peft) (2.21.5)\n",
            "Requirement already satisfied: nvidia-nvtx-cu12==12.4.127 in /usr/local/lib/python3.11/dist-packages (from torch>=1.13.0->peft) (12.4.127)\n",
            "Collecting nvidia-nvjitlink-cu12==12.4.127 (from torch>=1.13.0->peft)\n",
            "  Downloading nvidia_nvjitlink_cu12-12.4.127-py3-none-manylinux2014_x86_64.whl.metadata (1.5 kB)\n",
            "Requirement already satisfied: triton==3.1.0 in /usr/local/lib/python3.11/dist-packages (from torch>=1.13.0->peft) (3.1.0)\n",
            "Requirement already satisfied: sympy==1.13.1 in /usr/local/lib/python3.11/dist-packages (from torch>=1.13.0->peft) (1.13.1)\n",
            "Requirement already satisfied: mpmath<1.4,>=1.1.0 in /usr/local/lib/python3.11/dist-packages (from sympy==1.13.1->torch>=1.13.0->peft) (1.3.0)\n",
            "Requirement already satisfied: regex!=2019.12.17 in /usr/local/lib/python3.11/dist-packages (from transformers->peft) (2024.11.6)\n",
            "Requirement already satisfied: tokenizers<0.22,>=0.21 in /usr/local/lib/python3.11/dist-packages (from transformers->peft) (0.21.0)\n",
            "Requirement already satisfied: MarkupSafe>=2.0 in /usr/local/lib/python3.11/dist-packages (from jinja2->torch>=1.13.0->peft) (3.0.2)\n",
            "Requirement already satisfied: charset-normalizer<4,>=2 in /usr/local/lib/python3.11/dist-packages (from requests->huggingface-hub>=0.25.0->peft) (3.4.1)\n",
            "Requirement already satisfied: idna<4,>=2.5 in /usr/local/lib/python3.11/dist-packages (from requests->huggingface-hub>=0.25.0->peft) (3.10)\n",
            "Requirement already satisfied: urllib3<3,>=1.21.1 in /usr/local/lib/python3.11/dist-packages (from requests->huggingface-hub>=0.25.0->peft) (2.3.0)\n",
            "Requirement already satisfied: certifi>=2017.4.17 in /usr/local/lib/python3.11/dist-packages (from requests->huggingface-hub>=0.25.0->peft) (2025.1.31)\n",
            "Downloading nvidia_cublas_cu12-12.4.5.8-py3-none-manylinux2014_x86_64.whl (363.4 MB)\n",
            "\u001b[2K   \u001b[90m━━━━━━━━━━━━━━━━━━━━━━━━━━━━━━━━━━━━━━━━\u001b[0m \u001b[32m363.4/363.4 MB\u001b[0m \u001b[31m2.8 MB/s\u001b[0m eta \u001b[36m0:00:00\u001b[0m\n",
            "\u001b[?25hDownloading nvidia_cuda_cupti_cu12-12.4.127-py3-none-manylinux2014_x86_64.whl (13.8 MB)\n",
            "\u001b[2K   \u001b[90m━━━━━━━━━━━━━━━━━━━━━━━━━━━━━━━━━━━━━━━━\u001b[0m \u001b[32m13.8/13.8 MB\u001b[0m \u001b[31m110.9 MB/s\u001b[0m eta \u001b[36m0:00:00\u001b[0m\n",
            "\u001b[?25hDownloading nvidia_cuda_nvrtc_cu12-12.4.127-py3-none-manylinux2014_x86_64.whl (24.6 MB)\n",
            "\u001b[2K   \u001b[90m━━━━━━━━━━━━━━━━━━━━━━━━━━━━━━━━━━━━━━━━\u001b[0m \u001b[32m24.6/24.6 MB\u001b[0m \u001b[31m90.1 MB/s\u001b[0m eta \u001b[36m0:00:00\u001b[0m\n",
            "\u001b[?25hDownloading nvidia_cuda_runtime_cu12-12.4.127-py3-none-manylinux2014_x86_64.whl (883 kB)\n",
            "\u001b[2K   \u001b[90m━━━━━━━━━━━━━━━━━━━━━━━━━━━━━━━━━━━━━━━━\u001b[0m \u001b[32m883.7/883.7 kB\u001b[0m \u001b[31m53.8 MB/s\u001b[0m eta \u001b[36m0:00:00\u001b[0m\n",
            "\u001b[?25hDownloading nvidia_cudnn_cu12-9.1.0.70-py3-none-manylinux2014_x86_64.whl (664.8 MB)\n",
            "\u001b[2K   \u001b[90m━━━━━━━━━━━━━━━━━━━━━━━━━━━━━━━━━━━━━━━━\u001b[0m \u001b[32m664.8/664.8 MB\u001b[0m \u001b[31m2.0 MB/s\u001b[0m eta \u001b[36m0:00:00\u001b[0m\n",
            "\u001b[?25hDownloading nvidia_cufft_cu12-11.2.1.3-py3-none-manylinux2014_x86_64.whl (211.5 MB)\n",
            "\u001b[2K   \u001b[90m━━━━━━━━━━━━━━━━━━━━━━━━━━━━━━━━━━━━━━━━\u001b[0m \u001b[32m211.5/211.5 MB\u001b[0m \u001b[31m11.1 MB/s\u001b[0m eta \u001b[36m0:00:00\u001b[0m\n",
            "\u001b[?25hDownloading nvidia_curand_cu12-10.3.5.147-py3-none-manylinux2014_x86_64.whl (56.3 MB)\n",
            "\u001b[2K   \u001b[90m━━━━━━━━━━━━━━━━━━━━━━━━━━━━━━━━━━━━━━━━\u001b[0m \u001b[32m56.3/56.3 MB\u001b[0m \u001b[31m38.0 MB/s\u001b[0m eta \u001b[36m0:00:00\u001b[0m\n",
            "\u001b[?25hDownloading nvidia_cusolver_cu12-11.6.1.9-py3-none-manylinux2014_x86_64.whl (127.9 MB)\n",
            "\u001b[2K   \u001b[90m━━━━━━━━━━━━━━━━━━━━━━━━━━━━━━━━━━━━━━━━\u001b[0m \u001b[32m127.9/127.9 MB\u001b[0m \u001b[31m17.9 MB/s\u001b[0m eta \u001b[36m0:00:00\u001b[0m\n",
            "\u001b[?25hDownloading nvidia_cusparse_cu12-12.3.1.170-py3-none-manylinux2014_x86_64.whl (207.5 MB)\n",
            "\u001b[2K   \u001b[90m━━━━━━━━━━━━━━━━━━━━━━━━━━━━━━━━━━━━━━━━\u001b[0m \u001b[32m207.5/207.5 MB\u001b[0m \u001b[31m3.9 MB/s\u001b[0m eta \u001b[36m0:00:00\u001b[0m\n",
            "\u001b[?25hDownloading nvidia_nvjitlink_cu12-12.4.127-py3-none-manylinux2014_x86_64.whl (21.1 MB)\n",
            "\u001b[2K   \u001b[90m━━━━━━━━━━━━━━━━━━━━━━━━━━━━━━━━━━━━━━━━\u001b[0m \u001b[32m21.1/21.1 MB\u001b[0m \u001b[31m89.6 MB/s\u001b[0m eta \u001b[36m0:00:00\u001b[0m\n",
            "\u001b[?25hInstalling collected packages: nvidia-nvjitlink-cu12, nvidia-curand-cu12, nvidia-cufft-cu12, nvidia-cuda-runtime-cu12, nvidia-cuda-nvrtc-cu12, nvidia-cuda-cupti-cu12, nvidia-cublas-cu12, nvidia-cusparse-cu12, nvidia-cudnn-cu12, nvidia-cusolver-cu12\n",
            "  Attempting uninstall: nvidia-nvjitlink-cu12\n",
            "    Found existing installation: nvidia-nvjitlink-cu12 12.5.82\n",
            "    Uninstalling nvidia-nvjitlink-cu12-12.5.82:\n",
            "      Successfully uninstalled nvidia-nvjitlink-cu12-12.5.82\n",
            "  Attempting uninstall: nvidia-curand-cu12\n",
            "    Found existing installation: nvidia-curand-cu12 10.3.6.82\n",
            "    Uninstalling nvidia-curand-cu12-10.3.6.82:\n",
            "      Successfully uninstalled nvidia-curand-cu12-10.3.6.82\n",
            "  Attempting uninstall: nvidia-cufft-cu12\n",
            "    Found existing installation: nvidia-cufft-cu12 11.2.3.61\n",
            "    Uninstalling nvidia-cufft-cu12-11.2.3.61:\n",
            "      Successfully uninstalled nvidia-cufft-cu12-11.2.3.61\n",
            "  Attempting uninstall: nvidia-cuda-runtime-cu12\n",
            "    Found existing installation: nvidia-cuda-runtime-cu12 12.5.82\n",
            "    Uninstalling nvidia-cuda-runtime-cu12-12.5.82:\n",
            "      Successfully uninstalled nvidia-cuda-runtime-cu12-12.5.82\n",
            "  Attempting uninstall: nvidia-cuda-nvrtc-cu12\n",
            "    Found existing installation: nvidia-cuda-nvrtc-cu12 12.5.82\n",
            "    Uninstalling nvidia-cuda-nvrtc-cu12-12.5.82:\n",
            "      Successfully uninstalled nvidia-cuda-nvrtc-cu12-12.5.82\n",
            "  Attempting uninstall: nvidia-cuda-cupti-cu12\n",
            "    Found existing installation: nvidia-cuda-cupti-cu12 12.5.82\n",
            "    Uninstalling nvidia-cuda-cupti-cu12-12.5.82:\n",
            "      Successfully uninstalled nvidia-cuda-cupti-cu12-12.5.82\n",
            "  Attempting uninstall: nvidia-cublas-cu12\n",
            "    Found existing installation: nvidia-cublas-cu12 12.5.3.2\n",
            "    Uninstalling nvidia-cublas-cu12-12.5.3.2:\n",
            "      Successfully uninstalled nvidia-cublas-cu12-12.5.3.2\n",
            "  Attempting uninstall: nvidia-cusparse-cu12\n",
            "    Found existing installation: nvidia-cusparse-cu12 12.5.1.3\n",
            "    Uninstalling nvidia-cusparse-cu12-12.5.1.3:\n",
            "      Successfully uninstalled nvidia-cusparse-cu12-12.5.1.3\n",
            "  Attempting uninstall: nvidia-cudnn-cu12\n",
            "    Found existing installation: nvidia-cudnn-cu12 9.3.0.75\n",
            "    Uninstalling nvidia-cudnn-cu12-9.3.0.75:\n",
            "      Successfully uninstalled nvidia-cudnn-cu12-9.3.0.75\n",
            "  Attempting uninstall: nvidia-cusolver-cu12\n",
            "    Found existing installation: nvidia-cusolver-cu12 11.6.3.83\n",
            "    Uninstalling nvidia-cusolver-cu12-11.6.3.83:\n",
            "      Successfully uninstalled nvidia-cusolver-cu12-11.6.3.83\n",
            "Successfully installed nvidia-cublas-cu12-12.4.5.8 nvidia-cuda-cupti-cu12-12.4.127 nvidia-cuda-nvrtc-cu12-12.4.127 nvidia-cuda-runtime-cu12-12.4.127 nvidia-cudnn-cu12-9.1.0.70 nvidia-cufft-cu12-11.2.1.3 nvidia-curand-cu12-10.3.5.147 nvidia-cusolver-cu12-11.6.1.9 nvidia-cusparse-cu12-12.3.1.170 nvidia-nvjitlink-cu12-12.4.127\n"
          ]
        }
      ]
    },
    {
      "cell_type": "code",
      "source": [
        "!pip install torchao\n",
        "!pip install torchtune"
      ],
      "metadata": {
        "colab": {
          "base_uri": "https://localhost:8080/",
          "height": 1000
        },
        "id": "ZPMfB8vT2qjy",
        "outputId": "f552659a-54df-41fe-d3d9-0e655277d47e"
      },
      "execution_count": 4,
      "outputs": [
        {
          "output_type": "stream",
          "name": "stdout",
          "text": [
            "Collecting torchao\n",
            "  Downloading torchao-0.8.0-cp39-abi3-manylinux_2_17_x86_64.manylinux2014_x86_64.manylinux_2_28_x86_64.whl.metadata (14 kB)\n",
            "Downloading torchao-0.8.0-cp39-abi3-manylinux_2_17_x86_64.manylinux2014_x86_64.manylinux_2_28_x86_64.whl (4.7 MB)\n",
            "\u001b[?25l   \u001b[90m━━━━━━━━━━━━━━━━━━━━━━━━━━━━━━━━━━━━━━━━\u001b[0m \u001b[32m0.0/4.7 MB\u001b[0m \u001b[31m?\u001b[0m eta \u001b[36m-:--:--\u001b[0m\r\u001b[2K   \u001b[91m━━\u001b[0m\u001b[91m╸\u001b[0m\u001b[90m━━━━━━━━━━━━━━━━━━━━━━━━━━━━━━━━━━━━━\u001b[0m \u001b[32m0.3/4.7 MB\u001b[0m \u001b[31m9.3 MB/s\u001b[0m eta \u001b[36m0:00:01\u001b[0m\r\u001b[2K   \u001b[91m━━━━━━━━━━━━━━━━━━━━━━━━\u001b[0m\u001b[90m╺\u001b[0m\u001b[90m━━━━━━━━━━━━━━━\u001b[0m \u001b[32m2.9/4.7 MB\u001b[0m \u001b[31m42.1 MB/s\u001b[0m eta \u001b[36m0:00:01\u001b[0m\r\u001b[2K   \u001b[90m━━━━━━━━━━━━━━━━━━━━━━━━━━━━━━━━━━━━━━━━\u001b[0m \u001b[32m4.7/4.7 MB\u001b[0m \u001b[31m47.7 MB/s\u001b[0m eta \u001b[36m0:00:00\u001b[0m\n",
            "\u001b[?25hInstalling collected packages: torchao\n",
            "Successfully installed torchao-0.8.0\n",
            "Collecting torchtune\n",
            "  Downloading torchtune-0.5.0-py3-none-any.whl.metadata (23 kB)\n",
            "Collecting datasets (from torchtune)\n",
            "  Downloading datasets-3.3.2-py3-none-any.whl.metadata (19 kB)\n",
            "Requirement already satisfied: huggingface_hub[hf_transfer] in /usr/local/lib/python3.11/dist-packages (from torchtune) (0.28.1)\n",
            "Requirement already satisfied: safetensors in /usr/local/lib/python3.11/dist-packages (from torchtune) (0.5.2)\n",
            "Requirement already satisfied: kagglehub in /usr/local/lib/python3.11/dist-packages (from torchtune) (0.3.9)\n",
            "Requirement already satisfied: sentencepiece in /usr/local/lib/python3.11/dist-packages (from torchtune) (0.2.0)\n",
            "Collecting tiktoken (from torchtune)\n",
            "  Downloading tiktoken-0.9.0-cp311-cp311-manylinux_2_17_x86_64.manylinux2014_x86_64.whl.metadata (6.7 kB)\n",
            "Collecting blobfile>=2 (from torchtune)\n",
            "  Downloading blobfile-3.0.0-py3-none-any.whl.metadata (15 kB)\n",
            "Requirement already satisfied: numpy in /usr/local/lib/python3.11/dist-packages (from torchtune) (1.26.4)\n",
            "Requirement already satisfied: tqdm in /usr/local/lib/python3.11/dist-packages (from torchtune) (4.67.1)\n",
            "Collecting omegaconf (from torchtune)\n",
            "  Downloading omegaconf-2.3.0-py3-none-any.whl.metadata (3.9 kB)\n",
            "Requirement already satisfied: psutil in /usr/local/lib/python3.11/dist-packages (from torchtune) (5.9.5)\n",
            "Requirement already satisfied: Pillow>=9.4.0 in /usr/local/lib/python3.11/dist-packages (from torchtune) (11.1.0)\n",
            "Collecting pycryptodomex>=3.8 (from blobfile>=2->torchtune)\n",
            "  Downloading pycryptodomex-3.21.0-cp36-abi3-manylinux_2_17_x86_64.manylinux2014_x86_64.whl.metadata (3.4 kB)\n",
            "Requirement already satisfied: urllib3<3,>=1.25.3 in /usr/local/lib/python3.11/dist-packages (from blobfile>=2->torchtune) (2.3.0)\n",
            "Requirement already satisfied: lxml>=4.9 in /usr/local/lib/python3.11/dist-packages (from blobfile>=2->torchtune) (5.3.1)\n",
            "Requirement already satisfied: filelock>=3.0 in /usr/local/lib/python3.11/dist-packages (from blobfile>=2->torchtune) (3.17.0)\n",
            "Requirement already satisfied: pyarrow>=15.0.0 in /usr/local/lib/python3.11/dist-packages (from datasets->torchtune) (18.1.0)\n",
            "Collecting dill<0.3.9,>=0.3.0 (from datasets->torchtune)\n",
            "  Downloading dill-0.3.8-py3-none-any.whl.metadata (10 kB)\n",
            "Requirement already satisfied: pandas in /usr/local/lib/python3.11/dist-packages (from datasets->torchtune) (2.2.2)\n",
            "Requirement already satisfied: requests>=2.32.2 in /usr/local/lib/python3.11/dist-packages (from datasets->torchtune) (2.32.3)\n",
            "Collecting xxhash (from datasets->torchtune)\n",
            "  Downloading xxhash-3.5.0-cp311-cp311-manylinux_2_17_x86_64.manylinux2014_x86_64.whl.metadata (12 kB)\n",
            "Collecting multiprocess<0.70.17 (from datasets->torchtune)\n",
            "  Downloading multiprocess-0.70.16-py311-none-any.whl.metadata (7.2 kB)\n",
            "Requirement already satisfied: fsspec<=2024.12.0,>=2023.1.0 in /usr/local/lib/python3.11/dist-packages (from fsspec[http]<=2024.12.0,>=2023.1.0->datasets->torchtune) (2024.10.0)\n",
            "Requirement already satisfied: aiohttp in /usr/local/lib/python3.11/dist-packages (from datasets->torchtune) (3.11.12)\n",
            "Requirement already satisfied: packaging in /usr/local/lib/python3.11/dist-packages (from datasets->torchtune) (24.2)\n",
            "Requirement already satisfied: pyyaml>=5.1 in /usr/local/lib/python3.11/dist-packages (from datasets->torchtune) (6.0.2)\n",
            "Requirement already satisfied: typing-extensions>=3.7.4.3 in /usr/local/lib/python3.11/dist-packages (from huggingface_hub[hf_transfer]->torchtune) (4.12.2)\n",
            "Collecting hf-transfer>=0.1.4 (from huggingface_hub[hf_transfer]->torchtune)\n",
            "  Downloading hf_transfer-0.1.9-cp38-abi3-manylinux_2_17_x86_64.manylinux2014_x86_64.whl.metadata (1.7 kB)\n",
            "Collecting antlr4-python3-runtime==4.9.* (from omegaconf->torchtune)\n",
            "  Downloading antlr4-python3-runtime-4.9.3.tar.gz (117 kB)\n",
            "\u001b[2K     \u001b[90m━━━━━━━━━━━━━━━━━━━━━━━━━━━━━━━━━━━━━━━━\u001b[0m \u001b[32m117.0/117.0 kB\u001b[0m \u001b[31m5.3 MB/s\u001b[0m eta \u001b[36m0:00:00\u001b[0m\n",
            "\u001b[?25h  Preparing metadata (setup.py) ... \u001b[?25l\u001b[?25hdone\n",
            "Requirement already satisfied: regex>=2022.1.18 in /usr/local/lib/python3.11/dist-packages (from tiktoken->torchtune) (2024.11.6)\n",
            "Requirement already satisfied: aiohappyeyeballs>=2.3.0 in /usr/local/lib/python3.11/dist-packages (from aiohttp->datasets->torchtune) (2.4.6)\n",
            "Requirement already satisfied: aiosignal>=1.1.2 in /usr/local/lib/python3.11/dist-packages (from aiohttp->datasets->torchtune) (1.3.2)\n",
            "Requirement already satisfied: attrs>=17.3.0 in /usr/local/lib/python3.11/dist-packages (from aiohttp->datasets->torchtune) (25.1.0)\n",
            "Requirement already satisfied: frozenlist>=1.1.1 in /usr/local/lib/python3.11/dist-packages (from aiohttp->datasets->torchtune) (1.5.0)\n",
            "Requirement already satisfied: multidict<7.0,>=4.5 in /usr/local/lib/python3.11/dist-packages (from aiohttp->datasets->torchtune) (6.1.0)\n",
            "Requirement already satisfied: propcache>=0.2.0 in /usr/local/lib/python3.11/dist-packages (from aiohttp->datasets->torchtune) (0.3.0)\n",
            "Requirement already satisfied: yarl<2.0,>=1.17.0 in /usr/local/lib/python3.11/dist-packages (from aiohttp->datasets->torchtune) (1.18.3)\n",
            "Requirement already satisfied: charset-normalizer<4,>=2 in /usr/local/lib/python3.11/dist-packages (from requests>=2.32.2->datasets->torchtune) (3.4.1)\n",
            "Requirement already satisfied: idna<4,>=2.5 in /usr/local/lib/python3.11/dist-packages (from requests>=2.32.2->datasets->torchtune) (3.10)\n",
            "Requirement already satisfied: certifi>=2017.4.17 in /usr/local/lib/python3.11/dist-packages (from requests>=2.32.2->datasets->torchtune) (2025.1.31)\n",
            "Requirement already satisfied: python-dateutil>=2.8.2 in /usr/local/lib/python3.11/dist-packages (from pandas->datasets->torchtune) (2.8.2)\n",
            "Requirement already satisfied: pytz>=2020.1 in /usr/local/lib/python3.11/dist-packages (from pandas->datasets->torchtune) (2025.1)\n",
            "Requirement already satisfied: tzdata>=2022.7 in /usr/local/lib/python3.11/dist-packages (from pandas->datasets->torchtune) (2025.1)\n",
            "Requirement already satisfied: six>=1.5 in /usr/local/lib/python3.11/dist-packages (from python-dateutil>=2.8.2->pandas->datasets->torchtune) (1.17.0)\n",
            "Downloading torchtune-0.5.0-py3-none-any.whl (810 kB)\n",
            "\u001b[2K   \u001b[90m━━━━━━━━━━━━━━━━━━━━━━━━━━━━━━━━━━━━━━━━\u001b[0m \u001b[32m810.3/810.3 kB\u001b[0m \u001b[31m22.8 MB/s\u001b[0m eta \u001b[36m0:00:00\u001b[0m\n",
            "\u001b[?25hDownloading blobfile-3.0.0-py3-none-any.whl (75 kB)\n",
            "\u001b[2K   \u001b[90m━━━━━━━━━━━━━━━━━━━━━━━━━━━━━━━━━━━━━━━━\u001b[0m \u001b[32m75.4/75.4 kB\u001b[0m \u001b[31m7.5 MB/s\u001b[0m eta \u001b[36m0:00:00\u001b[0m\n",
            "\u001b[?25hDownloading datasets-3.3.2-py3-none-any.whl (485 kB)\n",
            "\u001b[2K   \u001b[90m━━━━━━━━━━━━━━━━━━━━━━━━━━━━━━━━━━━━━━━━\u001b[0m \u001b[32m485.4/485.4 kB\u001b[0m \u001b[31m39.2 MB/s\u001b[0m eta \u001b[36m0:00:00\u001b[0m\n",
            "\u001b[?25hDownloading omegaconf-2.3.0-py3-none-any.whl (79 kB)\n",
            "\u001b[2K   \u001b[90m━━━━━━━━━━━━━━━━━━━━━━━━━━━━━━━━━━━━━━━━\u001b[0m \u001b[32m79.5/79.5 kB\u001b[0m \u001b[31m8.3 MB/s\u001b[0m eta \u001b[36m0:00:00\u001b[0m\n",
            "\u001b[?25hDownloading tiktoken-0.9.0-cp311-cp311-manylinux_2_17_x86_64.manylinux2014_x86_64.whl (1.2 MB)\n",
            "\u001b[2K   \u001b[90m━━━━━━━━━━━━━━━━━━━━━━━━━━━━━━━━━━━━━━━━\u001b[0m \u001b[32m1.2/1.2 MB\u001b[0m \u001b[31m54.9 MB/s\u001b[0m eta \u001b[36m0:00:00\u001b[0m\n",
            "\u001b[?25hDownloading dill-0.3.8-py3-none-any.whl (116 kB)\n",
            "\u001b[2K   \u001b[90m━━━━━━━━━━━━━━━━━━━━━━━━━━━━━━━━━━━━━━━━\u001b[0m \u001b[32m116.3/116.3 kB\u001b[0m \u001b[31m11.8 MB/s\u001b[0m eta \u001b[36m0:00:00\u001b[0m\n",
            "\u001b[?25hDownloading hf_transfer-0.1.9-cp38-abi3-manylinux_2_17_x86_64.manylinux2014_x86_64.whl (3.6 MB)\n",
            "\u001b[2K   \u001b[90m━━━━━━━━━━━━━━━━━━━━━━━━━━━━━━━━━━━━━━━━\u001b[0m \u001b[32m3.6/3.6 MB\u001b[0m \u001b[31m102.6 MB/s\u001b[0m eta \u001b[36m0:00:00\u001b[0m\n",
            "\u001b[?25hDownloading multiprocess-0.70.16-py311-none-any.whl (143 kB)\n",
            "\u001b[2K   \u001b[90m━━━━━━━━━━━━━━━━━━━━━━━━━━━━━━━━━━━━━━━━\u001b[0m \u001b[32m143.5/143.5 kB\u001b[0m \u001b[31m15.5 MB/s\u001b[0m eta \u001b[36m0:00:00\u001b[0m\n",
            "\u001b[?25hDownloading pycryptodomex-3.21.0-cp36-abi3-manylinux_2_17_x86_64.manylinux2014_x86_64.whl (2.3 MB)\n",
            "\u001b[2K   \u001b[90m━━━━━━━━━━━━━━━━━━━━━━━━━━━━━━━━━━━━━━━━\u001b[0m \u001b[32m2.3/2.3 MB\u001b[0m \u001b[31m94.9 MB/s\u001b[0m eta \u001b[36m0:00:00\u001b[0m\n",
            "\u001b[?25hDownloading xxhash-3.5.0-cp311-cp311-manylinux_2_17_x86_64.manylinux2014_x86_64.whl (194 kB)\n",
            "\u001b[2K   \u001b[90m━━━━━━━━━━━━━━━━━━━━━━━━━━━━━━━━━━━━━━━━\u001b[0m \u001b[32m194.8/194.8 kB\u001b[0m \u001b[31m18.1 MB/s\u001b[0m eta \u001b[36m0:00:00\u001b[0m\n",
            "\u001b[?25hBuilding wheels for collected packages: antlr4-python3-runtime\n",
            "  Building wheel for antlr4-python3-runtime (setup.py) ... \u001b[?25l\u001b[?25hdone\n",
            "  Created wheel for antlr4-python3-runtime: filename=antlr4_python3_runtime-4.9.3-py3-none-any.whl size=144555 sha256=e121ee0e4473a7cb452d6bfdda8dff8252cd27160b8956c23928a05839d061d8\n",
            "  Stored in directory: /root/.cache/pip/wheels/1a/97/32/461f837398029ad76911109f07047fde1d7b661a147c7c56d1\n",
            "Successfully built antlr4-python3-runtime\n",
            "Installing collected packages: antlr4-python3-runtime, xxhash, pycryptodomex, omegaconf, hf-transfer, dill, tiktoken, multiprocess, blobfile, datasets, torchtune\n",
            "Successfully installed antlr4-python3-runtime-4.9.3 blobfile-3.0.0 datasets-3.3.2 dill-0.3.8 hf-transfer-0.1.9 multiprocess-0.70.16 omegaconf-2.3.0 pycryptodomex-3.21.0 tiktoken-0.9.0 torchtune-0.5.0 xxhash-3.5.0\n"
          ]
        },
        {
          "output_type": "display_data",
          "data": {
            "application/vnd.colab-display-data+json": {
              "pip_warning": {
                "packages": [
                  "pydevd_plugins"
                ]
              },
              "id": "663d5a9543a645d6b5e78e89771c3ef6"
            }
          },
          "metadata": {}
        }
      ]
    },
    {
      "cell_type": "code",
      "execution_count": 5,
      "metadata": {
        "id": "Wa8mdzSwvzMe"
      },
      "outputs": [],
      "source": [
        "import timm\n",
        "import torch\n",
        "import torch.nn as nn\n",
        "import torch.optim as optim\n",
        "from torchvision import datasets, transforms\n",
        "from torch.utils.data import DataLoader, ConcatDataset\n",
        "import numpy as np\n",
        "from tqdm import tqdm\n",
        "\n",
        "import itertools\n",
        "from torchinfo import summary\n",
        "from sklearn.metrics import accuracy_score, balanced_accuracy_score, classification_report, confusion_matrix\n",
        "from PIL import Image\n",
        "\n",
        "from matplotlib import pyplot as plt\n",
        "\n",
        "import random\n",
        "import torchvision.transforms.functional as TF\n",
        "\n",
        "from sklearn.model_selection import train_test_split\n",
        "from torch.utils.data import Subset"
      ]
    },
    {
      "cell_type": "code",
      "source": [
        "from torchtune.modules.peft import LoRALinear"
      ],
      "metadata": {
        "id": "7VFmN8Yv2vjz"
      },
      "execution_count": 6,
      "outputs": []
    },
    {
      "cell_type": "code",
      "source": [
        "def convert_to_lora_model(model, rank=8, alpha=16, exclude=[]):\n",
        "    for name, module in model.named_children():\n",
        "        if name in exclude:\n",
        "            continue\n",
        "        if isinstance(module, nn.Linear):\n",
        "            lora_linear = LoRALinear(\n",
        "                in_dim=module.in_features,\n",
        "                out_dim=module.out_features,\n",
        "                rank=rank,\n",
        "                alpha=alpha,\n",
        "                use_bias=module.bias is not None\n",
        "            )\n",
        "            lora_linear.weight.data = module.weight.data #모델이 처음부터 다시 학습할 필요 없게 하기 위해\n",
        "            if module.bias is not None:\n",
        "                lora_linear.bias.data = module.bias.data\n",
        "            lora_linear.to(module.weight.device)\n",
        "            # 기존 linear layer를 loRA linear로 교체체\n",
        "            setattr(model, name, lora_linear)\n",
        "        # 재귀함수 (하위모듈도 확인)\n",
        "        else:\n",
        "            convert_to_lora_model(module, rank, alpha, exclude)\n",
        "\n",
        "    return model"
      ],
      "metadata": {
        "id": "xM9fPVgw2xbJ"
      },
      "execution_count": 48,
      "outputs": []
    },
    {
      "cell_type": "code",
      "execution_count": 49,
      "metadata": {
        "id": "4FLtpbS_Vrd7"
      },
      "outputs": [],
      "source": [
        "class ConvNorm(nn.Module):\n",
        "    def __init__(self, in_channels, out_channels, kernel_size=3, stride=2, padding=1):\n",
        "        super(ConvNorm, self).__init__()\n",
        "        self.linear = nn.Conv2d(\n",
        "            in_channels, out_channels, kernel_size=kernel_size,\n",
        "            stride=stride, padding=padding, bias=False\n",
        "        )\n",
        "        self.bn = nn.BatchNorm2d(out_channels)\n",
        "\n",
        "    def forward(self, x):\n",
        "        x = self.linear(x)\n",
        "        x = self.bn(x)\n",
        "        return x"
      ]
    },
    {
      "cell_type": "code",
      "execution_count": 50,
      "metadata": {
        "id": "zhaJu1oZyp0D"
      },
      "outputs": [],
      "source": [
        "class Stem16(nn.Module):\n",
        "    def __init__(self):\n",
        "        super(Stem16, self).__init__()\n",
        "        self.conv1 = ConvNorm(3, 32)\n",
        "        self.act1 = nn.Hardswish()\n",
        "        self.conv2 = ConvNorm(32, 64)\n",
        "        self.act2 = nn.Hardswish()\n",
        "        self.conv3 = ConvNorm(64, 128)\n",
        "        self.act3 = nn.Hardswish()\n",
        "        self.conv4 = ConvNorm(128, 256)\n",
        "\n",
        "    def forward(self, x):\n",
        "        x = self.act1(self.conv1(x))\n",
        "        x = self.act2(self.conv2(x))\n",
        "        x = self.act3(self.conv3(x))\n",
        "        x = self.conv4(x)\n",
        "        return x"
      ]
    },
    {
      "cell_type": "code",
      "execution_count": 51,
      "metadata": {
        "id": "W1Xh6-wOyskM"
      },
      "outputs": [],
      "source": [
        "class LinearNorm(nn.Module):\n",
        "    def __init__(self, in_features, out_features):\n",
        "        super(LinearNorm, self).__init__()\n",
        "        self.linear = nn.Linear(in_features, out_features, bias=False)\n",
        "        self.bn = nn.BatchNorm1d(out_features)\n",
        "\n",
        "    def forward(self, x):\n",
        "\n",
        "        if x.dim() == 3:\n",
        "            B, N, C = x.shape\n",
        "            x = x.reshape(B * N, C)\n",
        "            x = self.bn(self.linear(x))\n",
        "            x = x.reshape(B, N, -1)\n",
        "        else:\n",
        "            x = self.bn(self.linear(x))\n",
        "        return x"
      ]
    },
    {
      "cell_type": "code",
      "execution_count": 52,
      "metadata": {
        "id": "wHeuFDCPyuLf"
      },
      "outputs": [],
      "source": [
        "class Attention(nn.Module):\n",
        "    def __init__(self, dim, num_heads, attn_ratio=2):\n",
        "        super(Attention, self).__init__()\n",
        "        self.num_heads = num_heads\n",
        "        head_dim = dim // num_heads\n",
        "        self.scale = head_dim ** -0.5\n",
        "        inner_dim = head_dim * num_heads * 3\n",
        "        self.qkv = LinearNorm(dim, inner_dim)\n",
        "\n",
        "        self.proj = nn.Sequential(\n",
        "            nn.Hardswish(),\n",
        "            LinearNorm(dim, dim)\n",
        "        )\n",
        "\n",
        "        self.attention_biases = None\n",
        "        self.attention_bias_idxs = None\n",
        "\n",
        "    def compute_attention_bias(self, resolution):\n",
        "\n",
        "        points = list(itertools.product(range(resolution), range(resolution)))\n",
        "        N = len(points)\n",
        "\n",
        "        attention_offsets = {}\n",
        "        idxs = []\n",
        "\n",
        "        # if N = 196, then resolution = 14\n",
        "        for p1 in points:\n",
        "            for p2 in points:\n",
        "                offset = (abs(p1[0] - p2[0]), abs(p1[1] - p2[1]))\n",
        "                if offset not in attention_offsets:\n",
        "                    attention_offsets[offset] = len(attention_offsets)\n",
        "                idxs.append(attention_offsets[offset])\n",
        "\n",
        "        num_offsets = len(attention_offsets)\n",
        "\n",
        "        # 각 attention head에 대해 num_offsets 만큼의 학습 가능한 Bias를 생성\n",
        "        self.attention_biases = nn.Parameter(torch.zeros(self.num_heads, num_offsets).to(next(self.parameters()).device))\n",
        "        self.attention_bias_idxs = torch.LongTensor(idxs).view(N, N).to(next(self.parameters()).device)\n",
        "\n",
        "    def forward(self, x):\n",
        "        B, N, C = x.shape\n",
        "        resolution = int(N ** 0.5)\n",
        "\n",
        "        if self.attention_biases is None or self.attention_bias_idxs.shape[0] != N:\n",
        "            self.compute_attention_bias(resolution)\n",
        "\n",
        "        qkv = self.qkv(x)\n",
        "        qkv = qkv.view(B, N, 3, self.num_heads, C // self.num_heads).permute(2, 0, 3, 1, 4)\n",
        "        # qkv: (3, B, num_heads, N, head_dim)\n",
        "        q, k, v = qkv[0], qkv[1], qkv[2] # q, k, v: (B, num_heads, N, head_dim)\n",
        "\n",
        "        attn = (q @ k.transpose(-2, -1)) * self.scale # attn: (B, num_heads, N, N)\n",
        "        attn_bias = self.attention_biases[:, self.attention_bias_idxs].unsqueeze(0) # attn_bias: (1, num_heads, N, N)\n",
        "        attn = attn + attn_bias\n",
        "        attn = attn.softmax(dim=-1)\n",
        "\n",
        "        x = (attn @ v).transpose(1, 2).reshape(B, N, C)\n",
        "        return self.proj(x)"
      ]
    },
    {
      "cell_type": "code",
      "execution_count": 53,
      "metadata": {
        "id": "xvyY-FeUywyR"
      },
      "outputs": [],
      "source": [
        "class LevitMlp(nn.Module):\n",
        "    def __init__(self, in_features, hidden_features, out_features):\n",
        "        super(LevitMlp, self).__init__()\n",
        "        self.ln1 = LinearNorm(in_features, hidden_features)\n",
        "        self.act = nn.Hardswish()\n",
        "        self.drop = nn.Dropout(p=0.5, inplace=False)#dropout 적용\n",
        "        self.ln2 = LinearNorm(hidden_features, out_features)\n",
        "\n",
        "    def forward(self, x):\n",
        "        x = self.ln1(x)\n",
        "        x = self.act(x)\n",
        "        x = self.drop(x)\n",
        "        x = self.ln2(x)\n",
        "        return x"
      ]
    },
    {
      "cell_type": "code",
      "execution_count": 54,
      "metadata": {
        "id": "Ubl233osyyHQ"
      },
      "outputs": [],
      "source": [
        "class LevitBlock(nn.Module):\n",
        "    def __init__(self, dim, num_heads, mlp_ratio=2):\n",
        "        super(LevitBlock, self).__init__()\n",
        "        self.attn = Attention(dim, num_heads)\n",
        "        self.drop_path1 = nn.Identity()\n",
        "        self.mlp = LevitMlp(dim, dim * mlp_ratio, dim)\n",
        "        self.drop_path2 = nn.Identity()\n",
        "\n",
        "    def forward(self, x):\n",
        "        x = x + self.drop_path1(self.attn(x))\n",
        "        x = x + self.drop_path2(self.mlp(x))\n",
        "        return x"
      ]
    },
    {
      "cell_type": "code",
      "execution_count": 55,
      "metadata": {
        "id": "cjBHkWJYyzfc"
      },
      "outputs": [],
      "source": [
        "class CNNDownsample(nn.Module):\n",
        "    def __init__(self, in_channels, out_channels):\n",
        "        super(CNNDownsample, self).__init__()\n",
        "        self.out_channels = out_channels\n",
        "        self.conv = nn.Conv2d(in_channels, out_channels, kernel_size=3, stride=2, padding=1)\n",
        "        self.act = nn.Hardswish()\n",
        "\n",
        "    def forward(self, x):\n",
        "        # print(x.shape)\n",
        "        B, N, C = x.shape # (B, N, C)  N=H*W (16 * 16 = 196)\n",
        "        H = int(np.sqrt(N))\n",
        "        x = x.view(B, H, H, C).permute(0, 3, 1, 2)\n",
        "        x = self.conv(x)\n",
        "        x = self.act(x)\n",
        "        x = x.permute(0, 2, 3, 1).view(B, -1, self.out_channels)\n",
        "        return x"
      ]
    },
    {
      "cell_type": "code",
      "execution_count": 56,
      "metadata": {
        "id": "jNpOjwVVy1Im"
      },
      "outputs": [],
      "source": [
        "class LevitStage(nn.Module):\n",
        "    def __init__(self, dim, out_dim, num_heads, num_blocks, downsample=True):\n",
        "        super(LevitStage, self).__init__()\n",
        "        self.downsample = CNNDownsample(dim, out_dim) if downsample else nn.Identity()\n",
        "        self.blocks = nn.Sequential(*[LevitBlock(out_dim, num_heads) for _ in range(num_blocks)])\n",
        "\n",
        "    def forward(self, x):\n",
        "        x = self.downsample(x)\n",
        "        x = self.blocks(x)\n",
        "        return x"
      ]
    },
    {
      "cell_type": "code",
      "source": [
        "import torch.nn.functional as F\n",
        "\n",
        "class LevitStage_TinyFusion(nn.Module):\n",
        "    def __init__(self, dim, out_dim, num_heads, num_blocks, num_select, downsample=True):\n",
        "        super(LevitStage_TinyFusion, self).__init__()\n",
        "        assert num_select <= num_blocks\n",
        "        self.downsample = CNNDownsample(dim, out_dim) if downsample else nn.Identity()\n",
        "        self.blocks = nn.Sequential(*[LevitBlock(out_dim, num_heads) for _ in range(num_blocks)])\n",
        "        self.num_blocks = num_blocks\n",
        "        self.num_select = num_select\n",
        "        init_probs = torch.ones(num_blocks) / num_blocks\n",
        "        self.gumbel_gate = nn.Parameter(torch.log(init_probs))\n",
        "\n",
        "\n",
        "    def forward(self, x, tau=1):\n",
        "        x = self.downsample(x)\n",
        "\n",
        "        if self.training:\n",
        "            gate_probs = F.gumbel_softmax(self.gumbel_gate, tau=tau, hard=False)\n",
        "        else:\n",
        "            gate_probs = F.gumbel_softmax(self.gumbel_gate, tau=tau, hard=True)\n",
        "\n",
        "        for i in range(self.num_blocks):\n",
        "            if gate_probs[i] > 0: # skip zero blocks\n",
        "              x = x + gate_probs[i] * self.blocks[i](x)\n",
        "        return x"
      ],
      "metadata": {
        "id": "dMufn6p-3F_X"
      },
      "execution_count": 57,
      "outputs": []
    },
    {
      "cell_type": "code",
      "execution_count": 58,
      "metadata": {
        "id": "FyFtflRsy2QE"
      },
      "outputs": [],
      "source": [
        "class ConvLevitStage(nn.Module):\n",
        "    def __init__(self, in_channels, out_channels, num_blocks, kernel_size, stride, padding):\n",
        "        super(ConvLevitStage, self).__init__()\n",
        "        self.layers = nn.Sequential(\n",
        "            *[nn.Conv2d(in_channels if i == 0 else out_channels, out_channels, kernel_size, stride, padding)\n",
        "              for i in range(num_blocks)],\n",
        "            nn.BatchNorm2d(out_channels),\n",
        "            nn.ReLU(inplace=True)\n",
        "        )\n",
        "\n",
        "    def forward(self, x):\n",
        "        return self.layers(x)"
      ]
    },
    {
      "cell_type": "code",
      "execution_count": 59,
      "metadata": {
        "id": "yKzCWv-Ny3j9"
      },
      "outputs": [],
      "source": [
        "class NormLinear(nn.Module):\n",
        "    def __init__(self, in_features, out_features, dropout_prob=0.5):#drop_out_0.5 적용\n",
        "        super(NormLinear, self).__init__()\n",
        "        self.bn = nn.BatchNorm1d(in_features)\n",
        "        self.drop = nn.Dropout(p=dropout_prob, inplace=False)\n",
        "        self.linear = nn.Linear(in_features, out_features, bias=True)\n",
        "\n",
        "    def forward(self, x):\n",
        "        x = self.bn(x)\n",
        "        x = self.drop(x)\n",
        "        x = self.linear(x)\n",
        "        return x"
      ]
    },
    {
      "cell_type": "code",
      "source": [
        "class LevitDistilledTinyfusion(nn.Module):\n",
        "    def __init__(self, num_classes=9):\n",
        "        super(LevitDistilledTinyfusion, self).__init__()\n",
        "\n",
        "        self.stem = Stem16()\n",
        "\n",
        "        self.stage1 = LevitStage_TinyFusion(dim=256, out_dim=256, num_heads=4, num_blocks=4, num_select=2, downsample=False) # block 수 적용\n",
        "        self.stage2 = LevitStage_TinyFusion(dim=256, out_dim=384, num_heads=6, num_blocks=4, num_select=2, downsample=True)\n",
        "\n",
        "        self.conv1x1 = nn.Sequential(\n",
        "            nn.Conv2d(384, 512, kernel_size=1, stride=1, padding=0),\n",
        "            nn.BatchNorm2d(512),\n",
        "            nn.ReLU(inplace=True)\n",
        "        )\n",
        "\n",
        "        self.head = NormLinear(in_features=512, out_features=num_classes, dropout_prob=0.0)\n",
        "        self.head_dist = NormLinear(in_features=512, out_features=num_classes, dropout_prob=0.0)\n",
        "\n",
        "    def forward(self, x, tau):\n",
        "        x = self.stem(x)\n",
        "\n",
        "        B, C, H, W = x.shape\n",
        "        x = x.view(B, C, -1).transpose(1, 2)\n",
        "        x = self.stage1(x, tau)\n",
        "        x = self.stage2(x, tau)\n",
        "\n",
        "        H = W = int(x.shape[1]**0.5)\n",
        "        x = x.transpose(1, 2).view(B, 384, H, W)\n",
        "\n",
        "        x = self.conv1x1(x)\n",
        "\n",
        "        x = torch.mean(x, dim=(2, 3))\n",
        "        out = self.head(x)\n",
        "        out_dist = self.head_dist(x)\n",
        "        return out"
      ],
      "metadata": {
        "id": "kIR4o8va3Im9"
      },
      "execution_count": 60,
      "outputs": []
    },
    {
      "cell_type": "code",
      "execution_count": 61,
      "metadata": {
        "id": "nS7iQ8-453Ru"
      },
      "outputs": [],
      "source": [
        "class LevitDistilled(nn.Module):\n",
        "    def __init__(self, num_classes=9):\n",
        "        super(LevitDistilled, self).__init__()\n",
        "\n",
        "        self.stem = Stem16()\n",
        "\n",
        "        self.stage1 = LevitStage(dim=256, out_dim=256, num_heads=4, num_blocks=4, downsample=False) # block 수 적용\n",
        "        self.stage2 = LevitStage(dim=256, out_dim=384, num_heads=6, num_blocks=4, downsample=True)\n",
        "\n",
        "        self.conv1x1 = nn.Sequential(\n",
        "            nn.Conv2d(384, 512, kernel_size=1, stride=1, padding=0),\n",
        "            nn.BatchNorm2d(512),\n",
        "            nn.ReLU(inplace=True)\n",
        "        )\n",
        "\n",
        "        self.head = NormLinear(in_features=512, out_features=num_classes, dropout_prob=0.0)\n",
        "        self.head_dist = NormLinear(in_features=512, out_features=num_classes, dropout_prob=0.0)\n",
        "\n",
        "    def forward(self, x):\n",
        "        x = self.stem(x)\n",
        "\n",
        "        B, C, H, W = x.shape\n",
        "        x = x.view(B, C, -1).transpose(1, 2)\n",
        "        x = self.stage1(x)\n",
        "        x = self.stage2(x)\n",
        "\n",
        "        H = W = int(x.shape[1]**0.5)\n",
        "        x = x.transpose(1, 2).view(B, 384, H, W)\n",
        "\n",
        "        x = self.conv1x1(x)\n",
        "\n",
        "        x = torch.mean(x, dim=(2, 3))\n",
        "        out = self.head(x)\n",
        "        out_dist = self.head_dist(x)\n",
        "        return out"
      ]
    },
    {
      "cell_type": "code",
      "source": [
        "model = LevitDistilledTinyfusion(num_classes=9)"
      ],
      "metadata": {
        "id": "B68yiGFF3S88"
      },
      "execution_count": 62,
      "outputs": []
    },
    {
      "cell_type": "code",
      "execution_count": 63,
      "metadata": {
        "colab": {
          "base_uri": "https://localhost:8080/"
        },
        "collapsed": true,
        "id": "lbCq25bWzJSQ",
        "outputId": "f1928a40-d5f6-4d0f-9f96-624725da825e"
      },
      "outputs": [
        {
          "output_type": "stream",
          "name": "stdout",
          "text": [
            "LevitDistilledTinyfusion(\n",
            "  (stem): Stem16(\n",
            "    (conv1): ConvNorm(\n",
            "      (linear): Conv2d(3, 32, kernel_size=(3, 3), stride=(2, 2), padding=(1, 1), bias=False)\n",
            "      (bn): BatchNorm2d(32, eps=1e-05, momentum=0.1, affine=True, track_running_stats=True)\n",
            "    )\n",
            "    (act1): Hardswish()\n",
            "    (conv2): ConvNorm(\n",
            "      (linear): Conv2d(32, 64, kernel_size=(3, 3), stride=(2, 2), padding=(1, 1), bias=False)\n",
            "      (bn): BatchNorm2d(64, eps=1e-05, momentum=0.1, affine=True, track_running_stats=True)\n",
            "    )\n",
            "    (act2): Hardswish()\n",
            "    (conv3): ConvNorm(\n",
            "      (linear): Conv2d(64, 128, kernel_size=(3, 3), stride=(2, 2), padding=(1, 1), bias=False)\n",
            "      (bn): BatchNorm2d(128, eps=1e-05, momentum=0.1, affine=True, track_running_stats=True)\n",
            "    )\n",
            "    (act3): Hardswish()\n",
            "    (conv4): ConvNorm(\n",
            "      (linear): Conv2d(128, 256, kernel_size=(3, 3), stride=(2, 2), padding=(1, 1), bias=False)\n",
            "      (bn): BatchNorm2d(256, eps=1e-05, momentum=0.1, affine=True, track_running_stats=True)\n",
            "    )\n",
            "  )\n",
            "  (stage1): LevitStage_TinyFusion(\n",
            "    (downsample): Identity()\n",
            "    (blocks): Sequential(\n",
            "      (0): LevitBlock(\n",
            "        (attn): Attention(\n",
            "          (qkv): LinearNorm(\n",
            "            (linear): Linear(in_features=256, out_features=768, bias=False)\n",
            "            (bn): BatchNorm1d(768, eps=1e-05, momentum=0.1, affine=True, track_running_stats=True)\n",
            "          )\n",
            "          (proj): Sequential(\n",
            "            (0): Hardswish()\n",
            "            (1): LinearNorm(\n",
            "              (linear): Linear(in_features=256, out_features=256, bias=False)\n",
            "              (bn): BatchNorm1d(256, eps=1e-05, momentum=0.1, affine=True, track_running_stats=True)\n",
            "            )\n",
            "          )\n",
            "        )\n",
            "        (drop_path1): Identity()\n",
            "        (mlp): LevitMlp(\n",
            "          (ln1): LinearNorm(\n",
            "            (linear): Linear(in_features=256, out_features=512, bias=False)\n",
            "            (bn): BatchNorm1d(512, eps=1e-05, momentum=0.1, affine=True, track_running_stats=True)\n",
            "          )\n",
            "          (act): Hardswish()\n",
            "          (drop): Dropout(p=0.5, inplace=False)\n",
            "          (ln2): LinearNorm(\n",
            "            (linear): Linear(in_features=512, out_features=256, bias=False)\n",
            "            (bn): BatchNorm1d(256, eps=1e-05, momentum=0.1, affine=True, track_running_stats=True)\n",
            "          )\n",
            "        )\n",
            "        (drop_path2): Identity()\n",
            "      )\n",
            "      (1): LevitBlock(\n",
            "        (attn): Attention(\n",
            "          (qkv): LinearNorm(\n",
            "            (linear): Linear(in_features=256, out_features=768, bias=False)\n",
            "            (bn): BatchNorm1d(768, eps=1e-05, momentum=0.1, affine=True, track_running_stats=True)\n",
            "          )\n",
            "          (proj): Sequential(\n",
            "            (0): Hardswish()\n",
            "            (1): LinearNorm(\n",
            "              (linear): Linear(in_features=256, out_features=256, bias=False)\n",
            "              (bn): BatchNorm1d(256, eps=1e-05, momentum=0.1, affine=True, track_running_stats=True)\n",
            "            )\n",
            "          )\n",
            "        )\n",
            "        (drop_path1): Identity()\n",
            "        (mlp): LevitMlp(\n",
            "          (ln1): LinearNorm(\n",
            "            (linear): Linear(in_features=256, out_features=512, bias=False)\n",
            "            (bn): BatchNorm1d(512, eps=1e-05, momentum=0.1, affine=True, track_running_stats=True)\n",
            "          )\n",
            "          (act): Hardswish()\n",
            "          (drop): Dropout(p=0.5, inplace=False)\n",
            "          (ln2): LinearNorm(\n",
            "            (linear): Linear(in_features=512, out_features=256, bias=False)\n",
            "            (bn): BatchNorm1d(256, eps=1e-05, momentum=0.1, affine=True, track_running_stats=True)\n",
            "          )\n",
            "        )\n",
            "        (drop_path2): Identity()\n",
            "      )\n",
            "      (2): LevitBlock(\n",
            "        (attn): Attention(\n",
            "          (qkv): LinearNorm(\n",
            "            (linear): Linear(in_features=256, out_features=768, bias=False)\n",
            "            (bn): BatchNorm1d(768, eps=1e-05, momentum=0.1, affine=True, track_running_stats=True)\n",
            "          )\n",
            "          (proj): Sequential(\n",
            "            (0): Hardswish()\n",
            "            (1): LinearNorm(\n",
            "              (linear): Linear(in_features=256, out_features=256, bias=False)\n",
            "              (bn): BatchNorm1d(256, eps=1e-05, momentum=0.1, affine=True, track_running_stats=True)\n",
            "            )\n",
            "          )\n",
            "        )\n",
            "        (drop_path1): Identity()\n",
            "        (mlp): LevitMlp(\n",
            "          (ln1): LinearNorm(\n",
            "            (linear): Linear(in_features=256, out_features=512, bias=False)\n",
            "            (bn): BatchNorm1d(512, eps=1e-05, momentum=0.1, affine=True, track_running_stats=True)\n",
            "          )\n",
            "          (act): Hardswish()\n",
            "          (drop): Dropout(p=0.5, inplace=False)\n",
            "          (ln2): LinearNorm(\n",
            "            (linear): Linear(in_features=512, out_features=256, bias=False)\n",
            "            (bn): BatchNorm1d(256, eps=1e-05, momentum=0.1, affine=True, track_running_stats=True)\n",
            "          )\n",
            "        )\n",
            "        (drop_path2): Identity()\n",
            "      )\n",
            "      (3): LevitBlock(\n",
            "        (attn): Attention(\n",
            "          (qkv): LinearNorm(\n",
            "            (linear): Linear(in_features=256, out_features=768, bias=False)\n",
            "            (bn): BatchNorm1d(768, eps=1e-05, momentum=0.1, affine=True, track_running_stats=True)\n",
            "          )\n",
            "          (proj): Sequential(\n",
            "            (0): Hardswish()\n",
            "            (1): LinearNorm(\n",
            "              (linear): Linear(in_features=256, out_features=256, bias=False)\n",
            "              (bn): BatchNorm1d(256, eps=1e-05, momentum=0.1, affine=True, track_running_stats=True)\n",
            "            )\n",
            "          )\n",
            "        )\n",
            "        (drop_path1): Identity()\n",
            "        (mlp): LevitMlp(\n",
            "          (ln1): LinearNorm(\n",
            "            (linear): Linear(in_features=256, out_features=512, bias=False)\n",
            "            (bn): BatchNorm1d(512, eps=1e-05, momentum=0.1, affine=True, track_running_stats=True)\n",
            "          )\n",
            "          (act): Hardswish()\n",
            "          (drop): Dropout(p=0.5, inplace=False)\n",
            "          (ln2): LinearNorm(\n",
            "            (linear): Linear(in_features=512, out_features=256, bias=False)\n",
            "            (bn): BatchNorm1d(256, eps=1e-05, momentum=0.1, affine=True, track_running_stats=True)\n",
            "          )\n",
            "        )\n",
            "        (drop_path2): Identity()\n",
            "      )\n",
            "    )\n",
            "  )\n",
            "  (stage2): LevitStage_TinyFusion(\n",
            "    (downsample): CNNDownsample(\n",
            "      (conv): Conv2d(256, 384, kernel_size=(3, 3), stride=(2, 2), padding=(1, 1))\n",
            "      (act): Hardswish()\n",
            "    )\n",
            "    (blocks): Sequential(\n",
            "      (0): LevitBlock(\n",
            "        (attn): Attention(\n",
            "          (qkv): LinearNorm(\n",
            "            (linear): Linear(in_features=384, out_features=1152, bias=False)\n",
            "            (bn): BatchNorm1d(1152, eps=1e-05, momentum=0.1, affine=True, track_running_stats=True)\n",
            "          )\n",
            "          (proj): Sequential(\n",
            "            (0): Hardswish()\n",
            "            (1): LinearNorm(\n",
            "              (linear): Linear(in_features=384, out_features=384, bias=False)\n",
            "              (bn): BatchNorm1d(384, eps=1e-05, momentum=0.1, affine=True, track_running_stats=True)\n",
            "            )\n",
            "          )\n",
            "        )\n",
            "        (drop_path1): Identity()\n",
            "        (mlp): LevitMlp(\n",
            "          (ln1): LinearNorm(\n",
            "            (linear): Linear(in_features=384, out_features=768, bias=False)\n",
            "            (bn): BatchNorm1d(768, eps=1e-05, momentum=0.1, affine=True, track_running_stats=True)\n",
            "          )\n",
            "          (act): Hardswish()\n",
            "          (drop): Dropout(p=0.5, inplace=False)\n",
            "          (ln2): LinearNorm(\n",
            "            (linear): Linear(in_features=768, out_features=384, bias=False)\n",
            "            (bn): BatchNorm1d(384, eps=1e-05, momentum=0.1, affine=True, track_running_stats=True)\n",
            "          )\n",
            "        )\n",
            "        (drop_path2): Identity()\n",
            "      )\n",
            "      (1): LevitBlock(\n",
            "        (attn): Attention(\n",
            "          (qkv): LinearNorm(\n",
            "            (linear): Linear(in_features=384, out_features=1152, bias=False)\n",
            "            (bn): BatchNorm1d(1152, eps=1e-05, momentum=0.1, affine=True, track_running_stats=True)\n",
            "          )\n",
            "          (proj): Sequential(\n",
            "            (0): Hardswish()\n",
            "            (1): LinearNorm(\n",
            "              (linear): Linear(in_features=384, out_features=384, bias=False)\n",
            "              (bn): BatchNorm1d(384, eps=1e-05, momentum=0.1, affine=True, track_running_stats=True)\n",
            "            )\n",
            "          )\n",
            "        )\n",
            "        (drop_path1): Identity()\n",
            "        (mlp): LevitMlp(\n",
            "          (ln1): LinearNorm(\n",
            "            (linear): Linear(in_features=384, out_features=768, bias=False)\n",
            "            (bn): BatchNorm1d(768, eps=1e-05, momentum=0.1, affine=True, track_running_stats=True)\n",
            "          )\n",
            "          (act): Hardswish()\n",
            "          (drop): Dropout(p=0.5, inplace=False)\n",
            "          (ln2): LinearNorm(\n",
            "            (linear): Linear(in_features=768, out_features=384, bias=False)\n",
            "            (bn): BatchNorm1d(384, eps=1e-05, momentum=0.1, affine=True, track_running_stats=True)\n",
            "          )\n",
            "        )\n",
            "        (drop_path2): Identity()\n",
            "      )\n",
            "      (2): LevitBlock(\n",
            "        (attn): Attention(\n",
            "          (qkv): LinearNorm(\n",
            "            (linear): Linear(in_features=384, out_features=1152, bias=False)\n",
            "            (bn): BatchNorm1d(1152, eps=1e-05, momentum=0.1, affine=True, track_running_stats=True)\n",
            "          )\n",
            "          (proj): Sequential(\n",
            "            (0): Hardswish()\n",
            "            (1): LinearNorm(\n",
            "              (linear): Linear(in_features=384, out_features=384, bias=False)\n",
            "              (bn): BatchNorm1d(384, eps=1e-05, momentum=0.1, affine=True, track_running_stats=True)\n",
            "            )\n",
            "          )\n",
            "        )\n",
            "        (drop_path1): Identity()\n",
            "        (mlp): LevitMlp(\n",
            "          (ln1): LinearNorm(\n",
            "            (linear): Linear(in_features=384, out_features=768, bias=False)\n",
            "            (bn): BatchNorm1d(768, eps=1e-05, momentum=0.1, affine=True, track_running_stats=True)\n",
            "          )\n",
            "          (act): Hardswish()\n",
            "          (drop): Dropout(p=0.5, inplace=False)\n",
            "          (ln2): LinearNorm(\n",
            "            (linear): Linear(in_features=768, out_features=384, bias=False)\n",
            "            (bn): BatchNorm1d(384, eps=1e-05, momentum=0.1, affine=True, track_running_stats=True)\n",
            "          )\n",
            "        )\n",
            "        (drop_path2): Identity()\n",
            "      )\n",
            "      (3): LevitBlock(\n",
            "        (attn): Attention(\n",
            "          (qkv): LinearNorm(\n",
            "            (linear): Linear(in_features=384, out_features=1152, bias=False)\n",
            "            (bn): BatchNorm1d(1152, eps=1e-05, momentum=0.1, affine=True, track_running_stats=True)\n",
            "          )\n",
            "          (proj): Sequential(\n",
            "            (0): Hardswish()\n",
            "            (1): LinearNorm(\n",
            "              (linear): Linear(in_features=384, out_features=384, bias=False)\n",
            "              (bn): BatchNorm1d(384, eps=1e-05, momentum=0.1, affine=True, track_running_stats=True)\n",
            "            )\n",
            "          )\n",
            "        )\n",
            "        (drop_path1): Identity()\n",
            "        (mlp): LevitMlp(\n",
            "          (ln1): LinearNorm(\n",
            "            (linear): Linear(in_features=384, out_features=768, bias=False)\n",
            "            (bn): BatchNorm1d(768, eps=1e-05, momentum=0.1, affine=True, track_running_stats=True)\n",
            "          )\n",
            "          (act): Hardswish()\n",
            "          (drop): Dropout(p=0.5, inplace=False)\n",
            "          (ln2): LinearNorm(\n",
            "            (linear): Linear(in_features=768, out_features=384, bias=False)\n",
            "            (bn): BatchNorm1d(384, eps=1e-05, momentum=0.1, affine=True, track_running_stats=True)\n",
            "          )\n",
            "        )\n",
            "        (drop_path2): Identity()\n",
            "      )\n",
            "    )\n",
            "  )\n",
            "  (conv1x1): Sequential(\n",
            "    (0): Conv2d(384, 512, kernel_size=(1, 1), stride=(1, 1))\n",
            "    (1): BatchNorm2d(512, eps=1e-05, momentum=0.1, affine=True, track_running_stats=True)\n",
            "    (2): ReLU(inplace=True)\n",
            "  )\n",
            "  (head): NormLinear(\n",
            "    (bn): BatchNorm1d(512, eps=1e-05, momentum=0.1, affine=True, track_running_stats=True)\n",
            "    (drop): Dropout(p=0.0, inplace=False)\n",
            "    (linear): Linear(in_features=512, out_features=9, bias=True)\n",
            "  )\n",
            "  (head_dist): NormLinear(\n",
            "    (bn): BatchNorm1d(512, eps=1e-05, momentum=0.1, affine=True, track_running_stats=True)\n",
            "    (drop): Dropout(p=0.0, inplace=False)\n",
            "    (linear): Linear(in_features=512, out_features=9, bias=True)\n",
            "  )\n",
            ")\n"
          ]
        }
      ],
      "source": [
        "#model = LevitDistilled(num_classes=9)\n",
        "print(model)\n",
        "\n",
        "device = torch.device(\"cuda\" if torch.cuda.is_available() else \"cpu\")\n",
        "model = model.to(device)\n",
        "\n",
        "batch_size = 32\n",
        "learning_rate = 5e-4\n",
        "num_epochs = 100\n",
        "weight_decay = 1e-6"
      ]
    },
    {
      "cell_type": "code",
      "execution_count": 64,
      "metadata": {
        "colab": {
          "base_uri": "https://localhost:8080/"
        },
        "id": "gNpMsNYAzLDF",
        "outputId": "def51d24-3b38-4ea6-87b3-0a2599612598"
      },
      "outputs": [
        {
          "output_type": "stream",
          "name": "stdout",
          "text": [
            "=========================================================================================================\n",
            "Layer (type:depth-idx)                                  Output Shape              Param #\n",
            "=========================================================================================================\n",
            "LevitDistilledTinyfusion                                [32, 9]                   --\n",
            "├─Stem16: 1-1                                           [32, 256, 14, 14]         --\n",
            "│    └─ConvNorm: 2-1                                    [32, 32, 112, 112]        --\n",
            "│    │    └─Conv2d: 3-1                                 [32, 32, 112, 112]        864\n",
            "│    │    └─BatchNorm2d: 3-2                            [32, 32, 112, 112]        64\n",
            "│    └─Hardswish: 2-2                                   [32, 32, 112, 112]        --\n",
            "│    └─ConvNorm: 2-3                                    [32, 64, 56, 56]          --\n",
            "│    │    └─Conv2d: 3-3                                 [32, 64, 56, 56]          18,432\n",
            "│    │    └─BatchNorm2d: 3-4                            [32, 64, 56, 56]          128\n",
            "│    └─Hardswish: 2-4                                   [32, 64, 56, 56]          --\n",
            "│    └─ConvNorm: 2-5                                    [32, 128, 28, 28]         --\n",
            "│    │    └─Conv2d: 3-5                                 [32, 128, 28, 28]         73,728\n",
            "│    │    └─BatchNorm2d: 3-6                            [32, 128, 28, 28]         256\n",
            "│    └─Hardswish: 2-6                                   [32, 128, 28, 28]         --\n",
            "│    └─ConvNorm: 2-7                                    [32, 256, 14, 14]         --\n",
            "│    │    └─Conv2d: 3-7                                 [32, 256, 14, 14]         294,912\n",
            "│    │    └─BatchNorm2d: 3-8                            [32, 256, 14, 14]         512\n",
            "├─LevitStage_TinyFusion: 1-2                            [32, 196, 256]            --\n",
            "│    └─Identity: 2-8                                    [32, 196, 256]            --\n",
            "│    └─Sequential: 2-9                                  --                        1,584,400\n",
            "│    │    └─LevitBlock: 3-9                             [32, 196, 256]            527,872\n",
            "├─LevitStage_TinyFusion: 1-3                            [32, 49, 384]             --\n",
            "│    └─CNNDownsample: 2-10                              [32, 49, 384]             --\n",
            "│    │    └─Conv2d: 3-10                                [32, 384, 7, 7]           885,120\n",
            "│    │    └─Hardswish: 3-11                             [32, 384, 7, 7]           --\n",
            "│    └─Sequential: 2-11                                 --                        3,555,366\n",
            "│    │    └─LevitBlock: 3-12                            [32, 49, 384]             1,185,024\n",
            "├─Sequential: 1-4                                       [32, 512, 7, 7]           --\n",
            "│    └─Conv2d: 2-12                                     [32, 512, 7, 7]           197,120\n",
            "│    └─BatchNorm2d: 2-13                                [32, 512, 7, 7]           1,024\n",
            "│    └─ReLU: 2-14                                       [32, 512, 7, 7]           --\n",
            "├─NormLinear: 1-5                                       [32, 9]                   --\n",
            "│    └─BatchNorm1d: 2-15                                [32, 512]                 1,024\n",
            "│    └─Dropout: 2-16                                    [32, 512]                 --\n",
            "│    └─Linear: 2-17                                     [32, 9]                   4,617\n",
            "├─NormLinear: 1-6                                       [32, 9]                   --\n",
            "│    └─BatchNorm1d: 2-18                                [32, 512]                 1,024\n",
            "│    └─Dropout: 2-19                                    [32, 512]                 --\n",
            "│    └─Linear: 2-20                                     [32, 9]                   4,617\n",
            "=========================================================================================================\n",
            "Total params: 8,336,104\n",
            "Trainable params: 8,336,104\n",
            "Non-trainable params: 0\n",
            "Total mult-adds (Units.GIGABYTES): 12.76\n",
            "=========================================================================================================\n",
            "Input size (MB): 19.27\n",
            "Forward/backward pass size (MB): 650.55\n",
            "Params size (MB): 12.79\n",
            "Estimated Total Size (MB): 682.60\n",
            "=========================================================================================================\n"
          ]
        }
      ],
      "source": [
        "print(summary(model, input_size=(32, 3, 224, 224), tau = 10))"
      ]
    },
    {
      "cell_type": "code",
      "execution_count": 65,
      "metadata": {
        "colab": {
          "base_uri": "https://localhost:8080/"
        },
        "collapsed": true,
        "id": "qDELjYy2zP90",
        "outputId": "3209b33c-5242-4371-dd0b-0f90fbcfd54c"
      },
      "outputs": [
        {
          "output_type": "stream",
          "name": "stdout",
          "text": [
            "=========================================================================================================\n",
            "Layer (type:depth-idx)                                  Output Shape              Param #\n",
            "=========================================================================================================\n",
            "LevitDistilledTinyfusion                                [32, 9]                   --\n",
            "├─Stem16: 1-1                                           [32, 256, 14, 14]         --\n",
            "│    └─conv1.linear.weight                                                        ├─864\n",
            "│    └─conv1.bn.weight                                                            ├─32\n",
            "│    └─conv1.bn.bias                                                              ├─32\n",
            "│    └─conv2.linear.weight                                                        ├─18,432\n",
            "│    └─conv2.bn.weight                                                            ├─64\n",
            "│    └─conv2.bn.bias                                                              ├─64\n",
            "│    └─conv3.linear.weight                                                        ├─73,728\n",
            "│    └─conv3.bn.weight                                                            ├─128\n",
            "│    └─conv3.bn.bias                                                              ├─128\n",
            "│    └─conv4.linear.weight                                                        ├─294,912\n",
            "│    └─conv4.bn.weight                                                            ├─256\n",
            "│    └─conv4.bn.bias                                                              └─256\n",
            "│    └─ConvNorm: 2-1                                    [32, 32, 112, 112]        --\n",
            "│    │    └─linear.weight                                                         ├─864\n",
            "│    │    └─bn.weight                                                             ├─32\n",
            "│    │    └─bn.bias                                                               └─32\n",
            "│    │    └─Conv2d: 3-1                                 [32, 32, 112, 112]        864\n",
            "│    │    │    └─weight                                                           └─864\n",
            "│    │    └─BatchNorm2d: 3-2                            [32, 32, 112, 112]        64\n",
            "│    │    │    └─weight                                                           ├─32\n",
            "│    │    │    └─bias                                                             └─32\n",
            "│    └─Hardswish: 2-2                                   [32, 32, 112, 112]        --\n",
            "│    └─ConvNorm: 2-3                                    [32, 64, 56, 56]          --\n",
            "│    │    └─linear.weight                                                         ├─18,432\n",
            "│    │    └─bn.weight                                                             ├─64\n",
            "│    │    └─bn.bias                                                               └─64\n",
            "│    │    └─Conv2d: 3-3                                 [32, 64, 56, 56]          18,432\n",
            "│    │    │    └─weight                                                           └─18,432\n",
            "│    │    └─BatchNorm2d: 3-4                            [32, 64, 56, 56]          128\n",
            "│    │    │    └─weight                                                           ├─64\n",
            "│    │    │    └─bias                                                             └─64\n",
            "│    └─Hardswish: 2-4                                   [32, 64, 56, 56]          --\n",
            "│    └─ConvNorm: 2-5                                    [32, 128, 28, 28]         --\n",
            "│    │    └─linear.weight                                                         ├─73,728\n",
            "│    │    └─bn.weight                                                             ├─128\n",
            "│    │    └─bn.bias                                                               └─128\n",
            "│    │    └─Conv2d: 3-5                                 [32, 128, 28, 28]         73,728\n",
            "│    │    │    └─weight                                                           └─73,728\n",
            "│    │    └─BatchNorm2d: 3-6                            [32, 128, 28, 28]         256\n",
            "│    │    │    └─weight                                                           ├─128\n",
            "│    │    │    └─bias                                                             └─128\n",
            "│    └─Hardswish: 2-6                                   [32, 128, 28, 28]         --\n",
            "│    └─ConvNorm: 2-7                                    [32, 256, 14, 14]         --\n",
            "│    │    └─linear.weight                                                         ├─294,912\n",
            "│    │    └─bn.weight                                                             ├─256\n",
            "│    │    └─bn.bias                                                               └─256\n",
            "│    │    └─Conv2d: 3-7                                 [32, 256, 14, 14]         294,912\n",
            "│    │    │    └─weight                                                           └─294,912\n",
            "│    │    └─BatchNorm2d: 3-8                            [32, 256, 14, 14]         512\n",
            "│    │    │    └─weight                                                           ├─256\n",
            "│    │    │    └─bias                                                             └─256\n",
            "├─LevitStage_TinyFusion: 1-2                            [32, 196, 256]            4\n",
            "│    └─gumbel_gate                                                                ├─4\n",
            "│    └─blocks.0.attn.qkv.linear.weight                                            ├─196,608\n",
            "│    └─blocks.0.attn.qkv.bn.weight                                                ├─768\n",
            "│    └─blocks.0.attn.qkv.bn.bias                                                  ├─768\n",
            "│    └─blocks.0.attn.proj.1.linear.weight                                         ├─65,536\n",
            "│    └─blocks.0.attn.proj.1.bn.weight                                             ├─256\n",
            "│    └─blocks.0.attn.proj.1.bn.bias                                               ├─256\n",
            "│    └─blocks.0.mlp.ln1.linear.weight                                             ├─131,072\n",
            "│    └─blocks.0.mlp.ln1.bn.weight                                                 ├─512\n",
            "│    └─blocks.0.mlp.ln1.bn.bias                                                   ├─512\n",
            "│    └─blocks.0.mlp.ln2.linear.weight                                             ├─131,072\n",
            "│    └─blocks.0.mlp.ln2.bn.weight                                                 ├─256\n",
            "│    └─blocks.0.mlp.ln2.bn.bias                                                   ├─256\n",
            "│    └─blocks.1.attn.qkv.linear.weight                                            ├─196,608\n",
            "│    └─blocks.1.attn.qkv.bn.weight                                                ├─768\n",
            "│    └─blocks.1.attn.qkv.bn.bias                                                  ├─768\n",
            "│    └─blocks.1.attn.proj.1.linear.weight                                         ├─65,536\n",
            "│    └─blocks.1.attn.proj.1.bn.weight                                             ├─256\n",
            "│    └─blocks.1.attn.proj.1.bn.bias                                               ├─256\n",
            "│    └─blocks.1.mlp.ln1.linear.weight                                             ├─131,072\n",
            "│    └─blocks.1.mlp.ln1.bn.weight                                                 ├─512\n",
            "│    └─blocks.1.mlp.ln1.bn.bias                                                   ├─512\n",
            "│    └─blocks.1.mlp.ln2.linear.weight                                             ├─131,072\n",
            "│    └─blocks.1.mlp.ln2.bn.weight                                                 ├─256\n",
            "│    └─blocks.1.mlp.ln2.bn.bias                                                   ├─256\n",
            "│    └─blocks.2.attn.qkv.linear.weight                                            ├─196,608\n",
            "│    └─blocks.2.attn.qkv.bn.weight                                                ├─768\n",
            "│    └─blocks.2.attn.qkv.bn.bias                                                  ├─768\n",
            "│    └─blocks.2.attn.proj.1.linear.weight                                         ├─65,536\n",
            "│    └─blocks.2.attn.proj.1.bn.weight                                             ├─256\n",
            "│    └─blocks.2.attn.proj.1.bn.bias                                               ├─256\n",
            "│    └─blocks.2.mlp.ln1.linear.weight                                             ├─131,072\n",
            "│    └─blocks.2.mlp.ln1.bn.weight                                                 ├─512\n",
            "│    └─blocks.2.mlp.ln1.bn.bias                                                   ├─512\n",
            "│    └─blocks.2.mlp.ln2.linear.weight                                             ├─131,072\n",
            "│    └─blocks.2.mlp.ln2.bn.weight                                                 ├─256\n",
            "│    └─blocks.2.mlp.ln2.bn.bias                                                   ├─256\n",
            "│    └─blocks.3.attn.attention_biases                                             ├─784\n",
            "│    └─blocks.3.attn.qkv.linear.weight                                            ├─196,608\n",
            "│    └─blocks.3.attn.qkv.bn.weight                                                ├─768\n",
            "│    └─blocks.3.attn.qkv.bn.bias                                                  ├─768\n",
            "│    └─blocks.3.attn.proj.1.linear.weight                                         ├─65,536\n",
            "│    └─blocks.3.attn.proj.1.bn.weight                                             ├─256\n",
            "│    └─blocks.3.attn.proj.1.bn.bias                                               ├─256\n",
            "│    └─blocks.3.mlp.ln1.linear.weight                                             ├─131,072\n",
            "│    └─blocks.3.mlp.ln1.bn.weight                                                 ├─512\n",
            "│    └─blocks.3.mlp.ln1.bn.bias                                                   ├─512\n",
            "│    └─blocks.3.mlp.ln2.linear.weight                                             ├─131,072\n",
            "│    └─blocks.3.mlp.ln2.bn.weight                                                 ├─256\n",
            "│    └─blocks.3.mlp.ln2.bn.bias                                                   └─256\n",
            "│    └─Identity: 2-8                                    [32, 196, 256]            --\n",
            "│    └─Sequential: 2-9                                  --                        1,583,616\n",
            "│    │    └─0.attn.qkv.linear.weight                                              ├─196,608\n",
            "│    │    └─0.attn.qkv.bn.weight                                                  ├─768\n",
            "│    │    └─0.attn.qkv.bn.bias                                                    ├─768\n",
            "│    │    └─0.attn.proj.1.linear.weight                                           ├─65,536\n",
            "│    │    └─0.attn.proj.1.bn.weight                                               ├─256\n",
            "│    │    └─0.attn.proj.1.bn.bias                                                 ├─256\n",
            "│    │    └─0.mlp.ln1.linear.weight                                               ├─131,072\n",
            "│    │    └─0.mlp.ln1.bn.weight                                                   ├─512\n",
            "│    │    └─0.mlp.ln1.bn.bias                                                     ├─512\n",
            "│    │    └─0.mlp.ln2.linear.weight                                               ├─131,072\n",
            "│    │    └─0.mlp.ln2.bn.weight                                                   ├─256\n",
            "│    │    └─0.mlp.ln2.bn.bias                                                     ├─256\n",
            "│    │    └─1.attn.qkv.linear.weight                                              ├─196,608\n",
            "│    │    └─1.attn.qkv.bn.weight                                                  ├─768\n",
            "│    │    └─1.attn.qkv.bn.bias                                                    ├─768\n",
            "│    │    └─1.attn.proj.1.linear.weight                                           ├─65,536\n",
            "│    │    └─1.attn.proj.1.bn.weight                                               ├─256\n",
            "│    │    └─1.attn.proj.1.bn.bias                                                 ├─256\n",
            "│    │    └─1.mlp.ln1.linear.weight                                               ├─131,072\n",
            "│    │    └─1.mlp.ln1.bn.weight                                                   ├─512\n",
            "│    │    └─1.mlp.ln1.bn.bias                                                     ├─512\n",
            "│    │    └─1.mlp.ln2.linear.weight                                               ├─131,072\n",
            "│    │    └─1.mlp.ln2.bn.weight                                                   ├─256\n",
            "│    │    └─1.mlp.ln2.bn.bias                                                     ├─256\n",
            "│    │    └─2.attn.qkv.linear.weight                                              ├─196,608\n",
            "│    │    └─2.attn.qkv.bn.weight                                                  ├─768\n",
            "│    │    └─2.attn.qkv.bn.bias                                                    ├─768\n",
            "│    │    └─2.attn.proj.1.linear.weight                                           ├─65,536\n",
            "│    │    └─2.attn.proj.1.bn.weight                                               ├─256\n",
            "│    │    └─2.attn.proj.1.bn.bias                                                 ├─256\n",
            "│    │    └─2.mlp.ln1.linear.weight                                               ├─131,072\n",
            "│    │    └─2.mlp.ln1.bn.weight                                                   ├─512\n",
            "│    │    └─2.mlp.ln1.bn.bias                                                     ├─512\n",
            "│    │    └─2.mlp.ln2.linear.weight                                               ├─131,072\n",
            "│    │    └─2.mlp.ln2.bn.weight                                                   ├─256\n",
            "│    │    └─2.mlp.ln2.bn.bias                                                     ├─256\n",
            "│    │    └─3.attn.attention_biases                                               ├─784\n",
            "│    │    └─3.attn.qkv.linear.weight                                              ├─196,608\n",
            "│    │    └─3.attn.qkv.bn.weight                                                  ├─768\n",
            "│    │    └─3.attn.qkv.bn.bias                                                    ├─768\n",
            "│    │    └─3.attn.proj.1.linear.weight                                           ├─65,536\n",
            "│    │    └─3.attn.proj.1.bn.weight                                               ├─256\n",
            "│    │    └─3.attn.proj.1.bn.bias                                                 ├─256\n",
            "│    │    └─3.mlp.ln1.linear.weight                                               ├─131,072\n",
            "│    │    └─3.mlp.ln1.bn.weight                                                   ├─512\n",
            "│    │    └─3.mlp.ln1.bn.bias                                                     ├─512\n",
            "│    │    └─3.mlp.ln2.linear.weight                                               ├─131,072\n",
            "│    │    └─3.mlp.ln2.bn.weight                                                   ├─256\n",
            "│    │    └─3.mlp.ln2.bn.bias                                                     └─256\n",
            "│    │    └─LevitBlock: 3-9                             [32, 196, 256]            528,656\n",
            "│    │    │    └─attn.attention_biases                                            ├─784\n",
            "│    │    │    └─attn.qkv.linear.weight                                           ├─196,608\n",
            "│    │    │    └─attn.qkv.bn.weight                                               ├─768\n",
            "│    │    │    └─attn.qkv.bn.bias                                                 ├─768\n",
            "│    │    │    └─attn.proj.1.linear.weight                                        ├─65,536\n",
            "│    │    │    └─attn.proj.1.bn.weight                                            ├─256\n",
            "│    │    │    └─attn.proj.1.bn.bias                                              ├─256\n",
            "│    │    │    └─mlp.ln1.linear.weight                                            ├─131,072\n",
            "│    │    │    └─mlp.ln1.bn.weight                                                ├─512\n",
            "│    │    │    └─mlp.ln1.bn.bias                                                  ├─512\n",
            "│    │    │    └─mlp.ln2.linear.weight                                            ├─131,072\n",
            "│    │    │    └─mlp.ln2.bn.weight                                                ├─256\n",
            "│    │    │    └─mlp.ln2.bn.bias                                                  └─256\n",
            "├─LevitStage_TinyFusion: 1-3                            [32, 49, 384]             --\n",
            "│    └─gumbel_gate                                                                ├─4\n",
            "│    └─downsample.conv.weight                                                     ├─884,736\n",
            "│    └─downsample.conv.bias                                                       ├─384\n",
            "│    └─blocks.0.attn.qkv.linear.weight                                            ├─442,368\n",
            "│    └─blocks.0.attn.qkv.bn.weight                                                ├─1,152\n",
            "│    └─blocks.0.attn.qkv.bn.bias                                                  ├─1,152\n",
            "│    └─blocks.0.attn.proj.1.linear.weight                                         ├─147,456\n",
            "│    └─blocks.0.attn.proj.1.bn.weight                                             ├─384\n",
            "│    └─blocks.0.attn.proj.1.bn.bias                                               ├─384\n",
            "│    └─blocks.0.mlp.ln1.linear.weight                                             ├─294,912\n",
            "│    └─blocks.0.mlp.ln1.bn.weight                                                 ├─768\n",
            "│    └─blocks.0.mlp.ln1.bn.bias                                                   ├─768\n",
            "│    └─blocks.0.mlp.ln2.linear.weight                                             ├─294,912\n",
            "│    └─blocks.0.mlp.ln2.bn.weight                                                 ├─384\n",
            "│    └─blocks.0.mlp.ln2.bn.bias                                                   ├─384\n",
            "│    └─blocks.1.attn.qkv.linear.weight                                            ├─442,368\n",
            "│    └─blocks.1.attn.qkv.bn.weight                                                ├─1,152\n",
            "│    └─blocks.1.attn.qkv.bn.bias                                                  ├─1,152\n",
            "│    └─blocks.1.attn.proj.1.linear.weight                                         ├─147,456\n",
            "│    └─blocks.1.attn.proj.1.bn.weight                                             ├─384\n",
            "│    └─blocks.1.attn.proj.1.bn.bias                                               ├─384\n",
            "│    └─blocks.1.mlp.ln1.linear.weight                                             ├─294,912\n",
            "│    └─blocks.1.mlp.ln1.bn.weight                                                 ├─768\n",
            "│    └─blocks.1.mlp.ln1.bn.bias                                                   ├─768\n",
            "│    └─blocks.1.mlp.ln2.linear.weight                                             ├─294,912\n",
            "│    └─blocks.1.mlp.ln2.bn.weight                                                 ├─384\n",
            "│    └─blocks.1.mlp.ln2.bn.bias                                                   ├─384\n",
            "│    └─blocks.2.attn.qkv.linear.weight                                            ├─442,368\n",
            "│    └─blocks.2.attn.qkv.bn.weight                                                ├─1,152\n",
            "│    └─blocks.2.attn.qkv.bn.bias                                                  ├─1,152\n",
            "│    └─blocks.2.attn.proj.1.linear.weight                                         ├─147,456\n",
            "│    └─blocks.2.attn.proj.1.bn.weight                                             ├─384\n",
            "│    └─blocks.2.attn.proj.1.bn.bias                                               ├─384\n",
            "│    └─blocks.2.mlp.ln1.linear.weight                                             ├─294,912\n",
            "│    └─blocks.2.mlp.ln1.bn.weight                                                 ├─768\n",
            "│    └─blocks.2.mlp.ln1.bn.bias                                                   ├─768\n",
            "│    └─blocks.2.mlp.ln2.linear.weight                                             ├─294,912\n",
            "│    └─blocks.2.mlp.ln2.bn.weight                                                 ├─384\n",
            "│    └─blocks.2.mlp.ln2.bn.bias                                                   ├─384\n",
            "│    └─blocks.3.attn.attention_biases                                             ├─294\n",
            "│    └─blocks.3.attn.qkv.linear.weight                                            ├─442,368\n",
            "│    └─blocks.3.attn.qkv.bn.weight                                                ├─1,152\n",
            "│    └─blocks.3.attn.qkv.bn.bias                                                  ├─1,152\n",
            "│    └─blocks.3.attn.proj.1.linear.weight                                         ├─147,456\n",
            "│    └─blocks.3.attn.proj.1.bn.weight                                             ├─384\n",
            "│    └─blocks.3.attn.proj.1.bn.bias                                               ├─384\n",
            "│    └─blocks.3.mlp.ln1.linear.weight                                             ├─294,912\n",
            "│    └─blocks.3.mlp.ln1.bn.weight                                                 ├─768\n",
            "│    └─blocks.3.mlp.ln1.bn.bias                                                   ├─768\n",
            "│    └─blocks.3.mlp.ln2.linear.weight                                             ├─294,912\n",
            "│    └─blocks.3.mlp.ln2.bn.weight                                                 ├─384\n",
            "│    └─blocks.3.mlp.ln2.bn.bias                                                   └─384\n",
            "│    └─CNNDownsample: 2-10                              [32, 49, 384]             --\n",
            "│    │    └─conv.weight                                                           ├─884,736\n",
            "│    │    └─conv.bias                                                             └─384\n",
            "│    │    └─Conv2d: 3-10                                [32, 384, 7, 7]           885,120\n",
            "│    │    │    └─weight                                                           ├─884,736\n",
            "│    │    │    └─bias                                                             └─384\n",
            "│    │    └─Hardswish: 3-11                             [32, 384, 7, 7]           --\n",
            "│    └─Sequential: 2-11                                 --                        3,555,660\n",
            "│    │    └─0.attn.qkv.linear.weight                                              ├─442,368\n",
            "│    │    └─0.attn.qkv.bn.weight                                                  ├─1,152\n",
            "│    │    └─0.attn.qkv.bn.bias                                                    ├─1,152\n",
            "│    │    └─0.attn.proj.1.linear.weight                                           ├─147,456\n",
            "│    │    └─0.attn.proj.1.bn.weight                                               ├─384\n",
            "│    │    └─0.attn.proj.1.bn.bias                                                 ├─384\n",
            "│    │    └─0.mlp.ln1.linear.weight                                               ├─294,912\n",
            "│    │    └─0.mlp.ln1.bn.weight                                                   ├─768\n",
            "│    │    └─0.mlp.ln1.bn.bias                                                     ├─768\n",
            "│    │    └─0.mlp.ln2.linear.weight                                               ├─294,912\n",
            "│    │    └─0.mlp.ln2.bn.weight                                                   ├─384\n",
            "│    │    └─0.mlp.ln2.bn.bias                                                     ├─384\n",
            "│    │    └─1.attn.attention_biases                                               ├─294\n",
            "│    │    └─1.attn.qkv.linear.weight                                              ├─442,368\n",
            "│    │    └─1.attn.qkv.bn.weight                                                  ├─1,152\n",
            "│    │    └─1.attn.qkv.bn.bias                                                    ├─1,152\n",
            "│    │    └─1.attn.proj.1.linear.weight                                           ├─147,456\n",
            "│    │    └─1.attn.proj.1.bn.weight                                               ├─384\n",
            "│    │    └─1.attn.proj.1.bn.bias                                                 ├─384\n",
            "│    │    └─1.mlp.ln1.linear.weight                                               ├─294,912\n",
            "│    │    └─1.mlp.ln1.bn.weight                                                   ├─768\n",
            "│    │    └─1.mlp.ln1.bn.bias                                                     ├─768\n",
            "│    │    └─1.mlp.ln2.linear.weight                                               ├─294,912\n",
            "│    │    └─1.mlp.ln2.bn.weight                                                   ├─384\n",
            "│    │    └─1.mlp.ln2.bn.bias                                                     ├─384\n",
            "│    │    └─2.attn.qkv.linear.weight                                              ├─442,368\n",
            "│    │    └─2.attn.qkv.bn.weight                                                  ├─1,152\n",
            "│    │    └─2.attn.qkv.bn.bias                                                    ├─1,152\n",
            "│    │    └─2.attn.proj.1.linear.weight                                           ├─147,456\n",
            "│    │    └─2.attn.proj.1.bn.weight                                               ├─384\n",
            "│    │    └─2.attn.proj.1.bn.bias                                                 ├─384\n",
            "│    │    └─2.mlp.ln1.linear.weight                                               ├─294,912\n",
            "│    │    └─2.mlp.ln1.bn.weight                                                   ├─768\n",
            "│    │    └─2.mlp.ln1.bn.bias                                                     ├─768\n",
            "│    │    └─2.mlp.ln2.linear.weight                                               ├─294,912\n",
            "│    │    └─2.mlp.ln2.bn.weight                                                   ├─384\n",
            "│    │    └─2.mlp.ln2.bn.bias                                                     ├─384\n",
            "│    │    └─3.attn.attention_biases                                               ├─294\n",
            "│    │    └─3.attn.qkv.linear.weight                                              ├─442,368\n",
            "│    │    └─3.attn.qkv.bn.weight                                                  ├─1,152\n",
            "│    │    └─3.attn.qkv.bn.bias                                                    ├─1,152\n",
            "│    │    └─3.attn.proj.1.linear.weight                                           ├─147,456\n",
            "│    │    └─3.attn.proj.1.bn.weight                                               ├─384\n",
            "│    │    └─3.attn.proj.1.bn.bias                                                 ├─384\n",
            "│    │    └─3.mlp.ln1.linear.weight                                               ├─294,912\n",
            "│    │    └─3.mlp.ln1.bn.weight                                                   ├─768\n",
            "│    │    └─3.mlp.ln1.bn.bias                                                     ├─768\n",
            "│    │    └─3.mlp.ln2.linear.weight                                               ├─294,912\n",
            "│    │    └─3.mlp.ln2.bn.weight                                                   ├─384\n",
            "│    │    └─3.mlp.ln2.bn.bias                                                     └─384\n",
            "│    │    └─LevitBlock: 3-12                            [32, 49, 384]             1,185,024\n",
            "│    │    │    └─attn.qkv.linear.weight                                           ├─442,368\n",
            "│    │    │    └─attn.qkv.bn.weight                                               ├─1,152\n",
            "│    │    │    └─attn.qkv.bn.bias                                                 ├─1,152\n",
            "│    │    │    └─attn.proj.1.linear.weight                                        ├─147,456\n",
            "│    │    │    └─attn.proj.1.bn.weight                                            ├─384\n",
            "│    │    │    └─attn.proj.1.bn.bias                                              ├─384\n",
            "│    │    │    └─mlp.ln1.linear.weight                                            ├─294,912\n",
            "│    │    │    └─mlp.ln1.bn.weight                                                ├─768\n",
            "│    │    │    └─mlp.ln1.bn.bias                                                  ├─768\n",
            "│    │    │    └─mlp.ln2.linear.weight                                            ├─294,912\n",
            "│    │    │    └─mlp.ln2.bn.weight                                                ├─384\n",
            "│    │    │    └─mlp.ln2.bn.bias                                                  └─384\n",
            "├─Sequential: 1-4                                       [32, 512, 7, 7]           --\n",
            "│    └─0.weight                                                                   ├─196,608\n",
            "│    └─0.bias                                                                     ├─512\n",
            "│    └─1.weight                                                                   ├─512\n",
            "│    └─1.bias                                                                     └─512\n",
            "│    └─Conv2d: 2-12                                     [32, 512, 7, 7]           197,120\n",
            "│    │    └─weight                                                                ├─196,608\n",
            "│    │    └─bias                                                                  └─512\n",
            "│    └─BatchNorm2d: 2-13                                [32, 512, 7, 7]           1,024\n",
            "│    │    └─weight                                                                ├─512\n",
            "│    │    └─bias                                                                  └─512\n",
            "│    └─ReLU: 2-14                                       [32, 512, 7, 7]           --\n",
            "├─NormLinear: 1-5                                       [32, 9]                   --\n",
            "│    └─bn.weight                                                                  ├─512\n",
            "│    └─bn.bias                                                                    ├─512\n",
            "│    └─linear.weight                                                              ├─4,608\n",
            "│    └─linear.bias                                                                └─9\n",
            "│    └─BatchNorm1d: 2-15                                [32, 512]                 1,024\n",
            "│    │    └─weight                                                                ├─512\n",
            "│    │    └─bias                                                                  └─512\n",
            "│    └─Dropout: 2-16                                    [32, 512]                 --\n",
            "│    └─Linear: 2-17                                     [32, 9]                   4,617\n",
            "│    │    └─weight                                                                ├─4,608\n",
            "│    │    └─bias                                                                  └─9\n",
            "├─NormLinear: 1-6                                       [32, 9]                   --\n",
            "│    └─bn.weight                                                                  ├─512\n",
            "│    └─bn.bias                                                                    ├─512\n",
            "│    └─linear.weight                                                              ├─4,608\n",
            "│    └─linear.bias                                                                └─9\n",
            "│    └─BatchNorm1d: 2-18                                [32, 512]                 1,024\n",
            "│    │    └─weight                                                                ├─512\n",
            "│    │    └─bias                                                                  └─512\n",
            "│    └─Dropout: 2-19                                    [32, 512]                 --\n",
            "│    └─Linear: 2-20                                     [32, 9]                   4,617\n",
            "│    │    └─weight                                                                ├─4,608\n",
            "│    │    └─bias                                                                  └─9\n",
            "=========================================================================================================\n",
            "Total params: 8,336,402\n",
            "Trainable params: 8,336,402\n",
            "Non-trainable params: 0\n",
            "Total mult-adds (Units.GIGABYTES): 12.76\n",
            "=========================================================================================================\n",
            "Input size (MB): 19.27\n",
            "Forward/backward pass size (MB): 650.55\n",
            "Params size (MB): 12.79\n",
            "Estimated Total Size (MB): 682.60\n",
            "=========================================================================================================\n",
            "=========================================================================================================\n",
            "Layer (type:depth-idx)                                  Output Shape              Param #\n",
            "=========================================================================================================\n",
            "LevitDistilledTinyfusion                                [32, 9]                   --\n",
            "├─Stem16: 1-1                                           [32, 256, 14, 14]         --\n",
            "│    └─conv1.linear.weight                                                        ├─864\n",
            "│    └─conv1.bn.weight                                                            ├─32\n",
            "│    └─conv1.bn.bias                                                              ├─32\n",
            "│    └─conv2.linear.weight                                                        ├─18,432\n",
            "│    └─conv2.bn.weight                                                            ├─64\n",
            "│    └─conv2.bn.bias                                                              ├─64\n",
            "│    └─conv3.linear.weight                                                        ├─73,728\n",
            "│    └─conv3.bn.weight                                                            ├─128\n",
            "│    └─conv3.bn.bias                                                              ├─128\n",
            "│    └─conv4.linear.weight                                                        ├─294,912\n",
            "│    └─conv4.bn.weight                                                            ├─256\n",
            "│    └─conv4.bn.bias                                                              └─256\n",
            "│    └─ConvNorm: 2-1                                    [32, 32, 112, 112]        --\n",
            "│    │    └─linear.weight                                                         ├─864\n",
            "│    │    └─bn.weight                                                             ├─32\n",
            "│    │    └─bn.bias                                                               └─32\n",
            "│    │    └─Conv2d: 3-1                                 [32, 32, 112, 112]        864\n",
            "│    │    │    └─weight                                                           └─864\n",
            "│    │    └─BatchNorm2d: 3-2                            [32, 32, 112, 112]        64\n",
            "│    │    │    └─weight                                                           ├─32\n",
            "│    │    │    └─bias                                                             └─32\n",
            "│    └─Hardswish: 2-2                                   [32, 32, 112, 112]        --\n",
            "│    └─ConvNorm: 2-3                                    [32, 64, 56, 56]          --\n",
            "│    │    └─linear.weight                                                         ├─18,432\n",
            "│    │    └─bn.weight                                                             ├─64\n",
            "│    │    └─bn.bias                                                               └─64\n",
            "│    │    └─Conv2d: 3-3                                 [32, 64, 56, 56]          18,432\n",
            "│    │    │    └─weight                                                           └─18,432\n",
            "│    │    └─BatchNorm2d: 3-4                            [32, 64, 56, 56]          128\n",
            "│    │    │    └─weight                                                           ├─64\n",
            "│    │    │    └─bias                                                             └─64\n",
            "│    └─Hardswish: 2-4                                   [32, 64, 56, 56]          --\n",
            "│    └─ConvNorm: 2-5                                    [32, 128, 28, 28]         --\n",
            "│    │    └─linear.weight                                                         ├─73,728\n",
            "│    │    └─bn.weight                                                             ├─128\n",
            "│    │    └─bn.bias                                                               └─128\n",
            "│    │    └─Conv2d: 3-5                                 [32, 128, 28, 28]         73,728\n",
            "│    │    │    └─weight                                                           └─73,728\n",
            "│    │    └─BatchNorm2d: 3-6                            [32, 128, 28, 28]         256\n",
            "│    │    │    └─weight                                                           ├─128\n",
            "│    │    │    └─bias                                                             └─128\n",
            "│    └─Hardswish: 2-6                                   [32, 128, 28, 28]         --\n",
            "│    └─ConvNorm: 2-7                                    [32, 256, 14, 14]         --\n",
            "│    │    └─linear.weight                                                         ├─294,912\n",
            "│    │    └─bn.weight                                                             ├─256\n",
            "│    │    └─bn.bias                                                               └─256\n",
            "│    │    └─Conv2d: 3-7                                 [32, 256, 14, 14]         294,912\n",
            "│    │    │    └─weight                                                           └─294,912\n",
            "│    │    └─BatchNorm2d: 3-8                            [32, 256, 14, 14]         512\n",
            "│    │    │    └─weight                                                           ├─256\n",
            "│    │    │    └─bias                                                             └─256\n",
            "├─LevitStage_TinyFusion: 1-2                            [32, 196, 256]            4\n",
            "│    └─gumbel_gate                                                                ├─4\n",
            "│    └─blocks.0.attn.qkv.linear.weight                                            ├─196,608\n",
            "│    └─blocks.0.attn.qkv.bn.weight                                                ├─768\n",
            "│    └─blocks.0.attn.qkv.bn.bias                                                  ├─768\n",
            "│    └─blocks.0.attn.proj.1.linear.weight                                         ├─65,536\n",
            "│    └─blocks.0.attn.proj.1.bn.weight                                             ├─256\n",
            "│    └─blocks.0.attn.proj.1.bn.bias                                               ├─256\n",
            "│    └─blocks.0.mlp.ln1.linear.weight                                             ├─131,072\n",
            "│    └─blocks.0.mlp.ln1.bn.weight                                                 ├─512\n",
            "│    └─blocks.0.mlp.ln1.bn.bias                                                   ├─512\n",
            "│    └─blocks.0.mlp.ln2.linear.weight                                             ├─131,072\n",
            "│    └─blocks.0.mlp.ln2.bn.weight                                                 ├─256\n",
            "│    └─blocks.0.mlp.ln2.bn.bias                                                   ├─256\n",
            "│    └─blocks.1.attn.qkv.linear.weight                                            ├─196,608\n",
            "│    └─blocks.1.attn.qkv.bn.weight                                                ├─768\n",
            "│    └─blocks.1.attn.qkv.bn.bias                                                  ├─768\n",
            "│    └─blocks.1.attn.proj.1.linear.weight                                         ├─65,536\n",
            "│    └─blocks.1.attn.proj.1.bn.weight                                             ├─256\n",
            "│    └─blocks.1.attn.proj.1.bn.bias                                               ├─256\n",
            "│    └─blocks.1.mlp.ln1.linear.weight                                             ├─131,072\n",
            "│    └─blocks.1.mlp.ln1.bn.weight                                                 ├─512\n",
            "│    └─blocks.1.mlp.ln1.bn.bias                                                   ├─512\n",
            "│    └─blocks.1.mlp.ln2.linear.weight                                             ├─131,072\n",
            "│    └─blocks.1.mlp.ln2.bn.weight                                                 ├─256\n",
            "│    └─blocks.1.mlp.ln2.bn.bias                                                   ├─256\n",
            "│    └─blocks.2.attn.qkv.linear.weight                                            ├─196,608\n",
            "│    └─blocks.2.attn.qkv.bn.weight                                                ├─768\n",
            "│    └─blocks.2.attn.qkv.bn.bias                                                  ├─768\n",
            "│    └─blocks.2.attn.proj.1.linear.weight                                         ├─65,536\n",
            "│    └─blocks.2.attn.proj.1.bn.weight                                             ├─256\n",
            "│    └─blocks.2.attn.proj.1.bn.bias                                               ├─256\n",
            "│    └─blocks.2.mlp.ln1.linear.weight                                             ├─131,072\n",
            "│    └─blocks.2.mlp.ln1.bn.weight                                                 ├─512\n",
            "│    └─blocks.2.mlp.ln1.bn.bias                                                   ├─512\n",
            "│    └─blocks.2.mlp.ln2.linear.weight                                             ├─131,072\n",
            "│    └─blocks.2.mlp.ln2.bn.weight                                                 ├─256\n",
            "│    └─blocks.2.mlp.ln2.bn.bias                                                   ├─256\n",
            "│    └─blocks.3.attn.attention_biases                                             ├─784\n",
            "│    └─blocks.3.attn.qkv.linear.weight                                            ├─196,608\n",
            "│    └─blocks.3.attn.qkv.bn.weight                                                ├─768\n",
            "│    └─blocks.3.attn.qkv.bn.bias                                                  ├─768\n",
            "│    └─blocks.3.attn.proj.1.linear.weight                                         ├─65,536\n",
            "│    └─blocks.3.attn.proj.1.bn.weight                                             ├─256\n",
            "│    └─blocks.3.attn.proj.1.bn.bias                                               ├─256\n",
            "│    └─blocks.3.mlp.ln1.linear.weight                                             ├─131,072\n",
            "│    └─blocks.3.mlp.ln1.bn.weight                                                 ├─512\n",
            "│    └─blocks.3.mlp.ln1.bn.bias                                                   ├─512\n",
            "│    └─blocks.3.mlp.ln2.linear.weight                                             ├─131,072\n",
            "│    └─blocks.3.mlp.ln2.bn.weight                                                 ├─256\n",
            "│    └─blocks.3.mlp.ln2.bn.bias                                                   └─256\n",
            "│    └─Identity: 2-8                                    [32, 196, 256]            --\n",
            "│    └─Sequential: 2-9                                  --                        1,583,616\n",
            "│    │    └─0.attn.qkv.linear.weight                                              ├─196,608\n",
            "│    │    └─0.attn.qkv.bn.weight                                                  ├─768\n",
            "│    │    └─0.attn.qkv.bn.bias                                                    ├─768\n",
            "│    │    └─0.attn.proj.1.linear.weight                                           ├─65,536\n",
            "│    │    └─0.attn.proj.1.bn.weight                                               ├─256\n",
            "│    │    └─0.attn.proj.1.bn.bias                                                 ├─256\n",
            "│    │    └─0.mlp.ln1.linear.weight                                               ├─131,072\n",
            "│    │    └─0.mlp.ln1.bn.weight                                                   ├─512\n",
            "│    │    └─0.mlp.ln1.bn.bias                                                     ├─512\n",
            "│    │    └─0.mlp.ln2.linear.weight                                               ├─131,072\n",
            "│    │    └─0.mlp.ln2.bn.weight                                                   ├─256\n",
            "│    │    └─0.mlp.ln2.bn.bias                                                     ├─256\n",
            "│    │    └─1.attn.qkv.linear.weight                                              ├─196,608\n",
            "│    │    └─1.attn.qkv.bn.weight                                                  ├─768\n",
            "│    │    └─1.attn.qkv.bn.bias                                                    ├─768\n",
            "│    │    └─1.attn.proj.1.linear.weight                                           ├─65,536\n",
            "│    │    └─1.attn.proj.1.bn.weight                                               ├─256\n",
            "│    │    └─1.attn.proj.1.bn.bias                                                 ├─256\n",
            "│    │    └─1.mlp.ln1.linear.weight                                               ├─131,072\n",
            "│    │    └─1.mlp.ln1.bn.weight                                                   ├─512\n",
            "│    │    └─1.mlp.ln1.bn.bias                                                     ├─512\n",
            "│    │    └─1.mlp.ln2.linear.weight                                               ├─131,072\n",
            "│    │    └─1.mlp.ln2.bn.weight                                                   ├─256\n",
            "│    │    └─1.mlp.ln2.bn.bias                                                     ├─256\n",
            "│    │    └─2.attn.qkv.linear.weight                                              ├─196,608\n",
            "│    │    └─2.attn.qkv.bn.weight                                                  ├─768\n",
            "│    │    └─2.attn.qkv.bn.bias                                                    ├─768\n",
            "│    │    └─2.attn.proj.1.linear.weight                                           ├─65,536\n",
            "│    │    └─2.attn.proj.1.bn.weight                                               ├─256\n",
            "│    │    └─2.attn.proj.1.bn.bias                                                 ├─256\n",
            "│    │    └─2.mlp.ln1.linear.weight                                               ├─131,072\n",
            "│    │    └─2.mlp.ln1.bn.weight                                                   ├─512\n",
            "│    │    └─2.mlp.ln1.bn.bias                                                     ├─512\n",
            "│    │    └─2.mlp.ln2.linear.weight                                               ├─131,072\n",
            "│    │    └─2.mlp.ln2.bn.weight                                                   ├─256\n",
            "│    │    └─2.mlp.ln2.bn.bias                                                     ├─256\n",
            "│    │    └─3.attn.attention_biases                                               ├─784\n",
            "│    │    └─3.attn.qkv.linear.weight                                              ├─196,608\n",
            "│    │    └─3.attn.qkv.bn.weight                                                  ├─768\n",
            "│    │    └─3.attn.qkv.bn.bias                                                    ├─768\n",
            "│    │    └─3.attn.proj.1.linear.weight                                           ├─65,536\n",
            "│    │    └─3.attn.proj.1.bn.weight                                               ├─256\n",
            "│    │    └─3.attn.proj.1.bn.bias                                                 ├─256\n",
            "│    │    └─3.mlp.ln1.linear.weight                                               ├─131,072\n",
            "│    │    └─3.mlp.ln1.bn.weight                                                   ├─512\n",
            "│    │    └─3.mlp.ln1.bn.bias                                                     ├─512\n",
            "│    │    └─3.mlp.ln2.linear.weight                                               ├─131,072\n",
            "│    │    └─3.mlp.ln2.bn.weight                                                   ├─256\n",
            "│    │    └─3.mlp.ln2.bn.bias                                                     └─256\n",
            "│    │    └─LevitBlock: 3-9                             [32, 196, 256]            528,656\n",
            "│    │    │    └─attn.attention_biases                                            ├─784\n",
            "│    │    │    └─attn.qkv.linear.weight                                           ├─196,608\n",
            "│    │    │    └─attn.qkv.bn.weight                                               ├─768\n",
            "│    │    │    └─attn.qkv.bn.bias                                                 ├─768\n",
            "│    │    │    └─attn.proj.1.linear.weight                                        ├─65,536\n",
            "│    │    │    └─attn.proj.1.bn.weight                                            ├─256\n",
            "│    │    │    └─attn.proj.1.bn.bias                                              ├─256\n",
            "│    │    │    └─mlp.ln1.linear.weight                                            ├─131,072\n",
            "│    │    │    └─mlp.ln1.bn.weight                                                ├─512\n",
            "│    │    │    └─mlp.ln1.bn.bias                                                  ├─512\n",
            "│    │    │    └─mlp.ln2.linear.weight                                            ├─131,072\n",
            "│    │    │    └─mlp.ln2.bn.weight                                                ├─256\n",
            "│    │    │    └─mlp.ln2.bn.bias                                                  └─256\n",
            "├─LevitStage_TinyFusion: 1-3                            [32, 49, 384]             --\n",
            "│    └─gumbel_gate                                                                ├─4\n",
            "│    └─downsample.conv.weight                                                     ├─884,736\n",
            "│    └─downsample.conv.bias                                                       ├─384\n",
            "│    └─blocks.0.attn.qkv.linear.weight                                            ├─442,368\n",
            "│    └─blocks.0.attn.qkv.bn.weight                                                ├─1,152\n",
            "│    └─blocks.0.attn.qkv.bn.bias                                                  ├─1,152\n",
            "│    └─blocks.0.attn.proj.1.linear.weight                                         ├─147,456\n",
            "│    └─blocks.0.attn.proj.1.bn.weight                                             ├─384\n",
            "│    └─blocks.0.attn.proj.1.bn.bias                                               ├─384\n",
            "│    └─blocks.0.mlp.ln1.linear.weight                                             ├─294,912\n",
            "│    └─blocks.0.mlp.ln1.bn.weight                                                 ├─768\n",
            "│    └─blocks.0.mlp.ln1.bn.bias                                                   ├─768\n",
            "│    └─blocks.0.mlp.ln2.linear.weight                                             ├─294,912\n",
            "│    └─blocks.0.mlp.ln2.bn.weight                                                 ├─384\n",
            "│    └─blocks.0.mlp.ln2.bn.bias                                                   ├─384\n",
            "│    └─blocks.1.attn.qkv.linear.weight                                            ├─442,368\n",
            "│    └─blocks.1.attn.qkv.bn.weight                                                ├─1,152\n",
            "│    └─blocks.1.attn.qkv.bn.bias                                                  ├─1,152\n",
            "│    └─blocks.1.attn.proj.1.linear.weight                                         ├─147,456\n",
            "│    └─blocks.1.attn.proj.1.bn.weight                                             ├─384\n",
            "│    └─blocks.1.attn.proj.1.bn.bias                                               ├─384\n",
            "│    └─blocks.1.mlp.ln1.linear.weight                                             ├─294,912\n",
            "│    └─blocks.1.mlp.ln1.bn.weight                                                 ├─768\n",
            "│    └─blocks.1.mlp.ln1.bn.bias                                                   ├─768\n",
            "│    └─blocks.1.mlp.ln2.linear.weight                                             ├─294,912\n",
            "│    └─blocks.1.mlp.ln2.bn.weight                                                 ├─384\n",
            "│    └─blocks.1.mlp.ln2.bn.bias                                                   ├─384\n",
            "│    └─blocks.2.attn.qkv.linear.weight                                            ├─442,368\n",
            "│    └─blocks.2.attn.qkv.bn.weight                                                ├─1,152\n",
            "│    └─blocks.2.attn.qkv.bn.bias                                                  ├─1,152\n",
            "│    └─blocks.2.attn.proj.1.linear.weight                                         ├─147,456\n",
            "│    └─blocks.2.attn.proj.1.bn.weight                                             ├─384\n",
            "│    └─blocks.2.attn.proj.1.bn.bias                                               ├─384\n",
            "│    └─blocks.2.mlp.ln1.linear.weight                                             ├─294,912\n",
            "│    └─blocks.2.mlp.ln1.bn.weight                                                 ├─768\n",
            "│    └─blocks.2.mlp.ln1.bn.bias                                                   ├─768\n",
            "│    └─blocks.2.mlp.ln2.linear.weight                                             ├─294,912\n",
            "│    └─blocks.2.mlp.ln2.bn.weight                                                 ├─384\n",
            "│    └─blocks.2.mlp.ln2.bn.bias                                                   ├─384\n",
            "│    └─blocks.3.attn.attention_biases                                             ├─294\n",
            "│    └─blocks.3.attn.qkv.linear.weight                                            ├─442,368\n",
            "│    └─blocks.3.attn.qkv.bn.weight                                                ├─1,152\n",
            "│    └─blocks.3.attn.qkv.bn.bias                                                  ├─1,152\n",
            "│    └─blocks.3.attn.proj.1.linear.weight                                         ├─147,456\n",
            "│    └─blocks.3.attn.proj.1.bn.weight                                             ├─384\n",
            "│    └─blocks.3.attn.proj.1.bn.bias                                               ├─384\n",
            "│    └─blocks.3.mlp.ln1.linear.weight                                             ├─294,912\n",
            "│    └─blocks.3.mlp.ln1.bn.weight                                                 ├─768\n",
            "│    └─blocks.3.mlp.ln1.bn.bias                                                   ├─768\n",
            "│    └─blocks.3.mlp.ln2.linear.weight                                             ├─294,912\n",
            "│    └─blocks.3.mlp.ln2.bn.weight                                                 ├─384\n",
            "│    └─blocks.3.mlp.ln2.bn.bias                                                   └─384\n",
            "│    └─CNNDownsample: 2-10                              [32, 49, 384]             --\n",
            "│    │    └─conv.weight                                                           ├─884,736\n",
            "│    │    └─conv.bias                                                             └─384\n",
            "│    │    └─Conv2d: 3-10                                [32, 384, 7, 7]           885,120\n",
            "│    │    │    └─weight                                                           ├─884,736\n",
            "│    │    │    └─bias                                                             └─384\n",
            "│    │    └─Hardswish: 3-11                             [32, 384, 7, 7]           --\n",
            "│    └─Sequential: 2-11                                 --                        3,555,660\n",
            "│    │    └─0.attn.qkv.linear.weight                                              ├─442,368\n",
            "│    │    └─0.attn.qkv.bn.weight                                                  ├─1,152\n",
            "│    │    └─0.attn.qkv.bn.bias                                                    ├─1,152\n",
            "│    │    └─0.attn.proj.1.linear.weight                                           ├─147,456\n",
            "│    │    └─0.attn.proj.1.bn.weight                                               ├─384\n",
            "│    │    └─0.attn.proj.1.bn.bias                                                 ├─384\n",
            "│    │    └─0.mlp.ln1.linear.weight                                               ├─294,912\n",
            "│    │    └─0.mlp.ln1.bn.weight                                                   ├─768\n",
            "│    │    └─0.mlp.ln1.bn.bias                                                     ├─768\n",
            "│    │    └─0.mlp.ln2.linear.weight                                               ├─294,912\n",
            "│    │    └─0.mlp.ln2.bn.weight                                                   ├─384\n",
            "│    │    └─0.mlp.ln2.bn.bias                                                     ├─384\n",
            "│    │    └─1.attn.attention_biases                                               ├─294\n",
            "│    │    └─1.attn.qkv.linear.weight                                              ├─442,368\n",
            "│    │    └─1.attn.qkv.bn.weight                                                  ├─1,152\n",
            "│    │    └─1.attn.qkv.bn.bias                                                    ├─1,152\n",
            "│    │    └─1.attn.proj.1.linear.weight                                           ├─147,456\n",
            "│    │    └─1.attn.proj.1.bn.weight                                               ├─384\n",
            "│    │    └─1.attn.proj.1.bn.bias                                                 ├─384\n",
            "│    │    └─1.mlp.ln1.linear.weight                                               ├─294,912\n",
            "│    │    └─1.mlp.ln1.bn.weight                                                   ├─768\n",
            "│    │    └─1.mlp.ln1.bn.bias                                                     ├─768\n",
            "│    │    └─1.mlp.ln2.linear.weight                                               ├─294,912\n",
            "│    │    └─1.mlp.ln2.bn.weight                                                   ├─384\n",
            "│    │    └─1.mlp.ln2.bn.bias                                                     ├─384\n",
            "│    │    └─2.attn.qkv.linear.weight                                              ├─442,368\n",
            "│    │    └─2.attn.qkv.bn.weight                                                  ├─1,152\n",
            "│    │    └─2.attn.qkv.bn.bias                                                    ├─1,152\n",
            "│    │    └─2.attn.proj.1.linear.weight                                           ├─147,456\n",
            "│    │    └─2.attn.proj.1.bn.weight                                               ├─384\n",
            "│    │    └─2.attn.proj.1.bn.bias                                                 ├─384\n",
            "│    │    └─2.mlp.ln1.linear.weight                                               ├─294,912\n",
            "│    │    └─2.mlp.ln1.bn.weight                                                   ├─768\n",
            "│    │    └─2.mlp.ln1.bn.bias                                                     ├─768\n",
            "│    │    └─2.mlp.ln2.linear.weight                                               ├─294,912\n",
            "│    │    └─2.mlp.ln2.bn.weight                                                   ├─384\n",
            "│    │    └─2.mlp.ln2.bn.bias                                                     ├─384\n",
            "│    │    └─3.attn.attention_biases                                               ├─294\n",
            "│    │    └─3.attn.qkv.linear.weight                                              ├─442,368\n",
            "│    │    └─3.attn.qkv.bn.weight                                                  ├─1,152\n",
            "│    │    └─3.attn.qkv.bn.bias                                                    ├─1,152\n",
            "│    │    └─3.attn.proj.1.linear.weight                                           ├─147,456\n",
            "│    │    └─3.attn.proj.1.bn.weight                                               ├─384\n",
            "│    │    └─3.attn.proj.1.bn.bias                                                 ├─384\n",
            "│    │    └─3.mlp.ln1.linear.weight                                               ├─294,912\n",
            "│    │    └─3.mlp.ln1.bn.weight                                                   ├─768\n",
            "│    │    └─3.mlp.ln1.bn.bias                                                     ├─768\n",
            "│    │    └─3.mlp.ln2.linear.weight                                               ├─294,912\n",
            "│    │    └─3.mlp.ln2.bn.weight                                                   ├─384\n",
            "│    │    └─3.mlp.ln2.bn.bias                                                     └─384\n",
            "│    │    └─LevitBlock: 3-12                            [32, 49, 384]             1,185,024\n",
            "│    │    │    └─attn.qkv.linear.weight                                           ├─442,368\n",
            "│    │    │    └─attn.qkv.bn.weight                                               ├─1,152\n",
            "│    │    │    └─attn.qkv.bn.bias                                                 ├─1,152\n",
            "│    │    │    └─attn.proj.1.linear.weight                                        ├─147,456\n",
            "│    │    │    └─attn.proj.1.bn.weight                                            ├─384\n",
            "│    │    │    └─attn.proj.1.bn.bias                                              ├─384\n",
            "│    │    │    └─mlp.ln1.linear.weight                                            ├─294,912\n",
            "│    │    │    └─mlp.ln1.bn.weight                                                ├─768\n",
            "│    │    │    └─mlp.ln1.bn.bias                                                  ├─768\n",
            "│    │    │    └─mlp.ln2.linear.weight                                            ├─294,912\n",
            "│    │    │    └─mlp.ln2.bn.weight                                                ├─384\n",
            "│    │    │    └─mlp.ln2.bn.bias                                                  └─384\n",
            "├─Sequential: 1-4                                       [32, 512, 7, 7]           --\n",
            "│    └─0.weight                                                                   ├─196,608\n",
            "│    └─0.bias                                                                     ├─512\n",
            "│    └─1.weight                                                                   ├─512\n",
            "│    └─1.bias                                                                     └─512\n",
            "│    └─Conv2d: 2-12                                     [32, 512, 7, 7]           197,120\n",
            "│    │    └─weight                                                                ├─196,608\n",
            "│    │    └─bias                                                                  └─512\n",
            "│    └─BatchNorm2d: 2-13                                [32, 512, 7, 7]           1,024\n",
            "│    │    └─weight                                                                ├─512\n",
            "│    │    └─bias                                                                  └─512\n",
            "│    └─ReLU: 2-14                                       [32, 512, 7, 7]           --\n",
            "├─NormLinear: 1-5                                       [32, 9]                   --\n",
            "│    └─bn.weight                                                                  ├─512\n",
            "│    └─bn.bias                                                                    ├─512\n",
            "│    └─linear.weight                                                              ├─4,608\n",
            "│    └─linear.bias                                                                └─9\n",
            "│    └─BatchNorm1d: 2-15                                [32, 512]                 1,024\n",
            "│    │    └─weight                                                                ├─512\n",
            "│    │    └─bias                                                                  └─512\n",
            "│    └─Dropout: 2-16                                    [32, 512]                 --\n",
            "│    └─Linear: 2-17                                     [32, 9]                   4,617\n",
            "│    │    └─weight                                                                ├─4,608\n",
            "│    │    └─bias                                                                  └─9\n",
            "├─NormLinear: 1-6                                       [32, 9]                   --\n",
            "│    └─bn.weight                                                                  ├─512\n",
            "│    └─bn.bias                                                                    ├─512\n",
            "│    └─linear.weight                                                              ├─4,608\n",
            "│    └─linear.bias                                                                └─9\n",
            "│    └─BatchNorm1d: 2-18                                [32, 512]                 1,024\n",
            "│    │    └─weight                                                                ├─512\n",
            "│    │    └─bias                                                                  └─512\n",
            "│    └─Dropout: 2-19                                    [32, 512]                 --\n",
            "│    └─Linear: 2-20                                     [32, 9]                   4,617\n",
            "│    │    └─weight                                                                ├─4,608\n",
            "│    │    └─bias                                                                  └─9\n",
            "=========================================================================================================\n",
            "Total params: 8,336,402\n",
            "Trainable params: 8,336,402\n",
            "Non-trainable params: 0\n",
            "Total mult-adds (Units.GIGABYTES): 12.76\n",
            "=========================================================================================================\n",
            "Input size (MB): 19.27\n",
            "Forward/backward pass size (MB): 650.55\n",
            "Params size (MB): 12.79\n",
            "Estimated Total Size (MB): 682.60\n",
            "=========================================================================================================\n"
          ]
        }
      ],
      "source": [
        "print(summary(model, input_size=(32, 3, 224, 224), verbose=2, tau = 10))"
      ]
    },
    {
      "cell_type": "code",
      "execution_count": 66,
      "metadata": {
        "colab": {
          "base_uri": "https://localhost:8080/"
        },
        "id": "2XJWJO0JTIMT",
        "outputId": "c458ec0d-5ffe-4740-d7a2-19bd1f523933"
      },
      "outputs": [
        {
          "output_type": "execute_result",
          "data": {
            "text/plain": [
              "LevitDistilledTinyfusion(\n",
              "  (stem): Stem16(\n",
              "    (conv1): ConvNorm(\n",
              "      (linear): Conv2d(3, 32, kernel_size=(3, 3), stride=(2, 2), padding=(1, 1), bias=False)\n",
              "      (bn): BatchNorm2d(32, eps=1e-05, momentum=0.1, affine=True, track_running_stats=True)\n",
              "    )\n",
              "    (act1): Hardswish()\n",
              "    (conv2): ConvNorm(\n",
              "      (linear): Conv2d(32, 64, kernel_size=(3, 3), stride=(2, 2), padding=(1, 1), bias=False)\n",
              "      (bn): BatchNorm2d(64, eps=1e-05, momentum=0.1, affine=True, track_running_stats=True)\n",
              "    )\n",
              "    (act2): Hardswish()\n",
              "    (conv3): ConvNorm(\n",
              "      (linear): Conv2d(64, 128, kernel_size=(3, 3), stride=(2, 2), padding=(1, 1), bias=False)\n",
              "      (bn): BatchNorm2d(128, eps=1e-05, momentum=0.1, affine=True, track_running_stats=True)\n",
              "    )\n",
              "    (act3): Hardswish()\n",
              "    (conv4): ConvNorm(\n",
              "      (linear): Conv2d(128, 256, kernel_size=(3, 3), stride=(2, 2), padding=(1, 1), bias=False)\n",
              "      (bn): BatchNorm2d(256, eps=1e-05, momentum=0.1, affine=True, track_running_stats=True)\n",
              "    )\n",
              "  )\n",
              "  (stage1): LevitStage_TinyFusion(\n",
              "    (downsample): Identity()\n",
              "    (blocks): Sequential(\n",
              "      (0): LevitBlock(\n",
              "        (attn): Attention(\n",
              "          (qkv): LinearNorm(\n",
              "            (linear): Linear(in_features=256, out_features=768, bias=False)\n",
              "            (bn): BatchNorm1d(768, eps=1e-05, momentum=0.1, affine=True, track_running_stats=True)\n",
              "          )\n",
              "          (proj): Sequential(\n",
              "            (0): Hardswish()\n",
              "            (1): LinearNorm(\n",
              "              (linear): Linear(in_features=256, out_features=256, bias=False)\n",
              "              (bn): BatchNorm1d(256, eps=1e-05, momentum=0.1, affine=True, track_running_stats=True)\n",
              "            )\n",
              "          )\n",
              "        )\n",
              "        (drop_path1): Identity()\n",
              "        (mlp): LevitMlp(\n",
              "          (ln1): LinearNorm(\n",
              "            (linear): Linear(in_features=256, out_features=512, bias=False)\n",
              "            (bn): BatchNorm1d(512, eps=1e-05, momentum=0.1, affine=True, track_running_stats=True)\n",
              "          )\n",
              "          (act): Hardswish()\n",
              "          (drop): Dropout(p=0.5, inplace=False)\n",
              "          (ln2): LinearNorm(\n",
              "            (linear): Linear(in_features=512, out_features=256, bias=False)\n",
              "            (bn): BatchNorm1d(256, eps=1e-05, momentum=0.1, affine=True, track_running_stats=True)\n",
              "          )\n",
              "        )\n",
              "        (drop_path2): Identity()\n",
              "      )\n",
              "      (1): LevitBlock(\n",
              "        (attn): Attention(\n",
              "          (qkv): LinearNorm(\n",
              "            (linear): Linear(in_features=256, out_features=768, bias=False)\n",
              "            (bn): BatchNorm1d(768, eps=1e-05, momentum=0.1, affine=True, track_running_stats=True)\n",
              "          )\n",
              "          (proj): Sequential(\n",
              "            (0): Hardswish()\n",
              "            (1): LinearNorm(\n",
              "              (linear): Linear(in_features=256, out_features=256, bias=False)\n",
              "              (bn): BatchNorm1d(256, eps=1e-05, momentum=0.1, affine=True, track_running_stats=True)\n",
              "            )\n",
              "          )\n",
              "        )\n",
              "        (drop_path1): Identity()\n",
              "        (mlp): LevitMlp(\n",
              "          (ln1): LinearNorm(\n",
              "            (linear): Linear(in_features=256, out_features=512, bias=False)\n",
              "            (bn): BatchNorm1d(512, eps=1e-05, momentum=0.1, affine=True, track_running_stats=True)\n",
              "          )\n",
              "          (act): Hardswish()\n",
              "          (drop): Dropout(p=0.5, inplace=False)\n",
              "          (ln2): LinearNorm(\n",
              "            (linear): Linear(in_features=512, out_features=256, bias=False)\n",
              "            (bn): BatchNorm1d(256, eps=1e-05, momentum=0.1, affine=True, track_running_stats=True)\n",
              "          )\n",
              "        )\n",
              "        (drop_path2): Identity()\n",
              "      )\n",
              "      (2): LevitBlock(\n",
              "        (attn): Attention(\n",
              "          (qkv): LinearNorm(\n",
              "            (linear): Linear(in_features=256, out_features=768, bias=False)\n",
              "            (bn): BatchNorm1d(768, eps=1e-05, momentum=0.1, affine=True, track_running_stats=True)\n",
              "          )\n",
              "          (proj): Sequential(\n",
              "            (0): Hardswish()\n",
              "            (1): LinearNorm(\n",
              "              (linear): Linear(in_features=256, out_features=256, bias=False)\n",
              "              (bn): BatchNorm1d(256, eps=1e-05, momentum=0.1, affine=True, track_running_stats=True)\n",
              "            )\n",
              "          )\n",
              "        )\n",
              "        (drop_path1): Identity()\n",
              "        (mlp): LevitMlp(\n",
              "          (ln1): LinearNorm(\n",
              "            (linear): Linear(in_features=256, out_features=512, bias=False)\n",
              "            (bn): BatchNorm1d(512, eps=1e-05, momentum=0.1, affine=True, track_running_stats=True)\n",
              "          )\n",
              "          (act): Hardswish()\n",
              "          (drop): Dropout(p=0.5, inplace=False)\n",
              "          (ln2): LinearNorm(\n",
              "            (linear): Linear(in_features=512, out_features=256, bias=False)\n",
              "            (bn): BatchNorm1d(256, eps=1e-05, momentum=0.1, affine=True, track_running_stats=True)\n",
              "          )\n",
              "        )\n",
              "        (drop_path2): Identity()\n",
              "      )\n",
              "      (3): LevitBlock(\n",
              "        (attn): Attention(\n",
              "          (qkv): LinearNorm(\n",
              "            (linear): Linear(in_features=256, out_features=768, bias=False)\n",
              "            (bn): BatchNorm1d(768, eps=1e-05, momentum=0.1, affine=True, track_running_stats=True)\n",
              "          )\n",
              "          (proj): Sequential(\n",
              "            (0): Hardswish()\n",
              "            (1): LinearNorm(\n",
              "              (linear): Linear(in_features=256, out_features=256, bias=False)\n",
              "              (bn): BatchNorm1d(256, eps=1e-05, momentum=0.1, affine=True, track_running_stats=True)\n",
              "            )\n",
              "          )\n",
              "        )\n",
              "        (drop_path1): Identity()\n",
              "        (mlp): LevitMlp(\n",
              "          (ln1): LinearNorm(\n",
              "            (linear): Linear(in_features=256, out_features=512, bias=False)\n",
              "            (bn): BatchNorm1d(512, eps=1e-05, momentum=0.1, affine=True, track_running_stats=True)\n",
              "          )\n",
              "          (act): Hardswish()\n",
              "          (drop): Dropout(p=0.5, inplace=False)\n",
              "          (ln2): LinearNorm(\n",
              "            (linear): Linear(in_features=512, out_features=256, bias=False)\n",
              "            (bn): BatchNorm1d(256, eps=1e-05, momentum=0.1, affine=True, track_running_stats=True)\n",
              "          )\n",
              "        )\n",
              "        (drop_path2): Identity()\n",
              "      )\n",
              "    )\n",
              "  )\n",
              "  (stage2): LevitStage_TinyFusion(\n",
              "    (downsample): CNNDownsample(\n",
              "      (conv): Conv2d(256, 384, kernel_size=(3, 3), stride=(2, 2), padding=(1, 1))\n",
              "      (act): Hardswish()\n",
              "    )\n",
              "    (blocks): Sequential(\n",
              "      (0): LevitBlock(\n",
              "        (attn): Attention(\n",
              "          (qkv): LinearNorm(\n",
              "            (linear): Linear(in_features=384, out_features=1152, bias=False)\n",
              "            (bn): BatchNorm1d(1152, eps=1e-05, momentum=0.1, affine=True, track_running_stats=True)\n",
              "          )\n",
              "          (proj): Sequential(\n",
              "            (0): Hardswish()\n",
              "            (1): LinearNorm(\n",
              "              (linear): Linear(in_features=384, out_features=384, bias=False)\n",
              "              (bn): BatchNorm1d(384, eps=1e-05, momentum=0.1, affine=True, track_running_stats=True)\n",
              "            )\n",
              "          )\n",
              "        )\n",
              "        (drop_path1): Identity()\n",
              "        (mlp): LevitMlp(\n",
              "          (ln1): LinearNorm(\n",
              "            (linear): Linear(in_features=384, out_features=768, bias=False)\n",
              "            (bn): BatchNorm1d(768, eps=1e-05, momentum=0.1, affine=True, track_running_stats=True)\n",
              "          )\n",
              "          (act): Hardswish()\n",
              "          (drop): Dropout(p=0.5, inplace=False)\n",
              "          (ln2): LinearNorm(\n",
              "            (linear): Linear(in_features=768, out_features=384, bias=False)\n",
              "            (bn): BatchNorm1d(384, eps=1e-05, momentum=0.1, affine=True, track_running_stats=True)\n",
              "          )\n",
              "        )\n",
              "        (drop_path2): Identity()\n",
              "      )\n",
              "      (1): LevitBlock(\n",
              "        (attn): Attention(\n",
              "          (qkv): LinearNorm(\n",
              "            (linear): Linear(in_features=384, out_features=1152, bias=False)\n",
              "            (bn): BatchNorm1d(1152, eps=1e-05, momentum=0.1, affine=True, track_running_stats=True)\n",
              "          )\n",
              "          (proj): Sequential(\n",
              "            (0): Hardswish()\n",
              "            (1): LinearNorm(\n",
              "              (linear): Linear(in_features=384, out_features=384, bias=False)\n",
              "              (bn): BatchNorm1d(384, eps=1e-05, momentum=0.1, affine=True, track_running_stats=True)\n",
              "            )\n",
              "          )\n",
              "        )\n",
              "        (drop_path1): Identity()\n",
              "        (mlp): LevitMlp(\n",
              "          (ln1): LinearNorm(\n",
              "            (linear): Linear(in_features=384, out_features=768, bias=False)\n",
              "            (bn): BatchNorm1d(768, eps=1e-05, momentum=0.1, affine=True, track_running_stats=True)\n",
              "          )\n",
              "          (act): Hardswish()\n",
              "          (drop): Dropout(p=0.5, inplace=False)\n",
              "          (ln2): LinearNorm(\n",
              "            (linear): Linear(in_features=768, out_features=384, bias=False)\n",
              "            (bn): BatchNorm1d(384, eps=1e-05, momentum=0.1, affine=True, track_running_stats=True)\n",
              "          )\n",
              "        )\n",
              "        (drop_path2): Identity()\n",
              "      )\n",
              "      (2): LevitBlock(\n",
              "        (attn): Attention(\n",
              "          (qkv): LinearNorm(\n",
              "            (linear): Linear(in_features=384, out_features=1152, bias=False)\n",
              "            (bn): BatchNorm1d(1152, eps=1e-05, momentum=0.1, affine=True, track_running_stats=True)\n",
              "          )\n",
              "          (proj): Sequential(\n",
              "            (0): Hardswish()\n",
              "            (1): LinearNorm(\n",
              "              (linear): Linear(in_features=384, out_features=384, bias=False)\n",
              "              (bn): BatchNorm1d(384, eps=1e-05, momentum=0.1, affine=True, track_running_stats=True)\n",
              "            )\n",
              "          )\n",
              "        )\n",
              "        (drop_path1): Identity()\n",
              "        (mlp): LevitMlp(\n",
              "          (ln1): LinearNorm(\n",
              "            (linear): Linear(in_features=384, out_features=768, bias=False)\n",
              "            (bn): BatchNorm1d(768, eps=1e-05, momentum=0.1, affine=True, track_running_stats=True)\n",
              "          )\n",
              "          (act): Hardswish()\n",
              "          (drop): Dropout(p=0.5, inplace=False)\n",
              "          (ln2): LinearNorm(\n",
              "            (linear): Linear(in_features=768, out_features=384, bias=False)\n",
              "            (bn): BatchNorm1d(384, eps=1e-05, momentum=0.1, affine=True, track_running_stats=True)\n",
              "          )\n",
              "        )\n",
              "        (drop_path2): Identity()\n",
              "      )\n",
              "      (3): LevitBlock(\n",
              "        (attn): Attention(\n",
              "          (qkv): LinearNorm(\n",
              "            (linear): Linear(in_features=384, out_features=1152, bias=False)\n",
              "            (bn): BatchNorm1d(1152, eps=1e-05, momentum=0.1, affine=True, track_running_stats=True)\n",
              "          )\n",
              "          (proj): Sequential(\n",
              "            (0): Hardswish()\n",
              "            (1): LinearNorm(\n",
              "              (linear): Linear(in_features=384, out_features=384, bias=False)\n",
              "              (bn): BatchNorm1d(384, eps=1e-05, momentum=0.1, affine=True, track_running_stats=True)\n",
              "            )\n",
              "          )\n",
              "        )\n",
              "        (drop_path1): Identity()\n",
              "        (mlp): LevitMlp(\n",
              "          (ln1): LinearNorm(\n",
              "            (linear): Linear(in_features=384, out_features=768, bias=False)\n",
              "            (bn): BatchNorm1d(768, eps=1e-05, momentum=0.1, affine=True, track_running_stats=True)\n",
              "          )\n",
              "          (act): Hardswish()\n",
              "          (drop): Dropout(p=0.5, inplace=False)\n",
              "          (ln2): LinearNorm(\n",
              "            (linear): Linear(in_features=768, out_features=384, bias=False)\n",
              "            (bn): BatchNorm1d(384, eps=1e-05, momentum=0.1, affine=True, track_running_stats=True)\n",
              "          )\n",
              "        )\n",
              "        (drop_path2): Identity()\n",
              "      )\n",
              "    )\n",
              "  )\n",
              "  (conv1x1): Sequential(\n",
              "    (0): Conv2d(384, 512, kernel_size=(1, 1), stride=(1, 1))\n",
              "    (1): BatchNorm2d(512, eps=1e-05, momentum=0.1, affine=True, track_running_stats=True)\n",
              "    (2): ReLU(inplace=True)\n",
              "  )\n",
              "  (head): NormLinear(\n",
              "    (bn): BatchNorm1d(512, eps=1e-05, momentum=0.1, affine=True, track_running_stats=True)\n",
              "    (drop): Dropout(p=0.0, inplace=False)\n",
              "    (linear): Linear(in_features=512, out_features=9, bias=True)\n",
              "  )\n",
              "  (head_dist): NormLinear(\n",
              "    (bn): BatchNorm1d(512, eps=1e-05, momentum=0.1, affine=True, track_running_stats=True)\n",
              "    (drop): Dropout(p=0.0, inplace=False)\n",
              "    (linear): Linear(in_features=512, out_features=9, bias=True)\n",
              "  )\n",
              ")"
            ]
          },
          "metadata": {},
          "execution_count": 66
        }
      ],
      "source": [
        "import torch.nn.init as init\n",
        "\n",
        "def set_seed(seed=42):\n",
        "    random.seed(seed)\n",
        "    np.random.seed(seed)\n",
        "    torch.manual_seed(seed)\n",
        "    torch.cuda.manual_seed(seed)  # CUDA 연산 시 동일한 결과 보장\n",
        "    torch.cuda.manual_seed_all(seed)  # 멀티-GPU 환경에서 동일한 결과 보장\n",
        "    torch.backends.cudnn.deterministic = True  # CuDNN 연산을 deterministic하게 설정\n",
        "    torch.backends.cudnn.benchmark = False  # 연산 속도를 희생하고 일관된 연산을 수행\n",
        "\n",
        "def initialize_weights(m):\n",
        "    if isinstance(m, nn.Conv2d):  # Conv 레이어 초기화\n",
        "        init.kaiming_normal_(m.weight, mode='fan_out', nonlinearity='relu')\n",
        "        if m.bias is not None:\n",
        "            init.constant_(m.bias, 0)\n",
        "    elif isinstance(m, nn.Linear):  # Linear 레이어 초기화\n",
        "        init.xavier_uniform_(m.weight)\n",
        "        if m.bias is not None:\n",
        "            init.constant_(m.bias, 0)\n",
        "    elif isinstance(m, nn.BatchNorm2d) or isinstance(m, nn.BatchNorm1d):  # BatchNorm 초기화\n",
        "        init.constant_(m.weight, 1)\n",
        "        init.constant_(m.bias, 0)\n",
        "\n",
        "set_seed(42)  # 랜덤 시드 고정\n",
        "model.apply(initialize_weights)"
      ]
    },
    {
      "cell_type": "code",
      "execution_count": 67,
      "metadata": {
        "id": "p5GDxFHzR-y7"
      },
      "outputs": [],
      "source": [
        "train_dir     = './train/NCT-CRC-HE-100K'"
      ]
    },
    {
      "cell_type": "code",
      "source": [
        "transform = transforms.Compose([\n",
        "    transforms.Resize((224, 224)),\n",
        "    transforms.ToTensor(),\n",
        "    #transforms.Normalize(mean=[0.485, 0.456, 0.406], std=[0.229, 0.224, 0.225]),\n",
        "])"
      ],
      "metadata": {
        "id": "NcNx9kgbdulf"
      },
      "execution_count": 68,
      "outputs": []
    },
    {
      "cell_type": "code",
      "source": [
        "dataset = datasets.ImageFolder(root=train_dir, transform=transform)"
      ],
      "metadata": {
        "id": "y_1SUIuidwbE"
      },
      "execution_count": 69,
      "outputs": []
    },
    {
      "cell_type": "code",
      "execution_count": 70,
      "metadata": {
        "id": "g18xh7W1tv8W"
      },
      "outputs": [],
      "source": [
        "from torch.utils.data import Dataset\n",
        "from glob import glob\n",
        "import cv2\n",
        "import os\n",
        "\n",
        "class Dataset(Dataset):\n",
        "    def __init__(self, dir, aug=False):\n",
        "\n",
        "        self.transform = transforms.Compose([\n",
        "            transforms.ToTensor(),\n",
        "            transforms.Normalize([0.485, 0.456, 0.406], [0.229, 0.224, 0.225])\n",
        "        ])\n",
        "\n",
        "        self.aug = aug\n",
        "        self.samples = [i for i in glob(os.path.join(dir, '**/*')) if os.path.isfile(i)]\n",
        "\n",
        "    def __len__(self):\n",
        "        return len(self.samples)\n",
        "\n",
        "    def __getitem__(self, idx):\n",
        "        class_name = os.path.basename(self.samples[idx]).split('-')[0]\n",
        "        label = {\n",
        "            'ADI': 0,\n",
        "            'BACK': 1,\n",
        "            'DEB': 2,\n",
        "            'LYM': 3,\n",
        "            'MUC': 4,\n",
        "            'MUS': 5,\n",
        "            'NORM': 6,\n",
        "            'STR': 7,\n",
        "            'TUM': 8,\n",
        "        }\n",
        "\n",
        "        img = cv2.imread(self.samples[idx], -1)[:, :, ::-1]\n",
        "        img = np.float32(img) / 255.0\n",
        "\n",
        "        if self.aug:\n",
        "            if random.random() < 0.5:\n",
        "                img = img[::-1]\n",
        "\n",
        "            if random.random() < 0.5:\n",
        "                img = img[:, ::-1]\n",
        "\n",
        "            if random.random() < 0.3:\n",
        "                if random.random() < 0.5:\n",
        "                    img += np.random.normal(\n",
        "                        0.0, np.random.uniform(0.01, 0.2),\n",
        "                        (img.shape[0], img.shape[1], img.shape[2])\n",
        "                    )\n",
        "                else:\n",
        "                    x = np.random.uniform(0.02, 0.15)\n",
        "                    img += np.random.uniform(\n",
        "                        -x, x,\n",
        "                        (img.shape[0], img.shape[1], img.shape[2])\n",
        "                    )\n",
        "\n",
        "            if random.random() < 0.9:\n",
        "                img += np.random.uniform(-0.15, 0.15, (1, 1, 3))\n",
        "                img *= np.random.uniform(0.85, 1.15, (1, 1, 3))\n",
        "\n",
        "            if random.random() < 0.3:\n",
        "                kX, kY = np.random.randint(0, 4, 2) * 2 + 1\n",
        "                if random.random() < 0.5:\n",
        "                    img = cv2.GaussianBlur(img, (kX, kY), 0)\n",
        "                else:\n",
        "                    img = cv2.blur(img, (kX, kY))\n",
        "\n",
        "        img = np.uint8(np.clip(img, 0, 1) * 255.0)\n",
        "        img = self.transform(Image.fromarray(img))\n",
        "\n",
        "        return img, label[class_name]"
      ]
    },
    {
      "cell_type": "code",
      "execution_count": 71,
      "metadata": {
        "id": "Qe6c884rPvE7"
      },
      "outputs": [],
      "source": [
        "dataset1 = Dataset(dir=train_dir, aug=True)\n",
        "dataset2 = Dataset(dir=train_dir, aug=False)"
      ]
    },
    {
      "cell_type": "code",
      "execution_count": 72,
      "metadata": {
        "id": "N0BkxEAYTMvj"
      },
      "outputs": [],
      "source": [
        "import json\n",
        "\n",
        "with open(\"index_dict.json\", \"r\") as f:\n",
        "    index_dict = json.load(f)\n",
        "load_train_idx = index_dict[\"train_idx\"]\n",
        "load_val_idx = index_dict[\"val_idx\"]\n",
        "load_test_idx = index_dict[\"test_idx\"]"
      ]
    },
    {
      "cell_type": "code",
      "execution_count": 73,
      "metadata": {
        "id": "rEIH5EZxTN6n"
      },
      "outputs": [],
      "source": [
        "train_data = Subset(dataset, load_train_idx)\n",
        "val_data = Subset(dataset, load_val_idx)\n",
        "test_data = Subset(dataset, load_test_idx)"
      ]
    },
    {
      "cell_type": "code",
      "execution_count": 74,
      "metadata": {
        "colab": {
          "base_uri": "https://localhost:8080/"
        },
        "id": "8inM-bBnztEN",
        "outputId": "54bf5392-9c06-41a5-fab1-dbc0c7debef5"
      },
      "outputs": [
        {
          "output_type": "stream",
          "name": "stdout",
          "text": [
            "Train set size: 70000\n",
            "Validation set size: 15000\n",
            "Test set size: 15000\n"
          ]
        }
      ],
      "source": [
        "train_loader = DataLoader(train_data, batch_size=batch_size, shuffle=False)\n",
        "val_loader = DataLoader(val_data, batch_size=batch_size, shuffle=False)\n",
        "test_loader = DataLoader(test_data, batch_size=batch_size, shuffle=False)\n",
        "\n",
        "print(f\"Train set size: {len(train_data)}\")\n",
        "print(f\"Validation set size: {len(val_data)}\")\n",
        "print(f\"Test set size: {len(test_data)}\")"
      ]
    },
    {
      "cell_type": "code",
      "execution_count": 75,
      "metadata": {
        "id": "4TSObUGwcYxd"
      },
      "outputs": [],
      "source": [
        "criterion = nn.CrossEntropyLoss()\n",
        "optimizer = optim.Adam(lr=learning_rate, params=model.parameters())"
      ]
    },
    {
      "cell_type": "code",
      "source": [
        "gumbel_params = []\n",
        "other_params = []\n",
        "exclude = [\"head\", \"head_dist\"]\n",
        "\n",
        "for name, module in model.named_children():\n",
        "    if name in exclude:\n",
        "        print(exclude)\n",
        "\n",
        "for name, param in model.named_parameters():\n",
        "    if \"gumbel_gate\" in name:\n",
        "        gumbel_params.append(param)\n",
        "        print(name)\n",
        "    else:\n",
        "        other_params.append(param)\n",
        "\n",
        "#model = convert_to_lora_model(model, exclude=exclude)"
      ],
      "metadata": {
        "colab": {
          "base_uri": "https://localhost:8080/"
        },
        "id": "UrBLmUdJ4IZD",
        "outputId": "69b77bfc-faf5-4996-df0d-b4a7595a53d8"
      },
      "execution_count": 76,
      "outputs": [
        {
          "output_type": "stream",
          "name": "stdout",
          "text": [
            "['head', 'head_dist']\n",
            "['head', 'head_dist']\n",
            "stage1.gumbel_gate\n",
            "stage2.gumbel_gate\n"
          ]
        }
      ]
    },
    {
      "cell_type": "code",
      "execution_count": 77,
      "metadata": {
        "id": "1No-7jzGgzrV"
      },
      "outputs": [],
      "source": [
        "train_losses = []\n",
        "train_accuracies = []\n",
        "val_losses = []\n",
        "val_accuracies = []"
      ]
    },
    {
      "cell_type": "code",
      "execution_count": 78,
      "metadata": {
        "id": "Yf0ZPGLtz_gB"
      },
      "outputs": [],
      "source": [
        "def train(model, train_loader, criterion, optimizer, device, epoch, total_epcohs=100):\n",
        "    model.train()\n",
        "    running_loss = 0.0\n",
        "    correct = 0\n",
        "    total = 0\n",
        "    tau_max = 1\n",
        "    tau_min = 0.1\n",
        "    total_steps = total_epcohs * len(train_loader)\n",
        "    train_steps = epoch * len(train_loader)\n",
        "\n",
        "    for i, (inputs, labels) in enumerate(tqdm(train_loader, desc=\"Training\")):\n",
        "        tau = tau_max - (tau_max - tau_min) * min(1.0, (train_steps + i) / total_steps)\n",
        "        inputs, labels = inputs.to(device), labels.to(device)\n",
        "\n",
        "        optimizer.zero_grad()\n",
        "        outputs = model(inputs, tau)\n",
        "        loss = criterion(outputs, labels)\n",
        "        loss.backward()\n",
        "        optimizer.step()\n",
        "\n",
        "        running_loss += loss.item()\n",
        "        _, predicted = torch.max(outputs, 1)\n",
        "        total += labels.size(0)\n",
        "        correct += (predicted == labels).sum().item()\n",
        "\n",
        "    epoch_loss = running_loss / len(train_loader)\n",
        "    accuracy = 100 * correct / total\n",
        "    print(f\"Train Loss: {epoch_loss:.4f}, Train Accuracy: {accuracy:.2f}%\")\n",
        "    print(f\"Tau: {tau:.4f}\")\n",
        "    train_losses.append(epoch_loss)\n",
        "    train_accuracies.append(accuracy)\n",
        "\n",
        "    print(\"Each stage of block probabilities:\")\n",
        "    for name, module in model.named_modules():\n",
        "        if isinstance(module, LevitStage_TinyFusion):\n",
        "            gate_probs = torch.softmax(module.gumbel_gate, dim=0) # 각 block의 확률\n",
        "            topk_indx = torch.topk(gate_probs, module.num_select).indices.tolist() # 상위 k개의 index\n",
        "            print(f\"{name}\")\n",
        "            for i, prob in enumerate(gate_probs):\n",
        "                mask = \" \" if i in topk_indx else \"*\" # mask\n",
        "                print(f\"Block {i}: {prob:.4f} {mask}\")"
      ]
    },
    {
      "cell_type": "code",
      "execution_count": 79,
      "metadata": {
        "id": "rbdjXJ520Btp"
      },
      "outputs": [],
      "source": [
        "def evaluate(model, data_loader, criterion, device, phase=\"Validation\", epoch=0, total_epcohs=100):\n",
        "    model.eval()\n",
        "    running_loss = 0.0\n",
        "    correct = 0\n",
        "    total = 0\n",
        "    all_labels = []\n",
        "    all_predictions = []\n",
        "    tau_max = 1\n",
        "    tau_min = 0.1\n",
        "    total_steps = total_epcohs * len(data_loader)\n",
        "    train_steps = epoch * len(data_loader)\n",
        "\n",
        "    with torch.no_grad():\n",
        "        for i, (inputs, labels) in enumerate(tqdm(data_loader, desc=f\"{phase}\")):\n",
        "            inputs, labels = inputs.to(device), labels.to(device)\n",
        "            if phase == \"Validation\":\n",
        "                tau = tau_max - (tau_max - tau_min) * min(1.0, (train_steps + i) / total_steps)\n",
        "            elif phase == \"Test\":\n",
        "                tau = 1e-5\n",
        "            outputs = model(inputs, tau)\n",
        "            loss = criterion(outputs, labels)\n",
        "\n",
        "            running_loss += loss.item()\n",
        "            _, predicted = torch.max(outputs, 1)\n",
        "            total += labels.size(0)\n",
        "            correct += (predicted == labels).sum().item()\n",
        "\n",
        "            # Save all labels and predictions for balanced accuracy\n",
        "            all_labels.extend(labels.cpu().numpy())\n",
        "            all_predictions.extend(predicted.cpu().numpy())\n",
        "\n",
        "    epoch_loss = running_loss / len(data_loader)\n",
        "    accuracy = 100 * correct / total\n",
        "    balanced_acc = balanced_accuracy_score(all_labels, all_predictions)\n",
        "\n",
        "    print(f\"{phase} Loss: {epoch_loss:.4f}, {phase} Accuracy: {accuracy:.2f}%\")\n",
        "    print(f\"Balanced Accuracy: {balanced_acc:.4f}\")\n",
        "    print(f\"Tau: {tau:.4f}\")\n",
        "\n",
        "    val_losses.append(epoch_loss)\n",
        "    val_accuracies.append(accuracy)"
      ]
    },
    {
      "cell_type": "code",
      "execution_count": 80,
      "metadata": {
        "id": "GfBjePI-0DkY"
      },
      "outputs": [],
      "source": [
        "def measure_inference_time(model, data_loader, device):\n",
        "    model.eval()\n",
        "    times = []\n",
        "\n",
        "    with torch.no_grad():\n",
        "        for inputs, _ in data_loader:\n",
        "            inputs = inputs.to(device)\n",
        "            start_time = torch.cuda.Event(enable_timing=True)\n",
        "            end_time = torch.cuda.Event(enable_timing=True)\n",
        "\n",
        "            start_time.record()\n",
        "            _ = model(inputs)  # inference 수행\n",
        "            end_time.record()\n",
        "\n",
        "            # 시간 측정\n",
        "            torch.cuda.synchronize()  # CUDA에서 모든 커널이 완료될 때까지 대기\n",
        "            elapsed_time = start_time.elapsed_time(end_time)  # 밀리초 단위로 반환\n",
        "            times.append(elapsed_time)\n",
        "\n",
        "    # 통계량 계산\n",
        "    times_np = np.array(times)\n",
        "    total_inferences = len(times_np)\n",
        "    avg_time = np.mean(times_np)\n",
        "    std_dev = np.std(times_np)\n",
        "    max_time = np.max(times_np)\n",
        "    min_time = np.min(times_np)\n",
        "\n",
        "    # 결과 출력\n",
        "    print(f\"Inference Time Measurement Results:\")\n",
        "    print(f\"Total Inferences: {total_inferences}\")\n",
        "    print(f\"Average Time: {avg_time:.2f} ms\")\n",
        "    print(f\"Standard Deviation: {std_dev:.2f} ms\")\n",
        "    print(f\"Maximum Time: {max_time:.2f} ms\")\n",
        "    print(f\"Minimum Time: {min_time:.2f} ms\")\n",
        "\n",
        "    return times"
      ]
    },
    {
      "cell_type": "code",
      "source": [
        "for name, param in model.named_parameters():\n",
        "    print(f\"Parameter name: {name}, requires_grad: {param.requires_grad}\")"
      ],
      "metadata": {
        "colab": {
          "base_uri": "https://localhost:8080/"
        },
        "id": "2E_O1ooo4c1A",
        "outputId": "634b936d-7648-4395-dae4-8b21c8345b2d"
      },
      "execution_count": 81,
      "outputs": [
        {
          "output_type": "stream",
          "name": "stdout",
          "text": [
            "Parameter name: stem.conv1.linear.weight, requires_grad: True\n",
            "Parameter name: stem.conv1.bn.weight, requires_grad: True\n",
            "Parameter name: stem.conv1.bn.bias, requires_grad: True\n",
            "Parameter name: stem.conv2.linear.weight, requires_grad: True\n",
            "Parameter name: stem.conv2.bn.weight, requires_grad: True\n",
            "Parameter name: stem.conv2.bn.bias, requires_grad: True\n",
            "Parameter name: stem.conv3.linear.weight, requires_grad: True\n",
            "Parameter name: stem.conv3.bn.weight, requires_grad: True\n",
            "Parameter name: stem.conv3.bn.bias, requires_grad: True\n",
            "Parameter name: stem.conv4.linear.weight, requires_grad: True\n",
            "Parameter name: stem.conv4.bn.weight, requires_grad: True\n",
            "Parameter name: stem.conv4.bn.bias, requires_grad: True\n",
            "Parameter name: stage1.gumbel_gate, requires_grad: True\n",
            "Parameter name: stage1.blocks.0.attn.qkv.linear.weight, requires_grad: True\n",
            "Parameter name: stage1.blocks.0.attn.qkv.bn.weight, requires_grad: True\n",
            "Parameter name: stage1.blocks.0.attn.qkv.bn.bias, requires_grad: True\n",
            "Parameter name: stage1.blocks.0.attn.proj.1.linear.weight, requires_grad: True\n",
            "Parameter name: stage1.blocks.0.attn.proj.1.bn.weight, requires_grad: True\n",
            "Parameter name: stage1.blocks.0.attn.proj.1.bn.bias, requires_grad: True\n",
            "Parameter name: stage1.blocks.0.mlp.ln1.linear.weight, requires_grad: True\n",
            "Parameter name: stage1.blocks.0.mlp.ln1.bn.weight, requires_grad: True\n",
            "Parameter name: stage1.blocks.0.mlp.ln1.bn.bias, requires_grad: True\n",
            "Parameter name: stage1.blocks.0.mlp.ln2.linear.weight, requires_grad: True\n",
            "Parameter name: stage1.blocks.0.mlp.ln2.bn.weight, requires_grad: True\n",
            "Parameter name: stage1.blocks.0.mlp.ln2.bn.bias, requires_grad: True\n",
            "Parameter name: stage1.blocks.1.attn.qkv.linear.weight, requires_grad: True\n",
            "Parameter name: stage1.blocks.1.attn.qkv.bn.weight, requires_grad: True\n",
            "Parameter name: stage1.blocks.1.attn.qkv.bn.bias, requires_grad: True\n",
            "Parameter name: stage1.blocks.1.attn.proj.1.linear.weight, requires_grad: True\n",
            "Parameter name: stage1.blocks.1.attn.proj.1.bn.weight, requires_grad: True\n",
            "Parameter name: stage1.blocks.1.attn.proj.1.bn.bias, requires_grad: True\n",
            "Parameter name: stage1.blocks.1.mlp.ln1.linear.weight, requires_grad: True\n",
            "Parameter name: stage1.blocks.1.mlp.ln1.bn.weight, requires_grad: True\n",
            "Parameter name: stage1.blocks.1.mlp.ln1.bn.bias, requires_grad: True\n",
            "Parameter name: stage1.blocks.1.mlp.ln2.linear.weight, requires_grad: True\n",
            "Parameter name: stage1.blocks.1.mlp.ln2.bn.weight, requires_grad: True\n",
            "Parameter name: stage1.blocks.1.mlp.ln2.bn.bias, requires_grad: True\n",
            "Parameter name: stage1.blocks.2.attn.qkv.linear.weight, requires_grad: True\n",
            "Parameter name: stage1.blocks.2.attn.qkv.bn.weight, requires_grad: True\n",
            "Parameter name: stage1.blocks.2.attn.qkv.bn.bias, requires_grad: True\n",
            "Parameter name: stage1.blocks.2.attn.proj.1.linear.weight, requires_grad: True\n",
            "Parameter name: stage1.blocks.2.attn.proj.1.bn.weight, requires_grad: True\n",
            "Parameter name: stage1.blocks.2.attn.proj.1.bn.bias, requires_grad: True\n",
            "Parameter name: stage1.blocks.2.mlp.ln1.linear.weight, requires_grad: True\n",
            "Parameter name: stage1.blocks.2.mlp.ln1.bn.weight, requires_grad: True\n",
            "Parameter name: stage1.blocks.2.mlp.ln1.bn.bias, requires_grad: True\n",
            "Parameter name: stage1.blocks.2.mlp.ln2.linear.weight, requires_grad: True\n",
            "Parameter name: stage1.blocks.2.mlp.ln2.bn.weight, requires_grad: True\n",
            "Parameter name: stage1.blocks.2.mlp.ln2.bn.bias, requires_grad: True\n",
            "Parameter name: stage1.blocks.3.attn.attention_biases, requires_grad: True\n",
            "Parameter name: stage1.blocks.3.attn.qkv.linear.weight, requires_grad: True\n",
            "Parameter name: stage1.blocks.3.attn.qkv.bn.weight, requires_grad: True\n",
            "Parameter name: stage1.blocks.3.attn.qkv.bn.bias, requires_grad: True\n",
            "Parameter name: stage1.blocks.3.attn.proj.1.linear.weight, requires_grad: True\n",
            "Parameter name: stage1.blocks.3.attn.proj.1.bn.weight, requires_grad: True\n",
            "Parameter name: stage1.blocks.3.attn.proj.1.bn.bias, requires_grad: True\n",
            "Parameter name: stage1.blocks.3.mlp.ln1.linear.weight, requires_grad: True\n",
            "Parameter name: stage1.blocks.3.mlp.ln1.bn.weight, requires_grad: True\n",
            "Parameter name: stage1.blocks.3.mlp.ln1.bn.bias, requires_grad: True\n",
            "Parameter name: stage1.blocks.3.mlp.ln2.linear.weight, requires_grad: True\n",
            "Parameter name: stage1.blocks.3.mlp.ln2.bn.weight, requires_grad: True\n",
            "Parameter name: stage1.blocks.3.mlp.ln2.bn.bias, requires_grad: True\n",
            "Parameter name: stage2.gumbel_gate, requires_grad: True\n",
            "Parameter name: stage2.downsample.conv.weight, requires_grad: True\n",
            "Parameter name: stage2.downsample.conv.bias, requires_grad: True\n",
            "Parameter name: stage2.blocks.0.attn.qkv.linear.weight, requires_grad: True\n",
            "Parameter name: stage2.blocks.0.attn.qkv.bn.weight, requires_grad: True\n",
            "Parameter name: stage2.blocks.0.attn.qkv.bn.bias, requires_grad: True\n",
            "Parameter name: stage2.blocks.0.attn.proj.1.linear.weight, requires_grad: True\n",
            "Parameter name: stage2.blocks.0.attn.proj.1.bn.weight, requires_grad: True\n",
            "Parameter name: stage2.blocks.0.attn.proj.1.bn.bias, requires_grad: True\n",
            "Parameter name: stage2.blocks.0.mlp.ln1.linear.weight, requires_grad: True\n",
            "Parameter name: stage2.blocks.0.mlp.ln1.bn.weight, requires_grad: True\n",
            "Parameter name: stage2.blocks.0.mlp.ln1.bn.bias, requires_grad: True\n",
            "Parameter name: stage2.blocks.0.mlp.ln2.linear.weight, requires_grad: True\n",
            "Parameter name: stage2.blocks.0.mlp.ln2.bn.weight, requires_grad: True\n",
            "Parameter name: stage2.blocks.0.mlp.ln2.bn.bias, requires_grad: True\n",
            "Parameter name: stage2.blocks.1.attn.attention_biases, requires_grad: True\n",
            "Parameter name: stage2.blocks.1.attn.qkv.linear.weight, requires_grad: True\n",
            "Parameter name: stage2.blocks.1.attn.qkv.bn.weight, requires_grad: True\n",
            "Parameter name: stage2.blocks.1.attn.qkv.bn.bias, requires_grad: True\n",
            "Parameter name: stage2.blocks.1.attn.proj.1.linear.weight, requires_grad: True\n",
            "Parameter name: stage2.blocks.1.attn.proj.1.bn.weight, requires_grad: True\n",
            "Parameter name: stage2.blocks.1.attn.proj.1.bn.bias, requires_grad: True\n",
            "Parameter name: stage2.blocks.1.mlp.ln1.linear.weight, requires_grad: True\n",
            "Parameter name: stage2.blocks.1.mlp.ln1.bn.weight, requires_grad: True\n",
            "Parameter name: stage2.blocks.1.mlp.ln1.bn.bias, requires_grad: True\n",
            "Parameter name: stage2.blocks.1.mlp.ln2.linear.weight, requires_grad: True\n",
            "Parameter name: stage2.blocks.1.mlp.ln2.bn.weight, requires_grad: True\n",
            "Parameter name: stage2.blocks.1.mlp.ln2.bn.bias, requires_grad: True\n",
            "Parameter name: stage2.blocks.2.attn.qkv.linear.weight, requires_grad: True\n",
            "Parameter name: stage2.blocks.2.attn.qkv.bn.weight, requires_grad: True\n",
            "Parameter name: stage2.blocks.2.attn.qkv.bn.bias, requires_grad: True\n",
            "Parameter name: stage2.blocks.2.attn.proj.1.linear.weight, requires_grad: True\n",
            "Parameter name: stage2.blocks.2.attn.proj.1.bn.weight, requires_grad: True\n",
            "Parameter name: stage2.blocks.2.attn.proj.1.bn.bias, requires_grad: True\n",
            "Parameter name: stage2.blocks.2.mlp.ln1.linear.weight, requires_grad: True\n",
            "Parameter name: stage2.blocks.2.mlp.ln1.bn.weight, requires_grad: True\n",
            "Parameter name: stage2.blocks.2.mlp.ln1.bn.bias, requires_grad: True\n",
            "Parameter name: stage2.blocks.2.mlp.ln2.linear.weight, requires_grad: True\n",
            "Parameter name: stage2.blocks.2.mlp.ln2.bn.weight, requires_grad: True\n",
            "Parameter name: stage2.blocks.2.mlp.ln2.bn.bias, requires_grad: True\n",
            "Parameter name: stage2.blocks.3.attn.attention_biases, requires_grad: True\n",
            "Parameter name: stage2.blocks.3.attn.qkv.linear.weight, requires_grad: True\n",
            "Parameter name: stage2.blocks.3.attn.qkv.bn.weight, requires_grad: True\n",
            "Parameter name: stage2.blocks.3.attn.qkv.bn.bias, requires_grad: True\n",
            "Parameter name: stage2.blocks.3.attn.proj.1.linear.weight, requires_grad: True\n",
            "Parameter name: stage2.blocks.3.attn.proj.1.bn.weight, requires_grad: True\n",
            "Parameter name: stage2.blocks.3.attn.proj.1.bn.bias, requires_grad: True\n",
            "Parameter name: stage2.blocks.3.mlp.ln1.linear.weight, requires_grad: True\n",
            "Parameter name: stage2.blocks.3.mlp.ln1.bn.weight, requires_grad: True\n",
            "Parameter name: stage2.blocks.3.mlp.ln1.bn.bias, requires_grad: True\n",
            "Parameter name: stage2.blocks.3.mlp.ln2.linear.weight, requires_grad: True\n",
            "Parameter name: stage2.blocks.3.mlp.ln2.bn.weight, requires_grad: True\n",
            "Parameter name: stage2.blocks.3.mlp.ln2.bn.bias, requires_grad: True\n",
            "Parameter name: conv1x1.0.weight, requires_grad: True\n",
            "Parameter name: conv1x1.0.bias, requires_grad: True\n",
            "Parameter name: conv1x1.1.weight, requires_grad: True\n",
            "Parameter name: conv1x1.1.bias, requires_grad: True\n",
            "Parameter name: head.bn.weight, requires_grad: True\n",
            "Parameter name: head.bn.bias, requires_grad: True\n",
            "Parameter name: head.linear.weight, requires_grad: True\n",
            "Parameter name: head.linear.bias, requires_grad: True\n",
            "Parameter name: head_dist.bn.weight, requires_grad: True\n",
            "Parameter name: head_dist.bn.bias, requires_grad: True\n",
            "Parameter name: head_dist.linear.weight, requires_grad: True\n",
            "Parameter name: head_dist.linear.bias, requires_grad: True\n"
          ]
        }
      ]
    },
    {
      "cell_type": "code",
      "source": [
        "def transfer_weights(pretrained_model: LevitDistilled, tinyfusion_model: LevitDistilledTinyfusion, num_blocks):\n",
        "\n",
        "    pretrained_dict = pretrained_model.state_dict()\n",
        "    tinyfusion_dict = tinyfusion_model.state_dict()\n",
        "\n",
        "    new_state_dict = {}\n",
        "\n",
        "    # 1️⃣ 공통된 가중치 복사 (stem, conv1x1, head, head_dist)\n",
        "    for key in tinyfusion_dict.keys():\n",
        "        if key in pretrained_dict and not key.startswith(\"stage\"):\n",
        "            new_state_dict[key] = pretrained_dict[key]\n",
        "\n",
        "    stage = []\n",
        "    for i in range(num_blocks):\n",
        "        stage.append(f\"stage{i}\")\n",
        "    # 2️⃣ stage1, stage2의 가중치 변환 적용\n",
        "    for stage_name in stage:\n",
        "        for i in range(num_blocks):  # num_blocks=4\n",
        "            old_key = f\"{stage_name}.blocks.{i}\"  # 원래 모델의 key\n",
        "            new_key = f\"{stage_name}.blocks.{i}\"  # TinyFusion 모델의 key\n",
        "\n",
        "            if old_key in pretrained_dict and new_key in tinyfusion_dict:\n",
        "                new_state_dict[new_key] = pretrained_dict[old_key]\n",
        "\n",
        "    # 3️⃣ `gumble_gate`는 원래 모델에 없으므로, 초기화된 값 유지 (로드 안함)\n",
        "    print(\"✅ 가중치 변환 완료! TinyFusion 모델에 적용합니다.\")\n",
        "\n",
        "    # 4️⃣ 변환된 가중치를 TinyFusion 모델에 로드 (strict=False)\n",
        "    tinyfusion_model.load_state_dict(new_state_dict, strict=False)"
      ],
      "metadata": {
        "id": "QhOOoBYs4hBm"
      },
      "execution_count": 82,
      "outputs": []
    },
    {
      "cell_type": "code",
      "source": [
        "pretrained_model = LevitDistilled(num_classes=9)\n",
        "pretrained_model.stage1.blocks[0].attn.compute_attention_bias(14)\n",
        "pretrained_model.stage1.blocks[1].attn.compute_attention_bias(14)\n",
        "pretrained_model.stage1.blocks[2].attn.compute_attention_bias(14)\n",
        "pretrained_model.stage1.blocks[3].attn.compute_attention_bias(14)\n",
        "pretrained_model.stage2.blocks[0].attn.compute_attention_bias(7)\n",
        "pretrained_model.stage2.blocks[1].attn.compute_attention_bias(7)\n",
        "pretrained_model.stage2.blocks[2].attn.compute_attention_bias(7)\n",
        "pretrained_model.stage2.blocks[3].attn.compute_attention_bias(7)\n",
        "model.stage1.blocks[0].attn.compute_attention_bias(14)\n",
        "model.stage1.blocks[1].attn.compute_attention_bias(14)\n",
        "model.stage1.blocks[2].attn.compute_attention_bias(14)\n",
        "model.stage1.blocks[3].attn.compute_attention_bias(14)\n",
        "model.stage2.blocks[0].attn.compute_attention_bias(7)\n",
        "model.stage2.blocks[1].attn.compute_attention_bias(7)\n",
        "model.stage2.blocks[2].attn.compute_attention_bias(7)\n",
        "model.stage2.blocks[3].attn.compute_attention_bias(7)\n",
        "pretrained_model.load_state_dict(torch.load(\"HoViT44_withAug_7Ktest.pth\", weights_only=True))"
      ],
      "metadata": {
        "colab": {
          "base_uri": "https://localhost:8080/"
        },
        "id": "iNXAaJwH4j3M",
        "outputId": "bc037c7c-28aa-414b-bc11-59b2a3a3b576"
      },
      "execution_count": 83,
      "outputs": [
        {
          "output_type": "execute_result",
          "data": {
            "text/plain": [
              "<All keys matched successfully>"
            ]
          },
          "metadata": {},
          "execution_count": 83
        }
      ]
    },
    {
      "cell_type": "code",
      "source": [
        "transfer_weights(pretrained_model, model, num_blocks=4)"
      ],
      "metadata": {
        "colab": {
          "base_uri": "https://localhost:8080/"
        },
        "id": "AX1-SnT95apa",
        "outputId": "de3c5e98-f05d-454b-e879-de2ca7cd77e3"
      },
      "execution_count": 84,
      "outputs": [
        {
          "output_type": "stream",
          "name": "stdout",
          "text": [
            "✅ 가중치 변환 완료! TinyFusion 모델에 적용합니다.\n"
          ]
        }
      ]
    },
    {
      "cell_type": "code",
      "source": [
        "model = convert_to_lora_model(model, exclude=exclude)"
      ],
      "metadata": {
        "id": "PFqz6dOv5cBi"
      },
      "execution_count": 85,
      "outputs": []
    },
    {
      "cell_type": "code",
      "source": [
        "# gumbel_gate 파라미터가 포함되어 있는지 확인\n",
        "for name, param in model.named_parameters():\n",
        "    print(f\"Parameter name: {name}, requires_grad: {param.requires_grad}\")"
      ],
      "metadata": {
        "colab": {
          "base_uri": "https://localhost:8080/"
        },
        "id": "GZFIjbOp5ei1",
        "outputId": "c78ce620-d3ae-495f-ce92-e43f7522bbce"
      },
      "execution_count": 86,
      "outputs": [
        {
          "output_type": "stream",
          "name": "stdout",
          "text": [
            "Parameter name: stem.conv1.linear.weight, requires_grad: True\n",
            "Parameter name: stem.conv1.bn.weight, requires_grad: True\n",
            "Parameter name: stem.conv1.bn.bias, requires_grad: True\n",
            "Parameter name: stem.conv2.linear.weight, requires_grad: True\n",
            "Parameter name: stem.conv2.bn.weight, requires_grad: True\n",
            "Parameter name: stem.conv2.bn.bias, requires_grad: True\n",
            "Parameter name: stem.conv3.linear.weight, requires_grad: True\n",
            "Parameter name: stem.conv3.bn.weight, requires_grad: True\n",
            "Parameter name: stem.conv3.bn.bias, requires_grad: True\n",
            "Parameter name: stem.conv4.linear.weight, requires_grad: True\n",
            "Parameter name: stem.conv4.bn.weight, requires_grad: True\n",
            "Parameter name: stem.conv4.bn.bias, requires_grad: True\n",
            "Parameter name: stage1.gumbel_gate, requires_grad: True\n",
            "Parameter name: stage1.blocks.0.attn.attention_biases, requires_grad: True\n",
            "Parameter name: stage1.blocks.0.attn.qkv.linear.weight, requires_grad: True\n",
            "Parameter name: stage1.blocks.0.attn.qkv.linear.lora_a.weight, requires_grad: True\n",
            "Parameter name: stage1.blocks.0.attn.qkv.linear.lora_b.weight, requires_grad: True\n",
            "Parameter name: stage1.blocks.0.attn.qkv.bn.weight, requires_grad: True\n",
            "Parameter name: stage1.blocks.0.attn.qkv.bn.bias, requires_grad: True\n",
            "Parameter name: stage1.blocks.0.attn.proj.1.linear.weight, requires_grad: True\n",
            "Parameter name: stage1.blocks.0.attn.proj.1.linear.lora_a.weight, requires_grad: True\n",
            "Parameter name: stage1.blocks.0.attn.proj.1.linear.lora_b.weight, requires_grad: True\n",
            "Parameter name: stage1.blocks.0.attn.proj.1.bn.weight, requires_grad: True\n",
            "Parameter name: stage1.blocks.0.attn.proj.1.bn.bias, requires_grad: True\n",
            "Parameter name: stage1.blocks.0.mlp.ln1.linear.weight, requires_grad: True\n",
            "Parameter name: stage1.blocks.0.mlp.ln1.linear.lora_a.weight, requires_grad: True\n",
            "Parameter name: stage1.blocks.0.mlp.ln1.linear.lora_b.weight, requires_grad: True\n",
            "Parameter name: stage1.blocks.0.mlp.ln1.bn.weight, requires_grad: True\n",
            "Parameter name: stage1.blocks.0.mlp.ln1.bn.bias, requires_grad: True\n",
            "Parameter name: stage1.blocks.0.mlp.ln2.linear.weight, requires_grad: True\n",
            "Parameter name: stage1.blocks.0.mlp.ln2.linear.lora_a.weight, requires_grad: True\n",
            "Parameter name: stage1.blocks.0.mlp.ln2.linear.lora_b.weight, requires_grad: True\n",
            "Parameter name: stage1.blocks.0.mlp.ln2.bn.weight, requires_grad: True\n",
            "Parameter name: stage1.blocks.0.mlp.ln2.bn.bias, requires_grad: True\n",
            "Parameter name: stage1.blocks.1.attn.attention_biases, requires_grad: True\n",
            "Parameter name: stage1.blocks.1.attn.qkv.linear.weight, requires_grad: True\n",
            "Parameter name: stage1.blocks.1.attn.qkv.linear.lora_a.weight, requires_grad: True\n",
            "Parameter name: stage1.blocks.1.attn.qkv.linear.lora_b.weight, requires_grad: True\n",
            "Parameter name: stage1.blocks.1.attn.qkv.bn.weight, requires_grad: True\n",
            "Parameter name: stage1.blocks.1.attn.qkv.bn.bias, requires_grad: True\n",
            "Parameter name: stage1.blocks.1.attn.proj.1.linear.weight, requires_grad: True\n",
            "Parameter name: stage1.blocks.1.attn.proj.1.linear.lora_a.weight, requires_grad: True\n",
            "Parameter name: stage1.blocks.1.attn.proj.1.linear.lora_b.weight, requires_grad: True\n",
            "Parameter name: stage1.blocks.1.attn.proj.1.bn.weight, requires_grad: True\n",
            "Parameter name: stage1.blocks.1.attn.proj.1.bn.bias, requires_grad: True\n",
            "Parameter name: stage1.blocks.1.mlp.ln1.linear.weight, requires_grad: True\n",
            "Parameter name: stage1.blocks.1.mlp.ln1.linear.lora_a.weight, requires_grad: True\n",
            "Parameter name: stage1.blocks.1.mlp.ln1.linear.lora_b.weight, requires_grad: True\n",
            "Parameter name: stage1.blocks.1.mlp.ln1.bn.weight, requires_grad: True\n",
            "Parameter name: stage1.blocks.1.mlp.ln1.bn.bias, requires_grad: True\n",
            "Parameter name: stage1.blocks.1.mlp.ln2.linear.weight, requires_grad: True\n",
            "Parameter name: stage1.blocks.1.mlp.ln2.linear.lora_a.weight, requires_grad: True\n",
            "Parameter name: stage1.blocks.1.mlp.ln2.linear.lora_b.weight, requires_grad: True\n",
            "Parameter name: stage1.blocks.1.mlp.ln2.bn.weight, requires_grad: True\n",
            "Parameter name: stage1.blocks.1.mlp.ln2.bn.bias, requires_grad: True\n",
            "Parameter name: stage1.blocks.2.attn.attention_biases, requires_grad: True\n",
            "Parameter name: stage1.blocks.2.attn.qkv.linear.weight, requires_grad: True\n",
            "Parameter name: stage1.blocks.2.attn.qkv.linear.lora_a.weight, requires_grad: True\n",
            "Parameter name: stage1.blocks.2.attn.qkv.linear.lora_b.weight, requires_grad: True\n",
            "Parameter name: stage1.blocks.2.attn.qkv.bn.weight, requires_grad: True\n",
            "Parameter name: stage1.blocks.2.attn.qkv.bn.bias, requires_grad: True\n",
            "Parameter name: stage1.blocks.2.attn.proj.1.linear.weight, requires_grad: True\n",
            "Parameter name: stage1.blocks.2.attn.proj.1.linear.lora_a.weight, requires_grad: True\n",
            "Parameter name: stage1.blocks.2.attn.proj.1.linear.lora_b.weight, requires_grad: True\n",
            "Parameter name: stage1.blocks.2.attn.proj.1.bn.weight, requires_grad: True\n",
            "Parameter name: stage1.blocks.2.attn.proj.1.bn.bias, requires_grad: True\n",
            "Parameter name: stage1.blocks.2.mlp.ln1.linear.weight, requires_grad: True\n",
            "Parameter name: stage1.blocks.2.mlp.ln1.linear.lora_a.weight, requires_grad: True\n",
            "Parameter name: stage1.blocks.2.mlp.ln1.linear.lora_b.weight, requires_grad: True\n",
            "Parameter name: stage1.blocks.2.mlp.ln1.bn.weight, requires_grad: True\n",
            "Parameter name: stage1.blocks.2.mlp.ln1.bn.bias, requires_grad: True\n",
            "Parameter name: stage1.blocks.2.mlp.ln2.linear.weight, requires_grad: True\n",
            "Parameter name: stage1.blocks.2.mlp.ln2.linear.lora_a.weight, requires_grad: True\n",
            "Parameter name: stage1.blocks.2.mlp.ln2.linear.lora_b.weight, requires_grad: True\n",
            "Parameter name: stage1.blocks.2.mlp.ln2.bn.weight, requires_grad: True\n",
            "Parameter name: stage1.blocks.2.mlp.ln2.bn.bias, requires_grad: True\n",
            "Parameter name: stage1.blocks.3.attn.attention_biases, requires_grad: True\n",
            "Parameter name: stage1.blocks.3.attn.qkv.linear.weight, requires_grad: True\n",
            "Parameter name: stage1.blocks.3.attn.qkv.linear.lora_a.weight, requires_grad: True\n",
            "Parameter name: stage1.blocks.3.attn.qkv.linear.lora_b.weight, requires_grad: True\n",
            "Parameter name: stage1.blocks.3.attn.qkv.bn.weight, requires_grad: True\n",
            "Parameter name: stage1.blocks.3.attn.qkv.bn.bias, requires_grad: True\n",
            "Parameter name: stage1.blocks.3.attn.proj.1.linear.weight, requires_grad: True\n",
            "Parameter name: stage1.blocks.3.attn.proj.1.linear.lora_a.weight, requires_grad: True\n",
            "Parameter name: stage1.blocks.3.attn.proj.1.linear.lora_b.weight, requires_grad: True\n",
            "Parameter name: stage1.blocks.3.attn.proj.1.bn.weight, requires_grad: True\n",
            "Parameter name: stage1.blocks.3.attn.proj.1.bn.bias, requires_grad: True\n",
            "Parameter name: stage1.blocks.3.mlp.ln1.linear.weight, requires_grad: True\n",
            "Parameter name: stage1.blocks.3.mlp.ln1.linear.lora_a.weight, requires_grad: True\n",
            "Parameter name: stage1.blocks.3.mlp.ln1.linear.lora_b.weight, requires_grad: True\n",
            "Parameter name: stage1.blocks.3.mlp.ln1.bn.weight, requires_grad: True\n",
            "Parameter name: stage1.blocks.3.mlp.ln1.bn.bias, requires_grad: True\n",
            "Parameter name: stage1.blocks.3.mlp.ln2.linear.weight, requires_grad: True\n",
            "Parameter name: stage1.blocks.3.mlp.ln2.linear.lora_a.weight, requires_grad: True\n",
            "Parameter name: stage1.blocks.3.mlp.ln2.linear.lora_b.weight, requires_grad: True\n",
            "Parameter name: stage1.blocks.3.mlp.ln2.bn.weight, requires_grad: True\n",
            "Parameter name: stage1.blocks.3.mlp.ln2.bn.bias, requires_grad: True\n",
            "Parameter name: stage2.gumbel_gate, requires_grad: True\n",
            "Parameter name: stage2.downsample.conv.weight, requires_grad: True\n",
            "Parameter name: stage2.downsample.conv.bias, requires_grad: True\n",
            "Parameter name: stage2.blocks.0.attn.attention_biases, requires_grad: True\n",
            "Parameter name: stage2.blocks.0.attn.qkv.linear.weight, requires_grad: True\n",
            "Parameter name: stage2.blocks.0.attn.qkv.linear.lora_a.weight, requires_grad: True\n",
            "Parameter name: stage2.blocks.0.attn.qkv.linear.lora_b.weight, requires_grad: True\n",
            "Parameter name: stage2.blocks.0.attn.qkv.bn.weight, requires_grad: True\n",
            "Parameter name: stage2.blocks.0.attn.qkv.bn.bias, requires_grad: True\n",
            "Parameter name: stage2.blocks.0.attn.proj.1.linear.weight, requires_grad: True\n",
            "Parameter name: stage2.blocks.0.attn.proj.1.linear.lora_a.weight, requires_grad: True\n",
            "Parameter name: stage2.blocks.0.attn.proj.1.linear.lora_b.weight, requires_grad: True\n",
            "Parameter name: stage2.blocks.0.attn.proj.1.bn.weight, requires_grad: True\n",
            "Parameter name: stage2.blocks.0.attn.proj.1.bn.bias, requires_grad: True\n",
            "Parameter name: stage2.blocks.0.mlp.ln1.linear.weight, requires_grad: True\n",
            "Parameter name: stage2.blocks.0.mlp.ln1.linear.lora_a.weight, requires_grad: True\n",
            "Parameter name: stage2.blocks.0.mlp.ln1.linear.lora_b.weight, requires_grad: True\n",
            "Parameter name: stage2.blocks.0.mlp.ln1.bn.weight, requires_grad: True\n",
            "Parameter name: stage2.blocks.0.mlp.ln1.bn.bias, requires_grad: True\n",
            "Parameter name: stage2.blocks.0.mlp.ln2.linear.weight, requires_grad: True\n",
            "Parameter name: stage2.blocks.0.mlp.ln2.linear.lora_a.weight, requires_grad: True\n",
            "Parameter name: stage2.blocks.0.mlp.ln2.linear.lora_b.weight, requires_grad: True\n",
            "Parameter name: stage2.blocks.0.mlp.ln2.bn.weight, requires_grad: True\n",
            "Parameter name: stage2.blocks.0.mlp.ln2.bn.bias, requires_grad: True\n",
            "Parameter name: stage2.blocks.1.attn.attention_biases, requires_grad: True\n",
            "Parameter name: stage2.blocks.1.attn.qkv.linear.weight, requires_grad: True\n",
            "Parameter name: stage2.blocks.1.attn.qkv.linear.lora_a.weight, requires_grad: True\n",
            "Parameter name: stage2.blocks.1.attn.qkv.linear.lora_b.weight, requires_grad: True\n",
            "Parameter name: stage2.blocks.1.attn.qkv.bn.weight, requires_grad: True\n",
            "Parameter name: stage2.blocks.1.attn.qkv.bn.bias, requires_grad: True\n",
            "Parameter name: stage2.blocks.1.attn.proj.1.linear.weight, requires_grad: True\n",
            "Parameter name: stage2.blocks.1.attn.proj.1.linear.lora_a.weight, requires_grad: True\n",
            "Parameter name: stage2.blocks.1.attn.proj.1.linear.lora_b.weight, requires_grad: True\n",
            "Parameter name: stage2.blocks.1.attn.proj.1.bn.weight, requires_grad: True\n",
            "Parameter name: stage2.blocks.1.attn.proj.1.bn.bias, requires_grad: True\n",
            "Parameter name: stage2.blocks.1.mlp.ln1.linear.weight, requires_grad: True\n",
            "Parameter name: stage2.blocks.1.mlp.ln1.linear.lora_a.weight, requires_grad: True\n",
            "Parameter name: stage2.blocks.1.mlp.ln1.linear.lora_b.weight, requires_grad: True\n",
            "Parameter name: stage2.blocks.1.mlp.ln1.bn.weight, requires_grad: True\n",
            "Parameter name: stage2.blocks.1.mlp.ln1.bn.bias, requires_grad: True\n",
            "Parameter name: stage2.blocks.1.mlp.ln2.linear.weight, requires_grad: True\n",
            "Parameter name: stage2.blocks.1.mlp.ln2.linear.lora_a.weight, requires_grad: True\n",
            "Parameter name: stage2.blocks.1.mlp.ln2.linear.lora_b.weight, requires_grad: True\n",
            "Parameter name: stage2.blocks.1.mlp.ln2.bn.weight, requires_grad: True\n",
            "Parameter name: stage2.blocks.1.mlp.ln2.bn.bias, requires_grad: True\n",
            "Parameter name: stage2.blocks.2.attn.attention_biases, requires_grad: True\n",
            "Parameter name: stage2.blocks.2.attn.qkv.linear.weight, requires_grad: True\n",
            "Parameter name: stage2.blocks.2.attn.qkv.linear.lora_a.weight, requires_grad: True\n",
            "Parameter name: stage2.blocks.2.attn.qkv.linear.lora_b.weight, requires_grad: True\n",
            "Parameter name: stage2.blocks.2.attn.qkv.bn.weight, requires_grad: True\n",
            "Parameter name: stage2.blocks.2.attn.qkv.bn.bias, requires_grad: True\n",
            "Parameter name: stage2.blocks.2.attn.proj.1.linear.weight, requires_grad: True\n",
            "Parameter name: stage2.blocks.2.attn.proj.1.linear.lora_a.weight, requires_grad: True\n",
            "Parameter name: stage2.blocks.2.attn.proj.1.linear.lora_b.weight, requires_grad: True\n",
            "Parameter name: stage2.blocks.2.attn.proj.1.bn.weight, requires_grad: True\n",
            "Parameter name: stage2.blocks.2.attn.proj.1.bn.bias, requires_grad: True\n",
            "Parameter name: stage2.blocks.2.mlp.ln1.linear.weight, requires_grad: True\n",
            "Parameter name: stage2.blocks.2.mlp.ln1.linear.lora_a.weight, requires_grad: True\n",
            "Parameter name: stage2.blocks.2.mlp.ln1.linear.lora_b.weight, requires_grad: True\n",
            "Parameter name: stage2.blocks.2.mlp.ln1.bn.weight, requires_grad: True\n",
            "Parameter name: stage2.blocks.2.mlp.ln1.bn.bias, requires_grad: True\n",
            "Parameter name: stage2.blocks.2.mlp.ln2.linear.weight, requires_grad: True\n",
            "Parameter name: stage2.blocks.2.mlp.ln2.linear.lora_a.weight, requires_grad: True\n",
            "Parameter name: stage2.blocks.2.mlp.ln2.linear.lora_b.weight, requires_grad: True\n",
            "Parameter name: stage2.blocks.2.mlp.ln2.bn.weight, requires_grad: True\n",
            "Parameter name: stage2.blocks.2.mlp.ln2.bn.bias, requires_grad: True\n",
            "Parameter name: stage2.blocks.3.attn.attention_biases, requires_grad: True\n",
            "Parameter name: stage2.blocks.3.attn.qkv.linear.weight, requires_grad: True\n",
            "Parameter name: stage2.blocks.3.attn.qkv.linear.lora_a.weight, requires_grad: True\n",
            "Parameter name: stage2.blocks.3.attn.qkv.linear.lora_b.weight, requires_grad: True\n",
            "Parameter name: stage2.blocks.3.attn.qkv.bn.weight, requires_grad: True\n",
            "Parameter name: stage2.blocks.3.attn.qkv.bn.bias, requires_grad: True\n",
            "Parameter name: stage2.blocks.3.attn.proj.1.linear.weight, requires_grad: True\n",
            "Parameter name: stage2.blocks.3.attn.proj.1.linear.lora_a.weight, requires_grad: True\n",
            "Parameter name: stage2.blocks.3.attn.proj.1.linear.lora_b.weight, requires_grad: True\n",
            "Parameter name: stage2.blocks.3.attn.proj.1.bn.weight, requires_grad: True\n",
            "Parameter name: stage2.blocks.3.attn.proj.1.bn.bias, requires_grad: True\n",
            "Parameter name: stage2.blocks.3.mlp.ln1.linear.weight, requires_grad: True\n",
            "Parameter name: stage2.blocks.3.mlp.ln1.linear.lora_a.weight, requires_grad: True\n",
            "Parameter name: stage2.blocks.3.mlp.ln1.linear.lora_b.weight, requires_grad: True\n",
            "Parameter name: stage2.blocks.3.mlp.ln1.bn.weight, requires_grad: True\n",
            "Parameter name: stage2.blocks.3.mlp.ln1.bn.bias, requires_grad: True\n",
            "Parameter name: stage2.blocks.3.mlp.ln2.linear.weight, requires_grad: True\n",
            "Parameter name: stage2.blocks.3.mlp.ln2.linear.lora_a.weight, requires_grad: True\n",
            "Parameter name: stage2.blocks.3.mlp.ln2.linear.lora_b.weight, requires_grad: True\n",
            "Parameter name: stage2.blocks.3.mlp.ln2.bn.weight, requires_grad: True\n",
            "Parameter name: stage2.blocks.3.mlp.ln2.bn.bias, requires_grad: True\n",
            "Parameter name: conv1x1.0.weight, requires_grad: True\n",
            "Parameter name: conv1x1.0.bias, requires_grad: True\n",
            "Parameter name: conv1x1.1.weight, requires_grad: True\n",
            "Parameter name: conv1x1.1.bias, requires_grad: True\n",
            "Parameter name: head.bn.weight, requires_grad: True\n",
            "Parameter name: head.bn.bias, requires_grad: True\n",
            "Parameter name: head.linear.weight, requires_grad: True\n",
            "Parameter name: head.linear.bias, requires_grad: True\n",
            "Parameter name: head_dist.bn.weight, requires_grad: True\n",
            "Parameter name: head_dist.bn.bias, requires_grad: True\n",
            "Parameter name: head_dist.linear.weight, requires_grad: True\n",
            "Parameter name: head_dist.linear.bias, requires_grad: True\n"
          ]
        }
      ]
    },
    {
      "cell_type": "code",
      "source": [
        "for name, param in model.named_parameters():\n",
        "    if \"lora_a\" in name or \"lora_b\" in name:\n",
        "        param.requires_grad = True\n",
        "        print(f\"✅ LoRA Trainable: {name}\")\n",
        "    elif \"gumbel_gate\" in name:\n",
        "        param.requires_grad = True\n",
        "        print(f\"✅ TinyFusion Trainable: {name}\")\n",
        "    elif \"head\" in name or \"head_dist\" in name:\n",
        "        param.requires_grad = True\n",
        "        print(f\"✅ Head Trainable: {name}\")\n",
        "    elif \"conv1x1\" in name:\n",
        "        param.requires_grad = True\n",
        "        print(f\"✅ Conv1x1 Trainable: {name}\")\n",
        "    elif \"attention_biases\" in name:\n",
        "        param.requires_grad = True\n",
        "        print(f\"✅ Attention Biases Trainable: {name}\")\n",
        "    else:\n",
        "        param.requires_grad = False"
      ],
      "metadata": {
        "colab": {
          "base_uri": "https://localhost:8080/"
        },
        "id": "ELoFunmQ5fyT",
        "outputId": "c76c8aaa-a28d-4673-9852-51fdd8c61d81"
      },
      "execution_count": 87,
      "outputs": [
        {
          "output_type": "stream",
          "name": "stdout",
          "text": [
            "✅ TinyFusion Trainable: stage1.gumbel_gate\n",
            "✅ Attention Biases Trainable: stage1.blocks.0.attn.attention_biases\n",
            "✅ LoRA Trainable: stage1.blocks.0.attn.qkv.linear.lora_a.weight\n",
            "✅ LoRA Trainable: stage1.blocks.0.attn.qkv.linear.lora_b.weight\n",
            "✅ LoRA Trainable: stage1.blocks.0.attn.proj.1.linear.lora_a.weight\n",
            "✅ LoRA Trainable: stage1.blocks.0.attn.proj.1.linear.lora_b.weight\n",
            "✅ LoRA Trainable: stage1.blocks.0.mlp.ln1.linear.lora_a.weight\n",
            "✅ LoRA Trainable: stage1.blocks.0.mlp.ln1.linear.lora_b.weight\n",
            "✅ LoRA Trainable: stage1.blocks.0.mlp.ln2.linear.lora_a.weight\n",
            "✅ LoRA Trainable: stage1.blocks.0.mlp.ln2.linear.lora_b.weight\n",
            "✅ Attention Biases Trainable: stage1.blocks.1.attn.attention_biases\n",
            "✅ LoRA Trainable: stage1.blocks.1.attn.qkv.linear.lora_a.weight\n",
            "✅ LoRA Trainable: stage1.blocks.1.attn.qkv.linear.lora_b.weight\n",
            "✅ LoRA Trainable: stage1.blocks.1.attn.proj.1.linear.lora_a.weight\n",
            "✅ LoRA Trainable: stage1.blocks.1.attn.proj.1.linear.lora_b.weight\n",
            "✅ LoRA Trainable: stage1.blocks.1.mlp.ln1.linear.lora_a.weight\n",
            "✅ LoRA Trainable: stage1.blocks.1.mlp.ln1.linear.lora_b.weight\n",
            "✅ LoRA Trainable: stage1.blocks.1.mlp.ln2.linear.lora_a.weight\n",
            "✅ LoRA Trainable: stage1.blocks.1.mlp.ln2.linear.lora_b.weight\n",
            "✅ Attention Biases Trainable: stage1.blocks.2.attn.attention_biases\n",
            "✅ LoRA Trainable: stage1.blocks.2.attn.qkv.linear.lora_a.weight\n",
            "✅ LoRA Trainable: stage1.blocks.2.attn.qkv.linear.lora_b.weight\n",
            "✅ LoRA Trainable: stage1.blocks.2.attn.proj.1.linear.lora_a.weight\n",
            "✅ LoRA Trainable: stage1.blocks.2.attn.proj.1.linear.lora_b.weight\n",
            "✅ LoRA Trainable: stage1.blocks.2.mlp.ln1.linear.lora_a.weight\n",
            "✅ LoRA Trainable: stage1.blocks.2.mlp.ln1.linear.lora_b.weight\n",
            "✅ LoRA Trainable: stage1.blocks.2.mlp.ln2.linear.lora_a.weight\n",
            "✅ LoRA Trainable: stage1.blocks.2.mlp.ln2.linear.lora_b.weight\n",
            "✅ Attention Biases Trainable: stage1.blocks.3.attn.attention_biases\n",
            "✅ LoRA Trainable: stage1.blocks.3.attn.qkv.linear.lora_a.weight\n",
            "✅ LoRA Trainable: stage1.blocks.3.attn.qkv.linear.lora_b.weight\n",
            "✅ LoRA Trainable: stage1.blocks.3.attn.proj.1.linear.lora_a.weight\n",
            "✅ LoRA Trainable: stage1.blocks.3.attn.proj.1.linear.lora_b.weight\n",
            "✅ LoRA Trainable: stage1.blocks.3.mlp.ln1.linear.lora_a.weight\n",
            "✅ LoRA Trainable: stage1.blocks.3.mlp.ln1.linear.lora_b.weight\n",
            "✅ LoRA Trainable: stage1.blocks.3.mlp.ln2.linear.lora_a.weight\n",
            "✅ LoRA Trainable: stage1.blocks.3.mlp.ln2.linear.lora_b.weight\n",
            "✅ TinyFusion Trainable: stage2.gumbel_gate\n",
            "✅ Attention Biases Trainable: stage2.blocks.0.attn.attention_biases\n",
            "✅ LoRA Trainable: stage2.blocks.0.attn.qkv.linear.lora_a.weight\n",
            "✅ LoRA Trainable: stage2.blocks.0.attn.qkv.linear.lora_b.weight\n",
            "✅ LoRA Trainable: stage2.blocks.0.attn.proj.1.linear.lora_a.weight\n",
            "✅ LoRA Trainable: stage2.blocks.0.attn.proj.1.linear.lora_b.weight\n",
            "✅ LoRA Trainable: stage2.blocks.0.mlp.ln1.linear.lora_a.weight\n",
            "✅ LoRA Trainable: stage2.blocks.0.mlp.ln1.linear.lora_b.weight\n",
            "✅ LoRA Trainable: stage2.blocks.0.mlp.ln2.linear.lora_a.weight\n",
            "✅ LoRA Trainable: stage2.blocks.0.mlp.ln2.linear.lora_b.weight\n",
            "✅ Attention Biases Trainable: stage2.blocks.1.attn.attention_biases\n",
            "✅ LoRA Trainable: stage2.blocks.1.attn.qkv.linear.lora_a.weight\n",
            "✅ LoRA Trainable: stage2.blocks.1.attn.qkv.linear.lora_b.weight\n",
            "✅ LoRA Trainable: stage2.blocks.1.attn.proj.1.linear.lora_a.weight\n",
            "✅ LoRA Trainable: stage2.blocks.1.attn.proj.1.linear.lora_b.weight\n",
            "✅ LoRA Trainable: stage2.blocks.1.mlp.ln1.linear.lora_a.weight\n",
            "✅ LoRA Trainable: stage2.blocks.1.mlp.ln1.linear.lora_b.weight\n",
            "✅ LoRA Trainable: stage2.blocks.1.mlp.ln2.linear.lora_a.weight\n",
            "✅ LoRA Trainable: stage2.blocks.1.mlp.ln2.linear.lora_b.weight\n",
            "✅ Attention Biases Trainable: stage2.blocks.2.attn.attention_biases\n",
            "✅ LoRA Trainable: stage2.blocks.2.attn.qkv.linear.lora_a.weight\n",
            "✅ LoRA Trainable: stage2.blocks.2.attn.qkv.linear.lora_b.weight\n",
            "✅ LoRA Trainable: stage2.blocks.2.attn.proj.1.linear.lora_a.weight\n",
            "✅ LoRA Trainable: stage2.blocks.2.attn.proj.1.linear.lora_b.weight\n",
            "✅ LoRA Trainable: stage2.blocks.2.mlp.ln1.linear.lora_a.weight\n",
            "✅ LoRA Trainable: stage2.blocks.2.mlp.ln1.linear.lora_b.weight\n",
            "✅ LoRA Trainable: stage2.blocks.2.mlp.ln2.linear.lora_a.weight\n",
            "✅ LoRA Trainable: stage2.blocks.2.mlp.ln2.linear.lora_b.weight\n",
            "✅ Attention Biases Trainable: stage2.blocks.3.attn.attention_biases\n",
            "✅ LoRA Trainable: stage2.blocks.3.attn.qkv.linear.lora_a.weight\n",
            "✅ LoRA Trainable: stage2.blocks.3.attn.qkv.linear.lora_b.weight\n",
            "✅ LoRA Trainable: stage2.blocks.3.attn.proj.1.linear.lora_a.weight\n",
            "✅ LoRA Trainable: stage2.blocks.3.attn.proj.1.linear.lora_b.weight\n",
            "✅ LoRA Trainable: stage2.blocks.3.mlp.ln1.linear.lora_a.weight\n",
            "✅ LoRA Trainable: stage2.blocks.3.mlp.ln1.linear.lora_b.weight\n",
            "✅ LoRA Trainable: stage2.blocks.3.mlp.ln2.linear.lora_a.weight\n",
            "✅ LoRA Trainable: stage2.blocks.3.mlp.ln2.linear.lora_b.weight\n",
            "✅ Conv1x1 Trainable: conv1x1.0.weight\n",
            "✅ Conv1x1 Trainable: conv1x1.0.bias\n",
            "✅ Conv1x1 Trainable: conv1x1.1.weight\n",
            "✅ Conv1x1 Trainable: conv1x1.1.bias\n",
            "✅ Head Trainable: head.bn.weight\n",
            "✅ Head Trainable: head.bn.bias\n",
            "✅ Head Trainable: head.linear.weight\n",
            "✅ Head Trainable: head.linear.bias\n",
            "✅ Head Trainable: head_dist.bn.weight\n",
            "✅ Head Trainable: head_dist.bn.bias\n",
            "✅ Head Trainable: head_dist.linear.weight\n",
            "✅ Head Trainable: head_dist.linear.bias\n"
          ]
        }
      ]
    },
    {
      "cell_type": "code",
      "source": [
        "# gumbel_gate 파라미터가 포함되어 있는지 확인\n",
        "for name, param in model.named_parameters():\n",
        "    print(f\"Parameter name: {name}, requires_grad: {param.requires_grad}\")"
      ],
      "metadata": {
        "colab": {
          "base_uri": "https://localhost:8080/"
        },
        "id": "QFLWmD5T5k-v",
        "outputId": "bb4a28bb-854e-405c-8a5d-19b7d24aea1e"
      },
      "execution_count": 88,
      "outputs": [
        {
          "output_type": "stream",
          "name": "stdout",
          "text": [
            "Parameter name: stem.conv1.linear.weight, requires_grad: False\n",
            "Parameter name: stem.conv1.bn.weight, requires_grad: False\n",
            "Parameter name: stem.conv1.bn.bias, requires_grad: False\n",
            "Parameter name: stem.conv2.linear.weight, requires_grad: False\n",
            "Parameter name: stem.conv2.bn.weight, requires_grad: False\n",
            "Parameter name: stem.conv2.bn.bias, requires_grad: False\n",
            "Parameter name: stem.conv3.linear.weight, requires_grad: False\n",
            "Parameter name: stem.conv3.bn.weight, requires_grad: False\n",
            "Parameter name: stem.conv3.bn.bias, requires_grad: False\n",
            "Parameter name: stem.conv4.linear.weight, requires_grad: False\n",
            "Parameter name: stem.conv4.bn.weight, requires_grad: False\n",
            "Parameter name: stem.conv4.bn.bias, requires_grad: False\n",
            "Parameter name: stage1.gumbel_gate, requires_grad: True\n",
            "Parameter name: stage1.blocks.0.attn.attention_biases, requires_grad: True\n",
            "Parameter name: stage1.blocks.0.attn.qkv.linear.weight, requires_grad: False\n",
            "Parameter name: stage1.blocks.0.attn.qkv.linear.lora_a.weight, requires_grad: True\n",
            "Parameter name: stage1.blocks.0.attn.qkv.linear.lora_b.weight, requires_grad: True\n",
            "Parameter name: stage1.blocks.0.attn.qkv.bn.weight, requires_grad: False\n",
            "Parameter name: stage1.blocks.0.attn.qkv.bn.bias, requires_grad: False\n",
            "Parameter name: stage1.blocks.0.attn.proj.1.linear.weight, requires_grad: False\n",
            "Parameter name: stage1.blocks.0.attn.proj.1.linear.lora_a.weight, requires_grad: True\n",
            "Parameter name: stage1.blocks.0.attn.proj.1.linear.lora_b.weight, requires_grad: True\n",
            "Parameter name: stage1.blocks.0.attn.proj.1.bn.weight, requires_grad: False\n",
            "Parameter name: stage1.blocks.0.attn.proj.1.bn.bias, requires_grad: False\n",
            "Parameter name: stage1.blocks.0.mlp.ln1.linear.weight, requires_grad: False\n",
            "Parameter name: stage1.blocks.0.mlp.ln1.linear.lora_a.weight, requires_grad: True\n",
            "Parameter name: stage1.blocks.0.mlp.ln1.linear.lora_b.weight, requires_grad: True\n",
            "Parameter name: stage1.blocks.0.mlp.ln1.bn.weight, requires_grad: False\n",
            "Parameter name: stage1.blocks.0.mlp.ln1.bn.bias, requires_grad: False\n",
            "Parameter name: stage1.blocks.0.mlp.ln2.linear.weight, requires_grad: False\n",
            "Parameter name: stage1.blocks.0.mlp.ln2.linear.lora_a.weight, requires_grad: True\n",
            "Parameter name: stage1.blocks.0.mlp.ln2.linear.lora_b.weight, requires_grad: True\n",
            "Parameter name: stage1.blocks.0.mlp.ln2.bn.weight, requires_grad: False\n",
            "Parameter name: stage1.blocks.0.mlp.ln2.bn.bias, requires_grad: False\n",
            "Parameter name: stage1.blocks.1.attn.attention_biases, requires_grad: True\n",
            "Parameter name: stage1.blocks.1.attn.qkv.linear.weight, requires_grad: False\n",
            "Parameter name: stage1.blocks.1.attn.qkv.linear.lora_a.weight, requires_grad: True\n",
            "Parameter name: stage1.blocks.1.attn.qkv.linear.lora_b.weight, requires_grad: True\n",
            "Parameter name: stage1.blocks.1.attn.qkv.bn.weight, requires_grad: False\n",
            "Parameter name: stage1.blocks.1.attn.qkv.bn.bias, requires_grad: False\n",
            "Parameter name: stage1.blocks.1.attn.proj.1.linear.weight, requires_grad: False\n",
            "Parameter name: stage1.blocks.1.attn.proj.1.linear.lora_a.weight, requires_grad: True\n",
            "Parameter name: stage1.blocks.1.attn.proj.1.linear.lora_b.weight, requires_grad: True\n",
            "Parameter name: stage1.blocks.1.attn.proj.1.bn.weight, requires_grad: False\n",
            "Parameter name: stage1.blocks.1.attn.proj.1.bn.bias, requires_grad: False\n",
            "Parameter name: stage1.blocks.1.mlp.ln1.linear.weight, requires_grad: False\n",
            "Parameter name: stage1.blocks.1.mlp.ln1.linear.lora_a.weight, requires_grad: True\n",
            "Parameter name: stage1.blocks.1.mlp.ln1.linear.lora_b.weight, requires_grad: True\n",
            "Parameter name: stage1.blocks.1.mlp.ln1.bn.weight, requires_grad: False\n",
            "Parameter name: stage1.blocks.1.mlp.ln1.bn.bias, requires_grad: False\n",
            "Parameter name: stage1.blocks.1.mlp.ln2.linear.weight, requires_grad: False\n",
            "Parameter name: stage1.blocks.1.mlp.ln2.linear.lora_a.weight, requires_grad: True\n",
            "Parameter name: stage1.blocks.1.mlp.ln2.linear.lora_b.weight, requires_grad: True\n",
            "Parameter name: stage1.blocks.1.mlp.ln2.bn.weight, requires_grad: False\n",
            "Parameter name: stage1.blocks.1.mlp.ln2.bn.bias, requires_grad: False\n",
            "Parameter name: stage1.blocks.2.attn.attention_biases, requires_grad: True\n",
            "Parameter name: stage1.blocks.2.attn.qkv.linear.weight, requires_grad: False\n",
            "Parameter name: stage1.blocks.2.attn.qkv.linear.lora_a.weight, requires_grad: True\n",
            "Parameter name: stage1.blocks.2.attn.qkv.linear.lora_b.weight, requires_grad: True\n",
            "Parameter name: stage1.blocks.2.attn.qkv.bn.weight, requires_grad: False\n",
            "Parameter name: stage1.blocks.2.attn.qkv.bn.bias, requires_grad: False\n",
            "Parameter name: stage1.blocks.2.attn.proj.1.linear.weight, requires_grad: False\n",
            "Parameter name: stage1.blocks.2.attn.proj.1.linear.lora_a.weight, requires_grad: True\n",
            "Parameter name: stage1.blocks.2.attn.proj.1.linear.lora_b.weight, requires_grad: True\n",
            "Parameter name: stage1.blocks.2.attn.proj.1.bn.weight, requires_grad: False\n",
            "Parameter name: stage1.blocks.2.attn.proj.1.bn.bias, requires_grad: False\n",
            "Parameter name: stage1.blocks.2.mlp.ln1.linear.weight, requires_grad: False\n",
            "Parameter name: stage1.blocks.2.mlp.ln1.linear.lora_a.weight, requires_grad: True\n",
            "Parameter name: stage1.blocks.2.mlp.ln1.linear.lora_b.weight, requires_grad: True\n",
            "Parameter name: stage1.blocks.2.mlp.ln1.bn.weight, requires_grad: False\n",
            "Parameter name: stage1.blocks.2.mlp.ln1.bn.bias, requires_grad: False\n",
            "Parameter name: stage1.blocks.2.mlp.ln2.linear.weight, requires_grad: False\n",
            "Parameter name: stage1.blocks.2.mlp.ln2.linear.lora_a.weight, requires_grad: True\n",
            "Parameter name: stage1.blocks.2.mlp.ln2.linear.lora_b.weight, requires_grad: True\n",
            "Parameter name: stage1.blocks.2.mlp.ln2.bn.weight, requires_grad: False\n",
            "Parameter name: stage1.blocks.2.mlp.ln2.bn.bias, requires_grad: False\n",
            "Parameter name: stage1.blocks.3.attn.attention_biases, requires_grad: True\n",
            "Parameter name: stage1.blocks.3.attn.qkv.linear.weight, requires_grad: False\n",
            "Parameter name: stage1.blocks.3.attn.qkv.linear.lora_a.weight, requires_grad: True\n",
            "Parameter name: stage1.blocks.3.attn.qkv.linear.lora_b.weight, requires_grad: True\n",
            "Parameter name: stage1.blocks.3.attn.qkv.bn.weight, requires_grad: False\n",
            "Parameter name: stage1.blocks.3.attn.qkv.bn.bias, requires_grad: False\n",
            "Parameter name: stage1.blocks.3.attn.proj.1.linear.weight, requires_grad: False\n",
            "Parameter name: stage1.blocks.3.attn.proj.1.linear.lora_a.weight, requires_grad: True\n",
            "Parameter name: stage1.blocks.3.attn.proj.1.linear.lora_b.weight, requires_grad: True\n",
            "Parameter name: stage1.blocks.3.attn.proj.1.bn.weight, requires_grad: False\n",
            "Parameter name: stage1.blocks.3.attn.proj.1.bn.bias, requires_grad: False\n",
            "Parameter name: stage1.blocks.3.mlp.ln1.linear.weight, requires_grad: False\n",
            "Parameter name: stage1.blocks.3.mlp.ln1.linear.lora_a.weight, requires_grad: True\n",
            "Parameter name: stage1.blocks.3.mlp.ln1.linear.lora_b.weight, requires_grad: True\n",
            "Parameter name: stage1.blocks.3.mlp.ln1.bn.weight, requires_grad: False\n",
            "Parameter name: stage1.blocks.3.mlp.ln1.bn.bias, requires_grad: False\n",
            "Parameter name: stage1.blocks.3.mlp.ln2.linear.weight, requires_grad: False\n",
            "Parameter name: stage1.blocks.3.mlp.ln2.linear.lora_a.weight, requires_grad: True\n",
            "Parameter name: stage1.blocks.3.mlp.ln2.linear.lora_b.weight, requires_grad: True\n",
            "Parameter name: stage1.blocks.3.mlp.ln2.bn.weight, requires_grad: False\n",
            "Parameter name: stage1.blocks.3.mlp.ln2.bn.bias, requires_grad: False\n",
            "Parameter name: stage2.gumbel_gate, requires_grad: True\n",
            "Parameter name: stage2.downsample.conv.weight, requires_grad: False\n",
            "Parameter name: stage2.downsample.conv.bias, requires_grad: False\n",
            "Parameter name: stage2.blocks.0.attn.attention_biases, requires_grad: True\n",
            "Parameter name: stage2.blocks.0.attn.qkv.linear.weight, requires_grad: False\n",
            "Parameter name: stage2.blocks.0.attn.qkv.linear.lora_a.weight, requires_grad: True\n",
            "Parameter name: stage2.blocks.0.attn.qkv.linear.lora_b.weight, requires_grad: True\n",
            "Parameter name: stage2.blocks.0.attn.qkv.bn.weight, requires_grad: False\n",
            "Parameter name: stage2.blocks.0.attn.qkv.bn.bias, requires_grad: False\n",
            "Parameter name: stage2.blocks.0.attn.proj.1.linear.weight, requires_grad: False\n",
            "Parameter name: stage2.blocks.0.attn.proj.1.linear.lora_a.weight, requires_grad: True\n",
            "Parameter name: stage2.blocks.0.attn.proj.1.linear.lora_b.weight, requires_grad: True\n",
            "Parameter name: stage2.blocks.0.attn.proj.1.bn.weight, requires_grad: False\n",
            "Parameter name: stage2.blocks.0.attn.proj.1.bn.bias, requires_grad: False\n",
            "Parameter name: stage2.blocks.0.mlp.ln1.linear.weight, requires_grad: False\n",
            "Parameter name: stage2.blocks.0.mlp.ln1.linear.lora_a.weight, requires_grad: True\n",
            "Parameter name: stage2.blocks.0.mlp.ln1.linear.lora_b.weight, requires_grad: True\n",
            "Parameter name: stage2.blocks.0.mlp.ln1.bn.weight, requires_grad: False\n",
            "Parameter name: stage2.blocks.0.mlp.ln1.bn.bias, requires_grad: False\n",
            "Parameter name: stage2.blocks.0.mlp.ln2.linear.weight, requires_grad: False\n",
            "Parameter name: stage2.blocks.0.mlp.ln2.linear.lora_a.weight, requires_grad: True\n",
            "Parameter name: stage2.blocks.0.mlp.ln2.linear.lora_b.weight, requires_grad: True\n",
            "Parameter name: stage2.blocks.0.mlp.ln2.bn.weight, requires_grad: False\n",
            "Parameter name: stage2.blocks.0.mlp.ln2.bn.bias, requires_grad: False\n",
            "Parameter name: stage2.blocks.1.attn.attention_biases, requires_grad: True\n",
            "Parameter name: stage2.blocks.1.attn.qkv.linear.weight, requires_grad: False\n",
            "Parameter name: stage2.blocks.1.attn.qkv.linear.lora_a.weight, requires_grad: True\n",
            "Parameter name: stage2.blocks.1.attn.qkv.linear.lora_b.weight, requires_grad: True\n",
            "Parameter name: stage2.blocks.1.attn.qkv.bn.weight, requires_grad: False\n",
            "Parameter name: stage2.blocks.1.attn.qkv.bn.bias, requires_grad: False\n",
            "Parameter name: stage2.blocks.1.attn.proj.1.linear.weight, requires_grad: False\n",
            "Parameter name: stage2.blocks.1.attn.proj.1.linear.lora_a.weight, requires_grad: True\n",
            "Parameter name: stage2.blocks.1.attn.proj.1.linear.lora_b.weight, requires_grad: True\n",
            "Parameter name: stage2.blocks.1.attn.proj.1.bn.weight, requires_grad: False\n",
            "Parameter name: stage2.blocks.1.attn.proj.1.bn.bias, requires_grad: False\n",
            "Parameter name: stage2.blocks.1.mlp.ln1.linear.weight, requires_grad: False\n",
            "Parameter name: stage2.blocks.1.mlp.ln1.linear.lora_a.weight, requires_grad: True\n",
            "Parameter name: stage2.blocks.1.mlp.ln1.linear.lora_b.weight, requires_grad: True\n",
            "Parameter name: stage2.blocks.1.mlp.ln1.bn.weight, requires_grad: False\n",
            "Parameter name: stage2.blocks.1.mlp.ln1.bn.bias, requires_grad: False\n",
            "Parameter name: stage2.blocks.1.mlp.ln2.linear.weight, requires_grad: False\n",
            "Parameter name: stage2.blocks.1.mlp.ln2.linear.lora_a.weight, requires_grad: True\n",
            "Parameter name: stage2.blocks.1.mlp.ln2.linear.lora_b.weight, requires_grad: True\n",
            "Parameter name: stage2.blocks.1.mlp.ln2.bn.weight, requires_grad: False\n",
            "Parameter name: stage2.blocks.1.mlp.ln2.bn.bias, requires_grad: False\n",
            "Parameter name: stage2.blocks.2.attn.attention_biases, requires_grad: True\n",
            "Parameter name: stage2.blocks.2.attn.qkv.linear.weight, requires_grad: False\n",
            "Parameter name: stage2.blocks.2.attn.qkv.linear.lora_a.weight, requires_grad: True\n",
            "Parameter name: stage2.blocks.2.attn.qkv.linear.lora_b.weight, requires_grad: True\n",
            "Parameter name: stage2.blocks.2.attn.qkv.bn.weight, requires_grad: False\n",
            "Parameter name: stage2.blocks.2.attn.qkv.bn.bias, requires_grad: False\n",
            "Parameter name: stage2.blocks.2.attn.proj.1.linear.weight, requires_grad: False\n",
            "Parameter name: stage2.blocks.2.attn.proj.1.linear.lora_a.weight, requires_grad: True\n",
            "Parameter name: stage2.blocks.2.attn.proj.1.linear.lora_b.weight, requires_grad: True\n",
            "Parameter name: stage2.blocks.2.attn.proj.1.bn.weight, requires_grad: False\n",
            "Parameter name: stage2.blocks.2.attn.proj.1.bn.bias, requires_grad: False\n",
            "Parameter name: stage2.blocks.2.mlp.ln1.linear.weight, requires_grad: False\n",
            "Parameter name: stage2.blocks.2.mlp.ln1.linear.lora_a.weight, requires_grad: True\n",
            "Parameter name: stage2.blocks.2.mlp.ln1.linear.lora_b.weight, requires_grad: True\n",
            "Parameter name: stage2.blocks.2.mlp.ln1.bn.weight, requires_grad: False\n",
            "Parameter name: stage2.blocks.2.mlp.ln1.bn.bias, requires_grad: False\n",
            "Parameter name: stage2.blocks.2.mlp.ln2.linear.weight, requires_grad: False\n",
            "Parameter name: stage2.blocks.2.mlp.ln2.linear.lora_a.weight, requires_grad: True\n",
            "Parameter name: stage2.blocks.2.mlp.ln2.linear.lora_b.weight, requires_grad: True\n",
            "Parameter name: stage2.blocks.2.mlp.ln2.bn.weight, requires_grad: False\n",
            "Parameter name: stage2.blocks.2.mlp.ln2.bn.bias, requires_grad: False\n",
            "Parameter name: stage2.blocks.3.attn.attention_biases, requires_grad: True\n",
            "Parameter name: stage2.blocks.3.attn.qkv.linear.weight, requires_grad: False\n",
            "Parameter name: stage2.blocks.3.attn.qkv.linear.lora_a.weight, requires_grad: True\n",
            "Parameter name: stage2.blocks.3.attn.qkv.linear.lora_b.weight, requires_grad: True\n",
            "Parameter name: stage2.blocks.3.attn.qkv.bn.weight, requires_grad: False\n",
            "Parameter name: stage2.blocks.3.attn.qkv.bn.bias, requires_grad: False\n",
            "Parameter name: stage2.blocks.3.attn.proj.1.linear.weight, requires_grad: False\n",
            "Parameter name: stage2.blocks.3.attn.proj.1.linear.lora_a.weight, requires_grad: True\n",
            "Parameter name: stage2.blocks.3.attn.proj.1.linear.lora_b.weight, requires_grad: True\n",
            "Parameter name: stage2.blocks.3.attn.proj.1.bn.weight, requires_grad: False\n",
            "Parameter name: stage2.blocks.3.attn.proj.1.bn.bias, requires_grad: False\n",
            "Parameter name: stage2.blocks.3.mlp.ln1.linear.weight, requires_grad: False\n",
            "Parameter name: stage2.blocks.3.mlp.ln1.linear.lora_a.weight, requires_grad: True\n",
            "Parameter name: stage2.blocks.3.mlp.ln1.linear.lora_b.weight, requires_grad: True\n",
            "Parameter name: stage2.blocks.3.mlp.ln1.bn.weight, requires_grad: False\n",
            "Parameter name: stage2.blocks.3.mlp.ln1.bn.bias, requires_grad: False\n",
            "Parameter name: stage2.blocks.3.mlp.ln2.linear.weight, requires_grad: False\n",
            "Parameter name: stage2.blocks.3.mlp.ln2.linear.lora_a.weight, requires_grad: True\n",
            "Parameter name: stage2.blocks.3.mlp.ln2.linear.lora_b.weight, requires_grad: True\n",
            "Parameter name: stage2.blocks.3.mlp.ln2.bn.weight, requires_grad: False\n",
            "Parameter name: stage2.blocks.3.mlp.ln2.bn.bias, requires_grad: False\n",
            "Parameter name: conv1x1.0.weight, requires_grad: True\n",
            "Parameter name: conv1x1.0.bias, requires_grad: True\n",
            "Parameter name: conv1x1.1.weight, requires_grad: True\n",
            "Parameter name: conv1x1.1.bias, requires_grad: True\n",
            "Parameter name: head.bn.weight, requires_grad: True\n",
            "Parameter name: head.bn.bias, requires_grad: True\n",
            "Parameter name: head.linear.weight, requires_grad: True\n",
            "Parameter name: head.linear.bias, requires_grad: True\n",
            "Parameter name: head_dist.bn.weight, requires_grad: True\n",
            "Parameter name: head_dist.bn.bias, requires_grad: True\n",
            "Parameter name: head_dist.linear.weight, requires_grad: True\n",
            "Parameter name: head_dist.linear.bias, requires_grad: True\n"
          ]
        }
      ]
    },
    {
      "cell_type": "code",
      "execution_count": null,
      "metadata": {
        "colab": {
          "base_uri": "https://localhost:8080/"
        },
        "id": "VXsiOTOO0GGK",
        "outputId": "a3ec9587-7c89-4131-eeb5-6402adcedbe1"
      },
      "outputs": [
        {
          "output_type": "stream",
          "name": "stdout",
          "text": [
            "\n",
            "Epoch 1/100\n"
          ]
        },
        {
          "output_type": "stream",
          "name": "stderr",
          "text": [
            "Training: 100%|██████████| 2188/2188 [02:54<00:00, 12.51it/s]\n"
          ]
        },
        {
          "output_type": "stream",
          "name": "stdout",
          "text": [
            "Train Loss: 0.4755, Train Accuracy: 84.56%\n",
            "Tau: 0.9910\n",
            "Each stage of block probabilities:\n",
            "stage1\n",
            "Block 0: 0.2715  \n",
            "Block 1: 0.2604  \n",
            "Block 2: 0.2334 *\n",
            "Block 3: 0.2346 *\n",
            "stage2\n",
            "Block 0: 0.2624  \n",
            "Block 1: 0.2681  \n",
            "Block 2: 0.2387 *\n",
            "Block 3: 0.2308 *\n"
          ]
        },
        {
          "output_type": "stream",
          "name": "stderr",
          "text": [
            "Validation: 100%|██████████| 469/469 [00:20<00:00, 22.94it/s]\n"
          ]
        },
        {
          "output_type": "stream",
          "name": "stdout",
          "text": [
            "Validation Loss: 0.5290, Validation Accuracy: 81.50%\n",
            "Balanced Accuracy: 0.8080\n",
            "Tau: 0.9910\n",
            "\n",
            "Epoch 2/100\n"
          ]
        },
        {
          "output_type": "stream",
          "name": "stderr",
          "text": [
            "Training: 100%|██████████| 2188/2188 [02:53<00:00, 12.58it/s]\n"
          ]
        },
        {
          "output_type": "stream",
          "name": "stdout",
          "text": [
            "Train Loss: 0.2425, Train Accuracy: 91.82%\n",
            "Tau: 0.9820\n",
            "Each stage of block probabilities:\n",
            "stage1\n",
            "Block 0: 0.2924  \n",
            "Block 1: 0.2644  \n",
            "Block 2: 0.2149 *\n",
            "Block 3: 0.2282 *\n",
            "stage2\n",
            "Block 0: 0.2730  \n",
            "Block 1: 0.2758  \n",
            "Block 2: 0.2285 *\n",
            "Block 3: 0.2227 *\n"
          ]
        },
        {
          "output_type": "stream",
          "name": "stderr",
          "text": [
            "Validation: 100%|██████████| 469/469 [00:20<00:00, 22.89it/s]\n"
          ]
        },
        {
          "output_type": "stream",
          "name": "stdout",
          "text": [
            "Validation Loss: 0.4490, Validation Accuracy: 84.30%\n",
            "Balanced Accuracy: 0.8386\n",
            "Tau: 0.9820\n",
            "\n",
            "Epoch 3/100\n"
          ]
        },
        {
          "output_type": "stream",
          "name": "stderr",
          "text": [
            "Training: 100%|██████████| 2188/2188 [02:54<00:00, 12.56it/s]\n"
          ]
        },
        {
          "output_type": "stream",
          "name": "stdout",
          "text": [
            "Train Loss: 0.1905, Train Accuracy: 93.56%\n",
            "Tau: 0.9730\n",
            "Each stage of block probabilities:\n",
            "stage1\n",
            "Block 0: 0.3306  \n",
            "Block 1: 0.2591  \n",
            "Block 2: 0.1961 *\n",
            "Block 3: 0.2141 *\n",
            "stage2\n",
            "Block 0: 0.2869  \n",
            "Block 1: 0.2786  \n",
            "Block 2: 0.2225 *\n",
            "Block 3: 0.2120 *\n"
          ]
        },
        {
          "output_type": "stream",
          "name": "stderr",
          "text": [
            "Validation: 100%|██████████| 469/469 [00:20<00:00, 22.53it/s]\n"
          ]
        },
        {
          "output_type": "stream",
          "name": "stdout",
          "text": [
            "Validation Loss: 0.3677, Validation Accuracy: 87.39%\n",
            "Balanced Accuracy: 0.8733\n",
            "Tau: 0.9730\n",
            "\n",
            "Epoch 4/100\n"
          ]
        },
        {
          "output_type": "stream",
          "name": "stderr",
          "text": [
            "Training: 100%|██████████| 2188/2188 [02:54<00:00, 12.52it/s]\n"
          ]
        },
        {
          "output_type": "stream",
          "name": "stdout",
          "text": [
            "Train Loss: 0.1579, Train Accuracy: 94.67%\n",
            "Tau: 0.9640\n",
            "Each stage of block probabilities:\n",
            "stage1\n",
            "Block 0: 0.3497  \n",
            "Block 1: 0.2635  \n",
            "Block 2: 0.1838 *\n",
            "Block 3: 0.2031 *\n",
            "stage2\n",
            "Block 0: 0.3010  \n",
            "Block 1: 0.2822  \n",
            "Block 2: 0.2140 *\n",
            "Block 3: 0.2028 *\n"
          ]
        },
        {
          "output_type": "stream",
          "name": "stderr",
          "text": [
            "Validation: 100%|██████████| 469/469 [00:20<00:00, 22.76it/s]\n"
          ]
        },
        {
          "output_type": "stream",
          "name": "stdout",
          "text": [
            "Validation Loss: 0.2783, Validation Accuracy: 90.45%\n",
            "Balanced Accuracy: 0.9031\n",
            "Tau: 0.9640\n",
            "\n",
            "Epoch 5/100\n"
          ]
        },
        {
          "output_type": "stream",
          "name": "stderr",
          "text": [
            "Training: 100%|██████████| 2188/2188 [02:54<00:00, 12.57it/s]\n"
          ]
        },
        {
          "output_type": "stream",
          "name": "stdout",
          "text": [
            "Train Loss: 0.1388, Train Accuracy: 95.23%\n",
            "Tau: 0.9550\n",
            "Each stage of block probabilities:\n",
            "stage1\n",
            "Block 0: 0.3821  \n",
            "Block 1: 0.2623  \n",
            "Block 2: 0.1669 *\n",
            "Block 3: 0.1888 *\n",
            "stage2\n",
            "Block 0: 0.3119  \n",
            "Block 1: 0.2818  \n",
            "Block 2: 0.2124 *\n",
            "Block 3: 0.1939 *\n"
          ]
        },
        {
          "output_type": "stream",
          "name": "stderr",
          "text": [
            "Validation: 100%|██████████| 469/469 [00:20<00:00, 22.80it/s]\n"
          ]
        },
        {
          "output_type": "stream",
          "name": "stdout",
          "text": [
            "Validation Loss: 0.2813, Validation Accuracy: 90.35%\n",
            "Balanced Accuracy: 0.9027\n",
            "Tau: 0.9550\n",
            "\n",
            "Epoch 6/100\n"
          ]
        },
        {
          "output_type": "stream",
          "name": "stderr",
          "text": [
            "Training: 100%|██████████| 2188/2188 [02:53<00:00, 12.60it/s]\n"
          ]
        },
        {
          "output_type": "stream",
          "name": "stdout",
          "text": [
            "Train Loss: 0.1189, Train Accuracy: 95.99%\n",
            "Tau: 0.9460\n",
            "Each stage of block probabilities:\n",
            "stage1\n",
            "Block 0: 0.4178  \n",
            "Block 1: 0.2567  \n",
            "Block 2: 0.1530 *\n",
            "Block 3: 0.1725 *\n",
            "stage2\n",
            "Block 0: 0.3198  \n",
            "Block 1: 0.2849  \n",
            "Block 2: 0.2088 *\n",
            "Block 3: 0.1865 *\n"
          ]
        },
        {
          "output_type": "stream",
          "name": "stderr",
          "text": [
            "Validation: 100%|██████████| 469/469 [00:20<00:00, 22.78it/s]\n"
          ]
        },
        {
          "output_type": "stream",
          "name": "stdout",
          "text": [
            "Validation Loss: 0.2615, Validation Accuracy: 91.17%\n",
            "Balanced Accuracy: 0.9108\n",
            "Tau: 0.9460\n",
            "\n",
            "Epoch 7/100\n"
          ]
        },
        {
          "output_type": "stream",
          "name": "stderr",
          "text": [
            "Training: 100%|██████████| 2188/2188 [02:54<00:00, 12.55it/s]\n"
          ]
        },
        {
          "output_type": "stream",
          "name": "stdout",
          "text": [
            "Train Loss: 0.1065, Train Accuracy: 96.38%\n",
            "Tau: 0.9370\n",
            "Each stage of block probabilities:\n",
            "stage1\n",
            "Block 0: 0.4458  \n",
            "Block 1: 0.2555  \n",
            "Block 2: 0.1394 *\n",
            "Block 3: 0.1593 *\n",
            "stage2\n",
            "Block 0: 0.3432  \n",
            "Block 1: 0.2825  \n",
            "Block 2: 0.2014 *\n",
            "Block 3: 0.1729 *\n"
          ]
        },
        {
          "output_type": "stream",
          "name": "stderr",
          "text": [
            "Validation: 100%|██████████| 469/469 [00:20<00:00, 22.87it/s]\n"
          ]
        },
        {
          "output_type": "stream",
          "name": "stdout",
          "text": [
            "Validation Loss: 0.2514, Validation Accuracy: 91.49%\n",
            "Balanced Accuracy: 0.9120\n",
            "Tau: 0.9370\n",
            "\n",
            "Epoch 8/100\n"
          ]
        },
        {
          "output_type": "stream",
          "name": "stderr",
          "text": [
            "Training: 100%|██████████| 2188/2188 [02:53<00:00, 12.59it/s]\n"
          ]
        },
        {
          "output_type": "stream",
          "name": "stdout",
          "text": [
            "Train Loss: 0.0948, Train Accuracy: 96.69%\n",
            "Tau: 0.9280\n",
            "Each stage of block probabilities:\n",
            "stage1\n",
            "Block 0: 0.4821  \n",
            "Block 1: 0.2467  \n",
            "Block 2: 0.1243 *\n",
            "Block 3: 0.1469 *\n",
            "stage2\n",
            "Block 0: 0.3645  \n",
            "Block 1: 0.2795  \n",
            "Block 2: 0.1895 *\n",
            "Block 3: 0.1665 *\n"
          ]
        },
        {
          "output_type": "stream",
          "name": "stderr",
          "text": [
            "Validation: 100%|██████████| 469/469 [00:20<00:00, 22.70it/s]\n"
          ]
        },
        {
          "output_type": "stream",
          "name": "stdout",
          "text": [
            "Validation Loss: 0.2628, Validation Accuracy: 91.16%\n",
            "Balanced Accuracy: 0.9116\n",
            "Tau: 0.9280\n",
            "\n",
            "Epoch 9/100\n"
          ]
        },
        {
          "output_type": "stream",
          "name": "stderr",
          "text": [
            "Training: 100%|██████████| 2188/2188 [02:54<00:00, 12.54it/s]\n"
          ]
        },
        {
          "output_type": "stream",
          "name": "stdout",
          "text": [
            "Train Loss: 0.0847, Train Accuracy: 97.09%\n",
            "Tau: 0.9190\n",
            "Each stage of block probabilities:\n",
            "stage1\n",
            "Block 0: 0.5152  \n",
            "Block 1: 0.2364  \n",
            "Block 2: 0.1120 *\n",
            "Block 3: 0.1364 *\n",
            "stage2\n",
            "Block 0: 0.3792  \n",
            "Block 1: 0.2839  \n",
            "Block 2: 0.1806 *\n",
            "Block 3: 0.1563 *\n"
          ]
        },
        {
          "output_type": "stream",
          "name": "stderr",
          "text": [
            "Validation: 100%|██████████| 469/469 [00:20<00:00, 22.74it/s]\n"
          ]
        },
        {
          "output_type": "stream",
          "name": "stdout",
          "text": [
            "Validation Loss: 0.2457, Validation Accuracy: 91.89%\n",
            "Balanced Accuracy: 0.9185\n",
            "Tau: 0.9190\n",
            "\n",
            "Epoch 10/100\n"
          ]
        },
        {
          "output_type": "stream",
          "name": "stderr",
          "text": [
            "Training: 100%|██████████| 2188/2188 [02:54<00:00, 12.55it/s]\n"
          ]
        },
        {
          "output_type": "stream",
          "name": "stdout",
          "text": [
            "Train Loss: 0.0748, Train Accuracy: 97.45%\n",
            "Tau: 0.9100\n",
            "Each stage of block probabilities:\n",
            "stage1\n",
            "Block 0: 0.5442  \n",
            "Block 1: 0.2297  \n",
            "Block 2: 0.1016 *\n",
            "Block 3: 0.1245 *\n",
            "stage2\n",
            "Block 0: 0.3946  \n",
            "Block 1: 0.2863  \n",
            "Block 2: 0.1682 *\n",
            "Block 3: 0.1510 *\n"
          ]
        },
        {
          "output_type": "stream",
          "name": "stderr",
          "text": [
            "Validation: 100%|██████████| 469/469 [00:20<00:00, 22.66it/s]\n"
          ]
        },
        {
          "output_type": "stream",
          "name": "stdout",
          "text": [
            "Validation Loss: 0.2301, Validation Accuracy: 92.61%\n",
            "Balanced Accuracy: 0.9276\n",
            "Tau: 0.9100\n",
            "\n",
            "Epoch 11/100\n"
          ]
        },
        {
          "output_type": "stream",
          "name": "stderr",
          "text": [
            "Training: 100%|██████████| 2188/2188 [02:54<00:00, 12.57it/s]\n"
          ]
        },
        {
          "output_type": "stream",
          "name": "stdout",
          "text": [
            "Train Loss: 0.0673, Train Accuracy: 97.72%\n",
            "Tau: 0.9010\n",
            "Each stage of block probabilities:\n",
            "stage1\n",
            "Block 0: 0.5792  \n",
            "Block 1: 0.2141  \n",
            "Block 2: 0.0924 *\n",
            "Block 3: 0.1144 *\n",
            "stage2\n",
            "Block 0: 0.4126  \n",
            "Block 1: 0.2767  \n",
            "Block 2: 0.1665 *\n",
            "Block 3: 0.1443 *\n"
          ]
        },
        {
          "output_type": "stream",
          "name": "stderr",
          "text": [
            "Validation: 100%|██████████| 469/469 [00:20<00:00, 22.50it/s]\n"
          ]
        },
        {
          "output_type": "stream",
          "name": "stdout",
          "text": [
            "Validation Loss: 0.2078, Validation Accuracy: 93.20%\n",
            "Balanced Accuracy: 0.9321\n",
            "Tau: 0.9010\n",
            "\n",
            "Epoch 12/100\n"
          ]
        },
        {
          "output_type": "stream",
          "name": "stderr",
          "text": [
            "Training: 100%|██████████| 2188/2188 [02:53<00:00, 12.59it/s]\n"
          ]
        },
        {
          "output_type": "stream",
          "name": "stdout",
          "text": [
            "Train Loss: 0.0597, Train Accuracy: 97.94%\n",
            "Tau: 0.8920\n",
            "Each stage of block probabilities:\n",
            "stage1\n",
            "Block 0: 0.6084  \n",
            "Block 1: 0.2089  \n",
            "Block 2: 0.0811 *\n",
            "Block 3: 0.1016 *\n",
            "stage2\n",
            "Block 0: 0.4286  \n",
            "Block 1: 0.2806  \n",
            "Block 2: 0.1534 *\n",
            "Block 3: 0.1374 *\n"
          ]
        },
        {
          "output_type": "stream",
          "name": "stderr",
          "text": [
            "Validation: 100%|██████████| 469/469 [00:20<00:00, 22.68it/s]\n"
          ]
        },
        {
          "output_type": "stream",
          "name": "stdout",
          "text": [
            "Validation Loss: 0.2176, Validation Accuracy: 93.06%\n",
            "Balanced Accuracy: 0.9315\n",
            "Tau: 0.8920\n",
            "\n",
            "Epoch 13/100\n"
          ]
        },
        {
          "output_type": "stream",
          "name": "stderr",
          "text": [
            "Training: 100%|██████████| 2188/2188 [02:54<00:00, 12.53it/s]\n"
          ]
        },
        {
          "output_type": "stream",
          "name": "stdout",
          "text": [
            "Train Loss: 0.0527, Train Accuracy: 98.21%\n",
            "Tau: 0.8830\n",
            "Each stage of block probabilities:\n",
            "stage1\n",
            "Block 0: 0.6365  \n",
            "Block 1: 0.1982  \n",
            "Block 2: 0.0722 *\n",
            "Block 3: 0.0931 *\n",
            "stage2\n",
            "Block 0: 0.4382  \n",
            "Block 1: 0.2767  \n",
            "Block 2: 0.1530 *\n",
            "Block 3: 0.1321 *\n"
          ]
        },
        {
          "output_type": "stream",
          "name": "stderr",
          "text": [
            "Validation: 100%|██████████| 469/469 [00:20<00:00, 22.71it/s]\n"
          ]
        },
        {
          "output_type": "stream",
          "name": "stdout",
          "text": [
            "Validation Loss: 0.2065, Validation Accuracy: 93.67%\n",
            "Balanced Accuracy: 0.9367\n",
            "Tau: 0.8830\n",
            "\n",
            "Epoch 14/100\n"
          ]
        },
        {
          "output_type": "stream",
          "name": "stderr",
          "text": [
            "Training: 100%|██████████| 2188/2188 [02:54<00:00, 12.54it/s]\n"
          ]
        },
        {
          "output_type": "stream",
          "name": "stdout",
          "text": [
            "Train Loss: 0.0480, Train Accuracy: 98.33%\n",
            "Tau: 0.8740\n",
            "Each stage of block probabilities:\n",
            "stage1\n",
            "Block 0: 0.6702  \n",
            "Block 1: 0.1841  \n",
            "Block 2: 0.0652 *\n",
            "Block 3: 0.0804 *\n",
            "stage2\n",
            "Block 0: 0.4579  \n",
            "Block 1: 0.2707  \n",
            "Block 2: 0.1447 *\n",
            "Block 3: 0.1267 *\n"
          ]
        },
        {
          "output_type": "stream",
          "name": "stderr",
          "text": [
            "Validation: 100%|██████████| 469/469 [00:20<00:00, 22.68it/s]\n"
          ]
        },
        {
          "output_type": "stream",
          "name": "stdout",
          "text": [
            "Validation Loss: 0.2076, Validation Accuracy: 93.61%\n",
            "Balanced Accuracy: 0.9360\n",
            "Tau: 0.8740\n",
            "\n",
            "Epoch 15/100\n"
          ]
        },
        {
          "output_type": "stream",
          "name": "stderr",
          "text": [
            "Training: 100%|██████████| 2188/2188 [02:54<00:00, 12.52it/s]\n"
          ]
        },
        {
          "output_type": "stream",
          "name": "stdout",
          "text": [
            "Train Loss: 0.0425, Train Accuracy: 98.53%\n",
            "Tau: 0.8650\n",
            "Each stage of block probabilities:\n",
            "stage1\n",
            "Block 0: 0.6859  \n",
            "Block 1: 0.1742  \n",
            "Block 2: 0.0626 *\n",
            "Block 3: 0.0773 *\n",
            "stage2\n",
            "Block 0: 0.4665  \n",
            "Block 1: 0.2762  \n",
            "Block 2: 0.1407 *\n",
            "Block 3: 0.1166 *\n"
          ]
        },
        {
          "output_type": "stream",
          "name": "stderr",
          "text": [
            "Validation: 100%|██████████| 469/469 [00:20<00:00, 22.78it/s]\n"
          ]
        },
        {
          "output_type": "stream",
          "name": "stdout",
          "text": [
            "Validation Loss: 0.1891, Validation Accuracy: 94.19%\n",
            "Balanced Accuracy: 0.9431\n",
            "Tau: 0.8650\n",
            "\n",
            "Epoch 16/100\n"
          ]
        },
        {
          "output_type": "stream",
          "name": "stderr",
          "text": [
            "Training: 100%|██████████| 2188/2188 [02:54<00:00, 12.57it/s]\n"
          ]
        },
        {
          "output_type": "stream",
          "name": "stdout",
          "text": [
            "Train Loss: 0.0414, Train Accuracy: 98.59%\n",
            "Tau: 0.8560\n",
            "Each stage of block probabilities:\n",
            "stage1\n",
            "Block 0: 0.7210  \n",
            "Block 1: 0.1603  \n",
            "Block 2: 0.0519 *\n",
            "Block 3: 0.0668 *\n",
            "stage2\n",
            "Block 0: 0.4744  \n",
            "Block 1: 0.2786  \n",
            "Block 2: 0.1358 *\n",
            "Block 3: 0.1112 *\n"
          ]
        },
        {
          "output_type": "stream",
          "name": "stderr",
          "text": [
            "Validation: 100%|██████████| 469/469 [00:20<00:00, 22.79it/s]\n"
          ]
        },
        {
          "output_type": "stream",
          "name": "stdout",
          "text": [
            "Validation Loss: 0.1803, Validation Accuracy: 94.37%\n",
            "Balanced Accuracy: 0.9454\n",
            "Tau: 0.8560\n",
            "\n",
            "Epoch 17/100\n"
          ]
        },
        {
          "output_type": "stream",
          "name": "stderr",
          "text": [
            "Training: 100%|██████████| 2188/2188 [02:54<00:00, 12.53it/s]\n"
          ]
        },
        {
          "output_type": "stream",
          "name": "stdout",
          "text": [
            "Train Loss: 0.0358, Train Accuracy: 98.78%\n",
            "Tau: 0.8470\n",
            "Each stage of block probabilities:\n",
            "stage1\n",
            "Block 0: 0.7420  \n",
            "Block 1: 0.1523  \n",
            "Block 2: 0.0455 *\n",
            "Block 3: 0.0602 *\n",
            "stage2\n",
            "Block 0: 0.4845  \n",
            "Block 1: 0.2800  \n",
            "Block 2: 0.1297 *\n",
            "Block 3: 0.1057 *\n"
          ]
        },
        {
          "output_type": "stream",
          "name": "stderr",
          "text": [
            "Validation: 100%|██████████| 469/469 [00:20<00:00, 22.64it/s]\n"
          ]
        },
        {
          "output_type": "stream",
          "name": "stdout",
          "text": [
            "Validation Loss: 0.1593, Validation Accuracy: 95.16%\n",
            "Balanced Accuracy: 0.9515\n",
            "Tau: 0.8470\n",
            "\n",
            "Epoch 18/100\n"
          ]
        },
        {
          "output_type": "stream",
          "name": "stderr",
          "text": [
            "Training: 100%|██████████| 2188/2188 [02:54<00:00, 12.57it/s]\n"
          ]
        },
        {
          "output_type": "stream",
          "name": "stdout",
          "text": [
            "Train Loss: 0.0323, Train Accuracy: 98.88%\n",
            "Tau: 0.8380\n",
            "Each stage of block probabilities:\n",
            "stage1\n",
            "Block 0: 0.7712  \n",
            "Block 1: 0.1335  \n",
            "Block 2: 0.0396 *\n",
            "Block 3: 0.0557 *\n",
            "stage2\n",
            "Block 0: 0.5072  \n",
            "Block 1: 0.2773  \n",
            "Block 2: 0.1179 *\n",
            "Block 3: 0.0976 *\n"
          ]
        },
        {
          "output_type": "stream",
          "name": "stderr",
          "text": [
            "Validation: 100%|██████████| 469/469 [00:20<00:00, 22.85it/s]\n"
          ]
        },
        {
          "output_type": "stream",
          "name": "stdout",
          "text": [
            "Validation Loss: 0.1691, Validation Accuracy: 95.13%\n",
            "Balanced Accuracy: 0.9506\n",
            "Tau: 0.8380\n",
            "\n",
            "Epoch 19/100\n"
          ]
        },
        {
          "output_type": "stream",
          "name": "stderr",
          "text": [
            "Training: 100%|██████████| 2188/2188 [02:53<00:00, 12.58it/s]\n"
          ]
        },
        {
          "output_type": "stream",
          "name": "stdout",
          "text": [
            "Train Loss: 0.0304, Train Accuracy: 98.97%\n",
            "Tau: 0.8290\n",
            "Each stage of block probabilities:\n",
            "stage1\n",
            "Block 0: 0.7924  \n",
            "Block 1: 0.1228  \n",
            "Block 2: 0.0361 *\n",
            "Block 3: 0.0487 *\n",
            "stage2\n",
            "Block 0: 0.5117  \n",
            "Block 1: 0.2828  \n",
            "Block 2: 0.1149 *\n",
            "Block 3: 0.0906 *\n"
          ]
        },
        {
          "output_type": "stream",
          "name": "stderr",
          "text": [
            "Validation: 100%|██████████| 469/469 [00:20<00:00, 22.64it/s]\n"
          ]
        },
        {
          "output_type": "stream",
          "name": "stdout",
          "text": [
            "Validation Loss: 0.1781, Validation Accuracy: 94.65%\n",
            "Balanced Accuracy: 0.9479\n",
            "Tau: 0.8290\n",
            "\n",
            "Epoch 20/100\n"
          ]
        },
        {
          "output_type": "stream",
          "name": "stderr",
          "text": [
            "Training: 100%|██████████| 2188/2188 [02:53<00:00, 12.60it/s]\n"
          ]
        },
        {
          "output_type": "stream",
          "name": "stdout",
          "text": [
            "Train Loss: 0.0283, Train Accuracy: 99.03%\n",
            "Tau: 0.8200\n",
            "Each stage of block probabilities:\n",
            "stage1\n",
            "Block 0: 0.8094  \n",
            "Block 1: 0.1143  \n",
            "Block 2: 0.0325 *\n",
            "Block 3: 0.0438 *\n",
            "stage2\n",
            "Block 0: 0.5253  \n",
            "Block 1: 0.2830  \n",
            "Block 2: 0.1075 *\n",
            "Block 3: 0.0841 *\n"
          ]
        },
        {
          "output_type": "stream",
          "name": "stderr",
          "text": [
            "Validation: 100%|██████████| 469/469 [00:20<00:00, 22.69it/s]\n"
          ]
        },
        {
          "output_type": "stream",
          "name": "stdout",
          "text": [
            "Validation Loss: 0.1853, Validation Accuracy: 94.33%\n",
            "Balanced Accuracy: 0.9448\n",
            "Tau: 0.8200\n",
            "\n",
            "Epoch 21/100\n"
          ]
        },
        {
          "output_type": "stream",
          "name": "stderr",
          "text": [
            "Training: 100%|██████████| 2188/2188 [02:54<00:00, 12.57it/s]\n"
          ]
        },
        {
          "output_type": "stream",
          "name": "stdout",
          "text": [
            "Train Loss: 0.0274, Train Accuracy: 99.09%\n",
            "Tau: 0.8110\n",
            "Each stage of block probabilities:\n",
            "stage1\n",
            "Block 0: 0.8257  \n",
            "Block 1: 0.1046  \n",
            "Block 2: 0.0297 *\n",
            "Block 3: 0.0400 *\n",
            "stage2\n",
            "Block 0: 0.5433  \n",
            "Block 1: 0.2787  \n",
            "Block 2: 0.1004 *\n",
            "Block 3: 0.0776 *\n"
          ]
        },
        {
          "output_type": "stream",
          "name": "stderr",
          "text": [
            "Validation: 100%|██████████| 469/469 [00:20<00:00, 22.61it/s]\n"
          ]
        },
        {
          "output_type": "stream",
          "name": "stdout",
          "text": [
            "Validation Loss: 0.1769, Validation Accuracy: 94.66%\n",
            "Balanced Accuracy: 0.9484\n",
            "Tau: 0.8110\n",
            "\n",
            "Epoch 22/100\n"
          ]
        },
        {
          "output_type": "stream",
          "name": "stderr",
          "text": [
            "Training: 100%|██████████| 2188/2188 [02:54<00:00, 12.57it/s]\n"
          ]
        },
        {
          "output_type": "stream",
          "name": "stdout",
          "text": [
            "Train Loss: 0.0260, Train Accuracy: 99.10%\n",
            "Tau: 0.8020\n",
            "Each stage of block probabilities:\n",
            "stage1\n",
            "Block 0: 0.8378  \n",
            "Block 1: 0.0989  \n",
            "Block 2: 0.0274 *\n",
            "Block 3: 0.0360 *\n",
            "stage2\n",
            "Block 0: 0.5540  \n",
            "Block 1: 0.2788  \n",
            "Block 2: 0.0957 *\n",
            "Block 3: 0.0715 *\n"
          ]
        },
        {
          "output_type": "stream",
          "name": "stderr",
          "text": [
            "Validation: 100%|██████████| 469/469 [00:20<00:00, 22.48it/s]\n"
          ]
        },
        {
          "output_type": "stream",
          "name": "stdout",
          "text": [
            "Validation Loss: 0.1744, Validation Accuracy: 95.05%\n",
            "Balanced Accuracy: 0.9525\n",
            "Tau: 0.8020\n",
            "\n",
            "Epoch 23/100\n"
          ]
        },
        {
          "output_type": "stream",
          "name": "stderr",
          "text": [
            "Training: 100%|██████████| 2188/2188 [02:54<00:00, 12.55it/s]\n"
          ]
        },
        {
          "output_type": "stream",
          "name": "stdout",
          "text": [
            "Train Loss: 0.0224, Train Accuracy: 99.25%\n",
            "Tau: 0.7930\n",
            "Each stage of block probabilities:\n",
            "stage1\n",
            "Block 0: 0.8559  \n",
            "Block 1: 0.0882  \n",
            "Block 2: 0.0240 *\n",
            "Block 3: 0.0319 *\n",
            "stage2\n",
            "Block 0: 0.5639  \n",
            "Block 1: 0.2749  \n",
            "Block 2: 0.0913 *\n",
            "Block 3: 0.0698 *\n"
          ]
        },
        {
          "output_type": "stream",
          "name": "stderr",
          "text": [
            "Validation: 100%|██████████| 469/469 [00:20<00:00, 22.72it/s]\n"
          ]
        },
        {
          "output_type": "stream",
          "name": "stdout",
          "text": [
            "Validation Loss: 0.1919, Validation Accuracy: 94.51%\n",
            "Balanced Accuracy: 0.9471\n",
            "Tau: 0.7930\n",
            "\n",
            "Epoch 24/100\n"
          ]
        },
        {
          "output_type": "stream",
          "name": "stderr",
          "text": [
            "Training: 100%|██████████| 2188/2188 [02:53<00:00, 12.58it/s]\n"
          ]
        },
        {
          "output_type": "stream",
          "name": "stdout",
          "text": [
            "Train Loss: 0.0209, Train Accuracy: 99.30%\n",
            "Tau: 0.7840\n",
            "Each stage of block probabilities:\n",
            "stage1\n",
            "Block 0: 0.8715  \n",
            "Block 1: 0.0790  \n",
            "Block 2: 0.0209 *\n",
            "Block 3: 0.0287 *\n",
            "stage2\n",
            "Block 0: 0.5765  \n",
            "Block 1: 0.2702  \n",
            "Block 2: 0.0849 *\n",
            "Block 3: 0.0684 *\n"
          ]
        },
        {
          "output_type": "stream",
          "name": "stderr",
          "text": [
            "Validation: 100%|██████████| 469/469 [00:20<00:00, 22.71it/s]\n"
          ]
        },
        {
          "output_type": "stream",
          "name": "stdout",
          "text": [
            "Validation Loss: 0.1540, Validation Accuracy: 95.65%\n",
            "Balanced Accuracy: 0.9584\n",
            "Tau: 0.7840\n",
            "\n",
            "Epoch 25/100\n"
          ]
        },
        {
          "output_type": "stream",
          "name": "stderr",
          "text": [
            "Training: 100%|██████████| 2188/2188 [02:54<00:00, 12.51it/s]\n"
          ]
        },
        {
          "output_type": "stream",
          "name": "stdout",
          "text": [
            "Train Loss: 0.0202, Train Accuracy: 99.28%\n",
            "Tau: 0.7750\n",
            "Each stage of block probabilities:\n",
            "stage1\n",
            "Block 0: 0.8855  \n",
            "Block 1: 0.0710  \n",
            "Block 2: 0.0184 *\n",
            "Block 3: 0.0251 *\n",
            "stage2\n",
            "Block 0: 0.5939  \n",
            "Block 1: 0.2652  \n",
            "Block 2: 0.0772 *\n",
            "Block 3: 0.0637 *\n"
          ]
        },
        {
          "output_type": "stream",
          "name": "stderr",
          "text": [
            "Validation: 100%|██████████| 469/469 [00:20<00:00, 22.66it/s]\n"
          ]
        },
        {
          "output_type": "stream",
          "name": "stdout",
          "text": [
            "Validation Loss: 0.1544, Validation Accuracy: 95.83%\n",
            "Balanced Accuracy: 0.9598\n",
            "Tau: 0.7750\n",
            "\n",
            "Epoch 26/100\n"
          ]
        },
        {
          "output_type": "stream",
          "name": "stderr",
          "text": [
            "Training: 100%|██████████| 2188/2188 [02:53<00:00, 12.59it/s]\n"
          ]
        },
        {
          "output_type": "stream",
          "name": "stdout",
          "text": [
            "Train Loss: 0.0184, Train Accuracy: 99.37%\n",
            "Tau: 0.7660\n",
            "Each stage of block probabilities:\n",
            "stage1\n",
            "Block 0: 0.8979  \n",
            "Block 1: 0.0634  \n",
            "Block 2: 0.0164 *\n",
            "Block 3: 0.0222 *\n",
            "stage2\n",
            "Block 0: 0.5949  \n",
            "Block 1: 0.2664  \n",
            "Block 2: 0.0764 *\n",
            "Block 3: 0.0622 *\n"
          ]
        },
        {
          "output_type": "stream",
          "name": "stderr",
          "text": [
            "Validation: 100%|██████████| 469/469 [00:20<00:00, 22.79it/s]\n"
          ]
        },
        {
          "output_type": "stream",
          "name": "stdout",
          "text": [
            "Validation Loss: 0.1428, Validation Accuracy: 96.23%\n",
            "Balanced Accuracy: 0.9634\n",
            "Tau: 0.7660\n",
            "\n",
            "Epoch 27/100\n"
          ]
        },
        {
          "output_type": "stream",
          "name": "stderr",
          "text": [
            "Training: 100%|██████████| 2188/2188 [02:54<00:00, 12.56it/s]\n"
          ]
        },
        {
          "output_type": "stream",
          "name": "stdout",
          "text": [
            "Train Loss: 0.0184, Train Accuracy: 99.37%\n",
            "Tau: 0.7570\n",
            "Each stage of block probabilities:\n",
            "stage1\n",
            "Block 0: 0.9039  \n",
            "Block 1: 0.0598  \n",
            "Block 2: 0.0154 *\n",
            "Block 3: 0.0208 *\n",
            "stage2\n",
            "Block 0: 0.6097  \n",
            "Block 1: 0.2584  \n",
            "Block 2: 0.0726 *\n",
            "Block 3: 0.0594 *\n"
          ]
        },
        {
          "output_type": "stream",
          "name": "stderr",
          "text": [
            "Validation: 100%|██████████| 469/469 [00:20<00:00, 22.59it/s]\n"
          ]
        },
        {
          "output_type": "stream",
          "name": "stdout",
          "text": [
            "Validation Loss: 0.1977, Validation Accuracy: 94.89%\n",
            "Balanced Accuracy: 0.9520\n",
            "Tau: 0.7570\n",
            "\n",
            "Epoch 28/100\n"
          ]
        },
        {
          "output_type": "stream",
          "name": "stderr",
          "text": [
            "Training: 100%|██████████| 2188/2188 [02:54<00:00, 12.53it/s]\n"
          ]
        },
        {
          "output_type": "stream",
          "name": "stdout",
          "text": [
            "Train Loss: 0.0184, Train Accuracy: 99.37%\n",
            "Tau: 0.7480\n",
            "Each stage of block probabilities:\n",
            "stage1\n",
            "Block 0: 0.9144  \n",
            "Block 1: 0.0530  \n",
            "Block 2: 0.0134 *\n",
            "Block 3: 0.0192 *\n",
            "stage2\n",
            "Block 0: 0.6244  \n",
            "Block 1: 0.2527  \n",
            "Block 2: 0.0686 *\n",
            "Block 3: 0.0542 *\n"
          ]
        },
        {
          "output_type": "stream",
          "name": "stderr",
          "text": [
            "Validation: 100%|██████████| 469/469 [00:20<00:00, 22.66it/s]\n"
          ]
        },
        {
          "output_type": "stream",
          "name": "stdout",
          "text": [
            "Validation Loss: 0.1467, Validation Accuracy: 95.97%\n",
            "Balanced Accuracy: 0.9602\n",
            "Tau: 0.7480\n",
            "\n",
            "Epoch 29/100\n"
          ]
        },
        {
          "output_type": "stream",
          "name": "stderr",
          "text": [
            "Training: 100%|██████████| 2188/2188 [02:54<00:00, 12.55it/s]\n"
          ]
        },
        {
          "output_type": "stream",
          "name": "stdout",
          "text": [
            "Train Loss: 0.0160, Train Accuracy: 99.48%\n",
            "Tau: 0.7390\n",
            "Each stage of block probabilities:\n",
            "stage1\n",
            "Block 0: 0.9233  \n",
            "Block 1: 0.0477  \n",
            "Block 2: 0.0120 *\n",
            "Block 3: 0.0171 *\n",
            "stage2\n",
            "Block 0: 0.6442  \n",
            "Block 1: 0.2385  \n",
            "Block 2: 0.0660 *\n",
            "Block 3: 0.0512 *\n"
          ]
        },
        {
          "output_type": "stream",
          "name": "stderr",
          "text": [
            "Validation: 100%|██████████| 469/469 [00:20<00:00, 22.72it/s]\n"
          ]
        },
        {
          "output_type": "stream",
          "name": "stdout",
          "text": [
            "Validation Loss: 0.1536, Validation Accuracy: 95.71%\n",
            "Balanced Accuracy: 0.9582\n",
            "Tau: 0.7390\n",
            "\n",
            "Epoch 30/100\n"
          ]
        },
        {
          "output_type": "stream",
          "name": "stderr",
          "text": [
            "Training: 100%|██████████| 2188/2188 [02:54<00:00, 12.55it/s]\n"
          ]
        },
        {
          "output_type": "stream",
          "name": "stdout",
          "text": [
            "Train Loss: 0.0159, Train Accuracy: 99.46%\n",
            "Tau: 0.7300\n",
            "Each stage of block probabilities:\n",
            "stage1\n",
            "Block 0: 0.9302  \n",
            "Block 1: 0.0440  \n",
            "Block 2: 0.0108 *\n",
            "Block 3: 0.0151 *\n",
            "stage2\n",
            "Block 0: 0.6525  \n",
            "Block 1: 0.2395  \n",
            "Block 2: 0.0608 *\n",
            "Block 3: 0.0472 *\n"
          ]
        },
        {
          "output_type": "stream",
          "name": "stderr",
          "text": [
            "Validation: 100%|██████████| 469/469 [00:20<00:00, 22.75it/s]\n"
          ]
        },
        {
          "output_type": "stream",
          "name": "stdout",
          "text": [
            "Validation Loss: 0.1328, Validation Accuracy: 96.45%\n",
            "Balanced Accuracy: 0.9655\n",
            "Tau: 0.7300\n",
            "\n",
            "Epoch 31/100\n"
          ]
        },
        {
          "output_type": "stream",
          "name": "stderr",
          "text": [
            "Training: 100%|██████████| 2188/2188 [02:54<00:00, 12.54it/s]\n"
          ]
        },
        {
          "output_type": "stream",
          "name": "stdout",
          "text": [
            "Train Loss: 0.0152, Train Accuracy: 99.49%\n",
            "Tau: 0.7210\n",
            "Each stage of block probabilities:\n",
            "stage1\n",
            "Block 0: 0.9333  \n",
            "Block 1: 0.0422  \n",
            "Block 2: 0.0100 *\n",
            "Block 3: 0.0144 *\n",
            "stage2\n",
            "Block 0: 0.6566  \n",
            "Block 1: 0.2410  \n",
            "Block 2: 0.0570 *\n",
            "Block 3: 0.0454 *\n"
          ]
        },
        {
          "output_type": "stream",
          "name": "stderr",
          "text": [
            "Validation: 100%|██████████| 469/469 [00:20<00:00, 22.65it/s]\n"
          ]
        },
        {
          "output_type": "stream",
          "name": "stdout",
          "text": [
            "Validation Loss: 0.1632, Validation Accuracy: 95.64%\n",
            "Balanced Accuracy: 0.9585\n",
            "Tau: 0.7210\n",
            "\n",
            "Epoch 32/100\n"
          ]
        },
        {
          "output_type": "stream",
          "name": "stderr",
          "text": [
            "Training: 100%|██████████| 2188/2188 [02:54<00:00, 12.57it/s]\n"
          ]
        },
        {
          "output_type": "stream",
          "name": "stdout",
          "text": [
            "Train Loss: 0.0132, Train Accuracy: 99.55%\n",
            "Tau: 0.7120\n",
            "Each stage of block probabilities:\n",
            "stage1\n",
            "Block 0: 0.9394  \n",
            "Block 1: 0.0380  \n",
            "Block 2: 0.0091 *\n",
            "Block 3: 0.0135 *\n",
            "stage2\n",
            "Block 0: 0.6573  \n",
            "Block 1: 0.2445  \n",
            "Block 2: 0.0540 *\n",
            "Block 3: 0.0441 *\n"
          ]
        },
        {
          "output_type": "stream",
          "name": "stderr",
          "text": [
            "Validation: 100%|██████████| 469/469 [00:20<00:00, 22.77it/s]\n"
          ]
        },
        {
          "output_type": "stream",
          "name": "stdout",
          "text": [
            "Validation Loss: 0.1455, Validation Accuracy: 96.48%\n",
            "Balanced Accuracy: 0.9652\n",
            "Tau: 0.7120\n",
            "\n",
            "Epoch 33/100\n"
          ]
        },
        {
          "output_type": "stream",
          "name": "stderr",
          "text": [
            "Training: 100%|██████████| 2188/2188 [02:55<00:00, 12.47it/s]\n"
          ]
        },
        {
          "output_type": "stream",
          "name": "stdout",
          "text": [
            "Train Loss: 0.0131, Train Accuracy: 99.57%\n",
            "Tau: 0.7030\n",
            "Each stage of block probabilities:\n",
            "stage1\n",
            "Block 0: 0.9450  \n",
            "Block 1: 0.0344  \n",
            "Block 2: 0.0084 *\n",
            "Block 3: 0.0122 *\n",
            "stage2\n",
            "Block 0: 0.6761  \n",
            "Block 1: 0.2311  \n",
            "Block 2: 0.0519 *\n",
            "Block 3: 0.0409 *\n"
          ]
        },
        {
          "output_type": "stream",
          "name": "stderr",
          "text": [
            "Validation: 100%|██████████| 469/469 [00:20<00:00, 22.73it/s]\n"
          ]
        },
        {
          "output_type": "stream",
          "name": "stdout",
          "text": [
            "Validation Loss: 0.1755, Validation Accuracy: 95.75%\n",
            "Balanced Accuracy: 0.9595\n",
            "Tau: 0.7030\n",
            "\n",
            "Epoch 34/100\n"
          ]
        },
        {
          "output_type": "stream",
          "name": "stderr",
          "text": [
            "Training: 100%|██████████| 2188/2188 [02:54<00:00, 12.54it/s]\n"
          ]
        },
        {
          "output_type": "stream",
          "name": "stdout",
          "text": [
            "Train Loss: 0.0140, Train Accuracy: 99.53%\n",
            "Tau: 0.6940\n",
            "Each stage of block probabilities:\n",
            "stage1\n",
            "Block 0: 0.9526  \n",
            "Block 1: 0.0292  \n",
            "Block 2: 0.0077 *\n",
            "Block 3: 0.0105 *\n",
            "stage2\n",
            "Block 0: 0.6829  \n",
            "Block 1: 0.2294  \n",
            "Block 2: 0.0484 *\n",
            "Block 3: 0.0393 *\n"
          ]
        },
        {
          "output_type": "stream",
          "name": "stderr",
          "text": [
            "Validation: 100%|██████████| 469/469 [00:20<00:00, 22.59it/s]\n"
          ]
        },
        {
          "output_type": "stream",
          "name": "stdout",
          "text": [
            "Validation Loss: 0.1761, Validation Accuracy: 96.03%\n",
            "Balanced Accuracy: 0.9618\n",
            "Tau: 0.6940\n",
            "\n",
            "Epoch 35/100\n"
          ]
        },
        {
          "output_type": "stream",
          "name": "stderr",
          "text": [
            "Training: 100%|██████████| 2188/2188 [02:54<00:00, 12.54it/s]\n"
          ]
        },
        {
          "output_type": "stream",
          "name": "stdout",
          "text": [
            "Train Loss: 0.0119, Train Accuracy: 99.60%\n",
            "Tau: 0.6850\n",
            "Each stage of block probabilities:\n",
            "stage1\n",
            "Block 0: 0.9583  \n",
            "Block 1: 0.0255  \n",
            "Block 2: 0.0069 *\n",
            "Block 3: 0.0094 *\n",
            "stage2\n",
            "Block 0: 0.6887  \n",
            "Block 1: 0.2264  \n",
            "Block 2: 0.0473 *\n",
            "Block 3: 0.0376 *\n"
          ]
        },
        {
          "output_type": "stream",
          "name": "stderr",
          "text": [
            "Validation: 100%|██████████| 469/469 [00:20<00:00, 22.43it/s]\n"
          ]
        },
        {
          "output_type": "stream",
          "name": "stdout",
          "text": [
            "Validation Loss: 0.1582, Validation Accuracy: 96.28%\n",
            "Balanced Accuracy: 0.9638\n",
            "Tau: 0.6850\n",
            "\n",
            "Epoch 36/100\n"
          ]
        },
        {
          "output_type": "stream",
          "name": "stderr",
          "text": [
            "Training: 100%|██████████| 2188/2188 [02:55<00:00, 12.46it/s]\n"
          ]
        },
        {
          "output_type": "stream",
          "name": "stdout",
          "text": [
            "Train Loss: 0.0126, Train Accuracy: 99.57%\n",
            "Tau: 0.6760\n",
            "Each stage of block probabilities:\n",
            "stage1\n",
            "Block 0: 0.9614  \n",
            "Block 1: 0.0236  \n",
            "Block 2: 0.0064 *\n",
            "Block 3: 0.0086 *\n",
            "stage2\n",
            "Block 0: 0.6969  \n",
            "Block 1: 0.2213  \n",
            "Block 2: 0.0458 *\n",
            "Block 3: 0.0360 *\n"
          ]
        },
        {
          "output_type": "stream",
          "name": "stderr",
          "text": [
            "Validation: 100%|██████████| 469/469 [00:20<00:00, 22.71it/s]\n"
          ]
        },
        {
          "output_type": "stream",
          "name": "stdout",
          "text": [
            "Validation Loss: 0.1388, Validation Accuracy: 96.72%\n",
            "Balanced Accuracy: 0.9680\n",
            "Tau: 0.6760\n",
            "\n",
            "Epoch 37/100\n"
          ]
        },
        {
          "output_type": "stream",
          "name": "stderr",
          "text": [
            "Training: 100%|██████████| 2188/2188 [02:55<00:00, 12.49it/s]\n"
          ]
        },
        {
          "output_type": "stream",
          "name": "stdout",
          "text": [
            "Train Loss: 0.0123, Train Accuracy: 99.56%\n",
            "Tau: 0.6670\n",
            "Each stage of block probabilities:\n",
            "stage1\n",
            "Block 0: 0.9650  \n",
            "Block 1: 0.0216  \n",
            "Block 2: 0.0057 *\n",
            "Block 3: 0.0076 *\n",
            "stage2\n",
            "Block 0: 0.7100  \n",
            "Block 1: 0.2134  \n",
            "Block 2: 0.0431 *\n",
            "Block 3: 0.0335 *\n"
          ]
        },
        {
          "output_type": "stream",
          "name": "stderr",
          "text": [
            "Validation: 100%|██████████| 469/469 [00:20<00:00, 22.50it/s]\n"
          ]
        },
        {
          "output_type": "stream",
          "name": "stdout",
          "text": [
            "Validation Loss: 0.1586, Validation Accuracy: 96.24%\n",
            "Balanced Accuracy: 0.9631\n",
            "Tau: 0.6670\n",
            "\n",
            "Epoch 38/100\n"
          ]
        },
        {
          "output_type": "stream",
          "name": "stderr",
          "text": [
            "Training: 100%|██████████| 2188/2188 [02:54<00:00, 12.55it/s]\n"
          ]
        },
        {
          "output_type": "stream",
          "name": "stdout",
          "text": [
            "Train Loss: 0.0112, Train Accuracy: 99.61%\n",
            "Tau: 0.6580\n",
            "Each stage of block probabilities:\n",
            "stage1\n",
            "Block 0: 0.9677  \n",
            "Block 1: 0.0200  \n",
            "Block 2: 0.0053 *\n",
            "Block 3: 0.0070 *\n",
            "stage2\n",
            "Block 0: 0.7355  \n",
            "Block 1: 0.1955  \n",
            "Block 2: 0.0384 *\n",
            "Block 3: 0.0306 *\n"
          ]
        },
        {
          "output_type": "stream",
          "name": "stderr",
          "text": [
            "Validation: 100%|██████████| 469/469 [00:20<00:00, 22.67it/s]\n"
          ]
        },
        {
          "output_type": "stream",
          "name": "stdout",
          "text": [
            "Validation Loss: 0.1540, Validation Accuracy: 96.31%\n",
            "Balanced Accuracy: 0.9649\n",
            "Tau: 0.6580\n",
            "\n",
            "Epoch 39/100\n"
          ]
        },
        {
          "output_type": "stream",
          "name": "stderr",
          "text": [
            "Training: 100%|██████████| 2188/2188 [02:54<00:00, 12.51it/s]\n"
          ]
        },
        {
          "output_type": "stream",
          "name": "stdout",
          "text": [
            "Train Loss: 0.0118, Train Accuracy: 99.60%\n",
            "Tau: 0.6490\n",
            "Each stage of block probabilities:\n",
            "stage1\n",
            "Block 0: 0.9719  \n",
            "Block 1: 0.0173  \n",
            "Block 2: 0.0046 *\n",
            "Block 3: 0.0063 *\n",
            "stage2\n",
            "Block 0: 0.7482  \n",
            "Block 1: 0.1878  \n",
            "Block 2: 0.0361 *\n",
            "Block 3: 0.0279 *\n"
          ]
        },
        {
          "output_type": "stream",
          "name": "stderr",
          "text": [
            "Validation: 100%|██████████| 469/469 [00:20<00:00, 22.64it/s]\n"
          ]
        },
        {
          "output_type": "stream",
          "name": "stdout",
          "text": [
            "Validation Loss: 0.1450, Validation Accuracy: 96.72%\n",
            "Balanced Accuracy: 0.9688\n",
            "Tau: 0.6490\n",
            "\n",
            "Epoch 40/100\n"
          ]
        },
        {
          "output_type": "stream",
          "name": "stderr",
          "text": [
            "Training: 100%|██████████| 2188/2188 [02:54<00:00, 12.51it/s]\n"
          ]
        },
        {
          "output_type": "stream",
          "name": "stdout",
          "text": [
            "Train Loss: 0.0114, Train Accuracy: 99.59%\n",
            "Tau: 0.6400\n",
            "Each stage of block probabilities:\n",
            "stage1\n",
            "Block 0: 0.9738  \n",
            "Block 1: 0.0159  \n",
            "Block 2: 0.0043 *\n",
            "Block 3: 0.0060 *\n",
            "stage2\n",
            "Block 0: 0.7480  \n",
            "Block 1: 0.1897  \n",
            "Block 2: 0.0356 *\n",
            "Block 3: 0.0268 *\n"
          ]
        },
        {
          "output_type": "stream",
          "name": "stderr",
          "text": [
            "Validation: 100%|██████████| 469/469 [00:21<00:00, 22.11it/s]\n"
          ]
        },
        {
          "output_type": "stream",
          "name": "stdout",
          "text": [
            "Validation Loss: 0.1333, Validation Accuracy: 96.88%\n",
            "Balanced Accuracy: 0.9696\n",
            "Tau: 0.6400\n",
            "Model weights saved to HoViT_44_tinyfusion_base_r8a16_39.pth\n",
            "40 model test result:\n"
          ]
        },
        {
          "output_type": "stream",
          "name": "stderr",
          "text": [
            "Test: 100%|██████████| 469/469 [00:20<00:00, 22.74it/s]\n"
          ]
        },
        {
          "output_type": "stream",
          "name": "stdout",
          "text": [
            "Test Loss: 0.1669, Test Accuracy: 96.43%\n",
            "Balanced Accuracy: 0.9655\n",
            "Tau: 0.0000\n",
            "\n",
            "Epoch 41/100\n"
          ]
        },
        {
          "output_type": "stream",
          "name": "stderr",
          "text": [
            "Training: 100%|██████████| 2188/2188 [02:54<00:00, 12.54it/s]\n"
          ]
        },
        {
          "output_type": "stream",
          "name": "stdout",
          "text": [
            "Train Loss: 0.0107, Train Accuracy: 99.64%\n",
            "Tau: 0.6310\n",
            "Each stage of block probabilities:\n",
            "stage1\n",
            "Block 0: 0.9761  \n",
            "Block 1: 0.0147  \n",
            "Block 2: 0.0038 *\n",
            "Block 3: 0.0054 *\n",
            "stage2\n",
            "Block 0: 0.7524  \n",
            "Block 1: 0.1853  \n",
            "Block 2: 0.0354 *\n",
            "Block 3: 0.0269 *\n"
          ]
        },
        {
          "output_type": "stream",
          "name": "stderr",
          "text": [
            "Validation: 100%|██████████| 469/469 [00:20<00:00, 22.82it/s]\n"
          ]
        },
        {
          "output_type": "stream",
          "name": "stdout",
          "text": [
            "Validation Loss: 0.1277, Validation Accuracy: 97.01%\n",
            "Balanced Accuracy: 0.9699\n",
            "Tau: 0.6310\n",
            "\n",
            "Epoch 42/100\n"
          ]
        },
        {
          "output_type": "stream",
          "name": "stderr",
          "text": [
            "Training: 100%|██████████| 2188/2188 [02:54<00:00, 12.51it/s]\n"
          ]
        },
        {
          "output_type": "stream",
          "name": "stdout",
          "text": [
            "Train Loss: 0.0099, Train Accuracy: 99.68%\n",
            "Tau: 0.6220\n",
            "Each stage of block probabilities:\n",
            "stage1\n",
            "Block 0: 0.9786  \n",
            "Block 1: 0.0130  \n",
            "Block 2: 0.0036 *\n",
            "Block 3: 0.0048 *\n",
            "stage2\n",
            "Block 0: 0.7496  \n",
            "Block 1: 0.1898  \n",
            "Block 2: 0.0346 *\n",
            "Block 3: 0.0260 *\n"
          ]
        },
        {
          "output_type": "stream",
          "name": "stderr",
          "text": [
            "Validation: 100%|██████████| 469/469 [00:20<00:00, 22.56it/s]\n"
          ]
        },
        {
          "output_type": "stream",
          "name": "stdout",
          "text": [
            "Validation Loss: 0.1478, Validation Accuracy: 96.54%\n",
            "Balanced Accuracy: 0.9673\n",
            "Tau: 0.6220\n",
            "\n",
            "Epoch 43/100\n"
          ]
        },
        {
          "output_type": "stream",
          "name": "stderr",
          "text": [
            "Training: 100%|██████████| 2188/2188 [02:54<00:00, 12.53it/s]\n"
          ]
        },
        {
          "output_type": "stream",
          "name": "stdout",
          "text": [
            "Train Loss: 0.0090, Train Accuracy: 99.71%\n",
            "Tau: 0.6130\n",
            "Each stage of block probabilities:\n",
            "stage1\n",
            "Block 0: 0.9808  \n",
            "Block 1: 0.0115  \n",
            "Block 2: 0.0034 *\n",
            "Block 3: 0.0044 *\n",
            "stage2\n",
            "Block 0: 0.7609  \n",
            "Block 1: 0.1822  \n",
            "Block 2: 0.0327 *\n",
            "Block 3: 0.0242 *\n"
          ]
        },
        {
          "output_type": "stream",
          "name": "stderr",
          "text": [
            "Validation: 100%|██████████| 469/469 [00:20<00:00, 22.75it/s]\n"
          ]
        },
        {
          "output_type": "stream",
          "name": "stdout",
          "text": [
            "Validation Loss: 0.1373, Validation Accuracy: 96.81%\n",
            "Balanced Accuracy: 0.9687\n",
            "Tau: 0.6130\n",
            "\n",
            "Epoch 44/100\n"
          ]
        },
        {
          "output_type": "stream",
          "name": "stderr",
          "text": [
            "Training: 100%|██████████| 2188/2188 [02:54<00:00, 12.54it/s]\n"
          ]
        },
        {
          "output_type": "stream",
          "name": "stdout",
          "text": [
            "Train Loss: 0.0103, Train Accuracy: 99.64%\n",
            "Tau: 0.6040\n",
            "Each stage of block probabilities:\n",
            "stage1\n",
            "Block 0: 0.9818  \n",
            "Block 1: 0.0109  \n",
            "Block 2: 0.0031 *\n",
            "Block 3: 0.0042 *\n",
            "stage2\n",
            "Block 0: 0.7648  \n",
            "Block 1: 0.1820  \n",
            "Block 2: 0.0307 *\n",
            "Block 3: 0.0224 *\n"
          ]
        },
        {
          "output_type": "stream",
          "name": "stderr",
          "text": [
            "Validation: 100%|██████████| 469/469 [00:20<00:00, 22.79it/s]\n"
          ]
        },
        {
          "output_type": "stream",
          "name": "stdout",
          "text": [
            "Validation Loss: 0.1435, Validation Accuracy: 96.81%\n",
            "Balanced Accuracy: 0.9681\n",
            "Tau: 0.6040\n",
            "\n",
            "Epoch 45/100\n"
          ]
        },
        {
          "output_type": "stream",
          "name": "stderr",
          "text": [
            "Training: 100%|██████████| 2188/2188 [02:54<00:00, 12.51it/s]\n"
          ]
        },
        {
          "output_type": "stream",
          "name": "stdout",
          "text": [
            "Train Loss: 0.0096, Train Accuracy: 99.66%\n",
            "Tau: 0.5950\n",
            "Each stage of block probabilities:\n",
            "stage1\n",
            "Block 0: 0.9829  \n",
            "Block 1: 0.0103  \n",
            "Block 2: 0.0030 *\n",
            "Block 3: 0.0039 *\n",
            "stage2\n",
            "Block 0: 0.7633  \n",
            "Block 1: 0.1867  \n",
            "Block 2: 0.0284 *\n",
            "Block 3: 0.0216 *\n"
          ]
        },
        {
          "output_type": "stream",
          "name": "stderr",
          "text": [
            "Validation: 100%|██████████| 469/469 [00:20<00:00, 22.72it/s]\n"
          ]
        },
        {
          "output_type": "stream",
          "name": "stdout",
          "text": [
            "Validation Loss: 0.1430, Validation Accuracy: 96.79%\n",
            "Balanced Accuracy: 0.9682\n",
            "Tau: 0.5950\n",
            "\n",
            "Epoch 46/100\n"
          ]
        },
        {
          "output_type": "stream",
          "name": "stderr",
          "text": [
            "Training: 100%|██████████| 2188/2188 [02:55<00:00, 12.48it/s]\n"
          ]
        },
        {
          "output_type": "stream",
          "name": "stdout",
          "text": [
            "Train Loss: 0.0099, Train Accuracy: 99.69%\n",
            "Tau: 0.5860\n",
            "Each stage of block probabilities:\n",
            "stage1\n",
            "Block 0: 0.9843  \n",
            "Block 1: 0.0094  \n",
            "Block 2: 0.0028 *\n",
            "Block 3: 0.0035 *\n",
            "stage2\n",
            "Block 0: 0.7661  \n",
            "Block 1: 0.1857  \n",
            "Block 2: 0.0278 *\n",
            "Block 3: 0.0204 *\n"
          ]
        },
        {
          "output_type": "stream",
          "name": "stderr",
          "text": [
            "Validation: 100%|██████████| 469/469 [00:20<00:00, 22.63it/s]\n"
          ]
        },
        {
          "output_type": "stream",
          "name": "stdout",
          "text": [
            "Validation Loss: 0.1474, Validation Accuracy: 96.74%\n",
            "Balanced Accuracy: 0.9682\n",
            "Tau: 0.5860\n",
            "\n",
            "Epoch 47/100\n"
          ]
        },
        {
          "output_type": "stream",
          "name": "stderr",
          "text": [
            "Training: 100%|██████████| 2188/2188 [02:54<00:00, 12.53it/s]\n"
          ]
        },
        {
          "output_type": "stream",
          "name": "stdout",
          "text": [
            "Train Loss: 0.0090, Train Accuracy: 99.67%\n",
            "Tau: 0.5770\n",
            "Each stage of block probabilities:\n",
            "stage1\n",
            "Block 0: 0.9854  \n",
            "Block 1: 0.0088  \n",
            "Block 2: 0.0026 *\n",
            "Block 3: 0.0032 *\n",
            "stage2\n",
            "Block 0: 0.7662  \n",
            "Block 1: 0.1865  \n",
            "Block 2: 0.0274 *\n",
            "Block 3: 0.0198 *\n"
          ]
        },
        {
          "output_type": "stream",
          "name": "stderr",
          "text": [
            "Validation: 100%|██████████| 469/469 [00:20<00:00, 22.66it/s]\n"
          ]
        },
        {
          "output_type": "stream",
          "name": "stdout",
          "text": [
            "Validation Loss: 0.1426, Validation Accuracy: 96.78%\n",
            "Balanced Accuracy: 0.9685\n",
            "Tau: 0.5770\n",
            "\n",
            "Epoch 48/100\n"
          ]
        },
        {
          "output_type": "stream",
          "name": "stderr",
          "text": [
            "Training: 100%|██████████| 2188/2188 [02:55<00:00, 12.49it/s]\n"
          ]
        },
        {
          "output_type": "stream",
          "name": "stdout",
          "text": [
            "Train Loss: 0.0078, Train Accuracy: 99.72%\n",
            "Tau: 0.5680\n",
            "Each stage of block probabilities:\n",
            "stage1\n",
            "Block 0: 0.9869  \n",
            "Block 1: 0.0077  \n",
            "Block 2: 0.0024 *\n",
            "Block 3: 0.0029 *\n",
            "stage2\n",
            "Block 0: 0.7816  \n",
            "Block 1: 0.1731  \n",
            "Block 2: 0.0258 *\n",
            "Block 3: 0.0196 *\n"
          ]
        },
        {
          "output_type": "stream",
          "name": "stderr",
          "text": [
            "Validation: 100%|██████████| 469/469 [00:20<00:00, 22.70it/s]\n"
          ]
        },
        {
          "output_type": "stream",
          "name": "stdout",
          "text": [
            "Validation Loss: 0.1413, Validation Accuracy: 96.95%\n",
            "Balanced Accuracy: 0.9706\n",
            "Tau: 0.5680\n",
            "\n",
            "Epoch 49/100\n"
          ]
        },
        {
          "output_type": "stream",
          "name": "stderr",
          "text": [
            "Training: 100%|██████████| 2188/2188 [02:54<00:00, 12.55it/s]\n"
          ]
        },
        {
          "output_type": "stream",
          "name": "stdout",
          "text": [
            "Train Loss: 0.0097, Train Accuracy: 99.65%\n",
            "Tau: 0.5590\n",
            "Each stage of block probabilities:\n",
            "stage1\n",
            "Block 0: 0.9874  \n",
            "Block 1: 0.0075  \n",
            "Block 2: 0.0023 *\n",
            "Block 3: 0.0028 *\n",
            "stage2\n",
            "Block 0: 0.7983  \n",
            "Block 1: 0.1608  \n",
            "Block 2: 0.0229 *\n",
            "Block 3: 0.0179 *\n"
          ]
        },
        {
          "output_type": "stream",
          "name": "stderr",
          "text": [
            "Validation: 100%|██████████| 469/469 [00:20<00:00, 22.61it/s]\n"
          ]
        },
        {
          "output_type": "stream",
          "name": "stdout",
          "text": [
            "Validation Loss: 0.1507, Validation Accuracy: 96.89%\n",
            "Balanced Accuracy: 0.9696\n",
            "Tau: 0.5590\n",
            "\n",
            "Epoch 50/100\n"
          ]
        },
        {
          "output_type": "stream",
          "name": "stderr",
          "text": [
            "Training: 100%|██████████| 2188/2188 [02:54<00:00, 12.52it/s]\n"
          ]
        },
        {
          "output_type": "stream",
          "name": "stdout",
          "text": [
            "Train Loss: 0.0086, Train Accuracy: 99.70%\n",
            "Tau: 0.5500\n",
            "Each stage of block probabilities:\n",
            "stage1\n",
            "Block 0: 0.9880  \n",
            "Block 1: 0.0071  \n",
            "Block 2: 0.0022 *\n",
            "Block 3: 0.0027 *\n",
            "stage2\n",
            "Block 0: 0.8210  \n",
            "Block 1: 0.1424  \n",
            "Block 2: 0.0205 *\n",
            "Block 3: 0.0160 *\n"
          ]
        },
        {
          "output_type": "stream",
          "name": "stderr",
          "text": [
            "Validation: 100%|██████████| 469/469 [00:20<00:00, 22.56it/s]\n"
          ]
        },
        {
          "output_type": "stream",
          "name": "stdout",
          "text": [
            "Validation Loss: 0.1487, Validation Accuracy: 97.07%\n",
            "Balanced Accuracy: 0.9710\n",
            "Tau: 0.5500\n",
            "Model weights saved to HoViT_44_tinyfusion_base_r8a16_49.pth\n",
            "50 model test result:\n"
          ]
        },
        {
          "output_type": "stream",
          "name": "stderr",
          "text": [
            "Test: 100%|██████████| 469/469 [00:20<00:00, 22.54it/s]\n"
          ]
        },
        {
          "output_type": "stream",
          "name": "stdout",
          "text": [
            "Test Loss: 0.1762, Test Accuracy: 96.53%\n",
            "Balanced Accuracy: 0.9659\n",
            "Tau: 0.0000\n",
            "\n",
            "Epoch 51/100\n"
          ]
        },
        {
          "output_type": "stream",
          "name": "stderr",
          "text": [
            "Training: 100%|██████████| 2188/2188 [02:55<00:00, 12.48it/s]\n"
          ]
        },
        {
          "output_type": "stream",
          "name": "stdout",
          "text": [
            "Train Loss: 0.0085, Train Accuracy: 99.71%\n",
            "Tau: 0.5410\n",
            "Each stage of block probabilities:\n",
            "stage1\n",
            "Block 0: 0.9886  \n",
            "Block 1: 0.0067  \n",
            "Block 2: 0.0021 *\n",
            "Block 3: 0.0025 *\n",
            "stage2\n",
            "Block 0: 0.8241  \n",
            "Block 1: 0.1414  \n",
            "Block 2: 0.0195 *\n",
            "Block 3: 0.0150 *\n"
          ]
        },
        {
          "output_type": "stream",
          "name": "stderr",
          "text": [
            "Validation: 100%|██████████| 469/469 [00:20<00:00, 22.71it/s]\n"
          ]
        },
        {
          "output_type": "stream",
          "name": "stdout",
          "text": [
            "Validation Loss: 0.1392, Validation Accuracy: 97.23%\n",
            "Balanced Accuracy: 0.9728\n",
            "Tau: 0.5410\n",
            "\n",
            "Epoch 52/100\n"
          ]
        },
        {
          "output_type": "stream",
          "name": "stderr",
          "text": [
            "Training: 100%|██████████| 2188/2188 [02:54<00:00, 12.50it/s]\n"
          ]
        },
        {
          "output_type": "stream",
          "name": "stdout",
          "text": [
            "Train Loss: 0.0084, Train Accuracy: 99.71%\n",
            "Tau: 0.5320\n",
            "Each stage of block probabilities:\n",
            "stage1\n",
            "Block 0: 0.9896  \n",
            "Block 1: 0.0061  \n",
            "Block 2: 0.0019 *\n",
            "Block 3: 0.0023 *\n",
            "stage2\n",
            "Block 0: 0.8321  \n",
            "Block 1: 0.1351  \n",
            "Block 2: 0.0185 *\n",
            "Block 3: 0.0143 *\n"
          ]
        },
        {
          "output_type": "stream",
          "name": "stderr",
          "text": [
            "Validation: 100%|██████████| 469/469 [00:20<00:00, 22.72it/s]\n"
          ]
        },
        {
          "output_type": "stream",
          "name": "stdout",
          "text": [
            "Validation Loss: 0.1740, Validation Accuracy: 96.69%\n",
            "Balanced Accuracy: 0.9680\n",
            "Tau: 0.5320\n",
            "\n",
            "Epoch 53/100\n"
          ]
        },
        {
          "output_type": "stream",
          "name": "stderr",
          "text": [
            "Training: 100%|██████████| 2188/2188 [02:54<00:00, 12.51it/s]\n"
          ]
        },
        {
          "output_type": "stream",
          "name": "stdout",
          "text": [
            "Train Loss: 0.0078, Train Accuracy: 99.73%\n",
            "Tau: 0.5230\n",
            "Each stage of block probabilities:\n",
            "stage1\n",
            "Block 0: 0.9906  \n",
            "Block 1: 0.0055  \n",
            "Block 2: 0.0017 *\n",
            "Block 3: 0.0022 *\n",
            "stage2\n",
            "Block 0: 0.8466  \n",
            "Block 1: 0.1220  \n",
            "Block 2: 0.0174 *\n",
            "Block 3: 0.0140 *\n"
          ]
        },
        {
          "output_type": "stream",
          "name": "stderr",
          "text": [
            "Validation: 100%|██████████| 469/469 [00:20<00:00, 22.69it/s]\n"
          ]
        },
        {
          "output_type": "stream",
          "name": "stdout",
          "text": [
            "Validation Loss: 0.1523, Validation Accuracy: 96.95%\n",
            "Balanced Accuracy: 0.9705\n",
            "Tau: 0.5230\n",
            "\n",
            "Epoch 54/100\n"
          ]
        },
        {
          "output_type": "stream",
          "name": "stderr",
          "text": [
            "Training: 100%|██████████| 2188/2188 [02:55<00:00, 12.49it/s]\n"
          ]
        },
        {
          "output_type": "stream",
          "name": "stdout",
          "text": [
            "Train Loss: 0.0082, Train Accuracy: 99.70%\n",
            "Tau: 0.5140\n",
            "Each stage of block probabilities:\n",
            "stage1\n",
            "Block 0: 0.9912  \n",
            "Block 1: 0.0051  \n",
            "Block 2: 0.0016 *\n",
            "Block 3: 0.0020 *\n",
            "stage2\n",
            "Block 0: 0.8563  \n",
            "Block 1: 0.1147  \n",
            "Block 2: 0.0162 *\n",
            "Block 3: 0.0127 *\n"
          ]
        },
        {
          "output_type": "stream",
          "name": "stderr",
          "text": [
            "Validation: 100%|██████████| 469/469 [00:20<00:00, 22.67it/s]\n"
          ]
        },
        {
          "output_type": "stream",
          "name": "stdout",
          "text": [
            "Validation Loss: 0.1598, Validation Accuracy: 96.90%\n",
            "Balanced Accuracy: 0.9697\n",
            "Tau: 0.5140\n",
            "\n",
            "Epoch 55/100\n"
          ]
        },
        {
          "output_type": "stream",
          "name": "stderr",
          "text": [
            "Training: 100%|██████████| 2188/2188 [02:56<00:00, 12.42it/s]\n"
          ]
        },
        {
          "output_type": "stream",
          "name": "stdout",
          "text": [
            "Train Loss: 0.0091, Train Accuracy: 99.71%\n",
            "Tau: 0.5050\n",
            "Each stage of block probabilities:\n",
            "stage1\n",
            "Block 0: 0.9913  \n",
            "Block 1: 0.0051  \n",
            "Block 2: 0.0016 *\n",
            "Block 3: 0.0020 *\n",
            "stage2\n",
            "Block 0: 0.8630  \n",
            "Block 1: 0.1107  \n",
            "Block 2: 0.0146 *\n",
            "Block 3: 0.0117 *\n"
          ]
        },
        {
          "output_type": "stream",
          "name": "stderr",
          "text": [
            "Validation: 100%|██████████| 469/469 [00:20<00:00, 22.47it/s]\n"
          ]
        },
        {
          "output_type": "stream",
          "name": "stdout",
          "text": [
            "Validation Loss: 0.1435, Validation Accuracy: 97.32%\n",
            "Balanced Accuracy: 0.9737\n",
            "Tau: 0.5050\n",
            "\n",
            "Epoch 56/100\n"
          ]
        },
        {
          "output_type": "stream",
          "name": "stderr",
          "text": [
            "Training: 100%|██████████| 2188/2188 [02:55<00:00, 12.45it/s]\n"
          ]
        },
        {
          "output_type": "stream",
          "name": "stdout",
          "text": [
            "Train Loss: 0.0076, Train Accuracy: 99.75%\n",
            "Tau: 0.4960\n",
            "Each stage of block probabilities:\n",
            "stage1\n",
            "Block 0: 0.9920  \n",
            "Block 1: 0.0046  \n",
            "Block 2: 0.0016 *\n",
            "Block 3: 0.0019 *\n",
            "stage2\n",
            "Block 0: 0.8651  \n",
            "Block 1: 0.1100  \n",
            "Block 2: 0.0140 *\n",
            "Block 3: 0.0109 *\n"
          ]
        },
        {
          "output_type": "stream",
          "name": "stderr",
          "text": [
            "Validation: 100%|██████████| 469/469 [00:20<00:00, 22.58it/s]\n"
          ]
        },
        {
          "output_type": "stream",
          "name": "stdout",
          "text": [
            "Validation Loss: 0.1396, Validation Accuracy: 97.27%\n",
            "Balanced Accuracy: 0.9730\n",
            "Tau: 0.4960\n",
            "\n",
            "Epoch 57/100\n"
          ]
        },
        {
          "output_type": "stream",
          "name": "stderr",
          "text": [
            "Training: 100%|██████████| 2188/2188 [02:54<00:00, 12.52it/s]\n"
          ]
        },
        {
          "output_type": "stream",
          "name": "stdout",
          "text": [
            "Train Loss: 0.0069, Train Accuracy: 99.79%\n",
            "Tau: 0.4870\n",
            "Each stage of block probabilities:\n",
            "stage1\n",
            "Block 0: 0.9925  \n",
            "Block 1: 0.0043  \n",
            "Block 2: 0.0014 *\n",
            "Block 3: 0.0018 *\n",
            "stage2\n",
            "Block 0: 0.8750  \n",
            "Block 1: 0.1019  \n",
            "Block 2: 0.0130 *\n",
            "Block 3: 0.0101 *\n"
          ]
        },
        {
          "output_type": "stream",
          "name": "stderr",
          "text": [
            "Validation: 100%|██████████| 469/469 [00:20<00:00, 22.67it/s]\n"
          ]
        },
        {
          "output_type": "stream",
          "name": "stdout",
          "text": [
            "Validation Loss: 0.1528, Validation Accuracy: 96.97%\n",
            "Balanced Accuracy: 0.9703\n",
            "Tau: 0.4870\n",
            "\n",
            "Epoch 58/100\n"
          ]
        },
        {
          "output_type": "stream",
          "name": "stderr",
          "text": [
            "Training: 100%|██████████| 2188/2188 [02:55<00:00, 12.49it/s]\n"
          ]
        },
        {
          "output_type": "stream",
          "name": "stdout",
          "text": [
            "Train Loss: 0.0073, Train Accuracy: 99.75%\n",
            "Tau: 0.4780\n",
            "Each stage of block probabilities:\n",
            "stage1\n",
            "Block 0: 0.9933  \n",
            "Block 1: 0.0038  \n",
            "Block 2: 0.0013 *\n",
            "Block 3: 0.0016 *\n",
            "stage2\n",
            "Block 0: 0.8842  \n",
            "Block 1: 0.0938  \n",
            "Block 2: 0.0124 *\n",
            "Block 3: 0.0095 *\n"
          ]
        },
        {
          "output_type": "stream",
          "name": "stderr",
          "text": [
            "Validation: 100%|██████████| 469/469 [00:20<00:00, 22.57it/s]\n"
          ]
        },
        {
          "output_type": "stream",
          "name": "stdout",
          "text": [
            "Validation Loss: 0.1584, Validation Accuracy: 97.07%\n",
            "Balanced Accuracy: 0.9711\n",
            "Tau: 0.4780\n",
            "\n",
            "Epoch 59/100\n"
          ]
        },
        {
          "output_type": "stream",
          "name": "stderr",
          "text": [
            "Training: 100%|██████████| 2188/2188 [02:55<00:00, 12.50it/s]\n"
          ]
        },
        {
          "output_type": "stream",
          "name": "stdout",
          "text": [
            "Train Loss: 0.0081, Train Accuracy: 99.73%\n",
            "Tau: 0.4690\n",
            "Each stage of block probabilities:\n",
            "stage1\n",
            "Block 0: 0.9934  \n",
            "Block 1: 0.0037  \n",
            "Block 2: 0.0013 *\n",
            "Block 3: 0.0016 *\n",
            "stage2\n",
            "Block 0: 0.8870  \n",
            "Block 1: 0.0913  \n",
            "Block 2: 0.0120 *\n",
            "Block 3: 0.0097 *\n"
          ]
        },
        {
          "output_type": "stream",
          "name": "stderr",
          "text": [
            "Validation: 100%|██████████| 469/469 [00:20<00:00, 22.84it/s]\n"
          ]
        },
        {
          "output_type": "stream",
          "name": "stdout",
          "text": [
            "Validation Loss: 0.1479, Validation Accuracy: 97.33%\n",
            "Balanced Accuracy: 0.9734\n",
            "Tau: 0.4690\n",
            "\n",
            "Epoch 60/100\n"
          ]
        },
        {
          "output_type": "stream",
          "name": "stderr",
          "text": [
            "Training: 100%|██████████| 2188/2188 [02:54<00:00, 12.52it/s]\n"
          ]
        },
        {
          "output_type": "stream",
          "name": "stdout",
          "text": [
            "Train Loss: 0.0079, Train Accuracy: 99.73%\n",
            "Tau: 0.4600\n",
            "Each stage of block probabilities:\n",
            "stage1\n",
            "Block 0: 0.9938  \n",
            "Block 1: 0.0035  \n",
            "Block 2: 0.0012 *\n",
            "Block 3: 0.0015 *\n",
            "stage2\n",
            "Block 0: 0.8956  \n",
            "Block 1: 0.0842  \n",
            "Block 2: 0.0112 *\n",
            "Block 3: 0.0090 *\n"
          ]
        },
        {
          "output_type": "stream",
          "name": "stderr",
          "text": [
            "Validation: 100%|██████████| 469/469 [00:20<00:00, 22.63it/s]\n"
          ]
        },
        {
          "output_type": "stream",
          "name": "stdout",
          "text": [
            "Validation Loss: 0.1679, Validation Accuracy: 97.25%\n",
            "Balanced Accuracy: 0.9730\n",
            "Tau: 0.4600\n",
            "Model weights saved to HoViT_44_tinyfusion_base_r8a16_59.pth\n",
            "60 model test result:\n"
          ]
        },
        {
          "output_type": "stream",
          "name": "stderr",
          "text": [
            "Test: 100%|██████████| 469/469 [00:20<00:00, 22.73it/s]\n"
          ]
        },
        {
          "output_type": "stream",
          "name": "stdout",
          "text": [
            "Test Loss: 0.1960, Test Accuracy: 96.87%\n",
            "Balanced Accuracy: 0.9694\n",
            "Tau: 0.0000\n",
            "\n",
            "Epoch 61/100\n"
          ]
        },
        {
          "output_type": "stream",
          "name": "stderr",
          "text": [
            "Training: 100%|██████████| 2188/2188 [02:55<00:00, 12.49it/s]\n"
          ]
        },
        {
          "output_type": "stream",
          "name": "stdout",
          "text": [
            "Train Loss: 0.0065, Train Accuracy: 99.79%\n",
            "Tau: 0.4510\n",
            "Each stage of block probabilities:\n",
            "stage1\n",
            "Block 0: 0.9942  \n",
            "Block 1: 0.0032  \n",
            "Block 2: 0.0012 *\n",
            "Block 3: 0.0014 *\n",
            "stage2\n",
            "Block 0: 0.8950  \n",
            "Block 1: 0.0853  \n",
            "Block 2: 0.0108 *\n",
            "Block 3: 0.0089 *\n"
          ]
        },
        {
          "output_type": "stream",
          "name": "stderr",
          "text": [
            "Validation: 100%|██████████| 469/469 [00:20<00:00, 22.61it/s]\n"
          ]
        },
        {
          "output_type": "stream",
          "name": "stdout",
          "text": [
            "Validation Loss: 0.1580, Validation Accuracy: 96.85%\n",
            "Balanced Accuracy: 0.9691\n",
            "Tau: 0.4510\n",
            "\n",
            "Epoch 62/100\n"
          ]
        },
        {
          "output_type": "stream",
          "name": "stderr",
          "text": [
            "Training: 100%|██████████| 2188/2188 [02:55<00:00, 12.46it/s]\n"
          ]
        },
        {
          "output_type": "stream",
          "name": "stdout",
          "text": [
            "Train Loss: 0.0077, Train Accuracy: 99.75%\n",
            "Tau: 0.4420\n",
            "Each stage of block probabilities:\n",
            "stage1\n",
            "Block 0: 0.9946  \n",
            "Block 1: 0.0030  \n",
            "Block 2: 0.0011 *\n",
            "Block 3: 0.0013 *\n",
            "stage2\n",
            "Block 0: 0.8978  \n",
            "Block 1: 0.0833  \n",
            "Block 2: 0.0103 *\n",
            "Block 3: 0.0085 *\n"
          ]
        },
        {
          "output_type": "stream",
          "name": "stderr",
          "text": [
            "Validation: 100%|██████████| 469/469 [00:20<00:00, 22.70it/s]\n"
          ]
        },
        {
          "output_type": "stream",
          "name": "stdout",
          "text": [
            "Validation Loss: 0.1654, Validation Accuracy: 97.29%\n",
            "Balanced Accuracy: 0.9728\n",
            "Tau: 0.4420\n",
            "\n",
            "Epoch 63/100\n"
          ]
        },
        {
          "output_type": "stream",
          "name": "stderr",
          "text": [
            "Training: 100%|██████████| 2188/2188 [02:54<00:00, 12.54it/s]\n"
          ]
        },
        {
          "output_type": "stream",
          "name": "stdout",
          "text": [
            "Train Loss: 0.0066, Train Accuracy: 99.78%\n",
            "Tau: 0.4330\n",
            "Each stage of block probabilities:\n",
            "stage1\n",
            "Block 0: 0.9947  \n",
            "Block 1: 0.0029  \n",
            "Block 2: 0.0011 *\n",
            "Block 3: 0.0013 *\n",
            "stage2\n",
            "Block 0: 0.9070  \n",
            "Block 1: 0.0753  \n",
            "Block 2: 0.0097 *\n",
            "Block 3: 0.0080 *\n"
          ]
        },
        {
          "output_type": "stream",
          "name": "stderr",
          "text": [
            "Validation: 100%|██████████| 469/469 [00:20<00:00, 22.75it/s]\n"
          ]
        },
        {
          "output_type": "stream",
          "name": "stdout",
          "text": [
            "Validation Loss: 0.1452, Validation Accuracy: 97.48%\n",
            "Balanced Accuracy: 0.9747\n",
            "Tau: 0.4330\n",
            "\n",
            "Epoch 64/100\n"
          ]
        },
        {
          "output_type": "stream",
          "name": "stderr",
          "text": [
            "Training: 100%|██████████| 2188/2188 [02:55<00:00, 12.45it/s]\n"
          ]
        },
        {
          "output_type": "stream",
          "name": "stdout",
          "text": [
            "Train Loss: 0.0065, Train Accuracy: 99.78%\n",
            "Tau: 0.4240\n",
            "Each stage of block probabilities:\n",
            "stage1\n",
            "Block 0: 0.9951  \n",
            "Block 1: 0.0028  \n",
            "Block 2: 0.0010 *\n",
            "Block 3: 0.0012 *\n",
            "stage2\n",
            "Block 0: 0.9184  \n",
            "Block 1: 0.0657  \n",
            "Block 2: 0.0086 *\n",
            "Block 3: 0.0073 *\n"
          ]
        },
        {
          "output_type": "stream",
          "name": "stderr",
          "text": [
            "Validation: 100%|██████████| 469/469 [00:20<00:00, 22.78it/s]\n"
          ]
        },
        {
          "output_type": "stream",
          "name": "stdout",
          "text": [
            "Validation Loss: 0.1544, Validation Accuracy: 97.16%\n",
            "Balanced Accuracy: 0.9716\n",
            "Tau: 0.4240\n",
            "\n",
            "Epoch 65/100\n"
          ]
        },
        {
          "output_type": "stream",
          "name": "stderr",
          "text": [
            "Training: 100%|██████████| 2188/2188 [02:54<00:00, 12.52it/s]\n"
          ]
        },
        {
          "output_type": "stream",
          "name": "stdout",
          "text": [
            "Train Loss: 0.0065, Train Accuracy: 99.78%\n",
            "Tau: 0.4150\n",
            "Each stage of block probabilities:\n",
            "stage1\n",
            "Block 0: 0.9953  \n",
            "Block 1: 0.0026  \n",
            "Block 2: 0.0010 *\n",
            "Block 3: 0.0011 *\n",
            "stage2\n",
            "Block 0: 0.9222  \n",
            "Block 1: 0.0624  \n",
            "Block 2: 0.0084 *\n",
            "Block 3: 0.0070 *\n"
          ]
        },
        {
          "output_type": "stream",
          "name": "stderr",
          "text": [
            "Validation: 100%|██████████| 469/469 [00:20<00:00, 22.57it/s]\n"
          ]
        },
        {
          "output_type": "stream",
          "name": "stdout",
          "text": [
            "Validation Loss: 0.1684, Validation Accuracy: 96.99%\n",
            "Balanced Accuracy: 0.9705\n",
            "Tau: 0.4150\n",
            "\n",
            "Epoch 66/100\n"
          ]
        },
        {
          "output_type": "stream",
          "name": "stderr",
          "text": [
            "Training: 100%|██████████| 2188/2188 [02:54<00:00, 12.52it/s]\n"
          ]
        },
        {
          "output_type": "stream",
          "name": "stdout",
          "text": [
            "Train Loss: 0.0072, Train Accuracy: 99.77%\n",
            "Tau: 0.4060\n",
            "Each stage of block probabilities:\n",
            "stage1\n",
            "Block 0: 0.9956  \n",
            "Block 1: 0.0025  \n",
            "Block 2: 0.0009 *\n",
            "Block 3: 0.0011 *\n",
            "stage2\n",
            "Block 0: 0.9260  \n",
            "Block 1: 0.0595  \n",
            "Block 2: 0.0080 *\n",
            "Block 3: 0.0065 *\n"
          ]
        },
        {
          "output_type": "stream",
          "name": "stderr",
          "text": [
            "Validation: 100%|██████████| 469/469 [00:20<00:00, 22.63it/s]\n"
          ]
        },
        {
          "output_type": "stream",
          "name": "stdout",
          "text": [
            "Validation Loss: 0.1666, Validation Accuracy: 97.11%\n",
            "Balanced Accuracy: 0.9714\n",
            "Tau: 0.4060\n",
            "\n",
            "Epoch 67/100\n"
          ]
        },
        {
          "output_type": "stream",
          "name": "stderr",
          "text": [
            "Training: 100%|██████████| 2188/2188 [02:54<00:00, 12.51it/s]\n"
          ]
        },
        {
          "output_type": "stream",
          "name": "stdout",
          "text": [
            "Train Loss: 0.0059, Train Accuracy: 99.79%\n",
            "Tau: 0.3970\n",
            "Each stage of block probabilities:\n",
            "stage1\n",
            "Block 0: 0.9958  \n",
            "Block 1: 0.0023  \n",
            "Block 2: 0.0009 *\n",
            "Block 3: 0.0010 *\n",
            "stage2\n",
            "Block 0: 0.9279  \n",
            "Block 1: 0.0580  \n",
            "Block 2: 0.0077 *\n",
            "Block 3: 0.0064 *\n"
          ]
        },
        {
          "output_type": "stream",
          "name": "stderr",
          "text": [
            "Validation: 100%|██████████| 469/469 [00:20<00:00, 22.64it/s]\n"
          ]
        },
        {
          "output_type": "stream",
          "name": "stdout",
          "text": [
            "Validation Loss: 0.1772, Validation Accuracy: 97.18%\n",
            "Balanced Accuracy: 0.9726\n",
            "Tau: 0.3970\n",
            "\n",
            "Epoch 68/100\n"
          ]
        },
        {
          "output_type": "stream",
          "name": "stderr",
          "text": [
            "Training: 100%|██████████| 2188/2188 [02:54<00:00, 12.54it/s]\n"
          ]
        },
        {
          "output_type": "stream",
          "name": "stdout",
          "text": [
            "Train Loss: 0.0058, Train Accuracy: 99.81%\n",
            "Tau: 0.3880\n",
            "Each stage of block probabilities:\n",
            "stage1\n",
            "Block 0: 0.9959  \n",
            "Block 1: 0.0021  \n",
            "Block 2: 0.0009 *\n",
            "Block 3: 0.0010 *\n",
            "stage2\n",
            "Block 0: 0.9298  \n",
            "Block 1: 0.0567  \n",
            "Block 2: 0.0074 *\n",
            "Block 3: 0.0062 *\n"
          ]
        },
        {
          "output_type": "stream",
          "name": "stderr",
          "text": [
            "Validation: 100%|██████████| 469/469 [00:20<00:00, 22.48it/s]\n"
          ]
        },
        {
          "output_type": "stream",
          "name": "stdout",
          "text": [
            "Validation Loss: 0.1564, Validation Accuracy: 97.25%\n",
            "Balanced Accuracy: 0.9725\n",
            "Tau: 0.3880\n",
            "\n",
            "Epoch 69/100\n"
          ]
        },
        {
          "output_type": "stream",
          "name": "stderr",
          "text": [
            "Training: 100%|██████████| 2188/2188 [02:54<00:00, 12.53it/s]\n"
          ]
        },
        {
          "output_type": "stream",
          "name": "stdout",
          "text": [
            "Train Loss: 0.0064, Train Accuracy: 99.78%\n",
            "Tau: 0.3790\n",
            "Each stage of block probabilities:\n",
            "stage1\n",
            "Block 0: 0.9962  \n",
            "Block 1: 0.0020  \n",
            "Block 2: 0.0008 *\n",
            "Block 3: 0.0010 *\n",
            "stage2\n",
            "Block 0: 0.9341  \n",
            "Block 1: 0.0531  \n",
            "Block 2: 0.0068 *\n",
            "Block 3: 0.0060 *\n"
          ]
        },
        {
          "output_type": "stream",
          "name": "stderr",
          "text": [
            "Validation: 100%|██████████| 469/469 [00:20<00:00, 22.54it/s]\n"
          ]
        },
        {
          "output_type": "stream",
          "name": "stdout",
          "text": [
            "Validation Loss: 0.1576, Validation Accuracy: 97.21%\n",
            "Balanced Accuracy: 0.9725\n",
            "Tau: 0.3790\n",
            "\n",
            "Epoch 70/100\n"
          ]
        },
        {
          "output_type": "stream",
          "name": "stderr",
          "text": [
            "Training: 100%|██████████| 2188/2188 [02:55<00:00, 12.48it/s]\n"
          ]
        },
        {
          "output_type": "stream",
          "name": "stdout",
          "text": [
            "Train Loss: 0.0061, Train Accuracy: 99.81%\n",
            "Tau: 0.3700\n",
            "Each stage of block probabilities:\n",
            "stage1\n",
            "Block 0: 0.9964  \n",
            "Block 1: 0.0019  \n",
            "Block 2: 0.0008 *\n",
            "Block 3: 0.0009 *\n",
            "stage2\n",
            "Block 0: 0.9377  \n",
            "Block 1: 0.0500  \n",
            "Block 2: 0.0065 *\n",
            "Block 3: 0.0057 *\n"
          ]
        },
        {
          "output_type": "stream",
          "name": "stderr",
          "text": [
            "Validation: 100%|██████████| 469/469 [00:20<00:00, 22.68it/s]\n"
          ]
        },
        {
          "output_type": "stream",
          "name": "stdout",
          "text": [
            "Validation Loss: 0.1621, Validation Accuracy: 97.21%\n",
            "Balanced Accuracy: 0.9726\n",
            "Tau: 0.3700\n",
            "Model weights saved to HoViT_44_tinyfusion_base_r8a16_69.pth\n",
            "70 model test result:\n"
          ]
        },
        {
          "output_type": "stream",
          "name": "stderr",
          "text": [
            "Test: 100%|██████████| 469/469 [00:20<00:00, 22.60it/s]\n"
          ]
        },
        {
          "output_type": "stream",
          "name": "stdout",
          "text": [
            "Test Loss: 0.1798, Test Accuracy: 97.07%\n",
            "Balanced Accuracy: 0.9718\n",
            "Tau: 0.0000\n",
            "\n",
            "Epoch 71/100\n"
          ]
        },
        {
          "output_type": "stream",
          "name": "stderr",
          "text": [
            "Training: 100%|██████████| 2188/2188 [02:55<00:00, 12.48it/s]\n"
          ]
        },
        {
          "output_type": "stream",
          "name": "stdout",
          "text": [
            "Train Loss: 0.0053, Train Accuracy: 99.82%\n",
            "Tau: 0.3610\n",
            "Each stage of block probabilities:\n",
            "stage1\n",
            "Block 0: 0.9965  \n",
            "Block 1: 0.0019  \n",
            "Block 2: 0.0007 *\n",
            "Block 3: 0.0009 *\n",
            "stage2\n",
            "Block 0: 0.9422  \n",
            "Block 1: 0.0465  \n",
            "Block 2: 0.0061 *\n",
            "Block 3: 0.0052 *\n"
          ]
        },
        {
          "output_type": "stream",
          "name": "stderr",
          "text": [
            "Validation: 100%|██████████| 469/469 [00:20<00:00, 22.49it/s]\n"
          ]
        },
        {
          "output_type": "stream",
          "name": "stdout",
          "text": [
            "Validation Loss: 0.1965, Validation Accuracy: 96.60%\n",
            "Balanced Accuracy: 0.9659\n",
            "Tau: 0.3610\n",
            "\n",
            "Epoch 72/100\n"
          ]
        },
        {
          "output_type": "stream",
          "name": "stderr",
          "text": [
            "Training: 100%|██████████| 2188/2188 [02:55<00:00, 12.50it/s]\n"
          ]
        },
        {
          "output_type": "stream",
          "name": "stdout",
          "text": [
            "Train Loss: 0.0058, Train Accuracy: 99.80%\n",
            "Tau: 0.3520\n",
            "Each stage of block probabilities:\n",
            "stage1\n",
            "Block 0: 0.9966  \n",
            "Block 1: 0.0018  \n",
            "Block 2: 0.0007 *\n",
            "Block 3: 0.0009 *\n",
            "stage2\n",
            "Block 0: 0.9470  \n",
            "Block 1: 0.0425  \n",
            "Block 2: 0.0056 *\n",
            "Block 3: 0.0048 *\n"
          ]
        },
        {
          "output_type": "stream",
          "name": "stderr",
          "text": [
            "Validation: 100%|██████████| 469/469 [00:20<00:00, 22.76it/s]\n"
          ]
        },
        {
          "output_type": "stream",
          "name": "stdout",
          "text": [
            "Validation Loss: 0.1456, Validation Accuracy: 97.31%\n",
            "Balanced Accuracy: 0.9737\n",
            "Tau: 0.3520\n",
            "\n",
            "Epoch 73/100\n"
          ]
        },
        {
          "output_type": "stream",
          "name": "stderr",
          "text": [
            "Training: 100%|██████████| 2188/2188 [02:54<00:00, 12.53it/s]\n"
          ]
        },
        {
          "output_type": "stream",
          "name": "stdout",
          "text": [
            "Train Loss: 0.0056, Train Accuracy: 99.80%\n",
            "Tau: 0.3430\n",
            "Each stage of block probabilities:\n",
            "stage1\n",
            "Block 0: 0.9968  \n",
            "Block 1: 0.0017  \n",
            "Block 2: 0.0007 *\n",
            "Block 3: 0.0008 *\n",
            "stage2\n",
            "Block 0: 0.9492  \n",
            "Block 1: 0.0408  \n",
            "Block 2: 0.0053 *\n",
            "Block 3: 0.0047 *\n"
          ]
        },
        {
          "output_type": "stream",
          "name": "stderr",
          "text": [
            "Validation: 100%|██████████| 469/469 [00:20<00:00, 22.69it/s]\n"
          ]
        },
        {
          "output_type": "stream",
          "name": "stdout",
          "text": [
            "Validation Loss: 0.1593, Validation Accuracy: 97.19%\n",
            "Balanced Accuracy: 0.9722\n",
            "Tau: 0.3430\n",
            "\n",
            "Epoch 74/100\n"
          ]
        },
        {
          "output_type": "stream",
          "name": "stderr",
          "text": [
            "Training: 100%|██████████| 2188/2188 [02:54<00:00, 12.54it/s]\n"
          ]
        },
        {
          "output_type": "stream",
          "name": "stdout",
          "text": [
            "Train Loss: 0.0057, Train Accuracy: 99.80%\n",
            "Tau: 0.3340\n",
            "Each stage of block probabilities:\n",
            "stage1\n",
            "Block 0: 0.9969  \n",
            "Block 1: 0.0016  \n",
            "Block 2: 0.0007 *\n",
            "Block 3: 0.0008 *\n",
            "stage2\n",
            "Block 0: 0.9518  \n",
            "Block 1: 0.0386  \n",
            "Block 2: 0.0051 *\n",
            "Block 3: 0.0045 *\n"
          ]
        },
        {
          "output_type": "stream",
          "name": "stderr",
          "text": [
            "Validation: 100%|██████████| 469/469 [00:20<00:00, 22.68it/s]\n"
          ]
        },
        {
          "output_type": "stream",
          "name": "stdout",
          "text": [
            "Validation Loss: 0.1641, Validation Accuracy: 97.34%\n",
            "Balanced Accuracy: 0.9738\n",
            "Tau: 0.3340\n",
            "\n",
            "Epoch 75/100\n"
          ]
        },
        {
          "output_type": "stream",
          "name": "stderr",
          "text": [
            "Training: 100%|██████████| 2188/2188 [02:54<00:00, 12.52it/s]\n"
          ]
        },
        {
          "output_type": "stream",
          "name": "stdout",
          "text": [
            "Train Loss: 0.0054, Train Accuracy: 99.81%\n",
            "Tau: 0.3250\n",
            "Each stage of block probabilities:\n",
            "stage1\n",
            "Block 0: 0.9970  \n",
            "Block 1: 0.0015  \n",
            "Block 2: 0.0007 *\n",
            "Block 3: 0.0008 *\n",
            "stage2\n",
            "Block 0: 0.9560  \n",
            "Block 1: 0.0349  \n",
            "Block 2: 0.0049 *\n",
            "Block 3: 0.0042 *\n"
          ]
        },
        {
          "output_type": "stream",
          "name": "stderr",
          "text": [
            "Validation: 100%|██████████| 469/469 [00:20<00:00, 22.54it/s]\n"
          ]
        },
        {
          "output_type": "stream",
          "name": "stdout",
          "text": [
            "Validation Loss: 0.1614, Validation Accuracy: 97.33%\n",
            "Balanced Accuracy: 0.9733\n",
            "Tau: 0.3250\n",
            "\n",
            "Epoch 76/100\n"
          ]
        },
        {
          "output_type": "stream",
          "name": "stderr",
          "text": [
            "Training: 100%|██████████| 2188/2188 [02:54<00:00, 12.55it/s]\n"
          ]
        },
        {
          "output_type": "stream",
          "name": "stdout",
          "text": [
            "Train Loss: 0.0055, Train Accuracy: 99.82%\n",
            "Tau: 0.3160\n",
            "Each stage of block probabilities:\n",
            "stage1\n",
            "Block 0: 0.9971  \n",
            "Block 1: 0.0015  \n",
            "Block 2: 0.0006 *\n",
            "Block 3: 0.0008 *\n",
            "stage2\n",
            "Block 0: 0.9593  \n",
            "Block 1: 0.0322  \n",
            "Block 2: 0.0045 *\n",
            "Block 3: 0.0040 *\n"
          ]
        },
        {
          "output_type": "stream",
          "name": "stderr",
          "text": [
            "Validation: 100%|██████████| 469/469 [00:20<00:00, 22.59it/s]\n"
          ]
        },
        {
          "output_type": "stream",
          "name": "stdout",
          "text": [
            "Validation Loss: 0.1631, Validation Accuracy: 97.43%\n",
            "Balanced Accuracy: 0.9742\n",
            "Tau: 0.3160\n",
            "\n",
            "Epoch 77/100\n"
          ]
        },
        {
          "output_type": "stream",
          "name": "stderr",
          "text": [
            "Training: 100%|██████████| 2188/2188 [02:54<00:00, 12.53it/s]\n"
          ]
        },
        {
          "output_type": "stream",
          "name": "stdout",
          "text": [
            "Train Loss: 0.0059, Train Accuracy: 99.79%\n",
            "Tau: 0.3070\n",
            "Each stage of block probabilities:\n",
            "stage1\n",
            "Block 0: 0.9973  \n",
            "Block 1: 0.0014  \n",
            "Block 2: 0.0006 *\n",
            "Block 3: 0.0007 *\n",
            "stage2\n",
            "Block 0: 0.9622  \n",
            "Block 1: 0.0298  \n",
            "Block 2: 0.0042 *\n",
            "Block 3: 0.0038 *\n"
          ]
        },
        {
          "output_type": "stream",
          "name": "stderr",
          "text": [
            "Validation: 100%|██████████| 469/469 [00:20<00:00, 22.66it/s]\n"
          ]
        },
        {
          "output_type": "stream",
          "name": "stdout",
          "text": [
            "Validation Loss: 0.1508, Validation Accuracy: 97.48%\n",
            "Balanced Accuracy: 0.9752\n",
            "Tau: 0.3070\n",
            "\n",
            "Epoch 78/100\n"
          ]
        },
        {
          "output_type": "stream",
          "name": "stderr",
          "text": [
            "Training: 100%|██████████| 2188/2188 [02:54<00:00, 12.51it/s]\n"
          ]
        },
        {
          "output_type": "stream",
          "name": "stdout",
          "text": [
            "Train Loss: 0.0045, Train Accuracy: 99.86%\n",
            "Tau: 0.2980\n",
            "Each stage of block probabilities:\n",
            "stage1\n",
            "Block 0: 0.9973  \n",
            "Block 1: 0.0014  \n",
            "Block 2: 0.0006 *\n",
            "Block 3: 0.0007 *\n",
            "stage2\n",
            "Block 0: 0.9633  \n",
            "Block 1: 0.0289  \n",
            "Block 2: 0.0041 *\n",
            "Block 3: 0.0037 *\n"
          ]
        },
        {
          "output_type": "stream",
          "name": "stderr",
          "text": [
            "Validation: 100%|██████████| 469/469 [00:20<00:00, 22.62it/s]\n"
          ]
        },
        {
          "output_type": "stream",
          "name": "stdout",
          "text": [
            "Validation Loss: 0.1567, Validation Accuracy: 97.31%\n",
            "Balanced Accuracy: 0.9729\n",
            "Tau: 0.2980\n",
            "\n",
            "Epoch 79/100\n"
          ]
        },
        {
          "output_type": "stream",
          "name": "stderr",
          "text": [
            "Training: 100%|██████████| 2188/2188 [02:55<00:00, 12.50it/s]\n"
          ]
        },
        {
          "output_type": "stream",
          "name": "stdout",
          "text": [
            "Train Loss: 0.0057, Train Accuracy: 99.81%\n",
            "Tau: 0.2890\n",
            "Each stage of block probabilities:\n",
            "stage1\n",
            "Block 0: 0.9974  \n",
            "Block 1: 0.0013  \n",
            "Block 2: 0.0006 *\n",
            "Block 3: 0.0007 *\n",
            "stage2\n",
            "Block 0: 0.9646  \n",
            "Block 1: 0.0278  \n",
            "Block 2: 0.0039 *\n",
            "Block 3: 0.0036 *\n"
          ]
        },
        {
          "output_type": "stream",
          "name": "stderr",
          "text": [
            "Validation: 100%|██████████| 469/469 [00:20<00:00, 22.53it/s]\n"
          ]
        },
        {
          "output_type": "stream",
          "name": "stdout",
          "text": [
            "Validation Loss: 0.1633, Validation Accuracy: 97.20%\n",
            "Balanced Accuracy: 0.9726\n",
            "Tau: 0.2890\n",
            "\n",
            "Epoch 80/100\n"
          ]
        },
        {
          "output_type": "stream",
          "name": "stderr",
          "text": [
            "Training: 100%|██████████| 2188/2188 [02:55<00:00, 12.48it/s]\n"
          ]
        },
        {
          "output_type": "stream",
          "name": "stdout",
          "text": [
            "Train Loss: 0.0055, Train Accuracy: 99.82%\n",
            "Tau: 0.2800\n",
            "Each stage of block probabilities:\n",
            "stage1\n",
            "Block 0: 0.9974  \n",
            "Block 1: 0.0013  \n",
            "Block 2: 0.0006 *\n",
            "Block 3: 0.0007 *\n",
            "stage2\n",
            "Block 0: 0.9666  \n",
            "Block 1: 0.0262  \n",
            "Block 2: 0.0038 *\n",
            "Block 3: 0.0034 *\n"
          ]
        },
        {
          "output_type": "stream",
          "name": "stderr",
          "text": [
            "Validation: 100%|██████████| 469/469 [00:20<00:00, 22.52it/s]\n"
          ]
        },
        {
          "output_type": "stream",
          "name": "stdout",
          "text": [
            "Validation Loss: 0.1695, Validation Accuracy: 97.25%\n",
            "Balanced Accuracy: 0.9725\n",
            "Tau: 0.2800\n",
            "Model weights saved to HoViT_44_tinyfusion_base_r8a16_79.pth\n",
            "80 model test result:\n"
          ]
        },
        {
          "output_type": "stream",
          "name": "stderr",
          "text": [
            "Test: 100%|██████████| 469/469 [00:20<00:00, 22.41it/s]\n"
          ]
        },
        {
          "output_type": "stream",
          "name": "stdout",
          "text": [
            "Test Loss: 0.1879, Test Accuracy: 97.15%\n",
            "Balanced Accuracy: 0.9718\n",
            "Tau: 0.0000\n",
            "\n",
            "Epoch 81/100\n"
          ]
        },
        {
          "output_type": "stream",
          "name": "stderr",
          "text": [
            "Training: 100%|██████████| 2188/2188 [02:55<00:00, 12.47it/s]\n"
          ]
        },
        {
          "output_type": "stream",
          "name": "stdout",
          "text": [
            "Train Loss: 0.0051, Train Accuracy: 99.82%\n",
            "Tau: 0.2710\n",
            "Each stage of block probabilities:\n",
            "stage1\n",
            "Block 0: 0.9975  \n",
            "Block 1: 0.0013  \n",
            "Block 2: 0.0006 *\n",
            "Block 3: 0.0007 *\n",
            "stage2\n",
            "Block 0: 0.9680  \n",
            "Block 1: 0.0250  \n",
            "Block 2: 0.0037 *\n",
            "Block 3: 0.0033 *\n"
          ]
        },
        {
          "output_type": "stream",
          "name": "stderr",
          "text": [
            "Validation: 100%|██████████| 469/469 [00:20<00:00, 22.48it/s]\n"
          ]
        },
        {
          "output_type": "stream",
          "name": "stdout",
          "text": [
            "Validation Loss: 0.1733, Validation Accuracy: 97.16%\n",
            "Balanced Accuracy: 0.9719\n",
            "Tau: 0.2710\n",
            "\n",
            "Epoch 82/100\n"
          ]
        },
        {
          "output_type": "stream",
          "name": "stderr",
          "text": [
            "Training: 100%|██████████| 2188/2188 [02:54<00:00, 12.51it/s]\n"
          ]
        },
        {
          "output_type": "stream",
          "name": "stdout",
          "text": [
            "Train Loss: 0.0052, Train Accuracy: 99.82%\n",
            "Tau: 0.2620\n",
            "Each stage of block probabilities:\n",
            "stage1\n",
            "Block 0: 0.9976  \n",
            "Block 1: 0.0012  \n",
            "Block 2: 0.0005 *\n",
            "Block 3: 0.0006 *\n",
            "stage2\n",
            "Block 0: 0.9699  \n",
            "Block 1: 0.0232  \n",
            "Block 2: 0.0037 *\n",
            "Block 3: 0.0032 *\n"
          ]
        },
        {
          "output_type": "stream",
          "name": "stderr",
          "text": [
            "Validation: 100%|██████████| 469/469 [00:20<00:00, 22.69it/s]\n"
          ]
        },
        {
          "output_type": "stream",
          "name": "stdout",
          "text": [
            "Validation Loss: 0.1832, Validation Accuracy: 97.24%\n",
            "Balanced Accuracy: 0.9728\n",
            "Tau: 0.2620\n",
            "\n",
            "Epoch 83/100\n"
          ]
        },
        {
          "output_type": "stream",
          "name": "stderr",
          "text": [
            "Training: 100%|██████████| 2188/2188 [02:54<00:00, 12.51it/s]\n"
          ]
        },
        {
          "output_type": "stream",
          "name": "stdout",
          "text": [
            "Train Loss: 0.0052, Train Accuracy: 99.81%\n",
            "Tau: 0.2530\n",
            "Each stage of block probabilities:\n",
            "stage1\n",
            "Block 0: 0.9976  \n",
            "Block 1: 0.0012  \n",
            "Block 2: 0.0005 *\n",
            "Block 3: 0.0006 *\n",
            "stage2\n",
            "Block 0: 0.9694  \n",
            "Block 1: 0.0237  \n",
            "Block 2: 0.0037 *\n",
            "Block 3: 0.0032 *\n"
          ]
        },
        {
          "output_type": "stream",
          "name": "stderr",
          "text": [
            "Validation: 100%|██████████| 469/469 [00:20<00:00, 22.61it/s]\n"
          ]
        },
        {
          "output_type": "stream",
          "name": "stdout",
          "text": [
            "Validation Loss: 0.1545, Validation Accuracy: 97.43%\n",
            "Balanced Accuracy: 0.9746\n",
            "Tau: 0.2530\n",
            "\n",
            "Epoch 84/100\n"
          ]
        },
        {
          "output_type": "stream",
          "name": "stderr",
          "text": [
            "Training: 100%|██████████| 2188/2188 [02:54<00:00, 12.50it/s]\n"
          ]
        },
        {
          "output_type": "stream",
          "name": "stdout",
          "text": [
            "Train Loss: 0.0054, Train Accuracy: 99.82%\n",
            "Tau: 0.2440\n",
            "Each stage of block probabilities:\n",
            "stage1\n",
            "Block 0: 0.9977  \n",
            "Block 1: 0.0012  \n",
            "Block 2: 0.0005 *\n",
            "Block 3: 0.0006 *\n",
            "stage2\n",
            "Block 0: 0.9711  \n",
            "Block 1: 0.0222  \n",
            "Block 2: 0.0036 *\n",
            "Block 3: 0.0032 *\n"
          ]
        },
        {
          "output_type": "stream",
          "name": "stderr",
          "text": [
            "Validation: 100%|██████████| 469/469 [00:20<00:00, 22.43it/s]\n"
          ]
        },
        {
          "output_type": "stream",
          "name": "stdout",
          "text": [
            "Validation Loss: 0.1575, Validation Accuracy: 97.45%\n",
            "Balanced Accuracy: 0.9750\n",
            "Tau: 0.2440\n",
            "\n",
            "Epoch 85/100\n"
          ]
        },
        {
          "output_type": "stream",
          "name": "stderr",
          "text": [
            "Training: 100%|██████████| 2188/2188 [02:54<00:00, 12.53it/s]\n"
          ]
        },
        {
          "output_type": "stream",
          "name": "stdout",
          "text": [
            "Train Loss: 0.0047, Train Accuracy: 99.83%\n",
            "Tau: 0.2350\n",
            "Each stage of block probabilities:\n",
            "stage1\n",
            "Block 0: 0.9978  \n",
            "Block 1: 0.0012  \n",
            "Block 2: 0.0005 *\n",
            "Block 3: 0.0006 *\n",
            "stage2\n",
            "Block 0: 0.9718  \n",
            "Block 1: 0.0218  \n",
            "Block 2: 0.0035 *\n",
            "Block 3: 0.0030 *\n"
          ]
        },
        {
          "output_type": "stream",
          "name": "stderr",
          "text": [
            "Validation: 100%|██████████| 469/469 [00:20<00:00, 22.68it/s]\n"
          ]
        },
        {
          "output_type": "stream",
          "name": "stdout",
          "text": [
            "Validation Loss: 0.1631, Validation Accuracy: 97.36%\n",
            "Balanced Accuracy: 0.9733\n",
            "Tau: 0.2350\n",
            "\n",
            "Epoch 86/100\n"
          ]
        },
        {
          "output_type": "stream",
          "name": "stderr",
          "text": [
            "Training: 100%|██████████| 2188/2188 [02:55<00:00, 12.48it/s]\n"
          ]
        },
        {
          "output_type": "stream",
          "name": "stdout",
          "text": [
            "Train Loss: 0.0046, Train Accuracy: 99.84%\n",
            "Tau: 0.2260\n",
            "Each stage of block probabilities:\n",
            "stage1\n",
            "Block 0: 0.9978  \n",
            "Block 1: 0.0011  \n",
            "Block 2: 0.0005 *\n",
            "Block 3: 0.0006 *\n",
            "stage2\n",
            "Block 0: 0.9749  \n",
            "Block 1: 0.0191  \n",
            "Block 2: 0.0032 *\n",
            "Block 3: 0.0028 *\n"
          ]
        },
        {
          "output_type": "stream",
          "name": "stderr",
          "text": [
            "Validation: 100%|██████████| 469/469 [00:20<00:00, 22.67it/s]\n"
          ]
        },
        {
          "output_type": "stream",
          "name": "stdout",
          "text": [
            "Validation Loss: 0.1638, Validation Accuracy: 97.47%\n",
            "Balanced Accuracy: 0.9750\n",
            "Tau: 0.2260\n",
            "\n",
            "Epoch 87/100\n"
          ]
        },
        {
          "output_type": "stream",
          "name": "stderr",
          "text": [
            "Training: 100%|██████████| 2188/2188 [02:55<00:00, 12.48it/s]\n"
          ]
        },
        {
          "output_type": "stream",
          "name": "stdout",
          "text": [
            "Train Loss: 0.0048, Train Accuracy: 99.82%\n",
            "Tau: 0.2170\n",
            "Each stage of block probabilities:\n",
            "stage1\n",
            "Block 0: 0.9978  \n",
            "Block 1: 0.0011  \n",
            "Block 2: 0.0005 *\n",
            "Block 3: 0.0005 *\n",
            "stage2\n",
            "Block 0: 0.9762  \n",
            "Block 1: 0.0181  \n",
            "Block 2: 0.0031 *\n",
            "Block 3: 0.0027 *\n"
          ]
        },
        {
          "output_type": "stream",
          "name": "stderr",
          "text": [
            "Validation: 100%|██████████| 469/469 [00:20<00:00, 22.37it/s]\n"
          ]
        },
        {
          "output_type": "stream",
          "name": "stdout",
          "text": [
            "Validation Loss: 0.1595, Validation Accuracy: 97.55%\n",
            "Balanced Accuracy: 0.9752\n",
            "Tau: 0.2170\n",
            "\n",
            "Epoch 88/100\n"
          ]
        },
        {
          "output_type": "stream",
          "name": "stderr",
          "text": [
            "Training: 100%|██████████| 2188/2188 [02:54<00:00, 12.53it/s]\n"
          ]
        },
        {
          "output_type": "stream",
          "name": "stdout",
          "text": [
            "Train Loss: 0.0047, Train Accuracy: 99.84%\n",
            "Tau: 0.2080\n",
            "Each stage of block probabilities:\n",
            "stage1\n",
            "Block 0: 0.9980  \n",
            "Block 1: 0.0011  \n",
            "Block 2: 0.0005 *\n",
            "Block 3: 0.0005 *\n",
            "stage2\n",
            "Block 0: 0.9769  \n",
            "Block 1: 0.0174  \n",
            "Block 2: 0.0030 *\n",
            "Block 3: 0.0026 *\n"
          ]
        },
        {
          "output_type": "stream",
          "name": "stderr",
          "text": [
            "Validation: 100%|██████████| 469/469 [00:20<00:00, 22.76it/s]\n"
          ]
        },
        {
          "output_type": "stream",
          "name": "stdout",
          "text": [
            "Validation Loss: 0.1639, Validation Accuracy: 97.43%\n",
            "Balanced Accuracy: 0.9742\n",
            "Tau: 0.2080\n",
            "\n",
            "Epoch 89/100\n"
          ]
        },
        {
          "output_type": "stream",
          "name": "stderr",
          "text": [
            "Training: 100%|██████████| 2188/2188 [02:54<00:00, 12.54it/s]\n"
          ]
        },
        {
          "output_type": "stream",
          "name": "stdout",
          "text": [
            "Train Loss: 0.0056, Train Accuracy: 99.81%\n",
            "Tau: 0.1990\n",
            "Each stage of block probabilities:\n",
            "stage1\n",
            "Block 0: 0.9980  \n",
            "Block 1: 0.0010  \n",
            "Block 2: 0.0004 *\n",
            "Block 3: 0.0005 *\n",
            "stage2\n",
            "Block 0: 0.9788  \n",
            "Block 1: 0.0159  \n",
            "Block 2: 0.0028 *\n",
            "Block 3: 0.0025 *\n"
          ]
        },
        {
          "output_type": "stream",
          "name": "stderr",
          "text": [
            "Validation: 100%|██████████| 469/469 [00:20<00:00, 22.62it/s]\n"
          ]
        },
        {
          "output_type": "stream",
          "name": "stdout",
          "text": [
            "Validation Loss: 0.1765, Validation Accuracy: 97.33%\n",
            "Balanced Accuracy: 0.9734\n",
            "Tau: 0.1990\n",
            "\n",
            "Epoch 90/100\n"
          ]
        },
        {
          "output_type": "stream",
          "name": "stderr",
          "text": [
            "Training: 100%|██████████| 2188/2188 [02:54<00:00, 12.54it/s]\n"
          ]
        },
        {
          "output_type": "stream",
          "name": "stdout",
          "text": [
            "Train Loss: 0.0041, Train Accuracy: 99.86%\n",
            "Tau: 0.1900\n",
            "Each stage of block probabilities:\n",
            "stage1\n",
            "Block 0: 0.9981  \n",
            "Block 1: 0.0010  \n",
            "Block 2: 0.0004 *\n",
            "Block 3: 0.0005 *\n",
            "stage2\n",
            "Block 0: 0.9804  \n",
            "Block 1: 0.0147  \n",
            "Block 2: 0.0027 *\n",
            "Block 3: 0.0023 *\n"
          ]
        },
        {
          "output_type": "stream",
          "name": "stderr",
          "text": [
            "Validation: 100%|██████████| 469/469 [00:20<00:00, 22.78it/s]\n"
          ]
        },
        {
          "output_type": "stream",
          "name": "stdout",
          "text": [
            "Validation Loss: 0.1575, Validation Accuracy: 97.31%\n",
            "Balanced Accuracy: 0.9731\n",
            "Tau: 0.1900\n",
            "Model weights saved to HoViT_44_tinyfusion_base_r8a16_89.pth\n",
            "90 model test result:\n"
          ]
        },
        {
          "output_type": "stream",
          "name": "stderr",
          "text": [
            "Test: 100%|██████████| 469/469 [00:20<00:00, 22.51it/s]\n"
          ]
        },
        {
          "output_type": "stream",
          "name": "stdout",
          "text": [
            "Test Loss: 0.1819, Test Accuracy: 97.20%\n",
            "Balanced Accuracy: 0.9724\n",
            "Tau: 0.0000\n",
            "\n",
            "Epoch 91/100\n"
          ]
        },
        {
          "output_type": "stream",
          "name": "stderr",
          "text": [
            "Training: 100%|██████████| 2188/2188 [02:54<00:00, 12.53it/s]\n"
          ]
        },
        {
          "output_type": "stream",
          "name": "stdout",
          "text": [
            "Train Loss: 0.0045, Train Accuracy: 99.86%\n",
            "Tau: 0.1810\n",
            "Each stage of block probabilities:\n",
            "stage1\n",
            "Block 0: 0.9982  \n",
            "Block 1: 0.0010  \n",
            "Block 2: 0.0004 *\n",
            "Block 3: 0.0005 *\n",
            "stage2\n",
            "Block 0: 0.9808  \n",
            "Block 1: 0.0143  \n",
            "Block 2: 0.0026 *\n",
            "Block 3: 0.0023 *\n"
          ]
        },
        {
          "output_type": "stream",
          "name": "stderr",
          "text": [
            "Validation: 100%|██████████| 469/469 [00:20<00:00, 22.69it/s]\n"
          ]
        },
        {
          "output_type": "stream",
          "name": "stdout",
          "text": [
            "Validation Loss: 0.1599, Validation Accuracy: 97.35%\n",
            "Balanced Accuracy: 0.9744\n",
            "Tau: 0.1810\n",
            "\n",
            "Epoch 92/100\n"
          ]
        },
        {
          "output_type": "stream",
          "name": "stderr",
          "text": [
            "Training:  18%|█▊        | 396/2188 [00:31<02:22, 12.59it/s]"
          ]
        }
      ],
      "source": [
        "for epoch in range(num_epochs):\n",
        "    print(f\"\\nEpoch {epoch+1}/{num_epochs}\")\n",
        "    train(model, train_loader, criterion, optimizer, device, epoch)\n",
        "    evaluate(model, val_loader, criterion, device, phase=\"Validation\", epoch=epoch)\n",
        "    if((epoch+1) % 10 == 0 and epoch > 30):\n",
        "        save_path = f\"HoViT_44_tinyfusion_base_r8a16_{epoch}.pth\"\n",
        "        torch.save(model.state_dict(), save_path)\n",
        "        print(f\"Model weights saved to {save_path}\")\n",
        "        print(f\"{epoch+1} model test result:\")\n",
        "        evaluate(model, test_loader, criterion, device, phase=\"Test\")"
      ]
    },
    {
      "cell_type": "code",
      "execution_count": null,
      "metadata": {
        "id": "yq3Yxnau6V3e"
      },
      "outputs": [],
      "source": [
        "print(\"\\nFinal Test Evaluation\")\n",
        "evaluate(model,test_loader, criterion, device, epoch, phase=\"Test\")"
      ]
    },
    {
      "cell_type": "code",
      "execution_count": null,
      "metadata": {
        "id": "dlazeL-a0WTt"
      },
      "outputs": [],
      "source": [
        "times = measure_inference_time(model, test_loader, device)"
      ]
    },
    {
      "cell_type": "code",
      "execution_count": null,
      "metadata": {
        "id": "c77rmtOz0XuA"
      },
      "outputs": [],
      "source": [
        "from torch import profiler\n",
        "\n",
        "dummy_input = torch.randn(32, 3, 224, 224).cuda()\n",
        "\n",
        "# Profiling inference\n",
        "with profiler.profile(\n",
        "    activities=[\n",
        "       profiler.ProfilerActivity.CPU,\n",
        "        profiler.ProfilerActivity.CUDA,  # Include if using GPU\n",
        "    ],\n",
        "    on_trace_ready=profiler.tensorboard_trace_handler(\"./logs\"),  # Optional logging\n",
        "    record_shapes=True,\n",
        "    with_stack=True\n",
        ") as prof:\n",
        "    with torch.no_grad():\n",
        "        model(dummy_input)\n",
        "\n",
        "\n",
        "# Print results\n",
        "print(prof.key_averages().table(sort_by=\"cuda_time_total\" if torch.cuda.is_available() else \"cpu_time_total\", row_limit=10))"
      ]
    },
    {
      "cell_type": "code",
      "execution_count": null,
      "metadata": {
        "id": "jXvKsupvZYjZ"
      },
      "outputs": [],
      "source": [
        "from sklearn.metrics import f1_score, recall_score, precision_score, roc_curve, auc\n",
        "import torch\n",
        "import numpy as np\n",
        "from tqdm import tqdm\n",
        "\n",
        "\n",
        "def score_evaluate(model, data_loader, criterion, device, phase=\"Validation\"):\n",
        "    model.eval()\n",
        "    running_loss = 0.0\n",
        "    correct = 0\n",
        "    total = 0\n",
        "\n",
        "    all_labels = []\n",
        "    all_preds = []\n",
        "\n",
        "    with torch.no_grad():\n",
        "        for inputs, labels in tqdm(data_loader, desc=f\"{phase}\"):\n",
        "            inputs, labels = inputs.to(device), labels.to(device) # move tensors to device\n",
        "            outputs = model(inputs)\n",
        "            loss = criterion(outputs, labels)\n",
        "\n",
        "            running_loss += loss.item()\n",
        "            _, predicted = torch.max(outputs, 1)\n",
        "            total += labels.size(0)\n",
        "            correct += (predicted == labels).sum().item()\n",
        "\n",
        "            all_labels.extend(labels.cpu().numpy())\n",
        "            all_preds.extend(predicted.cpu().numpy())\n",
        "\n",
        "    overall_f1 = f1_score(all_labels, all_preds, average=\"macro\")\n",
        "    overall_recall = recall_score(all_labels, all_preds, average=\"macro\")\n",
        "    overall_precision = precision_score(all_labels, all_preds, average=\"macro\")\n",
        "\n",
        "    f1_per_class = f1_score(all_labels, all_preds, average=None)\n",
        "    recall_per_class = recall_score(all_labels, all_preds, average=None)\n",
        "    precision_per_class = precision_score(all_labels, all_preds, average=None)\n",
        "    class_labels = sorted(set(all_labels))\n",
        "\n",
        "    epoch_loss = running_loss / len(data_loader)\n",
        "    accuracy = 100 * correct / total\n",
        "    print(f\"{phase} Loss: {epoch_loss:.4f}, {phase} Accuracy: {accuracy:.2f}%\")\n",
        "\n",
        "\n",
        "    print(f\"Overall - F1: {overall_f1:.4f}, Recall: {overall_recall:.4f}, Precision: {overall_precision:.4f}\")\n",
        "    print(\"Per-Class Metrics:\")\n",
        "    for i, label in enumerate(class_labels):\n",
        "        print(f\"Class {label} - F1: {f1_per_class[i]:.4f}, Recall: {recall_per_class[i]:.4f}, Precision: {precision_per_class[i]:.4f}\")\n",
        "\n",
        "    return overall_f1, overall_recall, overall_precision, f1_per_class, recall_per_class, precision_per_class"
      ]
    },
    {
      "cell_type": "code",
      "execution_count": null,
      "metadata": {
        "id": "oe9DO2tS-BpI"
      },
      "outputs": [],
      "source": [
        "from sklearn.preprocessing import label_binarize\n",
        "\n",
        "def roc_auc(model, data_loader, device, num_classes):\n",
        "\n",
        "    y = [\"F1\", \"Precision\", \"Recall\"]\n",
        "\n",
        "    model.eval()\n",
        "    all_labels = []\n",
        "    all_scores = []\n",
        "\n",
        "    with torch.no_grad():\n",
        "        for inputs, labels in tqdm(data_loader, desc=\"ROC AUC\"):\n",
        "            inputs, labels = inputs.to(device), labels.to(device)\n",
        "            outputs = model(inputs)\n",
        "            _, predicted = torch.max(outputs, 1)\n",
        "            all_labels.extend(labels.cpu().numpy())\n",
        "            all_scores.extend(outputs.cpu().numpy())\n",
        "\n",
        "    all_labels = label_binarize(all_labels, classes=list(range(num_classes)))\n",
        "    print(f\"Binarized all_labels shape: {all_labels.shape}\")\n",
        "    print(f\"All_scores shape: {np.array(all_scores).shape}\")\n",
        "\n",
        "    fpr, tpr, _ = roc_curve(all_labels.ravel(), np.array(all_scores).ravel())\n",
        "    roc_auc_value = auc(fpr, tpr)\n",
        "\n",
        "    plt.figure(figsize=(9, 7))\n",
        "    plt.plot(fpr, tpr, color='darkorange', lw=2, label=f'ROC curve (area = {roc_auc_value:0.4f})')\n",
        "    plt.plot([0, 1], [0, 1], color='navy', lw=2, linestyle='--')\n",
        "    plt.xlim([0.0, 1.0])\n",
        "    plt.ylim([0.0, 1.05])\n",
        "    plt.xlabel('False Positive Rate')\n",
        "    plt.ylabel('True Positive Rate')\n",
        "    plt.title('Receiver Operating Characteristic (ROC) Curve')\n",
        "    plt.legend(loc=\"lower right\")\n",
        "    plt.show()\n",
        "\n",
        "    print(f\"Overall ROC AUC: {roc_auc_value:.4f}\")\n",
        "\n",
        "    return fpr, tpr, roc_auc_value"
      ]
    },
    {
      "cell_type": "code",
      "execution_count": null,
      "metadata": {
        "id": "xbSpMMWGk3bf"
      },
      "outputs": [],
      "source": [
        "!wget -O CRC-VAL-HE-7K.zip https://zenodo.org/records/1214456/files/CRC-VAL-HE-7K.zip\n",
        "!unzip -qq CRC-VAL-HE-7K.zip -d val"
      ]
    },
    {
      "cell_type": "code",
      "execution_count": null,
      "metadata": {
        "id": "xc2tPigjv6Is"
      },
      "outputs": [],
      "source": [
        "#torch.save(model.state_dict(), \"HoViT22_withAug_7Ktest.pth\")\n",
        "model.load_state_dict(torch.load(\"HoViT22_withAug_7Ktest.pth\"))"
      ]
    },
    {
      "cell_type": "code",
      "execution_count": null,
      "metadata": {
        "id": "rldaXFNXpT4r"
      },
      "outputs": [],
      "source": [
        "test_7k_dir = './val/CRC-VAL-HE-7K'"
      ]
    },
    {
      "cell_type": "code",
      "execution_count": null,
      "metadata": {
        "id": "Belqw8QytnZL"
      },
      "outputs": [],
      "source": [
        "import os\n",
        "test7k_dataset = Dataset(dir=test_7k_dir, aug=False)\n",
        "#test7k_dataloader = DataLoader(test7k_dataset, batch_size=32, shuffle=False, num_workers=8, pin_memory=False, drop_last=False)\n",
        "test7k_dataloader = DataLoader(test7k_dataset, batch_size=batch_size, shuffle=False)"
      ]
    },
    {
      "cell_type": "code",
      "execution_count": null,
      "metadata": {
        "colab": {
          "base_uri": "https://localhost:8080/"
        },
        "id": "A2y3cywDpjUQ",
        "outputId": "c6e63114-98c9-4bd3-ef46-995a6d1b8d88"
      },
      "outputs": [
        {
          "output_type": "stream",
          "name": "stderr",
          "text": [
            "Test: 100%|██████████| 225/225 [00:05<00:00, 43.18it/s]\n"
          ]
        },
        {
          "output_type": "stream",
          "name": "stdout",
          "text": [
            "Test Loss: 0.2637, Test Accuracy: 92.76%\n",
            "Overall - F1: 0.9091, Recall: 0.9161, Precision: 0.9059\n",
            "Per-Class Metrics:\n",
            "Class 0 - F1: 0.9411, Recall: 0.8901, Precision: 0.9983\n",
            "Class 1 - F1: 0.9994, Recall: 1.0000, Precision: 0.9988\n",
            "Class 2 - F1: 0.9047, Recall: 0.9941, Precision: 0.8300\n",
            "Class 3 - F1: 0.9890, Recall: 0.9921, Precision: 0.9859\n",
            "Class 4 - F1: 0.9295, Recall: 0.9807, Precision: 0.8834\n",
            "Class 5 - F1: 0.8246, Recall: 0.8497, Precision: 0.8010\n",
            "Class 6 - F1: 0.9578, Recall: 0.9501, Precision: 0.9657\n",
            "Class 7 - F1: 0.6886, Recall: 0.6461, Precision: 0.7371\n",
            "Class 8 - F1: 0.9474, Recall: 0.9424, Precision: 0.9525\n"
          ]
        }
      ],
      "source": [
        "overall_f1, overall_recall, overall_precision, f1_per_class, recall_per_class, precision_per_class = score_evaluate(model, test7k_dataloader, criterion, device, phase=\"Test\")"
      ]
    },
    {
      "cell_type": "code",
      "execution_count": null,
      "metadata": {
        "colab": {
          "base_uri": "https://localhost:8080/",
          "height": 455
        },
        "id": "p4pYjMPUpy2m",
        "outputId": "3d0affe1-8425-4d2b-9cca-c6ed225e5e30"
      },
      "outputs": [
        {
          "output_type": "display_data",
          "data": {
            "text/plain": [
              "<Figure size 2000x1200 with 0 Axes>"
            ]
          },
          "metadata": {}
        },
        {
          "output_type": "display_data",
          "data": {
            "text/plain": [
              "<Figure size 1600x480 with 1 Axes>"
            ],
            "image/png": "[encoded data removed]"
          },
          "metadata": {}
        }
      ],
      "source": [
        "x = [\"ADI\", \"BACK\", \"DEB\", \"LYM\", \"MUC\", \"MUS\", \"NORM\", 'STR', \"TUM\"]\n",
        "y = [\"F1\", \"Precision\", \"Recall\"]\n",
        "\n",
        "f1_score_list = []\n",
        "precision_score_list = []\n",
        "recall_score_list = []\n",
        "\n",
        "for i, class_name in enumerate(x):\n",
        "    f1_score_list.append(f1_per_class[i])\n",
        "    precision_score_list.append(precision_per_class[i])\n",
        "    recall_score_list.append(recall_per_class[i])\n",
        "\n",
        "x.append(\"Overall\")\n",
        "f1_score_list.append(overall_f1)\n",
        "precision_score_list.append(overall_precision)\n",
        "recall_score_list.append(overall_recall)\n",
        "\n",
        "score_list = [f1_score_list, precision_score_list, recall_score_list]\n",
        "score_list = np.array(score_list)\n",
        "plt.figure(figsize=(20, 12))\n",
        "score_cm = plt.matshow(score_list, cmap=plt.cm.Blues, alpha=0.3)\n",
        "plt.xticks(range(len(x)), x)\n",
        "plt.yticks(range(len(y)), y)\n",
        "for i in range(len(y)):\n",
        "    for j in range(len(x)):\n",
        "        # 행렬의 각각의 수치를 각 칸의 중앙에 넣어준다\n",
        "        plt.text(x=j, y=i,\n",
        "                     s=\"{:.2f}\".format(score_list[i, j]),\n",
        "                     va='center',\n",
        "                     ha='center',\n",
        "                     )"
      ]
    },
    {
      "cell_type": "code",
      "execution_count": null,
      "metadata": {
        "id": "5EnagUDtpzDU",
        "outputId": "5c4c49be-c46f-49c0-9734-c56fb1a5856b",
        "colab": {
          "base_uri": "https://localhost:8080/"
        }
      },
      "outputs": [
        {
          "output_type": "stream",
          "name": "stdout",
          "text": [
            "Inference Time Measurement Results:\n",
            "Total Inferences: 225\n",
            "Average Time: 7.82 ms\n",
            "Standard Deviation: 1.17 ms\n",
            "Maximum Time: 13.25 ms\n",
            "Minimum Time: 6.58 ms\n"
          ]
        }
      ],
      "source": [
        "times = measure_inference_time(model, test7k_dataloader, device)"
      ]
    }
  ],
  "metadata": {
    "accelerator": "GPU",
    "colab": {
      "gpuType": "A100",
      "machine_shape": "hm",
      "provenance": []
    },
    "kernelspec": {
      "display_name": "Python 3",
      "name": "python3"
    },
    "language_info": {
      "name": "python"
    }
  },
  "nbformat": 4,
  "nbformat_minor": 0
}