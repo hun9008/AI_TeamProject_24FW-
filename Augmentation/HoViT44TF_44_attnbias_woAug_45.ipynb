{
  "cells": [
    {
      "cell_type": "code",
      "execution_count": 428,
      "metadata": {
        "colab": {
          "base_uri": "https://localhost:8080/"
        },
        "id": "NYpt3QcVCl83",
        "outputId": "ae7e3287-9a30-462c-dce8-b4b9fe432550"
      },
      "outputs": [
        {
          "output_type": "stream",
          "name": "stdout",
          "text": [
            "Requirement already satisfied: wget in /usr/local/lib/python3.11/dist-packages (3.2)\n",
            "Requirement already satisfied: torchinfo in /usr/local/lib/python3.11/dist-packages (1.8.0)\n"
          ]
        }
      ],
      "source": [
        "!pip install wget torchinfo"
      ]
    },
    {
      "cell_type": "code",
      "execution_count": null,
      "metadata": {
        "colab": {
          "base_uri": "https://localhost:8080/"
        },
        "id": "hnxTtKfkN46C",
        "outputId": "646b476a-5f5b-4d0a-b8c2-2c79611ae310"
      },
      "outputs": [
        {
          "output_type": "stream",
          "name": "stdout",
          "text": [
            "--2025-02-27 18:49:11--  https://zenodo.org/record/1214456/files/NCT-CRC-HE-100K.zip\n",
            "Resolving zenodo.org (zenodo.org)... 188.185.48.194, 188.185.43.25, 188.185.45.92, ...\n",
            "Connecting to zenodo.org (zenodo.org)|188.185.48.194|:443... connected.\n",
            "HTTP request sent, awaiting response... 301 MOVED PERMANENTLY\n",
            "Location: /records/1214456/files/NCT-CRC-HE-100K.zip [following]\n",
            "--2025-02-27 18:49:12--  https://zenodo.org/records/1214456/files/NCT-CRC-HE-100K.zip\n",
            "Reusing existing connection to zenodo.org:443.\n",
            "HTTP request sent, awaiting response... 200 OK\n",
            "Length: 11690284003 (11G) [application/octet-stream]\n",
            "Saving to: ‘NCT-CRC-HE-100K.zip’\n",
            "\n",
            "NCT-CRC-HE-100K.zip   1%[                    ] 112.58M  16.1MB/s    eta 14m 3s "
          ]
        }
      ],
      "source": [
        "!wget -O NCT-CRC-HE-100K.zip https://zenodo.org/record/1214456/files/NCT-CRC-HE-100K.zip\n",
        "!unzip -qq NCT-CRC-HE-100K.zip -d train\n",
        "\n",
        "print(\"dataset setup complete!\")"
      ]
    },
    {
      "cell_type": "code",
      "source": [
        "!pip install peft"
      ],
      "metadata": {
        "colab": {
          "base_uri": "https://localhost:8080/"
        },
        "id": "f_9sIsiJ2ldL",
        "outputId": "10b4235e-69fb-4724-d39c-8dd9ef92fa2d"
      },
      "execution_count": 429,
      "outputs": [
        {
          "output_type": "stream",
          "name": "stdout",
          "text": [
            "Requirement already satisfied: peft in /usr/local/lib/python3.11/dist-packages (0.14.0)\n",
            "Requirement already satisfied: numpy>=1.17 in /usr/local/lib/python3.11/dist-packages (from peft) (1.26.4)\n",
            "Requirement already satisfied: packaging>=20.0 in /usr/local/lib/python3.11/dist-packages (from peft) (24.2)\n",
            "Requirement already satisfied: psutil in /usr/local/lib/python3.11/dist-packages (from peft) (5.9.5)\n",
            "Requirement already satisfied: pyyaml in /usr/local/lib/python3.11/dist-packages (from peft) (6.0.2)\n",
            "Requirement already satisfied: torch>=1.13.0 in /usr/local/lib/python3.11/dist-packages (from peft) (2.5.1+cu124)\n",
            "Requirement already satisfied: transformers in /usr/local/lib/python3.11/dist-packages (from peft) (4.48.3)\n",
            "Requirement already satisfied: tqdm in /usr/local/lib/python3.11/dist-packages (from peft) (4.67.1)\n",
            "Requirement already satisfied: accelerate>=0.21.0 in /usr/local/lib/python3.11/dist-packages (from peft) (1.3.0)\n",
            "Requirement already satisfied: safetensors in /usr/local/lib/python3.11/dist-packages (from peft) (0.5.2)\n",
            "Requirement already satisfied: huggingface-hub>=0.25.0 in /usr/local/lib/python3.11/dist-packages (from peft) (0.28.1)\n",
            "Requirement already satisfied: filelock in /usr/local/lib/python3.11/dist-packages (from huggingface-hub>=0.25.0->peft) (3.17.0)\n",
            "Requirement already satisfied: fsspec>=2023.5.0 in /usr/local/lib/python3.11/dist-packages (from huggingface-hub>=0.25.0->peft) (2024.10.0)\n",
            "Requirement already satisfied: requests in /usr/local/lib/python3.11/dist-packages (from huggingface-hub>=0.25.0->peft) (2.32.3)\n",
            "Requirement already satisfied: typing-extensions>=3.7.4.3 in /usr/local/lib/python3.11/dist-packages (from huggingface-hub>=0.25.0->peft) (4.12.2)\n",
            "Requirement already satisfied: networkx in /usr/local/lib/python3.11/dist-packages (from torch>=1.13.0->peft) (3.4.2)\n",
            "Requirement already satisfied: jinja2 in /usr/local/lib/python3.11/dist-packages (from torch>=1.13.0->peft) (3.1.5)\n",
            "Requirement already satisfied: nvidia-cuda-nvrtc-cu12==12.4.127 in /usr/local/lib/python3.11/dist-packages (from torch>=1.13.0->peft) (12.4.127)\n",
            "Requirement already satisfied: nvidia-cuda-runtime-cu12==12.4.127 in /usr/local/lib/python3.11/dist-packages (from torch>=1.13.0->peft) (12.4.127)\n",
            "Requirement already satisfied: nvidia-cuda-cupti-cu12==12.4.127 in /usr/local/lib/python3.11/dist-packages (from torch>=1.13.0->peft) (12.4.127)\n",
            "Requirement already satisfied: nvidia-cudnn-cu12==9.1.0.70 in /usr/local/lib/python3.11/dist-packages (from torch>=1.13.0->peft) (9.1.0.70)\n",
            "Requirement already satisfied: nvidia-cublas-cu12==12.4.5.8 in /usr/local/lib/python3.11/dist-packages (from torch>=1.13.0->peft) (12.4.5.8)\n",
            "Requirement already satisfied: nvidia-cufft-cu12==11.2.1.3 in /usr/local/lib/python3.11/dist-packages (from torch>=1.13.0->peft) (11.2.1.3)\n",
            "Requirement already satisfied: nvidia-curand-cu12==10.3.5.147 in /usr/local/lib/python3.11/dist-packages (from torch>=1.13.0->peft) (10.3.5.147)\n",
            "Requirement already satisfied: nvidia-cusolver-cu12==11.6.1.9 in /usr/local/lib/python3.11/dist-packages (from torch>=1.13.0->peft) (11.6.1.9)\n",
            "Requirement already satisfied: nvidia-cusparse-cu12==12.3.1.170 in /usr/local/lib/python3.11/dist-packages (from torch>=1.13.0->peft) (12.3.1.170)\n",
            "Requirement already satisfied: nvidia-nccl-cu12==2.21.5 in /usr/local/lib/python3.11/dist-packages (from torch>=1.13.0->peft) (2.21.5)\n",
            "Requirement already satisfied: nvidia-nvtx-cu12==12.4.127 in /usr/local/lib/python3.11/dist-packages (from torch>=1.13.0->peft) (12.4.127)\n",
            "Requirement already satisfied: nvidia-nvjitlink-cu12==12.4.127 in /usr/local/lib/python3.11/dist-packages (from torch>=1.13.0->peft) (12.4.127)\n",
            "Requirement already satisfied: triton==3.1.0 in /usr/local/lib/python3.11/dist-packages (from torch>=1.13.0->peft) (3.1.0)\n",
            "Requirement already satisfied: sympy==1.13.1 in /usr/local/lib/python3.11/dist-packages (from torch>=1.13.0->peft) (1.13.1)\n",
            "Requirement already satisfied: mpmath<1.4,>=1.1.0 in /usr/local/lib/python3.11/dist-packages (from sympy==1.13.1->torch>=1.13.0->peft) (1.3.0)\n",
            "Requirement already satisfied: regex!=2019.12.17 in /usr/local/lib/python3.11/dist-packages (from transformers->peft) (2024.11.6)\n",
            "Requirement already satisfied: tokenizers<0.22,>=0.21 in /usr/local/lib/python3.11/dist-packages (from transformers->peft) (0.21.0)\n",
            "Requirement already satisfied: MarkupSafe>=2.0 in /usr/local/lib/python3.11/dist-packages (from jinja2->torch>=1.13.0->peft) (3.0.2)\n",
            "Requirement already satisfied: charset-normalizer<4,>=2 in /usr/local/lib/python3.11/dist-packages (from requests->huggingface-hub>=0.25.0->peft) (3.4.1)\n",
            "Requirement already satisfied: idna<4,>=2.5 in /usr/local/lib/python3.11/dist-packages (from requests->huggingface-hub>=0.25.0->peft) (3.10)\n",
            "Requirement already satisfied: urllib3<3,>=1.21.1 in /usr/local/lib/python3.11/dist-packages (from requests->huggingface-hub>=0.25.0->peft) (2.3.0)\n",
            "Requirement already satisfied: certifi>=2017.4.17 in /usr/local/lib/python3.11/dist-packages (from requests->huggingface-hub>=0.25.0->peft) (2025.1.31)\n"
          ]
        }
      ]
    },
    {
      "cell_type": "code",
      "source": [
        "!pip install torchao\n",
        "!pip install torchtune"
      ],
      "metadata": {
        "colab": {
          "base_uri": "https://localhost:8080/"
        },
        "id": "ZPMfB8vT2qjy",
        "outputId": "ec78cc9f-ecf6-46b8-94d9-9cb3faee5903"
      },
      "execution_count": 430,
      "outputs": [
        {
          "output_type": "stream",
          "name": "stdout",
          "text": [
            "Requirement already satisfied: torchao in /usr/local/lib/python3.11/dist-packages (0.8.0)\n",
            "Requirement already satisfied: torchtune in /usr/local/lib/python3.11/dist-packages (0.5.0)\n",
            "Requirement already satisfied: datasets in /usr/local/lib/python3.11/dist-packages (from torchtune) (3.3.2)\n",
            "Requirement already satisfied: huggingface_hub[hf_transfer] in /usr/local/lib/python3.11/dist-packages (from torchtune) (0.28.1)\n",
            "Requirement already satisfied: safetensors in /usr/local/lib/python3.11/dist-packages (from torchtune) (0.5.2)\n",
            "Requirement already satisfied: kagglehub in /usr/local/lib/python3.11/dist-packages (from torchtune) (0.3.9)\n",
            "Requirement already satisfied: sentencepiece in /usr/local/lib/python3.11/dist-packages (from torchtune) (0.2.0)\n",
            "Requirement already satisfied: tiktoken in /usr/local/lib/python3.11/dist-packages (from torchtune) (0.9.0)\n",
            "Requirement already satisfied: blobfile>=2 in /usr/local/lib/python3.11/dist-packages (from torchtune) (3.0.0)\n",
            "Requirement already satisfied: numpy in /usr/local/lib/python3.11/dist-packages (from torchtune) (1.26.4)\n",
            "Requirement already satisfied: tqdm in /usr/local/lib/python3.11/dist-packages (from torchtune) (4.67.1)\n",
            "Requirement already satisfied: omegaconf in /usr/local/lib/python3.11/dist-packages (from torchtune) (2.3.0)\n",
            "Requirement already satisfied: psutil in /usr/local/lib/python3.11/dist-packages (from torchtune) (5.9.5)\n",
            "Requirement already satisfied: Pillow>=9.4.0 in /usr/local/lib/python3.11/dist-packages (from torchtune) (11.1.0)\n",
            "Requirement already satisfied: pycryptodomex>=3.8 in /usr/local/lib/python3.11/dist-packages (from blobfile>=2->torchtune) (3.21.0)\n",
            "Requirement already satisfied: urllib3<3,>=1.25.3 in /usr/local/lib/python3.11/dist-packages (from blobfile>=2->torchtune) (2.3.0)\n",
            "Requirement already satisfied: lxml>=4.9 in /usr/local/lib/python3.11/dist-packages (from blobfile>=2->torchtune) (5.3.1)\n",
            "Requirement already satisfied: filelock>=3.0 in /usr/local/lib/python3.11/dist-packages (from blobfile>=2->torchtune) (3.17.0)\n",
            "Requirement already satisfied: pyarrow>=15.0.0 in /usr/local/lib/python3.11/dist-packages (from datasets->torchtune) (18.1.0)\n",
            "Requirement already satisfied: dill<0.3.9,>=0.3.0 in /usr/local/lib/python3.11/dist-packages (from datasets->torchtune) (0.3.8)\n",
            "Requirement already satisfied: pandas in /usr/local/lib/python3.11/dist-packages (from datasets->torchtune) (2.2.2)\n",
            "Requirement already satisfied: requests>=2.32.2 in /usr/local/lib/python3.11/dist-packages (from datasets->torchtune) (2.32.3)\n",
            "Requirement already satisfied: xxhash in /usr/local/lib/python3.11/dist-packages (from datasets->torchtune) (3.5.0)\n",
            "Requirement already satisfied: multiprocess<0.70.17 in /usr/local/lib/python3.11/dist-packages (from datasets->torchtune) (0.70.16)\n",
            "Requirement already satisfied: fsspec<=2024.12.0,>=2023.1.0 in /usr/local/lib/python3.11/dist-packages (from fsspec[http]<=2024.12.0,>=2023.1.0->datasets->torchtune) (2024.10.0)\n",
            "Requirement already satisfied: aiohttp in /usr/local/lib/python3.11/dist-packages (from datasets->torchtune) (3.11.12)\n",
            "Requirement already satisfied: packaging in /usr/local/lib/python3.11/dist-packages (from datasets->torchtune) (24.2)\n",
            "Requirement already satisfied: pyyaml>=5.1 in /usr/local/lib/python3.11/dist-packages (from datasets->torchtune) (6.0.2)\n",
            "Requirement already satisfied: typing-extensions>=3.7.4.3 in /usr/local/lib/python3.11/dist-packages (from huggingface_hub[hf_transfer]->torchtune) (4.12.2)\n",
            "Requirement already satisfied: hf-transfer>=0.1.4 in /usr/local/lib/python3.11/dist-packages (from huggingface_hub[hf_transfer]->torchtune) (0.1.9)\n",
            "Requirement already satisfied: antlr4-python3-runtime==4.9.* in /usr/local/lib/python3.11/dist-packages (from omegaconf->torchtune) (4.9.3)\n",
            "Requirement already satisfied: regex>=2022.1.18 in /usr/local/lib/python3.11/dist-packages (from tiktoken->torchtune) (2024.11.6)\n",
            "Requirement already satisfied: aiohappyeyeballs>=2.3.0 in /usr/local/lib/python3.11/dist-packages (from aiohttp->datasets->torchtune) (2.4.6)\n",
            "Requirement already satisfied: aiosignal>=1.1.2 in /usr/local/lib/python3.11/dist-packages (from aiohttp->datasets->torchtune) (1.3.2)\n",
            "Requirement already satisfied: attrs>=17.3.0 in /usr/local/lib/python3.11/dist-packages (from aiohttp->datasets->torchtune) (25.1.0)\n",
            "Requirement already satisfied: frozenlist>=1.1.1 in /usr/local/lib/python3.11/dist-packages (from aiohttp->datasets->torchtune) (1.5.0)\n",
            "Requirement already satisfied: multidict<7.0,>=4.5 in /usr/local/lib/python3.11/dist-packages (from aiohttp->datasets->torchtune) (6.1.0)\n",
            "Requirement already satisfied: propcache>=0.2.0 in /usr/local/lib/python3.11/dist-packages (from aiohttp->datasets->torchtune) (0.3.0)\n",
            "Requirement already satisfied: yarl<2.0,>=1.17.0 in /usr/local/lib/python3.11/dist-packages (from aiohttp->datasets->torchtune) (1.18.3)\n",
            "Requirement already satisfied: charset-normalizer<4,>=2 in /usr/local/lib/python3.11/dist-packages (from requests>=2.32.2->datasets->torchtune) (3.4.1)\n",
            "Requirement already satisfied: idna<4,>=2.5 in /usr/local/lib/python3.11/dist-packages (from requests>=2.32.2->datasets->torchtune) (3.10)\n",
            "Requirement already satisfied: certifi>=2017.4.17 in /usr/local/lib/python3.11/dist-packages (from requests>=2.32.2->datasets->torchtune) (2025.1.31)\n",
            "Requirement already satisfied: python-dateutil>=2.8.2 in /usr/local/lib/python3.11/dist-packages (from pandas->datasets->torchtune) (2.8.2)\n",
            "Requirement already satisfied: pytz>=2020.1 in /usr/local/lib/python3.11/dist-packages (from pandas->datasets->torchtune) (2025.1)\n",
            "Requirement already satisfied: tzdata>=2022.7 in /usr/local/lib/python3.11/dist-packages (from pandas->datasets->torchtune) (2025.1)\n",
            "Requirement already satisfied: six>=1.5 in /usr/local/lib/python3.11/dist-packages (from python-dateutil>=2.8.2->pandas->datasets->torchtune) (1.17.0)\n"
          ]
        }
      ]
    },
    {
      "cell_type": "code",
      "execution_count": 431,
      "metadata": {
        "id": "Wa8mdzSwvzMe"
      },
      "outputs": [],
      "source": [
        "import timm\n",
        "import torch\n",
        "import torch.nn as nn\n",
        "import torch.optim as optim\n",
        "from torchvision import datasets, transforms\n",
        "from torch.utils.data import DataLoader, ConcatDataset\n",
        "import numpy as np\n",
        "from tqdm import tqdm\n",
        "\n",
        "import itertools\n",
        "from torchinfo import summary\n",
        "from sklearn.metrics import accuracy_score, balanced_accuracy_score, classification_report, confusion_matrix\n",
        "from PIL import Image\n",
        "\n",
        "from matplotlib import pyplot as plt\n",
        "\n",
        "import random\n",
        "import torchvision.transforms.functional as TF\n",
        "\n",
        "from sklearn.model_selection import train_test_split\n",
        "from torch.utils.data import Subset"
      ]
    },
    {
      "cell_type": "code",
      "source": [
        "from torchtune.modules.peft import LoRALinear"
      ],
      "metadata": {
        "id": "7VFmN8Yv2vjz"
      },
      "execution_count": 432,
      "outputs": []
    },
    {
      "cell_type": "code",
      "source": [
        "def convert_to_lora_model(model, rank=8, alpha=16, exclude=[]):\n",
        "    for name, module in model.named_children():\n",
        "        if name in exclude:\n",
        "            continue\n",
        "        if isinstance(module, nn.Linear):\n",
        "            lora_linear = LoRALinear(\n",
        "                in_dim=module.in_features,\n",
        "                out_dim=module.out_features,\n",
        "                rank=rank,\n",
        "                alpha=alpha,\n",
        "                use_bias=module.bias is not None\n",
        "            )\n",
        "            lora_linear.weight.data = module.weight.data #모델이 처음부터 다시 학습할 필요 없게 하기 위해\n",
        "            if module.bias is not None:\n",
        "                lora_linear.bias.data = module.bias.data\n",
        "            lora_linear.to(module.weight.device)\n",
        "            # 기존 linear layer를 loRA linear로 교체체\n",
        "            setattr(model, name, lora_linear)\n",
        "        # 재귀함수 (하위모듈도 확인)\n",
        "        else:\n",
        "            convert_to_lora_model(module, rank, alpha, exclude)\n",
        "\n",
        "    return model"
      ],
      "metadata": {
        "id": "xM9fPVgw2xbJ"
      },
      "execution_count": 433,
      "outputs": []
    },
    {
      "cell_type": "code",
      "execution_count": 434,
      "metadata": {
        "id": "4FLtpbS_Vrd7"
      },
      "outputs": [],
      "source": [
        "class ConvNorm(nn.Module):\n",
        "    def __init__(self, in_channels, out_channels, kernel_size=3, stride=2, padding=1):\n",
        "        super(ConvNorm, self).__init__()\n",
        "        self.linear = nn.Conv2d(\n",
        "            in_channels, out_channels, kernel_size=kernel_size,\n",
        "            stride=stride, padding=padding, bias=False\n",
        "        )\n",
        "        self.bn = nn.BatchNorm2d(out_channels)\n",
        "\n",
        "    def forward(self, x):\n",
        "        x = self.linear(x)\n",
        "        x = self.bn(x)\n",
        "        return x"
      ]
    },
    {
      "cell_type": "code",
      "execution_count": 435,
      "metadata": {
        "id": "zhaJu1oZyp0D"
      },
      "outputs": [],
      "source": [
        "class Stem16(nn.Module):\n",
        "    def __init__(self):\n",
        "        super(Stem16, self).__init__()\n",
        "        self.conv1 = ConvNorm(3, 32)\n",
        "        self.act1 = nn.Hardswish()\n",
        "        self.conv2 = ConvNorm(32, 64)\n",
        "        self.act2 = nn.Hardswish()\n",
        "        self.conv3 = ConvNorm(64, 128)\n",
        "        self.act3 = nn.Hardswish()\n",
        "        self.conv4 = ConvNorm(128, 256)\n",
        "\n",
        "    def forward(self, x):\n",
        "        x = self.act1(self.conv1(x))\n",
        "        x = self.act2(self.conv2(x))\n",
        "        x = self.act3(self.conv3(x))\n",
        "        x = self.conv4(x)\n",
        "        return x"
      ]
    },
    {
      "cell_type": "code",
      "execution_count": 436,
      "metadata": {
        "id": "W1Xh6-wOyskM"
      },
      "outputs": [],
      "source": [
        "class LinearNorm(nn.Module):\n",
        "    def __init__(self, in_features, out_features):\n",
        "        super(LinearNorm, self).__init__()\n",
        "        self.linear = nn.Linear(in_features, out_features, bias=False)\n",
        "        self.bn = nn.BatchNorm1d(out_features)\n",
        "\n",
        "    def forward(self, x):\n",
        "\n",
        "        if x.dim() == 3:\n",
        "            B, N, C = x.shape\n",
        "            x = x.reshape(B * N, C)\n",
        "            x = self.bn(self.linear(x))\n",
        "            x = x.reshape(B, N, -1)\n",
        "        else:\n",
        "            x = self.bn(self.linear(x))\n",
        "        return x"
      ]
    },
    {
      "cell_type": "code",
      "execution_count": 437,
      "metadata": {
        "id": "wHeuFDCPyuLf"
      },
      "outputs": [],
      "source": [
        "class Attention(nn.Module):\n",
        "    def __init__(self, dim, num_heads, attn_ratio=2):\n",
        "        super(Attention, self).__init__()\n",
        "        self.num_heads = num_heads\n",
        "        head_dim = dim // num_heads\n",
        "        self.scale = head_dim ** -0.5\n",
        "        inner_dim = head_dim * num_heads * 3\n",
        "        self.qkv = LinearNorm(dim, inner_dim)\n",
        "\n",
        "        self.proj = nn.Sequential(\n",
        "            nn.Hardswish(),\n",
        "            LinearNorm(dim, dim)\n",
        "        )\n",
        "\n",
        "        self.attention_biases = None\n",
        "        self.attention_bias_idxs = None\n",
        "\n",
        "    def compute_attention_bias(self, resolution):\n",
        "\n",
        "        points = list(itertools.product(range(resolution), range(resolution)))\n",
        "        N = len(points)\n",
        "\n",
        "        attention_offsets = {}\n",
        "        idxs = []\n",
        "\n",
        "        # if N = 196, then resolution = 14\n",
        "        for p1 in points:\n",
        "            for p2 in points:\n",
        "                offset = (abs(p1[0] - p2[0]), abs(p1[1] - p2[1]))\n",
        "                if offset not in attention_offsets:\n",
        "                    attention_offsets[offset] = len(attention_offsets)\n",
        "                idxs.append(attention_offsets[offset])\n",
        "\n",
        "        num_offsets = len(attention_offsets)\n",
        "\n",
        "        # 각 attention head에 대해 num_offsets 만큼의 학습 가능한 Bias를 생성\n",
        "        self.attention_biases = nn.Parameter(torch.zeros(self.num_heads, num_offsets).to(next(self.parameters()).device))\n",
        "        self.attention_bias_idxs = torch.LongTensor(idxs).view(N, N).to(next(self.parameters()).device)\n",
        "\n",
        "    def forward(self, x):\n",
        "        B, N, C = x.shape\n",
        "        resolution = int(N ** 0.5)\n",
        "\n",
        "        if self.attention_biases is None or self.attention_bias_idxs.shape[0] != N:\n",
        "            self.compute_attention_bias(resolution)\n",
        "\n",
        "        qkv = self.qkv(x)\n",
        "        qkv = qkv.view(B, N, 3, self.num_heads, C // self.num_heads).permute(2, 0, 3, 1, 4)\n",
        "        # qkv: (3, B, num_heads, N, head_dim)\n",
        "        q, k, v = qkv[0], qkv[1], qkv[2] # q, k, v: (B, num_heads, N, head_dim)\n",
        "\n",
        "        attn = (q @ k.transpose(-2, -1)) * self.scale # attn: (B, num_heads, N, N)\n",
        "        attn_bias = self.attention_biases[:, self.attention_bias_idxs].unsqueeze(0) # attn_bias: (1, num_heads, N, N)\n",
        "        attn = attn + attn_bias\n",
        "        attn = attn.softmax(dim=-1)\n",
        "\n",
        "        x = (attn @ v).transpose(1, 2).reshape(B, N, C)\n",
        "        return self.proj(x)"
      ]
    },
    {
      "cell_type": "code",
      "execution_count": 438,
      "metadata": {
        "id": "xvyY-FeUywyR"
      },
      "outputs": [],
      "source": [
        "class LevitMlp(nn.Module):\n",
        "    def __init__(self, in_features, hidden_features, out_features):\n",
        "        super(LevitMlp, self).__init__()\n",
        "        self.ln1 = LinearNorm(in_features, hidden_features)\n",
        "        self.act = nn.Hardswish()\n",
        "        self.drop = nn.Dropout(p=0.5, inplace=False)#dropout 적용\n",
        "        self.ln2 = LinearNorm(hidden_features, out_features)\n",
        "\n",
        "    def forward(self, x):\n",
        "        x = self.ln1(x)\n",
        "        x = self.act(x)\n",
        "        x = self.drop(x)\n",
        "        x = self.ln2(x)\n",
        "        return x"
      ]
    },
    {
      "cell_type": "code",
      "execution_count": 439,
      "metadata": {
        "id": "Ubl233osyyHQ"
      },
      "outputs": [],
      "source": [
        "class LevitBlock(nn.Module):\n",
        "    def __init__(self, dim, num_heads, mlp_ratio=2):\n",
        "        super(LevitBlock, self).__init__()\n",
        "        self.attn = Attention(dim, num_heads)\n",
        "        self.drop_path1 = nn.Identity()\n",
        "        self.mlp = LevitMlp(dim, dim * mlp_ratio, dim)\n",
        "        self.drop_path2 = nn.Identity()\n",
        "\n",
        "    def forward(self, x):\n",
        "        x = x + self.drop_path1(self.attn(x))\n",
        "        x = x + self.drop_path2(self.mlp(x))\n",
        "        return x"
      ]
    },
    {
      "cell_type": "code",
      "execution_count": 440,
      "metadata": {
        "id": "cjBHkWJYyzfc"
      },
      "outputs": [],
      "source": [
        "class CNNDownsample(nn.Module):\n",
        "    def __init__(self, in_channels, out_channels):\n",
        "        super(CNNDownsample, self).__init__()\n",
        "        self.out_channels = out_channels\n",
        "        self.conv = nn.Conv2d(in_channels, out_channels, kernel_size=3, stride=2, padding=1)\n",
        "        self.act = nn.Hardswish()\n",
        "\n",
        "    def forward(self, x):\n",
        "        # print(x.shape)\n",
        "        B, N, C = x.shape # (B, N, C)  N=H*W (16 * 16 = 196)\n",
        "        H = int(np.sqrt(N))\n",
        "        x = x.view(B, H, H, C).permute(0, 3, 1, 2)\n",
        "        x = self.conv(x)\n",
        "        x = self.act(x)\n",
        "        x = x.permute(0, 2, 3, 1).view(B, -1, self.out_channels)\n",
        "        return x"
      ]
    },
    {
      "cell_type": "code",
      "execution_count": 441,
      "metadata": {
        "id": "jNpOjwVVy1Im"
      },
      "outputs": [],
      "source": [
        "class LevitStage(nn.Module):\n",
        "    def __init__(self, dim, out_dim, num_heads, num_blocks, downsample=True):\n",
        "        super(LevitStage, self).__init__()\n",
        "        self.downsample = CNNDownsample(dim, out_dim) if downsample else nn.Identity()\n",
        "        self.blocks = nn.Sequential(*[LevitBlock(out_dim, num_heads) for _ in range(num_blocks)])\n",
        "\n",
        "    def forward(self, x):\n",
        "        x = self.downsample(x)\n",
        "        x = self.blocks(x)\n",
        "        return x"
      ]
    },
    {
      "cell_type": "code",
      "source": [
        "import torch.nn.functional as F\n",
        "\n",
        "class LevitStage_TinyFusion(nn.Module):\n",
        "    def __init__(self, dim, out_dim, num_heads, num_blocks, num_select, downsample=True):\n",
        "        super(LevitStage_TinyFusion, self).__init__()\n",
        "        assert num_select <= num_blocks\n",
        "        self.downsample = CNNDownsample(dim, out_dim) if downsample else nn.Identity()\n",
        "        self.blocks = nn.Sequential(*[LevitBlock(out_dim, num_heads) for _ in range(num_blocks)])\n",
        "        self.num_blocks = num_blocks\n",
        "        self.num_select = num_select\n",
        "        init_probs = torch.ones(num_blocks) / num_blocks\n",
        "        self.gumbel_gate = nn.Parameter(torch.log(init_probs))\n",
        "\n",
        "\n",
        "    def forward(self, x, tau=1):\n",
        "        x = self.downsample(x)\n",
        "\n",
        "        if self.training:\n",
        "            gate_probs = F.gumbel_softmax(self.gumbel_gate, tau=tau, hard=False)\n",
        "        else:\n",
        "            gate_probs = F.gumbel_softmax(self.gumbel_gate, tau=tau, hard=True)\n",
        "\n",
        "        for i in range(self.num_blocks):\n",
        "            if gate_probs[i] > 0: # skip zero blocks\n",
        "              x = x + gate_probs[i] * self.blocks[i](x)\n",
        "        return x"
      ],
      "metadata": {
        "id": "dMufn6p-3F_X"
      },
      "execution_count": 442,
      "outputs": []
    },
    {
      "cell_type": "code",
      "execution_count": 443,
      "metadata": {
        "id": "FyFtflRsy2QE"
      },
      "outputs": [],
      "source": [
        "class ConvLevitStage(nn.Module):\n",
        "    def __init__(self, in_channels, out_channels, num_blocks, kernel_size, stride, padding):\n",
        "        super(ConvLevitStage, self).__init__()\n",
        "        self.layers = nn.Sequential(\n",
        "            *[nn.Conv2d(in_channels if i == 0 else out_channels, out_channels, kernel_size, stride, padding)\n",
        "              for i in range(num_blocks)],\n",
        "            nn.BatchNorm2d(out_channels),\n",
        "            nn.ReLU(inplace=True)\n",
        "        )\n",
        "\n",
        "    def forward(self, x):\n",
        "        return self.layers(x)"
      ]
    },
    {
      "cell_type": "code",
      "execution_count": 444,
      "metadata": {
        "id": "yKzCWv-Ny3j9"
      },
      "outputs": [],
      "source": [
        "class NormLinear(nn.Module):\n",
        "    def __init__(self, in_features, out_features, dropout_prob=0.5):#drop_out_0.5 적용\n",
        "        super(NormLinear, self).__init__()\n",
        "        self.bn = nn.BatchNorm1d(in_features)\n",
        "        self.drop = nn.Dropout(p=dropout_prob, inplace=False)\n",
        "        self.linear = nn.Linear(in_features, out_features, bias=True)\n",
        "\n",
        "    def forward(self, x):\n",
        "        x = self.bn(x)\n",
        "        x = self.drop(x)\n",
        "        x = self.linear(x)\n",
        "        return x"
      ]
    },
    {
      "cell_type": "code",
      "source": [
        "class LevitDistilledTinyfusion(nn.Module):\n",
        "    def __init__(self, num_classes=9):\n",
        "        super(LevitDistilledTinyfusion, self).__init__()\n",
        "\n",
        "        self.stem = Stem16()\n",
        "\n",
        "        self.stage1 = LevitStage_TinyFusion(dim=256, out_dim=256, num_heads=4, num_blocks=4, num_select=2, downsample=False) # block 수 적용\n",
        "        self.stage2 = LevitStage_TinyFusion(dim=256, out_dim=384, num_heads=6, num_blocks=4, num_select=2, downsample=True)\n",
        "\n",
        "        self.conv1x1 = nn.Sequential(\n",
        "            nn.Conv2d(384, 512, kernel_size=1, stride=1, padding=0),\n",
        "            nn.BatchNorm2d(512),\n",
        "            nn.ReLU(inplace=True)\n",
        "        )\n",
        "\n",
        "        self.head = NormLinear(in_features=512, out_features=num_classes, dropout_prob=0.0)\n",
        "        self.head_dist = NormLinear(in_features=512, out_features=num_classes, dropout_prob=0.0)\n",
        "\n",
        "    def forward(self, x, tau):\n",
        "        x = self.stem(x)\n",
        "\n",
        "        B, C, H, W = x.shape\n",
        "        x = x.view(B, C, -1).transpose(1, 2)\n",
        "        x = self.stage1(x, tau)\n",
        "        x = self.stage2(x, tau)\n",
        "\n",
        "        H = W = int(x.shape[1]**0.5)\n",
        "        x = x.transpose(1, 2).view(B, 384, H, W)\n",
        "\n",
        "        x = self.conv1x1(x)\n",
        "\n",
        "        x = torch.mean(x, dim=(2, 3))\n",
        "        out = self.head(x)\n",
        "        out_dist = self.head_dist(x)\n",
        "        return out"
      ],
      "metadata": {
        "id": "kIR4o8va3Im9"
      },
      "execution_count": 445,
      "outputs": []
    },
    {
      "cell_type": "code",
      "execution_count": 446,
      "metadata": {
        "id": "nS7iQ8-453Ru"
      },
      "outputs": [],
      "source": [
        "class LevitDistilled(nn.Module):\n",
        "    def __init__(self, num_classes=9):\n",
        "        super(LevitDistilled, self).__init__()\n",
        "\n",
        "        self.stem = Stem16()\n",
        "\n",
        "        self.stage1 = LevitStage(dim=256, out_dim=256, num_heads=4, num_blocks=4, downsample=False) # block 수 적용\n",
        "        self.stage2 = LevitStage(dim=256, out_dim=384, num_heads=6, num_blocks=4, downsample=True)\n",
        "\n",
        "        self.conv1x1 = nn.Sequential(\n",
        "            nn.Conv2d(384, 512, kernel_size=1, stride=1, padding=0),\n",
        "            nn.BatchNorm2d(512),\n",
        "            nn.ReLU(inplace=True)\n",
        "        )\n",
        "\n",
        "        self.head = NormLinear(in_features=512, out_features=num_classes, dropout_prob=0.0)\n",
        "        self.head_dist = NormLinear(in_features=512, out_features=num_classes, dropout_prob=0.0)\n",
        "\n",
        "    def forward(self, x):\n",
        "        x = self.stem(x)\n",
        "\n",
        "        B, C, H, W = x.shape\n",
        "        x = x.view(B, C, -1).transpose(1, 2)\n",
        "        x = self.stage1(x)\n",
        "        x = self.stage2(x)\n",
        "\n",
        "        H = W = int(x.shape[1]**0.5)\n",
        "        x = x.transpose(1, 2).view(B, 384, H, W)\n",
        "\n",
        "        x = self.conv1x1(x)\n",
        "\n",
        "        x = torch.mean(x, dim=(2, 3))\n",
        "        out = self.head(x)\n",
        "        out_dist = self.head_dist(x)\n",
        "        return out"
      ]
    },
    {
      "cell_type": "code",
      "source": [
        "model = LevitDistilledTinyfusion(num_classes=9)"
      ],
      "metadata": {
        "id": "B68yiGFF3S88"
      },
      "execution_count": 447,
      "outputs": []
    },
    {
      "cell_type": "code",
      "execution_count": 448,
      "metadata": {
        "colab": {
          "base_uri": "https://localhost:8080/"
        },
        "collapsed": true,
        "id": "lbCq25bWzJSQ",
        "outputId": "7162459b-71b5-4bd7-fc8e-129ce8171acf"
      },
      "outputs": [
        {
          "output_type": "stream",
          "name": "stdout",
          "text": [
            "LevitDistilledTinyfusion(\n",
            "  (stem): Stem16(\n",
            "    (conv1): ConvNorm(\n",
            "      (linear): Conv2d(3, 32, kernel_size=(3, 3), stride=(2, 2), padding=(1, 1), bias=False)\n",
            "      (bn): BatchNorm2d(32, eps=1e-05, momentum=0.1, affine=True, track_running_stats=True)\n",
            "    )\n",
            "    (act1): Hardswish()\n",
            "    (conv2): ConvNorm(\n",
            "      (linear): Conv2d(32, 64, kernel_size=(3, 3), stride=(2, 2), padding=(1, 1), bias=False)\n",
            "      (bn): BatchNorm2d(64, eps=1e-05, momentum=0.1, affine=True, track_running_stats=True)\n",
            "    )\n",
            "    (act2): Hardswish()\n",
            "    (conv3): ConvNorm(\n",
            "      (linear): Conv2d(64, 128, kernel_size=(3, 3), stride=(2, 2), padding=(1, 1), bias=False)\n",
            "      (bn): BatchNorm2d(128, eps=1e-05, momentum=0.1, affine=True, track_running_stats=True)\n",
            "    )\n",
            "    (act3): Hardswish()\n",
            "    (conv4): ConvNorm(\n",
            "      (linear): Conv2d(128, 256, kernel_size=(3, 3), stride=(2, 2), padding=(1, 1), bias=False)\n",
            "      (bn): BatchNorm2d(256, eps=1e-05, momentum=0.1, affine=True, track_running_stats=True)\n",
            "    )\n",
            "  )\n",
            "  (stage1): LevitStage_TinyFusion(\n",
            "    (downsample): Identity()\n",
            "    (blocks): Sequential(\n",
            "      (0): LevitBlock(\n",
            "        (attn): Attention(\n",
            "          (qkv): LinearNorm(\n",
            "            (linear): Linear(in_features=256, out_features=768, bias=False)\n",
            "            (bn): BatchNorm1d(768, eps=1e-05, momentum=0.1, affine=True, track_running_stats=True)\n",
            "          )\n",
            "          (proj): Sequential(\n",
            "            (0): Hardswish()\n",
            "            (1): LinearNorm(\n",
            "              (linear): Linear(in_features=256, out_features=256, bias=False)\n",
            "              (bn): BatchNorm1d(256, eps=1e-05, momentum=0.1, affine=True, track_running_stats=True)\n",
            "            )\n",
            "          )\n",
            "        )\n",
            "        (drop_path1): Identity()\n",
            "        (mlp): LevitMlp(\n",
            "          (ln1): LinearNorm(\n",
            "            (linear): Linear(in_features=256, out_features=512, bias=False)\n",
            "            (bn): BatchNorm1d(512, eps=1e-05, momentum=0.1, affine=True, track_running_stats=True)\n",
            "          )\n",
            "          (act): Hardswish()\n",
            "          (drop): Dropout(p=0.5, inplace=False)\n",
            "          (ln2): LinearNorm(\n",
            "            (linear): Linear(in_features=512, out_features=256, bias=False)\n",
            "            (bn): BatchNorm1d(256, eps=1e-05, momentum=0.1, affine=True, track_running_stats=True)\n",
            "          )\n",
            "        )\n",
            "        (drop_path2): Identity()\n",
            "      )\n",
            "      (1): LevitBlock(\n",
            "        (attn): Attention(\n",
            "          (qkv): LinearNorm(\n",
            "            (linear): Linear(in_features=256, out_features=768, bias=False)\n",
            "            (bn): BatchNorm1d(768, eps=1e-05, momentum=0.1, affine=True, track_running_stats=True)\n",
            "          )\n",
            "          (proj): Sequential(\n",
            "            (0): Hardswish()\n",
            "            (1): LinearNorm(\n",
            "              (linear): Linear(in_features=256, out_features=256, bias=False)\n",
            "              (bn): BatchNorm1d(256, eps=1e-05, momentum=0.1, affine=True, track_running_stats=True)\n",
            "            )\n",
            "          )\n",
            "        )\n",
            "        (drop_path1): Identity()\n",
            "        (mlp): LevitMlp(\n",
            "          (ln1): LinearNorm(\n",
            "            (linear): Linear(in_features=256, out_features=512, bias=False)\n",
            "            (bn): BatchNorm1d(512, eps=1e-05, momentum=0.1, affine=True, track_running_stats=True)\n",
            "          )\n",
            "          (act): Hardswish()\n",
            "          (drop): Dropout(p=0.5, inplace=False)\n",
            "          (ln2): LinearNorm(\n",
            "            (linear): Linear(in_features=512, out_features=256, bias=False)\n",
            "            (bn): BatchNorm1d(256, eps=1e-05, momentum=0.1, affine=True, track_running_stats=True)\n",
            "          )\n",
            "        )\n",
            "        (drop_path2): Identity()\n",
            "      )\n",
            "      (2): LevitBlock(\n",
            "        (attn): Attention(\n",
            "          (qkv): LinearNorm(\n",
            "            (linear): Linear(in_features=256, out_features=768, bias=False)\n",
            "            (bn): BatchNorm1d(768, eps=1e-05, momentum=0.1, affine=True, track_running_stats=True)\n",
            "          )\n",
            "          (proj): Sequential(\n",
            "            (0): Hardswish()\n",
            "            (1): LinearNorm(\n",
            "              (linear): Linear(in_features=256, out_features=256, bias=False)\n",
            "              (bn): BatchNorm1d(256, eps=1e-05, momentum=0.1, affine=True, track_running_stats=True)\n",
            "            )\n",
            "          )\n",
            "        )\n",
            "        (drop_path1): Identity()\n",
            "        (mlp): LevitMlp(\n",
            "          (ln1): LinearNorm(\n",
            "            (linear): Linear(in_features=256, out_features=512, bias=False)\n",
            "            (bn): BatchNorm1d(512, eps=1e-05, momentum=0.1, affine=True, track_running_stats=True)\n",
            "          )\n",
            "          (act): Hardswish()\n",
            "          (drop): Dropout(p=0.5, inplace=False)\n",
            "          (ln2): LinearNorm(\n",
            "            (linear): Linear(in_features=512, out_features=256, bias=False)\n",
            "            (bn): BatchNorm1d(256, eps=1e-05, momentum=0.1, affine=True, track_running_stats=True)\n",
            "          )\n",
            "        )\n",
            "        (drop_path2): Identity()\n",
            "      )\n",
            "      (3): LevitBlock(\n",
            "        (attn): Attention(\n",
            "          (qkv): LinearNorm(\n",
            "            (linear): Linear(in_features=256, out_features=768, bias=False)\n",
            "            (bn): BatchNorm1d(768, eps=1e-05, momentum=0.1, affine=True, track_running_stats=True)\n",
            "          )\n",
            "          (proj): Sequential(\n",
            "            (0): Hardswish()\n",
            "            (1): LinearNorm(\n",
            "              (linear): Linear(in_features=256, out_features=256, bias=False)\n",
            "              (bn): BatchNorm1d(256, eps=1e-05, momentum=0.1, affine=True, track_running_stats=True)\n",
            "            )\n",
            "          )\n",
            "        )\n",
            "        (drop_path1): Identity()\n",
            "        (mlp): LevitMlp(\n",
            "          (ln1): LinearNorm(\n",
            "            (linear): Linear(in_features=256, out_features=512, bias=False)\n",
            "            (bn): BatchNorm1d(512, eps=1e-05, momentum=0.1, affine=True, track_running_stats=True)\n",
            "          )\n",
            "          (act): Hardswish()\n",
            "          (drop): Dropout(p=0.5, inplace=False)\n",
            "          (ln2): LinearNorm(\n",
            "            (linear): Linear(in_features=512, out_features=256, bias=False)\n",
            "            (bn): BatchNorm1d(256, eps=1e-05, momentum=0.1, affine=True, track_running_stats=True)\n",
            "          )\n",
            "        )\n",
            "        (drop_path2): Identity()\n",
            "      )\n",
            "    )\n",
            "  )\n",
            "  (stage2): LevitStage_TinyFusion(\n",
            "    (downsample): CNNDownsample(\n",
            "      (conv): Conv2d(256, 384, kernel_size=(3, 3), stride=(2, 2), padding=(1, 1))\n",
            "      (act): Hardswish()\n",
            "    )\n",
            "    (blocks): Sequential(\n",
            "      (0): LevitBlock(\n",
            "        (attn): Attention(\n",
            "          (qkv): LinearNorm(\n",
            "            (linear): Linear(in_features=384, out_features=1152, bias=False)\n",
            "            (bn): BatchNorm1d(1152, eps=1e-05, momentum=0.1, affine=True, track_running_stats=True)\n",
            "          )\n",
            "          (proj): Sequential(\n",
            "            (0): Hardswish()\n",
            "            (1): LinearNorm(\n",
            "              (linear): Linear(in_features=384, out_features=384, bias=False)\n",
            "              (bn): BatchNorm1d(384, eps=1e-05, momentum=0.1, affine=True, track_running_stats=True)\n",
            "            )\n",
            "          )\n",
            "        )\n",
            "        (drop_path1): Identity()\n",
            "        (mlp): LevitMlp(\n",
            "          (ln1): LinearNorm(\n",
            "            (linear): Linear(in_features=384, out_features=768, bias=False)\n",
            "            (bn): BatchNorm1d(768, eps=1e-05, momentum=0.1, affine=True, track_running_stats=True)\n",
            "          )\n",
            "          (act): Hardswish()\n",
            "          (drop): Dropout(p=0.5, inplace=False)\n",
            "          (ln2): LinearNorm(\n",
            "            (linear): Linear(in_features=768, out_features=384, bias=False)\n",
            "            (bn): BatchNorm1d(384, eps=1e-05, momentum=0.1, affine=True, track_running_stats=True)\n",
            "          )\n",
            "        )\n",
            "        (drop_path2): Identity()\n",
            "      )\n",
            "      (1): LevitBlock(\n",
            "        (attn): Attention(\n",
            "          (qkv): LinearNorm(\n",
            "            (linear): Linear(in_features=384, out_features=1152, bias=False)\n",
            "            (bn): BatchNorm1d(1152, eps=1e-05, momentum=0.1, affine=True, track_running_stats=True)\n",
            "          )\n",
            "          (proj): Sequential(\n",
            "            (0): Hardswish()\n",
            "            (1): LinearNorm(\n",
            "              (linear): Linear(in_features=384, out_features=384, bias=False)\n",
            "              (bn): BatchNorm1d(384, eps=1e-05, momentum=0.1, affine=True, track_running_stats=True)\n",
            "            )\n",
            "          )\n",
            "        )\n",
            "        (drop_path1): Identity()\n",
            "        (mlp): LevitMlp(\n",
            "          (ln1): LinearNorm(\n",
            "            (linear): Linear(in_features=384, out_features=768, bias=False)\n",
            "            (bn): BatchNorm1d(768, eps=1e-05, momentum=0.1, affine=True, track_running_stats=True)\n",
            "          )\n",
            "          (act): Hardswish()\n",
            "          (drop): Dropout(p=0.5, inplace=False)\n",
            "          (ln2): LinearNorm(\n",
            "            (linear): Linear(in_features=768, out_features=384, bias=False)\n",
            "            (bn): BatchNorm1d(384, eps=1e-05, momentum=0.1, affine=True, track_running_stats=True)\n",
            "          )\n",
            "        )\n",
            "        (drop_path2): Identity()\n",
            "      )\n",
            "      (2): LevitBlock(\n",
            "        (attn): Attention(\n",
            "          (qkv): LinearNorm(\n",
            "            (linear): Linear(in_features=384, out_features=1152, bias=False)\n",
            "            (bn): BatchNorm1d(1152, eps=1e-05, momentum=0.1, affine=True, track_running_stats=True)\n",
            "          )\n",
            "          (proj): Sequential(\n",
            "            (0): Hardswish()\n",
            "            (1): LinearNorm(\n",
            "              (linear): Linear(in_features=384, out_features=384, bias=False)\n",
            "              (bn): BatchNorm1d(384, eps=1e-05, momentum=0.1, affine=True, track_running_stats=True)\n",
            "            )\n",
            "          )\n",
            "        )\n",
            "        (drop_path1): Identity()\n",
            "        (mlp): LevitMlp(\n",
            "          (ln1): LinearNorm(\n",
            "            (linear): Linear(in_features=384, out_features=768, bias=False)\n",
            "            (bn): BatchNorm1d(768, eps=1e-05, momentum=0.1, affine=True, track_running_stats=True)\n",
            "          )\n",
            "          (act): Hardswish()\n",
            "          (drop): Dropout(p=0.5, inplace=False)\n",
            "          (ln2): LinearNorm(\n",
            "            (linear): Linear(in_features=768, out_features=384, bias=False)\n",
            "            (bn): BatchNorm1d(384, eps=1e-05, momentum=0.1, affine=True, track_running_stats=True)\n",
            "          )\n",
            "        )\n",
            "        (drop_path2): Identity()\n",
            "      )\n",
            "      (3): LevitBlock(\n",
            "        (attn): Attention(\n",
            "          (qkv): LinearNorm(\n",
            "            (linear): Linear(in_features=384, out_features=1152, bias=False)\n",
            "            (bn): BatchNorm1d(1152, eps=1e-05, momentum=0.1, affine=True, track_running_stats=True)\n",
            "          )\n",
            "          (proj): Sequential(\n",
            "            (0): Hardswish()\n",
            "            (1): LinearNorm(\n",
            "              (linear): Linear(in_features=384, out_features=384, bias=False)\n",
            "              (bn): BatchNorm1d(384, eps=1e-05, momentum=0.1, affine=True, track_running_stats=True)\n",
            "            )\n",
            "          )\n",
            "        )\n",
            "        (drop_path1): Identity()\n",
            "        (mlp): LevitMlp(\n",
            "          (ln1): LinearNorm(\n",
            "            (linear): Linear(in_features=384, out_features=768, bias=False)\n",
            "            (bn): BatchNorm1d(768, eps=1e-05, momentum=0.1, affine=True, track_running_stats=True)\n",
            "          )\n",
            "          (act): Hardswish()\n",
            "          (drop): Dropout(p=0.5, inplace=False)\n",
            "          (ln2): LinearNorm(\n",
            "            (linear): Linear(in_features=768, out_features=384, bias=False)\n",
            "            (bn): BatchNorm1d(384, eps=1e-05, momentum=0.1, affine=True, track_running_stats=True)\n",
            "          )\n",
            "        )\n",
            "        (drop_path2): Identity()\n",
            "      )\n",
            "    )\n",
            "  )\n",
            "  (conv1x1): Sequential(\n",
            "    (0): Conv2d(384, 512, kernel_size=(1, 1), stride=(1, 1))\n",
            "    (1): BatchNorm2d(512, eps=1e-05, momentum=0.1, affine=True, track_running_stats=True)\n",
            "    (2): ReLU(inplace=True)\n",
            "  )\n",
            "  (head): NormLinear(\n",
            "    (bn): BatchNorm1d(512, eps=1e-05, momentum=0.1, affine=True, track_running_stats=True)\n",
            "    (drop): Dropout(p=0.0, inplace=False)\n",
            "    (linear): Linear(in_features=512, out_features=9, bias=True)\n",
            "  )\n",
            "  (head_dist): NormLinear(\n",
            "    (bn): BatchNorm1d(512, eps=1e-05, momentum=0.1, affine=True, track_running_stats=True)\n",
            "    (drop): Dropout(p=0.0, inplace=False)\n",
            "    (linear): Linear(in_features=512, out_features=9, bias=True)\n",
            "  )\n",
            ")\n"
          ]
        }
      ],
      "source": [
        "#model = LevitDistilled(num_classes=9)\n",
        "print(model)\n",
        "\n",
        "device = torch.device(\"cuda\" if torch.cuda.is_available() else \"cpu\")\n",
        "model = model.to(device)\n",
        "\n",
        "batch_size = 32\n",
        "learning_rate = 5e-4\n",
        "num_epochs = 45\n",
        "weight_decay = 1e-6"
      ]
    },
    {
      "cell_type": "code",
      "execution_count": 449,
      "metadata": {
        "colab": {
          "base_uri": "https://localhost:8080/"
        },
        "id": "gNpMsNYAzLDF",
        "outputId": "148488e3-23be-4284-d430-8f94b13ebef2"
      },
      "outputs": [
        {
          "output_type": "stream",
          "name": "stdout",
          "text": [
            "=========================================================================================================\n",
            "Layer (type:depth-idx)                                  Output Shape              Param #\n",
            "=========================================================================================================\n",
            "LevitDistilledTinyfusion                                [32, 9]                   --\n",
            "├─Stem16: 1-1                                           [32, 256, 14, 14]         --\n",
            "│    └─ConvNorm: 2-1                                    [32, 32, 112, 112]        --\n",
            "│    │    └─Conv2d: 3-1                                 [32, 32, 112, 112]        864\n",
            "│    │    └─BatchNorm2d: 3-2                            [32, 32, 112, 112]        64\n",
            "│    └─Hardswish: 2-2                                   [32, 32, 112, 112]        --\n",
            "│    └─ConvNorm: 2-3                                    [32, 64, 56, 56]          --\n",
            "│    │    └─Conv2d: 3-3                                 [32, 64, 56, 56]          18,432\n",
            "│    │    └─BatchNorm2d: 3-4                            [32, 64, 56, 56]          128\n",
            "│    └─Hardswish: 2-4                                   [32, 64, 56, 56]          --\n",
            "│    └─ConvNorm: 2-5                                    [32, 128, 28, 28]         --\n",
            "│    │    └─Conv2d: 3-5                                 [32, 128, 28, 28]         73,728\n",
            "│    │    └─BatchNorm2d: 3-6                            [32, 128, 28, 28]         256\n",
            "│    └─Hardswish: 2-6                                   [32, 128, 28, 28]         --\n",
            "│    └─ConvNorm: 2-7                                    [32, 256, 14, 14]         --\n",
            "│    │    └─Conv2d: 3-7                                 [32, 256, 14, 14]         294,912\n",
            "│    │    └─BatchNorm2d: 3-8                            [32, 256, 14, 14]         512\n",
            "├─LevitStage_TinyFusion: 1-2                            [32, 196, 256]            --\n",
            "│    └─Identity: 2-8                                    [32, 196, 256]            --\n",
            "│    └─Sequential: 2-9                                  --                        1,584,400\n",
            "│    │    └─LevitBlock: 3-9                             [32, 196, 256]            527,872\n",
            "├─LevitStage_TinyFusion: 1-3                            [32, 49, 384]             --\n",
            "│    └─CNNDownsample: 2-10                              [32, 49, 384]             --\n",
            "│    │    └─Conv2d: 3-10                                [32, 384, 7, 7]           885,120\n",
            "│    │    └─Hardswish: 3-11                             [32, 384, 7, 7]           --\n",
            "│    └─Sequential: 2-11                                 --                        3,555,366\n",
            "│    │    └─LevitBlock: 3-12                            [32, 49, 384]             1,185,024\n",
            "├─Sequential: 1-4                                       [32, 512, 7, 7]           --\n",
            "│    └─Conv2d: 2-12                                     [32, 512, 7, 7]           197,120\n",
            "│    └─BatchNorm2d: 2-13                                [32, 512, 7, 7]           1,024\n",
            "│    └─ReLU: 2-14                                       [32, 512, 7, 7]           --\n",
            "├─NormLinear: 1-5                                       [32, 9]                   --\n",
            "│    └─BatchNorm1d: 2-15                                [32, 512]                 1,024\n",
            "│    └─Dropout: 2-16                                    [32, 512]                 --\n",
            "│    └─Linear: 2-17                                     [32, 9]                   4,617\n",
            "├─NormLinear: 1-6                                       [32, 9]                   --\n",
            "│    └─BatchNorm1d: 2-18                                [32, 512]                 1,024\n",
            "│    └─Dropout: 2-19                                    [32, 512]                 --\n",
            "│    └─Linear: 2-20                                     [32, 9]                   4,617\n",
            "=========================================================================================================\n",
            "Total params: 8,336,104\n",
            "Trainable params: 8,336,104\n",
            "Non-trainable params: 0\n",
            "Total mult-adds (Units.GIGABYTES): 12.76\n",
            "=========================================================================================================\n",
            "Input size (MB): 19.27\n",
            "Forward/backward pass size (MB): 650.55\n",
            "Params size (MB): 12.79\n",
            "Estimated Total Size (MB): 682.60\n",
            "=========================================================================================================\n"
          ]
        }
      ],
      "source": [
        "print(summary(model, input_size=(32, 3, 224, 224), tau = 10))"
      ]
    },
    {
      "cell_type": "code",
      "execution_count": 450,
      "metadata": {
        "colab": {
          "base_uri": "https://localhost:8080/"
        },
        "collapsed": true,
        "id": "qDELjYy2zP90",
        "outputId": "7667494f-3f49-42a3-9369-9c9e31c1b939"
      },
      "outputs": [
        {
          "output_type": "stream",
          "name": "stdout",
          "text": [
            "=========================================================================================================\n",
            "Layer (type:depth-idx)                                  Output Shape              Param #\n",
            "=========================================================================================================\n",
            "LevitDistilledTinyfusion                                [32, 9]                   --\n",
            "├─Stem16: 1-1                                           [32, 256, 14, 14]         --\n",
            "│    └─conv1.linear.weight                                                        ├─864\n",
            "│    └─conv1.bn.weight                                                            ├─32\n",
            "│    └─conv1.bn.bias                                                              ├─32\n",
            "│    └─conv2.linear.weight                                                        ├─18,432\n",
            "│    └─conv2.bn.weight                                                            ├─64\n",
            "│    └─conv2.bn.bias                                                              ├─64\n",
            "│    └─conv3.linear.weight                                                        ├─73,728\n",
            "│    └─conv3.bn.weight                                                            ├─128\n",
            "│    └─conv3.bn.bias                                                              ├─128\n",
            "│    └─conv4.linear.weight                                                        ├─294,912\n",
            "│    └─conv4.bn.weight                                                            ├─256\n",
            "│    └─conv4.bn.bias                                                              └─256\n",
            "│    └─ConvNorm: 2-1                                    [32, 32, 112, 112]        --\n",
            "│    │    └─linear.weight                                                         ├─864\n",
            "│    │    └─bn.weight                                                             ├─32\n",
            "│    │    └─bn.bias                                                               └─32\n",
            "│    │    └─Conv2d: 3-1                                 [32, 32, 112, 112]        864\n",
            "│    │    │    └─weight                                                           └─864\n",
            "│    │    └─BatchNorm2d: 3-2                            [32, 32, 112, 112]        64\n",
            "│    │    │    └─weight                                                           ├─32\n",
            "│    │    │    └─bias                                                             └─32\n",
            "│    └─Hardswish: 2-2                                   [32, 32, 112, 112]        --\n",
            "│    └─ConvNorm: 2-3                                    [32, 64, 56, 56]          --\n",
            "│    │    └─linear.weight                                                         ├─18,432\n",
            "│    │    └─bn.weight                                                             ├─64\n",
            "│    │    └─bn.bias                                                               └─64\n",
            "│    │    └─Conv2d: 3-3                                 [32, 64, 56, 56]          18,432\n",
            "│    │    │    └─weight                                                           └─18,432\n",
            "│    │    └─BatchNorm2d: 3-4                            [32, 64, 56, 56]          128\n",
            "│    │    │    └─weight                                                           ├─64\n",
            "│    │    │    └─bias                                                             └─64\n",
            "│    └─Hardswish: 2-4                                   [32, 64, 56, 56]          --\n",
            "│    └─ConvNorm: 2-5                                    [32, 128, 28, 28]         --\n",
            "│    │    └─linear.weight                                                         ├─73,728\n",
            "│    │    └─bn.weight                                                             ├─128\n",
            "│    │    └─bn.bias                                                               └─128\n",
            "│    │    └─Conv2d: 3-5                                 [32, 128, 28, 28]         73,728\n",
            "│    │    │    └─weight                                                           └─73,728\n",
            "│    │    └─BatchNorm2d: 3-6                            [32, 128, 28, 28]         256\n",
            "│    │    │    └─weight                                                           ├─128\n",
            "│    │    │    └─bias                                                             └─128\n",
            "│    └─Hardswish: 2-6                                   [32, 128, 28, 28]         --\n",
            "│    └─ConvNorm: 2-7                                    [32, 256, 14, 14]         --\n",
            "│    │    └─linear.weight                                                         ├─294,912\n",
            "│    │    └─bn.weight                                                             ├─256\n",
            "│    │    └─bn.bias                                                               └─256\n",
            "│    │    └─Conv2d: 3-7                                 [32, 256, 14, 14]         294,912\n",
            "│    │    │    └─weight                                                           └─294,912\n",
            "│    │    └─BatchNorm2d: 3-8                            [32, 256, 14, 14]         512\n",
            "│    │    │    └─weight                                                           ├─256\n",
            "│    │    │    └─bias                                                             └─256\n",
            "├─LevitStage_TinyFusion: 1-2                            [32, 196, 256]            --\n",
            "│    └─gumbel_gate                                                                ├─4\n",
            "│    └─blocks.0.attn.qkv.linear.weight                                            ├─196,608\n",
            "│    └─blocks.0.attn.qkv.bn.weight                                                ├─768\n",
            "│    └─blocks.0.attn.qkv.bn.bias                                                  ├─768\n",
            "│    └─blocks.0.attn.proj.1.linear.weight                                         ├─65,536\n",
            "│    └─blocks.0.attn.proj.1.bn.weight                                             ├─256\n",
            "│    └─blocks.0.attn.proj.1.bn.bias                                               ├─256\n",
            "│    └─blocks.0.mlp.ln1.linear.weight                                             ├─131,072\n",
            "│    └─blocks.0.mlp.ln1.bn.weight                                                 ├─512\n",
            "│    └─blocks.0.mlp.ln1.bn.bias                                                   ├─512\n",
            "│    └─blocks.0.mlp.ln2.linear.weight                                             ├─131,072\n",
            "│    └─blocks.0.mlp.ln2.bn.weight                                                 ├─256\n",
            "│    └─blocks.0.mlp.ln2.bn.bias                                                   ├─256\n",
            "│    └─blocks.1.attn.qkv.linear.weight                                            ├─196,608\n",
            "│    └─blocks.1.attn.qkv.bn.weight                                                ├─768\n",
            "│    └─blocks.1.attn.qkv.bn.bias                                                  ├─768\n",
            "│    └─blocks.1.attn.proj.1.linear.weight                                         ├─65,536\n",
            "│    └─blocks.1.attn.proj.1.bn.weight                                             ├─256\n",
            "│    └─blocks.1.attn.proj.1.bn.bias                                               ├─256\n",
            "│    └─blocks.1.mlp.ln1.linear.weight                                             ├─131,072\n",
            "│    └─blocks.1.mlp.ln1.bn.weight                                                 ├─512\n",
            "│    └─blocks.1.mlp.ln1.bn.bias                                                   ├─512\n",
            "│    └─blocks.1.mlp.ln2.linear.weight                                             ├─131,072\n",
            "│    └─blocks.1.mlp.ln2.bn.weight                                                 ├─256\n",
            "│    └─blocks.1.mlp.ln2.bn.bias                                                   ├─256\n",
            "│    └─blocks.2.attn.attention_biases                                             ├─784\n",
            "│    └─blocks.2.attn.qkv.linear.weight                                            ├─196,608\n",
            "│    └─blocks.2.attn.qkv.bn.weight                                                ├─768\n",
            "│    └─blocks.2.attn.qkv.bn.bias                                                  ├─768\n",
            "│    └─blocks.2.attn.proj.1.linear.weight                                         ├─65,536\n",
            "│    └─blocks.2.attn.proj.1.bn.weight                                             ├─256\n",
            "│    └─blocks.2.attn.proj.1.bn.bias                                               ├─256\n",
            "│    └─blocks.2.mlp.ln1.linear.weight                                             ├─131,072\n",
            "│    └─blocks.2.mlp.ln1.bn.weight                                                 ├─512\n",
            "│    └─blocks.2.mlp.ln1.bn.bias                                                   ├─512\n",
            "│    └─blocks.2.mlp.ln2.linear.weight                                             ├─131,072\n",
            "│    └─blocks.2.mlp.ln2.bn.weight                                                 ├─256\n",
            "│    └─blocks.2.mlp.ln2.bn.bias                                                   ├─256\n",
            "│    └─blocks.3.attn.qkv.linear.weight                                            ├─196,608\n",
            "│    └─blocks.3.attn.qkv.bn.weight                                                ├─768\n",
            "│    └─blocks.3.attn.qkv.bn.bias                                                  ├─768\n",
            "│    └─blocks.3.attn.proj.1.linear.weight                                         ├─65,536\n",
            "│    └─blocks.3.attn.proj.1.bn.weight                                             ├─256\n",
            "│    └─blocks.3.attn.proj.1.bn.bias                                               ├─256\n",
            "│    └─blocks.3.mlp.ln1.linear.weight                                             ├─131,072\n",
            "│    └─blocks.3.mlp.ln1.bn.weight                                                 ├─512\n",
            "│    └─blocks.3.mlp.ln1.bn.bias                                                   ├─512\n",
            "│    └─blocks.3.mlp.ln2.linear.weight                                             ├─131,072\n",
            "│    └─blocks.3.mlp.ln2.bn.weight                                                 ├─256\n",
            "│    └─blocks.3.mlp.ln2.bn.bias                                                   └─256\n",
            "│    └─Identity: 2-8                                    [32, 196, 256]            --\n",
            "│    └─Sequential: 2-9                                  --                        1,585,184\n",
            "│    │    └─0.attn.attention_biases                                               ├─784\n",
            "│    │    └─0.attn.qkv.linear.weight                                              ├─196,608\n",
            "│    │    └─0.attn.qkv.bn.weight                                                  ├─768\n",
            "│    │    └─0.attn.qkv.bn.bias                                                    ├─768\n",
            "│    │    └─0.attn.proj.1.linear.weight                                           ├─65,536\n",
            "│    │    └─0.attn.proj.1.bn.weight                                               ├─256\n",
            "│    │    └─0.attn.proj.1.bn.bias                                                 ├─256\n",
            "│    │    └─0.mlp.ln1.linear.weight                                               ├─131,072\n",
            "│    │    └─0.mlp.ln1.bn.weight                                                   ├─512\n",
            "│    │    └─0.mlp.ln1.bn.bias                                                     ├─512\n",
            "│    │    └─0.mlp.ln2.linear.weight                                               ├─131,072\n",
            "│    │    └─0.mlp.ln2.bn.weight                                                   ├─256\n",
            "│    │    └─0.mlp.ln2.bn.bias                                                     ├─256\n",
            "│    │    └─1.attn.qkv.linear.weight                                              ├─196,608\n",
            "│    │    └─1.attn.qkv.bn.weight                                                  ├─768\n",
            "│    │    └─1.attn.qkv.bn.bias                                                    ├─768\n",
            "│    │    └─1.attn.proj.1.linear.weight                                           ├─65,536\n",
            "│    │    └─1.attn.proj.1.bn.weight                                               ├─256\n",
            "│    │    └─1.attn.proj.1.bn.bias                                                 ├─256\n",
            "│    │    └─1.mlp.ln1.linear.weight                                               ├─131,072\n",
            "│    │    └─1.mlp.ln1.bn.weight                                                   ├─512\n",
            "│    │    └─1.mlp.ln1.bn.bias                                                     ├─512\n",
            "│    │    └─1.mlp.ln2.linear.weight                                               ├─131,072\n",
            "│    │    └─1.mlp.ln2.bn.weight                                                   ├─256\n",
            "│    │    └─1.mlp.ln2.bn.bias                                                     ├─256\n",
            "│    │    └─2.attn.attention_biases                                               ├─784\n",
            "│    │    └─2.attn.qkv.linear.weight                                              ├─196,608\n",
            "│    │    └─2.attn.qkv.bn.weight                                                  ├─768\n",
            "│    │    └─2.attn.qkv.bn.bias                                                    ├─768\n",
            "│    │    └─2.attn.proj.1.linear.weight                                           ├─65,536\n",
            "│    │    └─2.attn.proj.1.bn.weight                                               ├─256\n",
            "│    │    └─2.attn.proj.1.bn.bias                                                 ├─256\n",
            "│    │    └─2.mlp.ln1.linear.weight                                               ├─131,072\n",
            "│    │    └─2.mlp.ln1.bn.weight                                                   ├─512\n",
            "│    │    └─2.mlp.ln1.bn.bias                                                     ├─512\n",
            "│    │    └─2.mlp.ln2.linear.weight                                               ├─131,072\n",
            "│    │    └─2.mlp.ln2.bn.weight                                                   ├─256\n",
            "│    │    └─2.mlp.ln2.bn.bias                                                     ├─256\n",
            "│    │    └─3.attn.qkv.linear.weight                                              ├─196,608\n",
            "│    │    └─3.attn.qkv.bn.weight                                                  ├─768\n",
            "│    │    └─3.attn.qkv.bn.bias                                                    ├─768\n",
            "│    │    └─3.attn.proj.1.linear.weight                                           ├─65,536\n",
            "│    │    └─3.attn.proj.1.bn.weight                                               ├─256\n",
            "│    │    └─3.attn.proj.1.bn.bias                                                 ├─256\n",
            "│    │    └─3.mlp.ln1.linear.weight                                               ├─131,072\n",
            "│    │    └─3.mlp.ln1.bn.weight                                                   ├─512\n",
            "│    │    └─3.mlp.ln1.bn.bias                                                     ├─512\n",
            "│    │    └─3.mlp.ln2.linear.weight                                               ├─131,072\n",
            "│    │    └─3.mlp.ln2.bn.weight                                                   ├─256\n",
            "│    │    └─3.mlp.ln2.bn.bias                                                     └─256\n",
            "│    │    └─LevitBlock: 3-9                             [32, 196, 256]            527,872\n",
            "│    │    │    └─attn.qkv.linear.weight                                           ├─196,608\n",
            "│    │    │    └─attn.qkv.bn.weight                                               ├─768\n",
            "│    │    │    └─attn.qkv.bn.bias                                                 ├─768\n",
            "│    │    │    └─attn.proj.1.linear.weight                                        ├─65,536\n",
            "│    │    │    └─attn.proj.1.bn.weight                                            ├─256\n",
            "│    │    │    └─attn.proj.1.bn.bias                                              ├─256\n",
            "│    │    │    └─mlp.ln1.linear.weight                                            ├─131,072\n",
            "│    │    │    └─mlp.ln1.bn.weight                                                ├─512\n",
            "│    │    │    └─mlp.ln1.bn.bias                                                  ├─512\n",
            "│    │    │    └─mlp.ln2.linear.weight                                            ├─131,072\n",
            "│    │    │    └─mlp.ln2.bn.weight                                                ├─256\n",
            "│    │    │    └─mlp.ln2.bn.bias                                                  └─256\n",
            "├─LevitStage_TinyFusion: 1-3                            [32, 49, 384]             --\n",
            "│    └─gumbel_gate                                                                ├─4\n",
            "│    └─downsample.conv.weight                                                     ├─884,736\n",
            "│    └─downsample.conv.bias                                                       ├─384\n",
            "│    └─blocks.0.attn.qkv.linear.weight                                            ├─442,368\n",
            "│    └─blocks.0.attn.qkv.bn.weight                                                ├─1,152\n",
            "│    └─blocks.0.attn.qkv.bn.bias                                                  ├─1,152\n",
            "│    └─blocks.0.attn.proj.1.linear.weight                                         ├─147,456\n",
            "│    └─blocks.0.attn.proj.1.bn.weight                                             ├─384\n",
            "│    └─blocks.0.attn.proj.1.bn.bias                                               ├─384\n",
            "│    └─blocks.0.mlp.ln1.linear.weight                                             ├─294,912\n",
            "│    └─blocks.0.mlp.ln1.bn.weight                                                 ├─768\n",
            "│    └─blocks.0.mlp.ln1.bn.bias                                                   ├─768\n",
            "│    └─blocks.0.mlp.ln2.linear.weight                                             ├─294,912\n",
            "│    └─blocks.0.mlp.ln2.bn.weight                                                 ├─384\n",
            "│    └─blocks.0.mlp.ln2.bn.bias                                                   ├─384\n",
            "│    └─blocks.1.attn.attention_biases                                             ├─294\n",
            "│    └─blocks.1.attn.qkv.linear.weight                                            ├─442,368\n",
            "│    └─blocks.1.attn.qkv.bn.weight                                                ├─1,152\n",
            "│    └─blocks.1.attn.qkv.bn.bias                                                  ├─1,152\n",
            "│    └─blocks.1.attn.proj.1.linear.weight                                         ├─147,456\n",
            "│    └─blocks.1.attn.proj.1.bn.weight                                             ├─384\n",
            "│    └─blocks.1.attn.proj.1.bn.bias                                               ├─384\n",
            "│    └─blocks.1.mlp.ln1.linear.weight                                             ├─294,912\n",
            "│    └─blocks.1.mlp.ln1.bn.weight                                                 ├─768\n",
            "│    └─blocks.1.mlp.ln1.bn.bias                                                   ├─768\n",
            "│    └─blocks.1.mlp.ln2.linear.weight                                             ├─294,912\n",
            "│    └─blocks.1.mlp.ln2.bn.weight                                                 ├─384\n",
            "│    └─blocks.1.mlp.ln2.bn.bias                                                   ├─384\n",
            "│    └─blocks.2.attn.qkv.linear.weight                                            ├─442,368\n",
            "│    └─blocks.2.attn.qkv.bn.weight                                                ├─1,152\n",
            "│    └─blocks.2.attn.qkv.bn.bias                                                  ├─1,152\n",
            "│    └─blocks.2.attn.proj.1.linear.weight                                         ├─147,456\n",
            "│    └─blocks.2.attn.proj.1.bn.weight                                             ├─384\n",
            "│    └─blocks.2.attn.proj.1.bn.bias                                               ├─384\n",
            "│    └─blocks.2.mlp.ln1.linear.weight                                             ├─294,912\n",
            "│    └─blocks.2.mlp.ln1.bn.weight                                                 ├─768\n",
            "│    └─blocks.2.mlp.ln1.bn.bias                                                   ├─768\n",
            "│    └─blocks.2.mlp.ln2.linear.weight                                             ├─294,912\n",
            "│    └─blocks.2.mlp.ln2.bn.weight                                                 ├─384\n",
            "│    └─blocks.2.mlp.ln2.bn.bias                                                   ├─384\n",
            "│    └─blocks.3.attn.qkv.linear.weight                                            ├─442,368\n",
            "│    └─blocks.3.attn.qkv.bn.weight                                                ├─1,152\n",
            "│    └─blocks.3.attn.qkv.bn.bias                                                  ├─1,152\n",
            "│    └─blocks.3.attn.proj.1.linear.weight                                         ├─147,456\n",
            "│    └─blocks.3.attn.proj.1.bn.weight                                             ├─384\n",
            "│    └─blocks.3.attn.proj.1.bn.bias                                               ├─384\n",
            "│    └─blocks.3.mlp.ln1.linear.weight                                             ├─294,912\n",
            "│    └─blocks.3.mlp.ln1.bn.weight                                                 ├─768\n",
            "│    └─blocks.3.mlp.ln1.bn.bias                                                   ├─768\n",
            "│    └─blocks.3.mlp.ln2.linear.weight                                             ├─294,912\n",
            "│    └─blocks.3.mlp.ln2.bn.weight                                                 ├─384\n",
            "│    └─blocks.3.mlp.ln2.bn.bias                                                   └─384\n",
            "│    └─CNNDownsample: 2-10                              [32, 49, 384]             --\n",
            "│    │    └─conv.weight                                                           ├─884,736\n",
            "│    │    └─conv.bias                                                             └─384\n",
            "│    │    └─Conv2d: 3-10                                [32, 384, 7, 7]           885,120\n",
            "│    │    │    └─weight                                                           ├─884,736\n",
            "│    │    │    └─bias                                                             └─384\n",
            "│    │    └─Hardswish: 3-11                             [32, 384, 7, 7]           --\n",
            "│    └─Sequential: 2-11                                 --                        3,555,660\n",
            "│    │    └─0.attn.attention_biases                                               ├─294\n",
            "│    │    └─0.attn.qkv.linear.weight                                              ├─442,368\n",
            "│    │    └─0.attn.qkv.bn.weight                                                  ├─1,152\n",
            "│    │    └─0.attn.qkv.bn.bias                                                    ├─1,152\n",
            "│    │    └─0.attn.proj.1.linear.weight                                           ├─147,456\n",
            "│    │    └─0.attn.proj.1.bn.weight                                               ├─384\n",
            "│    │    └─0.attn.proj.1.bn.bias                                                 ├─384\n",
            "│    │    └─0.mlp.ln1.linear.weight                                               ├─294,912\n",
            "│    │    └─0.mlp.ln1.bn.weight                                                   ├─768\n",
            "│    │    └─0.mlp.ln1.bn.bias                                                     ├─768\n",
            "│    │    └─0.mlp.ln2.linear.weight                                               ├─294,912\n",
            "│    │    └─0.mlp.ln2.bn.weight                                                   ├─384\n",
            "│    │    └─0.mlp.ln2.bn.bias                                                     ├─384\n",
            "│    │    └─1.attn.attention_biases                                               ├─294\n",
            "│    │    └─1.attn.qkv.linear.weight                                              ├─442,368\n",
            "│    │    └─1.attn.qkv.bn.weight                                                  ├─1,152\n",
            "│    │    └─1.attn.qkv.bn.bias                                                    ├─1,152\n",
            "│    │    └─1.attn.proj.1.linear.weight                                           ├─147,456\n",
            "│    │    └─1.attn.proj.1.bn.weight                                               ├─384\n",
            "│    │    └─1.attn.proj.1.bn.bias                                                 ├─384\n",
            "│    │    └─1.mlp.ln1.linear.weight                                               ├─294,912\n",
            "│    │    └─1.mlp.ln1.bn.weight                                                   ├─768\n",
            "│    │    └─1.mlp.ln1.bn.bias                                                     ├─768\n",
            "│    │    └─1.mlp.ln2.linear.weight                                               ├─294,912\n",
            "│    │    └─1.mlp.ln2.bn.weight                                                   ├─384\n",
            "│    │    └─1.mlp.ln2.bn.bias                                                     ├─384\n",
            "│    │    └─2.attn.qkv.linear.weight                                              ├─442,368\n",
            "│    │    └─2.attn.qkv.bn.weight                                                  ├─1,152\n",
            "│    │    └─2.attn.qkv.bn.bias                                                    ├─1,152\n",
            "│    │    └─2.attn.proj.1.linear.weight                                           ├─147,456\n",
            "│    │    └─2.attn.proj.1.bn.weight                                               ├─384\n",
            "│    │    └─2.attn.proj.1.bn.bias                                                 ├─384\n",
            "│    │    └─2.mlp.ln1.linear.weight                                               ├─294,912\n",
            "│    │    └─2.mlp.ln1.bn.weight                                                   ├─768\n",
            "│    │    └─2.mlp.ln1.bn.bias                                                     ├─768\n",
            "│    │    └─2.mlp.ln2.linear.weight                                               ├─294,912\n",
            "│    │    └─2.mlp.ln2.bn.weight                                                   ├─384\n",
            "│    │    └─2.mlp.ln2.bn.bias                                                     ├─384\n",
            "│    │    └─3.attn.qkv.linear.weight                                              ├─442,368\n",
            "│    │    └─3.attn.qkv.bn.weight                                                  ├─1,152\n",
            "│    │    └─3.attn.qkv.bn.bias                                                    ├─1,152\n",
            "│    │    └─3.attn.proj.1.linear.weight                                           ├─147,456\n",
            "│    │    └─3.attn.proj.1.bn.weight                                               ├─384\n",
            "│    │    └─3.attn.proj.1.bn.bias                                                 ├─384\n",
            "│    │    └─3.mlp.ln1.linear.weight                                               ├─294,912\n",
            "│    │    └─3.mlp.ln1.bn.weight                                                   ├─768\n",
            "│    │    └─3.mlp.ln1.bn.bias                                                     ├─768\n",
            "│    │    └─3.mlp.ln2.linear.weight                                               ├─294,912\n",
            "│    │    └─3.mlp.ln2.bn.weight                                                   ├─384\n",
            "│    │    └─3.mlp.ln2.bn.bias                                                     └─384\n",
            "│    │    └─LevitBlock: 3-12                            [32, 49, 384]             1,185,024\n",
            "│    │    │    └─attn.qkv.linear.weight                                           ├─442,368\n",
            "│    │    │    └─attn.qkv.bn.weight                                               ├─1,152\n",
            "│    │    │    └─attn.qkv.bn.bias                                                 ├─1,152\n",
            "│    │    │    └─attn.proj.1.linear.weight                                        ├─147,456\n",
            "│    │    │    └─attn.proj.1.bn.weight                                            ├─384\n",
            "│    │    │    └─attn.proj.1.bn.bias                                              ├─384\n",
            "│    │    │    └─mlp.ln1.linear.weight                                            ├─294,912\n",
            "│    │    │    └─mlp.ln1.bn.weight                                                ├─768\n",
            "│    │    │    └─mlp.ln1.bn.bias                                                  ├─768\n",
            "│    │    │    └─mlp.ln2.linear.weight                                            ├─294,912\n",
            "│    │    │    └─mlp.ln2.bn.weight                                                ├─384\n",
            "│    │    │    └─mlp.ln2.bn.bias                                                  └─384\n",
            "├─Sequential: 1-4                                       [32, 512, 7, 7]           --\n",
            "│    └─0.weight                                                                   ├─196,608\n",
            "│    └─0.bias                                                                     ├─512\n",
            "│    └─1.weight                                                                   ├─512\n",
            "│    └─1.bias                                                                     └─512\n",
            "│    └─Conv2d: 2-12                                     [32, 512, 7, 7]           197,120\n",
            "│    │    └─weight                                                                ├─196,608\n",
            "│    │    └─bias                                                                  └─512\n",
            "│    └─BatchNorm2d: 2-13                                [32, 512, 7, 7]           1,024\n",
            "│    │    └─weight                                                                ├─512\n",
            "│    │    └─bias                                                                  └─512\n",
            "│    └─ReLU: 2-14                                       [32, 512, 7, 7]           --\n",
            "├─NormLinear: 1-5                                       [32, 9]                   --\n",
            "│    └─bn.weight                                                                  ├─512\n",
            "│    └─bn.bias                                                                    ├─512\n",
            "│    └─linear.weight                                                              ├─4,608\n",
            "│    └─linear.bias                                                                └─9\n",
            "│    └─BatchNorm1d: 2-15                                [32, 512]                 1,024\n",
            "│    │    └─weight                                                                ├─512\n",
            "│    │    └─bias                                                                  └─512\n",
            "│    └─Dropout: 2-16                                    [32, 512]                 --\n",
            "│    └─Linear: 2-17                                     [32, 9]                   4,617\n",
            "│    │    └─weight                                                                ├─4,608\n",
            "│    │    └─bias                                                                  └─9\n",
            "├─NormLinear: 1-6                                       [32, 9]                   --\n",
            "│    └─bn.weight                                                                  ├─512\n",
            "│    └─bn.bias                                                                    ├─512\n",
            "│    └─linear.weight                                                              ├─4,608\n",
            "│    └─linear.bias                                                                └─9\n",
            "│    └─BatchNorm1d: 2-18                                [32, 512]                 1,024\n",
            "│    │    └─weight                                                                ├─512\n",
            "│    │    └─bias                                                                  └─512\n",
            "│    └─Dropout: 2-19                                    [32, 512]                 --\n",
            "│    └─Linear: 2-20                                     [32, 9]                   4,617\n",
            "│    │    └─weight                                                                ├─4,608\n",
            "│    │    └─bias                                                                  └─9\n",
            "=========================================================================================================\n",
            "Total params: 8,337,182\n",
            "Trainable params: 8,337,182\n",
            "Non-trainable params: 0\n",
            "Total mult-adds (Units.GIGABYTES): 12.76\n",
            "=========================================================================================================\n",
            "Input size (MB): 19.27\n",
            "Forward/backward pass size (MB): 650.55\n",
            "Params size (MB): 12.79\n",
            "Estimated Total Size (MB): 682.60\n",
            "=========================================================================================================\n",
            "=========================================================================================================\n",
            "Layer (type:depth-idx)                                  Output Shape              Param #\n",
            "=========================================================================================================\n",
            "LevitDistilledTinyfusion                                [32, 9]                   --\n",
            "├─Stem16: 1-1                                           [32, 256, 14, 14]         --\n",
            "│    └─conv1.linear.weight                                                        ├─864\n",
            "│    └─conv1.bn.weight                                                            ├─32\n",
            "│    └─conv1.bn.bias                                                              ├─32\n",
            "│    └─conv2.linear.weight                                                        ├─18,432\n",
            "│    └─conv2.bn.weight                                                            ├─64\n",
            "│    └─conv2.bn.bias                                                              ├─64\n",
            "│    └─conv3.linear.weight                                                        ├─73,728\n",
            "│    └─conv3.bn.weight                                                            ├─128\n",
            "│    └─conv3.bn.bias                                                              ├─128\n",
            "│    └─conv4.linear.weight                                                        ├─294,912\n",
            "│    └─conv4.bn.weight                                                            ├─256\n",
            "│    └─conv4.bn.bias                                                              └─256\n",
            "│    └─ConvNorm: 2-1                                    [32, 32, 112, 112]        --\n",
            "│    │    └─linear.weight                                                         ├─864\n",
            "│    │    └─bn.weight                                                             ├─32\n",
            "│    │    └─bn.bias                                                               └─32\n",
            "│    │    └─Conv2d: 3-1                                 [32, 32, 112, 112]        864\n",
            "│    │    │    └─weight                                                           └─864\n",
            "│    │    └─BatchNorm2d: 3-2                            [32, 32, 112, 112]        64\n",
            "│    │    │    └─weight                                                           ├─32\n",
            "│    │    │    └─bias                                                             └─32\n",
            "│    └─Hardswish: 2-2                                   [32, 32, 112, 112]        --\n",
            "│    └─ConvNorm: 2-3                                    [32, 64, 56, 56]          --\n",
            "│    │    └─linear.weight                                                         ├─18,432\n",
            "│    │    └─bn.weight                                                             ├─64\n",
            "│    │    └─bn.bias                                                               └─64\n",
            "│    │    └─Conv2d: 3-3                                 [32, 64, 56, 56]          18,432\n",
            "│    │    │    └─weight                                                           └─18,432\n",
            "│    │    └─BatchNorm2d: 3-4                            [32, 64, 56, 56]          128\n",
            "│    │    │    └─weight                                                           ├─64\n",
            "│    │    │    └─bias                                                             └─64\n",
            "│    └─Hardswish: 2-4                                   [32, 64, 56, 56]          --\n",
            "│    └─ConvNorm: 2-5                                    [32, 128, 28, 28]         --\n",
            "│    │    └─linear.weight                                                         ├─73,728\n",
            "│    │    └─bn.weight                                                             ├─128\n",
            "│    │    └─bn.bias                                                               └─128\n",
            "│    │    └─Conv2d: 3-5                                 [32, 128, 28, 28]         73,728\n",
            "│    │    │    └─weight                                                           └─73,728\n",
            "│    │    └─BatchNorm2d: 3-6                            [32, 128, 28, 28]         256\n",
            "│    │    │    └─weight                                                           ├─128\n",
            "│    │    │    └─bias                                                             └─128\n",
            "│    └─Hardswish: 2-6                                   [32, 128, 28, 28]         --\n",
            "│    └─ConvNorm: 2-7                                    [32, 256, 14, 14]         --\n",
            "│    │    └─linear.weight                                                         ├─294,912\n",
            "│    │    └─bn.weight                                                             ├─256\n",
            "│    │    └─bn.bias                                                               └─256\n",
            "│    │    └─Conv2d: 3-7                                 [32, 256, 14, 14]         294,912\n",
            "│    │    │    └─weight                                                           └─294,912\n",
            "│    │    └─BatchNorm2d: 3-8                            [32, 256, 14, 14]         512\n",
            "│    │    │    └─weight                                                           ├─256\n",
            "│    │    │    └─bias                                                             └─256\n",
            "├─LevitStage_TinyFusion: 1-2                            [32, 196, 256]            --\n",
            "│    └─gumbel_gate                                                                ├─4\n",
            "│    └─blocks.0.attn.qkv.linear.weight                                            ├─196,608\n",
            "│    └─blocks.0.attn.qkv.bn.weight                                                ├─768\n",
            "│    └─blocks.0.attn.qkv.bn.bias                                                  ├─768\n",
            "│    └─blocks.0.attn.proj.1.linear.weight                                         ├─65,536\n",
            "│    └─blocks.0.attn.proj.1.bn.weight                                             ├─256\n",
            "│    └─blocks.0.attn.proj.1.bn.bias                                               ├─256\n",
            "│    └─blocks.0.mlp.ln1.linear.weight                                             ├─131,072\n",
            "│    └─blocks.0.mlp.ln1.bn.weight                                                 ├─512\n",
            "│    └─blocks.0.mlp.ln1.bn.bias                                                   ├─512\n",
            "│    └─blocks.0.mlp.ln2.linear.weight                                             ├─131,072\n",
            "│    └─blocks.0.mlp.ln2.bn.weight                                                 ├─256\n",
            "│    └─blocks.0.mlp.ln2.bn.bias                                                   ├─256\n",
            "│    └─blocks.1.attn.qkv.linear.weight                                            ├─196,608\n",
            "│    └─blocks.1.attn.qkv.bn.weight                                                ├─768\n",
            "│    └─blocks.1.attn.qkv.bn.bias                                                  ├─768\n",
            "│    └─blocks.1.attn.proj.1.linear.weight                                         ├─65,536\n",
            "│    └─blocks.1.attn.proj.1.bn.weight                                             ├─256\n",
            "│    └─blocks.1.attn.proj.1.bn.bias                                               ├─256\n",
            "│    └─blocks.1.mlp.ln1.linear.weight                                             ├─131,072\n",
            "│    └─blocks.1.mlp.ln1.bn.weight                                                 ├─512\n",
            "│    └─blocks.1.mlp.ln1.bn.bias                                                   ├─512\n",
            "│    └─blocks.1.mlp.ln2.linear.weight                                             ├─131,072\n",
            "│    └─blocks.1.mlp.ln2.bn.weight                                                 ├─256\n",
            "│    └─blocks.1.mlp.ln2.bn.bias                                                   ├─256\n",
            "│    └─blocks.2.attn.attention_biases                                             ├─784\n",
            "│    └─blocks.2.attn.qkv.linear.weight                                            ├─196,608\n",
            "│    └─blocks.2.attn.qkv.bn.weight                                                ├─768\n",
            "│    └─blocks.2.attn.qkv.bn.bias                                                  ├─768\n",
            "│    └─blocks.2.attn.proj.1.linear.weight                                         ├─65,536\n",
            "│    └─blocks.2.attn.proj.1.bn.weight                                             ├─256\n",
            "│    └─blocks.2.attn.proj.1.bn.bias                                               ├─256\n",
            "│    └─blocks.2.mlp.ln1.linear.weight                                             ├─131,072\n",
            "│    └─blocks.2.mlp.ln1.bn.weight                                                 ├─512\n",
            "│    └─blocks.2.mlp.ln1.bn.bias                                                   ├─512\n",
            "│    └─blocks.2.mlp.ln2.linear.weight                                             ├─131,072\n",
            "│    └─blocks.2.mlp.ln2.bn.weight                                                 ├─256\n",
            "│    └─blocks.2.mlp.ln2.bn.bias                                                   ├─256\n",
            "│    └─blocks.3.attn.qkv.linear.weight                                            ├─196,608\n",
            "│    └─blocks.3.attn.qkv.bn.weight                                                ├─768\n",
            "│    └─blocks.3.attn.qkv.bn.bias                                                  ├─768\n",
            "│    └─blocks.3.attn.proj.1.linear.weight                                         ├─65,536\n",
            "│    └─blocks.3.attn.proj.1.bn.weight                                             ├─256\n",
            "│    └─blocks.3.attn.proj.1.bn.bias                                               ├─256\n",
            "│    └─blocks.3.mlp.ln1.linear.weight                                             ├─131,072\n",
            "│    └─blocks.3.mlp.ln1.bn.weight                                                 ├─512\n",
            "│    └─blocks.3.mlp.ln1.bn.bias                                                   ├─512\n",
            "│    └─blocks.3.mlp.ln2.linear.weight                                             ├─131,072\n",
            "│    └─blocks.3.mlp.ln2.bn.weight                                                 ├─256\n",
            "│    └─blocks.3.mlp.ln2.bn.bias                                                   └─256\n",
            "│    └─Identity: 2-8                                    [32, 196, 256]            --\n",
            "│    └─Sequential: 2-9                                  --                        1,585,184\n",
            "│    │    └─0.attn.attention_biases                                               ├─784\n",
            "│    │    └─0.attn.qkv.linear.weight                                              ├─196,608\n",
            "│    │    └─0.attn.qkv.bn.weight                                                  ├─768\n",
            "│    │    └─0.attn.qkv.bn.bias                                                    ├─768\n",
            "│    │    └─0.attn.proj.1.linear.weight                                           ├─65,536\n",
            "│    │    └─0.attn.proj.1.bn.weight                                               ├─256\n",
            "│    │    └─0.attn.proj.1.bn.bias                                                 ├─256\n",
            "│    │    └─0.mlp.ln1.linear.weight                                               ├─131,072\n",
            "│    │    └─0.mlp.ln1.bn.weight                                                   ├─512\n",
            "│    │    └─0.mlp.ln1.bn.bias                                                     ├─512\n",
            "│    │    └─0.mlp.ln2.linear.weight                                               ├─131,072\n",
            "│    │    └─0.mlp.ln2.bn.weight                                                   ├─256\n",
            "│    │    └─0.mlp.ln2.bn.bias                                                     ├─256\n",
            "│    │    └─1.attn.qkv.linear.weight                                              ├─196,608\n",
            "│    │    └─1.attn.qkv.bn.weight                                                  ├─768\n",
            "│    │    └─1.attn.qkv.bn.bias                                                    ├─768\n",
            "│    │    └─1.attn.proj.1.linear.weight                                           ├─65,536\n",
            "│    │    └─1.attn.proj.1.bn.weight                                               ├─256\n",
            "│    │    └─1.attn.proj.1.bn.bias                                                 ├─256\n",
            "│    │    └─1.mlp.ln1.linear.weight                                               ├─131,072\n",
            "│    │    └─1.mlp.ln1.bn.weight                                                   ├─512\n",
            "│    │    └─1.mlp.ln1.bn.bias                                                     ├─512\n",
            "│    │    └─1.mlp.ln2.linear.weight                                               ├─131,072\n",
            "│    │    └─1.mlp.ln2.bn.weight                                                   ├─256\n",
            "│    │    └─1.mlp.ln2.bn.bias                                                     ├─256\n",
            "│    │    └─2.attn.attention_biases                                               ├─784\n",
            "│    │    └─2.attn.qkv.linear.weight                                              ├─196,608\n",
            "│    │    └─2.attn.qkv.bn.weight                                                  ├─768\n",
            "│    │    └─2.attn.qkv.bn.bias                                                    ├─768\n",
            "│    │    └─2.attn.proj.1.linear.weight                                           ├─65,536\n",
            "│    │    └─2.attn.proj.1.bn.weight                                               ├─256\n",
            "│    │    └─2.attn.proj.1.bn.bias                                                 ├─256\n",
            "│    │    └─2.mlp.ln1.linear.weight                                               ├─131,072\n",
            "│    │    └─2.mlp.ln1.bn.weight                                                   ├─512\n",
            "│    │    └─2.mlp.ln1.bn.bias                                                     ├─512\n",
            "│    │    └─2.mlp.ln2.linear.weight                                               ├─131,072\n",
            "│    │    └─2.mlp.ln2.bn.weight                                                   ├─256\n",
            "│    │    └─2.mlp.ln2.bn.bias                                                     ├─256\n",
            "│    │    └─3.attn.qkv.linear.weight                                              ├─196,608\n",
            "│    │    └─3.attn.qkv.bn.weight                                                  ├─768\n",
            "│    │    └─3.attn.qkv.bn.bias                                                    ├─768\n",
            "│    │    └─3.attn.proj.1.linear.weight                                           ├─65,536\n",
            "│    │    └─3.attn.proj.1.bn.weight                                               ├─256\n",
            "│    │    └─3.attn.proj.1.bn.bias                                                 ├─256\n",
            "│    │    └─3.mlp.ln1.linear.weight                                               ├─131,072\n",
            "│    │    └─3.mlp.ln1.bn.weight                                                   ├─512\n",
            "│    │    └─3.mlp.ln1.bn.bias                                                     ├─512\n",
            "│    │    └─3.mlp.ln2.linear.weight                                               ├─131,072\n",
            "│    │    └─3.mlp.ln2.bn.weight                                                   ├─256\n",
            "│    │    └─3.mlp.ln2.bn.bias                                                     └─256\n",
            "│    │    └─LevitBlock: 3-9                             [32, 196, 256]            527,872\n",
            "│    │    │    └─attn.qkv.linear.weight                                           ├─196,608\n",
            "│    │    │    └─attn.qkv.bn.weight                                               ├─768\n",
            "│    │    │    └─attn.qkv.bn.bias                                                 ├─768\n",
            "│    │    │    └─attn.proj.1.linear.weight                                        ├─65,536\n",
            "│    │    │    └─attn.proj.1.bn.weight                                            ├─256\n",
            "│    │    │    └─attn.proj.1.bn.bias                                              ├─256\n",
            "│    │    │    └─mlp.ln1.linear.weight                                            ├─131,072\n",
            "│    │    │    └─mlp.ln1.bn.weight                                                ├─512\n",
            "│    │    │    └─mlp.ln1.bn.bias                                                  ├─512\n",
            "│    │    │    └─mlp.ln2.linear.weight                                            ├─131,072\n",
            "│    │    │    └─mlp.ln2.bn.weight                                                ├─256\n",
            "│    │    │    └─mlp.ln2.bn.bias                                                  └─256\n",
            "├─LevitStage_TinyFusion: 1-3                            [32, 49, 384]             --\n",
            "│    └─gumbel_gate                                                                ├─4\n",
            "│    └─downsample.conv.weight                                                     ├─884,736\n",
            "│    └─downsample.conv.bias                                                       ├─384\n",
            "│    └─blocks.0.attn.qkv.linear.weight                                            ├─442,368\n",
            "│    └─blocks.0.attn.qkv.bn.weight                                                ├─1,152\n",
            "│    └─blocks.0.attn.qkv.bn.bias                                                  ├─1,152\n",
            "│    └─blocks.0.attn.proj.1.linear.weight                                         ├─147,456\n",
            "│    └─blocks.0.attn.proj.1.bn.weight                                             ├─384\n",
            "│    └─blocks.0.attn.proj.1.bn.bias                                               ├─384\n",
            "│    └─blocks.0.mlp.ln1.linear.weight                                             ├─294,912\n",
            "│    └─blocks.0.mlp.ln1.bn.weight                                                 ├─768\n",
            "│    └─blocks.0.mlp.ln1.bn.bias                                                   ├─768\n",
            "│    └─blocks.0.mlp.ln2.linear.weight                                             ├─294,912\n",
            "│    └─blocks.0.mlp.ln2.bn.weight                                                 ├─384\n",
            "│    └─blocks.0.mlp.ln2.bn.bias                                                   ├─384\n",
            "│    └─blocks.1.attn.attention_biases                                             ├─294\n",
            "│    └─blocks.1.attn.qkv.linear.weight                                            ├─442,368\n",
            "│    └─blocks.1.attn.qkv.bn.weight                                                ├─1,152\n",
            "│    └─blocks.1.attn.qkv.bn.bias                                                  ├─1,152\n",
            "│    └─blocks.1.attn.proj.1.linear.weight                                         ├─147,456\n",
            "│    └─blocks.1.attn.proj.1.bn.weight                                             ├─384\n",
            "│    └─blocks.1.attn.proj.1.bn.bias                                               ├─384\n",
            "│    └─blocks.1.mlp.ln1.linear.weight                                             ├─294,912\n",
            "│    └─blocks.1.mlp.ln1.bn.weight                                                 ├─768\n",
            "│    └─blocks.1.mlp.ln1.bn.bias                                                   ├─768\n",
            "│    └─blocks.1.mlp.ln2.linear.weight                                             ├─294,912\n",
            "│    └─blocks.1.mlp.ln2.bn.weight                                                 ├─384\n",
            "│    └─blocks.1.mlp.ln2.bn.bias                                                   ├─384\n",
            "│    └─blocks.2.attn.qkv.linear.weight                                            ├─442,368\n",
            "│    └─blocks.2.attn.qkv.bn.weight                                                ├─1,152\n",
            "│    └─blocks.2.attn.qkv.bn.bias                                                  ├─1,152\n",
            "│    └─blocks.2.attn.proj.1.linear.weight                                         ├─147,456\n",
            "│    └─blocks.2.attn.proj.1.bn.weight                                             ├─384\n",
            "│    └─blocks.2.attn.proj.1.bn.bias                                               ├─384\n",
            "│    └─blocks.2.mlp.ln1.linear.weight                                             ├─294,912\n",
            "│    └─blocks.2.mlp.ln1.bn.weight                                                 ├─768\n",
            "│    └─blocks.2.mlp.ln1.bn.bias                                                   ├─768\n",
            "│    └─blocks.2.mlp.ln2.linear.weight                                             ├─294,912\n",
            "│    └─blocks.2.mlp.ln2.bn.weight                                                 ├─384\n",
            "│    └─blocks.2.mlp.ln2.bn.bias                                                   ├─384\n",
            "│    └─blocks.3.attn.qkv.linear.weight                                            ├─442,368\n",
            "│    └─blocks.3.attn.qkv.bn.weight                                                ├─1,152\n",
            "│    └─blocks.3.attn.qkv.bn.bias                                                  ├─1,152\n",
            "│    └─blocks.3.attn.proj.1.linear.weight                                         ├─147,456\n",
            "│    └─blocks.3.attn.proj.1.bn.weight                                             ├─384\n",
            "│    └─blocks.3.attn.proj.1.bn.bias                                               ├─384\n",
            "│    └─blocks.3.mlp.ln1.linear.weight                                             ├─294,912\n",
            "│    └─blocks.3.mlp.ln1.bn.weight                                                 ├─768\n",
            "│    └─blocks.3.mlp.ln1.bn.bias                                                   ├─768\n",
            "│    └─blocks.3.mlp.ln2.linear.weight                                             ├─294,912\n",
            "│    └─blocks.3.mlp.ln2.bn.weight                                                 ├─384\n",
            "│    └─blocks.3.mlp.ln2.bn.bias                                                   └─384\n",
            "│    └─CNNDownsample: 2-10                              [32, 49, 384]             --\n",
            "│    │    └─conv.weight                                                           ├─884,736\n",
            "│    │    └─conv.bias                                                             └─384\n",
            "│    │    └─Conv2d: 3-10                                [32, 384, 7, 7]           885,120\n",
            "│    │    │    └─weight                                                           ├─884,736\n",
            "│    │    │    └─bias                                                             └─384\n",
            "│    │    └─Hardswish: 3-11                             [32, 384, 7, 7]           --\n",
            "│    └─Sequential: 2-11                                 --                        3,555,660\n",
            "│    │    └─0.attn.attention_biases                                               ├─294\n",
            "│    │    └─0.attn.qkv.linear.weight                                              ├─442,368\n",
            "│    │    └─0.attn.qkv.bn.weight                                                  ├─1,152\n",
            "│    │    └─0.attn.qkv.bn.bias                                                    ├─1,152\n",
            "│    │    └─0.attn.proj.1.linear.weight                                           ├─147,456\n",
            "│    │    └─0.attn.proj.1.bn.weight                                               ├─384\n",
            "│    │    └─0.attn.proj.1.bn.bias                                                 ├─384\n",
            "│    │    └─0.mlp.ln1.linear.weight                                               ├─294,912\n",
            "│    │    └─0.mlp.ln1.bn.weight                                                   ├─768\n",
            "│    │    └─0.mlp.ln1.bn.bias                                                     ├─768\n",
            "│    │    └─0.mlp.ln2.linear.weight                                               ├─294,912\n",
            "│    │    └─0.mlp.ln2.bn.weight                                                   ├─384\n",
            "│    │    └─0.mlp.ln2.bn.bias                                                     ├─384\n",
            "│    │    └─1.attn.attention_biases                                               ├─294\n",
            "│    │    └─1.attn.qkv.linear.weight                                              ├─442,368\n",
            "│    │    └─1.attn.qkv.bn.weight                                                  ├─1,152\n",
            "│    │    └─1.attn.qkv.bn.bias                                                    ├─1,152\n",
            "│    │    └─1.attn.proj.1.linear.weight                                           ├─147,456\n",
            "│    │    └─1.attn.proj.1.bn.weight                                               ├─384\n",
            "│    │    └─1.attn.proj.1.bn.bias                                                 ├─384\n",
            "│    │    └─1.mlp.ln1.linear.weight                                               ├─294,912\n",
            "│    │    └─1.mlp.ln1.bn.weight                                                   ├─768\n",
            "│    │    └─1.mlp.ln1.bn.bias                                                     ├─768\n",
            "│    │    └─1.mlp.ln2.linear.weight                                               ├─294,912\n",
            "│    │    └─1.mlp.ln2.bn.weight                                                   ├─384\n",
            "│    │    └─1.mlp.ln2.bn.bias                                                     ├─384\n",
            "│    │    └─2.attn.qkv.linear.weight                                              ├─442,368\n",
            "│    │    └─2.attn.qkv.bn.weight                                                  ├─1,152\n",
            "│    │    └─2.attn.qkv.bn.bias                                                    ├─1,152\n",
            "│    │    └─2.attn.proj.1.linear.weight                                           ├─147,456\n",
            "│    │    └─2.attn.proj.1.bn.weight                                               ├─384\n",
            "│    │    └─2.attn.proj.1.bn.bias                                                 ├─384\n",
            "│    │    └─2.mlp.ln1.linear.weight                                               ├─294,912\n",
            "│    │    └─2.mlp.ln1.bn.weight                                                   ├─768\n",
            "│    │    └─2.mlp.ln1.bn.bias                                                     ├─768\n",
            "│    │    └─2.mlp.ln2.linear.weight                                               ├─294,912\n",
            "│    │    └─2.mlp.ln2.bn.weight                                                   ├─384\n",
            "│    │    └─2.mlp.ln2.bn.bias                                                     ├─384\n",
            "│    │    └─3.attn.qkv.linear.weight                                              ├─442,368\n",
            "│    │    └─3.attn.qkv.bn.weight                                                  ├─1,152\n",
            "│    │    └─3.attn.qkv.bn.bias                                                    ├─1,152\n",
            "│    │    └─3.attn.proj.1.linear.weight                                           ├─147,456\n",
            "│    │    └─3.attn.proj.1.bn.weight                                               ├─384\n",
            "│    │    └─3.attn.proj.1.bn.bias                                                 ├─384\n",
            "│    │    └─3.mlp.ln1.linear.weight                                               ├─294,912\n",
            "│    │    └─3.mlp.ln1.bn.weight                                                   ├─768\n",
            "│    │    └─3.mlp.ln1.bn.bias                                                     ├─768\n",
            "│    │    └─3.mlp.ln2.linear.weight                                               ├─294,912\n",
            "│    │    └─3.mlp.ln2.bn.weight                                                   ├─384\n",
            "│    │    └─3.mlp.ln2.bn.bias                                                     └─384\n",
            "│    │    └─LevitBlock: 3-12                            [32, 49, 384]             1,185,024\n",
            "│    │    │    └─attn.qkv.linear.weight                                           ├─442,368\n",
            "│    │    │    └─attn.qkv.bn.weight                                               ├─1,152\n",
            "│    │    │    └─attn.qkv.bn.bias                                                 ├─1,152\n",
            "│    │    │    └─attn.proj.1.linear.weight                                        ├─147,456\n",
            "│    │    │    └─attn.proj.1.bn.weight                                            ├─384\n",
            "│    │    │    └─attn.proj.1.bn.bias                                              ├─384\n",
            "│    │    │    └─mlp.ln1.linear.weight                                            ├─294,912\n",
            "│    │    │    └─mlp.ln1.bn.weight                                                ├─768\n",
            "│    │    │    └─mlp.ln1.bn.bias                                                  ├─768\n",
            "│    │    │    └─mlp.ln2.linear.weight                                            ├─294,912\n",
            "│    │    │    └─mlp.ln2.bn.weight                                                ├─384\n",
            "│    │    │    └─mlp.ln2.bn.bias                                                  └─384\n",
            "├─Sequential: 1-4                                       [32, 512, 7, 7]           --\n",
            "│    └─0.weight                                                                   ├─196,608\n",
            "│    └─0.bias                                                                     ├─512\n",
            "│    └─1.weight                                                                   ├─512\n",
            "│    └─1.bias                                                                     └─512\n",
            "│    └─Conv2d: 2-12                                     [32, 512, 7, 7]           197,120\n",
            "│    │    └─weight                                                                ├─196,608\n",
            "│    │    └─bias                                                                  └─512\n",
            "│    └─BatchNorm2d: 2-13                                [32, 512, 7, 7]           1,024\n",
            "│    │    └─weight                                                                ├─512\n",
            "│    │    └─bias                                                                  └─512\n",
            "│    └─ReLU: 2-14                                       [32, 512, 7, 7]           --\n",
            "├─NormLinear: 1-5                                       [32, 9]                   --\n",
            "│    └─bn.weight                                                                  ├─512\n",
            "│    └─bn.bias                                                                    ├─512\n",
            "│    └─linear.weight                                                              ├─4,608\n",
            "│    └─linear.bias                                                                └─9\n",
            "│    └─BatchNorm1d: 2-15                                [32, 512]                 1,024\n",
            "│    │    └─weight                                                                ├─512\n",
            "│    │    └─bias                                                                  └─512\n",
            "│    └─Dropout: 2-16                                    [32, 512]                 --\n",
            "│    └─Linear: 2-17                                     [32, 9]                   4,617\n",
            "│    │    └─weight                                                                ├─4,608\n",
            "│    │    └─bias                                                                  └─9\n",
            "├─NormLinear: 1-6                                       [32, 9]                   --\n",
            "│    └─bn.weight                                                                  ├─512\n",
            "│    └─bn.bias                                                                    ├─512\n",
            "│    └─linear.weight                                                              ├─4,608\n",
            "│    └─linear.bias                                                                └─9\n",
            "│    └─BatchNorm1d: 2-18                                [32, 512]                 1,024\n",
            "│    │    └─weight                                                                ├─512\n",
            "│    │    └─bias                                                                  └─512\n",
            "│    └─Dropout: 2-19                                    [32, 512]                 --\n",
            "│    └─Linear: 2-20                                     [32, 9]                   4,617\n",
            "│    │    └─weight                                                                ├─4,608\n",
            "│    │    └─bias                                                                  └─9\n",
            "=========================================================================================================\n",
            "Total params: 8,337,182\n",
            "Trainable params: 8,337,182\n",
            "Non-trainable params: 0\n",
            "Total mult-adds (Units.GIGABYTES): 12.76\n",
            "=========================================================================================================\n",
            "Input size (MB): 19.27\n",
            "Forward/backward pass size (MB): 650.55\n",
            "Params size (MB): 12.79\n",
            "Estimated Total Size (MB): 682.60\n",
            "=========================================================================================================\n"
          ]
        }
      ],
      "source": [
        "print(summary(model, input_size=(32, 3, 224, 224), verbose=2, tau = 10))"
      ]
    },
    {
      "cell_type": "code",
      "execution_count": 451,
      "metadata": {
        "colab": {
          "base_uri": "https://localhost:8080/"
        },
        "id": "2XJWJO0JTIMT",
        "outputId": "d7c9840e-c8bd-4981-dfee-3c42c724f518"
      },
      "outputs": [
        {
          "output_type": "execute_result",
          "data": {
            "text/plain": [
              "LevitDistilledTinyfusion(\n",
              "  (stem): Stem16(\n",
              "    (conv1): ConvNorm(\n",
              "      (linear): Conv2d(3, 32, kernel_size=(3, 3), stride=(2, 2), padding=(1, 1), bias=False)\n",
              "      (bn): BatchNorm2d(32, eps=1e-05, momentum=0.1, affine=True, track_running_stats=True)\n",
              "    )\n",
              "    (act1): Hardswish()\n",
              "    (conv2): ConvNorm(\n",
              "      (linear): Conv2d(32, 64, kernel_size=(3, 3), stride=(2, 2), padding=(1, 1), bias=False)\n",
              "      (bn): BatchNorm2d(64, eps=1e-05, momentum=0.1, affine=True, track_running_stats=True)\n",
              "    )\n",
              "    (act2): Hardswish()\n",
              "    (conv3): ConvNorm(\n",
              "      (linear): Conv2d(64, 128, kernel_size=(3, 3), stride=(2, 2), padding=(1, 1), bias=False)\n",
              "      (bn): BatchNorm2d(128, eps=1e-05, momentum=0.1, affine=True, track_running_stats=True)\n",
              "    )\n",
              "    (act3): Hardswish()\n",
              "    (conv4): ConvNorm(\n",
              "      (linear): Conv2d(128, 256, kernel_size=(3, 3), stride=(2, 2), padding=(1, 1), bias=False)\n",
              "      (bn): BatchNorm2d(256, eps=1e-05, momentum=0.1, affine=True, track_running_stats=True)\n",
              "    )\n",
              "  )\n",
              "  (stage1): LevitStage_TinyFusion(\n",
              "    (downsample): Identity()\n",
              "    (blocks): Sequential(\n",
              "      (0): LevitBlock(\n",
              "        (attn): Attention(\n",
              "          (qkv): LinearNorm(\n",
              "            (linear): Linear(in_features=256, out_features=768, bias=False)\n",
              "            (bn): BatchNorm1d(768, eps=1e-05, momentum=0.1, affine=True, track_running_stats=True)\n",
              "          )\n",
              "          (proj): Sequential(\n",
              "            (0): Hardswish()\n",
              "            (1): LinearNorm(\n",
              "              (linear): Linear(in_features=256, out_features=256, bias=False)\n",
              "              (bn): BatchNorm1d(256, eps=1e-05, momentum=0.1, affine=True, track_running_stats=True)\n",
              "            )\n",
              "          )\n",
              "        )\n",
              "        (drop_path1): Identity()\n",
              "        (mlp): LevitMlp(\n",
              "          (ln1): LinearNorm(\n",
              "            (linear): Linear(in_features=256, out_features=512, bias=False)\n",
              "            (bn): BatchNorm1d(512, eps=1e-05, momentum=0.1, affine=True, track_running_stats=True)\n",
              "          )\n",
              "          (act): Hardswish()\n",
              "          (drop): Dropout(p=0.5, inplace=False)\n",
              "          (ln2): LinearNorm(\n",
              "            (linear): Linear(in_features=512, out_features=256, bias=False)\n",
              "            (bn): BatchNorm1d(256, eps=1e-05, momentum=0.1, affine=True, track_running_stats=True)\n",
              "          )\n",
              "        )\n",
              "        (drop_path2): Identity()\n",
              "      )\n",
              "      (1): LevitBlock(\n",
              "        (attn): Attention(\n",
              "          (qkv): LinearNorm(\n",
              "            (linear): Linear(in_features=256, out_features=768, bias=False)\n",
              "            (bn): BatchNorm1d(768, eps=1e-05, momentum=0.1, affine=True, track_running_stats=True)\n",
              "          )\n",
              "          (proj): Sequential(\n",
              "            (0): Hardswish()\n",
              "            (1): LinearNorm(\n",
              "              (linear): Linear(in_features=256, out_features=256, bias=False)\n",
              "              (bn): BatchNorm1d(256, eps=1e-05, momentum=0.1, affine=True, track_running_stats=True)\n",
              "            )\n",
              "          )\n",
              "        )\n",
              "        (drop_path1): Identity()\n",
              "        (mlp): LevitMlp(\n",
              "          (ln1): LinearNorm(\n",
              "            (linear): Linear(in_features=256, out_features=512, bias=False)\n",
              "            (bn): BatchNorm1d(512, eps=1e-05, momentum=0.1, affine=True, track_running_stats=True)\n",
              "          )\n",
              "          (act): Hardswish()\n",
              "          (drop): Dropout(p=0.5, inplace=False)\n",
              "          (ln2): LinearNorm(\n",
              "            (linear): Linear(in_features=512, out_features=256, bias=False)\n",
              "            (bn): BatchNorm1d(256, eps=1e-05, momentum=0.1, affine=True, track_running_stats=True)\n",
              "          )\n",
              "        )\n",
              "        (drop_path2): Identity()\n",
              "      )\n",
              "      (2): LevitBlock(\n",
              "        (attn): Attention(\n",
              "          (qkv): LinearNorm(\n",
              "            (linear): Linear(in_features=256, out_features=768, bias=False)\n",
              "            (bn): BatchNorm1d(768, eps=1e-05, momentum=0.1, affine=True, track_running_stats=True)\n",
              "          )\n",
              "          (proj): Sequential(\n",
              "            (0): Hardswish()\n",
              "            (1): LinearNorm(\n",
              "              (linear): Linear(in_features=256, out_features=256, bias=False)\n",
              "              (bn): BatchNorm1d(256, eps=1e-05, momentum=0.1, affine=True, track_running_stats=True)\n",
              "            )\n",
              "          )\n",
              "        )\n",
              "        (drop_path1): Identity()\n",
              "        (mlp): LevitMlp(\n",
              "          (ln1): LinearNorm(\n",
              "            (linear): Linear(in_features=256, out_features=512, bias=False)\n",
              "            (bn): BatchNorm1d(512, eps=1e-05, momentum=0.1, affine=True, track_running_stats=True)\n",
              "          )\n",
              "          (act): Hardswish()\n",
              "          (drop): Dropout(p=0.5, inplace=False)\n",
              "          (ln2): LinearNorm(\n",
              "            (linear): Linear(in_features=512, out_features=256, bias=False)\n",
              "            (bn): BatchNorm1d(256, eps=1e-05, momentum=0.1, affine=True, track_running_stats=True)\n",
              "          )\n",
              "        )\n",
              "        (drop_path2): Identity()\n",
              "      )\n",
              "      (3): LevitBlock(\n",
              "        (attn): Attention(\n",
              "          (qkv): LinearNorm(\n",
              "            (linear): Linear(in_features=256, out_features=768, bias=False)\n",
              "            (bn): BatchNorm1d(768, eps=1e-05, momentum=0.1, affine=True, track_running_stats=True)\n",
              "          )\n",
              "          (proj): Sequential(\n",
              "            (0): Hardswish()\n",
              "            (1): LinearNorm(\n",
              "              (linear): Linear(in_features=256, out_features=256, bias=False)\n",
              "              (bn): BatchNorm1d(256, eps=1e-05, momentum=0.1, affine=True, track_running_stats=True)\n",
              "            )\n",
              "          )\n",
              "        )\n",
              "        (drop_path1): Identity()\n",
              "        (mlp): LevitMlp(\n",
              "          (ln1): LinearNorm(\n",
              "            (linear): Linear(in_features=256, out_features=512, bias=False)\n",
              "            (bn): BatchNorm1d(512, eps=1e-05, momentum=0.1, affine=True, track_running_stats=True)\n",
              "          )\n",
              "          (act): Hardswish()\n",
              "          (drop): Dropout(p=0.5, inplace=False)\n",
              "          (ln2): LinearNorm(\n",
              "            (linear): Linear(in_features=512, out_features=256, bias=False)\n",
              "            (bn): BatchNorm1d(256, eps=1e-05, momentum=0.1, affine=True, track_running_stats=True)\n",
              "          )\n",
              "        )\n",
              "        (drop_path2): Identity()\n",
              "      )\n",
              "    )\n",
              "  )\n",
              "  (stage2): LevitStage_TinyFusion(\n",
              "    (downsample): CNNDownsample(\n",
              "      (conv): Conv2d(256, 384, kernel_size=(3, 3), stride=(2, 2), padding=(1, 1))\n",
              "      (act): Hardswish()\n",
              "    )\n",
              "    (blocks): Sequential(\n",
              "      (0): LevitBlock(\n",
              "        (attn): Attention(\n",
              "          (qkv): LinearNorm(\n",
              "            (linear): Linear(in_features=384, out_features=1152, bias=False)\n",
              "            (bn): BatchNorm1d(1152, eps=1e-05, momentum=0.1, affine=True, track_running_stats=True)\n",
              "          )\n",
              "          (proj): Sequential(\n",
              "            (0): Hardswish()\n",
              "            (1): LinearNorm(\n",
              "              (linear): Linear(in_features=384, out_features=384, bias=False)\n",
              "              (bn): BatchNorm1d(384, eps=1e-05, momentum=0.1, affine=True, track_running_stats=True)\n",
              "            )\n",
              "          )\n",
              "        )\n",
              "        (drop_path1): Identity()\n",
              "        (mlp): LevitMlp(\n",
              "          (ln1): LinearNorm(\n",
              "            (linear): Linear(in_features=384, out_features=768, bias=False)\n",
              "            (bn): BatchNorm1d(768, eps=1e-05, momentum=0.1, affine=True, track_running_stats=True)\n",
              "          )\n",
              "          (act): Hardswish()\n",
              "          (drop): Dropout(p=0.5, inplace=False)\n",
              "          (ln2): LinearNorm(\n",
              "            (linear): Linear(in_features=768, out_features=384, bias=False)\n",
              "            (bn): BatchNorm1d(384, eps=1e-05, momentum=0.1, affine=True, track_running_stats=True)\n",
              "          )\n",
              "        )\n",
              "        (drop_path2): Identity()\n",
              "      )\n",
              "      (1): LevitBlock(\n",
              "        (attn): Attention(\n",
              "          (qkv): LinearNorm(\n",
              "            (linear): Linear(in_features=384, out_features=1152, bias=False)\n",
              "            (bn): BatchNorm1d(1152, eps=1e-05, momentum=0.1, affine=True, track_running_stats=True)\n",
              "          )\n",
              "          (proj): Sequential(\n",
              "            (0): Hardswish()\n",
              "            (1): LinearNorm(\n",
              "              (linear): Linear(in_features=384, out_features=384, bias=False)\n",
              "              (bn): BatchNorm1d(384, eps=1e-05, momentum=0.1, affine=True, track_running_stats=True)\n",
              "            )\n",
              "          )\n",
              "        )\n",
              "        (drop_path1): Identity()\n",
              "        (mlp): LevitMlp(\n",
              "          (ln1): LinearNorm(\n",
              "            (linear): Linear(in_features=384, out_features=768, bias=False)\n",
              "            (bn): BatchNorm1d(768, eps=1e-05, momentum=0.1, affine=True, track_running_stats=True)\n",
              "          )\n",
              "          (act): Hardswish()\n",
              "          (drop): Dropout(p=0.5, inplace=False)\n",
              "          (ln2): LinearNorm(\n",
              "            (linear): Linear(in_features=768, out_features=384, bias=False)\n",
              "            (bn): BatchNorm1d(384, eps=1e-05, momentum=0.1, affine=True, track_running_stats=True)\n",
              "          )\n",
              "        )\n",
              "        (drop_path2): Identity()\n",
              "      )\n",
              "      (2): LevitBlock(\n",
              "        (attn): Attention(\n",
              "          (qkv): LinearNorm(\n",
              "            (linear): Linear(in_features=384, out_features=1152, bias=False)\n",
              "            (bn): BatchNorm1d(1152, eps=1e-05, momentum=0.1, affine=True, track_running_stats=True)\n",
              "          )\n",
              "          (proj): Sequential(\n",
              "            (0): Hardswish()\n",
              "            (1): LinearNorm(\n",
              "              (linear): Linear(in_features=384, out_features=384, bias=False)\n",
              "              (bn): BatchNorm1d(384, eps=1e-05, momentum=0.1, affine=True, track_running_stats=True)\n",
              "            )\n",
              "          )\n",
              "        )\n",
              "        (drop_path1): Identity()\n",
              "        (mlp): LevitMlp(\n",
              "          (ln1): LinearNorm(\n",
              "            (linear): Linear(in_features=384, out_features=768, bias=False)\n",
              "            (bn): BatchNorm1d(768, eps=1e-05, momentum=0.1, affine=True, track_running_stats=True)\n",
              "          )\n",
              "          (act): Hardswish()\n",
              "          (drop): Dropout(p=0.5, inplace=False)\n",
              "          (ln2): LinearNorm(\n",
              "            (linear): Linear(in_features=768, out_features=384, bias=False)\n",
              "            (bn): BatchNorm1d(384, eps=1e-05, momentum=0.1, affine=True, track_running_stats=True)\n",
              "          )\n",
              "        )\n",
              "        (drop_path2): Identity()\n",
              "      )\n",
              "      (3): LevitBlock(\n",
              "        (attn): Attention(\n",
              "          (qkv): LinearNorm(\n",
              "            (linear): Linear(in_features=384, out_features=1152, bias=False)\n",
              "            (bn): BatchNorm1d(1152, eps=1e-05, momentum=0.1, affine=True, track_running_stats=True)\n",
              "          )\n",
              "          (proj): Sequential(\n",
              "            (0): Hardswish()\n",
              "            (1): LinearNorm(\n",
              "              (linear): Linear(in_features=384, out_features=384, bias=False)\n",
              "              (bn): BatchNorm1d(384, eps=1e-05, momentum=0.1, affine=True, track_running_stats=True)\n",
              "            )\n",
              "          )\n",
              "        )\n",
              "        (drop_path1): Identity()\n",
              "        (mlp): LevitMlp(\n",
              "          (ln1): LinearNorm(\n",
              "            (linear): Linear(in_features=384, out_features=768, bias=False)\n",
              "            (bn): BatchNorm1d(768, eps=1e-05, momentum=0.1, affine=True, track_running_stats=True)\n",
              "          )\n",
              "          (act): Hardswish()\n",
              "          (drop): Dropout(p=0.5, inplace=False)\n",
              "          (ln2): LinearNorm(\n",
              "            (linear): Linear(in_features=768, out_features=384, bias=False)\n",
              "            (bn): BatchNorm1d(384, eps=1e-05, momentum=0.1, affine=True, track_running_stats=True)\n",
              "          )\n",
              "        )\n",
              "        (drop_path2): Identity()\n",
              "      )\n",
              "    )\n",
              "  )\n",
              "  (conv1x1): Sequential(\n",
              "    (0): Conv2d(384, 512, kernel_size=(1, 1), stride=(1, 1))\n",
              "    (1): BatchNorm2d(512, eps=1e-05, momentum=0.1, affine=True, track_running_stats=True)\n",
              "    (2): ReLU(inplace=True)\n",
              "  )\n",
              "  (head): NormLinear(\n",
              "    (bn): BatchNorm1d(512, eps=1e-05, momentum=0.1, affine=True, track_running_stats=True)\n",
              "    (drop): Dropout(p=0.0, inplace=False)\n",
              "    (linear): Linear(in_features=512, out_features=9, bias=True)\n",
              "  )\n",
              "  (head_dist): NormLinear(\n",
              "    (bn): BatchNorm1d(512, eps=1e-05, momentum=0.1, affine=True, track_running_stats=True)\n",
              "    (drop): Dropout(p=0.0, inplace=False)\n",
              "    (linear): Linear(in_features=512, out_features=9, bias=True)\n",
              "  )\n",
              ")"
            ]
          },
          "metadata": {},
          "execution_count": 451
        }
      ],
      "source": [
        "import torch.nn.init as init\n",
        "\n",
        "def set_seed(seed=42):\n",
        "    random.seed(seed)\n",
        "    np.random.seed(seed)\n",
        "    torch.manual_seed(seed)\n",
        "    torch.cuda.manual_seed(seed)  # CUDA 연산 시 동일한 결과 보장\n",
        "    torch.cuda.manual_seed_all(seed)  # 멀티-GPU 환경에서 동일한 결과 보장\n",
        "    torch.backends.cudnn.deterministic = True  # CuDNN 연산을 deterministic하게 설정\n",
        "    torch.backends.cudnn.benchmark = False  # 연산 속도를 희생하고 일관된 연산을 수행\n",
        "\n",
        "def initialize_weights(m):\n",
        "    if isinstance(m, nn.Conv2d):  # Conv 레이어 초기화\n",
        "        init.kaiming_normal_(m.weight, mode='fan_out', nonlinearity='relu')\n",
        "        if m.bias is not None:\n",
        "            init.constant_(m.bias, 0)\n",
        "    elif isinstance(m, nn.Linear):  # Linear 레이어 초기화\n",
        "        init.xavier_uniform_(m.weight)\n",
        "        if m.bias is not None:\n",
        "            init.constant_(m.bias, 0)\n",
        "    elif isinstance(m, nn.BatchNorm2d) or isinstance(m, nn.BatchNorm1d):  # BatchNorm 초기화\n",
        "        init.constant_(m.weight, 1)\n",
        "        init.constant_(m.bias, 0)\n",
        "\n",
        "set_seed(42)  # 랜덤 시드 고정\n",
        "model.apply(initialize_weights)"
      ]
    },
    {
      "cell_type": "code",
      "execution_count": 452,
      "metadata": {
        "id": "p5GDxFHzR-y7"
      },
      "outputs": [],
      "source": [
        "train_dir     = './train/NCT-CRC-HE-100K'"
      ]
    },
    {
      "cell_type": "code",
      "source": [
        "transform = transforms.Compose([\n",
        "    transforms.Resize((224, 224)),\n",
        "    transforms.ToTensor(),\n",
        "    #transforms.Normalize(mean=[0.485, 0.456, 0.406], std=[0.229, 0.224, 0.225]),\n",
        "])"
      ],
      "metadata": {
        "id": "NcNx9kgbdulf"
      },
      "execution_count": 453,
      "outputs": []
    },
    {
      "cell_type": "code",
      "source": [
        "dataset = datasets.ImageFolder(root=train_dir, transform=transform)"
      ],
      "metadata": {
        "id": "y_1SUIuidwbE"
      },
      "execution_count": 454,
      "outputs": []
    },
    {
      "cell_type": "code",
      "execution_count": 458,
      "metadata": {
        "id": "N0BkxEAYTMvj"
      },
      "outputs": [],
      "source": [
        "import json\n",
        "\n",
        "with open(\"default_index_dict.json\", \"r\") as f:\n",
        "    index_dict = json.load(f)\n",
        "load_train_idx = index_dict[\"train_idx\"]\n",
        "load_val_idx = index_dict[\"val_idx\"]\n",
        "load_test_idx = index_dict[\"test_idx\"]"
      ]
    },
    {
      "cell_type": "code",
      "execution_count": 459,
      "metadata": {
        "id": "rEIH5EZxTN6n"
      },
      "outputs": [],
      "source": [
        "train_data = Subset(dataset, load_train_idx)\n",
        "val_data = Subset(dataset, load_val_idx)\n",
        "test_data = Subset(dataset, load_test_idx)"
      ]
    },
    {
      "cell_type": "code",
      "execution_count": 460,
      "metadata": {
        "colab": {
          "base_uri": "https://localhost:8080/"
        },
        "id": "8inM-bBnztEN",
        "outputId": "402c989a-f597-43c6-eb1d-f74814d507e2"
      },
      "outputs": [
        {
          "output_type": "stream",
          "name": "stdout",
          "text": [
            "Train set size: 70000\n",
            "Validation set size: 15000\n",
            "Test set size: 15000\n"
          ]
        }
      ],
      "source": [
        "train_loader = DataLoader(train_data, batch_size=batch_size, shuffle=False)\n",
        "val_loader = DataLoader(val_data, batch_size=batch_size, shuffle=False)\n",
        "test_loader = DataLoader(test_data, batch_size=batch_size, shuffle=False)\n",
        "\n",
        "print(f\"Train set size: {len(train_data)}\")\n",
        "print(f\"Validation set size: {len(val_data)}\")\n",
        "print(f\"Test set size: {len(test_data)}\")"
      ]
    },
    {
      "cell_type": "code",
      "source": [
        "gumbel_params = []\n",
        "other_params = []\n",
        "exclude = [\"head\", \"head_dist\"]\n",
        "\n",
        "for name, module in model.named_children():\n",
        "    if name in exclude:\n",
        "        print(exclude)\n",
        "\n",
        "for name, param in model.named_parameters():\n",
        "    if \"gumbel_gate\" in name:\n",
        "        gumbel_params.append(param)\n",
        "        print(name)\n",
        "    else:\n",
        "        other_params.append(param)\n",
        "\n",
        "#model = convert_to_lora_model(model, exclude=exclude)"
      ],
      "metadata": {
        "colab": {
          "base_uri": "https://localhost:8080/"
        },
        "id": "UrBLmUdJ4IZD",
        "outputId": "27f8d464-f8cb-4d1c-a787-fb725f53aaa6"
      },
      "execution_count": 461,
      "outputs": [
        {
          "output_type": "stream",
          "name": "stdout",
          "text": [
            "['head', 'head_dist']\n",
            "['head', 'head_dist']\n",
            "stage1.gumbel_gate\n",
            "stage2.gumbel_gate\n"
          ]
        }
      ]
    },
    {
      "cell_type": "code",
      "execution_count": 462,
      "metadata": {
        "id": "1No-7jzGgzrV"
      },
      "outputs": [],
      "source": [
        "train_losses = []\n",
        "train_accuracies = []\n",
        "val_losses = []\n",
        "val_accuracies = []"
      ]
    },
    {
      "cell_type": "code",
      "source": [
        "for name, param in model.named_parameters():\n",
        "    print(f\"Parameter name: {name}, requires_grad: {param.requires_grad}\")"
      ],
      "metadata": {
        "colab": {
          "base_uri": "https://localhost:8080/"
        },
        "id": "CV-Fkvff1JIO",
        "outputId": "0e3f4a91-f513-424d-dc75-181af88b1318"
      },
      "execution_count": 463,
      "outputs": [
        {
          "output_type": "stream",
          "name": "stdout",
          "text": [
            "Parameter name: stem.conv1.linear.weight, requires_grad: True\n",
            "Parameter name: stem.conv1.bn.weight, requires_grad: True\n",
            "Parameter name: stem.conv1.bn.bias, requires_grad: True\n",
            "Parameter name: stem.conv2.linear.weight, requires_grad: True\n",
            "Parameter name: stem.conv2.bn.weight, requires_grad: True\n",
            "Parameter name: stem.conv2.bn.bias, requires_grad: True\n",
            "Parameter name: stem.conv3.linear.weight, requires_grad: True\n",
            "Parameter name: stem.conv3.bn.weight, requires_grad: True\n",
            "Parameter name: stem.conv3.bn.bias, requires_grad: True\n",
            "Parameter name: stem.conv4.linear.weight, requires_grad: True\n",
            "Parameter name: stem.conv4.bn.weight, requires_grad: True\n",
            "Parameter name: stem.conv4.bn.bias, requires_grad: True\n",
            "Parameter name: stage1.gumbel_gate, requires_grad: True\n",
            "Parameter name: stage1.blocks.0.attn.attention_biases, requires_grad: True\n",
            "Parameter name: stage1.blocks.0.attn.qkv.linear.weight, requires_grad: True\n",
            "Parameter name: stage1.blocks.0.attn.qkv.bn.weight, requires_grad: True\n",
            "Parameter name: stage1.blocks.0.attn.qkv.bn.bias, requires_grad: True\n",
            "Parameter name: stage1.blocks.0.attn.proj.1.linear.weight, requires_grad: True\n",
            "Parameter name: stage1.blocks.0.attn.proj.1.bn.weight, requires_grad: True\n",
            "Parameter name: stage1.blocks.0.attn.proj.1.bn.bias, requires_grad: True\n",
            "Parameter name: stage1.blocks.0.mlp.ln1.linear.weight, requires_grad: True\n",
            "Parameter name: stage1.blocks.0.mlp.ln1.bn.weight, requires_grad: True\n",
            "Parameter name: stage1.blocks.0.mlp.ln1.bn.bias, requires_grad: True\n",
            "Parameter name: stage1.blocks.0.mlp.ln2.linear.weight, requires_grad: True\n",
            "Parameter name: stage1.blocks.0.mlp.ln2.bn.weight, requires_grad: True\n",
            "Parameter name: stage1.blocks.0.mlp.ln2.bn.bias, requires_grad: True\n",
            "Parameter name: stage1.blocks.1.attn.qkv.linear.weight, requires_grad: True\n",
            "Parameter name: stage1.blocks.1.attn.qkv.bn.weight, requires_grad: True\n",
            "Parameter name: stage1.blocks.1.attn.qkv.bn.bias, requires_grad: True\n",
            "Parameter name: stage1.blocks.1.attn.proj.1.linear.weight, requires_grad: True\n",
            "Parameter name: stage1.blocks.1.attn.proj.1.bn.weight, requires_grad: True\n",
            "Parameter name: stage1.blocks.1.attn.proj.1.bn.bias, requires_grad: True\n",
            "Parameter name: stage1.blocks.1.mlp.ln1.linear.weight, requires_grad: True\n",
            "Parameter name: stage1.blocks.1.mlp.ln1.bn.weight, requires_grad: True\n",
            "Parameter name: stage1.blocks.1.mlp.ln1.bn.bias, requires_grad: True\n",
            "Parameter name: stage1.blocks.1.mlp.ln2.linear.weight, requires_grad: True\n",
            "Parameter name: stage1.blocks.1.mlp.ln2.bn.weight, requires_grad: True\n",
            "Parameter name: stage1.blocks.1.mlp.ln2.bn.bias, requires_grad: True\n",
            "Parameter name: stage1.blocks.2.attn.attention_biases, requires_grad: True\n",
            "Parameter name: stage1.blocks.2.attn.qkv.linear.weight, requires_grad: True\n",
            "Parameter name: stage1.blocks.2.attn.qkv.bn.weight, requires_grad: True\n",
            "Parameter name: stage1.blocks.2.attn.qkv.bn.bias, requires_grad: True\n",
            "Parameter name: stage1.blocks.2.attn.proj.1.linear.weight, requires_grad: True\n",
            "Parameter name: stage1.blocks.2.attn.proj.1.bn.weight, requires_grad: True\n",
            "Parameter name: stage1.blocks.2.attn.proj.1.bn.bias, requires_grad: True\n",
            "Parameter name: stage1.blocks.2.mlp.ln1.linear.weight, requires_grad: True\n",
            "Parameter name: stage1.blocks.2.mlp.ln1.bn.weight, requires_grad: True\n",
            "Parameter name: stage1.blocks.2.mlp.ln1.bn.bias, requires_grad: True\n",
            "Parameter name: stage1.blocks.2.mlp.ln2.linear.weight, requires_grad: True\n",
            "Parameter name: stage1.blocks.2.mlp.ln2.bn.weight, requires_grad: True\n",
            "Parameter name: stage1.blocks.2.mlp.ln2.bn.bias, requires_grad: True\n",
            "Parameter name: stage1.blocks.3.attn.qkv.linear.weight, requires_grad: True\n",
            "Parameter name: stage1.blocks.3.attn.qkv.bn.weight, requires_grad: True\n",
            "Parameter name: stage1.blocks.3.attn.qkv.bn.bias, requires_grad: True\n",
            "Parameter name: stage1.blocks.3.attn.proj.1.linear.weight, requires_grad: True\n",
            "Parameter name: stage1.blocks.3.attn.proj.1.bn.weight, requires_grad: True\n",
            "Parameter name: stage1.blocks.3.attn.proj.1.bn.bias, requires_grad: True\n",
            "Parameter name: stage1.blocks.3.mlp.ln1.linear.weight, requires_grad: True\n",
            "Parameter name: stage1.blocks.3.mlp.ln1.bn.weight, requires_grad: True\n",
            "Parameter name: stage1.blocks.3.mlp.ln1.bn.bias, requires_grad: True\n",
            "Parameter name: stage1.blocks.3.mlp.ln2.linear.weight, requires_grad: True\n",
            "Parameter name: stage1.blocks.3.mlp.ln2.bn.weight, requires_grad: True\n",
            "Parameter name: stage1.blocks.3.mlp.ln2.bn.bias, requires_grad: True\n",
            "Parameter name: stage2.gumbel_gate, requires_grad: True\n",
            "Parameter name: stage2.downsample.conv.weight, requires_grad: True\n",
            "Parameter name: stage2.downsample.conv.bias, requires_grad: True\n",
            "Parameter name: stage2.blocks.0.attn.attention_biases, requires_grad: True\n",
            "Parameter name: stage2.blocks.0.attn.qkv.linear.weight, requires_grad: True\n",
            "Parameter name: stage2.blocks.0.attn.qkv.bn.weight, requires_grad: True\n",
            "Parameter name: stage2.blocks.0.attn.qkv.bn.bias, requires_grad: True\n",
            "Parameter name: stage2.blocks.0.attn.proj.1.linear.weight, requires_grad: True\n",
            "Parameter name: stage2.blocks.0.attn.proj.1.bn.weight, requires_grad: True\n",
            "Parameter name: stage2.blocks.0.attn.proj.1.bn.bias, requires_grad: True\n",
            "Parameter name: stage2.blocks.0.mlp.ln1.linear.weight, requires_grad: True\n",
            "Parameter name: stage2.blocks.0.mlp.ln1.bn.weight, requires_grad: True\n",
            "Parameter name: stage2.blocks.0.mlp.ln1.bn.bias, requires_grad: True\n",
            "Parameter name: stage2.blocks.0.mlp.ln2.linear.weight, requires_grad: True\n",
            "Parameter name: stage2.blocks.0.mlp.ln2.bn.weight, requires_grad: True\n",
            "Parameter name: stage2.blocks.0.mlp.ln2.bn.bias, requires_grad: True\n",
            "Parameter name: stage2.blocks.1.attn.attention_biases, requires_grad: True\n",
            "Parameter name: stage2.blocks.1.attn.qkv.linear.weight, requires_grad: True\n",
            "Parameter name: stage2.blocks.1.attn.qkv.bn.weight, requires_grad: True\n",
            "Parameter name: stage2.blocks.1.attn.qkv.bn.bias, requires_grad: True\n",
            "Parameter name: stage2.blocks.1.attn.proj.1.linear.weight, requires_grad: True\n",
            "Parameter name: stage2.blocks.1.attn.proj.1.bn.weight, requires_grad: True\n",
            "Parameter name: stage2.blocks.1.attn.proj.1.bn.bias, requires_grad: True\n",
            "Parameter name: stage2.blocks.1.mlp.ln1.linear.weight, requires_grad: True\n",
            "Parameter name: stage2.blocks.1.mlp.ln1.bn.weight, requires_grad: True\n",
            "Parameter name: stage2.blocks.1.mlp.ln1.bn.bias, requires_grad: True\n",
            "Parameter name: stage2.blocks.1.mlp.ln2.linear.weight, requires_grad: True\n",
            "Parameter name: stage2.blocks.1.mlp.ln2.bn.weight, requires_grad: True\n",
            "Parameter name: stage2.blocks.1.mlp.ln2.bn.bias, requires_grad: True\n",
            "Parameter name: stage2.blocks.2.attn.qkv.linear.weight, requires_grad: True\n",
            "Parameter name: stage2.blocks.2.attn.qkv.bn.weight, requires_grad: True\n",
            "Parameter name: stage2.blocks.2.attn.qkv.bn.bias, requires_grad: True\n",
            "Parameter name: stage2.blocks.2.attn.proj.1.linear.weight, requires_grad: True\n",
            "Parameter name: stage2.blocks.2.attn.proj.1.bn.weight, requires_grad: True\n",
            "Parameter name: stage2.blocks.2.attn.proj.1.bn.bias, requires_grad: True\n",
            "Parameter name: stage2.blocks.2.mlp.ln1.linear.weight, requires_grad: True\n",
            "Parameter name: stage2.blocks.2.mlp.ln1.bn.weight, requires_grad: True\n",
            "Parameter name: stage2.blocks.2.mlp.ln1.bn.bias, requires_grad: True\n",
            "Parameter name: stage2.blocks.2.mlp.ln2.linear.weight, requires_grad: True\n",
            "Parameter name: stage2.blocks.2.mlp.ln2.bn.weight, requires_grad: True\n",
            "Parameter name: stage2.blocks.2.mlp.ln2.bn.bias, requires_grad: True\n",
            "Parameter name: stage2.blocks.3.attn.qkv.linear.weight, requires_grad: True\n",
            "Parameter name: stage2.blocks.3.attn.qkv.bn.weight, requires_grad: True\n",
            "Parameter name: stage2.blocks.3.attn.qkv.bn.bias, requires_grad: True\n",
            "Parameter name: stage2.blocks.3.attn.proj.1.linear.weight, requires_grad: True\n",
            "Parameter name: stage2.blocks.3.attn.proj.1.bn.weight, requires_grad: True\n",
            "Parameter name: stage2.blocks.3.attn.proj.1.bn.bias, requires_grad: True\n",
            "Parameter name: stage2.blocks.3.mlp.ln1.linear.weight, requires_grad: True\n",
            "Parameter name: stage2.blocks.3.mlp.ln1.bn.weight, requires_grad: True\n",
            "Parameter name: stage2.blocks.3.mlp.ln1.bn.bias, requires_grad: True\n",
            "Parameter name: stage2.blocks.3.mlp.ln2.linear.weight, requires_grad: True\n",
            "Parameter name: stage2.blocks.3.mlp.ln2.bn.weight, requires_grad: True\n",
            "Parameter name: stage2.blocks.3.mlp.ln2.bn.bias, requires_grad: True\n",
            "Parameter name: conv1x1.0.weight, requires_grad: True\n",
            "Parameter name: conv1x1.0.bias, requires_grad: True\n",
            "Parameter name: conv1x1.1.weight, requires_grad: True\n",
            "Parameter name: conv1x1.1.bias, requires_grad: True\n",
            "Parameter name: head.bn.weight, requires_grad: True\n",
            "Parameter name: head.bn.bias, requires_grad: True\n",
            "Parameter name: head.linear.weight, requires_grad: True\n",
            "Parameter name: head.linear.bias, requires_grad: True\n",
            "Parameter name: head_dist.bn.weight, requires_grad: True\n",
            "Parameter name: head_dist.bn.bias, requires_grad: True\n",
            "Parameter name: head_dist.linear.weight, requires_grad: True\n",
            "Parameter name: head_dist.linear.bias, requires_grad: True\n"
          ]
        }
      ]
    },
    {
      "cell_type": "code",
      "source": [
        "def transfer_weights(pretrained_model: LevitDistilled, tinyfusion_model: LevitDistilledTinyfusion, num_blocks):\n",
        "\n",
        "    pretrained_dict = pretrained_model.state_dict()\n",
        "    tinyfusion_dict = tinyfusion_model.state_dict()\n",
        "\n",
        "    new_state_dict = {}\n",
        "\n",
        "    # 1️⃣ 공통된 가중치 복사 (stem, conv1x1, head, head_dist)\n",
        "    for key in tinyfusion_dict.keys():\n",
        "        if key in pretrained_dict and not key.startswith(\"stage\"):\n",
        "            new_state_dict[key] = pretrained_dict[key]\n",
        "\n",
        "    stage = []\n",
        "    for i in range(num_blocks):\n",
        "        stage.append(f\"stage{i}\")\n",
        "    # 2️⃣ stage1, stage2의 가중치 변환 적용\n",
        "    for stage_name in stage:\n",
        "        for i in range(num_blocks):  # num_blocks=4\n",
        "            old_key = f\"{stage_name}.blocks.{i}\"  # 원래 모델의 key\n",
        "            new_key = f\"{stage_name}.blocks.{i}\"  # TinyFusion 모델의 key\n",
        "\n",
        "            if old_key in pretrained_dict and new_key in tinyfusion_dict:\n",
        "                new_state_dict[new_key] = pretrained_dict[old_key]\n",
        "\n",
        "    # 3️⃣ `gumble_gate`는 원래 모델에 없으므로, 초기화된 값 유지 (로드 안함)\n",
        "    print(\"✅ 가중치 변환 완료! TinyFusion 모델에 적용합니다.\")\n",
        "\n",
        "    # 4️⃣ 변환된 가중치를 TinyFusion 모델에 로드 (strict=False)\n",
        "    tinyfusion_model.load_state_dict(new_state_dict, strict=False)"
      ],
      "metadata": {
        "id": "cPE55RV91MU7"
      },
      "execution_count": 464,
      "outputs": []
    },
    {
      "cell_type": "code",
      "source": [
        "pretrained_model = LevitDistilled(num_classes=9)\n",
        "pretrained_model.stage1.blocks[0].attn.compute_attention_bias(14)\n",
        "pretrained_model.stage1.blocks[1].attn.compute_attention_bias(14)\n",
        "pretrained_model.stage1.blocks[2].attn.compute_attention_bias(14)\n",
        "pretrained_model.stage1.blocks[3].attn.compute_attention_bias(14)\n",
        "pretrained_model.stage2.blocks[0].attn.compute_attention_bias(7)\n",
        "pretrained_model.stage2.blocks[1].attn.compute_attention_bias(7)\n",
        "pretrained_model.stage2.blocks[2].attn.compute_attention_bias(7)\n",
        "pretrained_model.stage2.blocks[3].attn.compute_attention_bias(7)\n",
        "model.stage1.blocks[0].attn.compute_attention_bias(14)\n",
        "model.stage1.blocks[1].attn.compute_attention_bias(14)\n",
        "model.stage1.blocks[2].attn.compute_attention_bias(14)\n",
        "model.stage1.blocks[3].attn.compute_attention_bias(14)\n",
        "model.stage2.blocks[0].attn.compute_attention_bias(7)\n",
        "model.stage2.blocks[1].attn.compute_attention_bias(7)\n",
        "model.stage2.blocks[2].attn.compute_attention_bias(7)\n",
        "model.stage2.blocks[3].attn.compute_attention_bias(7)\n",
        "pretrained_model.load_state_dict(torch.load(\"BaseLine_HoViT_44.pth\"))"
      ],
      "metadata": {
        "colab": {
          "base_uri": "https://localhost:8080/"
        },
        "id": "h9IyfpjVPq-L",
        "outputId": "a3e18a04-f3ee-4f10-bad9-2d7369f13f08"
      },
      "execution_count": 465,
      "outputs": [
        {
          "output_type": "stream",
          "name": "stderr",
          "text": [
            "<ipython-input-465-50b800dbf540>:18: FutureWarning: You are using `torch.load` with `weights_only=False` (the current default value), which uses the default pickle module implicitly. It is possible to construct malicious pickle data which will execute arbitrary code during unpickling (See https://github.com/pytorch/pytorch/blob/main/SECURITY.md#untrusted-models for more details). In a future release, the default value for `weights_only` will be flipped to `True`. This limits the functions that could be executed during unpickling. Arbitrary objects will no longer be allowed to be loaded via this mode unless they are explicitly allowlisted by the user via `torch.serialization.add_safe_globals`. We recommend you start setting `weights_only=True` for any use case where you don't have full control of the loaded file. Please open an issue on GitHub for any issues related to this experimental feature.\n",
            "  pretrained_model.load_state_dict(torch.load(\"BaseLine_HoViT_44.pth\"))\n"
          ]
        },
        {
          "output_type": "execute_result",
          "data": {
            "text/plain": [
              "<All keys matched successfully>"
            ]
          },
          "metadata": {},
          "execution_count": 465
        }
      ]
    },
    {
      "cell_type": "code",
      "source": [
        "transfer_weights(pretrained_model, model, num_blocks=4)"
      ],
      "metadata": {
        "colab": {
          "base_uri": "https://localhost:8080/"
        },
        "id": "d3tRiWIi1P2W",
        "outputId": "45af4c43-cc84-423b-bb8b-4c9abeab968d"
      },
      "execution_count": 466,
      "outputs": [
        {
          "output_type": "stream",
          "name": "stdout",
          "text": [
            "✅ 가중치 변환 완료! TinyFusion 모델에 적용합니다.\n"
          ]
        }
      ]
    },
    {
      "cell_type": "code",
      "source": [
        "model = convert_to_lora_model(model, exclude=exclude)"
      ],
      "metadata": {
        "id": "f5gT1SRD1Qtm"
      },
      "execution_count": 467,
      "outputs": []
    },
    {
      "cell_type": "code",
      "source": [
        "for name, param in model.named_parameters():\n",
        "    if \"lora_a\" in name or \"lora_b\" in name:\n",
        "        param.requires_grad = True\n",
        "        print(f\"✅ LoRA Trainable: {name}\")\n",
        "    if \"gumbel_gate\" in name:\n",
        "        param.requires_grad = True\n",
        "        print(f\"✅ TinyFusion Trainable: {name}\")\n",
        "    elif \"head\" in name or \"head_dist\" in name:\n",
        "        param.requires_grad = True\n",
        "        print(f\"✅ Head Trainable: {name}\")\n",
        "    elif \"conv1x1\" in name:\n",
        "        param.requires_grad = True\n",
        "        print(f\"✅ Conv1x1 Trainable: {name}\")\n",
        "    elif \"attention_biases\" in name:\n",
        "        param.requires_grad = True\n",
        "        print(f\"✅ Attention Biases Trainable: {name}\")\n",
        "    else:\n",
        "        param.requires_grad = False"
      ],
      "metadata": {
        "colab": {
          "base_uri": "https://localhost:8080/"
        },
        "id": "WW-W9UFA1TKZ",
        "outputId": "da5e6b74-ff29-4ccd-f69c-539a09255b26"
      },
      "execution_count": 468,
      "outputs": [
        {
          "output_type": "stream",
          "name": "stdout",
          "text": [
            "✅ TinyFusion Trainable: stage1.gumbel_gate\n",
            "✅ Attention Biases Trainable: stage1.blocks.0.attn.attention_biases\n",
            "✅ LoRA Trainable: stage1.blocks.0.attn.qkv.linear.lora_a.weight\n",
            "✅ LoRA Trainable: stage1.blocks.0.attn.qkv.linear.lora_b.weight\n",
            "✅ LoRA Trainable: stage1.blocks.0.attn.proj.1.linear.lora_a.weight\n",
            "✅ LoRA Trainable: stage1.blocks.0.attn.proj.1.linear.lora_b.weight\n",
            "✅ LoRA Trainable: stage1.blocks.0.mlp.ln1.linear.lora_a.weight\n",
            "✅ LoRA Trainable: stage1.blocks.0.mlp.ln1.linear.lora_b.weight\n",
            "✅ LoRA Trainable: stage1.blocks.0.mlp.ln2.linear.lora_a.weight\n",
            "✅ LoRA Trainable: stage1.blocks.0.mlp.ln2.linear.lora_b.weight\n",
            "✅ Attention Biases Trainable: stage1.blocks.1.attn.attention_biases\n",
            "✅ LoRA Trainable: stage1.blocks.1.attn.qkv.linear.lora_a.weight\n",
            "✅ LoRA Trainable: stage1.blocks.1.attn.qkv.linear.lora_b.weight\n",
            "✅ LoRA Trainable: stage1.blocks.1.attn.proj.1.linear.lora_a.weight\n",
            "✅ LoRA Trainable: stage1.blocks.1.attn.proj.1.linear.lora_b.weight\n",
            "✅ LoRA Trainable: stage1.blocks.1.mlp.ln1.linear.lora_a.weight\n",
            "✅ LoRA Trainable: stage1.blocks.1.mlp.ln1.linear.lora_b.weight\n",
            "✅ LoRA Trainable: stage1.blocks.1.mlp.ln2.linear.lora_a.weight\n",
            "✅ LoRA Trainable: stage1.blocks.1.mlp.ln2.linear.lora_b.weight\n",
            "✅ Attention Biases Trainable: stage1.blocks.2.attn.attention_biases\n",
            "✅ LoRA Trainable: stage1.blocks.2.attn.qkv.linear.lora_a.weight\n",
            "✅ LoRA Trainable: stage1.blocks.2.attn.qkv.linear.lora_b.weight\n",
            "✅ LoRA Trainable: stage1.blocks.2.attn.proj.1.linear.lora_a.weight\n",
            "✅ LoRA Trainable: stage1.blocks.2.attn.proj.1.linear.lora_b.weight\n",
            "✅ LoRA Trainable: stage1.blocks.2.mlp.ln1.linear.lora_a.weight\n",
            "✅ LoRA Trainable: stage1.blocks.2.mlp.ln1.linear.lora_b.weight\n",
            "✅ LoRA Trainable: stage1.blocks.2.mlp.ln2.linear.lora_a.weight\n",
            "✅ LoRA Trainable: stage1.blocks.2.mlp.ln2.linear.lora_b.weight\n",
            "✅ Attention Biases Trainable: stage1.blocks.3.attn.attention_biases\n",
            "✅ LoRA Trainable: stage1.blocks.3.attn.qkv.linear.lora_a.weight\n",
            "✅ LoRA Trainable: stage1.blocks.3.attn.qkv.linear.lora_b.weight\n",
            "✅ LoRA Trainable: stage1.blocks.3.attn.proj.1.linear.lora_a.weight\n",
            "✅ LoRA Trainable: stage1.blocks.3.attn.proj.1.linear.lora_b.weight\n",
            "✅ LoRA Trainable: stage1.blocks.3.mlp.ln1.linear.lora_a.weight\n",
            "✅ LoRA Trainable: stage1.blocks.3.mlp.ln1.linear.lora_b.weight\n",
            "✅ LoRA Trainable: stage1.blocks.3.mlp.ln2.linear.lora_a.weight\n",
            "✅ LoRA Trainable: stage1.blocks.3.mlp.ln2.linear.lora_b.weight\n",
            "✅ TinyFusion Trainable: stage2.gumbel_gate\n",
            "✅ Attention Biases Trainable: stage2.blocks.0.attn.attention_biases\n",
            "✅ LoRA Trainable: stage2.blocks.0.attn.qkv.linear.lora_a.weight\n",
            "✅ LoRA Trainable: stage2.blocks.0.attn.qkv.linear.lora_b.weight\n",
            "✅ LoRA Trainable: stage2.blocks.0.attn.proj.1.linear.lora_a.weight\n",
            "✅ LoRA Trainable: stage2.blocks.0.attn.proj.1.linear.lora_b.weight\n",
            "✅ LoRA Trainable: stage2.blocks.0.mlp.ln1.linear.lora_a.weight\n",
            "✅ LoRA Trainable: stage2.blocks.0.mlp.ln1.linear.lora_b.weight\n",
            "✅ LoRA Trainable: stage2.blocks.0.mlp.ln2.linear.lora_a.weight\n",
            "✅ LoRA Trainable: stage2.blocks.0.mlp.ln2.linear.lora_b.weight\n",
            "✅ Attention Biases Trainable: stage2.blocks.1.attn.attention_biases\n",
            "✅ LoRA Trainable: stage2.blocks.1.attn.qkv.linear.lora_a.weight\n",
            "✅ LoRA Trainable: stage2.blocks.1.attn.qkv.linear.lora_b.weight\n",
            "✅ LoRA Trainable: stage2.blocks.1.attn.proj.1.linear.lora_a.weight\n",
            "✅ LoRA Trainable: stage2.blocks.1.attn.proj.1.linear.lora_b.weight\n",
            "✅ LoRA Trainable: stage2.blocks.1.mlp.ln1.linear.lora_a.weight\n",
            "✅ LoRA Trainable: stage2.blocks.1.mlp.ln1.linear.lora_b.weight\n",
            "✅ LoRA Trainable: stage2.blocks.1.mlp.ln2.linear.lora_a.weight\n",
            "✅ LoRA Trainable: stage2.blocks.1.mlp.ln2.linear.lora_b.weight\n",
            "✅ Attention Biases Trainable: stage2.blocks.2.attn.attention_biases\n",
            "✅ LoRA Trainable: stage2.blocks.2.attn.qkv.linear.lora_a.weight\n",
            "✅ LoRA Trainable: stage2.blocks.2.attn.qkv.linear.lora_b.weight\n",
            "✅ LoRA Trainable: stage2.blocks.2.attn.proj.1.linear.lora_a.weight\n",
            "✅ LoRA Trainable: stage2.blocks.2.attn.proj.1.linear.lora_b.weight\n",
            "✅ LoRA Trainable: stage2.blocks.2.mlp.ln1.linear.lora_a.weight\n",
            "✅ LoRA Trainable: stage2.blocks.2.mlp.ln1.linear.lora_b.weight\n",
            "✅ LoRA Trainable: stage2.blocks.2.mlp.ln2.linear.lora_a.weight\n",
            "✅ LoRA Trainable: stage2.blocks.2.mlp.ln2.linear.lora_b.weight\n",
            "✅ Attention Biases Trainable: stage2.blocks.3.attn.attention_biases\n",
            "✅ LoRA Trainable: stage2.blocks.3.attn.qkv.linear.lora_a.weight\n",
            "✅ LoRA Trainable: stage2.blocks.3.attn.qkv.linear.lora_b.weight\n",
            "✅ LoRA Trainable: stage2.blocks.3.attn.proj.1.linear.lora_a.weight\n",
            "✅ LoRA Trainable: stage2.blocks.3.attn.proj.1.linear.lora_b.weight\n",
            "✅ LoRA Trainable: stage2.blocks.3.mlp.ln1.linear.lora_a.weight\n",
            "✅ LoRA Trainable: stage2.blocks.3.mlp.ln1.linear.lora_b.weight\n",
            "✅ LoRA Trainable: stage2.blocks.3.mlp.ln2.linear.lora_a.weight\n",
            "✅ LoRA Trainable: stage2.blocks.3.mlp.ln2.linear.lora_b.weight\n",
            "✅ Conv1x1 Trainable: conv1x1.0.weight\n",
            "✅ Conv1x1 Trainable: conv1x1.0.bias\n",
            "✅ Conv1x1 Trainable: conv1x1.1.weight\n",
            "✅ Conv1x1 Trainable: conv1x1.1.bias\n",
            "✅ Head Trainable: head.bn.weight\n",
            "✅ Head Trainable: head.bn.bias\n",
            "✅ Head Trainable: head.linear.weight\n",
            "✅ Head Trainable: head.linear.bias\n",
            "✅ Head Trainable: head_dist.bn.weight\n",
            "✅ Head Trainable: head_dist.bn.bias\n",
            "✅ Head Trainable: head_dist.linear.weight\n",
            "✅ Head Trainable: head_dist.linear.bias\n"
          ]
        }
      ]
    },
    {
      "cell_type": "code",
      "source": [
        "# gumbel_gate 파라미터가 포함되어 있는지 확인\n",
        "for name, param in model.named_parameters():\n",
        "    print(f\"Parameter name: {name}, requires_grad: {param.requires_grad}\")"
      ],
      "metadata": {
        "colab": {
          "base_uri": "https://localhost:8080/"
        },
        "id": "wqFKGLI21R2I",
        "outputId": "5600e119-0003-4330-acab-76c956479ccf"
      },
      "execution_count": 469,
      "outputs": [
        {
          "output_type": "stream",
          "name": "stdout",
          "text": [
            "Parameter name: stem.conv1.linear.weight, requires_grad: False\n",
            "Parameter name: stem.conv1.bn.weight, requires_grad: False\n",
            "Parameter name: stem.conv1.bn.bias, requires_grad: False\n",
            "Parameter name: stem.conv2.linear.weight, requires_grad: False\n",
            "Parameter name: stem.conv2.bn.weight, requires_grad: False\n",
            "Parameter name: stem.conv2.bn.bias, requires_grad: False\n",
            "Parameter name: stem.conv3.linear.weight, requires_grad: False\n",
            "Parameter name: stem.conv3.bn.weight, requires_grad: False\n",
            "Parameter name: stem.conv3.bn.bias, requires_grad: False\n",
            "Parameter name: stem.conv4.linear.weight, requires_grad: False\n",
            "Parameter name: stem.conv4.bn.weight, requires_grad: False\n",
            "Parameter name: stem.conv4.bn.bias, requires_grad: False\n",
            "Parameter name: stage1.gumbel_gate, requires_grad: True\n",
            "Parameter name: stage1.blocks.0.attn.attention_biases, requires_grad: True\n",
            "Parameter name: stage1.blocks.0.attn.qkv.linear.weight, requires_grad: False\n",
            "Parameter name: stage1.blocks.0.attn.qkv.linear.lora_a.weight, requires_grad: False\n",
            "Parameter name: stage1.blocks.0.attn.qkv.linear.lora_b.weight, requires_grad: False\n",
            "Parameter name: stage1.blocks.0.attn.qkv.bn.weight, requires_grad: False\n",
            "Parameter name: stage1.blocks.0.attn.qkv.bn.bias, requires_grad: False\n",
            "Parameter name: stage1.blocks.0.attn.proj.1.linear.weight, requires_grad: False\n",
            "Parameter name: stage1.blocks.0.attn.proj.1.linear.lora_a.weight, requires_grad: False\n",
            "Parameter name: stage1.blocks.0.attn.proj.1.linear.lora_b.weight, requires_grad: False\n",
            "Parameter name: stage1.blocks.0.attn.proj.1.bn.weight, requires_grad: False\n",
            "Parameter name: stage1.blocks.0.attn.proj.1.bn.bias, requires_grad: False\n",
            "Parameter name: stage1.blocks.0.mlp.ln1.linear.weight, requires_grad: False\n",
            "Parameter name: stage1.blocks.0.mlp.ln1.linear.lora_a.weight, requires_grad: False\n",
            "Parameter name: stage1.blocks.0.mlp.ln1.linear.lora_b.weight, requires_grad: False\n",
            "Parameter name: stage1.blocks.0.mlp.ln1.bn.weight, requires_grad: False\n",
            "Parameter name: stage1.blocks.0.mlp.ln1.bn.bias, requires_grad: False\n",
            "Parameter name: stage1.blocks.0.mlp.ln2.linear.weight, requires_grad: False\n",
            "Parameter name: stage1.blocks.0.mlp.ln2.linear.lora_a.weight, requires_grad: False\n",
            "Parameter name: stage1.blocks.0.mlp.ln2.linear.lora_b.weight, requires_grad: False\n",
            "Parameter name: stage1.blocks.0.mlp.ln2.bn.weight, requires_grad: False\n",
            "Parameter name: stage1.blocks.0.mlp.ln2.bn.bias, requires_grad: False\n",
            "Parameter name: stage1.blocks.1.attn.attention_biases, requires_grad: True\n",
            "Parameter name: stage1.blocks.1.attn.qkv.linear.weight, requires_grad: False\n",
            "Parameter name: stage1.blocks.1.attn.qkv.linear.lora_a.weight, requires_grad: False\n",
            "Parameter name: stage1.blocks.1.attn.qkv.linear.lora_b.weight, requires_grad: False\n",
            "Parameter name: stage1.blocks.1.attn.qkv.bn.weight, requires_grad: False\n",
            "Parameter name: stage1.blocks.1.attn.qkv.bn.bias, requires_grad: False\n",
            "Parameter name: stage1.blocks.1.attn.proj.1.linear.weight, requires_grad: False\n",
            "Parameter name: stage1.blocks.1.attn.proj.1.linear.lora_a.weight, requires_grad: False\n",
            "Parameter name: stage1.blocks.1.attn.proj.1.linear.lora_b.weight, requires_grad: False\n",
            "Parameter name: stage1.blocks.1.attn.proj.1.bn.weight, requires_grad: False\n",
            "Parameter name: stage1.blocks.1.attn.proj.1.bn.bias, requires_grad: False\n",
            "Parameter name: stage1.blocks.1.mlp.ln1.linear.weight, requires_grad: False\n",
            "Parameter name: stage1.blocks.1.mlp.ln1.linear.lora_a.weight, requires_grad: False\n",
            "Parameter name: stage1.blocks.1.mlp.ln1.linear.lora_b.weight, requires_grad: False\n",
            "Parameter name: stage1.blocks.1.mlp.ln1.bn.weight, requires_grad: False\n",
            "Parameter name: stage1.blocks.1.mlp.ln1.bn.bias, requires_grad: False\n",
            "Parameter name: stage1.blocks.1.mlp.ln2.linear.weight, requires_grad: False\n",
            "Parameter name: stage1.blocks.1.mlp.ln2.linear.lora_a.weight, requires_grad: False\n",
            "Parameter name: stage1.blocks.1.mlp.ln2.linear.lora_b.weight, requires_grad: False\n",
            "Parameter name: stage1.blocks.1.mlp.ln2.bn.weight, requires_grad: False\n",
            "Parameter name: stage1.blocks.1.mlp.ln2.bn.bias, requires_grad: False\n",
            "Parameter name: stage1.blocks.2.attn.attention_biases, requires_grad: True\n",
            "Parameter name: stage1.blocks.2.attn.qkv.linear.weight, requires_grad: False\n",
            "Parameter name: stage1.blocks.2.attn.qkv.linear.lora_a.weight, requires_grad: False\n",
            "Parameter name: stage1.blocks.2.attn.qkv.linear.lora_b.weight, requires_grad: False\n",
            "Parameter name: stage1.blocks.2.attn.qkv.bn.weight, requires_grad: False\n",
            "Parameter name: stage1.blocks.2.attn.qkv.bn.bias, requires_grad: False\n",
            "Parameter name: stage1.blocks.2.attn.proj.1.linear.weight, requires_grad: False\n",
            "Parameter name: stage1.blocks.2.attn.proj.1.linear.lora_a.weight, requires_grad: False\n",
            "Parameter name: stage1.blocks.2.attn.proj.1.linear.lora_b.weight, requires_grad: False\n",
            "Parameter name: stage1.blocks.2.attn.proj.1.bn.weight, requires_grad: False\n",
            "Parameter name: stage1.blocks.2.attn.proj.1.bn.bias, requires_grad: False\n",
            "Parameter name: stage1.blocks.2.mlp.ln1.linear.weight, requires_grad: False\n",
            "Parameter name: stage1.blocks.2.mlp.ln1.linear.lora_a.weight, requires_grad: False\n",
            "Parameter name: stage1.blocks.2.mlp.ln1.linear.lora_b.weight, requires_grad: False\n",
            "Parameter name: stage1.blocks.2.mlp.ln1.bn.weight, requires_grad: False\n",
            "Parameter name: stage1.blocks.2.mlp.ln1.bn.bias, requires_grad: False\n",
            "Parameter name: stage1.blocks.2.mlp.ln2.linear.weight, requires_grad: False\n",
            "Parameter name: stage1.blocks.2.mlp.ln2.linear.lora_a.weight, requires_grad: False\n",
            "Parameter name: stage1.blocks.2.mlp.ln2.linear.lora_b.weight, requires_grad: False\n",
            "Parameter name: stage1.blocks.2.mlp.ln2.bn.weight, requires_grad: False\n",
            "Parameter name: stage1.blocks.2.mlp.ln2.bn.bias, requires_grad: False\n",
            "Parameter name: stage1.blocks.3.attn.attention_biases, requires_grad: True\n",
            "Parameter name: stage1.blocks.3.attn.qkv.linear.weight, requires_grad: False\n",
            "Parameter name: stage1.blocks.3.attn.qkv.linear.lora_a.weight, requires_grad: False\n",
            "Parameter name: stage1.blocks.3.attn.qkv.linear.lora_b.weight, requires_grad: False\n",
            "Parameter name: stage1.blocks.3.attn.qkv.bn.weight, requires_grad: False\n",
            "Parameter name: stage1.blocks.3.attn.qkv.bn.bias, requires_grad: False\n",
            "Parameter name: stage1.blocks.3.attn.proj.1.linear.weight, requires_grad: False\n",
            "Parameter name: stage1.blocks.3.attn.proj.1.linear.lora_a.weight, requires_grad: False\n",
            "Parameter name: stage1.blocks.3.attn.proj.1.linear.lora_b.weight, requires_grad: False\n",
            "Parameter name: stage1.blocks.3.attn.proj.1.bn.weight, requires_grad: False\n",
            "Parameter name: stage1.blocks.3.attn.proj.1.bn.bias, requires_grad: False\n",
            "Parameter name: stage1.blocks.3.mlp.ln1.linear.weight, requires_grad: False\n",
            "Parameter name: stage1.blocks.3.mlp.ln1.linear.lora_a.weight, requires_grad: False\n",
            "Parameter name: stage1.blocks.3.mlp.ln1.linear.lora_b.weight, requires_grad: False\n",
            "Parameter name: stage1.blocks.3.mlp.ln1.bn.weight, requires_grad: False\n",
            "Parameter name: stage1.blocks.3.mlp.ln1.bn.bias, requires_grad: False\n",
            "Parameter name: stage1.blocks.3.mlp.ln2.linear.weight, requires_grad: False\n",
            "Parameter name: stage1.blocks.3.mlp.ln2.linear.lora_a.weight, requires_grad: False\n",
            "Parameter name: stage1.blocks.3.mlp.ln2.linear.lora_b.weight, requires_grad: False\n",
            "Parameter name: stage1.blocks.3.mlp.ln2.bn.weight, requires_grad: False\n",
            "Parameter name: stage1.blocks.3.mlp.ln2.bn.bias, requires_grad: False\n",
            "Parameter name: stage2.gumbel_gate, requires_grad: True\n",
            "Parameter name: stage2.downsample.conv.weight, requires_grad: False\n",
            "Parameter name: stage2.downsample.conv.bias, requires_grad: False\n",
            "Parameter name: stage2.blocks.0.attn.attention_biases, requires_grad: True\n",
            "Parameter name: stage2.blocks.0.attn.qkv.linear.weight, requires_grad: False\n",
            "Parameter name: stage2.blocks.0.attn.qkv.linear.lora_a.weight, requires_grad: False\n",
            "Parameter name: stage2.blocks.0.attn.qkv.linear.lora_b.weight, requires_grad: False\n",
            "Parameter name: stage2.blocks.0.attn.qkv.bn.weight, requires_grad: False\n",
            "Parameter name: stage2.blocks.0.attn.qkv.bn.bias, requires_grad: False\n",
            "Parameter name: stage2.blocks.0.attn.proj.1.linear.weight, requires_grad: False\n",
            "Parameter name: stage2.blocks.0.attn.proj.1.linear.lora_a.weight, requires_grad: False\n",
            "Parameter name: stage2.blocks.0.attn.proj.1.linear.lora_b.weight, requires_grad: False\n",
            "Parameter name: stage2.blocks.0.attn.proj.1.bn.weight, requires_grad: False\n",
            "Parameter name: stage2.blocks.0.attn.proj.1.bn.bias, requires_grad: False\n",
            "Parameter name: stage2.blocks.0.mlp.ln1.linear.weight, requires_grad: False\n",
            "Parameter name: stage2.blocks.0.mlp.ln1.linear.lora_a.weight, requires_grad: False\n",
            "Parameter name: stage2.blocks.0.mlp.ln1.linear.lora_b.weight, requires_grad: False\n",
            "Parameter name: stage2.blocks.0.mlp.ln1.bn.weight, requires_grad: False\n",
            "Parameter name: stage2.blocks.0.mlp.ln1.bn.bias, requires_grad: False\n",
            "Parameter name: stage2.blocks.0.mlp.ln2.linear.weight, requires_grad: False\n",
            "Parameter name: stage2.blocks.0.mlp.ln2.linear.lora_a.weight, requires_grad: False\n",
            "Parameter name: stage2.blocks.0.mlp.ln2.linear.lora_b.weight, requires_grad: False\n",
            "Parameter name: stage2.blocks.0.mlp.ln2.bn.weight, requires_grad: False\n",
            "Parameter name: stage2.blocks.0.mlp.ln2.bn.bias, requires_grad: False\n",
            "Parameter name: stage2.blocks.1.attn.attention_biases, requires_grad: True\n",
            "Parameter name: stage2.blocks.1.attn.qkv.linear.weight, requires_grad: False\n",
            "Parameter name: stage2.blocks.1.attn.qkv.linear.lora_a.weight, requires_grad: False\n",
            "Parameter name: stage2.blocks.1.attn.qkv.linear.lora_b.weight, requires_grad: False\n",
            "Parameter name: stage2.blocks.1.attn.qkv.bn.weight, requires_grad: False\n",
            "Parameter name: stage2.blocks.1.attn.qkv.bn.bias, requires_grad: False\n",
            "Parameter name: stage2.blocks.1.attn.proj.1.linear.weight, requires_grad: False\n",
            "Parameter name: stage2.blocks.1.attn.proj.1.linear.lora_a.weight, requires_grad: False\n",
            "Parameter name: stage2.blocks.1.attn.proj.1.linear.lora_b.weight, requires_grad: False\n",
            "Parameter name: stage2.blocks.1.attn.proj.1.bn.weight, requires_grad: False\n",
            "Parameter name: stage2.blocks.1.attn.proj.1.bn.bias, requires_grad: False\n",
            "Parameter name: stage2.blocks.1.mlp.ln1.linear.weight, requires_grad: False\n",
            "Parameter name: stage2.blocks.1.mlp.ln1.linear.lora_a.weight, requires_grad: False\n",
            "Parameter name: stage2.blocks.1.mlp.ln1.linear.lora_b.weight, requires_grad: False\n",
            "Parameter name: stage2.blocks.1.mlp.ln1.bn.weight, requires_grad: False\n",
            "Parameter name: stage2.blocks.1.mlp.ln1.bn.bias, requires_grad: False\n",
            "Parameter name: stage2.blocks.1.mlp.ln2.linear.weight, requires_grad: False\n",
            "Parameter name: stage2.blocks.1.mlp.ln2.linear.lora_a.weight, requires_grad: False\n",
            "Parameter name: stage2.blocks.1.mlp.ln2.linear.lora_b.weight, requires_grad: False\n",
            "Parameter name: stage2.blocks.1.mlp.ln2.bn.weight, requires_grad: False\n",
            "Parameter name: stage2.blocks.1.mlp.ln2.bn.bias, requires_grad: False\n",
            "Parameter name: stage2.blocks.2.attn.attention_biases, requires_grad: True\n",
            "Parameter name: stage2.blocks.2.attn.qkv.linear.weight, requires_grad: False\n",
            "Parameter name: stage2.blocks.2.attn.qkv.linear.lora_a.weight, requires_grad: False\n",
            "Parameter name: stage2.blocks.2.attn.qkv.linear.lora_b.weight, requires_grad: False\n",
            "Parameter name: stage2.blocks.2.attn.qkv.bn.weight, requires_grad: False\n",
            "Parameter name: stage2.blocks.2.attn.qkv.bn.bias, requires_grad: False\n",
            "Parameter name: stage2.blocks.2.attn.proj.1.linear.weight, requires_grad: False\n",
            "Parameter name: stage2.blocks.2.attn.proj.1.linear.lora_a.weight, requires_grad: False\n",
            "Parameter name: stage2.blocks.2.attn.proj.1.linear.lora_b.weight, requires_grad: False\n",
            "Parameter name: stage2.blocks.2.attn.proj.1.bn.weight, requires_grad: False\n",
            "Parameter name: stage2.blocks.2.attn.proj.1.bn.bias, requires_grad: False\n",
            "Parameter name: stage2.blocks.2.mlp.ln1.linear.weight, requires_grad: False\n",
            "Parameter name: stage2.blocks.2.mlp.ln1.linear.lora_a.weight, requires_grad: False\n",
            "Parameter name: stage2.blocks.2.mlp.ln1.linear.lora_b.weight, requires_grad: False\n",
            "Parameter name: stage2.blocks.2.mlp.ln1.bn.weight, requires_grad: False\n",
            "Parameter name: stage2.blocks.2.mlp.ln1.bn.bias, requires_grad: False\n",
            "Parameter name: stage2.blocks.2.mlp.ln2.linear.weight, requires_grad: False\n",
            "Parameter name: stage2.blocks.2.mlp.ln2.linear.lora_a.weight, requires_grad: False\n",
            "Parameter name: stage2.blocks.2.mlp.ln2.linear.lora_b.weight, requires_grad: False\n",
            "Parameter name: stage2.blocks.2.mlp.ln2.bn.weight, requires_grad: False\n",
            "Parameter name: stage2.blocks.2.mlp.ln2.bn.bias, requires_grad: False\n",
            "Parameter name: stage2.blocks.3.attn.attention_biases, requires_grad: True\n",
            "Parameter name: stage2.blocks.3.attn.qkv.linear.weight, requires_grad: False\n",
            "Parameter name: stage2.blocks.3.attn.qkv.linear.lora_a.weight, requires_grad: False\n",
            "Parameter name: stage2.blocks.3.attn.qkv.linear.lora_b.weight, requires_grad: False\n",
            "Parameter name: stage2.blocks.3.attn.qkv.bn.weight, requires_grad: False\n",
            "Parameter name: stage2.blocks.3.attn.qkv.bn.bias, requires_grad: False\n",
            "Parameter name: stage2.blocks.3.attn.proj.1.linear.weight, requires_grad: False\n",
            "Parameter name: stage2.blocks.3.attn.proj.1.linear.lora_a.weight, requires_grad: False\n",
            "Parameter name: stage2.blocks.3.attn.proj.1.linear.lora_b.weight, requires_grad: False\n",
            "Parameter name: stage2.blocks.3.attn.proj.1.bn.weight, requires_grad: False\n",
            "Parameter name: stage2.blocks.3.attn.proj.1.bn.bias, requires_grad: False\n",
            "Parameter name: stage2.blocks.3.mlp.ln1.linear.weight, requires_grad: False\n",
            "Parameter name: stage2.blocks.3.mlp.ln1.linear.lora_a.weight, requires_grad: False\n",
            "Parameter name: stage2.blocks.3.mlp.ln1.linear.lora_b.weight, requires_grad: False\n",
            "Parameter name: stage2.blocks.3.mlp.ln1.bn.weight, requires_grad: False\n",
            "Parameter name: stage2.blocks.3.mlp.ln1.bn.bias, requires_grad: False\n",
            "Parameter name: stage2.blocks.3.mlp.ln2.linear.weight, requires_grad: False\n",
            "Parameter name: stage2.blocks.3.mlp.ln2.linear.lora_a.weight, requires_grad: False\n",
            "Parameter name: stage2.blocks.3.mlp.ln2.linear.lora_b.weight, requires_grad: False\n",
            "Parameter name: stage2.blocks.3.mlp.ln2.bn.weight, requires_grad: False\n",
            "Parameter name: stage2.blocks.3.mlp.ln2.bn.bias, requires_grad: False\n",
            "Parameter name: conv1x1.0.weight, requires_grad: True\n",
            "Parameter name: conv1x1.0.bias, requires_grad: True\n",
            "Parameter name: conv1x1.1.weight, requires_grad: True\n",
            "Parameter name: conv1x1.1.bias, requires_grad: True\n",
            "Parameter name: head.bn.weight, requires_grad: True\n",
            "Parameter name: head.bn.bias, requires_grad: True\n",
            "Parameter name: head.linear.weight, requires_grad: True\n",
            "Parameter name: head.linear.bias, requires_grad: True\n",
            "Parameter name: head_dist.bn.weight, requires_grad: True\n",
            "Parameter name: head_dist.bn.bias, requires_grad: True\n",
            "Parameter name: head_dist.linear.weight, requires_grad: True\n",
            "Parameter name: head_dist.linear.bias, requires_grad: True\n"
          ]
        }
      ]
    },
    {
      "cell_type": "code",
      "source": [
        "gumbel_params = []\n",
        "other_params = []\n",
        "exclude = [\"head\", \"head_dist\"]\n",
        "\n",
        "for name, module in model.named_children():\n",
        "    if name in exclude:\n",
        "        print(exclude)\n",
        "\n",
        "for name, param in model.named_parameters():\n",
        "    if \"gumbel_gate\" in name:\n",
        "        gumbel_params.append(param)\n",
        "        print(name)\n",
        "    else:\n",
        "        other_params.append(param)"
      ],
      "metadata": {
        "colab": {
          "base_uri": "https://localhost:8080/"
        },
        "id": "Xuz4HhpzJWGo",
        "outputId": "e47ce80f-ce03-4b19-dedf-b332632e90c8"
      },
      "execution_count": 470,
      "outputs": [
        {
          "output_type": "stream",
          "name": "stdout",
          "text": [
            "['head', 'head_dist']\n",
            "['head', 'head_dist']\n",
            "stage1.gumbel_gate\n",
            "stage2.gumbel_gate\n"
          ]
        }
      ]
    },
    {
      "cell_type": "code",
      "source": [
        "criterion = nn.CrossEntropyLoss()\n",
        "optimizer = optim.Adam([\n",
        "    {'params' : gumbel_params, 'lr': learning_rate * 10},\n",
        "    {'params' : other_params, 'lr': learning_rate}\n",
        "])"
      ],
      "metadata": {
        "id": "G6iAZdW91cB1"
      },
      "execution_count": 471,
      "outputs": []
    },
    {
      "cell_type": "code",
      "execution_count": 472,
      "metadata": {
        "id": "Yf0ZPGLtz_gB"
      },
      "outputs": [],
      "source": [
        "def train(model, train_loader, criterion, optimizer, device, epoch, total_epcohs=100):\n",
        "    model.train()\n",
        "    running_loss = 0.0\n",
        "    correct = 0\n",
        "    total = 0\n",
        "    tau_max = 1\n",
        "    tau_min = 0.1\n",
        "    total_steps = total_epcohs * len(train_loader)\n",
        "    train_steps = epoch * len(train_loader)\n",
        "\n",
        "    for i, (inputs, labels) in enumerate(tqdm(train_loader, desc=\"Training\")):\n",
        "        tau = tau_max - (tau_max - tau_min) * min(1.0, (train_steps + i) / total_steps)\n",
        "        inputs, labels = inputs.to(device), labels.to(device)\n",
        "\n",
        "        optimizer.zero_grad()\n",
        "        outputs = model(inputs, tau)\n",
        "        loss = criterion(outputs, labels)\n",
        "        loss.backward()\n",
        "        optimizer.step()\n",
        "\n",
        "        running_loss += loss.item()\n",
        "        _, predicted = torch.max(outputs, 1)\n",
        "        total += labels.size(0)\n",
        "        correct += (predicted == labels).sum().item()\n",
        "\n",
        "    epoch_loss = running_loss / len(train_loader)\n",
        "    accuracy = 100 * correct / total\n",
        "    print(f\"Train Loss: {epoch_loss:.4f}, Train Accuracy: {accuracy:.2f}%\")\n",
        "    print(f\"Tau: {tau:.4f}\")\n",
        "    train_losses.append(epoch_loss)\n",
        "    train_accuracies.append(accuracy)\n",
        "\n",
        "    print(\"Each stage of block probabilities:\")\n",
        "    for name, module in model.named_modules():\n",
        "        if isinstance(module, LevitStage_TinyFusion):\n",
        "            gate_probs = torch.softmax(module.gumbel_gate, dim=0) # 각 block의 확률\n",
        "            topk_indx = torch.topk(gate_probs, module.num_select).indices.tolist() # 상위 k개의 index\n",
        "            print(f\"{name}\")\n",
        "            for i, prob in enumerate(gate_probs):\n",
        "                mask = \" \" if i in topk_indx else \"*\" # mask\n",
        "                print(f\"Block {i}: {prob:.4f} {mask}\")"
      ]
    },
    {
      "cell_type": "code",
      "execution_count": 473,
      "metadata": {
        "id": "rbdjXJ520Btp"
      },
      "outputs": [],
      "source": [
        "def evaluate(model, data_loader, criterion, device, phase=\"Validation\", epoch=0, total_epcohs=100):\n",
        "    model.eval()\n",
        "    running_loss = 0.0\n",
        "    correct = 0\n",
        "    total = 0\n",
        "    all_labels = []\n",
        "    all_predictions = []\n",
        "    tau_max = 1\n",
        "    tau_min = 0.1\n",
        "    total_steps = total_epcohs * len(data_loader)\n",
        "    train_steps = epoch * len(data_loader)\n",
        "\n",
        "    with torch.no_grad():\n",
        "        for i, (inputs, labels) in enumerate(tqdm(data_loader, desc=f\"{phase}\")):\n",
        "            inputs, labels = inputs.to(device), labels.to(device)\n",
        "            if phase == \"Validation\":\n",
        "                tau = tau_max - (tau_max - tau_min) * min(1.0, (train_steps + i) / total_steps)\n",
        "            elif phase == \"Test\":\n",
        "                tau = 1e-5\n",
        "            outputs = model(inputs, tau)\n",
        "            loss = criterion(outputs, labels)\n",
        "\n",
        "            running_loss += loss.item()\n",
        "            _, predicted = torch.max(outputs, 1)\n",
        "            total += labels.size(0)\n",
        "            correct += (predicted == labels).sum().item()\n",
        "\n",
        "            # Save all labels and predictions for balanced accuracy\n",
        "            all_labels.extend(labels.cpu().numpy())\n",
        "            all_predictions.extend(predicted.cpu().numpy())\n",
        "\n",
        "    epoch_loss = running_loss / len(data_loader)\n",
        "    accuracy = 100 * correct / total\n",
        "    balanced_acc = balanced_accuracy_score(all_labels, all_predictions)\n",
        "\n",
        "    print(f\"{phase} Loss: {epoch_loss:.4f}, {phase} Accuracy: {accuracy:.2f}%\")\n",
        "    print(f\"Balanced Accuracy: {balanced_acc:.4f}\")\n",
        "    print(f\"Tau: {tau:.4f}\")\n",
        "\n",
        "    val_losses.append(epoch_loss)\n",
        "    val_accuracies.append(accuracy)"
      ]
    },
    {
      "cell_type": "code",
      "execution_count": 474,
      "metadata": {
        "id": "GfBjePI-0DkY"
      },
      "outputs": [],
      "source": [
        "def measure_inference_time(model, data_loader, device):\n",
        "    model.eval()\n",
        "    times = []\n",
        "\n",
        "    with torch.no_grad():\n",
        "        for inputs, _ in data_loader:\n",
        "            inputs = inputs.to(device)\n",
        "            start_time = torch.cuda.Event(enable_timing=True)\n",
        "            end_time = torch.cuda.Event(enable_timing=True)\n",
        "\n",
        "            start_time.record()\n",
        "            _ = model(inputs, tau=0.1)  # inference 수행\n",
        "            end_time.record()\n",
        "\n",
        "            # 시간 측정\n",
        "            torch.cuda.synchronize()  # CUDA에서 모든 커널이 완료될 때까지 대기\n",
        "            elapsed_time = start_time.elapsed_time(end_time)  # 밀리초 단위로 반환\n",
        "            times.append(elapsed_time)\n",
        "\n",
        "    # 통계량 계산\n",
        "    times_np = np.array(times)\n",
        "    total_inferences = len(times_np)\n",
        "    avg_time = np.mean(times_np)\n",
        "    std_dev = np.std(times_np)\n",
        "    max_time = np.max(times_np)\n",
        "    min_time = np.min(times_np)\n",
        "\n",
        "    # 결과 출력\n",
        "    print(f\"Inference Time Measurement Results:\")\n",
        "    print(f\"Total Inferences: {total_inferences}\")\n",
        "    print(f\"Average Time: {avg_time:.2f} ms\")\n",
        "    print(f\"Standard Deviation: {std_dev:.2f} ms\")\n",
        "    print(f\"Maximum Time: {max_time:.2f} ms\")\n",
        "    print(f\"Minimum Time: {min_time:.2f} ms\")\n",
        "\n",
        "    return times"
      ]
    },
    {
      "cell_type": "code",
      "source": [
        "for name, param in model.named_parameters():\n",
        "    print(f\"Parameter name: {name}, requires_grad: {param.requires_grad}\")"
      ],
      "metadata": {
        "colab": {
          "base_uri": "https://localhost:8080/"
        },
        "id": "2E_O1ooo4c1A",
        "outputId": "610f59eb-4699-482c-c3db-6019e471fb1f"
      },
      "execution_count": 475,
      "outputs": [
        {
          "output_type": "stream",
          "name": "stdout",
          "text": [
            "Parameter name: stem.conv1.linear.weight, requires_grad: False\n",
            "Parameter name: stem.conv1.bn.weight, requires_grad: False\n",
            "Parameter name: stem.conv1.bn.bias, requires_grad: False\n",
            "Parameter name: stem.conv2.linear.weight, requires_grad: False\n",
            "Parameter name: stem.conv2.bn.weight, requires_grad: False\n",
            "Parameter name: stem.conv2.bn.bias, requires_grad: False\n",
            "Parameter name: stem.conv3.linear.weight, requires_grad: False\n",
            "Parameter name: stem.conv3.bn.weight, requires_grad: False\n",
            "Parameter name: stem.conv3.bn.bias, requires_grad: False\n",
            "Parameter name: stem.conv4.linear.weight, requires_grad: False\n",
            "Parameter name: stem.conv4.bn.weight, requires_grad: False\n",
            "Parameter name: stem.conv4.bn.bias, requires_grad: False\n",
            "Parameter name: stage1.gumbel_gate, requires_grad: True\n",
            "Parameter name: stage1.blocks.0.attn.attention_biases, requires_grad: True\n",
            "Parameter name: stage1.blocks.0.attn.qkv.linear.weight, requires_grad: False\n",
            "Parameter name: stage1.blocks.0.attn.qkv.linear.lora_a.weight, requires_grad: False\n",
            "Parameter name: stage1.blocks.0.attn.qkv.linear.lora_b.weight, requires_grad: False\n",
            "Parameter name: stage1.blocks.0.attn.qkv.bn.weight, requires_grad: False\n",
            "Parameter name: stage1.blocks.0.attn.qkv.bn.bias, requires_grad: False\n",
            "Parameter name: stage1.blocks.0.attn.proj.1.linear.weight, requires_grad: False\n",
            "Parameter name: stage1.blocks.0.attn.proj.1.linear.lora_a.weight, requires_grad: False\n",
            "Parameter name: stage1.blocks.0.attn.proj.1.linear.lora_b.weight, requires_grad: False\n",
            "Parameter name: stage1.blocks.0.attn.proj.1.bn.weight, requires_grad: False\n",
            "Parameter name: stage1.blocks.0.attn.proj.1.bn.bias, requires_grad: False\n",
            "Parameter name: stage1.blocks.0.mlp.ln1.linear.weight, requires_grad: False\n",
            "Parameter name: stage1.blocks.0.mlp.ln1.linear.lora_a.weight, requires_grad: False\n",
            "Parameter name: stage1.blocks.0.mlp.ln1.linear.lora_b.weight, requires_grad: False\n",
            "Parameter name: stage1.blocks.0.mlp.ln1.bn.weight, requires_grad: False\n",
            "Parameter name: stage1.blocks.0.mlp.ln1.bn.bias, requires_grad: False\n",
            "Parameter name: stage1.blocks.0.mlp.ln2.linear.weight, requires_grad: False\n",
            "Parameter name: stage1.blocks.0.mlp.ln2.linear.lora_a.weight, requires_grad: False\n",
            "Parameter name: stage1.blocks.0.mlp.ln2.linear.lora_b.weight, requires_grad: False\n",
            "Parameter name: stage1.blocks.0.mlp.ln2.bn.weight, requires_grad: False\n",
            "Parameter name: stage1.blocks.0.mlp.ln2.bn.bias, requires_grad: False\n",
            "Parameter name: stage1.blocks.1.attn.attention_biases, requires_grad: True\n",
            "Parameter name: stage1.blocks.1.attn.qkv.linear.weight, requires_grad: False\n",
            "Parameter name: stage1.blocks.1.attn.qkv.linear.lora_a.weight, requires_grad: False\n",
            "Parameter name: stage1.blocks.1.attn.qkv.linear.lora_b.weight, requires_grad: False\n",
            "Parameter name: stage1.blocks.1.attn.qkv.bn.weight, requires_grad: False\n",
            "Parameter name: stage1.blocks.1.attn.qkv.bn.bias, requires_grad: False\n",
            "Parameter name: stage1.blocks.1.attn.proj.1.linear.weight, requires_grad: False\n",
            "Parameter name: stage1.blocks.1.attn.proj.1.linear.lora_a.weight, requires_grad: False\n",
            "Parameter name: stage1.blocks.1.attn.proj.1.linear.lora_b.weight, requires_grad: False\n",
            "Parameter name: stage1.blocks.1.attn.proj.1.bn.weight, requires_grad: False\n",
            "Parameter name: stage1.blocks.1.attn.proj.1.bn.bias, requires_grad: False\n",
            "Parameter name: stage1.blocks.1.mlp.ln1.linear.weight, requires_grad: False\n",
            "Parameter name: stage1.blocks.1.mlp.ln1.linear.lora_a.weight, requires_grad: False\n",
            "Parameter name: stage1.blocks.1.mlp.ln1.linear.lora_b.weight, requires_grad: False\n",
            "Parameter name: stage1.blocks.1.mlp.ln1.bn.weight, requires_grad: False\n",
            "Parameter name: stage1.blocks.1.mlp.ln1.bn.bias, requires_grad: False\n",
            "Parameter name: stage1.blocks.1.mlp.ln2.linear.weight, requires_grad: False\n",
            "Parameter name: stage1.blocks.1.mlp.ln2.linear.lora_a.weight, requires_grad: False\n",
            "Parameter name: stage1.blocks.1.mlp.ln2.linear.lora_b.weight, requires_grad: False\n",
            "Parameter name: stage1.blocks.1.mlp.ln2.bn.weight, requires_grad: False\n",
            "Parameter name: stage1.blocks.1.mlp.ln2.bn.bias, requires_grad: False\n",
            "Parameter name: stage1.blocks.2.attn.attention_biases, requires_grad: True\n",
            "Parameter name: stage1.blocks.2.attn.qkv.linear.weight, requires_grad: False\n",
            "Parameter name: stage1.blocks.2.attn.qkv.linear.lora_a.weight, requires_grad: False\n",
            "Parameter name: stage1.blocks.2.attn.qkv.linear.lora_b.weight, requires_grad: False\n",
            "Parameter name: stage1.blocks.2.attn.qkv.bn.weight, requires_grad: False\n",
            "Parameter name: stage1.blocks.2.attn.qkv.bn.bias, requires_grad: False\n",
            "Parameter name: stage1.blocks.2.attn.proj.1.linear.weight, requires_grad: False\n",
            "Parameter name: stage1.blocks.2.attn.proj.1.linear.lora_a.weight, requires_grad: False\n",
            "Parameter name: stage1.blocks.2.attn.proj.1.linear.lora_b.weight, requires_grad: False\n",
            "Parameter name: stage1.blocks.2.attn.proj.1.bn.weight, requires_grad: False\n",
            "Parameter name: stage1.blocks.2.attn.proj.1.bn.bias, requires_grad: False\n",
            "Parameter name: stage1.blocks.2.mlp.ln1.linear.weight, requires_grad: False\n",
            "Parameter name: stage1.blocks.2.mlp.ln1.linear.lora_a.weight, requires_grad: False\n",
            "Parameter name: stage1.blocks.2.mlp.ln1.linear.lora_b.weight, requires_grad: False\n",
            "Parameter name: stage1.blocks.2.mlp.ln1.bn.weight, requires_grad: False\n",
            "Parameter name: stage1.blocks.2.mlp.ln1.bn.bias, requires_grad: False\n",
            "Parameter name: stage1.blocks.2.mlp.ln2.linear.weight, requires_grad: False\n",
            "Parameter name: stage1.blocks.2.mlp.ln2.linear.lora_a.weight, requires_grad: False\n",
            "Parameter name: stage1.blocks.2.mlp.ln2.linear.lora_b.weight, requires_grad: False\n",
            "Parameter name: stage1.blocks.2.mlp.ln2.bn.weight, requires_grad: False\n",
            "Parameter name: stage1.blocks.2.mlp.ln2.bn.bias, requires_grad: False\n",
            "Parameter name: stage1.blocks.3.attn.attention_biases, requires_grad: True\n",
            "Parameter name: stage1.blocks.3.attn.qkv.linear.weight, requires_grad: False\n",
            "Parameter name: stage1.blocks.3.attn.qkv.linear.lora_a.weight, requires_grad: False\n",
            "Parameter name: stage1.blocks.3.attn.qkv.linear.lora_b.weight, requires_grad: False\n",
            "Parameter name: stage1.blocks.3.attn.qkv.bn.weight, requires_grad: False\n",
            "Parameter name: stage1.blocks.3.attn.qkv.bn.bias, requires_grad: False\n",
            "Parameter name: stage1.blocks.3.attn.proj.1.linear.weight, requires_grad: False\n",
            "Parameter name: stage1.blocks.3.attn.proj.1.linear.lora_a.weight, requires_grad: False\n",
            "Parameter name: stage1.blocks.3.attn.proj.1.linear.lora_b.weight, requires_grad: False\n",
            "Parameter name: stage1.blocks.3.attn.proj.1.bn.weight, requires_grad: False\n",
            "Parameter name: stage1.blocks.3.attn.proj.1.bn.bias, requires_grad: False\n",
            "Parameter name: stage1.blocks.3.mlp.ln1.linear.weight, requires_grad: False\n",
            "Parameter name: stage1.blocks.3.mlp.ln1.linear.lora_a.weight, requires_grad: False\n",
            "Parameter name: stage1.blocks.3.mlp.ln1.linear.lora_b.weight, requires_grad: False\n",
            "Parameter name: stage1.blocks.3.mlp.ln1.bn.weight, requires_grad: False\n",
            "Parameter name: stage1.blocks.3.mlp.ln1.bn.bias, requires_grad: False\n",
            "Parameter name: stage1.blocks.3.mlp.ln2.linear.weight, requires_grad: False\n",
            "Parameter name: stage1.blocks.3.mlp.ln2.linear.lora_a.weight, requires_grad: False\n",
            "Parameter name: stage1.blocks.3.mlp.ln2.linear.lora_b.weight, requires_grad: False\n",
            "Parameter name: stage1.blocks.3.mlp.ln2.bn.weight, requires_grad: False\n",
            "Parameter name: stage1.blocks.3.mlp.ln2.bn.bias, requires_grad: False\n",
            "Parameter name: stage2.gumbel_gate, requires_grad: True\n",
            "Parameter name: stage2.downsample.conv.weight, requires_grad: False\n",
            "Parameter name: stage2.downsample.conv.bias, requires_grad: False\n",
            "Parameter name: stage2.blocks.0.attn.attention_biases, requires_grad: True\n",
            "Parameter name: stage2.blocks.0.attn.qkv.linear.weight, requires_grad: False\n",
            "Parameter name: stage2.blocks.0.attn.qkv.linear.lora_a.weight, requires_grad: False\n",
            "Parameter name: stage2.blocks.0.attn.qkv.linear.lora_b.weight, requires_grad: False\n",
            "Parameter name: stage2.blocks.0.attn.qkv.bn.weight, requires_grad: False\n",
            "Parameter name: stage2.blocks.0.attn.qkv.bn.bias, requires_grad: False\n",
            "Parameter name: stage2.blocks.0.attn.proj.1.linear.weight, requires_grad: False\n",
            "Parameter name: stage2.blocks.0.attn.proj.1.linear.lora_a.weight, requires_grad: False\n",
            "Parameter name: stage2.blocks.0.attn.proj.1.linear.lora_b.weight, requires_grad: False\n",
            "Parameter name: stage2.blocks.0.attn.proj.1.bn.weight, requires_grad: False\n",
            "Parameter name: stage2.blocks.0.attn.proj.1.bn.bias, requires_grad: False\n",
            "Parameter name: stage2.blocks.0.mlp.ln1.linear.weight, requires_grad: False\n",
            "Parameter name: stage2.blocks.0.mlp.ln1.linear.lora_a.weight, requires_grad: False\n",
            "Parameter name: stage2.blocks.0.mlp.ln1.linear.lora_b.weight, requires_grad: False\n",
            "Parameter name: stage2.blocks.0.mlp.ln1.bn.weight, requires_grad: False\n",
            "Parameter name: stage2.blocks.0.mlp.ln1.bn.bias, requires_grad: False\n",
            "Parameter name: stage2.blocks.0.mlp.ln2.linear.weight, requires_grad: False\n",
            "Parameter name: stage2.blocks.0.mlp.ln2.linear.lora_a.weight, requires_grad: False\n",
            "Parameter name: stage2.blocks.0.mlp.ln2.linear.lora_b.weight, requires_grad: False\n",
            "Parameter name: stage2.blocks.0.mlp.ln2.bn.weight, requires_grad: False\n",
            "Parameter name: stage2.blocks.0.mlp.ln2.bn.bias, requires_grad: False\n",
            "Parameter name: stage2.blocks.1.attn.attention_biases, requires_grad: True\n",
            "Parameter name: stage2.blocks.1.attn.qkv.linear.weight, requires_grad: False\n",
            "Parameter name: stage2.blocks.1.attn.qkv.linear.lora_a.weight, requires_grad: False\n",
            "Parameter name: stage2.blocks.1.attn.qkv.linear.lora_b.weight, requires_grad: False\n",
            "Parameter name: stage2.blocks.1.attn.qkv.bn.weight, requires_grad: False\n",
            "Parameter name: stage2.blocks.1.attn.qkv.bn.bias, requires_grad: False\n",
            "Parameter name: stage2.blocks.1.attn.proj.1.linear.weight, requires_grad: False\n",
            "Parameter name: stage2.blocks.1.attn.proj.1.linear.lora_a.weight, requires_grad: False\n",
            "Parameter name: stage2.blocks.1.attn.proj.1.linear.lora_b.weight, requires_grad: False\n",
            "Parameter name: stage2.blocks.1.attn.proj.1.bn.weight, requires_grad: False\n",
            "Parameter name: stage2.blocks.1.attn.proj.1.bn.bias, requires_grad: False\n",
            "Parameter name: stage2.blocks.1.mlp.ln1.linear.weight, requires_grad: False\n",
            "Parameter name: stage2.blocks.1.mlp.ln1.linear.lora_a.weight, requires_grad: False\n",
            "Parameter name: stage2.blocks.1.mlp.ln1.linear.lora_b.weight, requires_grad: False\n",
            "Parameter name: stage2.blocks.1.mlp.ln1.bn.weight, requires_grad: False\n",
            "Parameter name: stage2.blocks.1.mlp.ln1.bn.bias, requires_grad: False\n",
            "Parameter name: stage2.blocks.1.mlp.ln2.linear.weight, requires_grad: False\n",
            "Parameter name: stage2.blocks.1.mlp.ln2.linear.lora_a.weight, requires_grad: False\n",
            "Parameter name: stage2.blocks.1.mlp.ln2.linear.lora_b.weight, requires_grad: False\n",
            "Parameter name: stage2.blocks.1.mlp.ln2.bn.weight, requires_grad: False\n",
            "Parameter name: stage2.blocks.1.mlp.ln2.bn.bias, requires_grad: False\n",
            "Parameter name: stage2.blocks.2.attn.attention_biases, requires_grad: True\n",
            "Parameter name: stage2.blocks.2.attn.qkv.linear.weight, requires_grad: False\n",
            "Parameter name: stage2.blocks.2.attn.qkv.linear.lora_a.weight, requires_grad: False\n",
            "Parameter name: stage2.blocks.2.attn.qkv.linear.lora_b.weight, requires_grad: False\n",
            "Parameter name: stage2.blocks.2.attn.qkv.bn.weight, requires_grad: False\n",
            "Parameter name: stage2.blocks.2.attn.qkv.bn.bias, requires_grad: False\n",
            "Parameter name: stage2.blocks.2.attn.proj.1.linear.weight, requires_grad: False\n",
            "Parameter name: stage2.blocks.2.attn.proj.1.linear.lora_a.weight, requires_grad: False\n",
            "Parameter name: stage2.blocks.2.attn.proj.1.linear.lora_b.weight, requires_grad: False\n",
            "Parameter name: stage2.blocks.2.attn.proj.1.bn.weight, requires_grad: False\n",
            "Parameter name: stage2.blocks.2.attn.proj.1.bn.bias, requires_grad: False\n",
            "Parameter name: stage2.blocks.2.mlp.ln1.linear.weight, requires_grad: False\n",
            "Parameter name: stage2.blocks.2.mlp.ln1.linear.lora_a.weight, requires_grad: False\n",
            "Parameter name: stage2.blocks.2.mlp.ln1.linear.lora_b.weight, requires_grad: False\n",
            "Parameter name: stage2.blocks.2.mlp.ln1.bn.weight, requires_grad: False\n",
            "Parameter name: stage2.blocks.2.mlp.ln1.bn.bias, requires_grad: False\n",
            "Parameter name: stage2.blocks.2.mlp.ln2.linear.weight, requires_grad: False\n",
            "Parameter name: stage2.blocks.2.mlp.ln2.linear.lora_a.weight, requires_grad: False\n",
            "Parameter name: stage2.blocks.2.mlp.ln2.linear.lora_b.weight, requires_grad: False\n",
            "Parameter name: stage2.blocks.2.mlp.ln2.bn.weight, requires_grad: False\n",
            "Parameter name: stage2.blocks.2.mlp.ln2.bn.bias, requires_grad: False\n",
            "Parameter name: stage2.blocks.3.attn.attention_biases, requires_grad: True\n",
            "Parameter name: stage2.blocks.3.attn.qkv.linear.weight, requires_grad: False\n",
            "Parameter name: stage2.blocks.3.attn.qkv.linear.lora_a.weight, requires_grad: False\n",
            "Parameter name: stage2.blocks.3.attn.qkv.linear.lora_b.weight, requires_grad: False\n",
            "Parameter name: stage2.blocks.3.attn.qkv.bn.weight, requires_grad: False\n",
            "Parameter name: stage2.blocks.3.attn.qkv.bn.bias, requires_grad: False\n",
            "Parameter name: stage2.blocks.3.attn.proj.1.linear.weight, requires_grad: False\n",
            "Parameter name: stage2.blocks.3.attn.proj.1.linear.lora_a.weight, requires_grad: False\n",
            "Parameter name: stage2.blocks.3.attn.proj.1.linear.lora_b.weight, requires_grad: False\n",
            "Parameter name: stage2.blocks.3.attn.proj.1.bn.weight, requires_grad: False\n",
            "Parameter name: stage2.blocks.3.attn.proj.1.bn.bias, requires_grad: False\n",
            "Parameter name: stage2.blocks.3.mlp.ln1.linear.weight, requires_grad: False\n",
            "Parameter name: stage2.blocks.3.mlp.ln1.linear.lora_a.weight, requires_grad: False\n",
            "Parameter name: stage2.blocks.3.mlp.ln1.linear.lora_b.weight, requires_grad: False\n",
            "Parameter name: stage2.blocks.3.mlp.ln1.bn.weight, requires_grad: False\n",
            "Parameter name: stage2.blocks.3.mlp.ln1.bn.bias, requires_grad: False\n",
            "Parameter name: stage2.blocks.3.mlp.ln2.linear.weight, requires_grad: False\n",
            "Parameter name: stage2.blocks.3.mlp.ln2.linear.lora_a.weight, requires_grad: False\n",
            "Parameter name: stage2.blocks.3.mlp.ln2.linear.lora_b.weight, requires_grad: False\n",
            "Parameter name: stage2.blocks.3.mlp.ln2.bn.weight, requires_grad: False\n",
            "Parameter name: stage2.blocks.3.mlp.ln2.bn.bias, requires_grad: False\n",
            "Parameter name: conv1x1.0.weight, requires_grad: True\n",
            "Parameter name: conv1x1.0.bias, requires_grad: True\n",
            "Parameter name: conv1x1.1.weight, requires_grad: True\n",
            "Parameter name: conv1x1.1.bias, requires_grad: True\n",
            "Parameter name: head.bn.weight, requires_grad: True\n",
            "Parameter name: head.bn.bias, requires_grad: True\n",
            "Parameter name: head.linear.weight, requires_grad: True\n",
            "Parameter name: head.linear.bias, requires_grad: True\n",
            "Parameter name: head_dist.bn.weight, requires_grad: True\n",
            "Parameter name: head_dist.bn.bias, requires_grad: True\n",
            "Parameter name: head_dist.linear.weight, requires_grad: True\n",
            "Parameter name: head_dist.linear.bias, requires_grad: True\n"
          ]
        }
      ]
    },
    {
      "cell_type": "code",
      "source": [
        "for epoch in range(num_epochs):\n",
        "    print(f\"\\nEpoch {epoch+1}/{num_epochs}\")\n",
        "    train(model, train_loader, criterion, optimizer, device, epoch)\n",
        "    evaluate(model, val_loader, criterion, device, phase=\"Validation\", epoch=epoch)\n",
        "    if((epoch+1) % 10 == 0 and epoch > 30):\n",
        "        save_path = f\"HoViT_44_tinyfusion_base_r8a16_{epoch}.pth\"\n",
        "        torch.save(model.state_dict(), save_path)\n",
        "        print(f\"Model weights saved to {save_path}\")\n",
        "        print(f\"{epoch+1} model test result:\")\n",
        "        evaluate(model, test_loader, criterion, device, phase=\"Test\")"
      ],
      "metadata": {
        "colab": {
          "base_uri": "https://localhost:8080/"
        },
        "id": "B4vwrhWT-J7V",
        "outputId": "85d248fe-9f66-4039-d0ab-c12568f83c18"
      },
      "execution_count": 476,
      "outputs": [
        {
          "output_type": "stream",
          "name": "stdout",
          "text": [
            "\n",
            "Epoch 1/45\n"
          ]
        },
        {
          "output_type": "stream",
          "name": "stderr",
          "text": [
            "Training: 100%|██████████| 2188/2188 [03:14<00:00, 11.24it/s]\n"
          ]
        },
        {
          "output_type": "stream",
          "name": "stdout",
          "text": [
            "Train Loss: 0.3165, Train Accuracy: 90.60%\n",
            "Tau: 0.9910\n",
            "Each stage of block probabilities:\n",
            "stage1\n",
            "Block 0: 0.7945  \n",
            "Block 1: 0.1068  \n",
            "Block 2: 0.0585 *\n",
            "Block 3: 0.0402 *\n",
            "stage2\n",
            "Block 0: 0.2018 *\n",
            "Block 1: 0.1850 *\n",
            "Block 2: 0.3359  \n",
            "Block 3: 0.2773  \n"
          ]
        },
        {
          "output_type": "stream",
          "name": "stderr",
          "text": [
            "Validation: 100%|██████████| 469/469 [00:22<00:00, 21.04it/s]\n"
          ]
        },
        {
          "output_type": "stream",
          "name": "stdout",
          "text": [
            "Validation Loss: 0.2649, Validation Accuracy: 91.19%\n",
            "Balanced Accuracy: 0.9112\n",
            "Tau: 0.9910\n",
            "\n",
            "Epoch 2/45\n"
          ]
        },
        {
          "output_type": "stream",
          "name": "stderr",
          "text": [
            "Training: 100%|██████████| 2188/2188 [03:13<00:00, 11.30it/s]\n"
          ]
        },
        {
          "output_type": "stream",
          "name": "stdout",
          "text": [
            "Train Loss: 0.1288, Train Accuracy: 95.69%\n",
            "Tau: 0.9820\n",
            "Each stage of block probabilities:\n",
            "stage1\n",
            "Block 0: 0.9553  \n",
            "Block 1: 0.0249  \n",
            "Block 2: 0.0106 *\n",
            "Block 3: 0.0092 *\n",
            "stage2\n",
            "Block 0: 0.2102 *\n",
            "Block 1: 0.1858 *\n",
            "Block 2: 0.3472  \n",
            "Block 3: 0.2567  \n"
          ]
        },
        {
          "output_type": "stream",
          "name": "stderr",
          "text": [
            "Validation: 100%|██████████| 469/469 [00:22<00:00, 21.04it/s]\n"
          ]
        },
        {
          "output_type": "stream",
          "name": "stdout",
          "text": [
            "Validation Loss: 0.1227, Validation Accuracy: 96.00%\n",
            "Balanced Accuracy: 0.9593\n",
            "Tau: 0.9820\n",
            "\n",
            "Epoch 3/45\n"
          ]
        },
        {
          "output_type": "stream",
          "name": "stderr",
          "text": [
            "Training: 100%|██████████| 2188/2188 [03:14<00:00, 11.27it/s]\n"
          ]
        },
        {
          "output_type": "stream",
          "name": "stdout",
          "text": [
            "Train Loss: 0.0896, Train Accuracy: 97.04%\n",
            "Tau: 0.9730\n",
            "Each stage of block probabilities:\n",
            "stage1\n",
            "Block 0: 0.9868  \n",
            "Block 1: 0.0065  \n",
            "Block 2: 0.0041 *\n",
            "Block 3: 0.0027 *\n",
            "stage2\n",
            "Block 0: 0.1985 *\n",
            "Block 1: 0.1774 *\n",
            "Block 2: 0.3472  \n",
            "Block 3: 0.2769  \n"
          ]
        },
        {
          "output_type": "stream",
          "name": "stderr",
          "text": [
            "Validation: 100%|██████████| 469/469 [00:22<00:00, 20.89it/s]\n"
          ]
        },
        {
          "output_type": "stream",
          "name": "stdout",
          "text": [
            "Validation Loss: 0.0878, Validation Accuracy: 97.11%\n",
            "Balanced Accuracy: 0.9699\n",
            "Tau: 0.9730\n",
            "\n",
            "Epoch 4/45\n"
          ]
        },
        {
          "output_type": "stream",
          "name": "stderr",
          "text": [
            "Training: 100%|██████████| 2188/2188 [03:14<00:00, 11.27it/s]\n"
          ]
        },
        {
          "output_type": "stream",
          "name": "stdout",
          "text": [
            "Train Loss: 0.0691, Train Accuracy: 97.72%\n",
            "Tau: 0.9640\n",
            "Each stage of block probabilities:\n",
            "stage1\n",
            "Block 0: 0.9960  \n",
            "Block 1: 0.0021  \n",
            "Block 2: 0.0012 *\n",
            "Block 3: 0.0007 *\n",
            "stage2\n",
            "Block 0: 0.2142 *\n",
            "Block 1: 0.1516 *\n",
            "Block 2: 0.3972  \n",
            "Block 3: 0.2370  \n"
          ]
        },
        {
          "output_type": "stream",
          "name": "stderr",
          "text": [
            "Validation: 100%|██████████| 469/469 [00:22<00:00, 20.96it/s]\n"
          ]
        },
        {
          "output_type": "stream",
          "name": "stdout",
          "text": [
            "Validation Loss: 0.0714, Validation Accuracy: 97.72%\n",
            "Balanced Accuracy: 0.9765\n",
            "Tau: 0.9640\n",
            "\n",
            "Epoch 5/45\n"
          ]
        },
        {
          "output_type": "stream",
          "name": "stderr",
          "text": [
            "Training: 100%|██████████| 2188/2188 [03:14<00:00, 11.25it/s]\n"
          ]
        },
        {
          "output_type": "stream",
          "name": "stdout",
          "text": [
            "Train Loss: 0.0555, Train Accuracy: 98.16%\n",
            "Tau: 0.9550\n",
            "Each stage of block probabilities:\n",
            "stage1\n",
            "Block 0: 0.9978  \n",
            "Block 1: 0.0010  \n",
            "Block 2: 0.0007 *\n",
            "Block 3: 0.0005 *\n",
            "stage2\n",
            "Block 0: 0.2263  \n",
            "Block 1: 0.1148 *\n",
            "Block 2: 0.4745  \n",
            "Block 3: 0.1845 *\n"
          ]
        },
        {
          "output_type": "stream",
          "name": "stderr",
          "text": [
            "Validation: 100%|██████████| 469/469 [00:22<00:00, 21.10it/s]\n"
          ]
        },
        {
          "output_type": "stream",
          "name": "stdout",
          "text": [
            "Validation Loss: 0.0783, Validation Accuracy: 97.61%\n",
            "Balanced Accuracy: 0.9757\n",
            "Tau: 0.9550\n",
            "\n",
            "Epoch 6/45\n"
          ]
        },
        {
          "output_type": "stream",
          "name": "stderr",
          "text": [
            "Training: 100%|██████████| 2188/2188 [03:13<00:00, 11.29it/s]\n"
          ]
        },
        {
          "output_type": "stream",
          "name": "stdout",
          "text": [
            "Train Loss: 0.0444, Train Accuracy: 98.55%\n",
            "Tau: 0.9460\n",
            "Each stage of block probabilities:\n",
            "stage1\n",
            "Block 0: 0.9986  \n",
            "Block 1: 0.0007  \n",
            "Block 2: 0.0004 *\n",
            "Block 3: 0.0003 *\n",
            "stage2\n",
            "Block 0: 0.2270  \n",
            "Block 1: 0.1165 *\n",
            "Block 2: 0.4606  \n",
            "Block 3: 0.1959 *\n"
          ]
        },
        {
          "output_type": "stream",
          "name": "stderr",
          "text": [
            "Validation: 100%|██████████| 469/469 [00:22<00:00, 20.97it/s]\n"
          ]
        },
        {
          "output_type": "stream",
          "name": "stdout",
          "text": [
            "Validation Loss: 0.0749, Validation Accuracy: 97.83%\n",
            "Balanced Accuracy: 0.9779\n",
            "Tau: 0.9460\n",
            "\n",
            "Epoch 7/45\n"
          ]
        },
        {
          "output_type": "stream",
          "name": "stderr",
          "text": [
            "Training: 100%|██████████| 2188/2188 [03:13<00:00, 11.31it/s]\n"
          ]
        },
        {
          "output_type": "stream",
          "name": "stdout",
          "text": [
            "Train Loss: 0.0361, Train Accuracy: 98.86%\n",
            "Tau: 0.9370\n",
            "Each stage of block probabilities:\n",
            "stage1\n",
            "Block 0: 0.9990  \n",
            "Block 1: 0.0005  \n",
            "Block 2: 0.0003 *\n",
            "Block 3: 0.0002 *\n",
            "stage2\n",
            "Block 0: 0.2107  \n",
            "Block 1: 0.0909 *\n",
            "Block 2: 0.5294  \n",
            "Block 3: 0.1690 *\n"
          ]
        },
        {
          "output_type": "stream",
          "name": "stderr",
          "text": [
            "Validation: 100%|██████████| 469/469 [00:22<00:00, 20.98it/s]\n"
          ]
        },
        {
          "output_type": "stream",
          "name": "stdout",
          "text": [
            "Validation Loss: 0.0902, Validation Accuracy: 97.75%\n",
            "Balanced Accuracy: 0.9773\n",
            "Tau: 0.9370\n",
            "\n",
            "Epoch 8/45\n"
          ]
        },
        {
          "output_type": "stream",
          "name": "stderr",
          "text": [
            "Training: 100%|██████████| 2188/2188 [03:13<00:00, 11.31it/s]\n"
          ]
        },
        {
          "output_type": "stream",
          "name": "stdout",
          "text": [
            "Train Loss: 0.0280, Train Accuracy: 99.12%\n",
            "Tau: 0.9280\n",
            "Each stage of block probabilities:\n",
            "stage1\n",
            "Block 0: 0.9995  \n",
            "Block 1: 0.0002  \n",
            "Block 2: 0.0002 *\n",
            "Block 3: 0.0001 *\n",
            "stage2\n",
            "Block 0: 0.1989  \n",
            "Block 1: 0.0736 *\n",
            "Block 2: 0.6063  \n",
            "Block 3: 0.1212 *\n"
          ]
        },
        {
          "output_type": "stream",
          "name": "stderr",
          "text": [
            "Validation: 100%|██████████| 469/469 [00:22<00:00, 21.07it/s]\n"
          ]
        },
        {
          "output_type": "stream",
          "name": "stdout",
          "text": [
            "Validation Loss: 0.0594, Validation Accuracy: 98.06%\n",
            "Balanced Accuracy: 0.9803\n",
            "Tau: 0.9280\n",
            "\n",
            "Epoch 9/45\n"
          ]
        },
        {
          "output_type": "stream",
          "name": "stderr",
          "text": [
            "Training: 100%|██████████| 2188/2188 [03:14<00:00, 11.25it/s]\n"
          ]
        },
        {
          "output_type": "stream",
          "name": "stdout",
          "text": [
            "Train Loss: 0.0249, Train Accuracy: 99.21%\n",
            "Tau: 0.9190\n",
            "Each stage of block probabilities:\n",
            "stage1\n",
            "Block 0: 0.9997  \n",
            "Block 1: 0.0001 *\n",
            "Block 2: 0.0001  \n",
            "Block 3: 0.0001 *\n",
            "stage2\n",
            "Block 0: 0.2073  \n",
            "Block 1: 0.0690 *\n",
            "Block 2: 0.6244  \n",
            "Block 3: 0.0993 *\n"
          ]
        },
        {
          "output_type": "stream",
          "name": "stderr",
          "text": [
            "Validation: 100%|██████████| 469/469 [00:22<00:00, 21.00it/s]\n"
          ]
        },
        {
          "output_type": "stream",
          "name": "stdout",
          "text": [
            "Validation Loss: 0.0782, Validation Accuracy: 97.75%\n",
            "Balanced Accuracy: 0.9774\n",
            "Tau: 0.9190\n",
            "\n",
            "Epoch 10/45\n"
          ]
        },
        {
          "output_type": "stream",
          "name": "stderr",
          "text": [
            "Training: 100%|██████████| 2188/2188 [03:14<00:00, 11.27it/s]\n"
          ]
        },
        {
          "output_type": "stream",
          "name": "stdout",
          "text": [
            "Train Loss: 0.0195, Train Accuracy: 99.42%\n",
            "Tau: 0.9100\n",
            "Each stage of block probabilities:\n",
            "stage1\n",
            "Block 0: 0.9997  \n",
            "Block 1: 0.0001 *\n",
            "Block 2: 0.0001  \n",
            "Block 3: 0.0001 *\n",
            "stage2\n",
            "Block 0: 0.2004  \n",
            "Block 1: 0.0663 *\n",
            "Block 2: 0.6575  \n",
            "Block 3: 0.0759 *\n"
          ]
        },
        {
          "output_type": "stream",
          "name": "stderr",
          "text": [
            "Validation: 100%|██████████| 469/469 [00:22<00:00, 20.93it/s]\n"
          ]
        },
        {
          "output_type": "stream",
          "name": "stdout",
          "text": [
            "Validation Loss: 0.0696, Validation Accuracy: 98.09%\n",
            "Balanced Accuracy: 0.9807\n",
            "Tau: 0.9100\n",
            "\n",
            "Epoch 11/45\n"
          ]
        },
        {
          "output_type": "stream",
          "name": "stderr",
          "text": [
            "Training: 100%|██████████| 2188/2188 [03:14<00:00, 11.28it/s]\n"
          ]
        },
        {
          "output_type": "stream",
          "name": "stdout",
          "text": [
            "Train Loss: 0.0162, Train Accuracy: 99.49%\n",
            "Tau: 0.9010\n",
            "Each stage of block probabilities:\n",
            "stage1\n",
            "Block 0: 0.9998  \n",
            "Block 1: 0.0001 *\n",
            "Block 2: 0.0001  \n",
            "Block 3: 0.0000 *\n",
            "stage2\n",
            "Block 0: 0.1872  \n",
            "Block 1: 0.0478 *\n",
            "Block 2: 0.6906  \n",
            "Block 3: 0.0744 *\n"
          ]
        },
        {
          "output_type": "stream",
          "name": "stderr",
          "text": [
            "Validation: 100%|██████████| 469/469 [00:22<00:00, 20.91it/s]\n"
          ]
        },
        {
          "output_type": "stream",
          "name": "stdout",
          "text": [
            "Validation Loss: 0.0689, Validation Accuracy: 97.99%\n",
            "Balanced Accuracy: 0.9797\n",
            "Tau: 0.9010\n",
            "\n",
            "Epoch 12/45\n"
          ]
        },
        {
          "output_type": "stream",
          "name": "stderr",
          "text": [
            "Training: 100%|██████████| 2188/2188 [03:13<00:00, 11.31it/s]\n"
          ]
        },
        {
          "output_type": "stream",
          "name": "stdout",
          "text": [
            "Train Loss: 0.0136, Train Accuracy: 99.62%\n",
            "Tau: 0.8920\n",
            "Each stage of block probabilities:\n",
            "stage1\n",
            "Block 0: 0.9998  \n",
            "Block 1: 0.0001  \n",
            "Block 2: 0.0001 *\n",
            "Block 3: 0.0000 *\n",
            "stage2\n",
            "Block 0: 0.1433  \n",
            "Block 1: 0.0405 *\n",
            "Block 2: 0.7682  \n",
            "Block 3: 0.0481 *\n"
          ]
        },
        {
          "output_type": "stream",
          "name": "stderr",
          "text": [
            "Validation: 100%|██████████| 469/469 [00:22<00:00, 20.81it/s]\n"
          ]
        },
        {
          "output_type": "stream",
          "name": "stdout",
          "text": [
            "Validation Loss: 0.0582, Validation Accuracy: 98.26%\n",
            "Balanced Accuracy: 0.9821\n",
            "Tau: 0.8920\n",
            "\n",
            "Epoch 13/45\n"
          ]
        },
        {
          "output_type": "stream",
          "name": "stderr",
          "text": [
            "Training: 100%|██████████| 2188/2188 [03:14<00:00, 11.25it/s]\n"
          ]
        },
        {
          "output_type": "stream",
          "name": "stdout",
          "text": [
            "Train Loss: 0.0121, Train Accuracy: 99.63%\n",
            "Tau: 0.8830\n",
            "Each stage of block probabilities:\n",
            "stage1\n",
            "Block 0: 0.9998  \n",
            "Block 1: 0.0001 *\n",
            "Block 2: 0.0001  \n",
            "Block 3: 0.0000 *\n",
            "stage2\n",
            "Block 0: 0.1858  \n",
            "Block 1: 0.0405 *\n",
            "Block 2: 0.7284  \n",
            "Block 3: 0.0452 *\n"
          ]
        },
        {
          "output_type": "stream",
          "name": "stderr",
          "text": [
            "Validation: 100%|██████████| 469/469 [00:22<00:00, 20.88it/s]\n"
          ]
        },
        {
          "output_type": "stream",
          "name": "stdout",
          "text": [
            "Validation Loss: 0.0593, Validation Accuracy: 98.12%\n",
            "Balanced Accuracy: 0.9814\n",
            "Tau: 0.8830\n",
            "\n",
            "Epoch 14/45\n"
          ]
        },
        {
          "output_type": "stream",
          "name": "stderr",
          "text": [
            "Training: 100%|██████████| 2188/2188 [03:15<00:00, 11.20it/s]\n"
          ]
        },
        {
          "output_type": "stream",
          "name": "stdout",
          "text": [
            "Train Loss: 0.0113, Train Accuracy: 99.63%\n",
            "Tau: 0.8740\n",
            "Each stage of block probabilities:\n",
            "stage1\n",
            "Block 0: 0.9999  \n",
            "Block 1: 0.0001  \n",
            "Block 2: 0.0000 *\n",
            "Block 3: 0.0000 *\n",
            "stage2\n",
            "Block 0: 0.1704  \n",
            "Block 1: 0.0282 *\n",
            "Block 2: 0.7757  \n",
            "Block 3: 0.0257 *\n"
          ]
        },
        {
          "output_type": "stream",
          "name": "stderr",
          "text": [
            "Validation: 100%|██████████| 469/469 [00:22<00:00, 21.03it/s]\n"
          ]
        },
        {
          "output_type": "stream",
          "name": "stdout",
          "text": [
            "Validation Loss: 0.0664, Validation Accuracy: 98.41%\n",
            "Balanced Accuracy: 0.9839\n",
            "Tau: 0.8740\n",
            "\n",
            "Epoch 15/45\n"
          ]
        },
        {
          "output_type": "stream",
          "name": "stderr",
          "text": [
            "Training: 100%|██████████| 2188/2188 [03:13<00:00, 11.31it/s]\n"
          ]
        },
        {
          "output_type": "stream",
          "name": "stdout",
          "text": [
            "Train Loss: 0.0086, Train Accuracy: 99.75%\n",
            "Tau: 0.8650\n",
            "Each stage of block probabilities:\n",
            "stage1\n",
            "Block 0: 0.9999  \n",
            "Block 1: 0.0001  \n",
            "Block 2: 0.0000 *\n",
            "Block 3: 0.0000 *\n",
            "stage2\n",
            "Block 0: 0.1475  \n",
            "Block 1: 0.0257 *\n",
            "Block 2: 0.8011  \n",
            "Block 3: 0.0256 *\n"
          ]
        },
        {
          "output_type": "stream",
          "name": "stderr",
          "text": [
            "Validation: 100%|██████████| 469/469 [00:22<00:00, 21.02it/s]\n"
          ]
        },
        {
          "output_type": "stream",
          "name": "stdout",
          "text": [
            "Validation Loss: 0.0633, Validation Accuracy: 98.36%\n",
            "Balanced Accuracy: 0.9835\n",
            "Tau: 0.8650\n",
            "\n",
            "Epoch 16/45\n"
          ]
        },
        {
          "output_type": "stream",
          "name": "stderr",
          "text": [
            "Training: 100%|██████████| 2188/2188 [03:13<00:00, 11.28it/s]\n"
          ]
        },
        {
          "output_type": "stream",
          "name": "stdout",
          "text": [
            "Train Loss: 0.0090, Train Accuracy: 99.72%\n",
            "Tau: 0.8560\n",
            "Each stage of block probabilities:\n",
            "stage1\n",
            "Block 0: 0.9999  \n",
            "Block 1: 0.0001  \n",
            "Block 2: 0.0000 *\n",
            "Block 3: 0.0000 *\n",
            "stage2\n",
            "Block 0: 0.2502  \n",
            "Block 1: 0.0307 *\n",
            "Block 2: 0.6963  \n",
            "Block 3: 0.0228 *\n"
          ]
        },
        {
          "output_type": "stream",
          "name": "stderr",
          "text": [
            "Validation: 100%|██████████| 469/469 [00:22<00:00, 21.14it/s]\n"
          ]
        },
        {
          "output_type": "stream",
          "name": "stdout",
          "text": [
            "Validation Loss: 0.0609, Validation Accuracy: 98.35%\n",
            "Balanced Accuracy: 0.9834\n",
            "Tau: 0.8560\n",
            "\n",
            "Epoch 17/45\n"
          ]
        },
        {
          "output_type": "stream",
          "name": "stderr",
          "text": [
            "Training: 100%|██████████| 2188/2188 [03:13<00:00, 11.31it/s]\n"
          ]
        },
        {
          "output_type": "stream",
          "name": "stdout",
          "text": [
            "Train Loss: 0.0082, Train Accuracy: 99.74%\n",
            "Tau: 0.8470\n",
            "Each stage of block probabilities:\n",
            "stage1\n",
            "Block 0: 0.9999  \n",
            "Block 1: 0.0001  \n",
            "Block 2: 0.0000 *\n",
            "Block 3: 0.0000 *\n",
            "stage2\n",
            "Block 0: 0.1951  \n",
            "Block 1: 0.0189 *\n",
            "Block 2: 0.7740  \n",
            "Block 3: 0.0120 *\n"
          ]
        },
        {
          "output_type": "stream",
          "name": "stderr",
          "text": [
            "Validation: 100%|██████████| 469/469 [00:22<00:00, 21.11it/s]\n"
          ]
        },
        {
          "output_type": "stream",
          "name": "stdout",
          "text": [
            "Validation Loss: 0.0567, Validation Accuracy: 98.49%\n",
            "Balanced Accuracy: 0.9852\n",
            "Tau: 0.8470\n",
            "\n",
            "Epoch 18/45\n"
          ]
        },
        {
          "output_type": "stream",
          "name": "stderr",
          "text": [
            "Training: 100%|██████████| 2188/2188 [03:13<00:00, 11.29it/s]\n"
          ]
        },
        {
          "output_type": "stream",
          "name": "stdout",
          "text": [
            "Train Loss: 0.0089, Train Accuracy: 99.70%\n",
            "Tau: 0.8380\n",
            "Each stage of block probabilities:\n",
            "stage1\n",
            "Block 0: 0.9999  \n",
            "Block 1: 0.0001  \n",
            "Block 2: 0.0000 *\n",
            "Block 3: 0.0000 *\n",
            "stage2\n",
            "Block 0: 0.1740  \n",
            "Block 1: 0.0177 *\n",
            "Block 2: 0.7970  \n",
            "Block 3: 0.0113 *\n"
          ]
        },
        {
          "output_type": "stream",
          "name": "stderr",
          "text": [
            "Validation: 100%|██████████| 469/469 [00:22<00:00, 20.86it/s]\n"
          ]
        },
        {
          "output_type": "stream",
          "name": "stdout",
          "text": [
            "Validation Loss: 0.0548, Validation Accuracy: 98.60%\n",
            "Balanced Accuracy: 0.9864\n",
            "Tau: 0.8380\n",
            "\n",
            "Epoch 19/45\n"
          ]
        },
        {
          "output_type": "stream",
          "name": "stderr",
          "text": [
            "Training: 100%|██████████| 2188/2188 [03:13<00:00, 11.30it/s]\n"
          ]
        },
        {
          "output_type": "stream",
          "name": "stdout",
          "text": [
            "Train Loss: 0.0071, Train Accuracy: 99.77%\n",
            "Tau: 0.8290\n",
            "Each stage of block probabilities:\n",
            "stage1\n",
            "Block 0: 0.9999  \n",
            "Block 1: 0.0000  \n",
            "Block 2: 0.0000 *\n",
            "Block 3: 0.0000 *\n",
            "stage2\n",
            "Block 0: 0.1151  \n",
            "Block 1: 0.0152 *\n",
            "Block 2: 0.8605  \n",
            "Block 3: 0.0091 *\n"
          ]
        },
        {
          "output_type": "stream",
          "name": "stderr",
          "text": [
            "Validation: 100%|██████████| 469/469 [00:22<00:00, 20.99it/s]\n"
          ]
        },
        {
          "output_type": "stream",
          "name": "stdout",
          "text": [
            "Validation Loss: 0.0716, Validation Accuracy: 98.12%\n",
            "Balanced Accuracy: 0.9812\n",
            "Tau: 0.8290\n",
            "\n",
            "Epoch 20/45\n"
          ]
        },
        {
          "output_type": "stream",
          "name": "stderr",
          "text": [
            "Training: 100%|██████████| 2188/2188 [03:13<00:00, 11.30it/s]\n"
          ]
        },
        {
          "output_type": "stream",
          "name": "stdout",
          "text": [
            "Train Loss: 0.0063, Train Accuracy: 99.81%\n",
            "Tau: 0.8200\n",
            "Each stage of block probabilities:\n",
            "stage1\n",
            "Block 0: 0.9999  \n",
            "Block 1: 0.0000  \n",
            "Block 2: 0.0000 *\n",
            "Block 3: 0.0000 *\n",
            "stage2\n",
            "Block 0: 0.1698  \n",
            "Block 1: 0.0225 *\n",
            "Block 2: 0.7983  \n",
            "Block 3: 0.0094 *\n"
          ]
        },
        {
          "output_type": "stream",
          "name": "stderr",
          "text": [
            "Validation: 100%|██████████| 469/469 [00:22<00:00, 20.93it/s]\n"
          ]
        },
        {
          "output_type": "stream",
          "name": "stdout",
          "text": [
            "Validation Loss: 0.0557, Validation Accuracy: 98.62%\n",
            "Balanced Accuracy: 0.9864\n",
            "Tau: 0.8200\n",
            "\n",
            "Epoch 21/45\n"
          ]
        },
        {
          "output_type": "stream",
          "name": "stderr",
          "text": [
            "Training: 100%|██████████| 2188/2188 [03:13<00:00, 11.29it/s]\n"
          ]
        },
        {
          "output_type": "stream",
          "name": "stdout",
          "text": [
            "Train Loss: 0.0066, Train Accuracy: 99.79%\n",
            "Tau: 0.8110\n",
            "Each stage of block probabilities:\n",
            "stage1\n",
            "Block 0: 0.9999  \n",
            "Block 1: 0.0000  \n",
            "Block 2: 0.0000 *\n",
            "Block 3: 0.0000 *\n",
            "stage2\n",
            "Block 0: 0.1241  \n",
            "Block 1: 0.0132 *\n",
            "Block 2: 0.8563  \n",
            "Block 3: 0.0063 *\n"
          ]
        },
        {
          "output_type": "stream",
          "name": "stderr",
          "text": [
            "Validation: 100%|██████████| 469/469 [00:22<00:00, 20.91it/s]\n"
          ]
        },
        {
          "output_type": "stream",
          "name": "stdout",
          "text": [
            "Validation Loss: 0.0543, Validation Accuracy: 98.53%\n",
            "Balanced Accuracy: 0.9851\n",
            "Tau: 0.8110\n",
            "\n",
            "Epoch 22/45\n"
          ]
        },
        {
          "output_type": "stream",
          "name": "stderr",
          "text": [
            "Training: 100%|██████████| 2188/2188 [03:13<00:00, 11.33it/s]\n"
          ]
        },
        {
          "output_type": "stream",
          "name": "stdout",
          "text": [
            "Train Loss: 0.0052, Train Accuracy: 99.84%\n",
            "Tau: 0.8020\n",
            "Each stage of block probabilities:\n",
            "stage1\n",
            "Block 0: 0.9999  \n",
            "Block 1: 0.0000  \n",
            "Block 2: 0.0000 *\n",
            "Block 3: 0.0000 *\n",
            "stage2\n",
            "Block 0: 0.1050  \n",
            "Block 1: 0.0104 *\n",
            "Block 2: 0.8789  \n",
            "Block 3: 0.0057 *\n"
          ]
        },
        {
          "output_type": "stream",
          "name": "stderr",
          "text": [
            "Validation: 100%|██████████| 469/469 [00:22<00:00, 20.97it/s]\n"
          ]
        },
        {
          "output_type": "stream",
          "name": "stdout",
          "text": [
            "Validation Loss: 0.0584, Validation Accuracy: 98.49%\n",
            "Balanced Accuracy: 0.9849\n",
            "Tau: 0.8020\n",
            "\n",
            "Epoch 23/45\n"
          ]
        },
        {
          "output_type": "stream",
          "name": "stderr",
          "text": [
            "Training: 100%|██████████| 2188/2188 [03:13<00:00, 11.31it/s]\n"
          ]
        },
        {
          "output_type": "stream",
          "name": "stdout",
          "text": [
            "Train Loss: 0.0063, Train Accuracy: 99.80%\n",
            "Tau: 0.7930\n",
            "Each stage of block probabilities:\n",
            "stage1\n",
            "Block 0: 0.9999  \n",
            "Block 1: 0.0000  \n",
            "Block 2: 0.0000 *\n",
            "Block 3: 0.0000 *\n",
            "stage2\n",
            "Block 0: 0.1324  \n",
            "Block 1: 0.0120 *\n",
            "Block 2: 0.8512  \n",
            "Block 3: 0.0044 *\n"
          ]
        },
        {
          "output_type": "stream",
          "name": "stderr",
          "text": [
            "Validation: 100%|██████████| 469/469 [00:22<00:00, 20.76it/s]\n"
          ]
        },
        {
          "output_type": "stream",
          "name": "stdout",
          "text": [
            "Validation Loss: 0.0570, Validation Accuracy: 98.58%\n",
            "Balanced Accuracy: 0.9861\n",
            "Tau: 0.7930\n",
            "\n",
            "Epoch 24/45\n"
          ]
        },
        {
          "output_type": "stream",
          "name": "stderr",
          "text": [
            "Training: 100%|██████████| 2188/2188 [03:13<00:00, 11.30it/s]\n"
          ]
        },
        {
          "output_type": "stream",
          "name": "stdout",
          "text": [
            "Train Loss: 0.0049, Train Accuracy: 99.84%\n",
            "Tau: 0.7840\n",
            "Each stage of block probabilities:\n",
            "stage1\n",
            "Block 0: 0.9999  \n",
            "Block 1: 0.0000  \n",
            "Block 2: 0.0000 *\n",
            "Block 3: 0.0000 *\n",
            "stage2\n",
            "Block 0: 0.1096  \n",
            "Block 1: 0.0113 *\n",
            "Block 2: 0.8752  \n",
            "Block 3: 0.0038 *\n"
          ]
        },
        {
          "output_type": "stream",
          "name": "stderr",
          "text": [
            "Validation: 100%|██████████| 469/469 [00:22<00:00, 21.07it/s]\n"
          ]
        },
        {
          "output_type": "stream",
          "name": "stdout",
          "text": [
            "Validation Loss: 0.0555, Validation Accuracy: 98.67%\n",
            "Balanced Accuracy: 0.9866\n",
            "Tau: 0.7840\n",
            "\n",
            "Epoch 25/45\n"
          ]
        },
        {
          "output_type": "stream",
          "name": "stderr",
          "text": [
            "Training: 100%|██████████| 2188/2188 [03:13<00:00, 11.31it/s]\n"
          ]
        },
        {
          "output_type": "stream",
          "name": "stdout",
          "text": [
            "Train Loss: 0.0056, Train Accuracy: 99.83%\n",
            "Tau: 0.7750\n",
            "Each stage of block probabilities:\n",
            "stage1\n",
            "Block 0: 0.9999  \n",
            "Block 1: 0.0001  \n",
            "Block 2: 0.0000 *\n",
            "Block 3: 0.0000 *\n",
            "stage2\n",
            "Block 0: 0.1536  \n",
            "Block 1: 0.0130 *\n",
            "Block 2: 0.8295  \n",
            "Block 3: 0.0039 *\n"
          ]
        },
        {
          "output_type": "stream",
          "name": "stderr",
          "text": [
            "Validation: 100%|██████████| 469/469 [00:22<00:00, 21.02it/s]\n"
          ]
        },
        {
          "output_type": "stream",
          "name": "stdout",
          "text": [
            "Validation Loss: 0.0694, Validation Accuracy: 98.31%\n",
            "Balanced Accuracy: 0.9836\n",
            "Tau: 0.7750\n",
            "\n",
            "Epoch 26/45\n"
          ]
        },
        {
          "output_type": "stream",
          "name": "stderr",
          "text": [
            "Training: 100%|██████████| 2188/2188 [03:14<00:00, 11.25it/s]\n"
          ]
        },
        {
          "output_type": "stream",
          "name": "stdout",
          "text": [
            "Train Loss: 0.0041, Train Accuracy: 99.88%\n",
            "Tau: 0.7660\n",
            "Each stage of block probabilities:\n",
            "stage1\n",
            "Block 0: 0.9999  \n",
            "Block 1: 0.0000  \n",
            "Block 2: 0.0000 *\n",
            "Block 3: 0.0000 *\n",
            "stage2\n",
            "Block 0: 0.0964  \n",
            "Block 1: 0.0077 *\n",
            "Block 2: 0.8937  \n",
            "Block 3: 0.0023 *\n"
          ]
        },
        {
          "output_type": "stream",
          "name": "stderr",
          "text": [
            "Validation: 100%|██████████| 469/469 [00:22<00:00, 20.95it/s]\n"
          ]
        },
        {
          "output_type": "stream",
          "name": "stdout",
          "text": [
            "Validation Loss: 0.0557, Validation Accuracy: 98.75%\n",
            "Balanced Accuracy: 0.9876\n",
            "Tau: 0.7660\n",
            "\n",
            "Epoch 27/45\n"
          ]
        },
        {
          "output_type": "stream",
          "name": "stderr",
          "text": [
            "Training: 100%|██████████| 2188/2188 [03:13<00:00, 11.31it/s]\n"
          ]
        },
        {
          "output_type": "stream",
          "name": "stdout",
          "text": [
            "Train Loss: 0.0049, Train Accuracy: 99.84%\n",
            "Tau: 0.7570\n",
            "Each stage of block probabilities:\n",
            "stage1\n",
            "Block 0: 0.9999  \n",
            "Block 1: 0.0000  \n",
            "Block 2: 0.0000 *\n",
            "Block 3: 0.0000 *\n",
            "stage2\n",
            "Block 0: 0.1123  \n",
            "Block 1: 0.0069 *\n",
            "Block 2: 0.8785  \n",
            "Block 3: 0.0022 *\n"
          ]
        },
        {
          "output_type": "stream",
          "name": "stderr",
          "text": [
            "Validation: 100%|██████████| 469/469 [00:22<00:00, 21.06it/s]\n"
          ]
        },
        {
          "output_type": "stream",
          "name": "stdout",
          "text": [
            "Validation Loss: 0.0610, Validation Accuracy: 98.49%\n",
            "Balanced Accuracy: 0.9851\n",
            "Tau: 0.7570\n",
            "\n",
            "Epoch 28/45\n"
          ]
        },
        {
          "output_type": "stream",
          "name": "stderr",
          "text": [
            "Training: 100%|██████████| 2188/2188 [03:13<00:00, 11.29it/s]\n"
          ]
        },
        {
          "output_type": "stream",
          "name": "stdout",
          "text": [
            "Train Loss: 0.0053, Train Accuracy: 99.85%\n",
            "Tau: 0.7480\n",
            "Each stage of block probabilities:\n",
            "stage1\n",
            "Block 0: 0.9999  \n",
            "Block 1: 0.0000  \n",
            "Block 2: 0.0000 *\n",
            "Block 3: 0.0000 *\n",
            "stage2\n",
            "Block 0: 0.1343  \n",
            "Block 1: 0.0088 *\n",
            "Block 2: 0.8542  \n",
            "Block 3: 0.0027 *\n"
          ]
        },
        {
          "output_type": "stream",
          "name": "stderr",
          "text": [
            "Validation: 100%|██████████| 469/469 [00:22<00:00, 20.76it/s]\n"
          ]
        },
        {
          "output_type": "stream",
          "name": "stdout",
          "text": [
            "Validation Loss: 0.0563, Validation Accuracy: 98.62%\n",
            "Balanced Accuracy: 0.9857\n",
            "Tau: 0.7480\n",
            "\n",
            "Epoch 29/45\n"
          ]
        },
        {
          "output_type": "stream",
          "name": "stderr",
          "text": [
            "Training: 100%|██████████| 2188/2188 [03:13<00:00, 11.29it/s]\n"
          ]
        },
        {
          "output_type": "stream",
          "name": "stdout",
          "text": [
            "Train Loss: 0.0049, Train Accuracy: 99.84%\n",
            "Tau: 0.7390\n",
            "Each stage of block probabilities:\n",
            "stage1\n",
            "Block 0: 0.9999  \n",
            "Block 1: 0.0000  \n",
            "Block 2: 0.0000 *\n",
            "Block 3: 0.0000 *\n",
            "stage2\n",
            "Block 0: 0.1216  \n",
            "Block 1: 0.0049 *\n",
            "Block 2: 0.8716  \n",
            "Block 3: 0.0019 *\n"
          ]
        },
        {
          "output_type": "stream",
          "name": "stderr",
          "text": [
            "Validation: 100%|██████████| 469/469 [00:22<00:00, 20.89it/s]\n"
          ]
        },
        {
          "output_type": "stream",
          "name": "stdout",
          "text": [
            "Validation Loss: 0.0608, Validation Accuracy: 98.72%\n",
            "Balanced Accuracy: 0.9868\n",
            "Tau: 0.7390\n",
            "\n",
            "Epoch 30/45\n"
          ]
        },
        {
          "output_type": "stream",
          "name": "stderr",
          "text": [
            "Training: 100%|██████████| 2188/2188 [03:13<00:00, 11.31it/s]\n"
          ]
        },
        {
          "output_type": "stream",
          "name": "stdout",
          "text": [
            "Train Loss: 0.0032, Train Accuracy: 99.91%\n",
            "Tau: 0.7300\n",
            "Each stage of block probabilities:\n",
            "stage1\n",
            "Block 0: 0.9999  \n",
            "Block 1: 0.0000  \n",
            "Block 2: 0.0000 *\n",
            "Block 3: 0.0000 *\n",
            "stage2\n",
            "Block 0: 0.0878  \n",
            "Block 1: 0.0045 *\n",
            "Block 2: 0.9064  \n",
            "Block 3: 0.0013 *\n"
          ]
        },
        {
          "output_type": "stream",
          "name": "stderr",
          "text": [
            "Validation: 100%|██████████| 469/469 [00:22<00:00, 21.01it/s]\n"
          ]
        },
        {
          "output_type": "stream",
          "name": "stdout",
          "text": [
            "Validation Loss: 0.0606, Validation Accuracy: 98.58%\n",
            "Balanced Accuracy: 0.9856\n",
            "Tau: 0.7300\n",
            "\n",
            "Epoch 31/45\n"
          ]
        },
        {
          "output_type": "stream",
          "name": "stderr",
          "text": [
            "Training: 100%|██████████| 2188/2188 [03:14<00:00, 11.27it/s]\n"
          ]
        },
        {
          "output_type": "stream",
          "name": "stdout",
          "text": [
            "Train Loss: 0.0046, Train Accuracy: 99.85%\n",
            "Tau: 0.7210\n",
            "Each stage of block probabilities:\n",
            "stage1\n",
            "Block 0: 0.9999  \n",
            "Block 1: 0.0000  \n",
            "Block 2: 0.0000 *\n",
            "Block 3: 0.0000 *\n",
            "stage2\n",
            "Block 0: 0.0702  \n",
            "Block 1: 0.0039 *\n",
            "Block 2: 0.9247  \n",
            "Block 3: 0.0012 *\n"
          ]
        },
        {
          "output_type": "stream",
          "name": "stderr",
          "text": [
            "Validation: 100%|██████████| 469/469 [00:22<00:00, 21.04it/s]\n"
          ]
        },
        {
          "output_type": "stream",
          "name": "stdout",
          "text": [
            "Validation Loss: 0.0604, Validation Accuracy: 98.70%\n",
            "Balanced Accuracy: 0.9871\n",
            "Tau: 0.7210\n",
            "\n",
            "Epoch 32/45\n"
          ]
        },
        {
          "output_type": "stream",
          "name": "stderr",
          "text": [
            "Training: 100%|██████████| 2188/2188 [03:13<00:00, 11.30it/s]\n"
          ]
        },
        {
          "output_type": "stream",
          "name": "stdout",
          "text": [
            "Train Loss: 0.0038, Train Accuracy: 99.89%\n",
            "Tau: 0.7120\n",
            "Each stage of block probabilities:\n",
            "stage1\n",
            "Block 0: 0.9999  \n",
            "Block 1: 0.0000  \n",
            "Block 2: 0.0000 *\n",
            "Block 3: 0.0000 *\n",
            "stage2\n",
            "Block 0: 0.0589  \n",
            "Block 1: 0.0033 *\n",
            "Block 2: 0.9367  \n",
            "Block 3: 0.0011 *\n"
          ]
        },
        {
          "output_type": "stream",
          "name": "stderr",
          "text": [
            "Validation: 100%|██████████| 469/469 [00:22<00:00, 20.93it/s]\n"
          ]
        },
        {
          "output_type": "stream",
          "name": "stdout",
          "text": [
            "Validation Loss: 0.0569, Validation Accuracy: 98.71%\n",
            "Balanced Accuracy: 0.9869\n",
            "Tau: 0.7120\n",
            "\n",
            "Epoch 33/45\n"
          ]
        },
        {
          "output_type": "stream",
          "name": "stderr",
          "text": [
            "Training: 100%|██████████| 2188/2188 [03:14<00:00, 11.27it/s]\n"
          ]
        },
        {
          "output_type": "stream",
          "name": "stdout",
          "text": [
            "Train Loss: 0.0042, Train Accuracy: 99.88%\n",
            "Tau: 0.7030\n",
            "Each stage of block probabilities:\n",
            "stage1\n",
            "Block 0: 0.9999  \n",
            "Block 1: 0.0000  \n",
            "Block 2: 0.0000 *\n",
            "Block 3: 0.0000 *\n",
            "stage2\n",
            "Block 0: 0.1081  \n",
            "Block 1: 0.0043 *\n",
            "Block 2: 0.8861  \n",
            "Block 3: 0.0014 *\n"
          ]
        },
        {
          "output_type": "stream",
          "name": "stderr",
          "text": [
            "Validation: 100%|██████████| 469/469 [00:22<00:00, 20.88it/s]\n"
          ]
        },
        {
          "output_type": "stream",
          "name": "stdout",
          "text": [
            "Validation Loss: 0.0550, Validation Accuracy: 98.81%\n",
            "Balanced Accuracy: 0.9877\n",
            "Tau: 0.7030\n",
            "\n",
            "Epoch 34/45\n"
          ]
        },
        {
          "output_type": "stream",
          "name": "stderr",
          "text": [
            "Training: 100%|██████████| 2188/2188 [03:13<00:00, 11.30it/s]\n"
          ]
        },
        {
          "output_type": "stream",
          "name": "stdout",
          "text": [
            "Train Loss: 0.0044, Train Accuracy: 99.87%\n",
            "Tau: 0.6940\n",
            "Each stage of block probabilities:\n",
            "stage1\n",
            "Block 0: 0.9999  \n",
            "Block 1: 0.0000  \n",
            "Block 2: 0.0000 *\n",
            "Block 3: 0.0000 *\n",
            "stage2\n",
            "Block 0: 0.0683  \n",
            "Block 1: 0.0038 *\n",
            "Block 2: 0.9264  \n",
            "Block 3: 0.0014 *\n"
          ]
        },
        {
          "output_type": "stream",
          "name": "stderr",
          "text": [
            "Validation: 100%|██████████| 469/469 [00:22<00:00, 21.11it/s]\n"
          ]
        },
        {
          "output_type": "stream",
          "name": "stdout",
          "text": [
            "Validation Loss: 0.0548, Validation Accuracy: 98.85%\n",
            "Balanced Accuracy: 0.9883\n",
            "Tau: 0.6940\n",
            "\n",
            "Epoch 35/45\n"
          ]
        },
        {
          "output_type": "stream",
          "name": "stderr",
          "text": [
            "Training: 100%|██████████| 2188/2188 [03:13<00:00, 11.30it/s]\n"
          ]
        },
        {
          "output_type": "stream",
          "name": "stdout",
          "text": [
            "Train Loss: 0.0028, Train Accuracy: 99.92%\n",
            "Tau: 0.6850\n",
            "Each stage of block probabilities:\n",
            "stage1\n",
            "Block 0: 0.9999  \n",
            "Block 1: 0.0000  \n",
            "Block 2: 0.0000 *\n",
            "Block 3: 0.0000 *\n",
            "stage2\n",
            "Block 0: 0.0487  \n",
            "Block 1: 0.0025 *\n",
            "Block 2: 0.9477  \n",
            "Block 3: 0.0011 *\n"
          ]
        },
        {
          "output_type": "stream",
          "name": "stderr",
          "text": [
            "Validation: 100%|██████████| 469/469 [00:22<00:00, 21.06it/s]\n"
          ]
        },
        {
          "output_type": "stream",
          "name": "stdout",
          "text": [
            "Validation Loss: 0.0594, Validation Accuracy: 98.80%\n",
            "Balanced Accuracy: 0.9880\n",
            "Tau: 0.6850\n",
            "\n",
            "Epoch 36/45\n"
          ]
        },
        {
          "output_type": "stream",
          "name": "stderr",
          "text": [
            "Training: 100%|██████████| 2188/2188 [03:13<00:00, 11.30it/s]\n"
          ]
        },
        {
          "output_type": "stream",
          "name": "stdout",
          "text": [
            "Train Loss: 0.0041, Train Accuracy: 99.87%\n",
            "Tau: 0.6760\n",
            "Each stage of block probabilities:\n",
            "stage1\n",
            "Block 0: 0.9999  \n",
            "Block 1: 0.0000  \n",
            "Block 2: 0.0000 *\n",
            "Block 3: 0.0000 *\n",
            "stage2\n",
            "Block 0: 0.0791  \n",
            "Block 1: 0.0033 *\n",
            "Block 2: 0.9165  \n",
            "Block 3: 0.0010 *\n"
          ]
        },
        {
          "output_type": "stream",
          "name": "stderr",
          "text": [
            "Validation: 100%|██████████| 469/469 [00:22<00:00, 20.82it/s]\n"
          ]
        },
        {
          "output_type": "stream",
          "name": "stdout",
          "text": [
            "Validation Loss: 0.0575, Validation Accuracy: 98.83%\n",
            "Balanced Accuracy: 0.9883\n",
            "Tau: 0.6760\n",
            "\n",
            "Epoch 37/45\n"
          ]
        },
        {
          "output_type": "stream",
          "name": "stderr",
          "text": [
            "Training: 100%|██████████| 2188/2188 [03:14<00:00, 11.22it/s]\n"
          ]
        },
        {
          "output_type": "stream",
          "name": "stdout",
          "text": [
            "Train Loss: 0.0027, Train Accuracy: 99.91%\n",
            "Tau: 0.6670\n",
            "Each stage of block probabilities:\n",
            "stage1\n",
            "Block 0: 0.9999  \n",
            "Block 1: 0.0000  \n",
            "Block 2: 0.0000 *\n",
            "Block 3: 0.0000 *\n",
            "stage2\n",
            "Block 0: 0.0545  \n",
            "Block 1: 0.0021 *\n",
            "Block 2: 0.9425  \n",
            "Block 3: 0.0009 *\n"
          ]
        },
        {
          "output_type": "stream",
          "name": "stderr",
          "text": [
            "Validation: 100%|██████████| 469/469 [00:22<00:00, 20.81it/s]\n"
          ]
        },
        {
          "output_type": "stream",
          "name": "stdout",
          "text": [
            "Validation Loss: 0.0668, Validation Accuracy: 98.76%\n",
            "Balanced Accuracy: 0.9876\n",
            "Tau: 0.6670\n",
            "\n",
            "Epoch 38/45\n"
          ]
        },
        {
          "output_type": "stream",
          "name": "stderr",
          "text": [
            "Training: 100%|██████████| 2188/2188 [03:14<00:00, 11.27it/s]\n"
          ]
        },
        {
          "output_type": "stream",
          "name": "stdout",
          "text": [
            "Train Loss: 0.0034, Train Accuracy: 99.90%\n",
            "Tau: 0.6580\n",
            "Each stage of block probabilities:\n",
            "stage1\n",
            "Block 0: 0.9999  \n",
            "Block 1: 0.0000  \n",
            "Block 2: 0.0000 *\n",
            "Block 3: 0.0000 *\n",
            "stage2\n",
            "Block 0: 0.0333  \n",
            "Block 1: 0.0015 *\n",
            "Block 2: 0.9645  \n",
            "Block 3: 0.0007 *\n"
          ]
        },
        {
          "output_type": "stream",
          "name": "stderr",
          "text": [
            "Validation: 100%|██████████| 469/469 [00:22<00:00, 20.88it/s]\n"
          ]
        },
        {
          "output_type": "stream",
          "name": "stdout",
          "text": [
            "Validation Loss: 0.0695, Validation Accuracy: 98.54%\n",
            "Balanced Accuracy: 0.9862\n",
            "Tau: 0.6580\n",
            "\n",
            "Epoch 39/45\n"
          ]
        },
        {
          "output_type": "stream",
          "name": "stderr",
          "text": [
            "Training: 100%|██████████| 2188/2188 [03:14<00:00, 11.27it/s]\n"
          ]
        },
        {
          "output_type": "stream",
          "name": "stdout",
          "text": [
            "Train Loss: 0.0044, Train Accuracy: 99.86%\n",
            "Tau: 0.6490\n",
            "Each stage of block probabilities:\n",
            "stage1\n",
            "Block 0: 0.9999  \n",
            "Block 1: 0.0000  \n",
            "Block 2: 0.0000 *\n",
            "Block 3: 0.0000 *\n",
            "stage2\n",
            "Block 0: 0.0150  \n",
            "Block 1: 0.0009 *\n",
            "Block 2: 0.9837  \n",
            "Block 3: 0.0004 *\n"
          ]
        },
        {
          "output_type": "stream",
          "name": "stderr",
          "text": [
            "Validation: 100%|██████████| 469/469 [00:22<00:00, 20.91it/s]\n"
          ]
        },
        {
          "output_type": "stream",
          "name": "stdout",
          "text": [
            "Validation Loss: 0.0624, Validation Accuracy: 98.80%\n",
            "Balanced Accuracy: 0.9880\n",
            "Tau: 0.6490\n",
            "\n",
            "Epoch 40/45\n"
          ]
        },
        {
          "output_type": "stream",
          "name": "stderr",
          "text": [
            "Training: 100%|██████████| 2188/2188 [03:13<00:00, 11.29it/s]\n"
          ]
        },
        {
          "output_type": "stream",
          "name": "stdout",
          "text": [
            "Train Loss: 0.0032, Train Accuracy: 99.90%\n",
            "Tau: 0.6400\n",
            "Each stage of block probabilities:\n",
            "stage1\n",
            "Block 0: 0.9999  \n",
            "Block 1: 0.0000  \n",
            "Block 2: 0.0000 *\n",
            "Block 3: 0.0000 *\n",
            "stage2\n",
            "Block 0: 0.0145  \n",
            "Block 1: 0.0008 *\n",
            "Block 2: 0.9843  \n",
            "Block 3: 0.0004 *\n"
          ]
        },
        {
          "output_type": "stream",
          "name": "stderr",
          "text": [
            "Validation: 100%|██████████| 469/469 [00:22<00:00, 20.91it/s]\n"
          ]
        },
        {
          "output_type": "stream",
          "name": "stdout",
          "text": [
            "Validation Loss: 0.0664, Validation Accuracy: 98.77%\n",
            "Balanced Accuracy: 0.9878\n",
            "Tau: 0.6400\n",
            "Model weights saved to HoViT_44_tinyfusion_base_r8a16_39.pth\n",
            "40 model test result:\n"
          ]
        },
        {
          "output_type": "stream",
          "name": "stderr",
          "text": [
            "Test: 100%|██████████| 469/469 [00:22<00:00, 20.89it/s]\n"
          ]
        },
        {
          "output_type": "stream",
          "name": "stdout",
          "text": [
            "Test Loss: 0.0732, Test Accuracy: 98.68%\n",
            "Balanced Accuracy: 0.9869\n",
            "Tau: 0.0000\n",
            "\n",
            "Epoch 41/45\n"
          ]
        },
        {
          "output_type": "stream",
          "name": "stderr",
          "text": [
            "Training: 100%|██████████| 2188/2188 [03:14<00:00, 11.25it/s]\n"
          ]
        },
        {
          "output_type": "stream",
          "name": "stdout",
          "text": [
            "Train Loss: 0.0023, Train Accuracy: 99.92%\n",
            "Tau: 0.6310\n",
            "Each stage of block probabilities:\n",
            "stage1\n",
            "Block 0: 0.9999  \n",
            "Block 1: 0.0000  \n",
            "Block 2: 0.0000 *\n",
            "Block 3: 0.0000 *\n",
            "stage2\n",
            "Block 0: 0.0096  \n",
            "Block 1: 0.0008 *\n",
            "Block 2: 0.9894  \n",
            "Block 3: 0.0002 *\n"
          ]
        },
        {
          "output_type": "stream",
          "name": "stderr",
          "text": [
            "Validation: 100%|██████████| 469/469 [00:22<00:00, 20.92it/s]\n"
          ]
        },
        {
          "output_type": "stream",
          "name": "stdout",
          "text": [
            "Validation Loss: 0.0580, Validation Accuracy: 98.85%\n",
            "Balanced Accuracy: 0.9889\n",
            "Tau: 0.6310\n",
            "\n",
            "Epoch 42/45\n"
          ]
        },
        {
          "output_type": "stream",
          "name": "stderr",
          "text": [
            "Training: 100%|██████████| 2188/2188 [03:14<00:00, 11.25it/s]\n"
          ]
        },
        {
          "output_type": "stream",
          "name": "stdout",
          "text": [
            "Train Loss: 0.0037, Train Accuracy: 99.87%\n",
            "Tau: 0.6220\n",
            "Each stage of block probabilities:\n",
            "stage1\n",
            "Block 0: 0.9999  \n",
            "Block 1: 0.0000  \n",
            "Block 2: 0.0000 *\n",
            "Block 3: 0.0000 *\n",
            "stage2\n",
            "Block 0: 0.0097  \n",
            "Block 1: 0.0009 *\n",
            "Block 2: 0.9892  \n",
            "Block 3: 0.0003 *\n"
          ]
        },
        {
          "output_type": "stream",
          "name": "stderr",
          "text": [
            "Validation: 100%|██████████| 469/469 [00:22<00:00, 20.80it/s]\n"
          ]
        },
        {
          "output_type": "stream",
          "name": "stdout",
          "text": [
            "Validation Loss: 0.0593, Validation Accuracy: 98.93%\n",
            "Balanced Accuracy: 0.9893\n",
            "Tau: 0.6220\n",
            "\n",
            "Epoch 43/45\n"
          ]
        },
        {
          "output_type": "stream",
          "name": "stderr",
          "text": [
            "Training: 100%|██████████| 2188/2188 [03:14<00:00, 11.27it/s]\n"
          ]
        },
        {
          "output_type": "stream",
          "name": "stdout",
          "text": [
            "Train Loss: 0.0035, Train Accuracy: 99.86%\n",
            "Tau: 0.6130\n",
            "Each stage of block probabilities:\n",
            "stage1\n",
            "Block 0: 0.9999  \n",
            "Block 1: 0.0000  \n",
            "Block 2: 0.0000 *\n",
            "Block 3: 0.0000 *\n",
            "stage2\n",
            "Block 0: 0.0332  \n",
            "Block 1: 0.0015 *\n",
            "Block 2: 0.9646  \n",
            "Block 3: 0.0007 *\n"
          ]
        },
        {
          "output_type": "stream",
          "name": "stderr",
          "text": [
            "Validation: 100%|██████████| 469/469 [00:22<00:00, 20.90it/s]\n"
          ]
        },
        {
          "output_type": "stream",
          "name": "stdout",
          "text": [
            "Validation Loss: 0.0721, Validation Accuracy: 98.77%\n",
            "Balanced Accuracy: 0.9878\n",
            "Tau: 0.6130\n",
            "\n",
            "Epoch 44/45\n"
          ]
        },
        {
          "output_type": "stream",
          "name": "stderr",
          "text": [
            "Training: 100%|██████████| 2188/2188 [03:14<00:00, 11.24it/s]\n"
          ]
        },
        {
          "output_type": "stream",
          "name": "stdout",
          "text": [
            "Train Loss: 0.0029, Train Accuracy: 99.90%\n",
            "Tau: 0.6040\n",
            "Each stage of block probabilities:\n",
            "stage1\n",
            "Block 0: 0.9999  \n",
            "Block 1: 0.0000  \n",
            "Block 2: 0.0000 *\n",
            "Block 3: 0.0000 *\n",
            "stage2\n",
            "Block 0: 0.0369  \n",
            "Block 1: 0.0012 *\n",
            "Block 2: 0.9611  \n",
            "Block 3: 0.0008 *\n"
          ]
        },
        {
          "output_type": "stream",
          "name": "stderr",
          "text": [
            "Validation: 100%|██████████| 469/469 [00:22<00:00, 20.83it/s]\n"
          ]
        },
        {
          "output_type": "stream",
          "name": "stdout",
          "text": [
            "Validation Loss: 0.0580, Validation Accuracy: 98.90%\n",
            "Balanced Accuracy: 0.9888\n",
            "Tau: 0.6040\n",
            "\n",
            "Epoch 45/45\n"
          ]
        },
        {
          "output_type": "stream",
          "name": "stderr",
          "text": [
            "Training: 100%|██████████| 2188/2188 [03:14<00:00, 11.26it/s]\n"
          ]
        },
        {
          "output_type": "stream",
          "name": "stdout",
          "text": [
            "Train Loss: 0.0025, Train Accuracy: 99.93%\n",
            "Tau: 0.5950\n",
            "Each stage of block probabilities:\n",
            "stage1\n",
            "Block 0: 0.9999  \n",
            "Block 1: 0.0000  \n",
            "Block 2: 0.0000 *\n",
            "Block 3: 0.0000 *\n",
            "stage2\n",
            "Block 0: 0.0214  \n",
            "Block 1: 0.0009 *\n",
            "Block 2: 0.9770  \n",
            "Block 3: 0.0006 *\n"
          ]
        },
        {
          "output_type": "stream",
          "name": "stderr",
          "text": [
            "Validation: 100%|██████████| 469/469 [00:22<00:00, 20.87it/s]"
          ]
        },
        {
          "output_type": "stream",
          "name": "stdout",
          "text": [
            "Validation Loss: 0.0551, Validation Accuracy: 99.03%\n",
            "Balanced Accuracy: 0.9902\n",
            "Tau: 0.5950\n"
          ]
        },
        {
          "output_type": "stream",
          "name": "stderr",
          "text": [
            "\n"
          ]
        }
      ]
    },
    {
      "cell_type": "code",
      "execution_count": 477,
      "metadata": {
        "id": "yq3Yxnau6V3e",
        "colab": {
          "base_uri": "https://localhost:8080/"
        },
        "outputId": "bcf19e9f-9951-4ecc-e560-114cd158581b"
      },
      "outputs": [
        {
          "output_type": "stream",
          "name": "stdout",
          "text": [
            "\n",
            "Final Test Evaluation\n"
          ]
        },
        {
          "output_type": "stream",
          "name": "stderr",
          "text": [
            "Test: 100%|██████████| 469/469 [00:22<00:00, 21.15it/s]"
          ]
        },
        {
          "output_type": "stream",
          "name": "stdout",
          "text": [
            "Test Loss: 0.0639, Test Accuracy: 98.83%\n",
            "Balanced Accuracy: 0.9884\n",
            "Tau: 0.0000\n"
          ]
        },
        {
          "output_type": "stream",
          "name": "stderr",
          "text": [
            "\n"
          ]
        }
      ],
      "source": [
        "print(\"\\nFinal Test Evaluation\")\n",
        "evaluate(model,test_loader, criterion, device, phase=\"Test\")"
      ]
    },
    {
      "cell_type": "code",
      "execution_count": 478,
      "metadata": {
        "id": "dlazeL-a0WTt",
        "colab": {
          "base_uri": "https://localhost:8080/"
        },
        "outputId": "24f1567a-6fbd-4f4a-f151-23c912406a8a"
      },
      "outputs": [
        {
          "output_type": "stream",
          "name": "stdout",
          "text": [
            "Inference Time Measurement Results:\n",
            "Total Inferences: 469\n",
            "Average Time: 7.81 ms\n",
            "Standard Deviation: 0.43 ms\n",
            "Maximum Time: 13.19 ms\n",
            "Minimum Time: 7.36 ms\n"
          ]
        }
      ],
      "source": [
        "times = measure_inference_time(model, test_loader, device)"
      ]
    },
    {
      "cell_type": "code",
      "execution_count": 479,
      "metadata": {
        "id": "c77rmtOz0XuA",
        "colab": {
          "base_uri": "https://localhost:8080/"
        },
        "outputId": "fc84f645-6aee-4325-de6c-313ae4d56902"
      },
      "outputs": [
        {
          "output_type": "stream",
          "name": "stdout",
          "text": [
            "-------------------------------------------------------  ------------  ------------  ------------  ------------  ------------  ------------  ------------  ------------  ------------  ------------  \n",
            "                                                   Name    Self CPU %      Self CPU   CPU total %     CPU total  CPU time avg     Self CUDA   Self CUDA %    CUDA total  CUDA time avg    # of Calls  \n",
            "-------------------------------------------------------  ------------  ------------  ------------  ------------  ------------  ------------  ------------  ------------  ------------  ------------  \n",
            "                                 ampere_sgemm_32x128_tn         0.00%       0.000us         0.00%       0.000us       0.000us     409.565us        12.07%     409.565us      45.507us             9  \n",
            "                                ampere_sgemm_128x128_nn         0.00%       0.000us         0.00%       0.000us       0.000us     246.494us         7.27%     246.494us     123.247us             2  \n",
            "void cudnn::engines_precompiled::nchwToNhwcKernel<fl...         0.00%       0.000us         0.00%       0.000us       0.000us     205.503us         6.06%     205.503us      20.550us            10  \n",
            "void cudnn::bn_fw_inf_1C11_kernel_NCHW<float, float,...         0.00%       0.000us         0.00%       0.000us       0.000us     200.957us         5.92%     200.957us      40.191us             5  \n",
            "                                 ampere_sgemm_128x64_tn         0.00%       0.000us         0.00%       0.000us       0.000us     194.751us         5.74%     194.751us      97.375us             2  \n",
            "void at::native::elementwise_kernel<128, 2, at::nati...         0.00%       0.000us         0.00%       0.000us       0.000us     176.288us         5.20%     176.288us      14.691us            12  \n",
            "void at::native::vectorized_elementwise_kernel<4, at...         0.00%       0.000us         0.00%       0.000us       0.000us     156.671us         4.62%     156.671us      19.584us             8  \n",
            "                        ampere_sgemm_32x32_sliced1x4_tn         0.00%       0.000us         0.00%       0.000us       0.000us     152.894us         4.51%     152.894us      15.289us            10  \n",
            "void at::native::vectorized_elementwise_kernel<4, at...         0.00%       0.000us         0.00%       0.000us       0.000us     147.777us         4.36%     147.777us       9.236us            16  \n",
            "                        ampere_sgemm_64x32_sliced1x4_tn         0.00%       0.000us         0.00%       0.000us       0.000us     145.343us         4.28%     145.343us      72.671us             2  \n",
            "-------------------------------------------------------  ------------  ------------  ------------  ------------  ------------  ------------  ------------  ------------  ------------  ------------  \n",
            "Self CPU time total: 12.294ms\n",
            "Self CUDA time total: 3.392ms\n",
            "\n"
          ]
        }
      ],
      "source": [
        "from torch import profiler\n",
        "\n",
        "dummy_input = torch.randn(32, 3, 224, 224).cuda()\n",
        "\n",
        "# Profiling inference\n",
        "with profiler.profile(\n",
        "    activities=[\n",
        "       profiler.ProfilerActivity.CPU,\n",
        "        profiler.ProfilerActivity.CUDA,  # Include if using GPU\n",
        "    ],\n",
        "    on_trace_ready=profiler.tensorboard_trace_handler(\"./logs\"),  # Optional logging\n",
        "    record_shapes=True,\n",
        "    with_stack=True\n",
        ") as prof:\n",
        "    with torch.no_grad():\n",
        "        model(dummy_input, tau=0.1)\n",
        "\n",
        "\n",
        "# Print results\n",
        "print(prof.key_averages().table(sort_by=\"cuda_time_total\" if torch.cuda.is_available() else \"cpu_time_total\", row_limit=10))"
      ]
    },
    {
      "cell_type": "code",
      "execution_count": 480,
      "metadata": {
        "id": "jXvKsupvZYjZ"
      },
      "outputs": [],
      "source": [
        "from sklearn.metrics import f1_score, recall_score, precision_score, roc_curve, auc\n",
        "import torch\n",
        "import numpy as np\n",
        "from tqdm import tqdm\n",
        "\n",
        "\n",
        "def score_evaluate(model, data_loader, criterion, device, phase=\"Validation\"):\n",
        "    model.eval()\n",
        "    running_loss = 0.0\n",
        "    correct = 0\n",
        "    total = 0\n",
        "\n",
        "    all_labels = []\n",
        "    all_preds = []\n",
        "\n",
        "    with torch.no_grad():\n",
        "        for inputs, labels in tqdm(data_loader, desc=f\"{phase}\"):\n",
        "            inputs, labels = inputs.to(device), labels.to(device) # move tensors to device\n",
        "            outputs = model(inputs, tau=0.1)\n",
        "            loss = criterion(outputs, labels)\n",
        "\n",
        "            running_loss += loss.item()\n",
        "            _, predicted = torch.max(outputs, 1)\n",
        "            total += labels.size(0)\n",
        "            correct += (predicted == labels).sum().item()\n",
        "\n",
        "            all_labels.extend(labels.cpu().numpy())\n",
        "            all_preds.extend(predicted.cpu().numpy())\n",
        "\n",
        "    overall_f1 = f1_score(all_labels, all_preds, average=\"macro\")\n",
        "    overall_recall = recall_score(all_labels, all_preds, average=\"macro\")\n",
        "    overall_precision = precision_score(all_labels, all_preds, average=\"macro\")\n",
        "\n",
        "    f1_per_class = f1_score(all_labels, all_preds, average=None)\n",
        "    recall_per_class = recall_score(all_labels, all_preds, average=None)\n",
        "    precision_per_class = precision_score(all_labels, all_preds, average=None)\n",
        "    class_labels = sorted(set(all_labels))\n",
        "\n",
        "    epoch_loss = running_loss / len(data_loader)\n",
        "    accuracy = 100 * correct / total\n",
        "    print(f\"{phase} Loss: {epoch_loss:.4f}, {phase} Accuracy: {accuracy:.2f}%\")\n",
        "\n",
        "\n",
        "    print(f\"Overall - F1: {overall_f1:.4f}, Recall: {overall_recall:.4f}, Precision: {overall_precision:.4f}\")\n",
        "    print(\"Per-Class Metrics:\")\n",
        "    for i, label in enumerate(class_labels):\n",
        "        print(f\"Class {label} - F1: {f1_per_class[i]:.4f}, Recall: {recall_per_class[i]:.4f}, Precision: {precision_per_class[i]:.4f}\")\n",
        "\n",
        "    return overall_f1, overall_recall, overall_precision, f1_per_class, recall_per_class, precision_per_class"
      ]
    },
    {
      "cell_type": "code",
      "execution_count": 481,
      "metadata": {
        "id": "oe9DO2tS-BpI"
      },
      "outputs": [],
      "source": [
        "from sklearn.preprocessing import label_binarize\n",
        "\n",
        "def roc_auc(model, data_loader, device, num_classes):\n",
        "\n",
        "    y = [\"F1\", \"Precision\", \"Recall\"]\n",
        "\n",
        "    model.eval()\n",
        "    all_labels = []\n",
        "    all_scores = []\n",
        "\n",
        "    with torch.no_grad():\n",
        "        for inputs, labels in tqdm(data_loader, desc=\"ROC AUC\"):\n",
        "            inputs, labels = inputs.to(device), labels.to(device)\n",
        "            outputs = model(inputs)\n",
        "            _, predicted = torch.max(outputs, 1)\n",
        "            all_labels.extend(labels.cpu().numpy())\n",
        "            all_scores.extend(outputs.cpu().numpy())\n",
        "\n",
        "    all_labels = label_binarize(all_labels, classes=list(range(num_classes)))\n",
        "    print(f\"Binarized all_labels shape: {all_labels.shape}\")\n",
        "    print(f\"All_scores shape: {np.array(all_scores).shape}\")\n",
        "\n",
        "    fpr, tpr, _ = roc_curve(all_labels.ravel(), np.array(all_scores).ravel())\n",
        "    roc_auc_value = auc(fpr, tpr)\n",
        "\n",
        "    plt.figure(figsize=(9, 7))\n",
        "    plt.plot(fpr, tpr, color='darkorange', lw=2, label=f'ROC curve (area = {roc_auc_value:0.4f})')\n",
        "    plt.plot([0, 1], [0, 1], color='navy', lw=2, linestyle='--')\n",
        "    plt.xlim([0.0, 1.0])\n",
        "    plt.ylim([0.0, 1.05])\n",
        "    plt.xlabel('False Positive Rate')\n",
        "    plt.ylabel('True Positive Rate')\n",
        "    plt.title('Receiver Operating Characteristic (ROC) Curve')\n",
        "    plt.legend(loc=\"lower right\")\n",
        "    plt.show()\n",
        "\n",
        "    print(f\"Overall ROC AUC: {roc_auc_value:.4f}\")\n",
        "\n",
        "    return fpr, tpr, roc_auc_value"
      ]
    },
    {
      "cell_type": "code",
      "source": [
        "overall_f1, overall_recall, overall_precision, f1_per_class, recall_per_class, precision_per_class = score_evaluate(model, test_loader, criterion, device, phase=\"Test\")"
      ],
      "metadata": {
        "colab": {
          "base_uri": "https://localhost:8080/"
        },
        "id": "x_moDYMWp3KH",
        "outputId": "b76edc24-b848-4321-efb4-1e785b553099"
      },
      "execution_count": 482,
      "outputs": [
        {
          "output_type": "stream",
          "name": "stderr",
          "text": [
            "Test: 100%|██████████| 469/469 [00:22<00:00, 20.88it/s]"
          ]
        },
        {
          "output_type": "stream",
          "name": "stdout",
          "text": [
            "Test Loss: 0.0743, Test Accuracy: 98.83%\n",
            "Overall - F1: 0.9881, Recall: 0.9884, Precision: 0.9878\n",
            "Per-Class Metrics:\n",
            "Class 0 - F1: 0.9968, Recall: 0.9968, Precision: 0.9968\n",
            "Class 1 - F1: 0.9975, Recall: 0.9968, Precision: 0.9981\n",
            "Class 2 - F1: 0.9843, Recall: 0.9832, Precision: 0.9855\n",
            "Class 3 - F1: 0.9963, Recall: 0.9983, Precision: 0.9943\n",
            "Class 4 - F1: 0.9825, Recall: 0.9895, Precision: 0.9756\n",
            "Class 5 - F1: 0.9918, Recall: 0.9887, Precision: 0.9950\n",
            "Class 6 - F1: 0.9836, Recall: 0.9802, Precision: 0.9870\n",
            "Class 7 - F1: 0.9740, Recall: 0.9796, Precision: 0.9685\n",
            "Class 8 - F1: 0.9860, Recall: 0.9823, Precision: 0.9897\n"
          ]
        },
        {
          "output_type": "stream",
          "name": "stderr",
          "text": [
            "\n"
          ]
        }
      ]
    },
    {
      "cell_type": "code",
      "execution_count": null,
      "metadata": {
        "id": "xbSpMMWGk3bf",
        "colab": {
          "base_uri": "https://localhost:8080/"
        },
        "outputId": "02cf03f4-12de-46db-a819-f672e15980cb"
      },
      "outputs": [
        {
          "output_type": "stream",
          "name": "stdout",
          "text": [
            "--2025-02-27 09:06:41--  https://zenodo.org/records/1214456/files/CRC-VAL-HE-7K.zip\n",
            "Resolving zenodo.org (zenodo.org)... 188.185.43.25, 188.185.45.92, 188.185.48.194, ...\n",
            "Connecting to zenodo.org (zenodo.org)|188.185.43.25|:443... connected.\n",
            "HTTP request sent, awaiting response... 200 OK\n",
            "Length: 800276929 (763M) [application/octet-stream]\n",
            "Saving to: ‘CRC-VAL-HE-7K.zip’\n",
            "\n",
            "CRC-VAL-HE-7K.zip   100%[===================>] 763.20M  24.8MB/s    in 5m 44s  \n",
            "\n",
            "2025-02-27 09:12:26 (2.22 MB/s) - ‘CRC-VAL-HE-7K.zip’ saved [800276929/800276929]\n",
            "\n"
          ]
        }
      ],
      "source": [
        "!wget -O CRC-VAL-HE-7K.zip https://zenodo.org/records/1214456/files/CRC-VAL-HE-7K.zip\n",
        "!unzip -qq CRC-VAL-HE-7K.zip -d val"
      ]
    },
    {
      "cell_type": "code",
      "execution_count": null,
      "metadata": {
        "id": "rldaXFNXpT4r"
      },
      "outputs": [],
      "source": [
        "test_7k_dir = './val/CRC-VAL-HE-7K'"
      ]
    },
    {
      "cell_type": "code",
      "source": [
        "dataset = datasets.ImageFolder(root=test_7k_dir, transform=transform)"
      ],
      "metadata": {
        "id": "p0bL6aK1sQOb"
      },
      "execution_count": null,
      "outputs": []
    },
    {
      "cell_type": "code",
      "execution_count": null,
      "metadata": {
        "id": "Belqw8QytnZL"
      },
      "outputs": [],
      "source": [
        "import os\n",
        "#test7k_dataset = Dataset(dir=test_7k_dir, aug=False)\n",
        "#test7k_dataloader = DataLoader(test7k_dataset, batch_size=32, shuffle=False, num_workers=8, pin_memory=False, drop_last=False)\n",
        "test7k_dataloader = DataLoader(dataset, batch_size=batch_size, shuffle=False)"
      ]
    },
    {
      "cell_type": "code",
      "execution_count": null,
      "metadata": {
        "colab": {
          "base_uri": "https://localhost:8080/"
        },
        "id": "A2y3cywDpjUQ",
        "outputId": "3f86e961-ef80-4c3a-c6f9-59485a921c23"
      },
      "outputs": [
        {
          "output_type": "stream",
          "name": "stderr",
          "text": [
            "Test: 100%|██████████| 225/225 [00:10<00:00, 21.22it/s]"
          ]
        },
        {
          "output_type": "stream",
          "name": "stdout",
          "text": [
            "Test Loss: 0.7122, Test Accuracy: 89.87%\n",
            "Overall - F1: 0.8661, Recall: 0.8747, Precision: 0.8645\n",
            "Per-Class Metrics:\n",
            "Class 0 - F1: 0.9648, Recall: 0.9619, Precision: 0.9677\n",
            "Class 1 - F1: 0.9941, Recall: 1.0000, Precision: 0.9883\n",
            "Class 2 - F1: 0.8112, Recall: 0.9440, Precision: 0.7111\n",
            "Class 3 - F1: 0.8569, Recall: 0.7792, Precision: 0.9518\n",
            "Class 4 - F1: 0.9239, Recall: 0.8850, Precision: 0.9662\n",
            "Class 5 - F1: 0.7946, Recall: 0.7973, Precision: 0.7919\n",
            "Class 6 - F1: 0.8764, Recall: 0.9474, Precision: 0.8153\n",
            "Class 7 - F1: 0.6260, Recall: 0.6223, Precision: 0.6298\n",
            "Class 8 - F1: 0.9466, Recall: 0.9351, Precision: 0.9584\n"
          ]
        },
        {
          "output_type": "stream",
          "name": "stderr",
          "text": [
            "\n"
          ]
        }
      ],
      "source": [
        "overall_f1, overall_recall, overall_precision, f1_per_class, recall_per_class, precision_per_class = score_evaluate(model, test7k_dataloader, criterion, device, phase=\"Test\")"
      ]
    },
    {
      "cell_type": "code",
      "execution_count": null,
      "metadata": {
        "colab": {
          "base_uri": "https://localhost:8080/",
          "height": 233
        },
        "id": "p4pYjMPUpy2m",
        "outputId": "b5b3e8f3-e03c-45b5-f8b4-c515df1bc51c"
      },
      "outputs": [
        {
          "output_type": "display_data",
          "data": {
            "text/plain": [
              "<Figure size 2000x1200 with 0 Axes>"
            ]
          },
          "metadata": {}
        },
        {
          "output_type": "display_data",
          "data": {
            "text/plain": [
              "<Figure size 1600x480 with 1 Axes>"
            ],
            "image/png": "[encoded data removed]"
          },
          "metadata": {}
        }
      ],
      "source": [
        "x = [\"ADI\", \"BACK\", \"DEB\", \"LYM\", \"MUC\", \"MUS\", \"NORM\", 'STR', \"TUM\"]\n",
        "y = [\"F1\", \"Precision\", \"Recall\"]\n",
        "\n",
        "f1_score_list = []\n",
        "precision_score_list = []\n",
        "recall_score_list = []\n",
        "\n",
        "for i, class_name in enumerate(x):\n",
        "    f1_score_list.append(f1_per_class[i])\n",
        "    precision_score_list.append(precision_per_class[i])\n",
        "    recall_score_list.append(recall_per_class[i])\n",
        "\n",
        "x.append(\"Overall\")\n",
        "f1_score_list.append(overall_f1)\n",
        "precision_score_list.append(overall_precision)\n",
        "recall_score_list.append(overall_recall)\n",
        "\n",
        "score_list = [f1_score_list, precision_score_list, recall_score_list]\n",
        "score_list = np.array(score_list)\n",
        "plt.figure(figsize=(20, 12))\n",
        "score_cm = plt.matshow(score_list, cmap=plt.cm.Blues, alpha=0.3)\n",
        "plt.xticks(range(len(x)), x)\n",
        "plt.yticks(range(len(y)), y)\n",
        "for i in range(len(y)):\n",
        "    for j in range(len(x)):\n",
        "        # 행렬의 각각의 수치를 각 칸의 중앙에 넣어준다\n",
        "        plt.text(x=j, y=i,\n",
        "                     s=\"{:.2f}\".format(score_list[i, j]),\n",
        "                     va='center',\n",
        "                     ha='center',\n",
        "                     )"
      ]
    },
    {
      "cell_type": "code",
      "execution_count": null,
      "metadata": {
        "id": "5EnagUDtpzDU",
        "outputId": "fd07624b-db27-4dd9-f795-f9953829edb2",
        "colab": {
          "base_uri": "https://localhost:8080/"
        }
      },
      "outputs": [
        {
          "output_type": "stream",
          "name": "stdout",
          "text": [
            "Inference Time Measurement Results:\n",
            "Total Inferences: 225\n",
            "Average Time: 7.50 ms\n",
            "Standard Deviation: 0.41 ms\n",
            "Maximum Time: 9.23 ms\n",
            "Minimum Time: 7.06 ms\n"
          ]
        }
      ],
      "source": [
        "times = measure_inference_time(model, test7k_dataloader, device)"
      ]
    }
  ],
  "metadata": {
    "accelerator": "GPU",
    "colab": {
      "gpuType": "A100",
      "machine_shape": "hm",
      "provenance": []
    },
    "kernelspec": {
      "display_name": "Python 3",
      "name": "python3"
    },
    "language_info": {
      "name": "python"
    }
  },
  "nbformat": 4,
  "nbformat_minor": 0
}