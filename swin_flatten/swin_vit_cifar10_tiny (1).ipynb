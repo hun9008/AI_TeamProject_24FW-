{
  "cells": [
    {
      "cell_type": "code",
      "execution_count": 95,
      "id": "c78054e6-30c8-4e09-9e9a-583b4caff269",
      "metadata": {
        "colab": {
          "base_uri": "https://localhost:8080/"
        },
        "id": "c78054e6-30c8-4e09-9e9a-583b4caff269",
        "outputId": "ddbcf428-a310-40f0-aa4e-719779346ecc"
      },
      "outputs": [
        {
          "output_type": "stream",
          "name": "stdout",
          "text": [
            "Requirement already satisfied: matplotlib in /usr/local/lib/python3.10/dist-packages (3.8.0)\n",
            "Requirement already satisfied: pytorch-ignite in /usr/local/lib/python3.10/dist-packages (0.5.1)\n",
            "Requirement already satisfied: contourpy>=1.0.1 in /usr/local/lib/python3.10/dist-packages (from matplotlib) (1.3.0)\n",
            "Requirement already satisfied: cycler>=0.10 in /usr/local/lib/python3.10/dist-packages (from matplotlib) (0.12.1)\n",
            "Requirement already satisfied: fonttools>=4.22.0 in /usr/local/lib/python3.10/dist-packages (from matplotlib) (4.54.1)\n",
            "Requirement already satisfied: kiwisolver>=1.0.1 in /usr/local/lib/python3.10/dist-packages (from matplotlib) (1.4.7)\n",
            "Requirement already satisfied: numpy<2,>=1.21 in /usr/local/lib/python3.10/dist-packages (from matplotlib) (1.26.4)\n",
            "Requirement already satisfied: packaging>=20.0 in /usr/local/lib/python3.10/dist-packages (from matplotlib) (24.1)\n",
            "Requirement already satisfied: pillow>=6.2.0 in /usr/local/lib/python3.10/dist-packages (from matplotlib) (10.4.0)\n",
            "Requirement already satisfied: pyparsing>=2.3.1 in /usr/local/lib/python3.10/dist-packages (from matplotlib) (3.2.0)\n",
            "Requirement already satisfied: python-dateutil>=2.7 in /usr/local/lib/python3.10/dist-packages (from matplotlib) (2.8.2)\n",
            "Requirement already satisfied: torch<3,>=1.3 in /usr/local/lib/python3.10/dist-packages (from pytorch-ignite) (2.5.0+cu121)\n",
            "Requirement already satisfied: six>=1.5 in /usr/local/lib/python3.10/dist-packages (from python-dateutil>=2.7->matplotlib) (1.16.0)\n",
            "Requirement already satisfied: filelock in /usr/local/lib/python3.10/dist-packages (from torch<3,>=1.3->pytorch-ignite) (3.16.1)\n",
            "Requirement already satisfied: typing-extensions>=4.8.0 in /usr/local/lib/python3.10/dist-packages (from torch<3,>=1.3->pytorch-ignite) (4.12.2)\n",
            "Requirement already satisfied: networkx in /usr/local/lib/python3.10/dist-packages (from torch<3,>=1.3->pytorch-ignite) (3.4.2)\n",
            "Requirement already satisfied: jinja2 in /usr/local/lib/python3.10/dist-packages (from torch<3,>=1.3->pytorch-ignite) (3.1.4)\n",
            "Requirement already satisfied: fsspec in /usr/local/lib/python3.10/dist-packages (from torch<3,>=1.3->pytorch-ignite) (2024.10.0)\n",
            "Requirement already satisfied: sympy==1.13.1 in /usr/local/lib/python3.10/dist-packages (from torch<3,>=1.3->pytorch-ignite) (1.13.1)\n",
            "Requirement already satisfied: mpmath<1.4,>=1.1.0 in /usr/local/lib/python3.10/dist-packages (from sympy==1.13.1->torch<3,>=1.3->pytorch-ignite) (1.3.0)\n",
            "Requirement already satisfied: MarkupSafe>=2.0 in /usr/local/lib/python3.10/dist-packages (from jinja2->torch<3,>=1.3->pytorch-ignite) (3.0.2)\n"
          ]
        }
      ],
      "source": [
        "!pip3 install matplotlib pytorch-ignite\n",
        "import numpy as np\n",
        "from collections import defaultdict\n",
        "import matplotlib.pyplot as plt\n",
        "\n",
        "import torch\n",
        "import torch.nn as nn\n",
        "import torch.optim as optim\n",
        "import torch.nn.functional as F\n",
        "from torchvision import datasets, transforms\n",
        "\n",
        "from ignite.engine import Events, create_supervised_trainer, create_supervised_evaluator\n",
        "import ignite.metrics\n",
        "import ignite.contrib.handlers"
      ]
    },
    {
      "cell_type": "code",
      "execution_count": 96,
      "id": "2b37bc7c-8792-42d3-bf0c-3d684b81c218",
      "metadata": {
        "id": "2b37bc7c-8792-42d3-bf0c-3d684b81c218"
      },
      "outputs": [],
      "source": [
        "DATA_DIR='./data'\n",
        "\n",
        "IMAGE_SIZE = 32\n",
        "\n",
        "NUM_CLASSES = 10\n",
        "NUM_WORKERS = 8\n",
        "BATCH_SIZE = 32\n",
        "EPOCHS = 100\n",
        "\n",
        "LEARNING_RATE = 1e-3\n",
        "WEIGHT_DECAY = 1e-1"
      ]
    },
    {
      "cell_type": "code",
      "execution_count": 97,
      "id": "1be2bfcd-2965-4646-b303-8ec1a6cfb8c2",
      "metadata": {
        "colab": {
          "base_uri": "https://localhost:8080/"
        },
        "id": "1be2bfcd-2965-4646-b303-8ec1a6cfb8c2",
        "outputId": "8ac56c62-7fd7-42de-e73b-ae0904b91220"
      },
      "outputs": [
        {
          "output_type": "stream",
          "name": "stdout",
          "text": [
            "device: cuda\n"
          ]
        }
      ],
      "source": [
        "DEVICE = torch.device(\"cuda\") if torch.cuda.is_available() else torch.device(\"cpu\")\n",
        "print(\"device:\", DEVICE)"
      ]
    },
    {
      "cell_type": "code",
      "execution_count": 98,
      "id": "e9c11693-75d7-429e-bfce-12c202536b2b",
      "metadata": {
        "colab": {
          "base_uri": "https://localhost:8080/"
        },
        "id": "e9c11693-75d7-429e-bfce-12c202536b2b",
        "outputId": "4438a401-f677-481b-b784-ff13a0bdcd0a"
      },
      "outputs": [
        {
          "output_type": "stream",
          "name": "stdout",
          "text": [
            "Files already downloaded and verified\n",
            "Files already downloaded and verified\n"
          ]
        }
      ],
      "source": [
        "train_transform = transforms.Compose([\n",
        "    transforms.RandomHorizontalFlip(),\n",
        "    transforms.RandomCrop(32, padding=4),\n",
        "    transforms.PILToTensor(),\n",
        "    transforms.ConvertImageDtype(torch.float)\n",
        "])\n",
        "\n",
        "train_dset = datasets.CIFAR10(root=DATA_DIR, train=True, download=True, transform=train_transform)\n",
        "test_dset = datasets.CIFAR10(root=DATA_DIR, train=False, download=True, transform=transforms.ToTensor())"
      ]
    },
    {
      "cell_type": "code",
      "execution_count": 99,
      "id": "eaddaa38-bbfa-4e3a-9db6-72eebeb462e9",
      "metadata": {
        "id": "eaddaa38-bbfa-4e3a-9db6-72eebeb462e9"
      },
      "outputs": [],
      "source": [
        "def dataset_show_image(dset, idx):\n",
        "    X, Y = dset[idx]\n",
        "    title = \"Ground truth: {}\".format(dset.classes[Y])\n",
        "    fig = plt.figure()\n",
        "    ax = fig.add_subplot(111)\n",
        "    ax.set_axis_off()\n",
        "    ax.imshow(np.moveaxis(X.numpy(), 0, -1))\n",
        "    ax.set_title(title)\n",
        "    plt.show()"
      ]
    },
    {
      "cell_type": "code",
      "execution_count": 100,
      "id": "8e3c1e22-0324-42c6-a9d6-e03a372356ff",
      "metadata": {
        "colab": {
          "base_uri": "https://localhost:8080/",
          "height": 428
        },
        "id": "8e3c1e22-0324-42c6-a9d6-e03a372356ff",
        "outputId": "ac1ec046-8631-4dfb-8007-09754da67c5f"
      },
      "outputs": [
        {
          "output_type": "display_data",
          "data": {
            "text/plain": [
              "<Figure size 640x480 with 1 Axes>"
            ],
            "image/png": "[encoded data removed]"
          },
          "metadata": {}
        }
      ],
      "source": [
        "dataset_show_image(test_dset, 1)"
      ]
    },
    {
      "cell_type": "code",
      "execution_count": 101,
      "id": "d7f63e9f-34eb-4117-9484-04ef1f82d204",
      "metadata": {
        "colab": {
          "base_uri": "https://localhost:8080/"
        },
        "id": "d7f63e9f-34eb-4117-9484-04ef1f82d204",
        "outputId": "07f645f5-7c8b-4017-a0f4-2feeb0a235b9"
      },
      "outputs": [
        {
          "output_type": "stream",
          "name": "stderr",
          "text": [
            "/usr/local/lib/python3.10/dist-packages/torch/utils/data/dataloader.py:617: UserWarning: This DataLoader will create 8 worker processes in total. Our suggested max number of worker in current system is 2, which is smaller than what this DataLoader is going to create. Please be aware that excessive worker creation might get DataLoader running slow or even freeze, lower the worker number to avoid potential slowness/freeze if necessary.\n",
            "  warnings.warn(\n"
          ]
        }
      ],
      "source": [
        "train_loader = torch.utils.data.DataLoader(train_dset, batch_size=BATCH_SIZE, shuffle=True,\n",
        "                                           num_workers=NUM_WORKERS, pin_memory=True)\n",
        "test_loader = torch.utils.data.DataLoader(test_dset, batch_size=BATCH_SIZE, shuffle=False,\n",
        "                                          num_workers=NUM_WORKERS, pin_memory=True)\n"
      ]
    },
    {
      "cell_type": "code",
      "execution_count": 102,
      "id": "b130b36f-cda0-4b8e-aa76-619399770a3a",
      "metadata": {
        "id": "b130b36f-cda0-4b8e-aa76-619399770a3a"
      },
      "outputs": [],
      "source": [
        "# model configuration\n",
        "\n",
        "class Residual(nn.Module):\n",
        "    def __init__(self, *layers):\n",
        "        super().__init__()\n",
        "        self.residual = nn.Sequential(*layers)\n",
        "        self.gamma = nn.Parameter(torch.zeros(1))\n",
        "\n",
        "    def forward(self, x):\n",
        "        return x + self.gamma * self.residual(x)\n",
        "\n",
        "class GlobalAvgPool(nn.Module):\n",
        "    def forward(self, x):\n",
        "        return x.mean(dim=-2)\n"
      ]
    },
    {
      "cell_type": "code",
      "source": [
        "import yaml\n",
        "import requests\n",
        "\n",
        "# 설정 파일 경로\n",
        "config_path = 'https://raw.githubusercontent.com/microsoft/Swin-Transformer/main/configs/swin/swin_tiny_patch4_window7_224.yaml' # Updated URL\n",
        "\n",
        "# 설정 파일 불러오기\n",
        "response = requests.get(config_path)\n",
        "response.raise_for_status()\n",
        "\n",
        "config = yaml.safe_load(response.text)"
      ],
      "metadata": {
        "id": "Dw0HECI1ISuj"
      },
      "id": "Dw0HECI1ISuj",
      "execution_count": 103,
      "outputs": []
    },
    {
      "cell_type": "code",
      "source": [],
      "metadata": {
        "id": "-nbzG5rzIWj9"
      },
      "id": "-nbzG5rzIWj9",
      "execution_count": 103,
      "outputs": []
    },
    {
      "cell_type": "code",
      "execution_count": 104,
      "id": "f11188ce-2fdb-4a6c-91b8-3935c0e04790",
      "metadata": {
        "id": "f11188ce-2fdb-4a6c-91b8-3935c0e04790"
      },
      "outputs": [],
      "source": [
        "# transformer, swin\n",
        "\n",
        "class ShiftedWindowAttention(nn.Module):\n",
        "    def __init__(self, dim, head_dim, shape, window_size, shift_size=0):\n",
        "        super().__init__()\n",
        "        self.heads = dim // head_dim\n",
        "        self.head_dim = head_dim\n",
        "        self.scale = head_dim**-0.5\n",
        "\n",
        "        self.shape = shape\n",
        "        self.window_size = window_size\n",
        "        self.shift_size = shift_size\n",
        "\n",
        "        self.to_qkv = nn.Linear(dim, dim * 3)\n",
        "        self.unifyheads = nn.Linear(dim, dim)\n",
        "\n",
        "        self.pos_enc = nn.Parameter(torch.Tensor(self.heads, (2 * window_size - 1)**2))\n",
        "        self.register_buffer(\"relative_indices\", self.get_indices(window_size))\n",
        "\n",
        "        if shift_size > 0:\n",
        "            self.register_buffer(\"mask\", self.generate_mask(shape, window_size, shift_size))\n",
        "\n",
        "\n",
        "    def forward(self, x):\n",
        "        shift_size, window_size = self.shift_size, self.window_size\n",
        "\n",
        "        x = self.to_windows(x, self.shape, window_size, shift_size) # partition into windows\n",
        "\n",
        "        # self attention\n",
        "        qkv = self.to_qkv(x).unflatten(-1, (3, self.heads, self.head_dim)).transpose(-2, 1)\n",
        "        queries, keys, values = qkv.unbind(dim=2)\n",
        "\n",
        "        att = queries @ keys.transpose(-2, -1)\n",
        "\n",
        "        att = att * self.scale + self.get_rel_pos_enc(window_size) # add relative positon encoding\n",
        "\n",
        "        # masking\n",
        "        if shift_size > 0:\n",
        "            att = self.mask_attention(att)\n",
        "\n",
        "        att = F.softmax(att, dim=-1)\n",
        "\n",
        "        x = att @ values\n",
        "        x = x.transpose(1, 2).contiguous().flatten(-2, -1) # move head back\n",
        "        x = self.unifyheads(x)\n",
        "\n",
        "        x = self.from_windows(x, self.shape, window_size, shift_size) # undo partitioning into windows\n",
        "        return x\n",
        "\n",
        "\n",
        "    def to_windows(self, x, shape, window_size, shift_size):\n",
        "        x = x.unflatten(1, shape)\n",
        "        if shift_size > 0:\n",
        "            x = x.roll((-shift_size, -shift_size), dims=(1, 2))\n",
        "        x = self.split_windows(x, window_size)\n",
        "        return x\n",
        "\n",
        "\n",
        "    def from_windows(self, x, shape, window_size, shift_size):\n",
        "        x = self.merge_windows(x, shape, window_size)\n",
        "        if shift_size > 0:\n",
        "            x = x.roll((shift_size, shift_size), dims=(1, 2))\n",
        "        x = x.flatten(1, 2)\n",
        "        return x\n",
        "\n",
        "\n",
        "    def mask_attention(self, att):\n",
        "        num_win = self.mask.size(1)\n",
        "        att = att.unflatten(0, (att.size(0) // num_win, num_win))\n",
        "        att = att.masked_fill(self.mask, float('-inf'))\n",
        "        att = att.flatten(0, 1)\n",
        "        return att\n",
        "\n",
        "\n",
        "    def get_rel_pos_enc(self, window_size):\n",
        "        indices = self.relative_indices.expand(self.heads, -1)\n",
        "        rel_pos_enc = self.pos_enc.gather(-1, indices)\n",
        "        rel_pos_enc = rel_pos_enc.unflatten(-1, (window_size**2, window_size**2))\n",
        "        return rel_pos_enc\n",
        "\n",
        "\n",
        "    # For explanation of mask regions see Figure 4 in the article\n",
        "    @staticmethod\n",
        "    def generate_mask(shape, window_size, shift_size):\n",
        "        region_mask = torch.zeros(1, *shape, 1)\n",
        "        slices = [slice(0, -window_size), slice(-window_size, -shift_size), slice(-shift_size, None)]\n",
        "\n",
        "        region_num = 0\n",
        "        for i in slices:\n",
        "            for j in slices:\n",
        "                region_mask[:, i, j, :] = region_num\n",
        "                region_num += 1\n",
        "\n",
        "        mask_windows = ShiftedWindowAttention.split_windows(region_mask, window_size).squeeze(-1)\n",
        "        diff_mask = mask_windows.unsqueeze(1) - mask_windows.unsqueeze(2)\n",
        "        mask = diff_mask != 0\n",
        "        mask = mask.unsqueeze(1).unsqueeze(0) # add heads and batch dimension\n",
        "        return mask\n",
        "\n",
        "\n",
        "    @staticmethod\n",
        "    def split_windows(x, window_size):\n",
        "        n_h, n_w = x.size(1) // window_size, x.size(2) // window_size\n",
        "        x = x.unflatten(1, (n_h, window_size)).unflatten(-2, (n_w, window_size)) # split into windows\n",
        "        x = x.transpose(2, 3).flatten(0, 2) # merge batch and window numbers\n",
        "        x = x.flatten(-3, -2)\n",
        "        return x\n",
        "\n",
        "\n",
        "    @staticmethod\n",
        "    def merge_windows(x, shape, window_size):\n",
        "        n_h, n_w = shape[0] // window_size, shape[1] // window_size\n",
        "        b = x.size(0) // (n_h * n_w)\n",
        "        x = x.unflatten(1, (window_size, window_size))\n",
        "        x = x.unflatten(0, (b, n_h, n_w)).transpose(2, 3) # separate batch and window numbers\n",
        "        x = x.flatten(1, 2).flatten(-3, -2) # merge windows\n",
        "        return x\n",
        "\n",
        "\n",
        "    @staticmethod\n",
        "    def get_indices(window_size):\n",
        "        x = torch.arange(window_size, dtype=torch.long)\n",
        "\n",
        "        y1, x1, y2, x2 = torch.meshgrid(x, x, x, x, indexing='ij')\n",
        "        indices = (y1 - y2 + window_size - 1) * (2 * window_size - 1) + x1 - x2 + window_size - 1\n",
        "        indices = indices.flatten()\n",
        "\n",
        "        return indices\n",
        "\n",
        "class FeedForward(nn.Sequential):\n",
        "    def __init__(self, dim, mult=4):\n",
        "        hidden_dim = dim * mult\n",
        "        super().__init__(\n",
        "            nn.Linear(dim, hidden_dim),\n",
        "            nn.GELU(),\n",
        "            nn.Linear(hidden_dim, dim)\n",
        "        )\n",
        "\n",
        "class TransformerBlock(nn.Sequential):\n",
        "    def __init__(self, dim, head_dim, shape, window_size, shift_size=0, p_drop=0.):\n",
        "        super().__init__(\n",
        "            Residual(\n",
        "                nn.LayerNorm(dim),\n",
        "                ShiftedWindowAttention(dim, head_dim, shape, window_size, shift_size),\n",
        "                nn.Dropout(p_drop)\n",
        "            ),\n",
        "            Residual(\n",
        "                nn.LayerNorm(dim),\n",
        "                FeedForward(dim),\n",
        "                nn.Dropout(p_drop)\n",
        "            )\n",
        "        )\n",
        "\n"
      ]
    },
    {
      "cell_type": "code",
      "execution_count": 105,
      "id": "6d030292-74c4-43a7-b788-ea3d80a33dc3",
      "metadata": {
        "id": "6d030292-74c4-43a7-b788-ea3d80a33dc3"
      },
      "outputs": [],
      "source": [
        "# stage\n",
        "\n",
        "class PatchMerging(nn.Module):\n",
        "    def __init__(self, in_dim, out_dim, shape):\n",
        "        super().__init__()\n",
        "        self.shape = shape\n",
        "        self.norm = nn.LayerNorm(4 * in_dim)\n",
        "        self.reduction = nn.Linear(4 * in_dim, out_dim, bias=False)\n",
        "\n",
        "    def forward(self, x):\n",
        "        x = x.unflatten(1, self.shape).movedim(-1, 1)\n",
        "        x = F.unfold(x, kernel_size=2, stride=2).movedim(1, -1)\n",
        "\n",
        "        x = self.norm(x)\n",
        "        x = self.reduction(x)\n",
        "        return x\n",
        "\n",
        "class Stage(nn.Sequential):\n",
        "    def __init__(self, num_blocks, in_dim, out_dim, head_dim, shape, window_size, p_drop=0.):\n",
        "        if out_dim != in_dim:\n",
        "            layers = [PatchMerging(in_dim, out_dim, shape)]\n",
        "            shape = (shape[0] // 2, shape[1] // 2)\n",
        "        else:\n",
        "            layers = []\n",
        "\n",
        "        shift_size = window_size // 2\n",
        "        layers += [TransformerBlock(out_dim, head_dim, shape, window_size, 0 if (num % 2 == 0) else shift_size,\n",
        "                                    p_drop) for num in range(num_blocks)]\n",
        "\n",
        "        super().__init__(*layers)\n",
        "\n",
        "class StageStack(nn.Sequential):\n",
        "    def __init__(self, num_blocks_list, dims, head_dim, shape, window_size, p_drop=0.):\n",
        "        layers = []\n",
        "        in_dim = dims[0]\n",
        "        for num, out_dim in zip(num_blocks_list, dims[1:]):\n",
        "            layers.append(Stage(num, in_dim, out_dim, head_dim, shape, window_size, p_drop))\n",
        "            if in_dim != out_dim:\n",
        "                shape = (shape[0] // 2, shape[1] // 2)\n",
        "                in_dim = out_dim\n",
        "\n",
        "        super().__init__(*layers)"
      ]
    },
    {
      "cell_type": "code",
      "execution_count": 106,
      "id": "e0058e30-5089-4a96-b5f9-eedd80d8f0f7",
      "metadata": {
        "id": "e0058e30-5089-4a96-b5f9-eedd80d8f0f7"
      },
      "outputs": [],
      "source": [
        "# embedding\n",
        "\n",
        "class ToPatches(nn.Module):\n",
        "    def __init__(self, in_channels, dim, patch_size):\n",
        "        super().__init__()\n",
        "        self.patch_size = patch_size\n",
        "        patch_dim = in_channels * patch_size**2\n",
        "        self.proj = nn.Linear(patch_dim, dim)\n",
        "        self.norm = nn.LayerNorm(dim)\n",
        "\n",
        "    def forward(self, x):\n",
        "        x = F.unfold(x, kernel_size=self.patch_size, stride=self.patch_size).movedim(1, -1)\n",
        "        x = self.proj(x)\n",
        "        x = self.norm(x)\n",
        "        return x\n",
        "\n",
        "class AddPositionEmbedding(nn.Module):\n",
        "    def __init__(self, dim, num_patches):\n",
        "        super().__init__()\n",
        "        self.pos_embedding = nn.Parameter(torch.Tensor(num_patches, dim))\n",
        "\n",
        "    def forward(self, x):\n",
        "        return x + self.pos_embedding\n",
        "\n",
        "class ToEmbedding(nn.Sequential):\n",
        "    def __init__(self, in_channels, dim, patch_size, num_patches, p_drop=0.):\n",
        "        super().__init__(\n",
        "            ToPatches(in_channels, dim, patch_size),\n",
        "            AddPositionEmbedding(dim, num_patches),\n",
        "            nn.Dropout(p_drop)\n",
        "        )"
      ]
    },
    {
      "cell_type": "code",
      "execution_count": 107,
      "id": "024541dc-910c-49aa-b885-1ee6dbded23e",
      "metadata": {
        "id": "024541dc-910c-49aa-b885-1ee6dbded23e"
      },
      "outputs": [],
      "source": [
        "# Swin main model\n",
        "\n",
        "class Head(nn.Sequential):\n",
        "    def __init__(self, dim, classes, p_drop=0.):\n",
        "        super().__init__(\n",
        "            nn.LayerNorm(dim),\n",
        "            nn.GELU(),\n",
        "            GlobalAvgPool(),\n",
        "            nn.Dropout(p_drop),\n",
        "            nn.Linear(dim, classes)\n",
        "        )\n",
        "\n",
        "class SwinTransformer(nn.Sequential):\n",
        "    def __init__(self, classes, image_size, num_blocks_list, dims, head_dim, patch_size, window_size,\n",
        "                 in_channels=3, emb_p_drop=0., trans_p_drop=0., head_p_drop=0.):\n",
        "        reduced_size = image_size // patch_size\n",
        "        shape = (reduced_size, reduced_size)\n",
        "        num_patches = shape[0] * shape[1]\n",
        "\n",
        "        super().__init__(\n",
        "            ToEmbedding(in_channels, dims[0], patch_size, num_patches, emb_p_drop),\n",
        "            StageStack(num_blocks_list, dims, head_dim, shape, window_size, trans_p_drop),\n",
        "            Head(dims[-1], classes, head_p_drop)\n",
        "        )\n",
        "        self.reset_parameters()\n",
        "\n",
        "    def reset_parameters(self):\n",
        "        for m in self.modules():\n",
        "            if isinstance(m, nn.Linear):\n",
        "                nn.init.kaiming_normal_(m.weight)\n",
        "                if m.bias is not None: nn.init.zeros_(m.bias)\n",
        "            elif isinstance(m, nn.LayerNorm):\n",
        "                nn.init.constant_(m.weight, 1.)\n",
        "                nn.init.zeros_(m.bias)\n",
        "            elif isinstance(m, AddPositionEmbedding):\n",
        "                nn.init.normal_(m.pos_embedding, mean=0.0, std=0.02)\n",
        "            elif isinstance(m, ShiftedWindowAttention):\n",
        "                nn.init.normal_(m.pos_enc, mean=0.0, std=0.02)\n",
        "            elif isinstance(m, Residual):\n",
        "                nn.init.zeros_(m.gamma)\n",
        "\n",
        "    def separate_parameters(self):\n",
        "        parameters_decay = set()\n",
        "        parameters_no_decay = set()\n",
        "        modules_weight_decay = (nn.Linear, )\n",
        "        modules_no_weight_decay = (nn.LayerNorm,)\n",
        "\n",
        "        for m_name, m in self.named_modules():\n",
        "            for param_name, param in m.named_parameters():\n",
        "                full_param_name = f\"{m_name}.{param_name}\" if m_name else param_name\n",
        "\n",
        "                if isinstance(m, modules_no_weight_decay):\n",
        "                    parameters_no_decay.add(full_param_name)\n",
        "                elif param_name.endswith(\"bias\"):\n",
        "                    parameters_no_decay.add(full_param_name)\n",
        "                elif isinstance(m, Residual) and param_name.endswith(\"gamma\"):\n",
        "                    parameters_no_decay.add(full_param_name)\n",
        "                elif isinstance(m, AddPositionEmbedding) and param_name.endswith(\"pos_embedding\"):\n",
        "                    parameters_no_decay.add(full_param_name)\n",
        "                elif isinstance(m, ShiftedWindowAttention) and param_name.endswith(\"pos_enc\"):\n",
        "                    parameters_no_decay.add(full_param_name)\n",
        "                elif isinstance(m, modules_weight_decay):\n",
        "                    parameters_decay.add(full_param_name)\n",
        "\n",
        "        # sanity check\n",
        "        assert len(parameters_decay & parameters_no_decay) == 0\n",
        "        assert len(parameters_decay) + len(parameters_no_decay) == len(list(model.parameters()))\n",
        "\n",
        "        return parameters_decay, parameters_no_decay"
      ]
    },
    {
      "cell_type": "code",
      "execution_count": 108,
      "id": "ce05ee11-42b8-4906-9288-05ebaea99e9d",
      "metadata": {
        "colab": {
          "base_uri": "https://localhost:8080/"
        },
        "id": "ce05ee11-42b8-4906-9288-05ebaea99e9d",
        "outputId": "97bcf819-b2c6-40db-bb9b-289a9faac533"
      },
      "outputs": [
        {
          "output_type": "stream",
          "name": "stdout",
          "text": [
            "Number of parameters: 12,202\n"
          ]
        }
      ],
      "source": [
        "model = SwinTransformer(\n",
        "    NUM_CLASSES, IMAGE_SIZE,\n",
        "    num_blocks_list=config['MODEL']['SWIN']['DEPTHS'],\n",
        "    dims=[config['MODEL']['SWIN']['EMBED_DIM']],\n",
        "    head_dim=config['MODEL']['SWIN']['NUM_HEADS'][0],  # 첫 번째 스테이지의 헤드 크기 사용\n",
        "    patch_size=4,  # Tiny 모델 설정에 따라 지정\n",
        "    window_size=config['MODEL']['SWIN']['WINDOW_SIZE'],\n",
        "    emb_p_drop=0.,\n",
        "    trans_p_drop=config['MODEL']['DROP_PATH_RATE'],\n",
        "    head_p_drop=0.3\n",
        ")\n",
        "\n",
        "model.to(DEVICE)\n",
        "print(\"Number of parameters: {:,}\".format(sum(p.numel() for p in model.parameters())))"
      ]
    },
    {
      "cell_type": "code",
      "execution_count": 109,
      "id": "a1f160a1-3024-4a14-8308-059cac9f608d",
      "metadata": {
        "id": "a1f160a1-3024-4a14-8308-059cac9f608d"
      },
      "outputs": [],
      "source": [
        "# TRAINING\n",
        "\n",
        "# optimizer\n",
        "def get_optimizer(model, learning_rate, weight_decay):\n",
        "    param_dict = {pn: p for pn, p in model.named_parameters()}\n",
        "    parameters_decay, parameters_no_decay = model.separate_parameters()\n",
        "\n",
        "    optim_groups = [\n",
        "        {\"params\": [param_dict[pn] for pn in parameters_decay], \"weight_decay\": weight_decay},\n",
        "        {\"params\": [param_dict[pn] for pn in parameters_no_decay], \"weight_decay\": 0.0},\n",
        "    ]\n",
        "    optimizer = optim.AdamW(optim_groups, lr=learning_rate)\n",
        "    return optimizer"
      ]
    },
    {
      "cell_type": "code",
      "execution_count": 110,
      "id": "f69ca1d2-474b-4330-ab85-5a031b8f05f0",
      "metadata": {
        "id": "f69ca1d2-474b-4330-ab85-5a031b8f05f0"
      },
      "outputs": [],
      "source": [
        "# trainer setup\n",
        "\n",
        "loss = nn.CrossEntropyLoss()\n",
        "optimizer = get_optimizer(model, learning_rate=LEARNING_RATE, weight_decay=WEIGHT_DECAY)\n",
        "trainer = create_supervised_trainer(model, optimizer, loss, device=DEVICE)\n",
        "lr_scheduler = optim.lr_scheduler.OneCycleLR(optimizer, max_lr=LEARNING_RATE,\n",
        "                                             steps_per_epoch=len(train_loader), epochs=EPOCHS)\n",
        "\n",
        "trainer.add_event_handler(Events.ITERATION_COMPLETED, lambda engine: lr_scheduler.step());\n",
        "ignite.metrics.RunningAverage(output_transform=lambda x: x).attach(trainer, \"loss\")\n",
        "val_metrics = {\"accuracy\": ignite.metrics.Accuracy(), \"loss\": ignite.metrics.Loss(loss)}\n",
        "evaluator = create_supervised_evaluator(model, metrics=val_metrics, device=DEVICE)\n",
        "history = defaultdict(list)\n"
      ]
    },
    {
      "cell_type": "code",
      "execution_count": 111,
      "id": "181d6629-7915-4596-b699-fcd3d89c9cc2",
      "metadata": {
        "id": "181d6629-7915-4596-b699-fcd3d89c9cc2"
      },
      "outputs": [],
      "source": [
        "@trainer.on(Events.EPOCH_COMPLETED)\n",
        "def log_validation_results(engine):\n",
        "    train_state = engine.state\n",
        "    epoch = train_state.epoch\n",
        "    max_epochs = train_state.max_epochs\n",
        "    train_loss = train_state.metrics[\"loss\"]\n",
        "    history['train loss'].append(train_loss)\n",
        "\n",
        "    evaluator.run(test_loader)\n",
        "    val_metrics = evaluator.state.metrics\n",
        "    val_loss = val_metrics[\"loss\"]\n",
        "    val_acc = val_metrics[\"accuracy\"]\n",
        "    history['val loss'].append(val_loss)\n",
        "    history['val acc'].append(val_acc)\n",
        "\n",
        "    print(\"{}/{} - train: loss {:.3f}; val: loss {:.3f} accuracy {:.3f}\".format(\n",
        "        epoch, max_epochs, train_loss, val_loss, val_acc))\n"
      ]
    },
    {
      "cell_type": "code",
      "execution_count": 112,
      "id": "c2faf533-8750-491a-ad3e-2cd66a804f0c",
      "metadata": {
        "colab": {
          "base_uri": "https://localhost:8080/"
        },
        "id": "c2faf533-8750-491a-ad3e-2cd66a804f0c",
        "outputId": "22937399-ff03-479c-c360-9fc5e1dede06"
      },
      "outputs": [
        {
          "output_type": "stream",
          "name": "stdout",
          "text": [
            "1/100 - train: loss 2.315; val: loss 2.252 accuracy 0.191\n",
            "2/100 - train: loss 2.235; val: loss 2.186 accuracy 0.186\n",
            "3/100 - train: loss 2.127; val: loss 2.072 accuracy 0.210\n",
            "4/100 - train: loss 2.052; val: loss 2.018 accuracy 0.231\n",
            "5/100 - train: loss 2.010; val: loss 1.982 accuracy 0.260\n",
            "6/100 - train: loss 1.984; val: loss 1.958 accuracy 0.271\n",
            "7/100 - train: loss 1.977; val: loss 1.931 accuracy 0.282\n",
            "8/100 - train: loss 1.915; val: loss 1.928 accuracy 0.280\n",
            "9/100 - train: loss 1.902; val: loss 1.908 accuracy 0.275\n",
            "10/100 - train: loss 1.885; val: loss 1.860 accuracy 0.320\n",
            "11/100 - train: loss 1.844; val: loss 1.816 accuracy 0.339\n",
            "12/100 - train: loss 1.845; val: loss 1.825 accuracy 0.317\n",
            "13/100 - train: loss 1.827; val: loss 1.859 accuracy 0.316\n",
            "14/100 - train: loss 1.792; val: loss 1.735 accuracy 0.366\n",
            "15/100 - train: loss 1.809; val: loss 1.761 accuracy 0.356\n",
            "16/100 - train: loss 1.772; val: loss 1.752 accuracy 0.352\n",
            "17/100 - train: loss 1.731; val: loss 1.692 accuracy 0.380\n",
            "18/100 - train: loss 1.734; val: loss 1.672 accuracy 0.394\n",
            "19/100 - train: loss 1.711; val: loss 1.612 accuracy 0.423\n",
            "20/100 - train: loss 1.705; val: loss 1.608 accuracy 0.425\n",
            "21/100 - train: loss 1.725; val: loss 1.652 accuracy 0.403\n",
            "22/100 - train: loss 1.674; val: loss 1.655 accuracy 0.398\n",
            "23/100 - train: loss 1.682; val: loss 1.643 accuracy 0.403\n",
            "24/100 - train: loss 1.649; val: loss 1.595 accuracy 0.416\n",
            "25/100 - train: loss 1.659; val: loss 1.569 accuracy 0.436\n",
            "26/100 - train: loss 1.681; val: loss 1.564 accuracy 0.427\n",
            "27/100 - train: loss 1.646; val: loss 1.556 accuracy 0.440\n",
            "28/100 - train: loss 1.636; val: loss 1.541 accuracy 0.447\n",
            "29/100 - train: loss 1.638; val: loss 1.544 accuracy 0.437\n",
            "30/100 - train: loss 1.638; val: loss 1.553 accuracy 0.447\n",
            "31/100 - train: loss 1.637; val: loss 1.534 accuracy 0.455\n",
            "32/100 - train: loss 1.621; val: loss 1.574 accuracy 0.421\n",
            "33/100 - train: loss 1.657; val: loss 1.549 accuracy 0.436\n",
            "34/100 - train: loss 1.605; val: loss 1.523 accuracy 0.444\n",
            "35/100 - train: loss 1.624; val: loss 1.507 accuracy 0.458\n",
            "36/100 - train: loss 1.630; val: loss 1.519 accuracy 0.443\n",
            "37/100 - train: loss 1.646; val: loss 1.497 accuracy 0.464\n",
            "38/100 - train: loss 1.611; val: loss 1.494 accuracy 0.468\n",
            "39/100 - train: loss 1.597; val: loss 1.506 accuracy 0.453\n",
            "40/100 - train: loss 1.614; val: loss 1.513 accuracy 0.449\n",
            "41/100 - train: loss 1.591; val: loss 1.478 accuracy 0.474\n",
            "42/100 - train: loss 1.627; val: loss 1.515 accuracy 0.459\n",
            "43/100 - train: loss 1.622; val: loss 1.494 accuracy 0.463\n",
            "44/100 - train: loss 1.599; val: loss 1.478 accuracy 0.462\n",
            "45/100 - train: loss 1.578; val: loss 1.490 accuracy 0.466\n",
            "46/100 - train: loss 1.566; val: loss 1.451 accuracy 0.478\n",
            "47/100 - train: loss 1.583; val: loss 1.465 accuracy 0.479\n",
            "48/100 - train: loss 1.562; val: loss 1.489 accuracy 0.465\n",
            "49/100 - train: loss 1.583; val: loss 1.467 accuracy 0.474\n",
            "50/100 - train: loss 1.597; val: loss 1.452 accuracy 0.481\n",
            "51/100 - train: loss 1.575; val: loss 1.484 accuracy 0.462\n",
            "52/100 - train: loss 1.575; val: loss 1.465 accuracy 0.473\n",
            "53/100 - train: loss 1.573; val: loss 1.449 accuracy 0.479\n",
            "54/100 - train: loss 1.550; val: loss 1.462 accuracy 0.479\n",
            "55/100 - train: loss 1.582; val: loss 1.449 accuracy 0.487\n",
            "56/100 - train: loss 1.596; val: loss 1.446 accuracy 0.487\n",
            "57/100 - train: loss 1.566; val: loss 1.456 accuracy 0.483\n",
            "58/100 - train: loss 1.567; val: loss 1.439 accuracy 0.487\n",
            "59/100 - train: loss 1.574; val: loss 1.446 accuracy 0.482\n",
            "60/100 - train: loss 1.583; val: loss 1.449 accuracy 0.477\n",
            "61/100 - train: loss 1.568; val: loss 1.451 accuracy 0.483\n",
            "62/100 - train: loss 1.570; val: loss 1.448 accuracy 0.481\n",
            "63/100 - train: loss 1.568; val: loss 1.449 accuracy 0.485\n",
            "64/100 - train: loss 1.550; val: loss 1.418 accuracy 0.495\n",
            "65/100 - train: loss 1.536; val: loss 1.428 accuracy 0.489\n",
            "66/100 - train: loss 1.550; val: loss 1.426 accuracy 0.494\n",
            "67/100 - train: loss 1.535; val: loss 1.414 accuracy 0.497\n",
            "68/100 - train: loss 1.552; val: loss 1.423 accuracy 0.495\n",
            "69/100 - train: loss 1.542; val: loss 1.437 accuracy 0.484\n",
            "70/100 - train: loss 1.527; val: loss 1.462 accuracy 0.475\n",
            "71/100 - train: loss 1.542; val: loss 1.419 accuracy 0.496\n",
            "72/100 - train: loss 1.542; val: loss 1.403 accuracy 0.498\n",
            "73/100 - train: loss 1.544; val: loss 1.414 accuracy 0.498\n",
            "74/100 - train: loss 1.527; val: loss 1.423 accuracy 0.490\n",
            "75/100 - train: loss 1.524; val: loss 1.414 accuracy 0.496\n",
            "76/100 - train: loss 1.522; val: loss 1.404 accuracy 0.498\n",
            "77/100 - train: loss 1.536; val: loss 1.396 accuracy 0.498\n",
            "78/100 - train: loss 1.519; val: loss 1.405 accuracy 0.497\n",
            "79/100 - train: loss 1.539; val: loss 1.421 accuracy 0.492\n",
            "80/100 - train: loss 1.498; val: loss 1.400 accuracy 0.500\n",
            "81/100 - train: loss 1.520; val: loss 1.391 accuracy 0.500\n",
            "82/100 - train: loss 1.506; val: loss 1.396 accuracy 0.498\n",
            "83/100 - train: loss 1.487; val: loss 1.392 accuracy 0.499\n",
            "84/100 - train: loss 1.505; val: loss 1.384 accuracy 0.507\n",
            "85/100 - train: loss 1.472; val: loss 1.383 accuracy 0.510\n",
            "86/100 - train: loss 1.495; val: loss 1.390 accuracy 0.508\n",
            "87/100 - train: loss 1.503; val: loss 1.372 accuracy 0.511\n",
            "88/100 - train: loss 1.495; val: loss 1.380 accuracy 0.505\n",
            "89/100 - train: loss 1.509; val: loss 1.376 accuracy 0.507\n",
            "90/100 - train: loss 1.514; val: loss 1.371 accuracy 0.511\n",
            "91/100 - train: loss 1.483; val: loss 1.374 accuracy 0.508\n",
            "92/100 - train: loss 1.467; val: loss 1.370 accuracy 0.512\n",
            "93/100 - train: loss 1.491; val: loss 1.368 accuracy 0.511\n",
            "94/100 - train: loss 1.472; val: loss 1.368 accuracy 0.510\n",
            "95/100 - train: loss 1.498; val: loss 1.366 accuracy 0.511\n",
            "96/100 - train: loss 1.483; val: loss 1.368 accuracy 0.511\n",
            "97/100 - train: loss 1.480; val: loss 1.368 accuracy 0.511\n",
            "98/100 - train: loss 1.482; val: loss 1.366 accuracy 0.513\n",
            "99/100 - train: loss 1.491; val: loss 1.366 accuracy 0.511\n",
            "100/100 - train: loss 1.488; val: loss 1.366 accuracy 0.511\n"
          ]
        }
      ],
      "source": [
        "trainer.run(train_loader, max_epochs=EPOCHS);"
      ]
    },
    {
      "cell_type": "code",
      "execution_count": 113,
      "id": "2e9da541-7884-40ec-a682-aee1f2e5da25",
      "metadata": {
        "colab": {
          "base_uri": "https://localhost:8080/",
          "height": 449
        },
        "id": "2e9da541-7884-40ec-a682-aee1f2e5da25",
        "outputId": "e57ce76b-ce05-4407-96ec-6f320972b318"
      },
      "outputs": [
        {
          "output_type": "display_data",
          "data": {
            "text/plain": [
              "<Figure size 640x480 with 1 Axes>"
            ],
            "image/png": "[encoded data removed]"
          },
          "metadata": {}
        }
      ],
      "source": [
        "fig = plt.figure()\n",
        "ax = fig.add_subplot(111)\n",
        "xs = np.arange(1, len(history['train loss']) + 1)\n",
        "ax.plot(xs, history['train loss'], '.-', label='train')\n",
        "ax.plot(xs, history['val loss'], '.-', label='val')\n",
        "ax.set_xlabel('epoch')\n",
        "ax.set_ylabel('loss')\n",
        "ax.legend()\n",
        "ax.grid()\n",
        "plt.show()"
      ]
    },
    {
      "cell_type": "code",
      "execution_count": 114,
      "id": "0EtO8cIiFn1g",
      "metadata": {
        "colab": {
          "base_uri": "https://localhost:8080/",
          "height": 449
        },
        "id": "0EtO8cIiFn1g",
        "outputId": "0cabb5eb-2ed8-457c-9c0f-2edd8656d219"
      },
      "outputs": [
        {
          "output_type": "display_data",
          "data": {
            "text/plain": [
              "<Figure size 640x480 with 1 Axes>"
            ],
            "image/png": "[encoded data removed]"
          },
          "metadata": {}
        }
      ],
      "source": [
        "fig = plt.figure()\n",
        "ax = fig.add_subplot(111)\n",
        "xs = np.arange(1, len(history['val acc']) + 1)\n",
        "ax.plot(xs, history['val acc'], '-')\n",
        "ax.set_xlabel('epoch')\n",
        "ax.set_ylabel('val acc')\n",
        "ax.grid()\n",
        "plt.show()"
      ]
    },
    {
      "cell_type": "code",
      "execution_count": 115,
      "id": "hLVfSs5BFrET",
      "metadata": {
        "colab": {
          "base_uri": "https://localhost:8080/",
          "height": 472
        },
        "id": "hLVfSs5BFrET",
        "outputId": "d2cd3467-dc16-4b6d-b41f-656589e479c6"
      },
      "outputs": [
        {
          "output_type": "display_data",
          "data": {
            "text/plain": [
              "<Figure size 640x480 with 1 Axes>"
            ],
            "image/png": "[encoded data removed]"
          },
          "metadata": {}
        }
      ],
      "source": [
        "# Add this code to the end of your notebook\n",
        "import time\n",
        "\n",
        "# Define a list of batch sizes to test\n",
        "batch_sizes = [1, 2, 4, 8, 16, 32, 64, 128, 256, 512, 1024]\n",
        "\n",
        "# Create an empty list to store inference times\n",
        "inference_times = []\n",
        "\n",
        "# Iterate over the batch sizes\n",
        "for batch_size in batch_sizes:\n",
        "  # Create a DataLoader with the current batch size\n",
        "  test_loader = torch.utils.data.DataLoader(test_dset, batch_size=batch_size, shuffle=False,\n",
        "                                          num_workers=NUM_WORKERS, pin_memory=True)\n",
        "\n",
        "  # Evaluate the model on a single batch of data\n",
        "  with torch.no_grad():\n",
        "    start_time = time.time()\n",
        "    output = model(next(iter(test_loader))[0].to(DEVICE))\n",
        "    end_time = time.time()\n",
        "\n",
        "  # Calculate the inference time and add it to the list\n",
        "  inference_time = end_time - start_time\n",
        "  inference_times.append(inference_time)\n",
        "\n",
        "# Plot the inference times against the batch sizes\n",
        "plt.plot(batch_sizes, inference_times)\n",
        "plt.xlabel(\"Batch Size\")\n",
        "plt.ylabel(\"Inference Time (seconds)\")\n",
        "plt.title(\"Inference Time vs. Batch Size\")\n",
        "plt.grid(True)\n",
        "plt.show()"
      ]
    },
    {
      "cell_type": "code",
      "execution_count": 115,
      "id": "jdAUsoGvH-yA",
      "metadata": {
        "id": "jdAUsoGvH-yA"
      },
      "outputs": [],
      "source": []
    }
  ],
  "metadata": {
    "accelerator": "GPU",
    "colab": {
      "gpuType": "T4",
      "provenance": []
    },
    "kernelspec": {
      "display_name": "Python 3",
      "name": "python3"
    },
    "language_info": {
      "codemirror_mode": {
        "name": "ipython",
        "version": 3
      },
      "file_extension": ".py",
      "mimetype": "text/x-python",
      "name": "python",
      "nbconvert_exporter": "python",
      "pygments_lexer": "ipython3",
      "version": "3.12.4"
    }
  },
  "nbformat": 4,
  "nbformat_minor": 5
}
