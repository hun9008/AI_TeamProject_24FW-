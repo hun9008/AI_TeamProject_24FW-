{
  "cells": [
    {
      "cell_type": "code",
      "execution_count": 1,
      "metadata": {
        "colab": {
          "base_uri": "https://localhost:8080/"
        },
        "id": "gOt_dilyzGPf",
        "outputId": "e2b8600c-58a6-4e96-cb4e-d493b98b99e3"
      },
      "outputs": [
        {
          "output_type": "stream",
          "name": "stdout",
          "text": [
            "Collecting torchinfo\n",
            "  Downloading torchinfo-1.8.0-py3-none-any.whl.metadata (21 kB)\n",
            "Downloading torchinfo-1.8.0-py3-none-any.whl (23 kB)\n",
            "Installing collected packages: torchinfo\n",
            "Successfully installed torchinfo-1.8.0\n"
          ]
        }
      ],
      "source": [
        "!pip install torchinfo"
      ]
    },
    {
      "cell_type": "code",
      "execution_count": 2,
      "metadata": {
        "id": "tZSEFQzWzBPy"
      },
      "outputs": [],
      "source": [
        "import timm\n",
        "import torch\n",
        "import torch.nn as nn\n",
        "import torch.optim as optim\n",
        "from torchvision import datasets, transforms\n",
        "from torch.utils.data import DataLoader, random_split, ConcatDataset\n",
        "import numpy as np\n",
        "from tqdm import tqdm\n",
        "\n",
        "import itertools\n",
        "from torchinfo import summary"
      ]
    },
    {
      "cell_type": "code",
      "execution_count": 3,
      "metadata": {
        "id": "5N0s6e-mzBPz"
      },
      "outputs": [],
      "source": [
        "class ConvNorm(nn.Module):\n",
        "    def __init__(self, in_channels, out_channels, kernel_size=3, stride=2, padding=1):\n",
        "        super(ConvNorm, self).__init__()\n",
        "        self.linear = nn.Conv2d(\n",
        "            in_channels, out_channels, kernel_size=kernel_size,\n",
        "            stride=stride, padding=padding, bias=False\n",
        "        )\n",
        "        self.bn = nn.BatchNorm2d(out_channels)\n",
        "\n",
        "    def forward(self, x):\n",
        "        x = self.linear(x)\n",
        "        x = self.bn(x)\n",
        "        return x"
      ]
    },
    {
      "cell_type": "code",
      "execution_count": 4,
      "metadata": {
        "id": "fX0CnXd9zBP0"
      },
      "outputs": [],
      "source": [
        "class Stem16(nn.Module):\n",
        "    def __init__(self):\n",
        "        super(Stem16, self).__init__()\n",
        "        self.conv1 = ConvNorm(3, 32)\n",
        "        self.act1 = nn.Hardswish()\n",
        "        self.conv2 = ConvNorm(32, 64)\n",
        "        self.act2 = nn.Hardswish()\n",
        "        self.conv3 = ConvNorm(64, 128)\n",
        "        self.act3 = nn.Hardswish()\n",
        "        self.conv4 = ConvNorm(128, 256)\n",
        "\n",
        "    def forward(self, x):\n",
        "        x = self.act1(self.conv1(x))\n",
        "        x = self.act2(self.conv2(x))\n",
        "        x = self.act3(self.conv3(x))\n",
        "        x = self.conv4(x)\n",
        "        return x"
      ]
    },
    {
      "cell_type": "code",
      "execution_count": 5,
      "metadata": {
        "id": "7tw3fRfnzBP0"
      },
      "outputs": [],
      "source": [
        "class LinearNorm(nn.Module):\n",
        "    def __init__(self, in_features, out_features):\n",
        "        super(LinearNorm, self).__init__()\n",
        "        self.linear = nn.Linear(in_features, out_features, bias=False)\n",
        "        self.bn = nn.BatchNorm1d(out_features)\n",
        "\n",
        "    def forward(self, x):\n",
        "\n",
        "        if x.dim() == 3:\n",
        "            B, N, C = x.shape\n",
        "            x = x.reshape(B * N, C)\n",
        "            x = self.bn(self.linear(x))\n",
        "            x = x.reshape(B, N, -1)\n",
        "        else:\n",
        "            x = self.bn(self.linear(x))\n",
        "        return x"
      ]
    },
    {
      "cell_type": "code",
      "execution_count": 6,
      "metadata": {
        "id": "rW7vhH2YzBP1"
      },
      "outputs": [],
      "source": [
        "class Attention(nn.Module):\n",
        "    def __init__(self, dim, num_heads, attn_ratio=2):\n",
        "        super(Attention, self).__init__()\n",
        "        self.num_heads = num_heads\n",
        "        head_dim = dim // num_heads\n",
        "        self.scale = head_dim ** -0.5\n",
        "        inner_dim = head_dim * num_heads * 3\n",
        "        self.qkv = LinearNorm(dim, inner_dim)\n",
        "\n",
        "        self.proj = nn.Sequential(\n",
        "            nn.Hardswish(),\n",
        "            LinearNorm(dim, dim)\n",
        "        )\n",
        "\n",
        "    def forward(self, x):\n",
        "        B, N, C = x.shape\n",
        "        qkv = self.qkv(x)\n",
        "        qkv = qkv.view(B, N, 3, self.num_heads, C // self.num_heads).permute(2, 0, 3, 1, 4)\n",
        "        q, k, v = qkv[0], qkv[1], qkv[2]\n",
        "        attn = (q @ k.transpose(-2, -1)) * self.scale\n",
        "        attn = attn.softmax(dim=-1)\n",
        "        x = (attn @ v).transpose(1, 2).reshape(B, N, C)\n",
        "        return self.proj(x)"
      ]
    },
    {
      "cell_type": "code",
      "execution_count": 7,
      "metadata": {
        "id": "ewOcRA2dzBP1"
      },
      "outputs": [],
      "source": [
        "class LevitMlp(nn.Module):\n",
        "    def __init__(self, in_features, hidden_features, out_features):\n",
        "        super(LevitMlp, self).__init__()\n",
        "        self.ln1 = LinearNorm(in_features, hidden_features)\n",
        "        self.act = nn.Hardswish()\n",
        "        self.drop = nn.Dropout(p=0.0, inplace=False)\n",
        "        self.ln2 = LinearNorm(hidden_features, out_features)\n",
        "\n",
        "    def forward(self, x):\n",
        "        x = self.ln1(x)\n",
        "        x = self.act(x)\n",
        "        x = self.drop(x)\n",
        "        x = self.ln2(x)\n",
        "        return x"
      ]
    },
    {
      "cell_type": "code",
      "execution_count": 8,
      "metadata": {
        "id": "1m-F4YvfzBP2"
      },
      "outputs": [],
      "source": [
        "class LevitBlock(nn.Module):\n",
        "    def __init__(self, dim, num_heads, mlp_ratio=2):\n",
        "        super(LevitBlock, self).__init__()\n",
        "        self.attn = Attention(dim, num_heads)\n",
        "        self.drop_path1 = nn.Identity()\n",
        "        self.mlp = LevitMlp(dim, dim * mlp_ratio, dim)\n",
        "        self.drop_path2 = nn.Identity()\n",
        "\n",
        "    def forward(self, x):\n",
        "        x = x + self.drop_path1(self.attn(x))\n",
        "        x = x + self.drop_path2(self.mlp(x))\n",
        "        return x"
      ]
    },
    {
      "cell_type": "code",
      "execution_count": 9,
      "metadata": {
        "id": "pDfX1xE1zBP2"
      },
      "outputs": [],
      "source": [
        "class AttentionDownsample(nn.Module):\n",
        "    def __init__(self, dim, out_dim, num_heads, attn_ratio=2):\n",
        "        super(AttentionDownsample, self).__init__()\n",
        "        self.num_heads = num_heads\n",
        "        self.scale = (dim // num_heads) ** -0.5\n",
        "        inner_dim = dim * attn_ratio * num_heads\n",
        "        self.kv = LinearNorm(dim, inner_dim)\n",
        "\n",
        "        self.q = nn.Sequential(\n",
        "            nn.Conv2d(dim, dim, kernel_size=2, stride=2),\n",
        "            nn.Flatten(start_dim=1)\n",
        "        )\n",
        "\n",
        "        self.proj = nn.Sequential(\n",
        "            nn.Hardswish(),\n",
        "            LinearNorm(dim, out_dim)\n",
        "        )\n",
        "\n",
        "    def forward(self, x):\n",
        "        B, N, C = x.shape\n",
        "        H = W = int(N ** 0.5)\n",
        "        x = x.reshape(B, C, H, W)\n",
        "\n",
        "        kv = self.kv(x.flatten(2).transpose(1, 2))\n",
        "        q = self.q(x)\n",
        "\n",
        "        q = q.reshape(B, -1, C)\n",
        "        x = self.proj(q)\n",
        "        return x"
      ]
    },
    {
      "cell_type": "code",
      "execution_count": 10,
      "metadata": {
        "id": "Z26uegOwzBP2"
      },
      "outputs": [],
      "source": [
        "class LevitDownsample(nn.Module):\n",
        "    def __init__(self, dim, out_dim, num_heads, attn_ratio=2):\n",
        "        super(LevitDownsample, self).__init__()\n",
        "        self.attn_downsample = AttentionDownsample(dim, out_dim, num_heads, attn_ratio)\n",
        "        self.mlp = LevitMlp(out_dim, out_dim * attn_ratio, out_dim)\n",
        "        self.drop_path = nn.Identity()\n",
        "\n",
        "    def forward(self, x):\n",
        "        x = self.attn_downsample(x)\n",
        "        x = self.drop_path(self.mlp(x))\n",
        "        return x"
      ]
    },
    {
      "cell_type": "code",
      "execution_count": 11,
      "metadata": {
        "id": "oGsAuLPfzBP3"
      },
      "outputs": [],
      "source": [
        "class LevitStage(nn.Module):\n",
        "    def __init__(self, dim, out_dim, num_heads, num_blocks, downsample=True):\n",
        "        super(LevitStage, self).__init__()\n",
        "        self.downsample = LevitDownsample(dim, out_dim, num_heads) if downsample else nn.Identity()\n",
        "        self.blocks = nn.Sequential(*[LevitBlock(out_dim, num_heads) for _ in range(num_blocks)])\n",
        "\n",
        "    def forward(self, x):\n",
        "        x = self.downsample(x)\n",
        "        x = self.blocks(x)\n",
        "        return x"
      ]
    },
    {
      "cell_type": "code",
      "execution_count": 12,
      "metadata": {
        "id": "bBPec4pbzBP3"
      },
      "outputs": [],
      "source": [
        "class NormLinear(nn.Module):\n",
        "    def __init__(self, in_features, out_features, dropout_prob=0.0):\n",
        "        super(NormLinear, self).__init__()\n",
        "        self.bn = nn.BatchNorm1d(in_features)\n",
        "        self.drop = nn.Dropout(p=dropout_prob, inplace=False)\n",
        "        self.linear = nn.Linear(in_features, out_features, bias=True)\n",
        "\n",
        "    def forward(self, x):\n",
        "        x = self.bn(x)\n",
        "        x = self.drop(x)\n",
        "        x = self.linear(x)\n",
        "        return x\n"
      ]
    },
    {
      "cell_type": "code",
      "execution_count": 13,
      "metadata": {
        "id": "mt5kkekezBP3"
      },
      "outputs": [],
      "source": [
        "class LevitDistilled(nn.Module):\n",
        "    def __init__(self, num_classes=37):\n",
        "        super(LevitDistilled, self).__init__()\n",
        "\n",
        "        self.stem = Stem16()\n",
        "\n",
        "        self.stages = nn.Sequential(\n",
        "            LevitStage(dim=256, out_dim=256, num_heads=4, num_blocks=3, downsample=False),\n",
        "            LevitStage(dim=256, out_dim=384, num_heads=6, num_blocks=3, downsample=True),\n",
        "            LevitStage(dim=384, out_dim=512, num_heads=8, num_blocks=2, downsample=True)\n",
        "        )\n",
        "\n",
        "        self.head = NormLinear(in_features=512, out_features=num_classes, dropout_prob=0.0)\n",
        "        self.head_dist = NormLinear(in_features=512, out_features=num_classes, dropout_prob=0.0)\n",
        "\n",
        "    def forward(self, x):\n",
        "        x = self.stem(x)\n",
        "        B, C, H, W = x.shape\n",
        "        x = x.view(B, C, -1).transpose(1, 2)\n",
        "        x = self.stages(x)\n",
        "        out = self.head(x.mean(dim=1))\n",
        "        out_dist = self.head_dist(x.mean(dim=1))\n",
        "        return out"
      ]
    },
    {
      "cell_type": "code",
      "execution_count": 14,
      "metadata": {
        "colab": {
          "base_uri": "https://localhost:8080/",
          "height": 162,
          "referenced_widgets": [
            "39e538aa38cd4353a0266a0d8e6c38cc",
            "4bade416c4fc4cb5a81eb55e4ce9bdcd",
            "cfe07dce8ab14bd4b0b21106be6fe2e0",
            "884930c015c648549a7b7961cee6ce78",
            "62f17b3c424545529da35962d529b7b6",
            "e3508794a85e44deb36b5e2581c40f19",
            "865a461426134dcb8a87db7772990134",
            "54e018c374214b768237aec5d50b4138",
            "d512b6b7f9f94b509cfe6626f9dac7f2",
            "b808787f4b76472d80bbe29ce8d65414",
            "d31b251258b146a2a8fbd67955777d44"
          ]
        },
        "id": "tP9YQ8094vV6",
        "outputId": "541c6fcd-c064-44f7-d435-83a2329b178a"
      },
      "outputs": [
        {
          "output_type": "stream",
          "name": "stderr",
          "text": [
            "/usr/local/lib/python3.10/dist-packages/huggingface_hub/utils/_auth.py:94: UserWarning: \n",
            "The secret `HF_TOKEN` does not exist in your Colab secrets.\n",
            "To authenticate with the Hugging Face Hub, create a token in your settings tab (https://huggingface.co/settings/tokens), set it as secret in your Google Colab and restart your session.\n",
            "You will be able to reuse this secret in all of your notebooks.\n",
            "Please note that authentication is recommended but still optional to access public models or datasets.\n",
            "  warnings.warn(\n"
          ]
        },
        {
          "output_type": "display_data",
          "data": {
            "text/plain": [
              "model.safetensors:   0%|          | 0.00/102M [00:00<?, ?B/s]"
            ],
            "application/vnd.jupyter.widget-view+json": {
              "version_major": 2,
              "version_minor": 0,
              "model_id": "39e538aa38cd4353a0266a0d8e6c38cc"
            }
          },
          "metadata": {}
        }
      ],
      "source": [
        "ResNet50 = timm.create_model('resnet50', pretrained=True)"
      ]
    },
    {
      "cell_type": "code",
      "execution_count": 15,
      "metadata": {
        "colab": {
          "base_uri": "https://localhost:8080/"
        },
        "id": "k5kDAmg84xs_",
        "outputId": "3f69d75a-aa55-4d34-9f26-9f3e1b87333b"
      },
      "outputs": [
        {
          "output_type": "stream",
          "name": "stdout",
          "text": [
            "==========================================================================================\n",
            "Layer (type:depth-idx)                   Output Shape              Param #\n",
            "==========================================================================================\n",
            "ResNet                                   [32, 1000]                --\n",
            "├─Conv2d: 1-1                            [32, 64, 112, 112]        9,408\n",
            "├─BatchNorm2d: 1-2                       [32, 64, 112, 112]        128\n",
            "├─ReLU: 1-3                              [32, 64, 112, 112]        --\n",
            "├─MaxPool2d: 1-4                         [32, 64, 56, 56]          --\n",
            "├─Sequential: 1-5                        [32, 256, 56, 56]         --\n",
            "│    └─Bottleneck: 2-1                   [32, 256, 56, 56]         --\n",
            "│    │    └─Conv2d: 3-1                  [32, 64, 56, 56]          4,096\n",
            "│    │    └─BatchNorm2d: 3-2             [32, 64, 56, 56]          128\n",
            "│    │    └─ReLU: 3-3                    [32, 64, 56, 56]          --\n",
            "│    │    └─Conv2d: 3-4                  [32, 64, 56, 56]          36,864\n",
            "│    │    └─BatchNorm2d: 3-5             [32, 64, 56, 56]          128\n",
            "│    │    └─Identity: 3-6                [32, 64, 56, 56]          --\n",
            "│    │    └─ReLU: 3-7                    [32, 64, 56, 56]          --\n",
            "│    │    └─Identity: 3-8                [32, 64, 56, 56]          --\n",
            "│    │    └─Conv2d: 3-9                  [32, 256, 56, 56]         16,384\n",
            "│    │    └─BatchNorm2d: 3-10            [32, 256, 56, 56]         512\n",
            "│    │    └─Sequential: 3-11             [32, 256, 56, 56]         16,896\n",
            "│    │    └─ReLU: 3-12                   [32, 256, 56, 56]         --\n",
            "│    └─Bottleneck: 2-2                   [32, 256, 56, 56]         --\n",
            "│    │    └─Conv2d: 3-13                 [32, 64, 56, 56]          16,384\n",
            "│    │    └─BatchNorm2d: 3-14            [32, 64, 56, 56]          128\n",
            "│    │    └─ReLU: 3-15                   [32, 64, 56, 56]          --\n",
            "│    │    └─Conv2d: 3-16                 [32, 64, 56, 56]          36,864\n",
            "│    │    └─BatchNorm2d: 3-17            [32, 64, 56, 56]          128\n",
            "│    │    └─Identity: 3-18               [32, 64, 56, 56]          --\n",
            "│    │    └─ReLU: 3-19                   [32, 64, 56, 56]          --\n",
            "│    │    └─Identity: 3-20               [32, 64, 56, 56]          --\n",
            "│    │    └─Conv2d: 3-21                 [32, 256, 56, 56]         16,384\n",
            "│    │    └─BatchNorm2d: 3-22            [32, 256, 56, 56]         512\n",
            "│    │    └─ReLU: 3-23                   [32, 256, 56, 56]         --\n",
            "│    └─Bottleneck: 2-3                   [32, 256, 56, 56]         --\n",
            "│    │    └─Conv2d: 3-24                 [32, 64, 56, 56]          16,384\n",
            "│    │    └─BatchNorm2d: 3-25            [32, 64, 56, 56]          128\n",
            "│    │    └─ReLU: 3-26                   [32, 64, 56, 56]          --\n",
            "│    │    └─Conv2d: 3-27                 [32, 64, 56, 56]          36,864\n",
            "│    │    └─BatchNorm2d: 3-28            [32, 64, 56, 56]          128\n",
            "│    │    └─Identity: 3-29               [32, 64, 56, 56]          --\n",
            "│    │    └─ReLU: 3-30                   [32, 64, 56, 56]          --\n",
            "│    │    └─Identity: 3-31               [32, 64, 56, 56]          --\n",
            "│    │    └─Conv2d: 3-32                 [32, 256, 56, 56]         16,384\n",
            "│    │    └─BatchNorm2d: 3-33            [32, 256, 56, 56]         512\n",
            "│    │    └─ReLU: 3-34                   [32, 256, 56, 56]         --\n",
            "├─Sequential: 1-6                        [32, 512, 28, 28]         --\n",
            "│    └─Bottleneck: 2-4                   [32, 512, 28, 28]         --\n",
            "│    │    └─Conv2d: 3-35                 [32, 128, 56, 56]         32,768\n",
            "│    │    └─BatchNorm2d: 3-36            [32, 128, 56, 56]         256\n",
            "│    │    └─ReLU: 3-37                   [32, 128, 56, 56]         --\n",
            "│    │    └─Conv2d: 3-38                 [32, 128, 28, 28]         147,456\n",
            "│    │    └─BatchNorm2d: 3-39            [32, 128, 28, 28]         256\n",
            "│    │    └─Identity: 3-40               [32, 128, 28, 28]         --\n",
            "│    │    └─ReLU: 3-41                   [32, 128, 28, 28]         --\n",
            "│    │    └─Identity: 3-42               [32, 128, 28, 28]         --\n",
            "│    │    └─Conv2d: 3-43                 [32, 512, 28, 28]         65,536\n",
            "│    │    └─BatchNorm2d: 3-44            [32, 512, 28, 28]         1,024\n",
            "│    │    └─Sequential: 3-45             [32, 512, 28, 28]         132,096\n",
            "│    │    └─ReLU: 3-46                   [32, 512, 28, 28]         --\n",
            "│    └─Bottleneck: 2-5                   [32, 512, 28, 28]         --\n",
            "│    │    └─Conv2d: 3-47                 [32, 128, 28, 28]         65,536\n",
            "│    │    └─BatchNorm2d: 3-48            [32, 128, 28, 28]         256\n",
            "│    │    └─ReLU: 3-49                   [32, 128, 28, 28]         --\n",
            "│    │    └─Conv2d: 3-50                 [32, 128, 28, 28]         147,456\n",
            "│    │    └─BatchNorm2d: 3-51            [32, 128, 28, 28]         256\n",
            "│    │    └─Identity: 3-52               [32, 128, 28, 28]         --\n",
            "│    │    └─ReLU: 3-53                   [32, 128, 28, 28]         --\n",
            "│    │    └─Identity: 3-54               [32, 128, 28, 28]         --\n",
            "│    │    └─Conv2d: 3-55                 [32, 512, 28, 28]         65,536\n",
            "│    │    └─BatchNorm2d: 3-56            [32, 512, 28, 28]         1,024\n",
            "│    │    └─ReLU: 3-57                   [32, 512, 28, 28]         --\n",
            "│    └─Bottleneck: 2-6                   [32, 512, 28, 28]         --\n",
            "│    │    └─Conv2d: 3-58                 [32, 128, 28, 28]         65,536\n",
            "│    │    └─BatchNorm2d: 3-59            [32, 128, 28, 28]         256\n",
            "│    │    └─ReLU: 3-60                   [32, 128, 28, 28]         --\n",
            "│    │    └─Conv2d: 3-61                 [32, 128, 28, 28]         147,456\n",
            "│    │    └─BatchNorm2d: 3-62            [32, 128, 28, 28]         256\n",
            "│    │    └─Identity: 3-63               [32, 128, 28, 28]         --\n",
            "│    │    └─ReLU: 3-64                   [32, 128, 28, 28]         --\n",
            "│    │    └─Identity: 3-65               [32, 128, 28, 28]         --\n",
            "│    │    └─Conv2d: 3-66                 [32, 512, 28, 28]         65,536\n",
            "│    │    └─BatchNorm2d: 3-67            [32, 512, 28, 28]         1,024\n",
            "│    │    └─ReLU: 3-68                   [32, 512, 28, 28]         --\n",
            "│    └─Bottleneck: 2-7                   [32, 512, 28, 28]         --\n",
            "│    │    └─Conv2d: 3-69                 [32, 128, 28, 28]         65,536\n",
            "│    │    └─BatchNorm2d: 3-70            [32, 128, 28, 28]         256\n",
            "│    │    └─ReLU: 3-71                   [32, 128, 28, 28]         --\n",
            "│    │    └─Conv2d: 3-72                 [32, 128, 28, 28]         147,456\n",
            "│    │    └─BatchNorm2d: 3-73            [32, 128, 28, 28]         256\n",
            "│    │    └─Identity: 3-74               [32, 128, 28, 28]         --\n",
            "│    │    └─ReLU: 3-75                   [32, 128, 28, 28]         --\n",
            "│    │    └─Identity: 3-76               [32, 128, 28, 28]         --\n",
            "│    │    └─Conv2d: 3-77                 [32, 512, 28, 28]         65,536\n",
            "│    │    └─BatchNorm2d: 3-78            [32, 512, 28, 28]         1,024\n",
            "│    │    └─ReLU: 3-79                   [32, 512, 28, 28]         --\n",
            "├─Sequential: 1-7                        [32, 1024, 14, 14]        --\n",
            "│    └─Bottleneck: 2-8                   [32, 1024, 14, 14]        --\n",
            "│    │    └─Conv2d: 3-80                 [32, 256, 28, 28]         131,072\n",
            "│    │    └─BatchNorm2d: 3-81            [32, 256, 28, 28]         512\n",
            "│    │    └─ReLU: 3-82                   [32, 256, 28, 28]         --\n",
            "│    │    └─Conv2d: 3-83                 [32, 256, 14, 14]         589,824\n",
            "│    │    └─BatchNorm2d: 3-84            [32, 256, 14, 14]         512\n",
            "│    │    └─Identity: 3-85               [32, 256, 14, 14]         --\n",
            "│    │    └─ReLU: 3-86                   [32, 256, 14, 14]         --\n",
            "│    │    └─Identity: 3-87               [32, 256, 14, 14]         --\n",
            "│    │    └─Conv2d: 3-88                 [32, 1024, 14, 14]        262,144\n",
            "│    │    └─BatchNorm2d: 3-89            [32, 1024, 14, 14]        2,048\n",
            "│    │    └─Sequential: 3-90             [32, 1024, 14, 14]        526,336\n",
            "│    │    └─ReLU: 3-91                   [32, 1024, 14, 14]        --\n",
            "│    └─Bottleneck: 2-9                   [32, 1024, 14, 14]        --\n",
            "│    │    └─Conv2d: 3-92                 [32, 256, 14, 14]         262,144\n",
            "│    │    └─BatchNorm2d: 3-93            [32, 256, 14, 14]         512\n",
            "│    │    └─ReLU: 3-94                   [32, 256, 14, 14]         --\n",
            "│    │    └─Conv2d: 3-95                 [32, 256, 14, 14]         589,824\n",
            "│    │    └─BatchNorm2d: 3-96            [32, 256, 14, 14]         512\n",
            "│    │    └─Identity: 3-97               [32, 256, 14, 14]         --\n",
            "│    │    └─ReLU: 3-98                   [32, 256, 14, 14]         --\n",
            "│    │    └─Identity: 3-99               [32, 256, 14, 14]         --\n",
            "│    │    └─Conv2d: 3-100                [32, 1024, 14, 14]        262,144\n",
            "│    │    └─BatchNorm2d: 3-101           [32, 1024, 14, 14]        2,048\n",
            "│    │    └─ReLU: 3-102                  [32, 1024, 14, 14]        --\n",
            "│    └─Bottleneck: 2-10                  [32, 1024, 14, 14]        --\n",
            "│    │    └─Conv2d: 3-103                [32, 256, 14, 14]         262,144\n",
            "│    │    └─BatchNorm2d: 3-104           [32, 256, 14, 14]         512\n",
            "│    │    └─ReLU: 3-105                  [32, 256, 14, 14]         --\n",
            "│    │    └─Conv2d: 3-106                [32, 256, 14, 14]         589,824\n",
            "│    │    └─BatchNorm2d: 3-107           [32, 256, 14, 14]         512\n",
            "│    │    └─Identity: 3-108              [32, 256, 14, 14]         --\n",
            "│    │    └─ReLU: 3-109                  [32, 256, 14, 14]         --\n",
            "│    │    └─Identity: 3-110              [32, 256, 14, 14]         --\n",
            "│    │    └─Conv2d: 3-111                [32, 1024, 14, 14]        262,144\n",
            "│    │    └─BatchNorm2d: 3-112           [32, 1024, 14, 14]        2,048\n",
            "│    │    └─ReLU: 3-113                  [32, 1024, 14, 14]        --\n",
            "│    └─Bottleneck: 2-11                  [32, 1024, 14, 14]        --\n",
            "│    │    └─Conv2d: 3-114                [32, 256, 14, 14]         262,144\n",
            "│    │    └─BatchNorm2d: 3-115           [32, 256, 14, 14]         512\n",
            "│    │    └─ReLU: 3-116                  [32, 256, 14, 14]         --\n",
            "│    │    └─Conv2d: 3-117                [32, 256, 14, 14]         589,824\n",
            "│    │    └─BatchNorm2d: 3-118           [32, 256, 14, 14]         512\n",
            "│    │    └─Identity: 3-119              [32, 256, 14, 14]         --\n",
            "│    │    └─ReLU: 3-120                  [32, 256, 14, 14]         --\n",
            "│    │    └─Identity: 3-121              [32, 256, 14, 14]         --\n",
            "│    │    └─Conv2d: 3-122                [32, 1024, 14, 14]        262,144\n",
            "│    │    └─BatchNorm2d: 3-123           [32, 1024, 14, 14]        2,048\n",
            "│    │    └─ReLU: 3-124                  [32, 1024, 14, 14]        --\n",
            "│    └─Bottleneck: 2-12                  [32, 1024, 14, 14]        --\n",
            "│    │    └─Conv2d: 3-125                [32, 256, 14, 14]         262,144\n",
            "│    │    └─BatchNorm2d: 3-126           [32, 256, 14, 14]         512\n",
            "│    │    └─ReLU: 3-127                  [32, 256, 14, 14]         --\n",
            "│    │    └─Conv2d: 3-128                [32, 256, 14, 14]         589,824\n",
            "│    │    └─BatchNorm2d: 3-129           [32, 256, 14, 14]         512\n",
            "│    │    └─Identity: 3-130              [32, 256, 14, 14]         --\n",
            "│    │    └─ReLU: 3-131                  [32, 256, 14, 14]         --\n",
            "│    │    └─Identity: 3-132              [32, 256, 14, 14]         --\n",
            "│    │    └─Conv2d: 3-133                [32, 1024, 14, 14]        262,144\n",
            "│    │    └─BatchNorm2d: 3-134           [32, 1024, 14, 14]        2,048\n",
            "│    │    └─ReLU: 3-135                  [32, 1024, 14, 14]        --\n",
            "│    └─Bottleneck: 2-13                  [32, 1024, 14, 14]        --\n",
            "│    │    └─Conv2d: 3-136                [32, 256, 14, 14]         262,144\n",
            "│    │    └─BatchNorm2d: 3-137           [32, 256, 14, 14]         512\n",
            "│    │    └─ReLU: 3-138                  [32, 256, 14, 14]         --\n",
            "│    │    └─Conv2d: 3-139                [32, 256, 14, 14]         589,824\n",
            "│    │    └─BatchNorm2d: 3-140           [32, 256, 14, 14]         512\n",
            "│    │    └─Identity: 3-141              [32, 256, 14, 14]         --\n",
            "│    │    └─ReLU: 3-142                  [32, 256, 14, 14]         --\n",
            "│    │    └─Identity: 3-143              [32, 256, 14, 14]         --\n",
            "│    │    └─Conv2d: 3-144                [32, 1024, 14, 14]        262,144\n",
            "│    │    └─BatchNorm2d: 3-145           [32, 1024, 14, 14]        2,048\n",
            "│    │    └─ReLU: 3-146                  [32, 1024, 14, 14]        --\n",
            "├─Sequential: 1-8                        [32, 2048, 7, 7]          --\n",
            "│    └─Bottleneck: 2-14                  [32, 2048, 7, 7]          --\n",
            "│    │    └─Conv2d: 3-147                [32, 512, 14, 14]         524,288\n",
            "│    │    └─BatchNorm2d: 3-148           [32, 512, 14, 14]         1,024\n",
            "│    │    └─ReLU: 3-149                  [32, 512, 14, 14]         --\n",
            "│    │    └─Conv2d: 3-150                [32, 512, 7, 7]           2,359,296\n",
            "│    │    └─BatchNorm2d: 3-151           [32, 512, 7, 7]           1,024\n",
            "│    │    └─Identity: 3-152              [32, 512, 7, 7]           --\n",
            "│    │    └─ReLU: 3-153                  [32, 512, 7, 7]           --\n",
            "│    │    └─Identity: 3-154              [32, 512, 7, 7]           --\n",
            "│    │    └─Conv2d: 3-155                [32, 2048, 7, 7]          1,048,576\n",
            "│    │    └─BatchNorm2d: 3-156           [32, 2048, 7, 7]          4,096\n",
            "│    │    └─Sequential: 3-157            [32, 2048, 7, 7]          2,101,248\n",
            "│    │    └─ReLU: 3-158                  [32, 2048, 7, 7]          --\n",
            "│    └─Bottleneck: 2-15                  [32, 2048, 7, 7]          --\n",
            "│    │    └─Conv2d: 3-159                [32, 512, 7, 7]           1,048,576\n",
            "│    │    └─BatchNorm2d: 3-160           [32, 512, 7, 7]           1,024\n",
            "│    │    └─ReLU: 3-161                  [32, 512, 7, 7]           --\n",
            "│    │    └─Conv2d: 3-162                [32, 512, 7, 7]           2,359,296\n",
            "│    │    └─BatchNorm2d: 3-163           [32, 512, 7, 7]           1,024\n",
            "│    │    └─Identity: 3-164              [32, 512, 7, 7]           --\n",
            "│    │    └─ReLU: 3-165                  [32, 512, 7, 7]           --\n",
            "│    │    └─Identity: 3-166              [32, 512, 7, 7]           --\n",
            "│    │    └─Conv2d: 3-167                [32, 2048, 7, 7]          1,048,576\n",
            "│    │    └─BatchNorm2d: 3-168           [32, 2048, 7, 7]          4,096\n",
            "│    │    └─ReLU: 3-169                  [32, 2048, 7, 7]          --\n",
            "│    └─Bottleneck: 2-16                  [32, 2048, 7, 7]          --\n",
            "│    │    └─Conv2d: 3-170                [32, 512, 7, 7]           1,048,576\n",
            "│    │    └─BatchNorm2d: 3-171           [32, 512, 7, 7]           1,024\n",
            "│    │    └─ReLU: 3-172                  [32, 512, 7, 7]           --\n",
            "│    │    └─Conv2d: 3-173                [32, 512, 7, 7]           2,359,296\n",
            "│    │    └─BatchNorm2d: 3-174           [32, 512, 7, 7]           1,024\n",
            "│    │    └─Identity: 3-175              [32, 512, 7, 7]           --\n",
            "│    │    └─ReLU: 3-176                  [32, 512, 7, 7]           --\n",
            "│    │    └─Identity: 3-177              [32, 512, 7, 7]           --\n",
            "│    │    └─Conv2d: 3-178                [32, 2048, 7, 7]          1,048,576\n",
            "│    │    └─BatchNorm2d: 3-179           [32, 2048, 7, 7]          4,096\n",
            "│    │    └─ReLU: 3-180                  [32, 2048, 7, 7]          --\n",
            "├─SelectAdaptivePool2d: 1-9              [32, 2048]                --\n",
            "│    └─AdaptiveAvgPool2d: 2-17           [32, 2048, 1, 1]          --\n",
            "│    └─Flatten: 2-18                     [32, 2048]                --\n",
            "├─Linear: 1-10                           [32, 1000]                2,049,000\n",
            "==========================================================================================\n",
            "Total params: 25,557,032\n",
            "Trainable params: 25,557,032\n",
            "Non-trainable params: 0\n",
            "Total mult-adds (G): 130.86\n",
            "==========================================================================================\n",
            "Input size (MB): 19.27\n",
            "Forward/backward pass size (MB): 5690.62\n",
            "Params size (MB): 102.23\n",
            "Estimated Total Size (MB): 5812.11\n",
            "==========================================================================================\n"
          ]
        }
      ],
      "source": [
        "print(summary(ResNet50, input_size=(32, 3, 224, 224)))"
      ]
    },
    {
      "cell_type": "code",
      "execution_count": 16,
      "metadata": {
        "id": "jr3cd2Ro67IM"
      },
      "outputs": [],
      "source": [
        "for param in ResNet50.parameters():\n",
        "    param.requires_grad = False"
      ]
    },
    {
      "cell_type": "code",
      "execution_count": 17,
      "metadata": {
        "id": "e0vDyvmN821X"
      },
      "outputs": [],
      "source": [
        "ResNet50.fc = nn.Identity()"
      ]
    },
    {
      "cell_type": "code",
      "execution_count": 18,
      "metadata": {
        "id": "xJDiw4Kc4674"
      },
      "outputs": [],
      "source": [
        "class LauncherModel(nn.Module):\n",
        "    def __init__(self):\n",
        "        super().__init__()\n",
        "        self.resnet = ResNet50\n",
        "        self.fc = nn.Linear(2048, 3 * 56 * 56)\n",
        "\n",
        "        self.upsample = nn.ConvTranspose2d(3, 3, kernel_size=4, stride=4, padding=0)\n",
        "\n",
        "        self.levit = LevitDistilled()\n",
        "\n",
        "    def forward(self, x):\n",
        "        x = self.resnet(x)  # (32, 2048)\n",
        "        x = self.fc(x)  # (32, 9408)\n",
        "        x = x.view(x.size(0), 3, 56, 56)  # (32, 3, 56, 56)\n",
        "        x = self.upsample(x)  # (32, 3, 224, 224)\n",
        "        x = self.levit(x)\n",
        "        return x\n"
      ]
    },
    {
      "cell_type": "code",
      "execution_count": 19,
      "metadata": {
        "colab": {
          "base_uri": "https://localhost:8080/"
        },
        "id": "kz4Um3NmzBP3",
        "outputId": "0955880a-0c01-48fe-c7ad-1846df23e45d"
      },
      "outputs": [
        {
          "output_type": "stream",
          "name": "stdout",
          "text": [
            "LauncherModel(\n",
            "  (resnet): ResNet(\n",
            "    (conv1): Conv2d(3, 64, kernel_size=(7, 7), stride=(2, 2), padding=(3, 3), bias=False)\n",
            "    (bn1): BatchNorm2d(64, eps=1e-05, momentum=0.1, affine=True, track_running_stats=True)\n",
            "    (act1): ReLU(inplace=True)\n",
            "    (maxpool): MaxPool2d(kernel_size=3, stride=2, padding=1, dilation=1, ceil_mode=False)\n",
            "    (layer1): Sequential(\n",
            "      (0): Bottleneck(\n",
            "        (conv1): Conv2d(64, 64, kernel_size=(1, 1), stride=(1, 1), bias=False)\n",
            "        (bn1): BatchNorm2d(64, eps=1e-05, momentum=0.1, affine=True, track_running_stats=True)\n",
            "        (act1): ReLU(inplace=True)\n",
            "        (conv2): Conv2d(64, 64, kernel_size=(3, 3), stride=(1, 1), padding=(1, 1), bias=False)\n",
            "        (bn2): BatchNorm2d(64, eps=1e-05, momentum=0.1, affine=True, track_running_stats=True)\n",
            "        (drop_block): Identity()\n",
            "        (act2): ReLU(inplace=True)\n",
            "        (aa): Identity()\n",
            "        (conv3): Conv2d(64, 256, kernel_size=(1, 1), stride=(1, 1), bias=False)\n",
            "        (bn3): BatchNorm2d(256, eps=1e-05, momentum=0.1, affine=True, track_running_stats=True)\n",
            "        (act3): ReLU(inplace=True)\n",
            "        (downsample): Sequential(\n",
            "          (0): Conv2d(64, 256, kernel_size=(1, 1), stride=(1, 1), bias=False)\n",
            "          (1): BatchNorm2d(256, eps=1e-05, momentum=0.1, affine=True, track_running_stats=True)\n",
            "        )\n",
            "      )\n",
            "      (1): Bottleneck(\n",
            "        (conv1): Conv2d(256, 64, kernel_size=(1, 1), stride=(1, 1), bias=False)\n",
            "        (bn1): BatchNorm2d(64, eps=1e-05, momentum=0.1, affine=True, track_running_stats=True)\n",
            "        (act1): ReLU(inplace=True)\n",
            "        (conv2): Conv2d(64, 64, kernel_size=(3, 3), stride=(1, 1), padding=(1, 1), bias=False)\n",
            "        (bn2): BatchNorm2d(64, eps=1e-05, momentum=0.1, affine=True, track_running_stats=True)\n",
            "        (drop_block): Identity()\n",
            "        (act2): ReLU(inplace=True)\n",
            "        (aa): Identity()\n",
            "        (conv3): Conv2d(64, 256, kernel_size=(1, 1), stride=(1, 1), bias=False)\n",
            "        (bn3): BatchNorm2d(256, eps=1e-05, momentum=0.1, affine=True, track_running_stats=True)\n",
            "        (act3): ReLU(inplace=True)\n",
            "      )\n",
            "      (2): Bottleneck(\n",
            "        (conv1): Conv2d(256, 64, kernel_size=(1, 1), stride=(1, 1), bias=False)\n",
            "        (bn1): BatchNorm2d(64, eps=1e-05, momentum=0.1, affine=True, track_running_stats=True)\n",
            "        (act1): ReLU(inplace=True)\n",
            "        (conv2): Conv2d(64, 64, kernel_size=(3, 3), stride=(1, 1), padding=(1, 1), bias=False)\n",
            "        (bn2): BatchNorm2d(64, eps=1e-05, momentum=0.1, affine=True, track_running_stats=True)\n",
            "        (drop_block): Identity()\n",
            "        (act2): ReLU(inplace=True)\n",
            "        (aa): Identity()\n",
            "        (conv3): Conv2d(64, 256, kernel_size=(1, 1), stride=(1, 1), bias=False)\n",
            "        (bn3): BatchNorm2d(256, eps=1e-05, momentum=0.1, affine=True, track_running_stats=True)\n",
            "        (act3): ReLU(inplace=True)\n",
            "      )\n",
            "    )\n",
            "    (layer2): Sequential(\n",
            "      (0): Bottleneck(\n",
            "        (conv1): Conv2d(256, 128, kernel_size=(1, 1), stride=(1, 1), bias=False)\n",
            "        (bn1): BatchNorm2d(128, eps=1e-05, momentum=0.1, affine=True, track_running_stats=True)\n",
            "        (act1): ReLU(inplace=True)\n",
            "        (conv2): Conv2d(128, 128, kernel_size=(3, 3), stride=(2, 2), padding=(1, 1), bias=False)\n",
            "        (bn2): BatchNorm2d(128, eps=1e-05, momentum=0.1, affine=True, track_running_stats=True)\n",
            "        (drop_block): Identity()\n",
            "        (act2): ReLU(inplace=True)\n",
            "        (aa): Identity()\n",
            "        (conv3): Conv2d(128, 512, kernel_size=(1, 1), stride=(1, 1), bias=False)\n",
            "        (bn3): BatchNorm2d(512, eps=1e-05, momentum=0.1, affine=True, track_running_stats=True)\n",
            "        (act3): ReLU(inplace=True)\n",
            "        (downsample): Sequential(\n",
            "          (0): Conv2d(256, 512, kernel_size=(1, 1), stride=(2, 2), bias=False)\n",
            "          (1): BatchNorm2d(512, eps=1e-05, momentum=0.1, affine=True, track_running_stats=True)\n",
            "        )\n",
            "      )\n",
            "      (1): Bottleneck(\n",
            "        (conv1): Conv2d(512, 128, kernel_size=(1, 1), stride=(1, 1), bias=False)\n",
            "        (bn1): BatchNorm2d(128, eps=1e-05, momentum=0.1, affine=True, track_running_stats=True)\n",
            "        (act1): ReLU(inplace=True)\n",
            "        (conv2): Conv2d(128, 128, kernel_size=(3, 3), stride=(1, 1), padding=(1, 1), bias=False)\n",
            "        (bn2): BatchNorm2d(128, eps=1e-05, momentum=0.1, affine=True, track_running_stats=True)\n",
            "        (drop_block): Identity()\n",
            "        (act2): ReLU(inplace=True)\n",
            "        (aa): Identity()\n",
            "        (conv3): Conv2d(128, 512, kernel_size=(1, 1), stride=(1, 1), bias=False)\n",
            "        (bn3): BatchNorm2d(512, eps=1e-05, momentum=0.1, affine=True, track_running_stats=True)\n",
            "        (act3): ReLU(inplace=True)\n",
            "      )\n",
            "      (2): Bottleneck(\n",
            "        (conv1): Conv2d(512, 128, kernel_size=(1, 1), stride=(1, 1), bias=False)\n",
            "        (bn1): BatchNorm2d(128, eps=1e-05, momentum=0.1, affine=True, track_running_stats=True)\n",
            "        (act1): ReLU(inplace=True)\n",
            "        (conv2): Conv2d(128, 128, kernel_size=(3, 3), stride=(1, 1), padding=(1, 1), bias=False)\n",
            "        (bn2): BatchNorm2d(128, eps=1e-05, momentum=0.1, affine=True, track_running_stats=True)\n",
            "        (drop_block): Identity()\n",
            "        (act2): ReLU(inplace=True)\n",
            "        (aa): Identity()\n",
            "        (conv3): Conv2d(128, 512, kernel_size=(1, 1), stride=(1, 1), bias=False)\n",
            "        (bn3): BatchNorm2d(512, eps=1e-05, momentum=0.1, affine=True, track_running_stats=True)\n",
            "        (act3): ReLU(inplace=True)\n",
            "      )\n",
            "      (3): Bottleneck(\n",
            "        (conv1): Conv2d(512, 128, kernel_size=(1, 1), stride=(1, 1), bias=False)\n",
            "        (bn1): BatchNorm2d(128, eps=1e-05, momentum=0.1, affine=True, track_running_stats=True)\n",
            "        (act1): ReLU(inplace=True)\n",
            "        (conv2): Conv2d(128, 128, kernel_size=(3, 3), stride=(1, 1), padding=(1, 1), bias=False)\n",
            "        (bn2): BatchNorm2d(128, eps=1e-05, momentum=0.1, affine=True, track_running_stats=True)\n",
            "        (drop_block): Identity()\n",
            "        (act2): ReLU(inplace=True)\n",
            "        (aa): Identity()\n",
            "        (conv3): Conv2d(128, 512, kernel_size=(1, 1), stride=(1, 1), bias=False)\n",
            "        (bn3): BatchNorm2d(512, eps=1e-05, momentum=0.1, affine=True, track_running_stats=True)\n",
            "        (act3): ReLU(inplace=True)\n",
            "      )\n",
            "    )\n",
            "    (layer3): Sequential(\n",
            "      (0): Bottleneck(\n",
            "        (conv1): Conv2d(512, 256, kernel_size=(1, 1), stride=(1, 1), bias=False)\n",
            "        (bn1): BatchNorm2d(256, eps=1e-05, momentum=0.1, affine=True, track_running_stats=True)\n",
            "        (act1): ReLU(inplace=True)\n",
            "        (conv2): Conv2d(256, 256, kernel_size=(3, 3), stride=(2, 2), padding=(1, 1), bias=False)\n",
            "        (bn2): BatchNorm2d(256, eps=1e-05, momentum=0.1, affine=True, track_running_stats=True)\n",
            "        (drop_block): Identity()\n",
            "        (act2): ReLU(inplace=True)\n",
            "        (aa): Identity()\n",
            "        (conv3): Conv2d(256, 1024, kernel_size=(1, 1), stride=(1, 1), bias=False)\n",
            "        (bn3): BatchNorm2d(1024, eps=1e-05, momentum=0.1, affine=True, track_running_stats=True)\n",
            "        (act3): ReLU(inplace=True)\n",
            "        (downsample): Sequential(\n",
            "          (0): Conv2d(512, 1024, kernel_size=(1, 1), stride=(2, 2), bias=False)\n",
            "          (1): BatchNorm2d(1024, eps=1e-05, momentum=0.1, affine=True, track_running_stats=True)\n",
            "        )\n",
            "      )\n",
            "      (1): Bottleneck(\n",
            "        (conv1): Conv2d(1024, 256, kernel_size=(1, 1), stride=(1, 1), bias=False)\n",
            "        (bn1): BatchNorm2d(256, eps=1e-05, momentum=0.1, affine=True, track_running_stats=True)\n",
            "        (act1): ReLU(inplace=True)\n",
            "        (conv2): Conv2d(256, 256, kernel_size=(3, 3), stride=(1, 1), padding=(1, 1), bias=False)\n",
            "        (bn2): BatchNorm2d(256, eps=1e-05, momentum=0.1, affine=True, track_running_stats=True)\n",
            "        (drop_block): Identity()\n",
            "        (act2): ReLU(inplace=True)\n",
            "        (aa): Identity()\n",
            "        (conv3): Conv2d(256, 1024, kernel_size=(1, 1), stride=(1, 1), bias=False)\n",
            "        (bn3): BatchNorm2d(1024, eps=1e-05, momentum=0.1, affine=True, track_running_stats=True)\n",
            "        (act3): ReLU(inplace=True)\n",
            "      )\n",
            "      (2): Bottleneck(\n",
            "        (conv1): Conv2d(1024, 256, kernel_size=(1, 1), stride=(1, 1), bias=False)\n",
            "        (bn1): BatchNorm2d(256, eps=1e-05, momentum=0.1, affine=True, track_running_stats=True)\n",
            "        (act1): ReLU(inplace=True)\n",
            "        (conv2): Conv2d(256, 256, kernel_size=(3, 3), stride=(1, 1), padding=(1, 1), bias=False)\n",
            "        (bn2): BatchNorm2d(256, eps=1e-05, momentum=0.1, affine=True, track_running_stats=True)\n",
            "        (drop_block): Identity()\n",
            "        (act2): ReLU(inplace=True)\n",
            "        (aa): Identity()\n",
            "        (conv3): Conv2d(256, 1024, kernel_size=(1, 1), stride=(1, 1), bias=False)\n",
            "        (bn3): BatchNorm2d(1024, eps=1e-05, momentum=0.1, affine=True, track_running_stats=True)\n",
            "        (act3): ReLU(inplace=True)\n",
            "      )\n",
            "      (3): Bottleneck(\n",
            "        (conv1): Conv2d(1024, 256, kernel_size=(1, 1), stride=(1, 1), bias=False)\n",
            "        (bn1): BatchNorm2d(256, eps=1e-05, momentum=0.1, affine=True, track_running_stats=True)\n",
            "        (act1): ReLU(inplace=True)\n",
            "        (conv2): Conv2d(256, 256, kernel_size=(3, 3), stride=(1, 1), padding=(1, 1), bias=False)\n",
            "        (bn2): BatchNorm2d(256, eps=1e-05, momentum=0.1, affine=True, track_running_stats=True)\n",
            "        (drop_block): Identity()\n",
            "        (act2): ReLU(inplace=True)\n",
            "        (aa): Identity()\n",
            "        (conv3): Conv2d(256, 1024, kernel_size=(1, 1), stride=(1, 1), bias=False)\n",
            "        (bn3): BatchNorm2d(1024, eps=1e-05, momentum=0.1, affine=True, track_running_stats=True)\n",
            "        (act3): ReLU(inplace=True)\n",
            "      )\n",
            "      (4): Bottleneck(\n",
            "        (conv1): Conv2d(1024, 256, kernel_size=(1, 1), stride=(1, 1), bias=False)\n",
            "        (bn1): BatchNorm2d(256, eps=1e-05, momentum=0.1, affine=True, track_running_stats=True)\n",
            "        (act1): ReLU(inplace=True)\n",
            "        (conv2): Conv2d(256, 256, kernel_size=(3, 3), stride=(1, 1), padding=(1, 1), bias=False)\n",
            "        (bn2): BatchNorm2d(256, eps=1e-05, momentum=0.1, affine=True, track_running_stats=True)\n",
            "        (drop_block): Identity()\n",
            "        (act2): ReLU(inplace=True)\n",
            "        (aa): Identity()\n",
            "        (conv3): Conv2d(256, 1024, kernel_size=(1, 1), stride=(1, 1), bias=False)\n",
            "        (bn3): BatchNorm2d(1024, eps=1e-05, momentum=0.1, affine=True, track_running_stats=True)\n",
            "        (act3): ReLU(inplace=True)\n",
            "      )\n",
            "      (5): Bottleneck(\n",
            "        (conv1): Conv2d(1024, 256, kernel_size=(1, 1), stride=(1, 1), bias=False)\n",
            "        (bn1): BatchNorm2d(256, eps=1e-05, momentum=0.1, affine=True, track_running_stats=True)\n",
            "        (act1): ReLU(inplace=True)\n",
            "        (conv2): Conv2d(256, 256, kernel_size=(3, 3), stride=(1, 1), padding=(1, 1), bias=False)\n",
            "        (bn2): BatchNorm2d(256, eps=1e-05, momentum=0.1, affine=True, track_running_stats=True)\n",
            "        (drop_block): Identity()\n",
            "        (act2): ReLU(inplace=True)\n",
            "        (aa): Identity()\n",
            "        (conv3): Conv2d(256, 1024, kernel_size=(1, 1), stride=(1, 1), bias=False)\n",
            "        (bn3): BatchNorm2d(1024, eps=1e-05, momentum=0.1, affine=True, track_running_stats=True)\n",
            "        (act3): ReLU(inplace=True)\n",
            "      )\n",
            "    )\n",
            "    (layer4): Sequential(\n",
            "      (0): Bottleneck(\n",
            "        (conv1): Conv2d(1024, 512, kernel_size=(1, 1), stride=(1, 1), bias=False)\n",
            "        (bn1): BatchNorm2d(512, eps=1e-05, momentum=0.1, affine=True, track_running_stats=True)\n",
            "        (act1): ReLU(inplace=True)\n",
            "        (conv2): Conv2d(512, 512, kernel_size=(3, 3), stride=(2, 2), padding=(1, 1), bias=False)\n",
            "        (bn2): BatchNorm2d(512, eps=1e-05, momentum=0.1, affine=True, track_running_stats=True)\n",
            "        (drop_block): Identity()\n",
            "        (act2): ReLU(inplace=True)\n",
            "        (aa): Identity()\n",
            "        (conv3): Conv2d(512, 2048, kernel_size=(1, 1), stride=(1, 1), bias=False)\n",
            "        (bn3): BatchNorm2d(2048, eps=1e-05, momentum=0.1, affine=True, track_running_stats=True)\n",
            "        (act3): ReLU(inplace=True)\n",
            "        (downsample): Sequential(\n",
            "          (0): Conv2d(1024, 2048, kernel_size=(1, 1), stride=(2, 2), bias=False)\n",
            "          (1): BatchNorm2d(2048, eps=1e-05, momentum=0.1, affine=True, track_running_stats=True)\n",
            "        )\n",
            "      )\n",
            "      (1): Bottleneck(\n",
            "        (conv1): Conv2d(2048, 512, kernel_size=(1, 1), stride=(1, 1), bias=False)\n",
            "        (bn1): BatchNorm2d(512, eps=1e-05, momentum=0.1, affine=True, track_running_stats=True)\n",
            "        (act1): ReLU(inplace=True)\n",
            "        (conv2): Conv2d(512, 512, kernel_size=(3, 3), stride=(1, 1), padding=(1, 1), bias=False)\n",
            "        (bn2): BatchNorm2d(512, eps=1e-05, momentum=0.1, affine=True, track_running_stats=True)\n",
            "        (drop_block): Identity()\n",
            "        (act2): ReLU(inplace=True)\n",
            "        (aa): Identity()\n",
            "        (conv3): Conv2d(512, 2048, kernel_size=(1, 1), stride=(1, 1), bias=False)\n",
            "        (bn3): BatchNorm2d(2048, eps=1e-05, momentum=0.1, affine=True, track_running_stats=True)\n",
            "        (act3): ReLU(inplace=True)\n",
            "      )\n",
            "      (2): Bottleneck(\n",
            "        (conv1): Conv2d(2048, 512, kernel_size=(1, 1), stride=(1, 1), bias=False)\n",
            "        (bn1): BatchNorm2d(512, eps=1e-05, momentum=0.1, affine=True, track_running_stats=True)\n",
            "        (act1): ReLU(inplace=True)\n",
            "        (conv2): Conv2d(512, 512, kernel_size=(3, 3), stride=(1, 1), padding=(1, 1), bias=False)\n",
            "        (bn2): BatchNorm2d(512, eps=1e-05, momentum=0.1, affine=True, track_running_stats=True)\n",
            "        (drop_block): Identity()\n",
            "        (act2): ReLU(inplace=True)\n",
            "        (aa): Identity()\n",
            "        (conv3): Conv2d(512, 2048, kernel_size=(1, 1), stride=(1, 1), bias=False)\n",
            "        (bn3): BatchNorm2d(2048, eps=1e-05, momentum=0.1, affine=True, track_running_stats=True)\n",
            "        (act3): ReLU(inplace=True)\n",
            "      )\n",
            "    )\n",
            "    (global_pool): SelectAdaptivePool2d(pool_type=avg, flatten=Flatten(start_dim=1, end_dim=-1))\n",
            "    (fc): Identity()\n",
            "  )\n",
            "  (fc): Linear(in_features=2048, out_features=9408, bias=True)\n",
            "  (upsample): ConvTranspose2d(3, 3, kernel_size=(4, 4), stride=(4, 4))\n",
            "  (levit): LevitDistilled(\n",
            "    (stem): Stem16(\n",
            "      (conv1): ConvNorm(\n",
            "        (linear): Conv2d(3, 32, kernel_size=(3, 3), stride=(2, 2), padding=(1, 1), bias=False)\n",
            "        (bn): BatchNorm2d(32, eps=1e-05, momentum=0.1, affine=True, track_running_stats=True)\n",
            "      )\n",
            "      (act1): Hardswish()\n",
            "      (conv2): ConvNorm(\n",
            "        (linear): Conv2d(32, 64, kernel_size=(3, 3), stride=(2, 2), padding=(1, 1), bias=False)\n",
            "        (bn): BatchNorm2d(64, eps=1e-05, momentum=0.1, affine=True, track_running_stats=True)\n",
            "      )\n",
            "      (act2): Hardswish()\n",
            "      (conv3): ConvNorm(\n",
            "        (linear): Conv2d(64, 128, kernel_size=(3, 3), stride=(2, 2), padding=(1, 1), bias=False)\n",
            "        (bn): BatchNorm2d(128, eps=1e-05, momentum=0.1, affine=True, track_running_stats=True)\n",
            "      )\n",
            "      (act3): Hardswish()\n",
            "      (conv4): ConvNorm(\n",
            "        (linear): Conv2d(128, 256, kernel_size=(3, 3), stride=(2, 2), padding=(1, 1), bias=False)\n",
            "        (bn): BatchNorm2d(256, eps=1e-05, momentum=0.1, affine=True, track_running_stats=True)\n",
            "      )\n",
            "    )\n",
            "    (stages): Sequential(\n",
            "      (0): LevitStage(\n",
            "        (downsample): Identity()\n",
            "        (blocks): Sequential(\n",
            "          (0): LevitBlock(\n",
            "            (attn): Attention(\n",
            "              (qkv): LinearNorm(\n",
            "                (linear): Linear(in_features=256, out_features=768, bias=False)\n",
            "                (bn): BatchNorm1d(768, eps=1e-05, momentum=0.1, affine=True, track_running_stats=True)\n",
            "              )\n",
            "              (proj): Sequential(\n",
            "                (0): Hardswish()\n",
            "                (1): LinearNorm(\n",
            "                  (linear): Linear(in_features=256, out_features=256, bias=False)\n",
            "                  (bn): BatchNorm1d(256, eps=1e-05, momentum=0.1, affine=True, track_running_stats=True)\n",
            "                )\n",
            "              )\n",
            "            )\n",
            "            (drop_path1): Identity()\n",
            "            (mlp): LevitMlp(\n",
            "              (ln1): LinearNorm(\n",
            "                (linear): Linear(in_features=256, out_features=512, bias=False)\n",
            "                (bn): BatchNorm1d(512, eps=1e-05, momentum=0.1, affine=True, track_running_stats=True)\n",
            "              )\n",
            "              (act): Hardswish()\n",
            "              (drop): Dropout(p=0.0, inplace=False)\n",
            "              (ln2): LinearNorm(\n",
            "                (linear): Linear(in_features=512, out_features=256, bias=False)\n",
            "                (bn): BatchNorm1d(256, eps=1e-05, momentum=0.1, affine=True, track_running_stats=True)\n",
            "              )\n",
            "            )\n",
            "            (drop_path2): Identity()\n",
            "          )\n",
            "          (1): LevitBlock(\n",
            "            (attn): Attention(\n",
            "              (qkv): LinearNorm(\n",
            "                (linear): Linear(in_features=256, out_features=768, bias=False)\n",
            "                (bn): BatchNorm1d(768, eps=1e-05, momentum=0.1, affine=True, track_running_stats=True)\n",
            "              )\n",
            "              (proj): Sequential(\n",
            "                (0): Hardswish()\n",
            "                (1): LinearNorm(\n",
            "                  (linear): Linear(in_features=256, out_features=256, bias=False)\n",
            "                  (bn): BatchNorm1d(256, eps=1e-05, momentum=0.1, affine=True, track_running_stats=True)\n",
            "                )\n",
            "              )\n",
            "            )\n",
            "            (drop_path1): Identity()\n",
            "            (mlp): LevitMlp(\n",
            "              (ln1): LinearNorm(\n",
            "                (linear): Linear(in_features=256, out_features=512, bias=False)\n",
            "                (bn): BatchNorm1d(512, eps=1e-05, momentum=0.1, affine=True, track_running_stats=True)\n",
            "              )\n",
            "              (act): Hardswish()\n",
            "              (drop): Dropout(p=0.0, inplace=False)\n",
            "              (ln2): LinearNorm(\n",
            "                (linear): Linear(in_features=512, out_features=256, bias=False)\n",
            "                (bn): BatchNorm1d(256, eps=1e-05, momentum=0.1, affine=True, track_running_stats=True)\n",
            "              )\n",
            "            )\n",
            "            (drop_path2): Identity()\n",
            "          )\n",
            "          (2): LevitBlock(\n",
            "            (attn): Attention(\n",
            "              (qkv): LinearNorm(\n",
            "                (linear): Linear(in_features=256, out_features=768, bias=False)\n",
            "                (bn): BatchNorm1d(768, eps=1e-05, momentum=0.1, affine=True, track_running_stats=True)\n",
            "              )\n",
            "              (proj): Sequential(\n",
            "                (0): Hardswish()\n",
            "                (1): LinearNorm(\n",
            "                  (linear): Linear(in_features=256, out_features=256, bias=False)\n",
            "                  (bn): BatchNorm1d(256, eps=1e-05, momentum=0.1, affine=True, track_running_stats=True)\n",
            "                )\n",
            "              )\n",
            "            )\n",
            "            (drop_path1): Identity()\n",
            "            (mlp): LevitMlp(\n",
            "              (ln1): LinearNorm(\n",
            "                (linear): Linear(in_features=256, out_features=512, bias=False)\n",
            "                (bn): BatchNorm1d(512, eps=1e-05, momentum=0.1, affine=True, track_running_stats=True)\n",
            "              )\n",
            "              (act): Hardswish()\n",
            "              (drop): Dropout(p=0.0, inplace=False)\n",
            "              (ln2): LinearNorm(\n",
            "                (linear): Linear(in_features=512, out_features=256, bias=False)\n",
            "                (bn): BatchNorm1d(256, eps=1e-05, momentum=0.1, affine=True, track_running_stats=True)\n",
            "              )\n",
            "            )\n",
            "            (drop_path2): Identity()\n",
            "          )\n",
            "        )\n",
            "      )\n",
            "      (1): LevitStage(\n",
            "        (downsample): LevitDownsample(\n",
            "          (attn_downsample): AttentionDownsample(\n",
            "            (kv): LinearNorm(\n",
            "              (linear): Linear(in_features=256, out_features=3072, bias=False)\n",
            "              (bn): BatchNorm1d(3072, eps=1e-05, momentum=0.1, affine=True, track_running_stats=True)\n",
            "            )\n",
            "            (q): Sequential(\n",
            "              (0): Conv2d(256, 256, kernel_size=(2, 2), stride=(2, 2))\n",
            "              (1): Flatten(start_dim=1, end_dim=-1)\n",
            "            )\n",
            "            (proj): Sequential(\n",
            "              (0): Hardswish()\n",
            "              (1): LinearNorm(\n",
            "                (linear): Linear(in_features=256, out_features=384, bias=False)\n",
            "                (bn): BatchNorm1d(384, eps=1e-05, momentum=0.1, affine=True, track_running_stats=True)\n",
            "              )\n",
            "            )\n",
            "          )\n",
            "          (mlp): LevitMlp(\n",
            "            (ln1): LinearNorm(\n",
            "              (linear): Linear(in_features=384, out_features=768, bias=False)\n",
            "              (bn): BatchNorm1d(768, eps=1e-05, momentum=0.1, affine=True, track_running_stats=True)\n",
            "            )\n",
            "            (act): Hardswish()\n",
            "            (drop): Dropout(p=0.0, inplace=False)\n",
            "            (ln2): LinearNorm(\n",
            "              (linear): Linear(in_features=768, out_features=384, bias=False)\n",
            "              (bn): BatchNorm1d(384, eps=1e-05, momentum=0.1, affine=True, track_running_stats=True)\n",
            "            )\n",
            "          )\n",
            "          (drop_path): Identity()\n",
            "        )\n",
            "        (blocks): Sequential(\n",
            "          (0): LevitBlock(\n",
            "            (attn): Attention(\n",
            "              (qkv): LinearNorm(\n",
            "                (linear): Linear(in_features=384, out_features=1152, bias=False)\n",
            "                (bn): BatchNorm1d(1152, eps=1e-05, momentum=0.1, affine=True, track_running_stats=True)\n",
            "              )\n",
            "              (proj): Sequential(\n",
            "                (0): Hardswish()\n",
            "                (1): LinearNorm(\n",
            "                  (linear): Linear(in_features=384, out_features=384, bias=False)\n",
            "                  (bn): BatchNorm1d(384, eps=1e-05, momentum=0.1, affine=True, track_running_stats=True)\n",
            "                )\n",
            "              )\n",
            "            )\n",
            "            (drop_path1): Identity()\n",
            "            (mlp): LevitMlp(\n",
            "              (ln1): LinearNorm(\n",
            "                (linear): Linear(in_features=384, out_features=768, bias=False)\n",
            "                (bn): BatchNorm1d(768, eps=1e-05, momentum=0.1, affine=True, track_running_stats=True)\n",
            "              )\n",
            "              (act): Hardswish()\n",
            "              (drop): Dropout(p=0.0, inplace=False)\n",
            "              (ln2): LinearNorm(\n",
            "                (linear): Linear(in_features=768, out_features=384, bias=False)\n",
            "                (bn): BatchNorm1d(384, eps=1e-05, momentum=0.1, affine=True, track_running_stats=True)\n",
            "              )\n",
            "            )\n",
            "            (drop_path2): Identity()\n",
            "          )\n",
            "          (1): LevitBlock(\n",
            "            (attn): Attention(\n",
            "              (qkv): LinearNorm(\n",
            "                (linear): Linear(in_features=384, out_features=1152, bias=False)\n",
            "                (bn): BatchNorm1d(1152, eps=1e-05, momentum=0.1, affine=True, track_running_stats=True)\n",
            "              )\n",
            "              (proj): Sequential(\n",
            "                (0): Hardswish()\n",
            "                (1): LinearNorm(\n",
            "                  (linear): Linear(in_features=384, out_features=384, bias=False)\n",
            "                  (bn): BatchNorm1d(384, eps=1e-05, momentum=0.1, affine=True, track_running_stats=True)\n",
            "                )\n",
            "              )\n",
            "            )\n",
            "            (drop_path1): Identity()\n",
            "            (mlp): LevitMlp(\n",
            "              (ln1): LinearNorm(\n",
            "                (linear): Linear(in_features=384, out_features=768, bias=False)\n",
            "                (bn): BatchNorm1d(768, eps=1e-05, momentum=0.1, affine=True, track_running_stats=True)\n",
            "              )\n",
            "              (act): Hardswish()\n",
            "              (drop): Dropout(p=0.0, inplace=False)\n",
            "              (ln2): LinearNorm(\n",
            "                (linear): Linear(in_features=768, out_features=384, bias=False)\n",
            "                (bn): BatchNorm1d(384, eps=1e-05, momentum=0.1, affine=True, track_running_stats=True)\n",
            "              )\n",
            "            )\n",
            "            (drop_path2): Identity()\n",
            "          )\n",
            "          (2): LevitBlock(\n",
            "            (attn): Attention(\n",
            "              (qkv): LinearNorm(\n",
            "                (linear): Linear(in_features=384, out_features=1152, bias=False)\n",
            "                (bn): BatchNorm1d(1152, eps=1e-05, momentum=0.1, affine=True, track_running_stats=True)\n",
            "              )\n",
            "              (proj): Sequential(\n",
            "                (0): Hardswish()\n",
            "                (1): LinearNorm(\n",
            "                  (linear): Linear(in_features=384, out_features=384, bias=False)\n",
            "                  (bn): BatchNorm1d(384, eps=1e-05, momentum=0.1, affine=True, track_running_stats=True)\n",
            "                )\n",
            "              )\n",
            "            )\n",
            "            (drop_path1): Identity()\n",
            "            (mlp): LevitMlp(\n",
            "              (ln1): LinearNorm(\n",
            "                (linear): Linear(in_features=384, out_features=768, bias=False)\n",
            "                (bn): BatchNorm1d(768, eps=1e-05, momentum=0.1, affine=True, track_running_stats=True)\n",
            "              )\n",
            "              (act): Hardswish()\n",
            "              (drop): Dropout(p=0.0, inplace=False)\n",
            "              (ln2): LinearNorm(\n",
            "                (linear): Linear(in_features=768, out_features=384, bias=False)\n",
            "                (bn): BatchNorm1d(384, eps=1e-05, momentum=0.1, affine=True, track_running_stats=True)\n",
            "              )\n",
            "            )\n",
            "            (drop_path2): Identity()\n",
            "          )\n",
            "        )\n",
            "      )\n",
            "      (2): LevitStage(\n",
            "        (downsample): LevitDownsample(\n",
            "          (attn_downsample): AttentionDownsample(\n",
            "            (kv): LinearNorm(\n",
            "              (linear): Linear(in_features=384, out_features=6144, bias=False)\n",
            "              (bn): BatchNorm1d(6144, eps=1e-05, momentum=0.1, affine=True, track_running_stats=True)\n",
            "            )\n",
            "            (q): Sequential(\n",
            "              (0): Conv2d(384, 384, kernel_size=(2, 2), stride=(2, 2))\n",
            "              (1): Flatten(start_dim=1, end_dim=-1)\n",
            "            )\n",
            "            (proj): Sequential(\n",
            "              (0): Hardswish()\n",
            "              (1): LinearNorm(\n",
            "                (linear): Linear(in_features=384, out_features=512, bias=False)\n",
            "                (bn): BatchNorm1d(512, eps=1e-05, momentum=0.1, affine=True, track_running_stats=True)\n",
            "              )\n",
            "            )\n",
            "          )\n",
            "          (mlp): LevitMlp(\n",
            "            (ln1): LinearNorm(\n",
            "              (linear): Linear(in_features=512, out_features=1024, bias=False)\n",
            "              (bn): BatchNorm1d(1024, eps=1e-05, momentum=0.1, affine=True, track_running_stats=True)\n",
            "            )\n",
            "            (act): Hardswish()\n",
            "            (drop): Dropout(p=0.0, inplace=False)\n",
            "            (ln2): LinearNorm(\n",
            "              (linear): Linear(in_features=1024, out_features=512, bias=False)\n",
            "              (bn): BatchNorm1d(512, eps=1e-05, momentum=0.1, affine=True, track_running_stats=True)\n",
            "            )\n",
            "          )\n",
            "          (drop_path): Identity()\n",
            "        )\n",
            "        (blocks): Sequential(\n",
            "          (0): LevitBlock(\n",
            "            (attn): Attention(\n",
            "              (qkv): LinearNorm(\n",
            "                (linear): Linear(in_features=512, out_features=1536, bias=False)\n",
            "                (bn): BatchNorm1d(1536, eps=1e-05, momentum=0.1, affine=True, track_running_stats=True)\n",
            "              )\n",
            "              (proj): Sequential(\n",
            "                (0): Hardswish()\n",
            "                (1): LinearNorm(\n",
            "                  (linear): Linear(in_features=512, out_features=512, bias=False)\n",
            "                  (bn): BatchNorm1d(512, eps=1e-05, momentum=0.1, affine=True, track_running_stats=True)\n",
            "                )\n",
            "              )\n",
            "            )\n",
            "            (drop_path1): Identity()\n",
            "            (mlp): LevitMlp(\n",
            "              (ln1): LinearNorm(\n",
            "                (linear): Linear(in_features=512, out_features=1024, bias=False)\n",
            "                (bn): BatchNorm1d(1024, eps=1e-05, momentum=0.1, affine=True, track_running_stats=True)\n",
            "              )\n",
            "              (act): Hardswish()\n",
            "              (drop): Dropout(p=0.0, inplace=False)\n",
            "              (ln2): LinearNorm(\n",
            "                (linear): Linear(in_features=1024, out_features=512, bias=False)\n",
            "                (bn): BatchNorm1d(512, eps=1e-05, momentum=0.1, affine=True, track_running_stats=True)\n",
            "              )\n",
            "            )\n",
            "            (drop_path2): Identity()\n",
            "          )\n",
            "          (1): LevitBlock(\n",
            "            (attn): Attention(\n",
            "              (qkv): LinearNorm(\n",
            "                (linear): Linear(in_features=512, out_features=1536, bias=False)\n",
            "                (bn): BatchNorm1d(1536, eps=1e-05, momentum=0.1, affine=True, track_running_stats=True)\n",
            "              )\n",
            "              (proj): Sequential(\n",
            "                (0): Hardswish()\n",
            "                (1): LinearNorm(\n",
            "                  (linear): Linear(in_features=512, out_features=512, bias=False)\n",
            "                  (bn): BatchNorm1d(512, eps=1e-05, momentum=0.1, affine=True, track_running_stats=True)\n",
            "                )\n",
            "              )\n",
            "            )\n",
            "            (drop_path1): Identity()\n",
            "            (mlp): LevitMlp(\n",
            "              (ln1): LinearNorm(\n",
            "                (linear): Linear(in_features=512, out_features=1024, bias=False)\n",
            "                (bn): BatchNorm1d(1024, eps=1e-05, momentum=0.1, affine=True, track_running_stats=True)\n",
            "              )\n",
            "              (act): Hardswish()\n",
            "              (drop): Dropout(p=0.0, inplace=False)\n",
            "              (ln2): LinearNorm(\n",
            "                (linear): Linear(in_features=1024, out_features=512, bias=False)\n",
            "                (bn): BatchNorm1d(512, eps=1e-05, momentum=0.1, affine=True, track_running_stats=True)\n",
            "              )\n",
            "            )\n",
            "            (drop_path2): Identity()\n",
            "          )\n",
            "        )\n",
            "      )\n",
            "    )\n",
            "    (head): NormLinear(\n",
            "      (bn): BatchNorm1d(512, eps=1e-05, momentum=0.1, affine=True, track_running_stats=True)\n",
            "      (drop): Dropout(p=0.0, inplace=False)\n",
            "      (linear): Linear(in_features=512, out_features=37, bias=True)\n",
            "    )\n",
            "    (head_dist): NormLinear(\n",
            "      (bn): BatchNorm1d(512, eps=1e-05, momentum=0.1, affine=True, track_running_stats=True)\n",
            "      (drop): Dropout(p=0.0, inplace=False)\n",
            "      (linear): Linear(in_features=512, out_features=37, bias=True)\n",
            "    )\n",
            "  )\n",
            ")\n"
          ]
        }
      ],
      "source": [
        "# model = LevitDistilled()\n",
        "model = LauncherModel()\n",
        "print(model)\n",
        "\n",
        "device = torch.device(\"cuda\" if torch.cuda.is_available() else \"cpu\")\n",
        "model = model.to(device)\n",
        "\n",
        "batch_size = 32\n",
        "learning_rate = 0.001\n",
        "num_epochs = 50"
      ]
    },
    {
      "cell_type": "code",
      "execution_count": 20,
      "metadata": {
        "colab": {
          "base_uri": "https://localhost:8080/"
        },
        "id": "M7rBknzRzBP3",
        "outputId": "a5ce236e-9fc8-4c42-aaf0-4ba1f5127379"
      },
      "outputs": [
        {
          "output_type": "stream",
          "name": "stdout",
          "text": [
            "===================================================================================================================\n",
            "Layer (type:depth-idx)                                            Output Shape              Param #\n",
            "===================================================================================================================\n",
            "LauncherModel                                                     [32, 37]                  --\n",
            "├─ResNet: 1-1                                                     [32, 2048]                --\n",
            "│    └─Conv2d: 2-1                                                [32, 64, 112, 112]        (9,408)\n",
            "│    └─BatchNorm2d: 2-2                                           [32, 64, 112, 112]        (128)\n",
            "│    └─ReLU: 2-3                                                  [32, 64, 112, 112]        --\n",
            "│    └─MaxPool2d: 2-4                                             [32, 64, 56, 56]          --\n",
            "│    └─Sequential: 2-5                                            [32, 256, 56, 56]         --\n",
            "│    │    └─Bottleneck: 3-1                                       [32, 256, 56, 56]         (75,008)\n",
            "│    │    └─Bottleneck: 3-2                                       [32, 256, 56, 56]         (70,400)\n",
            "│    │    └─Bottleneck: 3-3                                       [32, 256, 56, 56]         (70,400)\n",
            "│    └─Sequential: 2-6                                            [32, 512, 28, 28]         --\n",
            "│    │    └─Bottleneck: 3-4                                       [32, 512, 28, 28]         (379,392)\n",
            "│    │    └─Bottleneck: 3-5                                       [32, 512, 28, 28]         (280,064)\n",
            "│    │    └─Bottleneck: 3-6                                       [32, 512, 28, 28]         (280,064)\n",
            "│    │    └─Bottleneck: 3-7                                       [32, 512, 28, 28]         (280,064)\n",
            "│    └─Sequential: 2-7                                            [32, 1024, 14, 14]        --\n",
            "│    │    └─Bottleneck: 3-8                                       [32, 1024, 14, 14]        (1,512,448)\n",
            "│    │    └─Bottleneck: 3-9                                       [32, 1024, 14, 14]        (1,117,184)\n",
            "│    │    └─Bottleneck: 3-10                                      [32, 1024, 14, 14]        (1,117,184)\n",
            "│    │    └─Bottleneck: 3-11                                      [32, 1024, 14, 14]        (1,117,184)\n",
            "│    │    └─Bottleneck: 3-12                                      [32, 1024, 14, 14]        (1,117,184)\n",
            "│    │    └─Bottleneck: 3-13                                      [32, 1024, 14, 14]        (1,117,184)\n",
            "│    └─Sequential: 2-8                                            [32, 2048, 7, 7]          --\n",
            "│    │    └─Bottleneck: 3-14                                      [32, 2048, 7, 7]          (6,039,552)\n",
            "│    │    └─Bottleneck: 3-15                                      [32, 2048, 7, 7]          (4,462,592)\n",
            "│    │    └─Bottleneck: 3-16                                      [32, 2048, 7, 7]          (4,462,592)\n",
            "│    └─SelectAdaptivePool2d: 2-9                                  [32, 2048]                --\n",
            "│    │    └─AdaptiveAvgPool2d: 3-17                               [32, 2048, 1, 1]          --\n",
            "│    │    └─Flatten: 3-18                                         [32, 2048]                --\n",
            "│    └─Identity: 2-10                                             [32, 2048]                --\n",
            "├─Linear: 1-2                                                     [32, 9408]                19,276,992\n",
            "├─ConvTranspose2d: 1-3                                            [32, 3, 224, 224]         147\n",
            "├─LevitDistilled: 1-4                                             [32, 37]                  --\n",
            "│    └─Stem16: 2-11                                               [32, 256, 14, 14]         --\n",
            "│    │    └─ConvNorm: 3-19                                        [32, 32, 112, 112]        928\n",
            "│    │    └─Hardswish: 3-20                                       [32, 32, 112, 112]        --\n",
            "│    │    └─ConvNorm: 3-21                                        [32, 64, 56, 56]          18,560\n",
            "│    │    └─Hardswish: 3-22                                       [32, 64, 56, 56]          --\n",
            "│    │    └─ConvNorm: 3-23                                        [32, 128, 28, 28]         73,984\n",
            "│    │    └─Hardswish: 3-24                                       [32, 128, 28, 28]         --\n",
            "│    │    └─ConvNorm: 3-25                                        [32, 256, 14, 14]         295,424\n",
            "│    └─Sequential: 2-12                                           [32, 9, 512]              --\n",
            "│    │    └─LevitStage: 3-26                                      [32, 196, 256]            1,583,616\n",
            "│    │    └─LevitStage: 3-27                                      [32, 49, 384]             5,301,248\n",
            "│    │    └─LevitStage: 3-28                                      [32, 9, 512]              8,419,712\n",
            "│    └─NormLinear: 2-13                                           [32, 37]                  --\n",
            "│    │    └─BatchNorm1d: 3-29                                     [32, 512]                 1,024\n",
            "│    │    └─Dropout: 3-30                                         [32, 512]                 --\n",
            "│    │    └─Linear: 3-31                                          [32, 37]                  18,981\n",
            "│    └─NormLinear: 2-14                                           [32, 37]                  --\n",
            "│    │    └─BatchNorm1d: 3-32                                     [32, 512]                 1,024\n",
            "│    │    └─Dropout: 3-33                                         [32, 512]                 --\n",
            "│    │    └─Linear: 3-34                                          [32, 37]                  18,981\n",
            "===================================================================================================================\n",
            "Total params: 58,518,653\n",
            "Trainable params: 35,010,621\n",
            "Non-trainable params: 23,508,032\n",
            "Total mult-adds (G): 164.97\n",
            "===================================================================================================================\n",
            "Input size (MB): 19.27\n",
            "Forward/backward pass size (MB): 7406.26\n",
            "Params size (MB): 234.07\n",
            "Estimated Total Size (MB): 7659.60\n",
            "===================================================================================================================\n"
          ]
        }
      ],
      "source": [
        "print(summary(model, input_size=(32, 3, 224, 224)))"
      ]
    },
    {
      "cell_type": "code",
      "execution_count": 21,
      "metadata": {
        "id": "TOaIwHDSzBP3"
      },
      "outputs": [],
      "source": [
        "transform = transforms.Compose([\n",
        "    transforms.Resize((224, 224)),\n",
        "    transforms.ToTensor(),\n",
        "    transforms.Normalize(mean=[0.485, 0.456, 0.406], std=[0.229, 0.224, 0.225]),\n",
        "])"
      ]
    },
    {
      "cell_type": "code",
      "execution_count": 22,
      "metadata": {
        "id": "N0Ww6weVzBP4",
        "outputId": "ad20636b-6b72-4955-af66-ae643aeba544",
        "colab": {
          "base_uri": "https://localhost:8080/"
        }
      },
      "outputs": [
        {
          "output_type": "stream",
          "name": "stdout",
          "text": [
            "Downloading https://thor.robots.ox.ac.uk/pets/images.tar.gz to data/oxford-iiit-pet/images.tar.gz\n"
          ]
        },
        {
          "output_type": "stream",
          "name": "stderr",
          "text": [
            "100%|██████████| 792M/792M [00:37<00:00, 21.1MB/s]\n"
          ]
        },
        {
          "output_type": "stream",
          "name": "stdout",
          "text": [
            "Extracting data/oxford-iiit-pet/images.tar.gz to data/oxford-iiit-pet\n",
            "Downloading https://thor.robots.ox.ac.uk/pets/annotations.tar.gz to data/oxford-iiit-pet/annotations.tar.gz\n"
          ]
        },
        {
          "output_type": "stream",
          "name": "stderr",
          "text": [
            "100%|██████████| 19.2M/19.2M [00:02<00:00, 9.03MB/s]\n"
          ]
        },
        {
          "output_type": "stream",
          "name": "stdout",
          "text": [
            "Extracting data/oxford-iiit-pet/annotations.tar.gz to data/oxford-iiit-pet\n"
          ]
        }
      ],
      "source": [
        "trainval_data = datasets.OxfordIIITPet(root=\"data\", split=\"trainval\", target_types=\"category\", download=True, transform=transform)\n",
        "test_data = datasets.OxfordIIITPet(root=\"data\", split=\"test\", target_types=\"category\", download=True, transform=transform)\n",
        "combined_data = ConcatDataset([trainval_data, test_data])\n",
        "\n",
        "train_size = int(0.7 * len(combined_data))\n",
        "val_size = int(0.15 * len(combined_data))\n",
        "test_size = len(combined_data) - train_size - val_size\n",
        "train_data, val_data, test_data = random_split(combined_data, [train_size, val_size, test_size])"
      ]
    },
    {
      "cell_type": "code",
      "execution_count": 23,
      "metadata": {
        "colab": {
          "base_uri": "https://localhost:8080/"
        },
        "id": "S4sK4r0FzBP4",
        "outputId": "2079b9ad-a519-48ab-8896-1bd1205119fa"
      },
      "outputs": [
        {
          "output_type": "stream",
          "name": "stdout",
          "text": [
            "Train set size: 5144\n",
            "Validation set size: 1102\n",
            "Test set size: 1103\n"
          ]
        }
      ],
      "source": [
        "train_loader = DataLoader(train_data, batch_size=batch_size, shuffle=True)\n",
        "val_loader = DataLoader(val_data, batch_size=batch_size, shuffle=False)\n",
        "test_loader = DataLoader(test_data, batch_size=batch_size, shuffle=False)\n",
        "\n",
        "print(f\"Train set size: {len(train_data)}\")\n",
        "print(f\"Validation set size: {len(val_data)}\")\n",
        "print(f\"Test set size: {len(test_data)}\")"
      ]
    },
    {
      "cell_type": "code",
      "execution_count": 24,
      "metadata": {
        "id": "HCIgSLtBzBP4"
      },
      "outputs": [],
      "source": [
        "criterion = nn.CrossEntropyLoss()\n",
        "optimizer = optim.Adam(model.parameters(), lr=learning_rate)"
      ]
    },
    {
      "cell_type": "code",
      "execution_count": 25,
      "metadata": {
        "id": "qCcVDgIPzBP4"
      },
      "outputs": [],
      "source": [
        "def train(model, train_loader, criterion, optimizer, device):\n",
        "    model.train()\n",
        "    running_loss = 0.0\n",
        "    correct = 0\n",
        "    total = 0\n",
        "    for inputs, labels in tqdm(train_loader, desc=\"Training\"):\n",
        "        inputs, labels = inputs.to(device), labels.to(device)\n",
        "\n",
        "        optimizer.zero_grad()\n",
        "        outputs = model(inputs)\n",
        "        loss = criterion(outputs, labels)\n",
        "        loss.backward()\n",
        "        optimizer.step()\n",
        "\n",
        "        running_loss += loss.item()\n",
        "        _, predicted = torch.max(outputs, 1)\n",
        "        total += labels.size(0)\n",
        "        correct += (predicted == labels).sum().item()\n",
        "\n",
        "    epoch_loss = running_loss / len(train_loader)\n",
        "    accuracy = 100 * correct / total\n",
        "    print(f\"Train Loss: {epoch_loss:.4f}, Train Accuracy: {accuracy:.2f}%\")"
      ]
    },
    {
      "cell_type": "code",
      "execution_count": 26,
      "metadata": {
        "id": "pzZwWmVFzBP5"
      },
      "outputs": [],
      "source": [
        "def evaluate(model, data_loader, criterion, device, phase=\"Validation\"):\n",
        "    model.eval()\n",
        "    running_loss = 0.0\n",
        "    correct = 0\n",
        "    total = 0\n",
        "    with torch.no_grad():\n",
        "        for inputs, labels in tqdm(data_loader, desc=f\"{phase}\"):\n",
        "            inputs, labels = inputs.to(device), labels.to(device)\n",
        "            outputs = model(inputs)\n",
        "            loss = criterion(outputs, labels)\n",
        "\n",
        "            running_loss += loss.item()\n",
        "            _, predicted = torch.max(outputs, 1)\n",
        "            total += labels.size(0)\n",
        "            correct += (predicted == labels).sum().item()\n",
        "\n",
        "    epoch_loss = running_loss / len(data_loader)\n",
        "    accuracy = 100 * correct / total\n",
        "    print(f\"{phase} Loss: {epoch_loss:.4f}, {phase} Accuracy: {accuracy:.2f}%\")"
      ]
    },
    {
      "cell_type": "code",
      "execution_count": 27,
      "metadata": {
        "id": "ATaK9u_JDWLD"
      },
      "outputs": [],
      "source": [
        "def measure_inference_time(model, data_loader, device):\n",
        "    model.eval()\n",
        "    times = []\n",
        "\n",
        "    with torch.no_grad():\n",
        "        for inputs, _ in data_loader:\n",
        "            inputs = inputs.to(device)\n",
        "            start_time = torch.cuda.Event(enable_timing=True)\n",
        "            end_time = torch.cuda.Event(enable_timing=True)\n",
        "\n",
        "            start_time.record()\n",
        "            _ = model(inputs)  # inference 수행\n",
        "            end_time.record()\n",
        "\n",
        "            # 시간 측정\n",
        "            torch.cuda.synchronize()  # CUDA에서 모든 커널이 완료될 때까지 대기\n",
        "            elapsed_time = start_time.elapsed_time(end_time)  # 밀리초 단위로 반환\n",
        "            times.append(elapsed_time)\n",
        "\n",
        "    # 통계량 계산\n",
        "    times_np = np.array(times)\n",
        "    total_inferences = len(times_np)\n",
        "    avg_time = np.mean(times_np)\n",
        "    std_dev = np.std(times_np)\n",
        "    max_time = np.max(times_np)\n",
        "    min_time = np.min(times_np)\n",
        "\n",
        "    # 결과 출력\n",
        "    print(f\"Inference Time Measurement Results:\")\n",
        "    print(f\"Total Inferences: {total_inferences}\")\n",
        "    print(f\"Average Time: {avg_time:.2f} ms\")\n",
        "    print(f\"Standard Deviation: {std_dev:.2f} ms\")\n",
        "    print(f\"Maximum Time: {max_time:.2f} ms\")\n",
        "    print(f\"Minimum Time: {min_time:.2f} ms\")\n",
        "\n",
        "    return times"
      ]
    },
    {
      "cell_type": "code",
      "execution_count": 28,
      "metadata": {
        "colab": {
          "base_uri": "https://localhost:8080/"
        },
        "id": "YdGy_hjpzBP5",
        "outputId": "d7a691ec-04ca-4125-a599-5f3ee6e0c9f3"
      },
      "outputs": [
        {
          "output_type": "stream",
          "name": "stdout",
          "text": [
            "\n",
            "Epoch 1/50\n"
          ]
        },
        {
          "output_type": "stream",
          "name": "stderr",
          "text": [
            "Training: 100%|██████████| 161/161 [00:32<00:00,  4.89it/s]\n"
          ]
        },
        {
          "output_type": "stream",
          "name": "stdout",
          "text": [
            "Train Loss: 3.7589, Train Accuracy: 2.90%\n"
          ]
        },
        {
          "output_type": "stream",
          "name": "stderr",
          "text": [
            "Validation: 100%|██████████| 35/35 [00:06<00:00,  5.61it/s]\n"
          ]
        },
        {
          "output_type": "stream",
          "name": "stdout",
          "text": [
            "Validation Loss: 3.8240, Validation Accuracy: 3.63%\n",
            "\n",
            "Epoch 2/50\n"
          ]
        },
        {
          "output_type": "stream",
          "name": "stderr",
          "text": [
            "Training: 100%|██████████| 161/161 [00:31<00:00,  5.06it/s]\n"
          ]
        },
        {
          "output_type": "stream",
          "name": "stdout",
          "text": [
            "Train Loss: 3.7107, Train Accuracy: 3.32%\n"
          ]
        },
        {
          "output_type": "stream",
          "name": "stderr",
          "text": [
            "Validation: 100%|██████████| 35/35 [00:06<00:00,  5.62it/s]\n"
          ]
        },
        {
          "output_type": "stream",
          "name": "stdout",
          "text": [
            "Validation Loss: 3.9731, Validation Accuracy: 3.27%\n",
            "\n",
            "Epoch 3/50\n"
          ]
        },
        {
          "output_type": "stream",
          "name": "stderr",
          "text": [
            "Training: 100%|██████████| 161/161 [00:32<00:00,  5.03it/s]\n"
          ]
        },
        {
          "output_type": "stream",
          "name": "stdout",
          "text": [
            "Train Loss: 3.5925, Train Accuracy: 4.00%\n"
          ]
        },
        {
          "output_type": "stream",
          "name": "stderr",
          "text": [
            "Validation: 100%|██████████| 35/35 [00:06<00:00,  5.68it/s]\n"
          ]
        },
        {
          "output_type": "stream",
          "name": "stdout",
          "text": [
            "Validation Loss: 3.4237, Validation Accuracy: 4.26%\n",
            "\n",
            "Epoch 4/50\n"
          ]
        },
        {
          "output_type": "stream",
          "name": "stderr",
          "text": [
            "Training: 100%|██████████| 161/161 [00:32<00:00,  5.03it/s]\n"
          ]
        },
        {
          "output_type": "stream",
          "name": "stdout",
          "text": [
            "Train Loss: 3.1456, Train Accuracy: 8.44%\n"
          ]
        },
        {
          "output_type": "stream",
          "name": "stderr",
          "text": [
            "Validation: 100%|██████████| 35/35 [00:06<00:00,  5.76it/s]\n"
          ]
        },
        {
          "output_type": "stream",
          "name": "stdout",
          "text": [
            "Validation Loss: 3.2834, Validation Accuracy: 5.44%\n",
            "\n",
            "Epoch 5/50\n"
          ]
        },
        {
          "output_type": "stream",
          "name": "stderr",
          "text": [
            "Training: 100%|██████████| 161/161 [00:31<00:00,  5.06it/s]\n"
          ]
        },
        {
          "output_type": "stream",
          "name": "stdout",
          "text": [
            "Train Loss: 2.7409, Train Accuracy: 13.61%\n"
          ]
        },
        {
          "output_type": "stream",
          "name": "stderr",
          "text": [
            "Validation: 100%|██████████| 35/35 [00:06<00:00,  5.69it/s]\n"
          ]
        },
        {
          "output_type": "stream",
          "name": "stdout",
          "text": [
            "Validation Loss: 2.2623, Validation Accuracy: 25.95%\n",
            "\n",
            "Epoch 6/50\n"
          ]
        },
        {
          "output_type": "stream",
          "name": "stderr",
          "text": [
            "Training: 100%|██████████| 161/161 [00:31<00:00,  5.07it/s]\n"
          ]
        },
        {
          "output_type": "stream",
          "name": "stdout",
          "text": [
            "Train Loss: 2.1162, Train Accuracy: 28.38%\n"
          ]
        },
        {
          "output_type": "stream",
          "name": "stderr",
          "text": [
            "Validation: 100%|██████████| 35/35 [00:06<00:00,  5.76it/s]\n"
          ]
        },
        {
          "output_type": "stream",
          "name": "stdout",
          "text": [
            "Validation Loss: 1.8015, Validation Accuracy: 35.39%\n",
            "\n",
            "Epoch 7/50\n"
          ]
        },
        {
          "output_type": "stream",
          "name": "stderr",
          "text": [
            "Training: 100%|██████████| 161/161 [00:31<00:00,  5.05it/s]\n"
          ]
        },
        {
          "output_type": "stream",
          "name": "stdout",
          "text": [
            "Train Loss: 1.7275, Train Accuracy: 40.69%\n"
          ]
        },
        {
          "output_type": "stream",
          "name": "stderr",
          "text": [
            "Validation: 100%|██████████| 35/35 [00:06<00:00,  5.72it/s]\n"
          ]
        },
        {
          "output_type": "stream",
          "name": "stdout",
          "text": [
            "Validation Loss: 1.4020, Validation Accuracy: 52.00%\n",
            "\n",
            "Epoch 8/50\n"
          ]
        },
        {
          "output_type": "stream",
          "name": "stderr",
          "text": [
            "Training: 100%|██████████| 161/161 [00:31<00:00,  5.08it/s]\n"
          ]
        },
        {
          "output_type": "stream",
          "name": "stdout",
          "text": [
            "Train Loss: 1.4570, Train Accuracy: 49.11%\n"
          ]
        },
        {
          "output_type": "stream",
          "name": "stderr",
          "text": [
            "Validation: 100%|██████████| 35/35 [00:06<00:00,  5.64it/s]\n"
          ]
        },
        {
          "output_type": "stream",
          "name": "stdout",
          "text": [
            "Validation Loss: 1.3169, Validation Accuracy: 54.17%\n",
            "\n",
            "Epoch 9/50\n"
          ]
        },
        {
          "output_type": "stream",
          "name": "stderr",
          "text": [
            "Training: 100%|██████████| 161/161 [00:31<00:00,  5.06it/s]\n"
          ]
        },
        {
          "output_type": "stream",
          "name": "stdout",
          "text": [
            "Train Loss: 1.2407, Train Accuracy: 57.52%\n"
          ]
        },
        {
          "output_type": "stream",
          "name": "stderr",
          "text": [
            "Validation: 100%|██████████| 35/35 [00:06<00:00,  5.68it/s]\n"
          ]
        },
        {
          "output_type": "stream",
          "name": "stdout",
          "text": [
            "Validation Loss: 1.3904, Validation Accuracy: 53.54%\n",
            "\n",
            "Epoch 10/50\n"
          ]
        },
        {
          "output_type": "stream",
          "name": "stderr",
          "text": [
            "Training: 100%|██████████| 161/161 [00:31<00:00,  5.03it/s]\n"
          ]
        },
        {
          "output_type": "stream",
          "name": "stdout",
          "text": [
            "Train Loss: 1.0883, Train Accuracy: 62.46%\n"
          ]
        },
        {
          "output_type": "stream",
          "name": "stderr",
          "text": [
            "Validation: 100%|██████████| 35/35 [00:06<00:00,  5.67it/s]\n"
          ]
        },
        {
          "output_type": "stream",
          "name": "stdout",
          "text": [
            "Validation Loss: 1.6282, Validation Accuracy: 47.91%\n",
            "\n",
            "Epoch 11/50\n"
          ]
        },
        {
          "output_type": "stream",
          "name": "stderr",
          "text": [
            "Training: 100%|██████████| 161/161 [00:31<00:00,  5.05it/s]\n"
          ]
        },
        {
          "output_type": "stream",
          "name": "stdout",
          "text": [
            "Train Loss: 0.9703, Train Accuracy: 67.07%\n"
          ]
        },
        {
          "output_type": "stream",
          "name": "stderr",
          "text": [
            "Validation: 100%|██████████| 35/35 [00:06<00:00,  5.74it/s]\n"
          ]
        },
        {
          "output_type": "stream",
          "name": "stdout",
          "text": [
            "Validation Loss: 1.3054, Validation Accuracy: 53.54%\n",
            "\n",
            "Epoch 12/50\n"
          ]
        },
        {
          "output_type": "stream",
          "name": "stderr",
          "text": [
            "Training: 100%|██████████| 161/161 [00:31<00:00,  5.04it/s]\n"
          ]
        },
        {
          "output_type": "stream",
          "name": "stdout",
          "text": [
            "Train Loss: 0.9159, Train Accuracy: 68.23%\n"
          ]
        },
        {
          "output_type": "stream",
          "name": "stderr",
          "text": [
            "Validation: 100%|██████████| 35/35 [00:06<00:00,  5.67it/s]\n"
          ]
        },
        {
          "output_type": "stream",
          "name": "stdout",
          "text": [
            "Validation Loss: 0.8174, Validation Accuracy: 73.77%\n",
            "\n",
            "Epoch 13/50\n"
          ]
        },
        {
          "output_type": "stream",
          "name": "stderr",
          "text": [
            "Training: 100%|██████████| 161/161 [00:32<00:00,  5.02it/s]\n"
          ]
        },
        {
          "output_type": "stream",
          "name": "stdout",
          "text": [
            "Train Loss: 0.8046, Train Accuracy: 72.43%\n"
          ]
        },
        {
          "output_type": "stream",
          "name": "stderr",
          "text": [
            "Validation: 100%|██████████| 35/35 [00:06<00:00,  5.76it/s]\n"
          ]
        },
        {
          "output_type": "stream",
          "name": "stdout",
          "text": [
            "Validation Loss: 1.1331, Validation Accuracy: 64.43%\n",
            "\n",
            "Epoch 14/50\n"
          ]
        },
        {
          "output_type": "stream",
          "name": "stderr",
          "text": [
            "Training: 100%|██████████| 161/161 [00:32<00:00,  5.03it/s]\n"
          ]
        },
        {
          "output_type": "stream",
          "name": "stdout",
          "text": [
            "Train Loss: 0.7300, Train Accuracy: 74.77%\n"
          ]
        },
        {
          "output_type": "stream",
          "name": "stderr",
          "text": [
            "Validation: 100%|██████████| 35/35 [00:06<00:00,  5.72it/s]\n"
          ]
        },
        {
          "output_type": "stream",
          "name": "stdout",
          "text": [
            "Validation Loss: 0.9303, Validation Accuracy: 69.87%\n",
            "\n",
            "Epoch 15/50\n"
          ]
        },
        {
          "output_type": "stream",
          "name": "stderr",
          "text": [
            "Training: 100%|██████████| 161/161 [00:31<00:00,  5.03it/s]\n"
          ]
        },
        {
          "output_type": "stream",
          "name": "stdout",
          "text": [
            "Train Loss: 0.6655, Train Accuracy: 77.82%\n"
          ]
        },
        {
          "output_type": "stream",
          "name": "stderr",
          "text": [
            "Validation: 100%|██████████| 35/35 [00:06<00:00,  5.77it/s]\n"
          ]
        },
        {
          "output_type": "stream",
          "name": "stdout",
          "text": [
            "Validation Loss: 0.8636, Validation Accuracy: 73.50%\n",
            "\n",
            "Epoch 16/50\n"
          ]
        },
        {
          "output_type": "stream",
          "name": "stderr",
          "text": [
            "Training: 100%|██████████| 161/161 [00:32<00:00,  5.01it/s]\n"
          ]
        },
        {
          "output_type": "stream",
          "name": "stdout",
          "text": [
            "Train Loss: 0.6316, Train Accuracy: 78.73%\n"
          ]
        },
        {
          "output_type": "stream",
          "name": "stderr",
          "text": [
            "Validation: 100%|██████████| 35/35 [00:06<00:00,  5.61it/s]\n"
          ]
        },
        {
          "output_type": "stream",
          "name": "stdout",
          "text": [
            "Validation Loss: 0.6824, Validation Accuracy: 78.31%\n",
            "\n",
            "Epoch 17/50\n"
          ]
        },
        {
          "output_type": "stream",
          "name": "stderr",
          "text": [
            "Training: 100%|██████████| 161/161 [00:32<00:00,  5.00it/s]\n"
          ]
        },
        {
          "output_type": "stream",
          "name": "stdout",
          "text": [
            "Train Loss: 0.5348, Train Accuracy: 81.38%\n"
          ]
        },
        {
          "output_type": "stream",
          "name": "stderr",
          "text": [
            "Validation: 100%|██████████| 35/35 [00:06<00:00,  5.76it/s]\n"
          ]
        },
        {
          "output_type": "stream",
          "name": "stdout",
          "text": [
            "Validation Loss: 0.5830, Validation Accuracy: 81.67%\n",
            "\n",
            "Epoch 18/50\n"
          ]
        },
        {
          "output_type": "stream",
          "name": "stderr",
          "text": [
            "Training: 100%|██████████| 161/161 [00:32<00:00,  4.97it/s]\n"
          ]
        },
        {
          "output_type": "stream",
          "name": "stdout",
          "text": [
            "Train Loss: 0.4948, Train Accuracy: 83.51%\n"
          ]
        },
        {
          "output_type": "stream",
          "name": "stderr",
          "text": [
            "Validation: 100%|██████████| 35/35 [00:06<00:00,  5.65it/s]\n"
          ]
        },
        {
          "output_type": "stream",
          "name": "stdout",
          "text": [
            "Validation Loss: 0.6947, Validation Accuracy: 78.22%\n",
            "\n",
            "Epoch 19/50\n"
          ]
        },
        {
          "output_type": "stream",
          "name": "stderr",
          "text": [
            "Training: 100%|██████████| 161/161 [00:32<00:00,  5.02it/s]\n"
          ]
        },
        {
          "output_type": "stream",
          "name": "stdout",
          "text": [
            "Train Loss: 0.4381, Train Accuracy: 85.05%\n"
          ]
        },
        {
          "output_type": "stream",
          "name": "stderr",
          "text": [
            "Validation: 100%|██████████| 35/35 [00:06<00:00,  5.72it/s]\n"
          ]
        },
        {
          "output_type": "stream",
          "name": "stdout",
          "text": [
            "Validation Loss: 0.6920, Validation Accuracy: 81.03%\n",
            "\n",
            "Epoch 20/50\n"
          ]
        },
        {
          "output_type": "stream",
          "name": "stderr",
          "text": [
            "Training: 100%|██████████| 161/161 [00:32<00:00,  4.93it/s]\n"
          ]
        },
        {
          "output_type": "stream",
          "name": "stdout",
          "text": [
            "Train Loss: 0.4535, Train Accuracy: 84.64%\n"
          ]
        },
        {
          "output_type": "stream",
          "name": "stderr",
          "text": [
            "Validation: 100%|██████████| 35/35 [00:06<00:00,  5.73it/s]\n"
          ]
        },
        {
          "output_type": "stream",
          "name": "stdout",
          "text": [
            "Validation Loss: 0.8515, Validation Accuracy: 74.50%\n",
            "\n",
            "Epoch 21/50\n"
          ]
        },
        {
          "output_type": "stream",
          "name": "stderr",
          "text": [
            "Training: 100%|██████████| 161/161 [00:32<00:00,  4.95it/s]\n"
          ]
        },
        {
          "output_type": "stream",
          "name": "stdout",
          "text": [
            "Train Loss: 0.3811, Train Accuracy: 87.27%\n"
          ]
        },
        {
          "output_type": "stream",
          "name": "stderr",
          "text": [
            "Validation: 100%|██████████| 35/35 [00:06<00:00,  5.64it/s]\n"
          ]
        },
        {
          "output_type": "stream",
          "name": "stdout",
          "text": [
            "Validation Loss: 0.7049, Validation Accuracy: 79.31%\n",
            "\n",
            "Epoch 22/50\n"
          ]
        },
        {
          "output_type": "stream",
          "name": "stderr",
          "text": [
            "Training: 100%|██████████| 161/161 [00:32<00:00,  5.00it/s]\n"
          ]
        },
        {
          "output_type": "stream",
          "name": "stdout",
          "text": [
            "Train Loss: 0.4097, Train Accuracy: 86.12%\n"
          ]
        },
        {
          "output_type": "stream",
          "name": "stderr",
          "text": [
            "Validation: 100%|██████████| 35/35 [00:06<00:00,  5.56it/s]\n"
          ]
        },
        {
          "output_type": "stream",
          "name": "stdout",
          "text": [
            "Validation Loss: 0.6428, Validation Accuracy: 80.85%\n",
            "\n",
            "Epoch 23/50\n"
          ]
        },
        {
          "output_type": "stream",
          "name": "stderr",
          "text": [
            "Training: 100%|██████████| 161/161 [00:32<00:00,  4.99it/s]\n"
          ]
        },
        {
          "output_type": "stream",
          "name": "stdout",
          "text": [
            "Train Loss: 0.4027, Train Accuracy: 86.55%\n"
          ]
        },
        {
          "output_type": "stream",
          "name": "stderr",
          "text": [
            "Validation: 100%|██████████| 35/35 [00:06<00:00,  5.75it/s]\n"
          ]
        },
        {
          "output_type": "stream",
          "name": "stdout",
          "text": [
            "Validation Loss: 0.5885, Validation Accuracy: 81.94%\n",
            "\n",
            "Epoch 24/50\n"
          ]
        },
        {
          "output_type": "stream",
          "name": "stderr",
          "text": [
            "Training: 100%|██████████| 161/161 [00:32<00:00,  4.97it/s]\n"
          ]
        },
        {
          "output_type": "stream",
          "name": "stdout",
          "text": [
            "Train Loss: 0.3876, Train Accuracy: 86.74%\n"
          ]
        },
        {
          "output_type": "stream",
          "name": "stderr",
          "text": [
            "Validation: 100%|██████████| 35/35 [00:06<00:00,  5.66it/s]\n"
          ]
        },
        {
          "output_type": "stream",
          "name": "stdout",
          "text": [
            "Validation Loss: 0.6639, Validation Accuracy: 81.94%\n",
            "\n",
            "Epoch 25/50\n"
          ]
        },
        {
          "output_type": "stream",
          "name": "stderr",
          "text": [
            "Training: 100%|██████████| 161/161 [00:32<00:00,  5.02it/s]\n"
          ]
        },
        {
          "output_type": "stream",
          "name": "stdout",
          "text": [
            "Train Loss: 0.3574, Train Accuracy: 88.20%\n"
          ]
        },
        {
          "output_type": "stream",
          "name": "stderr",
          "text": [
            "Validation: 100%|██████████| 35/35 [00:06<00:00,  5.70it/s]\n"
          ]
        },
        {
          "output_type": "stream",
          "name": "stdout",
          "text": [
            "Validation Loss: 0.5921, Validation Accuracy: 82.40%\n",
            "\n",
            "Epoch 26/50\n"
          ]
        },
        {
          "output_type": "stream",
          "name": "stderr",
          "text": [
            "Training: 100%|██████████| 161/161 [00:32<00:00,  4.98it/s]\n"
          ]
        },
        {
          "output_type": "stream",
          "name": "stdout",
          "text": [
            "Train Loss: 0.3489, Train Accuracy: 88.20%\n"
          ]
        },
        {
          "output_type": "stream",
          "name": "stderr",
          "text": [
            "Validation: 100%|██████████| 35/35 [00:06<00:00,  5.75it/s]\n"
          ]
        },
        {
          "output_type": "stream",
          "name": "stdout",
          "text": [
            "Validation Loss: 0.5976, Validation Accuracy: 82.40%\n",
            "\n",
            "Epoch 27/50\n"
          ]
        },
        {
          "output_type": "stream",
          "name": "stderr",
          "text": [
            "Training: 100%|██████████| 161/161 [00:32<00:00,  5.00it/s]\n"
          ]
        },
        {
          "output_type": "stream",
          "name": "stdout",
          "text": [
            "Train Loss: 0.3122, Train Accuracy: 89.58%\n"
          ]
        },
        {
          "output_type": "stream",
          "name": "stderr",
          "text": [
            "Validation: 100%|██████████| 35/35 [00:06<00:00,  5.67it/s]\n"
          ]
        },
        {
          "output_type": "stream",
          "name": "stdout",
          "text": [
            "Validation Loss: 0.6336, Validation Accuracy: 82.03%\n",
            "\n",
            "Epoch 28/50\n"
          ]
        },
        {
          "output_type": "stream",
          "name": "stderr",
          "text": [
            "Training: 100%|██████████| 161/161 [00:32<00:00,  5.02it/s]\n"
          ]
        },
        {
          "output_type": "stream",
          "name": "stdout",
          "text": [
            "Train Loss: 0.3010, Train Accuracy: 89.77%\n"
          ]
        },
        {
          "output_type": "stream",
          "name": "stderr",
          "text": [
            "Validation: 100%|██████████| 35/35 [00:06<00:00,  5.66it/s]\n"
          ]
        },
        {
          "output_type": "stream",
          "name": "stdout",
          "text": [
            "Validation Loss: 0.6679, Validation Accuracy: 82.40%\n",
            "\n",
            "Epoch 29/50\n"
          ]
        },
        {
          "output_type": "stream",
          "name": "stderr",
          "text": [
            "Training: 100%|██████████| 161/161 [00:32<00:00,  5.01it/s]\n"
          ]
        },
        {
          "output_type": "stream",
          "name": "stdout",
          "text": [
            "Train Loss: 0.2658, Train Accuracy: 90.84%\n"
          ]
        },
        {
          "output_type": "stream",
          "name": "stderr",
          "text": [
            "Validation: 100%|██████████| 35/35 [00:06<00:00,  5.76it/s]\n"
          ]
        },
        {
          "output_type": "stream",
          "name": "stdout",
          "text": [
            "Validation Loss: 0.7628, Validation Accuracy: 79.40%\n",
            "\n",
            "Epoch 30/50\n"
          ]
        },
        {
          "output_type": "stream",
          "name": "stderr",
          "text": [
            "Training: 100%|██████████| 161/161 [00:32<00:00,  5.02it/s]\n"
          ]
        },
        {
          "output_type": "stream",
          "name": "stdout",
          "text": [
            "Train Loss: 0.3005, Train Accuracy: 90.30%\n"
          ]
        },
        {
          "output_type": "stream",
          "name": "stderr",
          "text": [
            "Validation: 100%|██████████| 35/35 [00:06<00:00,  5.59it/s]\n"
          ]
        },
        {
          "output_type": "stream",
          "name": "stdout",
          "text": [
            "Validation Loss: 0.6091, Validation Accuracy: 82.58%\n",
            "\n",
            "Epoch 31/50\n"
          ]
        },
        {
          "output_type": "stream",
          "name": "stderr",
          "text": [
            "Training: 100%|██████████| 161/161 [00:32<00:00,  5.02it/s]\n"
          ]
        },
        {
          "output_type": "stream",
          "name": "stdout",
          "text": [
            "Train Loss: 0.2434, Train Accuracy: 92.07%\n"
          ]
        },
        {
          "output_type": "stream",
          "name": "stderr",
          "text": [
            "Validation: 100%|██████████| 35/35 [00:06<00:00,  5.66it/s]\n"
          ]
        },
        {
          "output_type": "stream",
          "name": "stdout",
          "text": [
            "Validation Loss: 0.5697, Validation Accuracy: 84.21%\n",
            "\n",
            "Epoch 32/50\n"
          ]
        },
        {
          "output_type": "stream",
          "name": "stderr",
          "text": [
            "Training: 100%|██████████| 161/161 [00:32<00:00,  4.95it/s]\n"
          ]
        },
        {
          "output_type": "stream",
          "name": "stdout",
          "text": [
            "Train Loss: 0.2743, Train Accuracy: 91.06%\n"
          ]
        },
        {
          "output_type": "stream",
          "name": "stderr",
          "text": [
            "Validation: 100%|██████████| 35/35 [00:06<00:00,  5.69it/s]\n"
          ]
        },
        {
          "output_type": "stream",
          "name": "stdout",
          "text": [
            "Validation Loss: 0.5995, Validation Accuracy: 84.12%\n",
            "\n",
            "Epoch 33/50\n"
          ]
        },
        {
          "output_type": "stream",
          "name": "stderr",
          "text": [
            "Training: 100%|██████████| 161/161 [00:32<00:00,  4.97it/s]\n"
          ]
        },
        {
          "output_type": "stream",
          "name": "stdout",
          "text": [
            "Train Loss: 0.2508, Train Accuracy: 91.82%\n"
          ]
        },
        {
          "output_type": "stream",
          "name": "stderr",
          "text": [
            "Validation: 100%|██████████| 35/35 [00:06<00:00,  5.70it/s]\n"
          ]
        },
        {
          "output_type": "stream",
          "name": "stdout",
          "text": [
            "Validation Loss: 0.6357, Validation Accuracy: 83.58%\n",
            "\n",
            "Epoch 34/50\n"
          ]
        },
        {
          "output_type": "stream",
          "name": "stderr",
          "text": [
            "Training: 100%|██████████| 161/161 [00:32<00:00,  4.98it/s]\n"
          ]
        },
        {
          "output_type": "stream",
          "name": "stdout",
          "text": [
            "Train Loss: 0.2509, Train Accuracy: 92.15%\n"
          ]
        },
        {
          "output_type": "stream",
          "name": "stderr",
          "text": [
            "Validation: 100%|██████████| 35/35 [00:06<00:00,  5.76it/s]\n"
          ]
        },
        {
          "output_type": "stream",
          "name": "stdout",
          "text": [
            "Validation Loss: 0.6960, Validation Accuracy: 82.40%\n",
            "\n",
            "Epoch 35/50\n"
          ]
        },
        {
          "output_type": "stream",
          "name": "stderr",
          "text": [
            "Training: 100%|██████████| 161/161 [00:32<00:00,  5.00it/s]\n"
          ]
        },
        {
          "output_type": "stream",
          "name": "stdout",
          "text": [
            "Train Loss: 0.2221, Train Accuracy: 92.53%\n"
          ]
        },
        {
          "output_type": "stream",
          "name": "stderr",
          "text": [
            "Validation: 100%|██████████| 35/35 [00:06<00:00,  5.69it/s]\n"
          ]
        },
        {
          "output_type": "stream",
          "name": "stdout",
          "text": [
            "Validation Loss: 0.7969, Validation Accuracy: 80.58%\n",
            "\n",
            "Epoch 36/50\n"
          ]
        },
        {
          "output_type": "stream",
          "name": "stderr",
          "text": [
            "Training: 100%|██████████| 161/161 [00:32<00:00,  4.99it/s]\n"
          ]
        },
        {
          "output_type": "stream",
          "name": "stdout",
          "text": [
            "Train Loss: 0.2219, Train Accuracy: 92.81%\n"
          ]
        },
        {
          "output_type": "stream",
          "name": "stderr",
          "text": [
            "Validation: 100%|██████████| 35/35 [00:06<00:00,  5.70it/s]\n"
          ]
        },
        {
          "output_type": "stream",
          "name": "stdout",
          "text": [
            "Validation Loss: 0.9009, Validation Accuracy: 80.22%\n",
            "\n",
            "Epoch 37/50\n"
          ]
        },
        {
          "output_type": "stream",
          "name": "stderr",
          "text": [
            "Training: 100%|██████████| 161/161 [00:32<00:00,  4.99it/s]\n"
          ]
        },
        {
          "output_type": "stream",
          "name": "stdout",
          "text": [
            "Train Loss: 0.2077, Train Accuracy: 93.23%\n"
          ]
        },
        {
          "output_type": "stream",
          "name": "stderr",
          "text": [
            "Validation: 100%|██████████| 35/35 [00:06<00:00,  5.66it/s]\n"
          ]
        },
        {
          "output_type": "stream",
          "name": "stdout",
          "text": [
            "Validation Loss: 0.6258, Validation Accuracy: 85.30%\n",
            "\n",
            "Epoch 38/50\n"
          ]
        },
        {
          "output_type": "stream",
          "name": "stderr",
          "text": [
            "Training: 100%|██████████| 161/161 [00:32<00:00,  5.02it/s]\n"
          ]
        },
        {
          "output_type": "stream",
          "name": "stdout",
          "text": [
            "Train Loss: 0.2046, Train Accuracy: 93.37%\n"
          ]
        },
        {
          "output_type": "stream",
          "name": "stderr",
          "text": [
            "Validation: 100%|██████████| 35/35 [00:06<00:00,  5.69it/s]\n"
          ]
        },
        {
          "output_type": "stream",
          "name": "stdout",
          "text": [
            "Validation Loss: 0.6689, Validation Accuracy: 83.58%\n",
            "\n",
            "Epoch 39/50\n"
          ]
        },
        {
          "output_type": "stream",
          "name": "stderr",
          "text": [
            "Training: 100%|██████████| 161/161 [00:32<00:00,  5.02it/s]\n"
          ]
        },
        {
          "output_type": "stream",
          "name": "stdout",
          "text": [
            "Train Loss: 0.1813, Train Accuracy: 94.07%\n"
          ]
        },
        {
          "output_type": "stream",
          "name": "stderr",
          "text": [
            "Validation: 100%|██████████| 35/35 [00:06<00:00,  5.68it/s]\n"
          ]
        },
        {
          "output_type": "stream",
          "name": "stdout",
          "text": [
            "Validation Loss: 0.6898, Validation Accuracy: 84.75%\n",
            "\n",
            "Epoch 40/50\n"
          ]
        },
        {
          "output_type": "stream",
          "name": "stderr",
          "text": [
            "Training: 100%|██████████| 161/161 [00:32<00:00,  5.00it/s]\n"
          ]
        },
        {
          "output_type": "stream",
          "name": "stdout",
          "text": [
            "Train Loss: 0.2029, Train Accuracy: 93.23%\n"
          ]
        },
        {
          "output_type": "stream",
          "name": "stderr",
          "text": [
            "Validation: 100%|██████████| 35/35 [00:06<00:00,  5.69it/s]\n"
          ]
        },
        {
          "output_type": "stream",
          "name": "stdout",
          "text": [
            "Validation Loss: 0.7910, Validation Accuracy: 82.21%\n",
            "\n",
            "Epoch 41/50\n"
          ]
        },
        {
          "output_type": "stream",
          "name": "stderr",
          "text": [
            "Training: 100%|██████████| 161/161 [00:32<00:00,  5.00it/s]\n"
          ]
        },
        {
          "output_type": "stream",
          "name": "stdout",
          "text": [
            "Train Loss: 0.1887, Train Accuracy: 93.76%\n"
          ]
        },
        {
          "output_type": "stream",
          "name": "stderr",
          "text": [
            "Validation: 100%|██████████| 35/35 [00:06<00:00,  5.72it/s]\n"
          ]
        },
        {
          "output_type": "stream",
          "name": "stdout",
          "text": [
            "Validation Loss: 0.6648, Validation Accuracy: 85.39%\n",
            "\n",
            "Epoch 42/50\n"
          ]
        },
        {
          "output_type": "stream",
          "name": "stderr",
          "text": [
            "Training: 100%|██████████| 161/161 [00:32<00:00,  4.99it/s]\n"
          ]
        },
        {
          "output_type": "stream",
          "name": "stdout",
          "text": [
            "Train Loss: 0.1744, Train Accuracy: 94.75%\n"
          ]
        },
        {
          "output_type": "stream",
          "name": "stderr",
          "text": [
            "Validation: 100%|██████████| 35/35 [00:06<00:00,  5.64it/s]\n"
          ]
        },
        {
          "output_type": "stream",
          "name": "stdout",
          "text": [
            "Validation Loss: 0.7740, Validation Accuracy: 83.48%\n",
            "\n",
            "Epoch 43/50\n"
          ]
        },
        {
          "output_type": "stream",
          "name": "stderr",
          "text": [
            "Training: 100%|██████████| 161/161 [00:32<00:00,  5.02it/s]\n"
          ]
        },
        {
          "output_type": "stream",
          "name": "stdout",
          "text": [
            "Train Loss: 0.1864, Train Accuracy: 94.23%\n"
          ]
        },
        {
          "output_type": "stream",
          "name": "stderr",
          "text": [
            "Validation: 100%|██████████| 35/35 [00:06<00:00,  5.69it/s]\n"
          ]
        },
        {
          "output_type": "stream",
          "name": "stdout",
          "text": [
            "Validation Loss: 0.8718, Validation Accuracy: 81.31%\n",
            "\n",
            "Epoch 44/50\n"
          ]
        },
        {
          "output_type": "stream",
          "name": "stderr",
          "text": [
            "Training: 100%|██████████| 161/161 [00:32<00:00,  5.00it/s]\n"
          ]
        },
        {
          "output_type": "stream",
          "name": "stdout",
          "text": [
            "Train Loss: 0.1735, Train Accuracy: 94.52%\n"
          ]
        },
        {
          "output_type": "stream",
          "name": "stderr",
          "text": [
            "Validation: 100%|██████████| 35/35 [00:06<00:00,  5.71it/s]\n"
          ]
        },
        {
          "output_type": "stream",
          "name": "stdout",
          "text": [
            "Validation Loss: 0.6935, Validation Accuracy: 85.93%\n",
            "\n",
            "Epoch 45/50\n"
          ]
        },
        {
          "output_type": "stream",
          "name": "stderr",
          "text": [
            "Training: 100%|██████████| 161/161 [00:32<00:00,  4.96it/s]\n"
          ]
        },
        {
          "output_type": "stream",
          "name": "stdout",
          "text": [
            "Train Loss: 0.1385, Train Accuracy: 95.86%\n"
          ]
        },
        {
          "output_type": "stream",
          "name": "stderr",
          "text": [
            "Validation: 100%|██████████| 35/35 [00:06<00:00,  5.66it/s]\n"
          ]
        },
        {
          "output_type": "stream",
          "name": "stdout",
          "text": [
            "Validation Loss: 0.7015, Validation Accuracy: 83.67%\n",
            "\n",
            "Epoch 46/50\n"
          ]
        },
        {
          "output_type": "stream",
          "name": "stderr",
          "text": [
            "Training: 100%|██████████| 161/161 [00:31<00:00,  5.03it/s]\n"
          ]
        },
        {
          "output_type": "stream",
          "name": "stdout",
          "text": [
            "Train Loss: 0.1716, Train Accuracy: 94.46%\n"
          ]
        },
        {
          "output_type": "stream",
          "name": "stderr",
          "text": [
            "Validation: 100%|██████████| 35/35 [00:06<00:00,  5.61it/s]\n"
          ]
        },
        {
          "output_type": "stream",
          "name": "stdout",
          "text": [
            "Validation Loss: 0.6375, Validation Accuracy: 85.39%\n",
            "\n",
            "Epoch 47/50\n"
          ]
        },
        {
          "output_type": "stream",
          "name": "stderr",
          "text": [
            "Training: 100%|██████████| 161/161 [00:32<00:00,  4.99it/s]\n"
          ]
        },
        {
          "output_type": "stream",
          "name": "stdout",
          "text": [
            "Train Loss: 0.1519, Train Accuracy: 95.24%\n"
          ]
        },
        {
          "output_type": "stream",
          "name": "stderr",
          "text": [
            "Validation: 100%|██████████| 35/35 [00:06<00:00,  5.73it/s]\n"
          ]
        },
        {
          "output_type": "stream",
          "name": "stdout",
          "text": [
            "Validation Loss: 0.7372, Validation Accuracy: 84.85%\n",
            "\n",
            "Epoch 48/50\n"
          ]
        },
        {
          "output_type": "stream",
          "name": "stderr",
          "text": [
            "Training: 100%|██████████| 161/161 [00:32<00:00,  5.02it/s]\n"
          ]
        },
        {
          "output_type": "stream",
          "name": "stdout",
          "text": [
            "Train Loss: 0.1645, Train Accuracy: 94.69%\n"
          ]
        },
        {
          "output_type": "stream",
          "name": "stderr",
          "text": [
            "Validation: 100%|██████████| 35/35 [00:06<00:00,  5.67it/s]\n"
          ]
        },
        {
          "output_type": "stream",
          "name": "stdout",
          "text": [
            "Validation Loss: 0.7702, Validation Accuracy: 85.21%\n",
            "\n",
            "Epoch 49/50\n"
          ]
        },
        {
          "output_type": "stream",
          "name": "stderr",
          "text": [
            "Training: 100%|██████████| 161/161 [00:32<00:00,  5.03it/s]\n"
          ]
        },
        {
          "output_type": "stream",
          "name": "stdout",
          "text": [
            "Train Loss: 0.1407, Train Accuracy: 95.57%\n"
          ]
        },
        {
          "output_type": "stream",
          "name": "stderr",
          "text": [
            "Validation: 100%|██████████| 35/35 [00:06<00:00,  5.71it/s]\n"
          ]
        },
        {
          "output_type": "stream",
          "name": "stdout",
          "text": [
            "Validation Loss: 0.6624, Validation Accuracy: 86.48%\n",
            "\n",
            "Epoch 50/50\n"
          ]
        },
        {
          "output_type": "stream",
          "name": "stderr",
          "text": [
            "Training: 100%|██████████| 161/161 [00:32<00:00,  5.01it/s]\n"
          ]
        },
        {
          "output_type": "stream",
          "name": "stdout",
          "text": [
            "Train Loss: 0.1052, Train Accuracy: 96.58%\n"
          ]
        },
        {
          "output_type": "stream",
          "name": "stderr",
          "text": [
            "Validation: 100%|██████████| 35/35 [00:06<00:00,  5.68it/s]"
          ]
        },
        {
          "output_type": "stream",
          "name": "stdout",
          "text": [
            "Validation Loss: 0.6838, Validation Accuracy: 86.12%\n"
          ]
        },
        {
          "output_type": "stream",
          "name": "stderr",
          "text": [
            "\n"
          ]
        }
      ],
      "source": [
        "for epoch in range(num_epochs):\n",
        "    print(f\"\\nEpoch {epoch+1}/{num_epochs}\")\n",
        "    train(model, train_loader, criterion, optimizer, device)\n",
        "    evaluate(model, val_loader, criterion, device, phase=\"Validation\")"
      ]
    },
    {
      "cell_type": "code",
      "execution_count": 29,
      "metadata": {
        "colab": {
          "base_uri": "https://localhost:8080/"
        },
        "id": "tAiyDwO0zMk1",
        "outputId": "ace96d5b-9f00-4464-c373-d641aab70aa0"
      },
      "outputs": [
        {
          "output_type": "stream",
          "name": "stdout",
          "text": [
            "\n",
            "Final Test Evaluation\n"
          ]
        },
        {
          "output_type": "stream",
          "name": "stderr",
          "text": [
            "Test: 100%|██████████| 35/35 [00:06<00:00,  5.70it/s]"
          ]
        },
        {
          "output_type": "stream",
          "name": "stdout",
          "text": [
            "Test Loss: 0.8333, Test Accuracy: 83.59%\n"
          ]
        },
        {
          "output_type": "stream",
          "name": "stderr",
          "text": [
            "\n"
          ]
        }
      ],
      "source": [
        "print(\"\\nFinal Test Evaluation\")\n",
        "evaluate(model, test_loader, criterion, device, phase=\"Test\")"
      ]
    },
    {
      "cell_type": "code",
      "execution_count": 30,
      "metadata": {
        "colab": {
          "base_uri": "https://localhost:8080/"
        },
        "id": "HCv209A51QEb",
        "outputId": "884f85f7-1060-4d66-ed99-62b095f13a5d"
      },
      "outputs": [
        {
          "output_type": "stream",
          "name": "stdout",
          "text": [
            "Inference Time Measurement Results:\n",
            "Total Inferences: 35\n",
            "Average Time: 22.52 ms\n",
            "Standard Deviation: 0.80 ms\n",
            "Maximum Time: 22.93 ms\n",
            "Minimum Time: 17.88 ms\n"
          ]
        }
      ],
      "source": [
        "times = measure_inference_time(model, test_loader, device)"
      ]
    },
    {
      "cell_type": "code",
      "execution_count": 39,
      "metadata": {
        "id": "m_kVgdJKDZqe",
        "outputId": "efcfcf6b-1ebf-44cb-a625-f676cb2dc0f8",
        "colab": {
          "base_uri": "https://localhost:8080/"
        }
      },
      "outputs": [
        {
          "output_type": "stream",
          "name": "stdout",
          "text": [
            "-------------------------------------------------------  ------------  ------------  ------------  ------------  ------------  ------------  ------------  ------------  ------------  ------------  \n",
            "                                                   Name    Self CPU %      Self CPU   CPU total %     CPU total  CPU time avg     Self CUDA   Self CUDA %    CUDA total  CUDA time avg    # of Calls  \n",
            "-------------------------------------------------------  ------------  ------------  ------------  ------------  ------------  ------------  ------------  ------------  ------------  ------------  \n",
            "                                      aten::convolution         1.37%     351.443us        24.33%       6.246ms     104.107us       0.000us         0.00%       7.949ms     132.481us            60  \n",
            "                                     aten::_convolution         1.73%     445.132us        22.96%       5.895ms      98.250us       0.000us         0.00%       7.949ms     132.481us            60  \n",
            "                                           aten::conv2d         1.03%     265.491us        24.93%       6.403ms     108.522us       0.000us         0.00%       7.333ms     124.285us            59  \n",
            "                                aten::cudnn_convolution        12.49%       3.206ms        20.67%       5.308ms      89.961us       7.322ms        33.18%       7.322ms     124.103us            59  \n",
            "                                           aten::matmul         1.48%     380.540us        15.95%       4.096ms      73.142us       0.000us         0.00%       5.703ms     101.836us            56  \n",
            "                                           aten::linear         0.68%     174.457us        11.05%       2.837ms      65.973us       0.000us         0.00%       4.719ms     109.740us            43  \n",
            "                                               aten::mm         5.18%       1.329ms         7.67%       1.969ms      49.229us       4.551ms        20.62%       4.551ms     113.785us            40  \n",
            "                                       aten::batch_norm         1.70%     437.051us        35.98%       9.240ms      93.337us       0.000us         0.00%       3.906ms      39.460us            99  \n",
            "                           aten::_batch_norm_impl_index         2.34%     599.625us        34.28%       8.803ms      88.922us       0.000us         0.00%       3.906ms      39.460us            99  \n",
            "                                 aten::cudnn_batch_norm         6.84%       1.757ms        16.55%       4.251ms      74.572us       3.044ms        13.79%       3.044ms      53.400us            57  \n",
            "-------------------------------------------------------  ------------  ------------  ------------  ------------  ------------  ------------  ------------  ------------  ------------  ------------  \n",
            "Self CPU time total: 25.678ms\n",
            "Self CUDA time total: 22.067ms\n",
            "\n"
          ]
        }
      ],
      "source": [
        "from torch import profiler\n",
        "\n",
        "dummy_input = torch.randn(32, 3, 224, 224).cuda()\n",
        "\n",
        "# Profiling inference\n",
        "with profiler.profile(\n",
        "    activities=[\n",
        "       profiler.ProfilerActivity.CPU,\n",
        "        profiler.ProfilerActivity.CUDA,  # Include if using GPU\n",
        "    ],\n",
        "    on_trace_ready=profiler.tensorboard_trace_handler(\"./logs\"),  # Optional logging\n",
        "    record_shapes=True,\n",
        "    with_stack=True\n",
        ") as prof:\n",
        "    with torch.no_grad():\n",
        "        model(dummy_input)\n",
        "\n",
        "\n",
        "# Print results\n",
        "print(prof.key_averages().table(sort_by=\"cuda_time_total\" if torch.cuda.is_available() else \"cpu_time_total\", row_limit=10))\n",
        "\n"
      ]
    },
    {
      "cell_type": "code",
      "source": [],
      "metadata": {
        "id": "68X1l2gxB6Km"
      },
      "execution_count": null,
      "outputs": []
    }
  ],
  "metadata": {
    "accelerator": "GPU",
    "colab": {
      "gpuType": "A100",
      "provenance": []
    },
    "kernelspec": {
      "display_name": "Python 3",
      "name": "python3"
    },
    "language_info": {
      "codemirror_mode": {
        "name": "ipython",
        "version": 3
      },
      "file_extension": ".py",
      "mimetype": "text/x-python",
      "name": "python",
      "nbconvert_exporter": "python",
      "pygments_lexer": "ipython3",
      "version": "3.10.0"
    },
    "widgets": {
      "application/vnd.jupyter.widget-state+json": {
        "39e538aa38cd4353a0266a0d8e6c38cc": {
          "model_module": "@jupyter-widgets/controls",
          "model_name": "HBoxModel",
          "model_module_version": "1.5.0",
          "state": {
            "_dom_classes": [],
            "_model_module": "@jupyter-widgets/controls",
            "_model_module_version": "1.5.0",
            "_model_name": "HBoxModel",
            "_view_count": null,
            "_view_module": "@jupyter-widgets/controls",
            "_view_module_version": "1.5.0",
            "_view_name": "HBoxView",
            "box_style": "",
            "children": [
              "IPY_MODEL_4bade416c4fc4cb5a81eb55e4ce9bdcd",
              "IPY_MODEL_cfe07dce8ab14bd4b0b21106be6fe2e0",
              "IPY_MODEL_884930c015c648549a7b7961cee6ce78"
            ],
            "layout": "IPY_MODEL_62f17b3c424545529da35962d529b7b6"
          }
        },
        "4bade416c4fc4cb5a81eb55e4ce9bdcd": {
          "model_module": "@jupyter-widgets/controls",
          "model_name": "HTMLModel",
          "model_module_version": "1.5.0",
          "state": {
            "_dom_classes": [],
            "_model_module": "@jupyter-widgets/controls",
            "_model_module_version": "1.5.0",
            "_model_name": "HTMLModel",
            "_view_count": null,
            "_view_module": "@jupyter-widgets/controls",
            "_view_module_version": "1.5.0",
            "_view_name": "HTMLView",
            "description": "",
            "description_tooltip": null,
            "layout": "IPY_MODEL_e3508794a85e44deb36b5e2581c40f19",
            "placeholder": "​",
            "style": "IPY_MODEL_865a461426134dcb8a87db7772990134",
            "value": "model.safetensors: 100%"
          }
        },
        "cfe07dce8ab14bd4b0b21106be6fe2e0": {
          "model_module": "@jupyter-widgets/controls",
          "model_name": "FloatProgressModel",
          "model_module_version": "1.5.0",
          "state": {
            "_dom_classes": [],
            "_model_module": "@jupyter-widgets/controls",
            "_model_module_version": "1.5.0",
            "_model_name": "FloatProgressModel",
            "_view_count": null,
            "_view_module": "@jupyter-widgets/controls",
            "_view_module_version": "1.5.0",
            "_view_name": "ProgressView",
            "bar_style": "success",
            "description": "",
            "description_tooltip": null,
            "layout": "IPY_MODEL_54e018c374214b768237aec5d50b4138",
            "max": 102469840,
            "min": 0,
            "orientation": "horizontal",
            "style": "IPY_MODEL_d512b6b7f9f94b509cfe6626f9dac7f2",
            "value": 102469840
          }
        },
        "884930c015c648549a7b7961cee6ce78": {
          "model_module": "@jupyter-widgets/controls",
          "model_name": "HTMLModel",
          "model_module_version": "1.5.0",
          "state": {
            "_dom_classes": [],
            "_model_module": "@jupyter-widgets/controls",
            "_model_module_version": "1.5.0",
            "_model_name": "HTMLModel",
            "_view_count": null,
            "_view_module": "@jupyter-widgets/controls",
            "_view_module_version": "1.5.0",
            "_view_name": "HTMLView",
            "description": "",
            "description_tooltip": null,
            "layout": "IPY_MODEL_b808787f4b76472d80bbe29ce8d65414",
            "placeholder": "​",
            "style": "IPY_MODEL_d31b251258b146a2a8fbd67955777d44",
            "value": " 102M/102M [00:00&lt;00:00, 193MB/s]"
          }
        },
        "62f17b3c424545529da35962d529b7b6": {
          "model_module": "@jupyter-widgets/base",
          "model_name": "LayoutModel",
          "model_module_version": "1.2.0",
          "state": {
            "_model_module": "@jupyter-widgets/base",
            "_model_module_version": "1.2.0",
            "_model_name": "LayoutModel",
            "_view_count": null,
            "_view_module": "@jupyter-widgets/base",
            "_view_module_version": "1.2.0",
            "_view_name": "LayoutView",
            "align_content": null,
            "align_items": null,
            "align_self": null,
            "border": null,
            "bottom": null,
            "display": null,
            "flex": null,
            "flex_flow": null,
            "grid_area": null,
            "grid_auto_columns": null,
            "grid_auto_flow": null,
            "grid_auto_rows": null,
            "grid_column": null,
            "grid_gap": null,
            "grid_row": null,
            "grid_template_areas": null,
            "grid_template_columns": null,
            "grid_template_rows": null,
            "height": null,
            "justify_content": null,
            "justify_items": null,
            "left": null,
            "margin": null,
            "max_height": null,
            "max_width": null,
            "min_height": null,
            "min_width": null,
            "object_fit": null,
            "object_position": null,
            "order": null,
            "overflow": null,
            "overflow_x": null,
            "overflow_y": null,
            "padding": null,
            "right": null,
            "top": null,
            "visibility": null,
            "width": null
          }
        },
        "e3508794a85e44deb36b5e2581c40f19": {
          "model_module": "@jupyter-widgets/base",
          "model_name": "LayoutModel",
          "model_module_version": "1.2.0",
          "state": {
            "_model_module": "@jupyter-widgets/base",
            "_model_module_version": "1.2.0",
            "_model_name": "LayoutModel",
            "_view_count": null,
            "_view_module": "@jupyter-widgets/base",
            "_view_module_version": "1.2.0",
            "_view_name": "LayoutView",
            "align_content": null,
            "align_items": null,
            "align_self": null,
            "border": null,
            "bottom": null,
            "display": null,
            "flex": null,
            "flex_flow": null,
            "grid_area": null,
            "grid_auto_columns": null,
            "grid_auto_flow": null,
            "grid_auto_rows": null,
            "grid_column": null,
            "grid_gap": null,
            "grid_row": null,
            "grid_template_areas": null,
            "grid_template_columns": null,
            "grid_template_rows": null,
            "height": null,
            "justify_content": null,
            "justify_items": null,
            "left": null,
            "margin": null,
            "max_height": null,
            "max_width": null,
            "min_height": null,
            "min_width": null,
            "object_fit": null,
            "object_position": null,
            "order": null,
            "overflow": null,
            "overflow_x": null,
            "overflow_y": null,
            "padding": null,
            "right": null,
            "top": null,
            "visibility": null,
            "width": null
          }
        },
        "865a461426134dcb8a87db7772990134": {
          "model_module": "@jupyter-widgets/controls",
          "model_name": "DescriptionStyleModel",
          "model_module_version": "1.5.0",
          "state": {
            "_model_module": "@jupyter-widgets/controls",
            "_model_module_version": "1.5.0",
            "_model_name": "DescriptionStyleModel",
            "_view_count": null,
            "_view_module": "@jupyter-widgets/base",
            "_view_module_version": "1.2.0",
            "_view_name": "StyleView",
            "description_width": ""
          }
        },
        "54e018c374214b768237aec5d50b4138": {
          "model_module": "@jupyter-widgets/base",
          "model_name": "LayoutModel",
          "model_module_version": "1.2.0",
          "state": {
            "_model_module": "@jupyter-widgets/base",
            "_model_module_version": "1.2.0",
            "_model_name": "LayoutModel",
            "_view_count": null,
            "_view_module": "@jupyter-widgets/base",
            "_view_module_version": "1.2.0",
            "_view_name": "LayoutView",
            "align_content": null,
            "align_items": null,
            "align_self": null,
            "border": null,
            "bottom": null,
            "display": null,
            "flex": null,
            "flex_flow": null,
            "grid_area": null,
            "grid_auto_columns": null,
            "grid_auto_flow": null,
            "grid_auto_rows": null,
            "grid_column": null,
            "grid_gap": null,
            "grid_row": null,
            "grid_template_areas": null,
            "grid_template_columns": null,
            "grid_template_rows": null,
            "height": null,
            "justify_content": null,
            "justify_items": null,
            "left": null,
            "margin": null,
            "max_height": null,
            "max_width": null,
            "min_height": null,
            "min_width": null,
            "object_fit": null,
            "object_position": null,
            "order": null,
            "overflow": null,
            "overflow_x": null,
            "overflow_y": null,
            "padding": null,
            "right": null,
            "top": null,
            "visibility": null,
            "width": null
          }
        },
        "d512b6b7f9f94b509cfe6626f9dac7f2": {
          "model_module": "@jupyter-widgets/controls",
          "model_name": "ProgressStyleModel",
          "model_module_version": "1.5.0",
          "state": {
            "_model_module": "@jupyter-widgets/controls",
            "_model_module_version": "1.5.0",
            "_model_name": "ProgressStyleModel",
            "_view_count": null,
            "_view_module": "@jupyter-widgets/base",
            "_view_module_version": "1.2.0",
            "_view_name": "StyleView",
            "bar_color": null,
            "description_width": ""
          }
        },
        "b808787f4b76472d80bbe29ce8d65414": {
          "model_module": "@jupyter-widgets/base",
          "model_name": "LayoutModel",
          "model_module_version": "1.2.0",
          "state": {
            "_model_module": "@jupyter-widgets/base",
            "_model_module_version": "1.2.0",
            "_model_name": "LayoutModel",
            "_view_count": null,
            "_view_module": "@jupyter-widgets/base",
            "_view_module_version": "1.2.0",
            "_view_name": "LayoutView",
            "align_content": null,
            "align_items": null,
            "align_self": null,
            "border": null,
            "bottom": null,
            "display": null,
            "flex": null,
            "flex_flow": null,
            "grid_area": null,
            "grid_auto_columns": null,
            "grid_auto_flow": null,
            "grid_auto_rows": null,
            "grid_column": null,
            "grid_gap": null,
            "grid_row": null,
            "grid_template_areas": null,
            "grid_template_columns": null,
            "grid_template_rows": null,
            "height": null,
            "justify_content": null,
            "justify_items": null,
            "left": null,
            "margin": null,
            "max_height": null,
            "max_width": null,
            "min_height": null,
            "min_width": null,
            "object_fit": null,
            "object_position": null,
            "order": null,
            "overflow": null,
            "overflow_x": null,
            "overflow_y": null,
            "padding": null,
            "right": null,
            "top": null,
            "visibility": null,
            "width": null
          }
        },
        "d31b251258b146a2a8fbd67955777d44": {
          "model_module": "@jupyter-widgets/controls",
          "model_name": "DescriptionStyleModel",
          "model_module_version": "1.5.0",
          "state": {
            "_model_module": "@jupyter-widgets/controls",
            "_model_module_version": "1.5.0",
            "_model_name": "DescriptionStyleModel",
            "_view_count": null,
            "_view_module": "@jupyter-widgets/base",
            "_view_module_version": "1.2.0",
            "_view_name": "StyleView",
            "description_width": ""
          }
        }
      }
    }
  },
  "nbformat": 4,
  "nbformat_minor": 0
}