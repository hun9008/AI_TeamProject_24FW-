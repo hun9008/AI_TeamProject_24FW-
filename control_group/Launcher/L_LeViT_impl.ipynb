{
  "cells": [
    {
      "cell_type": "code",
      "execution_count": 1,
      "metadata": {
        "colab": {
          "base_uri": "https://localhost:8080/"
        },
        "id": "gOt_dilyzGPf",
        "outputId": "f3382ff3-3064-4c4b-e904-6b72a3be37b2"
      },
      "outputs": [
        {
          "name": "stdout",
          "output_type": "stream",
          "text": [
            "Requirement already satisfied: torchinfo in /usr/local/lib/python3.10/dist-packages (1.8.0)\n"
          ]
        }
      ],
      "source": [
        "!pip install torchinfo"
      ]
    },
    {
      "cell_type": "code",
      "execution_count": 2,
      "metadata": {
        "id": "tZSEFQzWzBPy"
      },
      "outputs": [],
      "source": [
        "import timm\n",
        "import torch\n",
        "import torch.nn as nn\n",
        "import torch.optim as optim\n",
        "from torchvision import datasets, transforms\n",
        "from torch.utils.data import DataLoader, random_split, ConcatDataset\n",
        "import numpy as np\n",
        "from tqdm import tqdm\n",
        "\n",
        "import itertools\n",
        "from torchinfo import summary"
      ]
    },
    {
      "cell_type": "code",
      "execution_count": 3,
      "metadata": {
        "id": "5N0s6e-mzBPz"
      },
      "outputs": [],
      "source": [
        "class ConvNorm(nn.Module):\n",
        "    def __init__(self, in_channels, out_channels, kernel_size=3, stride=2, padding=1):\n",
        "        super(ConvNorm, self).__init__()\n",
        "        self.linear = nn.Conv2d(\n",
        "            in_channels, out_channels, kernel_size=kernel_size,\n",
        "            stride=stride, padding=padding, bias=False\n",
        "        )\n",
        "        self.bn = nn.BatchNorm2d(out_channels)\n",
        "\n",
        "    def forward(self, x):\n",
        "        x = self.linear(x)\n",
        "        x = self.bn(x)\n",
        "        return x"
      ]
    },
    {
      "cell_type": "code",
      "execution_count": 4,
      "metadata": {
        "id": "fX0CnXd9zBP0"
      },
      "outputs": [],
      "source": [
        "class Stem16(nn.Module):\n",
        "    def __init__(self):\n",
        "        super(Stem16, self).__init__()\n",
        "        self.conv1 = ConvNorm(3, 32)\n",
        "        self.act1 = nn.Hardswish()\n",
        "        self.conv2 = ConvNorm(32, 64)\n",
        "        self.act2 = nn.Hardswish()\n",
        "        self.conv3 = ConvNorm(64, 128)\n",
        "        self.act3 = nn.Hardswish()\n",
        "        self.conv4 = ConvNorm(128, 256)\n",
        "\n",
        "    def forward(self, x):\n",
        "        x = self.act1(self.conv1(x))\n",
        "        x = self.act2(self.conv2(x))\n",
        "        x = self.act3(self.conv3(x))\n",
        "        x = self.conv4(x)\n",
        "        return x"
      ]
    },
    {
      "cell_type": "code",
      "execution_count": 5,
      "metadata": {
        "id": "7tw3fRfnzBP0"
      },
      "outputs": [],
      "source": [
        "class LinearNorm(nn.Module):\n",
        "    def __init__(self, in_features, out_features):\n",
        "        super(LinearNorm, self).__init__()\n",
        "        self.linear = nn.Linear(in_features, out_features, bias=False)\n",
        "        self.bn = nn.BatchNorm1d(out_features)\n",
        "\n",
        "    def forward(self, x):\n",
        "\n",
        "        if x.dim() == 3:\n",
        "            B, N, C = x.shape\n",
        "            x = x.reshape(B * N, C)\n",
        "            x = self.bn(self.linear(x))\n",
        "            x = x.reshape(B, N, -1)\n",
        "        else:\n",
        "            x = self.bn(self.linear(x))\n",
        "        return x"
      ]
    },
    {
      "cell_type": "code",
      "execution_count": 6,
      "metadata": {
        "id": "rW7vhH2YzBP1"
      },
      "outputs": [],
      "source": [
        "class Attention(nn.Module):\n",
        "    def __init__(self, dim, num_heads, attn_ratio=2):\n",
        "        super(Attention, self).__init__()\n",
        "        self.num_heads = num_heads\n",
        "        head_dim = dim // num_heads\n",
        "        self.scale = head_dim ** -0.5\n",
        "        inner_dim = head_dim * num_heads * 3\n",
        "        self.qkv = LinearNorm(dim, inner_dim)\n",
        "\n",
        "        self.proj = nn.Sequential(\n",
        "            nn.Hardswish(),\n",
        "            LinearNorm(dim, dim)\n",
        "        )\n",
        "\n",
        "    def forward(self, x):\n",
        "        B, N, C = x.shape\n",
        "        qkv = self.qkv(x)\n",
        "        qkv = qkv.view(B, N, 3, self.num_heads, C // self.num_heads).permute(2, 0, 3, 1, 4)\n",
        "        q, k, v = qkv[0], qkv[1], qkv[2]\n",
        "        attn = (q @ k.transpose(-2, -1)) * self.scale\n",
        "        attn = attn.softmax(dim=-1)\n",
        "        x = (attn @ v).transpose(1, 2).reshape(B, N, C)\n",
        "        return self.proj(x)"
      ]
    },
    {
      "cell_type": "code",
      "execution_count": 7,
      "metadata": {
        "id": "ewOcRA2dzBP1"
      },
      "outputs": [],
      "source": [
        "class LevitMlp(nn.Module):\n",
        "    def __init__(self, in_features, hidden_features, out_features):\n",
        "        super(LevitMlp, self).__init__()\n",
        "        self.ln1 = LinearNorm(in_features, hidden_features)\n",
        "        self.act = nn.Hardswish()\n",
        "        self.drop = nn.Dropout(p=0.0, inplace=False)\n",
        "        self.ln2 = LinearNorm(hidden_features, out_features)\n",
        "\n",
        "    def forward(self, x):\n",
        "        x = self.ln1(x)\n",
        "        x = self.act(x)\n",
        "        x = self.drop(x)\n",
        "        x = self.ln2(x)\n",
        "        return x"
      ]
    },
    {
      "cell_type": "code",
      "execution_count": 8,
      "metadata": {
        "id": "1m-F4YvfzBP2"
      },
      "outputs": [],
      "source": [
        "class LevitBlock(nn.Module):\n",
        "    def __init__(self, dim, num_heads, mlp_ratio=2):\n",
        "        super(LevitBlock, self).__init__()\n",
        "        self.attn = Attention(dim, num_heads)\n",
        "        self.drop_path1 = nn.Identity()\n",
        "        self.mlp = LevitMlp(dim, dim * mlp_ratio, dim)\n",
        "        self.drop_path2 = nn.Identity()\n",
        "\n",
        "    def forward(self, x):\n",
        "        x = x + self.drop_path1(self.attn(x))\n",
        "        x = x + self.drop_path2(self.mlp(x))\n",
        "        return x"
      ]
    },
    {
      "cell_type": "code",
      "execution_count": 9,
      "metadata": {
        "id": "pDfX1xE1zBP2"
      },
      "outputs": [],
      "source": [
        "class AttentionDownsample(nn.Module):\n",
        "    def __init__(self, dim, out_dim, num_heads, attn_ratio=2):\n",
        "        super(AttentionDownsample, self).__init__()\n",
        "        self.num_heads = num_heads\n",
        "        self.scale = (dim // num_heads) ** -0.5\n",
        "        inner_dim = dim * attn_ratio * num_heads\n",
        "        self.kv = LinearNorm(dim, inner_dim)\n",
        "\n",
        "        self.q = nn.Sequential(\n",
        "            nn.Conv2d(dim, dim, kernel_size=2, stride=2),\n",
        "            nn.Flatten(start_dim=1)\n",
        "        )\n",
        "\n",
        "        self.proj = nn.Sequential(\n",
        "            nn.Hardswish(),\n",
        "            LinearNorm(dim, out_dim)\n",
        "        )\n",
        "\n",
        "    def forward(self, x):\n",
        "        B, N, C = x.shape\n",
        "        H = W = int(N ** 0.5)\n",
        "        x = x.reshape(B, C, H, W)\n",
        "\n",
        "        kv = self.kv(x.flatten(2).transpose(1, 2))\n",
        "        q = self.q(x)\n",
        "\n",
        "        q = q.reshape(B, -1, C)\n",
        "        x = self.proj(q)\n",
        "        return x"
      ]
    },
    {
      "cell_type": "code",
      "execution_count": 10,
      "metadata": {
        "id": "Z26uegOwzBP2"
      },
      "outputs": [],
      "source": [
        "class LevitDownsample(nn.Module):\n",
        "    def __init__(self, dim, out_dim, num_heads, attn_ratio=2):\n",
        "        super(LevitDownsample, self).__init__()\n",
        "        self.attn_downsample = AttentionDownsample(dim, out_dim, num_heads, attn_ratio)\n",
        "        self.mlp = LevitMlp(out_dim, out_dim * attn_ratio, out_dim)\n",
        "        self.drop_path = nn.Identity()\n",
        "\n",
        "    def forward(self, x):\n",
        "        x = self.attn_downsample(x)\n",
        "        x = self.drop_path(self.mlp(x))\n",
        "        return x"
      ]
    },
    {
      "cell_type": "code",
      "execution_count": 11,
      "metadata": {
        "id": "oGsAuLPfzBP3"
      },
      "outputs": [],
      "source": [
        "class LevitStage(nn.Module):\n",
        "    def __init__(self, dim, out_dim, num_heads, num_blocks, downsample=True):\n",
        "        super(LevitStage, self).__init__()\n",
        "        self.downsample = LevitDownsample(dim, out_dim, num_heads) if downsample else nn.Identity()\n",
        "        self.blocks = nn.Sequential(*[LevitBlock(out_dim, num_heads) for _ in range(num_blocks)])\n",
        "\n",
        "    def forward(self, x):\n",
        "        x = self.downsample(x)\n",
        "        x = self.blocks(x)\n",
        "        return x"
      ]
    },
    {
      "cell_type": "code",
      "execution_count": 12,
      "metadata": {
        "id": "bBPec4pbzBP3"
      },
      "outputs": [],
      "source": [
        "class NormLinear(nn.Module):\n",
        "    def __init__(self, in_features, out_features, dropout_prob=0.0):\n",
        "        super(NormLinear, self).__init__()\n",
        "        self.bn = nn.BatchNorm1d(in_features)\n",
        "        self.drop = nn.Dropout(p=dropout_prob, inplace=False)\n",
        "        self.linear = nn.Linear(in_features, out_features, bias=True)\n",
        "\n",
        "    def forward(self, x):\n",
        "        x = self.bn(x)\n",
        "        x = self.drop(x)\n",
        "        x = self.linear(x)\n",
        "        return x\n"
      ]
    },
    {
      "cell_type": "code",
      "execution_count": 13,
      "metadata": {
        "id": "mt5kkekezBP3"
      },
      "outputs": [],
      "source": [
        "class LevitDistilled(nn.Module):\n",
        "    def __init__(self, num_classes=37):\n",
        "        super(LevitDistilled, self).__init__()\n",
        "\n",
        "        self.stem = Stem16()\n",
        "\n",
        "        self.stages = nn.Sequential(\n",
        "            LevitStage(dim=256, out_dim=256, num_heads=4, num_blocks=3, downsample=False),\n",
        "            LevitStage(dim=256, out_dim=384, num_heads=6, num_blocks=3, downsample=True),\n",
        "            LevitStage(dim=384, out_dim=512, num_heads=8, num_blocks=2, downsample=True)\n",
        "        )\n",
        "\n",
        "        self.head = NormLinear(in_features=512, out_features=num_classes, dropout_prob=0.0)\n",
        "        self.head_dist = NormLinear(in_features=512, out_features=num_classes, dropout_prob=0.0)\n",
        "\n",
        "    def forward(self, x):\n",
        "        x = self.stem(x)\n",
        "        B, C, H, W = x.shape\n",
        "        x = x.view(B, C, -1).transpose(1, 2)\n",
        "        x = self.stages(x)\n",
        "        out = self.head(x.mean(dim=1))\n",
        "        out_dist = self.head_dist(x.mean(dim=1))\n",
        "        return out"
      ]
    },
    {
      "cell_type": "code",
      "execution_count": 14,
      "metadata": {
        "colab": {
          "base_uri": "https://localhost:8080/"
        },
        "id": "tP9YQ8094vV6",
        "outputId": "04f327d4-dea4-4d99-b714-769e207be7f4"
      },
      "outputs": [
        {
          "name": "stderr",
          "output_type": "stream",
          "text": [
            "/usr/local/lib/python3.10/dist-packages/huggingface_hub/utils/_auth.py:94: UserWarning: \n",
            "The secret `HF_TOKEN` does not exist in your Colab secrets.\n",
            "To authenticate with the Hugging Face Hub, create a token in your settings tab (https://huggingface.co/settings/tokens), set it as secret in your Google Colab and restart your session.\n",
            "You will be able to reuse this secret in all of your notebooks.\n",
            "Please note that authentication is recommended but still optional to access public models or datasets.\n",
            "  warnings.warn(\n"
          ]
        }
      ],
      "source": [
        "ResNet50 = timm.create_model('resnet50', pretrained=True)"
      ]
    },
    {
      "cell_type": "code",
      "execution_count": 15,
      "metadata": {
        "colab": {
          "base_uri": "https://localhost:8080/"
        },
        "id": "k5kDAmg84xs_",
        "outputId": "bc38bac0-0264-4d20-8aac-9bf3ddef60d1"
      },
      "outputs": [
        {
          "name": "stdout",
          "output_type": "stream",
          "text": [
            "==========================================================================================\n",
            "Layer (type:depth-idx)                   Output Shape              Param #\n",
            "==========================================================================================\n",
            "ResNet                                   [32, 1000]                --\n",
            "├─Conv2d: 1-1                            [32, 64, 112, 112]        9,408\n",
            "├─BatchNorm2d: 1-2                       [32, 64, 112, 112]        128\n",
            "├─ReLU: 1-3                              [32, 64, 112, 112]        --\n",
            "├─MaxPool2d: 1-4                         [32, 64, 56, 56]          --\n",
            "├─Sequential: 1-5                        [32, 256, 56, 56]         --\n",
            "│    └─Bottleneck: 2-1                   [32, 256, 56, 56]         --\n",
            "│    │    └─Conv2d: 3-1                  [32, 64, 56, 56]          4,096\n",
            "│    │    └─BatchNorm2d: 3-2             [32, 64, 56, 56]          128\n",
            "│    │    └─ReLU: 3-3                    [32, 64, 56, 56]          --\n",
            "│    │    └─Conv2d: 3-4                  [32, 64, 56, 56]          36,864\n",
            "│    │    └─BatchNorm2d: 3-5             [32, 64, 56, 56]          128\n",
            "│    │    └─Identity: 3-6                [32, 64, 56, 56]          --\n",
            "│    │    └─ReLU: 3-7                    [32, 64, 56, 56]          --\n",
            "│    │    └─Identity: 3-8                [32, 64, 56, 56]          --\n",
            "│    │    └─Conv2d: 3-9                  [32, 256, 56, 56]         16,384\n",
            "│    │    └─BatchNorm2d: 3-10            [32, 256, 56, 56]         512\n",
            "│    │    └─Sequential: 3-11             [32, 256, 56, 56]         16,896\n",
            "│    │    └─ReLU: 3-12                   [32, 256, 56, 56]         --\n",
            "│    └─Bottleneck: 2-2                   [32, 256, 56, 56]         --\n",
            "│    │    └─Conv2d: 3-13                 [32, 64, 56, 56]          16,384\n",
            "│    │    └─BatchNorm2d: 3-14            [32, 64, 56, 56]          128\n",
            "│    │    └─ReLU: 3-15                   [32, 64, 56, 56]          --\n",
            "│    │    └─Conv2d: 3-16                 [32, 64, 56, 56]          36,864\n",
            "│    │    └─BatchNorm2d: 3-17            [32, 64, 56, 56]          128\n",
            "│    │    └─Identity: 3-18               [32, 64, 56, 56]          --\n",
            "│    │    └─ReLU: 3-19                   [32, 64, 56, 56]          --\n",
            "│    │    └─Identity: 3-20               [32, 64, 56, 56]          --\n",
            "│    │    └─Conv2d: 3-21                 [32, 256, 56, 56]         16,384\n",
            "│    │    └─BatchNorm2d: 3-22            [32, 256, 56, 56]         512\n",
            "│    │    └─ReLU: 3-23                   [32, 256, 56, 56]         --\n",
            "│    └─Bottleneck: 2-3                   [32, 256, 56, 56]         --\n",
            "│    │    └─Conv2d: 3-24                 [32, 64, 56, 56]          16,384\n",
            "│    │    └─BatchNorm2d: 3-25            [32, 64, 56, 56]          128\n",
            "│    │    └─ReLU: 3-26                   [32, 64, 56, 56]          --\n",
            "│    │    └─Conv2d: 3-27                 [32, 64, 56, 56]          36,864\n",
            "│    │    └─BatchNorm2d: 3-28            [32, 64, 56, 56]          128\n",
            "│    │    └─Identity: 3-29               [32, 64, 56, 56]          --\n",
            "│    │    └─ReLU: 3-30                   [32, 64, 56, 56]          --\n",
            "│    │    └─Identity: 3-31               [32, 64, 56, 56]          --\n",
            "│    │    └─Conv2d: 3-32                 [32, 256, 56, 56]         16,384\n",
            "│    │    └─BatchNorm2d: 3-33            [32, 256, 56, 56]         512\n",
            "│    │    └─ReLU: 3-34                   [32, 256, 56, 56]         --\n",
            "├─Sequential: 1-6                        [32, 512, 28, 28]         --\n",
            "│    └─Bottleneck: 2-4                   [32, 512, 28, 28]         --\n",
            "│    │    └─Conv2d: 3-35                 [32, 128, 56, 56]         32,768\n",
            "│    │    └─BatchNorm2d: 3-36            [32, 128, 56, 56]         256\n",
            "│    │    └─ReLU: 3-37                   [32, 128, 56, 56]         --\n",
            "│    │    └─Conv2d: 3-38                 [32, 128, 28, 28]         147,456\n",
            "│    │    └─BatchNorm2d: 3-39            [32, 128, 28, 28]         256\n",
            "│    │    └─Identity: 3-40               [32, 128, 28, 28]         --\n",
            "│    │    └─ReLU: 3-41                   [32, 128, 28, 28]         --\n",
            "│    │    └─Identity: 3-42               [32, 128, 28, 28]         --\n",
            "│    │    └─Conv2d: 3-43                 [32, 512, 28, 28]         65,536\n",
            "│    │    └─BatchNorm2d: 3-44            [32, 512, 28, 28]         1,024\n",
            "│    │    └─Sequential: 3-45             [32, 512, 28, 28]         132,096\n",
            "│    │    └─ReLU: 3-46                   [32, 512, 28, 28]         --\n",
            "│    └─Bottleneck: 2-5                   [32, 512, 28, 28]         --\n",
            "│    │    └─Conv2d: 3-47                 [32, 128, 28, 28]         65,536\n",
            "│    │    └─BatchNorm2d: 3-48            [32, 128, 28, 28]         256\n",
            "│    │    └─ReLU: 3-49                   [32, 128, 28, 28]         --\n",
            "│    │    └─Conv2d: 3-50                 [32, 128, 28, 28]         147,456\n",
            "│    │    └─BatchNorm2d: 3-51            [32, 128, 28, 28]         256\n",
            "│    │    └─Identity: 3-52               [32, 128, 28, 28]         --\n",
            "│    │    └─ReLU: 3-53                   [32, 128, 28, 28]         --\n",
            "│    │    └─Identity: 3-54               [32, 128, 28, 28]         --\n",
            "│    │    └─Conv2d: 3-55                 [32, 512, 28, 28]         65,536\n",
            "│    │    └─BatchNorm2d: 3-56            [32, 512, 28, 28]         1,024\n",
            "│    │    └─ReLU: 3-57                   [32, 512, 28, 28]         --\n",
            "│    └─Bottleneck: 2-6                   [32, 512, 28, 28]         --\n",
            "│    │    └─Conv2d: 3-58                 [32, 128, 28, 28]         65,536\n",
            "│    │    └─BatchNorm2d: 3-59            [32, 128, 28, 28]         256\n",
            "│    │    └─ReLU: 3-60                   [32, 128, 28, 28]         --\n",
            "│    │    └─Conv2d: 3-61                 [32, 128, 28, 28]         147,456\n",
            "│    │    └─BatchNorm2d: 3-62            [32, 128, 28, 28]         256\n",
            "│    │    └─Identity: 3-63               [32, 128, 28, 28]         --\n",
            "│    │    └─ReLU: 3-64                   [32, 128, 28, 28]         --\n",
            "│    │    └─Identity: 3-65               [32, 128, 28, 28]         --\n",
            "│    │    └─Conv2d: 3-66                 [32, 512, 28, 28]         65,536\n",
            "│    │    └─BatchNorm2d: 3-67            [32, 512, 28, 28]         1,024\n",
            "│    │    └─ReLU: 3-68                   [32, 512, 28, 28]         --\n",
            "│    └─Bottleneck: 2-7                   [32, 512, 28, 28]         --\n",
            "│    │    └─Conv2d: 3-69                 [32, 128, 28, 28]         65,536\n",
            "│    │    └─BatchNorm2d: 3-70            [32, 128, 28, 28]         256\n",
            "│    │    └─ReLU: 3-71                   [32, 128, 28, 28]         --\n",
            "│    │    └─Conv2d: 3-72                 [32, 128, 28, 28]         147,456\n",
            "│    │    └─BatchNorm2d: 3-73            [32, 128, 28, 28]         256\n",
            "│    │    └─Identity: 3-74               [32, 128, 28, 28]         --\n",
            "│    │    └─ReLU: 3-75                   [32, 128, 28, 28]         --\n",
            "│    │    └─Identity: 3-76               [32, 128, 28, 28]         --\n",
            "│    │    └─Conv2d: 3-77                 [32, 512, 28, 28]         65,536\n",
            "│    │    └─BatchNorm2d: 3-78            [32, 512, 28, 28]         1,024\n",
            "│    │    └─ReLU: 3-79                   [32, 512, 28, 28]         --\n",
            "├─Sequential: 1-7                        [32, 1024, 14, 14]        --\n",
            "│    └─Bottleneck: 2-8                   [32, 1024, 14, 14]        --\n",
            "│    │    └─Conv2d: 3-80                 [32, 256, 28, 28]         131,072\n",
            "│    │    └─BatchNorm2d: 3-81            [32, 256, 28, 28]         512\n",
            "│    │    └─ReLU: 3-82                   [32, 256, 28, 28]         --\n",
            "│    │    └─Conv2d: 3-83                 [32, 256, 14, 14]         589,824\n",
            "│    │    └─BatchNorm2d: 3-84            [32, 256, 14, 14]         512\n",
            "│    │    └─Identity: 3-85               [32, 256, 14, 14]         --\n",
            "│    │    └─ReLU: 3-86                   [32, 256, 14, 14]         --\n",
            "│    │    └─Identity: 3-87               [32, 256, 14, 14]         --\n",
            "│    │    └─Conv2d: 3-88                 [32, 1024, 14, 14]        262,144\n",
            "│    │    └─BatchNorm2d: 3-89            [32, 1024, 14, 14]        2,048\n",
            "│    │    └─Sequential: 3-90             [32, 1024, 14, 14]        526,336\n",
            "│    │    └─ReLU: 3-91                   [32, 1024, 14, 14]        --\n",
            "│    └─Bottleneck: 2-9                   [32, 1024, 14, 14]        --\n",
            "│    │    └─Conv2d: 3-92                 [32, 256, 14, 14]         262,144\n",
            "│    │    └─BatchNorm2d: 3-93            [32, 256, 14, 14]         512\n",
            "│    │    └─ReLU: 3-94                   [32, 256, 14, 14]         --\n",
            "│    │    └─Conv2d: 3-95                 [32, 256, 14, 14]         589,824\n",
            "│    │    └─BatchNorm2d: 3-96            [32, 256, 14, 14]         512\n",
            "│    │    └─Identity: 3-97               [32, 256, 14, 14]         --\n",
            "│    │    └─ReLU: 3-98                   [32, 256, 14, 14]         --\n",
            "│    │    └─Identity: 3-99               [32, 256, 14, 14]         --\n",
            "│    │    └─Conv2d: 3-100                [32, 1024, 14, 14]        262,144\n",
            "│    │    └─BatchNorm2d: 3-101           [32, 1024, 14, 14]        2,048\n",
            "│    │    └─ReLU: 3-102                  [32, 1024, 14, 14]        --\n",
            "│    └─Bottleneck: 2-10                  [32, 1024, 14, 14]        --\n",
            "│    │    └─Conv2d: 3-103                [32, 256, 14, 14]         262,144\n",
            "│    │    └─BatchNorm2d: 3-104           [32, 256, 14, 14]         512\n",
            "│    │    └─ReLU: 3-105                  [32, 256, 14, 14]         --\n",
            "│    │    └─Conv2d: 3-106                [32, 256, 14, 14]         589,824\n",
            "│    │    └─BatchNorm2d: 3-107           [32, 256, 14, 14]         512\n",
            "│    │    └─Identity: 3-108              [32, 256, 14, 14]         --\n",
            "│    │    └─ReLU: 3-109                  [32, 256, 14, 14]         --\n",
            "│    │    └─Identity: 3-110              [32, 256, 14, 14]         --\n",
            "│    │    └─Conv2d: 3-111                [32, 1024, 14, 14]        262,144\n",
            "│    │    └─BatchNorm2d: 3-112           [32, 1024, 14, 14]        2,048\n",
            "│    │    └─ReLU: 3-113                  [32, 1024, 14, 14]        --\n",
            "│    └─Bottleneck: 2-11                  [32, 1024, 14, 14]        --\n",
            "│    │    └─Conv2d: 3-114                [32, 256, 14, 14]         262,144\n",
            "│    │    └─BatchNorm2d: 3-115           [32, 256, 14, 14]         512\n",
            "│    │    └─ReLU: 3-116                  [32, 256, 14, 14]         --\n",
            "│    │    └─Conv2d: 3-117                [32, 256, 14, 14]         589,824\n",
            "│    │    └─BatchNorm2d: 3-118           [32, 256, 14, 14]         512\n",
            "│    │    └─Identity: 3-119              [32, 256, 14, 14]         --\n",
            "│    │    └─ReLU: 3-120                  [32, 256, 14, 14]         --\n",
            "│    │    └─Identity: 3-121              [32, 256, 14, 14]         --\n",
            "│    │    └─Conv2d: 3-122                [32, 1024, 14, 14]        262,144\n",
            "│    │    └─BatchNorm2d: 3-123           [32, 1024, 14, 14]        2,048\n",
            "│    │    └─ReLU: 3-124                  [32, 1024, 14, 14]        --\n",
            "│    └─Bottleneck: 2-12                  [32, 1024, 14, 14]        --\n",
            "│    │    └─Conv2d: 3-125                [32, 256, 14, 14]         262,144\n",
            "│    │    └─BatchNorm2d: 3-126           [32, 256, 14, 14]         512\n",
            "│    │    └─ReLU: 3-127                  [32, 256, 14, 14]         --\n",
            "│    │    └─Conv2d: 3-128                [32, 256, 14, 14]         589,824\n",
            "│    │    └─BatchNorm2d: 3-129           [32, 256, 14, 14]         512\n",
            "│    │    └─Identity: 3-130              [32, 256, 14, 14]         --\n",
            "│    │    └─ReLU: 3-131                  [32, 256, 14, 14]         --\n",
            "│    │    └─Identity: 3-132              [32, 256, 14, 14]         --\n",
            "│    │    └─Conv2d: 3-133                [32, 1024, 14, 14]        262,144\n",
            "│    │    └─BatchNorm2d: 3-134           [32, 1024, 14, 14]        2,048\n",
            "│    │    └─ReLU: 3-135                  [32, 1024, 14, 14]        --\n",
            "│    └─Bottleneck: 2-13                  [32, 1024, 14, 14]        --\n",
            "│    │    └─Conv2d: 3-136                [32, 256, 14, 14]         262,144\n",
            "│    │    └─BatchNorm2d: 3-137           [32, 256, 14, 14]         512\n",
            "│    │    └─ReLU: 3-138                  [32, 256, 14, 14]         --\n",
            "│    │    └─Conv2d: 3-139                [32, 256, 14, 14]         589,824\n",
            "│    │    └─BatchNorm2d: 3-140           [32, 256, 14, 14]         512\n",
            "│    │    └─Identity: 3-141              [32, 256, 14, 14]         --\n",
            "│    │    └─ReLU: 3-142                  [32, 256, 14, 14]         --\n",
            "│    │    └─Identity: 3-143              [32, 256, 14, 14]         --\n",
            "│    │    └─Conv2d: 3-144                [32, 1024, 14, 14]        262,144\n",
            "│    │    └─BatchNorm2d: 3-145           [32, 1024, 14, 14]        2,048\n",
            "│    │    └─ReLU: 3-146                  [32, 1024, 14, 14]        --\n",
            "├─Sequential: 1-8                        [32, 2048, 7, 7]          --\n",
            "│    └─Bottleneck: 2-14                  [32, 2048, 7, 7]          --\n",
            "│    │    └─Conv2d: 3-147                [32, 512, 14, 14]         524,288\n",
            "│    │    └─BatchNorm2d: 3-148           [32, 512, 14, 14]         1,024\n",
            "│    │    └─ReLU: 3-149                  [32, 512, 14, 14]         --\n",
            "│    │    └─Conv2d: 3-150                [32, 512, 7, 7]           2,359,296\n",
            "│    │    └─BatchNorm2d: 3-151           [32, 512, 7, 7]           1,024\n",
            "│    │    └─Identity: 3-152              [32, 512, 7, 7]           --\n",
            "│    │    └─ReLU: 3-153                  [32, 512, 7, 7]           --\n",
            "│    │    └─Identity: 3-154              [32, 512, 7, 7]           --\n",
            "│    │    └─Conv2d: 3-155                [32, 2048, 7, 7]          1,048,576\n",
            "│    │    └─BatchNorm2d: 3-156           [32, 2048, 7, 7]          4,096\n",
            "│    │    └─Sequential: 3-157            [32, 2048, 7, 7]          2,101,248\n",
            "│    │    └─ReLU: 3-158                  [32, 2048, 7, 7]          --\n",
            "│    └─Bottleneck: 2-15                  [32, 2048, 7, 7]          --\n",
            "│    │    └─Conv2d: 3-159                [32, 512, 7, 7]           1,048,576\n",
            "│    │    └─BatchNorm2d: 3-160           [32, 512, 7, 7]           1,024\n",
            "│    │    └─ReLU: 3-161                  [32, 512, 7, 7]           --\n",
            "│    │    └─Conv2d: 3-162                [32, 512, 7, 7]           2,359,296\n",
            "│    │    └─BatchNorm2d: 3-163           [32, 512, 7, 7]           1,024\n",
            "│    │    └─Identity: 3-164              [32, 512, 7, 7]           --\n",
            "│    │    └─ReLU: 3-165                  [32, 512, 7, 7]           --\n",
            "│    │    └─Identity: 3-166              [32, 512, 7, 7]           --\n",
            "│    │    └─Conv2d: 3-167                [32, 2048, 7, 7]          1,048,576\n",
            "│    │    └─BatchNorm2d: 3-168           [32, 2048, 7, 7]          4,096\n",
            "│    │    └─ReLU: 3-169                  [32, 2048, 7, 7]          --\n",
            "│    └─Bottleneck: 2-16                  [32, 2048, 7, 7]          --\n",
            "│    │    └─Conv2d: 3-170                [32, 512, 7, 7]           1,048,576\n",
            "│    │    └─BatchNorm2d: 3-171           [32, 512, 7, 7]           1,024\n",
            "│    │    └─ReLU: 3-172                  [32, 512, 7, 7]           --\n",
            "│    │    └─Conv2d: 3-173                [32, 512, 7, 7]           2,359,296\n",
            "│    │    └─BatchNorm2d: 3-174           [32, 512, 7, 7]           1,024\n",
            "│    │    └─Identity: 3-175              [32, 512, 7, 7]           --\n",
            "│    │    └─ReLU: 3-176                  [32, 512, 7, 7]           --\n",
            "│    │    └─Identity: 3-177              [32, 512, 7, 7]           --\n",
            "│    │    └─Conv2d: 3-178                [32, 2048, 7, 7]          1,048,576\n",
            "│    │    └─BatchNorm2d: 3-179           [32, 2048, 7, 7]          4,096\n",
            "│    │    └─ReLU: 3-180                  [32, 2048, 7, 7]          --\n",
            "├─SelectAdaptivePool2d: 1-9              [32, 2048]                --\n",
            "│    └─AdaptiveAvgPool2d: 2-17           [32, 2048, 1, 1]          --\n",
            "│    └─Flatten: 2-18                     [32, 2048]                --\n",
            "├─Linear: 1-10                           [32, 1000]                2,049,000\n",
            "==========================================================================================\n",
            "Total params: 25,557,032\n",
            "Trainable params: 25,557,032\n",
            "Non-trainable params: 0\n",
            "Total mult-adds (G): 130.86\n",
            "==========================================================================================\n",
            "Input size (MB): 19.27\n",
            "Forward/backward pass size (MB): 5690.62\n",
            "Params size (MB): 102.23\n",
            "Estimated Total Size (MB): 5812.11\n",
            "==========================================================================================\n"
          ]
        }
      ],
      "source": [
        "print(summary(ResNet50, input_size=(32, 3, 224, 224)))"
      ]
    },
    {
      "cell_type": "code",
      "execution_count": 16,
      "metadata": {
        "id": "jr3cd2Ro67IM"
      },
      "outputs": [],
      "source": [
        "for param in ResNet50.parameters():\n",
        "    param.requires_grad = False"
      ]
    },
    {
      "cell_type": "code",
      "execution_count": 17,
      "metadata": {
        "id": "e0vDyvmN821X"
      },
      "outputs": [],
      "source": [
        "ResNet50.fc = nn.Identity()"
      ]
    },
    {
      "cell_type": "code",
      "execution_count": 18,
      "metadata": {
        "id": "xJDiw4Kc4674"
      },
      "outputs": [],
      "source": [
        "class LauncherModel(nn.Module):\n",
        "    def __init__(self):\n",
        "        super().__init__()\n",
        "        self.resnet = ResNet50\n",
        "        self.fc = nn.Linear(2048, 3 * 56 * 56)\n",
        "\n",
        "        self.upsample = nn.ConvTranspose2d(3, 3, kernel_size=4, stride=4, padding=0)\n",
        "\n",
        "        self.levit = LevitDistilled()\n",
        "\n",
        "    def forward(self, x):\n",
        "        x = self.resnet(x)  # (32, 2048)\n",
        "        x = self.fc(x)  # (32, 9408)\n",
        "        x = x.view(x.size(0), 3, 56, 56)  # (32, 3, 56, 56)\n",
        "        x = self.upsample(x)  # (32, 3, 224, 224)\n",
        "        x = self.levit(x)\n",
        "        return x\n"
      ]
    },
    {
      "cell_type": "code",
      "execution_count": 19,
      "metadata": {
        "colab": {
          "base_uri": "https://localhost:8080/"
        },
        "id": "kz4Um3NmzBP3",
        "outputId": "26d0c7f3-010e-4b15-e3ab-b78224cc629d"
      },
      "outputs": [
        {
          "name": "stdout",
          "output_type": "stream",
          "text": [
            "CustomModel(\n",
            "  (resnet): ResNet(\n",
            "    (conv1): Conv2d(3, 64, kernel_size=(7, 7), stride=(2, 2), padding=(3, 3), bias=False)\n",
            "    (bn1): BatchNorm2d(64, eps=1e-05, momentum=0.1, affine=True, track_running_stats=True)\n",
            "    (act1): ReLU(inplace=True)\n",
            "    (maxpool): MaxPool2d(kernel_size=3, stride=2, padding=1, dilation=1, ceil_mode=False)\n",
            "    (layer1): Sequential(\n",
            "      (0): Bottleneck(\n",
            "        (conv1): Conv2d(64, 64, kernel_size=(1, 1), stride=(1, 1), bias=False)\n",
            "        (bn1): BatchNorm2d(64, eps=1e-05, momentum=0.1, affine=True, track_running_stats=True)\n",
            "        (act1): ReLU(inplace=True)\n",
            "        (conv2): Conv2d(64, 64, kernel_size=(3, 3), stride=(1, 1), padding=(1, 1), bias=False)\n",
            "        (bn2): BatchNorm2d(64, eps=1e-05, momentum=0.1, affine=True, track_running_stats=True)\n",
            "        (drop_block): Identity()\n",
            "        (act2): ReLU(inplace=True)\n",
            "        (aa): Identity()\n",
            "        (conv3): Conv2d(64, 256, kernel_size=(1, 1), stride=(1, 1), bias=False)\n",
            "        (bn3): BatchNorm2d(256, eps=1e-05, momentum=0.1, affine=True, track_running_stats=True)\n",
            "        (act3): ReLU(inplace=True)\n",
            "        (downsample): Sequential(\n",
            "          (0): Conv2d(64, 256, kernel_size=(1, 1), stride=(1, 1), bias=False)\n",
            "          (1): BatchNorm2d(256, eps=1e-05, momentum=0.1, affine=True, track_running_stats=True)\n",
            "        )\n",
            "      )\n",
            "      (1): Bottleneck(\n",
            "        (conv1): Conv2d(256, 64, kernel_size=(1, 1), stride=(1, 1), bias=False)\n",
            "        (bn1): BatchNorm2d(64, eps=1e-05, momentum=0.1, affine=True, track_running_stats=True)\n",
            "        (act1): ReLU(inplace=True)\n",
            "        (conv2): Conv2d(64, 64, kernel_size=(3, 3), stride=(1, 1), padding=(1, 1), bias=False)\n",
            "        (bn2): BatchNorm2d(64, eps=1e-05, momentum=0.1, affine=True, track_running_stats=True)\n",
            "        (drop_block): Identity()\n",
            "        (act2): ReLU(inplace=True)\n",
            "        (aa): Identity()\n",
            "        (conv3): Conv2d(64, 256, kernel_size=(1, 1), stride=(1, 1), bias=False)\n",
            "        (bn3): BatchNorm2d(256, eps=1e-05, momentum=0.1, affine=True, track_running_stats=True)\n",
            "        (act3): ReLU(inplace=True)\n",
            "      )\n",
            "      (2): Bottleneck(\n",
            "        (conv1): Conv2d(256, 64, kernel_size=(1, 1), stride=(1, 1), bias=False)\n",
            "        (bn1): BatchNorm2d(64, eps=1e-05, momentum=0.1, affine=True, track_running_stats=True)\n",
            "        (act1): ReLU(inplace=True)\n",
            "        (conv2): Conv2d(64, 64, kernel_size=(3, 3), stride=(1, 1), padding=(1, 1), bias=False)\n",
            "        (bn2): BatchNorm2d(64, eps=1e-05, momentum=0.1, affine=True, track_running_stats=True)\n",
            "        (drop_block): Identity()\n",
            "        (act2): ReLU(inplace=True)\n",
            "        (aa): Identity()\n",
            "        (conv3): Conv2d(64, 256, kernel_size=(1, 1), stride=(1, 1), bias=False)\n",
            "        (bn3): BatchNorm2d(256, eps=1e-05, momentum=0.1, affine=True, track_running_stats=True)\n",
            "        (act3): ReLU(inplace=True)\n",
            "      )\n",
            "    )\n",
            "    (layer2): Sequential(\n",
            "      (0): Bottleneck(\n",
            "        (conv1): Conv2d(256, 128, kernel_size=(1, 1), stride=(1, 1), bias=False)\n",
            "        (bn1): BatchNorm2d(128, eps=1e-05, momentum=0.1, affine=True, track_running_stats=True)\n",
            "        (act1): ReLU(inplace=True)\n",
            "        (conv2): Conv2d(128, 128, kernel_size=(3, 3), stride=(2, 2), padding=(1, 1), bias=False)\n",
            "        (bn2): BatchNorm2d(128, eps=1e-05, momentum=0.1, affine=True, track_running_stats=True)\n",
            "        (drop_block): Identity()\n",
            "        (act2): ReLU(inplace=True)\n",
            "        (aa): Identity()\n",
            "        (conv3): Conv2d(128, 512, kernel_size=(1, 1), stride=(1, 1), bias=False)\n",
            "        (bn3): BatchNorm2d(512, eps=1e-05, momentum=0.1, affine=True, track_running_stats=True)\n",
            "        (act3): ReLU(inplace=True)\n",
            "        (downsample): Sequential(\n",
            "          (0): Conv2d(256, 512, kernel_size=(1, 1), stride=(2, 2), bias=False)\n",
            "          (1): BatchNorm2d(512, eps=1e-05, momentum=0.1, affine=True, track_running_stats=True)\n",
            "        )\n",
            "      )\n",
            "      (1): Bottleneck(\n",
            "        (conv1): Conv2d(512, 128, kernel_size=(1, 1), stride=(1, 1), bias=False)\n",
            "        (bn1): BatchNorm2d(128, eps=1e-05, momentum=0.1, affine=True, track_running_stats=True)\n",
            "        (act1): ReLU(inplace=True)\n",
            "        (conv2): Conv2d(128, 128, kernel_size=(3, 3), stride=(1, 1), padding=(1, 1), bias=False)\n",
            "        (bn2): BatchNorm2d(128, eps=1e-05, momentum=0.1, affine=True, track_running_stats=True)\n",
            "        (drop_block): Identity()\n",
            "        (act2): ReLU(inplace=True)\n",
            "        (aa): Identity()\n",
            "        (conv3): Conv2d(128, 512, kernel_size=(1, 1), stride=(1, 1), bias=False)\n",
            "        (bn3): BatchNorm2d(512, eps=1e-05, momentum=0.1, affine=True, track_running_stats=True)\n",
            "        (act3): ReLU(inplace=True)\n",
            "      )\n",
            "      (2): Bottleneck(\n",
            "        (conv1): Conv2d(512, 128, kernel_size=(1, 1), stride=(1, 1), bias=False)\n",
            "        (bn1): BatchNorm2d(128, eps=1e-05, momentum=0.1, affine=True, track_running_stats=True)\n",
            "        (act1): ReLU(inplace=True)\n",
            "        (conv2): Conv2d(128, 128, kernel_size=(3, 3), stride=(1, 1), padding=(1, 1), bias=False)\n",
            "        (bn2): BatchNorm2d(128, eps=1e-05, momentum=0.1, affine=True, track_running_stats=True)\n",
            "        (drop_block): Identity()\n",
            "        (act2): ReLU(inplace=True)\n",
            "        (aa): Identity()\n",
            "        (conv3): Conv2d(128, 512, kernel_size=(1, 1), stride=(1, 1), bias=False)\n",
            "        (bn3): BatchNorm2d(512, eps=1e-05, momentum=0.1, affine=True, track_running_stats=True)\n",
            "        (act3): ReLU(inplace=True)\n",
            "      )\n",
            "      (3): Bottleneck(\n",
            "        (conv1): Conv2d(512, 128, kernel_size=(1, 1), stride=(1, 1), bias=False)\n",
            "        (bn1): BatchNorm2d(128, eps=1e-05, momentum=0.1, affine=True, track_running_stats=True)\n",
            "        (act1): ReLU(inplace=True)\n",
            "        (conv2): Conv2d(128, 128, kernel_size=(3, 3), stride=(1, 1), padding=(1, 1), bias=False)\n",
            "        (bn2): BatchNorm2d(128, eps=1e-05, momentum=0.1, affine=True, track_running_stats=True)\n",
            "        (drop_block): Identity()\n",
            "        (act2): ReLU(inplace=True)\n",
            "        (aa): Identity()\n",
            "        (conv3): Conv2d(128, 512, kernel_size=(1, 1), stride=(1, 1), bias=False)\n",
            "        (bn3): BatchNorm2d(512, eps=1e-05, momentum=0.1, affine=True, track_running_stats=True)\n",
            "        (act3): ReLU(inplace=True)\n",
            "      )\n",
            "    )\n",
            "    (layer3): Sequential(\n",
            "      (0): Bottleneck(\n",
            "        (conv1): Conv2d(512, 256, kernel_size=(1, 1), stride=(1, 1), bias=False)\n",
            "        (bn1): BatchNorm2d(256, eps=1e-05, momentum=0.1, affine=True, track_running_stats=True)\n",
            "        (act1): ReLU(inplace=True)\n",
            "        (conv2): Conv2d(256, 256, kernel_size=(3, 3), stride=(2, 2), padding=(1, 1), bias=False)\n",
            "        (bn2): BatchNorm2d(256, eps=1e-05, momentum=0.1, affine=True, track_running_stats=True)\n",
            "        (drop_block): Identity()\n",
            "        (act2): ReLU(inplace=True)\n",
            "        (aa): Identity()\n",
            "        (conv3): Conv2d(256, 1024, kernel_size=(1, 1), stride=(1, 1), bias=False)\n",
            "        (bn3): BatchNorm2d(1024, eps=1e-05, momentum=0.1, affine=True, track_running_stats=True)\n",
            "        (act3): ReLU(inplace=True)\n",
            "        (downsample): Sequential(\n",
            "          (0): Conv2d(512, 1024, kernel_size=(1, 1), stride=(2, 2), bias=False)\n",
            "          (1): BatchNorm2d(1024, eps=1e-05, momentum=0.1, affine=True, track_running_stats=True)\n",
            "        )\n",
            "      )\n",
            "      (1): Bottleneck(\n",
            "        (conv1): Conv2d(1024, 256, kernel_size=(1, 1), stride=(1, 1), bias=False)\n",
            "        (bn1): BatchNorm2d(256, eps=1e-05, momentum=0.1, affine=True, track_running_stats=True)\n",
            "        (act1): ReLU(inplace=True)\n",
            "        (conv2): Conv2d(256, 256, kernel_size=(3, 3), stride=(1, 1), padding=(1, 1), bias=False)\n",
            "        (bn2): BatchNorm2d(256, eps=1e-05, momentum=0.1, affine=True, track_running_stats=True)\n",
            "        (drop_block): Identity()\n",
            "        (act2): ReLU(inplace=True)\n",
            "        (aa): Identity()\n",
            "        (conv3): Conv2d(256, 1024, kernel_size=(1, 1), stride=(1, 1), bias=False)\n",
            "        (bn3): BatchNorm2d(1024, eps=1e-05, momentum=0.1, affine=True, track_running_stats=True)\n",
            "        (act3): ReLU(inplace=True)\n",
            "      )\n",
            "      (2): Bottleneck(\n",
            "        (conv1): Conv2d(1024, 256, kernel_size=(1, 1), stride=(1, 1), bias=False)\n",
            "        (bn1): BatchNorm2d(256, eps=1e-05, momentum=0.1, affine=True, track_running_stats=True)\n",
            "        (act1): ReLU(inplace=True)\n",
            "        (conv2): Conv2d(256, 256, kernel_size=(3, 3), stride=(1, 1), padding=(1, 1), bias=False)\n",
            "        (bn2): BatchNorm2d(256, eps=1e-05, momentum=0.1, affine=True, track_running_stats=True)\n",
            "        (drop_block): Identity()\n",
            "        (act2): ReLU(inplace=True)\n",
            "        (aa): Identity()\n",
            "        (conv3): Conv2d(256, 1024, kernel_size=(1, 1), stride=(1, 1), bias=False)\n",
            "        (bn3): BatchNorm2d(1024, eps=1e-05, momentum=0.1, affine=True, track_running_stats=True)\n",
            "        (act3): ReLU(inplace=True)\n",
            "      )\n",
            "      (3): Bottleneck(\n",
            "        (conv1): Conv2d(1024, 256, kernel_size=(1, 1), stride=(1, 1), bias=False)\n",
            "        (bn1): BatchNorm2d(256, eps=1e-05, momentum=0.1, affine=True, track_running_stats=True)\n",
            "        (act1): ReLU(inplace=True)\n",
            "        (conv2): Conv2d(256, 256, kernel_size=(3, 3), stride=(1, 1), padding=(1, 1), bias=False)\n",
            "        (bn2): BatchNorm2d(256, eps=1e-05, momentum=0.1, affine=True, track_running_stats=True)\n",
            "        (drop_block): Identity()\n",
            "        (act2): ReLU(inplace=True)\n",
            "        (aa): Identity()\n",
            "        (conv3): Conv2d(256, 1024, kernel_size=(1, 1), stride=(1, 1), bias=False)\n",
            "        (bn3): BatchNorm2d(1024, eps=1e-05, momentum=0.1, affine=True, track_running_stats=True)\n",
            "        (act3): ReLU(inplace=True)\n",
            "      )\n",
            "      (4): Bottleneck(\n",
            "        (conv1): Conv2d(1024, 256, kernel_size=(1, 1), stride=(1, 1), bias=False)\n",
            "        (bn1): BatchNorm2d(256, eps=1e-05, momentum=0.1, affine=True, track_running_stats=True)\n",
            "        (act1): ReLU(inplace=True)\n",
            "        (conv2): Conv2d(256, 256, kernel_size=(3, 3), stride=(1, 1), padding=(1, 1), bias=False)\n",
            "        (bn2): BatchNorm2d(256, eps=1e-05, momentum=0.1, affine=True, track_running_stats=True)\n",
            "        (drop_block): Identity()\n",
            "        (act2): ReLU(inplace=True)\n",
            "        (aa): Identity()\n",
            "        (conv3): Conv2d(256, 1024, kernel_size=(1, 1), stride=(1, 1), bias=False)\n",
            "        (bn3): BatchNorm2d(1024, eps=1e-05, momentum=0.1, affine=True, track_running_stats=True)\n",
            "        (act3): ReLU(inplace=True)\n",
            "      )\n",
            "      (5): Bottleneck(\n",
            "        (conv1): Conv2d(1024, 256, kernel_size=(1, 1), stride=(1, 1), bias=False)\n",
            "        (bn1): BatchNorm2d(256, eps=1e-05, momentum=0.1, affine=True, track_running_stats=True)\n",
            "        (act1): ReLU(inplace=True)\n",
            "        (conv2): Conv2d(256, 256, kernel_size=(3, 3), stride=(1, 1), padding=(1, 1), bias=False)\n",
            "        (bn2): BatchNorm2d(256, eps=1e-05, momentum=0.1, affine=True, track_running_stats=True)\n",
            "        (drop_block): Identity()\n",
            "        (act2): ReLU(inplace=True)\n",
            "        (aa): Identity()\n",
            "        (conv3): Conv2d(256, 1024, kernel_size=(1, 1), stride=(1, 1), bias=False)\n",
            "        (bn3): BatchNorm2d(1024, eps=1e-05, momentum=0.1, affine=True, track_running_stats=True)\n",
            "        (act3): ReLU(inplace=True)\n",
            "      )\n",
            "    )\n",
            "    (layer4): Sequential(\n",
            "      (0): Bottleneck(\n",
            "        (conv1): Conv2d(1024, 512, kernel_size=(1, 1), stride=(1, 1), bias=False)\n",
            "        (bn1): BatchNorm2d(512, eps=1e-05, momentum=0.1, affine=True, track_running_stats=True)\n",
            "        (act1): ReLU(inplace=True)\n",
            "        (conv2): Conv2d(512, 512, kernel_size=(3, 3), stride=(2, 2), padding=(1, 1), bias=False)\n",
            "        (bn2): BatchNorm2d(512, eps=1e-05, momentum=0.1, affine=True, track_running_stats=True)\n",
            "        (drop_block): Identity()\n",
            "        (act2): ReLU(inplace=True)\n",
            "        (aa): Identity()\n",
            "        (conv3): Conv2d(512, 2048, kernel_size=(1, 1), stride=(1, 1), bias=False)\n",
            "        (bn3): BatchNorm2d(2048, eps=1e-05, momentum=0.1, affine=True, track_running_stats=True)\n",
            "        (act3): ReLU(inplace=True)\n",
            "        (downsample): Sequential(\n",
            "          (0): Conv2d(1024, 2048, kernel_size=(1, 1), stride=(2, 2), bias=False)\n",
            "          (1): BatchNorm2d(2048, eps=1e-05, momentum=0.1, affine=True, track_running_stats=True)\n",
            "        )\n",
            "      )\n",
            "      (1): Bottleneck(\n",
            "        (conv1): Conv2d(2048, 512, kernel_size=(1, 1), stride=(1, 1), bias=False)\n",
            "        (bn1): BatchNorm2d(512, eps=1e-05, momentum=0.1, affine=True, track_running_stats=True)\n",
            "        (act1): ReLU(inplace=True)\n",
            "        (conv2): Conv2d(512, 512, kernel_size=(3, 3), stride=(1, 1), padding=(1, 1), bias=False)\n",
            "        (bn2): BatchNorm2d(512, eps=1e-05, momentum=0.1, affine=True, track_running_stats=True)\n",
            "        (drop_block): Identity()\n",
            "        (act2): ReLU(inplace=True)\n",
            "        (aa): Identity()\n",
            "        (conv3): Conv2d(512, 2048, kernel_size=(1, 1), stride=(1, 1), bias=False)\n",
            "        (bn3): BatchNorm2d(2048, eps=1e-05, momentum=0.1, affine=True, track_running_stats=True)\n",
            "        (act3): ReLU(inplace=True)\n",
            "      )\n",
            "      (2): Bottleneck(\n",
            "        (conv1): Conv2d(2048, 512, kernel_size=(1, 1), stride=(1, 1), bias=False)\n",
            "        (bn1): BatchNorm2d(512, eps=1e-05, momentum=0.1, affine=True, track_running_stats=True)\n",
            "        (act1): ReLU(inplace=True)\n",
            "        (conv2): Conv2d(512, 512, kernel_size=(3, 3), stride=(1, 1), padding=(1, 1), bias=False)\n",
            "        (bn2): BatchNorm2d(512, eps=1e-05, momentum=0.1, affine=True, track_running_stats=True)\n",
            "        (drop_block): Identity()\n",
            "        (act2): ReLU(inplace=True)\n",
            "        (aa): Identity()\n",
            "        (conv3): Conv2d(512, 2048, kernel_size=(1, 1), stride=(1, 1), bias=False)\n",
            "        (bn3): BatchNorm2d(2048, eps=1e-05, momentum=0.1, affine=True, track_running_stats=True)\n",
            "        (act3): ReLU(inplace=True)\n",
            "      )\n",
            "    )\n",
            "    (global_pool): SelectAdaptivePool2d(pool_type=avg, flatten=Flatten(start_dim=1, end_dim=-1))\n",
            "    (fc): Identity()\n",
            "  )\n",
            "  (fc): Linear(in_features=2048, out_features=9408, bias=True)\n",
            "  (upsample): ConvTranspose2d(3, 3, kernel_size=(4, 4), stride=(4, 4))\n",
            "  (levit): LevitDistilled(\n",
            "    (stem): Stem16(\n",
            "      (conv1): ConvNorm(\n",
            "        (linear): Conv2d(3, 32, kernel_size=(3, 3), stride=(2, 2), padding=(1, 1), bias=False)\n",
            "        (bn): BatchNorm2d(32, eps=1e-05, momentum=0.1, affine=True, track_running_stats=True)\n",
            "      )\n",
            "      (act1): Hardswish()\n",
            "      (conv2): ConvNorm(\n",
            "        (linear): Conv2d(32, 64, kernel_size=(3, 3), stride=(2, 2), padding=(1, 1), bias=False)\n",
            "        (bn): BatchNorm2d(64, eps=1e-05, momentum=0.1, affine=True, track_running_stats=True)\n",
            "      )\n",
            "      (act2): Hardswish()\n",
            "      (conv3): ConvNorm(\n",
            "        (linear): Conv2d(64, 128, kernel_size=(3, 3), stride=(2, 2), padding=(1, 1), bias=False)\n",
            "        (bn): BatchNorm2d(128, eps=1e-05, momentum=0.1, affine=True, track_running_stats=True)\n",
            "      )\n",
            "      (act3): Hardswish()\n",
            "      (conv4): ConvNorm(\n",
            "        (linear): Conv2d(128, 256, kernel_size=(3, 3), stride=(2, 2), padding=(1, 1), bias=False)\n",
            "        (bn): BatchNorm2d(256, eps=1e-05, momentum=0.1, affine=True, track_running_stats=True)\n",
            "      )\n",
            "    )\n",
            "    (stages): Sequential(\n",
            "      (0): LevitStage(\n",
            "        (downsample): Identity()\n",
            "        (blocks): Sequential(\n",
            "          (0): LevitBlock(\n",
            "            (attn): Attention(\n",
            "              (qkv): LinearNorm(\n",
            "                (linear): Linear(in_features=256, out_features=768, bias=False)\n",
            "                (bn): BatchNorm1d(768, eps=1e-05, momentum=0.1, affine=True, track_running_stats=True)\n",
            "              )\n",
            "              (proj): Sequential(\n",
            "                (0): Hardswish()\n",
            "                (1): LinearNorm(\n",
            "                  (linear): Linear(in_features=256, out_features=256, bias=False)\n",
            "                  (bn): BatchNorm1d(256, eps=1e-05, momentum=0.1, affine=True, track_running_stats=True)\n",
            "                )\n",
            "              )\n",
            "            )\n",
            "            (drop_path1): Identity()\n",
            "            (mlp): LevitMlp(\n",
            "              (ln1): LinearNorm(\n",
            "                (linear): Linear(in_features=256, out_features=512, bias=False)\n",
            "                (bn): BatchNorm1d(512, eps=1e-05, momentum=0.1, affine=True, track_running_stats=True)\n",
            "              )\n",
            "              (act): Hardswish()\n",
            "              (drop): Dropout(p=0.0, inplace=False)\n",
            "              (ln2): LinearNorm(\n",
            "                (linear): Linear(in_features=512, out_features=256, bias=False)\n",
            "                (bn): BatchNorm1d(256, eps=1e-05, momentum=0.1, affine=True, track_running_stats=True)\n",
            "              )\n",
            "            )\n",
            "            (drop_path2): Identity()\n",
            "          )\n",
            "          (1): LevitBlock(\n",
            "            (attn): Attention(\n",
            "              (qkv): LinearNorm(\n",
            "                (linear): Linear(in_features=256, out_features=768, bias=False)\n",
            "                (bn): BatchNorm1d(768, eps=1e-05, momentum=0.1, affine=True, track_running_stats=True)\n",
            "              )\n",
            "              (proj): Sequential(\n",
            "                (0): Hardswish()\n",
            "                (1): LinearNorm(\n",
            "                  (linear): Linear(in_features=256, out_features=256, bias=False)\n",
            "                  (bn): BatchNorm1d(256, eps=1e-05, momentum=0.1, affine=True, track_running_stats=True)\n",
            "                )\n",
            "              )\n",
            "            )\n",
            "            (drop_path1): Identity()\n",
            "            (mlp): LevitMlp(\n",
            "              (ln1): LinearNorm(\n",
            "                (linear): Linear(in_features=256, out_features=512, bias=False)\n",
            "                (bn): BatchNorm1d(512, eps=1e-05, momentum=0.1, affine=True, track_running_stats=True)\n",
            "              )\n",
            "              (act): Hardswish()\n",
            "              (drop): Dropout(p=0.0, inplace=False)\n",
            "              (ln2): LinearNorm(\n",
            "                (linear): Linear(in_features=512, out_features=256, bias=False)\n",
            "                (bn): BatchNorm1d(256, eps=1e-05, momentum=0.1, affine=True, track_running_stats=True)\n",
            "              )\n",
            "            )\n",
            "            (drop_path2): Identity()\n",
            "          )\n",
            "          (2): LevitBlock(\n",
            "            (attn): Attention(\n",
            "              (qkv): LinearNorm(\n",
            "                (linear): Linear(in_features=256, out_features=768, bias=False)\n",
            "                (bn): BatchNorm1d(768, eps=1e-05, momentum=0.1, affine=True, track_running_stats=True)\n",
            "              )\n",
            "              (proj): Sequential(\n",
            "                (0): Hardswish()\n",
            "                (1): LinearNorm(\n",
            "                  (linear): Linear(in_features=256, out_features=256, bias=False)\n",
            "                  (bn): BatchNorm1d(256, eps=1e-05, momentum=0.1, affine=True, track_running_stats=True)\n",
            "                )\n",
            "              )\n",
            "            )\n",
            "            (drop_path1): Identity()\n",
            "            (mlp): LevitMlp(\n",
            "              (ln1): LinearNorm(\n",
            "                (linear): Linear(in_features=256, out_features=512, bias=False)\n",
            "                (bn): BatchNorm1d(512, eps=1e-05, momentum=0.1, affine=True, track_running_stats=True)\n",
            "              )\n",
            "              (act): Hardswish()\n",
            "              (drop): Dropout(p=0.0, inplace=False)\n",
            "              (ln2): LinearNorm(\n",
            "                (linear): Linear(in_features=512, out_features=256, bias=False)\n",
            "                (bn): BatchNorm1d(256, eps=1e-05, momentum=0.1, affine=True, track_running_stats=True)\n",
            "              )\n",
            "            )\n",
            "            (drop_path2): Identity()\n",
            "          )\n",
            "        )\n",
            "      )\n",
            "      (1): LevitStage(\n",
            "        (downsample): LevitDownsample(\n",
            "          (attn_downsample): AttentionDownsample(\n",
            "            (kv): LinearNorm(\n",
            "              (linear): Linear(in_features=256, out_features=3072, bias=False)\n",
            "              (bn): BatchNorm1d(3072, eps=1e-05, momentum=0.1, affine=True, track_running_stats=True)\n",
            "            )\n",
            "            (q): Sequential(\n",
            "              (0): Conv2d(256, 256, kernel_size=(2, 2), stride=(2, 2))\n",
            "              (1): Flatten(start_dim=1, end_dim=-1)\n",
            "            )\n",
            "            (proj): Sequential(\n",
            "              (0): Hardswish()\n",
            "              (1): LinearNorm(\n",
            "                (linear): Linear(in_features=256, out_features=384, bias=False)\n",
            "                (bn): BatchNorm1d(384, eps=1e-05, momentum=0.1, affine=True, track_running_stats=True)\n",
            "              )\n",
            "            )\n",
            "          )\n",
            "          (mlp): LevitMlp(\n",
            "            (ln1): LinearNorm(\n",
            "              (linear): Linear(in_features=384, out_features=768, bias=False)\n",
            "              (bn): BatchNorm1d(768, eps=1e-05, momentum=0.1, affine=True, track_running_stats=True)\n",
            "            )\n",
            "            (act): Hardswish()\n",
            "            (drop): Dropout(p=0.0, inplace=False)\n",
            "            (ln2): LinearNorm(\n",
            "              (linear): Linear(in_features=768, out_features=384, bias=False)\n",
            "              (bn): BatchNorm1d(384, eps=1e-05, momentum=0.1, affine=True, track_running_stats=True)\n",
            "            )\n",
            "          )\n",
            "          (drop_path): Identity()\n",
            "        )\n",
            "        (blocks): Sequential(\n",
            "          (0): LevitBlock(\n",
            "            (attn): Attention(\n",
            "              (qkv): LinearNorm(\n",
            "                (linear): Linear(in_features=384, out_features=1152, bias=False)\n",
            "                (bn): BatchNorm1d(1152, eps=1e-05, momentum=0.1, affine=True, track_running_stats=True)\n",
            "              )\n",
            "              (proj): Sequential(\n",
            "                (0): Hardswish()\n",
            "                (1): LinearNorm(\n",
            "                  (linear): Linear(in_features=384, out_features=384, bias=False)\n",
            "                  (bn): BatchNorm1d(384, eps=1e-05, momentum=0.1, affine=True, track_running_stats=True)\n",
            "                )\n",
            "              )\n",
            "            )\n",
            "            (drop_path1): Identity()\n",
            "            (mlp): LevitMlp(\n",
            "              (ln1): LinearNorm(\n",
            "                (linear): Linear(in_features=384, out_features=768, bias=False)\n",
            "                (bn): BatchNorm1d(768, eps=1e-05, momentum=0.1, affine=True, track_running_stats=True)\n",
            "              )\n",
            "              (act): Hardswish()\n",
            "              (drop): Dropout(p=0.0, inplace=False)\n",
            "              (ln2): LinearNorm(\n",
            "                (linear): Linear(in_features=768, out_features=384, bias=False)\n",
            "                (bn): BatchNorm1d(384, eps=1e-05, momentum=0.1, affine=True, track_running_stats=True)\n",
            "              )\n",
            "            )\n",
            "            (drop_path2): Identity()\n",
            "          )\n",
            "          (1): LevitBlock(\n",
            "            (attn): Attention(\n",
            "              (qkv): LinearNorm(\n",
            "                (linear): Linear(in_features=384, out_features=1152, bias=False)\n",
            "                (bn): BatchNorm1d(1152, eps=1e-05, momentum=0.1, affine=True, track_running_stats=True)\n",
            "              )\n",
            "              (proj): Sequential(\n",
            "                (0): Hardswish()\n",
            "                (1): LinearNorm(\n",
            "                  (linear): Linear(in_features=384, out_features=384, bias=False)\n",
            "                  (bn): BatchNorm1d(384, eps=1e-05, momentum=0.1, affine=True, track_running_stats=True)\n",
            "                )\n",
            "              )\n",
            "            )\n",
            "            (drop_path1): Identity()\n",
            "            (mlp): LevitMlp(\n",
            "              (ln1): LinearNorm(\n",
            "                (linear): Linear(in_features=384, out_features=768, bias=False)\n",
            "                (bn): BatchNorm1d(768, eps=1e-05, momentum=0.1, affine=True, track_running_stats=True)\n",
            "              )\n",
            "              (act): Hardswish()\n",
            "              (drop): Dropout(p=0.0, inplace=False)\n",
            "              (ln2): LinearNorm(\n",
            "                (linear): Linear(in_features=768, out_features=384, bias=False)\n",
            "                (bn): BatchNorm1d(384, eps=1e-05, momentum=0.1, affine=True, track_running_stats=True)\n",
            "              )\n",
            "            )\n",
            "            (drop_path2): Identity()\n",
            "          )\n",
            "          (2): LevitBlock(\n",
            "            (attn): Attention(\n",
            "              (qkv): LinearNorm(\n",
            "                (linear): Linear(in_features=384, out_features=1152, bias=False)\n",
            "                (bn): BatchNorm1d(1152, eps=1e-05, momentum=0.1, affine=True, track_running_stats=True)\n",
            "              )\n",
            "              (proj): Sequential(\n",
            "                (0): Hardswish()\n",
            "                (1): LinearNorm(\n",
            "                  (linear): Linear(in_features=384, out_features=384, bias=False)\n",
            "                  (bn): BatchNorm1d(384, eps=1e-05, momentum=0.1, affine=True, track_running_stats=True)\n",
            "                )\n",
            "              )\n",
            "            )\n",
            "            (drop_path1): Identity()\n",
            "            (mlp): LevitMlp(\n",
            "              (ln1): LinearNorm(\n",
            "                (linear): Linear(in_features=384, out_features=768, bias=False)\n",
            "                (bn): BatchNorm1d(768, eps=1e-05, momentum=0.1, affine=True, track_running_stats=True)\n",
            "              )\n",
            "              (act): Hardswish()\n",
            "              (drop): Dropout(p=0.0, inplace=False)\n",
            "              (ln2): LinearNorm(\n",
            "                (linear): Linear(in_features=768, out_features=384, bias=False)\n",
            "                (bn): BatchNorm1d(384, eps=1e-05, momentum=0.1, affine=True, track_running_stats=True)\n",
            "              )\n",
            "            )\n",
            "            (drop_path2): Identity()\n",
            "          )\n",
            "        )\n",
            "      )\n",
            "      (2): LevitStage(\n",
            "        (downsample): LevitDownsample(\n",
            "          (attn_downsample): AttentionDownsample(\n",
            "            (kv): LinearNorm(\n",
            "              (linear): Linear(in_features=384, out_features=6144, bias=False)\n",
            "              (bn): BatchNorm1d(6144, eps=1e-05, momentum=0.1, affine=True, track_running_stats=True)\n",
            "            )\n",
            "            (q): Sequential(\n",
            "              (0): Conv2d(384, 384, kernel_size=(2, 2), stride=(2, 2))\n",
            "              (1): Flatten(start_dim=1, end_dim=-1)\n",
            "            )\n",
            "            (proj): Sequential(\n",
            "              (0): Hardswish()\n",
            "              (1): LinearNorm(\n",
            "                (linear): Linear(in_features=384, out_features=512, bias=False)\n",
            "                (bn): BatchNorm1d(512, eps=1e-05, momentum=0.1, affine=True, track_running_stats=True)\n",
            "              )\n",
            "            )\n",
            "          )\n",
            "          (mlp): LevitMlp(\n",
            "            (ln1): LinearNorm(\n",
            "              (linear): Linear(in_features=512, out_features=1024, bias=False)\n",
            "              (bn): BatchNorm1d(1024, eps=1e-05, momentum=0.1, affine=True, track_running_stats=True)\n",
            "            )\n",
            "            (act): Hardswish()\n",
            "            (drop): Dropout(p=0.0, inplace=False)\n",
            "            (ln2): LinearNorm(\n",
            "              (linear): Linear(in_features=1024, out_features=512, bias=False)\n",
            "              (bn): BatchNorm1d(512, eps=1e-05, momentum=0.1, affine=True, track_running_stats=True)\n",
            "            )\n",
            "          )\n",
            "          (drop_path): Identity()\n",
            "        )\n",
            "        (blocks): Sequential(\n",
            "          (0): LevitBlock(\n",
            "            (attn): Attention(\n",
            "              (qkv): LinearNorm(\n",
            "                (linear): Linear(in_features=512, out_features=1536, bias=False)\n",
            "                (bn): BatchNorm1d(1536, eps=1e-05, momentum=0.1, affine=True, track_running_stats=True)\n",
            "              )\n",
            "              (proj): Sequential(\n",
            "                (0): Hardswish()\n",
            "                (1): LinearNorm(\n",
            "                  (linear): Linear(in_features=512, out_features=512, bias=False)\n",
            "                  (bn): BatchNorm1d(512, eps=1e-05, momentum=0.1, affine=True, track_running_stats=True)\n",
            "                )\n",
            "              )\n",
            "            )\n",
            "            (drop_path1): Identity()\n",
            "            (mlp): LevitMlp(\n",
            "              (ln1): LinearNorm(\n",
            "                (linear): Linear(in_features=512, out_features=1024, bias=False)\n",
            "                (bn): BatchNorm1d(1024, eps=1e-05, momentum=0.1, affine=True, track_running_stats=True)\n",
            "              )\n",
            "              (act): Hardswish()\n",
            "              (drop): Dropout(p=0.0, inplace=False)\n",
            "              (ln2): LinearNorm(\n",
            "                (linear): Linear(in_features=1024, out_features=512, bias=False)\n",
            "                (bn): BatchNorm1d(512, eps=1e-05, momentum=0.1, affine=True, track_running_stats=True)\n",
            "              )\n",
            "            )\n",
            "            (drop_path2): Identity()\n",
            "          )\n",
            "          (1): LevitBlock(\n",
            "            (attn): Attention(\n",
            "              (qkv): LinearNorm(\n",
            "                (linear): Linear(in_features=512, out_features=1536, bias=False)\n",
            "                (bn): BatchNorm1d(1536, eps=1e-05, momentum=0.1, affine=True, track_running_stats=True)\n",
            "              )\n",
            "              (proj): Sequential(\n",
            "                (0): Hardswish()\n",
            "                (1): LinearNorm(\n",
            "                  (linear): Linear(in_features=512, out_features=512, bias=False)\n",
            "                  (bn): BatchNorm1d(512, eps=1e-05, momentum=0.1, affine=True, track_running_stats=True)\n",
            "                )\n",
            "              )\n",
            "            )\n",
            "            (drop_path1): Identity()\n",
            "            (mlp): LevitMlp(\n",
            "              (ln1): LinearNorm(\n",
            "                (linear): Linear(in_features=512, out_features=1024, bias=False)\n",
            "                (bn): BatchNorm1d(1024, eps=1e-05, momentum=0.1, affine=True, track_running_stats=True)\n",
            "              )\n",
            "              (act): Hardswish()\n",
            "              (drop): Dropout(p=0.0, inplace=False)\n",
            "              (ln2): LinearNorm(\n",
            "                (linear): Linear(in_features=1024, out_features=512, bias=False)\n",
            "                (bn): BatchNorm1d(512, eps=1e-05, momentum=0.1, affine=True, track_running_stats=True)\n",
            "              )\n",
            "            )\n",
            "            (drop_path2): Identity()\n",
            "          )\n",
            "        )\n",
            "      )\n",
            "    )\n",
            "    (head): NormLinear(\n",
            "      (bn): BatchNorm1d(512, eps=1e-05, momentum=0.1, affine=True, track_running_stats=True)\n",
            "      (drop): Dropout(p=0.0, inplace=False)\n",
            "      (linear): Linear(in_features=512, out_features=37, bias=True)\n",
            "    )\n",
            "    (head_dist): NormLinear(\n",
            "      (bn): BatchNorm1d(512, eps=1e-05, momentum=0.1, affine=True, track_running_stats=True)\n",
            "      (drop): Dropout(p=0.0, inplace=False)\n",
            "      (linear): Linear(in_features=512, out_features=37, bias=True)\n",
            "    )\n",
            "  )\n",
            ")\n"
          ]
        }
      ],
      "source": [
        "# model = LevitDistilled()\n",
        "model = LauncherModel()\n",
        "print(model)\n",
        "\n",
        "device = torch.device(\"cuda\" if torch.cuda.is_available() else \"cpu\")\n",
        "model = model.to(device)\n",
        "\n",
        "batch_size = 32\n",
        "learning_rate = 0.001\n",
        "num_epochs = 50"
      ]
    },
    {
      "cell_type": "code",
      "execution_count": 20,
      "metadata": {
        "colab": {
          "base_uri": "https://localhost:8080/"
        },
        "id": "M7rBknzRzBP3",
        "outputId": "fec9aaf7-f01d-4603-d6b1-2c7ece4d5a12"
      },
      "outputs": [
        {
          "name": "stdout",
          "output_type": "stream",
          "text": [
            "===================================================================================================================\n",
            "Layer (type:depth-idx)                                            Output Shape              Param #\n",
            "===================================================================================================================\n",
            "CustomModel                                                       [32, 37]                  --\n",
            "├─ResNet: 1-1                                                     [32, 2048]                --\n",
            "│    └─Conv2d: 2-1                                                [32, 64, 112, 112]        (9,408)\n",
            "│    └─BatchNorm2d: 2-2                                           [32, 64, 112, 112]        (128)\n",
            "│    └─ReLU: 2-3                                                  [32, 64, 112, 112]        --\n",
            "│    └─MaxPool2d: 2-4                                             [32, 64, 56, 56]          --\n",
            "│    └─Sequential: 2-5                                            [32, 256, 56, 56]         --\n",
            "│    │    └─Bottleneck: 3-1                                       [32, 256, 56, 56]         (75,008)\n",
            "│    │    └─Bottleneck: 3-2                                       [32, 256, 56, 56]         (70,400)\n",
            "│    │    └─Bottleneck: 3-3                                       [32, 256, 56, 56]         (70,400)\n",
            "│    └─Sequential: 2-6                                            [32, 512, 28, 28]         --\n",
            "│    │    └─Bottleneck: 3-4                                       [32, 512, 28, 28]         (379,392)\n",
            "│    │    └─Bottleneck: 3-5                                       [32, 512, 28, 28]         (280,064)\n",
            "│    │    └─Bottleneck: 3-6                                       [32, 512, 28, 28]         (280,064)\n",
            "│    │    └─Bottleneck: 3-7                                       [32, 512, 28, 28]         (280,064)\n",
            "│    └─Sequential: 2-7                                            [32, 1024, 14, 14]        --\n",
            "│    │    └─Bottleneck: 3-8                                       [32, 1024, 14, 14]        (1,512,448)\n",
            "│    │    └─Bottleneck: 3-9                                       [32, 1024, 14, 14]        (1,117,184)\n",
            "│    │    └─Bottleneck: 3-10                                      [32, 1024, 14, 14]        (1,117,184)\n",
            "│    │    └─Bottleneck: 3-11                                      [32, 1024, 14, 14]        (1,117,184)\n",
            "│    │    └─Bottleneck: 3-12                                      [32, 1024, 14, 14]        (1,117,184)\n",
            "│    │    └─Bottleneck: 3-13                                      [32, 1024, 14, 14]        (1,117,184)\n",
            "│    └─Sequential: 2-8                                            [32, 2048, 7, 7]          --\n",
            "│    │    └─Bottleneck: 3-14                                      [32, 2048, 7, 7]          (6,039,552)\n",
            "│    │    └─Bottleneck: 3-15                                      [32, 2048, 7, 7]          (4,462,592)\n",
            "│    │    └─Bottleneck: 3-16                                      [32, 2048, 7, 7]          (4,462,592)\n",
            "│    └─SelectAdaptivePool2d: 2-9                                  [32, 2048]                --\n",
            "│    │    └─AdaptiveAvgPool2d: 3-17                               [32, 2048, 1, 1]          --\n",
            "│    │    └─Flatten: 3-18                                         [32, 2048]                --\n",
            "│    └─Identity: 2-10                                             [32, 2048]                --\n",
            "├─Linear: 1-2                                                     [32, 9408]                19,276,992\n",
            "├─ConvTranspose2d: 1-3                                            [32, 3, 224, 224]         147\n",
            "├─LevitDistilled: 1-4                                             [32, 37]                  --\n",
            "│    └─Stem16: 2-11                                               [32, 256, 14, 14]         --\n",
            "│    │    └─ConvNorm: 3-19                                        [32, 32, 112, 112]        928\n",
            "│    │    └─Hardswish: 3-20                                       [32, 32, 112, 112]        --\n",
            "│    │    └─ConvNorm: 3-21                                        [32, 64, 56, 56]          18,560\n",
            "│    │    └─Hardswish: 3-22                                       [32, 64, 56, 56]          --\n",
            "│    │    └─ConvNorm: 3-23                                        [32, 128, 28, 28]         73,984\n",
            "│    │    └─Hardswish: 3-24                                       [32, 128, 28, 28]         --\n",
            "│    │    └─ConvNorm: 3-25                                        [32, 256, 14, 14]         295,424\n",
            "│    └─Sequential: 2-12                                           [32, 9, 512]              --\n",
            "│    │    └─LevitStage: 3-26                                      [32, 196, 256]            1,583,616\n",
            "│    │    └─LevitStage: 3-27                                      [32, 49, 384]             5,301,248\n",
            "│    │    └─LevitStage: 3-28                                      [32, 9, 512]              8,419,712\n",
            "│    └─NormLinear: 2-13                                           [32, 37]                  --\n",
            "│    │    └─BatchNorm1d: 3-29                                     [32, 512]                 1,024\n",
            "│    │    └─Dropout: 3-30                                         [32, 512]                 --\n",
            "│    │    └─Linear: 3-31                                          [32, 37]                  18,981\n",
            "│    └─NormLinear: 2-14                                           [32, 37]                  --\n",
            "│    │    └─BatchNorm1d: 3-32                                     [32, 512]                 1,024\n",
            "│    │    └─Dropout: 3-33                                         [32, 512]                 --\n",
            "│    │    └─Linear: 3-34                                          [32, 37]                  18,981\n",
            "===================================================================================================================\n",
            "Total params: 58,518,653\n",
            "Trainable params: 35,010,621\n",
            "Non-trainable params: 23,508,032\n",
            "Total mult-adds (G): 164.97\n",
            "===================================================================================================================\n",
            "Input size (MB): 19.27\n",
            "Forward/backward pass size (MB): 7406.26\n",
            "Params size (MB): 234.07\n",
            "Estimated Total Size (MB): 7659.60\n",
            "===================================================================================================================\n"
          ]
        }
      ],
      "source": [
        "print(summary(model, input_size=(32, 3, 224, 224)))"
      ]
    },
    {
      "cell_type": "code",
      "execution_count": 21,
      "metadata": {
        "id": "TOaIwHDSzBP3"
      },
      "outputs": [],
      "source": [
        "transform = transforms.Compose([\n",
        "    transforms.Resize((224, 224)),\n",
        "    transforms.ToTensor(),\n",
        "    transforms.Normalize(mean=[0.485, 0.456, 0.406], std=[0.229, 0.224, 0.225]),\n",
        "])"
      ]
    },
    {
      "cell_type": "code",
      "execution_count": 22,
      "metadata": {
        "id": "N0Ww6weVzBP4"
      },
      "outputs": [],
      "source": [
        "trainval_data = datasets.OxfordIIITPet(root=\"data\", split=\"trainval\", target_types=\"category\", download=True, transform=transform)\n",
        "test_data = datasets.OxfordIIITPet(root=\"data\", split=\"test\", target_types=\"category\", download=True, transform=transform)\n",
        "combined_data = ConcatDataset([trainval_data, test_data])\n",
        "\n",
        "train_size = int(0.7 * len(combined_data))\n",
        "val_size = int(0.15 * len(combined_data))\n",
        "test_size = len(combined_data) - train_size - val_size\n",
        "train_data, val_data, test_data = random_split(combined_data, [train_size, val_size, test_size])"
      ]
    },
    {
      "cell_type": "code",
      "execution_count": 23,
      "metadata": {
        "colab": {
          "base_uri": "https://localhost:8080/"
        },
        "id": "S4sK4r0FzBP4",
        "outputId": "7b354020-8434-4b04-89da-5c15eb2655da"
      },
      "outputs": [
        {
          "name": "stdout",
          "output_type": "stream",
          "text": [
            "Train set size: 5144\n",
            "Validation set size: 1102\n",
            "Test set size: 1103\n"
          ]
        }
      ],
      "source": [
        "train_loader = DataLoader(train_data, batch_size=batch_size, shuffle=True)\n",
        "val_loader = DataLoader(val_data, batch_size=batch_size, shuffle=False)\n",
        "test_loader = DataLoader(test_data, batch_size=batch_size, shuffle=False)\n",
        "\n",
        "print(f\"Train set size: {len(train_data)}\")\n",
        "print(f\"Validation set size: {len(val_data)}\")\n",
        "print(f\"Test set size: {len(test_data)}\")"
      ]
    },
    {
      "cell_type": "code",
      "execution_count": 24,
      "metadata": {
        "id": "HCIgSLtBzBP4"
      },
      "outputs": [],
      "source": [
        "criterion = nn.CrossEntropyLoss()\n",
        "optimizer = optim.Adam(model.parameters(), lr=learning_rate)"
      ]
    },
    {
      "cell_type": "code",
      "execution_count": 25,
      "metadata": {
        "id": "qCcVDgIPzBP4"
      },
      "outputs": [],
      "source": [
        "def train(model, train_loader, criterion, optimizer, device):\n",
        "    model.train()\n",
        "    running_loss = 0.0\n",
        "    correct = 0\n",
        "    total = 0\n",
        "    for inputs, labels in tqdm(train_loader, desc=\"Training\"):\n",
        "        inputs, labels = inputs.to(device), labels.to(device)\n",
        "\n",
        "        optimizer.zero_grad()\n",
        "        outputs = model(inputs)\n",
        "        loss = criterion(outputs, labels)\n",
        "        loss.backward()\n",
        "        optimizer.step()\n",
        "\n",
        "        running_loss += loss.item()\n",
        "        _, predicted = torch.max(outputs, 1)\n",
        "        total += labels.size(0)\n",
        "        correct += (predicted == labels).sum().item()\n",
        "\n",
        "    epoch_loss = running_loss / len(train_loader)\n",
        "    accuracy = 100 * correct / total\n",
        "    print(f\"Train Loss: {epoch_loss:.4f}, Train Accuracy: {accuracy:.2f}%\")"
      ]
    },
    {
      "cell_type": "code",
      "execution_count": 26,
      "metadata": {
        "id": "pzZwWmVFzBP5"
      },
      "outputs": [],
      "source": [
        "def evaluate(model, data_loader, criterion, device, phase=\"Validation\"):\n",
        "    model.eval()\n",
        "    running_loss = 0.0\n",
        "    correct = 0\n",
        "    total = 0\n",
        "    with torch.no_grad():\n",
        "        for inputs, labels in tqdm(data_loader, desc=f\"{phase}\"):\n",
        "            inputs, labels = inputs.to(device), labels.to(device)\n",
        "            outputs = model(inputs)\n",
        "            loss = criterion(outputs, labels)\n",
        "\n",
        "            running_loss += loss.item()\n",
        "            _, predicted = torch.max(outputs, 1)\n",
        "            total += labels.size(0)\n",
        "            correct += (predicted == labels).sum().item()\n",
        "\n",
        "    epoch_loss = running_loss / len(data_loader)\n",
        "    accuracy = 100 * correct / total\n",
        "    print(f\"{phase} Loss: {epoch_loss:.4f}, {phase} Accuracy: {accuracy:.2f}%\")"
      ]
    },
    {
      "cell_type": "code",
      "execution_count": 27,
      "metadata": {
        "id": "ATaK9u_JDWLD"
      },
      "outputs": [],
      "source": [
        "def measure_inference_time(model, data_loader, device):\n",
        "    model.eval()\n",
        "    times = []\n",
        "\n",
        "    with torch.no_grad():\n",
        "        for inputs, _ in data_loader:\n",
        "            inputs = inputs.to(device)\n",
        "            start_time = torch.cuda.Event(enable_timing=True)\n",
        "            end_time = torch.cuda.Event(enable_timing=True)\n",
        "\n",
        "            start_time.record()\n",
        "            _ = model(inputs)  # inference 수행\n",
        "            end_time.record()\n",
        "\n",
        "            # 시간 측정\n",
        "            torch.cuda.synchronize()  # CUDA에서 모든 커널이 완료될 때까지 대기\n",
        "            elapsed_time = start_time.elapsed_time(end_time)  # 밀리초 단위로 반환\n",
        "            times.append(elapsed_time)\n",
        "\n",
        "    # 통계량 계산\n",
        "    times_np = np.array(times)\n",
        "    total_inferences = len(times_np)\n",
        "    avg_time = np.mean(times_np)\n",
        "    std_dev = np.std(times_np)\n",
        "    max_time = np.max(times_np)\n",
        "    min_time = np.min(times_np)\n",
        "\n",
        "    # 결과 출력\n",
        "    print(f\"Inference Time Measurement Results:\")\n",
        "    print(f\"Total Inferences: {total_inferences}\")\n",
        "    print(f\"Average Time: {avg_time:.2f} ms\")\n",
        "    print(f\"Standard Deviation: {std_dev:.2f} ms\")\n",
        "    print(f\"Maximum Time: {max_time:.2f} ms\")\n",
        "    print(f\"Minimum Time: {min_time:.2f} ms\")\n",
        "\n",
        "    return times"
      ]
    },
    {
      "cell_type": "code",
      "execution_count": 28,
      "metadata": {
        "colab": {
          "base_uri": "https://localhost:8080/"
        },
        "id": "YdGy_hjpzBP5",
        "outputId": "42cc442d-f157-40d2-87f5-e893f9213427"
      },
      "outputs": [
        {
          "name": "stdout",
          "output_type": "stream",
          "text": [
            "\n",
            "Epoch 1/50\n"
          ]
        },
        {
          "name": "stderr",
          "output_type": "stream",
          "text": [
            "Training: 100%|██████████| 161/161 [00:33<00:00,  4.83it/s]\n"
          ]
        },
        {
          "name": "stdout",
          "output_type": "stream",
          "text": [
            "Train Loss: 3.7470, Train Accuracy: 2.64%\n"
          ]
        },
        {
          "name": "stderr",
          "output_type": "stream",
          "text": [
            "Validation: 100%|██████████| 35/35 [00:06<00:00,  5.75it/s]\n"
          ]
        },
        {
          "name": "stdout",
          "output_type": "stream",
          "text": [
            "Validation Loss: 3.6573, Validation Accuracy: 2.90%\n",
            "\n",
            "Epoch 2/50\n"
          ]
        },
        {
          "name": "stderr",
          "output_type": "stream",
          "text": [
            "Training: 100%|██████████| 161/161 [00:32<00:00,  4.96it/s]\n"
          ]
        },
        {
          "name": "stdout",
          "output_type": "stream",
          "text": [
            "Train Loss: 3.7047, Train Accuracy: 3.95%\n"
          ]
        },
        {
          "name": "stderr",
          "output_type": "stream",
          "text": [
            "Validation: 100%|██████████| 35/35 [00:06<00:00,  5.77it/s]\n"
          ]
        },
        {
          "name": "stdout",
          "output_type": "stream",
          "text": [
            "Validation Loss: 3.7611, Validation Accuracy: 3.36%\n",
            "\n",
            "Epoch 3/50\n"
          ]
        },
        {
          "name": "stderr",
          "output_type": "stream",
          "text": [
            "Training: 100%|██████████| 161/161 [00:31<00:00,  5.04it/s]\n"
          ]
        },
        {
          "name": "stdout",
          "output_type": "stream",
          "text": [
            "Train Loss: 3.5227, Train Accuracy: 5.46%\n"
          ]
        },
        {
          "name": "stderr",
          "output_type": "stream",
          "text": [
            "Validation: 100%|██████████| 35/35 [00:06<00:00,  5.76it/s]\n"
          ]
        },
        {
          "name": "stdout",
          "output_type": "stream",
          "text": [
            "Validation Loss: 3.5425, Validation Accuracy: 6.44%\n",
            "\n",
            "Epoch 4/50\n"
          ]
        },
        {
          "name": "stderr",
          "output_type": "stream",
          "text": [
            "Training: 100%|██████████| 161/161 [00:32<00:00,  4.99it/s]\n"
          ]
        },
        {
          "name": "stdout",
          "output_type": "stream",
          "text": [
            "Train Loss: 3.1234, Train Accuracy: 8.81%\n"
          ]
        },
        {
          "name": "stderr",
          "output_type": "stream",
          "text": [
            "Validation: 100%|██████████| 35/35 [00:06<00:00,  5.72it/s]\n"
          ]
        },
        {
          "name": "stdout",
          "output_type": "stream",
          "text": [
            "Validation Loss: 2.9361, Validation Accuracy: 10.34%\n",
            "\n",
            "Epoch 5/50\n"
          ]
        },
        {
          "name": "stderr",
          "output_type": "stream",
          "text": [
            "Training: 100%|██████████| 161/161 [00:32<00:00,  4.99it/s]\n"
          ]
        },
        {
          "name": "stdout",
          "output_type": "stream",
          "text": [
            "Train Loss: 2.8791, Train Accuracy: 10.83%\n"
          ]
        },
        {
          "name": "stderr",
          "output_type": "stream",
          "text": [
            "Validation: 100%|██████████| 35/35 [00:06<00:00,  5.72it/s]\n"
          ]
        },
        {
          "name": "stdout",
          "output_type": "stream",
          "text": [
            "Validation Loss: 2.9142, Validation Accuracy: 10.53%\n",
            "\n",
            "Epoch 6/50\n"
          ]
        },
        {
          "name": "stderr",
          "output_type": "stream",
          "text": [
            "Training: 100%|██████████| 161/161 [00:32<00:00,  5.00it/s]\n"
          ]
        },
        {
          "name": "stdout",
          "output_type": "stream",
          "text": [
            "Train Loss: 2.7773, Train Accuracy: 12.67%\n"
          ]
        },
        {
          "name": "stderr",
          "output_type": "stream",
          "text": [
            "Validation: 100%|██████████| 35/35 [00:06<00:00,  5.75it/s]\n"
          ]
        },
        {
          "name": "stdout",
          "output_type": "stream",
          "text": [
            "Validation Loss: 2.8446, Validation Accuracy: 12.52%\n",
            "\n",
            "Epoch 7/50\n"
          ]
        },
        {
          "name": "stderr",
          "output_type": "stream",
          "text": [
            "Training: 100%|██████████| 161/161 [00:32<00:00,  5.00it/s]\n"
          ]
        },
        {
          "name": "stdout",
          "output_type": "stream",
          "text": [
            "Train Loss: 2.4344, Train Accuracy: 19.77%\n"
          ]
        },
        {
          "name": "stderr",
          "output_type": "stream",
          "text": [
            "Validation: 100%|██████████| 35/35 [00:06<00:00,  5.78it/s]\n"
          ]
        },
        {
          "name": "stdout",
          "output_type": "stream",
          "text": [
            "Validation Loss: 2.3160, Validation Accuracy: 19.96%\n",
            "\n",
            "Epoch 8/50\n"
          ]
        },
        {
          "name": "stderr",
          "output_type": "stream",
          "text": [
            "Training: 100%|██████████| 161/161 [00:32<00:00,  4.99it/s]\n"
          ]
        },
        {
          "name": "stdout",
          "output_type": "stream",
          "text": [
            "Train Loss: 2.0423, Train Accuracy: 28.99%\n"
          ]
        },
        {
          "name": "stderr",
          "output_type": "stream",
          "text": [
            "Validation: 100%|██████████| 35/35 [00:05<00:00,  5.90it/s]\n"
          ]
        },
        {
          "name": "stdout",
          "output_type": "stream",
          "text": [
            "Validation Loss: 2.0981, Validation Accuracy: 26.04%\n",
            "\n",
            "Epoch 9/50\n"
          ]
        },
        {
          "name": "stderr",
          "output_type": "stream",
          "text": [
            "Training: 100%|██████████| 161/161 [00:32<00:00,  4.97it/s]\n"
          ]
        },
        {
          "name": "stdout",
          "output_type": "stream",
          "text": [
            "Train Loss: 1.8385, Train Accuracy: 34.25%\n"
          ]
        },
        {
          "name": "stderr",
          "output_type": "stream",
          "text": [
            "Validation: 100%|██████████| 35/35 [00:06<00:00,  5.81it/s]\n"
          ]
        },
        {
          "name": "stdout",
          "output_type": "stream",
          "text": [
            "Validation Loss: 1.5901, Validation Accuracy: 43.92%\n",
            "\n",
            "Epoch 10/50\n"
          ]
        },
        {
          "name": "stderr",
          "output_type": "stream",
          "text": [
            "Training: 100%|██████████| 161/161 [00:32<00:00,  5.00it/s]\n"
          ]
        },
        {
          "name": "stdout",
          "output_type": "stream",
          "text": [
            "Train Loss: 1.5547, Train Accuracy: 44.87%\n"
          ]
        },
        {
          "name": "stderr",
          "output_type": "stream",
          "text": [
            "Validation: 100%|██████████| 35/35 [00:06<00:00,  5.79it/s]\n"
          ]
        },
        {
          "name": "stdout",
          "output_type": "stream",
          "text": [
            "Validation Loss: 1.7076, Validation Accuracy: 42.47%\n",
            "\n",
            "Epoch 11/50\n"
          ]
        },
        {
          "name": "stderr",
          "output_type": "stream",
          "text": [
            "Training: 100%|██████████| 161/161 [00:32<00:00,  4.98it/s]\n"
          ]
        },
        {
          "name": "stdout",
          "output_type": "stream",
          "text": [
            "Train Loss: 1.4134, Train Accuracy: 49.34%\n"
          ]
        },
        {
          "name": "stderr",
          "output_type": "stream",
          "text": [
            "Validation: 100%|██████████| 35/35 [00:06<00:00,  5.81it/s]\n"
          ]
        },
        {
          "name": "stdout",
          "output_type": "stream",
          "text": [
            "Validation Loss: 1.4317, Validation Accuracy: 50.73%\n",
            "\n",
            "Epoch 12/50\n"
          ]
        },
        {
          "name": "stderr",
          "output_type": "stream",
          "text": [
            "Training: 100%|██████████| 161/161 [00:32<00:00,  5.01it/s]\n"
          ]
        },
        {
          "name": "stdout",
          "output_type": "stream",
          "text": [
            "Train Loss: 1.2081, Train Accuracy: 58.28%\n"
          ]
        },
        {
          "name": "stderr",
          "output_type": "stream",
          "text": [
            "Validation: 100%|██████████| 35/35 [00:05<00:00,  5.91it/s]\n"
          ]
        },
        {
          "name": "stdout",
          "output_type": "stream",
          "text": [
            "Validation Loss: 1.0423, Validation Accuracy: 64.43%\n",
            "\n",
            "Epoch 13/50\n"
          ]
        },
        {
          "name": "stderr",
          "output_type": "stream",
          "text": [
            "Training: 100%|██████████| 161/161 [00:32<00:00,  5.00it/s]\n"
          ]
        },
        {
          "name": "stdout",
          "output_type": "stream",
          "text": [
            "Train Loss: 1.0652, Train Accuracy: 63.02%\n"
          ]
        },
        {
          "name": "stderr",
          "output_type": "stream",
          "text": [
            "Validation: 100%|██████████| 35/35 [00:06<00:00,  5.81it/s]\n"
          ]
        },
        {
          "name": "stdout",
          "output_type": "stream",
          "text": [
            "Validation Loss: 0.8989, Validation Accuracy: 72.78%\n",
            "\n",
            "Epoch 14/50\n"
          ]
        },
        {
          "name": "stderr",
          "output_type": "stream",
          "text": [
            "Training: 100%|██████████| 161/161 [00:32<00:00,  4.99it/s]\n"
          ]
        },
        {
          "name": "stdout",
          "output_type": "stream",
          "text": [
            "Train Loss: 0.9427, Train Accuracy: 67.55%\n"
          ]
        },
        {
          "name": "stderr",
          "output_type": "stream",
          "text": [
            "Validation: 100%|██████████| 35/35 [00:06<00:00,  5.83it/s]\n"
          ]
        },
        {
          "name": "stdout",
          "output_type": "stream",
          "text": [
            "Validation Loss: 0.8184, Validation Accuracy: 73.87%\n",
            "\n",
            "Epoch 15/50\n"
          ]
        },
        {
          "name": "stderr",
          "output_type": "stream",
          "text": [
            "Training: 100%|██████████| 161/161 [00:32<00:00,  4.98it/s]\n"
          ]
        },
        {
          "name": "stdout",
          "output_type": "stream",
          "text": [
            "Train Loss: 0.8357, Train Accuracy: 71.62%\n"
          ]
        },
        {
          "name": "stderr",
          "output_type": "stream",
          "text": [
            "Validation: 100%|██████████| 35/35 [00:06<00:00,  5.75it/s]\n"
          ]
        },
        {
          "name": "stdout",
          "output_type": "stream",
          "text": [
            "Validation Loss: 1.1135, Validation Accuracy: 66.42%\n",
            "\n",
            "Epoch 16/50\n"
          ]
        },
        {
          "name": "stderr",
          "output_type": "stream",
          "text": [
            "Training: 100%|██████████| 161/161 [00:32<00:00,  4.99it/s]\n"
          ]
        },
        {
          "name": "stdout",
          "output_type": "stream",
          "text": [
            "Train Loss: 0.7543, Train Accuracy: 74.38%\n"
          ]
        },
        {
          "name": "stderr",
          "output_type": "stream",
          "text": [
            "Validation: 100%|██████████| 35/35 [00:06<00:00,  5.66it/s]\n"
          ]
        },
        {
          "name": "stdout",
          "output_type": "stream",
          "text": [
            "Validation Loss: 0.7788, Validation Accuracy: 75.32%\n",
            "\n",
            "Epoch 17/50\n"
          ]
        },
        {
          "name": "stderr",
          "output_type": "stream",
          "text": [
            "Training: 100%|██████████| 161/161 [00:32<00:00,  5.01it/s]\n"
          ]
        },
        {
          "name": "stdout",
          "output_type": "stream",
          "text": [
            "Train Loss: 0.6610, Train Accuracy: 77.08%\n"
          ]
        },
        {
          "name": "stderr",
          "output_type": "stream",
          "text": [
            "Validation: 100%|██████████| 35/35 [00:06<00:00,  5.83it/s]\n"
          ]
        },
        {
          "name": "stdout",
          "output_type": "stream",
          "text": [
            "Validation Loss: 0.7748, Validation Accuracy: 76.41%\n",
            "\n",
            "Epoch 18/50\n"
          ]
        },
        {
          "name": "stderr",
          "output_type": "stream",
          "text": [
            "Training: 100%|██████████| 161/161 [00:32<00:00,  5.01it/s]\n"
          ]
        },
        {
          "name": "stdout",
          "output_type": "stream",
          "text": [
            "Train Loss: 0.6058, Train Accuracy: 79.78%\n"
          ]
        },
        {
          "name": "stderr",
          "output_type": "stream",
          "text": [
            "Validation: 100%|██████████| 35/35 [00:06<00:00,  5.74it/s]\n"
          ]
        },
        {
          "name": "stdout",
          "output_type": "stream",
          "text": [
            "Validation Loss: 0.7932, Validation Accuracy: 74.50%\n",
            "\n",
            "Epoch 19/50\n"
          ]
        },
        {
          "name": "stderr",
          "output_type": "stream",
          "text": [
            "Training: 100%|██████████| 161/161 [00:32<00:00,  4.98it/s]\n"
          ]
        },
        {
          "name": "stdout",
          "output_type": "stream",
          "text": [
            "Train Loss: 0.5562, Train Accuracy: 80.62%\n"
          ]
        },
        {
          "name": "stderr",
          "output_type": "stream",
          "text": [
            "Validation: 100%|██████████| 35/35 [00:06<00:00,  5.71it/s]\n"
          ]
        },
        {
          "name": "stdout",
          "output_type": "stream",
          "text": [
            "Validation Loss: 0.7542, Validation Accuracy: 77.04%\n",
            "\n",
            "Epoch 20/50\n"
          ]
        },
        {
          "name": "stderr",
          "output_type": "stream",
          "text": [
            "Training: 100%|██████████| 161/161 [00:32<00:00,  4.97it/s]\n"
          ]
        },
        {
          "name": "stdout",
          "output_type": "stream",
          "text": [
            "Train Loss: 0.5264, Train Accuracy: 82.64%\n"
          ]
        },
        {
          "name": "stderr",
          "output_type": "stream",
          "text": [
            "Validation: 100%|██████████| 35/35 [00:06<00:00,  5.82it/s]\n"
          ]
        },
        {
          "name": "stdout",
          "output_type": "stream",
          "text": [
            "Validation Loss: 0.6697, Validation Accuracy: 79.13%\n",
            "\n",
            "Epoch 21/50\n"
          ]
        },
        {
          "name": "stderr",
          "output_type": "stream",
          "text": [
            "Training: 100%|██████████| 161/161 [00:32<00:00,  4.94it/s]\n"
          ]
        },
        {
          "name": "stdout",
          "output_type": "stream",
          "text": [
            "Train Loss: 0.5153, Train Accuracy: 83.01%\n"
          ]
        },
        {
          "name": "stderr",
          "output_type": "stream",
          "text": [
            "Validation: 100%|██████████| 35/35 [00:05<00:00,  5.87it/s]\n"
          ]
        },
        {
          "name": "stdout",
          "output_type": "stream",
          "text": [
            "Validation Loss: 0.6140, Validation Accuracy: 81.03%\n",
            "\n",
            "Epoch 22/50\n"
          ]
        },
        {
          "name": "stderr",
          "output_type": "stream",
          "text": [
            "Training: 100%|██████████| 161/161 [00:32<00:00,  4.97it/s]\n"
          ]
        },
        {
          "name": "stdout",
          "output_type": "stream",
          "text": [
            "Train Loss: 0.4934, Train Accuracy: 83.44%\n"
          ]
        },
        {
          "name": "stderr",
          "output_type": "stream",
          "text": [
            "Validation: 100%|██████████| 35/35 [00:06<00:00,  5.75it/s]\n"
          ]
        },
        {
          "name": "stdout",
          "output_type": "stream",
          "text": [
            "Validation Loss: 0.7463, Validation Accuracy: 77.59%\n",
            "\n",
            "Epoch 23/50\n"
          ]
        },
        {
          "name": "stderr",
          "output_type": "stream",
          "text": [
            "Training: 100%|██████████| 161/161 [00:32<00:00,  4.96it/s]\n"
          ]
        },
        {
          "name": "stdout",
          "output_type": "stream",
          "text": [
            "Train Loss: 0.4397, Train Accuracy: 85.28%\n"
          ]
        },
        {
          "name": "stderr",
          "output_type": "stream",
          "text": [
            "Validation: 100%|██████████| 35/35 [00:06<00:00,  5.77it/s]\n"
          ]
        },
        {
          "name": "stdout",
          "output_type": "stream",
          "text": [
            "Validation Loss: 0.7243, Validation Accuracy: 79.58%\n",
            "\n",
            "Epoch 24/50\n"
          ]
        },
        {
          "name": "stderr",
          "output_type": "stream",
          "text": [
            "Training: 100%|██████████| 161/161 [00:32<00:00,  4.99it/s]\n"
          ]
        },
        {
          "name": "stdout",
          "output_type": "stream",
          "text": [
            "Train Loss: 0.4239, Train Accuracy: 85.71%\n"
          ]
        },
        {
          "name": "stderr",
          "output_type": "stream",
          "text": [
            "Validation: 100%|██████████| 35/35 [00:05<00:00,  5.88it/s]\n"
          ]
        },
        {
          "name": "stdout",
          "output_type": "stream",
          "text": [
            "Validation Loss: 0.7556, Validation Accuracy: 79.58%\n",
            "\n",
            "Epoch 25/50\n"
          ]
        },
        {
          "name": "stderr",
          "output_type": "stream",
          "text": [
            "Training: 100%|██████████| 161/161 [00:32<00:00,  4.95it/s]\n"
          ]
        },
        {
          "name": "stdout",
          "output_type": "stream",
          "text": [
            "Train Loss: 0.3827, Train Accuracy: 87.01%\n"
          ]
        },
        {
          "name": "stderr",
          "output_type": "stream",
          "text": [
            "Validation: 100%|██████████| 35/35 [00:06<00:00,  5.78it/s]\n"
          ]
        },
        {
          "name": "stdout",
          "output_type": "stream",
          "text": [
            "Validation Loss: 0.7262, Validation Accuracy: 78.86%\n",
            "\n",
            "Epoch 26/50\n"
          ]
        },
        {
          "name": "stderr",
          "output_type": "stream",
          "text": [
            "Training: 100%|██████████| 161/161 [00:32<00:00,  4.97it/s]\n"
          ]
        },
        {
          "name": "stdout",
          "output_type": "stream",
          "text": [
            "Train Loss: 0.3806, Train Accuracy: 87.09%\n"
          ]
        },
        {
          "name": "stderr",
          "output_type": "stream",
          "text": [
            "Validation: 100%|██████████| 35/35 [00:05<00:00,  5.89it/s]\n"
          ]
        },
        {
          "name": "stdout",
          "output_type": "stream",
          "text": [
            "Validation Loss: 0.7753, Validation Accuracy: 79.67%\n",
            "\n",
            "Epoch 27/50\n"
          ]
        },
        {
          "name": "stderr",
          "output_type": "stream",
          "text": [
            "Training: 100%|██████████| 161/161 [00:32<00:00,  4.99it/s]\n"
          ]
        },
        {
          "name": "stdout",
          "output_type": "stream",
          "text": [
            "Train Loss: 0.3420, Train Accuracy: 88.88%\n"
          ]
        },
        {
          "name": "stderr",
          "output_type": "stream",
          "text": [
            "Validation: 100%|██████████| 35/35 [00:05<00:00,  5.94it/s]\n"
          ]
        },
        {
          "name": "stdout",
          "output_type": "stream",
          "text": [
            "Validation Loss: 0.7599, Validation Accuracy: 79.49%\n",
            "\n",
            "Epoch 28/50\n"
          ]
        },
        {
          "name": "stderr",
          "output_type": "stream",
          "text": [
            "Training: 100%|██████████| 161/161 [00:32<00:00,  4.96it/s]\n"
          ]
        },
        {
          "name": "stdout",
          "output_type": "stream",
          "text": [
            "Train Loss: 0.3406, Train Accuracy: 89.02%\n"
          ]
        },
        {
          "name": "stderr",
          "output_type": "stream",
          "text": [
            "Validation: 100%|██████████| 35/35 [00:05<00:00,  5.89it/s]\n"
          ]
        },
        {
          "name": "stdout",
          "output_type": "stream",
          "text": [
            "Validation Loss: 0.7532, Validation Accuracy: 80.13%\n",
            "\n",
            "Epoch 29/50\n"
          ]
        },
        {
          "name": "stderr",
          "output_type": "stream",
          "text": [
            "Training: 100%|██████████| 161/161 [00:32<00:00,  4.98it/s]\n"
          ]
        },
        {
          "name": "stdout",
          "output_type": "stream",
          "text": [
            "Train Loss: 0.3086, Train Accuracy: 90.30%\n"
          ]
        },
        {
          "name": "stderr",
          "output_type": "stream",
          "text": [
            "Validation: 100%|██████████| 35/35 [00:05<00:00,  5.86it/s]\n"
          ]
        },
        {
          "name": "stdout",
          "output_type": "stream",
          "text": [
            "Validation Loss: 0.8791, Validation Accuracy: 77.68%\n",
            "\n",
            "Epoch 30/50\n"
          ]
        },
        {
          "name": "stderr",
          "output_type": "stream",
          "text": [
            "Training: 100%|██████████| 161/161 [00:32<00:00,  4.95it/s]\n"
          ]
        },
        {
          "name": "stdout",
          "output_type": "stream",
          "text": [
            "Train Loss: 0.3235, Train Accuracy: 89.00%\n"
          ]
        },
        {
          "name": "stderr",
          "output_type": "stream",
          "text": [
            "Validation: 100%|██████████| 35/35 [00:05<00:00,  5.86it/s]\n"
          ]
        },
        {
          "name": "stdout",
          "output_type": "stream",
          "text": [
            "Validation Loss: 0.6628, Validation Accuracy: 82.30%\n",
            "\n",
            "Epoch 31/50\n"
          ]
        },
        {
          "name": "stderr",
          "output_type": "stream",
          "text": [
            "Training: 100%|██████████| 161/161 [00:32<00:00,  4.98it/s]\n"
          ]
        },
        {
          "name": "stdout",
          "output_type": "stream",
          "text": [
            "Train Loss: 0.2681, Train Accuracy: 90.88%\n"
          ]
        },
        {
          "name": "stderr",
          "output_type": "stream",
          "text": [
            "Validation: 100%|██████████| 35/35 [00:06<00:00,  5.80it/s]\n"
          ]
        },
        {
          "name": "stdout",
          "output_type": "stream",
          "text": [
            "Validation Loss: 0.7144, Validation Accuracy: 80.94%\n",
            "\n",
            "Epoch 32/50\n"
          ]
        },
        {
          "name": "stderr",
          "output_type": "stream",
          "text": [
            "Training: 100%|██████████| 161/161 [00:32<00:00,  4.98it/s]\n"
          ]
        },
        {
          "name": "stdout",
          "output_type": "stream",
          "text": [
            "Train Loss: 0.2827, Train Accuracy: 90.69%\n"
          ]
        },
        {
          "name": "stderr",
          "output_type": "stream",
          "text": [
            "Validation: 100%|██████████| 35/35 [00:06<00:00,  5.80it/s]\n"
          ]
        },
        {
          "name": "stdout",
          "output_type": "stream",
          "text": [
            "Validation Loss: 0.7496, Validation Accuracy: 81.85%\n",
            "\n",
            "Epoch 33/50\n"
          ]
        },
        {
          "name": "stderr",
          "output_type": "stream",
          "text": [
            "Training: 100%|██████████| 161/161 [00:32<00:00,  4.94it/s]\n"
          ]
        },
        {
          "name": "stdout",
          "output_type": "stream",
          "text": [
            "Train Loss: 0.2767, Train Accuracy: 90.82%\n"
          ]
        },
        {
          "name": "stderr",
          "output_type": "stream",
          "text": [
            "Validation: 100%|██████████| 35/35 [00:05<00:00,  5.87it/s]\n"
          ]
        },
        {
          "name": "stdout",
          "output_type": "stream",
          "text": [
            "Validation Loss: 0.5856, Validation Accuracy: 82.76%\n",
            "\n",
            "Epoch 34/50\n"
          ]
        },
        {
          "name": "stderr",
          "output_type": "stream",
          "text": [
            "Training: 100%|██████████| 161/161 [00:32<00:00,  4.98it/s]\n"
          ]
        },
        {
          "name": "stdout",
          "output_type": "stream",
          "text": [
            "Train Loss: 0.2211, Train Accuracy: 92.69%\n"
          ]
        },
        {
          "name": "stderr",
          "output_type": "stream",
          "text": [
            "Validation: 100%|██████████| 35/35 [00:06<00:00,  5.67it/s]\n"
          ]
        },
        {
          "name": "stdout",
          "output_type": "stream",
          "text": [
            "Validation Loss: 0.7595, Validation Accuracy: 81.31%\n",
            "\n",
            "Epoch 35/50\n"
          ]
        },
        {
          "name": "stderr",
          "output_type": "stream",
          "text": [
            "Training: 100%|██████████| 161/161 [00:32<00:00,  4.98it/s]\n"
          ]
        },
        {
          "name": "stdout",
          "output_type": "stream",
          "text": [
            "Train Loss: 0.2575, Train Accuracy: 91.78%\n"
          ]
        },
        {
          "name": "stderr",
          "output_type": "stream",
          "text": [
            "Validation: 100%|██████████| 35/35 [00:06<00:00,  5.74it/s]\n"
          ]
        },
        {
          "name": "stdout",
          "output_type": "stream",
          "text": [
            "Validation Loss: 0.8493, Validation Accuracy: 80.49%\n",
            "\n",
            "Epoch 36/50\n"
          ]
        },
        {
          "name": "stderr",
          "output_type": "stream",
          "text": [
            "Training: 100%|██████████| 161/161 [00:32<00:00,  4.96it/s]\n"
          ]
        },
        {
          "name": "stdout",
          "output_type": "stream",
          "text": [
            "Train Loss: 0.2651, Train Accuracy: 91.78%\n"
          ]
        },
        {
          "name": "stderr",
          "output_type": "stream",
          "text": [
            "Validation: 100%|██████████| 35/35 [00:05<00:00,  5.89it/s]\n"
          ]
        },
        {
          "name": "stdout",
          "output_type": "stream",
          "text": [
            "Validation Loss: 0.6428, Validation Accuracy: 83.30%\n",
            "\n",
            "Epoch 37/50\n"
          ]
        },
        {
          "name": "stderr",
          "output_type": "stream",
          "text": [
            "Training: 100%|██████████| 161/161 [00:32<00:00,  4.95it/s]\n"
          ]
        },
        {
          "name": "stdout",
          "output_type": "stream",
          "text": [
            "Train Loss: 0.2028, Train Accuracy: 93.43%\n"
          ]
        },
        {
          "name": "stderr",
          "output_type": "stream",
          "text": [
            "Validation: 100%|██████████| 35/35 [00:06<00:00,  5.77it/s]\n"
          ]
        },
        {
          "name": "stdout",
          "output_type": "stream",
          "text": [
            "Validation Loss: 0.8612, Validation Accuracy: 78.77%\n",
            "\n",
            "Epoch 38/50\n"
          ]
        },
        {
          "name": "stderr",
          "output_type": "stream",
          "text": [
            "Training: 100%|██████████| 161/161 [00:32<00:00,  4.97it/s]\n"
          ]
        },
        {
          "name": "stdout",
          "output_type": "stream",
          "text": [
            "Train Loss: 0.2323, Train Accuracy: 92.75%\n"
          ]
        },
        {
          "name": "stderr",
          "output_type": "stream",
          "text": [
            "Validation: 100%|██████████| 35/35 [00:06<00:00,  5.83it/s]\n"
          ]
        },
        {
          "name": "stdout",
          "output_type": "stream",
          "text": [
            "Validation Loss: 0.8294, Validation Accuracy: 79.58%\n",
            "\n",
            "Epoch 39/50\n"
          ]
        },
        {
          "name": "stderr",
          "output_type": "stream",
          "text": [
            "Training: 100%|██████████| 161/161 [00:32<00:00,  4.96it/s]\n"
          ]
        },
        {
          "name": "stdout",
          "output_type": "stream",
          "text": [
            "Train Loss: 0.2141, Train Accuracy: 92.87%\n"
          ]
        },
        {
          "name": "stderr",
          "output_type": "stream",
          "text": [
            "Validation: 100%|██████████| 35/35 [00:05<00:00,  5.84it/s]\n"
          ]
        },
        {
          "name": "stdout",
          "output_type": "stream",
          "text": [
            "Validation Loss: 0.8498, Validation Accuracy: 80.40%\n",
            "\n",
            "Epoch 40/50\n"
          ]
        },
        {
          "name": "stderr",
          "output_type": "stream",
          "text": [
            "Training: 100%|██████████| 161/161 [00:32<00:00,  4.96it/s]\n"
          ]
        },
        {
          "name": "stdout",
          "output_type": "stream",
          "text": [
            "Train Loss: 0.1931, Train Accuracy: 93.66%\n"
          ]
        },
        {
          "name": "stderr",
          "output_type": "stream",
          "text": [
            "Validation: 100%|██████████| 35/35 [00:06<00:00,  5.78it/s]\n"
          ]
        },
        {
          "name": "stdout",
          "output_type": "stream",
          "text": [
            "Validation Loss: 0.8293, Validation Accuracy: 80.94%\n",
            "\n",
            "Epoch 41/50\n"
          ]
        },
        {
          "name": "stderr",
          "output_type": "stream",
          "text": [
            "Training: 100%|██████████| 161/161 [00:32<00:00,  4.99it/s]\n"
          ]
        },
        {
          "name": "stdout",
          "output_type": "stream",
          "text": [
            "Train Loss: 0.2041, Train Accuracy: 93.41%\n"
          ]
        },
        {
          "name": "stderr",
          "output_type": "stream",
          "text": [
            "Validation: 100%|██████████| 35/35 [00:06<00:00,  5.78it/s]\n"
          ]
        },
        {
          "name": "stdout",
          "output_type": "stream",
          "text": [
            "Validation Loss: 0.7353, Validation Accuracy: 83.12%\n",
            "\n",
            "Epoch 42/50\n"
          ]
        },
        {
          "name": "stderr",
          "output_type": "stream",
          "text": [
            "Training: 100%|██████████| 161/161 [00:32<00:00,  4.94it/s]\n"
          ]
        },
        {
          "name": "stdout",
          "output_type": "stream",
          "text": [
            "Train Loss: 0.2033, Train Accuracy: 93.51%\n"
          ]
        },
        {
          "name": "stderr",
          "output_type": "stream",
          "text": [
            "Validation: 100%|██████████| 35/35 [00:05<00:00,  5.86it/s]\n"
          ]
        },
        {
          "name": "stdout",
          "output_type": "stream",
          "text": [
            "Validation Loss: 0.6800, Validation Accuracy: 83.94%\n",
            "\n",
            "Epoch 43/50\n"
          ]
        },
        {
          "name": "stderr",
          "output_type": "stream",
          "text": [
            "Training: 100%|██████████| 161/161 [00:32<00:00,  4.98it/s]\n"
          ]
        },
        {
          "name": "stdout",
          "output_type": "stream",
          "text": [
            "Train Loss: 0.1580, Train Accuracy: 95.24%\n"
          ]
        },
        {
          "name": "stderr",
          "output_type": "stream",
          "text": [
            "Validation: 100%|██████████| 35/35 [00:06<00:00,  5.80it/s]\n"
          ]
        },
        {
          "name": "stdout",
          "output_type": "stream",
          "text": [
            "Validation Loss: 0.6396, Validation Accuracy: 83.30%\n",
            "\n",
            "Epoch 44/50\n"
          ]
        },
        {
          "name": "stderr",
          "output_type": "stream",
          "text": [
            "Training: 100%|██████████| 161/161 [00:32<00:00,  4.97it/s]\n"
          ]
        },
        {
          "name": "stdout",
          "output_type": "stream",
          "text": [
            "Train Loss: 0.1558, Train Accuracy: 95.24%\n"
          ]
        },
        {
          "name": "stderr",
          "output_type": "stream",
          "text": [
            "Validation: 100%|██████████| 35/35 [00:06<00:00,  5.83it/s]\n"
          ]
        },
        {
          "name": "stdout",
          "output_type": "stream",
          "text": [
            "Validation Loss: 0.8091, Validation Accuracy: 81.58%\n",
            "\n",
            "Epoch 45/50\n"
          ]
        },
        {
          "name": "stderr",
          "output_type": "stream",
          "text": [
            "Training: 100%|██████████| 161/161 [00:32<00:00,  4.97it/s]\n"
          ]
        },
        {
          "name": "stdout",
          "output_type": "stream",
          "text": [
            "Train Loss: 0.1493, Train Accuracy: 95.63%\n"
          ]
        },
        {
          "name": "stderr",
          "output_type": "stream",
          "text": [
            "Validation: 100%|██████████| 35/35 [00:05<00:00,  5.93it/s]\n"
          ]
        },
        {
          "name": "stdout",
          "output_type": "stream",
          "text": [
            "Validation Loss: 0.7739, Validation Accuracy: 82.21%\n",
            "\n",
            "Epoch 46/50\n"
          ]
        },
        {
          "name": "stderr",
          "output_type": "stream",
          "text": [
            "Training: 100%|██████████| 161/161 [00:32<00:00,  4.95it/s]\n"
          ]
        },
        {
          "name": "stdout",
          "output_type": "stream",
          "text": [
            "Train Loss: 0.1611, Train Accuracy: 95.12%\n"
          ]
        },
        {
          "name": "stderr",
          "output_type": "stream",
          "text": [
            "Validation: 100%|██████████| 35/35 [00:06<00:00,  5.78it/s]\n"
          ]
        },
        {
          "name": "stdout",
          "output_type": "stream",
          "text": [
            "Validation Loss: 0.6900, Validation Accuracy: 83.67%\n",
            "\n",
            "Epoch 47/50\n"
          ]
        },
        {
          "name": "stderr",
          "output_type": "stream",
          "text": [
            "Training: 100%|██████████| 161/161 [00:32<00:00,  4.96it/s]\n"
          ]
        },
        {
          "name": "stdout",
          "output_type": "stream",
          "text": [
            "Train Loss: 0.1763, Train Accuracy: 94.83%\n"
          ]
        },
        {
          "name": "stderr",
          "output_type": "stream",
          "text": [
            "Validation: 100%|██████████| 35/35 [00:06<00:00,  5.79it/s]\n"
          ]
        },
        {
          "name": "stdout",
          "output_type": "stream",
          "text": [
            "Validation Loss: 0.7005, Validation Accuracy: 84.12%\n",
            "\n",
            "Epoch 48/50\n"
          ]
        },
        {
          "name": "stderr",
          "output_type": "stream",
          "text": [
            "Training: 100%|██████████| 161/161 [00:32<00:00,  4.99it/s]\n"
          ]
        },
        {
          "name": "stdout",
          "output_type": "stream",
          "text": [
            "Train Loss: 0.1372, Train Accuracy: 95.80%\n"
          ]
        },
        {
          "name": "stderr",
          "output_type": "stream",
          "text": [
            "Validation: 100%|██████████| 35/35 [00:06<00:00,  5.79it/s]\n"
          ]
        },
        {
          "name": "stdout",
          "output_type": "stream",
          "text": [
            "Validation Loss: 0.7645, Validation Accuracy: 81.85%\n",
            "\n",
            "Epoch 49/50\n"
          ]
        },
        {
          "name": "stderr",
          "output_type": "stream",
          "text": [
            "Training: 100%|██████████| 161/161 [00:32<00:00,  4.95it/s]\n"
          ]
        },
        {
          "name": "stdout",
          "output_type": "stream",
          "text": [
            "Train Loss: 0.1750, Train Accuracy: 94.38%\n"
          ]
        },
        {
          "name": "stderr",
          "output_type": "stream",
          "text": [
            "Validation: 100%|██████████| 35/35 [00:05<00:00,  5.85it/s]\n"
          ]
        },
        {
          "name": "stdout",
          "output_type": "stream",
          "text": [
            "Validation Loss: 0.7173, Validation Accuracy: 83.03%\n",
            "\n",
            "Epoch 50/50\n"
          ]
        },
        {
          "name": "stderr",
          "output_type": "stream",
          "text": [
            "Training: 100%|██████████| 161/161 [00:32<00:00,  4.95it/s]\n"
          ]
        },
        {
          "name": "stdout",
          "output_type": "stream",
          "text": [
            "Train Loss: 0.1276, Train Accuracy: 95.55%\n"
          ]
        },
        {
          "name": "stderr",
          "output_type": "stream",
          "text": [
            "Validation: 100%|██████████| 35/35 [00:06<00:00,  5.78it/s]"
          ]
        },
        {
          "name": "stdout",
          "output_type": "stream",
          "text": [
            "Validation Loss: 0.7388, Validation Accuracy: 83.39%\n"
          ]
        },
        {
          "name": "stderr",
          "output_type": "stream",
          "text": [
            "\n"
          ]
        }
      ],
      "source": [
        "for epoch in range(num_epochs):\n",
        "    print(f\"\\nEpoch {epoch+1}/{num_epochs}\")\n",
        "    train(model, train_loader, criterion, optimizer, device)\n",
        "    evaluate(model, val_loader, criterion, device, phase=\"Validation\")"
      ]
    },
    {
      "cell_type": "code",
      "execution_count": 29,
      "metadata": {
        "colab": {
          "base_uri": "https://localhost:8080/"
        },
        "id": "tAiyDwO0zMk1",
        "outputId": "6d0acb90-55cb-4afa-ac0e-f251a918c8cb"
      },
      "outputs": [
        {
          "name": "stdout",
          "output_type": "stream",
          "text": [
            "\n",
            "Final Test Evaluation\n"
          ]
        },
        {
          "name": "stderr",
          "output_type": "stream",
          "text": [
            "Test: 100%|██████████| 35/35 [00:06<00:00,  5.63it/s]"
          ]
        },
        {
          "name": "stdout",
          "output_type": "stream",
          "text": [
            "Test Loss: 0.7085, Test Accuracy: 84.95%\n"
          ]
        },
        {
          "name": "stderr",
          "output_type": "stream",
          "text": [
            "\n"
          ]
        }
      ],
      "source": [
        "print(\"\\nFinal Test Evaluation\")\n",
        "evaluate(model, test_loader, criterion, device, phase=\"Test\")"
      ]
    },
    {
      "cell_type": "code",
      "execution_count": 30,
      "metadata": {
        "colab": {
          "base_uri": "https://localhost:8080/"
        },
        "id": "HCv209A51QEb",
        "outputId": "a4a22c1d-63b7-4c3f-952e-66f1439ab9f6"
      },
      "outputs": [
        {
          "name": "stdout",
          "output_type": "stream",
          "text": [
            "Inference Time Measurement Results:\n",
            "Total Inferences: 35\n",
            "Average Time: 22.62 ms\n",
            "Standard Deviation: 0.77 ms\n",
            "Maximum Time: 22.89 ms\n",
            "Minimum Time: 18.16 ms\n"
          ]
        }
      ],
      "source": [
        "times = measure_inference_time(model, test_loader, device)"
      ]
    },
    {
      "cell_type": "code",
      "execution_count": null,
      "metadata": {
        "id": "m_kVgdJKDZqe"
      },
      "outputs": [],
      "source": []
    }
  ],
  "metadata": {
    "accelerator": "GPU",
    "colab": {
      "gpuType": "A100",
      "provenance": []
    },
    "kernelspec": {
      "display_name": "Python 3",
      "name": "python3"
    },
    "language_info": {
      "codemirror_mode": {
        "name": "ipython",
        "version": 3
      },
      "file_extension": ".py",
      "mimetype": "text/x-python",
      "name": "python",
      "nbconvert_exporter": "python",
      "pygments_lexer": "ipython3",
      "version": "3.10.0"
    }
  },
  "nbformat": 4,
  "nbformat_minor": 0
}
